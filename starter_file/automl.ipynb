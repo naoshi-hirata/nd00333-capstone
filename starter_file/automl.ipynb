{
 "cells": [
  {
   "cell_type": "markdown",
   "metadata": {},
   "source": [
    "# Automated ML\n",
    "\n",
    "TODO: Import Dependencies. In the cell below, import all the dependencies that you will need to complete the project."
   ]
  },
  {
   "cell_type": "code",
   "execution_count": 4,
   "metadata": {
    "gather": {
     "logged": 1684477071072
    },
    "jupyter": {
     "outputs_hidden": true,
     "source_hidden": false
    },
    "nteract": {
     "transient": {
      "deleting": false
     }
    }
   },
   "outputs": [
    {
     "name": "stdout",
     "output_type": "stream",
     "text": [
      "Collecting azureml-sdk\n",
      "  Downloading azureml_sdk-1.50.0-py3-none-any.whl (2.7 kB)\n",
      "Collecting azureml-train-automl-client~=1.50.0\n",
      "  Downloading azureml_train_automl_client-1.50.0-py3-none-any.whl (136 kB)\n",
      "\u001b[2K     \u001b[90m━━━━━━━━━━━━━━━━━━━━━━━━━━━━━━━━━━━━━━\u001b[0m \u001b[32m136.2/136.2 kB\u001b[0m \u001b[31m14.5 MB/s\u001b[0m eta \u001b[36m0:00:00\u001b[0m\n",
      "\u001b[?25hCollecting azureml-train-core~=1.50.0\n",
      "  Downloading azureml_train_core-1.50.0-py3-none-any.whl (8.6 MB)\n",
      "\u001b[2K     \u001b[90m━━━━━━━━━━━━━━━━━━━━━━━━━━━━━━━━━━━━━━━━\u001b[0m \u001b[32m8.6/8.6 MB\u001b[0m \u001b[31m76.3 MB/s\u001b[0m eta \u001b[36m0:00:00\u001b[0m:00:01\u001b[0m00:01\u001b[0m\n",
      "\u001b[?25hCollecting azureml-dataset-runtime[fuse]~=1.50.0\n",
      "  Downloading azureml_dataset_runtime-1.50.0-py3-none-any.whl (2.3 kB)\n",
      "Collecting azureml-core~=1.50.0\n",
      "  Downloading azureml_core-1.50.0-py3-none-any.whl (3.3 MB)\n",
      "\u001b[2K     \u001b[90m━━━━━━━━━━━━━━━━━━━━━━━━━━━━━━━━━━━━━━━━\u001b[0m \u001b[32m3.3/3.3 MB\u001b[0m \u001b[31m81.9 MB/s\u001b[0m eta \u001b[36m0:00:00\u001b[0m:00:01\u001b[0m\n",
      "\u001b[?25hCollecting azureml-pipeline~=1.50.0\n",
      "  Downloading azureml_pipeline-1.50.0-py3-none-any.whl (2.4 kB)\n",
      "Requirement already satisfied: pathspec<1.0.0 in /anaconda/envs/jupyter_env/lib/python3.8/site-packages (from azureml-core~=1.50.0->azureml-sdk) (0.11.1)\n",
      "Requirement already satisfied: SecretStorage<4.0.0 in /anaconda/envs/jupyter_env/lib/python3.8/site-packages (from azureml-core~=1.50.0->azureml-sdk) (3.3.3)\n",
      "Requirement already satisfied: backports.tempfile in /anaconda/envs/jupyter_env/lib/python3.8/site-packages (from azureml-core~=1.50.0->azureml-sdk) (1.0)\n",
      "Requirement already satisfied: packaging<=23.0,>=20.0 in /anaconda/envs/jupyter_env/lib/python3.8/site-packages (from azureml-core~=1.50.0->azureml-sdk) (21.3)\n",
      "Requirement already satisfied: python-dateutil<3.0.0,>=2.7.3 in /anaconda/envs/jupyter_env/lib/python3.8/site-packages (from azureml-core~=1.50.0->azureml-sdk) (2.8.2)\n",
      "Requirement already satisfied: PyJWT<3.0.0 in /anaconda/envs/jupyter_env/lib/python3.8/site-packages (from azureml-core~=1.50.0->azureml-sdk) (2.6.0)\n",
      "Requirement already satisfied: contextlib2<22.0.0 in /anaconda/envs/jupyter_env/lib/python3.8/site-packages (from azureml-core~=1.50.0->azureml-sdk) (21.6.0)\n",
      "Requirement already satisfied: azure-common<2.0.0,>=1.1.12 in /anaconda/envs/jupyter_env/lib/python3.8/site-packages (from azureml-core~=1.50.0->azureml-sdk) (1.1.28)\n",
      "Requirement already satisfied: azure-graphrbac<1.0.0,>=0.40.0 in /anaconda/envs/jupyter_env/lib/python3.8/site-packages (from azureml-core~=1.50.0->azureml-sdk) (0.61.1)\n",
      "Requirement already satisfied: msrest<=0.7.1,>=0.5.1 in /anaconda/envs/jupyter_env/lib/python3.8/site-packages (from azureml-core~=1.50.0->azureml-sdk) (0.7.1)\n",
      "Requirement already satisfied: azure-mgmt-authorization<4,>=0.40.0 in /anaconda/envs/jupyter_env/lib/python3.8/site-packages (from azureml-core~=1.50.0->azureml-sdk) (3.0.0)\n",
      "Requirement already satisfied: jsonpickle<4.0.0 in /anaconda/envs/jupyter_env/lib/python3.8/site-packages (from azureml-core~=1.50.0->azureml-sdk) (2.2.0)\n",
      "Requirement already satisfied: ndg-httpsclient<=0.5.1 in /anaconda/envs/jupyter_env/lib/python3.8/site-packages (from azureml-core~=1.50.0->azureml-sdk) (0.5.1)\n",
      "Requirement already satisfied: msal-extensions<=1.0.0,>=0.3.0 in /anaconda/envs/jupyter_env/lib/python3.8/site-packages (from azureml-core~=1.50.0->azureml-sdk) (1.0.0)\n",
      "Requirement already satisfied: urllib3<2.0.0,>=1.23 in /anaconda/envs/jupyter_env/lib/python3.8/site-packages (from azureml-core~=1.50.0->azureml-sdk) (1.26.15)\n",
      "Requirement already satisfied: argcomplete<3 in /anaconda/envs/jupyter_env/lib/python3.8/site-packages (from azureml-core~=1.50.0->azureml-sdk) (2.1.2)\n",
      "Requirement already satisfied: pytz in /anaconda/envs/jupyter_env/lib/python3.8/site-packages (from azureml-core~=1.50.0->azureml-sdk) (2023.3)\n",
      "Requirement already satisfied: jmespath<2.0.0 in /anaconda/envs/jupyter_env/lib/python3.8/site-packages (from azureml-core~=1.50.0->azureml-sdk) (1.0.1)\n",
      "Requirement already satisfied: pkginfo in /anaconda/envs/jupyter_env/lib/python3.8/site-packages (from azureml-core~=1.50.0->azureml-sdk) (1.9.6)\n",
      "Requirement already satisfied: msrestazure<=0.6.4,>=0.4.33 in /anaconda/envs/jupyter_env/lib/python3.8/site-packages (from azureml-core~=1.50.0->azureml-sdk) (0.6.4)\n",
      "Requirement already satisfied: humanfriendly<11.0,>=4.7 in /anaconda/envs/jupyter_env/lib/python3.8/site-packages (from azureml-core~=1.50.0->azureml-sdk) (10.0)\n",
      "Requirement already satisfied: msal<2.0.0,>=1.15.0 in /anaconda/envs/jupyter_env/lib/python3.8/site-packages (from azureml-core~=1.50.0->azureml-sdk) (1.21.0)\n",
      "Requirement already satisfied: cryptography!=1.9,!=2.0.*,!=2.1.*,!=2.2.*,<41 in /anaconda/envs/jupyter_env/lib/python3.8/site-packages (from azureml-core~=1.50.0->azureml-sdk) (40.0.1)\n",
      "Requirement already satisfied: adal<=1.2.7,>=1.2.0 in /anaconda/envs/jupyter_env/lib/python3.8/site-packages (from azureml-core~=1.50.0->azureml-sdk) (1.2.7)\n",
      "Requirement already satisfied: requests[socks]<3.0.0,>=2.19.1 in /anaconda/envs/jupyter_env/lib/python3.8/site-packages (from azureml-core~=1.50.0->azureml-sdk) (2.28.2)\n",
      "Requirement already satisfied: azure-mgmt-containerregistry<11,>=8.2.0 in /anaconda/envs/jupyter_env/lib/python3.8/site-packages (from azureml-core~=1.50.0->azureml-sdk) (10.1.0)\n",
      "Requirement already satisfied: knack~=0.10.0 in /anaconda/envs/jupyter_env/lib/python3.8/site-packages (from azureml-core~=1.50.0->azureml-sdk) (0.10.1)\n",
      "Requirement already satisfied: azure-mgmt-keyvault<11.0.0,>=0.40.0 in /anaconda/envs/jupyter_env/lib/python3.8/site-packages (from azureml-core~=1.50.0->azureml-sdk) (10.2.1)\n",
      "Requirement already satisfied: docker<7.0.0 in /anaconda/envs/jupyter_env/lib/python3.8/site-packages (from azureml-core~=1.50.0->azureml-sdk) (6.0.1)\n",
      "Requirement already satisfied: paramiko<4.0.0,>=2.0.8 in /anaconda/envs/jupyter_env/lib/python3.8/site-packages (from azureml-core~=1.50.0->azureml-sdk) (2.12.0)\n",
      "Requirement already satisfied: azure-mgmt-resource<=22.0.0,>=15.0.0 in /anaconda/envs/jupyter_env/lib/python3.8/site-packages (from azureml-core~=1.50.0->azureml-sdk) (21.2.1)\n",
      "Requirement already satisfied: pyopenssl<24.0.0 in /anaconda/envs/jupyter_env/lib/python3.8/site-packages (from azureml-core~=1.50.0->azureml-sdk) (23.1.1)\n",
      "Requirement already satisfied: azure-mgmt-storage<=21.0.0,>=16.0.0 in /anaconda/envs/jupyter_env/lib/python3.8/site-packages (from azureml-core~=1.50.0->azureml-sdk) (20.1.0)\n",
      "Requirement already satisfied: azure-core<2.0.0 in /anaconda/envs/jupyter_env/lib/python3.8/site-packages (from azureml-core~=1.50.0->azureml-sdk) (1.26.4)\n",
      "Collecting pyarrow<=9.0.0,>=0.17.0\n",
      "  Downloading pyarrow-9.0.0-cp38-cp38-manylinux_2_17_x86_64.manylinux2014_x86_64.whl (35.3 MB)\n",
      "\u001b[2K     \u001b[90m━━━━━━━━━━━━━━━━━━━━━━━━━━━━━━━━━━━━━━━━\u001b[0m \u001b[32m35.3/35.3 MB\u001b[0m \u001b[31m35.4 MB/s\u001b[0m eta \u001b[36m0:00:00\u001b[0m00:01\u001b[0m00:01\u001b[0m\n",
      "\u001b[?25hCollecting numpy!=1.19.3,<1.24\n",
      "  Downloading numpy-1.23.5-cp38-cp38-manylinux_2_17_x86_64.manylinux2014_x86_64.whl (17.1 MB)\n",
      "\u001b[2K     \u001b[90m━━━━━━━━━━━━━━━━━━━━━━━━━━━━━━━━━━━━━━━━\u001b[0m \u001b[32m17.1/17.1 MB\u001b[0m \u001b[31m74.7 MB/s\u001b[0m eta \u001b[36m0:00:00\u001b[0m00:01\u001b[0m00:01\u001b[0m\n",
      "\u001b[?25hCollecting azureml-dataprep<4.11.0a,>=4.10.0a\n",
      "  Downloading azureml_dataprep-4.10.7-py3-none-any.whl (38.2 MB)\n",
      "\u001b[2K     \u001b[90m━━━━━━━━━━━━━━━━━━━━━━━━━━━━━━━━━━━━━━━━\u001b[0m \u001b[32m38.2/38.2 MB\u001b[0m \u001b[31m34.5 MB/s\u001b[0m eta \u001b[36m0:00:00\u001b[0m00:01\u001b[0m00:01\u001b[0m\n",
      "\u001b[?25hCollecting fusepy<4.0.0,>=3.0.1\n",
      "  Downloading fusepy-3.0.1.tar.gz (11 kB)\n",
      "  Preparing metadata (setup.py) ... \u001b[?25l-\b \bdone\n",
      "\u001b[?25hCollecting azureml-pipeline-steps~=1.50.0\n",
      "  Downloading azureml_pipeline_steps-1.50.0-py3-none-any.whl (69 kB)\n",
      "\u001b[2K     \u001b[90m━━━━━━━━━━━━━━━━━━━━━━━━━━━━━━━━━━━━━━━━\u001b[0m \u001b[32m69.5/69.5 kB\u001b[0m \u001b[31m9.6 MB/s\u001b[0m eta \u001b[36m0:00:00\u001b[0m\n",
      "\u001b[?25hCollecting azureml-pipeline-core~=1.50.0\n",
      "  Downloading azureml_pipeline_core-1.50.0.post1-py3-none-any.whl (312 kB)\n",
      "\u001b[2K     \u001b[90m━━━━━━━━━━━━━━━━━━━━━━━━━━━━━━━━━━━━━━\u001b[0m \u001b[32m312.9/312.9 kB\u001b[0m \u001b[31m34.2 MB/s\u001b[0m eta \u001b[36m0:00:00\u001b[0m\n",
      "\u001b[?25hCollecting azureml-telemetry~=1.50.0\n",
      "  Downloading azureml_telemetry-1.50.0-py3-none-any.whl (30 kB)\n",
      "Collecting azureml-automl-core~=1.50.0\n",
      "  Downloading azureml_automl_core-1.50.0-py3-none-any.whl (245 kB)\n",
      "\u001b[2K     \u001b[90m━━━━━━━━━━━━━━━━━━━━━━━━━━━━━━━━━━━━━━\u001b[0m \u001b[32m245.4/245.4 kB\u001b[0m \u001b[31m22.7 MB/s\u001b[0m eta \u001b[36m0:00:00\u001b[0m\n",
      "\u001b[?25hCollecting azureml-train-restclients-hyperdrive~=1.50.0\n",
      "  Downloading azureml_train_restclients_hyperdrive-1.50.0-py3-none-any.whl (18 kB)\n",
      "Requirement already satisfied: typing-extensions>=4.3.0 in /anaconda/envs/jupyter_env/lib/python3.8/site-packages (from azure-core<2.0.0->azureml-core~=1.50.0->azureml-sdk) (4.5.0)\n",
      "Requirement already satisfied: six>=1.11.0 in /anaconda/envs/jupyter_env/lib/python3.8/site-packages (from azure-core<2.0.0->azureml-core~=1.50.0->azureml-sdk) (1.16.0)\n",
      "Requirement already satisfied: azure-mgmt-core<2.0.0,>=1.3.2 in /anaconda/envs/jupyter_env/lib/python3.8/site-packages (from azure-mgmt-authorization<4,>=0.40.0->azureml-core~=1.50.0->azureml-sdk) (1.4.0)\n",
      "Requirement already satisfied: isodate<1.0.0,>=0.6.1 in /anaconda/envs/jupyter_env/lib/python3.8/site-packages (from azure-mgmt-keyvault<11.0.0,>=0.40.0->azureml-core~=1.50.0->azureml-sdk) (0.6.1)\n",
      "Collecting azureml-dataprep-native<39.0.0,>=38.0.0\n",
      "  Downloading azureml_dataprep_native-38.0.0-cp38-cp38-manylinux1_x86_64.whl (1.4 MB)\n",
      "\u001b[2K     \u001b[90m━━━━━━━━━━━━━━━━━━━━━━━━━━━━━━━━━━━━━━━━\u001b[0m \u001b[32m1.4/1.4 MB\u001b[0m \u001b[31m52.0 MB/s\u001b[0m eta \u001b[36m0:00:00\u001b[0m\n",
      "\u001b[?25hRequirement already satisfied: dotnetcore2<4.0.0,>=3.0.0 in /anaconda/envs/jupyter_env/lib/python3.8/site-packages (from azureml-dataprep<4.11.0a,>=4.10.0a->azureml-dataset-runtime[fuse]~=1.50.0->azureml-sdk) (3.1.23)\n",
      "Requirement already satisfied: pyyaml<7.0.0,>=5.1.0 in /anaconda/envs/jupyter_env/lib/python3.8/site-packages (from azureml-dataprep<4.11.0a,>=4.10.0a->azureml-dataset-runtime[fuse]~=1.50.0->azureml-sdk) (6.0)\n",
      "Collecting azure-identity>=1.7.0\n",
      "  Downloading azure_identity-1.13.0-py3-none-any.whl (151 kB)\n",
      "\u001b[2K     \u001b[90m━━━━━━━━━━━━━━━━━━━━━━━━━━━━━━━━━━━━━━\u001b[0m \u001b[32m151.6/151.6 kB\u001b[0m \u001b[31m11.5 MB/s\u001b[0m eta \u001b[36m0:00:00\u001b[0m\n",
      "\u001b[?25hRequirement already satisfied: jsonschema in /anaconda/envs/jupyter_env/lib/python3.8/site-packages (from azureml-dataprep<4.11.0a,>=4.10.0a->azureml-dataset-runtime[fuse]~=1.50.0->azureml-sdk) (4.17.3)\n",
      "Collecting azureml-dataprep-rslex~=2.17.6dev0\n",
      "  Downloading azureml_dataprep_rslex-2.17.11-cp38-cp38-manylinux_2_17_x86_64.manylinux2014_x86_64.whl (20.2 MB)\n",
      "\u001b[2K     \u001b[90m━━━━━━━━━━━━━━━━━━━━━━━━━━━━━━━━━━━━━━━━\u001b[0m \u001b[32m20.2/20.2 MB\u001b[0m \u001b[31m70.1 MB/s\u001b[0m eta \u001b[36m0:00:00\u001b[0m00:01\u001b[0m00:01\u001b[0m\n",
      "\u001b[?25hRequirement already satisfied: cloudpickle<3.0.0,>=1.1.0 in /anaconda/envs/jupyter_env/lib/python3.8/site-packages (from azureml-dataprep<4.11.0a,>=4.10.0a->azureml-dataset-runtime[fuse]~=1.50.0->azureml-sdk) (2.2.1)\n",
      "Requirement already satisfied: applicationinsights in /anaconda/envs/jupyter_env/lib/python3.8/site-packages (from azureml-telemetry~=1.50.0->azureml-train-automl-client~=1.50.0->azureml-sdk) (0.11.10)\n",
      "Requirement already satisfied: cffi>=1.12 in /anaconda/envs/jupyter_env/lib/python3.8/site-packages (from cryptography!=1.9,!=2.0.*,!=2.1.*,!=2.2.*,<41->azureml-core~=1.50.0->azureml-sdk) (1.15.1)\n",
      "Requirement already satisfied: websocket-client>=0.32.0 in /anaconda/envs/jupyter_env/lib/python3.8/site-packages (from docker<7.0.0->azureml-core~=1.50.0->azureml-sdk) (1.5.1)\n",
      "Requirement already satisfied: tabulate in /anaconda/envs/jupyter_env/lib/python3.8/site-packages (from knack~=0.10.0->azureml-core~=1.50.0->azureml-sdk) (0.9.0)\n",
      "Requirement already satisfied: pygments in /anaconda/envs/jupyter_env/lib/python3.8/site-packages (from knack~=0.10.0->azureml-core~=1.50.0->azureml-sdk) (2.14.0)\n",
      "Requirement already satisfied: portalocker<3,>=1.0 in /anaconda/envs/jupyter_env/lib/python3.8/site-packages (from msal-extensions<=1.0.0,>=0.3.0->azureml-core~=1.50.0->azureml-sdk) (2.7.0)\n",
      "Requirement already satisfied: requests-oauthlib>=0.5.0 in /anaconda/envs/jupyter_env/lib/python3.8/site-packages (from msrest<=0.7.1,>=0.5.1->azureml-core~=1.50.0->azureml-sdk) (1.3.1)\n",
      "Requirement already satisfied: certifi>=2017.4.17 in /anaconda/envs/jupyter_env/lib/python3.8/site-packages (from msrest<=0.7.1,>=0.5.1->azureml-core~=1.50.0->azureml-sdk) (2022.12.7)\n",
      "Requirement already satisfied: pyasn1>=0.1.1 in /anaconda/envs/jupyter_env/lib/python3.8/site-packages (from ndg-httpsclient<=0.5.1->azureml-core~=1.50.0->azureml-sdk) (0.4.8)\n",
      "Requirement already satisfied: pyparsing!=3.0.5,>=2.0.2 in /anaconda/envs/jupyter_env/lib/python3.8/site-packages (from packaging<=23.0,>=20.0->azureml-core~=1.50.0->azureml-sdk) (3.0.9)\n",
      "Requirement already satisfied: pynacl>=1.0.1 in /anaconda/envs/jupyter_env/lib/python3.8/site-packages (from paramiko<4.0.0,>=2.0.8->azureml-core~=1.50.0->azureml-sdk) (1.5.0)\n",
      "Requirement already satisfied: bcrypt>=3.1.3 in /anaconda/envs/jupyter_env/lib/python3.8/site-packages (from paramiko<4.0.0,>=2.0.8->azureml-core~=1.50.0->azureml-sdk) (4.0.1)\n",
      "Requirement already satisfied: idna<4,>=2.5 in /anaconda/envs/jupyter_env/lib/python3.8/site-packages (from requests[socks]<3.0.0,>=2.19.1->azureml-core~=1.50.0->azureml-sdk) (3.4)\n",
      "Requirement already satisfied: charset-normalizer<4,>=2 in /anaconda/envs/jupyter_env/lib/python3.8/site-packages (from requests[socks]<3.0.0,>=2.19.1->azureml-core~=1.50.0->azureml-sdk) (3.1.0)\n",
      "Requirement already satisfied: PySocks!=1.5.7,>=1.5.6 in /anaconda/envs/jupyter_env/lib/python3.8/site-packages (from requests[socks]<3.0.0,>=2.19.1->azureml-core~=1.50.0->azureml-sdk) (1.7.1)\n",
      "Requirement already satisfied: jeepney>=0.6 in /anaconda/envs/jupyter_env/lib/python3.8/site-packages (from SecretStorage<4.0.0->azureml-core~=1.50.0->azureml-sdk) (0.8.0)\n",
      "Requirement already satisfied: backports.weakref in /anaconda/envs/jupyter_env/lib/python3.8/site-packages (from backports.tempfile->azureml-core~=1.50.0->azureml-sdk) (1.0.post1)\n",
      "Requirement already satisfied: pycparser in /anaconda/envs/jupyter_env/lib/python3.8/site-packages (from cffi>=1.12->cryptography!=1.9,!=2.0.*,!=2.1.*,!=2.2.*,<41->azureml-core~=1.50.0->azureml-sdk) (2.21)\n",
      "Requirement already satisfied: distro>=1.2.0 in /anaconda/envs/jupyter_env/lib/python3.8/site-packages (from dotnetcore2<4.0.0,>=3.0.0->azureml-dataprep<4.11.0a,>=4.10.0a->azureml-dataset-runtime[fuse]~=1.50.0->azureml-sdk) (1.8.0)\n",
      "Requirement already satisfied: oauthlib>=3.0.0 in /anaconda/envs/jupyter_env/lib/python3.8/site-packages (from requests-oauthlib>=0.5.0->msrest<=0.7.1,>=0.5.1->azureml-core~=1.50.0->azureml-sdk) (3.2.2)\n",
      "Requirement already satisfied: pyrsistent!=0.17.0,!=0.17.1,!=0.17.2,>=0.14.0 in /anaconda/envs/jupyter_env/lib/python3.8/site-packages (from jsonschema->azureml-dataprep<4.11.0a,>=4.10.0a->azureml-dataset-runtime[fuse]~=1.50.0->azureml-sdk) (0.19.3)\n",
      "Requirement already satisfied: attrs>=17.4.0 in /anaconda/envs/jupyter_env/lib/python3.8/site-packages (from jsonschema->azureml-dataprep<4.11.0a,>=4.10.0a->azureml-dataset-runtime[fuse]~=1.50.0->azureml-sdk) (22.2.0)\n",
      "Requirement already satisfied: importlib-resources>=1.4.0 in /anaconda/envs/jupyter_env/lib/python3.8/site-packages (from jsonschema->azureml-dataprep<4.11.0a,>=4.10.0a->azureml-dataset-runtime[fuse]~=1.50.0->azureml-sdk) (5.12.0)\n",
      "Requirement already satisfied: pkgutil-resolve-name>=1.3.10 in /anaconda/envs/jupyter_env/lib/python3.8/site-packages (from jsonschema->azureml-dataprep<4.11.0a,>=4.10.0a->azureml-dataset-runtime[fuse]~=1.50.0->azureml-sdk) (1.3.10)\n",
      "Requirement already satisfied: zipp>=3.1.0 in /anaconda/envs/jupyter_env/lib/python3.8/site-packages (from importlib-resources>=1.4.0->jsonschema->azureml-dataprep<4.11.0a,>=4.10.0a->azureml-dataset-runtime[fuse]~=1.50.0->azureml-sdk) (3.15.0)\n",
      "Building wheels for collected packages: fusepy\n",
      "  Building wheel for fusepy (setup.py) ... \u001b[?25l-\b \b\\\b \bdone\n",
      "\u001b[?25h  Created wheel for fusepy: filename=fusepy-3.0.1-py3-none-any.whl size=10486 sha256=c1cec0edc42a60c4f2a32681c7297ffc1ade264701a0e4244c53e20acd664fd2\n",
      "  Stored in directory: /home/azureuser/.cache/pip/wheels/db/01/ee/105147547cf0ecd1031b26901757e1f17c98902c8cc7bcaa47\n",
      "Successfully built fusepy\n",
      "Installing collected packages: fusepy, azureml-dataprep-rslex, azureml-dataprep-native, numpy, pyarrow, azureml-train-restclients-hyperdrive, azureml-core, azure-identity, azureml-telemetry, azureml-pipeline-core, azureml-dataprep, azureml-train-core, azureml-dataset-runtime, azureml-automl-core, azureml-train-automl-client, azureml-pipeline-steps, azureml-pipeline, azureml-sdk\n",
      "  Attempting uninstall: numpy\n",
      "    Found existing installation: numpy 1.24.2\n",
      "    Uninstalling numpy-1.24.2:\n",
      "      Successfully uninstalled numpy-1.24.2\n",
      "  Attempting uninstall: azureml-core\n",
      "    Found existing installation: azureml-core 1.49.0\n",
      "    Uninstalling azureml-core-1.49.0:\n",
      "      Successfully uninstalled azureml-core-1.49.0\n",
      "  Attempting uninstall: azureml-telemetry\n",
      "    Found existing installation: azureml-telemetry 1.49.0\n",
      "    Uninstalling azureml-telemetry-1.49.0:\n",
      "      Successfully uninstalled azureml-telemetry-1.49.0\n",
      "\u001b[31mERROR: pip's dependency resolver does not currently take into account all the packages that are installed. This behaviour is the source of the following dependency conflicts.\n",
      "azureml-widgets 1.49.0 requires azureml-core~=1.49.0, but you have azureml-core 1.50.0 which is incompatible.\n",
      "azureml-widgets 1.49.0 requires azureml-telemetry~=1.49.0, but you have azureml-telemetry 1.50.0 which is incompatible.\n",
      "azureml-widgets 1.49.0 requires jinja2<=2.11.2, but you have jinja2 3.0.3 which is incompatible.\u001b[0m\u001b[31m\n",
      "\u001b[0mSuccessfully installed azure-identity-1.13.0 azureml-automl-core-1.50.0 azureml-core-1.50.0 azureml-dataprep-4.10.7 azureml-dataprep-native-38.0.0 azureml-dataprep-rslex-2.17.11 azureml-dataset-runtime-1.50.0 azureml-pipeline-1.50.0 azureml-pipeline-core-1.50.0.post1 azureml-pipeline-steps-1.50.0 azureml-sdk-1.50.0 azureml-telemetry-1.50.0 azureml-train-automl-client-1.50.0 azureml-train-core-1.50.0 azureml-train-restclients-hyperdrive-1.50.0 fusepy-3.0.1 numpy-1.23.5 pyarrow-9.0.0\n",
      "Note: you may need to restart the kernel to use updated packages.\n"
     ]
    }
   ],
   "source": [
    "pip install --upgrade azureml-sdk\n"
   ]
  },
  {
   "cell_type": "code",
   "execution_count": 1,
   "metadata": {
    "gather": {
     "logged": 1684477299890
    },
    "jupyter": {
     "outputs_hidden": false,
     "source_hidden": false
    },
    "nteract": {
     "transient": {
      "deleting": false
     }
    }
   },
   "outputs": [],
   "source": [
    "import logging\n",
    "import os\n",
    "import csv\n",
    "\n",
    "#from matplotlib import pyplot as plt\n",
    "import numpy as np\n",
    "import pandas as pd\n",
    "#from sklearn import datasets\n",
    "import pkg_resources\n",
    "\n",
    "import azureml.core\n",
    "from azureml.core.experiment import Experiment\n",
    "from azureml.core.workspace import Workspace\n",
    "from azureml.train.automl import AutoMLConfig\n",
    "from azureml.core.dataset import Dataset\n",
    "\n",
    "from azureml.pipeline.steps import AutoMLStep"
   ]
  },
  {
   "cell_type": "markdown",
   "metadata": {},
   "source": [
    "## Dataset\n",
    "\n",
    "### Overview\n",
    "TODO: In this markdown cell, give an overview of the dataset you are using. Also mention the task you will be performing.\n",
    "\n",
    "\n",
    "TODO: Get data. In the cell below, write code to access the data you will be using in this project. Remember that the dataset needs to be external."
   ]
  },
  {
   "cell_type": "markdown",
   "metadata": {
    "nteract": {
     "transient": {
      "deleting": false
     }
    }
   },
   "source": [
    "Title: Car Evaluation Database\n",
    "\n",
    "Task: To create the hierarchical decision model\n",
    "\n",
    "This model evaluates cars according to the following concept structure:\n",
    "\n",
    " CAR:car acceptability;\n",
    "\n",
    " buying:buying price;v-high, high, med, low\n",
    " \n",
    " maint:price of the maintenance;v-high, high, med, low\n",
    " \n",
    " doors:number of doors;2, 3, 4, 5-more\n",
    " \n",
    " persons:capacity in terms of persons to carry;2, 4, more\n",
    " \n",
    " lug_boot:the size of luggage boot;small, med, big\n",
    " \n",
    " safety:estimated safety of the car;low, med, high\n",
    "  \n",
    "Class Distribution;unacc,acc,good,v-good"
   ]
  },
  {
   "cell_type": "code",
   "execution_count": 2,
   "metadata": {
    "gather": {
     "logged": 1684477314902
    },
    "jupyter": {
     "outputs_hidden": false,
     "source_hidden": false
    },
    "nteract": {
     "transient": {
      "deleting": false
     }
    }
   },
   "outputs": [],
   "source": [
    "ws = Workspace.from_config()\n",
    "\n",
    "# choose a name for experiment\n",
    "experiment_name = 'auto-ml'\n",
    "project_folder = './project'\n",
    "\n",
    "experiment=Experiment(ws, experiment_name)"
   ]
  },
  {
   "cell_type": "code",
   "execution_count": 16,
   "metadata": {
    "gather": {
     "logged": 1684480799670
    },
    "jupyter": {
     "outputs_hidden": true,
     "source_hidden": false
    },
    "nteract": {
     "transient": {
      "deleting": false
     }
    }
   },
   "outputs": [
    {
     "name": "stdout",
     "output_type": "stream",
     "text": [
      "InProgress..\n",
      "SucceededProvisioning operation finished, operation \"Succeeded\"\n",
      "Succeeded.....................................................................................................................\n",
      "AmlCompute wait for completion finished\n",
      "\n",
      "Wait timeout has been reached\n",
      "Current provisioning state of AmlCompute is \"Succeeded\" and current node count is \"0\"\n"
     ]
    }
   ],
   "source": [
    "from azureml.core.compute import AmlCompute\n",
    "from azureml.core.compute import ComputeTarget\n",
    "from azureml.core.compute_target import ComputeTargetException\n",
    "\n",
    "# Create the cluster\n",
    "amlcompute_cluster_name = \"auto-ml\"\n",
    "\n",
    "compute_config = AmlCompute.provisioning_configuration(vm_size='STANDARD_D2_V2',\n",
    "    # for GPU, use \"STANDARD_NC6\"\n",
    "    #vm_priority = 'lowpriority', # optional\n",
    "    max_nodes=4)\n",
    "compute_target = ComputeTarget.create(ws, amlcompute_cluster_name, compute_config)\n",
    "\n",
    "compute_target.wait_for_completion(show_output=True, min_node_count = 1, timeout_in_minutes = 20) # timeout 10 to 20min\n",
    "# For a more detailed view of current AmlCompute status, use get_status()."
   ]
  },
  {
   "cell_type": "code",
   "execution_count": 14,
   "metadata": {
    "gather": {
     "logged": 1684479809804
    },
    "jupyter": {
     "outputs_hidden": true,
     "source_hidden": false
    },
    "nteract": {
     "transient": {
      "deleting": false
     }
    }
   },
   "outputs": [
    {
     "name": "stdout",
     "output_type": "stream",
     "text": [
      "Validating arguments.\n",
      "Arguments validated.\n",
      "Successfully obtained datastore reference and path.\n",
      "Uploading file to car evaluation data set/04e3ab5c-de75-49d7-98d2-044f1179faeb/\n",
      "Successfully uploaded file to datastore.\n",
      "Creating and registering a new dataset.\n",
      "Successfully created and registered a new dataset.\n"
     ]
    },
    {
     "data": {
      "text/html": [
       "<div>\n",
       "<style scoped>\n",
       "    .dataframe tbody tr th:only-of-type {\n",
       "        vertical-align: middle;\n",
       "    }\n",
       "\n",
       "    .dataframe tbody tr th {\n",
       "        vertical-align: top;\n",
       "    }\n",
       "\n",
       "    .dataframe thead th {\n",
       "        text-align: right;\n",
       "    }\n",
       "</style>\n",
       "<table border=\"1\" class=\"dataframe\">\n",
       "  <thead>\n",
       "    <tr style=\"text-align: right;\">\n",
       "      <th></th>\n",
       "      <th>buying</th>\n",
       "      <th>maint</th>\n",
       "      <th>doors</th>\n",
       "      <th>persons</th>\n",
       "      <th>lug_boot</th>\n",
       "      <th>safety</th>\n",
       "      <th>class</th>\n",
       "    </tr>\n",
       "  </thead>\n",
       "  <tbody>\n",
       "    <tr>\n",
       "      <th>count</th>\n",
       "      <td>1727</td>\n",
       "      <td>1727</td>\n",
       "      <td>1727</td>\n",
       "      <td>1727</td>\n",
       "      <td>1727</td>\n",
       "      <td>1727</td>\n",
       "      <td>1727</td>\n",
       "    </tr>\n",
       "    <tr>\n",
       "      <th>unique</th>\n",
       "      <td>4</td>\n",
       "      <td>4</td>\n",
       "      <td>4</td>\n",
       "      <td>3</td>\n",
       "      <td>3</td>\n",
       "      <td>3</td>\n",
       "      <td>4</td>\n",
       "    </tr>\n",
       "    <tr>\n",
       "      <th>top</th>\n",
       "      <td>high</td>\n",
       "      <td>high</td>\n",
       "      <td>3</td>\n",
       "      <td>4</td>\n",
       "      <td>med</td>\n",
       "      <td>med</td>\n",
       "      <td>unacc</td>\n",
       "    </tr>\n",
       "    <tr>\n",
       "      <th>freq</th>\n",
       "      <td>432</td>\n",
       "      <td>432</td>\n",
       "      <td>432</td>\n",
       "      <td>576</td>\n",
       "      <td>576</td>\n",
       "      <td>576</td>\n",
       "      <td>1209</td>\n",
       "    </tr>\n",
       "  </tbody>\n",
       "</table>\n",
       "</div>"
      ],
      "text/plain": [
       "       buying maint doors persons lug_boot safety  class\n",
       "count    1727  1727  1727    1727     1727   1727   1727\n",
       "unique      4     4     4       3        3      3      4\n",
       "top      high  high     3       4      med    med  unacc\n",
       "freq      432   432   432     576      576    576   1209"
      ]
     },
     "execution_count": 14,
     "metadata": {},
     "output_type": "execute_result"
    }
   ],
   "source": [
    "# Create AML Dataset and register it into Workspace\n",
    "key='car evaluation data set'\n",
    "data = 'https://archive.ics.uci.edu/ml/machine-learning-databases/car/car.data'\n",
    "\n",
    "df = pd.read_csv(data)\n",
    "columns = ['buying', 'maint', 'doors', 'persons', 'lug_boot', 'safety', 'class']\n",
    "df.columns = columns\n",
    "\n",
    "# Convert the DataFrame to a TabularDataset\n",
    "dataset = Dataset.Tabular.register_pandas_dataframe(\n",
    "    dataframe=df, \n",
    "    target=(ws.get_default_datastore(), key), \n",
    "    name=key, \n",
    "    description='Dataset description')\n",
    "\n",
    "df.describe()\n"
   ]
  },
  {
   "cell_type": "markdown",
   "metadata": {},
   "source": [
    "## AutoML Configuration\n",
    "\n",
    "TODO: Explain why you chose the automl settings and cofiguration you used below."
   ]
  },
  {
   "cell_type": "markdown",
   "metadata": {
    "nteract": {
     "transient": {
      "deleting": false
     }
    }
   },
   "source": [
    "Automl setting\n",
    "\n",
    " - experiment time out minutes; to avoid endless working\n",
    "\n",
    " - max concurrent iterations; between cost and performance\n",
    "\n",
    " - primary metric; AUC is a widely used metric to evaluate the performance of binary classifiers. The weighted version extends it to multi-class classification by considering the class imbalance when computing the average AUC across classes. \n",
    "\n",
    "Automl configuration\n",
    "\n",
    " - task = \"classification\"; To make classification model\n",
    "\n",
    " - label_column_name=\"class\"; This column gives evalation result\n",
    "\n",
    " - enable_early_stopping= True; To save cost at score improvement small\n",
    "\n",
    " - featurization= 'auto'; Automated separation for training data and test data\n"
   ]
  },
  {
   "cell_type": "code",
   "execution_count": 19,
   "metadata": {
    "gather": {
     "logged": 1684481681443
    },
    "jupyter": {
     "outputs_hidden": false,
     "source_hidden": false
    },
    "nteract": {
     "transient": {
      "deleting": false
     }
    }
   },
   "outputs": [],
   "source": [
    "# TODO: Put your automl settings here\n",
    "automl_settings = {\n",
    "    \"experiment_timeout_minutes\": 20,\n",
    "    \"max_concurrent_iterations\": 5,\n",
    "    \"primary_metric\" : 'AUC_weighted'\n",
    "}\n",
    "# TODO: Put your automl config here\n",
    "automl_config = AutoMLConfig(compute_target=compute_target,\n",
    "                             task = \"classification\",\n",
    "                             training_data=dataset,\n",
    "                             label_column_name=\"class\",   \n",
    "                             path = project_folder,\n",
    "                             enable_early_stopping= True,\n",
    "                             featurization= 'auto',\n",
    "                             debug_log = \"automl_errors.log\",\n",
    "                             **automl_settings\n",
    "                            )"
   ]
  },
  {
   "cell_type": "code",
   "execution_count": 20,
   "metadata": {
    "gather": {
     "logged": 1684481690989
    },
    "jupyter": {
     "outputs_hidden": true,
     "source_hidden": false
    },
    "nteract": {
     "transient": {
      "deleting": false
     }
    }
   },
   "outputs": [
    {
     "name": "stdout",
     "output_type": "stream",
     "text": [
      "Submitting remote run.\n"
     ]
    },
    {
     "data": {
      "text/html": [
       "<table style=\"width:100%\"><tr><th>Experiment</th><th>Id</th><th>Type</th><th>Status</th><th>Details Page</th><th>Docs Page</th></tr><tr><td>auto-ml</td><td>AutoML_6fd60325-1647-4b1c-9f54-8e72a82deb6a</td><td>automl</td><td>NotStarted</td><td><a href=\"https://ml.azure.com/runs/AutoML_6fd60325-1647-4b1c-9f54-8e72a82deb6a?wsid=/subscriptions/9e65f93e-bdd8-437b-b1e8-0647cd6098f7/resourcegroups/aml-quickstarts-233975/workspaces/quick-starts-ws-233975&amp;tid=660b3398-b80e-49d2-bc5b-ac1dc93b5254\" target=\"_blank\" rel=\"noopener\">Link to Azure Machine Learning studio</a></td><td><a href=\"https://docs.microsoft.com/en-us/python/api/overview/azure/ml/intro?view=azure-ml-py\" target=\"_blank\" rel=\"noopener\">Link to Documentation</a></td></tr></table>"
      ]
     },
     "metadata": {},
     "output_type": "display_data"
    }
   ],
   "source": [
    "# TODO: Submit your experiment\n",
    "\n",
    "remote_run = experiment.submit(automl_config)\n"
   ]
  },
  {
   "cell_type": "markdown",
   "metadata": {},
   "source": [
    "## Run Details\n",
    "\n",
    "OPTIONAL: Write about the different models trained and their performance. Why do you think some models did better than others?\n",
    "\n",
    "TODO: In the cell below, use the `RunDetails` widget to show the different experiments."
   ]
  },
  {
   "cell_type": "code",
   "execution_count": 21,
   "metadata": {
    "gather": {
     "logged": 1684482096607
    },
    "jupyter": {
     "outputs_hidden": true,
     "source_hidden": false
    },
    "nteract": {
     "transient": {
      "deleting": false
     }
    }
   },
   "outputs": [
    {
     "data": {
      "application/vnd.jupyter.widget-view+json": {
       "model_id": "9056234d10094ddfad444412a51bcac4",
       "version_major": 2,
       "version_minor": 0
      },
      "text/plain": [
       "_AutoMLWidget(widget_settings={'childWidgetDisplay': 'popup', 'send_telemetry': False, 'log_level': 'INFO', 's…"
      ]
     },
     "metadata": {},
     "output_type": "display_data"
    },
    {
     "data": {
      "application/aml.mini.widget.v1": "{\"status\": \"Completed\", \"workbench_run_details_uri\": \"https://ml.azure.com/runs/AutoML_6fd60325-1647-4b1c-9f54-8e72a82deb6a?wsid=/subscriptions/9e65f93e-bdd8-437b-b1e8-0647cd6098f7/resourcegroups/aml-quickstarts-233975/workspaces/quick-starts-ws-233975&tid=660b3398-b80e-49d2-bc5b-ac1dc93b5254\", \"run_id\": \"AutoML_6fd60325-1647-4b1c-9f54-8e72a82deb6a\", \"run_properties\": {\"run_id\": \"AutoML_6fd60325-1647-4b1c-9f54-8e72a82deb6a\", \"created_utc\": \"2023-05-19T07:34:49.703436Z\", \"properties\": {\"num_iterations\": \"1000\", \"training_type\": \"TrainFull\", \"acquisition_function\": \"EI\", \"primary_metric\": \"AUC_weighted\", \"train_split\": \"0\", \"acquisition_parameter\": \"0\", \"num_cross_validation\": null, \"target\": \"auto-ml\", \"AMLSettingsJsonString\": \"{\\\"path\\\":null,\\\"name\\\":\\\"auto-ml\\\",\\\"subscription_id\\\":\\\"9e65f93e-bdd8-437b-b1e8-0647cd6098f7\\\",\\\"resource_group\\\":\\\"aml-quickstarts-233975\\\",\\\"workspace_name\\\":\\\"quick-starts-ws-233975\\\",\\\"region\\\":\\\"westeurope\\\",\\\"compute_target\\\":\\\"auto-ml\\\",\\\"spark_service\\\":null,\\\"azure_service\\\":\\\"remote\\\",\\\"many_models\\\":false,\\\"pipeline_fetch_max_batch_size\\\":1,\\\"enable_batch_run\\\":true,\\\"enable_parallel_run\\\":false,\\\"num_procs\\\":null,\\\"enable_run_restructure\\\":false,\\\"start_auxiliary_runs_before_parent_complete\\\":false,\\\"enable_code_generation\\\":true,\\\"iterations\\\":1000,\\\"primary_metric\\\":\\\"AUC_weighted\\\",\\\"task_type\\\":\\\"classification\\\",\\\"positive_label\\\":null,\\\"data_script\\\":null,\\\"test_size\\\":0.0,\\\"test_include_predictions_only\\\":false,\\\"validation_size\\\":0.0,\\\"n_cross_validations\\\":null,\\\"y_min\\\":null,\\\"y_max\\\":null,\\\"num_classes\\\":null,\\\"featurization\\\":\\\"auto\\\",\\\"_ignore_package_version_incompatibilities\\\":false,\\\"is_timeseries\\\":false,\\\"max_cores_per_iteration\\\":1,\\\"max_concurrent_iterations\\\":5,\\\"iteration_timeout_minutes\\\":null,\\\"mem_in_mb\\\":null,\\\"enforce_time_on_windows\\\":false,\\\"experiment_timeout_minutes\\\":20,\\\"experiment_exit_score\\\":null,\\\"partition_column_names\\\":null,\\\"whitelist_models\\\":null,\\\"blacklist_algos\\\":[\\\"TensorFlowLinearClassifier\\\",\\\"TensorFlowDNN\\\"],\\\"supported_models\\\":[\\\"XGBoostClassifier\\\",\\\"DecisionTree\\\",\\\"SVM\\\",\\\"MultinomialNaiveBayes\\\",\\\"ExtremeRandomTrees\\\",\\\"GradientBoosting\\\",\\\"AveragedPerceptronClassifier\\\",\\\"TabnetClassifier\\\",\\\"LinearSVM\\\",\\\"TensorFlowDNN\\\",\\\"TensorFlowLinearClassifier\\\",\\\"LogisticRegression\\\",\\\"SGD\\\",\\\"KNN\\\",\\\"BernoulliNaiveBayes\\\",\\\"LightGBM\\\",\\\"RandomForest\\\"],\\\"private_models\\\":[],\\\"auto_blacklist\\\":true,\\\"blacklist_samples_reached\\\":false,\\\"exclude_nan_labels\\\":true,\\\"verbosity\\\":20,\\\"_debug_log\\\":\\\"azureml_automl.log\\\",\\\"show_warnings\\\":false,\\\"model_explainability\\\":true,\\\"service_url\\\":null,\\\"sdk_url\\\":null,\\\"sdk_packages\\\":null,\\\"enable_onnx_compatible_models\\\":false,\\\"enable_split_onnx_featurizer_estimator_models\\\":false,\\\"vm_type\\\":\\\"STANDARD_D2_V2\\\",\\\"telemetry_verbosity\\\":20,\\\"send_telemetry\\\":true,\\\"enable_dnn\\\":false,\\\"scenario\\\":\\\"AutoML\\\",\\\"environment_label\\\":null,\\\"save_mlflow\\\":false,\\\"enable_categorical_indicators\\\":false,\\\"force_text_dnn\\\":false,\\\"enable_feature_sweeping\\\":true,\\\"enable_early_stopping\\\":true,\\\"early_stopping_n_iters\\\":10,\\\"arguments\\\":null,\\\"dataset_id\\\":\\\"10d84423-e987-4120-81d9-49d993115052\\\",\\\"hyperdrive_config\\\":null,\\\"validation_dataset_id\\\":null,\\\"run_source\\\":null,\\\"metrics\\\":null,\\\"enable_metric_confidence\\\":false,\\\"enable_ensembling\\\":true,\\\"enable_stack_ensembling\\\":true,\\\"ensemble_iterations\\\":15,\\\"enable_tf\\\":false,\\\"enable_subsampling\\\":null,\\\"subsample_seed\\\":null,\\\"enable_nimbusml\\\":false,\\\"enable_streaming\\\":false,\\\"force_streaming\\\":false,\\\"track_child_runs\\\":true,\\\"n_best_runs\\\":1,\\\"allowed_private_models\\\":[],\\\"label_column_name\\\":\\\"class\\\",\\\"weight_column_name\\\":null,\\\"cv_split_column_names\\\":null,\\\"enable_local_managed\\\":false,\\\"_local_managed_run_id\\\":null,\\\"cost_mode\\\":1,\\\"lag_length\\\":0,\\\"metric_operation\\\":\\\"maximize\\\",\\\"preprocess\\\":true}\", \"DataPrepJsonString\": \"{\\\\\\\"training_data\\\\\\\": {\\\\\\\"datasetId\\\\\\\": \\\\\\\"10d84423-e987-4120-81d9-49d993115052\\\\\\\"}, \\\\\\\"datasets\\\\\\\": 0}\", \"EnableSubsampling\": null, \"runTemplate\": \"AutoML\", \"azureml.runsource\": \"automl\", \"display_task_type\": \"classification\", \"dependencies_versions\": \"{\\\"azureml-dataprep-native\\\": \\\"38.0.0\\\", \\\"azureml-dataprep\\\": \\\"4.10.7\\\", \\\"azureml-dataprep-rslex\\\": \\\"2.17.11\\\", \\\"azureml-pipeline-core\\\": \\\"1.50.0.post1\\\", \\\"azureml-automl-core\\\": \\\"1.50.0\\\", \\\"azureml-sdk\\\": \\\"1.50.0\\\", \\\"azureml-core\\\": \\\"1.50.0\\\", \\\"azureml-pipeline-steps\\\": \\\"1.50.0\\\", \\\"azureml-pipeline\\\": \\\"1.50.0\\\", \\\"azureml-train-restclients-hyperdrive\\\": \\\"1.50.0\\\", \\\"azureml-telemetry\\\": \\\"1.50.0\\\", \\\"azureml-train-core\\\": \\\"1.50.0\\\", \\\"azureml-dataset-runtime\\\": \\\"1.50.0\\\", \\\"azureml-train-automl-client\\\": \\\"1.50.0\\\", \\\"azureml-widgets\\\": \\\"1.49.0\\\"}\", \"_aml_system_scenario_identification\": \"Remote.Parent\", \"ClientType\": \"SDK\", \"PlatformVersion\": \"DPV1\", \"environment_cpu_name\": \"AzureML-AutoML\", \"environment_cpu_label\": \"prod\", \"environment_gpu_name\": \"AzureML-AutoML-GPU\", \"environment_gpu_label\": \"prod\", \"root_attribution\": \"automl\", \"attribution\": \"AutoML\", \"Orchestrator\": \"AutoML\", \"CancelUri\": \"https://westeurope.api.azureml.ms/jasmine/v1.0/subscriptions/9e65f93e-bdd8-437b-b1e8-0647cd6098f7/resourceGroups/aml-quickstarts-233975/providers/Microsoft.MachineLearningServices/workspaces/quick-starts-ws-233975/experimentids/2aab9f83-8466-45b8-9342-78eb07c1e7c3/cancel/AutoML_6fd60325-1647-4b1c-9f54-8e72a82deb6a\", \"ClientSdkVersion\": null, \"snapshotId\": \"00000000-0000-0000-0000-000000000000\", \"SetupRunId\": \"AutoML_6fd60325-1647-4b1c-9f54-8e72a82deb6a_setup\", \"SetupRunContainerId\": \"dcid.AutoML_6fd60325-1647-4b1c-9f54-8e72a82deb6a_setup\", \"FeaturizationRunJsonPath\": \"featurizer_container.json\", \"FeaturizationRunId\": \"AutoML_6fd60325-1647-4b1c-9f54-8e72a82deb6a_featurize\", \"ProblemInfoJsonString\": \"{\\\"dataset_num_categorical\\\": 0, \\\"is_sparse\\\": true, \\\"subsampling\\\": false, \\\"has_extra_col\\\": true, \\\"dataset_classes\\\": 4, \\\"dataset_features\\\": 21, \\\"dataset_samples\\\": 1727, \\\"single_frequency_class_detected\\\": false}\", \"ModelExplainRunId\": \"AutoML_6fd60325-1647-4b1c-9f54-8e72a82deb6a_ModelExplain\"}, \"tags\": {\"model_explain_run\": \"best_run\", \"_aml_system_automl_run_workspace_id\": \"cd50b1ae-edcd-489a-b85a-41db723e6c4c\", \"_aml_system_azureml.automlComponent\": \"AutoML\", \"pipeline_id_000\": \"5dfac790c5c209f98a1da2dc1c7fb76f0397324f;c7af0367625be6ac5c2fecbfc72ed444cb7a2111;51ae05309834b29f71340af1008fc94fbd8213f4;ce2643edf3d450b10c86c7d034a9bc952dc282d3;039a99c3d5147edeb525249e2660628be3e8b83f;a3dadd95854bf6116ab454844302b51d417d78b7;1dfdf370ba770047b14bfa59c40920815defcdab;294650ec23bc3d067a4972de7ceb12f6e97260fa;681a59302459aec2cc115ddbc14e1d28f4b3b8df;5bcf69d12307c5f0246b0d33ab19666443595ac9;6f4a466f84f725a47910c1dff062a1bb46df2a21;dea7fdbaedc77258dbfe31dbfed41e768ca38939;c74787cd2f0507b852a1ac70d504d83ac9bdec83;79ebb3b8c385e3190e3dd4c1fa28b74730528045;a72eb56f3d4aadb7b7f0149ba6e5f05657a95ca1;9610149fbcf43017aa810a290e9c04cbe6fa8684;ee365d2bc711bc6838929328cc4ff4b890fbc6c3;1e38ae92baee19b18f211a8b14c16015d5ee3dc3;a7434e890cabef86b0ce4ae71fb633e1e92b854d;dd46719e1e1ca3df6e6826afb96bf9be8390e6e2;208056285bd1883d5bd7d4e4e996a1c71c4b0033;5dcd9bc8a74634130a855a68c1bf956ce7160f98;3fe9ace0255a98a01a321c2b4c6ab86f6c1db8e5;dfc631bbb8f3be228d228210719dafe9e4a19b00;8869edacdfa3ad38b2f434066fbe2853cfcf9234;a10d0ed54b1cc090782f9d8641de3bbdb7a8023b;d6b59777ec875a63efbfc0704b2e67d652730595;f9c4839cd35f7fe03bcc11d87a99d82f63f333dc;4463db280bbe2590da8cc0c57810b12737449212;ffa7388e18e14ef1339195bbf97f32142b65a89c;18970ec5ca3c4d12106b86c632f2d5fcc52742ce;20f74c45e96a9d983f0458002870f7dd2b84c07b;7b9ca6e5db736cc02f9022d24b22e0a9aeffa2a6;14f301e73d5fea62f94900f5d5b101101d254447;f5dcfbc73012208261359b5d6dec20459af18388;007795ca5ffea87a1693f12b05f8cb870d3b66ee;8d1367dd633db167ce118dbb3c7e163669984fc3;4ea58649b1033f8aba0da03b9c25cb0aafe169cc;__AutoML_Ensemble__;__AutoML_Stack_Ensemble__\", \"score_000\": \"0.9987787177700516;0.9985844805699463;0.9659765542301847;0.9667023957964654;0.971683486477084;0.9946857986998717;0.9777097840832507;0.9903016405662504;0.9951940756307899;0.947561239417594;0.974824830345356;0.9853930063282118;0.9950593846673023;0.972970573661701;0.9962861176404854;0.9862407546483416;0.9944942408339038;0.9886005147395781;0.9468114759781288;0.9943466744333511;0.9848367953767644;0.9831482301723553;0.9978869169956212;0.988208224738333;0.9843616987981566;0.9802100845445466;0.978898460622637;0.9495090251578441;0.9856470234313229;0.9751094889773414;0.9723568876818334;0.9791565127891465;0.9957876738686565;0.9818444980034756;NaN;0.995230820041732;0.9665771934445955;NaN;0.9988019491456818;0.9983307707806963\", \"predicted_cost_000\": \"0;0;0.5;0.5;0.5;0.5;0.5;0.5;0.5;0.5;0.5;0.5;0.5;0.5;0.5;0.5;0.09329996640351794;0.5;0.5;0.5;0.5;0.2601588483399997;0.210975264830572;0.05741705318357947;0.11033338399463583;0.06895937018536168;0.26624955538894846;0.04514935270002278;0.2648203786828733;0.09446595323648446;0.09734424352541901;0.18081982883670464;0.1981564244123669;0.07702120490044885;0.22195914553861537;0.11668657369062127;0.0989110793200852;0.2914134435808678;0;0\", \"fit_time_000\": \"0.278765;0.293785;0.02580733333333333;0.04462833333333333;0.03863566666666667;0.07524466666666667;0.2707833333333333;0.08288566666666666;0.05411266666666666;0.08759066666666666;0.040490000000000005;0.6680036666666666;0.11149733333333334;0.042729333333333334;0.32404666666666665;0.08026333333333333;0.059524;0.11774699999999999;0.42694133333333334;0.05823966666666667;0.19158333333333333;0.166339;0.2607386666666667;0.048181;0.13822766666666667;0.07775133333333333;0.13349033333333335;0.03363833333333333;0.217672;0.06934699999999999;0.04044433333333333;0.424719;0.24751133333333333;0.062361;NaN;0.369677;0.03088;NaN;29;33\", \"training_percent_000\": \"100;100;100;100;100;100;100;100;100;100;100;100;100;100;100;100;100;100;100;100;100;100;100;100;100;100;100;100;100;100;100;100;100;100;100;100;100;100;100;100\", \"iteration_000\": \"0;1;2;3;4;5;6;7;8;9;10;11;12;13;14;15;21;16;17;18;19;20;22;24;25;26;27;23;28;29;31;30;32;34;37;33;35;36;38;39\", \"run_preprocessor_000\": \"MaxAbsScaler;MaxAbsScaler;MaxAbsScaler;MaxAbsScaler;StandardScalerWrapper;SparseNormalizer;SparseNormalizer;StandardScalerWrapper;SparseNormalizer;MaxAbsScaler;SparseNormalizer;MaxAbsScaler;StandardScalerWrapper;StandardScalerWrapper;StandardScalerWrapper;MaxAbsScaler;StandardScalerWrapper;MaxAbsScaler;StandardScalerWrapper;StandardScalerWrapper;MaxAbsScaler;MaxAbsScaler;StandardScalerWrapper;SparseNormalizer;MaxAbsScaler;MaxAbsScaler;MaxAbsScaler;MaxAbsScaler;MaxAbsScaler;MaxAbsScaler;MaxAbsScaler;SparseNormalizer;StandardScalerWrapper;SparseNormalizer;;StandardScalerWrapper;SparseNormalizer;;;\", \"run_algorithm_000\": \"LightGBM;XGBoostClassifier;ExtremeRandomTrees;RandomForest;LightGBM;XGBoostClassifier;RandomForest;XGBoostClassifier;XGBoostClassifier;RandomForest;LightGBM;ExtremeRandomTrees;XGBoostClassifier;ExtremeRandomTrees;RandomForest;LightGBM;XGBoostClassifier;LogisticRegression;ExtremeRandomTrees;XGBoostClassifier;ExtremeRandomTrees;LogisticRegression;XGBoostClassifier;XGBoostClassifier;LightGBM;LinearSVM;LinearSVM;RandomForest;LogisticRegression;LogisticRegression;LightGBM;LightGBM;LightGBM;LightGBM;;LightGBM;LightGBM;;VotingEnsemble;StackEnsemble\", \"dynamic_allowlisting_iterations\": \"<25>;<30>;<35>;\", \"_aml_system_azureml.automl_early_exit_message\": \"No scores improved over last 10 iterations, so experiment stopped early. This early stopping behavior can be disabled by setting enable_early_stopping = False in AutoMLConfig for notebook/python SDK runs.\", \"automl_best_child_run_id\": \"AutoML_6fd60325-1647-4b1c-9f54-8e72a82deb6a_38\", \"model_explain_best_run_child_id\": \"AutoML_6fd60325-1647-4b1c-9f54-8e72a82deb6a_38\"}, \"end_time_utc\": \"2023-05-19T07:58:16.626538Z\", \"status\": \"Completed\", \"log_files\": {}, \"log_groups\": [], \"run_duration\": \"0:23:26\", \"run_number\": \"1684481689\", \"run_queued_details\": {\"status\": \"Completed\", \"details\": null}}, \"child_runs\": [{\"run_id\": \"AutoML_6fd60325-1647-4b1c-9f54-8e72a82deb6a_setup\", \"run_number\": 1684481703, \"metric\": null, \"status\": \"Completed\", \"run_type\": \"azureml.scriptrun\", \"training_percent\": null, \"start_time\": \"2023-05-19T07:40:11.181249Z\", \"end_time\": \"2023-05-19T07:41:59.478345Z\", \"created_time\": \"2023-05-19T07:35:03.152551Z\", \"created_time_dt\": \"2023-05-19T07:35:03.152551Z\", \"duration\": \"0:06:56\", \"iteration\": null, \"goal\": null, \"run_name\": \"Completed\", \"run_properties\": null}, {\"run_id\": \"AutoML_6fd60325-1647-4b1c-9f54-8e72a82deb6a_featurize\", \"run_number\": 1684482119, \"metric\": null, \"status\": \"Completed\", \"run_type\": \"automl.featurization\", \"training_percent\": null, \"start_time\": \"2023-05-19T07:42:00.259126Z\", \"end_time\": \"2023-05-19T07:43:05.726671Z\", \"created_time\": \"2023-05-19T07:41:59.919482Z\", \"created_time_dt\": \"2023-05-19T07:41:59.919482Z\", \"duration\": \"0:01:05\", \"iteration\": null, \"goal\": null, \"run_name\": \"Completed\", \"run_properties\": null}, {\"run_id\": \"AutoML_6fd60325-1647-4b1c-9f54-8e72a82deb6a_0\", \"run_number\": 1684482187, \"metric\": null, \"status\": \"Completed\", \"run_type\": null, \"training_percent\": \"100\", \"start_time\": \"2023-05-19T07:43:26.557997Z\", \"end_time\": \"2023-05-19T07:43:41.386914Z\", \"created_time\": \"2023-05-19T07:43:07.264169Z\", \"created_time_dt\": \"2023-05-19T07:43:07.264169Z\", \"duration\": \"0:00:34\", \"iteration\": \"0\", \"goal\": \"AUC_weighted_max\", \"run_name\": \"MaxAbsScaler, LightGBM\", \"run_properties\": \"copy=True\", \"primary_metric\": 0.99877872, \"best_metric\": 0.99877872}, {\"run_id\": \"AutoML_6fd60325-1647-4b1c-9f54-8e72a82deb6a_2\", \"run_number\": 1684482188, \"metric\": null, \"status\": \"Completed\", \"run_type\": null, \"training_percent\": \"100\", \"start_time\": \"2023-05-19T07:43:55.55808Z\", \"end_time\": \"2023-05-19T07:44:07.467238Z\", \"created_time\": \"2023-05-19T07:43:08.51861Z\", \"created_time_dt\": \"2023-05-19T07:43:08.51861Z\", \"duration\": \"0:00:58\", \"iteration\": \"2\", \"goal\": \"AUC_weighted_max\", \"run_name\": \"MaxAbsScaler, ExtremeRandomTrees\", \"run_properties\": \"copy=True\", \"primary_metric\": 0.96597655, \"best_metric\": 0.99877872}, {\"run_id\": \"AutoML_6fd60325-1647-4b1c-9f54-8e72a82deb6a_worker_0\", \"run_number\": 1684482189, \"metric\": null, \"status\": \"Completed\", \"run_type\": \"azureml.scriptrun\", \"training_percent\": null, \"start_time\": \"2023-05-19T07:43:17.0015Z\", \"end_time\": \"2023-05-19T07:44:28.146431Z\", \"created_time\": \"2023-05-19T07:43:09.46323Z\", \"created_time_dt\": \"2023-05-19T07:43:09.46323Z\", \"duration\": \"0:01:18\", \"iteration\": null, \"goal\": null, \"run_name\": \"Completed\", \"run_properties\": null}, {\"run_id\": \"AutoML_6fd60325-1647-4b1c-9f54-8e72a82deb6a_5\", \"run_number\": 1684482190, \"metric\": null, \"status\": \"Completed\", \"run_type\": null, \"training_percent\": \"100\", \"start_time\": \"2023-05-19T07:44:56.314907Z\", \"end_time\": \"2023-05-19T07:45:12.832616Z\", \"created_time\": \"2023-05-19T07:43:10.354762Z\", \"created_time_dt\": \"2023-05-19T07:43:10.354762Z\", \"duration\": \"0:02:02\", \"iteration\": \"5\", \"goal\": \"AUC_weighted_max\", \"run_name\": \"SparseNormalizer, XGBoostClassifier\", \"run_properties\": \"copy=True, norm='max'\", \"primary_metric\": 0.9946858, \"best_metric\": 0.99877872}, {\"run_id\": \"AutoML_6fd60325-1647-4b1c-9f54-8e72a82deb6a_6\", \"run_number\": 1684482191, \"metric\": null, \"status\": \"Completed\", \"run_type\": null, \"training_percent\": \"100\", \"start_time\": \"2023-05-19T07:45:13.377958Z\", \"end_time\": \"2023-05-19T07:45:25.851648Z\", \"created_time\": \"2023-05-19T07:43:11.079386Z\", \"created_time_dt\": \"2023-05-19T07:43:11.079386Z\", \"duration\": \"0:02:14\", \"iteration\": \"6\", \"goal\": \"AUC_weighted_max\", \"run_name\": \"SparseNormalizer, RandomForest\", \"run_properties\": \"copy=True, norm='l2'\", \"primary_metric\": 0.97770978, \"best_metric\": 0.99877872}, {\"run_id\": \"AutoML_6fd60325-1647-4b1c-9f54-8e72a82deb6a_worker_1\", \"run_number\": 1684482192, \"metric\": null, \"status\": \"Completed\", \"run_type\": \"azureml.scriptrun\", \"training_percent\": null, \"start_time\": \"2023-05-19T07:44:32.708747Z\", \"end_time\": \"2023-05-19T07:45:46.936391Z\", \"created_time\": \"2023-05-19T07:43:12.098197Z\", \"created_time_dt\": \"2023-05-19T07:43:12.098197Z\", \"duration\": \"0:02:34\", \"iteration\": null, \"goal\": null, \"run_name\": \"Completed\", \"run_properties\": null}, {\"run_id\": \"AutoML_6fd60325-1647-4b1c-9f54-8e72a82deb6a_10\", \"run_number\": 1684482193, \"metric\": null, \"status\": \"Completed\", \"run_type\": null, \"training_percent\": \"100\", \"start_time\": \"2023-05-19T07:46:28.049278Z\", \"end_time\": \"2023-05-19T07:46:39.391102Z\", \"created_time\": \"2023-05-19T07:43:13.470568Z\", \"created_time_dt\": \"2023-05-19T07:43:13.470568Z\", \"duration\": \"0:03:25\", \"iteration\": \"10\", \"goal\": \"AUC_weighted_max\", \"run_name\": \"SparseNormalizer, LightGBM\", \"run_properties\": \"copy=True, norm='l1'\", \"primary_metric\": 0.97482483, \"best_metric\": 0.99877872}, {\"run_id\": \"AutoML_6fd60325-1647-4b1c-9f54-8e72a82deb6a_worker_2\", \"run_number\": 1684482194, \"metric\": null, \"status\": \"Completed\", \"run_type\": \"azureml.scriptrun\", \"training_percent\": null, \"start_time\": \"2023-05-19T07:45:51.576746Z\", \"end_time\": \"2023-05-19T07:47:03.189392Z\", \"created_time\": \"2023-05-19T07:43:14.428469Z\", \"created_time_dt\": \"2023-05-19T07:43:14.428469Z\", \"duration\": \"0:03:48\", \"iteration\": null, \"goal\": null, \"run_name\": \"Completed\", \"run_properties\": null}, {\"run_id\": \"AutoML_6fd60325-1647-4b1c-9f54-8e72a82deb6a_13\", \"run_number\": 1684482195, \"metric\": null, \"status\": \"Completed\", \"run_type\": null, \"training_percent\": \"100\", \"start_time\": \"2023-05-19T07:47:31.885613Z\", \"end_time\": \"2023-05-19T07:47:43.340686Z\", \"created_time\": \"2023-05-19T07:43:15.229879Z\", \"created_time_dt\": \"2023-05-19T07:43:15.229879Z\", \"duration\": \"0:04:28\", \"iteration\": \"13\", \"goal\": \"AUC_weighted_max\", \"run_name\": \"StandardScalerWrapper, ExtremeRandomTrees\", \"run_properties\": \"copy=True, with_mean=False, with_std=False\", \"primary_metric\": 0.97297057, \"best_metric\": 0.99877872}, {\"run_id\": \"AutoML_6fd60325-1647-4b1c-9f54-8e72a82deb6a_worker_3\", \"run_number\": 1684482196, \"metric\": null, \"status\": \"Completed\", \"run_type\": \"azureml.scriptrun\", \"training_percent\": null, \"start_time\": \"2023-05-19T07:47:07.784658Z\", \"end_time\": \"2023-05-19T07:48:17.909439Z\", \"created_time\": \"2023-05-19T07:43:16.796933Z\", \"created_time_dt\": \"2023-05-19T07:43:16.796933Z\", \"duration\": \"0:05:01\", \"iteration\": null, \"goal\": null, \"run_name\": \"Completed\", \"run_properties\": null}, {\"run_id\": \"AutoML_6fd60325-1647-4b1c-9f54-8e72a82deb6a_16\", \"run_number\": 1684482197, \"metric\": null, \"status\": \"Completed\", \"run_type\": null, \"training_percent\": \"100\", \"start_time\": \"2023-05-19T07:53:32.802643Z\", \"end_time\": \"2023-05-19T07:53:47.593941Z\", \"created_time\": \"2023-05-19T07:43:17.11684Z\", \"created_time_dt\": \"2023-05-19T07:43:17.11684Z\", \"duration\": \"0:10:30\", \"iteration\": \"16\", \"goal\": \"AUC_weighted_max\", \"run_name\": \"MaxAbsScaler, LogisticRegression\", \"run_properties\": \"copy=True\", \"primary_metric\": 0.98860051, \"best_metric\": 0.99877872}, {\"run_id\": \"AutoML_6fd60325-1647-4b1c-9f54-8e72a82deb6a_18\", \"run_number\": 1684482198, \"metric\": null, \"status\": \"Completed\", \"run_type\": null, \"training_percent\": \"100\", \"start_time\": \"2023-05-19T07:54:03.275435Z\", \"end_time\": \"2023-05-19T07:54:15.473673Z\", \"created_time\": \"2023-05-19T07:43:18.391351Z\", \"created_time_dt\": \"2023-05-19T07:43:18.391351Z\", \"duration\": \"0:10:57\", \"iteration\": \"18\", \"goal\": \"AUC_weighted_max\", \"run_name\": \"StandardScalerWrapper, XGBoostClassifier\", \"run_properties\": \"copy=True, with_mean=False, with_std=False\", \"primary_metric\": 0.99434667, \"best_metric\": 0.99877872}, {\"run_id\": \"AutoML_6fd60325-1647-4b1c-9f54-8e72a82deb6a_worker_4\", \"run_number\": 1684482199, \"metric\": null, \"status\": \"Completed\", \"run_type\": \"azureml.scriptrun\", \"training_percent\": null, \"start_time\": \"2023-05-19T07:48:29.970178Z\", \"end_time\": \"2023-05-19T07:54:38.173768Z\", \"created_time\": \"2023-05-19T07:43:19.31629Z\", \"created_time_dt\": \"2023-05-19T07:43:19.31629Z\", \"duration\": \"0:11:18\", \"iteration\": null, \"goal\": null, \"run_name\": \"Completed\", \"run_properties\": null}, {\"run_id\": \"AutoML_6fd60325-1647-4b1c-9f54-8e72a82deb6a_21\", \"run_number\": 1684482494, \"metric\": null, \"status\": \"Completed\", \"run_type\": \"azureml.scriptrun\", \"training_percent\": \"100\", \"start_time\": \"2023-05-19T07:48:25.032069Z\", \"end_time\": \"2023-05-19T07:48:56.943822Z\", \"created_time\": \"2023-05-19T07:48:14.079922Z\", \"created_time_dt\": \"2023-05-19T07:48:14.079922Z\", \"duration\": \"0:00:42\", \"iteration\": \"21\", \"goal\": \"AUC_weighted_max\", \"run_name\": \"StandardScalerWrapper, XGBoostClassifier\", \"run_properties\": \"copy=True, with_mean=False, with_std=False\", \"primary_metric\": 0.99449424, \"best_metric\": 0.99877872}, {\"run_id\": \"AutoML_6fd60325-1647-4b1c-9f54-8e72a82deb6a_24\", \"run_number\": 1684482846, \"metric\": null, \"status\": \"Completed\", \"run_type\": \"azureml.scriptrun\", \"training_percent\": \"100\", \"start_time\": \"2023-05-19T07:54:17.213878Z\", \"end_time\": \"2023-05-19T07:54:46.644765Z\", \"created_time\": \"2023-05-19T07:54:06.686435Z\", \"created_time_dt\": \"2023-05-19T07:54:06.686435Z\", \"duration\": \"0:00:39\", \"iteration\": \"24\", \"goal\": \"AUC_weighted_max\", \"run_name\": \"SparseNormalizer, XGBoostClassifier\", \"run_properties\": \"copy=True, norm='max'\", \"primary_metric\": 0.98820822, \"best_metric\": 0.99877872}, {\"run_id\": \"AutoML_6fd60325-1647-4b1c-9f54-8e72a82deb6a_25\", \"run_number\": 1684482873, \"metric\": null, \"status\": \"Completed\", \"run_type\": \"azureml.scriptrun\", \"training_percent\": \"100\", \"start_time\": \"2023-05-19T07:54:42.155257Z\", \"end_time\": \"2023-05-19T07:55:18.410985Z\", \"created_time\": \"2023-05-19T07:54:33.223179Z\", \"created_time_dt\": \"2023-05-19T07:54:33.223179Z\", \"duration\": \"0:00:45\", \"iteration\": \"25\", \"goal\": \"AUC_weighted_max\", \"run_name\": \"MaxAbsScaler, LightGBM\", \"run_properties\": \"copy=True\", \"primary_metric\": 0.9843617, \"best_metric\": 0.99877872}, {\"run_id\": \"AutoML_6fd60325-1647-4b1c-9f54-8e72a82deb6a_27\", \"run_number\": 1684482880, \"metric\": null, \"status\": \"Completed\", \"run_type\": \"azureml.scriptrun\", \"training_percent\": \"100\", \"start_time\": \"2023-05-19T07:54:50.274485Z\", \"end_time\": \"2023-05-19T07:55:25.308136Z\", \"created_time\": \"2023-05-19T07:54:40.17616Z\", \"created_time_dt\": \"2023-05-19T07:54:40.17616Z\", \"duration\": \"0:00:45\", \"iteration\": \"27\", \"goal\": \"AUC_weighted_max\", \"run_name\": \"MaxAbsScaler, LinearSVM\", \"run_properties\": \"copy=True\", \"primary_metric\": 0.97889846, \"best_metric\": 0.99877872}, {\"run_id\": \"AutoML_6fd60325-1647-4b1c-9f54-8e72a82deb6a_28\", \"run_number\": 1684482888, \"metric\": null, \"status\": \"Completed\", \"run_type\": \"azureml.scriptrun\", \"training_percent\": \"100\", \"start_time\": \"2023-05-19T07:55:22.822154Z\", \"end_time\": \"2023-05-19T07:55:58.193794Z\", \"created_time\": \"2023-05-19T07:54:48.691696Z\", \"created_time_dt\": \"2023-05-19T07:54:48.691696Z\", \"duration\": \"0:01:09\", \"iteration\": \"28\", \"goal\": \"AUC_weighted_max\", \"run_name\": \"MaxAbsScaler, LogisticRegression\", \"run_properties\": \"copy=True\", \"primary_metric\": 0.98564702, \"best_metric\": 0.99877872}, {\"run_id\": \"AutoML_6fd60325-1647-4b1c-9f54-8e72a82deb6a_29\", \"run_number\": 1684482920, \"metric\": null, \"status\": \"Completed\", \"run_type\": \"azureml.scriptrun\", \"training_percent\": \"100\", \"start_time\": \"2023-05-19T07:55:28.523132Z\", \"end_time\": \"2023-05-19T07:56:01.176288Z\", \"created_time\": \"2023-05-19T07:55:20.401197Z\", \"created_time_dt\": \"2023-05-19T07:55:20.401197Z\", \"duration\": \"0:00:40\", \"iteration\": \"29\", \"goal\": \"AUC_weighted_max\", \"run_name\": \"MaxAbsScaler, LogisticRegression\", \"run_properties\": \"copy=True\", \"primary_metric\": 0.97510949, \"best_metric\": 0.99877872}, {\"run_id\": \"AutoML_6fd60325-1647-4b1c-9f54-8e72a82deb6a_30\", \"run_number\": 1684482924, \"metric\": null, \"status\": \"Completed\", \"run_type\": \"azureml.scriptrun\", \"training_percent\": \"100\", \"start_time\": \"2023-05-19T07:55:34.645498Z\", \"end_time\": \"2023-05-19T07:56:11.413918Z\", \"created_time\": \"2023-05-19T07:55:24.865792Z\", \"created_time_dt\": \"2023-05-19T07:55:24.865792Z\", \"duration\": \"0:00:46\", \"iteration\": \"30\", \"goal\": \"AUC_weighted_max\", \"run_name\": \"SparseNormalizer, LightGBM\", \"run_properties\": \"copy=True, norm='l1'\", \"primary_metric\": 0.97915651, \"best_metric\": 0.99877872}, {\"run_id\": \"AutoML_6fd60325-1647-4b1c-9f54-8e72a82deb6a_31\", \"run_number\": 1684482927, \"metric\": null, \"status\": \"Completed\", \"run_type\": \"azureml.scriptrun\", \"training_percent\": \"100\", \"start_time\": \"2023-05-19T07:55:35.0688Z\", \"end_time\": \"2023-05-19T07:56:04.846144Z\", \"created_time\": \"2023-05-19T07:55:27.2702Z\", \"created_time_dt\": \"2023-05-19T07:55:27.2702Z\", \"duration\": \"0:00:37\", \"iteration\": \"31\", \"goal\": \"AUC_weighted_max\", \"run_name\": \"MaxAbsScaler, LightGBM\", \"run_properties\": \"copy=True\", \"primary_metric\": 0.97235689, \"best_metric\": 0.99877872}, {\"run_id\": \"AutoML_6fd60325-1647-4b1c-9f54-8e72a82deb6a_32\", \"run_number\": 1684482929, \"metric\": null, \"status\": \"Completed\", \"run_type\": \"azureml.scriptrun\", \"training_percent\": \"100\", \"start_time\": \"2023-05-19T07:56:03.104762Z\", \"end_time\": \"2023-05-19T07:56:38.199428Z\", \"created_time\": \"2023-05-19T07:55:29.88239Z\", \"created_time_dt\": \"2023-05-19T07:55:29.88239Z\", \"duration\": \"0:01:08\", \"iteration\": \"32\", \"goal\": \"AUC_weighted_max\", \"run_name\": \"StandardScalerWrapper, LightGBM\", \"run_properties\": \"copy=True, with_mean=False, with_std=True\", \"primary_metric\": 0.99578767, \"best_metric\": 0.99877872}, {\"run_id\": \"AutoML_6fd60325-1647-4b1c-9f54-8e72a82deb6a_33\", \"run_number\": 1684482960, \"metric\": null, \"status\": \"Completed\", \"run_type\": \"azureml.scriptrun\", \"training_percent\": \"100\", \"start_time\": \"2023-05-19T07:56:09.891595Z\", \"end_time\": \"2023-05-19T07:56:44.565963Z\", \"created_time\": \"2023-05-19T07:55:59.994415Z\", \"created_time_dt\": \"2023-05-19T07:55:59.994415Z\", \"duration\": \"0:00:44\", \"iteration\": \"33\", \"goal\": \"AUC_weighted_max\", \"run_name\": \"StandardScalerWrapper, LightGBM\", \"run_properties\": \"copy=True, with_mean=False, with_std=False\", \"primary_metric\": 0.99523082, \"best_metric\": 0.99877872}, {\"run_id\": \"AutoML_6fd60325-1647-4b1c-9f54-8e72a82deb6a_34\", \"run_number\": 1684482963, \"metric\": null, \"status\": \"Completed\", \"run_type\": \"azureml.scriptrun\", \"training_percent\": \"100\", \"start_time\": \"2023-05-19T07:56:10.426179Z\", \"end_time\": \"2023-05-19T07:56:39.81244Z\", \"created_time\": \"2023-05-19T07:56:03.085911Z\", \"created_time_dt\": \"2023-05-19T07:56:03.085911Z\", \"duration\": \"0:00:36\", \"iteration\": \"34\", \"goal\": \"AUC_weighted_max\", \"run_name\": \"SparseNormalizer, LightGBM\", \"run_properties\": \"copy=True, norm='max'\", \"primary_metric\": 0.9818445, \"best_metric\": 0.99877872}, {\"run_id\": \"AutoML_6fd60325-1647-4b1c-9f54-8e72a82deb6a_35\", \"run_number\": 1684482967, \"metric\": null, \"status\": \"Canceled\", \"run_type\": \"azureml.scriptrun\", \"training_percent\": \"100\", \"start_time\": \"2023-05-19T07:56:17.860904Z\", \"end_time\": \"2023-05-19T07:56:47.768683Z\", \"created_time\": \"2023-05-19T07:56:07.435055Z\", \"created_time_dt\": \"2023-05-19T07:56:07.435055Z\", \"duration\": \"0:00:40\", \"iteration\": \"35\", \"goal\": \"AUC_weighted_max\", \"run_name\": \"SparseNormalizer, LightGBM\", \"run_properties\": \"copy=True, norm='max'\", \"primary_metric\": 0.96657719, \"best_metric\": 0.99877872}, {\"run_id\": \"AutoML_6fd60325-1647-4b1c-9f54-8e72a82deb6a_36\", \"run_number\": 1684482973, \"metric\": null, \"status\": \"Canceled\", \"run_type\": \"azureml.scriptrun\", \"training_percent\": \"100\", \"start_time\": \"2023-05-19T07:56:41.992949Z\", \"end_time\": \"2023-05-19T07:56:48.26967Z\", \"created_time\": \"2023-05-19T07:56:13.2443Z\", \"created_time_dt\": \"2023-05-19T07:56:13.2443Z\", \"duration\": \"0:00:35\", \"iteration\": \"36\", \"goal\": null, \"run_name\": \"Canceled\", \"run_properties\": null}, {\"run_id\": \"AutoML_6fd60325-1647-4b1c-9f54-8e72a82deb6a_37\", \"run_number\": 1684483000, \"metric\": null, \"status\": \"Canceled\", \"run_type\": \"azureml.scriptrun\", \"training_percent\": \"100\", \"start_time\": \"2023-05-19T07:56:42.033463Z\", \"end_time\": \"2023-05-19T07:56:43.142691Z\", \"created_time\": \"2023-05-19T07:56:40.221698Z\", \"created_time_dt\": \"2023-05-19T07:56:40.221698Z\", \"duration\": \"0:00:02\", \"iteration\": \"37\", \"goal\": null, \"run_name\": \"Canceled\", \"run_properties\": null}, {\"run_id\": \"AutoML_6fd60325-1647-4b1c-9f54-8e72a82deb6a_38\", \"run_number\": 1684483009, \"metric\": null, \"status\": \"Completed\", \"run_type\": \"azureml.scriptrun\", \"training_percent\": \"100\", \"start_time\": \"2023-05-19T07:56:57.44535Z\", \"end_time\": \"2023-05-19T07:58:15.31956Z\", \"created_time\": \"2023-05-19T07:56:49.559352Z\", \"created_time_dt\": \"2023-05-19T07:56:49.559352Z\", \"duration\": \"0:01:25\", \"iteration\": \"38\", \"goal\": \"AUC_weighted_max\", \"run_name\": \"VotingEnsemble\", \"run_properties\": \"classification_labels=numpy.array([0, 1, 2, 3]\", \"primary_metric\": 0.99880195, \"best_metric\": 0.99880195}], \"children_metrics\": {\"categories\": [0], \"series\": {\"average_precision_score_macro\": [{\"categories\": [\"0\", \"2\", \"5\", \"6\", \"10\", \"13\", \"16\", \"18\", \"21\", \"24\", \"25\", \"27\", \"28\", \"29\", \"30\", \"31\", \"32\", \"33\", \"34\", \"35\", \"38\"], \"mode\": \"markers\", \"name\": \"average_precision_score_macro\", \"stepped\": false, \"type\": \"scatter\", \"data\": [0.9938735922885464, 0.7554326651732377, 0.904024666381679, 0.8680921139883431, 0.8071480438935033, 0.7948541239141521, 0.950984113022456, 0.9059837998462227, 0.915146709054623, 0.8606347623795466, 0.8223826887674095, 0.8171527800770021, 0.8016437168207243, 0.8569869337908461, 0.7876560778268343, 0.7695001854865445, 0.9251106457465464, 0.8941456109443653, 0.7920751923843717, 0.7465643448050162, 0.9916712744562265]}, {\"categories\": [\"0\", \"2\", \"5\", \"6\", \"10\", \"13\", \"16\", \"18\", \"21\", \"24\", \"25\", \"27\", \"28\", \"29\", \"30\", \"31\", \"32\", \"33\", \"34\", \"35\", \"38\"], \"mode\": \"lines\", \"name\": \"average_precision_score_macro_max\", \"stepped\": true, \"type\": \"scatter\", \"data\": [0.9938735922885464, 0.9938735922885464, 0.9938735922885464, 0.9938735922885464, 0.9938735922885464, 0.9938735922885464, 0.9938735922885464, 0.9938735922885464, 0.9938735922885464, 0.9938735922885464, 0.9938735922885464, 0.9938735922885464, 0.9938735922885464, 0.9938735922885464, 0.9938735922885464, 0.9938735922885464, 0.9938735922885464, 0.9938735922885464, 0.9938735922885464, 0.9938735922885464, 0.9938735922885464]}], \"AUC_weighted\": [{\"categories\": [\"0\", \"2\", \"5\", \"6\", \"10\", \"13\", \"16\", \"18\", \"21\", \"24\", \"25\", \"27\", \"28\", \"29\", \"30\", \"31\", \"32\", \"33\", \"34\", \"35\", \"38\"], \"mode\": \"markers\", \"name\": \"AUC_weighted\", \"stepped\": false, \"type\": \"scatter\", \"data\": [0.9987787177700516, 0.9659765542301847, 0.9946857986998717, 0.9777097840832507, 0.974824830345356, 0.972970573661701, 0.9886005147395781, 0.9943466744333511, 0.9944942408339038, 0.988208224738333, 0.9843616987981566, 0.978898460622637, 0.9856470234313229, 0.9751094889773414, 0.9791565127891465, 0.9723568876818334, 0.9957876738686565, 0.995230820041732, 0.9818444980034756, 0.9665771934445955, 0.9988019491456818]}, {\"categories\": [\"0\", \"2\", \"5\", \"6\", \"10\", \"13\", \"16\", \"18\", \"21\", \"24\", \"25\", \"27\", \"28\", \"29\", \"30\", \"31\", \"32\", \"33\", \"34\", \"35\", \"38\"], \"mode\": \"lines\", \"name\": \"AUC_weighted_max\", \"stepped\": true, \"type\": \"scatter\", \"data\": [0.9987787177700516, 0.9987787177700516, 0.9987787177700516, 0.9987787177700516, 0.9987787177700516, 0.9987787177700516, 0.9987787177700516, 0.9987787177700516, 0.9987787177700516, 0.9987787177700516, 0.9987787177700516, 0.9987787177700516, 0.9987787177700516, 0.9987787177700516, 0.9987787177700516, 0.9987787177700516, 0.9987787177700516, 0.9987787177700516, 0.9987787177700516, 0.9987787177700516, 0.9988019491456818]}], \"f1_score_macro\": [{\"categories\": [\"0\", \"2\", \"5\", \"6\", \"10\", \"13\", \"16\", \"18\", \"21\", \"24\", \"25\", \"27\", \"28\", \"29\", \"30\", \"31\", \"32\", \"33\", \"34\", \"35\", \"38\"], \"mode\": \"markers\", \"name\": \"f1_score_macro\", \"stepped\": false, \"type\": \"scatter\", \"data\": [0.964149597555385, 0.5497607837314527, 0.8498645277827169, 0.8098018336488533, 0.5758104546849835, 0.26373070394295267, 0.9111854373470555, 0.8457479346736708, 0.8406060898675998, 0.6591257545457647, 0.5778162784777565, 0.5883889354066639, 0.8213594188682762, 0.7828024623169149, 0.5305275270018178, 0.577559798532829, 0.8344361507992004, 0.8072291800035921, 0.5389102299936115, 0.4354182895571557, 0.9573415039889248]}, {\"categories\": [\"0\", \"2\", \"5\", \"6\", \"10\", \"13\", \"16\", \"18\", \"21\", \"24\", \"25\", \"27\", \"28\", \"29\", \"30\", \"31\", \"32\", \"33\", \"34\", \"35\", \"38\"], \"mode\": \"lines\", \"name\": \"f1_score_macro_max\", \"stepped\": true, \"type\": \"scatter\", \"data\": [0.964149597555385, 0.964149597555385, 0.964149597555385, 0.964149597555385, 0.964149597555385, 0.964149597555385, 0.964149597555385, 0.964149597555385, 0.964149597555385, 0.964149597555385, 0.964149597555385, 0.964149597555385, 0.964149597555385, 0.964149597555385, 0.964149597555385, 0.964149597555385, 0.964149597555385, 0.964149597555385, 0.964149597555385, 0.964149597555385, 0.964149597555385]}], \"AUC_macro\": [{\"categories\": [\"0\", \"2\", \"5\", \"6\", \"10\", \"13\", \"16\", \"18\", \"21\", \"24\", \"25\", \"27\", \"28\", \"29\", \"30\", \"31\", \"32\", \"33\", \"34\", \"35\", \"38\"], \"mode\": \"markers\", \"name\": \"AUC_macro\", \"stepped\": false, \"type\": \"scatter\", \"data\": [0.9990457541187446, 0.9661324503363261, 0.9926367252301844, 0.9762650395799118, 0.973659597428024, 0.9698510876358813, 0.9918421738724064, 0.9928573550319791, 0.9935251394397994, 0.9879216329056854, 0.9810993187266422, 0.9782764057794996, 0.9843804922671976, 0.9796510474096465, 0.976074854953706, 0.9711985776162914, 0.9939903132621316, 0.9924533828743561, 0.9769039926629599, 0.9621239969532859, 0.9989320936254296]}, {\"categories\": [\"0\", \"2\", \"5\", \"6\", \"10\", \"13\", \"16\", \"18\", \"21\", \"24\", \"25\", \"27\", \"28\", \"29\", \"30\", \"31\", \"32\", \"33\", \"34\", \"35\", \"38\"], \"mode\": \"lines\", \"name\": \"AUC_macro_max\", \"stepped\": true, \"type\": \"scatter\", \"data\": [0.9990457541187446, 0.9990457541187446, 0.9990457541187446, 0.9990457541187446, 0.9990457541187446, 0.9990457541187446, 0.9990457541187446, 0.9990457541187446, 0.9990457541187446, 0.9990457541187446, 0.9990457541187446, 0.9990457541187446, 0.9990457541187446, 0.9990457541187446, 0.9990457541187446, 0.9990457541187446, 0.9990457541187446, 0.9990457541187446, 0.9990457541187446, 0.9990457541187446, 0.9990457541187446]}], \"recall_score_macro\": [{\"categories\": [\"0\", \"2\", \"5\", \"6\", \"10\", \"13\", \"16\", \"18\", \"21\", \"24\", \"25\", \"27\", \"28\", \"29\", \"30\", \"31\", \"32\", \"33\", \"34\", \"35\", \"38\"], \"mode\": \"markers\", \"name\": \"recall_score_macro\", \"stepped\": false, \"type\": \"scatter\", \"data\": [0.9624798064408936, 0.5555589141954306, 0.8374416891548314, 0.8994283240076418, 0.5534171859033274, 0.28274082096330105, 0.9439669036954331, 0.8599818616877432, 0.852984920988817, 0.655284673231887, 0.5639106369881246, 0.5664485726050492, 0.848463618624485, 0.8666899375698988, 0.5254818835335794, 0.5556104269304272, 0.8190494494812653, 0.7918728430695193, 0.5298547787456828, 0.43428192542484506, 0.9516163312291601]}, {\"categories\": [\"0\", \"2\", \"5\", \"6\", \"10\", \"13\", \"16\", \"18\", \"21\", \"24\", \"25\", \"27\", \"28\", \"29\", \"30\", \"31\", \"32\", \"33\", \"34\", \"35\", \"38\"], \"mode\": \"lines\", \"name\": \"recall_score_macro_max\", \"stepped\": true, \"type\": \"scatter\", \"data\": [0.9624798064408936, 0.9624798064408936, 0.9624798064408936, 0.9624798064408936, 0.9624798064408936, 0.9624798064408936, 0.9624798064408936, 0.9624798064408936, 0.9624798064408936, 0.9624798064408936, 0.9624798064408936, 0.9624798064408936, 0.9624798064408936, 0.9624798064408936, 0.9624798064408936, 0.9624798064408936, 0.9624798064408936, 0.9624798064408936, 0.9624798064408936, 0.9624798064408936, 0.9624798064408936]}], \"average_precision_score_micro\": [{\"categories\": [\"0\", \"2\", \"5\", \"6\", \"10\", \"13\", \"16\", \"18\", \"21\", \"24\", \"25\", \"27\", \"28\", \"29\", \"30\", \"31\", \"32\", \"33\", \"34\", \"35\", \"38\"], \"mode\": \"markers\", \"name\": \"average_precision_score_micro\", \"stepped\": false, \"type\": \"scatter\", \"data\": [0.9982808475759496, 0.9467841738835957, 0.9894228322254802, 0.9567370196663317, 0.9552677325301749, 0.9008583087618828, 0.9852432618241639, 0.9908320935004012, 0.9913078192888962, 0.9760747872867244, 0.9676364797820906, 0.9621913268630967, 0.9689728231331171, 0.9532202303474119, 0.9564329446043977, 0.9530429082507635, 0.9917314756222216, 0.9903447790767673, 0.9630160752335343, 0.9402280150569453, 0.9981149256895304]}, {\"categories\": [\"0\", \"2\", \"5\", \"6\", \"10\", \"13\", \"16\", \"18\", \"21\", \"24\", \"25\", \"27\", \"28\", \"29\", \"30\", \"31\", \"32\", \"33\", \"34\", \"35\", \"38\"], \"mode\": \"lines\", \"name\": \"average_precision_score_micro_max\", \"stepped\": true, \"type\": \"scatter\", \"data\": [0.9982808475759496, 0.9982808475759496, 0.9982808475759496, 0.9982808475759496, 0.9982808475759496, 0.9982808475759496, 0.9982808475759496, 0.9982808475759496, 0.9982808475759496, 0.9982808475759496, 0.9982808475759496, 0.9982808475759496, 0.9982808475759496, 0.9982808475759496, 0.9982808475759496, 0.9982808475759496, 0.9982808475759496, 0.9982808475759496, 0.9982808475759496, 0.9982808475759496, 0.9982808475759496]}], \"weighted_accuracy\": [{\"categories\": [\"0\", \"2\", \"5\", \"6\", \"10\", \"13\", \"16\", \"18\", \"21\", \"24\", \"25\", \"27\", \"28\", \"29\", \"30\", \"31\", \"32\", \"33\", \"34\", \"35\", \"38\"], \"mode\": \"markers\", \"name\": \"weighted_accuracy\", \"stepped\": false, \"type\": \"scatter\", \"data\": [0.9865024510085333, 0.9079937030169315, 0.9722077045091254, 0.8670308137717629, 0.9395130691512984, 0.9135591314186723, 0.9399404376062099, 0.969123542273612, 0.9714361670854426, 0.9446512144575544, 0.9584023464971859, 0.9393279444511277, 0.9303628648178196, 0.9057703643776741, 0.9404788655999262, 0.9222817945860151, 0.9770112911966443, 0.9760911743774209, 0.9514624497967783, 0.9395200409339516, 0.9871058863769804]}, {\"categories\": [\"0\", \"2\", \"5\", \"6\", \"10\", \"13\", \"16\", \"18\", \"21\", \"24\", \"25\", \"27\", \"28\", \"29\", \"30\", \"31\", \"32\", \"33\", \"34\", \"35\", \"38\"], \"mode\": \"lines\", \"name\": \"weighted_accuracy_max\", \"stepped\": true, \"type\": \"scatter\", \"data\": [0.9865024510085333, 0.9865024510085333, 0.9865024510085333, 0.9865024510085333, 0.9865024510085333, 0.9865024510085333, 0.9865024510085333, 0.9865024510085333, 0.9865024510085333, 0.9865024510085333, 0.9865024510085333, 0.9865024510085333, 0.9865024510085333, 0.9865024510085333, 0.9865024510085333, 0.9865024510085333, 0.9865024510085333, 0.9865024510085333, 0.9865024510085333, 0.9865024510085333, 0.9871058863769804]}], \"norm_macro_recall\": [{\"categories\": [\"0\", \"2\", \"5\", \"6\", \"10\", \"13\", \"16\", \"18\", \"21\", \"24\", \"25\", \"27\", \"28\", \"29\", \"30\", \"31\", \"32\", \"33\", \"34\", \"35\", \"38\"], \"mode\": \"markers\", \"name\": \"norm_macro_recall\", \"stepped\": false, \"type\": \"scatter\", \"data\": [0.9499730752545248, 0.4074118855939075, 0.7832555855397754, 0.8659044320101891, 0.4045562478711033, 0.043654427951068074, 0.925289204927244, 0.8133091489169907, 0.8039798946517559, 0.5403795643091825, 0.41854751598416623, 0.4219314301400656, 0.7979514914993132, 0.8222532500931982, 0.36730917804477253, 0.4074805692405696, 0.7587325993083539, 0.7224971240926924, 0.3731397049942436, 0.2457092338997934, 0.9354884416388801]}, {\"categories\": [\"0\", \"2\", \"5\", \"6\", \"10\", \"13\", \"16\", \"18\", \"21\", \"24\", \"25\", \"27\", \"28\", \"29\", \"30\", \"31\", \"32\", \"33\", \"34\", \"35\", \"38\"], \"mode\": \"lines\", \"name\": \"norm_macro_recall_max\", \"stepped\": true, \"type\": \"scatter\", \"data\": [0.9499730752545248, 0.9499730752545248, 0.9499730752545248, 0.9499730752545248, 0.9499730752545248, 0.9499730752545248, 0.9499730752545248, 0.9499730752545248, 0.9499730752545248, 0.9499730752545248, 0.9499730752545248, 0.9499730752545248, 0.9499730752545248, 0.9499730752545248, 0.9499730752545248, 0.9499730752545248, 0.9499730752545248, 0.9499730752545248, 0.9499730752545248, 0.9499730752545248, 0.9499730752545248]}], \"recall_score_weighted\": [{\"categories\": [\"0\", \"2\", \"5\", \"6\", \"10\", \"13\", \"16\", \"18\", \"21\", \"24\", \"25\", \"27\", \"28\", \"29\", \"30\", \"31\", \"32\", \"33\", \"34\", \"35\", \"38\"], \"mode\": \"markers\", \"name\": \"recall_score_weighted\", \"stepped\": false, \"type\": \"scatter\", \"data\": [0.9826328502415459, 0.8482809983896941, 0.9484591384863125, 0.8720471014492753, 0.8569756441223833, 0.7284208937198068, 0.9397846215780997, 0.9490458937198069, 0.950780998389694, 0.9009782608695652, 0.8998188405797102, 0.8720239533011273, 0.9137288647342996, 0.8917210144927536, 0.8726046698872786, 0.8592904589371981, 0.9496225845410629, 0.9426660628019322, 0.8801368760064413, 0.8320833333333333, 0.9814744363929147]}, {\"categories\": [\"0\", \"2\", \"5\", \"6\", \"10\", \"13\", \"16\", \"18\", \"21\", \"24\", \"25\", \"27\", \"28\", \"29\", \"30\", \"31\", \"32\", \"33\", \"34\", \"35\", \"38\"], \"mode\": \"lines\", \"name\": \"recall_score_weighted_max\", \"stepped\": true, \"type\": \"scatter\", \"data\": [0.9826328502415459, 0.9826328502415459, 0.9826328502415459, 0.9826328502415459, 0.9826328502415459, 0.9826328502415459, 0.9826328502415459, 0.9826328502415459, 0.9826328502415459, 0.9826328502415459, 0.9826328502415459, 0.9826328502415459, 0.9826328502415459, 0.9826328502415459, 0.9826328502415459, 0.9826328502415459, 0.9826328502415459, 0.9826328502415459, 0.9826328502415459, 0.9826328502415459, 0.9826328502415459]}], \"f1_score_weighted\": [{\"categories\": [\"0\", \"2\", \"5\", \"6\", \"10\", \"13\", \"16\", \"18\", \"21\", \"24\", \"25\", \"27\", \"28\", \"29\", \"30\", \"31\", \"32\", \"33\", \"34\", \"35\", \"38\"], \"mode\": \"markers\", \"name\": \"f1_score_weighted\", \"stepped\": false, \"type\": \"scatter\", \"data\": [0.9824728186538567, 0.835715194750506, 0.947222864169695, 0.8798075924872492, 0.8405812159049856, 0.6386079736354002, 0.9413945446508643, 0.9489780264556975, 0.949084685443938, 0.8910378631136036, 0.882479612280055, 0.8581434908838091, 0.9176263504884347, 0.8984372754589355, 0.8534486862484779, 0.8509646707669286, 0.9483352394692911, 0.9407563135272757, 0.861143398397321, 0.8030337619194899, 0.9812250630451503]}, {\"categories\": [\"0\", \"2\", \"5\", \"6\", \"10\", \"13\", \"16\", \"18\", \"21\", \"24\", \"25\", \"27\", \"28\", \"29\", \"30\", \"31\", \"32\", \"33\", \"34\", \"35\", \"38\"], \"mode\": \"lines\", \"name\": \"f1_score_weighted_max\", \"stepped\": true, \"type\": \"scatter\", \"data\": [0.9824728186538567, 0.9824728186538567, 0.9824728186538567, 0.9824728186538567, 0.9824728186538567, 0.9824728186538567, 0.9824728186538567, 0.9824728186538567, 0.9824728186538567, 0.9824728186538567, 0.9824728186538567, 0.9824728186538567, 0.9824728186538567, 0.9824728186538567, 0.9824728186538567, 0.9824728186538567, 0.9824728186538567, 0.9824728186538567, 0.9824728186538567, 0.9824728186538567, 0.9824728186538567]}], \"recall_score_micro\": [{\"categories\": [\"0\", \"2\", \"5\", \"6\", \"10\", \"13\", \"16\", \"18\", \"21\", \"24\", \"25\", \"27\", \"28\", \"29\", \"30\", \"31\", \"32\", \"33\", \"34\", \"35\", \"38\"], \"mode\": \"markers\", \"name\": \"recall_score_micro\", \"stepped\": false, \"type\": \"scatter\", \"data\": [0.9826328502415459, 0.8482809983896941, 0.9484591384863125, 0.8720471014492753, 0.8569756441223833, 0.7284208937198068, 0.9397846215780997, 0.9490458937198069, 0.950780998389694, 0.9009782608695652, 0.8998188405797102, 0.8720239533011273, 0.9137288647342996, 0.8917210144927536, 0.8726046698872786, 0.8592904589371981, 0.9496225845410629, 0.9426660628019322, 0.8801368760064413, 0.8320833333333333, 0.9814744363929147]}, {\"categories\": [\"0\", \"2\", \"5\", \"6\", \"10\", \"13\", \"16\", \"18\", \"21\", \"24\", \"25\", \"27\", \"28\", \"29\", \"30\", \"31\", \"32\", \"33\", \"34\", \"35\", \"38\"], \"mode\": \"lines\", \"name\": \"recall_score_micro_max\", \"stepped\": true, \"type\": \"scatter\", \"data\": [0.9826328502415459, 0.9826328502415459, 0.9826328502415459, 0.9826328502415459, 0.9826328502415459, 0.9826328502415459, 0.9826328502415459, 0.9826328502415459, 0.9826328502415459, 0.9826328502415459, 0.9826328502415459, 0.9826328502415459, 0.9826328502415459, 0.9826328502415459, 0.9826328502415459, 0.9826328502415459, 0.9826328502415459, 0.9826328502415459, 0.9826328502415459, 0.9826328502415459, 0.9826328502415459]}], \"matthews_correlation\": [{\"categories\": [\"0\", \"2\", \"5\", \"6\", \"10\", \"13\", \"16\", \"18\", \"21\", \"24\", \"25\", \"27\", \"28\", \"29\", \"30\", \"31\", \"32\", \"33\", \"34\", \"35\", \"38\"], \"mode\": \"markers\", \"name\": \"matthews_correlation\", \"stepped\": false, \"type\": \"scatter\", \"data\": [0.9624785282073072, 0.6773424998818323, 0.889339821071566, 0.7615581404385862, 0.672599369844419, 0.25086215467150413, 0.876558186600349, 0.8918456388396949, 0.8955912469564852, 0.7918125030158333, 0.7860898955541314, 0.7201167672506261, 0.8237163254080925, 0.7841544782853228, 0.7240943369402851, 0.6994780311192343, 0.8907611606806766, 0.8756649414938118, 0.7372608734916883, 0.6047614351073005, 0.9599554617036617]}, {\"categories\": [\"0\", \"2\", \"5\", \"6\", \"10\", \"13\", \"16\", \"18\", \"21\", \"24\", \"25\", \"27\", \"28\", \"29\", \"30\", \"31\", \"32\", \"33\", \"34\", \"35\", \"38\"], \"mode\": \"lines\", \"name\": \"matthews_correlation_max\", \"stepped\": true, \"type\": \"scatter\", \"data\": [0.9624785282073072, 0.9624785282073072, 0.9624785282073072, 0.9624785282073072, 0.9624785282073072, 0.9624785282073072, 0.9624785282073072, 0.9624785282073072, 0.9624785282073072, 0.9624785282073072, 0.9624785282073072, 0.9624785282073072, 0.9624785282073072, 0.9624785282073072, 0.9624785282073072, 0.9624785282073072, 0.9624785282073072, 0.9624785282073072, 0.9624785282073072, 0.9624785282073072, 0.9624785282073072]}], \"balanced_accuracy\": [{\"categories\": [\"0\", \"2\", \"5\", \"6\", \"10\", \"13\", \"16\", \"18\", \"21\", \"24\", \"25\", \"27\", \"28\", \"29\", \"30\", \"31\", \"32\", \"33\", \"34\", \"35\", \"38\"], \"mode\": \"markers\", \"name\": \"balanced_accuracy\", \"stepped\": false, \"type\": \"scatter\", \"data\": [0.9624798064408936, 0.5555589141954306, 0.8374416891548314, 0.8994283240076418, 0.5534171859033274, 0.28274082096330105, 0.9439669036954331, 0.8599818616877432, 0.852984920988817, 0.655284673231887, 0.5639106369881246, 0.5664485726050492, 0.848463618624485, 0.8666899375698988, 0.5254818835335794, 0.5556104269304272, 0.8190494494812653, 0.7918728430695193, 0.5298547787456828, 0.43428192542484506, 0.9516163312291601]}, {\"categories\": [\"0\", \"2\", \"5\", \"6\", \"10\", \"13\", \"16\", \"18\", \"21\", \"24\", \"25\", \"27\", \"28\", \"29\", \"30\", \"31\", \"32\", \"33\", \"34\", \"35\", \"38\"], \"mode\": \"lines\", \"name\": \"balanced_accuracy_max\", \"stepped\": true, \"type\": \"scatter\", \"data\": [0.9624798064408936, 0.9624798064408936, 0.9624798064408936, 0.9624798064408936, 0.9624798064408936, 0.9624798064408936, 0.9624798064408936, 0.9624798064408936, 0.9624798064408936, 0.9624798064408936, 0.9624798064408936, 0.9624798064408936, 0.9624798064408936, 0.9624798064408936, 0.9624798064408936, 0.9624798064408936, 0.9624798064408936, 0.9624798064408936, 0.9624798064408936, 0.9624798064408936, 0.9624798064408936]}], \"AUC_micro\": [{\"categories\": [\"0\", \"2\", \"5\", \"6\", \"10\", \"13\", \"16\", \"18\", \"21\", \"24\", \"25\", \"27\", \"28\", \"29\", \"30\", \"31\", \"32\", \"33\", \"34\", \"35\", \"38\"], \"mode\": \"markers\", \"name\": \"AUC_micro\", \"stepped\": false, \"type\": \"scatter\", \"data\": [0.9994114807837794, 0.9801136678070974, 0.9961164764314479, 0.9839709425407147, 0.9824068961299984, 0.9556145051042049, 0.9948134717637728, 0.9967443996438315, 0.9968799211086218, 0.9910910717227536, 0.9872568291645841, 0.986066144147828, 0.9885566081385035, 0.9830907325836643, 0.9821620539396987, 0.9816633920172841, 0.997071291838418, 0.9965632119690415, 0.9855891628645553, 0.9758851080925574, 0.9993739593857613]}, {\"categories\": [\"0\", \"2\", \"5\", \"6\", \"10\", \"13\", \"16\", \"18\", \"21\", \"24\", \"25\", \"27\", \"28\", \"29\", \"30\", \"31\", \"32\", \"33\", \"34\", \"35\", \"38\"], \"mode\": \"lines\", \"name\": \"AUC_micro_max\", \"stepped\": true, \"type\": \"scatter\", \"data\": [0.9994114807837794, 0.9994114807837794, 0.9994114807837794, 0.9994114807837794, 0.9994114807837794, 0.9994114807837794, 0.9994114807837794, 0.9994114807837794, 0.9994114807837794, 0.9994114807837794, 0.9994114807837794, 0.9994114807837794, 0.9994114807837794, 0.9994114807837794, 0.9994114807837794, 0.9994114807837794, 0.9994114807837794, 0.9994114807837794, 0.9994114807837794, 0.9994114807837794, 0.9994114807837794]}], \"precision_score_macro\": [{\"categories\": [\"0\", \"2\", \"5\", \"6\", \"10\", \"13\", \"16\", \"18\", \"21\", \"24\", \"25\", \"27\", \"28\", \"29\", \"30\", \"31\", \"32\", \"33\", \"34\", \"35\", \"38\"], \"mode\": \"markers\", \"name\": \"precision_score_macro\", \"stepped\": false, \"type\": \"scatter\", \"data\": [0.9692311328293718, 0.5686516163649832, 0.874760999019134, 0.7539855782462187, 0.6404096871887289, 0.35392249796440334, 0.8868706373922239, 0.8463078065625128, 0.8542507391216968, 0.7391728412187409, 0.7275463479139695, 0.7038156302277474, 0.8037803093493473, 0.7418302490983016, 0.65562345270837, 0.6860057064049184, 0.8606491184287509, 0.8319982669041508, 0.6541798797458073, 0.504122445955448, 0.9674481495014318]}, {\"categories\": [\"0\", \"2\", \"5\", \"6\", \"10\", \"13\", \"16\", \"18\", \"21\", \"24\", \"25\", \"27\", \"28\", \"29\", \"30\", \"31\", \"32\", \"33\", \"34\", \"35\", \"38\"], \"mode\": \"lines\", \"name\": \"precision_score_macro_max\", \"stepped\": true, \"type\": \"scatter\", \"data\": [0.9692311328293718, 0.9692311328293718, 0.9692311328293718, 0.9692311328293718, 0.9692311328293718, 0.9692311328293718, 0.9692311328293718, 0.9692311328293718, 0.9692311328293718, 0.9692311328293718, 0.9692311328293718, 0.9692311328293718, 0.9692311328293718, 0.9692311328293718, 0.9692311328293718, 0.9692311328293718, 0.9692311328293718, 0.9692311328293718, 0.9692311328293718, 0.9692311328293718, 0.9692311328293718]}], \"precision_score_weighted\": [{\"categories\": [\"0\", \"2\", \"5\", \"6\", \"10\", \"13\", \"16\", \"18\", \"21\", \"24\", \"25\", \"27\", \"28\", \"29\", \"30\", \"31\", \"32\", \"33\", \"34\", \"35\", \"38\"], \"mode\": \"markers\", \"name\": \"precision_score_weighted\", \"stepped\": false, \"type\": \"scatter\", \"data\": [0.9832159651814981, 0.833132089948175, 0.9490154385154317, 0.9040767551310092, 0.8326342081999322, 0.6668218582232655, 0.9468829558744972, 0.9520228262289541, 0.9526466616876256, 0.900224417541267, 0.893486479642517, 0.8632941523705367, 0.9259559462965191, 0.9142452262394357, 0.8599098234181634, 0.862044866475178, 0.9495350775529672, 0.9411687434991789, 0.8637266890609586, 0.7851269637209475, 0.9820623689665924]}, {\"categories\": [\"0\", \"2\", \"5\", \"6\", \"10\", \"13\", \"16\", \"18\", \"21\", \"24\", \"25\", \"27\", \"28\", \"29\", \"30\", \"31\", \"32\", \"33\", \"34\", \"35\", \"38\"], \"mode\": \"lines\", \"name\": \"precision_score_weighted_max\", \"stepped\": true, \"type\": \"scatter\", \"data\": [0.9832159651814981, 0.9832159651814981, 0.9832159651814981, 0.9832159651814981, 0.9832159651814981, 0.9832159651814981, 0.9832159651814981, 0.9832159651814981, 0.9832159651814981, 0.9832159651814981, 0.9832159651814981, 0.9832159651814981, 0.9832159651814981, 0.9832159651814981, 0.9832159651814981, 0.9832159651814981, 0.9832159651814981, 0.9832159651814981, 0.9832159651814981, 0.9832159651814981, 0.9832159651814981]}], \"accuracy\": [{\"categories\": [\"0\", \"2\", \"5\", \"6\", \"10\", \"13\", \"16\", \"18\", \"21\", \"24\", \"25\", \"27\", \"28\", \"29\", \"30\", \"31\", \"32\", \"33\", \"34\", \"35\", \"38\"], \"mode\": \"markers\", \"name\": \"accuracy\", \"stepped\": false, \"type\": \"scatter\", \"data\": [0.9826328502415459, 0.8482809983896941, 0.9484591384863125, 0.8720471014492753, 0.8569756441223833, 0.7284208937198068, 0.9397846215780997, 0.9490458937198069, 0.950780998389694, 0.9009782608695652, 0.8998188405797102, 0.8720239533011273, 0.9137288647342996, 0.8917210144927536, 0.8726046698872786, 0.8592904589371981, 0.9496225845410629, 0.9426660628019322, 0.8801368760064413, 0.8320833333333333, 0.9814744363929147]}, {\"categories\": [\"0\", \"2\", \"5\", \"6\", \"10\", \"13\", \"16\", \"18\", \"21\", \"24\", \"25\", \"27\", \"28\", \"29\", \"30\", \"31\", \"32\", \"33\", \"34\", \"35\", \"38\"], \"mode\": \"lines\", \"name\": \"accuracy_max\", \"stepped\": true, \"type\": \"scatter\", \"data\": [0.9826328502415459, 0.9826328502415459, 0.9826328502415459, 0.9826328502415459, 0.9826328502415459, 0.9826328502415459, 0.9826328502415459, 0.9826328502415459, 0.9826328502415459, 0.9826328502415459, 0.9826328502415459, 0.9826328502415459, 0.9826328502415459, 0.9826328502415459, 0.9826328502415459, 0.9826328502415459, 0.9826328502415459, 0.9826328502415459, 0.9826328502415459, 0.9826328502415459, 0.9826328502415459]}], \"average_precision_score_weighted\": [{\"categories\": [\"0\", \"2\", \"5\", \"6\", \"10\", \"13\", \"16\", \"18\", \"21\", \"24\", \"25\", \"27\", \"28\", \"29\", \"30\", \"31\", \"32\", \"33\", \"34\", \"35\", \"38\"], \"mode\": \"markers\", \"name\": \"average_precision_score_weighted\", \"stepped\": false, \"type\": \"scatter\", \"data\": [0.9971952408718546, 0.9128810282176945, 0.9761325894796079, 0.9311360187945442, 0.9275113866758286, 0.9204515464558619, 0.978144705028822, 0.9752600699962063, 0.9778368383724283, 0.958208274891981, 0.9432958421512626, 0.9369893539260882, 0.9498155943225757, 0.9469841599146956, 0.9299083183224465, 0.9193636834481403, 0.9801941544427001, 0.9750769756435645, 0.9305498519183946, 0.900020391383483, 0.9962864029339955]}, {\"categories\": [\"0\", \"2\", \"5\", \"6\", \"10\", \"13\", \"16\", \"18\", \"21\", \"24\", \"25\", \"27\", \"28\", \"29\", \"30\", \"31\", \"32\", \"33\", \"34\", \"35\", \"38\"], \"mode\": \"lines\", \"name\": \"average_precision_score_weighted_max\", \"stepped\": true, \"type\": \"scatter\", \"data\": [0.9971952408718546, 0.9971952408718546, 0.9971952408718546, 0.9971952408718546, 0.9971952408718546, 0.9971952408718546, 0.9971952408718546, 0.9971952408718546, 0.9971952408718546, 0.9971952408718546, 0.9971952408718546, 0.9971952408718546, 0.9971952408718546, 0.9971952408718546, 0.9971952408718546, 0.9971952408718546, 0.9971952408718546, 0.9971952408718546, 0.9971952408718546, 0.9971952408718546, 0.9971952408718546]}], \"log_loss\": [{\"categories\": [\"0\", \"2\", \"5\", \"6\", \"10\", \"13\", \"16\", \"18\", \"21\", \"24\", \"25\", \"27\", \"28\", \"29\", \"30\", \"31\", \"32\", \"33\", \"34\", \"35\", \"38\"], \"mode\": \"markers\", \"name\": \"log_loss\", \"stepped\": false, \"type\": \"scatter\", \"data\": [0.0520199394669666, 0.3355405285579259, 0.23632347651496388, 0.4221406988931049, 0.36680472915724943, 0.5430797394894441, 0.2046636661600548, 0.22455660654886567, 0.30359447096967535, 0.32856390602074703, 0.3079602470935017, 0.28738759455775814, 0.25781704677081935, 0.7045469133199168, 0.36595080404794017, 0.3463486618100174, 0.16536428375285273, 0.1739583738038658, 0.3298844743346916, 0.408930249473018, 0.10879979186516037]}, {\"categories\": [\"0\", \"2\", \"5\", \"6\", \"10\", \"13\", \"16\", \"18\", \"21\", \"24\", \"25\", \"27\", \"28\", \"29\", \"30\", \"31\", \"32\", \"33\", \"34\", \"35\", \"38\"], \"mode\": \"lines\", \"name\": \"log_loss_min\", \"stepped\": true, \"type\": \"scatter\", \"data\": [0.0520199394669666, 0.0520199394669666, 0.0520199394669666, 0.0520199394669666, 0.0520199394669666, 0.0520199394669666, 0.0520199394669666, 0.0520199394669666, 0.0520199394669666, 0.0520199394669666, 0.0520199394669666, 0.0520199394669666, 0.0520199394669666, 0.0520199394669666, 0.0520199394669666, 0.0520199394669666, 0.0520199394669666, 0.0520199394669666, 0.0520199394669666, 0.0520199394669666, 0.0520199394669666]}], \"f1_score_micro\": [{\"categories\": [\"0\", \"2\", \"5\", \"6\", \"10\", \"13\", \"16\", \"18\", \"21\", \"24\", \"25\", \"27\", \"28\", \"29\", \"30\", \"31\", \"32\", \"33\", \"34\", \"35\", \"38\"], \"mode\": \"markers\", \"name\": \"f1_score_micro\", \"stepped\": false, \"type\": \"scatter\", \"data\": [0.9826328502415459, 0.8482809983896941, 0.9484591384863125, 0.8720471014492753, 0.8569756441223833, 0.7284208937198068, 0.9397846215780997, 0.9490458937198069, 0.950780998389694, 0.9009782608695652, 0.8998188405797102, 0.8720239533011273, 0.9137288647342995, 0.8917210144927536, 0.8726046698872786, 0.8592904589371981, 0.9496225845410629, 0.9426660628019322, 0.8801368760064411, 0.8320833333333333, 0.9814744363929147]}, {\"categories\": [\"0\", \"2\", \"5\", \"6\", \"10\", \"13\", \"16\", \"18\", \"21\", \"24\", \"25\", \"27\", \"28\", \"29\", \"30\", \"31\", \"32\", \"33\", \"34\", \"35\", \"38\"], \"mode\": \"lines\", \"name\": \"f1_score_micro_max\", \"stepped\": true, \"type\": \"scatter\", \"data\": [0.9826328502415459, 0.9826328502415459, 0.9826328502415459, 0.9826328502415459, 0.9826328502415459, 0.9826328502415459, 0.9826328502415459, 0.9826328502415459, 0.9826328502415459, 0.9826328502415459, 0.9826328502415459, 0.9826328502415459, 0.9826328502415459, 0.9826328502415459, 0.9826328502415459, 0.9826328502415459, 0.9826328502415459, 0.9826328502415459, 0.9826328502415459, 0.9826328502415459, 0.9826328502415459]}], \"precision_score_micro\": [{\"categories\": [\"0\", \"2\", \"5\", \"6\", \"10\", \"13\", \"16\", \"18\", \"21\", \"24\", \"25\", \"27\", \"28\", \"29\", \"30\", \"31\", \"32\", \"33\", \"34\", \"35\", \"38\"], \"mode\": \"markers\", \"name\": \"precision_score_micro\", \"stepped\": false, \"type\": \"scatter\", \"data\": [0.9826328502415459, 0.8482809983896941, 0.9484591384863125, 0.8720471014492753, 0.8569756441223833, 0.7284208937198068, 0.9397846215780997, 0.9490458937198069, 0.950780998389694, 0.9009782608695652, 0.8998188405797102, 0.8720239533011273, 0.9137288647342996, 0.8917210144927536, 0.8726046698872786, 0.8592904589371981, 0.9496225845410629, 0.9426660628019322, 0.8801368760064413, 0.8320833333333333, 0.9814744363929147]}, {\"categories\": [\"0\", \"2\", \"5\", \"6\", \"10\", \"13\", \"16\", \"18\", \"21\", \"24\", \"25\", \"27\", \"28\", \"29\", \"30\", \"31\", \"32\", \"33\", \"34\", \"35\", \"38\"], \"mode\": \"lines\", \"name\": \"precision_score_micro_max\", \"stepped\": true, \"type\": \"scatter\", \"data\": [0.9826328502415459, 0.9826328502415459, 0.9826328502415459, 0.9826328502415459, 0.9826328502415459, 0.9826328502415459, 0.9826328502415459, 0.9826328502415459, 0.9826328502415459, 0.9826328502415459, 0.9826328502415459, 0.9826328502415459, 0.9826328502415459, 0.9826328502415459, 0.9826328502415459, 0.9826328502415459, 0.9826328502415459, 0.9826328502415459, 0.9826328502415459, 0.9826328502415459, 0.9826328502415459]}]}, \"metricName\": null, \"primaryMetricName\": \"AUC_weighted\", \"showLegend\": false}, \"run_metrics\": [{\"name\": \"experiment_status\", \"run_id\": \"AutoML_6fd60325-1647-4b1c-9f54-8e72a82deb6a\", \"categories\": [0, 1, 2, 3, 4, 5, 6, 7, 8, 9, 10, 11, 12, 13, 14], \"series\": [{\"data\": [\"DatasetEvaluation\", \"FeaturesGeneration\", \"DatasetFeaturization\", \"DatasetFeaturizationCompleted\", \"DatasetBalancing\", \"DatasetCrossValidationSplit\", \"ModelSelection\", \"BestRunExplainModel\", \"ModelExplanationDataSetSetup\", \"PickSurrogateModel\", \"EngineeredFeatureExplanations\", \"EngineeredFeatureExplanations\", \"RawFeaturesExplanations\", \"RawFeaturesExplanations\", \"BestRunExplainModel\"]}]}, {\"name\": \"experiment_status_description\", \"run_id\": \"AutoML_6fd60325-1647-4b1c-9f54-8e72a82deb6a\", \"categories\": [0, 1, 2, 3, 4, 5, 6, 7, 8, 9, 10, 11, 12, 13, 14], \"series\": [{\"data\": [\"Gathering dataset statistics.\", \"Generating features for the dataset.\", \"Beginning to fit featurizers and featurize the dataset.\", \"Completed fit featurizers and featurizing the dataset.\", \"Performing class balancing sweeping\", \"Generating individually featurized CV splits.\", \"Beginning model selection.\", \"Best run model explanations started\", \"Model explanations data setup completed\", \"Choosing LightGBM as the surrogate model for explanations\", \"Computation of engineered features started\", \"Computation of engineered features completed\", \"Computation of raw features started\", \"Computation of raw features completed\", \"Best run model explanations completed\"]}]}, {\"name\": \"recall_score_macro\", \"run_id\": \"AutoML_6fd60325-1647-4b1c-9f54-8e72a82deb6a\", \"categories\": [0], \"series\": [{\"data\": [0.9516163312291601]}]}, {\"name\": \"balanced_accuracy\", \"run_id\": \"AutoML_6fd60325-1647-4b1c-9f54-8e72a82deb6a\", \"categories\": [0], \"series\": [{\"data\": [0.9516163312291601]}]}, {\"name\": \"f1_score_weighted\", \"run_id\": \"AutoML_6fd60325-1647-4b1c-9f54-8e72a82deb6a\", \"categories\": [0], \"series\": [{\"data\": [0.9812250630451503]}]}, {\"name\": \"log_loss\", \"run_id\": \"AutoML_6fd60325-1647-4b1c-9f54-8e72a82deb6a\", \"categories\": [0], \"series\": [{\"data\": [0.10879979186516037]}]}, {\"name\": \"average_precision_score_macro\", \"run_id\": \"AutoML_6fd60325-1647-4b1c-9f54-8e72a82deb6a\", \"categories\": [0], \"series\": [{\"data\": [0.9916712744562265]}]}, {\"name\": \"average_precision_score_weighted\", \"run_id\": \"AutoML_6fd60325-1647-4b1c-9f54-8e72a82deb6a\", \"categories\": [0], \"series\": [{\"data\": [0.9962864029339955]}]}, {\"name\": \"average_precision_score_micro\", \"run_id\": \"AutoML_6fd60325-1647-4b1c-9f54-8e72a82deb6a\", \"categories\": [0], \"series\": [{\"data\": [0.9981149256895304]}]}, {\"name\": \"precision_score_weighted\", \"run_id\": \"AutoML_6fd60325-1647-4b1c-9f54-8e72a82deb6a\", \"categories\": [0], \"series\": [{\"data\": [0.9820623689665924]}]}, {\"name\": \"f1_score_micro\", \"run_id\": \"AutoML_6fd60325-1647-4b1c-9f54-8e72a82deb6a\", \"categories\": [0], \"series\": [{\"data\": [0.9814744363929147]}]}, {\"name\": \"AUC_micro\", \"run_id\": \"AutoML_6fd60325-1647-4b1c-9f54-8e72a82deb6a\", \"categories\": [0], \"series\": [{\"data\": [0.9993739593857613]}]}, {\"name\": \"accuracy\", \"run_id\": \"AutoML_6fd60325-1647-4b1c-9f54-8e72a82deb6a\", \"categories\": [0], \"series\": [{\"data\": [0.9814744363929147]}]}, {\"name\": \"weighted_accuracy\", \"run_id\": \"AutoML_6fd60325-1647-4b1c-9f54-8e72a82deb6a\", \"categories\": [0], \"series\": [{\"data\": [0.9871058863769804]}]}, {\"name\": \"f1_score_macro\", \"run_id\": \"AutoML_6fd60325-1647-4b1c-9f54-8e72a82deb6a\", \"categories\": [0], \"series\": [{\"data\": [0.9573415039889248]}]}, {\"name\": \"recall_score_weighted\", \"run_id\": \"AutoML_6fd60325-1647-4b1c-9f54-8e72a82deb6a\", \"categories\": [0], \"series\": [{\"data\": [0.9814744363929147]}]}, {\"name\": \"precision_score_macro\", \"run_id\": \"AutoML_6fd60325-1647-4b1c-9f54-8e72a82deb6a\", \"categories\": [0], \"series\": [{\"data\": [0.9674481495014318]}]}, {\"name\": \"precision_score_micro\", \"run_id\": \"AutoML_6fd60325-1647-4b1c-9f54-8e72a82deb6a\", \"categories\": [0], \"series\": [{\"data\": [0.9814744363929147]}]}, {\"name\": \"recall_score_micro\", \"run_id\": \"AutoML_6fd60325-1647-4b1c-9f54-8e72a82deb6a\", \"categories\": [0], \"series\": [{\"data\": [0.9814744363929147]}]}, {\"name\": \"matthews_correlation\", \"run_id\": \"AutoML_6fd60325-1647-4b1c-9f54-8e72a82deb6a\", \"categories\": [0], \"series\": [{\"data\": [0.9599554617036617]}]}, {\"name\": \"AUC_weighted\", \"run_id\": \"AutoML_6fd60325-1647-4b1c-9f54-8e72a82deb6a\", \"categories\": [0], \"series\": [{\"data\": [0.9988019491456818]}]}, {\"name\": \"AUC_macro\", \"run_id\": \"AutoML_6fd60325-1647-4b1c-9f54-8e72a82deb6a\", \"categories\": [0], \"series\": [{\"data\": [0.9989320936254296]}]}, {\"name\": \"norm_macro_recall\", \"run_id\": \"AutoML_6fd60325-1647-4b1c-9f54-8e72a82deb6a\", \"categories\": [0], \"series\": [{\"data\": [0.9354884416388801]}]}], \"run_logs\": \"\\nRun is completed.\", \"graph\": {}, \"widget_settings\": {\"childWidgetDisplay\": \"popup\", \"send_telemetry\": false, \"log_level\": \"INFO\", \"sdk_version\": \"1.50.0\"}, \"loading\": false}"
     },
     "metadata": {},
     "output_type": "display_data"
    }
   ],
   "source": [
    "from azureml.widgets import RunDetails\n",
    "\n",
    "RunDetails(remote_run).show()"
   ]
  },
  {
   "cell_type": "markdown",
   "metadata": {},
   "source": [
    "## Best Model\n",
    "\n",
    "TODO: In the cell below, get the best model from the automl experiments and display all the properties of the model.\n",
    "\n"
   ]
  },
  {
   "cell_type": "code",
   "execution_count": 22,
   "metadata": {
    "gather": {
     "logged": 1684484719474
    },
    "jupyter": {
     "outputs_hidden": true,
     "source_hidden": false
    },
    "nteract": {
     "transient": {
      "deleting": false
     }
    }
   },
   "outputs": [
    {
     "data": {
      "text/html": [
       "<table style=\"width:100%\"><tr><th>Experiment</th><th>Id</th><th>Type</th><th>Status</th><th>Details Page</th><th>Docs Page</th></tr><tr><td>auto-ml</td><td>AutoML_6fd60325-1647-4b1c-9f54-8e72a82deb6a</td><td>automl</td><td>Completed</td><td><a href=\"https://ml.azure.com/runs/AutoML_6fd60325-1647-4b1c-9f54-8e72a82deb6a?wsid=/subscriptions/9e65f93e-bdd8-437b-b1e8-0647cd6098f7/resourcegroups/aml-quickstarts-233975/workspaces/quick-starts-ws-233975&amp;tid=660b3398-b80e-49d2-bc5b-ac1dc93b5254\" target=\"_blank\" rel=\"noopener\">Link to Azure Machine Learning studio</a></td><td><a href=\"https://docs.microsoft.com/en-us/python/api/overview/azure/ml/intro?view=azure-ml-py\" target=\"_blank\" rel=\"noopener\">Link to Documentation</a></td></tr></table>"
      ]
     },
     "metadata": {},
     "output_type": "display_data"
    },
    {
     "name": "stdout",
     "output_type": "stream",
     "text": [
      "\n",
      "\n",
      "********************************************************************************************\n",
      "DATA GUARDRAILS: \n",
      "\n",
      "TYPE:         Cross validation\n",
      "STATUS:       DONE\n",
      "DESCRIPTION:  In order to accurately evaluate the model(s) trained by AutoML, we leverage a dataset that the model is not trained on. Hence, if the user doesn't provide an explicit validation dataset, a part of the training dataset is used to achieve this. For smaller datasets (fewer than 20,000 samples), cross-validation is leveraged, else a single hold-out set is split from the training data to serve as the validation dataset. Hence, for your input data we leverage cross-validation with 10 folds, if the number of training samples are fewer than 1000, and 3 folds in all other cases.\n",
      "              Learn more about cross validation: https://aka.ms/AutomatedMLCrossValidation\n",
      "DETAILS:      \n",
      "+------------------------------+\n",
      "|Number of folds               |\n",
      "+==============================+\n",
      "|3                             |\n",
      "+------------------------------+\n",
      "\n",
      "********************************************************************************************\n",
      "\n",
      "TYPE:         Class balancing detection\n",
      "STATUS:       ALERTED\n",
      "DESCRIPTION:  To decrease model bias, please cancel the current run and fix balancing problem.\n",
      "              Learn more about imbalanced data: https://aka.ms/AutomatedMLImbalancedData\n",
      "DETAILS:      Imbalanced data can lead to a falsely perceived positive effect of a model's accuracy because the input data has bias towards one class.\n",
      "+------------------------------+--------------------------------+--------------------------------------+\n",
      "|Size of the smallest class    |Name/Label of the smallest class|Number of samples in the training data|\n",
      "+==============================+================================+======================================+\n",
      "|65                            |vgood                           |1727                                  |\n",
      "+------------------------------+--------------------------------+--------------------------------------+\n",
      "\n",
      "********************************************************************************************\n",
      "\n",
      "TYPE:         Missing feature values imputation\n",
      "STATUS:       PASSED\n",
      "DESCRIPTION:  No feature missing values were detected in the training data.\n",
      "              Learn more about missing value imputation: https://aka.ms/AutomatedMLFeaturization\n",
      "\n",
      "********************************************************************************************\n",
      "\n",
      "TYPE:         High cardinality feature detection\n",
      "STATUS:       PASSED\n",
      "DESCRIPTION:  Your inputs were analyzed, and no high cardinality features were detected.\n",
      "              Learn more about high cardinality feature handling: https://aka.ms/AutomatedMLFeaturization\n",
      "\n",
      "********************************************************************************************\n",
      "\n",
      "********************************************************************************************\n",
      "ITER: The iteration being evaluated.\n",
      "PIPELINE: A summary description of the pipeline being evaluated.\n",
      "DURATION: Time taken for the current iteration.\n",
      "METRIC: The result of computing score on the fitted pipeline.\n",
      "BEST: The best observed score thus far.\n",
      "********************************************************************************************\n",
      "\n",
      " ITER   PIPELINE                                       DURATION            METRIC      BEST\n",
      "    0   MaxAbsScaler LightGBM                          0:00:15             0.9988    0.9988\n",
      "    1   MaxAbsScaler XGBoostClassifier                 0:00:13             0.9986    0.9988\n",
      "    2   MaxAbsScaler ExtremeRandomTrees                0:00:12             0.9660    0.9988\n",
      "    3   MaxAbsScaler RandomForest                      0:00:11             0.9667    0.9988\n",
      "    4   StandardScalerWrapper LightGBM                 0:00:13             0.9717    0.9988\n",
      "    5   SparseNormalizer XGBoostClassifier             0:00:17             0.9947    0.9988\n",
      "    6   SparseNormalizer RandomForest                  0:00:12             0.9777    0.9988\n",
      "    7   StandardScalerWrapper XGBoostClassifier        0:00:12             0.9903    0.9988\n",
      "    8   SparseNormalizer XGBoostClassifier             0:00:13             0.9952    0.9988\n",
      "    9   MaxAbsScaler RandomForest                      0:00:11             0.9476    0.9988\n",
      "   10   SparseNormalizer LightGBM                      0:00:11             0.9748    0.9988\n",
      "   11   MaxAbsScaler ExtremeRandomTrees                0:00:14             0.9854    0.9988\n",
      "   12   StandardScalerWrapper XGBoostClassifier        0:00:14             0.9951    0.9988\n",
      "   13   StandardScalerWrapper ExtremeRandomTrees       0:00:11             0.9730    0.9988\n",
      "   14   StandardScalerWrapper RandomForest             0:00:13             0.9963    0.9988\n",
      "   15   MaxAbsScaler LightGBM                          0:00:12             0.9862    0.9988\n",
      "   16   MaxAbsScaler LogisticRegression                0:00:15             0.9886    0.9988\n",
      "   17   StandardScalerWrapper ExtremeRandomTrees       0:00:15             0.9468    0.9988\n",
      "   18   StandardScalerWrapper XGBoostClassifier        0:00:12             0.9943    0.9988\n",
      "   19   MaxAbsScaler ExtremeRandomTrees                0:00:13             0.9848    0.9988\n",
      "   20   MaxAbsScaler LogisticRegression                0:05:36             0.9831    0.9988\n",
      "   21   StandardScalerWrapper XGBoostClassifier        0:00:32             0.9945    0.9988\n",
      "   22   StandardScalerWrapper XGBoostClassifier        0:05:42             0.9979    0.9988\n",
      "   23   MaxAbsScaler RandomForest                      0:00:48             0.9495    0.9988\n",
      "   24   SparseNormalizer XGBoostClassifier             0:00:29             0.9882    0.9988\n",
      "   25   MaxAbsScaler LightGBM                          0:00:36             0.9844    0.9988\n",
      "   26   MaxAbsScaler LinearSVM                         0:00:30             0.9802    0.9988\n",
      "   27   MaxAbsScaler LinearSVM                         0:00:35             0.9789    0.9988\n",
      "   28   MaxAbsScaler LogisticRegression                0:00:35             0.9856    0.9988\n",
      "   29   MaxAbsScaler LogisticRegression                0:00:33             0.9751    0.9988\n",
      "   30   SparseNormalizer LightGBM                      0:00:37             0.9792    0.9988\n",
      "   31   MaxAbsScaler LightGBM                          0:00:30             0.9724    0.9988\n",
      "   32   StandardScalerWrapper LightGBM                 0:00:35             0.9958    0.9988\n",
      "   33   StandardScalerWrapper LightGBM                 0:00:35             0.9952    0.9988\n",
      "   34   SparseNormalizer LightGBM                      0:00:29             0.9818    0.9988\n",
      "   35   SparseNormalizer LightGBM                      0:00:30             0.9666    0.9988\n",
      "   36                                                  0:00:06                nan    0.9988\n",
      "   37                                                  0:00:01                nan    0.9988\n",
      "   38    VotingEnsemble                                0:01:18             0.9988    0.9988\n",
      "   39    StackEnsemble                                 0:01:17             0.9983    0.9988\n",
      "{'runTemplate': 'automl_child', 'pipeline_id': '__AutoML_Ensemble__', 'pipeline_spec': '{\"pipeline_id\":\"__AutoML_Ensemble__\",\"objects\":[{\"module\":\"azureml.train.automl.ensemble\",\"class_name\":\"Ensemble\",\"spec_class\":\"sklearn\",\"param_args\":[],\"param_kwargs\":{\"automl_settings\":\"{\\'task_type\\':\\'classification\\',\\'primary_metric\\':\\'AUC_weighted\\',\\'verbosity\\':20,\\'ensemble_iterations\\':15,\\'is_timeseries\\':False,\\'name\\':\\'auto-ml\\',\\'compute_target\\':\\'auto-ml\\',\\'subscription_id\\':\\'9e65f93e-bdd8-437b-b1e8-0647cd6098f7\\',\\'region\\':\\'westeurope\\',\\'spark_service\\':None}\",\"ensemble_run_id\":\"AutoML_6fd60325-1647-4b1c-9f54-8e72a82deb6a_38\",\"experiment_name\":\"auto-ml\",\"workspace_name\":\"quick-starts-ws-233975\",\"subscription_id\":\"9e65f93e-bdd8-437b-b1e8-0647cd6098f7\",\"resource_group_name\":\"aml-quickstarts-233975\"}}]}', 'training_percent': '100', 'predicted_cost': None, 'iteration': '38', '_aml_system_scenario_identification': 'Remote.Child', '_azureml.ComputeTargetType': 'amlctrain', 'ContentSnapshotId': 'd015cd88-9a80-4945-8246-a9703d4fbbb6', 'ProcessInfoFile': 'azureml-logs/process_info.json', 'ProcessStatusFile': 'azureml-logs/process_status.json', 'run_preprocessor': '', 'run_algorithm': 'VotingEnsemble', 'ensembled_iterations': '[0, 1, 22, 14, 32, 13]', 'ensembled_algorithms': \"['LightGBM', 'XGBoostClassifier', 'XGBoostClassifier', 'RandomForest', 'LightGBM', 'ExtremeRandomTrees']\", 'ensembled_run_ids': \"['AutoML_6fd60325-1647-4b1c-9f54-8e72a82deb6a_0', 'AutoML_6fd60325-1647-4b1c-9f54-8e72a82deb6a_1', 'AutoML_6fd60325-1647-4b1c-9f54-8e72a82deb6a_22', 'AutoML_6fd60325-1647-4b1c-9f54-8e72a82deb6a_14', 'AutoML_6fd60325-1647-4b1c-9f54-8e72a82deb6a_32', 'AutoML_6fd60325-1647-4b1c-9f54-8e72a82deb6a_13']\", 'ensemble_weights': '[0.5333333333333333, 0.13333333333333333, 0.06666666666666667, 0.06666666666666667, 0.06666666666666667, 0.13333333333333333]', 'best_individual_pipeline_score': '0.9987787177700516', 'best_individual_iteration': '0', 'model_output_path': 'outputs/model.pkl', 'conda_env_data_location': 'aml://artifact/ExperimentRun/dcid.AutoML_6fd60325-1647-4b1c-9f54-8e72a82deb6a_38/outputs/conda_env_v_1_0_0.yml', 'model_data_location': 'aml://artifact/ExperimentRun/dcid.AutoML_6fd60325-1647-4b1c-9f54-8e72a82deb6a_38/outputs/model.pkl', 'model_size_on_disk': '7815143', 'scoring_data_location': 'aml://artifact/ExperimentRun/dcid.AutoML_6fd60325-1647-4b1c-9f54-8e72a82deb6a_38/outputs/scoring_file_v_1_0_0.py', 'scoring_data_location_v2': 'aml://artifact/ExperimentRun/dcid.AutoML_6fd60325-1647-4b1c-9f54-8e72a82deb6a_38/outputs/scoring_file_v_2_0_0.py', 'scoring_data_location_pbi': 'aml://artifact/ExperimentRun/dcid.AutoML_6fd60325-1647-4b1c-9f54-8e72a82deb6a_38/outputs/scoring_file_pbi_v_1_0_0.py', 'model_exp_support': 'True', 'pipeline_graph_version': '1.0.0', 'model_name': 'AutoML6fd60325138', 'score': '0.9988019491456818', 'score_table': 'NaN', 'run_properties': 'classification_labels=numpy.array([0, 1, 2, 3]', 'pipeline_script': '{\"pipeline_id\":\"__AutoML_Ensemble__\",\"objects\":[{\"module\":\"azureml.train.automl.ensemble\",\"class_name\":\"Ensemble\",\"spec_class\":\"sklearn\",\"param_args\":[],\"param_kwargs\":{\"automl_settings\":\"{\\'task_type\\':\\'classification\\',\\'primary_metric\\':\\'AUC_weighted\\',\\'verbosity\\':20,\\'ensemble_iterations\\':15,\\'is_timeseries\\':False,\\'name\\':\\'auto-ml\\',\\'compute_target\\':\\'auto-ml\\',\\'subscription_id\\':\\'9e65f93e-bdd8-437b-b1e8-0647cd6098f7\\',\\'region\\':\\'westeurope\\',\\'spark_service\\':None}\",\"ensemble_run_id\":\"AutoML_6fd60325-1647-4b1c-9f54-8e72a82deb6a_38\",\"experiment_name\":\"auto-ml\",\"workspace_name\":\"quick-starts-ws-233975\",\"subscription_id\":\"9e65f93e-bdd8-437b-b1e8-0647cd6098f7\",\"resource_group_name\":\"aml-quickstarts-233975\"}}]}', 'training_type': 'MeanCrossValidation', 'fit_time': '29', 'goal': 'AUC_weighted_max', 'primary_metric': 'AUC_weighted', 'errors': '{}', 'onnx_model_resource': '{}', 'dependencies_versions': '{\"azureml-training-tabular\": \"1.50.0\", \"azureml-train-restclients-hyperdrive\": \"1.50.0\", \"azureml-train-core\": \"1.50.0\", \"azureml-train-automl-runtime\": \"1.50.0\", \"azureml-train-automl-client\": \"1.50.0\", \"azureml-telemetry\": \"1.50.0\", \"azureml-responsibleai\": \"1.50.0\", \"azureml-pipeline-core\": \"1.50.0.post1\", \"azureml-mlflow\": \"1.50.0\", \"azureml-interpret\": \"1.50.0\", \"azureml-inference-server-http\": \"0.8.3\", \"azureml-defaults\": \"1.50.0\", \"azureml-dataset-runtime\": \"1.50.0\", \"azureml-dataprep\": \"4.10.6\", \"azureml-dataprep-rslex\": \"2.17.5\", \"azureml-dataprep-native\": \"38.0.0\", \"azureml-core\": \"1.50.0\", \"azureml-automl-runtime\": \"1.50.0\", \"azureml-automl-core\": \"1.50.0\"}', 'num_cores': '2', 'num_logical_cores': '2', 'peak_memory_usage': '1171508', 'vm_configuration': 'x86_64', 'core_hours': '0.011125023055555556', 'feature_skus': 'automatedml_sdk_guardrails'}\n"
     ]
    },
    {
     "name": "stderr",
     "output_type": "stream",
     "text": [
      "WARNING:root:The model you attempted to retrieve requires 'azureml-train-automl-runtime' to be installed at '==1.50.0'. Please install 'azureml-train-automl-runtime==1.50.0' (e.g. `pip install azureml-train-automl-runtime==1.50.0`) and then rerun the previous command.\n"
     ]
    }
   ],
   "source": [
    "#Wait for the AutoML run to complete\n",
    "remote_run.wait_for_completion(show_output=True)\n",
    "\n",
    "#\"best_run\" contains the model, metrics, and run ID\n",
    "#\"fitted_model\" contains the actual trained model object\n",
    "best_run, fitted_model = remote_run.get_output()\n",
    "\n",
    "#\"best_run_metrics\" contains a dictionary of the metrics associated with the best run.\n",
    "best_run_metrics = best_run.get_metrics()\n",
    "\n",
    "# Display all the properties of the best model\n",
    "print(best_run.get_properties())\n"
   ]
  },
  {
   "cell_type": "code",
   "execution_count": 26,
   "metadata": {
    "gather": {
     "logged": 1684485520839
    },
    "jupyter": {
     "outputs_hidden": false,
     "source_hidden": false
    },
    "nteract": {
     "transient": {
      "deleting": false
     }
    }
   },
   "outputs": [],
   "source": [
    "#TODO: Save the best model\n",
    "# Save the fitted model as a pickle file\n",
    "filename = 'best_model.pkl'\n",
    "with open(filename, 'wb') as file:\n",
    "    pickle.dump(fitted_model, file)\n"
   ]
  },
  {
   "cell_type": "markdown",
   "metadata": {},
   "source": [
    "## Model Deployment\n",
    "\n",
    "Remember you have to deploy only one of the two models you trained but you still need to register both the models. Perform the steps in the rest of this notebook only if you wish to deploy this model.\n",
    "\n",
    "TODO: In the cell below, register the model, create an inference config and deploy the model as a web service."
   ]
  },
  {
   "cell_type": "code",
   "execution_count": 25,
   "metadata": {
    "gather": {
     "logged": 1684485364504
    },
    "jupyter": {
     "outputs_hidden": false,
     "source_hidden": false
    },
    "nteract": {
     "transient": {
      "deleting": false
     }
    }
   },
   "outputs": [
    {
     "data": {
      "text/plain": [
       "Model(workspace=Workspace.create(name='quick-starts-ws-233975', subscription_id='9e65f93e-bdd8-437b-b1e8-0647cd6098f7', resource_group='aml-quickstarts-233975'), name=best_aml_model, id=best_aml_model:1, version=1, tags={}, properties={})"
      ]
     },
     "execution_count": 25,
     "metadata": {},
     "output_type": "execute_result"
    }
   ],
   "source": [
    "best_run.register_model(model_name='best_aml_model', model_path='./outputs/')"
   ]
  },
  {
   "cell_type": "code",
   "execution_count": 30,
   "metadata": {
    "gather": {
     "logged": 1684487244740
    },
    "jupyter": {
     "outputs_hidden": false,
     "source_hidden": false
    },
    "nteract": {
     "transient": {
      "deleting": false
     }
    }
   },
   "outputs": [
    {
     "name": "stderr",
     "output_type": "stream",
     "text": [
      "ERROR:azureml.core.model:Error, provided model path \"\" cannot be found\n",
      "\n"
     ]
    },
    {
     "ename": "WebserviceException",
     "evalue": "WebserviceException:\n\tMessage: Error, provided model path \"\" cannot be found\n\tInnerException None\n\tErrorResponse \n{\n    \"error\": {\n        \"message\": \"Error, provided model path \\\"\\\" cannot be found\"\n    }\n}",
     "output_type": "error",
     "traceback": [
      "\u001b[0;31m---------------------------------------------------------------------------\u001b[0m",
      "\u001b[0;31mWebserviceException\u001b[0m                       Traceback (most recent call last)",
      "Cell \u001b[0;32mIn[30], line 3\u001b[0m\n\u001b[1;32m      1\u001b[0m \u001b[38;5;28;01mfrom\u001b[39;00m \u001b[38;5;21;01mazureml\u001b[39;00m\u001b[38;5;21;01m.\u001b[39;00m\u001b[38;5;21;01mcore\u001b[39;00m \u001b[38;5;28;01mimport\u001b[39;00m Model\n\u001b[0;32m----> 3\u001b[0m model \u001b[38;5;241m=\u001b[39m \u001b[43mModel\u001b[49m\u001b[38;5;241;43m.\u001b[39;49m\u001b[43mregister\u001b[49m\u001b[43m(\u001b[49m\u001b[43mworkspace\u001b[49m\u001b[38;5;241;43m=\u001b[39;49m\u001b[43mws\u001b[49m\u001b[43m,\u001b[49m\u001b[43m \u001b[49m\n\u001b[1;32m      4\u001b[0m \u001b[43m    \u001b[49m\u001b[43mmodel_path\u001b[49m\u001b[38;5;241;43m=\u001b[39;49m\u001b[38;5;124;43m'\u001b[39;49m\u001b[38;5;124;43m'\u001b[39;49m\u001b[43m,\u001b[49m\u001b[43m \u001b[49m\n\u001b[1;32m      5\u001b[0m \u001b[43m    \u001b[49m\u001b[43mmodel_name\u001b[49m\u001b[38;5;241;43m=\u001b[39;49m\u001b[38;5;124;43m'\u001b[39;49m\u001b[38;5;124;43mbest_aml_model\u001b[39;49m\u001b[38;5;124;43m'\u001b[39;49m\u001b[43m)\u001b[49m\n",
      "File \u001b[0;32m/anaconda/envs/jupyter_env/lib/python3.8/site-packages/azureml/core/model.py:584\u001b[0m, in \u001b[0;36mModel.register\u001b[0;34m(workspace, model_path, model_name, tags, properties, description, datasets, model_framework, model_framework_version, child_paths, sample_input_dataset, sample_output_dataset, resource_configuration)\u001b[0m\n\u001b[1;32m    580\u001b[0m \u001b[38;5;28;01mif\u001b[39;00m model_framework \u001b[38;5;129;01mis\u001b[39;00m \u001b[38;5;28;01mNone\u001b[39;00m \u001b[38;5;129;01mand\u001b[39;00m model_framework_version \u001b[38;5;129;01mis\u001b[39;00m \u001b[38;5;129;01mnot\u001b[39;00m \u001b[38;5;28;01mNone\u001b[39;00m:\n\u001b[1;32m    581\u001b[0m     \u001b[38;5;28;01mraise\u001b[39;00m WebserviceException(\u001b[38;5;124m\"\u001b[39m\u001b[38;5;124mModel framework version cannot be provided without a valid framework\u001b[39m\u001b[38;5;124m\"\u001b[39m,\n\u001b[1;32m    582\u001b[0m                               logger\u001b[38;5;241m=\u001b[39mmodule_logger)\n\u001b[0;32m--> 584\u001b[0m \u001b[43mModel\u001b[49m\u001b[38;5;241;43m.\u001b[39;49m\u001b[43m_validate_model_path\u001b[49m\u001b[43m(\u001b[49m\u001b[43mmodel_path\u001b[49m\u001b[43m,\u001b[49m\u001b[43m \u001b[49m\u001b[43mchild_paths\u001b[49m\u001b[43m)\u001b[49m\n\u001b[1;32m    586\u001b[0m asset \u001b[38;5;241m=\u001b[39m Model\u001b[38;5;241m.\u001b[39m_create_asset(workspace\u001b[38;5;241m.\u001b[39mservice_context, model_path, model_name, child_paths)\n\u001b[1;32m    587\u001b[0m asset_id \u001b[38;5;241m=\u001b[39m asset\u001b[38;5;241m.\u001b[39mid\n",
      "File \u001b[0;32m/anaconda/envs/jupyter_env/lib/python3.8/site-packages/azureml/core/model.py:647\u001b[0m, in \u001b[0;36mModel._validate_model_path\u001b[0;34m(model_path, child_paths)\u001b[0m\n\u001b[1;32m    638\u001b[0m \u001b[38;5;250m\u001b[39m\u001b[38;5;124;03m\"\"\"Validate that the provided model path exists.\u001b[39;00m\n\u001b[1;32m    639\u001b[0m \n\u001b[1;32m    640\u001b[0m \u001b[38;5;124;03m:param model_path:\u001b[39;00m\n\u001b[0;32m   (...)\u001b[0m\n\u001b[1;32m    644\u001b[0m \u001b[38;5;124;03m:raises: azureml.exceptions.WebserviceException\u001b[39;00m\n\u001b[1;32m    645\u001b[0m \u001b[38;5;124;03m\"\"\"\u001b[39;00m\n\u001b[1;32m    646\u001b[0m \u001b[38;5;28;01mif\u001b[39;00m \u001b[38;5;129;01mnot\u001b[39;00m os\u001b[38;5;241m.\u001b[39mpath\u001b[38;5;241m.\u001b[39mexists(model_path):\n\u001b[0;32m--> 647\u001b[0m     \u001b[38;5;28;01mraise\u001b[39;00m WebserviceException(\u001b[38;5;124m'\u001b[39m\u001b[38;5;124mError, provided model path \u001b[39m\u001b[38;5;124m\"\u001b[39m\u001b[38;5;132;01m{}\u001b[39;00m\u001b[38;5;124m\"\u001b[39m\u001b[38;5;124m cannot be found\u001b[39m\u001b[38;5;124m'\u001b[39m\u001b[38;5;241m.\u001b[39mformat(model_path),\n\u001b[1;32m    648\u001b[0m                               logger\u001b[38;5;241m=\u001b[39mmodule_logger)\n\u001b[1;32m    650\u001b[0m \u001b[38;5;28;01mif\u001b[39;00m child_paths:\n\u001b[1;32m    651\u001b[0m     \u001b[38;5;28;01mfor\u001b[39;00m path \u001b[38;5;129;01min\u001b[39;00m child_paths:\n",
      "\u001b[0;31mWebserviceException\u001b[0m: WebserviceException:\n\tMessage: Error, provided model path \"\" cannot be found\n\tInnerException None\n\tErrorResponse \n{\n    \"error\": {\n        \"message\": \"Error, provided model path \\\"\\\" cannot be found\"\n    }\n}"
     ]
    }
   ],
   "source": [
    "from azureml.core import Model\n",
    "\n",
    "model = Model.register(workspace=ws, \n",
    "    model_path='best_model.pkl', \n",
    "    model_name='best_aml_model')\n"
   ]
  },
  {
   "cell_type": "code",
   "execution_count": null,
   "metadata": {
    "jupyter": {
     "outputs_hidden": false,
     "source_hidden": false
    },
    "nteract": {
     "transient": {
      "deleting": false
     }
    }
   },
   "outputs": [],
   "source": [
    "from azureml.core import InferenceConfig, Environment\n",
    "\n",
    "env = Environment.get(workspace=ws, name='quick-starts-ws-233975') #####\n",
    "inference_config = InferenceConfig(entry_script='score.py', environment=env) #####"
   ]
  },
  {
   "cell_type": "code",
   "execution_count": null,
   "metadata": {
    "jupyter": {
     "outputs_hidden": false,
     "source_hidden": false
    },
    "nteract": {
     "transient": {
      "deleting": false
     }
    }
   },
   "outputs": [],
   "source": [
    "from azureml.core.webservice import AciWebservice\n",
    "\n",
    "deployment_config = AciWebservice.deploy_configuration(cpu_cores=1, memory_gb=1)\n",
    "service = Model.deploy(workspace=ws,\n",
    "                       name='automl-deploy',\n",
    "                       models=[model],\n",
    "                       inference_config=inference_config,\n",
    "                       deployment_config=deployment_config,\n",
    "                       overwrite=True)\n",
    "                       \n",
    "service.wait_for_deployment(show_output=True)\n"
   ]
  },
  {
   "cell_type": "markdown",
   "metadata": {
    "collapsed": true,
    "gather": {
     "logged": 1598431657736
    },
    "jupyter": {
     "outputs_hidden": false,
     "source_hidden": false
    },
    "nteract": {
     "transient": {
      "deleting": false
     }
    }
   },
   "source": [
    "TODO: In the cell below, send a request to the web service you deployed to test it."
   ]
  },
  {
   "cell_type": "markdown",
   "metadata": {
    "collapsed": true,
    "gather": {
     "logged": 1598432765711
    },
    "jupyter": {
     "outputs_hidden": false,
     "source_hidden": false
    },
    "nteract": {
     "transient": {
      "deleting": false
     }
    }
   },
   "source": [
    "TODO: In the cell below, print the logs of the web service and delete the service"
   ]
  },
  {
   "cell_type": "code",
   "execution_count": null,
   "metadata": {
    "jupyter": {
     "outputs_hidden": false,
     "source_hidden": false
    },
    "nteract": {
     "transient": {
      "deleting": false
     }
    }
   },
   "outputs": [],
   "source": []
  },
  {
   "cell_type": "markdown",
   "metadata": {},
   "source": [
    "**Submission Checklist**\n",
    "- I have registered the model.\n",
    "- I have deployed the model with the best accuracy as a webservice.\n",
    "- I have tested the webservice by sending a request to the model endpoint.\n",
    "- I have deleted the webservice and shutdown all the computes that I have used.\n",
    "- I have taken a screenshot showing the model endpoint as active.\n",
    "- The project includes a file containing the environment details.\n"
   ]
  },
  {
   "cell_type": "markdown",
   "metadata": {},
   "source": []
  }
 ],
 "metadata": {
  "kernel_info": {
   "name": "python3"
  },
  "kernelspec": {
   "display_name": "Python 3 (ipykernel)",
   "language": "python",
   "name": "python3"
  },
  "language_info": {
   "codemirror_mode": {
    "name": "ipython",
    "version": 3
   },
   "file_extension": ".py",
   "mimetype": "text/x-python",
   "name": "python",
   "nbconvert_exporter": "python",
   "pygments_lexer": "ipython3",
   "version": "3.9.13"
  },
  "microsoft": {
   "host": {
    "AzureML": {
     "notebookHasBeenCompleted": true
    }
   },
   "ms_spell_check": {
    "ms_spell_check_language": "en"
   }
  },
  "nteract": {
   "version": "nteract-front-end@1.0.0"
  }
 },
 "nbformat": 4,
 "nbformat_minor": 2
}
