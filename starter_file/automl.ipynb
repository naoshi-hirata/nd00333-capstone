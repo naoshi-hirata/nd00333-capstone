{
  "cells": [
    {
      "cell_type": "code",
      "source": [
        "!pip install --upgrade azureml-sdk\n",
        "!pip install --upgrade azureml-core"
      ],
      "outputs": [
        {
          "output_type": "stream",
          "name": "stdout",
          "text": "Collecting azureml-sdk\n  Downloading azureml_sdk-1.51.0-py3-none-any.whl (2.7 kB)\nCollecting azureml-dataset-runtime[fuse]~=1.51.0\n  Downloading azureml_dataset_runtime-1.51.0-py3-none-any.whl (2.3 kB)\nCollecting azureml-train-automl-client~=1.51.0\n  Downloading azureml_train_automl_client-1.51.0-py3-none-any.whl (136 kB)\n\u001b[K     |████████████████████████████████| 136 kB 5.1 MB/s eta 0:00:01\n\u001b[?25hCollecting azureml-train-core~=1.51.0\n  Downloading azureml_train_core-1.51.0-py3-none-any.whl (8.6 MB)\n\u001b[K     |████████████████████████████████| 8.6 MB 10.3 MB/s eta 0:00:01\n\u001b[?25hCollecting azureml-core~=1.51.0\n  Downloading azureml_core-1.51.0-py3-none-any.whl (3.3 MB)\n\u001b[K     |████████████████████████████████| 3.3 MB 81.8 MB/s eta 0:00:01\n\u001b[?25hCollecting azureml-pipeline~=1.51.0\n  Downloading azureml_pipeline-1.51.0-py3-none-any.whl (2.4 kB)\nRequirement already satisfied, skipping upgrade: pyarrow<=9.0.0,>=0.17.0 in /anaconda/envs/azureml_py38/lib/python3.8/site-packages (from azureml-dataset-runtime[fuse]~=1.51.0->azureml-sdk) (9.0.0)\nRequirement already satisfied, skipping upgrade: numpy!=1.19.3,<1.24; sys_platform == \"linux\" in /anaconda/envs/azureml_py38/lib/python3.8/site-packages (from azureml-dataset-runtime[fuse]~=1.51.0->azureml-sdk) (1.21.6)\nCollecting azureml-dataprep<4.11.0a,>=4.10.0a\n  Downloading azureml_dataprep-4.10.7-py3-none-any.whl (38.2 MB)\n\u001b[K     |████████████████████████████████| 38.2 MB 87.7 MB/s eta 0:00:01\n\u001b[?25hRequirement already satisfied, skipping upgrade: fusepy<4.0.0,>=3.0.1; extra == \"fuse\" in /anaconda/envs/azureml_py38/lib/python3.8/site-packages (from azureml-dataset-runtime[fuse]~=1.51.0->azureml-sdk) (3.0.1)\nCollecting azureml-automl-core~=1.51.0\n  Downloading azureml_automl_core-1.51.0-py3-none-any.whl (247 kB)\n\u001b[K     |████████████████████████████████| 247 kB 85.1 MB/s eta 0:00:01\n\u001b[?25hCollecting azureml-telemetry~=1.51.0\n  Downloading azureml_telemetry-1.51.0-py3-none-any.whl (30 kB)\nCollecting azureml-train-restclients-hyperdrive~=1.51.0\n  Downloading azureml_train_restclients_hyperdrive-1.51.0-py3-none-any.whl (18 kB)\nRequirement already satisfied, skipping upgrade: azure-core<2.0.0 in /anaconda/envs/azureml_py38/lib/python3.8/site-packages (from azureml-core~=1.51.0->azureml-sdk) (1.26.3)\nRequirement already satisfied, skipping upgrade: pathspec<1.0.0 in /anaconda/envs/azureml_py38/lib/python3.8/site-packages (from azureml-core~=1.51.0->azureml-sdk) (0.11.0)\nRequirement already satisfied, skipping upgrade: ndg-httpsclient<=0.5.1 in /anaconda/envs/azureml_py38/lib/python3.8/site-packages (from azureml-core~=1.51.0->azureml-sdk) (0.5.1)\nRequirement already satisfied, skipping upgrade: pyopenssl<24.0.0 in /anaconda/envs/azureml_py38/lib/python3.8/site-packages (from azureml-core~=1.51.0->azureml-sdk) (23.0.0)\nRequirement already satisfied, skipping upgrade: azure-mgmt-containerregistry<11,>=8.2.0 in /anaconda/envs/azureml_py38/lib/python3.8/site-packages (from azureml-core~=1.51.0->azureml-sdk) (10.0.0)\nRequirement already satisfied, skipping upgrade: msrest<=0.7.1,>=0.5.1 in /anaconda/envs/azureml_py38/lib/python3.8/site-packages (from azureml-core~=1.51.0->azureml-sdk) (0.7.1)\nRequirement already satisfied, skipping upgrade: cryptography!=1.9,!=2.0.*,!=2.1.*,!=2.2.*,<41 in /anaconda/envs/azureml_py38/lib/python3.8/site-packages (from azureml-core~=1.51.0->azureml-sdk) (38.0.4)\nRequirement already satisfied, skipping upgrade: argcomplete<3 in /anaconda/envs/azureml_py38/lib/python3.8/site-packages (from azureml-core~=1.51.0->azureml-sdk) (2.0.0)\nRequirement already satisfied, skipping upgrade: jsonpickle<4.0.0 in /anaconda/envs/azureml_py38/lib/python3.8/site-packages (from azureml-core~=1.51.0->azureml-sdk) (2.2.0)\nRequirement already satisfied, skipping upgrade: azure-mgmt-storage<=21.0.0,>=16.0.0 in /anaconda/envs/azureml_py38/lib/python3.8/site-packages (from azureml-core~=1.51.0->azureml-sdk) (20.1.0)\nRequirement already satisfied, skipping upgrade: jmespath<2.0.0 in /anaconda/envs/azureml_py38/lib/python3.8/site-packages (from azureml-core~=1.51.0->azureml-sdk) (0.10.0)\nRequirement already satisfied, skipping upgrade: pytz in /anaconda/envs/azureml_py38/lib/python3.8/site-packages (from azureml-core~=1.51.0->azureml-sdk) (2022.5)\nRequirement already satisfied, skipping upgrade: humanfriendly<11.0,>=4.7 in /anaconda/envs/azureml_py38/lib/python3.8/site-packages (from azureml-core~=1.51.0->azureml-sdk) (10.0)\nRequirement already satisfied, skipping upgrade: python-dateutil<3.0.0,>=2.7.3 in /anaconda/envs/azureml_py38/lib/python3.8/site-packages (from azureml-core~=1.51.0->azureml-sdk) (2.8.2)\nRequirement already satisfied, skipping upgrade: requests[socks]<3.0.0,>=2.19.1 in /anaconda/envs/azureml_py38/lib/python3.8/site-packages (from azureml-core~=1.51.0->azureml-sdk) (2.28.2)\nRequirement already satisfied, skipping upgrade: SecretStorage<4.0.0 in /anaconda/envs/azureml_py38/lib/python3.8/site-packages (from azureml-core~=1.51.0->azureml-sdk) (3.3.3)\nRequirement already satisfied, skipping upgrade: msrestazure<=0.6.4,>=0.4.33 in /anaconda/envs/azureml_py38/lib/python3.8/site-packages (from azureml-core~=1.51.0->azureml-sdk) (0.6.4)\nRequirement already satisfied, skipping upgrade: packaging<=23.0,>=20.0 in /anaconda/envs/azureml_py38/lib/python3.8/site-packages (from azureml-core~=1.51.0->azureml-sdk) (21.3)\nRequirement already satisfied, skipping upgrade: pkginfo in /anaconda/envs/azureml_py38/lib/python3.8/site-packages (from azureml-core~=1.51.0->azureml-sdk) (1.9.6)\nRequirement already satisfied, skipping upgrade: paramiko<4.0.0,>=2.0.8 in /anaconda/envs/azureml_py38/lib/python3.8/site-packages (from azureml-core~=1.51.0->azureml-sdk) (2.12.0)\nRequirement already satisfied, skipping upgrade: msal<2.0.0,>=1.15.0 in /anaconda/envs/azureml_py38/lib/python3.8/site-packages (from azureml-core~=1.51.0->azureml-sdk) (1.21.0)\nRequirement already satisfied, skipping upgrade: azure-mgmt-resource<=22.0.0,>=15.0.0 in /anaconda/envs/azureml_py38/lib/python3.8/site-packages (from azureml-core~=1.51.0->azureml-sdk) (21.2.1)\nRequirement already satisfied, skipping upgrade: azure-common<2.0.0,>=1.1.12 in /anaconda/envs/azureml_py38/lib/python3.8/site-packages (from azureml-core~=1.51.0->azureml-sdk) (1.1.28)\nRequirement already satisfied, skipping upgrade: urllib3<2.0.0,>=1.23 in /anaconda/envs/azureml_py38/lib/python3.8/site-packages (from azureml-core~=1.51.0->azureml-sdk) (1.26.14)\nRequirement already satisfied, skipping upgrade: knack~=0.10.0 in /anaconda/envs/azureml_py38/lib/python3.8/site-packages (from azureml-core~=1.51.0->azureml-sdk) (0.10.1)\nRequirement already satisfied, skipping upgrade: contextlib2<22.0.0 in /anaconda/envs/azureml_py38/lib/python3.8/site-packages (from azureml-core~=1.51.0->azureml-sdk) (21.6.0)\nRequirement already satisfied, skipping upgrade: azure-mgmt-authorization<4,>=0.40.0 in /anaconda/envs/azureml_py38/lib/python3.8/site-packages (from azureml-core~=1.51.0->azureml-sdk) (3.0.0)\nRequirement already satisfied, skipping upgrade: PyJWT<3.0.0 in /anaconda/envs/azureml_py38/lib/python3.8/site-packages (from azureml-core~=1.51.0->azureml-sdk) (2.4.0)\nRequirement already satisfied, skipping upgrade: azure-graphrbac<1.0.0,>=0.40.0 in /anaconda/envs/azureml_py38/lib/python3.8/site-packages (from azureml-core~=1.51.0->azureml-sdk) (0.61.1)\nRequirement already satisfied, skipping upgrade: adal<=1.2.7,>=1.2.0 in /anaconda/envs/azureml_py38/lib/python3.8/site-packages (from azureml-core~=1.51.0->azureml-sdk) (1.2.7)\nRequirement already satisfied, skipping upgrade: backports.tempfile in /anaconda/envs/azureml_py38/lib/python3.8/site-packages (from azureml-core~=1.51.0->azureml-sdk) (1.0)\nRequirement already satisfied, skipping upgrade: azure-mgmt-keyvault<11.0.0,>=0.40.0 in /anaconda/envs/azureml_py38/lib/python3.8/site-packages (from azureml-core~=1.51.0->azureml-sdk) (10.1.0)\nRequirement already satisfied, skipping upgrade: msal-extensions<=1.0.0,>=0.3.0 in /anaconda/envs/azureml_py38/lib/python3.8/site-packages (from azureml-core~=1.51.0->azureml-sdk) (0.3.1)\nRequirement already satisfied, skipping upgrade: docker<7.0.0 in /anaconda/envs/azureml_py38/lib/python3.8/site-packages (from azureml-core~=1.51.0->azureml-sdk) (6.0.1)\nCollecting azureml-pipeline-steps~=1.51.0\n  Downloading azureml_pipeline_steps-1.51.0-py3-none-any.whl (69 kB)\n\u001b[K     |████████████████████████████████| 69 kB 8.3 MB/s  eta 0:00:01\n\u001b[?25hCollecting azureml-pipeline-core~=1.51.0\n  Downloading azureml_pipeline_core-1.51.0-py3-none-any.whl (313 kB)\n\u001b[K     |████████████████████████████████| 313 kB 86.4 MB/s eta 0:00:01\n\u001b[?25hRequirement already satisfied, skipping upgrade: pyyaml<7.0.0,>=5.1.0 in /anaconda/envs/azureml_py38/lib/python3.8/site-packages (from azureml-dataprep<4.11.0a,>=4.10.0a->azureml-dataset-runtime[fuse]~=1.51.0->azureml-sdk) (6.0)\nRequirement already satisfied, skipping upgrade: jsonschema in /anaconda/envs/azureml_py38/lib/python3.8/site-packages (from azureml-dataprep<4.11.0a,>=4.10.0a->azureml-dataset-runtime[fuse]~=1.51.0->azureml-sdk) (4.17.3)\nRequirement already satisfied, skipping upgrade: azureml-dataprep-native<39.0.0,>=38.0.0 in /anaconda/envs/azureml_py38/lib/python3.8/site-packages (from azureml-dataprep<4.11.0a,>=4.10.0a->azureml-dataset-runtime[fuse]~=1.51.0->azureml-sdk) (38.0.0)\nRequirement already satisfied, skipping upgrade: dotnetcore2<4.0.0,>=3.0.0 in /anaconda/envs/azureml_py38/lib/python3.8/site-packages (from azureml-dataprep<4.11.0a,>=4.10.0a->azureml-dataset-runtime[fuse]~=1.51.0->azureml-sdk) (3.1.23)\nCollecting azureml-dataprep-rslex~=2.17.6dev0\n  Downloading azureml_dataprep_rslex-2.17.11-cp38-cp38-manylinux_2_17_x86_64.manylinux2014_x86_64.whl (20.2 MB)\n\u001b[K     |████████████████████████████████| 20.2 MB 82.2 MB/s eta 0:00:01\n\u001b[?25hRequirement already satisfied, skipping upgrade: azure-identity>=1.7.0 in /anaconda/envs/azureml_py38/lib/python3.8/site-packages (from azureml-dataprep<4.11.0a,>=4.10.0a->azureml-dataset-runtime[fuse]~=1.51.0->azureml-sdk) (1.7.0)\nRequirement already satisfied, skipping upgrade: cloudpickle<3.0.0,>=1.1.0 in /anaconda/envs/azureml_py38/lib/python3.8/site-packages (from azureml-dataprep<4.11.0a,>=4.10.0a->azureml-dataset-runtime[fuse]~=1.51.0->azureml-sdk) (1.6.0)\nRequirement already satisfied, skipping upgrade: applicationinsights in /anaconda/envs/azureml_py38/lib/python3.8/site-packages (from azureml-telemetry~=1.51.0->azureml-train-automl-client~=1.51.0->azureml-sdk) (0.11.10)\nRequirement already satisfied, skipping upgrade: six>=1.11.0 in /anaconda/envs/azureml_py38/lib/python3.8/site-packages (from azure-core<2.0.0->azureml-core~=1.51.0->azureml-sdk) (1.16.0)\nRequirement already satisfied, skipping upgrade: typing-extensions>=4.0.1 in /anaconda/envs/azureml_py38/lib/python3.8/site-packages (from azure-core<2.0.0->azureml-core~=1.51.0->azureml-sdk) (4.4.0)\nRequirement already satisfied, skipping upgrade: pyasn1>=0.1.1 in /anaconda/envs/azureml_py38/lib/python3.8/site-packages (from ndg-httpsclient<=0.5.1->azureml-core~=1.51.0->azureml-sdk) (0.4.8)\nRequirement already satisfied, skipping upgrade: azure-mgmt-core<2.0.0,>=1.3.0 in /anaconda/envs/azureml_py38/lib/python3.8/site-packages (from azure-mgmt-containerregistry<11,>=8.2.0->azureml-core~=1.51.0->azureml-sdk) (1.3.2)\nRequirement already satisfied, skipping upgrade: certifi>=2017.4.17 in /anaconda/envs/azureml_py38/lib/python3.8/site-packages (from msrest<=0.7.1,>=0.5.1->azureml-core~=1.51.0->azureml-sdk) (2022.9.24)\nRequirement already satisfied, skipping upgrade: requests-oauthlib>=0.5.0 in /anaconda/envs/azureml_py38/lib/python3.8/site-packages (from msrest<=0.7.1,>=0.5.1->azureml-core~=1.51.0->azureml-sdk) (1.3.1)\nRequirement already satisfied, skipping upgrade: isodate>=0.6.0 in /anaconda/envs/azureml_py38/lib/python3.8/site-packages (from msrest<=0.7.1,>=0.5.1->azureml-core~=1.51.0->azureml-sdk) (0.6.1)\nRequirement already satisfied, skipping upgrade: cffi>=1.12 in /anaconda/envs/azureml_py38/lib/python3.8/site-packages (from cryptography!=1.9,!=2.0.*,!=2.1.*,!=2.2.*,<41->azureml-core~=1.51.0->azureml-sdk) (1.15.1)\nRequirement already satisfied, skipping upgrade: charset-normalizer<4,>=2 in /anaconda/envs/azureml_py38/lib/python3.8/site-packages (from requests[socks]<3.0.0,>=2.19.1->azureml-core~=1.51.0->azureml-sdk) (3.0.1)\nRequirement already satisfied, skipping upgrade: idna<4,>=2.5 in /anaconda/envs/azureml_py38/lib/python3.8/site-packages (from requests[socks]<3.0.0,>=2.19.1->azureml-core~=1.51.0->azureml-sdk) (3.4)\nRequirement already satisfied, skipping upgrade: PySocks!=1.5.7,>=1.5.6; extra == \"socks\" in /anaconda/envs/azureml_py38/lib/python3.8/site-packages (from requests[socks]<3.0.0,>=2.19.1->azureml-core~=1.51.0->azureml-sdk) (1.7.1)\nRequirement already satisfied, skipping upgrade: jeepney>=0.6 in /anaconda/envs/azureml_py38/lib/python3.8/site-packages (from SecretStorage<4.0.0->azureml-core~=1.51.0->azureml-sdk) (0.8.0)\nRequirement already satisfied, skipping upgrade: pyparsing!=3.0.5,>=2.0.2 in /anaconda/envs/azureml_py38/lib/python3.8/site-packages (from packaging<=23.0,>=20.0->azureml-core~=1.51.0->azureml-sdk) (3.0.9)\nRequirement already satisfied, skipping upgrade: pynacl>=1.0.1 in /anaconda/envs/azureml_py38/lib/python3.8/site-packages (from paramiko<4.0.0,>=2.0.8->azureml-core~=1.51.0->azureml-sdk) (1.5.0)\nRequirement already satisfied, skipping upgrade: bcrypt>=3.1.3 in /anaconda/envs/azureml_py38/lib/python3.8/site-packages (from paramiko<4.0.0,>=2.0.8->azureml-core~=1.51.0->azureml-sdk) (4.0.1)\nRequirement already satisfied, skipping upgrade: tabulate in /anaconda/envs/azureml_py38/lib/python3.8/site-packages (from knack~=0.10.0->azureml-core~=1.51.0->azureml-sdk) (0.9.0)\nRequirement already satisfied, skipping upgrade: pygments in /anaconda/envs/azureml_py38/lib/python3.8/site-packages (from knack~=0.10.0->azureml-core~=1.51.0->azureml-sdk) (2.14.0)\nRequirement already satisfied, skipping upgrade: backports.weakref in /anaconda/envs/azureml_py38/lib/python3.8/site-packages (from backports.tempfile->azureml-core~=1.51.0->azureml-sdk) (1.0.post1)\nRequirement already satisfied, skipping upgrade: portalocker<3,>=1.0; python_version >= \"3.5\" and platform_system != \"Windows\" in /anaconda/envs/azureml_py38/lib/python3.8/site-packages (from msal-extensions<=1.0.0,>=0.3.0->azureml-core~=1.51.0->azureml-sdk) (2.7.0)\nRequirement already satisfied, skipping upgrade: websocket-client>=0.32.0 in /anaconda/envs/azureml_py38/lib/python3.8/site-packages (from docker<7.0.0->azureml-core~=1.51.0->azureml-sdk) (1.5.0)\nRequirement already satisfied, skipping upgrade: pyrsistent!=0.17.0,!=0.17.1,!=0.17.2,>=0.14.0 in /anaconda/envs/azureml_py38/lib/python3.8/site-packages (from jsonschema->azureml-dataprep<4.11.0a,>=4.10.0a->azureml-dataset-runtime[fuse]~=1.51.0->azureml-sdk) (0.19.3)\nRequirement already satisfied, skipping upgrade: attrs>=17.4.0 in /anaconda/envs/azureml_py38/lib/python3.8/site-packages (from jsonschema->azureml-dataprep<4.11.0a,>=4.10.0a->azureml-dataset-runtime[fuse]~=1.51.0->azureml-sdk) (22.2.0)\nRequirement already satisfied, skipping upgrade: pkgutil-resolve-name>=1.3.10; python_version < \"3.9\" in /anaconda/envs/azureml_py38/lib/python3.8/site-packages (from jsonschema->azureml-dataprep<4.11.0a,>=4.10.0a->azureml-dataset-runtime[fuse]~=1.51.0->azureml-sdk) (1.3.10)\nRequirement already satisfied, skipping upgrade: importlib-resources>=1.4.0; python_version < \"3.9\" in /anaconda/envs/azureml_py38/lib/python3.8/site-packages (from jsonschema->azureml-dataprep<4.11.0a,>=4.10.0a->azureml-dataset-runtime[fuse]~=1.51.0->azureml-sdk) (5.10.2)\nRequirement already satisfied, skipping upgrade: distro>=1.2.0 in /anaconda/envs/azureml_py38/lib/python3.8/site-packages (from dotnetcore2<4.0.0,>=3.0.0->azureml-dataprep<4.11.0a,>=4.10.0a->azureml-dataset-runtime[fuse]~=1.51.0->azureml-sdk) (1.8.0)\nRequirement already satisfied, skipping upgrade: oauthlib>=3.0.0 in /anaconda/envs/azureml_py38/lib/python3.8/site-packages (from requests-oauthlib>=0.5.0->msrest<=0.7.1,>=0.5.1->azureml-core~=1.51.0->azureml-sdk) (3.2.2)\nRequirement already satisfied, skipping upgrade: pycparser in /anaconda/envs/azureml_py38/lib/python3.8/site-packages (from cffi>=1.12->cryptography!=1.9,!=2.0.*,!=2.1.*,!=2.2.*,<41->azureml-core~=1.51.0->azureml-sdk) (2.21)\nRequirement already satisfied, skipping upgrade: zipp>=3.1.0; python_version < \"3.10\" in /anaconda/envs/azureml_py38/lib/python3.8/site-packages (from importlib-resources>=1.4.0; python_version < \"3.9\"->jsonschema->azureml-dataprep<4.11.0a,>=4.10.0a->azureml-dataset-runtime[fuse]~=1.51.0->azureml-sdk) (3.12.0)\n\u001b[31mERROR: azureml-widgets 1.49.0 has requirement azureml-core~=1.49.0, but you'll have azureml-core 1.51.0 which is incompatible.\u001b[0m\n\u001b[31mERROR: azureml-widgets 1.49.0 has requirement azureml-telemetry~=1.49.0, but you'll have azureml-telemetry 1.51.0 which is incompatible.\u001b[0m\n\u001b[31mERROR: azureml-training-tabular 1.49.0 has requirement azureml-automl-core~=1.49.0, but you'll have azureml-automl-core 1.51.0 which is incompatible.\u001b[0m\n\u001b[31mERROR: azureml-train 1.49.0 has requirement azureml-train-core~=1.49.0, but you'll have azureml-train-core 1.51.0 which is incompatible.\u001b[0m\n\u001b[31mERROR: azureml-train-automl 1.49.0 has requirement azureml-automl-core~=1.49.0, but you'll have azureml-automl-core 1.51.0 which is incompatible.\u001b[0m\n\u001b[31mERROR: azureml-train-automl 1.49.0 has requirement azureml-dataset-runtime[fuse,pandas]~=1.49.0, but you'll have azureml-dataset-runtime 1.51.0 which is incompatible.\u001b[0m\n\u001b[31mERROR: azureml-train-automl 1.49.0 has requirement azureml-train-automl-client~=1.49.0, but you'll have azureml-train-automl-client 1.51.0 which is incompatible.\u001b[0m\n\u001b[31mERROR: azureml-train-automl-runtime 1.49.0 has requirement azureml-automl-core~=1.49.0, but you'll have azureml-automl-core 1.51.0 which is incompatible.\u001b[0m\n\u001b[31mERROR: azureml-train-automl-runtime 1.49.0 has requirement azureml-core~=1.49.0, but you'll have azureml-core 1.51.0 which is incompatible.\u001b[0m\n\u001b[31mERROR: azureml-train-automl-runtime 1.49.0 has requirement azureml-dataset-runtime[fuse,pandas]~=1.49.0, but you'll have azureml-dataset-runtime 1.51.0 which is incompatible.\u001b[0m\n\u001b[31mERROR: azureml-train-automl-runtime 1.49.0 has requirement azureml-telemetry~=1.49.0, but you'll have azureml-telemetry 1.51.0 which is incompatible.\u001b[0m\n\u001b[31mERROR: azureml-train-automl-runtime 1.49.0 has requirement azureml-train-automl-client~=1.49.0, but you'll have azureml-train-automl-client 1.51.0 which is incompatible.\u001b[0m\n\u001b[31mERROR: azureml-tensorboard 1.49.0 has requirement azureml-core~=1.49.0, but you'll have azureml-core 1.51.0 which is incompatible.\u001b[0m\n\u001b[31mERROR: azureml-responsibleai 1.49.0 has requirement azureml-core~=1.49.0, but you'll have azureml-core 1.51.0 which is incompatible.\u001b[0m\n\u001b[31mERROR: azureml-responsibleai 1.49.0 has requirement azureml-dataset-runtime~=1.49.0, but you'll have azureml-dataset-runtime 1.51.0 which is incompatible.\u001b[0m\n\u001b[31mERROR: azureml-responsibleai 1.49.0 has requirement azureml-telemetry~=1.49.0, but you'll have azureml-telemetry 1.51.0 which is incompatible.\u001b[0m\n\u001b[31mERROR: azureml-opendatasets 1.49.0 has requirement azureml-core~=1.49.0, but you'll have azureml-core 1.51.0 which is incompatible.\u001b[0m\n\u001b[31mERROR: azureml-opendatasets 1.49.0 has requirement azureml-dataset-runtime[fuse,pandas]~=1.49.0, but you'll have azureml-dataset-runtime 1.51.0 which is incompatible.\u001b[0m\n\u001b[31mERROR: azureml-opendatasets 1.49.0 has requirement azureml-telemetry~=1.49.0, but you'll have azureml-telemetry 1.51.0 which is incompatible.\u001b[0m\n\u001b[31mERROR: azureml-interpret 1.49.0 has requirement azureml-core~=1.49.0, but you'll have azureml-core 1.51.0 which is incompatible.\u001b[0m\n\u001b[31mERROR: azureml-defaults 1.49.0 has requirement azureml-core~=1.49.0, but you'll have azureml-core 1.51.0 which is incompatible.\u001b[0m\n\u001b[31mERROR: azureml-defaults 1.49.0 has requirement azureml-dataset-runtime[fuse]~=1.49.0, but you'll have azureml-dataset-runtime 1.51.0 which is incompatible.\u001b[0m\n\u001b[31mERROR: azureml-datadrift 1.49.0 has requirement azureml-core~=1.49.0, but you'll have azureml-core 1.51.0 which is incompatible.\u001b[0m\n\u001b[31mERROR: azureml-datadrift 1.49.0 has requirement azureml-dataset-runtime[fuse,pandas]~=1.49.0, but you'll have azureml-dataset-runtime 1.51.0 which is incompatible.\u001b[0m\n\u001b[31mERROR: azureml-datadrift 1.49.0 has requirement azureml-pipeline-core~=1.49.0, but you'll have azureml-pipeline-core 1.51.0 which is incompatible.\u001b[0m\n\u001b[31mERROR: azureml-datadrift 1.49.0 has requirement azureml-telemetry~=1.49.0, but you'll have azureml-telemetry 1.51.0 which is incompatible.\u001b[0m\n\u001b[31mERROR: azureml-contrib-server 1.49.0 has requirement azureml-core~=1.49.0, but you'll have azureml-core 1.51.0 which is incompatible.\u001b[0m\n\u001b[31mERROR: azureml-contrib-reinforcementlearning 1.49.0 has requirement azureml-core~=1.49.0, but you'll have azureml-core 1.51.0 which is incompatible.\u001b[0m\n\u001b[31mERROR: azureml-contrib-reinforcementlearning 1.49.0 has requirement azureml-train-core~=1.49.0, but you'll have azureml-train-core 1.51.0 which is incompatible.\u001b[0m\n\u001b[31mERROR: azureml-contrib-pipeline-steps 1.49.0 has requirement azureml-core~=1.49.0, but you'll have azureml-core 1.51.0 which is incompatible.\u001b[0m\n\u001b[31mERROR: azureml-contrib-pipeline-steps 1.49.0 has requirement azureml-dataset-runtime~=1.49.0, but you'll have azureml-dataset-runtime 1.51.0 which is incompatible.\u001b[0m\n\u001b[31mERROR: azureml-contrib-pipeline-steps 1.49.0 has requirement azureml-pipeline-core~=1.49.0, but you'll have azureml-pipeline-core 1.51.0 which is incompatible.\u001b[0m\n\u001b[31mERROR: azureml-contrib-notebook 1.49.0 has requirement azureml-core~=1.49.0, but you'll have azureml-core 1.51.0 which is incompatible.\u001b[0m\n\u001b[31mERROR: azureml-contrib-notebook 1.49.0 has requirement azureml-pipeline-core~=1.49.0, but you'll have azureml-pipeline-core 1.51.0 which is incompatible.\u001b[0m\n\u001b[31mERROR: azureml-contrib-notebook 1.49.0 has requirement nbconvert<6, but you'll have nbconvert 7.3.0 which is incompatible.\u001b[0m\n\u001b[31mERROR: azureml-contrib-fairness 1.49.0 has requirement azureml-core~=1.49.0, but you'll have azureml-core 1.51.0 which is incompatible.\u001b[0m\n\u001b[31mERROR: azureml-contrib-dataset 1.49.0 has requirement azureml-core~=1.49.0, but you'll have azureml-core 1.51.0 which is incompatible.\u001b[0m\n\u001b[31mERROR: azureml-contrib-dataset 1.49.0 has requirement azureml-dataset-runtime[fuse,pandas]~=1.49.0, but you'll have azureml-dataset-runtime 1.51.0 which is incompatible.\u001b[0m\n\u001b[31mERROR: azureml-contrib-automl-pipeline-steps 1.49.0 has requirement azureml-pipeline-steps~=1.49.0, but you'll have azureml-pipeline-steps 1.51.0 which is incompatible.\u001b[0m\n\u001b[31mERROR: azureml-cli-common 1.49.0 has requirement azureml-core~=1.49.0, but you'll have azureml-core 1.51.0 which is incompatible.\u001b[0m\n\u001b[31mERROR: azureml-cli-common 1.49.0 has requirement azureml-pipeline-core~=1.49.0, but you'll have azureml-pipeline-core 1.51.0 which is incompatible.\u001b[0m\n\u001b[31mERROR: azureml-cli-common 1.49.0 has requirement azureml-train-core~=1.49.0; python_version >= \"3.5\", but you'll have azureml-train-core 1.51.0 which is incompatible.\u001b[0m\n\u001b[31mERROR: azureml-automl-runtime 1.49.0 has requirement azureml-automl-core~=1.49.0, but you'll have azureml-automl-core 1.51.0 which is incompatible.\u001b[0m\n\u001b[31mERROR: azureml-automl-runtime 1.49.0 has requirement azureml-dataset-runtime[fuse,pandas]~=1.49.0, but you'll have azureml-dataset-runtime 1.51.0 which is incompatible.\u001b[0m\n\u001b[31mERROR: azureml-automl-dnn-nlp 1.49.0 has requirement azureml-automl-core~=1.49.0, but you'll have azureml-automl-core 1.51.0 which is incompatible.\u001b[0m\n\u001b[31mERROR: azureml-automl-dnn-nlp 1.49.0 has requirement azureml-core~=1.49.0, but you'll have azureml-core 1.51.0 which is incompatible.\u001b[0m\n\u001b[31mERROR: azureml-automl-dnn-nlp 1.49.0 has requirement azureml-telemetry~=1.49.0, but you'll have azureml-telemetry 1.51.0 which is incompatible.\u001b[0m\n\u001b[31mERROR: azureml-accel-models 1.49.0 has requirement azureml-core~=1.49.0, but you'll have azureml-core 1.51.0 which is incompatible.\u001b[0m\nInstalling collected packages: azureml-dataprep-rslex, azureml-dataprep, azureml-dataset-runtime, azureml-core, azureml-telemetry, azureml-automl-core, azureml-train-restclients-hyperdrive, azureml-train-core, azureml-train-automl-client, azureml-pipeline-core, azureml-pipeline-steps, azureml-pipeline, azureml-sdk\n  Attempting uninstall: azureml-dataprep-rslex\n    Found existing installation: azureml-dataprep-rslex 2.16.1\n    Uninstalling azureml-dataprep-rslex-2.16.1:\n      Successfully uninstalled azureml-dataprep-rslex-2.16.1\n  Attempting uninstall: azureml-dataprep\n    Found existing installation: azureml-dataprep 4.9.1\n    Uninstalling azureml-dataprep-4.9.1:\n      Successfully uninstalled azureml-dataprep-4.9.1\n  Attempting uninstall: azureml-dataset-runtime\n    Found existing installation: azureml-dataset-runtime 1.49.0\n    Uninstalling azureml-dataset-runtime-1.49.0:\n      Successfully uninstalled azureml-dataset-runtime-1.49.0\n  Attempting uninstall: azureml-core\n    Found existing installation: azureml-core 1.49.0\n    Uninstalling azureml-core-1.49.0:\n      Successfully uninstalled azureml-core-1.49.0\n  Attempting uninstall: azureml-telemetry\n    Found existing installation: azureml-telemetry 1.49.0\n    Uninstalling azureml-telemetry-1.49.0:\n      Successfully uninstalled azureml-telemetry-1.49.0\n  Attempting uninstall: azureml-automl-core\n    Found existing installation: azureml-automl-core 1.49.0\n    Uninstalling azureml-automl-core-1.49.0:\n      Successfully uninstalled azureml-automl-core-1.49.0\n  Attempting uninstall: azureml-train-restclients-hyperdrive\n    Found existing installation: azureml-train-restclients-hyperdrive 1.49.0\n    Uninstalling azureml-train-restclients-hyperdrive-1.49.0:\n      Successfully uninstalled azureml-train-restclients-hyperdrive-1.49.0\n  Attempting uninstall: azureml-train-core\n    Found existing installation: azureml-train-core 1.49.0\n    Uninstalling azureml-train-core-1.49.0:\n      Successfully uninstalled azureml-train-core-1.49.0\n  Attempting uninstall: azureml-train-automl-client\n    Found existing installation: azureml-train-automl-client 1.49.0\n    Uninstalling azureml-train-automl-client-1.49.0:\n      Successfully uninstalled azureml-train-automl-client-1.49.0\n  Attempting uninstall: azureml-pipeline-core\n    Found existing installation: azureml-pipeline-core 1.49.0\n    Uninstalling azureml-pipeline-core-1.49.0:\n      Successfully uninstalled azureml-pipeline-core-1.49.0\n  Attempting uninstall: azureml-pipeline-steps\n    Found existing installation: azureml-pipeline-steps 1.49.0\n    Uninstalling azureml-pipeline-steps-1.49.0:\n      Successfully uninstalled azureml-pipeline-steps-1.49.0\n  Attempting uninstall: azureml-pipeline\n    Found existing installation: azureml-pipeline 1.49.0\n    Uninstalling azureml-pipeline-1.49.0:\n      Successfully uninstalled azureml-pipeline-1.49.0\n  Attempting uninstall: azureml-sdk\n    Found existing installation: azureml-sdk 1.49.0\n    Uninstalling azureml-sdk-1.49.0:\n      Successfully uninstalled azureml-sdk-1.49.0\nSuccessfully installed azureml-automl-core-1.51.0 azureml-core-1.51.0 azureml-dataprep-4.10.7 azureml-dataprep-rslex-2.17.11 azureml-dataset-runtime-1.51.0 azureml-pipeline-1.51.0 azureml-pipeline-core-1.51.0 azureml-pipeline-steps-1.51.0 azureml-sdk-1.51.0 azureml-telemetry-1.51.0 azureml-train-automl-client-1.51.0 azureml-train-core-1.51.0 azureml-train-restclients-hyperdrive-1.51.0\nRequirement already up-to-date: azureml-core in /anaconda/envs/azureml_py38/lib/python3.8/site-packages (1.51.0)\nRequirement already satisfied, skipping upgrade: paramiko<4.0.0,>=2.0.8 in /anaconda/envs/azureml_py38/lib/python3.8/site-packages (from azureml-core) (2.12.0)\nRequirement already satisfied, skipping upgrade: packaging<=23.0,>=20.0 in /anaconda/envs/azureml_py38/lib/python3.8/site-packages (from azureml-core) (21.3)\nRequirement already satisfied, skipping upgrade: contextlib2<22.0.0 in /anaconda/envs/azureml_py38/lib/python3.8/site-packages (from azureml-core) (21.6.0)\nRequirement already satisfied, skipping upgrade: humanfriendly<11.0,>=4.7 in /anaconda/envs/azureml_py38/lib/python3.8/site-packages (from azureml-core) (10.0)\nRequirement already satisfied, skipping upgrade: pytz in /anaconda/envs/azureml_py38/lib/python3.8/site-packages (from azureml-core) (2022.5)\nRequirement already satisfied, skipping upgrade: python-dateutil<3.0.0,>=2.7.3 in /anaconda/envs/azureml_py38/lib/python3.8/site-packages (from azureml-core) (2.8.2)\nRequirement already satisfied, skipping upgrade: azure-common<2.0.0,>=1.1.12 in /anaconda/envs/azureml_py38/lib/python3.8/site-packages (from azureml-core) (1.1.28)\nRequirement already satisfied, skipping upgrade: knack~=0.10.0 in /anaconda/envs/azureml_py38/lib/python3.8/site-packages (from azureml-core) (0.10.1)\nRequirement already satisfied, skipping upgrade: PyJWT<3.0.0 in /anaconda/envs/azureml_py38/lib/python3.8/site-packages (from azureml-core) (2.4.0)\nRequirement already satisfied, skipping upgrade: docker<7.0.0 in /anaconda/envs/azureml_py38/lib/python3.8/site-packages (from azureml-core) (6.0.1)\nRequirement already satisfied, skipping upgrade: backports.tempfile in /anaconda/envs/azureml_py38/lib/python3.8/site-packages (from azureml-core) (1.0)\nRequirement already satisfied, skipping upgrade: pkginfo in /anaconda/envs/azureml_py38/lib/python3.8/site-packages (from azureml-core) (1.9.6)\nRequirement already satisfied, skipping upgrade: adal<=1.2.7,>=1.2.0 in /anaconda/envs/azureml_py38/lib/python3.8/site-packages (from azureml-core) (1.2.7)\nRequirement already satisfied, skipping upgrade: msal<2.0.0,>=1.15.0 in /anaconda/envs/azureml_py38/lib/python3.8/site-packages (from azureml-core) (1.21.0)\nRequirement already satisfied, skipping upgrade: azure-mgmt-storage<=21.0.0,>=16.0.0 in /anaconda/envs/azureml_py38/lib/python3.8/site-packages (from azureml-core) (20.1.0)\nRequirement already satisfied, skipping upgrade: azure-mgmt-keyvault<11.0.0,>=0.40.0 in /anaconda/envs/azureml_py38/lib/python3.8/site-packages (from azureml-core) (10.1.0)\nRequirement already satisfied, skipping upgrade: pyopenssl<24.0.0 in /anaconda/envs/azureml_py38/lib/python3.8/site-packages (from azureml-core) (23.0.0)\nRequirement already satisfied, skipping upgrade: azure-core<2.0.0 in /anaconda/envs/azureml_py38/lib/python3.8/site-packages (from azureml-core) (1.26.3)\nRequirement already satisfied, skipping upgrade: SecretStorage<4.0.0 in /anaconda/envs/azureml_py38/lib/python3.8/site-packages (from azureml-core) (3.3.3)\nRequirement already satisfied, skipping upgrade: argcomplete<3 in /anaconda/envs/azureml_py38/lib/python3.8/site-packages (from azureml-core) (2.0.0)\nRequirement already satisfied, skipping upgrade: azure-mgmt-containerregistry<11,>=8.2.0 in /anaconda/envs/azureml_py38/lib/python3.8/site-packages (from azureml-core) (10.0.0)\nRequirement already satisfied, skipping upgrade: pathspec<1.0.0 in /anaconda/envs/azureml_py38/lib/python3.8/site-packages (from azureml-core) (0.11.0)\nRequirement already satisfied, skipping upgrade: azure-mgmt-authorization<4,>=0.40.0 in /anaconda/envs/azureml_py38/lib/python3.8/site-packages (from azureml-core) (3.0.0)\nRequirement already satisfied, skipping upgrade: jmespath<2.0.0 in /anaconda/envs/azureml_py38/lib/python3.8/site-packages (from azureml-core) (0.10.0)\nRequirement already satisfied, skipping upgrade: msrest<=0.7.1,>=0.5.1 in /anaconda/envs/azureml_py38/lib/python3.8/site-packages (from azureml-core) (0.7.1)\nRequirement already satisfied, skipping upgrade: urllib3<2.0.0,>=1.23 in /anaconda/envs/azureml_py38/lib/python3.8/site-packages (from azureml-core) (1.26.14)\nRequirement already satisfied, skipping upgrade: msrestazure<=0.6.4,>=0.4.33 in /anaconda/envs/azureml_py38/lib/python3.8/site-packages (from azureml-core) (0.6.4)\nRequirement already satisfied, skipping upgrade: jsonpickle<4.0.0 in /anaconda/envs/azureml_py38/lib/python3.8/site-packages (from azureml-core) (2.2.0)\nRequirement already satisfied, skipping upgrade: msal-extensions<=1.0.0,>=0.3.0 in /anaconda/envs/azureml_py38/lib/python3.8/site-packages (from azureml-core) (0.3.1)\nRequirement already satisfied, skipping upgrade: requests[socks]<3.0.0,>=2.19.1 in /anaconda/envs/azureml_py38/lib/python3.8/site-packages (from azureml-core) (2.28.2)\nRequirement already satisfied, skipping upgrade: ndg-httpsclient<=0.5.1 in /anaconda/envs/azureml_py38/lib/python3.8/site-packages (from azureml-core) (0.5.1)\nRequirement already satisfied, skipping upgrade: azure-mgmt-resource<=22.0.0,>=15.0.0 in /anaconda/envs/azureml_py38/lib/python3.8/site-packages (from azureml-core) (21.2.1)\nRequirement already satisfied, skipping upgrade: azure-graphrbac<1.0.0,>=0.40.0 in /anaconda/envs/azureml_py38/lib/python3.8/site-packages (from azureml-core) (0.61.1)\nRequirement already satisfied, skipping upgrade: cryptography!=1.9,!=2.0.*,!=2.1.*,!=2.2.*,<41 in /anaconda/envs/azureml_py38/lib/python3.8/site-packages (from azureml-core) (38.0.4)\nRequirement already satisfied, skipping upgrade: pynacl>=1.0.1 in /anaconda/envs/azureml_py38/lib/python3.8/site-packages (from paramiko<4.0.0,>=2.0.8->azureml-core) (1.5.0)\nRequirement already satisfied, skipping upgrade: six in /anaconda/envs/azureml_py38/lib/python3.8/site-packages (from paramiko<4.0.0,>=2.0.8->azureml-core) (1.16.0)\nRequirement already satisfied, skipping upgrade: bcrypt>=3.1.3 in /anaconda/envs/azureml_py38/lib/python3.8/site-packages (from paramiko<4.0.0,>=2.0.8->azureml-core) (4.0.1)\nRequirement already satisfied, skipping upgrade: pyparsing!=3.0.5,>=2.0.2 in /anaconda/envs/azureml_py38/lib/python3.8/site-packages (from packaging<=23.0,>=20.0->azureml-core) (3.0.9)\nRequirement already satisfied, skipping upgrade: tabulate in /anaconda/envs/azureml_py38/lib/python3.8/site-packages (from knack~=0.10.0->azureml-core) (0.9.0)\nRequirement already satisfied, skipping upgrade: pygments in /anaconda/envs/azureml_py38/lib/python3.8/site-packages (from knack~=0.10.0->azureml-core) (2.14.0)\nRequirement already satisfied, skipping upgrade: pyyaml in /anaconda/envs/azureml_py38/lib/python3.8/site-packages (from knack~=0.10.0->azureml-core) (6.0)\nRequirement already satisfied, skipping upgrade: websocket-client>=0.32.0 in /anaconda/envs/azureml_py38/lib/python3.8/site-packages (from docker<7.0.0->azureml-core) (1.5.0)\nRequirement already satisfied, skipping upgrade: backports.weakref in /anaconda/envs/azureml_py38/lib/python3.8/site-packages (from backports.tempfile->azureml-core) (1.0.post1)\nRequirement already satisfied, skipping upgrade: azure-mgmt-core<2.0.0,>=1.3.1 in /anaconda/envs/azureml_py38/lib/python3.8/site-packages (from azure-mgmt-storage<=21.0.0,>=16.0.0->azureml-core) (1.3.2)\nRequirement already satisfied, skipping upgrade: typing-extensions>=4.0.1 in /anaconda/envs/azureml_py38/lib/python3.8/site-packages (from azure-core<2.0.0->azureml-core) (4.4.0)\nRequirement already satisfied, skipping upgrade: jeepney>=0.6 in /anaconda/envs/azureml_py38/lib/python3.8/site-packages (from SecretStorage<4.0.0->azureml-core) (0.8.0)\nRequirement already satisfied, skipping upgrade: certifi>=2017.4.17 in /anaconda/envs/azureml_py38/lib/python3.8/site-packages (from msrest<=0.7.1,>=0.5.1->azureml-core) (2022.9.24)\nRequirement already satisfied, skipping upgrade: isodate>=0.6.0 in /anaconda/envs/azureml_py38/lib/python3.8/site-packages (from msrest<=0.7.1,>=0.5.1->azureml-core) (0.6.1)\nRequirement already satisfied, skipping upgrade: requests-oauthlib>=0.5.0 in /anaconda/envs/azureml_py38/lib/python3.8/site-packages (from msrest<=0.7.1,>=0.5.1->azureml-core) (1.3.1)\nRequirement already satisfied, skipping upgrade: portalocker<3,>=1.0; python_version >= \"3.5\" and platform_system != \"Windows\" in /anaconda/envs/azureml_py38/lib/python3.8/site-packages (from msal-extensions<=1.0.0,>=0.3.0->azureml-core) (2.7.0)\nRequirement already satisfied, skipping upgrade: idna<4,>=2.5 in /anaconda/envs/azureml_py38/lib/python3.8/site-packages (from requests[socks]<3.0.0,>=2.19.1->azureml-core) (3.4)\nRequirement already satisfied, skipping upgrade: charset-normalizer<4,>=2 in /anaconda/envs/azureml_py38/lib/python3.8/site-packages (from requests[socks]<3.0.0,>=2.19.1->azureml-core) (3.0.1)\nRequirement already satisfied, skipping upgrade: PySocks!=1.5.7,>=1.5.6; extra == \"socks\" in /anaconda/envs/azureml_py38/lib/python3.8/site-packages (from requests[socks]<3.0.0,>=2.19.1->azureml-core) (1.7.1)\nRequirement already satisfied, skipping upgrade: pyasn1>=0.1.1 in /anaconda/envs/azureml_py38/lib/python3.8/site-packages (from ndg-httpsclient<=0.5.1->azureml-core) (0.4.8)\nRequirement already satisfied, skipping upgrade: cffi>=1.12 in /anaconda/envs/azureml_py38/lib/python3.8/site-packages (from cryptography!=1.9,!=2.0.*,!=2.1.*,!=2.2.*,<41->azureml-core) (1.15.1)\nRequirement already satisfied, skipping upgrade: oauthlib>=3.0.0 in /anaconda/envs/azureml_py38/lib/python3.8/site-packages (from requests-oauthlib>=0.5.0->msrest<=0.7.1,>=0.5.1->azureml-core) (3.2.2)\nRequirement already satisfied, skipping upgrade: pycparser in /anaconda/envs/azureml_py38/lib/python3.8/site-packages (from cffi>=1.12->cryptography!=1.9,!=2.0.*,!=2.1.*,!=2.2.*,<41->azureml-core) (2.21)\n"
        }
      ],
      "execution_count": 1,
      "metadata": {
        "gather": {
          "logged": 1684477071072
        },
        "jupyter": {
          "outputs_hidden": true,
          "source_hidden": false
        },
        "nteract": {
          "transient": {
            "deleting": false
          }
        },
        "scrolled": true
      }
    },
    {
      "cell_type": "markdown",
      "source": [
        "# Automated ML\n",
        "\n",
        "TODO: Import Dependencies. In the cell below, import all the dependencies that you will need to complete the project."
      ],
      "metadata": {}
    },
    {
      "cell_type": "code",
      "source": [
        "import logging\n",
        "import os\n",
        "import csv\n",
        "\n",
        "#from matplotlib import pyplot as plt\n",
        "import numpy as np\n",
        "import pandas as pd\n",
        "#from sklearn import datasets\n",
        "import pkg_resources\n",
        "\n",
        "import azureml.core\n",
        "from azureml.core.experiment import Experiment\n",
        "from azureml.core.workspace import Workspace\n",
        "from azureml.train.automl import AutoMLConfig\n",
        "from azureml.core.dataset import Dataset\n",
        "\n",
        "from azureml.pipeline.steps import AutoMLStep"
      ],
      "outputs": [],
      "execution_count": 2,
      "metadata": {
        "gather": {
          "logged": 1685593790737
        },
        "jupyter": {
          "outputs_hidden": false,
          "source_hidden": false
        },
        "nteract": {
          "transient": {
            "deleting": false
          }
        }
      }
    },
    {
      "cell_type": "markdown",
      "source": [
        "## Dataset\n",
        "\n",
        "### Overview\n",
        "TODO: In this markdown cell, give an overview of the dataset you are using. Also mention the task you will be performing.\n",
        "\n",
        "\n",
        "TODO: Get data. In the cell below, write code to access the data you will be using in this project. Remember that the dataset needs to be external."
      ],
      "metadata": {}
    },
    {
      "cell_type": "markdown",
      "source": [
        "Title: Car Evaluation Database\n",
        "\n",
        "Task: To create the hierarchical decision model\n",
        "\n",
        "This model evaluates cars according to the following concept structure:\n",
        "\n",
        " CAR:car acceptability;\n",
        "\n",
        " buying:buying price;v-high, high, med, low\n",
        " \n",
        " maint:price of the maintenance;v-high, high, med, low\n",
        " \n",
        " doors:number of doors;2, 3, 4, 5-more\n",
        " \n",
        " persons:capacity in terms of persons to carry;2, 4, more\n",
        " \n",
        " lug_boot:the size of luggage boot;small, med, big\n",
        " \n",
        " safety:estimated safety of the car;low, med, high\n",
        "  \n",
        "Class Distribution;unacc,acc,good,v-good"
      ],
      "metadata": {
        "nteract": {
          "transient": {
            "deleting": false
          }
        }
      }
    },
    {
      "cell_type": "code",
      "source": [
        "ws = Workspace.from_config()\n",
        "\n",
        "# choose a name for experiment\n",
        "experiment_name = 'auto-ml'\n",
        "project_folder = './project'\n",
        "\n",
        "experiment=Experiment(ws, experiment_name)"
      ],
      "outputs": [],
      "execution_count": 3,
      "metadata": {
        "gather": {
          "logged": 1685593804110
        },
        "jupyter": {
          "outputs_hidden": false,
          "source_hidden": false
        },
        "nteract": {
          "transient": {
            "deleting": false
          }
        }
      }
    },
    {
      "cell_type": "code",
      "source": [
        "print(ws)"
      ],
      "outputs": [
        {
          "output_type": "stream",
          "name": "stdout",
          "text": "Workspace.create(name='quick-starts-ws-234838', subscription_id='610d6e37-4747-4a20-80eb-3aad70a55f43', resource_group='aml-quickstarts-234838')\n"
        }
      ],
      "execution_count": 24,
      "metadata": {
        "gather": {
          "logged": 1685683527725
        },
        "jupyter": {
          "outputs_hidden": false,
          "source_hidden": false
        },
        "nteract": {
          "transient": {
            "deleting": false
          }
        }
      }
    },
    {
      "cell_type": "code",
      "source": [
        "from azureml.core.compute import AmlCompute\n",
        "from azureml.core.compute import ComputeTarget\n",
        "from azureml.core.compute_target import ComputeTargetException\n",
        "\n",
        "# Create the cluster\n",
        "amlcompute_cluster_name = \"auto-ml\"\n",
        "\n",
        "compute_config = AmlCompute.provisioning_configuration(vm_size='STANDARD_D2_V2',\n",
        "    # for GPU, use \"STANDARD_NC6\"\n",
        "    #vm_priority = 'lowpriority', # optional\n",
        "    max_nodes=4)\n",
        "compute_target = ComputeTarget.create(ws, amlcompute_cluster_name, compute_config)\n",
        "\n",
        "compute_target.wait_for_completion(show_output=True, min_node_count = 1, timeout_in_minutes = 10)\n",
        "# For a more detailed view of current AmlCompute status, use get_status()."
      ],
      "outputs": [
        {
          "output_type": "stream",
          "name": "stdout",
          "text": "InProgress..\nSucceededProvisioning operation finished, operation \"Succeeded\"\nSucceeded..........................................................................................................................................................................................................................................\nAmlCompute wait for completion finished\n\nWait timeout has been reached\nCurrent provisioning state of AmlCompute is \"Succeeded\" and current node count is \"0\"\n"
        }
      ],
      "execution_count": 5,
      "metadata": {
        "gather": {
          "logged": 1685595045505
        },
        "jupyter": {
          "outputs_hidden": false,
          "source_hidden": false
        },
        "nteract": {
          "transient": {
            "deleting": false
          }
        }
      }
    },
    {
      "cell_type": "code",
      "source": [
        "# Create AML Dataset and register it into Workspace\n",
        "key='car evaluation data set'\n",
        "data = 'https://archive.ics.uci.edu/ml/machine-learning-databases/car/car.data'\n",
        "\n",
        "df = pd.read_csv(data)\n",
        "columns = ['buying', 'maint', 'doors', 'persons', 'lug_boot', 'safety', 'class']\n",
        "df.columns = columns\n",
        "\n",
        "# Convert the DataFrame to a TabularDataset\n",
        "dataset = Dataset.Tabular.register_pandas_dataframe(\n",
        "    dataframe=df, \n",
        "    target=(ws.get_default_datastore(), key), \n",
        "    name=key, \n",
        "    description='car evaluation data set')\n",
        "\n",
        "df.describe()\n"
      ],
      "outputs": [
        {
          "output_type": "stream",
          "name": "stdout",
          "text": "Validating arguments.\nArguments validated.\nSuccessfully obtained datastore reference and path.\nUploading file to car evaluation data set/1af3461c-63bc-4e8e-a517-d9b5ea913605/\nSuccessfully uploaded file to datastore.\nCreating and registering a new dataset.\nSuccessfully created and registered a new dataset.\n"
        },
        {
          "output_type": "execute_result",
          "execution_count": 6,
          "data": {
            "text/html": "<div>\n<style scoped>\n    .dataframe tbody tr th:only-of-type {\n        vertical-align: middle;\n    }\n\n    .dataframe tbody tr th {\n        vertical-align: top;\n    }\n\n    .dataframe thead th {\n        text-align: right;\n    }\n</style>\n<table border=\"1\" class=\"dataframe\">\n  <thead>\n    <tr style=\"text-align: right;\">\n      <th></th>\n      <th>buying</th>\n      <th>maint</th>\n      <th>doors</th>\n      <th>persons</th>\n      <th>lug_boot</th>\n      <th>safety</th>\n      <th>class</th>\n    </tr>\n  </thead>\n  <tbody>\n    <tr>\n      <th>count</th>\n      <td>1727</td>\n      <td>1727</td>\n      <td>1727</td>\n      <td>1727</td>\n      <td>1727</td>\n      <td>1727</td>\n      <td>1727</td>\n    </tr>\n    <tr>\n      <th>unique</th>\n      <td>4</td>\n      <td>4</td>\n      <td>4</td>\n      <td>3</td>\n      <td>3</td>\n      <td>3</td>\n      <td>4</td>\n    </tr>\n    <tr>\n      <th>top</th>\n      <td>high</td>\n      <td>high</td>\n      <td>5more</td>\n      <td>more</td>\n      <td>big</td>\n      <td>high</td>\n      <td>unacc</td>\n    </tr>\n    <tr>\n      <th>freq</th>\n      <td>432</td>\n      <td>432</td>\n      <td>432</td>\n      <td>576</td>\n      <td>576</td>\n      <td>576</td>\n      <td>1209</td>\n    </tr>\n  </tbody>\n</table>\n</div>",
            "text/plain": "       buying maint  doors persons lug_boot safety  class\ncount    1727  1727   1727    1727     1727   1727   1727\nunique      4     4      4       3        3      3      4\ntop      high  high  5more    more      big   high  unacc\nfreq      432   432    432     576      576    576   1209"
          },
          "metadata": {}
        }
      ],
      "execution_count": 6,
      "metadata": {
        "gather": {
          "logged": 1685595051432
        },
        "jupyter": {
          "outputs_hidden": false,
          "source_hidden": false
        },
        "nteract": {
          "transient": {
            "deleting": false
          }
        }
      }
    },
    {
      "cell_type": "markdown",
      "source": [
        "## AutoML Configuration\n",
        "\n",
        "TODO: Explain why you chose the automl settings and cofiguration you used below."
      ],
      "metadata": {}
    },
    {
      "cell_type": "markdown",
      "source": [
        "Automl setting\n",
        "\n",
        " - experiment time out minutes; to avoid endless working\n",
        "\n",
        " - max concurrent iterations; between cost and performance\n",
        "\n",
        " - primary metric; AUC is a widely used metric to evaluate the performance of binary classifiers. The weighted version extends it to multi-class classification by considering the class imbalance when computing the average AUC across classes. \n",
        "\n",
        "Automl configuration\n",
        "\n",
        " - task = \"classification\"; To make classification model\n",
        "\n",
        " - label_column_name=\"class\"; This column gives evalation result\n",
        "\n",
        " - enable_early_stopping= True; To save cost at score improvement small\n",
        "\n",
        " - featurization= 'auto'; Automated separation for training data and test data\n"
      ],
      "metadata": {
        "nteract": {
          "transient": {
            "deleting": false
          }
        }
      }
    },
    {
      "cell_type": "code",
      "source": [
        "# TODO: Put your automl settings here\n",
        "automl_settings = {\n",
        "    \"experiment_timeout_minutes\": 20,\n",
        "    \"max_concurrent_iterations\": 5,\n",
        "    \"primary_metric\" : 'AUC_weighted'\n",
        "}\n",
        "# TODO: Put your automl config here\n",
        "automl_config = AutoMLConfig(compute_target=compute_target,\n",
        "                             task = \"classification\",\n",
        "                             training_data=dataset,\n",
        "                             label_column_name=\"class\",   \n",
        "                             path = project_folder,\n",
        "                             enable_early_stopping= True,\n",
        "                             featurization= 'auto',\n",
        "                             debug_log = \"automl_errors.log\",\n",
        "                             **automl_settings\n",
        "                            )"
      ],
      "outputs": [],
      "execution_count": 7,
      "metadata": {
        "gather": {
          "logged": 1685595080183
        },
        "jupyter": {
          "outputs_hidden": false,
          "source_hidden": false
        },
        "nteract": {
          "transient": {
            "deleting": false
          }
        }
      }
    },
    {
      "cell_type": "code",
      "source": [
        "# TODO: Submit your experiment\n",
        "\n",
        "remote_run = experiment.submit(automl_config)\n"
      ],
      "outputs": [
        {
          "output_type": "stream",
          "name": "stdout",
          "text": "Submitting remote run.\n"
        },
        {
          "output_type": "display_data",
          "data": {
            "text/html": "<table style=\"width:100%\"><tr><th>Experiment</th><th>Id</th><th>Type</th><th>Status</th><th>Details Page</th><th>Docs Page</th></tr><tr><td>auto-ml</td><td>AutoML_afa079e7-2e68-4d81-b05e-95a7c00c17db</td><td>automl</td><td>NotStarted</td><td><a href=\"https://ml.azure.com/runs/AutoML_afa079e7-2e68-4d81-b05e-95a7c00c17db?wsid=/subscriptions/610d6e37-4747-4a20-80eb-3aad70a55f43/resourcegroups/aml-quickstarts-234786/workspaces/quick-starts-ws-234786&amp;tid=660b3398-b80e-49d2-bc5b-ac1dc93b5254\" target=\"_blank\" rel=\"noopener\">Link to Azure Machine Learning studio</a></td><td><a href=\"https://docs.microsoft.com/en-us/python/api/overview/azure/ml/intro?view=azure-ml-py\" target=\"_blank\" rel=\"noopener\">Link to Documentation</a></td></tr></table>",
            "text/plain": "<IPython.core.display.HTML object>"
          },
          "metadata": {}
        }
      ],
      "execution_count": 8,
      "metadata": {
        "gather": {
          "logged": 1685595090360
        },
        "jupyter": {
          "outputs_hidden": false,
          "source_hidden": false
        },
        "nteract": {
          "transient": {
            "deleting": false
          }
        }
      }
    },
    {
      "cell_type": "markdown",
      "source": [
        "## Run Details\n",
        "\n",
        "OPTIONAL: Write about the different models trained and their performance. Why do you think some models did better than others?\n",
        "\n",
        "TODO: In the cell below, use the `RunDetails` widget to show the different experiments."
      ],
      "metadata": {}
    },
    {
      "cell_type": "code",
      "source": [
        "from azureml.widgets import RunDetails\n",
        "\n",
        "RunDetails(remote_run).show()"
      ],
      "outputs": [
        {
          "output_type": "display_data",
          "data": {
            "application/vnd.jupyter.widget-view+json": {
              "model_id": "2bcc54e4dc1e4d8db97b4a91b3664384",
              "version_major": 2,
              "version_minor": 0
            },
            "text/plain": "_AutoMLWidget(widget_settings={'childWidgetDisplay': 'popup', 'send_telemetry': False, 'log_level': 'INFO', 's…"
          },
          "metadata": {}
        },
        {
          "output_type": "display_data",
          "data": {
            "application/aml.mini.widget.v1": "{\"status\": \"Completed\", \"workbench_run_details_uri\": \"https://ml.azure.com/runs/AutoML_afa079e7-2e68-4d81-b05e-95a7c00c17db?wsid=/subscriptions/610d6e37-4747-4a20-80eb-3aad70a55f43/resourcegroups/aml-quickstarts-234786/workspaces/quick-starts-ws-234786&tid=660b3398-b80e-49d2-bc5b-ac1dc93b5254\", \"run_id\": \"AutoML_afa079e7-2e68-4d81-b05e-95a7c00c17db\", \"run_properties\": {\"run_id\": \"AutoML_afa079e7-2e68-4d81-b05e-95a7c00c17db\", \"created_utc\": \"2023-06-01T04:51:28.913942Z\", \"properties\": {\"num_iterations\": \"1000\", \"training_type\": \"TrainFull\", \"acquisition_function\": \"EI\", \"primary_metric\": \"AUC_weighted\", \"train_split\": \"0\", \"acquisition_parameter\": \"0\", \"num_cross_validation\": null, \"target\": \"auto-ml\", \"AMLSettingsJsonString\": \"{\\\"path\\\":null,\\\"name\\\":\\\"auto-ml\\\",\\\"subscription_id\\\":\\\"610d6e37-4747-4a20-80eb-3aad70a55f43\\\",\\\"resource_group\\\":\\\"aml-quickstarts-234786\\\",\\\"workspace_name\\\":\\\"quick-starts-ws-234786\\\",\\\"region\\\":\\\"southcentralus\\\",\\\"compute_target\\\":\\\"auto-ml\\\",\\\"spark_service\\\":null,\\\"azure_service\\\":\\\"remote\\\",\\\"many_models\\\":false,\\\"pipeline_fetch_max_batch_size\\\":1,\\\"enable_batch_run\\\":true,\\\"enable_parallel_run\\\":false,\\\"num_procs\\\":null,\\\"enable_run_restructure\\\":false,\\\"start_auxiliary_runs_before_parent_complete\\\":false,\\\"enable_code_generation\\\":true,\\\"iterations\\\":1000,\\\"primary_metric\\\":\\\"AUC_weighted\\\",\\\"task_type\\\":\\\"classification\\\",\\\"positive_label\\\":null,\\\"data_script\\\":null,\\\"test_size\\\":0.0,\\\"test_include_predictions_only\\\":false,\\\"validation_size\\\":0.0,\\\"n_cross_validations\\\":null,\\\"y_min\\\":null,\\\"y_max\\\":null,\\\"num_classes\\\":null,\\\"featurization\\\":\\\"auto\\\",\\\"_ignore_package_version_incompatibilities\\\":false,\\\"is_timeseries\\\":false,\\\"max_cores_per_iteration\\\":1,\\\"max_concurrent_iterations\\\":5,\\\"iteration_timeout_minutes\\\":null,\\\"mem_in_mb\\\":null,\\\"enforce_time_on_windows\\\":false,\\\"experiment_timeout_minutes\\\":20,\\\"experiment_exit_score\\\":null,\\\"partition_column_names\\\":null,\\\"whitelist_models\\\":null,\\\"blacklist_algos\\\":[\\\"TensorFlowLinearClassifier\\\",\\\"TensorFlowDNN\\\"],\\\"supported_models\\\":[\\\"KNN\\\",\\\"GradientBoosting\\\",\\\"DecisionTree\\\",\\\"LinearSVM\\\",\\\"XGBoostClassifier\\\",\\\"MultinomialNaiveBayes\\\",\\\"TabnetClassifier\\\",\\\"LogisticRegression\\\",\\\"LightGBM\\\",\\\"SGD\\\",\\\"SVM\\\",\\\"TensorFlowLinearClassifier\\\",\\\"ExtremeRandomTrees\\\",\\\"RandomForest\\\",\\\"AveragedPerceptronClassifier\\\",\\\"TensorFlowDNN\\\",\\\"BernoulliNaiveBayes\\\"],\\\"private_models\\\":[],\\\"auto_blacklist\\\":true,\\\"blacklist_samples_reached\\\":false,\\\"exclude_nan_labels\\\":true,\\\"verbosity\\\":20,\\\"_debug_log\\\":\\\"azureml_automl.log\\\",\\\"show_warnings\\\":false,\\\"model_explainability\\\":true,\\\"service_url\\\":null,\\\"sdk_url\\\":null,\\\"sdk_packages\\\":null,\\\"enable_onnx_compatible_models\\\":false,\\\"enable_split_onnx_featurizer_estimator_models\\\":false,\\\"vm_type\\\":\\\"STANDARD_D2_V2\\\",\\\"telemetry_verbosity\\\":20,\\\"send_telemetry\\\":true,\\\"enable_dnn\\\":false,\\\"scenario\\\":\\\"AutoML\\\",\\\"environment_label\\\":null,\\\"save_mlflow\\\":false,\\\"enable_categorical_indicators\\\":false,\\\"force_text_dnn\\\":false,\\\"enable_feature_sweeping\\\":true,\\\"enable_early_stopping\\\":true,\\\"early_stopping_n_iters\\\":10,\\\"arguments\\\":null,\\\"dataset_id\\\":\\\"e76b5cd5-5348-4345-b811-4a66daa604c1\\\",\\\"hyperdrive_config\\\":null,\\\"validation_dataset_id\\\":null,\\\"run_source\\\":null,\\\"metrics\\\":null,\\\"enable_metric_confidence\\\":false,\\\"enable_ensembling\\\":true,\\\"enable_stack_ensembling\\\":true,\\\"ensemble_iterations\\\":15,\\\"enable_tf\\\":false,\\\"enable_subsampling\\\":null,\\\"subsample_seed\\\":null,\\\"enable_nimbusml\\\":false,\\\"enable_streaming\\\":false,\\\"force_streaming\\\":false,\\\"track_child_runs\\\":true,\\\"n_best_runs\\\":1,\\\"allowed_private_models\\\":[],\\\"label_column_name\\\":\\\"class\\\",\\\"weight_column_name\\\":null,\\\"cv_split_column_names\\\":null,\\\"enable_local_managed\\\":false,\\\"_local_managed_run_id\\\":null,\\\"cost_mode\\\":1,\\\"lag_length\\\":0,\\\"metric_operation\\\":\\\"maximize\\\",\\\"preprocess\\\":true}\", \"DataPrepJsonString\": \"{\\\\\\\"training_data\\\\\\\": {\\\\\\\"datasetId\\\\\\\": \\\\\\\"e76b5cd5-5348-4345-b811-4a66daa604c1\\\\\\\"}, \\\\\\\"datasets\\\\\\\": 0}\", \"EnableSubsampling\": null, \"runTemplate\": \"AutoML\", \"azureml.runsource\": \"automl\", \"display_task_type\": \"classification\", \"dependencies_versions\": \"{\\\"azureml-widgets\\\": \\\"1.49.0\\\", \\\"azureml-training-tabular\\\": \\\"1.49.0\\\", \\\"azureml-train\\\": \\\"1.49.0\\\", \\\"azureml-train-restclients-hyperdrive\\\": \\\"1.49.0\\\", \\\"azureml-train-core\\\": \\\"1.49.0\\\", \\\"azureml-train-automl\\\": \\\"1.49.0\\\", \\\"azureml-train-automl-runtime\\\": \\\"1.49.0\\\", \\\"azureml-train-automl-client\\\": \\\"1.49.0\\\", \\\"azureml-tensorboard\\\": \\\"1.49.0\\\", \\\"azureml-telemetry\\\": \\\"1.49.0\\\", \\\"azureml-sdk\\\": \\\"1.49.0\\\", \\\"azureml-responsibleai\\\": \\\"1.49.0\\\", \\\"azureml-pipeline\\\": \\\"1.49.0\\\", \\\"azureml-pipeline-steps\\\": \\\"1.49.0\\\", \\\"azureml-pipeline-core\\\": \\\"1.49.0\\\", \\\"azureml-opendatasets\\\": \\\"1.49.0\\\", \\\"azureml-mlflow\\\": \\\"1.49.0\\\", \\\"azureml-interpret\\\": \\\"1.49.0\\\", \\\"azureml-inference-server-http\\\": \\\"0.8.0\\\", \\\"azureml-explain-model\\\": \\\"1.49.0\\\", \\\"azureml-defaults\\\": \\\"1.49.0\\\", \\\"azureml-dataset-runtime\\\": \\\"1.49.0\\\", \\\"azureml-dataprep\\\": \\\"4.9.1\\\", \\\"azureml-dataprep-rslex\\\": \\\"2.16.1\\\", \\\"azureml-dataprep-native\\\": \\\"38.0.0\\\", \\\"azureml-datadrift\\\": \\\"1.49.0\\\", \\\"azureml-core\\\": \\\"1.49.0\\\", \\\"azureml-contrib-services\\\": \\\"1.49.0\\\", \\\"azureml-contrib-server\\\": \\\"1.49.0\\\", \\\"azureml-contrib-reinforcementlearning\\\": \\\"1.49.0\\\", \\\"azureml-contrib-pipeline-steps\\\": \\\"1.49.0\\\", \\\"azureml-contrib-notebook\\\": \\\"1.49.0\\\", \\\"azureml-contrib-fairness\\\": \\\"1.49.0\\\", \\\"azureml-contrib-dataset\\\": \\\"1.49.0\\\", \\\"azureml-contrib-automl-pipeline-steps\\\": \\\"1.49.0\\\", \\\"azureml-cli-common\\\": \\\"1.49.0\\\", \\\"azureml-automl-runtime\\\": \\\"1.49.0\\\", \\\"azureml-automl-dnn-nlp\\\": \\\"1.49.0\\\", \\\"azureml-automl-core\\\": \\\"1.49.0\\\", \\\"azureml-accel-models\\\": \\\"1.49.0\\\"}\", \"_aml_system_scenario_identification\": \"Remote.Parent\", \"ClientType\": \"SDK\", \"PlatformVersion\": \"DPV1\", \"environment_cpu_name\": \"AzureML-AutoML\", \"environment_cpu_label\": \"prod\", \"environment_gpu_name\": \"AzureML-AutoML-GPU\", \"environment_gpu_label\": \"prod\", \"root_attribution\": \"automl\", \"attribution\": \"AutoML\", \"Orchestrator\": \"AutoML\", \"CancelUri\": \"https://southcentralus.api.azureml.ms/jasmine/v1.0/subscriptions/610d6e37-4747-4a20-80eb-3aad70a55f43/resourceGroups/aml-quickstarts-234786/providers/Microsoft.MachineLearningServices/workspaces/quick-starts-ws-234786/experimentids/16d97530-4d31-4d20-9865-c3e243d19a9c/cancel/AutoML_afa079e7-2e68-4d81-b05e-95a7c00c17db\", \"ClientSdkVersion\": null, \"snapshotId\": \"00000000-0000-0000-0000-000000000000\", \"SetupRunId\": \"AutoML_afa079e7-2e68-4d81-b05e-95a7c00c17db_setup\", \"SetupRunContainerId\": \"dcid.AutoML_afa079e7-2e68-4d81-b05e-95a7c00c17db_setup\", \"FeaturizationRunJsonPath\": \"featurizer_container.json\", \"FeaturizationRunId\": \"AutoML_afa079e7-2e68-4d81-b05e-95a7c00c17db_featurize\", \"ProblemInfoJsonString\": \"{\\\"dataset_num_categorical\\\": 0, \\\"is_sparse\\\": true, \\\"subsampling\\\": false, \\\"has_extra_col\\\": true, \\\"dataset_classes\\\": 4, \\\"dataset_features\\\": 21, \\\"dataset_samples\\\": 1727, \\\"single_frequency_class_detected\\\": false}\", \"ModelExplainRunId\": \"AutoML_afa079e7-2e68-4d81-b05e-95a7c00c17db_ModelExplain\"}, \"tags\": {\"model_explain_run\": \"best_run\", \"_aml_system_automl_run_workspace_id\": \"566dd975-50f3-4fc9-93b5-bbaa94bc559e\", \"_aml_system_azureml.automlComponent\": \"AutoML\", \"pipeline_id_000\": \"5dfac790c5c209f98a1da2dc1c7fb76f0397324f;c7af0367625be6ac5c2fecbfc72ed444cb7a2111;51ae05309834b29f71340af1008fc94fbd8213f4;ce2643edf3d450b10c86c7d034a9bc952dc282d3;039a99c3d5147edeb525249e2660628be3e8b83f;a3dadd95854bf6116ab454844302b51d417d78b7;1dfdf370ba770047b14bfa59c40920815defcdab;294650ec23bc3d067a4972de7ceb12f6e97260fa;c74787cd2f0507b852a1ac70d504d83ac9bdec83;79ebb3b8c385e3190e3dd4c1fa28b74730528045;a72eb56f3d4aadb7b7f0149ba6e5f05657a95ca1;9610149fbcf43017aa810a290e9c04cbe6fa8684;1e38ae92baee19b18f211a8b14c16015d5ee3dc3;a7434e890cabef86b0ce4ae71fb633e1e92b854d;dd46719e1e1ca3df6e6826afb96bf9be8390e6e2;208056285bd1883d5bd7d4e4e996a1c71c4b0033;ee365d2bc711bc6838929328cc4ff4b890fbc6c3;3fe9ace0255a98a01a321c2b4c6ab86f6c1db8e5;681a59302459aec2cc115ddbc14e1d28f4b3b8df;5bcf69d12307c5f0246b0d33ab19666443595ac9;6f4a466f84f725a47910c1dff062a1bb46df2a21;dea7fdbaedc77258dbfe31dbfed41e768ca38939;4a069d5ff24f2d5acc20bf9214119c2202325ece;f9c4839cd35f7fe03bcc11d87a99d82f63f333dc;dfc631bbb8f3be228d228210719dafe9e4a19b00;7fd9ccb6fe9c41cc3f945c4bdc125fec3e0ad057;d6b59777ec875a63efbfc0704b2e67d652730595;43d161ca9587aadbc46c71d481d2c7c1bb35341c;d5ea02ef90d60384acf1cb1938dd861f439e9fb8;26909ef7bba7c36eec6a0ac2b5f146adcd9d6312;1a6ec8a59cf0f267f7eecd9cb1e128924bf6dfda;69dacccc43d7357fcde2f6ebd390403d86454665;37da623df5d68ac30bca7a3acc4f03fdf215a80d;5dcd9bc8a74634130a855a68c1bf956ce7160f98;87ea47b42f1dd0654ac807cc11ed60b3a7d9fa69;1313991204c9e29bffed0444f8279d7aa6d1b5e8;a1175d61af08748ce0e789e522c52a44e484dd8e;b4599320e27f57f7a6130a6fd2c9eb163f2e087f;__AutoML_Ensemble__;__AutoML_Stack_Ensemble__\", \"score_000\": \"0.9987787177700516;0.9985844805699463;0.9658076640270311;0.9734705304020258;0.971683486477084;0.9946857986998717;0.9761010027199591;0.9903016405662504;0.9950593846673023;0.9752911585443241;0.9963442778786574;0.9862407546483416;0.9886005147395781;0.9468114759781288;0.9943466744333511;0.9825929432624725;0.9944942408339038;0.9978869169956212;0.9951940756307899;0.9416637630737252;0.974824830345356;0.9856476777402018;0.9900785325983317;0.9468603385016906;0.988208224738333;0.9375418218566348;0.9795339952663807;0.9819845330364906;0.975734718063667;0.9832692661058166;0.9380857717273483;0.9927528885696383;0.9720645148107677;0.9831482301723553;NaN;0.9689438771875065;0.9867355000407775;NaN;0.9987612558888701;0.9986610139788145\", \"predicted_cost_000\": \"0;0;0.5;0.5;0.5;0.5;0.5;0.5;0.5;0.5;0.5;0.5;0.5;0.5;0.5;0.5;0.08945595078835313;0.19086049066130506;0.5;0.5;0.5;0.5;0.21918895831253443;0.038183954666451796;0.07070190404371776;0.1249153879687609;0.2216444319458976;0.010070297444994724;0.08367828464683061;0.049344553093356745;0.13510248019443333;0.20966218393757133;0.17917208566719725;0.2208623866281436;0.18901678379103057;0.15857098475391573;0.34254949465825935;0.23316227593694547;0;0\", \"fit_time_000\": \"0.2906303333333333;0.30661366666666673;0.023173333333333334;0.02876266666666667;0.035262999999999996;0.053017666666666664;0.33495366666666665;0.060594666666666665;0.09241733333333334;0.04121533333333333;0.3400083333333333;0.07669366666666666;0.12258766666666669;0.430058;0.052325666666666666;0.16249533333333332;0.05391566666666667;0.22076466666666664;0.042328;0.057908666666666664;0.028086333333333335;0.68237;0.39299100000000003;0.024551000000000003;0.03736066666666667;0.044478666666666666;0.127618;0.015600666666666665;0.10279566666666666;0.03300333333333333;0.274492;0.5736203333333334;0.07911233333333334;0.111371;NaN;0.276287;0.3260286666666667;NaN;22;34\", \"training_percent_000\": \"100;100;100;100;100;100;100;100;100;100;100;100;100;100;100;100;100;100;100;100;100;100;100;100;100;100;100;100;100;100;100;100;100;100;100;100;100;100;100;100\", \"iteration_000\": \"0;1;2;3;4;5;6;7;12;13;14;15;16;17;18;19;21;22;8;9;10;11;23;24;25;27;26;28;29;31;30;32;33;20;37;34;35;36;38;39\", \"run_preprocessor_000\": \"MaxAbsScaler;MaxAbsScaler;MaxAbsScaler;MaxAbsScaler;StandardScalerWrapper;SparseNormalizer;SparseNormalizer;StandardScalerWrapper;StandardScalerWrapper;StandardScalerWrapper;StandardScalerWrapper;MaxAbsScaler;MaxAbsScaler;StandardScalerWrapper;StandardScalerWrapper;MaxAbsScaler;StandardScalerWrapper;StandardScalerWrapper;SparseNormalizer;MaxAbsScaler;SparseNormalizer;MaxAbsScaler;MaxAbsScaler;MaxAbsScaler;SparseNormalizer;StandardScalerWrapper;MaxAbsScaler;MaxAbsScaler;MaxAbsScaler;MaxAbsScaler;SparseNormalizer;StandardScalerWrapper;StandardScalerWrapper;MaxAbsScaler;;SparseNormalizer;StandardScalerWrapper;SparseNormalizer;;\", \"run_algorithm_000\": \"LightGBM;XGBoostClassifier;ExtremeRandomTrees;RandomForest;LightGBM;XGBoostClassifier;RandomForest;XGBoostClassifier;XGBoostClassifier;ExtremeRandomTrees;RandomForest;LightGBM;LogisticRegression;ExtremeRandomTrees;XGBoostClassifier;ExtremeRandomTrees;XGBoostClassifier;XGBoostClassifier;XGBoostClassifier;RandomForest;LightGBM;ExtremeRandomTrees;LightGBM;RandomForest;XGBoostClassifier;LogisticRegression;LinearSVM;SGD;LogisticRegression;LightGBM;LightGBM;LightGBM;LightGBM;LogisticRegression;;XGBoostClassifier;LightGBM;XGBoostClassifier;VotingEnsemble;StackEnsemble\", \"dynamic_allowlisting_iterations\": \"<23>;<30>;<35>;\", \"_aml_system_azureml.automl_early_exit_message\": \"No scores improved over last 10 iterations, so experiment stopped early. This early stopping behavior can be disabled by setting enable_early_stopping = False in AutoMLConfig for notebook/python SDK runs.\", \"automl_best_child_run_id\": \"AutoML_afa079e7-2e68-4d81-b05e-95a7c00c17db_0\", \"model_explain_best_run_child_id\": \"AutoML_afa079e7-2e68-4d81-b05e-95a7c00c17db_0\"}, \"end_time_utc\": \"2023-06-01T05:12:03.537225Z\", \"status\": \"Completed\", \"log_files\": {}, \"log_groups\": [], \"run_duration\": \"0:20:34\", \"run_number\": \"1685595088\", \"run_queued_details\": {\"status\": \"Completed\", \"details\": null}}, \"child_runs\": [{\"run_id\": \"AutoML_afa079e7-2e68-4d81-b05e-95a7c00c17db_setup\", \"run_number\": 1685595102, \"metric\": null, \"status\": \"Completed\", \"run_type\": \"azureml.scriptrun\", \"training_percent\": null, \"start_time\": \"2023-06-01T04:54:34.506517Z\", \"end_time\": \"2023-06-01T04:56:34.864365Z\", \"created_time\": \"2023-06-01T04:51:42.123948Z\", \"created_time_dt\": \"2023-06-01T04:51:42.123948Z\", \"duration\": \"0:04:52\", \"iteration\": null, \"goal\": null, \"run_name\": \"Completed\", \"run_properties\": null}, {\"run_id\": \"AutoML_afa079e7-2e68-4d81-b05e-95a7c00c17db_featurize\", \"run_number\": 1685595395, \"metric\": null, \"status\": \"Completed\", \"run_type\": \"automl.featurization\", \"training_percent\": null, \"start_time\": \"2023-06-01T04:56:35.758372Z\", \"end_time\": \"2023-06-01T04:58:03.862014Z\", \"created_time\": \"2023-06-01T04:56:35.28549Z\", \"created_time_dt\": \"2023-06-01T04:56:35.28549Z\", \"duration\": \"0:01:28\", \"iteration\": null, \"goal\": null, \"run_name\": \"Completed\", \"run_properties\": null}, {\"run_id\": \"AutoML_afa079e7-2e68-4d81-b05e-95a7c00c17db_0\", \"run_number\": 1685595485, \"metric\": null, \"status\": \"Completed\", \"run_type\": null, \"training_percent\": \"100\", \"start_time\": \"2023-06-01T04:58:41.143405Z\", \"end_time\": \"2023-06-01T04:58:56.52436Z\", \"created_time\": \"2023-06-01T04:58:05.250317Z\", \"created_time_dt\": \"2023-06-01T04:58:05.250317Z\", \"duration\": \"0:00:51\", \"iteration\": \"0\", \"goal\": \"AUC_weighted_max\", \"run_name\": \"MaxAbsScaler, LightGBM\", \"run_properties\": \"copy=True\", \"primary_metric\": 0.99877872, \"best_metric\": 0.99877872}, {\"run_id\": \"AutoML_afa079e7-2e68-4d81-b05e-95a7c00c17db_worker_0\", \"run_number\": 1685595486, \"metric\": null, \"status\": \"Completed\", \"run_type\": \"azureml.scriptrun\", \"training_percent\": null, \"start_time\": \"2023-06-01T04:58:30.240155Z\", \"end_time\": \"2023-06-01T04:59:43.600121Z\", \"created_time\": \"2023-06-01T04:58:06.862593Z\", \"created_time_dt\": \"2023-06-01T04:58:06.862593Z\", \"duration\": \"0:01:36\", \"iteration\": null, \"goal\": null, \"run_name\": \"Completed\", \"run_properties\": null}, {\"run_id\": \"AutoML_afa079e7-2e68-4d81-b05e-95a7c00c17db_4\", \"run_number\": 1685595487, \"metric\": null, \"status\": \"Completed\", \"run_type\": null, \"training_percent\": \"100\", \"start_time\": \"2023-06-01T04:59:56.706595Z\", \"end_time\": \"2023-06-01T05:00:10.523353Z\", \"created_time\": \"2023-06-01T04:58:07.010508Z\", \"created_time_dt\": \"2023-06-01T04:58:07.010508Z\", \"duration\": \"0:02:03\", \"iteration\": \"4\", \"goal\": \"AUC_weighted_max\", \"run_name\": \"StandardScalerWrapper, LightGBM\", \"run_properties\": \"copy=True, with_mean=False, with_std=True\", \"primary_metric\": 0.97168349, \"best_metric\": 0.99877872}, {\"run_id\": \"AutoML_afa079e7-2e68-4d81-b05e-95a7c00c17db_worker_1\", \"run_number\": 1685595488, \"metric\": null, \"status\": \"Completed\", \"run_type\": \"azureml.scriptrun\", \"training_percent\": null, \"start_time\": \"2023-06-01T04:59:46.011934Z\", \"end_time\": \"2023-06-01T05:00:57.426209Z\", \"created_time\": \"2023-06-01T04:58:08.507387Z\", \"created_time_dt\": \"2023-06-01T04:58:08.507387Z\", \"duration\": \"0:02:48\", \"iteration\": null, \"goal\": null, \"run_name\": \"Completed\", \"run_properties\": null}, {\"run_id\": \"AutoML_afa079e7-2e68-4d81-b05e-95a7c00c17db_9\", \"run_number\": 1685595489, \"metric\": null, \"status\": \"Completed\", \"run_type\": null, \"training_percent\": \"100\", \"start_time\": \"2023-06-01T05:06:20.265406Z\", \"end_time\": \"2023-06-01T05:06:31.220759Z\", \"created_time\": \"2023-06-01T04:58:09.206293Z\", \"created_time_dt\": \"2023-06-01T04:58:09.206293Z\", \"duration\": \"0:08:22\", \"iteration\": \"9\", \"goal\": \"AUC_weighted_max\", \"run_name\": \"MaxAbsScaler, RandomForest\", \"run_properties\": \"copy=True\", \"primary_metric\": 0.94166376, \"best_metric\": 0.99877872}, {\"run_id\": \"AutoML_afa079e7-2e68-4d81-b05e-95a7c00c17db_12\", \"run_number\": 1685595490, \"metric\": null, \"status\": \"Completed\", \"run_type\": null, \"training_percent\": \"100\", \"start_time\": \"2023-06-01T05:01:12.558546Z\", \"end_time\": \"2023-06-01T05:01:26.618215Z\", \"created_time\": \"2023-06-01T04:58:10.413804Z\", \"created_time_dt\": \"2023-06-01T04:58:10.413804Z\", \"duration\": \"0:03:16\", \"iteration\": \"12\", \"goal\": \"AUC_weighted_max\", \"run_name\": \"StandardScalerWrapper, XGBoostClassifier\", \"run_properties\": \"copy=True, with_mean=False, with_std=False\", \"primary_metric\": 0.99505938, \"best_metric\": 0.99877872}, {\"run_id\": \"AutoML_afa079e7-2e68-4d81-b05e-95a7c00c17db_14\", \"run_number\": 1685595491, \"metric\": null, \"status\": \"Completed\", \"run_type\": null, \"training_percent\": \"100\", \"start_time\": \"2023-06-01T05:01:40.150966Z\", \"end_time\": \"2023-06-01T05:01:52.94163Z\", \"created_time\": \"2023-06-01T04:58:11.33385Z\", \"created_time_dt\": \"2023-06-01T04:58:11.33385Z\", \"duration\": \"0:03:41\", \"iteration\": \"14\", \"goal\": \"AUC_weighted_max\", \"run_name\": \"StandardScalerWrapper, RandomForest\", \"run_properties\": \"copy=True, with_mean=False, with_std=False\", \"primary_metric\": 0.99634428, \"best_metric\": 0.99877872}, {\"run_id\": \"AutoML_afa079e7-2e68-4d81-b05e-95a7c00c17db_worker_3\", \"run_number\": 1685595492, \"metric\": null, \"status\": \"Completed\", \"run_type\": \"azureml.scriptrun\", \"training_percent\": null, \"start_time\": \"2023-06-01T05:01:01.790544Z\", \"end_time\": \"2023-06-01T05:02:14.449695Z\", \"created_time\": \"2023-06-01T04:58:12.132725Z\", \"created_time_dt\": \"2023-06-01T04:58:12.132725Z\", \"duration\": \"0:04:02\", \"iteration\": null, \"goal\": null, \"run_name\": \"Completed\", \"run_properties\": null}, {\"run_id\": \"AutoML_afa079e7-2e68-4d81-b05e-95a7c00c17db_18\", \"run_number\": 1685595493, \"metric\": null, \"status\": \"Completed\", \"run_type\": null, \"training_percent\": \"100\", \"start_time\": \"2023-06-01T05:03:28.862255Z\", \"end_time\": \"2023-06-01T05:03:40.450735Z\", \"created_time\": \"2023-06-01T04:58:13.314189Z\", \"created_time_dt\": \"2023-06-01T04:58:13.314189Z\", \"duration\": \"0:05:27\", \"iteration\": \"18\", \"goal\": \"AUC_weighted_max\", \"run_name\": \"StandardScalerWrapper, XGBoostClassifier\", \"run_properties\": \"copy=True, with_mean=False, with_std=False\", \"primary_metric\": 0.99434667, \"best_metric\": 0.99877872}, {\"run_id\": \"AutoML_afa079e7-2e68-4d81-b05e-95a7c00c17db_worker_4\", \"run_number\": 1685595494, \"metric\": null, \"status\": \"Completed\", \"run_type\": \"azureml.scriptrun\", \"training_percent\": null, \"start_time\": \"2023-06-01T05:01:24.451086Z\", \"end_time\": \"2023-06-01T05:04:01.644809Z\", \"created_time\": \"2023-06-01T04:58:14.148382Z\", \"created_time_dt\": \"2023-06-01T04:58:14.148382Z\", \"duration\": \"0:05:47\", \"iteration\": null, \"goal\": null, \"run_name\": \"Completed\", \"run_properties\": null}, {\"run_id\": \"AutoML_afa079e7-2e68-4d81-b05e-95a7c00c17db_22\", \"run_number\": 1685595836, \"metric\": null, \"status\": \"Completed\", \"run_type\": \"azureml.scriptrun\", \"training_percent\": \"100\", \"start_time\": \"2023-06-01T05:04:27.111513Z\", \"end_time\": \"2023-06-01T05:04:59.813012Z\", \"created_time\": \"2023-06-01T05:03:56.020834Z\", \"created_time_dt\": \"2023-06-01T05:03:56.020834Z\", \"duration\": \"0:01:03\", \"iteration\": \"22\", \"goal\": \"AUC_weighted_max\", \"run_name\": \"StandardScalerWrapper, XGBoostClassifier\", \"run_properties\": \"copy=True, with_mean=False, with_std=False\", \"primary_metric\": 0.99788692, \"best_metric\": 0.99877872}, {\"run_id\": \"AutoML_afa079e7-2e68-4d81-b05e-95a7c00c17db_23\", \"run_number\": 1685595984, \"metric\": null, \"status\": \"Completed\", \"run_type\": \"azureml.scriptrun\", \"training_percent\": \"100\", \"start_time\": \"2023-06-01T05:06:46.512952Z\", \"end_time\": \"2023-06-01T05:07:18.998525Z\", \"created_time\": \"2023-06-01T05:06:24.607279Z\", \"created_time_dt\": \"2023-06-01T05:06:24.607279Z\", \"duration\": \"0:00:54\", \"iteration\": \"23\", \"goal\": \"AUC_weighted_max\", \"run_name\": \"MaxAbsScaler, LightGBM\", \"run_properties\": \"copy=True\", \"primary_metric\": 0.99007853, \"best_metric\": 0.99877872}, {\"run_id\": \"AutoML_afa079e7-2e68-4d81-b05e-95a7c00c17db_27\", \"run_number\": 1685596040, \"metric\": null, \"status\": \"Completed\", \"run_type\": \"azureml.scriptrun\", \"training_percent\": \"100\", \"start_time\": \"2023-06-01T05:07:44.911061Z\", \"end_time\": \"2023-06-01T05:08:15.494761Z\", \"created_time\": \"2023-06-01T05:07:20.871428Z\", \"created_time_dt\": \"2023-06-01T05:07:20.871428Z\", \"duration\": \"0:00:54\", \"iteration\": \"27\", \"goal\": \"AUC_weighted_max\", \"run_name\": \"StandardScalerWrapper, LogisticRegression\", \"run_properties\": \"copy=True, with_mean=False, with_std=True\", \"primary_metric\": 0.93754182, \"best_metric\": 0.99877872}, {\"run_id\": \"AutoML_afa079e7-2e68-4d81-b05e-95a7c00c17db_28\", \"run_number\": 1685596043, \"metric\": null, \"status\": \"Completed\", \"run_type\": \"azureml.scriptrun\", \"training_percent\": \"100\", \"start_time\": \"2023-06-01T05:07:49.697141Z\", \"end_time\": \"2023-06-01T05:08:21.717124Z\", \"created_time\": \"2023-06-01T05:07:23.17999Z\", \"created_time_dt\": \"2023-06-01T05:07:23.17999Z\", \"duration\": \"0:00:58\", \"iteration\": \"28\", \"goal\": \"AUC_weighted_max\", \"run_name\": \"MaxAbsScaler, SGD\", \"run_properties\": \"copy=True\", \"primary_metric\": 0.98198453, \"best_metric\": 0.99877872}, {\"run_id\": \"AutoML_afa079e7-2e68-4d81-b05e-95a7c00c17db_29\", \"run_number\": 1685596066, \"metric\": null, \"status\": \"Completed\", \"run_type\": \"azureml.scriptrun\", \"training_percent\": \"100\", \"start_time\": \"2023-06-01T05:08:18.19389Z\", \"end_time\": \"2023-06-01T05:08:49.476389Z\", \"created_time\": \"2023-06-01T05:07:46.473266Z\", \"created_time_dt\": \"2023-06-01T05:07:46.473266Z\", \"duration\": \"0:01:03\", \"iteration\": \"29\", \"goal\": \"AUC_weighted_max\", \"run_name\": \"MaxAbsScaler, LogisticRegression\", \"run_properties\": \"copy=True\", \"primary_metric\": 0.97573472, \"best_metric\": 0.99877872}, {\"run_id\": \"AutoML_afa079e7-2e68-4d81-b05e-95a7c00c17db_30\", \"run_number\": 1685596097, \"metric\": null, \"status\": \"Completed\", \"run_type\": \"azureml.scriptrun\", \"training_percent\": \"100\", \"start_time\": \"2023-06-01T05:08:43.702653Z\", \"end_time\": \"2023-06-01T05:09:16.429647Z\", \"created_time\": \"2023-06-01T05:08:17.87642Z\", \"created_time_dt\": \"2023-06-01T05:08:17.87642Z\", \"duration\": \"0:00:58\", \"iteration\": \"30\", \"goal\": \"AUC_weighted_max\", \"run_name\": \"SparseNormalizer, LightGBM\", \"run_properties\": \"copy=True, norm='l1'\", \"primary_metric\": 0.93808577, \"best_metric\": 0.99877872}, {\"run_id\": \"AutoML_afa079e7-2e68-4d81-b05e-95a7c00c17db_31\", \"run_number\": 1685596100, \"metric\": null, \"status\": \"Completed\", \"run_type\": \"azureml.scriptrun\", \"training_percent\": \"100\", \"start_time\": \"2023-06-01T05:08:43.543748Z\", \"end_time\": \"2023-06-01T05:09:15.52387Z\", \"created_time\": \"2023-06-01T05:08:20.058025Z\", \"created_time_dt\": \"2023-06-01T05:08:20.058025Z\", \"duration\": \"0:00:55\", \"iteration\": \"31\", \"goal\": \"AUC_weighted_max\", \"run_name\": \"MaxAbsScaler, LightGBM\", \"run_properties\": \"copy=True\", \"primary_metric\": 0.98326927, \"best_metric\": 0.99877872}, {\"run_id\": \"AutoML_afa079e7-2e68-4d81-b05e-95a7c00c17db_32\", \"run_number\": 1685596103, \"metric\": null, \"status\": \"Completed\", \"run_type\": \"azureml.scriptrun\", \"training_percent\": \"100\", \"start_time\": \"2023-06-01T05:08:52.319906Z\", \"end_time\": \"2023-06-01T05:09:25.515504Z\", \"created_time\": \"2023-06-01T05:08:23.249399Z\", \"created_time_dt\": \"2023-06-01T05:08:23.249399Z\", \"duration\": \"0:01:02\", \"iteration\": \"32\", \"goal\": \"AUC_weighted_max\", \"run_name\": \"StandardScalerWrapper, LightGBM\", \"run_properties\": \"copy=True, with_mean=False, with_std=True\", \"primary_metric\": 0.99275289, \"best_metric\": 0.99877872}, {\"run_id\": \"AutoML_afa079e7-2e68-4d81-b05e-95a7c00c17db_33\", \"run_number\": 1685596131, \"metric\": null, \"status\": \"Completed\", \"run_type\": \"azureml.scriptrun\", \"training_percent\": \"100\", \"start_time\": \"2023-06-01T05:09:20.575081Z\", \"end_time\": \"2023-06-01T05:09:52.695805Z\", \"created_time\": \"2023-06-01T05:08:50.999628Z\", \"created_time_dt\": \"2023-06-01T05:08:50.999628Z\", \"duration\": \"0:01:01\", \"iteration\": \"33\", \"goal\": \"AUC_weighted_max\", \"run_name\": \"StandardScalerWrapper, LightGBM\", \"run_properties\": \"copy=True, with_mean=False, with_std=True\", \"primary_metric\": 0.97206451, \"best_metric\": 0.99877872}, {\"run_id\": \"AutoML_afa079e7-2e68-4d81-b05e-95a7c00c17db_34\", \"run_number\": 1685596157, \"metric\": null, \"status\": \"Completed\", \"run_type\": \"azureml.scriptrun\", \"training_percent\": \"100\", \"start_time\": \"2023-06-01T05:09:43.753468Z\", \"end_time\": \"2023-06-01T05:10:14.601383Z\", \"created_time\": \"2023-06-01T05:09:17.070002Z\", \"created_time_dt\": \"2023-06-01T05:09:17.070002Z\", \"duration\": \"0:00:57\", \"iteration\": \"34\", \"goal\": \"AUC_weighted_max\", \"run_name\": \"SparseNormalizer, XGBoostClassifier\", \"run_properties\": \"copy=True, norm='l1'\", \"primary_metric\": 0.96894388, \"best_metric\": 0.99877872}, {\"run_id\": \"AutoML_afa079e7-2e68-4d81-b05e-95a7c00c17db_35\", \"run_number\": 1685596160, \"metric\": null, \"status\": \"Completed\", \"run_type\": \"azureml.scriptrun\", \"training_percent\": \"100\", \"start_time\": \"2023-06-01T05:09:43.92693Z\", \"end_time\": \"2023-06-01T05:10:14.672308Z\", \"created_time\": \"2023-06-01T05:09:20.601748Z\", \"created_time_dt\": \"2023-06-01T05:09:20.601748Z\", \"duration\": \"0:00:54\", \"iteration\": \"35\", \"goal\": \"AUC_weighted_max\", \"run_name\": \"StandardScalerWrapper, LightGBM\", \"run_properties\": \"copy=True, with_mean=False, with_std=True\", \"primary_metric\": 0.9867355, \"best_metric\": 0.99877872}, {\"run_id\": \"AutoML_afa079e7-2e68-4d81-b05e-95a7c00c17db_36\", \"run_number\": 1685596167, \"metric\": null, \"status\": \"Canceled\", \"run_type\": \"azureml.scriptrun\", \"training_percent\": \"100\", \"start_time\": \"2023-06-01T05:09:59.878412Z\", \"end_time\": \"2023-06-01T05:10:17.823293Z\", \"created_time\": \"2023-06-01T05:09:27.058826Z\", \"created_time_dt\": \"2023-06-01T05:09:27.058826Z\", \"duration\": \"0:00:50\", \"iteration\": \"36\", \"goal\": null, \"run_name\": \"SparseNormalizer, XGBoostClassifier\", \"run_properties\": null}, {\"run_id\": \"AutoML_afa079e7-2e68-4d81-b05e-95a7c00c17db_37\", \"run_number\": 1685596194, \"metric\": null, \"status\": \"Canceled\", \"run_type\": \"azureml.scriptrun\", \"training_percent\": \"100\", \"start_time\": \"2023-06-01T05:10:09.007713Z\", \"end_time\": \"2023-06-01T05:10:14.170833Z\", \"created_time\": \"2023-06-01T05:09:54.20027Z\", \"created_time_dt\": \"2023-06-01T05:09:54.20027Z\", \"duration\": \"0:00:19\", \"iteration\": \"37\", \"goal\": null, \"run_name\": \"Canceled\", \"run_properties\": null}, {\"run_id\": \"AutoML_afa079e7-2e68-4d81-b05e-95a7c00c17db_38\", \"run_number\": 1685596218, \"metric\": null, \"status\": \"Completed\", \"run_type\": \"azureml.scriptrun\", \"training_percent\": \"100\", \"start_time\": \"2023-06-01T05:10:44.52104Z\", \"end_time\": \"2023-06-01T05:11:45.070745Z\", \"created_time\": \"2023-06-01T05:10:18.55201Z\", \"created_time_dt\": \"2023-06-01T05:10:18.55201Z\", \"duration\": \"0:01:26\", \"iteration\": \"38\", \"goal\": \"AUC_weighted_max\", \"run_name\": \"VotingEnsemble\", \"run_properties\": \"classification_labels=numpy.array([0, 1, 2, 3]\", \"primary_metric\": 0.99876126, \"best_metric\": 0.99877872}], \"children_metrics\": {\"categories\": [0], \"series\": {\"f1_score_micro\": [{\"categories\": [\"0\", \"4\", \"9\", \"12\", \"14\", \"18\", \"22\", \"23\", \"27\", \"28\", \"29\", \"30\", \"31\", \"32\", \"33\", \"34\", \"35\", \"38\"], \"mode\": \"markers\", \"name\": \"f1_score_micro\", \"stepped\": false, \"type\": \"scatter\", \"data\": [0.9826328502415459, 0.8506038647342996, 0.733089774557166, 0.9438295088566827, 0.9530978260869566, 0.9490458937198069, 0.9646769323671497, 0.9079257246376812, 0.7892340982286635, 0.9131491545893718, 0.8917290660225442, 0.7000533413848631, 0.8940307971014493, 0.9253009259259258, 0.8540730676328502, 0.8598701690821255, 0.9056119162640902, 0.9814744363929147]}, {\"categories\": [\"0\", \"4\", \"9\", \"12\", \"14\", \"18\", \"22\", \"23\", \"27\", \"28\", \"29\", \"30\", \"31\", \"32\", \"33\", \"34\", \"35\", \"38\"], \"mode\": \"lines\", \"name\": \"f1_score_micro_max\", \"stepped\": true, \"type\": \"scatter\", \"data\": [0.9826328502415459, 0.9826328502415459, 0.9826328502415459, 0.9826328502415459, 0.9826328502415459, 0.9826328502415459, 0.9826328502415459, 0.9826328502415459, 0.9826328502415459, 0.9826328502415459, 0.9826328502415459, 0.9826328502415459, 0.9826328502415459, 0.9826328502415459, 0.9826328502415459, 0.9826328502415459, 0.9826328502415459, 0.9826328502415459]}], \"recall_score_weighted\": [{\"categories\": [\"0\", \"4\", \"9\", \"12\", \"14\", \"18\", \"22\", \"23\", \"27\", \"28\", \"29\", \"30\", \"31\", \"32\", \"33\", \"34\", \"35\", \"38\"], \"mode\": \"markers\", \"name\": \"recall_score_weighted\", \"stepped\": false, \"type\": \"scatter\", \"data\": [0.9826328502415459, 0.8506038647342996, 0.733089774557166, 0.9438295088566827, 0.9530978260869566, 0.9490458937198069, 0.9646769323671497, 0.9079257246376812, 0.7892340982286634, 0.9131491545893718, 0.8917290660225442, 0.7000533413848631, 0.8940307971014493, 0.9253009259259258, 0.8540730676328502, 0.8598701690821255, 0.9056119162640902, 0.9814744363929147]}, {\"categories\": [\"0\", \"4\", \"9\", \"12\", \"14\", \"18\", \"22\", \"23\", \"27\", \"28\", \"29\", \"30\", \"31\", \"32\", \"33\", \"34\", \"35\", \"38\"], \"mode\": \"lines\", \"name\": \"recall_score_weighted_max\", \"stepped\": true, \"type\": \"scatter\", \"data\": [0.9826328502415459, 0.9826328502415459, 0.9826328502415459, 0.9826328502415459, 0.9826328502415459, 0.9826328502415459, 0.9826328502415459, 0.9826328502415459, 0.9826328502415459, 0.9826328502415459, 0.9826328502415459, 0.9826328502415459, 0.9826328502415459, 0.9826328502415459, 0.9826328502415459, 0.9826328502415459, 0.9826328502415459, 0.9826328502415459]}], \"weighted_accuracy\": [{\"categories\": [\"0\", \"4\", \"9\", \"12\", \"14\", \"18\", \"22\", \"23\", \"27\", \"28\", \"29\", \"30\", \"31\", \"32\", \"33\", \"34\", \"35\", \"38\"], \"mode\": \"markers\", \"name\": \"weighted_accuracy\", \"stepped\": false, \"type\": \"scatter\", \"data\": [0.9865024510085333, 0.9357649496223579, 0.7809717126989012, 0.9666095264747914, 0.9758398043903741, 0.969123542273612, 0.9845834938221532, 0.9629781294901122, 0.8207321015006787, 0.9296444228190414, 0.8973443830605513, 0.9027471899119064, 0.9584982977810345, 0.9678325334089658, 0.9279002914502117, 0.917824790244361, 0.9546180158036477, 0.9870934124859301]}, {\"categories\": [\"0\", \"4\", \"9\", \"12\", \"14\", \"18\", \"22\", \"23\", \"27\", \"28\", \"29\", \"30\", \"31\", \"32\", \"33\", \"34\", \"35\", \"38\"], \"mode\": \"lines\", \"name\": \"weighted_accuracy_max\", \"stepped\": true, \"type\": \"scatter\", \"data\": [0.9865024510085333, 0.9865024510085333, 0.9865024510085333, 0.9865024510085333, 0.9865024510085333, 0.9865024510085333, 0.9865024510085333, 0.9865024510085333, 0.9865024510085333, 0.9865024510085333, 0.9865024510085333, 0.9865024510085333, 0.9865024510085333, 0.9865024510085333, 0.9865024510085333, 0.9865024510085333, 0.9865024510085333, 0.9870934124859301]}], \"log_loss\": [{\"categories\": [\"0\", \"4\", \"9\", \"12\", \"14\", \"18\", \"22\", \"23\", \"27\", \"28\", \"29\", \"30\", \"31\", \"32\", \"33\", \"34\", \"35\", \"38\"], \"mode\": \"markers\", \"name\": \"log_loss\", \"stepped\": false, \"type\": \"scatter\", \"data\": [0.05201993946696661, 0.38662437242333886, 0.7811939557526882, 0.2767804095756467, 0.19485350541409843, 0.22455660654886567, 0.12013456274294364, 0.2418414124838123, 0.6870386407020991, 0.33916971966704784, 0.7294434443223258, 0.8368983669636738, 0.3059460691086168, 0.22078858191771586, 0.35950928119456077, 1.2721975721952752, 0.2561186588650077, 0.08562212773893958]}, {\"categories\": [\"0\", \"4\", \"9\", \"12\", \"14\", \"18\", \"22\", \"23\", \"27\", \"28\", \"29\", \"30\", \"31\", \"32\", \"33\", \"34\", \"35\", \"38\"], \"mode\": \"lines\", \"name\": \"log_loss_min\", \"stepped\": true, \"type\": \"scatter\", \"data\": [0.05201993946696661, 0.05201993946696661, 0.05201993946696661, 0.05201993946696661, 0.05201993946696661, 0.05201993946696661, 0.05201993946696661, 0.05201993946696661, 0.05201993946696661, 0.05201993946696661, 0.05201993946696661, 0.05201993946696661, 0.05201993946696661, 0.05201993946696661, 0.05201993946696661, 0.05201993946696661, 0.05201993946696661, 0.05201993946696661]}], \"f1_score_macro\": [{\"categories\": [\"0\", \"4\", \"9\", \"12\", \"14\", \"18\", \"22\", \"23\", \"27\", \"28\", \"29\", \"30\", \"31\", \"32\", \"33\", \"34\", \"35\", \"38\"], \"mode\": \"markers\", \"name\": \"f1_score_macro\", \"stepped\": false, \"type\": \"scatter\", \"data\": [0.964149597555385, 0.52255584629399, 0.5448337841580387, 0.8374192846703742, 0.8581781771173914, 0.8457479346736708, 0.8808073538674682, 0.6628670119230673, 0.6276135457047266, 0.8367225852300834, 0.8194956235369167, 0.20586155621107324, 0.5702273677903554, 0.7459009890658536, 0.5247038561822587, 0.427468454104682, 0.7116204193462945, 0.9570715797811419]}, {\"categories\": [\"0\", \"4\", \"9\", \"12\", \"14\", \"18\", \"22\", \"23\", \"27\", \"28\", \"29\", \"30\", \"31\", \"32\", \"33\", \"34\", \"35\", \"38\"], \"mode\": \"lines\", \"name\": \"f1_score_macro_max\", \"stepped\": true, \"type\": \"scatter\", \"data\": [0.964149597555385, 0.964149597555385, 0.964149597555385, 0.964149597555385, 0.964149597555385, 0.964149597555385, 0.964149597555385, 0.964149597555385, 0.964149597555385, 0.964149597555385, 0.964149597555385, 0.964149597555385, 0.964149597555385, 0.964149597555385, 0.964149597555385, 0.964149597555385, 0.964149597555385, 0.964149597555385]}], \"f1_score_weighted\": [{\"categories\": [\"0\", \"4\", \"9\", \"12\", \"14\", \"18\", \"22\", \"23\", \"27\", \"28\", \"29\", \"30\", \"31\", \"32\", \"33\", \"34\", \"35\", \"38\"], \"mode\": \"markers\", \"name\": \"f1_score_weighted\", \"stepped\": false, \"type\": \"scatter\", \"data\": [0.9824728186538567, 0.8304598466802907, 0.7662767385026342, 0.943008474875643, 0.9514603101185574, 0.9489780264556975, 0.9636496753613186, 0.8997846839328235, 0.8022790134787029, 0.9168039846227384, 0.8964432583781079, 0.5766604579254334, 0.8758138278841733, 0.920657750356117, 0.8370788860154913, 0.8357669996461308, 0.9008930309827243, 0.9810949439218662]}, {\"categories\": [\"0\", \"4\", \"9\", \"12\", \"14\", \"18\", \"22\", \"23\", \"27\", \"28\", \"29\", \"30\", \"31\", \"32\", \"33\", \"34\", \"35\", \"38\"], \"mode\": \"lines\", \"name\": \"f1_score_weighted_max\", \"stepped\": true, \"type\": \"scatter\", \"data\": [0.9824728186538567, 0.9824728186538567, 0.9824728186538567, 0.9824728186538567, 0.9824728186538567, 0.9824728186538567, 0.9824728186538567, 0.9824728186538567, 0.9824728186538567, 0.9824728186538567, 0.9824728186538567, 0.9824728186538567, 0.9824728186538567, 0.9824728186538567, 0.9824728186538567, 0.9824728186538567, 0.9824728186538567, 0.9824728186538567]}], \"precision_score_macro\": [{\"categories\": [\"0\", \"4\", \"9\", \"12\", \"14\", \"18\", \"22\", \"23\", \"27\", \"28\", \"29\", \"30\", \"31\", \"32\", \"33\", \"34\", \"35\", \"38\"], \"mode\": \"markers\", \"name\": \"precision_score_macro\", \"stepped\": false, \"type\": \"scatter\", \"data\": [0.9692311328293718, 0.640965453558847, 0.5164253351377442, 0.8491955339331542, 0.8940080193446319, 0.8463078065625128, 0.8920424855991972, 0.7483971888523931, 0.6045374036053411, 0.8055521612839138, 0.7748776951146598, 0.17501333534621577, 0.8047833377838954, 0.8068499665515771, 0.6038377207807297, 0.4024706685917085, 0.7856038302029237, 0.967383184430035]}, {\"categories\": [\"0\", \"4\", \"9\", \"12\", \"14\", \"18\", \"22\", \"23\", \"27\", \"28\", \"29\", \"30\", \"31\", \"32\", \"33\", \"34\", \"35\", \"38\"], \"mode\": \"lines\", \"name\": \"precision_score_macro_max\", \"stepped\": true, \"type\": \"scatter\", \"data\": [0.9692311328293718, 0.9692311328293718, 0.9692311328293718, 0.9692311328293718, 0.9692311328293718, 0.9692311328293718, 0.9692311328293718, 0.9692311328293718, 0.9692311328293718, 0.9692311328293718, 0.9692311328293718, 0.9692311328293718, 0.9692311328293718, 0.9692311328293718, 0.9692311328293718, 0.9692311328293718, 0.9692311328293718, 0.9692311328293718]}], \"average_precision_score_macro\": [{\"categories\": [\"0\", \"4\", \"9\", \"12\", \"14\", \"18\", \"22\", \"23\", \"27\", \"28\", \"29\", \"30\", \"31\", \"32\", \"33\", \"34\", \"35\", \"38\"], \"mode\": \"markers\", \"name\": \"average_precision_score_macro\", \"stepped\": false, \"type\": \"scatter\", \"data\": [0.9938735922885464, 0.8064114496287181, 0.6947471049002178, 0.921641440491103, 0.9472658898155801, 0.9059837998462227, 0.9487214654951611, 0.8629546185747197, 0.7078406920973749, 0.7740021746183631, 0.8869715638208692, 0.6523066128890213, 0.8126272033059309, 0.8737260149078062, 0.7759191660816983, 0.7123606015371472, 0.8451756267290115, 0.9919015828790864]}, {\"categories\": [\"0\", \"4\", \"9\", \"12\", \"14\", \"18\", \"22\", \"23\", \"27\", \"28\", \"29\", \"30\", \"31\", \"32\", \"33\", \"34\", \"35\", \"38\"], \"mode\": \"lines\", \"name\": \"average_precision_score_macro_max\", \"stepped\": true, \"type\": \"scatter\", \"data\": [0.9938735922885464, 0.9938735922885464, 0.9938735922885464, 0.9938735922885464, 0.9938735922885464, 0.9938735922885464, 0.9938735922885464, 0.9938735922885464, 0.9938735922885464, 0.9938735922885464, 0.9938735922885464, 0.9938735922885464, 0.9938735922885464, 0.9938735922885464, 0.9938735922885464, 0.9938735922885464, 0.9938735922885464, 0.9938735922885464]}], \"accuracy\": [{\"categories\": [\"0\", \"4\", \"9\", \"12\", \"14\", \"18\", \"22\", \"23\", \"27\", \"28\", \"29\", \"30\", \"31\", \"32\", \"33\", \"34\", \"35\", \"38\"], \"mode\": \"markers\", \"name\": \"accuracy\", \"stepped\": false, \"type\": \"scatter\", \"data\": [0.9826328502415459, 0.8506038647342996, 0.733089774557166, 0.9438295088566827, 0.9530978260869566, 0.9490458937198069, 0.9646769323671497, 0.9079257246376812, 0.7892340982286634, 0.9131491545893718, 0.8917290660225442, 0.7000533413848631, 0.8940307971014493, 0.9253009259259258, 0.8540730676328502, 0.8598701690821255, 0.9056119162640902, 0.9814744363929147]}, {\"categories\": [\"0\", \"4\", \"9\", \"12\", \"14\", \"18\", \"22\", \"23\", \"27\", \"28\", \"29\", \"30\", \"31\", \"32\", \"33\", \"34\", \"35\", \"38\"], \"mode\": \"lines\", \"name\": \"accuracy_max\", \"stepped\": true, \"type\": \"scatter\", \"data\": [0.9826328502415459, 0.9826328502415459, 0.9826328502415459, 0.9826328502415459, 0.9826328502415459, 0.9826328502415459, 0.9826328502415459, 0.9826328502415459, 0.9826328502415459, 0.9826328502415459, 0.9826328502415459, 0.9826328502415459, 0.9826328502415459, 0.9826328502415459, 0.9826328502415459, 0.9826328502415459, 0.9826328502415459, 0.9826328502415459]}], \"recall_score_macro\": [{\"categories\": [\"0\", \"4\", \"9\", \"12\", \"14\", \"18\", \"22\", \"23\", \"27\", \"28\", \"29\", \"30\", \"31\", \"32\", \"33\", \"34\", \"35\", \"38\"], \"mode\": \"markers\", \"name\": \"recall_score_macro\", \"stepped\": false, \"type\": \"scatter\", \"data\": [0.9624798064408936, 0.5030431959490257, 0.7240486683395796, 0.8342007626115792, 0.8416110130943903, 0.8599818616877432, 0.8742798818816322, 0.6350658113403883, 0.7150839739335133, 0.89078144536407, 0.8887548839699866, 0.25, 0.5529955211186728, 0.7207767555838531, 0.5164101554256356, 0.47393559701997184, 0.6789566156428579, 0.9525300739192186]}, {\"categories\": [\"0\", \"4\", \"9\", \"12\", \"14\", \"18\", \"22\", \"23\", \"27\", \"28\", \"29\", \"30\", \"31\", \"32\", \"33\", \"34\", \"35\", \"38\"], \"mode\": \"lines\", \"name\": \"recall_score_macro_max\", \"stepped\": true, \"type\": \"scatter\", \"data\": [0.9624798064408936, 0.9624798064408936, 0.9624798064408936, 0.9624798064408936, 0.9624798064408936, 0.9624798064408936, 0.9624798064408936, 0.9624798064408936, 0.9624798064408936, 0.9624798064408936, 0.9624798064408936, 0.9624798064408936, 0.9624798064408936, 0.9624798064408936, 0.9624798064408936, 0.9624798064408936, 0.9624798064408936, 0.9624798064408936]}], \"AUC_micro\": [{\"categories\": [\"0\", \"4\", \"9\", \"12\", \"14\", \"18\", \"22\", \"23\", \"27\", \"28\", \"29\", \"30\", \"31\", \"32\", \"33\", \"34\", \"35\", \"38\"], \"mode\": \"markers\", \"name\": \"AUC_micro\", \"stepped\": false, \"type\": \"scatter\", \"data\": [0.9994114807837794, 0.979145058625809, 0.9411051977452393, 0.9965597286218757, 0.9972482122606623, 0.9967443996438315, 0.9986241843166637, 0.9926588145512115, 0.953056341286731, 0.9875568623327785, 0.9866323098689098, 0.926885995135372, 0.987177471751172, 0.9944968340353301, 0.9803675738150087, 0.9749006116612099, 0.9911843103501297, 0.9992990661135049]}, {\"categories\": [\"0\", \"4\", \"9\", \"12\", \"14\", \"18\", \"22\", \"23\", \"27\", \"28\", \"29\", \"30\", \"31\", \"32\", \"33\", \"34\", \"35\", \"38\"], \"mode\": \"lines\", \"name\": \"AUC_micro_max\", \"stepped\": true, \"type\": \"scatter\", \"data\": [0.9994114807837794, 0.9994114807837794, 0.9994114807837794, 0.9994114807837794, 0.9994114807837794, 0.9994114807837794, 0.9994114807837794, 0.9994114807837794, 0.9994114807837794, 0.9994114807837794, 0.9994114807837794, 0.9994114807837794, 0.9994114807837794, 0.9994114807837794, 0.9994114807837794, 0.9994114807837794, 0.9994114807837794, 0.9994114807837794]}], \"precision_score_micro\": [{\"categories\": [\"0\", \"4\", \"9\", \"12\", \"14\", \"18\", \"22\", \"23\", \"27\", \"28\", \"29\", \"30\", \"31\", \"32\", \"33\", \"34\", \"35\", \"38\"], \"mode\": \"markers\", \"name\": \"precision_score_micro\", \"stepped\": false, \"type\": \"scatter\", \"data\": [0.9826328502415459, 0.8506038647342996, 0.733089774557166, 0.9438295088566827, 0.9530978260869566, 0.9490458937198069, 0.9646769323671497, 0.9079257246376812, 0.7892340982286634, 0.9131491545893718, 0.8917290660225442, 0.7000533413848631, 0.8940307971014493, 0.9253009259259258, 0.8540730676328502, 0.8598701690821255, 0.9056119162640902, 0.9814744363929147]}, {\"categories\": [\"0\", \"4\", \"9\", \"12\", \"14\", \"18\", \"22\", \"23\", \"27\", \"28\", \"29\", \"30\", \"31\", \"32\", \"33\", \"34\", \"35\", \"38\"], \"mode\": \"lines\", \"name\": \"precision_score_micro_max\", \"stepped\": true, \"type\": \"scatter\", \"data\": [0.9826328502415459, 0.9826328502415459, 0.9826328502415459, 0.9826328502415459, 0.9826328502415459, 0.9826328502415459, 0.9826328502415459, 0.9826328502415459, 0.9826328502415459, 0.9826328502415459, 0.9826328502415459, 0.9826328502415459, 0.9826328502415459, 0.9826328502415459, 0.9826328502415459, 0.9826328502415459, 0.9826328502415459, 0.9826328502415459]}], \"norm_macro_recall\": [{\"categories\": [\"0\", \"4\", \"9\", \"12\", \"14\", \"18\", \"22\", \"23\", \"27\", \"28\", \"29\", \"30\", \"31\", \"32\", \"33\", \"34\", \"35\", \"38\"], \"mode\": \"markers\", \"name\": \"norm_macro_recall\", \"stepped\": false, \"type\": \"scatter\", \"data\": [0.9499730752545248, 0.33739092793203423, 0.6320648911194394, 0.7789343501487721, 0.788814684125854, 0.8133091489169907, 0.8323731758421764, 0.5134210817871846, 0.6201119652446844, 0.8543752604854266, 0.8516731786266486, 0.0, 0.4039940281582304, 0.6277023407784709, 0.3552135405675141, 0.2985807960266291, 0.5719421541904771, 0.9367067652256248]}, {\"categories\": [\"0\", \"4\", \"9\", \"12\", \"14\", \"18\", \"22\", \"23\", \"27\", \"28\", \"29\", \"30\", \"31\", \"32\", \"33\", \"34\", \"35\", \"38\"], \"mode\": \"lines\", \"name\": \"norm_macro_recall_max\", \"stepped\": true, \"type\": \"scatter\", \"data\": [0.9499730752545248, 0.9499730752545248, 0.9499730752545248, 0.9499730752545248, 0.9499730752545248, 0.9499730752545248, 0.9499730752545248, 0.9499730752545248, 0.9499730752545248, 0.9499730752545248, 0.9499730752545248, 0.9499730752545248, 0.9499730752545248, 0.9499730752545248, 0.9499730752545248, 0.9499730752545248, 0.9499730752545248, 0.9499730752545248]}], \"AUC_macro\": [{\"categories\": [\"0\", \"4\", \"9\", \"12\", \"14\", \"18\", \"22\", \"23\", \"27\", \"28\", \"29\", \"30\", \"31\", \"32\", \"33\", \"34\", \"35\", \"38\"], \"mode\": \"markers\", \"name\": \"AUC_macro\", \"stepped\": false, \"type\": \"scatter\", \"data\": [0.9990457541187446, 0.9704123053369317, 0.9347562133121077, 0.9936475645054134, 0.9955201665948857, 0.9928573550319791, 0.9967394368019601, 0.9872908040848533, 0.9402498059441747, 0.9805084750356663, 0.9816827946786307, 0.943333785840717, 0.9792455306467257, 0.990280369119055, 0.9704572570579683, 0.9650282723135488, 0.9847515420550913, 0.998898637692594]}, {\"categories\": [\"0\", \"4\", \"9\", \"12\", \"14\", \"18\", \"22\", \"23\", \"27\", \"28\", \"29\", \"30\", \"31\", \"32\", \"33\", \"34\", \"35\", \"38\"], \"mode\": \"lines\", \"name\": \"AUC_macro_max\", \"stepped\": true, \"type\": \"scatter\", \"data\": [0.9990457541187446, 0.9990457541187446, 0.9990457541187446, 0.9990457541187446, 0.9990457541187446, 0.9990457541187446, 0.9990457541187446, 0.9990457541187446, 0.9990457541187446, 0.9990457541187446, 0.9990457541187446, 0.9990457541187446, 0.9990457541187446, 0.9990457541187446, 0.9990457541187446, 0.9990457541187446, 0.9990457541187446, 0.9990457541187446]}], \"average_precision_score_weighted\": [{\"categories\": [\"0\", \"4\", \"9\", \"12\", \"14\", \"18\", \"22\", \"23\", \"27\", \"28\", \"29\", \"30\", \"31\", \"32\", \"33\", \"34\", \"35\", \"38\"], \"mode\": \"markers\", \"name\": \"average_precision_score_weighted\", \"stepped\": false, \"type\": \"scatter\", \"data\": [0.9971952408718546, 0.9236071253171283, 0.8461898964194741, 0.9790901776114646, 0.984326895400273, 0.9752600699962063, 0.9878472810691968, 0.9616186245176395, 0.8816403959187221, 0.9400889469456768, 0.951842111229167, 0.8518256364672245, 0.9379115537892573, 0.9689167042379698, 0.9193475964050967, 0.898619701190409, 0.9539045698235545, 0.9963777931822421]}, {\"categories\": [\"0\", \"4\", \"9\", \"12\", \"14\", \"18\", \"22\", \"23\", \"27\", \"28\", \"29\", \"30\", \"31\", \"32\", \"33\", \"34\", \"35\", \"38\"], \"mode\": \"lines\", \"name\": \"average_precision_score_weighted_max\", \"stepped\": true, \"type\": \"scatter\", \"data\": [0.9971952408718546, 0.9971952408718546, 0.9971952408718546, 0.9971952408718546, 0.9971952408718546, 0.9971952408718546, 0.9971952408718546, 0.9971952408718546, 0.9971952408718546, 0.9971952408718546, 0.9971952408718546, 0.9971952408718546, 0.9971952408718546, 0.9971952408718546, 0.9971952408718546, 0.9971952408718546, 0.9971952408718546, 0.9971952408718546]}], \"recall_score_micro\": [{\"categories\": [\"0\", \"4\", \"9\", \"12\", \"14\", \"18\", \"22\", \"23\", \"27\", \"28\", \"29\", \"30\", \"31\", \"32\", \"33\", \"34\", \"35\", \"38\"], \"mode\": \"markers\", \"name\": \"recall_score_micro\", \"stepped\": false, \"type\": \"scatter\", \"data\": [0.9826328502415459, 0.8506038647342996, 0.733089774557166, 0.9438295088566827, 0.9530978260869566, 0.9490458937198069, 0.9646769323671497, 0.9079257246376812, 0.7892340982286634, 0.9131491545893718, 0.8917290660225442, 0.7000533413848631, 0.8940307971014493, 0.9253009259259258, 0.8540730676328502, 0.8598701690821255, 0.9056119162640902, 0.9814744363929147]}, {\"categories\": [\"0\", \"4\", \"9\", \"12\", \"14\", \"18\", \"22\", \"23\", \"27\", \"28\", \"29\", \"30\", \"31\", \"32\", \"33\", \"34\", \"35\", \"38\"], \"mode\": \"lines\", \"name\": \"recall_score_micro_max\", \"stepped\": true, \"type\": \"scatter\", \"data\": [0.9826328502415459, 0.9826328502415459, 0.9826328502415459, 0.9826328502415459, 0.9826328502415459, 0.9826328502415459, 0.9826328502415459, 0.9826328502415459, 0.9826328502415459, 0.9826328502415459, 0.9826328502415459, 0.9826328502415459, 0.9826328502415459, 0.9826328502415459, 0.9826328502415459, 0.9826328502415459, 0.9826328502415459, 0.9826328502415459]}], \"matthews_correlation\": [{\"categories\": [\"0\", \"4\", \"9\", \"12\", \"14\", \"18\", \"22\", \"23\", \"27\", \"28\", \"29\", \"30\", \"31\", \"32\", \"33\", \"34\", \"35\", \"38\"], \"mode\": \"markers\", \"name\": \"matthews_correlation\", \"stepped\": false, \"type\": \"scatter\", \"data\": [0.9624785282073072, 0.6601245609609664, 0.5342648319196596, 0.8799914023886655, 0.898856491344012, 0.8918456388396949, 0.923626740409775, 0.8003658414805734, 0.6008162953449822, 0.8193157028030366, 0.7879856646920104, 0.0, 0.7699674235787363, 0.8373931498906807, 0.6787880017123475, 0.7183517932081301, 0.7958791790461138, 0.9600625214121675]}, {\"categories\": [\"0\", \"4\", \"9\", \"12\", \"14\", \"18\", \"22\", \"23\", \"27\", \"28\", \"29\", \"30\", \"31\", \"32\", \"33\", \"34\", \"35\", \"38\"], \"mode\": \"lines\", \"name\": \"matthews_correlation_max\", \"stepped\": true, \"type\": \"scatter\", \"data\": [0.9624785282073072, 0.9624785282073072, 0.9624785282073072, 0.9624785282073072, 0.9624785282073072, 0.9624785282073072, 0.9624785282073072, 0.9624785282073072, 0.9624785282073072, 0.9624785282073072, 0.9624785282073072, 0.9624785282073072, 0.9624785282073072, 0.9624785282073072, 0.9624785282073072, 0.9624785282073072, 0.9624785282073072, 0.9624785282073072]}], \"precision_score_weighted\": [{\"categories\": [\"0\", \"4\", \"9\", \"12\", \"14\", \"18\", \"22\", \"23\", \"27\", \"28\", \"29\", \"30\", \"31\", \"32\", \"33\", \"34\", \"35\", \"38\"], \"mode\": \"markers\", \"name\": \"precision_score_weighted\", \"stepped\": false, \"type\": \"scatter\", \"data\": [0.9832159651814981, 0.827876763078628, 0.8354384315768794, 0.9447029864605949, 0.9540773254899574, 0.9520228262289541, 0.9637132960382512, 0.9043736543898963, 0.8413490802551689, 0.9248063345116533, 0.9114243329021307, 0.4903714650241011, 0.8967126962020447, 0.9239767431298721, 0.8355165887762687, 0.8322619023093406, 0.9055096417859344, 0.9820170357815706]}, {\"categories\": [\"0\", \"4\", \"9\", \"12\", \"14\", \"18\", \"22\", \"23\", \"27\", \"28\", \"29\", \"30\", \"31\", \"32\", \"33\", \"34\", \"35\", \"38\"], \"mode\": \"lines\", \"name\": \"precision_score_weighted_max\", \"stepped\": true, \"type\": \"scatter\", \"data\": [0.9832159651814981, 0.9832159651814981, 0.9832159651814981, 0.9832159651814981, 0.9832159651814981, 0.9832159651814981, 0.9832159651814981, 0.9832159651814981, 0.9832159651814981, 0.9832159651814981, 0.9832159651814981, 0.9832159651814981, 0.9832159651814981, 0.9832159651814981, 0.9832159651814981, 0.9832159651814981, 0.9832159651814981, 0.9832159651814981]}], \"balanced_accuracy\": [{\"categories\": [\"0\", \"4\", \"9\", \"12\", \"14\", \"18\", \"22\", \"23\", \"27\", \"28\", \"29\", \"30\", \"31\", \"32\", \"33\", \"34\", \"35\", \"38\"], \"mode\": \"markers\", \"name\": \"balanced_accuracy\", \"stepped\": false, \"type\": \"scatter\", \"data\": [0.9624798064408936, 0.5030431959490257, 0.7240486683395796, 0.8342007626115792, 0.8416110130943903, 0.8599818616877432, 0.8742798818816322, 0.6350658113403883, 0.7150839739335133, 0.89078144536407, 0.8887548839699866, 0.25, 0.5529955211186728, 0.7207767555838531, 0.5164101554256356, 0.47393559701997184, 0.6789566156428579, 0.9525300739192186]}, {\"categories\": [\"0\", \"4\", \"9\", \"12\", \"14\", \"18\", \"22\", \"23\", \"27\", \"28\", \"29\", \"30\", \"31\", \"32\", \"33\", \"34\", \"35\", \"38\"], \"mode\": \"lines\", \"name\": \"balanced_accuracy_max\", \"stepped\": true, \"type\": \"scatter\", \"data\": [0.9624798064408936, 0.9624798064408936, 0.9624798064408936, 0.9624798064408936, 0.9624798064408936, 0.9624798064408936, 0.9624798064408936, 0.9624798064408936, 0.9624798064408936, 0.9624798064408936, 0.9624798064408936, 0.9624798064408936, 0.9624798064408936, 0.9624798064408936, 0.9624798064408936, 0.9624798064408936, 0.9624798064408936, 0.9624798064408936]}], \"AUC_weighted\": [{\"categories\": [\"0\", \"4\", \"9\", \"12\", \"14\", \"18\", \"22\", \"23\", \"27\", \"28\", \"29\", \"30\", \"31\", \"32\", \"33\", \"34\", \"35\", \"38\"], \"mode\": \"markers\", \"name\": \"AUC_weighted\", \"stepped\": false, \"type\": \"scatter\", \"data\": [0.9987787177700516, 0.971683486477084, 0.9416637630737252, 0.9950593846673023, 0.9963442778786574, 0.9943466744333511, 0.9978869169956212, 0.9900785325983317, 0.9375418218566348, 0.9819845330364906, 0.975734718063667, 0.9380857717273483, 0.9832692661058166, 0.9927528885696383, 0.9720645148107677, 0.9689438771875065, 0.9867355000407775, 0.9987612558888701]}, {\"categories\": [\"0\", \"4\", \"9\", \"12\", \"14\", \"18\", \"22\", \"23\", \"27\", \"28\", \"29\", \"30\", \"31\", \"32\", \"33\", \"34\", \"35\", \"38\"], \"mode\": \"lines\", \"name\": \"AUC_weighted_max\", \"stepped\": true, \"type\": \"scatter\", \"data\": [0.9987787177700516, 0.9987787177700516, 0.9987787177700516, 0.9987787177700516, 0.9987787177700516, 0.9987787177700516, 0.9987787177700516, 0.9987787177700516, 0.9987787177700516, 0.9987787177700516, 0.9987787177700516, 0.9987787177700516, 0.9987787177700516, 0.9987787177700516, 0.9987787177700516, 0.9987787177700516, 0.9987787177700516, 0.9987787177700516]}], \"average_precision_score_micro\": [{\"categories\": [\"0\", \"4\", \"9\", \"12\", \"14\", \"18\", \"22\", \"23\", \"27\", \"28\", \"29\", \"30\", \"31\", \"32\", \"33\", \"34\", \"35\", \"38\"], \"mode\": \"markers\", \"name\": \"average_precision_score_micro\", \"stepped\": false, \"type\": \"scatter\", \"data\": [0.9982808475759496, 0.9484372884358808, 0.8677105213335649, 0.9905463900980219, 0.9919471482478578, 0.9908320935004012, 0.9960043403411741, 0.9802815907656935, 0.8742263619984171, 0.9672043358142007, 0.9623393922175051, 0.8682859250624612, 0.9668042998321676, 0.9850263593007863, 0.9504525745002246, 0.939679166109312, 0.9760336162277926, 0.9979203517401402]}, {\"categories\": [\"0\", \"4\", \"9\", \"12\", \"14\", \"18\", \"22\", \"23\", \"27\", \"28\", \"29\", \"30\", \"31\", \"32\", \"33\", \"34\", \"35\", \"38\"], \"mode\": \"lines\", \"name\": \"average_precision_score_micro_max\", \"stepped\": true, \"type\": \"scatter\", \"data\": [0.9982808475759496, 0.9982808475759496, 0.9982808475759496, 0.9982808475759496, 0.9982808475759496, 0.9982808475759496, 0.9982808475759496, 0.9982808475759496, 0.9982808475759496, 0.9982808475759496, 0.9982808475759496, 0.9982808475759496, 0.9982808475759496, 0.9982808475759496, 0.9982808475759496, 0.9982808475759496, 0.9982808475759496, 0.9982808475759496]}]}, \"metricName\": null, \"primaryMetricName\": \"AUC_weighted\", \"showLegend\": false}, \"run_metrics\": [{\"name\": \"experiment_status\", \"run_id\": \"AutoML_afa079e7-2e68-4d81-b05e-95a7c00c17db\", \"categories\": [0, 1, 2, 3, 4, 5, 6, 7, 8, 9, 10, 11, 12, 13, 14], \"series\": [{\"data\": [\"DatasetEvaluation\", \"FeaturesGeneration\", \"DatasetFeaturization\", \"DatasetFeaturizationCompleted\", \"DatasetBalancing\", \"DatasetCrossValidationSplit\", \"ModelSelection\", \"BestRunExplainModel\", \"ModelExplanationDataSetSetup\", \"PickSurrogateModel\", \"EngineeredFeatureExplanations\", \"EngineeredFeatureExplanations\", \"RawFeaturesExplanations\", \"RawFeaturesExplanations\", \"BestRunExplainModel\"]}]}, {\"name\": \"experiment_status_description\", \"run_id\": \"AutoML_afa079e7-2e68-4d81-b05e-95a7c00c17db\", \"categories\": [0, 1, 2, 3, 4, 5, 6, 7, 8, 9, 10, 11, 12, 13, 14], \"series\": [{\"data\": [\"Gathering dataset statistics.\", \"Generating features for the dataset.\", \"Beginning to fit featurizers and featurize the dataset.\", \"Completed fit featurizers and featurizing the dataset.\", \"Performing class balancing sweeping\", \"Generating individually featurized CV splits.\", \"Beginning model selection.\", \"Best run model explanations started\", \"Model explanations data setup completed\", \"Choosing LightGBM as the surrogate model for explanations\", \"Computation of engineered features started\", \"Computation of engineered features completed\", \"Computation of raw features started\", \"Computation of raw features completed\", \"Best run model explanations completed\"]}]}], \"run_logs\": \"\\nRun is completed.\", \"graph\": {}, \"widget_settings\": {\"childWidgetDisplay\": \"popup\", \"send_telemetry\": false, \"log_level\": \"INFO\", \"sdk_version\": \"1.49.0\"}, \"loading\": false}"
          },
          "metadata": {}
        }
      ],
      "execution_count": 9,
      "metadata": {
        "gather": {
          "logged": 1685595145810
        },
        "jupyter": {
          "outputs_hidden": false,
          "source_hidden": false
        },
        "nteract": {
          "transient": {
            "deleting": false
          }
        }
      }
    },
    {
      "cell_type": "markdown",
      "source": [
        "## Best Model\n",
        "\n",
        "TODO: In the cell below, get the best model from the automl experiments and display all the properties of the model.\n",
        "\n"
      ],
      "metadata": {}
    },
    {
      "cell_type": "code",
      "source": [
        "#Wait for the AutoML run to complete\n",
        "remote_run.wait_for_completion(show_output=True)\n",
        "\n",
        "#\"best_run\" contains the model, metrics, and run ID\n",
        "#\"fitted_model\" contains the actual trained model object\n",
        "best_run, fitted_model = remote_run.get_output()\n",
        "\n",
        "#\"best_run_metrics\" contains a dictionary of the metrics associated with the best run.\n",
        "best_run_metrics = best_run.get_metrics()\n",
        "\n",
        "# Display all the properties of the best model\n",
        "print(best_run.get_properties())\n"
      ],
      "outputs": [
        {
          "output_type": "display_data",
          "data": {
            "text/html": "<table style=\"width:100%\"><tr><th>Experiment</th><th>Id</th><th>Type</th><th>Status</th><th>Details Page</th><th>Docs Page</th></tr><tr><td>auto-ml</td><td>AutoML_afa079e7-2e68-4d81-b05e-95a7c00c17db</td><td>automl</td><td>Completed</td><td><a href=\"https://ml.azure.com/runs/AutoML_afa079e7-2e68-4d81-b05e-95a7c00c17db?wsid=/subscriptions/610d6e37-4747-4a20-80eb-3aad70a55f43/resourcegroups/aml-quickstarts-234786/workspaces/quick-starts-ws-234786&amp;tid=660b3398-b80e-49d2-bc5b-ac1dc93b5254\" target=\"_blank\" rel=\"noopener\">Link to Azure Machine Learning studio</a></td><td><a href=\"https://docs.microsoft.com/en-us/python/api/overview/azure/ml/intro?view=azure-ml-py\" target=\"_blank\" rel=\"noopener\">Link to Documentation</a></td></tr></table>",
            "text/plain": "<IPython.core.display.HTML object>"
          },
          "metadata": {}
        },
        {
          "output_type": "stream",
          "name": "stdout",
          "text": "\n\n********************************************************************************************\nDATA GUARDRAILS: \n\nTYPE:         Cross validation\nSTATUS:       DONE\nDESCRIPTION:  In order to accurately evaluate the model(s) trained by AutoML, we leverage a dataset that the model is not trained on. Hence, if the user doesn't provide an explicit validation dataset, a part of the training dataset is used to achieve this. For smaller datasets (fewer than 20,000 samples), cross-validation is leveraged, else a single hold-out set is split from the training data to serve as the validation dataset. Hence, for your input data we leverage cross-validation with 10 folds, if the number of training samples are fewer than 1000, and 3 folds in all other cases.\n              Learn more about cross validation: https://aka.ms/AutomatedMLCrossValidation\nDETAILS:      \n+------------------------------+\n|Number of folds               |\n+==============================+\n|3                             |\n+------------------------------+\n\n********************************************************************************************\n\nTYPE:         Class balancing detection\nSTATUS:       ALERTED\nDESCRIPTION:  To decrease model bias, please cancel the current run and fix balancing problem.\n              Learn more about imbalanced data: https://aka.ms/AutomatedMLImbalancedData\nDETAILS:      Imbalanced data can lead to a falsely perceived positive effect of a model's accuracy because the input data has bias towards one class.\n+------------------------------+--------------------------------+--------------------------------------+\n|Size of the smallest class    |Name/Label of the smallest class|Number of samples in the training data|\n+==============================+================================+======================================+\n|65                            |vgood                           |1727                                  |\n+------------------------------+--------------------------------+--------------------------------------+\n\n********************************************************************************************\n\nTYPE:         Missing feature values imputation\nSTATUS:       PASSED\nDESCRIPTION:  No feature missing values were detected in the training data.\n              Learn more about missing value imputation: https://aka.ms/AutomatedMLFeaturization\n\n********************************************************************************************\n\nTYPE:         High cardinality feature detection\nSTATUS:       PASSED\nDESCRIPTION:  Your inputs were analyzed, and no high cardinality features were detected.\n              Learn more about high cardinality feature handling: https://aka.ms/AutomatedMLFeaturization\n\n********************************************************************************************\n\n********************************************************************************************\nITER: The iteration being evaluated.\nPIPELINE: A summary description of the pipeline being evaluated.\nDURATION: Time taken for the current iteration.\nMETRIC: The result of computing score on the fitted pipeline.\nBEST: The best observed score thus far.\n********************************************************************************************\n\n ITER   PIPELINE                                       DURATION            METRIC      BEST\n    0   MaxAbsScaler LightGBM                          0:00:15             0.9988    0.9988\n    1   MaxAbsScaler XGBoostClassifier                 0:00:13             0.9986    0.9988\n    2   MaxAbsScaler ExtremeRandomTrees                0:00:12             0.9658    0.9988\n    3   MaxAbsScaler RandomForest                      0:00:12             0.9735    0.9988\n    4   StandardScalerWrapper LightGBM                 0:00:14             0.9717    0.9988\n    5   SparseNormalizer XGBoostClassifier             0:00:12             0.9947    0.9988\n    6   SparseNormalizer RandomForest                  0:00:13             0.9761    0.9988\n    7   StandardScalerWrapper XGBoostClassifier        0:00:12             0.9903    0.9988\n    8   SparseNormalizer XGBoostClassifier             0:00:14             0.9952    0.9988\n    9   MaxAbsScaler RandomForest                      0:00:11             0.9417    0.9988\n   10   SparseNormalizer LightGBM                      0:00:11             0.9748    0.9988\n   11   MaxAbsScaler ExtremeRandomTrees                0:00:14             0.9856    0.9988\n   12   StandardScalerWrapper XGBoostClassifier        0:00:14             0.9951    0.9988\n   13   StandardScalerWrapper ExtremeRandomTrees       0:00:12             0.9753    0.9988\n   14   StandardScalerWrapper RandomForest             0:00:13             0.9963    0.9988\n   15   MaxAbsScaler LightGBM                          0:00:12             0.9862    0.9988\n   16   MaxAbsScaler LogisticRegression                0:00:14             0.9886    0.9988\n   17   StandardScalerWrapper ExtremeRandomTrees       0:00:13             0.9468    0.9988\n   18   StandardScalerWrapper XGBoostClassifier        0:00:12             0.9943    0.9988\n   19   MaxAbsScaler ExtremeRandomTrees                0:00:12             0.9826    0.9988\n   20   MaxAbsScaler LogisticRegression                0:05:37             0.9831    0.9988\n   21   StandardScalerWrapper XGBoostClassifier        0:00:32             0.9945    0.9988\n   22   StandardScalerWrapper XGBoostClassifier        0:00:33             0.9979    0.9988\n   23   MaxAbsScaler LightGBM                          0:00:32             0.9901    0.9988\n   24   MaxAbsScaler RandomForest                      0:00:32             0.9469    0.9988\n   25   SparseNormalizer XGBoostClassifier             0:00:33             0.9882    0.9988\n   26   MaxAbsScaler LinearSVM                         0:00:32             0.9795    0.9988\n   27   StandardScalerWrapper LogisticRegression       0:00:31             0.9375    0.9988\n   28   MaxAbsScaler SGD                               0:00:32             0.9820    0.9988\n   29   MaxAbsScaler LogisticRegression                0:00:31             0.9757    0.9988\n   30   SparseNormalizer LightGBM                      0:00:33             0.9381    0.9988\n   31   MaxAbsScaler LightGBM                          0:00:32             0.9833    0.9988\n   32   StandardScalerWrapper LightGBM                 0:00:33             0.9928    0.9988\n   33   StandardScalerWrapper LightGBM                 0:00:32             0.9721    0.9988\n   34   SparseNormalizer XGBoostClassifier             0:00:31             0.9689    0.9988\n   35   StandardScalerWrapper LightGBM                 0:00:31             0.9867    0.9988\n   36   SparseNormalizer XGBoostClassifier             0:00:18                nan    0.9988\n   37                                                  0:00:05                nan    0.9988\n   38    VotingEnsemble                                0:01:01             0.9988    0.9988\n   39    StackEnsemble                                 0:01:17             0.9987    0.9988\n{'runTemplate': 'automl_child', 'pipeline_id': '5dfac790c5c209f98a1da2dc1c7fb76f0397324f', 'pipeline_spec': '{\"objects\":[{\"spec_class\":\"preproc\",\"class_name\":\"MaxAbsScaler\",\"module\":\"sklearn.preprocessing\",\"param_args\":[],\"param_kwargs\":{},\"prepared_kwargs\":{}},{\"spec_class\":\"sklearn\",\"class_name\":\"LightGBMClassifier\",\"module\":\"automl.client.core.common.model_wrappers\",\"param_args\":[],\"param_kwargs\":{\"min_data_in_leaf\":20},\"prepared_kwargs\":{}}],\"pipeline_id\":\"5dfac790c5c209f98a1da2dc1c7fb76f0397324f\",\"module\":\"sklearn.pipeline\",\"class_name\":\"Pipeline\"}', 'training_percent': '100', 'predicted_cost': None, 'iteration': '0', '_aml_system_scenario_identification': 'Remote.Child', 'run_preprocessor': 'MaxAbsScaler', 'run_algorithm': 'LightGBM', 'model_output_path': 'outputs/model.pkl', 'conda_env_data_location': 'aml://artifact/ExperimentRun/dcid.AutoML_afa079e7-2e68-4d81-b05e-95a7c00c17db_0/outputs/conda_env_v_1_0_0.yml', 'model_data_location': 'aml://artifact/ExperimentRun/dcid.AutoML_afa079e7-2e68-4d81-b05e-95a7c00c17db_0/outputs/model.pkl', 'model_size_on_disk': '1444072', 'scoring_data_location': 'aml://artifact/ExperimentRun/dcid.AutoML_afa079e7-2e68-4d81-b05e-95a7c00c17db_0/outputs/scoring_file_v_1_0_0.py', 'scoring_data_location_v2': 'aml://artifact/ExperimentRun/dcid.AutoML_afa079e7-2e68-4d81-b05e-95a7c00c17db_0/outputs/scoring_file_v_2_0_0.py', 'scoring_data_location_pbi': 'aml://artifact/ExperimentRun/dcid.AutoML_afa079e7-2e68-4d81-b05e-95a7c00c17db_0/outputs/scoring_file_pbi_v_1_0_0.py', 'model_exp_support': 'True', 'pipeline_graph_version': '1.0.0', 'model_name': 'AutoMLafa079e720', 'score': '0.9987787177700516', 'score_table': 'NaN', 'run_properties': 'copy=True', 'pipeline_script': '{\"objects\":[{\"spec_class\":\"preproc\",\"class_name\":\"MaxAbsScaler\",\"module\":\"sklearn.preprocessing\",\"param_args\":[],\"param_kwargs\":{},\"prepared_kwargs\":{}},{\"spec_class\":\"sklearn\",\"class_name\":\"LightGBMClassifier\",\"module\":\"automl.client.core.common.model_wrappers\",\"param_args\":[],\"param_kwargs\":{\"min_data_in_leaf\":20},\"prepared_kwargs\":{}}],\"pipeline_id\":\"5dfac790c5c209f98a1da2dc1c7fb76f0397324f\",\"module\":\"sklearn.pipeline\",\"class_name\":\"Pipeline\"}', 'training_type': 'MeanCrossValidation', 'fit_time': '0.2906303333333333', 'goal': 'AUC_weighted_max', 'primary_metric': 'AUC_weighted', 'errors': '{}', 'onnx_model_resource': '{}', 'dependencies_versions': '{\"azureml-training-tabular\": \"1.50.0\", \"azureml-train-restclients-hyperdrive\": \"1.50.0\", \"azureml-train-core\": \"1.50.0\", \"azureml-train-automl-runtime\": \"1.50.0\", \"azureml-train-automl-client\": \"1.50.0\", \"azureml-telemetry\": \"1.50.0\", \"azureml-responsibleai\": \"1.50.0\", \"azureml-pipeline-core\": \"1.50.0.post1\", \"azureml-mlflow\": \"1.50.0\", \"azureml-interpret\": \"1.50.0\", \"azureml-inference-server-http\": \"0.8.3\", \"azureml-defaults\": \"1.50.0\", \"azureml-dataset-runtime\": \"1.50.0\", \"azureml-dataprep\": \"4.10.6\", \"azureml-dataprep-rslex\": \"2.17.5\", \"azureml-dataprep-native\": \"38.0.0\", \"azureml-core\": \"1.50.0\", \"azureml-automl-runtime\": \"1.50.0\", \"azureml-automl-core\": \"1.50.0\"}', 'num_cores': '2', 'num_logical_cores': '2', 'peak_memory_usage': '887848', 'vm_configuration': 'x86_64', 'core_hours': '0.002629091666666666', 'feature_skus': 'automatedml_sdk_guardrails'}\n"
        },
        {
          "output_type": "stream",
          "name": "stderr",
          "text": "WARNING:root:The version of the SDK does not match the version the model was trained on.\nWARNING:root:The consistency in the result may not be guaranteed.\nWARNING:root:Package:azureml-automl-core, training version:1.50.0, current version:1.49.0\nPackage:azureml-automl-runtime, training version:1.50.0, current version:1.49.0\nPackage:azureml-core, training version:1.50.0, current version:1.49.0\nPackage:azureml-dataprep, training version:4.10.6, current version:4.9.1\nPackage:azureml-dataprep-rslex, training version:2.17.5, current version:2.16.1\nPackage:azureml-dataset-runtime, training version:1.50.0, current version:1.49.0\nPackage:azureml-defaults, training version:1.50.0, current version:1.49.0\nPackage:azureml-interpret, training version:1.50.0, current version:1.49.0\nPackage:azureml-mlflow, training version:1.50.0, current version:1.49.0\nPackage:azureml-pipeline-core, training version:1.50.0.post1, current version:1.49.0\nPackage:azureml-responsibleai, training version:1.50.0, current version:1.49.0\nPackage:azureml-telemetry, training version:1.50.0, current version:1.49.0\nPackage:azureml-train-automl-client, training version:1.50.0, current version:1.49.0\nPackage:azureml-train-automl-runtime, training version:1.50.0, current version:1.49.0\nPackage:azureml-train-core, training version:1.50.0, current version:1.49.0\nPackage:azureml-train-restclients-hyperdrive, training version:1.50.0, current version:1.49.0\nPackage:azureml-training-tabular, training version:1.50.0, current version:1.49.0\nWARNING:root:Please ensure the version of your local conda dependencies match the version on which your model was trained in order to properly retrieve your model.\n"
        }
      ],
      "execution_count": 10,
      "metadata": {
        "gather": {
          "logged": 1685596645763
        },
        "jupyter": {
          "outputs_hidden": false,
          "source_hidden": false
        },
        "nteract": {
          "transient": {
            "deleting": false
          }
        }
      }
    },
    {
      "cell_type": "code",
      "source": [
        "#TODO: Save the best model\n",
        "# Save the fitted model as a pickle file\n",
        "import pickle\n",
        "filename = 'automl_best_model.pkl'\n",
        "with open(filename, 'wb') as file:\n",
        "    pickle.dump(fitted_model, file)\n"
      ],
      "outputs": [],
      "execution_count": 11,
      "metadata": {
        "gather": {
          "logged": 1685596674186
        },
        "jupyter": {
          "outputs_hidden": false,
          "source_hidden": false
        },
        "nteract": {
          "transient": {
            "deleting": false
          }
        }
      }
    },
    {
      "cell_type": "code",
      "source": [
        "import pickle\n",
        "with open(filename, 'rb') as file:\n",
        "    loaded_model=pickle.load(file)\n",
        "print(loaded_model)"
      ],
      "outputs": [
        {
          "output_type": "stream",
          "name": "stdout",
          "text": "Pipeline(memory=None,\n         steps=[('datatransformer',\n                 DataTransformer(enable_dnn=False, enable_feature_sweeping=True, feature_sweeping_config={}, feature_sweeping_timeout=86400, featurization_config=None, force_text_dnn=False, is_cross_validation=True, is_onnx_compatible=False, observer=None, task='classification', working_dir='/mnt/batch/tasks/shared/LS_root/mount...\n                 PreFittedSoftVotingClassifier(classification_labels=array([0, 1, 2, 3]), estimators=[('0', Pipeline(memory=None, steps=[('maxabsscaler', MaxAbsScaler(copy=True)), ('lightgbmclassifier', LightGBMClassifier(min_data_in_leaf=20, n_jobs=1, problem_info=ProblemInfo(gpu_training_param_dict={'processing_unit_type': 'cpu'}), random_state=None))], verbose=False)), ('1', Pipeline(memory=None, steps=[('maxabsscaler', MaxAbsScaler(copy=True)), ('xgboostclassifier', XGBoostClassifier(n_jobs=1, problem_info=ProblemInfo(gpu_training_param_dict={'processing_unit_type': 'cpu'}), random_state=0, tree_method='auto'))], verbose=False)), ('22', Pipeline(memory=None, steps=[('standardscalerwrapper', StandardScalerWrapper(copy=True, with_mean=False, with_std=False)), ('xgboostclassifier', XGBoostClassifier(booster='gbtree', colsample_bytree=0.7, eta=0.3, gamma=0, max_depth=5, max_leaves=0, n_estimators=100, n_jobs=1, objective='reg:logistic', problem_info=ProblemInfo(gpu_training_param_dict={'processing_unit_type': 'cpu'}), random_state=0, reg_alpha=1.5625, reg_lambda=2.1875, subsample=0.7, tree_method='auto'))], verbose=False)), ('33', Pipeline(memory=None, steps=[('standardscalerwrapper', StandardScalerWrapper(copy=True, with_mean=False, with_std=False)), ('xgboostclassifier', XGBoostClassifier(booster='gbtree', colsample_bytree=0.8, eta=0.2, gamma=0.1, max_depth=5, max_leaves=0, n_estimators=100, n_jobs=1, objective='reg:logistic', problem_info=ProblemInfo(gpu_training_param_dict={'processing_unit_type': 'cpu'}), random_state=0, reg_alpha=1.0416666666666667, reg_lambda=2.291666666666667, subsample=0.5, tree_method='auto'))], verbose=False)), ('14', Pipeline(memory=None, steps=[('standardscalerwrapper', StandardScalerWrapper(copy=True, with_mean=False, with_std=False)), ('randomforestclassifier', RandomForestClassifier(bootstrap=True, ccp_alpha=0.0, class_weight=None, criterion='gini', max_depth=None, max_features='auto', max_leaf_nodes=None, max_samples=None, min_impurity_decrease=0.0, min_impurity_split=None, min_samples_leaf=1, min_samples_split=2, min_weight_fraction_leaf=0.0, n_estimators=100, n_jobs=1, oob_score=False, random_state=None, verbose=0, warm_start=False))], verbose=False)), ('3', Pipeline(memory=None, steps=[('maxabsscaler', MaxAbsScaler(copy=True)), ('randomforestclassifier', RandomForestClassifier(bootstrap=True, ccp_alpha=0.0, class_weight=None, criterion='gini', max_depth=None, max_features='log2', max_leaf_nodes=None, max_samples=None, min_impurity_decrease=0.0, min_impurity_split=None, min_samples_leaf=0.01, min_samples_split=0.01, min_weight_fraction_leaf=0.0, n_estimators=10, n_jobs=1, oob_score=False, random_state=None, verbose=0, warm_start=False))], verbose=False))], flatten_transform=None, weights=[0.6, 0.06666666666666667, 0.06666666666666667, 0.06666666666666667, 0.06666666666666667, 0.13333333333333333]))],\n         verbose=False)\nY_transformer(['LabelEncoder', LabelEncoder()])\n"
        }
      ],
      "execution_count": 25,
      "metadata": {
        "gather": {
          "logged": 1685683567935
        },
        "jupyter": {
          "outputs_hidden": false,
          "source_hidden": false
        },
        "nteract": {
          "transient": {
            "deleting": false
          }
        }
      }
    },
    {
      "cell_type": "markdown",
      "source": [
        "## Model Deployment\n",
        "\n",
        "Remember you have to deploy only one of the two models you trained but you still need to register both the models. Perform the steps in the rest of this notebook only if you wish to deploy this model.\n",
        "\n",
        "TODO: In the cell below, register the model, create an inference config and deploy the model as a web service."
      ],
      "metadata": {}
    },
    {
      "cell_type": "code",
      "source": [
        "best_run.register_model(model_name='best_aml_model', model_path='./outputs/')"
      ],
      "outputs": [
        {
          "output_type": "execute_result",
          "execution_count": 26,
          "data": {
            "text/plain": "Model(workspace=Workspace.create(name='quick-starts-ws-234838', subscription_id='610d6e37-4747-4a20-80eb-3aad70a55f43', resource_group='aml-quickstarts-234838'), name=best_aml_model, id=best_aml_model:3, version=3, tags={}, properties={})"
          },
          "metadata": {}
        }
      ],
      "execution_count": 26,
      "metadata": {
        "gather": {
          "logged": 1685683578026
        },
        "jupyter": {
          "outputs_hidden": false,
          "source_hidden": false
        },
        "nteract": {
          "transient": {
            "deleting": false
          }
        }
      }
    },
    {
      "cell_type": "code",
      "source": [
        "#from azureml.core import Model\n",
        "\n",
        "#model = Model.register(workspace=ws, \n",
        "#    model_path=filename, \n",
        "#    model_name='best_aml_model')\n"
      ],
      "outputs": [
        {
          "output_type": "stream",
          "name": "stdout",
          "text": "Registering model best_aml_model\n"
        }
      ],
      "execution_count": 27,
      "metadata": {
        "gather": {
          "logged": 1685683591011
        },
        "jupyter": {
          "outputs_hidden": false,
          "source_hidden": false
        },
        "nteract": {
          "transient": {
            "deleting": false
          }
        }
      }
    },
    {
      "cell_type": "code",
      "source": [
        "from azureml.core.model import InferenceConfig\n",
        "from azureml.core.environment import Environment"
      ],
      "outputs": [],
      "execution_count": 28,
      "metadata": {
        "gather": {
          "logged": 1685683603077
        },
        "jupyter": {
          "outputs_hidden": true,
          "source_hidden": false
        },
        "nteract": {
          "transient": {
            "deleting": false
          }
        }
      }
    },
    {
      "cell_type": "code",
      "source": [
        "#from azureml.core import InferenceConfig, Environment\n",
        "#environment_name = ws.name\n",
        "#env = Environment.get(workspace=ws, name=environment_name)\n",
        "env = Environment(name=\"my environment\")\n",
        "inference_config = InferenceConfig(entry_script='score.py', environment=env)"
      ],
      "outputs": [
        {
          "output_type": "stream",
          "name": "stderr",
          "text": "ERROR:azureml._model_management._util:entry_script score.py doesn't exist. entry_script should be path relative to current working directory\n\n"
        },
        {
          "output_type": "error",
          "ename": "WebserviceException",
          "evalue": "WebserviceException:\n\tMessage: entry_script score.py doesn't exist. entry_script should be path relative to current working directory\n\tInnerException None\n\tErrorResponse \n{\n    \"error\": {\n        \"message\": \"entry_script score.py doesn't exist. entry_script should be path relative to current working directory\"\n    }\n}",
          "traceback": [
            "\u001b[0;31m---------------------------------------------------------------------------\u001b[0m",
            "\u001b[0;31mWebserviceException\u001b[0m                       Traceback (most recent call last)",
            "Cell \u001b[0;32mIn[29], line 5\u001b[0m\n\u001b[1;32m      1\u001b[0m \u001b[38;5;66;03m#from azureml.core import InferenceConfig, Environment\u001b[39;00m\n\u001b[1;32m      2\u001b[0m \u001b[38;5;66;03m#environment_name = ws.name\u001b[39;00m\n\u001b[1;32m      3\u001b[0m \u001b[38;5;66;03m#env = Environment.get(workspace=ws, name=environment_name)\u001b[39;00m\n\u001b[1;32m      4\u001b[0m env \u001b[38;5;241m=\u001b[39m Environment(name\u001b[38;5;241m=\u001b[39m\u001b[38;5;124m\"\u001b[39m\u001b[38;5;124mmy environment\u001b[39m\u001b[38;5;124m\"\u001b[39m)\n\u001b[0;32m----> 5\u001b[0m inference_config \u001b[38;5;241m=\u001b[39m \u001b[43mInferenceConfig\u001b[49m\u001b[43m(\u001b[49m\u001b[43mentry_script\u001b[49m\u001b[38;5;241;43m=\u001b[39;49m\u001b[38;5;124;43m'\u001b[39;49m\u001b[38;5;124;43mscore.py\u001b[39;49m\u001b[38;5;124;43m'\u001b[39;49m\u001b[43m,\u001b[49m\u001b[43m \u001b[49m\u001b[43menvironment\u001b[49m\u001b[38;5;241;43m=\u001b[39;49m\u001b[43menv\u001b[49m\u001b[43m)\u001b[49m \u001b[38;5;66;03m#####\u001b[39;00m\n",
            "File \u001b[0;32m/anaconda/envs/azureml_py38/lib/python3.8/site-packages/azureml/core/model.py:2143\u001b[0m, in \u001b[0;36mInferenceConfig.__init__\u001b[0;34m(self, entry_script, runtime, conda_file, extra_docker_file_steps, source_directory, enable_gpu, description, base_image, base_image_registry, cuda_version, environment)\u001b[0m\n\u001b[1;32m   2140\u001b[0m \u001b[38;5;28mself\u001b[39m\u001b[38;5;241m.\u001b[39mbase_image_registry \u001b[38;5;241m=\u001b[39m base_image_registry \u001b[38;5;129;01mor\u001b[39;00m ContainerRegistry()\n\u001b[1;32m   2141\u001b[0m \u001b[38;5;28mself\u001b[39m\u001b[38;5;241m.\u001b[39menvironment \u001b[38;5;241m=\u001b[39m environment\n\u001b[0;32m-> 2143\u001b[0m \u001b[38;5;28;43mself\u001b[39;49m\u001b[38;5;241;43m.\u001b[39;49m\u001b[43mvalidate_configuration\u001b[49m\u001b[43m(\u001b[49m\u001b[43m)\u001b[49m\n",
            "File \u001b[0;32m/anaconda/envs/azureml_py38/lib/python3.8/site-packages/azureml/core/model.py:2250\u001b[0m, in \u001b[0;36mInferenceConfig.validate_configuration\u001b[0;34m(self)\u001b[0m\n\u001b[1;32m   2244\u001b[0m validate_path_exists_or_throw(joinPath(\u001b[38;5;28mself\u001b[39m\u001b[38;5;241m.\u001b[39msource_directory, \u001b[38;5;28mself\u001b[39m\u001b[38;5;241m.\u001b[39mentry_script),\n\u001b[1;32m   2245\u001b[0m                               \u001b[38;5;124m'\u001b[39m\u001b[38;5;124mentry_script\u001b[39m\u001b[38;5;124m'\u001b[39m,\n\u001b[1;32m   2246\u001b[0m                               extra_message\u001b[38;5;241m=\u001b[39m\u001b[38;5;124m'\u001b[39m\u001b[38;5;124mentry_script should be path relative to \u001b[39m\u001b[38;5;124m'\u001b[39m\n\u001b[1;32m   2247\u001b[0m                                             \u001b[38;5;124m'\u001b[39m\u001b[38;5;124mcurrent working directory\u001b[39m\u001b[38;5;124m'\u001b[39m)\n\u001b[1;32m   2249\u001b[0m script_name, script_extension \u001b[38;5;241m=\u001b[39m os\u001b[38;5;241m.\u001b[39mpath\u001b[38;5;241m.\u001b[39msplitext(os\u001b[38;5;241m.\u001b[39mpath\u001b[38;5;241m.\u001b[39mbasename(\u001b[38;5;28mself\u001b[39m\u001b[38;5;241m.\u001b[39mentry_script))\n\u001b[0;32m-> 2250\u001b[0m \u001b[38;5;28;01mif\u001b[39;00m script_extension \u001b[38;5;241m!=\u001b[39m \u001b[38;5;124m'\u001b[39m\u001b[38;5;124m.py\u001b[39m\u001b[38;5;124m'\u001b[39m:\n\u001b[1;32m   2251\u001b[0m     \u001b[38;5;28;01mraise\u001b[39;00m WebserviceException(\u001b[38;5;124m'\u001b[39m\u001b[38;5;124mInvalid driver type. Currently only Python drivers are supported.\u001b[39m\u001b[38;5;124m'\u001b[39m,\n\u001b[1;32m   2252\u001b[0m                               logger\u001b[38;5;241m=\u001b[39mmodule_logger)\n\u001b[1;32m   2253\u001b[0m validate_entry_script_name(script_name)\n",
            "File \u001b[0;32m/anaconda/envs/azureml_py38/lib/python3.8/site-packages/azureml/_model_management/_util.py:882\u001b[0m, in \u001b[0;36mvalidate_path_exists_or_throw\u001b[0;34m(member, name, extra_message)\u001b[0m\n\u001b[1;32m    880\u001b[0m \u001b[38;5;28;01mdef\u001b[39;00m \u001b[38;5;21mvalidate_path_exists_or_throw\u001b[39m(member, name, extra_message\u001b[38;5;241m=\u001b[39m\u001b[38;5;124m'\u001b[39m\u001b[38;5;124m'\u001b[39m):\n\u001b[1;32m    881\u001b[0m     \u001b[38;5;28;01mif\u001b[39;00m \u001b[38;5;129;01mnot\u001b[39;00m os\u001b[38;5;241m.\u001b[39mpath\u001b[38;5;241m.\u001b[39mexists(member):\n\u001b[0;32m--> 882\u001b[0m         \u001b[38;5;28;01mraise\u001b[39;00m WebserviceException(\u001b[38;5;124m\"\u001b[39m\u001b[38;5;132;01m{0}\u001b[39;00m\u001b[38;5;124m \u001b[39m\u001b[38;5;132;01m{1}\u001b[39;00m\u001b[38;5;124m doesn\u001b[39m\u001b[38;5;124m'\u001b[39m\u001b[38;5;124mt exist. \u001b[39m\u001b[38;5;132;01m{2}\u001b[39;00m\u001b[38;5;124m\"\u001b[39m\u001b[38;5;241m.\u001b[39mformat(name, member, extra_message),\n\u001b[1;32m    883\u001b[0m                                   logger\u001b[38;5;241m=\u001b[39mmodule_logger)\n",
            "\u001b[0;31mWebserviceException\u001b[0m: WebserviceException:\n\tMessage: entry_script score.py doesn't exist. entry_script should be path relative to current working directory\n\tInnerException None\n\tErrorResponse \n{\n    \"error\": {\n        \"message\": \"entry_script score.py doesn't exist. entry_script should be path relative to current working directory\"\n    }\n}"
          ]
        }
      ],
      "execution_count": 29,
      "metadata": {
        "gather": {
          "logged": 1685683608029
        },
        "jupyter": {
          "outputs_hidden": false,
          "source_hidden": false
        },
        "nteract": {
          "transient": {
            "deleting": false
          }
        }
      }
    },
    {
      "cell_type": "code",
      "source": [
        "import os\r\n",
        "print(os.getcwd())"
      ],
      "outputs": [
        {
          "output_type": "stream",
          "name": "stdout",
          "text": "/mnt/batch/tasks/shared/LS_root/mounts/clusters/notebook234838/code/Users/odl_user_234838\n"
        }
      ],
      "execution_count": 32,
      "metadata": {
        "jupyter": {
          "source_hidden": false,
          "outputs_hidden": false
        },
        "nteract": {
          "transient": {
            "deleting": false
          }
        },
        "gather": {
          "logged": 1685684085799
        }
      }
    },
    {
      "cell_type": "code",
      "source": [
        "from azureml.core.webservice import AciWebservice\n",
        "\n",
        "deployment_config = AciWebservice.deploy_configuration(cpu_cores=1, memory_gb=1)\n",
        "service = Model.deploy(workspace=ws,\n",
        "                       name='automl-deploy',\n",
        "                       models=[model],\n",
        "                       inference_config=inference_config,\n",
        "                       deployment_config=deployment_config,\n",
        "                       overwrite=True)\n",
        "                       \n",
        "service.wait_for_deployment(show_output=True)\n"
      ],
      "outputs": [],
      "execution_count": null,
      "metadata": {
        "jupyter": {
          "outputs_hidden": false,
          "source_hidden": false
        },
        "nteract": {
          "transient": {
            "deleting": false
          }
        }
      }
    },
    {
      "cell_type": "markdown",
      "source": [
        "TODO: In the cell below, send a request to the web service you deployed to test it."
      ],
      "metadata": {
        "collapsed": true,
        "gather": {
          "logged": 1598431657736
        },
        "jupyter": {
          "outputs_hidden": false,
          "source_hidden": false
        },
        "nteract": {
          "transient": {
            "deleting": false
          }
        }
      }
    },
    {
      "cell_type": "markdown",
      "source": [
        "TODO: In the cell below, print the logs of the web service and delete the service"
      ],
      "metadata": {
        "collapsed": true,
        "gather": {
          "logged": 1598432765711
        },
        "jupyter": {
          "outputs_hidden": false,
          "source_hidden": false
        },
        "nteract": {
          "transient": {
            "deleting": false
          }
        }
      }
    },
    {
      "cell_type": "code",
      "source": [
        "import requests\n",
        "import json\n",
        "\n",
        "# WebサービスのエンドポイントURL\n",
        "scoring_uri = service.scoring_uri\n",
        "\n",
        "# リクエストデータの作成\n",
        "input_data = {\n",
        "    \"data\": [\n",
        "        # リクエストのデータをここに追加する\n",
        "    ]\n",
        "}\n",
        "input_json = json.dumps(input_data)\n",
        "\n",
        "# リクエストの送信\n",
        "headers = {'Content-Type': 'application/json'}\n",
        "response = requests.post(scoring_uri, input_json, headers=headers)\n",
        "\n",
        "# レスポンスの取得\n",
        "predictions = response.json()\n"
      ],
      "outputs": [],
      "execution_count": null,
      "metadata": {
        "jupyter": {
          "outputs_hidden": false,
          "source_hidden": false
        },
        "nteract": {
          "transient": {
            "deleting": false
          }
        }
      }
    },
    {
      "cell_type": "code",
      "source": [
        "# Retrieve and print the logs\n",
        "logs = service.get_logs()\n",
        "print(logs)\n"
      ],
      "outputs": [],
      "execution_count": null,
      "metadata": {}
    },
    {
      "cell_type": "code",
      "source": [
        "# Delete the web service\n",
        "service.delete()\n"
      ],
      "outputs": [],
      "execution_count": null,
      "metadata": {}
    },
    {
      "cell_type": "markdown",
      "source": [
        "**Submission Checklist**\n",
        "- I have registered the model.\n",
        "- I have deployed the model with the best accuracy as a webservice.\n",
        "- I have tested the webservice by sending a request to the model endpoint.\n",
        "- I have deleted the webservice and shutdown all the computes that I have used.\n",
        "- I have taken a screenshot showing the model endpoint as active.\n",
        "- The project includes a file containing the environment details.\n"
      ],
      "metadata": {}
    },
    {
      "cell_type": "markdown",
      "source": [],
      "metadata": {}
    }
  ],
  "metadata": {
    "kernel_info": {
      "name": "python38-azureml"
    },
    "kernelspec": {
      "name": "python38-azureml",
      "language": "python",
      "display_name": "Python 3.8 - AzureML"
    },
    "language_info": {
      "name": "python",
      "version": "3.8.5",
      "mimetype": "text/x-python",
      "codemirror_mode": {
        "name": "ipython",
        "version": 3
      },
      "pygments_lexer": "ipython3",
      "nbconvert_exporter": "python",
      "file_extension": ".py"
    },
    "microsoft": {
      "host": {
        "AzureML": {
          "notebookHasBeenCompleted": true
        }
      },
      "ms_spell_check": {
        "ms_spell_check_language": "en"
      }
    },
    "nteract": {
      "version": "nteract-front-end@1.0.0"
    }
  },
  "nbformat": 4,
  "nbformat_minor": 2
}