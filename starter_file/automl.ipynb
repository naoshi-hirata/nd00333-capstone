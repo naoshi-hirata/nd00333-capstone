{
  "cells": [
    {
      "cell_type": "markdown",
      "source": [
        "# Automated ML\n",
        "\n",
        "TODO: Import Dependencies. In the cell below, import all the dependencies that you will need to complete the project."
      ],
      "metadata": {}
    },
    {
      "cell_type": "code",
      "source": [
        "!pip install --upgrade azureml-sdk\n",
        "!pip install --upgrade azureml-core"
      ],
      "outputs": [
        {
          "output_type": "stream",
          "name": "stdout",
          "text": "Requirement already up-to-date: azureml-sdk in /anaconda/envs/azureml_py38/lib/python3.8/site-packages (1.51.0)\nRequirement already satisfied, skipping upgrade: azureml-train-automl-client~=1.51.0 in /anaconda/envs/azureml_py38/lib/python3.8/site-packages (from azureml-sdk) (1.51.0)\nRequirement already satisfied, skipping upgrade: azureml-dataset-runtime[fuse]~=1.51.0 in /anaconda/envs/azureml_py38/lib/python3.8/site-packages (from azureml-sdk) (1.51.0)\nRequirement already satisfied, skipping upgrade: azureml-pipeline~=1.51.0 in /anaconda/envs/azureml_py38/lib/python3.8/site-packages (from azureml-sdk) (1.51.0)\nRequirement already satisfied, skipping upgrade: azureml-core~=1.51.0 in /anaconda/envs/azureml_py38/lib/python3.8/site-packages (from azureml-sdk) (1.51.0)\nRequirement already satisfied, skipping upgrade: azureml-train-core~=1.51.0 in /anaconda/envs/azureml_py38/lib/python3.8/site-packages (from azureml-sdk) (1.51.0)\nRequirement already satisfied, skipping upgrade: azureml-telemetry~=1.51.0 in /anaconda/envs/azureml_py38/lib/python3.8/site-packages (from azureml-train-automl-client~=1.51.0->azureml-sdk) (1.51.0)\nRequirement already satisfied, skipping upgrade: azureml-automl-core~=1.51.0 in /anaconda/envs/azureml_py38/lib/python3.8/site-packages (from azureml-train-automl-client~=1.51.0->azureml-sdk) (1.51.0)\nRequirement already satisfied, skipping upgrade: azureml-dataprep<4.11.0a,>=4.10.0a in /anaconda/envs/azureml_py38/lib/python3.8/site-packages (from azureml-dataset-runtime[fuse]~=1.51.0->azureml-sdk) (4.10.7)\nRequirement already satisfied, skipping upgrade: pyarrow<=9.0.0,>=0.17.0 in /anaconda/envs/azureml_py38/lib/python3.8/site-packages (from azureml-dataset-runtime[fuse]~=1.51.0->azureml-sdk) (9.0.0)\nRequirement already satisfied, skipping upgrade: numpy!=1.19.3,<1.24; sys_platform == \"linux\" in /anaconda/envs/azureml_py38/lib/python3.8/site-packages (from azureml-dataset-runtime[fuse]~=1.51.0->azureml-sdk) (1.21.6)\nRequirement already satisfied, skipping upgrade: fusepy<4.0.0,>=3.0.1; extra == \"fuse\" in /anaconda/envs/azureml_py38/lib/python3.8/site-packages (from azureml-dataset-runtime[fuse]~=1.51.0->azureml-sdk) (3.0.1)\nRequirement already satisfied, skipping upgrade: azureml-pipeline-core~=1.51.0 in /anaconda/envs/azureml_py38/lib/python3.8/site-packages (from azureml-pipeline~=1.51.0->azureml-sdk) (1.51.0)\nRequirement already satisfied, skipping upgrade: azureml-pipeline-steps~=1.51.0 in /anaconda/envs/azureml_py38/lib/python3.8/site-packages (from azureml-pipeline~=1.51.0->azureml-sdk) (1.51.0)\nRequirement already satisfied, skipping upgrade: humanfriendly<11.0,>=4.7 in /anaconda/envs/azureml_py38/lib/python3.8/site-packages (from azureml-core~=1.51.0->azureml-sdk) (10.0)\nRequirement already satisfied, skipping upgrade: azure-core<2.0.0 in /anaconda/envs/azureml_py38/lib/python3.8/site-packages (from azureml-core~=1.51.0->azureml-sdk) (1.26.3)\nRequirement already satisfied, skipping upgrade: azure-mgmt-resource<=22.0.0,>=15.0.0 in /anaconda/envs/azureml_py38/lib/python3.8/site-packages (from azureml-core~=1.51.0->azureml-sdk) (21.2.1)\nRequirement already satisfied, skipping upgrade: pathspec<1.0.0 in /anaconda/envs/azureml_py38/lib/python3.8/site-packages (from azureml-core~=1.51.0->azureml-sdk) (0.11.0)\nRequirement already satisfied, skipping upgrade: msrest<=0.7.1,>=0.5.1 in /anaconda/envs/azureml_py38/lib/python3.8/site-packages (from azureml-core~=1.51.0->azureml-sdk) (0.7.1)\nRequirement already satisfied, skipping upgrade: packaging<=23.0,>=20.0 in /anaconda/envs/azureml_py38/lib/python3.8/site-packages (from azureml-core~=1.51.0->azureml-sdk) (21.3)\nRequirement already satisfied, skipping upgrade: pyopenssl<24.0.0 in /anaconda/envs/azureml_py38/lib/python3.8/site-packages (from azureml-core~=1.51.0->azureml-sdk) (23.0.0)\nRequirement already satisfied, skipping upgrade: msrestazure<=0.6.4,>=0.4.33 in /anaconda/envs/azureml_py38/lib/python3.8/site-packages (from azureml-core~=1.51.0->azureml-sdk) (0.6.4)\nRequirement already satisfied, skipping upgrade: knack~=0.10.0 in /anaconda/envs/azureml_py38/lib/python3.8/site-packages (from azureml-core~=1.51.0->azureml-sdk) (0.10.1)\nRequirement already satisfied, skipping upgrade: jsonpickle<4.0.0 in /anaconda/envs/azureml_py38/lib/python3.8/site-packages (from azureml-core~=1.51.0->azureml-sdk) (2.2.0)\nRequirement already satisfied, skipping upgrade: python-dateutil<3.0.0,>=2.7.3 in /anaconda/envs/azureml_py38/lib/python3.8/site-packages (from azureml-core~=1.51.0->azureml-sdk) (2.8.2)\nRequirement already satisfied, skipping upgrade: backports.tempfile in /anaconda/envs/azureml_py38/lib/python3.8/site-packages (from azureml-core~=1.51.0->azureml-sdk) (1.0)\nRequirement already satisfied, skipping upgrade: azure-mgmt-storage<=21.0.0,>=16.0.0 in /anaconda/envs/azureml_py38/lib/python3.8/site-packages (from azureml-core~=1.51.0->azureml-sdk) (20.1.0)\nRequirement already satisfied, skipping upgrade: azure-mgmt-containerregistry<11,>=8.2.0 in /anaconda/envs/azureml_py38/lib/python3.8/site-packages (from azureml-core~=1.51.0->azureml-sdk) (10.0.0)\nRequirement already satisfied, skipping upgrade: pytz in /anaconda/envs/azureml_py38/lib/python3.8/site-packages (from azureml-core~=1.51.0->azureml-sdk) (2022.5)\nRequirement already satisfied, skipping upgrade: contextlib2<22.0.0 in /anaconda/envs/azureml_py38/lib/python3.8/site-packages (from azureml-core~=1.51.0->azureml-sdk) (21.6.0)\nRequirement already satisfied, skipping upgrade: azure-graphrbac<1.0.0,>=0.40.0 in /anaconda/envs/azureml_py38/lib/python3.8/site-packages (from azureml-core~=1.51.0->azureml-sdk) (0.61.1)\nRequirement already satisfied, skipping upgrade: azure-mgmt-authorization<4,>=0.40.0 in /anaconda/envs/azureml_py38/lib/python3.8/site-packages (from azureml-core~=1.51.0->azureml-sdk) (3.0.0)\nRequirement already satisfied, skipping upgrade: requests[socks]<3.0.0,>=2.19.1 in /anaconda/envs/azureml_py38/lib/python3.8/site-packages (from azureml-core~=1.51.0->azureml-sdk) (2.28.2)\nRequirement already satisfied, skipping upgrade: SecretStorage<4.0.0 in /anaconda/envs/azureml_py38/lib/python3.8/site-packages (from azureml-core~=1.51.0->azureml-sdk) (3.3.3)\nRequirement already satisfied, skipping upgrade: azure-common<2.0.0,>=1.1.12 in /anaconda/envs/azureml_py38/lib/python3.8/site-packages (from azureml-core~=1.51.0->azureml-sdk) (1.1.28)\nRequirement already satisfied, skipping upgrade: jmespath<2.0.0 in /anaconda/envs/azureml_py38/lib/python3.8/site-packages (from azureml-core~=1.51.0->azureml-sdk) (0.10.0)\nRequirement already satisfied, skipping upgrade: pkginfo in /anaconda/envs/azureml_py38/lib/python3.8/site-packages (from azureml-core~=1.51.0->azureml-sdk) (1.9.6)\nRequirement already satisfied, skipping upgrade: msal<2.0.0,>=1.15.0 in /anaconda/envs/azureml_py38/lib/python3.8/site-packages (from azureml-core~=1.51.0->azureml-sdk) (1.21.0)\nRequirement already satisfied, skipping upgrade: docker<7.0.0 in /anaconda/envs/azureml_py38/lib/python3.8/site-packages (from azureml-core~=1.51.0->azureml-sdk) (6.0.1)\nRequirement already satisfied, skipping upgrade: cryptography!=1.9,!=2.0.*,!=2.1.*,!=2.2.*,<41 in /anaconda/envs/azureml_py38/lib/python3.8/site-packages (from azureml-core~=1.51.0->azureml-sdk) (38.0.4)\nRequirement already satisfied, skipping upgrade: PyJWT<3.0.0 in /anaconda/envs/azureml_py38/lib/python3.8/site-packages (from azureml-core~=1.51.0->azureml-sdk) (2.4.0)\nRequirement already satisfied, skipping upgrade: msal-extensions<=1.0.0,>=0.3.0 in /anaconda/envs/azureml_py38/lib/python3.8/site-packages (from azureml-core~=1.51.0->azureml-sdk) (0.3.1)\nRequirement already satisfied, skipping upgrade: azure-mgmt-keyvault<11.0.0,>=0.40.0 in /anaconda/envs/azureml_py38/lib/python3.8/site-packages (from azureml-core~=1.51.0->azureml-sdk) (10.1.0)\nRequirement already satisfied, skipping upgrade: urllib3<2.0.0,>=1.23 in /anaconda/envs/azureml_py38/lib/python3.8/site-packages (from azureml-core~=1.51.0->azureml-sdk) (1.26.14)\nRequirement already satisfied, skipping upgrade: paramiko<4.0.0,>=2.0.8 in /anaconda/envs/azureml_py38/lib/python3.8/site-packages (from azureml-core~=1.51.0->azureml-sdk) (2.12.0)\nRequirement already satisfied, skipping upgrade: argcomplete<3 in /anaconda/envs/azureml_py38/lib/python3.8/site-packages (from azureml-core~=1.51.0->azureml-sdk) (2.0.0)\nRequirement already satisfied, skipping upgrade: ndg-httpsclient<=0.5.1 in /anaconda/envs/azureml_py38/lib/python3.8/site-packages (from azureml-core~=1.51.0->azureml-sdk) (0.5.1)\nRequirement already satisfied, skipping upgrade: adal<=1.2.7,>=1.2.0 in /anaconda/envs/azureml_py38/lib/python3.8/site-packages (from azureml-core~=1.51.0->azureml-sdk) (1.2.7)\nRequirement already satisfied, skipping upgrade: azureml-train-restclients-hyperdrive~=1.51.0 in /anaconda/envs/azureml_py38/lib/python3.8/site-packages (from azureml-train-core~=1.51.0->azureml-sdk) (1.51.0)\nRequirement already satisfied, skipping upgrade: applicationinsights in /anaconda/envs/azureml_py38/lib/python3.8/site-packages (from azureml-telemetry~=1.51.0->azureml-train-automl-client~=1.51.0->azureml-sdk) (0.11.10)\nRequirement already satisfied, skipping upgrade: cloudpickle<3.0.0,>=1.1.0 in /anaconda/envs/azureml_py38/lib/python3.8/site-packages (from azureml-dataprep<4.11.0a,>=4.10.0a->azureml-dataset-runtime[fuse]~=1.51.0->azureml-sdk) (1.6.0)\nRequirement already satisfied, skipping upgrade: jsonschema in /anaconda/envs/azureml_py38/lib/python3.8/site-packages (from azureml-dataprep<4.11.0a,>=4.10.0a->azureml-dataset-runtime[fuse]~=1.51.0->azureml-sdk) (4.17.3)\nRequirement already satisfied, skipping upgrade: pyyaml<7.0.0,>=5.1.0 in /anaconda/envs/azureml_py38/lib/python3.8/site-packages (from azureml-dataprep<4.11.0a,>=4.10.0a->azureml-dataset-runtime[fuse]~=1.51.0->azureml-sdk) (6.0)\nRequirement already satisfied, skipping upgrade: azureml-dataprep-rslex~=2.17.6dev0 in /anaconda/envs/azureml_py38/lib/python3.8/site-packages (from azureml-dataprep<4.11.0a,>=4.10.0a->azureml-dataset-runtime[fuse]~=1.51.0->azureml-sdk) (2.17.11)\nRequirement already satisfied, skipping upgrade: azure-identity>=1.7.0 in /anaconda/envs/azureml_py38/lib/python3.8/site-packages (from azureml-dataprep<4.11.0a,>=4.10.0a->azureml-dataset-runtime[fuse]~=1.51.0->azureml-sdk) (1.7.0)\nRequirement already satisfied, skipping upgrade: azureml-dataprep-native<39.0.0,>=38.0.0 in /anaconda/envs/azureml_py38/lib/python3.8/site-packages (from azureml-dataprep<4.11.0a,>=4.10.0a->azureml-dataset-runtime[fuse]~=1.51.0->azureml-sdk) (38.0.0)\nRequirement already satisfied, skipping upgrade: dotnetcore2<4.0.0,>=3.0.0 in /anaconda/envs/azureml_py38/lib/python3.8/site-packages (from azureml-dataprep<4.11.0a,>=4.10.0a->azureml-dataset-runtime[fuse]~=1.51.0->azureml-sdk) (3.1.23)\nRequirement already satisfied, skipping upgrade: six>=1.11.0 in /anaconda/envs/azureml_py38/lib/python3.8/site-packages (from azure-core<2.0.0->azureml-core~=1.51.0->azureml-sdk) (1.16.0)\nRequirement already satisfied, skipping upgrade: typing-extensions>=4.0.1 in /anaconda/envs/azureml_py38/lib/python3.8/site-packages (from azure-core<2.0.0->azureml-core~=1.51.0->azureml-sdk) (4.4.0)\nRequirement already satisfied, skipping upgrade: azure-mgmt-core<2.0.0,>=1.3.2 in /anaconda/envs/azureml_py38/lib/python3.8/site-packages (from azure-mgmt-resource<=22.0.0,>=15.0.0->azureml-core~=1.51.0->azureml-sdk) (1.3.2)\nRequirement already satisfied, skipping upgrade: requests-oauthlib>=0.5.0 in /anaconda/envs/azureml_py38/lib/python3.8/site-packages (from msrest<=0.7.1,>=0.5.1->azureml-core~=1.51.0->azureml-sdk) (1.3.1)\nRequirement already satisfied, skipping upgrade: certifi>=2017.4.17 in /anaconda/envs/azureml_py38/lib/python3.8/site-packages (from msrest<=0.7.1,>=0.5.1->azureml-core~=1.51.0->azureml-sdk) (2022.9.24)\nRequirement already satisfied, skipping upgrade: isodate>=0.6.0 in /anaconda/envs/azureml_py38/lib/python3.8/site-packages (from msrest<=0.7.1,>=0.5.1->azureml-core~=1.51.0->azureml-sdk) (0.6.1)\nRequirement already satisfied, skipping upgrade: pyparsing!=3.0.5,>=2.0.2 in /anaconda/envs/azureml_py38/lib/python3.8/site-packages (from packaging<=23.0,>=20.0->azureml-core~=1.51.0->azureml-sdk) (3.0.9)\nRequirement already satisfied, skipping upgrade: tabulate in /anaconda/envs/azureml_py38/lib/python3.8/site-packages (from knack~=0.10.0->azureml-core~=1.51.0->azureml-sdk) (0.9.0)\nRequirement already satisfied, skipping upgrade: pygments in /anaconda/envs/azureml_py38/lib/python3.8/site-packages (from knack~=0.10.0->azureml-core~=1.51.0->azureml-sdk) (2.14.0)\nRequirement already satisfied, skipping upgrade: backports.weakref in /anaconda/envs/azureml_py38/lib/python3.8/site-packages (from backports.tempfile->azureml-core~=1.51.0->azureml-sdk) (1.0.post1)\nRequirement already satisfied, skipping upgrade: idna<4,>=2.5 in /anaconda/envs/azureml_py38/lib/python3.8/site-packages (from requests[socks]<3.0.0,>=2.19.1->azureml-core~=1.51.0->azureml-sdk) (3.4)\nRequirement already satisfied, skipping upgrade: charset-normalizer<4,>=2 in /anaconda/envs/azureml_py38/lib/python3.8/site-packages (from requests[socks]<3.0.0,>=2.19.1->azureml-core~=1.51.0->azureml-sdk) (3.0.1)\nRequirement already satisfied, skipping upgrade: PySocks!=1.5.7,>=1.5.6; extra == \"socks\" in /anaconda/envs/azureml_py38/lib/python3.8/site-packages (from requests[socks]<3.0.0,>=2.19.1->azureml-core~=1.51.0->azureml-sdk) (1.7.1)\nRequirement already satisfied, skipping upgrade: jeepney>=0.6 in /anaconda/envs/azureml_py38/lib/python3.8/site-packages (from SecretStorage<4.0.0->azureml-core~=1.51.0->azureml-sdk) (0.8.0)\nRequirement already satisfied, skipping upgrade: websocket-client>=0.32.0 in /anaconda/envs/azureml_py38/lib/python3.8/site-packages (from docker<7.0.0->azureml-core~=1.51.0->azureml-sdk) (1.5.0)\nRequirement already satisfied, skipping upgrade: cffi>=1.12 in /anaconda/envs/azureml_py38/lib/python3.8/site-packages (from cryptography!=1.9,!=2.0.*,!=2.1.*,!=2.2.*,<41->azureml-core~=1.51.0->azureml-sdk) (1.15.1)\nRequirement already satisfied, skipping upgrade: portalocker<3,>=1.0; python_version >= \"3.5\" and platform_system != \"Windows\" in /anaconda/envs/azureml_py38/lib/python3.8/site-packages (from msal-extensions<=1.0.0,>=0.3.0->azureml-core~=1.51.0->azureml-sdk) (2.7.0)\nRequirement already satisfied, skipping upgrade: bcrypt>=3.1.3 in /anaconda/envs/azureml_py38/lib/python3.8/site-packages (from paramiko<4.0.0,>=2.0.8->azureml-core~=1.51.0->azureml-sdk) (4.0.1)\nRequirement already satisfied, skipping upgrade: pynacl>=1.0.1 in /anaconda/envs/azureml_py38/lib/python3.8/site-packages (from paramiko<4.0.0,>=2.0.8->azureml-core~=1.51.0->azureml-sdk) (1.5.0)\nRequirement already satisfied, skipping upgrade: pyasn1>=0.1.1 in /anaconda/envs/azureml_py38/lib/python3.8/site-packages (from ndg-httpsclient<=0.5.1->azureml-core~=1.51.0->azureml-sdk) (0.4.8)\nRequirement already satisfied, skipping upgrade: pyrsistent!=0.17.0,!=0.17.1,!=0.17.2,>=0.14.0 in /anaconda/envs/azureml_py38/lib/python3.8/site-packages (from jsonschema->azureml-dataprep<4.11.0a,>=4.10.0a->azureml-dataset-runtime[fuse]~=1.51.0->azureml-sdk) (0.19.3)\nRequirement already satisfied, skipping upgrade: importlib-resources>=1.4.0; python_version < \"3.9\" in /anaconda/envs/azureml_py38/lib/python3.8/site-packages (from jsonschema->azureml-dataprep<4.11.0a,>=4.10.0a->azureml-dataset-runtime[fuse]~=1.51.0->azureml-sdk) (5.10.2)\nRequirement already satisfied, skipping upgrade: pkgutil-resolve-name>=1.3.10; python_version < \"3.9\" in /anaconda/envs/azureml_py38/lib/python3.8/site-packages (from jsonschema->azureml-dataprep<4.11.0a,>=4.10.0a->azureml-dataset-runtime[fuse]~=1.51.0->azureml-sdk) (1.3.10)\nRequirement already satisfied, skipping upgrade: attrs>=17.4.0 in /anaconda/envs/azureml_py38/lib/python3.8/site-packages (from jsonschema->azureml-dataprep<4.11.0a,>=4.10.0a->azureml-dataset-runtime[fuse]~=1.51.0->azureml-sdk) (22.2.0)\nRequirement already satisfied, skipping upgrade: distro>=1.2.0 in /anaconda/envs/azureml_py38/lib/python3.8/site-packages (from dotnetcore2<4.0.0,>=3.0.0->azureml-dataprep<4.11.0a,>=4.10.0a->azureml-dataset-runtime[fuse]~=1.51.0->azureml-sdk) (1.8.0)\nRequirement already satisfied, skipping upgrade: oauthlib>=3.0.0 in /anaconda/envs/azureml_py38/lib/python3.8/site-packages (from requests-oauthlib>=0.5.0->msrest<=0.7.1,>=0.5.1->azureml-core~=1.51.0->azureml-sdk) (3.2.2)\nRequirement already satisfied, skipping upgrade: pycparser in /anaconda/envs/azureml_py38/lib/python3.8/site-packages (from cffi>=1.12->cryptography!=1.9,!=2.0.*,!=2.1.*,!=2.2.*,<41->azureml-core~=1.51.0->azureml-sdk) (2.21)\nRequirement already satisfied, skipping upgrade: zipp>=3.1.0; python_version < \"3.10\" in /anaconda/envs/azureml_py38/lib/python3.8/site-packages (from importlib-resources>=1.4.0; python_version < \"3.9\"->jsonschema->azureml-dataprep<4.11.0a,>=4.10.0a->azureml-dataset-runtime[fuse]~=1.51.0->azureml-sdk) (3.12.0)\nRequirement already up-to-date: azureml-core in /anaconda/envs/azureml_py38/lib/python3.8/site-packages (1.51.0)\nRequirement already satisfied, skipping upgrade: azure-mgmt-resource<=22.0.0,>=15.0.0 in /anaconda/envs/azureml_py38/lib/python3.8/site-packages (from azureml-core) (21.2.1)\nRequirement already satisfied, skipping upgrade: knack~=0.10.0 in /anaconda/envs/azureml_py38/lib/python3.8/site-packages (from azureml-core) (0.10.1)\nRequirement already satisfied, skipping upgrade: msal-extensions<=1.0.0,>=0.3.0 in /anaconda/envs/azureml_py38/lib/python3.8/site-packages (from azureml-core) (0.3.1)\nRequirement already satisfied, skipping upgrade: azure-core<2.0.0 in /anaconda/envs/azureml_py38/lib/python3.8/site-packages (from azureml-core) (1.26.3)\nRequirement already satisfied, skipping upgrade: SecretStorage<4.0.0 in /anaconda/envs/azureml_py38/lib/python3.8/site-packages (from azureml-core) (3.3.3)\nRequirement already satisfied, skipping upgrade: argcomplete<3 in /anaconda/envs/azureml_py38/lib/python3.8/site-packages (from azureml-core) (2.0.0)\nRequirement already satisfied, skipping upgrade: pyopenssl<24.0.0 in /anaconda/envs/azureml_py38/lib/python3.8/site-packages (from azureml-core) (23.0.0)\nRequirement already satisfied, skipping upgrade: adal<=1.2.7,>=1.2.0 in /anaconda/envs/azureml_py38/lib/python3.8/site-packages (from azureml-core) (1.2.7)\nRequirement already satisfied, skipping upgrade: cryptography!=1.9,!=2.0.*,!=2.1.*,!=2.2.*,<41 in /anaconda/envs/azureml_py38/lib/python3.8/site-packages (from azureml-core) (38.0.4)\nRequirement already satisfied, skipping upgrade: jmespath<2.0.0 in /anaconda/envs/azureml_py38/lib/python3.8/site-packages (from azureml-core) (0.10.0)\nRequirement already satisfied, skipping upgrade: humanfriendly<11.0,>=4.7 in /anaconda/envs/azureml_py38/lib/python3.8/site-packages (from azureml-core) (10.0)\nRequirement already satisfied, skipping upgrade: backports.tempfile in /anaconda/envs/azureml_py38/lib/python3.8/site-packages (from azureml-core) (1.0)\nRequirement already satisfied, skipping upgrade: python-dateutil<3.0.0,>=2.7.3 in /anaconda/envs/azureml_py38/lib/python3.8/site-packages (from azureml-core) (2.8.2)\nRequirement already satisfied, skipping upgrade: msrestazure<=0.6.4,>=0.4.33 in /anaconda/envs/azureml_py38/lib/python3.8/site-packages (from azureml-core) (0.6.4)\nRequirement already satisfied, skipping upgrade: pytz in /anaconda/envs/azureml_py38/lib/python3.8/site-packages (from azureml-core) (2022.5)\nRequirement already satisfied, skipping upgrade: azure-mgmt-containerregistry<11,>=8.2.0 in /anaconda/envs/azureml_py38/lib/python3.8/site-packages (from azureml-core) (10.0.0)\nRequirement already satisfied, skipping upgrade: requests[socks]<3.0.0,>=2.19.1 in /anaconda/envs/azureml_py38/lib/python3.8/site-packages (from azureml-core) (2.28.2)\nRequirement already satisfied, skipping upgrade: azure-graphrbac<1.0.0,>=0.40.0 in /anaconda/envs/azureml_py38/lib/python3.8/site-packages (from azureml-core) (0.61.1)\nRequirement already satisfied, skipping upgrade: pkginfo in /anaconda/envs/azureml_py38/lib/python3.8/site-packages (from azureml-core) (1.9.6)\nRequirement already satisfied, skipping upgrade: docker<7.0.0 in /anaconda/envs/azureml_py38/lib/python3.8/site-packages (from azureml-core) (6.0.1)\nRequirement already satisfied, skipping upgrade: pathspec<1.0.0 in /anaconda/envs/azureml_py38/lib/python3.8/site-packages (from azureml-core) (0.11.0)\nRequirement already satisfied, skipping upgrade: msal<2.0.0,>=1.15.0 in /anaconda/envs/azureml_py38/lib/python3.8/site-packages (from azureml-core) (1.21.0)\nRequirement already satisfied, skipping upgrade: msrest<=0.7.1,>=0.5.1 in /anaconda/envs/azureml_py38/lib/python3.8/site-packages (from azureml-core) (0.7.1)\nRequirement already satisfied, skipping upgrade: urllib3<2.0.0,>=1.23 in /anaconda/envs/azureml_py38/lib/python3.8/site-packages (from azureml-core) (1.26.14)\nRequirement already satisfied, skipping upgrade: azure-mgmt-keyvault<11.0.0,>=0.40.0 in /anaconda/envs/azureml_py38/lib/python3.8/site-packages (from azureml-core) (10.1.0)\nRequirement already satisfied, skipping upgrade: azure-mgmt-authorization<4,>=0.40.0 in /anaconda/envs/azureml_py38/lib/python3.8/site-packages (from azureml-core) (3.0.0)\nRequirement already satisfied, skipping upgrade: contextlib2<22.0.0 in /anaconda/envs/azureml_py38/lib/python3.8/site-packages (from azureml-core) (21.6.0)\nRequirement already satisfied, skipping upgrade: PyJWT<3.0.0 in /anaconda/envs/azureml_py38/lib/python3.8/site-packages (from azureml-core) (2.4.0)\nRequirement already satisfied, skipping upgrade: paramiko<4.0.0,>=2.0.8 in /anaconda/envs/azureml_py38/lib/python3.8/site-packages (from azureml-core) (2.12.0)\nRequirement already satisfied, skipping upgrade: packaging<=23.0,>=20.0 in /anaconda/envs/azureml_py38/lib/python3.8/site-packages (from azureml-core) (21.3)\nRequirement already satisfied, skipping upgrade: azure-mgmt-storage<=21.0.0,>=16.0.0 in /anaconda/envs/azureml_py38/lib/python3.8/site-packages (from azureml-core) (20.1.0)\nRequirement already satisfied, skipping upgrade: ndg-httpsclient<=0.5.1 in /anaconda/envs/azureml_py38/lib/python3.8/site-packages (from azureml-core) (0.5.1)\nRequirement already satisfied, skipping upgrade: jsonpickle<4.0.0 in /anaconda/envs/azureml_py38/lib/python3.8/site-packages (from azureml-core) (2.2.0)\nRequirement already satisfied, skipping upgrade: azure-common<2.0.0,>=1.1.12 in /anaconda/envs/azureml_py38/lib/python3.8/site-packages (from azureml-core) (1.1.28)\nRequirement already satisfied, skipping upgrade: azure-mgmt-core<2.0.0,>=1.3.2 in /anaconda/envs/azureml_py38/lib/python3.8/site-packages (from azure-mgmt-resource<=22.0.0,>=15.0.0->azureml-core) (1.3.2)\nRequirement already satisfied, skipping upgrade: tabulate in /anaconda/envs/azureml_py38/lib/python3.8/site-packages (from knack~=0.10.0->azureml-core) (0.9.0)\nRequirement already satisfied, skipping upgrade: pyyaml in /anaconda/envs/azureml_py38/lib/python3.8/site-packages (from knack~=0.10.0->azureml-core) (6.0)\nRequirement already satisfied, skipping upgrade: pygments in /anaconda/envs/azureml_py38/lib/python3.8/site-packages (from knack~=0.10.0->azureml-core) (2.14.0)\nRequirement already satisfied, skipping upgrade: portalocker<3,>=1.0; python_version >= \"3.5\" and platform_system != \"Windows\" in /anaconda/envs/azureml_py38/lib/python3.8/site-packages (from msal-extensions<=1.0.0,>=0.3.0->azureml-core) (2.7.0)\nRequirement already satisfied, skipping upgrade: typing-extensions>=4.0.1 in /anaconda/envs/azureml_py38/lib/python3.8/site-packages (from azure-core<2.0.0->azureml-core) (4.4.0)\nRequirement already satisfied, skipping upgrade: six>=1.11.0 in /anaconda/envs/azureml_py38/lib/python3.8/site-packages (from azure-core<2.0.0->azureml-core) (1.16.0)\nRequirement already satisfied, skipping upgrade: jeepney>=0.6 in /anaconda/envs/azureml_py38/lib/python3.8/site-packages (from SecretStorage<4.0.0->azureml-core) (0.8.0)\nRequirement already satisfied, skipping upgrade: cffi>=1.12 in /anaconda/envs/azureml_py38/lib/python3.8/site-packages (from cryptography!=1.9,!=2.0.*,!=2.1.*,!=2.2.*,<41->azureml-core) (1.15.1)\nRequirement already satisfied, skipping upgrade: backports.weakref in /anaconda/envs/azureml_py38/lib/python3.8/site-packages (from backports.tempfile->azureml-core) (1.0.post1)\nRequirement already satisfied, skipping upgrade: charset-normalizer<4,>=2 in /anaconda/envs/azureml_py38/lib/python3.8/site-packages (from requests[socks]<3.0.0,>=2.19.1->azureml-core) (3.0.1)\nRequirement already satisfied, skipping upgrade: certifi>=2017.4.17 in /anaconda/envs/azureml_py38/lib/python3.8/site-packages (from requests[socks]<3.0.0,>=2.19.1->azureml-core) (2022.9.24)\nRequirement already satisfied, skipping upgrade: idna<4,>=2.5 in /anaconda/envs/azureml_py38/lib/python3.8/site-packages (from requests[socks]<3.0.0,>=2.19.1->azureml-core) (3.4)\nRequirement already satisfied, skipping upgrade: PySocks!=1.5.7,>=1.5.6; extra == \"socks\" in /anaconda/envs/azureml_py38/lib/python3.8/site-packages (from requests[socks]<3.0.0,>=2.19.1->azureml-core) (1.7.1)\nRequirement already satisfied, skipping upgrade: websocket-client>=0.32.0 in /anaconda/envs/azureml_py38/lib/python3.8/site-packages (from docker<7.0.0->azureml-core) (1.5.0)\nRequirement already satisfied, skipping upgrade: isodate>=0.6.0 in /anaconda/envs/azureml_py38/lib/python3.8/site-packages (from msrest<=0.7.1,>=0.5.1->azureml-core) (0.6.1)\nRequirement already satisfied, skipping upgrade: requests-oauthlib>=0.5.0 in /anaconda/envs/azureml_py38/lib/python3.8/site-packages (from msrest<=0.7.1,>=0.5.1->azureml-core) (1.3.1)\nRequirement already satisfied, skipping upgrade: bcrypt>=3.1.3 in /anaconda/envs/azureml_py38/lib/python3.8/site-packages (from paramiko<4.0.0,>=2.0.8->azureml-core) (4.0.1)\nRequirement already satisfied, skipping upgrade: pynacl>=1.0.1 in /anaconda/envs/azureml_py38/lib/python3.8/site-packages (from paramiko<4.0.0,>=2.0.8->azureml-core) (1.5.0)\nRequirement already satisfied, skipping upgrade: pyparsing!=3.0.5,>=2.0.2 in /anaconda/envs/azureml_py38/lib/python3.8/site-packages (from packaging<=23.0,>=20.0->azureml-core) (3.0.9)\nRequirement already satisfied, skipping upgrade: pyasn1>=0.1.1 in /anaconda/envs/azureml_py38/lib/python3.8/site-packages (from ndg-httpsclient<=0.5.1->azureml-core) (0.4.8)\nRequirement already satisfied, skipping upgrade: pycparser in /anaconda/envs/azureml_py38/lib/python3.8/site-packages (from cffi>=1.12->cryptography!=1.9,!=2.0.*,!=2.1.*,!=2.2.*,<41->azureml-core) (2.21)\nRequirement already satisfied, skipping upgrade: oauthlib>=3.0.0 in /anaconda/envs/azureml_py38/lib/python3.8/site-packages (from requests-oauthlib>=0.5.0->msrest<=0.7.1,>=0.5.1->azureml-core) (3.2.2)\n"
        }
      ],
      "execution_count": 22,
      "metadata": {
        "gather": {
          "logged": 1684477071072
        },
        "jupyter": {
          "outputs_hidden": false,
          "source_hidden": false
        },
        "nteract": {
          "transient": {
            "deleting": false
          }
        }
      }
    },
    {
      "cell_type": "code",
      "source": [
        "import logging\n",
        "import os\n",
        "import csv\n",
        "\n",
        "#from matplotlib import pyplot as plt\n",
        "import numpy as np\n",
        "import pandas as pd\n",
        "#from sklearn import datasets\n",
        "import pkg_resources\n",
        "\n",
        "import azureml.core\n",
        "from azureml.core.experiment import Experiment\n",
        "from azureml.core.workspace import Workspace\n",
        "from azureml.train.automl import AutoMLConfig\n",
        "from azureml.core.dataset import Dataset\n",
        "\n",
        "from azureml.pipeline.steps import AutoMLStep"
      ],
      "outputs": [],
      "execution_count": 3,
      "metadata": {
        "gather": {
          "logged": 1685515634005
        },
        "jupyter": {
          "outputs_hidden": false,
          "source_hidden": false
        },
        "nteract": {
          "transient": {
            "deleting": false
          }
        }
      }
    },
    {
      "cell_type": "markdown",
      "source": [
        "## Dataset\n",
        "\n",
        "### Overview\n",
        "TODO: In this markdown cell, give an overview of the dataset you are using. Also mention the task you will be performing.\n",
        "\n",
        "\n",
        "TODO: Get data. In the cell below, write code to access the data you will be using in this project. Remember that the dataset needs to be external."
      ],
      "metadata": {}
    },
    {
      "cell_type": "markdown",
      "source": [
        "Title: Car Evaluation Database\n",
        "\n",
        "Task: To create the hierarchical decision model\n",
        "\n",
        "This model evaluates cars according to the following concept structure:\n",
        "\n",
        " CAR:car acceptability;\n",
        "\n",
        " buying:buying price;v-high, high, med, low\n",
        " \n",
        " maint:price of the maintenance;v-high, high, med, low\n",
        " \n",
        " doors:number of doors;2, 3, 4, 5-more\n",
        " \n",
        " persons:capacity in terms of persons to carry;2, 4, more\n",
        " \n",
        " lug_boot:the size of luggage boot;small, med, big\n",
        " \n",
        " safety:estimated safety of the car;low, med, high\n",
        "  \n",
        "Class Distribution;unacc,acc,good,v-good"
      ],
      "metadata": {
        "nteract": {
          "transient": {
            "deleting": false
          }
        }
      }
    },
    {
      "cell_type": "code",
      "source": [
        "ws = Workspace.from_config()\n",
        "\n",
        "# choose a name for experiment\n",
        "experiment_name = 'auto-ml'\n",
        "project_folder = './project'\n",
        "\n",
        "experiment=Experiment(ws, experiment_name)"
      ],
      "outputs": [],
      "execution_count": 4,
      "metadata": {
        "gather": {
          "logged": 1685515645463
        },
        "jupyter": {
          "outputs_hidden": false,
          "source_hidden": false
        },
        "nteract": {
          "transient": {
            "deleting": false
          }
        }
      }
    },
    {
      "cell_type": "code",
      "source": [
        "print(ws)"
      ],
      "outputs": [
        {
          "output_type": "stream",
          "name": "stdout",
          "text": "Workspace.create(name='quick-starts-ws-234706', subscription_id='aa7cf8e8-d23f-4bce-a7b9-1f0b4e0ac8ee', resource_group='aml-quickstarts-234706')\n"
        }
      ],
      "execution_count": 27,
      "metadata": {
        "jupyter": {
          "source_hidden": false,
          "outputs_hidden": false
        },
        "nteract": {
          "transient": {
            "deleting": false
          }
        },
        "gather": {
          "logged": 1685520108002
        }
      }
    },
    {
      "cell_type": "code",
      "source": [
        "from azureml.core.compute import AmlCompute\n",
        "from azureml.core.compute import ComputeTarget\n",
        "from azureml.core.compute_target import ComputeTargetException\n",
        "\n",
        "# Create the cluster\n",
        "amlcompute_cluster_name = \"auto-ml\"\n",
        "\n",
        "compute_config = AmlCompute.provisioning_configuration(vm_size='STANDARD_D2_V2',\n",
        "    # for GPU, use \"STANDARD_NC6\"\n",
        "    #vm_priority = 'lowpriority', # optional\n",
        "    max_nodes=4)\n",
        "compute_target = ComputeTarget.create(ws, amlcompute_cluster_name, compute_config)\n",
        "\n",
        "compute_target.wait_for_completion(show_output=True, min_node_count = 1, timeout_in_minutes = 20) # timeout 10 to 20min\n",
        "# For a more detailed view of current AmlCompute status, use get_status()."
      ],
      "outputs": [
        {
          "output_type": "stream",
          "name": "stdout",
          "text": "InProgress..\nSucceededProvisioning operation finished, operation \"Succeeded\"\nSucceeded..........................................................................................................................................................................................................................................\nAmlCompute wait for completion finished\n\nWait timeout has been reached\nCurrent provisioning state of AmlCompute is \"Succeeded\" and current node count is \"0\"\n"
        }
      ],
      "execution_count": 5,
      "metadata": {
        "gather": {
          "logged": 1685516864629
        },
        "jupyter": {
          "outputs_hidden": false,
          "source_hidden": false
        },
        "nteract": {
          "transient": {
            "deleting": false
          }
        }
      }
    },
    {
      "cell_type": "code",
      "source": [
        "# Create AML Dataset and register it into Workspace\n",
        "key='car evaluation data set'\n",
        "data = 'https://archive.ics.uci.edu/ml/machine-learning-databases/car/car.data'\n",
        "\n",
        "df = pd.read_csv(data)\n",
        "columns = ['buying', 'maint', 'doors', 'persons', 'lug_boot', 'safety', 'class']\n",
        "df.columns = columns\n",
        "\n",
        "# Convert the DataFrame to a TabularDataset\n",
        "dataset = Dataset.Tabular.register_pandas_dataframe(\n",
        "    dataframe=df, \n",
        "    target=(ws.get_default_datastore(), key), \n",
        "    name=key, \n",
        "    description='Dataset description')\n",
        "\n",
        "df.describe()\n"
      ],
      "outputs": [
        {
          "output_type": "stream",
          "name": "stdout",
          "text": "Validating arguments.\nArguments validated.\nSuccessfully obtained datastore reference and path.\nUploading file to car evaluation data set/bfc7463b-7b64-42c9-9dd3-5a81d4aa723d/\nSuccessfully uploaded file to datastore.\nCreating and registering a new dataset.\nSuccessfully created and registered a new dataset.\n"
        },
        {
          "output_type": "execute_result",
          "execution_count": 6,
          "data": {
            "text/plain": "       buying maint doors persons lug_boot safety  class\ncount    1727  1727  1727    1727     1727   1727   1727\nunique      4     4     4       3        3      3      4\ntop       low   low     4       4      big   high  unacc\nfreq      432   432   432     576      576    576   1209",
            "text/html": "<div>\n<style scoped>\n    .dataframe tbody tr th:only-of-type {\n        vertical-align: middle;\n    }\n\n    .dataframe tbody tr th {\n        vertical-align: top;\n    }\n\n    .dataframe thead th {\n        text-align: right;\n    }\n</style>\n<table border=\"1\" class=\"dataframe\">\n  <thead>\n    <tr style=\"text-align: right;\">\n      <th></th>\n      <th>buying</th>\n      <th>maint</th>\n      <th>doors</th>\n      <th>persons</th>\n      <th>lug_boot</th>\n      <th>safety</th>\n      <th>class</th>\n    </tr>\n  </thead>\n  <tbody>\n    <tr>\n      <th>count</th>\n      <td>1727</td>\n      <td>1727</td>\n      <td>1727</td>\n      <td>1727</td>\n      <td>1727</td>\n      <td>1727</td>\n      <td>1727</td>\n    </tr>\n    <tr>\n      <th>unique</th>\n      <td>4</td>\n      <td>4</td>\n      <td>4</td>\n      <td>3</td>\n      <td>3</td>\n      <td>3</td>\n      <td>4</td>\n    </tr>\n    <tr>\n      <th>top</th>\n      <td>low</td>\n      <td>low</td>\n      <td>4</td>\n      <td>4</td>\n      <td>big</td>\n      <td>high</td>\n      <td>unacc</td>\n    </tr>\n    <tr>\n      <th>freq</th>\n      <td>432</td>\n      <td>432</td>\n      <td>432</td>\n      <td>576</td>\n      <td>576</td>\n      <td>576</td>\n      <td>1209</td>\n    </tr>\n  </tbody>\n</table>\n</div>"
          },
          "metadata": {}
        }
      ],
      "execution_count": 6,
      "metadata": {
        "gather": {
          "logged": 1685517240580
        },
        "jupyter": {
          "outputs_hidden": false,
          "source_hidden": false
        },
        "nteract": {
          "transient": {
            "deleting": false
          }
        }
      }
    },
    {
      "cell_type": "markdown",
      "source": [
        "## AutoML Configuration\n",
        "\n",
        "TODO: Explain why you chose the automl settings and cofiguration you used below."
      ],
      "metadata": {}
    },
    {
      "cell_type": "markdown",
      "source": [
        "Automl setting\n",
        "\n",
        " - experiment time out minutes; to avoid endless working\n",
        "\n",
        " - max concurrent iterations; between cost and performance\n",
        "\n",
        " - primary metric; AUC is a widely used metric to evaluate the performance of binary classifiers. The weighted version extends it to multi-class classification by considering the class imbalance when computing the average AUC across classes. \n",
        "\n",
        "Automl configuration\n",
        "\n",
        " - task = \"classification\"; To make classification model\n",
        "\n",
        " - label_column_name=\"class\"; This column gives evalation result\n",
        "\n",
        " - enable_early_stopping= True; To save cost at score improvement small\n",
        "\n",
        " - featurization= 'auto'; Automated separation for training data and test data\n"
      ],
      "metadata": {
        "nteract": {
          "transient": {
            "deleting": false
          }
        }
      }
    },
    {
      "cell_type": "code",
      "source": [
        "# TODO: Put your automl settings here\n",
        "automl_settings = {\n",
        "    \"experiment_timeout_minutes\": 20,\n",
        "    \"max_concurrent_iterations\": 5,\n",
        "    \"primary_metric\" : 'AUC_weighted'\n",
        "}\n",
        "# TODO: Put your automl config here\n",
        "automl_config = AutoMLConfig(compute_target=compute_target,\n",
        "                             task = \"classification\",\n",
        "                             training_data=dataset,\n",
        "                             label_column_name=\"class\",   \n",
        "                             path = project_folder,\n",
        "                             enable_early_stopping= True,\n",
        "                             featurization= 'auto',\n",
        "                             debug_log = \"automl_errors.log\",\n",
        "                             **automl_settings\n",
        "                            )"
      ],
      "outputs": [],
      "execution_count": 7,
      "metadata": {
        "gather": {
          "logged": 1685517254790
        },
        "jupyter": {
          "outputs_hidden": false,
          "source_hidden": false
        },
        "nteract": {
          "transient": {
            "deleting": false
          }
        }
      }
    },
    {
      "cell_type": "code",
      "source": [
        "# TODO: Submit your experiment\n",
        "\n",
        "remote_run = experiment.submit(automl_config)\n"
      ],
      "outputs": [
        {
          "output_type": "stream",
          "name": "stdout",
          "text": "Submitting remote run.\n"
        },
        {
          "output_type": "display_data",
          "data": {
            "text/plain": "<IPython.core.display.HTML object>",
            "text/html": "<table style=\"width:100%\"><tr><th>Experiment</th><th>Id</th><th>Type</th><th>Status</th><th>Details Page</th><th>Docs Page</th></tr><tr><td>auto-ml</td><td>AutoML_51ca83d5-1389-4433-8bbb-4c7c26140e01</td><td>automl</td><td>NotStarted</td><td><a href=\"https://ml.azure.com/runs/AutoML_51ca83d5-1389-4433-8bbb-4c7c26140e01?wsid=/subscriptions/aa7cf8e8-d23f-4bce-a7b9-1f0b4e0ac8ee/resourcegroups/aml-quickstarts-234706/workspaces/quick-starts-ws-234706&amp;tid=660b3398-b80e-49d2-bc5b-ac1dc93b5254\" target=\"_blank\" rel=\"noopener\">Link to Azure Machine Learning studio</a></td><td><a href=\"https://docs.microsoft.com/en-us/python/api/overview/azure/ml/intro?view=azure-ml-py\" target=\"_blank\" rel=\"noopener\">Link to Documentation</a></td></tr></table>"
          },
          "metadata": {}
        }
      ],
      "execution_count": 8,
      "metadata": {
        "gather": {
          "logged": 1685517264987
        },
        "jupyter": {
          "outputs_hidden": false,
          "source_hidden": false
        },
        "nteract": {
          "transient": {
            "deleting": false
          }
        }
      }
    },
    {
      "cell_type": "markdown",
      "source": [
        "## Run Details\n",
        "\n",
        "OPTIONAL: Write about the different models trained and their performance. Why do you think some models did better than others?\n",
        "\n",
        "TODO: In the cell below, use the `RunDetails` widget to show the different experiments."
      ],
      "metadata": {}
    },
    {
      "cell_type": "code",
      "source": [
        "from azureml.widgets import RunDetails\n",
        "\n",
        "RunDetails(remote_run).show()"
      ],
      "outputs": [
        {
          "output_type": "display_data",
          "data": {
            "text/plain": "_AutoMLWidget(widget_settings={'childWidgetDisplay': 'popup', 'send_telemetry': False, 'log_level': 'INFO', 's…",
            "application/vnd.jupyter.widget-view+json": {
              "version_major": 2,
              "version_minor": 0,
              "model_id": "6f32c6e5f9ac4c2c87b60bda30b9abcf"
            }
          },
          "metadata": {}
        },
        {
          "output_type": "display_data",
          "data": {
            "application/aml.mini.widget.v1": "{\"status\": \"Completed\", \"workbench_run_details_uri\": \"https://ml.azure.com/runs/AutoML_51ca83d5-1389-4433-8bbb-4c7c26140e01?wsid=/subscriptions/aa7cf8e8-d23f-4bce-a7b9-1f0b4e0ac8ee/resourcegroups/aml-quickstarts-234706/workspaces/quick-starts-ws-234706&tid=660b3398-b80e-49d2-bc5b-ac1dc93b5254\", \"run_id\": \"AutoML_51ca83d5-1389-4433-8bbb-4c7c26140e01\", \"run_properties\": {\"run_id\": \"AutoML_51ca83d5-1389-4433-8bbb-4c7c26140e01\", \"created_utc\": \"2023-05-31T07:14:23.670751Z\", \"properties\": {\"num_iterations\": \"1000\", \"training_type\": \"TrainFull\", \"acquisition_function\": \"EI\", \"primary_metric\": \"AUC_weighted\", \"train_split\": \"0\", \"acquisition_parameter\": \"0\", \"num_cross_validation\": null, \"target\": \"auto-ml\", \"AMLSettingsJsonString\": \"{\\\"path\\\":null,\\\"name\\\":\\\"auto-ml\\\",\\\"subscription_id\\\":\\\"aa7cf8e8-d23f-4bce-a7b9-1f0b4e0ac8ee\\\",\\\"resource_group\\\":\\\"aml-quickstarts-234706\\\",\\\"workspace_name\\\":\\\"quick-starts-ws-234706\\\",\\\"region\\\":\\\"westeurope\\\",\\\"compute_target\\\":\\\"auto-ml\\\",\\\"spark_service\\\":null,\\\"azure_service\\\":\\\"remote\\\",\\\"many_models\\\":false,\\\"pipeline_fetch_max_batch_size\\\":1,\\\"enable_batch_run\\\":true,\\\"enable_parallel_run\\\":false,\\\"num_procs\\\":null,\\\"enable_run_restructure\\\":false,\\\"start_auxiliary_runs_before_parent_complete\\\":false,\\\"enable_code_generation\\\":true,\\\"iterations\\\":1000,\\\"primary_metric\\\":\\\"AUC_weighted\\\",\\\"task_type\\\":\\\"classification\\\",\\\"positive_label\\\":null,\\\"data_script\\\":null,\\\"test_size\\\":0.0,\\\"test_include_predictions_only\\\":false,\\\"validation_size\\\":0.0,\\\"n_cross_validations\\\":null,\\\"y_min\\\":null,\\\"y_max\\\":null,\\\"num_classes\\\":null,\\\"featurization\\\":\\\"auto\\\",\\\"_ignore_package_version_incompatibilities\\\":false,\\\"is_timeseries\\\":false,\\\"max_cores_per_iteration\\\":1,\\\"max_concurrent_iterations\\\":5,\\\"iteration_timeout_minutes\\\":null,\\\"mem_in_mb\\\":null,\\\"enforce_time_on_windows\\\":false,\\\"experiment_timeout_minutes\\\":20,\\\"experiment_exit_score\\\":null,\\\"partition_column_names\\\":null,\\\"whitelist_models\\\":null,\\\"blacklist_algos\\\":[\\\"TensorFlowLinearClassifier\\\",\\\"TensorFlowDNN\\\"],\\\"supported_models\\\":[\\\"TensorFlowDNN\\\",\\\"TensorFlowLinearClassifier\\\",\\\"GradientBoosting\\\",\\\"RandomForest\\\",\\\"XGBoostClassifier\\\",\\\"AveragedPerceptronClassifier\\\",\\\"MultinomialNaiveBayes\\\",\\\"ExtremeRandomTrees\\\",\\\"LinearSVM\\\",\\\"SVM\\\",\\\"KNN\\\",\\\"LightGBM\\\",\\\"DecisionTree\\\",\\\"SGD\\\",\\\"BernoulliNaiveBayes\\\",\\\"TabnetClassifier\\\",\\\"LogisticRegression\\\"],\\\"private_models\\\":[],\\\"auto_blacklist\\\":true,\\\"blacklist_samples_reached\\\":false,\\\"exclude_nan_labels\\\":true,\\\"verbosity\\\":20,\\\"_debug_log\\\":\\\"azureml_automl.log\\\",\\\"show_warnings\\\":false,\\\"model_explainability\\\":true,\\\"service_url\\\":null,\\\"sdk_url\\\":null,\\\"sdk_packages\\\":null,\\\"enable_onnx_compatible_models\\\":false,\\\"enable_split_onnx_featurizer_estimator_models\\\":false,\\\"vm_type\\\":\\\"STANDARD_D2_V2\\\",\\\"telemetry_verbosity\\\":20,\\\"send_telemetry\\\":true,\\\"enable_dnn\\\":false,\\\"scenario\\\":\\\"AutoML\\\",\\\"environment_label\\\":null,\\\"save_mlflow\\\":false,\\\"enable_categorical_indicators\\\":false,\\\"force_text_dnn\\\":false,\\\"enable_feature_sweeping\\\":true,\\\"enable_early_stopping\\\":true,\\\"early_stopping_n_iters\\\":10,\\\"arguments\\\":null,\\\"dataset_id\\\":\\\"9b926e57-8433-4e69-b86f-49b662808310\\\",\\\"hyperdrive_config\\\":null,\\\"validation_dataset_id\\\":null,\\\"run_source\\\":null,\\\"metrics\\\":null,\\\"enable_metric_confidence\\\":false,\\\"enable_ensembling\\\":true,\\\"enable_stack_ensembling\\\":true,\\\"ensemble_iterations\\\":15,\\\"enable_tf\\\":false,\\\"enable_subsampling\\\":null,\\\"subsample_seed\\\":null,\\\"enable_nimbusml\\\":false,\\\"enable_streaming\\\":false,\\\"force_streaming\\\":false,\\\"track_child_runs\\\":true,\\\"n_best_runs\\\":1,\\\"allowed_private_models\\\":[],\\\"label_column_name\\\":\\\"class\\\",\\\"weight_column_name\\\":null,\\\"cv_split_column_names\\\":null,\\\"enable_local_managed\\\":false,\\\"_local_managed_run_id\\\":null,\\\"cost_mode\\\":1,\\\"lag_length\\\":0,\\\"metric_operation\\\":\\\"maximize\\\",\\\"preprocess\\\":true}\", \"DataPrepJsonString\": \"{\\\\\\\"training_data\\\\\\\": {\\\\\\\"datasetId\\\\\\\": \\\\\\\"9b926e57-8433-4e69-b86f-49b662808310\\\\\\\"}, \\\\\\\"datasets\\\\\\\": 0}\", \"EnableSubsampling\": null, \"runTemplate\": \"AutoML\", \"azureml.runsource\": \"automl\", \"display_task_type\": \"classification\", \"dependencies_versions\": \"{\\\"azureml-widgets\\\": \\\"1.49.0\\\", \\\"azureml-training-tabular\\\": \\\"1.49.0\\\", \\\"azureml-train\\\": \\\"1.49.0\\\", \\\"azureml-train-restclients-hyperdrive\\\": \\\"1.49.0\\\", \\\"azureml-train-core\\\": \\\"1.49.0\\\", \\\"azureml-train-automl\\\": \\\"1.49.0\\\", \\\"azureml-train-automl-runtime\\\": \\\"1.49.0\\\", \\\"azureml-train-automl-client\\\": \\\"1.49.0\\\", \\\"azureml-tensorboard\\\": \\\"1.49.0\\\", \\\"azureml-telemetry\\\": \\\"1.49.0\\\", \\\"azureml-sdk\\\": \\\"1.49.0\\\", \\\"azureml-responsibleai\\\": \\\"1.49.0\\\", \\\"azureml-pipeline\\\": \\\"1.49.0\\\", \\\"azureml-pipeline-steps\\\": \\\"1.49.0\\\", \\\"azureml-pipeline-core\\\": \\\"1.49.0\\\", \\\"azureml-opendatasets\\\": \\\"1.49.0\\\", \\\"azureml-mlflow\\\": \\\"1.49.0\\\", \\\"azureml-interpret\\\": \\\"1.49.0\\\", \\\"azureml-inference-server-http\\\": \\\"0.8.0\\\", \\\"azureml-explain-model\\\": \\\"1.49.0\\\", \\\"azureml-defaults\\\": \\\"1.49.0\\\", \\\"azureml-dataset-runtime\\\": \\\"1.49.0\\\", \\\"azureml-dataprep\\\": \\\"4.9.1\\\", \\\"azureml-dataprep-rslex\\\": \\\"2.16.1\\\", \\\"azureml-dataprep-native\\\": \\\"38.0.0\\\", \\\"azureml-datadrift\\\": \\\"1.49.0\\\", \\\"azureml-core\\\": \\\"1.49.0\\\", \\\"azureml-contrib-services\\\": \\\"1.49.0\\\", \\\"azureml-contrib-server\\\": \\\"1.49.0\\\", \\\"azureml-contrib-reinforcementlearning\\\": \\\"1.49.0\\\", \\\"azureml-contrib-pipeline-steps\\\": \\\"1.49.0\\\", \\\"azureml-contrib-notebook\\\": \\\"1.49.0\\\", \\\"azureml-contrib-fairness\\\": \\\"1.49.0\\\", \\\"azureml-contrib-dataset\\\": \\\"1.49.0\\\", \\\"azureml-contrib-automl-pipeline-steps\\\": \\\"1.49.0\\\", \\\"azureml-cli-common\\\": \\\"1.49.0\\\", \\\"azureml-automl-runtime\\\": \\\"1.49.0\\\", \\\"azureml-automl-dnn-nlp\\\": \\\"1.49.0\\\", \\\"azureml-automl-core\\\": \\\"1.49.0\\\", \\\"azureml-accel-models\\\": \\\"1.49.0\\\"}\", \"_aml_system_scenario_identification\": \"Remote.Parent\", \"ClientType\": \"SDK\", \"PlatformVersion\": \"DPV1\", \"environment_cpu_name\": \"AzureML-AutoML\", \"environment_cpu_label\": \"prod\", \"environment_gpu_name\": \"AzureML-AutoML-GPU\", \"environment_gpu_label\": \"prod\", \"root_attribution\": \"automl\", \"attribution\": \"AutoML\", \"Orchestrator\": \"AutoML\", \"CancelUri\": \"https://westeurope.api.azureml.ms/jasmine/v1.0/subscriptions/aa7cf8e8-d23f-4bce-a7b9-1f0b4e0ac8ee/resourceGroups/aml-quickstarts-234706/providers/Microsoft.MachineLearningServices/workspaces/quick-starts-ws-234706/experimentids/eb98f0e9-b67b-4d70-bf57-897a885f8c61/cancel/AutoML_51ca83d5-1389-4433-8bbb-4c7c26140e01\", \"ClientSdkVersion\": null, \"snapshotId\": \"00000000-0000-0000-0000-000000000000\", \"SetupRunId\": \"AutoML_51ca83d5-1389-4433-8bbb-4c7c26140e01_setup\", \"SetupRunContainerId\": \"dcid.AutoML_51ca83d5-1389-4433-8bbb-4c7c26140e01_setup\", \"FeaturizationRunJsonPath\": \"featurizer_container.json\", \"FeaturizationRunId\": \"AutoML_51ca83d5-1389-4433-8bbb-4c7c26140e01_featurize\", \"ProblemInfoJsonString\": \"{\\\"dataset_num_categorical\\\": 0, \\\"is_sparse\\\": true, \\\"subsampling\\\": false, \\\"has_extra_col\\\": true, \\\"dataset_classes\\\": 4, \\\"dataset_features\\\": 21, \\\"dataset_samples\\\": 1727, \\\"single_frequency_class_detected\\\": false}\", \"ModelExplainRunId\": \"AutoML_51ca83d5-1389-4433-8bbb-4c7c26140e01_ModelExplain\"}, \"tags\": {\"model_explain_run\": \"best_run\", \"_aml_system_automl_run_workspace_id\": \"e5ddc5a4-61da-4ba2-9062-696fbf522697\", \"_aml_system_azureml.automlComponent\": \"AutoML\", \"pipeline_id_000\": \"5dfac790c5c209f98a1da2dc1c7fb76f0397324f;c7af0367625be6ac5c2fecbfc72ed444cb7a2111;51ae05309834b29f71340af1008fc94fbd8213f4;ce2643edf3d450b10c86c7d034a9bc952dc282d3;039a99c3d5147edeb525249e2660628be3e8b83f;a3dadd95854bf6116ab454844302b51d417d78b7;1dfdf370ba770047b14bfa59c40920815defcdab;294650ec23bc3d067a4972de7ceb12f6e97260fa;681a59302459aec2cc115ddbc14e1d28f4b3b8df;5bcf69d12307c5f0246b0d33ab19666443595ac9;6f4a466f84f725a47910c1dff062a1bb46df2a21;dea7fdbaedc77258dbfe31dbfed41e768ca38939;c74787cd2f0507b852a1ac70d504d83ac9bdec83;79ebb3b8c385e3190e3dd4c1fa28b74730528045;a72eb56f3d4aadb7b7f0149ba6e5f05657a95ca1;9610149fbcf43017aa810a290e9c04cbe6fa8684;1e38ae92baee19b18f211a8b14c16015d5ee3dc3;a7434e890cabef86b0ce4ae71fb633e1e92b854d;dd46719e1e1ca3df6e6826afb96bf9be8390e6e2;208056285bd1883d5bd7d4e4e996a1c71c4b0033;f9c4839cd35f7fe03bcc11d87a99d82f63f333dc;ee365d2bc711bc6838929328cc4ff4b890fbc6c3;3fe9ace0255a98a01a321c2b4c6ab86f6c1db8e5;5dcd9bc8a74634130a855a68c1bf956ce7160f98;dfc631bbb8f3be228d228210719dafe9e4a19b00;cb31ab559db08156dd98c227926319000538915b;8869edacdfa3ad38b2f434066fbe2853cfcf9234;d6b59777ec875a63efbfc0704b2e67d652730595;a10d0ed54b1cc090782f9d8641de3bbdb7a8023b;f35d8030bc2a0748db692851ba4a7607dd8fa2ac;ba29499a4ce25a499a8fbd5b7ff1bc8581607dff;0150eb8e1c7838672af3533313439b710e10e4b3;4ecfd2f743c74d169630256b9ceac4a9c4573e84;486a5732db2dfa5a7e3d4b6ff912a8d3e96a1d2c;5ab6d4805e1c19c4f45bd39243a00127acbfaac9;41edb107ecc77eb2e1974173faa11d1616992494;7b9ca6e5db736cc02f9022d24b22e0a9aeffa2a6;801134590a25d0b36dc8c630e9178d150ae801f0;__AutoML_Ensemble__;__AutoML_Stack_Ensemble__\", \"score_000\": \"0.9987787177700516;0.9985844805699463;0.9642603256523509;0.9783952279408856;0.971683486477084;0.9946857986998717;0.9793216183756037;0.9903016405662504;0.9951940756307899;0.9460739605285357;0.974824830345356;0.9851943831765088;0.9950593846673023;0.9767038494846418;0.9957926644134717;0.9862407546483416;0.9886005147395781;0.9468114759781288;0.9943466744333511;0.9830469364651035;0.9458605561500338;0.9944942408339038;0.9978869169956212;0.9831482301723553;0.988208224738333;0.9792744395794667;0.9843616987981566;0.9780546309676867;0.9796090300958147;0.9954377485756941;0.9866665828119888;0.9979403484771118;0.9973445097047877;0.9962586294887296;0.9907237389867892;NaN;0.9957876738686565;NaN;0.9988322136613911;0.9976196217616503\", \"predicted_cost_000\": \"0;0;0.5;0.5;0.5;0.5;0.5;0.5;0.5;0.5;0.5;0.5;0.5;0.5;0.5;0.5;0.5;0.5;0.5;0.5;0.04982247924135941;0.10626567054545905;0.2367874404165069;0.3179567962629794;0.08374286643515245;0.11611172271927875;0.09842496032933411;0.2935130708840302;0.06042013529569601;0.1513676512622928;0.134400466068355;0.5699787014249159;0.3404762819069342;0.10539625478010671;0.12325618560583279;0.1269214017248102;0.22545606288258135;0.23618291306397612;0;0\", \"fit_time_000\": \"0.31743566666666667;0.3457793333333334;0.03217066666666667;0.04778866666666667;0.03663333333333333;0.05415133333333333;0.35971533333333333;0.08510499999999999;0.055571;0.10164233333333333;0.06180666666666667;0.8509933333333333;0.10604400000000001;0.04186433333333334;0.3793796666666666;0.07427966666666667;0.14886033333333334;0.49788266666666664;0.07135366666666666;0.20755166666666666;0.036254666666666664;0.044527000000000004;0.29633100000000007;0.15076933333333334;0.053191999999999996;0.054814;0.13500966666666667;0.13025666666666666;0.07298066666666668;0.7440673333333333;0.5690293333333334;0.6602260000000001;0.2954113333333333;0.10299233333333331;0.232994;NaN;0.22661366666666669;NaN;24;37\", \"training_percent_000\": \"100;100;100;100;100;100;100;100;100;100;100;100;100;100;100;100;100;100;100;100;100;100;100;100;100;100;100;100;100;100;100;100;100;100;100;100;100;100;100;100\", \"iteration_000\": \"0;1;2;3;4;5;6;7;8;9;10;11;12;13;14;15;16;17;18;19;23;21;22;20;25;24;26;27;28;29;30;31;32;33;35;37;34;36;38;39\", \"run_preprocessor_000\": \"MaxAbsScaler;MaxAbsScaler;MaxAbsScaler;MaxAbsScaler;StandardScalerWrapper;SparseNormalizer;SparseNormalizer;StandardScalerWrapper;SparseNormalizer;MaxAbsScaler;SparseNormalizer;MaxAbsScaler;StandardScalerWrapper;StandardScalerWrapper;StandardScalerWrapper;MaxAbsScaler;MaxAbsScaler;StandardScalerWrapper;StandardScalerWrapper;MaxAbsScaler;MaxAbsScaler;StandardScalerWrapper;StandardScalerWrapper;MaxAbsScaler;SparseNormalizer;StandardScalerWrapper;MaxAbsScaler;MaxAbsScaler;MaxAbsScaler;MaxAbsScaler;SparseNormalizer;SparseNormalizer;StandardScalerWrapper;SparseNormalizer;SparseNormalizer;;StandardScalerWrapper;;;\", \"run_algorithm_000\": \"LightGBM;XGBoostClassifier;ExtremeRandomTrees;RandomForest;LightGBM;XGBoostClassifier;RandomForest;XGBoostClassifier;XGBoostClassifier;RandomForest;LightGBM;ExtremeRandomTrees;XGBoostClassifier;ExtremeRandomTrees;RandomForest;LightGBM;LogisticRegression;ExtremeRandomTrees;XGBoostClassifier;ExtremeRandomTrees;RandomForest;XGBoostClassifier;XGBoostClassifier;LogisticRegression;XGBoostClassifier;LightGBM;LightGBM;LinearSVM;LinearSVM;LightGBM;LightGBM;XGBoostClassifier;XGBoostClassifier;XGBoostClassifier;XGBoostClassifier;;LightGBM;;VotingEnsemble;StackEnsemble\", \"dynamic_allowlisting_iterations\": \"<24>;<30>;<34>;\", \"_aml_system_azureml.automl_early_exit_message\": \"No scores improved over last 10 iterations, so experiment stopped early. This early stopping behavior can be disabled by setting enable_early_stopping = False in AutoMLConfig for notebook/python SDK runs.\", \"automl_best_child_run_id\": \"AutoML_51ca83d5-1389-4433-8bbb-4c7c26140e01_38\", \"model_explain_best_run_child_id\": \"AutoML_51ca83d5-1389-4433-8bbb-4c7c26140e01_38\"}, \"end_time_utc\": \"2023-05-31T07:36:45.194129Z\", \"status\": \"Completed\", \"log_files\": {}, \"log_groups\": [], \"run_duration\": \"0:22:21\", \"run_number\": \"1685517263\", \"run_queued_details\": {\"status\": \"Completed\", \"details\": null}}, \"child_runs\": [{\"run_id\": \"AutoML_51ca83d5-1389-4433-8bbb-4c7c26140e01_setup\", \"run_number\": 1685517277, \"metric\": null, \"status\": \"Completed\", \"run_type\": \"azureml.scriptrun\", \"training_percent\": null, \"start_time\": \"2023-05-31T07:20:18.019521Z\", \"end_time\": \"2023-05-31T07:22:28.613032Z\", \"created_time\": \"2023-05-31T07:14:37.052376Z\", \"created_time_dt\": \"2023-05-31T07:14:37.052376Z\", \"duration\": \"0:07:51\", \"iteration\": null, \"goal\": null, \"run_name\": \"Completed\", \"run_properties\": null}, {\"run_id\": \"AutoML_51ca83d5-1389-4433-8bbb-4c7c26140e01_featurize\", \"run_number\": 1685517748, \"metric\": null, \"status\": \"Completed\", \"run_type\": \"automl.featurization\", \"training_percent\": null, \"start_time\": \"2023-05-31T07:22:29.512128Z\", \"end_time\": \"2023-05-31T07:23:59.407314Z\", \"created_time\": \"2023-05-31T07:22:28.990875Z\", \"created_time_dt\": \"2023-05-31T07:22:28.990875Z\", \"duration\": \"0:01:30\", \"iteration\": null, \"goal\": null, \"run_name\": \"Completed\", \"run_properties\": null}, {\"run_id\": \"AutoML_51ca83d5-1389-4433-8bbb-4c7c26140e01_0\", \"run_number\": 1685517840, \"metric\": null, \"status\": \"Completed\", \"run_type\": null, \"training_percent\": \"100\", \"start_time\": \"2023-05-31T07:24:39.519892Z\", \"end_time\": \"2023-05-31T07:24:56.692089Z\", \"created_time\": \"2023-05-31T07:24:00.884512Z\", \"created_time_dt\": \"2023-05-31T07:24:00.884512Z\", \"duration\": \"0:00:55\", \"iteration\": \"0\", \"goal\": \"AUC_weighted_max\", \"run_name\": \"MaxAbsScaler, LightGBM\", \"run_properties\": \"copy=True\", \"primary_metric\": 0.99877872, \"best_metric\": 0.99877872}, {\"run_id\": \"AutoML_51ca83d5-1389-4433-8bbb-4c7c26140e01_1\", \"run_number\": 1685517841, \"metric\": null, \"status\": \"Completed\", \"run_type\": null, \"training_percent\": \"100\", \"start_time\": \"2023-05-31T07:24:57.250809Z\", \"end_time\": \"2023-05-31T07:25:11.522059Z\", \"created_time\": \"2023-05-31T07:24:01.406562Z\", \"created_time_dt\": \"2023-05-31T07:24:01.406562Z\", \"duration\": \"0:01:10\", \"iteration\": \"1\", \"goal\": \"AUC_weighted_max\", \"run_name\": \"MaxAbsScaler, XGBoostClassifier\", \"run_properties\": \"copy=True\", \"primary_metric\": 0.99858448, \"best_metric\": 0.99877872}, {\"run_id\": \"AutoML_51ca83d5-1389-4433-8bbb-4c7c26140e01_worker_0\", \"run_number\": 1685517842, \"metric\": null, \"status\": \"Completed\", \"run_type\": \"azureml.scriptrun\", \"training_percent\": null, \"start_time\": \"2023-05-31T07:24:27.443168Z\", \"end_time\": \"2023-05-31T07:25:47.941529Z\", \"created_time\": \"2023-05-31T07:24:02.629852Z\", \"created_time_dt\": \"2023-05-31T07:24:02.629852Z\", \"duration\": \"0:01:45\", \"iteration\": null, \"goal\": null, \"run_name\": \"Completed\", \"run_properties\": null}, {\"run_id\": \"AutoML_51ca83d5-1389-4433-8bbb-4c7c26140e01_5\", \"run_number\": 1685517843, \"metric\": null, \"status\": \"Completed\", \"run_type\": null, \"training_percent\": \"100\", \"start_time\": \"2023-05-31T07:26:19.59559Z\", \"end_time\": \"2023-05-31T07:26:32.167543Z\", \"created_time\": \"2023-05-31T07:24:03.497222Z\", \"created_time_dt\": \"2023-05-31T07:24:03.497222Z\", \"duration\": \"0:02:28\", \"iteration\": \"5\", \"goal\": \"AUC_weighted_max\", \"run_name\": \"SparseNormalizer, XGBoostClassifier\", \"run_properties\": \"copy=True, norm='max'\", \"primary_metric\": 0.9946858, \"best_metric\": 0.99877872}, {\"run_id\": \"AutoML_51ca83d5-1389-4433-8bbb-4c7c26140e01_worker_1\", \"run_number\": 1685517844, \"metric\": null, \"status\": \"Completed\", \"run_type\": \"azureml.scriptrun\", \"training_percent\": null, \"start_time\": \"2023-05-31T07:25:51.921644Z\", \"end_time\": \"2023-05-31T07:27:09.426021Z\", \"created_time\": \"2023-05-31T07:24:04.714627Z\", \"created_time_dt\": \"2023-05-31T07:24:04.714627Z\", \"duration\": \"0:03:04\", \"iteration\": null, \"goal\": null, \"run_name\": \"Completed\", \"run_properties\": null}, {\"run_id\": \"AutoML_51ca83d5-1389-4433-8bbb-4c7c26140e01_9\", \"run_number\": 1685517845, \"metric\": null, \"status\": \"Completed\", \"run_type\": null, \"training_percent\": \"100\", \"start_time\": \"2023-05-31T07:27:42.094301Z\", \"end_time\": \"2023-05-31T07:27:54.958741Z\", \"created_time\": \"2023-05-31T07:24:05.42244Z\", \"created_time_dt\": \"2023-05-31T07:24:05.42244Z\", \"duration\": \"0:03:49\", \"iteration\": \"9\", \"goal\": \"AUC_weighted_max\", \"run_name\": \"MaxAbsScaler, RandomForest\", \"run_properties\": \"copy=True\", \"primary_metric\": 0.94607396, \"best_metric\": 0.99877872}, {\"run_id\": \"AutoML_51ca83d5-1389-4433-8bbb-4c7c26140e01_worker_2\", \"run_number\": 1685517846, \"metric\": null, \"status\": \"Completed\", \"run_type\": \"azureml.scriptrun\", \"training_percent\": null, \"start_time\": \"2023-05-31T07:27:13.843344Z\", \"end_time\": \"2023-05-31T07:28:34.500146Z\", \"created_time\": \"2023-05-31T07:24:06.639389Z\", \"created_time_dt\": \"2023-05-31T07:24:06.639389Z\", \"duration\": \"0:04:27\", \"iteration\": null, \"goal\": null, \"run_name\": \"Completed\", \"run_properties\": null}, {\"run_id\": \"AutoML_51ca83d5-1389-4433-8bbb-4c7c26140e01_13\", \"run_number\": 1685517847, \"metric\": null, \"status\": \"Completed\", \"run_type\": null, \"training_percent\": \"100\", \"start_time\": \"2023-05-31T07:29:07.177707Z\", \"end_time\": \"2023-05-31T07:29:20.037269Z\", \"created_time\": \"2023-05-31T07:24:07.387271Z\", \"created_time_dt\": \"2023-05-31T07:24:07.387271Z\", \"duration\": \"0:05:12\", \"iteration\": \"13\", \"goal\": \"AUC_weighted_max\", \"run_name\": \"StandardScalerWrapper, ExtremeRandomTrees\", \"run_properties\": \"copy=True, with_mean=False, with_std=False\", \"primary_metric\": 0.97670385, \"best_metric\": 0.99877872}, {\"run_id\": \"AutoML_51ca83d5-1389-4433-8bbb-4c7c26140e01_worker_3\", \"run_number\": 1685517848, \"metric\": null, \"status\": \"Completed\", \"run_type\": \"azureml.scriptrun\", \"training_percent\": null, \"start_time\": \"2023-05-31T07:28:38.448507Z\", \"end_time\": \"2023-05-31T07:29:58.432758Z\", \"created_time\": \"2023-05-31T07:24:08.770214Z\", \"created_time_dt\": \"2023-05-31T07:24:08.770214Z\", \"duration\": \"0:05:49\", \"iteration\": null, \"goal\": null, \"run_name\": \"Completed\", \"run_properties\": null}, {\"run_id\": \"AutoML_51ca83d5-1389-4433-8bbb-4c7c26140e01_16\", \"run_number\": 1685517849, \"metric\": null, \"status\": \"Completed\", \"run_type\": null, \"training_percent\": \"100\", \"start_time\": \"2023-05-31T07:30:15.774673Z\", \"end_time\": \"2023-05-31T07:30:33.213161Z\", \"created_time\": \"2023-05-31T07:24:09.110218Z\", \"created_time_dt\": \"2023-05-31T07:24:09.110218Z\", \"duration\": \"0:06:24\", \"iteration\": \"16\", \"goal\": \"AUC_weighted_max\", \"run_name\": \"MaxAbsScaler, LogisticRegression\", \"run_properties\": \"copy=True\", \"primary_metric\": 0.98860051, \"best_metric\": 0.99877872}, {\"run_id\": \"AutoML_51ca83d5-1389-4433-8bbb-4c7c26140e01_worker_4\", \"run_number\": 1685517850, \"metric\": null, \"status\": \"Completed\", \"run_type\": \"azureml.scriptrun\", \"training_percent\": null, \"start_time\": \"2023-05-31T07:30:03.239961Z\", \"end_time\": \"2023-05-31T07:31:25.787361Z\", \"created_time\": \"2023-05-31T07:24:10.84664Z\", \"created_time_dt\": \"2023-05-31T07:24:10.84664Z\", \"duration\": \"0:07:14\", \"iteration\": null, \"goal\": null, \"run_name\": \"Completed\", \"run_properties\": null}, {\"run_id\": \"AutoML_51ca83d5-1389-4433-8bbb-4c7c26140e01_21\", \"run_number\": 1685518192, \"metric\": null, \"status\": \"Completed\", \"run_type\": \"azureml.scriptrun\", \"training_percent\": \"100\", \"start_time\": \"2023-05-31T07:30:32.473787Z\", \"end_time\": \"2023-05-31T07:32:25.599877Z\", \"created_time\": \"2023-05-31T07:29:52.663712Z\", \"created_time_dt\": \"2023-05-31T07:29:52.663712Z\", \"duration\": \"0:02:32\", \"iteration\": \"21\", \"goal\": \"AUC_weighted_max\", \"run_name\": \"StandardScalerWrapper, XGBoostClassifier\", \"run_properties\": \"copy=True, with_mean=False, with_std=False\", \"primary_metric\": 0.99449424, \"best_metric\": 0.99877872}, {\"run_id\": \"AutoML_51ca83d5-1389-4433-8bbb-4c7c26140e01_23\", \"run_number\": 1685518265, \"metric\": null, \"status\": \"Completed\", \"run_type\": \"azureml.scriptrun\", \"training_percent\": \"100\", \"start_time\": \"2023-05-31T07:31:28.913805Z\", \"end_time\": \"2023-05-31T07:32:02.549613Z\", \"created_time\": \"2023-05-31T07:31:05.368112Z\", \"created_time_dt\": \"2023-05-31T07:31:05.368112Z\", \"duration\": \"0:00:57\", \"iteration\": \"23\", \"goal\": \"AUC_weighted_max\", \"run_name\": \"MaxAbsScaler, RandomForest\", \"run_properties\": \"copy=True\", \"primary_metric\": 0.94586056, \"best_metric\": 0.99877872}, {\"run_id\": \"AutoML_51ca83d5-1389-4433-8bbb-4c7c26140e01_24\", \"run_number\": 1685518327, \"metric\": null, \"status\": \"Completed\", \"run_type\": \"azureml.scriptrun\", \"training_percent\": \"100\", \"start_time\": \"2023-05-31T07:32:31.325499Z\", \"end_time\": \"2023-05-31T07:33:04.974513Z\", \"created_time\": \"2023-05-31T07:32:07.942849Z\", \"created_time_dt\": \"2023-05-31T07:32:07.942849Z\", \"duration\": \"0:00:57\", \"iteration\": \"24\", \"goal\": \"AUC_weighted_max\", \"run_name\": \"StandardScalerWrapper, LightGBM\", \"run_properties\": \"copy=True, with_mean=False, with_std=True\", \"primary_metric\": 0.97927444, \"best_metric\": 0.99877872}, {\"run_id\": \"AutoML_51ca83d5-1389-4433-8bbb-4c7c26140e01_26\", \"run_number\": 1685518347, \"metric\": null, \"status\": \"Completed\", \"run_type\": \"azureml.scriptrun\", \"training_percent\": \"100\", \"start_time\": \"2023-05-31T07:32:51.345653Z\", \"end_time\": \"2023-05-31T07:33:25.736041Z\", \"created_time\": \"2023-05-31T07:32:27.532495Z\", \"created_time_dt\": \"2023-05-31T07:32:27.532495Z\", \"duration\": \"0:00:58\", \"iteration\": \"26\", \"goal\": \"AUC_weighted_max\", \"run_name\": \"MaxAbsScaler, LightGBM\", \"run_properties\": \"copy=True\", \"primary_metric\": 0.9843617, \"best_metric\": 0.99877872}, {\"run_id\": \"AutoML_51ca83d5-1389-4433-8bbb-4c7c26140e01_27\", \"run_number\": 1685518356, \"metric\": null, \"status\": \"Completed\", \"run_type\": \"azureml.scriptrun\", \"training_percent\": \"100\", \"start_time\": \"2023-05-31T07:32:57.338973Z\", \"end_time\": \"2023-05-31T07:33:30.270376Z\", \"created_time\": \"2023-05-31T07:32:36.380359Z\", \"created_time_dt\": \"2023-05-31T07:32:36.380359Z\", \"duration\": \"0:00:53\", \"iteration\": \"27\", \"goal\": \"AUC_weighted_max\", \"run_name\": \"MaxAbsScaler, LinearSVM\", \"run_properties\": \"copy=True\", \"primary_metric\": 0.97805463, \"best_metric\": 0.99877872}, {\"run_id\": \"AutoML_51ca83d5-1389-4433-8bbb-4c7c26140e01_28\", \"run_number\": 1685518366, \"metric\": null, \"status\": \"Completed\", \"run_type\": \"azureml.scriptrun\", \"training_percent\": \"100\", \"start_time\": \"2023-05-31T07:33:10.45982Z\", \"end_time\": \"2023-05-31T07:33:41.414203Z\", \"created_time\": \"2023-05-31T07:32:46.017321Z\", \"created_time_dt\": \"2023-05-31T07:32:46.017321Z\", \"duration\": \"0:00:55\", \"iteration\": \"28\", \"goal\": \"AUC_weighted_max\", \"run_name\": \"MaxAbsScaler, LinearSVM\", \"run_properties\": \"copy=True\", \"primary_metric\": 0.97960903, \"best_metric\": 0.99877872}, {\"run_id\": \"AutoML_51ca83d5-1389-4433-8bbb-4c7c26140e01_29\", \"run_number\": 1685518386, \"metric\": null, \"status\": \"Completed\", \"run_type\": \"azureml.scriptrun\", \"training_percent\": \"100\", \"start_time\": \"2023-05-31T07:33:29.351394Z\", \"end_time\": \"2023-05-31T07:34:06.277433Z\", \"created_time\": \"2023-05-31T07:33:06.826602Z\", \"created_time_dt\": \"2023-05-31T07:33:06.826602Z\", \"duration\": \"0:00:59\", \"iteration\": \"29\", \"goal\": \"AUC_weighted_max\", \"run_name\": \"MaxAbsScaler, LightGBM\", \"run_properties\": \"copy=True\", \"primary_metric\": 0.99543775, \"best_metric\": 0.99877872}, {\"run_id\": \"AutoML_51ca83d5-1389-4433-8bbb-4c7c26140e01_30\", \"run_number\": 1685518390, \"metric\": null, \"status\": \"Completed\", \"run_type\": \"azureml.scriptrun\", \"training_percent\": \"100\", \"start_time\": \"2023-05-31T07:33:31.795184Z\", \"end_time\": \"2023-05-31T07:34:06.605838Z\", \"created_time\": \"2023-05-31T07:33:10.436155Z\", \"created_time_dt\": \"2023-05-31T07:33:10.436155Z\", \"duration\": \"0:00:56\", \"iteration\": \"30\", \"goal\": \"AUC_weighted_max\", \"run_name\": \"SparseNormalizer, LightGBM\", \"run_properties\": \"copy=True, norm='l1'\", \"primary_metric\": 0.98666658, \"best_metric\": 0.99877872}, {\"run_id\": \"AutoML_51ca83d5-1389-4433-8bbb-4c7c26140e01_31\", \"run_number\": 1685518407, \"metric\": null, \"status\": \"Completed\", \"run_type\": \"azureml.scriptrun\", \"training_percent\": \"100\", \"start_time\": \"2023-05-31T07:33:48.70933Z\", \"end_time\": \"2023-05-31T07:34:24.064718Z\", \"created_time\": \"2023-05-31T07:33:27.7422Z\", \"created_time_dt\": \"2023-05-31T07:33:27.7422Z\", \"duration\": \"0:00:56\", \"iteration\": \"31\", \"goal\": \"AUC_weighted_max\", \"run_name\": \"SparseNormalizer, XGBoostClassifier\", \"run_properties\": \"copy=True, norm='l2'\", \"primary_metric\": 0.99794035, \"best_metric\": 0.99877872}, {\"run_id\": \"AutoML_51ca83d5-1389-4433-8bbb-4c7c26140e01_32\", \"run_number\": 1685518412, \"metric\": null, \"status\": \"Completed\", \"run_type\": \"azureml.scriptrun\", \"training_percent\": \"100\", \"start_time\": \"2023-05-31T07:33:54.478974Z\", \"end_time\": \"2023-05-31T07:34:26.366338Z\", \"created_time\": \"2023-05-31T07:33:32.290906Z\", \"created_time_dt\": \"2023-05-31T07:33:32.290906Z\", \"duration\": \"0:00:54\", \"iteration\": \"32\", \"goal\": \"AUC_weighted_max\", \"run_name\": \"StandardScalerWrapper, XGBoostClassifier\", \"run_properties\": \"copy=True, with_mean=False, with_std=False\", \"primary_metric\": 0.99734451, \"best_metric\": 0.99877872}, {\"run_id\": \"AutoML_51ca83d5-1389-4433-8bbb-4c7c26140e01_33\", \"run_number\": 1685518423, \"metric\": null, \"status\": \"Completed\", \"run_type\": \"azureml.scriptrun\", \"training_percent\": \"100\", \"start_time\": \"2023-05-31T07:34:12.934711Z\", \"end_time\": \"2023-05-31T07:34:46.025694Z\", \"created_time\": \"2023-05-31T07:33:43.653472Z\", \"created_time_dt\": \"2023-05-31T07:33:43.653472Z\", \"duration\": \"0:01:02\", \"iteration\": \"33\", \"goal\": \"AUC_weighted_max\", \"run_name\": \"SparseNormalizer, XGBoostClassifier\", \"run_properties\": \"copy=True, norm='max'\", \"primary_metric\": 0.99625863, \"best_metric\": 0.99877872}, {\"run_id\": \"AutoML_51ca83d5-1389-4433-8bbb-4c7c26140e01_34\", \"run_number\": 1685518449, \"metric\": null, \"status\": \"Canceled\", \"run_type\": \"azureml.scriptrun\", \"training_percent\": \"100\", \"start_time\": \"2023-05-31T07:34:30.704173Z\", \"end_time\": \"2023-05-31T07:34:57.423975Z\", \"created_time\": \"2023-05-31T07:34:09.249107Z\", \"created_time_dt\": \"2023-05-31T07:34:09.249107Z\", \"duration\": \"0:00:48\", \"iteration\": \"34\", \"goal\": \"AUC_weighted_max\", \"run_name\": \"StandardScalerWrapper, LightGBM\", \"run_properties\": \"copy=True, with_mean=False, with_std=True\", \"primary_metric\": 0.99578767, \"best_metric\": 0.99877872}, {\"run_id\": \"AutoML_51ca83d5-1389-4433-8bbb-4c7c26140e01_36\", \"run_number\": 1685518465, \"metric\": null, \"status\": \"Canceled\", \"run_type\": \"azureml.scriptrun\", \"training_percent\": \"100\", \"start_time\": \"2023-05-31T07:34:47.419208Z\", \"end_time\": \"2023-05-31T07:34:57.623448Z\", \"created_time\": \"2023-05-31T07:34:25.94991Z\", \"created_time_dt\": \"2023-05-31T07:34:25.94991Z\", \"duration\": \"0:00:31\", \"iteration\": \"36\", \"goal\": null, \"run_name\": \"Canceled\", \"run_properties\": null}, {\"run_id\": \"AutoML_51ca83d5-1389-4433-8bbb-4c7c26140e01_37\", \"run_number\": 1685518468, \"metric\": null, \"status\": \"Canceled\", \"run_type\": \"azureml.scriptrun\", \"training_percent\": \"100\", \"start_time\": \"2023-05-31T07:34:47.381481Z\", \"end_time\": \"2023-05-31T07:34:57.245283Z\", \"created_time\": \"2023-05-31T07:34:28.593048Z\", \"created_time_dt\": \"2023-05-31T07:34:28.593048Z\", \"duration\": \"0:00:28\", \"iteration\": \"37\", \"goal\": null, \"run_name\": \"Canceled\", \"run_properties\": null}, {\"run_id\": \"AutoML_51ca83d5-1389-4433-8bbb-4c7c26140e01_38\", \"run_number\": 1685518498, \"metric\": null, \"status\": \"Completed\", \"run_type\": \"azureml.scriptrun\", \"training_percent\": \"100\", \"start_time\": \"2023-05-31T07:35:23.997428Z\", \"end_time\": \"2023-05-31T07:36:29.758Z\", \"created_time\": \"2023-05-31T07:34:58.304304Z\", \"created_time_dt\": \"2023-05-31T07:34:58.304304Z\", \"duration\": \"0:01:31\", \"iteration\": \"38\", \"goal\": \"AUC_weighted_max\", \"run_name\": \"VotingEnsemble\", \"run_properties\": \"classification_labels=numpy.array([0, 1, 2, 3]\", \"primary_metric\": 0.99883221, \"best_metric\": 0.99883221}], \"children_metrics\": {\"categories\": [0], \"series\": {\"f1_score_weighted\": [{\"categories\": [\"0\", \"1\", \"5\", \"9\", \"13\", \"16\", \"21\", \"23\", \"24\", \"26\", \"27\", \"28\", \"29\", \"30\", \"31\", \"32\", \"33\", \"34\", \"38\"], \"mode\": \"markers\", \"name\": \"f1_score_weighted\", \"stepped\": false, \"type\": \"scatter\", \"data\": [0.9824728186538567, 0.9736915743863946, 0.947222864169695, 0.7644443361976698, 0.6389535000070466, 0.9413945446508643, 0.949084685443938, 0.8012852368138951, 0.8550342047008059, 0.882479612280055, 0.8597169676902797, 0.8571886229162295, 0.9470872559461442, 0.9117505423135256, 0.9653546712215628, 0.9606626119455354, 0.9484264030299494, 0.9483352394692911, 0.9817880661569424]}, {\"categories\": [\"0\", \"1\", \"5\", \"9\", \"13\", \"16\", \"21\", \"23\", \"24\", \"26\", \"27\", \"28\", \"29\", \"30\", \"31\", \"32\", \"33\", \"34\", \"38\"], \"mode\": \"lines\", \"name\": \"f1_score_weighted_max\", \"stepped\": true, \"type\": \"scatter\", \"data\": [0.9824728186538567, 0.9824728186538567, 0.9824728186538567, 0.9824728186538567, 0.9824728186538567, 0.9824728186538567, 0.9824728186538567, 0.9824728186538567, 0.9824728186538567, 0.9824728186538567, 0.9824728186538567, 0.9824728186538567, 0.9824728186538567, 0.9824728186538567, 0.9824728186538567, 0.9824728186538567, 0.9824728186538567, 0.9824728186538567, 0.9824728186538567]}], \"f1_score_micro\": [{\"categories\": [\"0\", \"1\", \"5\", \"9\", \"13\", \"16\", \"21\", \"23\", \"24\", \"26\", \"27\", \"28\", \"29\", \"30\", \"31\", \"32\", \"33\", \"34\", \"38\"], \"mode\": \"markers\", \"name\": \"f1_score_micro\", \"stepped\": false, \"type\": \"scatter\", \"data\": [0.9826328502415459, 0.9745229468599034, 0.9484591384863125, 0.7342210144927536, 0.7272634863123995, 0.9397846215780997, 0.950780998389694, 0.7794021739130436, 0.8720289855072464, 0.8998188405797102, 0.8679679951690823, 0.8685487117552335, 0.9484601449275362, 0.9137147745571658, 0.9658363526570047, 0.9617824074074074, 0.9496235909822867, 0.9496225845410629, 0.9820531400966184]}, {\"categories\": [\"0\", \"1\", \"5\", \"9\", \"13\", \"16\", \"21\", \"23\", \"24\", \"26\", \"27\", \"28\", \"29\", \"30\", \"31\", \"32\", \"33\", \"34\", \"38\"], \"mode\": \"lines\", \"name\": \"f1_score_micro_max\", \"stepped\": true, \"type\": \"scatter\", \"data\": [0.9826328502415459, 0.9826328502415459, 0.9826328502415459, 0.9826328502415459, 0.9826328502415459, 0.9826328502415459, 0.9826328502415459, 0.9826328502415459, 0.9826328502415459, 0.9826328502415459, 0.9826328502415459, 0.9826328502415459, 0.9826328502415459, 0.9826328502415459, 0.9826328502415459, 0.9826328502415459, 0.9826328502415459, 0.9826328502415459, 0.9826328502415459]}], \"average_precision_score_micro\": [{\"categories\": [\"0\", \"1\", \"5\", \"9\", \"13\", \"16\", \"21\", \"23\", \"24\", \"26\", \"27\", \"28\", \"29\", \"30\", \"31\", \"32\", \"33\", \"34\", \"38\"], \"mode\": \"markers\", \"name\": \"average_precision_score_micro\", \"stepped\": false, \"type\": \"scatter\", \"data\": [0.9982808475759496, 0.9975371649987941, 0.9894228322254802, 0.8840402564686219, 0.9058405125334676, 0.9852432618241639, 0.9913078192888962, 0.8821597332001105, 0.9618166367500544, 0.9676364797820906, 0.9632649773729377, 0.9648184820761663, 0.9913497456714166, 0.9810844130883752, 0.9960651251831626, 0.9949760258552637, 0.9922646160954964, 0.9917314756222216, 0.9980526538560929]}, {\"categories\": [\"0\", \"1\", \"5\", \"9\", \"13\", \"16\", \"21\", \"23\", \"24\", \"26\", \"27\", \"28\", \"29\", \"30\", \"31\", \"32\", \"33\", \"34\", \"38\"], \"mode\": \"lines\", \"name\": \"average_precision_score_micro_max\", \"stepped\": true, \"type\": \"scatter\", \"data\": [0.9982808475759496, 0.9982808475759496, 0.9982808475759496, 0.9982808475759496, 0.9982808475759496, 0.9982808475759496, 0.9982808475759496, 0.9982808475759496, 0.9982808475759496, 0.9982808475759496, 0.9982808475759496, 0.9982808475759496, 0.9982808475759496, 0.9982808475759496, 0.9982808475759496, 0.9982808475759496, 0.9982808475759496, 0.9982808475759496, 0.9982808475759496]}], \"weighted_accuracy\": [{\"categories\": [\"0\", \"1\", \"5\", \"9\", \"13\", \"16\", \"21\", \"23\", \"24\", \"26\", \"27\", \"28\", \"29\", \"30\", \"31\", \"32\", \"33\", \"34\", \"38\"], \"mode\": \"markers\", \"name\": \"weighted_accuracy\", \"stepped\": false, \"type\": \"scatter\", \"data\": [0.9865024510085333, 0.9866049685490004, 0.9722077045091254, 0.7797203086578736, 0.9137851920965514, 0.9399404376062099, 0.9714361670854426, 0.7816915062032269, 0.9473211241218386, 0.9584023464971859, 0.9415735871443848, 0.9388700761914143, 0.9776683325315068, 0.9458427170601124, 0.9824653699477913, 0.9817692808212565, 0.9742753083620107, 0.9770112911966443, 0.987139240424933]}, {\"categories\": [\"0\", \"1\", \"5\", \"9\", \"13\", \"16\", \"21\", \"23\", \"24\", \"26\", \"27\", \"28\", \"29\", \"30\", \"31\", \"32\", \"33\", \"34\", \"38\"], \"mode\": \"lines\", \"name\": \"weighted_accuracy_max\", \"stepped\": true, \"type\": \"scatter\", \"data\": [0.9865024510085333, 0.9866049685490004, 0.9866049685490004, 0.9866049685490004, 0.9866049685490004, 0.9866049685490004, 0.9866049685490004, 0.9866049685490004, 0.9866049685490004, 0.9866049685490004, 0.9866049685490004, 0.9866049685490004, 0.9866049685490004, 0.9866049685490004, 0.9866049685490004, 0.9866049685490004, 0.9866049685490004, 0.9866049685490004, 0.987139240424933]}], \"recall_score_weighted\": [{\"categories\": [\"0\", \"1\", \"5\", \"9\", \"13\", \"16\", \"21\", \"23\", \"24\", \"26\", \"27\", \"28\", \"29\", \"30\", \"31\", \"32\", \"33\", \"34\", \"38\"], \"mode\": \"markers\", \"name\": \"recall_score_weighted\", \"stepped\": false, \"type\": \"scatter\", \"data\": [0.9826328502415459, 0.9745229468599034, 0.9484591384863125, 0.7342210144927536, 0.7272634863123993, 0.9397846215780997, 0.950780998389694, 0.7794021739130436, 0.8720289855072464, 0.8998188405797102, 0.8679679951690821, 0.8685487117552335, 0.9484601449275362, 0.9137147745571658, 0.9658363526570047, 0.9617824074074074, 0.9496235909822867, 0.9496225845410629, 0.9820531400966184]}, {\"categories\": [\"0\", \"1\", \"5\", \"9\", \"13\", \"16\", \"21\", \"23\", \"24\", \"26\", \"27\", \"28\", \"29\", \"30\", \"31\", \"32\", \"33\", \"34\", \"38\"], \"mode\": \"lines\", \"name\": \"recall_score_weighted_max\", \"stepped\": true, \"type\": \"scatter\", \"data\": [0.9826328502415459, 0.9826328502415459, 0.9826328502415459, 0.9826328502415459, 0.9826328502415459, 0.9826328502415459, 0.9826328502415459, 0.9826328502415459, 0.9826328502415459, 0.9826328502415459, 0.9826328502415459, 0.9826328502415459, 0.9826328502415459, 0.9826328502415459, 0.9826328502415459, 0.9826328502415459, 0.9826328502415459, 0.9826328502415459, 0.9826328502415459]}], \"AUC_weighted\": [{\"categories\": [\"0\", \"1\", \"5\", \"9\", \"13\", \"16\", \"21\", \"23\", \"24\", \"26\", \"27\", \"28\", \"29\", \"30\", \"31\", \"32\", \"33\", \"34\", \"38\"], \"mode\": \"markers\", \"name\": \"AUC_weighted\", \"stepped\": false, \"type\": \"scatter\", \"data\": [0.9987787177700516, 0.9985844805699463, 0.9946857986998717, 0.9460739605285357, 0.9767038494846418, 0.9886005147395781, 0.9944942408339038, 0.9458605561500338, 0.9792744395794667, 0.9843616987981566, 0.9780546309676867, 0.9796090300958147, 0.9954377485756941, 0.9866665828119888, 0.9979403484771118, 0.9973445097047877, 0.9962586294887296, 0.9957876738686565, 0.9988322136613911]}, {\"categories\": [\"0\", \"1\", \"5\", \"9\", \"13\", \"16\", \"21\", \"23\", \"24\", \"26\", \"27\", \"28\", \"29\", \"30\", \"31\", \"32\", \"33\", \"34\", \"38\"], \"mode\": \"lines\", \"name\": \"AUC_weighted_max\", \"stepped\": true, \"type\": \"scatter\", \"data\": [0.9987787177700516, 0.9987787177700516, 0.9987787177700516, 0.9987787177700516, 0.9987787177700516, 0.9987787177700516, 0.9987787177700516, 0.9987787177700516, 0.9987787177700516, 0.9987787177700516, 0.9987787177700516, 0.9987787177700516, 0.9987787177700516, 0.9987787177700516, 0.9987787177700516, 0.9987787177700516, 0.9987787177700516, 0.9987787177700516, 0.9988322136613911]}], \"log_loss\": [{\"categories\": [\"0\", \"1\", \"5\", \"9\", \"13\", \"16\", \"21\", \"23\", \"24\", \"26\", \"27\", \"28\", \"29\", \"30\", \"31\", \"32\", \"33\", \"34\", \"38\"], \"mode\": \"markers\", \"name\": \"log_loss\", \"stepped\": false, \"type\": \"scatter\", \"data\": [0.05201993946696661, 0.0634328517121533, 0.23632347651496388, 0.7452043769879039, 0.5218272134894404, 0.2046636661600548, 0.30359447096967535, 0.6554509393356835, 0.32036621928299436, 0.3079602470935017, 0.28747966502557304, 0.2793480612399976, 0.16964769938964752, 0.20438967684674714, 0.11777838195334372, 0.1366556392820195, 0.17057774508284487, 0.16536428375285273, 0.06667497366867113]}, {\"categories\": [\"0\", \"1\", \"5\", \"9\", \"13\", \"16\", \"21\", \"23\", \"24\", \"26\", \"27\", \"28\", \"29\", \"30\", \"31\", \"32\", \"33\", \"34\", \"38\"], \"mode\": \"lines\", \"name\": \"log_loss_min\", \"stepped\": true, \"type\": \"scatter\", \"data\": [0.05201993946696661, 0.05201993946696661, 0.05201993946696661, 0.05201993946696661, 0.05201993946696661, 0.05201993946696661, 0.05201993946696661, 0.05201993946696661, 0.05201993946696661, 0.05201993946696661, 0.05201993946696661, 0.05201993946696661, 0.05201993946696661, 0.05201993946696661, 0.05201993946696661, 0.05201993946696661, 0.05201993946696661, 0.05201993946696661, 0.05201993946696661]}], \"average_precision_score_macro\": [{\"categories\": [\"0\", \"1\", \"5\", \"9\", \"13\", \"16\", \"21\", \"23\", \"24\", \"26\", \"27\", \"28\", \"29\", \"30\", \"31\", \"32\", \"33\", \"34\", \"38\"], \"mode\": \"markers\", \"name\": \"average_precision_score_macro\", \"stepped\": false, \"type\": \"scatter\", \"data\": [0.9938735922885464, 0.9780138782836363, 0.904024666381679, 0.6636052787263566, 0.8213019186213714, 0.950984113022456, 0.915146709054623, 0.7482473775347408, 0.8079900172610787, 0.8223826887674095, 0.8203511734887124, 0.8176122322178064, 0.908535133435952, 0.9006503007073077, 0.9588170410118669, 0.9486278229079407, 0.931036985450563, 0.9251106457465464, 0.991486099473437]}, {\"categories\": [\"0\", \"1\", \"5\", \"9\", \"13\", \"16\", \"21\", \"23\", \"24\", \"26\", \"27\", \"28\", \"29\", \"30\", \"31\", \"32\", \"33\", \"34\", \"38\"], \"mode\": \"lines\", \"name\": \"average_precision_score_macro_max\", \"stepped\": true, \"type\": \"scatter\", \"data\": [0.9938735922885464, 0.9938735922885464, 0.9938735922885464, 0.9938735922885464, 0.9938735922885464, 0.9938735922885464, 0.9938735922885464, 0.9938735922885464, 0.9938735922885464, 0.9938735922885464, 0.9938735922885464, 0.9938735922885464, 0.9938735922885464, 0.9938735922885464, 0.9938735922885464, 0.9938735922885464, 0.9938735922885464, 0.9938735922885464, 0.9938735922885464]}], \"norm_macro_recall\": [{\"categories\": [\"0\", \"1\", \"5\", \"9\", \"13\", \"16\", \"21\", \"23\", \"24\", \"26\", \"27\", \"28\", \"29\", \"30\", \"31\", \"32\", \"33\", \"34\", \"38\"], \"mode\": \"markers\", \"name\": \"norm_macro_recall\", \"stepped\": false, \"type\": \"scatter\", \"data\": [0.9499730752545248, 0.8890603715593312, 0.7832555855397754, 0.6417647986940477, 0.04458347329720245, 0.925289204927244, 0.8039798946517559, 0.7853309035159591, 0.38736570078031435, 0.41854751598416623, 0.49480920830750325, 0.4316021545257713, 0.7470436169216604, 0.7145603455452195, 0.8478545314487015, 0.8236137991753193, 0.777812632940858, 0.7587325993083539, 0.9413363948552544]}, {\"categories\": [\"0\", \"1\", \"5\", \"9\", \"13\", \"16\", \"21\", \"23\", \"24\", \"26\", \"27\", \"28\", \"29\", \"30\", \"31\", \"32\", \"33\", \"34\", \"38\"], \"mode\": \"lines\", \"name\": \"norm_macro_recall_max\", \"stepped\": true, \"type\": \"scatter\", \"data\": [0.9499730752545248, 0.9499730752545248, 0.9499730752545248, 0.9499730752545248, 0.9499730752545248, 0.9499730752545248, 0.9499730752545248, 0.9499730752545248, 0.9499730752545248, 0.9499730752545248, 0.9499730752545248, 0.9499730752545248, 0.9499730752545248, 0.9499730752545248, 0.9499730752545248, 0.9499730752545248, 0.9499730752545248, 0.9499730752545248, 0.9499730752545248]}], \"average_precision_score_weighted\": [{\"categories\": [\"0\", \"1\", \"5\", \"9\", \"13\", \"16\", \"21\", \"23\", \"24\", \"26\", \"27\", \"28\", \"29\", \"30\", \"31\", \"32\", \"33\", \"34\", \"38\"], \"mode\": \"markers\", \"name\": \"average_precision_score_weighted\", \"stepped\": false, \"type\": \"scatter\", \"data\": [0.9971952408718546, 0.9938709142358589, 0.9761325894796079, 0.838261720117068, 0.922251595685596, 0.978144705028822, 0.9778368383724283, 0.8548278124304103, 0.9292464953291333, 0.9432958421512626, 0.936916349641451, 0.9398830158982884, 0.9780796005328304, 0.9651468060006204, 0.9896031718693005, 0.9869885049696974, 0.9827429276226057, 0.9801941544427001, 0.9965876414910534]}, {\"categories\": [\"0\", \"1\", \"5\", \"9\", \"13\", \"16\", \"21\", \"23\", \"24\", \"26\", \"27\", \"28\", \"29\", \"30\", \"31\", \"32\", \"33\", \"34\", \"38\"], \"mode\": \"lines\", \"name\": \"average_precision_score_weighted_max\", \"stepped\": true, \"type\": \"scatter\", \"data\": [0.9971952408718546, 0.9971952408718546, 0.9971952408718546, 0.9971952408718546, 0.9971952408718546, 0.9971952408718546, 0.9971952408718546, 0.9971952408718546, 0.9971952408718546, 0.9971952408718546, 0.9971952408718546, 0.9971952408718546, 0.9971952408718546, 0.9971952408718546, 0.9971952408718546, 0.9971952408718546, 0.9971952408718546, 0.9971952408718546, 0.9971952408718546]}], \"precision_score_micro\": [{\"categories\": [\"0\", \"1\", \"5\", \"9\", \"13\", \"16\", \"21\", \"23\", \"24\", \"26\", \"27\", \"28\", \"29\", \"30\", \"31\", \"32\", \"33\", \"34\", \"38\"], \"mode\": \"markers\", \"name\": \"precision_score_micro\", \"stepped\": false, \"type\": \"scatter\", \"data\": [0.9826328502415459, 0.9745229468599034, 0.9484591384863125, 0.7342210144927536, 0.7272634863123993, 0.9397846215780997, 0.950780998389694, 0.7794021739130436, 0.8720289855072464, 0.8998188405797102, 0.8679679951690821, 0.8685487117552335, 0.9484601449275362, 0.9137147745571658, 0.9658363526570047, 0.9617824074074074, 0.9496235909822867, 0.9496225845410629, 0.9820531400966184]}, {\"categories\": [\"0\", \"1\", \"5\", \"9\", \"13\", \"16\", \"21\", \"23\", \"24\", \"26\", \"27\", \"28\", \"29\", \"30\", \"31\", \"32\", \"33\", \"34\", \"38\"], \"mode\": \"lines\", \"name\": \"precision_score_micro_max\", \"stepped\": true, \"type\": \"scatter\", \"data\": [0.9826328502415459, 0.9826328502415459, 0.9826328502415459, 0.9826328502415459, 0.9826328502415459, 0.9826328502415459, 0.9826328502415459, 0.9826328502415459, 0.9826328502415459, 0.9826328502415459, 0.9826328502415459, 0.9826328502415459, 0.9826328502415459, 0.9826328502415459, 0.9826328502415459, 0.9826328502415459, 0.9826328502415459, 0.9826328502415459, 0.9826328502415459]}], \"precision_score_weighted\": [{\"categories\": [\"0\", \"1\", \"5\", \"9\", \"13\", \"16\", \"21\", \"23\", \"24\", \"26\", \"27\", \"28\", \"29\", \"30\", \"31\", \"32\", \"33\", \"34\", \"38\"], \"mode\": \"markers\", \"name\": \"precision_score_weighted\", \"stepped\": false, \"type\": \"scatter\", \"data\": [0.9832159651814981, 0.974495281780274, 0.9490154385154317, 0.8278840896580993, 0.6567972489961377, 0.9468829558744972, 0.9526466616876256, 0.8586697850939937, 0.8525373586983992, 0.893486479642517, 0.8615606129743334, 0.8664582536323188, 0.9478226466534996, 0.9150938454505951, 0.9657963054934166, 0.9611518202798123, 0.9495112551294875, 0.9495350775529672, 0.9825865565863464]}, {\"categories\": [\"0\", \"1\", \"5\", \"9\", \"13\", \"16\", \"21\", \"23\", \"24\", \"26\", \"27\", \"28\", \"29\", \"30\", \"31\", \"32\", \"33\", \"34\", \"38\"], \"mode\": \"lines\", \"name\": \"precision_score_weighted_max\", \"stepped\": true, \"type\": \"scatter\", \"data\": [0.9832159651814981, 0.9832159651814981, 0.9832159651814981, 0.9832159651814981, 0.9832159651814981, 0.9832159651814981, 0.9832159651814981, 0.9832159651814981, 0.9832159651814981, 0.9832159651814981, 0.9832159651814981, 0.9832159651814981, 0.9832159651814981, 0.9832159651814981, 0.9832159651814981, 0.9832159651814981, 0.9832159651814981, 0.9832159651814981, 0.9832159651814981]}], \"matthews_correlation\": [{\"categories\": [\"0\", \"1\", \"5\", \"9\", \"13\", \"16\", \"21\", \"23\", \"24\", \"26\", \"27\", \"28\", \"29\", \"30\", \"31\", \"32\", \"33\", \"34\", \"38\"], \"mode\": \"markers\", \"name\": \"matthews_correlation\", \"stepped\": false, \"type\": \"scatter\", \"data\": [0.9624785282073072, 0.9452927806062396, 0.889339821071566, 0.5308888830208548, 0.24775665170365083, 0.876558186600349, 0.8955912469564852, 0.6186748567960234, 0.7150084478874882, 0.7860898955541314, 0.7001884537041954, 0.7105726037910477, 0.888729698383328, 0.8143407475428065, 0.926317658816247, 0.9174770285708537, 0.8915085533753963, 0.8907611606806766, 0.9612778799373269]}, {\"categories\": [\"0\", \"1\", \"5\", \"9\", \"13\", \"16\", \"21\", \"23\", \"24\", \"26\", \"27\", \"28\", \"29\", \"30\", \"31\", \"32\", \"33\", \"34\", \"38\"], \"mode\": \"lines\", \"name\": \"matthews_correlation_max\", \"stepped\": true, \"type\": \"scatter\", \"data\": [0.9624785282073072, 0.9624785282073072, 0.9624785282073072, 0.9624785282073072, 0.9624785282073072, 0.9624785282073072, 0.9624785282073072, 0.9624785282073072, 0.9624785282073072, 0.9624785282073072, 0.9624785282073072, 0.9624785282073072, 0.9624785282073072, 0.9624785282073072, 0.9624785282073072, 0.9624785282073072, 0.9624785282073072, 0.9624785282073072, 0.9624785282073072]}], \"precision_score_macro\": [{\"categories\": [\"0\", \"1\", \"5\", \"9\", \"13\", \"16\", \"21\", \"23\", \"24\", \"26\", \"27\", \"28\", \"29\", \"30\", \"31\", \"32\", \"33\", \"34\", \"38\"], \"mode\": \"markers\", \"name\": \"precision_score_macro\", \"stepped\": false, \"type\": \"scatter\", \"data\": [0.9692311328293718, 0.940715463323165, 0.874760999019134, 0.5205536887748312, 0.41072744289130164, 0.8868706373922239, 0.8542507391216968, 0.613160034266106, 0.6480094069849959, 0.7275463479139695, 0.7611326824530077, 0.7254108594866663, 0.8405775679195248, 0.8316313214386947, 0.8977188946103682, 0.8910387833562087, 0.8600094122621816, 0.8606491184287509, 0.9682425796065454]}, {\"categories\": [\"0\", \"1\", \"5\", \"9\", \"13\", \"16\", \"21\", \"23\", \"24\", \"26\", \"27\", \"28\", \"29\", \"30\", \"31\", \"32\", \"33\", \"34\", \"38\"], \"mode\": \"lines\", \"name\": \"precision_score_macro_max\", \"stepped\": true, \"type\": \"scatter\", \"data\": [0.9692311328293718, 0.9692311328293718, 0.9692311328293718, 0.9692311328293718, 0.9692311328293718, 0.9692311328293718, 0.9692311328293718, 0.9692311328293718, 0.9692311328293718, 0.9692311328293718, 0.9692311328293718, 0.9692311328293718, 0.9692311328293718, 0.9692311328293718, 0.9692311328293718, 0.9692311328293718, 0.9692311328293718, 0.9692311328293718, 0.9692311328293718]}], \"accuracy\": [{\"categories\": [\"0\", \"1\", \"5\", \"9\", \"13\", \"16\", \"21\", \"23\", \"24\", \"26\", \"27\", \"28\", \"29\", \"30\", \"31\", \"32\", \"33\", \"34\", \"38\"], \"mode\": \"markers\", \"name\": \"accuracy\", \"stepped\": false, \"type\": \"scatter\", \"data\": [0.9826328502415459, 0.9745229468599034, 0.9484591384863125, 0.7342210144927536, 0.7272634863123993, 0.9397846215780997, 0.950780998389694, 0.7794021739130436, 0.8720289855072464, 0.8998188405797102, 0.8679679951690821, 0.8685487117552335, 0.9484601449275362, 0.9137147745571658, 0.9658363526570047, 0.9617824074074074, 0.9496235909822867, 0.9496225845410629, 0.9820531400966184]}, {\"categories\": [\"0\", \"1\", \"5\", \"9\", \"13\", \"16\", \"21\", \"23\", \"24\", \"26\", \"27\", \"28\", \"29\", \"30\", \"31\", \"32\", \"33\", \"34\", \"38\"], \"mode\": \"lines\", \"name\": \"accuracy_max\", \"stepped\": true, \"type\": \"scatter\", \"data\": [0.9826328502415459, 0.9826328502415459, 0.9826328502415459, 0.9826328502415459, 0.9826328502415459, 0.9826328502415459, 0.9826328502415459, 0.9826328502415459, 0.9826328502415459, 0.9826328502415459, 0.9826328502415459, 0.9826328502415459, 0.9826328502415459, 0.9826328502415459, 0.9826328502415459, 0.9826328502415459, 0.9826328502415459, 0.9826328502415459, 0.9826328502415459]}], \"recall_score_micro\": [{\"categories\": [\"0\", \"1\", \"5\", \"9\", \"13\", \"16\", \"21\", \"23\", \"24\", \"26\", \"27\", \"28\", \"29\", \"30\", \"31\", \"32\", \"33\", \"34\", \"38\"], \"mode\": \"markers\", \"name\": \"recall_score_micro\", \"stepped\": false, \"type\": \"scatter\", \"data\": [0.9826328502415459, 0.9745229468599034, 0.9484591384863125, 0.7342210144927536, 0.7272634863123993, 0.9397846215780997, 0.950780998389694, 0.7794021739130436, 0.8720289855072464, 0.8998188405797102, 0.8679679951690821, 0.8685487117552335, 0.9484601449275362, 0.9137147745571658, 0.9658363526570047, 0.9617824074074074, 0.9496235909822867, 0.9496225845410629, 0.9820531400966184]}, {\"categories\": [\"0\", \"1\", \"5\", \"9\", \"13\", \"16\", \"21\", \"23\", \"24\", \"26\", \"27\", \"28\", \"29\", \"30\", \"31\", \"32\", \"33\", \"34\", \"38\"], \"mode\": \"lines\", \"name\": \"recall_score_micro_max\", \"stepped\": true, \"type\": \"scatter\", \"data\": [0.9826328502415459, 0.9826328502415459, 0.9826328502415459, 0.9826328502415459, 0.9826328502415459, 0.9826328502415459, 0.9826328502415459, 0.9826328502415459, 0.9826328502415459, 0.9826328502415459, 0.9826328502415459, 0.9826328502415459, 0.9826328502415459, 0.9826328502415459, 0.9826328502415459, 0.9826328502415459, 0.9826328502415459, 0.9826328502415459, 0.9826328502415459]}], \"AUC_macro\": [{\"categories\": [\"0\", \"1\", \"5\", \"9\", \"13\", \"16\", \"21\", \"23\", \"24\", \"26\", \"27\", \"28\", \"29\", \"30\", \"31\", \"32\", \"33\", \"34\", \"38\"], \"mode\": \"markers\", \"name\": \"AUC_macro\", \"stepped\": false, \"type\": \"scatter\", \"data\": [0.9990457541187446, 0.9981879026178183, 0.9926367252301844, 0.9364399512654996, 0.973809325068928, 0.9918421738724064, 0.9935251394397994, 0.9425121946606808, 0.9762747722048427, 0.9810993187266422, 0.9777281714151504, 0.9789723113875531, 0.993359992328647, 0.9881079771952793, 0.9970618121572629, 0.9961876979122543, 0.9945484567558313, 0.9939903132621316, 0.9989523312600905]}, {\"categories\": [\"0\", \"1\", \"5\", \"9\", \"13\", \"16\", \"21\", \"23\", \"24\", \"26\", \"27\", \"28\", \"29\", \"30\", \"31\", \"32\", \"33\", \"34\", \"38\"], \"mode\": \"lines\", \"name\": \"AUC_macro_max\", \"stepped\": true, \"type\": \"scatter\", \"data\": [0.9990457541187446, 0.9990457541187446, 0.9990457541187446, 0.9990457541187446, 0.9990457541187446, 0.9990457541187446, 0.9990457541187446, 0.9990457541187446, 0.9990457541187446, 0.9990457541187446, 0.9990457541187446, 0.9990457541187446, 0.9990457541187446, 0.9990457541187446, 0.9990457541187446, 0.9990457541187446, 0.9990457541187446, 0.9990457541187446, 0.9990457541187446]}], \"AUC_micro\": [{\"categories\": [\"0\", \"1\", \"5\", \"9\", \"13\", \"16\", \"21\", \"23\", \"24\", \"26\", \"27\", \"28\", \"29\", \"30\", \"31\", \"32\", \"33\", \"34\", \"38\"], \"mode\": \"markers\", \"name\": \"AUC_micro\", \"stepped\": false, \"type\": \"scatter\", \"data\": [0.9994114807837794, 0.9991558370400272, 0.9961164764314479, 0.9502039922026736, 0.9589916906223177, 0.9948134717637728, 0.9968799211086218, 0.9533155255035203, 0.9853932114070713, 0.9872568291645841, 0.9865324011191756, 0.9871158834576717, 0.9969223899026637, 0.9932515029390595, 0.9986445862781058, 0.998246367226295, 0.9972376312040376, 0.997071291838418, 0.9993424813077043]}, {\"categories\": [\"0\", \"1\", \"5\", \"9\", \"13\", \"16\", \"21\", \"23\", \"24\", \"26\", \"27\", \"28\", \"29\", \"30\", \"31\", \"32\", \"33\", \"34\", \"38\"], \"mode\": \"lines\", \"name\": \"AUC_micro_max\", \"stepped\": true, \"type\": \"scatter\", \"data\": [0.9994114807837794, 0.9994114807837794, 0.9994114807837794, 0.9994114807837794, 0.9994114807837794, 0.9994114807837794, 0.9994114807837794, 0.9994114807837794, 0.9994114807837794, 0.9994114807837794, 0.9994114807837794, 0.9994114807837794, 0.9994114807837794, 0.9994114807837794, 0.9994114807837794, 0.9994114807837794, 0.9994114807837794, 0.9994114807837794, 0.9994114807837794]}], \"f1_score_macro\": [{\"categories\": [\"0\", \"1\", \"5\", \"9\", \"13\", \"16\", \"21\", \"23\", \"24\", \"26\", \"27\", \"28\", \"29\", \"30\", \"31\", \"32\", \"33\", \"34\", \"38\"], \"mode\": \"markers\", \"name\": \"f1_score_macro\", \"stepped\": false, \"type\": \"scatter\", \"data\": [0.964149597555385, 0.9251776219560934, 0.8498645277827169, 0.559323935567223, 0.2681347040422892, 0.9111854373470555, 0.8406060898675998, 0.6733303405035355, 0.5575485754866768, 0.5778162784777565, 0.6630737632473132, 0.594081104965954, 0.8216843661802996, 0.7966336806152552, 0.8902793867221291, 0.8760270241128888, 0.8424683922819782, 0.8344361507992004, 0.9598998893883487]}, {\"categories\": [\"0\", \"1\", \"5\", \"9\", \"13\", \"16\", \"21\", \"23\", \"24\", \"26\", \"27\", \"28\", \"29\", \"30\", \"31\", \"32\", \"33\", \"34\", \"38\"], \"mode\": \"lines\", \"name\": \"f1_score_macro_max\", \"stepped\": true, \"type\": \"scatter\", \"data\": [0.964149597555385, 0.964149597555385, 0.964149597555385, 0.964149597555385, 0.964149597555385, 0.964149597555385, 0.964149597555385, 0.964149597555385, 0.964149597555385, 0.964149597555385, 0.964149597555385, 0.964149597555385, 0.964149597555385, 0.964149597555385, 0.964149597555385, 0.964149597555385, 0.964149597555385, 0.964149597555385, 0.964149597555385]}], \"balanced_accuracy\": [{\"categories\": [\"0\", \"1\", \"5\", \"9\", \"13\", \"16\", \"21\", \"23\", \"24\", \"26\", \"27\", \"28\", \"29\", \"30\", \"31\", \"32\", \"33\", \"34\", \"38\"], \"mode\": \"markers\", \"name\": \"balanced_accuracy\", \"stepped\": false, \"type\": \"scatter\", \"data\": [0.9624798064408936, 0.9167952786694985, 0.8374416891548314, 0.7313235990205357, 0.2834376049729019, 0.9439669036954331, 0.852984920988817, 0.8389981776369694, 0.5405242755852357, 0.5639106369881246, 0.6211069062306274, 0.5737016158943283, 0.8102827126912452, 0.7859202591589146, 0.8858908985865263, 0.8677103493814894, 0.8333594747056434, 0.8190494494812653, 0.9560022961414408]}, {\"categories\": [\"0\", \"1\", \"5\", \"9\", \"13\", \"16\", \"21\", \"23\", \"24\", \"26\", \"27\", \"28\", \"29\", \"30\", \"31\", \"32\", \"33\", \"34\", \"38\"], \"mode\": \"lines\", \"name\": \"balanced_accuracy_max\", \"stepped\": true, \"type\": \"scatter\", \"data\": [0.9624798064408936, 0.9624798064408936, 0.9624798064408936, 0.9624798064408936, 0.9624798064408936, 0.9624798064408936, 0.9624798064408936, 0.9624798064408936, 0.9624798064408936, 0.9624798064408936, 0.9624798064408936, 0.9624798064408936, 0.9624798064408936, 0.9624798064408936, 0.9624798064408936, 0.9624798064408936, 0.9624798064408936, 0.9624798064408936, 0.9624798064408936]}], \"recall_score_macro\": [{\"categories\": [\"0\", \"1\", \"5\", \"9\", \"13\", \"16\", \"21\", \"23\", \"24\", \"26\", \"27\", \"28\", \"29\", \"30\", \"31\", \"32\", \"33\", \"34\", \"38\"], \"mode\": \"markers\", \"name\": \"recall_score_macro\", \"stepped\": false, \"type\": \"scatter\", \"data\": [0.9624798064408936, 0.9167952786694985, 0.8374416891548314, 0.7313235990205357, 0.2834376049729019, 0.9439669036954331, 0.852984920988817, 0.8389981776369694, 0.5405242755852357, 0.5639106369881246, 0.6211069062306274, 0.5737016158943283, 0.8102827126912452, 0.7859202591589146, 0.8858908985865263, 0.8677103493814894, 0.8333594747056434, 0.8190494494812653, 0.9560022961414408]}, {\"categories\": [\"0\", \"1\", \"5\", \"9\", \"13\", \"16\", \"21\", \"23\", \"24\", \"26\", \"27\", \"28\", \"29\", \"30\", \"31\", \"32\", \"33\", \"34\", \"38\"], \"mode\": \"lines\", \"name\": \"recall_score_macro_max\", \"stepped\": true, \"type\": \"scatter\", \"data\": [0.9624798064408936, 0.9624798064408936, 0.9624798064408936, 0.9624798064408936, 0.9624798064408936, 0.9624798064408936, 0.9624798064408936, 0.9624798064408936, 0.9624798064408936, 0.9624798064408936, 0.9624798064408936, 0.9624798064408936, 0.9624798064408936, 0.9624798064408936, 0.9624798064408936, 0.9624798064408936, 0.9624798064408936, 0.9624798064408936, 0.9624798064408936]}]}, \"metricName\": null, \"primaryMetricName\": \"AUC_weighted\", \"showLegend\": false}, \"run_metrics\": [{\"name\": \"experiment_status\", \"run_id\": \"AutoML_51ca83d5-1389-4433-8bbb-4c7c26140e01\", \"categories\": [0, 1, 2, 3, 4, 5, 6, 7, 8, 9, 10, 11, 12, 13, 14], \"series\": [{\"data\": [\"DatasetEvaluation\", \"FeaturesGeneration\", \"DatasetFeaturization\", \"DatasetFeaturizationCompleted\", \"DatasetBalancing\", \"DatasetCrossValidationSplit\", \"ModelSelection\", \"BestRunExplainModel\", \"ModelExplanationDataSetSetup\", \"PickSurrogateModel\", \"EngineeredFeatureExplanations\", \"EngineeredFeatureExplanations\", \"RawFeaturesExplanations\", \"RawFeaturesExplanations\", \"BestRunExplainModel\"]}]}, {\"name\": \"experiment_status_description\", \"run_id\": \"AutoML_51ca83d5-1389-4433-8bbb-4c7c26140e01\", \"categories\": [0, 1, 2, 3, 4, 5, 6, 7, 8, 9, 10, 11, 12, 13, 14], \"series\": [{\"data\": [\"Gathering dataset statistics.\", \"Generating features for the dataset.\", \"Beginning to fit featurizers and featurize the dataset.\", \"Completed fit featurizers and featurizing the dataset.\", \"Performing class balancing sweeping\", \"Generating individually featurized CV splits.\", \"Beginning model selection.\", \"Best run model explanations started\", \"Model explanations data setup completed\", \"Choosing LightGBM as the surrogate model for explanations\", \"Computation of engineered features started\", \"Computation of engineered features completed\", \"Computation of raw features started\", \"Computation of raw features completed\", \"Best run model explanations completed\"]}]}, {\"name\": \"average_precision_score_macro\", \"run_id\": \"AutoML_51ca83d5-1389-4433-8bbb-4c7c26140e01\", \"categories\": [0], \"series\": [{\"data\": [0.991486099473437]}]}, {\"name\": \"weighted_accuracy\", \"run_id\": \"AutoML_51ca83d5-1389-4433-8bbb-4c7c26140e01\", \"categories\": [0], \"series\": [{\"data\": [0.987139240424933]}]}, {\"name\": \"log_loss\", \"run_id\": \"AutoML_51ca83d5-1389-4433-8bbb-4c7c26140e01\", \"categories\": [0], \"series\": [{\"data\": [0.06667497366867113]}]}, {\"name\": \"precision_score_macro\", \"run_id\": \"AutoML_51ca83d5-1389-4433-8bbb-4c7c26140e01\", \"categories\": [0], \"series\": [{\"data\": [0.9682425796065454]}]}, {\"name\": \"matthews_correlation\", \"run_id\": \"AutoML_51ca83d5-1389-4433-8bbb-4c7c26140e01\", \"categories\": [0], \"series\": [{\"data\": [0.9612778799373269]}]}, {\"name\": \"precision_score_weighted\", \"run_id\": \"AutoML_51ca83d5-1389-4433-8bbb-4c7c26140e01\", \"categories\": [0], \"series\": [{\"data\": [0.9825865565863464]}]}, {\"name\": \"f1_score_macro\", \"run_id\": \"AutoML_51ca83d5-1389-4433-8bbb-4c7c26140e01\", \"categories\": [0], \"series\": [{\"data\": [0.9598998893883487]}]}, {\"name\": \"balanced_accuracy\", \"run_id\": \"AutoML_51ca83d5-1389-4433-8bbb-4c7c26140e01\", \"categories\": [0], \"series\": [{\"data\": [0.9560022961414408]}]}, {\"name\": \"AUC_weighted\", \"run_id\": \"AutoML_51ca83d5-1389-4433-8bbb-4c7c26140e01\", \"categories\": [0], \"series\": [{\"data\": [0.9988322136613911]}]}, {\"name\": \"AUC_micro\", \"run_id\": \"AutoML_51ca83d5-1389-4433-8bbb-4c7c26140e01\", \"categories\": [0], \"series\": [{\"data\": [0.9993424813077043]}]}, {\"name\": \"average_precision_score_micro\", \"run_id\": \"AutoML_51ca83d5-1389-4433-8bbb-4c7c26140e01\", \"categories\": [0], \"series\": [{\"data\": [0.9980526538560929]}]}, {\"name\": \"f1_score_micro\", \"run_id\": \"AutoML_51ca83d5-1389-4433-8bbb-4c7c26140e01\", \"categories\": [0], \"series\": [{\"data\": [0.9820531400966184]}]}, {\"name\": \"norm_macro_recall\", \"run_id\": \"AutoML_51ca83d5-1389-4433-8bbb-4c7c26140e01\", \"categories\": [0], \"series\": [{\"data\": [0.9413363948552544]}]}, {\"name\": \"f1_score_weighted\", \"run_id\": \"AutoML_51ca83d5-1389-4433-8bbb-4c7c26140e01\", \"categories\": [0], \"series\": [{\"data\": [0.9817880661569424]}]}, {\"name\": \"recall_score_macro\", \"run_id\": \"AutoML_51ca83d5-1389-4433-8bbb-4c7c26140e01\", \"categories\": [0], \"series\": [{\"data\": [0.9560022961414408]}]}, {\"name\": \"accuracy\", \"run_id\": \"AutoML_51ca83d5-1389-4433-8bbb-4c7c26140e01\", \"categories\": [0], \"series\": [{\"data\": [0.9820531400966184]}]}, {\"name\": \"recall_score_micro\", \"run_id\": \"AutoML_51ca83d5-1389-4433-8bbb-4c7c26140e01\", \"categories\": [0], \"series\": [{\"data\": [0.9820531400966184]}]}, {\"name\": \"average_precision_score_weighted\", \"run_id\": \"AutoML_51ca83d5-1389-4433-8bbb-4c7c26140e01\", \"categories\": [0], \"series\": [{\"data\": [0.9965876414910534]}]}, {\"name\": \"AUC_macro\", \"run_id\": \"AutoML_51ca83d5-1389-4433-8bbb-4c7c26140e01\", \"categories\": [0], \"series\": [{\"data\": [0.9989523312600905]}]}, {\"name\": \"recall_score_weighted\", \"run_id\": \"AutoML_51ca83d5-1389-4433-8bbb-4c7c26140e01\", \"categories\": [0], \"series\": [{\"data\": [0.9820531400966184]}]}, {\"name\": \"precision_score_micro\", \"run_id\": \"AutoML_51ca83d5-1389-4433-8bbb-4c7c26140e01\", \"categories\": [0], \"series\": [{\"data\": [0.9820531400966184]}]}], \"run_logs\": \"\\nRun is completed.\", \"graph\": {}, \"widget_settings\": {\"childWidgetDisplay\": \"popup\", \"send_telemetry\": false, \"log_level\": \"INFO\", \"sdk_version\": \"1.49.0\"}, \"loading\": false}"
          },
          "metadata": {}
        }
      ],
      "execution_count": 9,
      "metadata": {
        "gather": {
          "logged": 1685517301106
        },
        "jupyter": {
          "outputs_hidden": false,
          "source_hidden": false
        },
        "nteract": {
          "transient": {
            "deleting": false
          }
        }
      }
    },
    {
      "cell_type": "markdown",
      "source": [
        "## Best Model\n",
        "\n",
        "TODO: In the cell below, get the best model from the automl experiments and display all the properties of the model.\n",
        "\n"
      ],
      "metadata": {}
    },
    {
      "cell_type": "code",
      "source": [
        "#Wait for the AutoML run to complete\n",
        "remote_run.wait_for_completion(show_output=True)\n",
        "\n",
        "#\"best_run\" contains the model, metrics, and run ID\n",
        "#\"fitted_model\" contains the actual trained model object\n",
        "best_run, fitted_model = remote_run.get_output()\n",
        "\n",
        "#\"best_run_metrics\" contains a dictionary of the metrics associated with the best run.\n",
        "best_run_metrics = best_run.get_metrics()\n",
        "\n",
        "# Display all the properties of the best model\n",
        "print(best_run.get_properties())\n"
      ],
      "outputs": [
        {
          "output_type": "display_data",
          "data": {
            "text/plain": "<IPython.core.display.HTML object>",
            "text/html": "<table style=\"width:100%\"><tr><th>Experiment</th><th>Id</th><th>Type</th><th>Status</th><th>Details Page</th><th>Docs Page</th></tr><tr><td>auto-ml</td><td>AutoML_51ca83d5-1389-4433-8bbb-4c7c26140e01</td><td>automl</td><td>Running</td><td><a href=\"https://ml.azure.com/runs/AutoML_51ca83d5-1389-4433-8bbb-4c7c26140e01?wsid=/subscriptions/aa7cf8e8-d23f-4bce-a7b9-1f0b4e0ac8ee/resourcegroups/aml-quickstarts-234706/workspaces/quick-starts-ws-234706&amp;tid=660b3398-b80e-49d2-bc5b-ac1dc93b5254\" target=\"_blank\" rel=\"noopener\">Link to Azure Machine Learning studio</a></td><td><a href=\"https://docs.microsoft.com/en-us/python/api/overview/azure/ml/intro?view=azure-ml-py\" target=\"_blank\" rel=\"noopener\">Link to Documentation</a></td></tr></table>"
          },
          "metadata": {}
        },
        {
          "output_type": "stream",
          "name": "stdout",
          "text": "\nCurrent status: FeaturesGeneration. Generating features for the dataset.\nCurrent status: DatasetBalancing. Performing class balancing sweeping\nCurrent status: DatasetCrossValidationSplit. Generating individually featurized CV splits.\nCurrent status: ModelSelection. Beginning model selection.\n\n********************************************************************************************\nDATA GUARDRAILS: \n\nTYPE:         Cross validation\nSTATUS:       DONE\nDESCRIPTION:  In order to accurately evaluate the model(s) trained by AutoML, we leverage a dataset that the model is not trained on. Hence, if the user doesn't provide an explicit validation dataset, a part of the training dataset is used to achieve this. For smaller datasets (fewer than 20,000 samples), cross-validation is leveraged, else a single hold-out set is split from the training data to serve as the validation dataset. Hence, for your input data we leverage cross-validation with 10 folds, if the number of training samples are fewer than 1000, and 3 folds in all other cases.\n              Learn more about cross validation: https://aka.ms/AutomatedMLCrossValidation\nDETAILS:      \n+------------------------------+\n|Number of folds               |\n+==============================+\n|3                             |\n+------------------------------+\n\n********************************************************************************************\n\nTYPE:         Class balancing detection\nSTATUS:       ALERTED\nDESCRIPTION:  To decrease model bias, please cancel the current run and fix balancing problem.\n              Learn more about imbalanced data: https://aka.ms/AutomatedMLImbalancedData\nDETAILS:      Imbalanced data can lead to a falsely perceived positive effect of a model's accuracy because the input data has bias towards one class.\n+------------------------------+--------------------------------+--------------------------------------+\n|Size of the smallest class    |Name/Label of the smallest class|Number of samples in the training data|\n+==============================+================================+======================================+\n|65                            |vgood                           |1727                                  |\n+------------------------------+--------------------------------+--------------------------------------+\n\n********************************************************************************************\n\nTYPE:         Missing feature values imputation\nSTATUS:       PASSED\nDESCRIPTION:  No feature missing values were detected in the training data.\n              Learn more about missing value imputation: https://aka.ms/AutomatedMLFeaturization\n\n********************************************************************************************\n\nTYPE:         High cardinality feature detection\nSTATUS:       PASSED\nDESCRIPTION:  Your inputs were analyzed, and no high cardinality features were detected.\n              Learn more about high cardinality feature handling: https://aka.ms/AutomatedMLFeaturization\n\n********************************************************************************************\n\n********************************************************************************************\nITER: The iteration being evaluated.\nPIPELINE: A summary description of the pipeline being evaluated.\nDURATION: Time taken for the current iteration.\nMETRIC: The result of computing score on the fitted pipeline.\nBEST: The best observed score thus far.\n********************************************************************************************\n\n ITER   PIPELINE                                       DURATION            METRIC      BEST\n    0   MaxAbsScaler LightGBM                          0:00:17             0.9988    0.9988\n    1   MaxAbsScaler XGBoostClassifier                 0:00:14             0.9986    0.9988\n    2   MaxAbsScaler ExtremeRandomTrees                0:00:12             0.9643    0.9988\n    3   MaxAbsScaler RandomForest                      0:00:13             0.9784    0.9988\n    4   StandardScalerWrapper LightGBM                 0:00:15             0.9717    0.9988\n    5   SparseNormalizer XGBoostClassifier             0:00:13             0.9947    0.9988\n    6   SparseNormalizer RandomForest                  0:00:14             0.9793    0.9988\n    7   StandardScalerWrapper XGBoostClassifier        0:00:13             0.9903    0.9988\n    8   SparseNormalizer XGBoostClassifier             0:00:16             0.9952    0.9988\n    9   MaxAbsScaler RandomForest                      0:00:13             0.9461    0.9988\n   10   SparseNormalizer LightGBM                      0:00:12             0.9748    0.9988\n   11   MaxAbsScaler ExtremeRandomTrees                0:00:17             0.9852    0.9988\n   12   StandardScalerWrapper XGBoostClassifier        0:00:17             0.9951    0.9988\n   13   StandardScalerWrapper ExtremeRandomTrees       0:00:13             0.9767    0.9988\n   14   StandardScalerWrapper RandomForest             0:00:15             0.9958    0.9988\n   15   MaxAbsScaler LightGBM                          0:00:13             0.9862    0.9988\n   16   MaxAbsScaler LogisticRegression                0:00:17             0.9886    0.9988\n   17   StandardScalerWrapper ExtremeRandomTrees       0:00:15             0.9468    0.9988\n   18   StandardScalerWrapper XGBoostClassifier        0:00:13             0.9943    0.9988\n   19   MaxAbsScaler ExtremeRandomTrees                0:00:14             0.9830    0.9988\n   23   MaxAbsScaler RandomForest                      0:00:34             0.9459    0.9988\n   21   StandardScalerWrapper XGBoostClassifier        0:01:53             0.9945    0.9988\n   20   MaxAbsScaler LogisticRegression                0:02:05             0.9831    0.9988\n   22   StandardScalerWrapper XGBoostClassifier        0:02:00             0.9979    0.9988\n   24   StandardScalerWrapper LightGBM                 0:00:34             0.9793    0.9988\n   25   SparseNormalizer XGBoostClassifier             0:00:33             0.9882    0.9988\n   26   MaxAbsScaler LightGBM                          0:00:34             0.9844    0.9988\n   27   MaxAbsScaler LinearSVM                         0:00:33             0.9781    0.9988\n   28   MaxAbsScaler LinearSVM                         0:00:31             0.9796    0.9988\n   29   MaxAbsScaler LightGBM                          0:00:37             0.9954    0.9988\n   30   SparseNormalizer LightGBM                      0:00:35             0.9867    0.9988\n   31   SparseNormalizer XGBoostClassifier             0:00:35             0.9979    0.9988\n   32   StandardScalerWrapper XGBoostClassifier        0:00:32             0.9973    0.9988\n   33   SparseNormalizer XGBoostClassifier             0:00:33             0.9963    0.9988\n   34   StandardScalerWrapper LightGBM                 0:00:27             0.9958    0.9988\n   35   SparseNormalizer XGBoostClassifier             0:00:26             0.9907    0.9988\n   36                                                  0:00:10                nan    0.9988\n   37                                                  0:00:10                nan    0.9988\n   38    VotingEnsemble                                0:01:06             0.9988    0.9988\n   39    StackEnsemble                                 0:01:19             0.9976    0.9988\n{'runTemplate': 'automl_child', 'pipeline_id': '__AutoML_Ensemble__', 'pipeline_spec': '{\"pipeline_id\":\"__AutoML_Ensemble__\",\"objects\":[{\"module\":\"azureml.train.automl.ensemble\",\"class_name\":\"Ensemble\",\"spec_class\":\"sklearn\",\"param_args\":[],\"param_kwargs\":{\"automl_settings\":\"{\\'task_type\\':\\'classification\\',\\'primary_metric\\':\\'AUC_weighted\\',\\'verbosity\\':20,\\'ensemble_iterations\\':15,\\'is_timeseries\\':False,\\'name\\':\\'auto-ml\\',\\'compute_target\\':\\'auto-ml\\',\\'subscription_id\\':\\'aa7cf8e8-d23f-4bce-a7b9-1f0b4e0ac8ee\\',\\'region\\':\\'westeurope\\',\\'spark_service\\':None}\",\"ensemble_run_id\":\"AutoML_51ca83d5-1389-4433-8bbb-4c7c26140e01_38\",\"experiment_name\":\"auto-ml\",\"workspace_name\":\"quick-starts-ws-234706\",\"subscription_id\":\"aa7cf8e8-d23f-4bce-a7b9-1f0b4e0ac8ee\",\"resource_group_name\":\"aml-quickstarts-234706\"}}]}', 'training_percent': '100', 'predicted_cost': None, 'iteration': '38', '_aml_system_scenario_identification': 'Remote.Child', '_azureml.ComputeTargetType': 'amlctrain', 'ContentSnapshotId': '439e664e-248e-4e7f-838f-2dc56a618cee', 'ProcessInfoFile': 'azureml-logs/process_info.json', 'ProcessStatusFile': 'azureml-logs/process_status.json', 'run_preprocessor': '', 'run_algorithm': 'VotingEnsemble', 'ensembled_iterations': '[0, 1, 31, 22, 32, 14]', 'ensembled_algorithms': \"['LightGBM', 'XGBoostClassifier', 'XGBoostClassifier', 'XGBoostClassifier', 'XGBoostClassifier', 'RandomForest']\", 'ensembled_run_ids': \"['AutoML_51ca83d5-1389-4433-8bbb-4c7c26140e01_0', 'AutoML_51ca83d5-1389-4433-8bbb-4c7c26140e01_1', 'AutoML_51ca83d5-1389-4433-8bbb-4c7c26140e01_31', 'AutoML_51ca83d5-1389-4433-8bbb-4c7c26140e01_22', 'AutoML_51ca83d5-1389-4433-8bbb-4c7c26140e01_32', 'AutoML_51ca83d5-1389-4433-8bbb-4c7c26140e01_14']\", 'ensemble_weights': '[0.6, 0.13333333333333333, 0.06666666666666667, 0.06666666666666667, 0.06666666666666667, 0.06666666666666667]', 'best_individual_pipeline_score': '0.9987787177700516', 'best_individual_iteration': '0', 'model_output_path': 'outputs/model.pkl', 'conda_env_data_location': 'aml://artifact/ExperimentRun/dcid.AutoML_51ca83d5-1389-4433-8bbb-4c7c26140e01_38/outputs/conda_env_v_1_0_0.yml', 'model_data_location': 'aml://artifact/ExperimentRun/dcid.AutoML_51ca83d5-1389-4433-8bbb-4c7c26140e01_38/outputs/model.pkl', 'model_size_on_disk': '8843343', 'scoring_data_location': 'aml://artifact/ExperimentRun/dcid.AutoML_51ca83d5-1389-4433-8bbb-4c7c26140e01_38/outputs/scoring_file_v_1_0_0.py', 'scoring_data_location_v2': 'aml://artifact/ExperimentRun/dcid.AutoML_51ca83d5-1389-4433-8bbb-4c7c26140e01_38/outputs/scoring_file_v_2_0_0.py', 'scoring_data_location_pbi': 'aml://artifact/ExperimentRun/dcid.AutoML_51ca83d5-1389-4433-8bbb-4c7c26140e01_38/outputs/scoring_file_pbi_v_1_0_0.py', 'model_exp_support': 'True', 'pipeline_graph_version': '1.0.0', 'model_name': 'AutoML51ca83d5138', 'score': '0.9988322136613911', 'score_table': 'NaN', 'run_properties': 'classification_labels=numpy.array([0, 1, 2, 3]', 'pipeline_script': '{\"pipeline_id\":\"__AutoML_Ensemble__\",\"objects\":[{\"module\":\"azureml.train.automl.ensemble\",\"class_name\":\"Ensemble\",\"spec_class\":\"sklearn\",\"param_args\":[],\"param_kwargs\":{\"automl_settings\":\"{\\'task_type\\':\\'classification\\',\\'primary_metric\\':\\'AUC_weighted\\',\\'verbosity\\':20,\\'ensemble_iterations\\':15,\\'is_timeseries\\':False,\\'name\\':\\'auto-ml\\',\\'compute_target\\':\\'auto-ml\\',\\'subscription_id\\':\\'aa7cf8e8-d23f-4bce-a7b9-1f0b4e0ac8ee\\',\\'region\\':\\'westeurope\\',\\'spark_service\\':None}\",\"ensemble_run_id\":\"AutoML_51ca83d5-1389-4433-8bbb-4c7c26140e01_38\",\"experiment_name\":\"auto-ml\",\"workspace_name\":\"quick-starts-ws-234706\",\"subscription_id\":\"aa7cf8e8-d23f-4bce-a7b9-1f0b4e0ac8ee\",\"resource_group_name\":\"aml-quickstarts-234706\"}}]}', 'training_type': 'MeanCrossValidation', 'fit_time': '24', 'goal': 'AUC_weighted_max', 'primary_metric': 'AUC_weighted', 'errors': '{}', 'onnx_model_resource': '{}', 'dependencies_versions': '{\"azureml-training-tabular\": \"1.50.0\", \"azureml-train-restclients-hyperdrive\": \"1.50.0\", \"azureml-train-core\": \"1.50.0\", \"azureml-train-automl-runtime\": \"1.50.0\", \"azureml-train-automl-client\": \"1.50.0\", \"azureml-telemetry\": \"1.50.0\", \"azureml-responsibleai\": \"1.50.0\", \"azureml-pipeline-core\": \"1.50.0.post1\", \"azureml-mlflow\": \"1.50.0\", \"azureml-interpret\": \"1.50.0\", \"azureml-inference-server-http\": \"0.8.3\", \"azureml-defaults\": \"1.50.0\", \"azureml-dataset-runtime\": \"1.50.0\", \"azureml-dataprep\": \"4.10.6\", \"azureml-dataprep-rslex\": \"2.17.5\", \"azureml-dataprep-native\": \"38.0.0\", \"azureml-core\": \"1.50.0\", \"azureml-automl-runtime\": \"1.50.0\", \"azureml-automl-core\": \"1.50.0\"}', 'num_cores': '2', 'num_logical_cores': '2', 'peak_memory_usage': '1258452', 'vm_configuration': 'x86_64', 'core_hours': '0.008903299722222223', 'feature_skus': 'automatedml_sdk_guardrails'}\n"
        },
        {
          "output_type": "stream",
          "name": "stderr",
          "text": "WARNING:root:The version of the SDK does not match the version the model was trained on.\nWARNING:root:The consistency in the result may not be guaranteed.\nWARNING:root:Package:azureml-automl-core, training version:1.50.0, current version:1.49.0\nPackage:azureml-automl-runtime, training version:1.50.0, current version:1.49.0\nPackage:azureml-core, training version:1.50.0, current version:1.49.0\nPackage:azureml-dataprep, training version:4.10.6, current version:4.9.1\nPackage:azureml-dataprep-rslex, training version:2.17.5, current version:2.16.1\nPackage:azureml-dataset-runtime, training version:1.50.0, current version:1.49.0\nPackage:azureml-defaults, training version:1.50.0, current version:1.49.0\nPackage:azureml-interpret, training version:1.50.0, current version:1.49.0\nPackage:azureml-mlflow, training version:1.50.0, current version:1.49.0\nPackage:azureml-pipeline-core, training version:1.50.0.post1, current version:1.49.0\nPackage:azureml-responsibleai, training version:1.50.0, current version:1.49.0\nPackage:azureml-telemetry, training version:1.50.0, current version:1.49.0\nPackage:azureml-train-automl-client, training version:1.50.0, current version:1.49.0\nPackage:azureml-train-automl-runtime, training version:1.50.0, current version:1.49.0\nPackage:azureml-train-core, training version:1.50.0, current version:1.49.0\nPackage:azureml-train-restclients-hyperdrive, training version:1.50.0, current version:1.49.0\nPackage:azureml-training-tabular, training version:1.50.0, current version:1.49.0\nWARNING:root:Please ensure the version of your local conda dependencies match the version on which your model was trained in order to properly retrieve your model.\n"
        }
      ],
      "execution_count": 10,
      "metadata": {
        "gather": {
          "logged": 1685518636664
        },
        "jupyter": {
          "outputs_hidden": false,
          "source_hidden": false
        },
        "nteract": {
          "transient": {
            "deleting": false
          }
        }
      }
    },
    {
      "cell_type": "code",
      "source": [
        "#TODO: Save the best model\n",
        "# Save the fitted model as a pickle file\n",
        "import pickle\n",
        "filename = 'best_model.pkl'\n",
        "with open(filename, 'wb') as file:\n",
        "    pickle.dump(fitted_model, file)\n"
      ],
      "outputs": [],
      "execution_count": 12,
      "metadata": {
        "gather": {
          "logged": 1685518766339
        },
        "jupyter": {
          "outputs_hidden": false,
          "source_hidden": false
        },
        "nteract": {
          "transient": {
            "deleting": false
          }
        }
      }
    },
    {
      "cell_type": "code",
      "source": [
        "print(filename)"
      ],
      "outputs": [
        {
          "output_type": "stream",
          "name": "stdout",
          "text": "best_model.pkl\n"
        }
      ],
      "execution_count": 13,
      "metadata": {
        "jupyter": {
          "source_hidden": false,
          "outputs_hidden": false
        },
        "nteract": {
          "transient": {
            "deleting": false
          }
        },
        "gather": {
          "logged": 1685518771454
        }
      }
    },
    {
      "cell_type": "code",
      "source": [
        "import pickle\r\n",
        "with open(filename, 'rb') as file:\r\n",
        "    loaded_model=pickle.load(file)\r\n",
        "print(loaded_model)"
      ],
      "outputs": [
        {
          "output_type": "stream",
          "name": "stdout",
          "text": "Pipeline(memory=None,\n         steps=[('datatransformer',\n                 DataTransformer(enable_dnn=False, enable_feature_sweeping=True, feature_sweeping_config={}, feature_sweeping_timeout=86400, featurization_config=None, force_text_dnn=False, is_cross_validation=True, is_onnx_compatible=False, observer=None, task='classification', working_dir='/mnt/batch/tasks/shared/LS_root/mount...\n                 PreFittedSoftVotingClassifier(classification_labels=array([0, 1, 2, 3]), estimators=[('0', Pipeline(memory=None, steps=[('maxabsscaler', MaxAbsScaler(copy=True)), ('lightgbmclassifier', LightGBMClassifier(min_data_in_leaf=20, n_jobs=1, problem_info=ProblemInfo(gpu_training_param_dict={'processing_unit_type': 'cpu'}), random_state=None))], verbose=False)), ('1', Pipeline(memory=None, steps=[('maxabsscaler', MaxAbsScaler(copy=True)), ('xgboostclassifier', XGBoostClassifier(n_jobs=1, problem_info=ProblemInfo(gpu_training_param_dict={'processing_unit_type': 'cpu'}), random_state=0, tree_method='auto'))], verbose=False)), ('31', Pipeline(memory=None, steps=[('sparsenormalizer', Normalizer(copy=True, norm='l2')), ('xgboostclassifier', XGBoostClassifier(booster='gbtree', colsample_bytree=0.7, eta=0.3, gamma=0, max_depth=7, max_leaves=127, n_estimators=400, n_jobs=1, objective='reg:logistic', problem_info=ProblemInfo(gpu_training_param_dict={'processing_unit_type': 'cpu'}), random_state=0, reg_alpha=2.3958333333333335, reg_lambda=0.5208333333333334, subsample=0.6, tree_method='auto'))], verbose=False)), ('22', Pipeline(memory=None, steps=[('standardscalerwrapper', StandardScalerWrapper(copy=True, with_mean=False, with_std=False)), ('xgboostclassifier', XGBoostClassifier(booster='gbtree', colsample_bytree=0.7, eta=0.3, gamma=0, max_depth=5, max_leaves=0, n_estimators=100, n_jobs=1, objective='reg:logistic', problem_info=ProblemInfo(gpu_training_param_dict={'processing_unit_type': 'cpu'}), random_state=0, reg_alpha=1.5625, reg_lambda=2.1875, subsample=0.7, tree_method='auto'))], verbose=False)), ('32', Pipeline(memory=None, steps=[('standardscalerwrapper', StandardScalerWrapper(copy=True, with_mean=False, with_std=False)), ('xgboostclassifier', XGBoostClassifier(booster='gbtree', colsample_bytree=0.8, eta=0.2, gamma=0.1, max_depth=5, max_leaves=0, n_estimators=100, n_jobs=1, objective='reg:logistic', problem_info=ProblemInfo(gpu_training_param_dict={'processing_unit_type': 'cpu'}), random_state=0, reg_alpha=1.0416666666666667, reg_lambda=2.291666666666667, subsample=0.5, tree_method='auto'))], verbose=False)), ('14', Pipeline(memory=None, steps=[('standardscalerwrapper', StandardScalerWrapper(copy=True, with_mean=False, with_std=False)), ('randomforestclassifier', RandomForestClassifier(bootstrap=True, ccp_alpha=0.0, class_weight=None, criterion='gini', max_depth=None, max_features='auto', max_leaf_nodes=None, max_samples=None, min_impurity_decrease=0.0, min_impurity_split=None, min_samples_leaf=1, min_samples_split=2, min_weight_fraction_leaf=0.0, n_estimators=100, n_jobs=1, oob_score=False, random_state=None, verbose=0, warm_start=False))], verbose=False))], flatten_transform=None, weights=[0.6, 0.13333333333333333, 0.06666666666666667, 0.06666666666666667, 0.06666666666666667, 0.06666666666666667]))],\n         verbose=False)\nY_transformer(['LabelEncoder', LabelEncoder()])\n"
        }
      ],
      "execution_count": 14,
      "metadata": {
        "jupyter": {
          "source_hidden": false,
          "outputs_hidden": false
        },
        "nteract": {
          "transient": {
            "deleting": false
          }
        },
        "gather": {
          "logged": 1685518775982
        }
      }
    },
    {
      "cell_type": "markdown",
      "source": [
        "## Model Deployment\n",
        "\n",
        "Remember you have to deploy only one of the two models you trained but you still need to register both the models. Perform the steps in the rest of this notebook only if you wish to deploy this model.\n",
        "\n",
        "TODO: In the cell below, register the model, create an inference config and deploy the model as a web service."
      ],
      "metadata": {}
    },
    {
      "cell_type": "code",
      "source": [
        "best_run.register_model(model_name='best_aml_model', model_path='./outputs/')"
      ],
      "outputs": [
        {
          "output_type": "execute_result",
          "execution_count": 15,
          "data": {
            "text/plain": "Model(workspace=Workspace.create(name='quick-starts-ws-234706', subscription_id='aa7cf8e8-d23f-4bce-a7b9-1f0b4e0ac8ee', resource_group='aml-quickstarts-234706'), name=best_aml_model, id=best_aml_model:1, version=1, tags={}, properties={})"
          },
          "metadata": {}
        }
      ],
      "execution_count": 15,
      "metadata": {
        "gather": {
          "logged": 1685518786580
        },
        "jupyter": {
          "outputs_hidden": false,
          "source_hidden": false
        },
        "nteract": {
          "transient": {
            "deleting": false
          }
        }
      }
    },
    {
      "cell_type": "code",
      "source": [
        "from azureml.core import Model\n",
        "\n",
        "model = Model.register(workspace=ws, \n",
        "    model_path='best_model.pkl', \n",
        "    model_name='best_aml_model')\n"
      ],
      "outputs": [
        {
          "output_type": "stream",
          "name": "stdout",
          "text": "Registering model best_aml_model\n"
        }
      ],
      "execution_count": 16,
      "metadata": {
        "gather": {
          "logged": 1685518798683
        },
        "jupyter": {
          "outputs_hidden": false,
          "source_hidden": false
        },
        "nteract": {
          "transient": {
            "deleting": false
          }
        }
      }
    },
    {
      "cell_type": "code",
      "source": [
        "from azureml.core.model import InferenceConfig\r\n",
        "from azureml.core.environment import Environment"
      ],
      "outputs": [],
      "execution_count": 24,
      "metadata": {
        "jupyter": {
          "source_hidden": false,
          "outputs_hidden": true
        },
        "nteract": {
          "transient": {
            "deleting": false
          }
        },
        "gather": {
          "logged": 1685519951304
        }
      }
    },
    {
      "cell_type": "code",
      "source": [
        "! pip list"
      ],
      "outputs": [
        {
          "output_type": "stream",
          "name": "stdout",
          "text": "Package                                 Version\r\n--------------------------------------- -------------------\r\nabsl-py                                 0.15.0\r\nadal                                    1.2.7\r\nadlfs                                   2023.1.0\r\naiohttp                                 3.8.4\r\naiohttp-cors                            0.7.0\r\naiosignal                               1.3.1\r\nansiwrap                                0.8.4\r\nantlr4-python3-runtime                  4.9.3\r\nanyio                                   3.6.2\r\napplicationinsights                     0.11.10\r\narch                                    4.14\r\nargcomplete                             2.0.0\r\nargon2-cffi                             21.3.0\r\nargon2-cffi-bindings                    21.2.0\r\narrow                                   1.2.3\r\narviz                                   0.11.2\r\nastroid                                 2.15.2\r\nasttokens                               2.2.1\r\nastunparse                              1.6.3\r\nasync-timeout                           4.0.2\r\nattrs                                   22.2.0\r\nauto-tqdm                               1.0.2\r\nautokeras                               1.0.16\r\nautopep8                                2.0.2\r\nazure-appconfiguration                  1.1.1\r\nazure-batch                             13.0.0\r\nazure-cli                               2.47.0\r\nazure-cli-core                          2.47.0\r\nazure-cli-telemetry                     1.0.8\r\nazure-common                            1.1.28\r\nazure-core                              1.26.3\r\nazure-cosmos                            3.2.0\r\nazure-data-tables                       12.4.0\r\nazure-datalake-store                    0.0.52\r\nazure-graphrbac                         0.61.1\r\nazure-identity                          1.7.0\r\nazure-keyvault                          1.1.0\r\nazure-keyvault-administration           4.0.0b3\r\nazure-keyvault-keys                     4.8.0b2\r\nazure-loganalytics                      0.1.1\r\nazure-mgmt-advisor                      9.0.0\r\nazure-mgmt-apimanagement                3.0.0\r\nazure-mgmt-appconfiguration             3.0.0\r\nazure-mgmt-appcontainers                2.0.0\r\nazure-mgmt-applicationinsights          1.0.0\r\nazure-mgmt-authorization                3.0.0\r\nazure-mgmt-batch                        17.0.0\r\nazure-mgmt-batchai                      7.0.0b1\r\nazure-mgmt-billing                      6.0.0\r\nazure-mgmt-botservice                   2.0.0\r\nazure-mgmt-cdn                          12.0.0\r\nazure-mgmt-cognitiveservices            13.3.0\r\nazure-mgmt-compute                      29.1.0\r\nazure-mgmt-consumption                  2.0.0\r\nazure-mgmt-containerinstance            10.1.0b1\r\nazure-mgmt-containerregistry            10.0.0\r\nazure-mgmt-containerservice             22.0.0\r\nazure-mgmt-core                         1.3.2\r\nazure-mgmt-cosmosdb                     9.0.0\r\nazure-mgmt-databoxedge                  1.0.0\r\nazure-mgmt-datalake-analytics           0.2.1\r\nazure-mgmt-datalake-nspkg               3.0.1\r\nazure-mgmt-datalake-store               0.5.0\r\nazure-mgmt-datamigration                10.0.0\r\nazure-mgmt-devtestlabs                  4.0.0\r\nazure-mgmt-dns                          8.0.0\r\nazure-mgmt-eventgrid                    10.2.0b2\r\nazure-mgmt-eventhub                     10.1.0\r\nazure-mgmt-extendedlocation             1.0.0b2\r\nazure-mgmt-hdinsight                    9.0.0\r\nazure-mgmt-imagebuilder                 1.1.0\r\nazure-mgmt-iotcentral                   10.0.0b2\r\nazure-mgmt-iothub                       2.3.0\r\nazure-mgmt-iothubprovisioningservices   1.1.0\r\nazure-mgmt-keyvault                     10.1.0\r\nazure-mgmt-kusto                        0.3.0\r\nazure-mgmt-loganalytics                 13.0.0b4\r\nazure-mgmt-managedservices              1.0.0\r\nazure-mgmt-managementgroups             1.0.0\r\nazure-mgmt-maps                         2.0.0\r\nazure-mgmt-marketplaceordering          1.1.0\r\nazure-mgmt-media                        9.0.0\r\nazure-mgmt-monitor                      5.0.1\r\nazure-mgmt-msi                          7.0.0\r\nazure-mgmt-netapp                       9.0.1\r\nazure-mgmt-network                      23.0.0\r\nazure-mgmt-nspkg                        3.0.2\r\nazure-mgmt-policyinsights               1.1.0b4\r\nazure-mgmt-privatedns                   1.0.0\r\nazure-mgmt-rdbms                        10.2.0b6\r\nazure-mgmt-recoveryservices             2.2.0\r\nazure-mgmt-recoveryservicesbackup       5.1.0\r\nazure-mgmt-redhatopenshift              1.2.0\r\nazure-mgmt-redis                        14.1.0\r\nazure-mgmt-relay                        0.1.0\r\nazure-mgmt-resource                     21.2.1\r\nazure-mgmt-search                       9.0.0\r\nazure-mgmt-security                     3.0.0\r\nazure-mgmt-servicebus                   8.2.0\r\nazure-mgmt-servicefabric                1.0.0\r\nazure-mgmt-servicefabricmanagedclusters 1.0.0\r\nazure-mgmt-servicelinker                1.2.0b1\r\nazure-mgmt-signalr                      1.1.0\r\nazure-mgmt-sql                          4.0.0b8\r\nazure-mgmt-sqlvirtualmachine            1.0.0b5\r\nazure-mgmt-storage                      20.1.0\r\nazure-mgmt-synapse                      2.1.0b5\r\nazure-mgmt-trafficmanager               1.0.0\r\nazure-mgmt-web                          7.0.0\r\nazure-multiapi-storage                  1.0.0\r\nazure-nspkg                             3.0.2\r\nazure-storage-blob                      12.13.0\r\nazure-storage-common                    1.4.2\r\nazure-storage-queue                     12.5.0\r\nazure-synapse-accesscontrol             0.5.0\r\nazure-synapse-artifacts                 0.15.0\r\nazure-synapse-managedprivateendpoints   0.4.0\r\nazure-synapse-spark                     0.2.0\r\nazureml-accel-models                    1.49.0\r\nazureml-automl-core                     1.51.0\r\nazureml-automl-dnn-nlp                  1.49.0\r\nazureml-automl-runtime                  1.49.0\r\nazureml-cli-common                      1.49.0\r\nazureml-contrib-automl-pipeline-steps   1.49.0\r\nazureml-contrib-dataset                 1.49.0\r\nazureml-contrib-fairness                1.49.0\r\nazureml-contrib-notebook                1.49.0\r\nazureml-contrib-pipeline-steps          1.49.0\r\nazureml-contrib-reinforcementlearning   1.49.0\r\nazureml-contrib-server                  1.49.0\r\nazureml-contrib-services                1.49.0\r\nazureml-core                            1.51.0\r\nazureml-datadrift                       1.49.0\r\nazureml-dataprep                        4.10.7\r\nazureml-dataprep-native                 38.0.0\r\nazureml-dataprep-rslex                  2.17.11\r\nazureml-dataset-runtime                 1.51.0\r\nazureml-defaults                        1.49.0\r\nazureml-explain-model                   1.49.0\r\nazureml-inference-server-http           0.8.0\r\nazureml-interpret                       1.49.0\r\nazureml-mlflow                          1.49.0\r\nazureml-opendatasets                    1.49.0\r\nazureml-pipeline                        1.51.0\r\nazureml-pipeline-core                   1.51.0\r\nazureml-pipeline-steps                  1.51.0\r\nazureml-responsibleai                   1.49.0\r\nazureml-sdk                             1.51.0\r\nazureml-telemetry                       1.51.0\r\nazureml-tensorboard                     1.49.0\r\nazureml-train                           1.49.0\r\nazureml-train-automl                    1.49.0\r\nazureml-train-automl-client             1.51.0\r\nazureml-train-automl-runtime            1.49.0\r\nazureml-train-core                      1.51.0\r\nazureml-train-restclients-hyperdrive    1.51.0\r\nazureml-training-tabular                1.49.0\r\nazureml-widgets                         1.49.0\r\nBabel                                   2.12.1\r\nbackcall                                0.2.0\r\nbackports.functools-lru-cache           1.6.4\r\nbackports.tempfile                      1.0\r\nbackports.weakref                       1.0.post1\r\nbackports.zoneinfo                      0.2.1\r\nbcrypt                                  4.0.1\r\nbeautifulsoup4                          4.12.1\r\nblack                                   23.3.0\r\nbleach                                  6.0.0\r\nblessed                                 1.20.0\r\nblis                                    0.4.1\r\nbokeh                                   2.4.3\r\nboto                                    2.49.0\r\nboto3                                   1.20.19\r\nbotocore                                1.23.19\r\nBottleneck                              1.3.7\r\ncachetools                              5.3.0\r\ncatalogue                               1.0.2\r\ncertifi                                 2022.9.24\r\ncffi                                    1.15.1\r\ncftime                                  1.5.1.1\r\nchardet                                 3.0.4\r\ncharset-normalizer                      3.0.1\r\nclick                                   8.1.3\r\ncloudpickle                             1.6.0\r\ncolorama                                0.4.6\r\ncolorful                                0.5.5\r\ncomm                                    0.1.2\r\ncontextlib2                             21.6.0\r\ncontourpy                               1.0.5\r\nconvertdate                             2.3.2\r\ncoremltools                             2.1.0\r\ncramjam                                 2.6.2\r\ncryptography                            38.0.4\r\ncycler                                  0.11.0\r\ncymem                                   2.0.7\r\nCython                                  0.29.17\r\ndask                                    2021.6.0\r\ndask-sql                                2023.4.0\r\ndatabricks-cli                          0.17.4\r\ndataclasses                             0.6\r\ndatasets                                2.3.2\r\ndebugpy                                 1.6.6\r\ndecorator                               5.1.1\r\ndefusedxml                              0.7.1\r\nDeprecated                              1.2.13\r\ndice-ml                                 0.9\r\ndill                                    0.3.6\r\ndistlib                                 0.3.6\r\ndistributed                             2021.6.0\r\ndistro                                  1.8.0\r\ndm-tree                                 0.1.8\r\ndocker                                  6.0.1\r\ndotnetcore2                             3.1.23\r\neconml                                  0.14.0\r\nen-core-web-sm                          2.1.0\r\nencrypted-inference                     0.9\r\nentrypoints                             0.4\r\nenvironments-utils                      1.0.9\r\nephem                                   4.1.2\r\nerroranalysis                           0.4.1\r\nexecuting                               1.2.0\r\nfabric                                  2.7.1\r\nfairlearn                               0.8.0\r\nfastai                                  1.0.61\r\nfastapi                                 0.86.0\r\nfastjsonschema                          2.16.2\r\nfastparquet                             2023.2.0\r\nfastprogress                            1.0.3\r\nfbprophet                               0.7.1\r\nfilelock                                3.9.0\r\nfire                                    0.5.0\r\nflake8                                  6.0.0\r\nFlask                                   2.2.2\r\nFlask-Cors                              3.0.10\r\nflatbuffers                             23.1.21\r\nflit-core                               3.6.0\r\nfonttools                               4.25.0\r\nfqdn                                    1.5.1\r\nfrozenlist                              1.3.3\r\nfsspec                                  2023.1.0\r\nfusepy                                  3.0.1\r\nfuture                                  0.18.3\r\ngast                                    0.3.3\r\ngensim                                  3.8.3\r\ngevent                                  1.3.6\r\ngitdb                                   4.0.10\r\nGitPython                               3.1.30\r\ngoogle-api-core                         2.11.0\r\ngoogle-auth                             2.16.0\r\ngoogle-auth-oauthlib                    0.4.6\r\ngoogle-pasta                            0.2.0\r\ngoogleapis-common-protos                1.58.0\r\ngpustat                                 1.1\r\ngreenlet                                2.0.2\r\ngrpcio                                  1.51.1\r\ngunicorn                                20.1.0\r\ngym                                     0.23.1\r\ngym-notices                             0.0.8\r\nGymnasium                               0.26.3\r\ngymnasium-notices                       0.0.1\r\nh11                                     0.14.0\r\nh5py                                    3.8.0\r\nHeapDict                                1.0.1\r\nhijri-converter                         2.2.2\r\nholidays                                0.10.3\r\nhuggingface-hub                         0.12.0\r\nhumanfriendly                           10.0\r\nhumanize                                4.6.0\r\nidna                                    3.4\r\nimageio                                 2.27.0\r\nimportlib-metadata                      5.2.0\r\nimportlib-resources                     5.10.2\r\ninference-schema                        1.5.1\r\ninterpret-community                     0.28.0\r\ninterpret-core                          0.2.7\r\ninvoke                                  1.7.3\r\nipykernel                               6.8.0\r\nipython                                 8.10.0\r\nipython-genutils                        0.2.0\r\nipywidgets                              7.7.1\r\nisodate                                 0.6.1\r\nisoduration                             20.11.0\r\nisort                                   5.12.0\r\nitsdangerous                            2.1.2\r\njavaproperties                          0.5.2\r\njedi                                    0.18.0\r\njeepney                                 0.8.0\r\nJinja2                                  2.11.2\r\njmespath                                0.10.0\r\njoblib                                  0.14.1\r\njson5                                   0.9.11\r\njsondiff                                2.0.0\r\njsonpickle                              2.2.0\r\njsonpointer                             2.3\r\njsonschema                              4.17.3\r\njupyter                                 1.0.0\r\njupyter-client                          6.1.12\r\njupyter-console                         6.6.3\r\njupyter-core                            5.2.0\r\njupyter-events                          0.6.3\r\njupyter-resource-usage                  0.7.2\r\njupyter-server                          2.2.1\r\njupyter-server-mathjax                  0.2.6\r\njupyter-server-proxy                    3.2.2\r\njupyter-server-terminals                0.4.4\r\njupyterlab                              3.2.4\r\njupyterlab-nvdashboard                  0.7.0\r\njupyterlab-pygments                     0.2.2\r\njupyterlab-server                       2.22.0\r\njupyterlab-system-monitor               0.8.0\r\njupyterlab-topbar                       0.6.1\r\njupyterlab-widgets                      1.1.2\r\njupytext                                1.14.5\r\nKeras                                   2.3.1\r\nKeras-Applications                      1.0.8\r\nkeras-nightly                           2.5.0.dev2021032900\r\nKeras-Preprocessing                     1.1.2\r\nkeras-tuner                             1.3.4\r\nkeras2onnx                              1.6.0\r\nkiwisolver                              1.4.4\r\nknack                                   0.10.1\r\nkorean-lunar-calendar                   0.2.1\r\nkt-legacy                               1.0.4\r\nlazy-loader                             0.2\r\nlazy-object-proxy                       1.9.0\r\nliac-arff                               2.5.0\r\nlightgbm                                3.2.1\r\nllvmlite                                0.38.1\r\nlocket                                  1.0.0\r\nLunarCalendar                           0.0.9\r\nlz4                                     4.3.2\r\nMarkdown                                3.4.3\r\nmarkdown-it-py                          2.2.0\r\nMarkupSafe                              2.0.1\r\nmatplotlib                              3.2.1\r\nmatplotlib-inline                       0.1.6\r\nmccabe                                  0.6.1\r\nmdit-py-plugins                         0.3.5\r\nmdurl                                   0.1.2\r\nmistune                                 0.8.4\r\nml-wrappers                             0.4.2\r\nmlflow-skinny                           2.1.1\r\nmsal                                    1.21.0\r\nmsal-extensions                         0.3.1\r\nmsgpack                                 1.0.4\r\nmsrest                                  0.7.1\r\nmsrestazure                             0.6.4\r\nmultidict                               6.0.4\r\nmultiprocess                            0.70.14\r\nmunkres                                 1.1.4\r\nmurmurhash                              1.0.9\r\nmypy-extensions                         1.0.0\r\nnbclassic                               0.5.1\r\nnbclient                                0.7.3\r\nnbconvert                               7.3.0\r\nnbdime                                  3.1.1\r\nnbformat                                5.2.0\r\nndg-httpsclient                         0.5.1\r\nnest-asyncio                            1.5.6\r\nnetCDF4                                 1.6.2\r\nnetworkx                                2.5\r\nnotebook                                6.5.2\r\nnotebook-shim                           0.2.2\r\nnumba                                   0.55.2\r\nnumexpr                                 2.8.4\r\nnumpy                                   1.21.6\r\nnvidia-ml-py                            11.525.112\r\nnvidia-ml-py3                           7.352.0\r\noauthlib                                3.2.2\r\nonnx                                    1.12.0\r\nonnxconverter-common                    1.6.0\r\nonnxmltools                             1.4.1\r\nonnxruntime                             1.11.1\r\nopencensus                              0.11.1\r\nopencensus-context                      0.1.3\r\nopencensus-ext-azure                    1.1.8\r\nopencv-python-headless                  4.7.0.72\r\nopt-einsum                              3.3.0\r\npackaging                               21.3\r\npandas                                  1.1.5\r\npandas-ml                               0.6.1\r\npandocfilters                           1.5.0\r\npapermill                               1.2.1\r\nparamiko                                2.12.0\r\nparso                                   0.8.3\r\npartd                                   1.3.0\r\npathlib2                                2.3.7.post1\r\npathspec                                0.11.0\r\npatsy                                   0.5.3\r\npexpect                                 4.8.0\r\npickleshare                             0.7.5\r\nPillow                                  9.2.0\r\npip                                     20.1.1\r\npkginfo                                 1.9.6\r\npkgutil-resolve-name                    1.3.10\r\nplac                                    1.1.3\r\nplatformdirs                            3.0.0\r\nplotly                                  5.14.1\r\npluggy                                  1.0.0\r\npmdarima                                1.7.1\r\nportalocker                             2.7.0\r\npreshed                                 3.0.8\r\nprometheus-client                       0.16.0\r\nprompt-toolkit                          3.0.30\r\nproperty-cached                         1.6.4\r\nprotobuf                                3.20.1\r\npsutil                                  5.9.4\r\npsycopg2                                2.9.3\r\nptyprocess                              0.7.0\r\npure-eval                               0.2.2\r\npy-spy                                  0.3.14\r\npy4j                                    0.10.9.5\r\npyarrow                                 9.0.0\r\npyasn1                                  0.4.8\r\npyasn1-modules                          0.2.8\r\npycocotools                             2.0.2\r\npycodestyle                             2.6.0\r\npycparser                               2.21\r\npydantic                                1.10.4\r\npydocstyle                              6.3.0\r\npyflakes                                2.2.0\r\nPyGithub                                1.58.1\r\nPygments                                2.14.0\r\nPyJWT                                   2.4.0\r\npylint                                  2.17.2\r\nPyMeeus                                 0.5.11\r\nPyNaCl                                  1.5.0\r\npynvml                                  11.5.0\r\npyodbc                                  4.0.34\r\npyOpenSSL                               23.0.0\r\npyparsing                               3.0.9\r\npyreadline3                             3.4.1\r\npyrsistent                              0.19.3\r\nPySocks                                 1.7.1\r\npyspark                                 3.3.1\r\npystan                                  2.19.1.1\r\npython-dateutil                         2.8.2\r\npython-json-logger                      2.0.5\r\npython-jsonrpc-server                   0.4.0\r\npython-language-server                  0.35.0\r\npython-snappy                           0.6.1\r\npytoolconfig                            1.2.5\r\npytorch-transformers                    1.0.0\r\npytz                                    2022.5\r\npytz-deprecation-shim                   0.1.0.post0\r\nPyWavelets                              1.4.1\r\nPyYAML                                  6.0\r\npyzmq                                   25.0.0\r\nqtconsole                               5.4.2\r\nQtPy                                    2.3.1\r\nQuantLib                                1.29\r\nrai-core-flask                          0.5.0\r\nraiutils                                0.3.0\r\nraiwidgets                              0.24.0\r\nray                                     2.0.0\r\nregex                                   2022.10.31\r\nrequests                                2.28.2\r\nrequests-oauthlib                       1.3.1\r\nresponses                               0.18.0\r\nresponsibleai                           0.24.0\r\nrfc3339-validator                       0.1.4\r\nrfc3986-validator                       0.1.1\r\nrich                                    13.3.3\r\nrope                                    1.7.0\r\nrsa                                     4.9\r\ns3transfer                              0.5.2\r\nsacremoses                              0.0.53\r\nscikit-image                            0.20.0\r\nscikit-learn                            0.22.1\r\nscipy                                   1.5.3\r\nscp                                     0.13.6\r\nscrapbook                               0.5.0\r\nseaborn                                 0.12.2\r\nSecretStorage                           3.3.3\r\nsemver                                  2.13.0\r\nSend2Trash                              1.8.0\r\nsentencepiece                           0.1.97\r\nseqeval                                 1.2.2\r\nsetuptools                              49.6.0\r\nsetuptools-git                          1.2\r\nshap                                    0.39.0\r\nsimpervisor                             0.4\r\nsix                                     1.16.0\r\nskl2onnx                                1.4.9\r\nsklearn-pandas                          1.7.0\r\nslicer                                  0.0.7\r\nsmart-open                              1.9.0\r\nsmmap                                   5.0.0\r\nsniffio                                 1.3.0\r\nsnowballstemmer                         2.2.0\r\nsortedcontainers                        2.4.0\r\nsoupsieve                               2.4\r\nspacy                                   2.2.4\r\nsparse                                  0.13.0\r\nsqlparse                                0.4.3\r\nsrsly                                   1.0.6\r\nsshtunnel                               0.1.5\r\nstack-data                              0.6.2\r\nstarlette                               0.20.4\r\nstatsmodels                             0.11.0\r\nsupport-developer                       1.0.5\r\ntabulate                                0.9.0\r\ntblib                                   1.7.0\r\ntenacity                                8.2.1\r\ntensorboard                             2.2.2\r\ntensorboard-data-server                 0.7.0\r\ntensorboard-plugin-wit                  1.8.1\r\ntensorboardX                            2.6\r\ntensorflow                              2.2.1\r\ntensorflow-cpu                          2.2.1\r\ntensorflow-estimator                    2.2.0\r\ntensorflow-gpu                          2.2.1\r\ntermcolor                               2.2.0\r\nterminado                               0.17.1\r\ntestpath                                0.6.0\r\ntextwrap3                               0.9.2\r\nthinc                                   7.4.0\r\nthreadpoolctl                           2.2.0\r\ntifffile                                2023.3.21\r\ntinycss2                                1.2.1\r\ntokenizers                              0.13.2\r\ntoml                                    0.10.2\r\ntomli                                   2.0.1\r\ntomlkit                                 0.11.7\r\ntoolz                                   0.12.0\r\ntorch                                   1.12.0\r\ntorch-tb-profiler                       0.4.1\r\ntorchvision                             0.9.1\r\ntornado                                 6.2\r\ntqdm                                    4.64.1\r\ntraitlets                               5.9.0\r\ntransformers                            4.16.0\r\ntyper                                   0.7.0\r\ntyping-extensions                       4.4.0\r\ntzdata                                  2023.3\r\ntzlocal                                 4.3\r\nujson                                   5.7.0\r\nuri-template                            1.2.0\r\nurllib3                                 1.26.14\r\nuuid                                    1.30\r\nuvicorn                                 0.21.1\r\nvirtualenv                              20.21.0\r\nwaitress                                2.1.2\r\nwasabi                                  0.10.1\r\nwcwidth                                 0.2.6\r\nwebcolors                               1.13\r\nwebencodings                            0.5.1\r\nwebsocket-client                        1.5.0\r\nwebsockets                              11.0.1\r\nWerkzeug                                2.2.2\r\nwheel                                   0.37.1\r\nwidgetsnbextension                      3.6.2\r\nwrapt                                   1.12.1\r\nxarray                                  0.20.1\r\nxgboost                                 1.3.3\r\nxmltodict                               0.13.0\r\nxxhash                                  3.2.0\r\nyapf                                    0.32.0\r\nyarl                                    1.8.2\r\nzict                                    2.2.0\r\nzipp                                    3.12.0\r\nzope.event                              4.6\r\nzope.interface                          6.0\r\n"
        }
      ],
      "execution_count": 21,
      "metadata": {
        "jupyter": {
          "source_hidden": false,
          "outputs_hidden": true
        },
        "nteract": {
          "transient": {
            "deleting": false
          }
        }
      }
    },
    {
      "cell_type": "code",
      "source": [
        "#from azureml.core import InferenceConfig, Environment\n",
        "\n",
        "env = Environment.get(workspace=ws, name='quick-starts-ws-234706')\n",
        "inference_config = InferenceConfig(entry_script='score.py', environment=env) #####"
      ],
      "outputs": [
        {
          "output_type": "error",
          "ename": "Exception",
          "evalue": "Error retrieving the environment definition. Code: 404\n: {\n  \"error\": {\n    \"code\": \"UserError\",\n    \"severity\": null,\n    \"message\": \"No environment exists for name: quick-starts-ws-234706, version: , label: \",\n    \"messageFormat\": null,\n    \"messageParameters\": null,\n    \"referenceCode\": null,\n    \"detailsUri\": null,\n    \"target\": null,\n    \"details\": [],\n    \"innerError\": {\n      \"code\": \"NotFoundError\",\n      \"innerError\": null\n    },\n    \"debugInfo\": null,\n    \"additionalInfo\": null\n  },\n  \"correlation\": {\n    \"operation\": \"e19636d30da03d35227d7ba3fa617513\",\n    \"request\": \"7ae59ad97c405af8\"\n  },\n  \"environment\": \"westeurope\",\n  \"location\": \"westeurope\",\n  \"time\": \"2023-05-31T08:00:53.0406037+00:00\",\n  \"componentName\": \"environment-management\"\n}",
          "traceback": [
            "\u001b[0;31m---------------------------------------------------------------------------\u001b[0m",
            "\u001b[0;31mException\u001b[0m                                 Traceback (most recent call last)",
            "Cell \u001b[0;32mIn[26], line 3\u001b[0m\n\u001b[1;32m      1\u001b[0m \u001b[38;5;66;03m#from azureml.core import InferenceConfig, Environment\u001b[39;00m\n\u001b[0;32m----> 3\u001b[0m env \u001b[38;5;241m=\u001b[39m \u001b[43mEnvironment\u001b[49m\u001b[38;5;241;43m.\u001b[39;49m\u001b[43mget\u001b[49m\u001b[43m(\u001b[49m\u001b[43mworkspace\u001b[49m\u001b[38;5;241;43m=\u001b[39;49m\u001b[43mws\u001b[49m\u001b[43m,\u001b[49m\u001b[43m \u001b[49m\u001b[43mname\u001b[49m\u001b[38;5;241;43m=\u001b[39;49m\u001b[38;5;124;43m'\u001b[39;49m\u001b[38;5;124;43mquick-starts-ws-234706\u001b[39;49m\u001b[38;5;124;43m'\u001b[39;49m\u001b[43m)\u001b[49m\n\u001b[1;32m      4\u001b[0m inference_config \u001b[38;5;241m=\u001b[39m InferenceConfig(entry_script\u001b[38;5;241m=\u001b[39m\u001b[38;5;124m'\u001b[39m\u001b[38;5;124mscore.py\u001b[39m\u001b[38;5;124m'\u001b[39m, environment\u001b[38;5;241m=\u001b[39menv) \u001b[38;5;66;03m#####\u001b[39;00m\n",
            "File \u001b[0;32m/anaconda/envs/azureml_py38/lib/python3.8/site-packages/azureml/core/environment.py:1158\u001b[0m, in \u001b[0;36mEnvironment.get\u001b[0;34m(workspace, name, version, label)\u001b[0m\n\u001b[1;32m   1156\u001b[0m     environment_dict \u001b[38;5;241m=\u001b[39m environment_client\u001b[38;5;241m.\u001b[39m_get_environment_definition_by_label(name\u001b[38;5;241m=\u001b[39mname, label\u001b[38;5;241m=\u001b[39mlabel)\n\u001b[1;32m   1157\u001b[0m \u001b[38;5;28;01melse\u001b[39;00m:\n\u001b[0;32m-> 1158\u001b[0m     environment_dict \u001b[38;5;241m=\u001b[39m \u001b[43menvironment_client\u001b[49m\u001b[38;5;241;43m.\u001b[39;49m\u001b[43m_get_environment_definition\u001b[49m\u001b[43m(\u001b[49m\u001b[43mname\u001b[49m\u001b[38;5;241;43m=\u001b[39;49m\u001b[43mname\u001b[49m\u001b[43m,\u001b[49m\u001b[43m \u001b[49m\u001b[43mversion\u001b[49m\u001b[38;5;241;43m=\u001b[39;49m\u001b[43mversion\u001b[49m\u001b[43m)\u001b[49m\n\u001b[1;32m   1159\u001b[0m env \u001b[38;5;241m=\u001b[39m Environment\u001b[38;5;241m.\u001b[39m_deserialize_and_add_to_object(environment_dict)\n\u001b[1;32m   1161\u001b[0m \u001b[38;5;28;01mreturn\u001b[39;00m env\n",
            "File \u001b[0;32m/anaconda/envs/azureml_py38/lib/python3.8/site-packages/azureml/_restclient/environment_client.py:43\u001b[0m, in \u001b[0;36mEnvironmentClient._get_environment_definition\u001b[0;34m(self, name, version)\u001b[0m\n\u001b[1;32m     40\u001b[0m \u001b[38;5;28;01melse\u001b[39;00m:\n\u001b[1;32m     41\u001b[0m     message \u001b[38;5;241m=\u001b[39m \u001b[38;5;124m\"\u001b[39m\u001b[38;5;124mError retrieving the environment definition. Code: \u001b[39m\u001b[38;5;132;01m{}\u001b[39;00m\u001b[38;5;130;01m\\n\u001b[39;00m\u001b[38;5;124m: \u001b[39m\u001b[38;5;132;01m{}\u001b[39;00m\u001b[38;5;124m\"\u001b[39m\u001b[38;5;241m.\u001b[39mformat(response\u001b[38;5;241m.\u001b[39mstatus_code,\n\u001b[1;32m     42\u001b[0m                                                                                    response\u001b[38;5;241m.\u001b[39mtext)\n\u001b[0;32m---> 43\u001b[0m     \u001b[38;5;28;01mraise\u001b[39;00m \u001b[38;5;167;01mException\u001b[39;00m(message)\n",
            "\u001b[0;31mException\u001b[0m: Error retrieving the environment definition. Code: 404\n: {\n  \"error\": {\n    \"code\": \"UserError\",\n    \"severity\": null,\n    \"message\": \"No environment exists for name: quick-starts-ws-234706, version: , label: \",\n    \"messageFormat\": null,\n    \"messageParameters\": null,\n    \"referenceCode\": null,\n    \"detailsUri\": null,\n    \"target\": null,\n    \"details\": [],\n    \"innerError\": {\n      \"code\": \"NotFoundError\",\n      \"innerError\": null\n    },\n    \"debugInfo\": null,\n    \"additionalInfo\": null\n  },\n  \"correlation\": {\n    \"operation\": \"e19636d30da03d35227d7ba3fa617513\",\n    \"request\": \"7ae59ad97c405af8\"\n  },\n  \"environment\": \"westeurope\",\n  \"location\": \"westeurope\",\n  \"time\": \"2023-05-31T08:00:53.0406037+00:00\",\n  \"componentName\": \"environment-management\"\n}"
          ]
        }
      ],
      "execution_count": 26,
      "metadata": {
        "jupyter": {
          "outputs_hidden": false,
          "source_hidden": false
        },
        "nteract": {
          "transient": {
            "deleting": false
          }
        },
        "gather": {
          "logged": 1685520053413
        }
      }
    },
    {
      "cell_type": "code",
      "source": [
        "from azureml.core.webservice import AciWebservice\n",
        "\n",
        "deployment_config = AciWebservice.deploy_configuration(cpu_cores=1, memory_gb=1)\n",
        "service = Model.deploy(workspace=ws,\n",
        "                       name='automl-deploy',\n",
        "                       models=[model],\n",
        "                       inference_config=inference_config,\n",
        "                       deployment_config=deployment_config,\n",
        "                       overwrite=True)\n",
        "                       \n",
        "service.wait_for_deployment(show_output=True)\n"
      ],
      "outputs": [],
      "execution_count": null,
      "metadata": {
        "jupyter": {
          "outputs_hidden": false,
          "source_hidden": false
        },
        "nteract": {
          "transient": {
            "deleting": false
          }
        }
      }
    },
    {
      "cell_type": "markdown",
      "source": [
        "TODO: In the cell below, send a request to the web service you deployed to test it."
      ],
      "metadata": {
        "collapsed": true,
        "gather": {
          "logged": 1598431657736
        },
        "jupyter": {
          "outputs_hidden": false,
          "source_hidden": false
        },
        "nteract": {
          "transient": {
            "deleting": false
          }
        }
      }
    },
    {
      "cell_type": "markdown",
      "source": [
        "TODO: In the cell below, print the logs of the web service and delete the service"
      ],
      "metadata": {
        "collapsed": true,
        "gather": {
          "logged": 1598432765711
        },
        "jupyter": {
          "outputs_hidden": false,
          "source_hidden": false
        },
        "nteract": {
          "transient": {
            "deleting": false
          }
        }
      }
    },
    {
      "cell_type": "code",
      "source": [],
      "outputs": [],
      "execution_count": null,
      "metadata": {
        "jupyter": {
          "outputs_hidden": false,
          "source_hidden": false
        },
        "nteract": {
          "transient": {
            "deleting": false
          }
        }
      }
    },
    {
      "cell_type": "markdown",
      "source": [
        "**Submission Checklist**\n",
        "- I have registered the model.\n",
        "- I have deployed the model with the best accuracy as a webservice.\n",
        "- I have tested the webservice by sending a request to the model endpoint.\n",
        "- I have deleted the webservice and shutdown all the computes that I have used.\n",
        "- I have taken a screenshot showing the model endpoint as active.\n",
        "- The project includes a file containing the environment details.\n"
      ],
      "metadata": {}
    },
    {
      "cell_type": "markdown",
      "source": [],
      "metadata": {}
    }
  ],
  "metadata": {
    "kernel_info": {
      "name": "python38-azureml"
    },
    "kernelspec": {
      "name": "python38-azureml",
      "language": "python",
      "display_name": "Python 3.8 - AzureML"
    },
    "language_info": {
      "name": "python",
      "version": "3.8.5",
      "mimetype": "text/x-python",
      "codemirror_mode": {
        "name": "ipython",
        "version": 3
      },
      "pygments_lexer": "ipython3",
      "nbconvert_exporter": "python",
      "file_extension": ".py"
    },
    "microsoft": {
      "host": {
        "AzureML": {
          "notebookHasBeenCompleted": true
        }
      },
      "ms_spell_check": {
        "ms_spell_check_language": "en"
      }
    },
    "nteract": {
      "version": "nteract-front-end@1.0.0"
    }
  },
  "nbformat": 4,
  "nbformat_minor": 2
}