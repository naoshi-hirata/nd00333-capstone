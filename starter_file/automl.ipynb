{
  "cells": [
    {
      "cell_type": "markdown",
      "source": [
        "# Automated ML\n",
        "\n",
        "TODO: Import Dependencies. In the cell below, import all the dependencies that you will need to complete the project."
      ],
      "metadata": {}
    },
    {
      "cell_type": "code",
      "source": [
        "import json\n",
        "import logging\n",
        "import os\n",
        "import pandas as pd\n",
        "import requests\n",
        "from azureml.automl.runtime.onnx_convert import OnnxConverter\n",
        "from azureml.core.compute import ComputeTarget, AmlCompute\n",
        "from azureml.core.compute_target import ComputeTargetException\n",
        "from azureml.core.dataset import Dataset\n",
        "from azureml.core.experiment import Experiment\n",
        "from azureml.core.model import InferenceConfig\n",
        "from azureml.core.model import Model\n",
        "from azureml.core.webservice import AciWebservice\n",
        "from azureml.core.workspace import Workspace\n",
        "from azureml.train.automl import AutoMLConfig\n",
        "from azureml.widgets import RunDetails\n"
      ],
      "outputs": [],
      "execution_count": 1,
      "metadata": {
        "gather": {
          "logged": 1692056275134
        },
        "jupyter": {
          "outputs_hidden": false,
          "source_hidden": false
        },
        "nteract": {
          "transient": {
            "deleting": false
          }
        }
      }
    },
    {
      "cell_type": "markdown",
      "source": [
        "## Dataset\n",
        "\n",
        "### Overview\n",
        "TODO: In this markdown cell, give an overview of the dataset you are using. Also mention the task you will be performing.\n",
        "\n",
        "\n",
        "TODO: Get data. In the cell below, write code to access the data you will be using in this project. Remember that the dataset needs to be external."
      ],
      "metadata": {}
    },
    {
      "cell_type": "markdown",
      "source": [
        "Title: Car Evaluation Database\n",
        "\n",
        "Task: To create the hierarchical decision model\n",
        "\n",
        "This model evaluates cars according to the following concept structure:\n",
        "\n",
        " CAR:car acceptability;\n",
        "\n",
        " buying:buying price;v-high, high, med, low\n",
        " \n",
        " maint:price of the maintenance;v-high, high, med, low\n",
        " \n",
        " doors:number of doors;2, 3, 4, 5-more\n",
        " \n",
        " persons:capacity in terms of persons to carry;2, 4, more\n",
        " \n",
        " lug_boot:the size of luggage boot;small, med, big\n",
        " \n",
        " safety:estimated safety of the car;low, med, high\n",
        "  \n",
        "Class Distribution;unacc,acc,good,v-good"
      ],
      "metadata": {
        "nteract": {
          "transient": {
            "deleting": false
          }
        }
      }
    },
    {
      "cell_type": "code",
      "source": [
        "ws = Workspace.from_config()\n",
        "\n",
        "# choose a name for experiment\n",
        "experiment_name = 'auto-ml'\n",
        "experiment=Experiment(ws, experiment_name)"
      ],
      "outputs": [
        {
          "output_type": "stream",
          "name": "stderr",
          "text": "2023-08-14:23:38:22,79 INFO     [workspace.py:291] Found the config file in: /config.json\n2023-08-14:23:38:22,743 INFO     [clientbase.py:192] Created a worker pool for first use\n"
        }
      ],
      "execution_count": 2,
      "metadata": {
        "gather": {
          "logged": 1692056303493
        },
        "jupyter": {
          "outputs_hidden": false,
          "source_hidden": false
        },
        "nteract": {
          "transient": {
            "deleting": false
          }
        }
      }
    },
    {
      "cell_type": "code",
      "source": [
        "print(ws)"
      ],
      "outputs": [
        {
          "output_type": "stream",
          "name": "stdout",
          "text": "Workspace.create(name='quick-starts-ws-240270', subscription_id='3d1a56d2-7c81-4118-9790-f85d1acf0c77', resource_group='aml-quickstarts-240270')\n"
        }
      ],
      "execution_count": 3,
      "metadata": {
        "gather": {
          "logged": 1692056308748
        },
        "jupyter": {
          "outputs_hidden": false,
          "source_hidden": false
        },
        "nteract": {
          "transient": {
            "deleting": false
          }
        }
      }
    },
    {
      "cell_type": "code",
      "source": [
        "# Create the cluster\n",
        "cpu_cluster_name = \"auto-ml\"\n",
        "# Verify that cluster does not exist already\n",
        "try:\n",
        "    compute_target = ComputeTarget(workspace=ws, name=cpu_cluster_name)\n",
        "    print(\"Found existing cluster, use it.\")\n",
        "except ComputeTargetException:\n",
        "    compute_config = AmlCompute.provisioning_configuration(\n",
        "        vm_size='STANDARD_D2_V2',\n",
        "        max_nodes=4\n",
        "    )\n",
        "    compute_target = ComputeTarget.create(\n",
        "        ws, cpu_cluster_name, compute_config)\n",
        "compute_target.wait_for_completion(show_output=True)"
      ],
      "outputs": [
        {
          "output_type": "stream",
          "name": "stdout",
          "text": "InProgress..\nSucceededProvisioning operation finished, operation \"Succeeded\"\nSucceeded\nAmlCompute wait for completion finished\n\nMinimum number of nodes requested have been provisioned\n"
        }
      ],
      "execution_count": 4,
      "metadata": {
        "gather": {
          "logged": 1692056326856
        },
        "jupyter": {
          "outputs_hidden": false,
          "source_hidden": false
        },
        "nteract": {
          "transient": {
            "deleting": false
          }
        },
        "scrolled": true
      }
    },
    {
      "cell_type": "code",
      "source": [
        "# Create AML Dataset and register it into Workspace\n",
        "data = pd.read_csv('https://archive.ics.uci.edu/ml/machine-learning-databases/car/car.data')\n",
        "columns = ['buying', 'maint', 'doors', 'persons', 'lug_boot', 'safety', 'class']\n",
        "data.columns = columns\n",
        "data.head()\n",
        "\n",
        "if not os.path.isdir(\"./data\"):\n",
        "    os.mkdir(\"./data\")\n",
        "# Save the data to a csv to be uploaded to the datastore\n",
        "pd.DataFrame(data).to_csv(\"./data/data.csv\", index=False)\n",
        "ds = ws.get_default_datastore()\n",
        "key='car evaluation data set'\n",
        "ds.upload(\n",
        "    src_dir=\"./data\",\n",
        "    target_path=key,\n",
        "    overwrite=True,\n",
        "    show_progress=True\n",
        ")\n",
        "\n",
        "# Upload the data as a tabular dataset for access during training on remote compute\n",
        "dataset = Dataset.Tabular.from_delimited_files(\n",
        "    path=ds.path(key+\"/data.csv\")\n",
        ")\n"
      ],
      "outputs": [
        {
          "output_type": "stream",
          "name": "stderr",
          "text": "2023-08-14:23:43:34,309 INFO     [datastore_client.py:991] <azureml.core.authentication.InteractiveLoginAuthentication object at 0x7faee8e75640>\n2023-08-14:23:43:34,926 WARNING  [_dataset_deprecation.py:89] \"Datastore.upload\" is deprecated after version 1.0.69. Please use \"Dataset.File.upload_directory\" to upload your files             from a local directory and create FileDataset in single method call. See Dataset API change notice at https://aka.ms/dataset-deprecation.\n2023-08-14:23:43:34,927 INFO     [azure_storage_datastore.py:923] Called AzureBlobDatastore.upload\n2023-08-14:23:43:34,940 INFO     [azure_storage_datastore.py:372] Uploading an estimated of 1 files\n2023-08-14:23:43:35,192 INFO     [azure_storage_datastore.py:372] Uploading ./data/data.csv\n2023-08-14:23:43:35,192 INFO     [azure_storage_datastore.py:372] Uploaded ./data/data.csv, 1 files out of an estimated total of 1\n2023-08-14:23:43:35,193 INFO     [azure_storage_datastore.py:372] Uploaded 1 files\n2023-08-14:23:43:35,194 INFO     [azure_storage_datastore.py:941] Finished AzureBlobDatastore.upload with count=1.\n"
        },
        {
          "output_type": "stream",
          "name": "stdout",
          "text": "Uploading an estimated of 1 files\nUploading ./data/data.csv\nUploaded ./data/data.csv, 1 files out of an estimated total of 1\nUploaded 1 files\n"
        }
      ],
      "execution_count": 6,
      "metadata": {
        "gather": {
          "logged": 1692056620119
        },
        "jupyter": {
          "outputs_hidden": false,
          "source_hidden": false
        },
        "nteract": {
          "transient": {
            "deleting": false
          }
        }
      }
    },
    {
      "cell_type": "markdown",
      "source": [
        "## AutoML Configuration\n",
        "\n",
        "TODO: Explain why you chose the automl settings and cofiguration you used below."
      ],
      "metadata": {}
    },
    {
      "cell_type": "markdown",
      "source": [
        "Automl setting\n",
        "\n",
        " - experiment time out minutes; to avoid endless working\n",
        "\n",
        " - max concurrent iterations; between cost and performance\n",
        "\n",
        " - primary metric; AUC is a widely used metric to evaluate the performance of binary classifiers. The weighted version extends it to multi-class classification by considering the class imbalance when computing the average AUC across classes. \n",
        "\n",
        "Automl configuration\n",
        "\n",
        " - task = \"classification\"; To make classification model\n",
        "\n",
        " - label_column_name=\"class\"; This column gives evalation result\n",
        "\n",
        " - enable_early_stopping= True; To save cost at score improvement small\n",
        "\n",
        " - featurization= 'auto'; Automated separation for training data and test data\n"
      ],
      "metadata": {
        "nteract": {
          "transient": {
            "deleting": false
          }
        }
      }
    },
    {
      "cell_type": "code",
      "source": [
        "# TODO: Put your automl settings here\n",
        "automl_settings = {\n",
        "    \"experiment_timeout_minutes\": 20,\n",
        "    \"enable_early_stopping\": True,\n",
        "    \"iteration_timeout_minutes\": 5,\n",
        "    \"max_concurrent_iterations\": 4,\n",
        "    \"max_cores_per_iteration\": -1,\n",
        "    \"primary_metric\" : 'AUC_weighted',\n",
        "    \"featurization\": \"auto\",\n",
        "    \"verbosity\": logging.INFO,\n",
        "    \"enable_code_generation\": True,\n",
        "}\n",
        "\n",
        "project_folder = './autoML'\n",
        "\n",
        "# TODO: Put your automl config here\n",
        "automl_config = AutoMLConfig(\n",
        "    task = \"classification\",\n",
        "    debug_log = \"automl_errors.log\",\n",
        "    compute_target=compute_target,\n",
        "    enable_onnx_compatible_models=True,\n",
        "    training_data=dataset,\n",
        "    label_column_name=\"class\",\n",
        "    path = project_folder,\n",
        "    **automl_settings\n",
        ")"
      ],
      "outputs": [],
      "execution_count": 7,
      "metadata": {
        "gather": {
          "logged": 1692056656545
        },
        "jupyter": {
          "outputs_hidden": false,
          "source_hidden": false
        },
        "nteract": {
          "transient": {
            "deleting": false
          }
        }
      }
    },
    {
      "cell_type": "code",
      "source": [
        "# TODO: Submit your experiment\n",
        "\n",
        "remote_run = experiment.submit(automl_config)\n"
      ],
      "outputs": [
        {
          "output_type": "stream",
          "name": "stdout",
          "text": "Submitting remote run.\n"
        },
        {
          "output_type": "display_data",
          "data": {
            "text/html": "<table style=\"width:100%\"><tr><th>Experiment</th><th>Id</th><th>Type</th><th>Status</th><th>Details Page</th><th>Docs Page</th></tr><tr><td>auto-ml</td><td>AutoML_b42a4eda-a263-4875-84da-a731c2eda8ea</td><td>automl</td><td>NotStarted</td><td><a href=\"https://ml.azure.com/runs/AutoML_b42a4eda-a263-4875-84da-a731c2eda8ea?wsid=/subscriptions/3d1a56d2-7c81-4118-9790-f85d1acf0c77/resourcegroups/aml-quickstarts-240270/workspaces/quick-starts-ws-240270&amp;tid=660b3398-b80e-49d2-bc5b-ac1dc93b5254\" target=\"_blank\" rel=\"noopener\">Link to Azure Machine Learning studio</a></td><td><a href=\"https://docs.microsoft.com/en-us/python/api/overview/azure/ml/intro?view=azure-ml-py\" target=\"_blank\" rel=\"noopener\">Link to Documentation</a></td></tr></table>"
          },
          "metadata": {}
        }
      ],
      "execution_count": 8,
      "metadata": {
        "gather": {
          "logged": 1692056666724
        },
        "jupyter": {
          "outputs_hidden": false,
          "source_hidden": false
        },
        "nteract": {
          "transient": {
            "deleting": false
          }
        }
      }
    },
    {
      "cell_type": "markdown",
      "source": [
        "## Run Details\n",
        "\n",
        "OPTIONAL: Write about the different models trained and their performance. Why do you think some models did better than others?\n",
        "\n",
        "TODO: In the cell below, use the `RunDetails` widget to show the different experiments."
      ],
      "metadata": {}
    },
    {
      "cell_type": "code",
      "source": [
        "RunDetails(remote_run).show()"
      ],
      "outputs": [
        {
          "output_type": "display_data",
          "data": {
            "text/plain": "_AutoMLWidget(widget_settings={'childWidgetDisplay': 'popup', 'send_telemetry': False, 'log_level': 'INFO', 's…",
            "application/vnd.jupyter.widget-view+json": {
              "version_major": 2,
              "version_minor": 0,
              "model_id": "ea5575d9fbde4c49ae373bb924764b4f"
            }
          },
          "metadata": {}
        },
        {
          "output_type": "display_data",
          "data": {
            "application/aml.mini.widget.v1": "{\"status\": \"Completed\", \"workbench_run_details_uri\": \"https://ml.azure.com/runs/AutoML_b42a4eda-a263-4875-84da-a731c2eda8ea?wsid=/subscriptions/3d1a56d2-7c81-4118-9790-f85d1acf0c77/resourcegroups/aml-quickstarts-240270/workspaces/quick-starts-ws-240270&tid=660b3398-b80e-49d2-bc5b-ac1dc93b5254\", \"run_id\": \"AutoML_b42a4eda-a263-4875-84da-a731c2eda8ea\", \"run_properties\": {\"run_id\": \"AutoML_b42a4eda-a263-4875-84da-a731c2eda8ea\", \"created_utc\": \"2023-08-14T23:44:25.233738Z\", \"properties\": {\"num_iterations\": \"1000\", \"training_type\": \"TrainFull\", \"acquisition_function\": \"EI\", \"primary_metric\": \"AUC_weighted\", \"train_split\": \"0\", \"acquisition_parameter\": \"0\", \"num_cross_validation\": null, \"target\": \"auto-ml\", \"AMLSettingsJsonString\": \"{\\\"path\\\":null,\\\"name\\\":\\\"auto-ml\\\",\\\"subscription_id\\\":\\\"3d1a56d2-7c81-4118-9790-f85d1acf0c77\\\",\\\"resource_group\\\":\\\"aml-quickstarts-240270\\\",\\\"workspace_name\\\":\\\"quick-starts-ws-240270\\\",\\\"region\\\":\\\"westus2\\\",\\\"compute_target\\\":\\\"auto-ml\\\",\\\"spark_service\\\":null,\\\"azure_service\\\":\\\"remote\\\",\\\"many_models\\\":false,\\\"pipeline_fetch_max_batch_size\\\":1,\\\"enable_batch_run\\\":true,\\\"enable_parallel_run\\\":false,\\\"num_procs\\\":null,\\\"enable_run_restructure\\\":false,\\\"start_auxiliary_runs_before_parent_complete\\\":false,\\\"enable_code_generation\\\":true,\\\"iterations\\\":1000,\\\"primary_metric\\\":\\\"AUC_weighted\\\",\\\"task_type\\\":\\\"classification\\\",\\\"positive_label\\\":null,\\\"data_script\\\":null,\\\"test_size\\\":0.0,\\\"test_include_predictions_only\\\":false,\\\"validation_size\\\":0.0,\\\"n_cross_validations\\\":null,\\\"y_min\\\":null,\\\"y_max\\\":null,\\\"num_classes\\\":null,\\\"featurization\\\":\\\"auto\\\",\\\"_ignore_package_version_incompatibilities\\\":false,\\\"is_timeseries\\\":false,\\\"max_cores_per_iteration\\\":-1,\\\"max_concurrent_iterations\\\":4,\\\"iteration_timeout_minutes\\\":5,\\\"mem_in_mb\\\":null,\\\"enforce_time_on_windows\\\":false,\\\"experiment_timeout_minutes\\\":20,\\\"experiment_exit_score\\\":null,\\\"partition_column_names\\\":null,\\\"whitelist_models\\\":null,\\\"blacklist_algos\\\":[\\\"TensorFlowLinearClassifier\\\",\\\"TensorFlowDNN\\\"],\\\"supported_models\\\":[\\\"KNN\\\",\\\"GradientBoosting\\\",\\\"TabnetClassifier\\\",\\\"DecisionTree\\\",\\\"LightGBM\\\",\\\"LogisticRegression\\\",\\\"TensorFlowLinearClassifier\\\",\\\"TensorFlowDNN\\\",\\\"SGD\\\",\\\"LinearSVM\\\",\\\"MultinomialNaiveBayes\\\",\\\"BernoulliNaiveBayes\\\",\\\"AveragedPerceptronClassifier\\\",\\\"SVM\\\",\\\"RandomForest\\\",\\\"ExtremeRandomTrees\\\",\\\"XGBoostClassifier\\\"],\\\"private_models\\\":[],\\\"auto_blacklist\\\":true,\\\"blacklist_samples_reached\\\":false,\\\"exclude_nan_labels\\\":true,\\\"verbosity\\\":20,\\\"_debug_log\\\":\\\"azureml_automl.log\\\",\\\"show_warnings\\\":false,\\\"model_explainability\\\":true,\\\"service_url\\\":null,\\\"sdk_url\\\":null,\\\"sdk_packages\\\":null,\\\"enable_onnx_compatible_models\\\":true,\\\"enable_split_onnx_featurizer_estimator_models\\\":false,\\\"vm_type\\\":\\\"STANDARD_D2_V2\\\",\\\"telemetry_verbosity\\\":20,\\\"send_telemetry\\\":true,\\\"enable_dnn\\\":false,\\\"scenario\\\":\\\"AutoML\\\",\\\"environment_label\\\":null,\\\"save_mlflow\\\":false,\\\"enable_categorical_indicators\\\":false,\\\"force_text_dnn\\\":false,\\\"enable_feature_sweeping\\\":false,\\\"enable_early_stopping\\\":true,\\\"early_stopping_n_iters\\\":10,\\\"arguments\\\":null,\\\"dataset_id\\\":\\\"d5b28506-e02a-490f-93f9-045d05ea6822\\\",\\\"hyperdrive_config\\\":null,\\\"validation_dataset_id\\\":null,\\\"run_source\\\":null,\\\"metrics\\\":null,\\\"enable_metric_confidence\\\":false,\\\"enable_ensembling\\\":true,\\\"enable_stack_ensembling\\\":false,\\\"ensemble_iterations\\\":15,\\\"enable_tf\\\":false,\\\"enable_subsampling\\\":null,\\\"subsample_seed\\\":null,\\\"enable_nimbusml\\\":false,\\\"enable_streaming\\\":false,\\\"force_streaming\\\":false,\\\"track_child_runs\\\":true,\\\"n_best_runs\\\":1,\\\"allowed_private_models\\\":[],\\\"label_column_name\\\":\\\"class\\\",\\\"weight_column_name\\\":null,\\\"cv_split_column_names\\\":null,\\\"enable_local_managed\\\":false,\\\"_local_managed_run_id\\\":null,\\\"cost_mode\\\":1,\\\"lag_length\\\":0,\\\"metric_operation\\\":\\\"maximize\\\",\\\"preprocess\\\":true}\", \"DataPrepJsonString\": \"{\\\\\\\"training_data\\\\\\\": {\\\\\\\"datasetId\\\\\\\": \\\\\\\"d5b28506-e02a-490f-93f9-045d05ea6822\\\\\\\"}, \\\\\\\"datasets\\\\\\\": 0}\", \"EnableSubsampling\": null, \"runTemplate\": \"AutoML\", \"azureml.runsource\": \"automl\", \"display_task_type\": \"classification\", \"dependencies_versions\": \"{\\\"azureml-dataprep-native\\\": \\\"38.0.0\\\", \\\"azureml-dataprep\\\": \\\"4.10.8\\\", \\\"azureml-dataprep-rslex\\\": \\\"2.17.12\\\", \\\"azureml-train-automl-runtime\\\": \\\"1.51.0.post2\\\", \\\"azureml-train-automl-client\\\": \\\"1.51.0.post1\\\", \\\"azureml-training-tabular\\\": \\\"1.51.0.post1\\\", \\\"azureml-automl-runtime\\\": \\\"1.51.0.post1\\\", \\\"azureml-automl-core\\\": \\\"1.51.0.post1\\\", \\\"azureml-mlflow\\\": \\\"1.51.0\\\", \\\"azureml-datadrift\\\": \\\"1.51.0\\\", \\\"azureml-pipeline\\\": \\\"1.51.0\\\", \\\"azureml-contrib-dataset\\\": \\\"1.51.0\\\", \\\"azureml-contrib-notebook\\\": \\\"1.51.0\\\", \\\"azureml-accel-models\\\": \\\"1.51.0\\\", \\\"azureml-automl-dnn-nlp\\\": \\\"1.51.0\\\", \\\"azureml-pipeline-core\\\": \\\"1.51.0\\\", \\\"azureml-responsibleai\\\": \\\"1.51.0\\\", \\\"azureml-contrib-automl-pipeline-steps\\\": \\\"1.51.0\\\", \\\"azureml-pipeline-steps\\\": \\\"1.51.0\\\", \\\"azureml-core\\\": \\\"1.51.0\\\", \\\"azureml-contrib-reinforcementlearning\\\": \\\"1.51.0\\\", \\\"azureml-contrib-server\\\": \\\"1.51.0\\\", \\\"azureml-opendatasets\\\": \\\"1.51.0\\\", \\\"azureml-contrib-services\\\": \\\"1.51.0\\\", \\\"azureml-telemetry\\\": \\\"1.51.0\\\", \\\"azureml-train-restclients-hyperdrive\\\": \\\"1.51.0\\\", \\\"azureml-interpret\\\": \\\"1.51.0\\\", \\\"azureml-train-core\\\": \\\"1.51.0\\\", \\\"azureml-tensorboard\\\": \\\"1.51.0\\\", \\\"azureml-train\\\": \\\"1.51.0\\\", \\\"azureml-contrib-pipeline-steps\\\": \\\"1.51.0\\\", \\\"azureml-explain-model\\\": \\\"1.51.0\\\", \\\"azureml-cli-common\\\": \\\"1.51.0\\\", \\\"azureml-widgets\\\": \\\"1.51.0\\\", \\\"azureml-train-automl\\\": \\\"1.51.0\\\", \\\"azureml-defaults\\\": \\\"1.51.0\\\", \\\"azureml-contrib-fairness\\\": \\\"1.51.0\\\", \\\"azureml-sdk\\\": \\\"1.51.0\\\", \\\"azureml-dataset-runtime\\\": \\\"1.51.0\\\", \\\"azureml-inference-server-http\\\": \\\"0.8.4\\\"}\", \"_aml_system_scenario_identification\": \"Remote.Parent\", \"ClientType\": \"SDK\", \"PlatformVersion\": \"DPV1\", \"environment_cpu_name\": \"AzureML-AutoML\", \"environment_cpu_label\": \"prod\", \"environment_gpu_name\": \"AzureML-AutoML-GPU\", \"environment_gpu_label\": \"prod\", \"root_attribution\": \"automl\", \"attribution\": \"AutoML\", \"Orchestrator\": \"AutoML\", \"CancelUri\": \"https://westus2.api.azureml.ms/jasmine/v1.0/subscriptions/3d1a56d2-7c81-4118-9790-f85d1acf0c77/resourceGroups/aml-quickstarts-240270/providers/Microsoft.MachineLearningServices/workspaces/quick-starts-ws-240270/experimentids/77459c27-c2a9-4474-887c-6697da6c064b/cancel/AutoML_b42a4eda-a263-4875-84da-a731c2eda8ea\", \"ClientSdkVersion\": null, \"snapshotId\": \"00000000-0000-0000-0000-000000000000\", \"SetupRunId\": \"AutoML_b42a4eda-a263-4875-84da-a731c2eda8ea_setup\", \"SetupRunContainerId\": \"dcid.AutoML_b42a4eda-a263-4875-84da-a731c2eda8ea_setup\", \"FeaturizationRunJsonPath\": \"featurizer_container.json\", \"FeaturizationRunId\": \"AutoML_b42a4eda-a263-4875-84da-a731c2eda8ea_featurize\", \"ProblemInfoJsonString\": \"{\\\"dataset_num_categorical\\\": 0, \\\"is_sparse\\\": true, \\\"subsampling\\\": false, \\\"has_extra_col\\\": true, \\\"dataset_classes\\\": 4, \\\"dataset_features\\\": 21, \\\"dataset_samples\\\": 1727, \\\"single_frequency_class_detected\\\": false}\", \"ModelExplainRunId\": \"AutoML_b42a4eda-a263-4875-84da-a731c2eda8ea_ModelExplain\"}, \"tags\": {\"model_explain_run\": \"best_run\", \"_aml_system_automl_run_workspace_id\": \"59f1b44c-878f-42fb-8d7f-35a3550e5b61\", \"_aml_system_azureml.automlComponent\": \"AutoML\", \"pipeline_id_000\": \"5dfac790c5c209f98a1da2dc1c7fb76f0397324f;c7af0367625be6ac5c2fecbfc72ed444cb7a2111;51ae05309834b29f71340af1008fc94fbd8213f4;ce2643edf3d450b10c86c7d034a9bc952dc282d3;039a99c3d5147edeb525249e2660628be3e8b83f;a3dadd95854bf6116ab454844302b51d417d78b7;9610149fbcf43017aa810a290e9c04cbe6fa8684;6f4a466f84f725a47910c1dff062a1bb46df2a21;1dfdf370ba770047b14bfa59c40920815defcdab;1e38ae92baee19b18f211a8b14c16015d5ee3dc3;dea7fdbaedc77258dbfe31dbfed41e768ca38939;294650ec23bc3d067a4972de7ceb12f6e97260fa;a7434e890cabef86b0ce4ae71fb633e1e92b854d;681a59302459aec2cc115ddbc14e1d28f4b3b8df;c74787cd2f0507b852a1ac70d504d83ac9bdec83;dd46719e1e1ca3df6e6826afb96bf9be8390e6e2;5bcf69d12307c5f0246b0d33ab19666443595ac9;79ebb3b8c385e3190e3dd4c1fa28b74730528045;208056285bd1883d5bd7d4e4e996a1c71c4b0033;a72eb56f3d4aadb7b7f0149ba6e5f05657a95ca1;5dcd9bc8a74634130a855a68c1bf956ce7160f98;ee365d2bc711bc6838929328cc4ff4b890fbc6c3;3fe9ace0255a98a01a321c2b4c6ab86f6c1db8e5;f9c4839cd35f7fe03bcc11d87a99d82f63f333dc;dfc631bbb8f3be228d228210719dafe9e4a19b00;8869edacdfa3ad38b2f434066fbe2853cfcf9234;d6b59777ec875a63efbfc0704b2e67d652730595;cb31ab559db08156dd98c227926319000538915b;f35d8030bc2a0748db692851ba4a7607dd8fa2ac;007795ca5ffea87a1693f12b05f8cb870d3b66ee;cf71293204a5516eac9176179b01cb42e8fc49a8;486a5732db2dfa5a7e3d4b6ff912a8d3e96a1d2c;4ecfd2f743c74d169630256b9ceac4a9c4573e84;1a46750e5fd9bf7473e119c8fd82453dc9f8702e;26b91522216c3294f6f339bd3d88071da57bb560;8eec30b004aa15fb41b48197f5ade583d5c93bd7;__AutoML_Ensemble__\", \"score_000\": \"0.9987787177700516;0.9985844805699463;0.969888538290578;0.9773593314998066;0.971683486477084;0.9946857986998717;0.9858968762228938;0.9745068881359656;0.9769223966151839;0.9886005147395781;0.9854617589906532;0.9903016405662504;0.9468114759781288;0.9951940756307899;0.9950593846673023;0.9943466744333511;0.9474030971080597;0.9815602792574033;0.9835541321838437;0.9956079220007723;0.9831482301723553;0.9944942408339038;0.9978869169956212;0.9299881862631394;0.988208224738333;0.9843616987981566;0.9793221921426148;0.9792744395794667;0.9954694837028665;0.9951330708377738;0.9973062385787704;0.9962586294887296;0.9973445097047877;0.9816334927788546;0.9901351917722883;0.9970210650434753;0.9988010760765071\", \"predicted_cost_000\": \"0;0;0.5;0.5;0.5;0.5;0.5;0.5;0.5;0.5;0.5;0.5;0.5;0.5;0.5;0.5;0.5;0.5;0.5;0.5;0.2403325926608579;0.08545098796930985;0.24744007199936904;0.06272860616402118;0.06878433494584682;0.13779462648520122;0.31700013102534563;0.13843156571706197;0.15557469404035124;0.09944794347341845;0.7196584520455831;0.09713553189925904;0.335897396832796;0.11377140910917624;0.09723073503945533;0.18419001763929402;0\", \"fit_time_000\": \"0.5152306666666666;0.31418233333333334;0.037934999999999997;0.05028333333333334;0.03336733333333334;0.045192;0.10406333333333333;0.04397;0.30525833333333335;0.5580713333333333;1.0184493333333333;0.08105433333333334;0.5103236666666667;0.06667566666666667;0.10952466666666666;0.06046066666666666;0.106146;0.08681766666666667;0.24116533333333334;0.4105896666666667;0.4713673333333333;0.07325999999999999;0.249839;0.03862833333333333;0.04775466666666667;0.16444366666666665;0.13950366666666666;0.051556333333333336;0.6097103333333332;0.34327233333333335;0.39608266666666664;0.08919300000000001;0.32391400000000004;0.04972033333333333;0.05956999999999999;0.12216033333333333;26\", \"training_percent_000\": \"100;100;100;100;100;100;100;100;100;100;100;100;100;100;100;100;100;100;100;100;100;100;100;100;100;100;100;100;100;100;100;100;100;100;100;100;100\", \"iteration_000\": \"0;1;2;3;4;5;15;10;6;16;11;7;17;8;12;18;9;13;19;14;20;21;22;23;24;25;26;27;28;29;30;32;31;34;35;33;36\", \"run_preprocessor_000\": \"MaxAbsScaler;MaxAbsScaler;MaxAbsScaler;MaxAbsScaler;StandardScalerWrapper;SparseNormalizer;MaxAbsScaler;SparseNormalizer;SparseNormalizer;MaxAbsScaler;MaxAbsScaler;StandardScalerWrapper;StandardScalerWrapper;SparseNormalizer;StandardScalerWrapper;StandardScalerWrapper;MaxAbsScaler;StandardScalerWrapper;MaxAbsScaler;StandardScalerWrapper;MaxAbsScaler;StandardScalerWrapper;StandardScalerWrapper;MaxAbsScaler;SparseNormalizer;MaxAbsScaler;MaxAbsScaler;StandardScalerWrapper;MaxAbsScaler;StandardScalerWrapper;SparseNormalizer;SparseNormalizer;StandardScalerWrapper;MaxAbsScaler;MaxAbsScaler;SparseNormalizer;\", \"run_algorithm_000\": \"LightGBM;XGBoostClassifier;ExtremeRandomTrees;RandomForest;LightGBM;XGBoostClassifier;LightGBM;LightGBM;RandomForest;LogisticRegression;ExtremeRandomTrees;XGBoostClassifier;ExtremeRandomTrees;XGBoostClassifier;XGBoostClassifier;XGBoostClassifier;RandomForest;ExtremeRandomTrees;ExtremeRandomTrees;RandomForest;LogisticRegression;XGBoostClassifier;XGBoostClassifier;RandomForest;XGBoostClassifier;LightGBM;LinearSVM;LightGBM;LightGBM;LightGBM;XGBoostClassifier;XGBoostClassifier;XGBoostClassifier;LogisticRegression;LightGBM;XGBoostClassifier;VotingEnsemble\", \"dynamic_allowlisting_iterations\": \"<25>;<29>;<35>;\", \"_aml_system_azureml.automl_early_exit_message\": \"No scores improved over last 10 iterations, so experiment stopped early. This early stopping behavior can be disabled by setting enable_early_stopping = False in AutoMLConfig for notebook/python SDK runs.\", \"automl_best_child_run_id\": \"AutoML_b42a4eda-a263-4875-84da-a731c2eda8ea_36\", \"model_explain_best_run_child_id\": \"AutoML_b42a4eda-a263-4875-84da-a731c2eda8ea_36\"}, \"end_time_utc\": \"2023-08-15T00:02:49.3821Z\", \"status\": \"Completed\", \"log_files\": {}, \"log_groups\": [], \"run_duration\": \"0:18:24\", \"run_number\": \"1692056665\", \"run_queued_details\": {\"status\": \"Completed\", \"details\": null}}, \"child_runs\": [{\"run_id\": \"AutoML_b42a4eda-a263-4875-84da-a731c2eda8ea_setup\", \"run_number\": 1692056678, \"metric\": null, \"status\": \"Completed\", \"run_type\": \"azureml.scriptrun\", \"training_percent\": null, \"start_time\": \"2023-08-14T23:46:52.503015Z\", \"end_time\": \"2023-08-14T23:48:47.932526Z\", \"created_time\": \"2023-08-14T23:44:38.252278Z\", \"created_time_dt\": \"2023-08-14T23:44:38.252278Z\", \"duration\": \"0:04:09\", \"iteration\": null, \"goal\": null, \"run_name\": \"Completed\", \"run_properties\": null}, {\"run_id\": \"AutoML_b42a4eda-a263-4875-84da-a731c2eda8ea_featurize\", \"run_number\": 1692056928, \"metric\": null, \"status\": \"Completed\", \"run_type\": \"automl.featurization\", \"training_percent\": null, \"start_time\": \"2023-08-14T23:48:48.531887Z\", \"end_time\": \"2023-08-14T23:49:55.096018Z\", \"created_time\": \"2023-08-14T23:48:48.191288Z\", \"created_time_dt\": \"2023-08-14T23:48:48.191288Z\", \"duration\": \"0:01:06\", \"iteration\": null, \"goal\": null, \"run_name\": \"Completed\", \"run_properties\": null}, {\"run_id\": \"AutoML_b42a4eda-a263-4875-84da-a731c2eda8ea_0\", \"run_number\": 1692056996, \"metric\": null, \"status\": \"Completed\", \"run_type\": null, \"training_percent\": \"100\", \"start_time\": \"2023-08-14T23:50:23.482218Z\", \"end_time\": \"2023-08-14T23:50:57.36313Z\", \"created_time\": \"2023-08-14T23:49:56.793356Z\", \"created_time_dt\": \"2023-08-14T23:49:56.793356Z\", \"duration\": \"0:01:00\", \"iteration\": \"0\", \"goal\": \"AUC_weighted_max\", \"run_name\": \"MaxAbsScaler, LightGBM\", \"run_properties\": \"copy=True\", \"primary_metric\": 0.99877872, \"best_metric\": 0.99877872}, {\"run_id\": \"AutoML_b42a4eda-a263-4875-84da-a731c2eda8ea_1\", \"run_number\": 1692056997, \"metric\": null, \"status\": \"Completed\", \"run_type\": null, \"training_percent\": \"100\", \"start_time\": \"2023-08-14T23:50:58.425847Z\", \"end_time\": \"2023-08-14T23:51:26.086284Z\", \"created_time\": \"2023-08-14T23:49:57.358813Z\", \"created_time_dt\": \"2023-08-14T23:49:57.358813Z\", \"duration\": \"0:01:28\", \"iteration\": \"1\", \"goal\": \"AUC_weighted_max\", \"run_name\": \"MaxAbsScaler, XGBoostClassifier\", \"run_properties\": \"copy=True\", \"primary_metric\": 0.99858448, \"best_metric\": 0.99877872}, {\"run_id\": \"AutoML_b42a4eda-a263-4875-84da-a731c2eda8ea_3\", \"run_number\": 1692056998, \"metric\": null, \"status\": \"Completed\", \"run_type\": null, \"training_percent\": \"100\", \"start_time\": \"2023-08-14T23:51:53.663001Z\", \"end_time\": \"2023-08-14T23:52:19.346422Z\", \"created_time\": \"2023-08-14T23:49:58.223677Z\", \"created_time_dt\": \"2023-08-14T23:49:58.223677Z\", \"duration\": \"0:02:21\", \"iteration\": \"3\", \"goal\": \"AUC_weighted_max\", \"run_name\": \"MaxAbsScaler, RandomForest\", \"run_properties\": \"copy=True\", \"primary_metric\": 0.97735933, \"best_metric\": 0.99877872}, {\"run_id\": \"AutoML_b42a4eda-a263-4875-84da-a731c2eda8ea_worker_0\", \"run_number\": 1692056999, \"metric\": null, \"status\": \"Completed\", \"run_type\": \"azureml.scriptrun\", \"training_percent\": null, \"start_time\": \"2023-08-14T23:50:13.521731Z\", \"end_time\": \"2023-08-14T23:52:55.985402Z\", \"created_time\": \"2023-08-14T23:49:59.046411Z\", \"created_time_dt\": \"2023-08-14T23:49:59.046411Z\", \"duration\": \"0:02:56\", \"iteration\": null, \"goal\": null, \"run_name\": \"Completed\", \"run_properties\": null}, {\"run_id\": \"AutoML_b42a4eda-a263-4875-84da-a731c2eda8ea_7\", \"run_number\": 1692057000, \"metric\": null, \"status\": \"Completed\", \"run_type\": null, \"training_percent\": \"100\", \"start_time\": \"2023-08-14T23:54:55.821999Z\", \"end_time\": \"2023-08-14T23:55:21.738664Z\", \"created_time\": \"2023-08-14T23:50:00.314887Z\", \"created_time_dt\": \"2023-08-14T23:50:00.314887Z\", \"duration\": \"0:05:21\", \"iteration\": \"7\", \"goal\": \"AUC_weighted_max\", \"run_name\": \"StandardScalerWrapper, XGBoostClassifier\", \"run_properties\": \"copy=True, with_mean=False, with_std=False\", \"primary_metric\": 0.99030164, \"best_metric\": 0.99877872}, {\"run_id\": \"AutoML_b42a4eda-a263-4875-84da-a731c2eda8ea_8\", \"run_number\": 1692057001, \"metric\": null, \"status\": \"Completed\", \"run_type\": null, \"training_percent\": \"100\", \"start_time\": \"2023-08-14T23:55:22.922315Z\", \"end_time\": \"2023-08-14T23:55:48.4379Z\", \"created_time\": \"2023-08-14T23:50:01.231636Z\", \"created_time_dt\": \"2023-08-14T23:50:01.231636Z\", \"duration\": \"0:05:47\", \"iteration\": \"8\", \"goal\": \"AUC_weighted_max\", \"run_name\": \"SparseNormalizer, XGBoostClassifier\", \"run_properties\": \"copy=True, norm='max'\", \"primary_metric\": 0.99519408, \"best_metric\": 0.99877872}, {\"run_id\": \"AutoML_b42a4eda-a263-4875-84da-a731c2eda8ea_worker_1\", \"run_number\": 1692057002, \"metric\": null, \"status\": \"Completed\", \"run_type\": \"azureml.scriptrun\", \"training_percent\": null, \"start_time\": \"2023-08-14T23:52:23.000495Z\", \"end_time\": \"2023-08-14T23:56:27.14419Z\", \"created_time\": \"2023-08-14T23:50:02.048096Z\", \"created_time_dt\": \"2023-08-14T23:50:02.048096Z\", \"duration\": \"0:06:25\", \"iteration\": null, \"goal\": null, \"run_name\": \"Completed\", \"run_properties\": null}, {\"run_id\": \"AutoML_b42a4eda-a263-4875-84da-a731c2eda8ea_12\", \"run_number\": 1692057003, \"metric\": null, \"status\": \"Completed\", \"run_type\": null, \"training_percent\": \"100\", \"start_time\": \"2023-08-14T23:55:22.266255Z\", \"end_time\": \"2023-08-14T23:55:50.842654Z\", \"created_time\": \"2023-08-14T23:50:03.070895Z\", \"created_time_dt\": \"2023-08-14T23:50:03.070895Z\", \"duration\": \"0:05:47\", \"iteration\": \"12\", \"goal\": \"AUC_weighted_max\", \"run_name\": \"StandardScalerWrapper, XGBoostClassifier\", \"run_properties\": \"copy=True, with_mean=False, with_std=False\", \"primary_metric\": 0.99505938, \"best_metric\": 0.99877872}, {\"run_id\": \"AutoML_b42a4eda-a263-4875-84da-a731c2eda8ea_worker_2\", \"run_number\": 1692057004, \"metric\": null, \"status\": \"Completed\", \"run_type\": \"azureml.scriptrun\", \"training_percent\": null, \"start_time\": \"2023-08-14T23:52:26.872905Z\", \"end_time\": \"2023-08-14T23:57:06.943785Z\", \"created_time\": \"2023-08-14T23:50:04.244488Z\", \"created_time_dt\": \"2023-08-14T23:50:04.244488Z\", \"duration\": \"0:07:02\", \"iteration\": null, \"goal\": null, \"run_name\": \"Completed\", \"run_properties\": null}, {\"run_id\": \"AutoML_b42a4eda-a263-4875-84da-a731c2eda8ea_17\", \"run_number\": 1692057005, \"metric\": null, \"status\": \"Completed\", \"run_type\": null, \"training_percent\": \"100\", \"start_time\": \"2023-08-14T23:54:59.794525Z\", \"end_time\": \"2023-08-14T23:55:28.732392Z\", \"created_time\": \"2023-08-14T23:50:05.257112Z\", \"created_time_dt\": \"2023-08-14T23:50:05.257112Z\", \"duration\": \"0:05:23\", \"iteration\": \"17\", \"goal\": \"AUC_weighted_max\", \"run_name\": \"StandardScalerWrapper, ExtremeRandomTrees\", \"run_properties\": \"copy=True, with_mean=False, with_std=True\", \"primary_metric\": 0.94681148, \"best_metric\": 0.99877872}, {\"run_id\": \"AutoML_b42a4eda-a263-4875-84da-a731c2eda8ea_worker_3\", \"run_number\": 1692057006, \"metric\": null, \"status\": \"Completed\", \"run_type\": \"azureml.scriptrun\", \"training_percent\": null, \"start_time\": \"2023-08-14T23:52:22.004972Z\", \"end_time\": \"2023-08-14T23:56:34.935011Z\", \"created_time\": \"2023-08-14T23:50:06.495036Z\", \"created_time_dt\": \"2023-08-14T23:50:06.495036Z\", \"duration\": \"0:06:28\", \"iteration\": null, \"goal\": null, \"run_name\": \"Completed\", \"run_properties\": null}, {\"run_id\": \"AutoML_b42a4eda-a263-4875-84da-a731c2eda8ea_20\", \"run_number\": 1692057381, \"metric\": null, \"status\": \"Completed\", \"run_type\": \"azureml.scriptrun\", \"training_percent\": \"100\", \"start_time\": \"2023-08-14T23:56:35.528154Z\", \"end_time\": \"2023-08-14T23:57:23.215947Z\", \"created_time\": \"2023-08-14T23:56:21.533927Z\", \"created_time_dt\": \"2023-08-14T23:56:21.533927Z\", \"duration\": \"0:01:01\", \"iteration\": \"20\", \"goal\": \"AUC_weighted_max\", \"run_name\": \"MaxAbsScaler, LogisticRegression\", \"run_properties\": \"copy=True\", \"primary_metric\": 0.98314823, \"best_metric\": 0.99877872}, {\"run_id\": \"AutoML_b42a4eda-a263-4875-84da-a731c2eda8ea_22\", \"run_number\": 1692057418, \"metric\": null, \"status\": \"Completed\", \"run_type\": \"azureml.scriptrun\", \"training_percent\": \"100\", \"start_time\": \"2023-08-14T23:57:15.013791Z\", \"end_time\": \"2023-08-14T23:58:06.137336Z\", \"created_time\": \"2023-08-14T23:56:58.225032Z\", \"created_time_dt\": \"2023-08-14T23:56:58.225032Z\", \"duration\": \"0:01:07\", \"iteration\": \"22\", \"goal\": \"AUC_weighted_max\", \"run_name\": \"StandardScalerWrapper, XGBoostClassifier\", \"run_properties\": \"copy=True, with_mean=False, with_std=False\", \"primary_metric\": 0.99788692, \"best_metric\": 0.99877872}, {\"run_id\": \"AutoML_b42a4eda-a263-4875-84da-a731c2eda8ea_24\", \"run_number\": 1692057446, \"metric\": null, \"status\": \"Completed\", \"run_type\": \"azureml.scriptrun\", \"training_percent\": \"100\", \"start_time\": \"2023-08-14T23:57:36.897691Z\", \"end_time\": \"2023-08-14T23:58:21.66628Z\", \"created_time\": \"2023-08-14T23:57:26.61512Z\", \"created_time_dt\": \"2023-08-14T23:57:26.61512Z\", \"duration\": \"0:00:55\", \"iteration\": \"24\", \"goal\": \"AUC_weighted_max\", \"run_name\": \"SparseNormalizer, XGBoostClassifier\", \"run_properties\": \"copy=True, norm='max'\", \"primary_metric\": 0.98820822, \"best_metric\": 0.99877872}, {\"run_id\": \"AutoML_b42a4eda-a263-4875-84da-a731c2eda8ea_25\", \"run_number\": 1692057481, \"metric\": null, \"status\": \"Completed\", \"run_type\": \"azureml.scriptrun\", \"training_percent\": \"100\", \"start_time\": \"2023-08-14T23:58:12.793698Z\", \"end_time\": \"2023-08-14T23:58:59.032024Z\", \"created_time\": \"2023-08-14T23:58:01.035988Z\", \"created_time_dt\": \"2023-08-14T23:58:01.035988Z\", \"duration\": \"0:00:57\", \"iteration\": \"25\", \"goal\": \"AUC_weighted_max\", \"run_name\": \"MaxAbsScaler, LightGBM\", \"run_properties\": \"copy=True\", \"primary_metric\": 0.9843617, \"best_metric\": 0.99877872}, {\"run_id\": \"AutoML_b42a4eda-a263-4875-84da-a731c2eda8ea_26\", \"run_number\": 1692057487, \"metric\": null, \"status\": \"Completed\", \"run_type\": \"azureml.scriptrun\", \"training_percent\": \"100\", \"start_time\": \"2023-08-14T23:58:15.237121Z\", \"end_time\": \"2023-08-14T23:58:59.268691Z\", \"created_time\": \"2023-08-14T23:58:07.698492Z\", \"created_time_dt\": \"2023-08-14T23:58:07.698492Z\", \"duration\": \"0:00:51\", \"iteration\": \"26\", \"goal\": \"AUC_weighted_max\", \"run_name\": \"MaxAbsScaler, LinearSVM\", \"run_properties\": \"copy=True\", \"primary_metric\": 0.97932219, \"best_metric\": 0.99877872}, {\"run_id\": \"AutoML_b42a4eda-a263-4875-84da-a731c2eda8ea_27\", \"run_number\": 1692057502, \"metric\": null, \"status\": \"Completed\", \"run_type\": \"azureml.scriptrun\", \"training_percent\": \"100\", \"start_time\": \"2023-08-14T23:58:31.517963Z\", \"end_time\": \"2023-08-14T23:59:16.965557Z\", \"created_time\": \"2023-08-14T23:58:22.27251Z\", \"created_time_dt\": \"2023-08-14T23:58:22.27251Z\", \"duration\": \"0:00:54\", \"iteration\": \"27\", \"goal\": \"AUC_weighted_max\", \"run_name\": \"StandardScalerWrapper, LightGBM\", \"run_properties\": \"copy=True, with_mean=False, with_std=True\", \"primary_metric\": 0.97927444, \"best_metric\": 0.99877872}, {\"run_id\": \"AutoML_b42a4eda-a263-4875-84da-a731c2eda8ea_28\", \"run_number\": 1692057505, \"metric\": null, \"status\": \"Completed\", \"run_type\": \"azureml.scriptrun\", \"training_percent\": \"100\", \"start_time\": \"2023-08-14T23:58:33.476213Z\", \"end_time\": \"2023-08-14T23:59:21.90062Z\", \"created_time\": \"2023-08-14T23:58:25.285121Z\", \"created_time_dt\": \"2023-08-14T23:58:25.285121Z\", \"duration\": \"0:00:56\", \"iteration\": \"28\", \"goal\": \"AUC_weighted_max\", \"run_name\": \"MaxAbsScaler, LightGBM\", \"run_properties\": \"copy=True\", \"primary_metric\": 0.99546948, \"best_metric\": 0.99877872}, {\"run_id\": \"AutoML_b42a4eda-a263-4875-84da-a731c2eda8ea_30\", \"run_number\": 1692057542, \"metric\": null, \"status\": \"Completed\", \"run_type\": \"azureml.scriptrun\", \"training_percent\": \"100\", \"start_time\": \"2023-08-14T23:59:11.498673Z\", \"end_time\": \"2023-08-15T00:00:04.144651Z\", \"created_time\": \"2023-08-14T23:59:02.270072Z\", \"created_time_dt\": \"2023-08-14T23:59:02.270072Z\", \"duration\": \"0:01:01\", \"iteration\": \"30\", \"goal\": \"AUC_weighted_max\", \"run_name\": \"SparseNormalizer, XGBoostClassifier\", \"run_properties\": \"copy=True, norm='max'\", \"primary_metric\": 0.99730624, \"best_metric\": 0.99877872}, {\"run_id\": \"AutoML_b42a4eda-a263-4875-84da-a731c2eda8ea_31\", \"run_number\": 1692057558, \"metric\": null, \"status\": \"Completed\", \"run_type\": \"azureml.scriptrun\", \"training_percent\": \"100\", \"start_time\": \"2023-08-14T23:59:27.629981Z\", \"end_time\": \"2023-08-15T00:01:16.301722Z\", \"created_time\": \"2023-08-14T23:59:18.819678Z\", \"created_time_dt\": \"2023-08-14T23:59:18.819678Z\", \"duration\": \"0:01:57\", \"iteration\": \"31\", \"goal\": \"AUC_weighted_max\", \"run_name\": \"StandardScalerWrapper, XGBoostClassifier\", \"run_properties\": \"copy=True, with_mean=False, with_std=False\", \"primary_metric\": 0.99734451, \"best_metric\": 0.99877872}, {\"run_id\": \"AutoML_b42a4eda-a263-4875-84da-a731c2eda8ea_32\", \"run_number\": 1692057563, \"metric\": null, \"status\": \"Completed\", \"run_type\": \"azureml.scriptrun\", \"training_percent\": \"100\", \"start_time\": \"2023-08-14T23:59:31.110225Z\", \"end_time\": \"2023-08-15T00:00:18.729059Z\", \"created_time\": \"2023-08-14T23:59:23.766269Z\", \"created_time_dt\": \"2023-08-14T23:59:23.766269Z\", \"duration\": \"0:00:54\", \"iteration\": \"32\", \"goal\": \"AUC_weighted_max\", \"run_name\": \"SparseNormalizer, XGBoostClassifier\", \"run_properties\": \"copy=True, norm='max'\", \"primary_metric\": 0.99625863, \"best_metric\": 0.99877872}, {\"run_id\": \"AutoML_b42a4eda-a263-4875-84da-a731c2eda8ea_33\", \"run_number\": 1692057601, \"metric\": null, \"status\": \"Canceled\", \"run_type\": \"azureml.scriptrun\", \"training_percent\": \"100\", \"start_time\": \"2023-08-15T00:00:54.344931Z\", \"end_time\": \"2023-08-15T00:01:20.565915Z\", \"created_time\": \"2023-08-15T00:00:01.945735Z\", \"created_time_dt\": \"2023-08-15T00:00:01.945735Z\", \"duration\": \"0:01:18\", \"iteration\": \"33\", \"goal\": \"AUC_weighted_max\", \"run_name\": \"SparseNormalizer, XGBoostClassifier\", \"run_properties\": \"copy=True, norm='max'\", \"primary_metric\": 0.99702107, \"best_metric\": 0.99877872}, {\"run_id\": \"AutoML_b42a4eda-a263-4875-84da-a731c2eda8ea_34\", \"run_number\": 1692057606, \"metric\": null, \"status\": \"Completed\", \"run_type\": \"azureml.scriptrun\", \"training_percent\": \"100\", \"start_time\": \"2023-08-15T00:00:18.834487Z\", \"end_time\": \"2023-08-15T00:01:17.987481Z\", \"created_time\": \"2023-08-15T00:00:06.007273Z\", \"created_time_dt\": \"2023-08-15T00:00:06.007273Z\", \"duration\": \"0:01:11\", \"iteration\": \"34\", \"goal\": \"AUC_weighted_max\", \"run_name\": \"MaxAbsScaler, LogisticRegression\", \"run_properties\": \"copy=True\", \"primary_metric\": 0.98163349, \"best_metric\": 0.99877872}, {\"run_id\": \"AutoML_b42a4eda-a263-4875-84da-a731c2eda8ea_35\", \"run_number\": 1692057622, \"metric\": null, \"status\": \"Canceled\", \"run_type\": \"azureml.scriptrun\", \"training_percent\": \"100\", \"start_time\": \"2023-08-15T00:01:12.538997Z\", \"end_time\": \"2023-08-15T00:01:20.178324Z\", \"created_time\": \"2023-08-15T00:00:22.80779Z\", \"created_time_dt\": \"2023-08-15T00:00:22.80779Z\", \"duration\": \"0:00:57\", \"iteration\": \"35\", \"goal\": \"AUC_weighted_max\", \"run_name\": \"MaxAbsScaler, LightGBM\", \"run_properties\": \"copy=True\", \"primary_metric\": 0.99013519, \"best_metric\": 0.99877872}, {\"run_id\": \"AutoML_b42a4eda-a263-4875-84da-a731c2eda8ea_36\", \"run_number\": 1692057681, \"metric\": null, \"status\": \"Completed\", \"run_type\": \"azureml.scriptrun\", \"training_percent\": \"100\", \"start_time\": \"2023-08-15T00:01:35.222127Z\", \"end_time\": \"2023-08-15T00:02:47.875328Z\", \"created_time\": \"2023-08-15T00:01:21.555557Z\", \"created_time_dt\": \"2023-08-15T00:01:21.555557Z\", \"duration\": \"0:01:26\", \"iteration\": \"36\", \"goal\": \"AUC_weighted_max\", \"run_name\": \"VotingEnsemble\", \"run_properties\": \"classification_labels=numpy.array([0, 1, 2, 3]\", \"primary_metric\": 0.99880108, \"best_metric\": 0.99880108}], \"children_metrics\": {\"categories\": [0], \"series\": {\"recall_score_weighted\": [{\"categories\": [\"0\", \"1\", \"3\", \"7\", \"8\", \"12\", \"17\", \"20\", \"22\", \"24\", \"25\", \"26\", \"27\", \"28\", \"30\", \"31\", \"32\", \"33\", \"34\", \"35\", \"36\"], \"mode\": \"markers\", \"name\": \"recall_score_weighted\", \"stepped\": false, \"type\": \"scatter\", \"data\": [0.9826328502415459, 0.9745229468599034, 0.8604488727858293, 0.9200905797101449, 0.9594625603864735, 0.9438295088566827, 0.8083705716586151, 0.8963506441223833, 0.9646769323671497, 0.9009782608695652, 0.8998188405797102, 0.8691243961352657, 0.8720289855072464, 0.9449849033816425, 0.958887882447665, 0.9617824074074074, 0.9496235909822867, 0.9600473027375201, 0.8946105072463769, 0.9032971014492753, 0.9820531400966184]}, {\"categories\": [\"0\", \"1\", \"3\", \"7\", \"8\", \"12\", \"17\", \"20\", \"22\", \"24\", \"25\", \"26\", \"27\", \"28\", \"30\", \"31\", \"32\", \"33\", \"34\", \"35\", \"36\"], \"mode\": \"lines\", \"name\": \"recall_score_weighted_max\", \"stepped\": true, \"type\": \"scatter\", \"data\": [0.9826328502415459, 0.9826328502415459, 0.9826328502415459, 0.9826328502415459, 0.9826328502415459, 0.9826328502415459, 0.9826328502415459, 0.9826328502415459, 0.9826328502415459, 0.9826328502415459, 0.9826328502415459, 0.9826328502415459, 0.9826328502415459, 0.9826328502415459, 0.9826328502415459, 0.9826328502415459, 0.9826328502415459, 0.9826328502415459, 0.9826328502415459, 0.9826328502415459, 0.9826328502415459]}], \"AUC_weighted\": [{\"categories\": [\"0\", \"1\", \"3\", \"7\", \"8\", \"12\", \"17\", \"20\", \"22\", \"24\", \"25\", \"26\", \"27\", \"28\", \"30\", \"31\", \"32\", \"33\", \"34\", \"35\", \"36\"], \"mode\": \"markers\", \"name\": \"AUC_weighted\", \"stepped\": false, \"type\": \"scatter\", \"data\": [0.9987787177700516, 0.9985844805699463, 0.9773593314998066, 0.9903016405662504, 0.9951940756307899, 0.9950593846673023, 0.9468114759781288, 0.9831482301723553, 0.9978869169956212, 0.988208224738333, 0.9843616987981566, 0.9793221921426148, 0.9792744395794667, 0.9954694837028665, 0.9973062385787704, 0.9973445097047877, 0.9962586294887296, 0.9970210650434753, 0.9816334927788546, 0.9901351917722883, 0.9988010760765071]}, {\"categories\": [\"0\", \"1\", \"3\", \"7\", \"8\", \"12\", \"17\", \"20\", \"22\", \"24\", \"25\", \"26\", \"27\", \"28\", \"30\", \"31\", \"32\", \"33\", \"34\", \"35\", \"36\"], \"mode\": \"lines\", \"name\": \"AUC_weighted_max\", \"stepped\": true, \"type\": \"scatter\", \"data\": [0.9987787177700516, 0.9987787177700516, 0.9987787177700516, 0.9987787177700516, 0.9987787177700516, 0.9987787177700516, 0.9987787177700516, 0.9987787177700516, 0.9987787177700516, 0.9987787177700516, 0.9987787177700516, 0.9987787177700516, 0.9987787177700516, 0.9987787177700516, 0.9987787177700516, 0.9987787177700516, 0.9987787177700516, 0.9987787177700516, 0.9987787177700516, 0.9987787177700516, 0.9988010760765071]}], \"f1_score_macro\": [{\"categories\": [\"0\", \"1\", \"3\", \"7\", \"8\", \"12\", \"17\", \"20\", \"22\", \"24\", \"25\", \"26\", \"27\", \"28\", \"30\", \"31\", \"32\", \"33\", \"34\", \"35\", \"36\"], \"mode\": \"markers\", \"name\": \"f1_score_macro\", \"stepped\": false, \"type\": \"scatter\", \"data\": [0.964149597555385, 0.9251776219560934, 0.45776272090869435, 0.7567181532169786, 0.8831152693046381, 0.8374192846703742, 0.6864594388570108, 0.7385695750165082, 0.8808073538674682, 0.6591257545457647, 0.5778162784777565, 0.631900125924859, 0.5575485754866768, 0.8147141348515197, 0.8731950286305389, 0.8760270241128888, 0.8424683922819782, 0.8695524789707413, 0.7929375553784679, 0.6104902829616393, 0.9598998893883487]}, {\"categories\": [\"0\", \"1\", \"3\", \"7\", \"8\", \"12\", \"17\", \"20\", \"22\", \"24\", \"25\", \"26\", \"27\", \"28\", \"30\", \"31\", \"32\", \"33\", \"34\", \"35\", \"36\"], \"mode\": \"lines\", \"name\": \"f1_score_macro_max\", \"stepped\": true, \"type\": \"scatter\", \"data\": [0.964149597555385, 0.964149597555385, 0.964149597555385, 0.964149597555385, 0.964149597555385, 0.964149597555385, 0.964149597555385, 0.964149597555385, 0.964149597555385, 0.964149597555385, 0.964149597555385, 0.964149597555385, 0.964149597555385, 0.964149597555385, 0.964149597555385, 0.964149597555385, 0.964149597555385, 0.964149597555385, 0.964149597555385, 0.964149597555385, 0.964149597555385]}], \"norm_macro_recall\": [{\"categories\": [\"0\", \"1\", \"3\", \"7\", \"8\", \"12\", \"17\", \"20\", \"22\", \"24\", \"25\", \"26\", \"27\", \"28\", \"30\", \"31\", \"32\", \"33\", \"34\", \"35\", \"36\"], \"mode\": \"markers\", \"name\": \"norm_macro_recall\", \"stepped\": false, \"type\": \"scatter\", \"data\": [0.9499730752545248, 0.8890603715593312, 0.29195799115342613, 0.6261163624759799, 0.838407543445968, 0.7789343501487721, 0.7532073749292639, 0.635288921865503, 0.8323731758421764, 0.5403795643091825, 0.41854751598416623, 0.4570069892343098, 0.38736570078031435, 0.734925894064268, 0.8315520047375188, 0.8236137991753193, 0.777812632940858, 0.8274868663031185, 0.7810039756680475, 0.4643725637473853, 0.9413363948552544]}, {\"categories\": [\"0\", \"1\", \"3\", \"7\", \"8\", \"12\", \"17\", \"20\", \"22\", \"24\", \"25\", \"26\", \"27\", \"28\", \"30\", \"31\", \"32\", \"33\", \"34\", \"35\", \"36\"], \"mode\": \"lines\", \"name\": \"norm_macro_recall_max\", \"stepped\": true, \"type\": \"scatter\", \"data\": [0.9499730752545248, 0.9499730752545248, 0.9499730752545248, 0.9499730752545248, 0.9499730752545248, 0.9499730752545248, 0.9499730752545248, 0.9499730752545248, 0.9499730752545248, 0.9499730752545248, 0.9499730752545248, 0.9499730752545248, 0.9499730752545248, 0.9499730752545248, 0.9499730752545248, 0.9499730752545248, 0.9499730752545248, 0.9499730752545248, 0.9499730752545248, 0.9499730752545248, 0.9499730752545248]}], \"average_precision_score_weighted\": [{\"categories\": [\"0\", \"1\", \"3\", \"7\", \"8\", \"12\", \"17\", \"20\", \"22\", \"24\", \"25\", \"26\", \"27\", \"28\", \"30\", \"31\", \"32\", \"33\", \"34\", \"35\", \"36\"], \"mode\": \"markers\", \"name\": \"average_precision_score_weighted\", \"stepped\": false, \"type\": \"scatter\", \"data\": [0.9971952408718546, 0.9938709142358589, 0.9341568432326842, 0.9659227898101633, 0.9820299106875705, 0.9790901776114646, 0.8773837793242952, 0.9482571600244548, 0.9878472810691968, 0.958208274891981, 0.9432958421512626, 0.9388335190482365, 0.9292464953291333, 0.9771629572954965, 0.9857650554396522, 0.9869885049696974, 0.9827429276226057, 0.9839539106476711, 0.956711389582405, 0.9611834495338637, 0.9966761822366842]}, {\"categories\": [\"0\", \"1\", \"3\", \"7\", \"8\", \"12\", \"17\", \"20\", \"22\", \"24\", \"25\", \"26\", \"27\", \"28\", \"30\", \"31\", \"32\", \"33\", \"34\", \"35\", \"36\"], \"mode\": \"lines\", \"name\": \"average_precision_score_weighted_max\", \"stepped\": true, \"type\": \"scatter\", \"data\": [0.9971952408718546, 0.9971952408718546, 0.9971952408718546, 0.9971952408718546, 0.9971952408718546, 0.9971952408718546, 0.9971952408718546, 0.9971952408718546, 0.9971952408718546, 0.9971952408718546, 0.9971952408718546, 0.9971952408718546, 0.9971952408718546, 0.9971952408718546, 0.9971952408718546, 0.9971952408718546, 0.9971952408718546, 0.9971952408718546, 0.9971952408718546, 0.9971952408718546, 0.9971952408718546]}], \"matthews_correlation\": [{\"categories\": [\"0\", \"1\", \"3\", \"7\", \"8\", \"12\", \"17\", \"20\", \"22\", \"24\", \"25\", \"26\", \"27\", \"28\", \"30\", \"31\", \"32\", \"33\", \"34\", \"35\", \"36\"], \"mode\": \"markers\", \"name\": \"matthews_correlation\", \"stepped\": false, \"type\": \"scatter\", \"data\": [0.9624785282073072, 0.9452927806062396, 0.6884735602464067, 0.8233739918931319, 0.9135149310857424, 0.8799914023886655, 0.6441446966661033, 0.7742460037142376, 0.923626740409775, 0.7918125030158333, 0.7860898955541314, 0.7074867438763013, 0.7150084478874882, 0.880951658498425, 0.9119385768726298, 0.9174770285708537, 0.8915085533753963, 0.9135390949861977, 0.7901731274326048, 0.783951532241398, 0.9612778799373269]}, {\"categories\": [\"0\", \"1\", \"3\", \"7\", \"8\", \"12\", \"17\", \"20\", \"22\", \"24\", \"25\", \"26\", \"27\", \"28\", \"30\", \"31\", \"32\", \"33\", \"34\", \"35\", \"36\"], \"mode\": \"lines\", \"name\": \"matthews_correlation_max\", \"stepped\": true, \"type\": \"scatter\", \"data\": [0.9624785282073072, 0.9624785282073072, 0.9624785282073072, 0.9624785282073072, 0.9624785282073072, 0.9624785282073072, 0.9624785282073072, 0.9624785282073072, 0.9624785282073072, 0.9624785282073072, 0.9624785282073072, 0.9624785282073072, 0.9624785282073072, 0.9624785282073072, 0.9624785282073072, 0.9624785282073072, 0.9624785282073072, 0.9624785282073072, 0.9624785282073072, 0.9624785282073072, 0.9624785282073072]}], \"recall_score_micro\": [{\"categories\": [\"0\", \"1\", \"3\", \"7\", \"8\", \"12\", \"17\", \"20\", \"22\", \"24\", \"25\", \"26\", \"27\", \"28\", \"30\", \"31\", \"32\", \"33\", \"34\", \"35\", \"36\"], \"mode\": \"markers\", \"name\": \"recall_score_micro\", \"stepped\": false, \"type\": \"scatter\", \"data\": [0.9826328502415459, 0.9745229468599034, 0.8604488727858293, 0.9200905797101449, 0.9594625603864735, 0.9438295088566827, 0.8083705716586151, 0.8963506441223833, 0.9646769323671497, 0.9009782608695652, 0.8998188405797102, 0.8691243961352657, 0.8720289855072464, 0.9449849033816425, 0.958887882447665, 0.9617824074074074, 0.9496235909822867, 0.9600473027375201, 0.8946105072463769, 0.9032971014492753, 0.9820531400966184]}, {\"categories\": [\"0\", \"1\", \"3\", \"7\", \"8\", \"12\", \"17\", \"20\", \"22\", \"24\", \"25\", \"26\", \"27\", \"28\", \"30\", \"31\", \"32\", \"33\", \"34\", \"35\", \"36\"], \"mode\": \"lines\", \"name\": \"recall_score_micro_max\", \"stepped\": true, \"type\": \"scatter\", \"data\": [0.9826328502415459, 0.9826328502415459, 0.9826328502415459, 0.9826328502415459, 0.9826328502415459, 0.9826328502415459, 0.9826328502415459, 0.9826328502415459, 0.9826328502415459, 0.9826328502415459, 0.9826328502415459, 0.9826328502415459, 0.9826328502415459, 0.9826328502415459, 0.9826328502415459, 0.9826328502415459, 0.9826328502415459, 0.9826328502415459, 0.9826328502415459, 0.9826328502415459, 0.9826328502415459]}], \"AUC_micro\": [{\"categories\": [\"0\", \"1\", \"3\", \"7\", \"8\", \"12\", \"17\", \"20\", \"22\", \"24\", \"25\", \"26\", \"27\", \"28\", \"30\", \"31\", \"32\", \"33\", \"34\", \"35\", \"36\"], \"mode\": \"markers\", \"name\": \"AUC_micro\", \"stepped\": false, \"type\": \"scatter\", \"data\": [0.9994114807837794, 0.9991558370400272, 0.9820867173410228, 0.9924035654557931, 0.9972588644356897, 0.9965597286218757, 0.9713959563539585, 0.9893577630865317, 0.9986241843166637, 0.9910910717227536, 0.9872568291645841, 0.9868663273381607, 0.9853932114070713, 0.9969296912032499, 0.9981867370241607, 0.998246367226295, 0.9972376312040376, 0.9980446843200266, 0.9872808696779559, 0.9879950964514276, 0.9993404462705842]}, {\"categories\": [\"0\", \"1\", \"3\", \"7\", \"8\", \"12\", \"17\", \"20\", \"22\", \"24\", \"25\", \"26\", \"27\", \"28\", \"30\", \"31\", \"32\", \"33\", \"34\", \"35\", \"36\"], \"mode\": \"lines\", \"name\": \"AUC_micro_max\", \"stepped\": true, \"type\": \"scatter\", \"data\": [0.9994114807837794, 0.9994114807837794, 0.9994114807837794, 0.9994114807837794, 0.9994114807837794, 0.9994114807837794, 0.9994114807837794, 0.9994114807837794, 0.9994114807837794, 0.9994114807837794, 0.9994114807837794, 0.9994114807837794, 0.9994114807837794, 0.9994114807837794, 0.9994114807837794, 0.9994114807837794, 0.9994114807837794, 0.9994114807837794, 0.9994114807837794, 0.9994114807837794, 0.9994114807837794]}], \"f1_score_weighted\": [{\"categories\": [\"0\", \"1\", \"3\", \"7\", \"8\", \"12\", \"17\", \"20\", \"22\", \"24\", \"25\", \"26\", \"27\", \"28\", \"30\", \"31\", \"32\", \"33\", \"34\", \"35\", \"36\"], \"mode\": \"markers\", \"name\": \"f1_score_weighted\", \"stepped\": false, \"type\": \"scatter\", \"data\": [0.9824728186538567, 0.9736915743863946, 0.8344496451935082, 0.9143430192339812, 0.9582430259521902, 0.943008474875643, 0.8301090762595459, 0.8934263162325071, 0.9636496753613186, 0.8910378631136036, 0.882479612280055, 0.8611059392751096, 0.8550342047008059, 0.9435569063547188, 0.9580409929157985, 0.9606626119455354, 0.9484264030299494, 0.959109380195318, 0.8966471752103512, 0.8845111020840073, 0.9817880661569424]}, {\"categories\": [\"0\", \"1\", \"3\", \"7\", \"8\", \"12\", \"17\", \"20\", \"22\", \"24\", \"25\", \"26\", \"27\", \"28\", \"30\", \"31\", \"32\", \"33\", \"34\", \"35\", \"36\"], \"mode\": \"lines\", \"name\": \"f1_score_weighted_max\", \"stepped\": true, \"type\": \"scatter\", \"data\": [0.9824728186538567, 0.9824728186538567, 0.9824728186538567, 0.9824728186538567, 0.9824728186538567, 0.9824728186538567, 0.9824728186538567, 0.9824728186538567, 0.9824728186538567, 0.9824728186538567, 0.9824728186538567, 0.9824728186538567, 0.9824728186538567, 0.9824728186538567, 0.9824728186538567, 0.9824728186538567, 0.9824728186538567, 0.9824728186538567, 0.9824728186538567, 0.9824728186538567, 0.9824728186538567]}], \"precision_score_macro\": [{\"categories\": [\"0\", \"1\", \"3\", \"7\", \"8\", \"12\", \"17\", \"20\", \"22\", \"24\", \"25\", \"26\", \"27\", \"28\", \"30\", \"31\", \"32\", \"33\", \"34\", \"35\", \"36\"], \"mode\": \"markers\", \"name\": \"precision_score_macro\", \"stepped\": false, \"type\": \"scatter\", \"data\": [0.9692311328293718, 0.940715463323165, 0.6483648812964434, 0.8526721074111393, 0.9008590712021228, 0.8491955339331542, 0.6477496403943256, 0.7650065324863927, 0.8920424855991972, 0.7391728412187409, 0.7275463479139695, 0.7524388121531963, 0.6480094069849959, 0.8372165007099461, 0.8769267165426666, 0.8910387833562087, 0.8600094122621816, 0.8781981756542908, 0.7970732719451986, 0.6514829130553247, 0.9682425796065454]}, {\"categories\": [\"0\", \"1\", \"3\", \"7\", \"8\", \"12\", \"17\", \"20\", \"22\", \"24\", \"25\", \"26\", \"27\", \"28\", \"30\", \"31\", \"32\", \"33\", \"34\", \"35\", \"36\"], \"mode\": \"lines\", \"name\": \"precision_score_macro_max\", \"stepped\": true, \"type\": \"scatter\", \"data\": [0.9692311328293718, 0.9692311328293718, 0.9692311328293718, 0.9692311328293718, 0.9692311328293718, 0.9692311328293718, 0.9692311328293718, 0.9692311328293718, 0.9692311328293718, 0.9692311328293718, 0.9692311328293718, 0.9692311328293718, 0.9692311328293718, 0.9692311328293718, 0.9692311328293718, 0.9692311328293718, 0.9692311328293718, 0.9692311328293718, 0.9692311328293718, 0.9692311328293718, 0.9692311328293718]}], \"balanced_accuracy\": [{\"categories\": [\"0\", \"1\", \"3\", \"7\", \"8\", \"12\", \"17\", \"20\", \"22\", \"24\", \"25\", \"26\", \"27\", \"28\", \"30\", \"31\", \"32\", \"33\", \"34\", \"35\", \"36\"], \"mode\": \"markers\", \"name\": \"balanced_accuracy\", \"stepped\": false, \"type\": \"scatter\", \"data\": [0.9624798064408936, 0.9167952786694985, 0.46896849336506957, 0.719587271856985, 0.878805657584476, 0.8342007626115792, 0.8149055311969481, 0.7264666913991272, 0.8742798818816322, 0.655284673231887, 0.5639106369881246, 0.5927552419257324, 0.5405242755852357, 0.8011944205482009, 0.873664003553139, 0.8677103493814894, 0.8333594747056434, 0.8706151497273389, 0.8357529817510355, 0.5982794228105389, 0.9560022961414408]}, {\"categories\": [\"0\", \"1\", \"3\", \"7\", \"8\", \"12\", \"17\", \"20\", \"22\", \"24\", \"25\", \"26\", \"27\", \"28\", \"30\", \"31\", \"32\", \"33\", \"34\", \"35\", \"36\"], \"mode\": \"lines\", \"name\": \"balanced_accuracy_max\", \"stepped\": true, \"type\": \"scatter\", \"data\": [0.9624798064408936, 0.9624798064408936, 0.9624798064408936, 0.9624798064408936, 0.9624798064408936, 0.9624798064408936, 0.9624798064408936, 0.9624798064408936, 0.9624798064408936, 0.9624798064408936, 0.9624798064408936, 0.9624798064408936, 0.9624798064408936, 0.9624798064408936, 0.9624798064408936, 0.9624798064408936, 0.9624798064408936, 0.9624798064408936, 0.9624798064408936, 0.9624798064408936, 0.9624798064408936]}], \"precision_score_weighted\": [{\"categories\": [\"0\", \"1\", \"3\", \"7\", \"8\", \"12\", \"17\", \"20\", \"22\", \"24\", \"25\", \"26\", \"27\", \"28\", \"30\", \"31\", \"32\", \"33\", \"34\", \"35\", \"36\"], \"mode\": \"markers\", \"name\": \"precision_score_weighted\", \"stepped\": false, \"type\": \"scatter\", \"data\": [0.9832159651814981, 0.974495281780274, 0.8439189776239572, 0.9192829256903713, 0.9601521049598932, 0.9447029864605949, 0.8730732523104189, 0.8938932084921257, 0.9637132960382512, 0.900224417541267, 0.893486479642517, 0.8674494438108412, 0.8525373586983992, 0.9444658397346669, 0.9584655362724712, 0.9611518202798123, 0.9495112551294875, 0.9601005885709376, 0.9131751986621696, 0.8727622392239477, 0.9825865565863464]}, {\"categories\": [\"0\", \"1\", \"3\", \"7\", \"8\", \"12\", \"17\", \"20\", \"22\", \"24\", \"25\", \"26\", \"27\", \"28\", \"30\", \"31\", \"32\", \"33\", \"34\", \"35\", \"36\"], \"mode\": \"lines\", \"name\": \"precision_score_weighted_max\", \"stepped\": true, \"type\": \"scatter\", \"data\": [0.9832159651814981, 0.9832159651814981, 0.9832159651814981, 0.9832159651814981, 0.9832159651814981, 0.9832159651814981, 0.9832159651814981, 0.9832159651814981, 0.9832159651814981, 0.9832159651814981, 0.9832159651814981, 0.9832159651814981, 0.9832159651814981, 0.9832159651814981, 0.9832159651814981, 0.9832159651814981, 0.9832159651814981, 0.9832159651814981, 0.9832159651814981, 0.9832159651814981, 0.9832159651814981]}], \"f1_score_micro\": [{\"categories\": [\"0\", \"1\", \"3\", \"7\", \"8\", \"12\", \"17\", \"20\", \"22\", \"24\", \"25\", \"26\", \"27\", \"28\", \"30\", \"31\", \"32\", \"33\", \"34\", \"35\", \"36\"], \"mode\": \"markers\", \"name\": \"f1_score_micro\", \"stepped\": false, \"type\": \"scatter\", \"data\": [0.9826328502415459, 0.9745229468599034, 0.8604488727858293, 0.9200905797101449, 0.9594625603864735, 0.9438295088566827, 0.808370571658615, 0.8963506441223833, 0.9646769323671497, 0.9009782608695652, 0.8998188405797102, 0.8691243961352657, 0.8720289855072464, 0.9449849033816425, 0.958887882447665, 0.9617824074074074, 0.9496235909822867, 0.9600473027375201, 0.8946105072463769, 0.9032971014492753, 0.9820531400966184]}, {\"categories\": [\"0\", \"1\", \"3\", \"7\", \"8\", \"12\", \"17\", \"20\", \"22\", \"24\", \"25\", \"26\", \"27\", \"28\", \"30\", \"31\", \"32\", \"33\", \"34\", \"35\", \"36\"], \"mode\": \"lines\", \"name\": \"f1_score_micro_max\", \"stepped\": true, \"type\": \"scatter\", \"data\": [0.9826328502415459, 0.9826328502415459, 0.9826328502415459, 0.9826328502415459, 0.9826328502415459, 0.9826328502415459, 0.9826328502415459, 0.9826328502415459, 0.9826328502415459, 0.9826328502415459, 0.9826328502415459, 0.9826328502415459, 0.9826328502415459, 0.9826328502415459, 0.9826328502415459, 0.9826328502415459, 0.9826328502415459, 0.9826328502415459, 0.9826328502415459, 0.9826328502415459, 0.9826328502415459]}], \"recall_score_macro\": [{\"categories\": [\"0\", \"1\", \"3\", \"7\", \"8\", \"12\", \"17\", \"20\", \"22\", \"24\", \"25\", \"26\", \"27\", \"28\", \"30\", \"31\", \"32\", \"33\", \"34\", \"35\", \"36\"], \"mode\": \"markers\", \"name\": \"recall_score_macro\", \"stepped\": false, \"type\": \"scatter\", \"data\": [0.9624798064408936, 0.9167952786694985, 0.46896849336506957, 0.719587271856985, 0.878805657584476, 0.8342007626115792, 0.8149055311969481, 0.7264666913991272, 0.8742798818816322, 0.655284673231887, 0.5639106369881246, 0.5927552419257324, 0.5405242755852357, 0.8011944205482009, 0.873664003553139, 0.8677103493814894, 0.8333594747056434, 0.8706151497273389, 0.8357529817510355, 0.5982794228105389, 0.9560022961414408]}, {\"categories\": [\"0\", \"1\", \"3\", \"7\", \"8\", \"12\", \"17\", \"20\", \"22\", \"24\", \"25\", \"26\", \"27\", \"28\", \"30\", \"31\", \"32\", \"33\", \"34\", \"35\", \"36\"], \"mode\": \"lines\", \"name\": \"recall_score_macro_max\", \"stepped\": true, \"type\": \"scatter\", \"data\": [0.9624798064408936, 0.9624798064408936, 0.9624798064408936, 0.9624798064408936, 0.9624798064408936, 0.9624798064408936, 0.9624798064408936, 0.9624798064408936, 0.9624798064408936, 0.9624798064408936, 0.9624798064408936, 0.9624798064408936, 0.9624798064408936, 0.9624798064408936, 0.9624798064408936, 0.9624798064408936, 0.9624798064408936, 0.9624798064408936, 0.9624798064408936, 0.9624798064408936, 0.9624798064408936]}], \"log_loss\": [{\"categories\": [\"0\", \"1\", \"3\", \"7\", \"8\", \"12\", \"17\", \"20\", \"22\", \"24\", \"25\", \"26\", \"27\", \"28\", \"30\", \"31\", \"32\", \"33\", \"34\", \"35\", \"36\"], \"mode\": \"markers\", \"name\": \"log_loss\", \"stepped\": false, \"type\": \"scatter\", \"data\": [0.0520199394669666, 0.0634328517121533, 0.3670564398695972, 0.31998847068920927, 0.23396062812747145, 0.2767804095756467, 0.4375311105268384, 0.23774844621091176, 0.12013456274294364, 0.32856390602074703, 0.3079602470935017, 0.2819757453388556, 0.32036621928299436, 0.16981758088469204, 0.14308878322223703, 0.1366556392820195, 0.17057774508284487, 0.1359354955329721, 0.6987008948927081, 0.3539891848499191, 0.05977506404045425]}, {\"categories\": [\"0\", \"1\", \"3\", \"7\", \"8\", \"12\", \"17\", \"20\", \"22\", \"24\", \"25\", \"26\", \"27\", \"28\", \"30\", \"31\", \"32\", \"33\", \"34\", \"35\", \"36\"], \"mode\": \"lines\", \"name\": \"log_loss_min\", \"stepped\": true, \"type\": \"scatter\", \"data\": [0.0520199394669666, 0.0520199394669666, 0.0520199394669666, 0.0520199394669666, 0.0520199394669666, 0.0520199394669666, 0.0520199394669666, 0.0520199394669666, 0.0520199394669666, 0.0520199394669666, 0.0520199394669666, 0.0520199394669666, 0.0520199394669666, 0.0520199394669666, 0.0520199394669666, 0.0520199394669666, 0.0520199394669666, 0.0520199394669666, 0.0520199394669666, 0.0520199394669666, 0.0520199394669666]}], \"weighted_accuracy\": [{\"categories\": [\"0\", \"1\", \"3\", \"7\", \"8\", \"12\", \"17\", \"20\", \"22\", \"24\", \"25\", \"26\", \"27\", \"28\", \"30\", \"31\", \"32\", \"33\", \"34\", \"35\", \"36\"], \"mode\": \"markers\", \"name\": \"weighted_accuracy\", \"stepped\": false, \"type\": \"scatter\", \"data\": [0.9865024510085333, 0.9866049685490004, 0.943631805691588, 0.9667079423081367, 0.976787872020974, 0.9666095264747914, 0.8399490242393902, 0.9432093390992695, 0.9845834938221532, 0.9446512144575544, 0.9584023464971859, 0.9415189801978929, 0.9473211241218386, 0.9761902323514547, 0.9775658091601055, 0.9817692808212565, 0.9742753083620107, 0.980724495870766, 0.9084676798597359, 0.969600296139805, 0.987139240424933]}, {\"categories\": [\"0\", \"1\", \"3\", \"7\", \"8\", \"12\", \"17\", \"20\", \"22\", \"24\", \"25\", \"26\", \"27\", \"28\", \"30\", \"31\", \"32\", \"33\", \"34\", \"35\", \"36\"], \"mode\": \"lines\", \"name\": \"weighted_accuracy_max\", \"stepped\": true, \"type\": \"scatter\", \"data\": [0.9865024510085333, 0.9866049685490004, 0.9866049685490004, 0.9866049685490004, 0.9866049685490004, 0.9866049685490004, 0.9866049685490004, 0.9866049685490004, 0.9866049685490004, 0.9866049685490004, 0.9866049685490004, 0.9866049685490004, 0.9866049685490004, 0.9866049685490004, 0.9866049685490004, 0.9866049685490004, 0.9866049685490004, 0.9866049685490004, 0.9866049685490004, 0.9866049685490004, 0.987139240424933]}], \"precision_score_micro\": [{\"categories\": [\"0\", \"1\", \"3\", \"7\", \"8\", \"12\", \"17\", \"20\", \"22\", \"24\", \"25\", \"26\", \"27\", \"28\", \"30\", \"31\", \"32\", \"33\", \"34\", \"35\", \"36\"], \"mode\": \"markers\", \"name\": \"precision_score_micro\", \"stepped\": false, \"type\": \"scatter\", \"data\": [0.9826328502415459, 0.9745229468599034, 0.8604488727858293, 0.9200905797101449, 0.9594625603864735, 0.9438295088566827, 0.8083705716586151, 0.8963506441223833, 0.9646769323671497, 0.9009782608695652, 0.8998188405797102, 0.8691243961352657, 0.8720289855072464, 0.9449849033816425, 0.958887882447665, 0.9617824074074074, 0.9496235909822867, 0.9600473027375201, 0.8946105072463769, 0.9032971014492753, 0.9820531400966184]}, {\"categories\": [\"0\", \"1\", \"3\", \"7\", \"8\", \"12\", \"17\", \"20\", \"22\", \"24\", \"25\", \"26\", \"27\", \"28\", \"30\", \"31\", \"32\", \"33\", \"34\", \"35\", \"36\"], \"mode\": \"lines\", \"name\": \"precision_score_micro_max\", \"stepped\": true, \"type\": \"scatter\", \"data\": [0.9826328502415459, 0.9826328502415459, 0.9826328502415459, 0.9826328502415459, 0.9826328502415459, 0.9826328502415459, 0.9826328502415459, 0.9826328502415459, 0.9826328502415459, 0.9826328502415459, 0.9826328502415459, 0.9826328502415459, 0.9826328502415459, 0.9826328502415459, 0.9826328502415459, 0.9826328502415459, 0.9826328502415459, 0.9826328502415459, 0.9826328502415459, 0.9826328502415459, 0.9826328502415459]}], \"accuracy\": [{\"categories\": [\"0\", \"1\", \"3\", \"7\", \"8\", \"12\", \"17\", \"20\", \"22\", \"24\", \"25\", \"26\", \"27\", \"28\", \"30\", \"31\", \"32\", \"33\", \"34\", \"35\", \"36\"], \"mode\": \"markers\", \"name\": \"accuracy\", \"stepped\": false, \"type\": \"scatter\", \"data\": [0.9826328502415459, 0.9745229468599034, 0.8604488727858293, 0.9200905797101449, 0.9594625603864735, 0.9438295088566827, 0.8083705716586151, 0.8963506441223833, 0.9646769323671497, 0.9009782608695652, 0.8998188405797102, 0.8691243961352657, 0.8720289855072464, 0.9449849033816425, 0.958887882447665, 0.9617824074074074, 0.9496235909822867, 0.9600473027375201, 0.8946105072463769, 0.9032971014492753, 0.9820531400966184]}, {\"categories\": [\"0\", \"1\", \"3\", \"7\", \"8\", \"12\", \"17\", \"20\", \"22\", \"24\", \"25\", \"26\", \"27\", \"28\", \"30\", \"31\", \"32\", \"33\", \"34\", \"35\", \"36\"], \"mode\": \"lines\", \"name\": \"accuracy_max\", \"stepped\": true, \"type\": \"scatter\", \"data\": [0.9826328502415459, 0.9826328502415459, 0.9826328502415459, 0.9826328502415459, 0.9826328502415459, 0.9826328502415459, 0.9826328502415459, 0.9826328502415459, 0.9826328502415459, 0.9826328502415459, 0.9826328502415459, 0.9826328502415459, 0.9826328502415459, 0.9826328502415459, 0.9826328502415459, 0.9826328502415459, 0.9826328502415459, 0.9826328502415459, 0.9826328502415459, 0.9826328502415459, 0.9826328502415459]}], \"AUC_macro\": [{\"categories\": [\"0\", \"1\", \"3\", \"7\", \"8\", \"12\", \"17\", \"20\", \"22\", \"24\", \"25\", \"26\", \"27\", \"28\", \"30\", \"31\", \"32\", \"33\", \"34\", \"35\", \"36\"], \"mode\": \"markers\", \"name\": \"AUC_macro\", \"stepped\": false, \"type\": \"scatter\", \"data\": [0.9990457541187446, 0.9981879026178183, 0.9770308943728406, 0.9882978239167747, 0.9948565561592252, 0.9936475645054134, 0.9492900894288789, 0.9827367573666684, 0.9967394368019601, 0.9879216329056854, 0.9810993187266422, 0.9786821277882608, 0.9762747722048427, 0.9931436265734984, 0.9958806469648297, 0.9961876979122543, 0.9945484567558313, 0.9952931108311841, 0.9846048532607193, 0.9877618952197579, 0.9989669621721649]}, {\"categories\": [\"0\", \"1\", \"3\", \"7\", \"8\", \"12\", \"17\", \"20\", \"22\", \"24\", \"25\", \"26\", \"27\", \"28\", \"30\", \"31\", \"32\", \"33\", \"34\", \"35\", \"36\"], \"mode\": \"lines\", \"name\": \"AUC_macro_max\", \"stepped\": true, \"type\": \"scatter\", \"data\": [0.9990457541187446, 0.9990457541187446, 0.9990457541187446, 0.9990457541187446, 0.9990457541187446, 0.9990457541187446, 0.9990457541187446, 0.9990457541187446, 0.9990457541187446, 0.9990457541187446, 0.9990457541187446, 0.9990457541187446, 0.9990457541187446, 0.9990457541187446, 0.9990457541187446, 0.9990457541187446, 0.9990457541187446, 0.9990457541187446, 0.9990457541187446, 0.9990457541187446, 0.9990457541187446]}], \"average_precision_score_micro\": [{\"categories\": [\"0\", \"1\", \"3\", \"7\", \"8\", \"12\", \"17\", \"20\", \"22\", \"24\", \"25\", \"26\", \"27\", \"28\", \"30\", \"31\", \"32\", \"33\", \"34\", \"35\", \"36\"], \"mode\": \"markers\", \"name\": \"average_precision_score_micro\", \"stepped\": false, \"type\": \"scatter\", \"data\": [0.9982808475759496, 0.9975371649987941, 0.9552049527142007, 0.9799116964103917, 0.9922507404012748, 0.9905463900980219, 0.9242548851441326, 0.9703949662289729, 0.9960043403411741, 0.9760747872867244, 0.9676364797820906, 0.9642648799719457, 0.9618166367500544, 0.9913792849712562, 0.9947909428432632, 0.9949760258552637, 0.9922646160954964, 0.9943853417159985, 0.96410983032211, 0.9713645045472877, 0.9980555625585593]}, {\"categories\": [\"0\", \"1\", \"3\", \"7\", \"8\", \"12\", \"17\", \"20\", \"22\", \"24\", \"25\", \"26\", \"27\", \"28\", \"30\", \"31\", \"32\", \"33\", \"34\", \"35\", \"36\"], \"mode\": \"lines\", \"name\": \"average_precision_score_micro_max\", \"stepped\": true, \"type\": \"scatter\", \"data\": [0.9982808475759496, 0.9982808475759496, 0.9982808475759496, 0.9982808475759496, 0.9982808475759496, 0.9982808475759496, 0.9982808475759496, 0.9982808475759496, 0.9982808475759496, 0.9982808475759496, 0.9982808475759496, 0.9982808475759496, 0.9982808475759496, 0.9982808475759496, 0.9982808475759496, 0.9982808475759496, 0.9982808475759496, 0.9982808475759496, 0.9982808475759496, 0.9982808475759496, 0.9982808475759496]}], \"average_precision_score_macro\": [{\"categories\": [\"0\", \"1\", \"3\", \"7\", \"8\", \"12\", \"17\", \"20\", \"22\", \"24\", \"25\", \"26\", \"27\", \"28\", \"30\", \"31\", \"32\", \"33\", \"34\", \"35\", \"36\"], \"mode\": \"markers\", \"name\": \"average_precision_score_macro\", \"stepped\": false, \"type\": \"scatter\", \"data\": [0.9938735922885464, 0.9780138782836363, 0.8427401604419856, 0.8931449330348022, 0.9382529360478591, 0.921641440491103, 0.6631368859638062, 0.8247548646437116, 0.9487214654951611, 0.8606347623795466, 0.8223826887674095, 0.8210101064858781, 0.8079900172610787, 0.9041320570267276, 0.9403997270424194, 0.9486278229079407, 0.931036985450563, 0.9298794661695902, 0.8952647097207174, 0.8726186905871356, 0.991972631142298]}, {\"categories\": [\"0\", \"1\", \"3\", \"7\", \"8\", \"12\", \"17\", \"20\", \"22\", \"24\", \"25\", \"26\", \"27\", \"28\", \"30\", \"31\", \"32\", \"33\", \"34\", \"35\", \"36\"], \"mode\": \"lines\", \"name\": \"average_precision_score_macro_max\", \"stepped\": true, \"type\": \"scatter\", \"data\": [0.9938735922885464, 0.9938735922885464, 0.9938735922885464, 0.9938735922885464, 0.9938735922885464, 0.9938735922885464, 0.9938735922885464, 0.9938735922885464, 0.9938735922885464, 0.9938735922885464, 0.9938735922885464, 0.9938735922885464, 0.9938735922885464, 0.9938735922885464, 0.9938735922885464, 0.9938735922885464, 0.9938735922885464, 0.9938735922885464, 0.9938735922885464, 0.9938735922885464, 0.9938735922885464]}]}, \"metricName\": null, \"primaryMetricName\": \"AUC_weighted\", \"showLegend\": false}, \"run_metrics\": [{\"name\": \"experiment_status\", \"run_id\": \"AutoML_b42a4eda-a263-4875-84da-a731c2eda8ea\", \"categories\": [0, 1, 2, 3, 4, 5, 6, 7, 8, 9, 10, 11, 12, 13, 14], \"series\": [{\"data\": [\"DatasetEvaluation\", \"FeaturesGeneration\", \"DatasetFeaturization\", \"DatasetFeaturizationCompleted\", \"DatasetBalancing\", \"DatasetCrossValidationSplit\", \"ModelSelection\", \"BestRunExplainModel\", \"ModelExplanationDataSetSetup\", \"PickSurrogateModel\", \"EngineeredFeatureExplanations\", \"EngineeredFeatureExplanations\", \"RawFeaturesExplanations\", \"RawFeaturesExplanations\", \"BestRunExplainModel\"]}]}, {\"name\": \"experiment_status_description\", \"run_id\": \"AutoML_b42a4eda-a263-4875-84da-a731c2eda8ea\", \"categories\": [0, 1, 2, 3, 4, 5, 6, 7, 8, 9, 10, 11, 12, 13, 14], \"series\": [{\"data\": [\"Gathering dataset statistics.\", \"Generating features for the dataset.\", \"Beginning to fit featurizers and featurize the dataset.\", \"Completed fit featurizers and featurizing the dataset.\", \"Performing class balancing sweeping\", \"Generating individually featurized CV splits.\", \"Beginning model selection.\", \"Best run model explanations started\", \"Model explanations data setup completed\", \"Choosing LightGBM as the surrogate model for explanations\", \"Computation of engineered features started\", \"Computation of engineered features completed\", \"Computation of raw features started\", \"Computation of raw features completed\", \"Best run model explanations completed\"]}]}, {\"name\": \"recall_score_micro\", \"run_id\": \"AutoML_b42a4eda-a263-4875-84da-a731c2eda8ea\", \"categories\": [0], \"series\": [{\"data\": [0.9820531400966184]}]}, {\"name\": \"AUC_micro\", \"run_id\": \"AutoML_b42a4eda-a263-4875-84da-a731c2eda8ea\", \"categories\": [0], \"series\": [{\"data\": [0.9993404462705842]}]}, {\"name\": \"precision_score_micro\", \"run_id\": \"AutoML_b42a4eda-a263-4875-84da-a731c2eda8ea\", \"categories\": [0], \"series\": [{\"data\": [0.9820531400966184]}]}, {\"name\": \"log_loss\", \"run_id\": \"AutoML_b42a4eda-a263-4875-84da-a731c2eda8ea\", \"categories\": [0], \"series\": [{\"data\": [0.05977506404045425]}]}, {\"name\": \"weighted_accuracy\", \"run_id\": \"AutoML_b42a4eda-a263-4875-84da-a731c2eda8ea\", \"categories\": [0], \"series\": [{\"data\": [0.987139240424933]}]}, {\"name\": \"norm_macro_recall\", \"run_id\": \"AutoML_b42a4eda-a263-4875-84da-a731c2eda8ea\", \"categories\": [0], \"series\": [{\"data\": [0.9413363948552544]}]}, {\"name\": \"AUC_macro\", \"run_id\": \"AutoML_b42a4eda-a263-4875-84da-a731c2eda8ea\", \"categories\": [0], \"series\": [{\"data\": [0.9989669621721649]}]}, {\"name\": \"recall_score_macro\", \"run_id\": \"AutoML_b42a4eda-a263-4875-84da-a731c2eda8ea\", \"categories\": [0], \"series\": [{\"data\": [0.9560022961414408]}]}, {\"name\": \"average_precision_score_macro\", \"run_id\": \"AutoML_b42a4eda-a263-4875-84da-a731c2eda8ea\", \"categories\": [0], \"series\": [{\"data\": [0.991972631142298]}]}, {\"name\": \"balanced_accuracy\", \"run_id\": \"AutoML_b42a4eda-a263-4875-84da-a731c2eda8ea\", \"categories\": [0], \"series\": [{\"data\": [0.9560022961414408]}]}, {\"name\": \"average_precision_score_weighted\", \"run_id\": \"AutoML_b42a4eda-a263-4875-84da-a731c2eda8ea\", \"categories\": [0], \"series\": [{\"data\": [0.9966761822366842]}]}, {\"name\": \"f1_score_macro\", \"run_id\": \"AutoML_b42a4eda-a263-4875-84da-a731c2eda8ea\", \"categories\": [0], \"series\": [{\"data\": [0.9598998893883487]}]}, {\"name\": \"precision_score_weighted\", \"run_id\": \"AutoML_b42a4eda-a263-4875-84da-a731c2eda8ea\", \"categories\": [0], \"series\": [{\"data\": [0.9825865565863464]}]}, {\"name\": \"recall_score_weighted\", \"run_id\": \"AutoML_b42a4eda-a263-4875-84da-a731c2eda8ea\", \"categories\": [0], \"series\": [{\"data\": [0.9820531400966184]}]}, {\"name\": \"f1_score_weighted\", \"run_id\": \"AutoML_b42a4eda-a263-4875-84da-a731c2eda8ea\", \"categories\": [0], \"series\": [{\"data\": [0.9817880661569424]}]}, {\"name\": \"average_precision_score_micro\", \"run_id\": \"AutoML_b42a4eda-a263-4875-84da-a731c2eda8ea\", \"categories\": [0], \"series\": [{\"data\": [0.9980555625585593]}]}, {\"name\": \"accuracy\", \"run_id\": \"AutoML_b42a4eda-a263-4875-84da-a731c2eda8ea\", \"categories\": [0], \"series\": [{\"data\": [0.9820531400966184]}]}, {\"name\": \"f1_score_micro\", \"run_id\": \"AutoML_b42a4eda-a263-4875-84da-a731c2eda8ea\", \"categories\": [0], \"series\": [{\"data\": [0.9820531400966184]}]}, {\"name\": \"precision_score_macro\", \"run_id\": \"AutoML_b42a4eda-a263-4875-84da-a731c2eda8ea\", \"categories\": [0], \"series\": [{\"data\": [0.9682425796065454]}]}, {\"name\": \"AUC_weighted\", \"run_id\": \"AutoML_b42a4eda-a263-4875-84da-a731c2eda8ea\", \"categories\": [0], \"series\": [{\"data\": [0.9988010760765071]}]}, {\"name\": \"matthews_correlation\", \"run_id\": \"AutoML_b42a4eda-a263-4875-84da-a731c2eda8ea\", \"categories\": [0], \"series\": [{\"data\": [0.9612778799373269]}]}], \"run_logs\": \"\\nRun is completed.\", \"graph\": {}, \"widget_settings\": {\"childWidgetDisplay\": \"popup\", \"send_telemetry\": false, \"log_level\": \"INFO\", \"sdk_version\": \"1.51.0\"}, \"loading\": false}"
          },
          "metadata": {}
        }
      ],
      "execution_count": 9,
      "metadata": {
        "gather": {
          "logged": 1692056706898
        },
        "jupyter": {
          "outputs_hidden": false,
          "source_hidden": false
        },
        "nteract": {
          "transient": {
            "deleting": false
          }
        }
      }
    },
    {
      "cell_type": "markdown",
      "source": [
        "## Best Model\n",
        "\n",
        "TODO: In the cell below, get the best model from the automl experiments and display all the properties of the model.\n",
        "\n"
      ],
      "metadata": {}
    },
    {
      "cell_type": "code",
      "source": [
        "#Wait for the AutoML run to complete\n",
        "remote_run.wait_for_completion(show_output=True)\n",
        "\n",
        "#\"best_run\" contains the run object(model, metrics, and run ID)\n",
        "#\"onnx_model\" contains the actual trained model object with onnx format\n",
        "best_run, onnx_mdl = remote_run.get_output(return_onnx_model=True)\n",
        "\n",
        "#\"best_run_metrics\" contains a dictionary of the metrics associated with the best run.\n",
        "best_run_metrics = best_run.get_metrics()\n",
        "\n",
        "# Display all the properties of the best model\n",
        "print(best_run.get_properties())\n"
      ],
      "outputs": [
        {
          "output_type": "display_data",
          "data": {
            "text/html": "<table style=\"width:100%\"><tr><th>Experiment</th><th>Id</th><th>Type</th><th>Status</th><th>Details Page</th><th>Docs Page</th></tr><tr><td>auto-ml</td><td>AutoML_b42a4eda-a263-4875-84da-a731c2eda8ea</td><td>automl</td><td>Completed</td><td><a href=\"https://ml.azure.com/runs/AutoML_b42a4eda-a263-4875-84da-a731c2eda8ea?wsid=/subscriptions/3d1a56d2-7c81-4118-9790-f85d1acf0c77/resourcegroups/aml-quickstarts-240270/workspaces/quick-starts-ws-240270&amp;tid=660b3398-b80e-49d2-bc5b-ac1dc93b5254\" target=\"_blank\" rel=\"noopener\">Link to Azure Machine Learning studio</a></td><td><a href=\"https://docs.microsoft.com/en-us/python/api/overview/azure/ml/intro?view=azure-ml-py\" target=\"_blank\" rel=\"noopener\">Link to Documentation</a></td></tr></table>"
          },
          "metadata": {}
        },
        {
          "output_type": "stream",
          "name": "stdout",
          "text": "\n\n********************************************************************************************\nDATA GUARDRAILS: \n\nTYPE:         Cross validation\nSTATUS:       DONE\nDESCRIPTION:  In order to accurately evaluate the model(s) trained by AutoML, we leverage a dataset that the model is not trained on. Hence, if the user doesn't provide an explicit validation dataset, a part of the training dataset is used to achieve this. For smaller datasets (fewer than 20,000 samples), cross-validation is leveraged, else a single hold-out set is split from the training data to serve as the validation dataset. Hence, for your input data we leverage cross-validation with 10 folds, if the number of training samples are fewer than 1000, and 3 folds in all other cases.\n              Learn more about cross validation: https://aka.ms/AutomatedMLCrossValidation\nDETAILS:      \n+------------------------------+\n|Number of folds               |\n+==============================+\n|3                             |\n+------------------------------+\n\n********************************************************************************************\n\nTYPE:         Class balancing detection\nSTATUS:       ALERTED\nDESCRIPTION:  To decrease model bias, please cancel the current run and fix balancing problem.\n              Learn more about imbalanced data: https://aka.ms/AutomatedMLImbalancedData\nDETAILS:      Imbalanced data can lead to a falsely perceived positive effect of a model's accuracy because the input data has bias towards one class.\n+------------------------------+--------------------------------+--------------------------------------+\n|Size of the smallest class    |Name/Label of the smallest class|Number of samples in the training data|\n+==============================+================================+======================================+\n|65                            |vgood                           |1727                                  |\n+------------------------------+--------------------------------+--------------------------------------+\n\n********************************************************************************************\n\nTYPE:         Missing feature values imputation\nSTATUS:       PASSED\nDESCRIPTION:  No feature missing values were detected in the training data.\n              Learn more about missing value imputation: https://aka.ms/AutomatedMLFeaturization\n\n********************************************************************************************\n\nTYPE:         High cardinality feature detection\nSTATUS:       PASSED\nDESCRIPTION:  Your inputs were analyzed, and no high cardinality features were detected.\n              Learn more about high cardinality feature handling: https://aka.ms/AutomatedMLFeaturization\n\n********************************************************************************************\n\n********************************************************************************************\nITER: The iteration being evaluated.\nPIPELINE: A summary description of the pipeline being evaluated.\nDURATION: Time taken for the current iteration.\nMETRIC: The result of computing score on the fitted pipeline.\nBEST: The best observed score thus far.\n********************************************************************************************\n\n ITER   PIPELINE                                       DURATION            METRIC      BEST\n    0   MaxAbsScaler LightGBM                          0:00:34             0.9988    0.9988\n    1   MaxAbsScaler XGBoostClassifier                 0:00:28             0.9986    0.9988\n    2   MaxAbsScaler ExtremeRandomTrees                0:00:26             0.9699    0.9988\n    3   MaxAbsScaler RandomForest                      0:00:26             0.9774    0.9988\n    4   StandardScalerWrapper LightGBM                 0:00:27             0.9717    0.9988\n    5   SparseNormalizer XGBoostClassifier             0:00:28             0.9947    0.9988\n    6   SparseNormalizer RandomForest                  0:00:27             0.9769    0.9988\n    7   StandardScalerWrapper XGBoostClassifier        0:00:26             0.9903    0.9988\n   10   SparseNormalizer LightGBM                      0:00:29             0.9745    0.9988\n   11   MaxAbsScaler ExtremeRandomTrees                0:00:35             0.9855    0.9988\n    8   SparseNormalizer XGBoostClassifier             0:00:26             0.9952    0.9988\n    9   MaxAbsScaler RandomForest                      0:00:26             0.9474    0.9988\n   12   StandardScalerWrapper XGBoostClassifier        0:00:29             0.9951    0.9988\n   13   StandardScalerWrapper ExtremeRandomTrees       0:00:30             0.9816    0.9988\n   14   StandardScalerWrapper RandomForest             0:00:33             0.9956    0.9988\n   15   MaxAbsScaler LightGBM                          0:00:28             0.9859    0.9988\n   16   MaxAbsScaler LogisticRegression                0:00:28             0.9886    0.9988\n   17   StandardScalerWrapper ExtremeRandomTrees       0:00:29             0.9468    0.9988\n   18   StandardScalerWrapper XGBoostClassifier        0:00:27             0.9943    0.9988\n   19   MaxAbsScaler ExtremeRandomTrees                0:00:28             0.9836    0.9988\n   20   MaxAbsScaler LogisticRegression                0:00:48             0.9831    0.9988\n   21   StandardScalerWrapper XGBoostClassifier        0:00:43             0.9945    0.9988\n   22   StandardScalerWrapper XGBoostClassifier        0:00:51             0.9979    0.9988\n   23   MaxAbsScaler RandomForest                      0:00:44             0.9300    0.9988\n   24   SparseNormalizer XGBoostClassifier             0:00:45             0.9882    0.9988\n   25   MaxAbsScaler LightGBM                          0:00:46             0.9844    0.9988\n   26   MaxAbsScaler LinearSVM                         0:00:44             0.9793    0.9988\n   27   StandardScalerWrapper LightGBM                 0:00:45             0.9793    0.9988\n   28   MaxAbsScaler LightGBM                          0:00:48             0.9955    0.9988\n   29   StandardScalerWrapper LightGBM                 0:00:46             0.9951    0.9988\n   30   SparseNormalizer XGBoostClassifier             0:00:53             0.9973    0.9988\n   31   StandardScalerWrapper XGBoostClassifier        0:01:49             0.9973    0.9988\n   32   SparseNormalizer XGBoostClassifier             0:00:48             0.9963    0.9988\n   33   SparseNormalizer XGBoostClassifier             0:00:26             0.9970    0.9988\n   34   MaxAbsScaler LogisticRegression                0:00:59             0.9816    0.9988\nERROR: {\n    \"additional_properties\": {},\n    \"error\": {\n        \"additional_properties\": {\n            \"debugInfo\": null\n        },\n        \"code\": \"UserError\",\n        \"severity\": null,\n        \"message\": \"Unexpected User Error\",\n        \"message_format\": null,\n        \"message_parameters\": null,\n        \"reference_code\": null,\n        \"details_uri\": null,\n        \"target\": null,\n        \"details\": [],\n        \"inner_error\": null,\n        \"additional_info\": null\n    },\n    \"correlation\": {\n        \"operation\": \"fd9f9211739714166b6f04cbda24f501\",\n        \"request\": \"b1b8abb2c3062012\"\n    },\n    \"environment\": \"westus2\",\n    \"location\": \"westus2\",\n    \"time\": {},\n    \"component_name\": \"GlobalJobDispatcher\"\n}\n   35   MaxAbsScaler LightGBM                          0:00:08             0.9901    0.9988\n   36    VotingEnsemble                                0:01:13             0.9988    0.9988\n{'runTemplate': 'automl_child', 'pipeline_id': '__AutoML_Ensemble__', 'pipeline_spec': '{\"pipeline_id\":\"__AutoML_Ensemble__\",\"objects\":[{\"module\":\"azureml.train.automl.ensemble\",\"class_name\":\"Ensemble\",\"spec_class\":\"sklearn\",\"param_args\":[],\"param_kwargs\":{\"automl_settings\":\"{\\'task_type\\':\\'classification\\',\\'primary_metric\\':\\'AUC_weighted\\',\\'verbosity\\':20,\\'ensemble_iterations\\':15,\\'is_timeseries\\':False,\\'name\\':\\'auto-ml\\',\\'compute_target\\':\\'auto-ml\\',\\'subscription_id\\':\\'3d1a56d2-7c81-4118-9790-f85d1acf0c77\\',\\'region\\':\\'westus2\\',\\'spark_service\\':None}\",\"ensemble_run_id\":\"AutoML_b42a4eda-a263-4875-84da-a731c2eda8ea_36\",\"experiment_name\":\"auto-ml\",\"workspace_name\":\"quick-starts-ws-240270\",\"subscription_id\":\"3d1a56d2-7c81-4118-9790-f85d1acf0c77\",\"resource_group_name\":\"aml-quickstarts-240270\"}}]}', 'training_percent': '100', 'predicted_cost': None, 'iteration': '36', '_aml_system_scenario_identification': 'Remote.Child', '_azureml.ComputeTargetType': 'amlctrain', 'ContentSnapshotId': '44fcd81c-1536-4804-bdce-c7dcf4e6a613', 'ProcessInfoFile': 'azureml-logs/process_info.json', 'ProcessStatusFile': 'azureml-logs/process_status.json', 'run_preprocessor': '', 'run_algorithm': 'VotingEnsemble', 'ensembled_iterations': '[0, 1, 22, 31, 30]', 'ensembled_algorithms': \"['LightGBM', 'XGBoostClassifier', 'XGBoostClassifier', 'XGBoostClassifier', 'XGBoostClassifier']\", 'ensembled_run_ids': \"['AutoML_b42a4eda-a263-4875-84da-a731c2eda8ea_0', 'AutoML_b42a4eda-a263-4875-84da-a731c2eda8ea_1', 'AutoML_b42a4eda-a263-4875-84da-a731c2eda8ea_22', 'AutoML_b42a4eda-a263-4875-84da-a731c2eda8ea_31', 'AutoML_b42a4eda-a263-4875-84da-a731c2eda8ea_30']\", 'ensemble_weights': '[0.7333333333333333, 0.06666666666666667, 0.06666666666666667, 0.06666666666666667, 0.06666666666666667]', 'best_individual_pipeline_score': '0.9987787177700516', 'best_individual_iteration': '0', 'model_output_path': 'outputs/model.pkl', 'conda_env_data_location': 'aml://artifact/ExperimentRun/dcid.AutoML_b42a4eda-a263-4875-84da-a731c2eda8ea_36/outputs/conda_env_v_1_0_0.yml', 'model_data_location': 'aml://artifact/ExperimentRun/dcid.AutoML_b42a4eda-a263-4875-84da-a731c2eda8ea_36/outputs/model.pkl', 'model_size_on_disk': '4175145', 'scoring_data_location': 'aml://artifact/ExperimentRun/dcid.AutoML_b42a4eda-a263-4875-84da-a731c2eda8ea_36/outputs/scoring_file_v_1_0_0.py', 'scoring_data_location_v2': 'aml://artifact/ExperimentRun/dcid.AutoML_b42a4eda-a263-4875-84da-a731c2eda8ea_36/outputs/scoring_file_v_2_0_0.py', 'scoring_data_location_pbi': 'aml://artifact/ExperimentRun/dcid.AutoML_b42a4eda-a263-4875-84da-a731c2eda8ea_36/outputs/scoring_file_pbi_v_1_0_0.py', 'model_exp_support': 'True', 'pipeline_graph_version': '1.0.0', 'model_name': 'AutoMLb42a4edaa36', 'score': '0.9988010760765071', 'score_table': 'NaN', 'run_properties': 'classification_labels=numpy.array([0, 1, 2, 3]', 'pipeline_script': '{\"pipeline_id\":\"__AutoML_Ensemble__\",\"objects\":[{\"module\":\"azureml.train.automl.ensemble\",\"class_name\":\"Ensemble\",\"spec_class\":\"sklearn\",\"param_args\":[],\"param_kwargs\":{\"automl_settings\":\"{\\'task_type\\':\\'classification\\',\\'primary_metric\\':\\'AUC_weighted\\',\\'verbosity\\':20,\\'ensemble_iterations\\':15,\\'is_timeseries\\':False,\\'name\\':\\'auto-ml\\',\\'compute_target\\':\\'auto-ml\\',\\'subscription_id\\':\\'3d1a56d2-7c81-4118-9790-f85d1acf0c77\\',\\'region\\':\\'westus2\\',\\'spark_service\\':None}\",\"ensemble_run_id\":\"AutoML_b42a4eda-a263-4875-84da-a731c2eda8ea_36\",\"experiment_name\":\"auto-ml\",\"workspace_name\":\"quick-starts-ws-240270\",\"subscription_id\":\"3d1a56d2-7c81-4118-9790-f85d1acf0c77\",\"resource_group_name\":\"aml-quickstarts-240270\"}}]}', 'training_type': 'MeanCrossValidation', 'fit_time': '26', 'goal': 'AUC_weighted_max', 'primary_metric': 'AUC_weighted', 'errors': '{}', 'onnx_model_resource': \"{'RawColumnNameToOnnxNameMap': {'buying': 'buying', 'maint': 'maint', 'doors': 'doors', 'persons': 'persons', 'lug_boot': 'lug_boot', 'safety': 'safety'}, 'InputRawColumnSchema': {'buying': 'string', 'maint': 'string', 'doors': 'string', 'persons': 'string', 'lug_boot': 'string', 'safety': 'string'}, 'InputOnnxColumnSchema': {'buying': 'StringTensorType', 'maint': 'StringTensorType', 'doors': 'StringTensorType', 'persons': 'StringTensorType', 'lug_boot': 'StringTensorType', 'safety': 'StringTensorType'}, 'CanEnableBatchMode': True}\", 'dependencies_versions': '{\"azureml-dataprep-native\": \"38.0.0\", \"azureml-dataprep\": \"4.11.4\", \"azureml-dataprep-rslex\": \"2.18.4\", \"azureml-automl-core\": \"1.52.0.post1\", \"azureml-automl-runtime\": \"1.52.0.post1\", \"azureml-training-tabular\": \"1.52.0\", \"azureml-defaults\": \"1.52.0\", \"azureml-telemetry\": \"1.52.0\", \"azureml-train-core\": \"1.52.0\", \"azureml-train-automl-runtime\": \"1.52.0\", \"azureml-dataset-runtime\": \"1.52.0\", \"azureml-core\": \"1.52.0\", \"azureml-train-automl-client\": \"1.52.0\", \"azureml-train-restclients-hyperdrive\": \"1.52.0\", \"azureml-interpret\": \"1.52.0\", \"azureml-responsibleai\": \"1.52.0\", \"azureml-pipeline-core\": \"1.52.0\", \"azureml-mlflow\": \"1.52.0\", \"azureml-inference-server-http\": \"0.8.4\"}', 'num_cores': '2', 'num_logical_cores': '2', 'peak_memory_usage': '1242652', 'vm_configuration': 'x86_64', 'core_hours': '0.011750347222222223', 'feature_skus': 'automatedml_sdk_guardrails'}\n"
        }
      ],
      "execution_count": 10,
      "metadata": {
        "gather": {
          "logged": 1692058152716
        },
        "jupyter": {
          "outputs_hidden": false,
          "source_hidden": false
        },
        "nteract": {
          "transient": {
            "deleting": false
          }
        }
      }
    },
    {
      "cell_type": "code",
      "source": [
        "print('model name')\n",
        "print(best_run.properties['model_name'])\n",
        "print('best run id')\n",
        "print(best_run.id)\n",
        "print(\"best run metrics\")\n",
        "print(best_run.get_metrics())\n",
        "print('best run experiment')\n",
        "print(best_run.experiment)"
      ],
      "outputs": [
        {
          "output_type": "stream",
          "name": "stdout",
          "text": "model name\nAutoMLb42a4edaa36\nbest run id\nAutoML_b42a4eda-a263-4875-84da-a731c2eda8ea_36\nbest run metrics\n{'average_precision_score_macro': 0.991972631142298, 'matthews_correlation': 0.9612778799373269, 'AUC_micro': 0.9993404462705842, 'f1_score_macro': 0.9598998893883487, 'f1_score_weighted': 0.9817880661569424, 'average_precision_score_micro': 0.9980555625585593, 'AUC_weighted': 0.9988010760765071, 'balanced_accuracy': 0.9560022961414408, 'average_precision_score_weighted': 0.9966761822366842, 'weighted_accuracy': 0.987139240424933, 'precision_score_macro': 0.9682425796065454, 'recall_score_weighted': 0.9820531400966184, 'norm_macro_recall': 0.9413363948552544, 'f1_score_micro': 0.9820531400966184, 'recall_score_micro': 0.9820531400966184, 'AUC_macro': 0.9989669621721649, 'log_loss': 0.05977506404045425, 'precision_score_weighted': 0.9825865565863464, 'precision_score_micro': 0.9820531400966184, 'accuracy': 0.9820531400966184, 'recall_score_macro': 0.9560022961414408, 'accuracy_table': 'aml://artifactId/ExperimentRun/dcid.AutoML_b42a4eda-a263-4875-84da-a731c2eda8ea_36/accuracy_table', 'confusion_matrix': 'aml://artifactId/ExperimentRun/dcid.AutoML_b42a4eda-a263-4875-84da-a731c2eda8ea_36/confusion_matrix'}\nbest run experiment\nExperiment(Name: auto-ml,\nWorkspace: quick-starts-ws-240270)\n"
        }
      ],
      "execution_count": 11,
      "metadata": {
        "gather": {
          "logged": 1692058326696
        },
        "jupyter": {
          "outputs_hidden": false,
          "source_hidden": false
        },
        "nteract": {
          "transient": {
            "deleting": false
          }
        }
      }
    },
    {
      "cell_type": "code",
      "source": [
        "#TODO: Save the best model\n",
        "# Save the best ONNX model\n",
        "\n",
        "onnx_fl_path = project_folder+\"/automl_best_model.onnx\"\n",
        "OnnxConverter.save_onnx_model(onnx_mdl, onnx_fl_path)\n"
      ],
      "outputs": [],
      "execution_count": 12,
      "metadata": {
        "gather": {
          "logged": 1692058334637
        },
        "jupyter": {
          "outputs_hidden": false,
          "source_hidden": false
        },
        "nteract": {
          "transient": {
            "deleting": false
          }
        }
      }
    },
    {
      "cell_type": "markdown",
      "source": [
        "## Model Deployment\n",
        "\n",
        "Remember you have to deploy only one of the two models you trained but you still need to register both the models. Perform the steps in the rest of this notebook only if you wish to deploy this model.\n",
        "\n",
        "TODO: In the cell below, register the model, create an inference config and deploy the model as a web service."
      ],
      "metadata": {}
    },
    {
      "cell_type": "code",
      "source": [
        "model_name = best_run.properties[\"model_name\"]\n",
        "script_file_name = \"inference/score.py\"\n",
        "best_run.download_file(\"outputs/scoring_file_v_1_0_0.py\", \"inference/score.py\")\n",
        "\n",
        "description = \"AutoML Model trained on car evaluation data to predict if a car is acceptable\"\n",
        "tags = None\n",
        "model = remote_run.register_model(\n",
        "    model_name=model_name, description=description, tags=tags\n",
        ")\n",
        "\n",
        "print(\n",
        "    remote_run.model_id\n",
        ")  # This will be written to the script file later in the notebook."
      ],
      "outputs": [
        {
          "output_type": "stream",
          "name": "stdout",
          "text": "AutoMLb42a4edaa36\n"
        }
      ],
      "execution_count": 13,
      "metadata": {
        "gather": {
          "logged": 1692058368488
        },
        "jupyter": {
          "outputs_hidden": false,
          "source_hidden": false
        },
        "nteract": {
          "transient": {
            "deleting": false
          }
        }
      }
    },
    {
      "cell_type": "code",
      "source": [
        "inference_config = InferenceConfig(\n",
        "    environment=best_run.get_environment(), entry_script=script_file_name\n",
        ")\n",
        "\n",
        "aciconfig = AciWebservice.deploy_configuration(\n",
        "    cpu_cores=2,\n",
        "    memory_gb=2,\n",
        "    tags={\"area\": \"bmData\", \"type\": \"automl_classification\"},\n",
        "    description=\"sample service for Automl Classification\",\n",
        ")\n",
        "\n",
        "aci_service_name = model_name.lower()\n",
        "print(aci_service_name)\n",
        "aci_service = Model.deploy(ws, aci_service_name, [model], inference_config, aciconfig)\n",
        "aci_service.wait_for_deployment(True)\n",
        "print(aci_service.state)\n",
        "\n"
      ],
      "outputs": [
        {
          "output_type": "stream",
          "name": "stdout",
          "text": "automlb42a4edaa36\nTips: You can try get_logs(): https://aka.ms/debugimage#dockerlog or local deployment: https://aka.ms/debugimage#debug-locally to debug if deployment takes longer than 10 minutes.\nRunning\n2023-08-15 00:13:01+00:00 Creating Container Registry if not exists..\n2023-08-15 00:23:02+00:00 Registering the environment.\n2023-08-15 00:23:02+00:00 Use the existing image..\n2023-08-15 00:23:03+00:00 Submitting deployment to compute..\n2023-08-15 00:23:08+00:00 Checking the status of deployment automlb42a4edaa36..\n2023-08-15 00:25:11+00:00 Checking the status of inference endpoint automlb42a4edaa36.\nSucceeded\nACI service creation operation finished, operation \"Succeeded\"\nHealthy\n"
        }
      ],
      "execution_count": 14,
      "metadata": {
        "gather": {
          "logged": 1692059124116
        },
        "jupyter": {
          "outputs_hidden": false,
          "source_hidden": false
        },
        "nteract": {
          "transient": {
            "deleting": false
          }
        }
      }
    },
    {
      "cell_type": "markdown",
      "source": [
        "TODO: In the cell below, send a request to the web service you deployed to test it."
      ],
      "metadata": {
        "collapsed": true,
        "gather": {
          "logged": 1598431657736
        },
        "jupyter": {
          "outputs_hidden": false,
          "source_hidden": false
        },
        "nteract": {
          "transient": {
            "deleting": false
          }
        }
      }
    },
    {
      "cell_type": "code",
      "source": [
        "# endpoint url of Web service\n",
        "scoring_uri = aci_service.scoring_uri\n",
        "\n",
        "# create request data\n",
        "input_data = {\n",
        "    \"data\": [\n",
        "        {\"buying\":\"low\",\n",
        "         \"maint\":\"low\",\n",
        "         \"doors\":\"2\",\n",
        "         \"persons\":\"2\",\n",
        "         \"lug_boot\":\"small\",\n",
        "         \"safety\":\"low\"}\n",
        "    ]}\n",
        "\n",
        "input_json = json.dumps(input_data)\n",
        "\n",
        "# Post request\n",
        "headers = {'Content-Type': 'application/json'}\n",
        "response = requests.post(scoring_uri, input_json, headers=headers)\n",
        "\n",
        "# get response\n",
        "predictions = response.json()"
      ],
      "outputs": [],
      "execution_count": 15,
      "metadata": {
        "gather": {
          "logged": 1692059260778
        }
      }
    },
    {
      "cell_type": "code",
      "source": [
        "print(predictions)"
      ],
      "outputs": [
        {
          "output_type": "stream",
          "name": "stdout",
          "text": "{\"result\": [\"unacc\"]}\n"
        }
      ],
      "execution_count": 16,
      "metadata": {
        "gather": {
          "logged": 1692059273222
        },
        "jupyter": {
          "outputs_hidden": false,
          "source_hidden": false
        },
        "nteract": {
          "transient": {
            "deleting": false
          }
        }
      }
    },
    {
      "cell_type": "markdown",
      "source": [
        "TODO: In the cell below, print the logs of the web service and delete the service"
      ],
      "metadata": {
        "collapsed": true,
        "gather": {
          "logged": 1598432765711
        },
        "jupyter": {
          "outputs_hidden": false,
          "source_hidden": false
        },
        "nteract": {
          "transient": {
            "deleting": false
          }
        }
      }
    },
    {
      "cell_type": "code",
      "source": [
        "# Retrieve and print the logs\n",
        "logs = aci_service.get_logs()\n",
        "print(logs)\n"
      ],
      "outputs": [
        {
          "output_type": "stream",
          "name": "stdout",
          "text": "2023-08-15T00:24:55,577568600+00:00 - rsyslog/run \n2023-08-15T00:24:55,598013900+00:00 - nginx/run \n2023-08-15T00:24:55,602347400+00:00 - gunicorn/run \n2023-08-15T00:24:55,605981200+00:00 | gunicorn/run | \n2023-08-15T00:24:55,610905200+00:00 | gunicorn/run | ###############################################\n2023-08-15T00:24:55,617771900+00:00 | gunicorn/run | AzureML Container Runtime Information\n2023-08-15T00:24:55,622616200+00:00 | gunicorn/run | ###############################################\n2023-08-15T00:24:55,625546900+00:00 | gunicorn/run | \n2023-08-15T00:24:55,636620400+00:00 | gunicorn/run | \n2023-08-15T00:24:55,647018200+00:00 | gunicorn/run | AzureML image information: openmpi4.1.0-ubuntu20.04, Materializaton Build:20230628.v2\n2023-08-15T00:24:55,650581900+00:00 | gunicorn/run | \n2023-08-15T00:24:55,656939400+00:00 | gunicorn/run | \n2023-08-15T00:24:55,658924800+00:00 | gunicorn/run | PATH environment variable: /azureml-envs/azureml-automl/bin:/opt/miniconda/bin:/usr/local/sbin:/usr/local/bin:/usr/sbin:/usr/bin:/sbin:/bin\n2023-08-15T00:24:55,664568500+00:00 | gunicorn/run | PYTHONPATH environment variable: \n2023-08-15T00:24:55,668762600+00:00 | gunicorn/run | \n2023-08-15T00:24:56,709763600+00:00 | gunicorn/run | CONDAPATH environment variable: /opt/miniconda\n\n# conda environments:\n#\n                         /azureml-envs/azureml-automl\nbase                     /opt/miniconda\n\n2023-08-15T00:24:57,849892491+00:00 | gunicorn/run | \n2023-08-15T00:24:57,851686358+00:00 | gunicorn/run | Pip Dependencies (before dynamic installation)\n\nadal==1.2.7\napplicationinsights==0.11.10\narch==5.3.1\nargcomplete==2.1.2\nargon2-cffi==21.3.0\nargon2-cffi-bindings==21.2.0\nasttokens==2.2.1\nattrs==23.1.0\nazure-common==1.1.28\nazure-core==1.27.1\nazure-graphrbac==0.61.1\nazure-identity==1.13.0\nazure-mgmt-authorization==3.0.0\nazure-mgmt-containerregistry==10.1.0\nazure-mgmt-core==1.4.0\nazure-mgmt-keyvault==10.2.2\nazure-mgmt-resource==22.0.0\nazure-mgmt-storage==21.0.0\nazure-storage-blob==12.13.0\nazure-storage-queue==12.6.0\nazureml-automl-core==1.52.0.post1\nazureml-automl-runtime==1.52.0.post1\nazureml-core==1.52.0\nazureml-dataprep==4.11.4\nazureml-dataprep-native==38.0.0\nazureml-dataprep-rslex==2.18.4\nazureml-dataset-runtime==1.52.0\nazureml-defaults==1.52.0\nazureml-inference-server-http==0.8.4\nazureml-interpret==1.52.0\nazureml-mlflow==1.52.0\nazureml-pipeline-core==1.52.0\nazureml-responsibleai==1.52.0\nazureml-telemetry==1.52.0\nazureml-train-automl-client==1.52.0\nazureml-train-automl-runtime==1.52.0\nazureml-train-core==1.52.0\nazureml-train-restclients-hyperdrive==1.52.0\nazureml-training-tabular==1.52.0\nbackcall==0.2.0\nbackports.tempfile==1.0\nbackports.weakref==1.0.post1\nbcrypt==4.0.1\nbeautifulsoup4==4.12.2\nbleach==6.0.0\nbokeh==2.4.3\nboto==2.49.0\nboto3==1.20.19\nbotocore==1.23.19\nBrotli @ file:///home/conda/feedstock_root/build_artifacts/brotli-split_1687884021435/work\ncachetools==5.3.1\ncertifi==2023.5.7\ncffi @ file:///home/conda/feedstock_root/build_artifacts/cffi_1671179356964/work\ncharset-normalizer @ file:///home/conda/feedstock_root/build_artifacts/charset-normalizer_1678108872112/work\nclick==8.1.4\ncloudpickle @ file:///home/conda/feedstock_root/build_artifacts/cloudpickle_1598400192773/work\ncmdstanpy==0.9.5\ncontextlib2==21.6.0\ncontourpy==1.1.0\nconvertdate @ file:///home/conda/feedstock_root/build_artifacts/convertdate_1642883757836/work\ncryptography==41.0.0\ncycler==0.11.0\nCython==0.29.17\ndask==2023.2.0\ndatabricks-cli==0.17.7\ndataclasses==0.6\ndebugpy==1.6.7\ndecorator==5.1.1\ndefusedxml==0.7.1\ndice-ml==0.9\ndill==0.3.6\ndistributed==2023.2.0\ndistro==1.8.0\ndocker==6.1.3\ndotnetcore2==3.1.23\neconml==0.14.1\nentrypoints==0.4\nephem==4.1.4\nerroranalysis==0.4.4\nexecuting==1.2.0\nfairlearn==0.8.0\nfastjsonschema==2.17.1\nfbprophet==0.7.1\nfire==0.5.0\nFlask==2.2.5\nFlask-Cors==3.0.10\nflatbuffers==23.5.26\nfonttools==4.40.0\nfsspec==2023.6.0\nfusepy==3.0.1\ngensim==3.8.3\ngitdb==4.0.10\nGitPython==3.1.31\ngoogle-api-core==2.11.1\ngoogle-auth==2.21.0\ngoogleapis-common-protos==1.59.1\ngunicorn==20.1.0\nh5py==3.9.0\nholidays @ file:///home/conda/feedstock_root/build_artifacts/holidays_1595448845196/work\nhumanfriendly==10.0\nidna @ file:///home/conda/feedstock_root/build_artifacts/idna_1663625384323/work\nimportlib-metadata==6.8.0\nimportlib-resources==5.13.0\ninference-schema==1.5.1\ninterpret-community==0.29.0\ninterpret-core==0.3.2\nipykernel==6.8.0\nipython==8.12.2\nipython-genutils==0.2.0\nisodate==0.6.1\nitsdangerous==2.1.2\njedi==0.18.2\njeepney==0.8.0\nJinja2==3.1.2\njmespath==0.10.0\njoblib @ file:///home/conda/feedstock_root/build_artifacts/joblib_1663332044897/work\njsonpickle==3.0.1\njsonschema==4.18.0\njsonschema-specifications==2023.6.1\njupyter_client==7.4.9\njupyter_core==5.3.1\njupyterlab-pygments==0.2.2\nkeras2onnx==1.6.0\nkiwisolver==1.4.4\nknack==0.10.1\nkorean-lunar-calendar @ file:///home/conda/feedstock_root/build_artifacts/korean_lunar_calendar_1663341251025/work\nlightgbm==3.2.1\nllvmlite==0.38.1\nlocket==1.0.0\nLunarCalendar==0.0.9\nMarkupSafe==2.1.2\nmatplotlib==3.7.2\nmatplotlib-inline==0.1.6\nmistune==3.0.1\nml-wrappers==0.4.11\nmlflow-skinny==2.4.1\nmltable==1.4.1\nmsal==1.22.0\nmsal-extensions==1.0.0\nmsgpack==1.0.5\nmsrest==0.7.1\nmsrestazure==0.6.4\nnbclient==0.8.0\nnbconvert==7.6.0\nnbformat==5.9.0\nndg-httpsclient==0.5.1\nnest-asyncio==1.5.6\nnetworkx==2.5\nnotebook==6.4.9\nnumba==0.55.2\nnumpy==1.22.3\noauthlib==3.2.2\nonnx==1.13.1\nonnxconverter-common==1.6.0\nonnxmltools==1.4.1\nonnxruntime==1.11.1\nopencensus==0.11.2\nopencensus-context==0.1.3\nopencensus-ext-azure==1.1.9\npackaging==23.0\npandas==1.1.5\npandocfilters==1.5.0\nparamiko==3.2.0\nparso==0.8.3\npartd==1.4.0\npathspec==0.11.1\npatsy==0.5.3\npexpect==4.8.0\npickleshare==0.7.5\nPillow==10.0.0\npkginfo==1.9.6\npkgutil_resolve_name==1.3.10\nplatformdirs @ file:///home/conda/feedstock_root/build_artifacts/platformdirs_1688739404342/work\npmdarima==1.8.0\npooch @ file:///home/conda/feedstock_root/build_artifacts/pooch_1679580333621/work\nportalocker==2.7.0\nprometheus-client==0.17.0\nprompt-toolkit==3.0.39\nproperty-cached==1.6.4\nprotobuf==3.20.3\npsutil @ file:///home/conda/feedstock_root/build_artifacts/psutil_1681775007745/work\nptyprocess==0.7.0\npure-eval==0.2.2\npy-cpuinfo==5.0.0\npyarrow==9.0.0\npyasn1==0.5.0\npyasn1-modules==0.3.0\npycparser @ file:///home/conda/feedstock_root/build_artifacts/pycparser_1636257122734/work\npydantic==1.10.11\nPygments==2.15.1\nPyJWT==2.7.0\nPyMeeus @ file:///home/conda/feedstock_root/build_artifacts/pymeeus_1670868433998/work\nPyNaCl==1.5.0\npyOpenSSL @ file:///home/conda/feedstock_root/build_artifacts/pyopenssl_1685514481738/work\npyparsing==3.0.9\nPySocks @ file:///home/conda/feedstock_root/build_artifacts/pysocks_1661604839144/work\npystan==2.19.1.1\npython-dateutil @ file:///home/conda/feedstock_root/build_artifacts/python-dateutil_1626286286081/work\npytz @ file:///home/conda/feedstock_root/build_artifacts/pytz_1680088766131/work\nPyYAML==6.0\npyzmq==25.1.0\nraiutils==0.4.0\nreferencing==0.29.1\nrequests @ file:///home/conda/feedstock_root/build_artifacts/requests_1684774241324/work\nrequests-oauthlib==1.3.1\nresponsibleai==0.28.0\nrpds-py==0.8.8\nrsa==4.9\ns3transfer==0.5.2\nscikit-learn==0.22.1\nscipy==1.5.3\nSecretStorage==3.3.3\nsemver==2.13.0\nSend2Trash==1.8.2\nsetuptools-git==1.2\nshap==0.41.0\nsix @ file:///home/conda/feedstock_root/build_artifacts/six_1620240208055/work\nskl2onnx==1.4.9\nsklearn-pandas==1.7.0\nslicer==0.0.7\nsmart-open==1.9.0\nsmmap==5.0.0\nsortedcontainers==2.4.0\nsoupsieve==2.4.1\nsparse==0.14.0\nsqlparse==0.4.4\nstack-data==0.6.2\nstatsmodels==0.11.1\ntabulate==0.9.0\ntblib==2.0.0\ntermcolor==2.3.0\nterminado==0.17.1\ntinycss2==1.2.1\ntoolz==0.12.0\ntornado==6.3.2\ntqdm==4.65.0\ntraitlets==5.9.0\ntyping_extensions @ file:///home/conda/feedstock_root/build_artifacts/typing_extensions_1688315532570/work\nurllib3==1.26.16\nwcwidth==0.2.6\nwebencodings==0.5.1\nwebsocket-client==1.6.1\nWerkzeug==2.3.6\nwrapt==1.12.1\nxgboost==1.3.3\nzict==3.0.0\nzipp==3.15.0\n\n2023-08-15T00:24:59,847284511+00:00 | gunicorn/run | \n2023-08-15T00:24:59,849367268+00:00 | gunicorn/run | ###############################################\n2023-08-15T00:24:59,851330017+00:00 | gunicorn/run | Checking if the Python package azureml-inference-server-http is installed\n2023-08-15T00:24:59,856220588+00:00 | gunicorn/run | ###############################################\n2023-08-15T00:24:59,859470034+00:00 | gunicorn/run | \n2023-08-15T00:25:03,017786447+00:00 | gunicorn/run | \n2023-08-15T00:25:03,020522754+00:00 | gunicorn/run | ###############################################\n2023-08-15T00:25:03,022746522+00:00 | gunicorn/run | AzureML Inference Server\n2023-08-15T00:25:03,026219185+00:00 | gunicorn/run | ###############################################\n2023-08-15T00:25:03,028804181+00:00 | gunicorn/run | \n2023-08-15T00:25:06,151384688+00:00 | gunicorn/run | Starting AzureML Inference Server HTTP.\n2023-08-15 00:25:06,548 I [78] azmlinfsrv - Loaded logging config from /azureml-envs/azureml-automl/lib/python3.8/site-packages/azureml_inference_server_http/logging.json\n2023-08-15 00:25:06,862 I [78] gunicorn.error - Starting gunicorn 20.1.0\n2023-08-15 00:25:06,864 I [78] gunicorn.error - Listening at: http://0.0.0.0:31311 (78)\n2023-08-15 00:25:06,864 I [78] gunicorn.error - Using worker: sync\n2023-08-15 00:25:06,868 I [137] gunicorn.error - Booting worker with pid: 137\n\nAzure ML Inferencing HTTP server v0.8.4\n/azureml-envs/azureml-automl/lib/python3.8/site-packages/azureml_inference_server_http/server/config.py:51: FutureWarning: aliases are no longer used by BaseSettings to define which environment variables to read. Instead use the \"env\" field setting. See https://pydantic-docs.helpmanual.io/usage/settings/#environment-variable-names\n  class AMLInferenceServerConfig(pydantic.BaseSettings):\n\n\nServer Settings\n---------------\nEntry Script Name: /var/azureml-app/main.py\nModel Directory: /var/azureml-app/azureml-models/AutoMLb42a4edaa36/1\nConfig File: None\nWorker Count: 1\nWorker Timeout (seconds): 300\nServer Port: 31311\nHealth Port: 31311\nApplication Insights Enabled: false\nApplication Insights Key: None\nInferencing HTTP server version: azmlinfsrv/0.8.4\nCORS for the specified origins: None\nCreate dedicated endpoint for health: None\n\n\nServer Routes\n---------------\nLiveness Probe: GET   127.0.0.1:31311/\nScore:          POST  127.0.0.1:31311/score\n\n2023-08-15 00:25:07,798 I [137] azmlinfsrv - AML_FLASK_ONE_COMPATIBILITY is set. Patched Flask to ensure compatibility with Flask 1.\nInitializing logger\n2023-08-15 00:25:07,802 I [137] azmlinfsrv - Starting up app insights client\n2023-08-15 00:25:08,773 I [137] azmlinfsrv.user_script - Found driver script at /var/azureml-app/main.py and the score script at /var/azureml-app/score.py\n2023-08-15 00:25:08,774 I [137] azmlinfsrv.user_script - run() is decorated with @input_schema. Server will invoke it with the following arguments: data, method.\n2023-08-15 00:25:08,774 I [137] azmlinfsrv.user_script - Invoking user's init function\nERROR:fbprophet.plot:Importing plotly failed. Interactive plots will not work.\n2023-08-15 00:25:19,341 I [137] azmlinfsrv.user_script - Users's init has completed successfully\n2023-08-15 00:25:19,343 I [137] azmlinfsrv.swagger - Swaggers are prepared for the following versions: [2, 3, 3.1].\n2023-08-15 00:25:19,343 I [137] azmlinfsrv - Scoring timeout is set to 60000\n2023-08-15 00:25:19,347 W [137] azmlinfsrv - x-ms-request-id header has been deprecated and will be removed from future versions of the server. Please use x-ms-client-request-id.\n2023-08-15 00:25:19,349 I [137] gunicorn.access - 127.0.0.1 - - [15/Aug/2023:00:25:19 +0000] \"GET / HTTP/1.0\" 200 7 \"-\" \"Go-http-client/1.1\"\n2023-08-15 00:25:19,351 W [137] azmlinfsrv - x-ms-request-id header has been deprecated and will be removed from future versions of the server. Please use x-ms-client-request-id.\n2023-08-15 00:25:19,352 I [137] gunicorn.access - 127.0.0.1 - - [15/Aug/2023:00:25:19 +0000] \"GET / HTTP/1.0\" 200 7 \"-\" \"Go-http-client/1.1\"\n2023-08-15 00:25:19,358 W [137] azmlinfsrv - x-ms-request-id header has been deprecated and will be removed from future versions of the server. Please use x-ms-client-request-id.\n2023-08-15 00:25:19,358 I [137] azmlinfsrv - GET /swagger.json 200 0.994ms 2888\n2023-08-15 00:25:19,359 I [137] gunicorn.access - 127.0.0.1 - - [15/Aug/2023:00:25:19 +0000] \"GET /swagger.json HTTP/1.0\" 200 2888 \"-\" \"Go-http-client/1.1\"\n2023-08-15 00:25:23,819 W [137] azmlinfsrv - x-ms-request-id header has been deprecated and will be removed from future versions of the server. Please use x-ms-client-request-id.\n2023-08-15 00:25:23,820 I [137] gunicorn.access - 127.0.0.1 - - [15/Aug/2023:00:25:23 +0000] \"GET / HTTP/1.0\" 200 7 \"-\" \"Go-http-client/1.1\"\n2023-08-15 00:25:23,824 W [137] azmlinfsrv - x-ms-request-id header has been deprecated and will be removed from future versions of the server. Please use x-ms-client-request-id.\n2023-08-15 00:25:23,825 I [137] azmlinfsrv - GET /swagger.json 200 0.448ms 2888\n2023-08-15 00:25:23,826 I [137] gunicorn.access - 127.0.0.1 - - [15/Aug/2023:00:25:23 +0000] \"GET /swagger.json HTTP/1.0\" 200 2888 \"-\" \"Go-http-client/1.1\"\n2023-08-15 00:27:40,448 W [137] azmlinfsrv - x-ms-request-id header has been deprecated and will be removed from future versions of the server. Please use x-ms-client-request-id.\n2023-08-15 00:27:40,533 I [137] azmlinfsrv - POST /score 200 85.569ms 27\n2023-08-15 00:27:40,535 I [137] gunicorn.access - 127.0.0.1 - - [15/Aug/2023:00:27:40 +0000] \"POST /score HTTP/1.0\" 200 27 \"-\" \"python-requests/2.31.0\"\n\n"
        }
      ],
      "execution_count": 17,
      "metadata": {
        "gather": {
          "logged": 1692059283449
        }
      }
    },
    {
      "cell_type": "code",
      "source": [
        "import os\n",
        "\n",
        "logs_file_path =project_folder+ '/aci_logs.txt'\n",
        "with open(logs_file_path, 'w') as f:\n",
        "    f.write(logs)\n"
      ],
      "outputs": [],
      "execution_count": 18,
      "metadata": {
        "gather": {
          "logged": 1692059293162
        },
        "jupyter": {
          "outputs_hidden": false,
          "source_hidden": false
        },
        "nteract": {
          "transient": {
            "deleting": false
          }
        }
      }
    },
    {
      "cell_type": "code",
      "source": [
        "# Delete the web service\n",
        "aci_service.delete()\n",
        "compute_target.delete()"
      ],
      "outputs": [
        {
          "output_type": "stream",
          "name": "stdout",
          "text": "Current provisioning state of AmlCompute is \"Deleting\"\n\n"
        }
      ],
      "execution_count": 19,
      "metadata": {
        "gather": {
          "logged": 1692059302640
        }
      }
    },
    {
      "cell_type": "markdown",
      "source": [
        "**Submission Checklist**\n",
        "- I have registered the model.\n",
        "- I have deployed the model with the best accuracy as a webservice.\n",
        "- I have tested the webservice by sending a request to the model endpoint.\n",
        "- I have deleted the webservice and shutdown all the computes that I have used.\n",
        "- I have taken a screenshot showing the model endpoint as active.\n",
        "- The project includes a file containing the environment details.\n"
      ],
      "metadata": {}
    },
    {
      "cell_type": "markdown",
      "source": [],
      "metadata": {}
    }
  ],
  "metadata": {
    "kernel_info": {
      "name": "python38-azureml"
    },
    "kernelspec": {
      "name": "python38-azureml",
      "language": "python",
      "display_name": "Python 3.8 - AzureML"
    },
    "language_info": {
      "name": "python",
      "version": "3.8.5",
      "mimetype": "text/x-python",
      "codemirror_mode": {
        "name": "ipython",
        "version": 3
      },
      "pygments_lexer": "ipython3",
      "nbconvert_exporter": "python",
      "file_extension": ".py"
    },
    "microsoft": {
      "host": {
        "AzureML": {
          "notebookHasBeenCompleted": true
        }
      },
      "ms_spell_check": {
        "ms_spell_check_language": "en"
      }
    },
    "nteract": {
      "version": "nteract-front-end@1.0.0"
    }
  },
  "nbformat": 4,
  "nbformat_minor": 2
}