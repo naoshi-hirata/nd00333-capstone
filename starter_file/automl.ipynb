{
  "cells": [
    {
      "cell_type": "code",
      "source": [
        "!pip install --upgrade azureml-sdk\n",
        "!pip install --upgrade azureml-core\n"
      ],
      "outputs": [
        {
          "output_type": "stream",
          "name": "stdout",
          "text": "Collecting azureml-sdk\n  Downloading azureml_sdk-1.52.0-py3-none-any.whl (2.7 kB)\nCollecting azureml-train-core~=1.52.0\n  Downloading azureml_train_core-1.52.0-py3-none-any.whl (8.6 MB)\n\u001b[K     |████████████████████████████████| 8.6 MB 6.5 MB/s eta 0:00:01\n\u001b[?25hCollecting azureml-pipeline~=1.52.0\n  Downloading azureml_pipeline-1.52.0-py3-none-any.whl (2.4 kB)\nCollecting azureml-dataset-runtime[fuse]~=1.52.0\n  Downloading azureml_dataset_runtime-1.52.0-py3-none-any.whl (2.3 kB)\nCollecting azureml-train-automl-client~=1.52.0\n  Downloading azureml_train_automl_client-1.52.0-py3-none-any.whl (137 kB)\n\u001b[K     |████████████████████████████████| 137 kB 99.1 MB/s eta 0:00:01\n\u001b[?25hCollecting azureml-core~=1.52.0\n  Downloading azureml_core-1.52.0-py3-none-any.whl (3.3 MB)\n\u001b[K     |████████████████████████████████| 3.3 MB 90.2 MB/s eta 0:00:01\n\u001b[?25hCollecting azureml-telemetry~=1.52.0\n  Downloading azureml_telemetry-1.52.0-py3-none-any.whl (30 kB)\nCollecting azureml-train-restclients-hyperdrive~=1.52.0\n  Downloading azureml_train_restclients_hyperdrive-1.52.0-py3-none-any.whl (18 kB)\nCollecting azureml-pipeline-steps~=1.52.0\n  Downloading azureml_pipeline_steps-1.52.0-py3-none-any.whl (69 kB)\n\u001b[K     |████████████████████████████████| 69 kB 7.7 MB/s  eta 0:00:01\n\u001b[?25hCollecting azureml-pipeline-core~=1.52.0\n  Downloading azureml_pipeline_core-1.52.0-py3-none-any.whl (313 kB)\n\u001b[K     |████████████████████████████████| 313 kB 95.2 MB/s eta 0:00:01\n\u001b[?25hCollecting azureml-dataprep<4.12.0a,>=4.11.3a\n  Downloading azureml_dataprep-4.11.4-py3-none-any.whl (38.2 MB)\n\u001b[K     |████████████████████████████████| 38.2 MB 77.3 MB/s eta 0:00:01\n\u001b[?25hRequirement already satisfied, skipping upgrade: numpy!=1.19.3,<1.24; sys_platform == \"linux\" in /anaconda/envs/azureml_py38/lib/python3.8/site-packages (from azureml-dataset-runtime[fuse]~=1.52.0->azureml-sdk) (1.21.6)\nRequirement already satisfied, skipping upgrade: pyarrow<=11.0.0,>=0.17.0 in /anaconda/envs/azureml_py38/lib/python3.8/site-packages (from azureml-dataset-runtime[fuse]~=1.52.0->azureml-sdk) (9.0.0)\nRequirement already satisfied, skipping upgrade: fusepy<4.0.0,>=3.0.1; extra == \"fuse\" in /anaconda/envs/azureml_py38/lib/python3.8/site-packages (from azureml-dataset-runtime[fuse]~=1.52.0->azureml-sdk) (3.0.1)\nCollecting azureml-automl-core~=1.52.0\n  Downloading azureml_automl_core-1.52.0-py3-none-any.whl (247 kB)\n\u001b[K     |████████████████████████████████| 247 kB 87.8 MB/s eta 0:00:01\n\u001b[?25hRequirement already satisfied, skipping upgrade: azure-graphrbac<1.0.0,>=0.40.0 in /anaconda/envs/azureml_py38/lib/python3.8/site-packages (from azureml-core~=1.52.0->azureml-sdk) (0.61.1)\nRequirement already satisfied, skipping upgrade: docker<7.0.0 in /anaconda/envs/azureml_py38/lib/python3.8/site-packages (from azureml-core~=1.52.0->azureml-sdk) (6.0.1)\nRequirement already satisfied, skipping upgrade: python-dateutil<3.0.0,>=2.7.3 in /anaconda/envs/azureml_py38/lib/python3.8/site-packages (from azureml-core~=1.52.0->azureml-sdk) (2.8.2)\nRequirement already satisfied, skipping upgrade: PyJWT<3.0.0 in /anaconda/envs/azureml_py38/lib/python3.8/site-packages (from azureml-core~=1.52.0->azureml-sdk) (2.4.0)\nRequirement already satisfied, skipping upgrade: azure-core<2.0.0 in /anaconda/envs/azureml_py38/lib/python3.8/site-packages (from azureml-core~=1.52.0->azureml-sdk) (1.26.3)\nRequirement already satisfied, skipping upgrade: paramiko<4.0.0,>=2.0.8 in /anaconda/envs/azureml_py38/lib/python3.8/site-packages (from azureml-core~=1.52.0->azureml-sdk) (2.12.0)\nRequirement already satisfied, skipping upgrade: pytz in /anaconda/envs/azureml_py38/lib/python3.8/site-packages (from azureml-core~=1.52.0->azureml-sdk) (2022.5)\nRequirement already satisfied, skipping upgrade: azure-mgmt-keyvault<11.0.0,>=0.40.0 in /anaconda/envs/azureml_py38/lib/python3.8/site-packages (from azureml-core~=1.52.0->azureml-sdk) (10.1.0)\nRequirement already satisfied, skipping upgrade: backports.tempfile in /anaconda/envs/azureml_py38/lib/python3.8/site-packages (from azureml-core~=1.52.0->azureml-sdk) (1.0)\nRequirement already satisfied, skipping upgrade: pkginfo in /anaconda/envs/azureml_py38/lib/python3.8/site-packages (from azureml-core~=1.52.0->azureml-sdk) (1.9.6)\nRequirement already satisfied, skipping upgrade: contextlib2<22.0.0 in /anaconda/envs/azureml_py38/lib/python3.8/site-packages (from azureml-core~=1.52.0->azureml-sdk) (21.6.0)\nRequirement already satisfied, skipping upgrade: cryptography!=1.9,!=2.0.*,!=2.1.*,!=2.2.* in /anaconda/envs/azureml_py38/lib/python3.8/site-packages (from azureml-core~=1.52.0->azureml-sdk) (38.0.4)\nRequirement already satisfied, skipping upgrade: msal-extensions<=1.0.0,>=0.3.0 in /anaconda/envs/azureml_py38/lib/python3.8/site-packages (from azureml-core~=1.52.0->azureml-sdk) (0.3.1)\nRequirement already satisfied, skipping upgrade: urllib3<2.0.0,>=1.23 in /anaconda/envs/azureml_py38/lib/python3.8/site-packages (from azureml-core~=1.52.0->azureml-sdk) (1.26.14)\nRequirement already satisfied, skipping upgrade: adal<=1.2.7,>=1.2.0 in /anaconda/envs/azureml_py38/lib/python3.8/site-packages (from azureml-core~=1.52.0->azureml-sdk) (1.2.7)\nRequirement already satisfied, skipping upgrade: SecretStorage<4.0.0 in /anaconda/envs/azureml_py38/lib/python3.8/site-packages (from azureml-core~=1.52.0->azureml-sdk) (3.3.3)\nRequirement already satisfied, skipping upgrade: pyopenssl<24.0.0 in /anaconda/envs/azureml_py38/lib/python3.8/site-packages (from azureml-core~=1.52.0->azureml-sdk) (23.0.0)\nRequirement already satisfied, skipping upgrade: azure-common<2.0.0,>=1.1.12 in /anaconda/envs/azureml_py38/lib/python3.8/site-packages (from azureml-core~=1.52.0->azureml-sdk) (1.1.28)\nRequirement already satisfied, skipping upgrade: azure-mgmt-containerregistry<11,>=8.2.0 in /anaconda/envs/azureml_py38/lib/python3.8/site-packages (from azureml-core~=1.52.0->azureml-sdk) (10.0.0)\nRequirement already satisfied, skipping upgrade: argcomplete<3 in /anaconda/envs/azureml_py38/lib/python3.8/site-packages (from azureml-core~=1.52.0->azureml-sdk) (2.0.0)\nRequirement already satisfied, skipping upgrade: humanfriendly<11.0,>=4.7 in /anaconda/envs/azureml_py38/lib/python3.8/site-packages (from azureml-core~=1.52.0->azureml-sdk) (10.0)\nRequirement already satisfied, skipping upgrade: azure-mgmt-authorization<4,>=0.40.0 in /anaconda/envs/azureml_py38/lib/python3.8/site-packages (from azureml-core~=1.52.0->azureml-sdk) (3.0.0)\nRequirement already satisfied, skipping upgrade: requests[socks]<3.0.0,>=2.19.1 in /anaconda/envs/azureml_py38/lib/python3.8/site-packages (from azureml-core~=1.52.0->azureml-sdk) (2.28.2)\nRequirement already satisfied, skipping upgrade: knack~=0.10.0 in /anaconda/envs/azureml_py38/lib/python3.8/site-packages (from azureml-core~=1.52.0->azureml-sdk) (0.10.1)\nRequirement already satisfied, skipping upgrade: msrestazure<=0.6.4,>=0.4.33 in /anaconda/envs/azureml_py38/lib/python3.8/site-packages (from azureml-core~=1.52.0->azureml-sdk) (0.6.4)\nRequirement already satisfied, skipping upgrade: pathspec<1.0.0 in /anaconda/envs/azureml_py38/lib/python3.8/site-packages (from azureml-core~=1.52.0->azureml-sdk) (0.11.0)\nRequirement already satisfied, skipping upgrade: jsonpickle<4.0.0 in /anaconda/envs/azureml_py38/lib/python3.8/site-packages (from azureml-core~=1.52.0->azureml-sdk) (2.2.0)\nRequirement already satisfied, skipping upgrade: packaging<=23.0,>=20.0 in /anaconda/envs/azureml_py38/lib/python3.8/site-packages (from azureml-core~=1.52.0->azureml-sdk) (21.3)\nRequirement already satisfied, skipping upgrade: msrest<=0.7.1,>=0.5.1 in /anaconda/envs/azureml_py38/lib/python3.8/site-packages (from azureml-core~=1.52.0->azureml-sdk) (0.7.1)\nRequirement already satisfied, skipping upgrade: azure-mgmt-storage<=21.0.0,>=16.0.0 in /anaconda/envs/azureml_py38/lib/python3.8/site-packages (from azureml-core~=1.52.0->azureml-sdk) (20.1.0)\nRequirement already satisfied, skipping upgrade: msal<2.0.0,>=1.15.0 in /anaconda/envs/azureml_py38/lib/python3.8/site-packages (from azureml-core~=1.52.0->azureml-sdk) (1.21.0)\nRequirement already satisfied, skipping upgrade: azure-mgmt-resource<=22.0.0,>=15.0.0 in /anaconda/envs/azureml_py38/lib/python3.8/site-packages (from azureml-core~=1.52.0->azureml-sdk) (21.2.1)\nRequirement already satisfied, skipping upgrade: ndg-httpsclient<=0.5.1 in /anaconda/envs/azureml_py38/lib/python3.8/site-packages (from azureml-core~=1.52.0->azureml-sdk) (0.5.1)\nRequirement already satisfied, skipping upgrade: jmespath<2.0.0 in /anaconda/envs/azureml_py38/lib/python3.8/site-packages (from azureml-core~=1.52.0->azureml-sdk) (0.10.0)\nRequirement already satisfied, skipping upgrade: applicationinsights in /anaconda/envs/azureml_py38/lib/python3.8/site-packages (from azureml-telemetry~=1.52.0->azureml-train-core~=1.52.0->azureml-sdk) (0.11.10)\nRequirement already satisfied, skipping upgrade: jsonschema in /anaconda/envs/azureml_py38/lib/python3.8/site-packages (from azureml-dataprep<4.12.0a,>=4.11.3a->azureml-dataset-runtime[fuse]~=1.52.0->azureml-sdk) (4.17.3)\nRequirement already satisfied, skipping upgrade: dotnetcore2<4.0.0,>=3.0.0 in /anaconda/envs/azureml_py38/lib/python3.8/site-packages (from azureml-dataprep<4.12.0a,>=4.11.3a->azureml-dataset-runtime[fuse]~=1.52.0->azureml-sdk) (3.1.23)\nRequirement already satisfied, skipping upgrade: azureml-dataprep-native<39.0.0,>=38.0.0 in /anaconda/envs/azureml_py38/lib/python3.8/site-packages (from azureml-dataprep<4.12.0a,>=4.11.3a->azureml-dataset-runtime[fuse]~=1.52.0->azureml-sdk) (38.0.0)\nRequirement already satisfied, skipping upgrade: pyyaml<7.0.0,>=5.1.0 in /anaconda/envs/azureml_py38/lib/python3.8/site-packages (from azureml-dataprep<4.12.0a,>=4.11.3a->azureml-dataset-runtime[fuse]~=1.52.0->azureml-sdk) (6.0)\nRequirement already satisfied, skipping upgrade: cloudpickle<3.0.0,>=1.1.0 in /anaconda/envs/azureml_py38/lib/python3.8/site-packages (from azureml-dataprep<4.12.0a,>=4.11.3a->azureml-dataset-runtime[fuse]~=1.52.0->azureml-sdk) (1.6.0)\nRequirement already satisfied, skipping upgrade: azure-identity>=1.7.0 in /anaconda/envs/azureml_py38/lib/python3.8/site-packages (from azureml-dataprep<4.12.0a,>=4.11.3a->azureml-dataset-runtime[fuse]~=1.52.0->azureml-sdk) (1.7.0)\nCollecting azureml-dataprep-rslex~=2.18.4dev0\n  Downloading azureml_dataprep_rslex-2.18.4-cp38-cp38-manylinux_2_17_x86_64.manylinux2014_x86_64.whl (22.0 MB)\n\u001b[K     |████████████████████████████████| 22.0 MB 69.6 MB/s eta 0:00:01\n\u001b[?25hRequirement already satisfied, skipping upgrade: websocket-client>=0.32.0 in /anaconda/envs/azureml_py38/lib/python3.8/site-packages (from docker<7.0.0->azureml-core~=1.52.0->azureml-sdk) (1.5.0)\nRequirement already satisfied, skipping upgrade: six>=1.5 in /anaconda/envs/azureml_py38/lib/python3.8/site-packages (from python-dateutil<3.0.0,>=2.7.3->azureml-core~=1.52.0->azureml-sdk) (1.16.0)\nRequirement already satisfied, skipping upgrade: typing-extensions>=4.0.1 in /anaconda/envs/azureml_py38/lib/python3.8/site-packages (from azure-core<2.0.0->azureml-core~=1.52.0->azureml-sdk) (4.4.0)\nRequirement already satisfied, skipping upgrade: pynacl>=1.0.1 in /anaconda/envs/azureml_py38/lib/python3.8/site-packages (from paramiko<4.0.0,>=2.0.8->azureml-core~=1.52.0->azureml-sdk) (1.5.0)\nRequirement already satisfied, skipping upgrade: bcrypt>=3.1.3 in /anaconda/envs/azureml_py38/lib/python3.8/site-packages (from paramiko<4.0.0,>=2.0.8->azureml-core~=1.52.0->azureml-sdk) (4.0.1)\nRequirement already satisfied, skipping upgrade: azure-mgmt-core<2.0.0,>=1.3.1 in /anaconda/envs/azureml_py38/lib/python3.8/site-packages (from azure-mgmt-keyvault<11.0.0,>=0.40.0->azureml-core~=1.52.0->azureml-sdk) (1.3.2)\nRequirement already satisfied, skipping upgrade: backports.weakref in /anaconda/envs/azureml_py38/lib/python3.8/site-packages (from backports.tempfile->azureml-core~=1.52.0->azureml-sdk) (1.0.post1)\nRequirement already satisfied, skipping upgrade: cffi>=1.12 in /anaconda/envs/azureml_py38/lib/python3.8/site-packages (from cryptography!=1.9,!=2.0.*,!=2.1.*,!=2.2.*->azureml-core~=1.52.0->azureml-sdk) (1.15.1)\nRequirement already satisfied, skipping upgrade: portalocker<3,>=1.0; python_version >= \"3.5\" and platform_system != \"Windows\" in /anaconda/envs/azureml_py38/lib/python3.8/site-packages (from msal-extensions<=1.0.0,>=0.3.0->azureml-core~=1.52.0->azureml-sdk) (2.7.0)\nRequirement already satisfied, skipping upgrade: jeepney>=0.6 in /anaconda/envs/azureml_py38/lib/python3.8/site-packages (from SecretStorage<4.0.0->azureml-core~=1.52.0->azureml-sdk) (0.8.0)\nRequirement already satisfied, skipping upgrade: charset-normalizer<4,>=2 in /anaconda/envs/azureml_py38/lib/python3.8/site-packages (from requests[socks]<3.0.0,>=2.19.1->azureml-core~=1.52.0->azureml-sdk) (3.0.1)\nRequirement already satisfied, skipping upgrade: idna<4,>=2.5 in /anaconda/envs/azureml_py38/lib/python3.8/site-packages (from requests[socks]<3.0.0,>=2.19.1->azureml-core~=1.52.0->azureml-sdk) (3.4)\nRequirement already satisfied, skipping upgrade: certifi>=2017.4.17 in /anaconda/envs/azureml_py38/lib/python3.8/site-packages (from requests[socks]<3.0.0,>=2.19.1->azureml-core~=1.52.0->azureml-sdk) (2022.9.24)\nRequirement already satisfied, skipping upgrade: PySocks!=1.5.7,>=1.5.6; extra == \"socks\" in /anaconda/envs/azureml_py38/lib/python3.8/site-packages (from requests[socks]<3.0.0,>=2.19.1->azureml-core~=1.52.0->azureml-sdk) (1.7.1)\nRequirement already satisfied, skipping upgrade: tabulate in /anaconda/envs/azureml_py38/lib/python3.8/site-packages (from knack~=0.10.0->azureml-core~=1.52.0->azureml-sdk) (0.9.0)\nRequirement already satisfied, skipping upgrade: pygments in /anaconda/envs/azureml_py38/lib/python3.8/site-packages (from knack~=0.10.0->azureml-core~=1.52.0->azureml-sdk) (2.14.0)\nRequirement already satisfied, skipping upgrade: pyparsing!=3.0.5,>=2.0.2 in /anaconda/envs/azureml_py38/lib/python3.8/site-packages (from packaging<=23.0,>=20.0->azureml-core~=1.52.0->azureml-sdk) (3.0.9)\nRequirement already satisfied, skipping upgrade: requests-oauthlib>=0.5.0 in /anaconda/envs/azureml_py38/lib/python3.8/site-packages (from msrest<=0.7.1,>=0.5.1->azureml-core~=1.52.0->azureml-sdk) (1.3.1)\nRequirement already satisfied, skipping upgrade: isodate>=0.6.0 in /anaconda/envs/azureml_py38/lib/python3.8/site-packages (from msrest<=0.7.1,>=0.5.1->azureml-core~=1.52.0->azureml-sdk) (0.6.1)\nRequirement already satisfied, skipping upgrade: pyasn1>=0.1.1 in /anaconda/envs/azureml_py38/lib/python3.8/site-packages (from ndg-httpsclient<=0.5.1->azureml-core~=1.52.0->azureml-sdk) (0.4.8)\nRequirement already satisfied, skipping upgrade: pyrsistent!=0.17.0,!=0.17.1,!=0.17.2,>=0.14.0 in /anaconda/envs/azureml_py38/lib/python3.8/site-packages (from jsonschema->azureml-dataprep<4.12.0a,>=4.11.3a->azureml-dataset-runtime[fuse]~=1.52.0->azureml-sdk) (0.19.3)\nRequirement already satisfied, skipping upgrade: pkgutil-resolve-name>=1.3.10; python_version < \"3.9\" in /anaconda/envs/azureml_py38/lib/python3.8/site-packages (from jsonschema->azureml-dataprep<4.12.0a,>=4.11.3a->azureml-dataset-runtime[fuse]~=1.52.0->azureml-sdk) (1.3.10)\nRequirement already satisfied, skipping upgrade: attrs>=17.4.0 in /anaconda/envs/azureml_py38/lib/python3.8/site-packages (from jsonschema->azureml-dataprep<4.12.0a,>=4.11.3a->azureml-dataset-runtime[fuse]~=1.52.0->azureml-sdk) (22.2.0)\nRequirement already satisfied, skipping upgrade: importlib-resources>=1.4.0; python_version < \"3.9\" in /anaconda/envs/azureml_py38/lib/python3.8/site-packages (from jsonschema->azureml-dataprep<4.12.0a,>=4.11.3a->azureml-dataset-runtime[fuse]~=1.52.0->azureml-sdk) (5.10.2)\nRequirement already satisfied, skipping upgrade: distro>=1.2.0 in /anaconda/envs/azureml_py38/lib/python3.8/site-packages (from dotnetcore2<4.0.0,>=3.0.0->azureml-dataprep<4.12.0a,>=4.11.3a->azureml-dataset-runtime[fuse]~=1.52.0->azureml-sdk) (1.8.0)\nRequirement already satisfied, skipping upgrade: pycparser in /anaconda/envs/azureml_py38/lib/python3.8/site-packages (from cffi>=1.12->cryptography!=1.9,!=2.0.*,!=2.1.*,!=2.2.*->azureml-core~=1.52.0->azureml-sdk) (2.21)\nRequirement already satisfied, skipping upgrade: oauthlib>=3.0.0 in /anaconda/envs/azureml_py38/lib/python3.8/site-packages (from requests-oauthlib>=0.5.0->msrest<=0.7.1,>=0.5.1->azureml-core~=1.52.0->azureml-sdk) (3.2.2)\nRequirement already satisfied, skipping upgrade: zipp>=3.1.0; python_version < \"3.10\" in /anaconda/envs/azureml_py38/lib/python3.8/site-packages (from importlib-resources>=1.4.0; python_version < \"3.9\"->jsonschema->azureml-dataprep<4.12.0a,>=4.11.3a->azureml-dataset-runtime[fuse]~=1.52.0->azureml-sdk) (3.12.0)\n\u001b[31mERROR: azureml-widgets 1.49.0 has requirement azureml-core~=1.49.0, but you'll have azureml-core 1.52.0 which is incompatible.\u001b[0m\n\u001b[31mERROR: azureml-widgets 1.49.0 has requirement azureml-telemetry~=1.49.0, but you'll have azureml-telemetry 1.52.0 which is incompatible.\u001b[0m\n\u001b[31mERROR: azureml-training-tabular 1.49.0 has requirement azureml-automl-core~=1.49.0, but you'll have azureml-automl-core 1.52.0 which is incompatible.\u001b[0m\n\u001b[31mERROR: azureml-train 1.49.0 has requirement azureml-train-core~=1.49.0, but you'll have azureml-train-core 1.52.0 which is incompatible.\u001b[0m\n\u001b[31mERROR: azureml-train-automl 1.49.0 has requirement azureml-automl-core~=1.49.0, but you'll have azureml-automl-core 1.52.0 which is incompatible.\u001b[0m\n\u001b[31mERROR: azureml-train-automl 1.49.0 has requirement azureml-dataset-runtime[fuse,pandas]~=1.49.0, but you'll have azureml-dataset-runtime 1.52.0 which is incompatible.\u001b[0m\n\u001b[31mERROR: azureml-train-automl 1.49.0 has requirement azureml-train-automl-client~=1.49.0, but you'll have azureml-train-automl-client 1.52.0 which is incompatible.\u001b[0m\n\u001b[31mERROR: azureml-train-automl-runtime 1.49.0 has requirement azureml-automl-core~=1.49.0, but you'll have azureml-automl-core 1.52.0 which is incompatible.\u001b[0m\n\u001b[31mERROR: azureml-train-automl-runtime 1.49.0 has requirement azureml-core~=1.49.0, but you'll have azureml-core 1.52.0 which is incompatible.\u001b[0m\n\u001b[31mERROR: azureml-train-automl-runtime 1.49.0 has requirement azureml-dataset-runtime[fuse,pandas]~=1.49.0, but you'll have azureml-dataset-runtime 1.52.0 which is incompatible.\u001b[0m\n\u001b[31mERROR: azureml-train-automl-runtime 1.49.0 has requirement azureml-telemetry~=1.49.0, but you'll have azureml-telemetry 1.52.0 which is incompatible.\u001b[0m\n\u001b[31mERROR: azureml-train-automl-runtime 1.49.0 has requirement azureml-train-automl-client~=1.49.0, but you'll have azureml-train-automl-client 1.52.0 which is incompatible.\u001b[0m\n\u001b[31mERROR: azureml-tensorboard 1.49.0 has requirement azureml-core~=1.49.0, but you'll have azureml-core 1.52.0 which is incompatible.\u001b[0m\n\u001b[31mERROR: azureml-responsibleai 1.49.0 has requirement azureml-core~=1.49.0, but you'll have azureml-core 1.52.0 which is incompatible.\u001b[0m\n\u001b[31mERROR: azureml-responsibleai 1.49.0 has requirement azureml-dataset-runtime~=1.49.0, but you'll have azureml-dataset-runtime 1.52.0 which is incompatible.\u001b[0m\n\u001b[31mERROR: azureml-responsibleai 1.49.0 has requirement azureml-telemetry~=1.49.0, but you'll have azureml-telemetry 1.52.0 which is incompatible.\u001b[0m\n\u001b[31mERROR: azureml-opendatasets 1.49.0 has requirement azureml-core~=1.49.0, but you'll have azureml-core 1.52.0 which is incompatible.\u001b[0m\n\u001b[31mERROR: azureml-opendatasets 1.49.0 has requirement azureml-dataset-runtime[fuse,pandas]~=1.49.0, but you'll have azureml-dataset-runtime 1.52.0 which is incompatible.\u001b[0m\n\u001b[31mERROR: azureml-opendatasets 1.49.0 has requirement azureml-telemetry~=1.49.0, but you'll have azureml-telemetry 1.52.0 which is incompatible.\u001b[0m\n\u001b[31mERROR: azureml-interpret 1.49.0 has requirement azureml-core~=1.49.0, but you'll have azureml-core 1.52.0 which is incompatible.\u001b[0m\n\u001b[31mERROR: azureml-defaults 1.49.0 has requirement azureml-core~=1.49.0, but you'll have azureml-core 1.52.0 which is incompatible.\u001b[0m\n\u001b[31mERROR: azureml-defaults 1.49.0 has requirement azureml-dataset-runtime[fuse]~=1.49.0, but you'll have azureml-dataset-runtime 1.52.0 which is incompatible.\u001b[0m\n\u001b[31mERROR: azureml-datadrift 1.49.0 has requirement azureml-core~=1.49.0, but you'll have azureml-core 1.52.0 which is incompatible.\u001b[0m\n\u001b[31mERROR: azureml-datadrift 1.49.0 has requirement azureml-dataset-runtime[fuse,pandas]~=1.49.0, but you'll have azureml-dataset-runtime 1.52.0 which is incompatible.\u001b[0m\n\u001b[31mERROR: azureml-datadrift 1.49.0 has requirement azureml-pipeline-core~=1.49.0, but you'll have azureml-pipeline-core 1.52.0 which is incompatible.\u001b[0m\n\u001b[31mERROR: azureml-datadrift 1.49.0 has requirement azureml-telemetry~=1.49.0, but you'll have azureml-telemetry 1.52.0 which is incompatible.\u001b[0m\n\u001b[31mERROR: azureml-contrib-server 1.49.0 has requirement azureml-core~=1.49.0, but you'll have azureml-core 1.52.0 which is incompatible.\u001b[0m\n\u001b[31mERROR: azureml-contrib-reinforcementlearning 1.49.0 has requirement azureml-core~=1.49.0, but you'll have azureml-core 1.52.0 which is incompatible.\u001b[0m\n\u001b[31mERROR: azureml-contrib-reinforcementlearning 1.49.0 has requirement azureml-train-core~=1.49.0, but you'll have azureml-train-core 1.52.0 which is incompatible.\u001b[0m\n\u001b[31mERROR: azureml-contrib-pipeline-steps 1.49.0 has requirement azureml-core~=1.49.0, but you'll have azureml-core 1.52.0 which is incompatible.\u001b[0m\n\u001b[31mERROR: azureml-contrib-pipeline-steps 1.49.0 has requirement azureml-dataset-runtime~=1.49.0, but you'll have azureml-dataset-runtime 1.52.0 which is incompatible.\u001b[0m\n\u001b[31mERROR: azureml-contrib-pipeline-steps 1.49.0 has requirement azureml-pipeline-core~=1.49.0, but you'll have azureml-pipeline-core 1.52.0 which is incompatible.\u001b[0m\n\u001b[31mERROR: azureml-contrib-notebook 1.49.0 has requirement azureml-core~=1.49.0, but you'll have azureml-core 1.52.0 which is incompatible.\u001b[0m\n\u001b[31mERROR: azureml-contrib-notebook 1.49.0 has requirement azureml-pipeline-core~=1.49.0, but you'll have azureml-pipeline-core 1.52.0 which is incompatible.\u001b[0m\n\u001b[31mERROR: azureml-contrib-notebook 1.49.0 has requirement nbconvert<6, but you'll have nbconvert 7.3.0 which is incompatible.\u001b[0m\n\u001b[31mERROR: azureml-contrib-fairness 1.49.0 has requirement azureml-core~=1.49.0, but you'll have azureml-core 1.52.0 which is incompatible.\u001b[0m\n\u001b[31mERROR: azureml-contrib-dataset 1.49.0 has requirement azureml-core~=1.49.0, but you'll have azureml-core 1.52.0 which is incompatible.\u001b[0m\n\u001b[31mERROR: azureml-contrib-dataset 1.49.0 has requirement azureml-dataset-runtime[fuse,pandas]~=1.49.0, but you'll have azureml-dataset-runtime 1.52.0 which is incompatible.\u001b[0m\n\u001b[31mERROR: azureml-contrib-automl-pipeline-steps 1.49.0 has requirement azureml-pipeline-steps~=1.49.0, but you'll have azureml-pipeline-steps 1.52.0 which is incompatible.\u001b[0m\n\u001b[31mERROR: azureml-cli-common 1.49.0 has requirement azureml-core~=1.49.0, but you'll have azureml-core 1.52.0 which is incompatible.\u001b[0m\n\u001b[31mERROR: azureml-cli-common 1.49.0 has requirement azureml-pipeline-core~=1.49.0, but you'll have azureml-pipeline-core 1.52.0 which is incompatible.\u001b[0m\n\u001b[31mERROR: azureml-cli-common 1.49.0 has requirement azureml-train-core~=1.49.0; python_version >= \"3.5\", but you'll have azureml-train-core 1.52.0 which is incompatible.\u001b[0m\n\u001b[31mERROR: azureml-automl-runtime 1.49.0 has requirement azureml-automl-core~=1.49.0, but you'll have azureml-automl-core 1.52.0 which is incompatible.\u001b[0m\n\u001b[31mERROR: azureml-automl-runtime 1.49.0 has requirement azureml-dataset-runtime[fuse,pandas]~=1.49.0, but you'll have azureml-dataset-runtime 1.52.0 which is incompatible.\u001b[0m\n\u001b[31mERROR: azureml-automl-dnn-nlp 1.49.0 has requirement azureml-automl-core~=1.49.0, but you'll have azureml-automl-core 1.52.0 which is incompatible.\u001b[0m\n\u001b[31mERROR: azureml-automl-dnn-nlp 1.49.0 has requirement azureml-core~=1.49.0, but you'll have azureml-core 1.52.0 which is incompatible.\u001b[0m\n\u001b[31mERROR: azureml-automl-dnn-nlp 1.49.0 has requirement azureml-telemetry~=1.49.0, but you'll have azureml-telemetry 1.52.0 which is incompatible.\u001b[0m\n\u001b[31mERROR: azureml-accel-models 1.49.0 has requirement azureml-core~=1.49.0, but you'll have azureml-core 1.52.0 which is incompatible.\u001b[0m\nInstalling collected packages: azureml-core, azureml-telemetry, azureml-train-restclients-hyperdrive, azureml-train-core, azureml-dataprep-rslex, azureml-dataprep, azureml-dataset-runtime, azureml-automl-core, azureml-train-automl-client, azureml-pipeline-core, azureml-pipeline-steps, azureml-pipeline, azureml-sdk\n  Attempting uninstall: azureml-core\n    Found existing installation: azureml-core 1.49.0\n    Uninstalling azureml-core-1.49.0:\n      Successfully uninstalled azureml-core-1.49.0\n  Attempting uninstall: azureml-telemetry\n    Found existing installation: azureml-telemetry 1.49.0\n    Uninstalling azureml-telemetry-1.49.0:\n      Successfully uninstalled azureml-telemetry-1.49.0\n  Attempting uninstall: azureml-train-restclients-hyperdrive\n    Found existing installation: azureml-train-restclients-hyperdrive 1.49.0\n    Uninstalling azureml-train-restclients-hyperdrive-1.49.0:\n      Successfully uninstalled azureml-train-restclients-hyperdrive-1.49.0\n  Attempting uninstall: azureml-train-core\n    Found existing installation: azureml-train-core 1.49.0\n    Uninstalling azureml-train-core-1.49.0:\n      Successfully uninstalled azureml-train-core-1.49.0\n  Attempting uninstall: azureml-dataprep-rslex\n    Found existing installation: azureml-dataprep-rslex 2.16.1\n    Uninstalling azureml-dataprep-rslex-2.16.1:\n      Successfully uninstalled azureml-dataprep-rslex-2.16.1\n  Attempting uninstall: azureml-dataprep\n    Found existing installation: azureml-dataprep 4.9.1\n    Uninstalling azureml-dataprep-4.9.1:\n      Successfully uninstalled azureml-dataprep-4.9.1\n  Attempting uninstall: azureml-dataset-runtime\n    Found existing installation: azureml-dataset-runtime 1.49.0\n    Uninstalling azureml-dataset-runtime-1.49.0:\n      Successfully uninstalled azureml-dataset-runtime-1.49.0\n  Attempting uninstall: azureml-automl-core\n    Found existing installation: azureml-automl-core 1.49.0\n    Uninstalling azureml-automl-core-1.49.0:\n      Successfully uninstalled azureml-automl-core-1.49.0\n  Attempting uninstall: azureml-train-automl-client\n    Found existing installation: azureml-train-automl-client 1.49.0\n    Uninstalling azureml-train-automl-client-1.49.0:\n      Successfully uninstalled azureml-train-automl-client-1.49.0\n  Attempting uninstall: azureml-pipeline-core\n    Found existing installation: azureml-pipeline-core 1.49.0\n    Uninstalling azureml-pipeline-core-1.49.0:\n      Successfully uninstalled azureml-pipeline-core-1.49.0\n  Attempting uninstall: azureml-pipeline-steps\n    Found existing installation: azureml-pipeline-steps 1.49.0\n    Uninstalling azureml-pipeline-steps-1.49.0:\n      Successfully uninstalled azureml-pipeline-steps-1.49.0\n  Attempting uninstall: azureml-pipeline\n    Found existing installation: azureml-pipeline 1.49.0\n    Uninstalling azureml-pipeline-1.49.0:\n      Successfully uninstalled azureml-pipeline-1.49.0\n  Attempting uninstall: azureml-sdk\n    Found existing installation: azureml-sdk 1.49.0\n    Uninstalling azureml-sdk-1.49.0:\n      Successfully uninstalled azureml-sdk-1.49.0\nSuccessfully installed azureml-automl-core-1.52.0 azureml-core-1.52.0 azureml-dataprep-4.11.4 azureml-dataprep-rslex-2.18.4 azureml-dataset-runtime-1.52.0 azureml-pipeline-1.52.0 azureml-pipeline-core-1.52.0 azureml-pipeline-steps-1.52.0 azureml-sdk-1.52.0 azureml-telemetry-1.52.0 azureml-train-automl-client-1.52.0 azureml-train-core-1.52.0 azureml-train-restclients-hyperdrive-1.52.0\nRequirement already up-to-date: azureml-core in /anaconda/envs/azureml_py38/lib/python3.8/site-packages (1.52.0)\nRequirement already satisfied, skipping upgrade: msal-extensions<=1.0.0,>=0.3.0 in /anaconda/envs/azureml_py38/lib/python3.8/site-packages (from azureml-core) (0.3.1)\nRequirement already satisfied, skipping upgrade: msrestazure<=0.6.4,>=0.4.33 in /anaconda/envs/azureml_py38/lib/python3.8/site-packages (from azureml-core) (0.6.4)\nRequirement already satisfied, skipping upgrade: contextlib2<22.0.0 in /anaconda/envs/azureml_py38/lib/python3.8/site-packages (from azureml-core) (21.6.0)\nRequirement already satisfied, skipping upgrade: jmespath<2.0.0 in /anaconda/envs/azureml_py38/lib/python3.8/site-packages (from azureml-core) (0.10.0)\nRequirement already satisfied, skipping upgrade: pytz in /anaconda/envs/azureml_py38/lib/python3.8/site-packages (from azureml-core) (2022.5)\nRequirement already satisfied, skipping upgrade: msal<2.0.0,>=1.15.0 in /anaconda/envs/azureml_py38/lib/python3.8/site-packages (from azureml-core) (1.21.0)\nRequirement already satisfied, skipping upgrade: paramiko<4.0.0,>=2.0.8 in /anaconda/envs/azureml_py38/lib/python3.8/site-packages (from azureml-core) (2.12.0)\nRequirement already satisfied, skipping upgrade: PyJWT<3.0.0 in /anaconda/envs/azureml_py38/lib/python3.8/site-packages (from azureml-core) (2.4.0)\nRequirement already satisfied, skipping upgrade: backports.tempfile in /anaconda/envs/azureml_py38/lib/python3.8/site-packages (from azureml-core) (1.0)\nRequirement already satisfied, skipping upgrade: urllib3<2.0.0,>=1.23 in /anaconda/envs/azureml_py38/lib/python3.8/site-packages (from azureml-core) (1.26.14)\nRequirement already satisfied, skipping upgrade: packaging<=23.0,>=20.0 in /anaconda/envs/azureml_py38/lib/python3.8/site-packages (from azureml-core) (21.3)\nRequirement already satisfied, skipping upgrade: azure-graphrbac<1.0.0,>=0.40.0 in /anaconda/envs/azureml_py38/lib/python3.8/site-packages (from azureml-core) (0.61.1)\nRequirement already satisfied, skipping upgrade: azure-core<2.0.0 in /anaconda/envs/azureml_py38/lib/python3.8/site-packages (from azureml-core) (1.26.3)\nRequirement already satisfied, skipping upgrade: msrest<=0.7.1,>=0.5.1 in /anaconda/envs/azureml_py38/lib/python3.8/site-packages (from azureml-core) (0.7.1)\nRequirement already satisfied, skipping upgrade: humanfriendly<11.0,>=4.7 in /anaconda/envs/azureml_py38/lib/python3.8/site-packages (from azureml-core) (10.0)\nRequirement already satisfied, skipping upgrade: ndg-httpsclient<=0.5.1 in /anaconda/envs/azureml_py38/lib/python3.8/site-packages (from azureml-core) (0.5.1)\nRequirement already satisfied, skipping upgrade: adal<=1.2.7,>=1.2.0 in /anaconda/envs/azureml_py38/lib/python3.8/site-packages (from azureml-core) (1.2.7)\nRequirement already satisfied, skipping upgrade: requests[socks]<3.0.0,>=2.19.1 in /anaconda/envs/azureml_py38/lib/python3.8/site-packages (from azureml-core) (2.28.2)\nRequirement already satisfied, skipping upgrade: azure-mgmt-authorization<4,>=0.40.0 in /anaconda/envs/azureml_py38/lib/python3.8/site-packages (from azureml-core) (3.0.0)\nRequirement already satisfied, skipping upgrade: pyopenssl<24.0.0 in /anaconda/envs/azureml_py38/lib/python3.8/site-packages (from azureml-core) (23.0.0)\nRequirement already satisfied, skipping upgrade: cryptography!=1.9,!=2.0.*,!=2.1.*,!=2.2.* in /anaconda/envs/azureml_py38/lib/python3.8/site-packages (from azureml-core) (38.0.4)\nRequirement already satisfied, skipping upgrade: azure-mgmt-resource<=22.0.0,>=15.0.0 in /anaconda/envs/azureml_py38/lib/python3.8/site-packages (from azureml-core) (21.2.1)\nRequirement already satisfied, skipping upgrade: azure-mgmt-containerregistry<11,>=8.2.0 in /anaconda/envs/azureml_py38/lib/python3.8/site-packages (from azureml-core) (10.0.0)\nRequirement already satisfied, skipping upgrade: azure-common<2.0.0,>=1.1.12 in /anaconda/envs/azureml_py38/lib/python3.8/site-packages (from azureml-core) (1.1.28)\nRequirement already satisfied, skipping upgrade: knack~=0.10.0 in /anaconda/envs/azureml_py38/lib/python3.8/site-packages (from azureml-core) (0.10.1)\nRequirement already satisfied, skipping upgrade: azure-mgmt-keyvault<11.0.0,>=0.40.0 in /anaconda/envs/azureml_py38/lib/python3.8/site-packages (from azureml-core) (10.1.0)\nRequirement already satisfied, skipping upgrade: jsonpickle<4.0.0 in /anaconda/envs/azureml_py38/lib/python3.8/site-packages (from azureml-core) (2.2.0)\nRequirement already satisfied, skipping upgrade: azure-mgmt-storage<=21.0.0,>=16.0.0 in /anaconda/envs/azureml_py38/lib/python3.8/site-packages (from azureml-core) (20.1.0)\nRequirement already satisfied, skipping upgrade: pathspec<1.0.0 in /anaconda/envs/azureml_py38/lib/python3.8/site-packages (from azureml-core) (0.11.0)\nRequirement already satisfied, skipping upgrade: pkginfo in /anaconda/envs/azureml_py38/lib/python3.8/site-packages (from azureml-core) (1.9.6)\nRequirement already satisfied, skipping upgrade: docker<7.0.0 in /anaconda/envs/azureml_py38/lib/python3.8/site-packages (from azureml-core) (6.0.1)\nRequirement already satisfied, skipping upgrade: SecretStorage<4.0.0 in /anaconda/envs/azureml_py38/lib/python3.8/site-packages (from azureml-core) (3.3.3)\nRequirement already satisfied, skipping upgrade: python-dateutil<3.0.0,>=2.7.3 in /anaconda/envs/azureml_py38/lib/python3.8/site-packages (from azureml-core) (2.8.2)\nRequirement already satisfied, skipping upgrade: argcomplete<3 in /anaconda/envs/azureml_py38/lib/python3.8/site-packages (from azureml-core) (2.0.0)\nRequirement already satisfied, skipping upgrade: portalocker<3,>=1.0; python_version >= \"3.5\" and platform_system != \"Windows\" in /anaconda/envs/azureml_py38/lib/python3.8/site-packages (from msal-extensions<=1.0.0,>=0.3.0->azureml-core) (2.7.0)\nRequirement already satisfied, skipping upgrade: six in /anaconda/envs/azureml_py38/lib/python3.8/site-packages (from msrestazure<=0.6.4,>=0.4.33->azureml-core) (1.16.0)\nRequirement already satisfied, skipping upgrade: bcrypt>=3.1.3 in /anaconda/envs/azureml_py38/lib/python3.8/site-packages (from paramiko<4.0.0,>=2.0.8->azureml-core) (4.0.1)\nRequirement already satisfied, skipping upgrade: pynacl>=1.0.1 in /anaconda/envs/azureml_py38/lib/python3.8/site-packages (from paramiko<4.0.0,>=2.0.8->azureml-core) (1.5.0)\nRequirement already satisfied, skipping upgrade: backports.weakref in /anaconda/envs/azureml_py38/lib/python3.8/site-packages (from backports.tempfile->azureml-core) (1.0.post1)\nRequirement already satisfied, skipping upgrade: pyparsing!=3.0.5,>=2.0.2 in /anaconda/envs/azureml_py38/lib/python3.8/site-packages (from packaging<=23.0,>=20.0->azureml-core) (3.0.9)\nRequirement already satisfied, skipping upgrade: typing-extensions>=4.0.1 in /anaconda/envs/azureml_py38/lib/python3.8/site-packages (from azure-core<2.0.0->azureml-core) (4.4.0)\nRequirement already satisfied, skipping upgrade: isodate>=0.6.0 in /anaconda/envs/azureml_py38/lib/python3.8/site-packages (from msrest<=0.7.1,>=0.5.1->azureml-core) (0.6.1)\nRequirement already satisfied, skipping upgrade: requests-oauthlib>=0.5.0 in /anaconda/envs/azureml_py38/lib/python3.8/site-packages (from msrest<=0.7.1,>=0.5.1->azureml-core) (1.3.1)\nRequirement already satisfied, skipping upgrade: certifi>=2017.4.17 in /anaconda/envs/azureml_py38/lib/python3.8/site-packages (from msrest<=0.7.1,>=0.5.1->azureml-core) (2022.9.24)\nRequirement already satisfied, skipping upgrade: pyasn1>=0.1.1 in /anaconda/envs/azureml_py38/lib/python3.8/site-packages (from ndg-httpsclient<=0.5.1->azureml-core) (0.4.8)\nRequirement already satisfied, skipping upgrade: charset-normalizer<4,>=2 in /anaconda/envs/azureml_py38/lib/python3.8/site-packages (from requests[socks]<3.0.0,>=2.19.1->azureml-core) (3.0.1)\nRequirement already satisfied, skipping upgrade: idna<4,>=2.5 in /anaconda/envs/azureml_py38/lib/python3.8/site-packages (from requests[socks]<3.0.0,>=2.19.1->azureml-core) (3.4)\nRequirement already satisfied, skipping upgrade: PySocks!=1.5.7,>=1.5.6; extra == \"socks\" in /anaconda/envs/azureml_py38/lib/python3.8/site-packages (from requests[socks]<3.0.0,>=2.19.1->azureml-core) (1.7.1)\nRequirement already satisfied, skipping upgrade: azure-mgmt-core<2.0.0,>=1.3.2 in /anaconda/envs/azureml_py38/lib/python3.8/site-packages (from azure-mgmt-authorization<4,>=0.40.0->azureml-core) (1.3.2)\nRequirement already satisfied, skipping upgrade: cffi>=1.12 in /anaconda/envs/azureml_py38/lib/python3.8/site-packages (from cryptography!=1.9,!=2.0.*,!=2.1.*,!=2.2.*->azureml-core) (1.15.1)\nRequirement already satisfied, skipping upgrade: pygments in /anaconda/envs/azureml_py38/lib/python3.8/site-packages (from knack~=0.10.0->azureml-core) (2.14.0)\nRequirement already satisfied, skipping upgrade: tabulate in /anaconda/envs/azureml_py38/lib/python3.8/site-packages (from knack~=0.10.0->azureml-core) (0.9.0)\nRequirement already satisfied, skipping upgrade: pyyaml in /anaconda/envs/azureml_py38/lib/python3.8/site-packages (from knack~=0.10.0->azureml-core) (6.0)\nRequirement already satisfied, skipping upgrade: websocket-client>=0.32.0 in /anaconda/envs/azureml_py38/lib/python3.8/site-packages (from docker<7.0.0->azureml-core) (1.5.0)\nRequirement already satisfied, skipping upgrade: jeepney>=0.6 in /anaconda/envs/azureml_py38/lib/python3.8/site-packages (from SecretStorage<4.0.0->azureml-core) (0.8.0)\nRequirement already satisfied, skipping upgrade: oauthlib>=3.0.0 in /anaconda/envs/azureml_py38/lib/python3.8/site-packages (from requests-oauthlib>=0.5.0->msrest<=0.7.1,>=0.5.1->azureml-core) (3.2.2)\nRequirement already satisfied, skipping upgrade: pycparser in /anaconda/envs/azureml_py38/lib/python3.8/site-packages (from cffi>=1.12->cryptography!=1.9,!=2.0.*,!=2.1.*,!=2.2.*->azureml-core) (2.21)\n"
        }
      ],
      "execution_count": 23,
      "metadata": {
        "gather": {
          "logged": 1684477071072
        },
        "jupyter": {
          "outputs_hidden": true,
          "source_hidden": false
        },
        "nteract": {
          "transient": {
            "deleting": false
          }
        },
        "scrolled": true
      }
    },
    {
      "cell_type": "code",
      "source": [
        "!pip list"
      ],
      "outputs": [
        {
          "output_type": "stream",
          "name": "stdout",
          "text": "Package                                 Version\r\n--------------------------------------- -------------------\r\nabsl-py                                 0.15.0\r\nadal                                    1.2.7\r\nadlfs                                   2023.1.0\r\naiohttp                                 3.8.4\r\naiohttp-cors                            0.7.0\r\naiosignal                               1.3.1\r\nansiwrap                                0.8.4\r\nantlr4-python3-runtime                  4.9.3\r\nanyio                                   3.6.2\r\napplicationinsights                     0.11.10\r\narch                                    4.14\r\nargcomplete                             2.0.0\r\nargon2-cffi                             21.3.0\r\nargon2-cffi-bindings                    21.2.0\r\narrow                                   1.2.3\r\narviz                                   0.11.2\r\nastroid                                 2.15.2\r\nasttokens                               2.2.1\r\nastunparse                              1.6.3\r\nasync-timeout                           4.0.2\r\nattrs                                   22.2.0\r\nauto-tqdm                               1.0.2\r\nautokeras                               1.0.16\r\nautopep8                                2.0.2\r\nazure-appconfiguration                  1.1.1\r\nazure-batch                             13.0.0\r\nazure-cli                               2.47.0\r\nazure-cli-core                          2.47.0\r\nazure-cli-telemetry                     1.0.8\r\nazure-common                            1.1.28\r\nazure-core                              1.26.3\r\nazure-cosmos                            3.2.0\r\nazure-data-tables                       12.4.0\r\nazure-datalake-store                    0.0.52\r\nazure-graphrbac                         0.61.1\r\nazure-identity                          1.7.0\r\nazure-keyvault                          1.1.0\r\nazure-keyvault-administration           4.0.0b3\r\nazure-keyvault-keys                     4.8.0b2\r\nazure-loganalytics                      0.1.1\r\nazure-mgmt-advisor                      9.0.0\r\nazure-mgmt-apimanagement                3.0.0\r\nazure-mgmt-appconfiguration             3.0.0\r\nazure-mgmt-appcontainers                2.0.0\r\nazure-mgmt-applicationinsights          1.0.0\r\nazure-mgmt-authorization                3.0.0\r\nazure-mgmt-batch                        17.0.0\r\nazure-mgmt-batchai                      7.0.0b1\r\nazure-mgmt-billing                      6.0.0\r\nazure-mgmt-botservice                   2.0.0\r\nazure-mgmt-cdn                          12.0.0\r\nazure-mgmt-cognitiveservices            13.3.0\r\nazure-mgmt-compute                      29.1.0\r\nazure-mgmt-consumption                  2.0.0\r\nazure-mgmt-containerinstance            10.1.0b1\r\nazure-mgmt-containerregistry            10.0.0\r\nazure-mgmt-containerservice             22.0.0\r\nazure-mgmt-core                         1.3.2\r\nazure-mgmt-cosmosdb                     9.0.0\r\nazure-mgmt-databoxedge                  1.0.0\r\nazure-mgmt-datalake-analytics           0.2.1\r\nazure-mgmt-datalake-nspkg               3.0.1\r\nazure-mgmt-datalake-store               0.5.0\r\nazure-mgmt-datamigration                10.0.0\r\nazure-mgmt-devtestlabs                  4.0.0\r\nazure-mgmt-dns                          8.0.0\r\nazure-mgmt-eventgrid                    10.2.0b2\r\nazure-mgmt-eventhub                     10.1.0\r\nazure-mgmt-extendedlocation             1.0.0b2\r\nazure-mgmt-hdinsight                    9.0.0\r\nazure-mgmt-imagebuilder                 1.1.0\r\nazure-mgmt-iotcentral                   10.0.0b2\r\nazure-mgmt-iothub                       2.3.0\r\nazure-mgmt-iothubprovisioningservices   1.1.0\r\nazure-mgmt-keyvault                     10.1.0\r\nazure-mgmt-kusto                        0.3.0\r\nazure-mgmt-loganalytics                 13.0.0b4\r\nazure-mgmt-managedservices              1.0.0\r\nazure-mgmt-managementgroups             1.0.0\r\nazure-mgmt-maps                         2.0.0\r\nazure-mgmt-marketplaceordering          1.1.0\r\nazure-mgmt-media                        9.0.0\r\nazure-mgmt-monitor                      5.0.1\r\nazure-mgmt-msi                          7.0.0\r\nazure-mgmt-netapp                       9.0.1\r\nazure-mgmt-network                      23.0.0\r\nazure-mgmt-nspkg                        3.0.2\r\nazure-mgmt-policyinsights               1.1.0b4\r\nazure-mgmt-privatedns                   1.0.0\r\nazure-mgmt-rdbms                        10.2.0b6\r\nazure-mgmt-recoveryservices             2.2.0\r\nazure-mgmt-recoveryservicesbackup       5.1.0\r\nazure-mgmt-redhatopenshift              1.2.0\r\nazure-mgmt-redis                        14.1.0\r\nazure-mgmt-relay                        0.1.0\r\nazure-mgmt-resource                     21.2.1\r\nazure-mgmt-search                       9.0.0\r\nazure-mgmt-security                     3.0.0\r\nazure-mgmt-servicebus                   8.2.0\r\nazure-mgmt-servicefabric                1.0.0\r\nazure-mgmt-servicefabricmanagedclusters 1.0.0\r\nazure-mgmt-servicelinker                1.2.0b1\r\nazure-mgmt-signalr                      1.1.0\r\nazure-mgmt-sql                          4.0.0b8\r\nazure-mgmt-sqlvirtualmachine            1.0.0b5\r\nazure-mgmt-storage                      20.1.0\r\nazure-mgmt-synapse                      2.1.0b5\r\nazure-mgmt-trafficmanager               1.0.0\r\nazure-mgmt-web                          7.0.0\r\nazure-multiapi-storage                  1.0.0\r\nazure-nspkg                             3.0.2\r\nazure-storage-blob                      12.13.0\r\nazure-storage-common                    1.4.2\r\nazure-storage-queue                     12.5.0\r\nazure-synapse-accesscontrol             0.5.0\r\nazure-synapse-artifacts                 0.15.0\r\nazure-synapse-managedprivateendpoints   0.4.0\r\nazure-synapse-spark                     0.2.0\r\nazureml-accel-models                    1.49.0\r\nazureml-automl-core                     1.52.0\r\nazureml-automl-dnn-nlp                  1.49.0\r\nazureml-automl-runtime                  1.49.0\r\nazureml-cli-common                      1.49.0\r\nazureml-contrib-automl-pipeline-steps   1.49.0\r\nazureml-contrib-dataset                 1.49.0\r\nazureml-contrib-fairness                1.49.0\r\nazureml-contrib-notebook                1.49.0\r\nazureml-contrib-pipeline-steps          1.49.0\r\nazureml-contrib-reinforcementlearning   1.49.0\r\nazureml-contrib-server                  1.49.0\r\nazureml-contrib-services                1.49.0\r\nazureml-core                            1.52.0\r\nazureml-datadrift                       1.49.0\r\nazureml-dataprep                        4.11.4\r\nazureml-dataprep-native                 38.0.0\r\nazureml-dataprep-rslex                  2.18.4\r\nazureml-dataset-runtime                 1.52.0\r\nazureml-defaults                        1.49.0\r\nazureml-explain-model                   1.49.0\r\nazureml-inference-server-http           0.8.0\r\nazureml-interpret                       1.49.0\r\nazureml-mlflow                          1.49.0\r\nazureml-opendatasets                    1.49.0\r\nazureml-pipeline                        1.52.0\r\nazureml-pipeline-core                   1.52.0\r\nazureml-pipeline-steps                  1.52.0\r\nazureml-responsibleai                   1.49.0\r\nazureml-sdk                             1.52.0\r\nazureml-telemetry                       1.52.0\r\nazureml-tensorboard                     1.49.0\r\nazureml-train                           1.49.0\r\nazureml-train-automl                    1.49.0\r\nazureml-train-automl-client             1.52.0\r\nazureml-train-automl-runtime            1.49.0\r\nazureml-train-core                      1.52.0\r\nazureml-train-restclients-hyperdrive    1.52.0\r\nazureml-training-tabular                1.49.0\r\nazureml-widgets                         1.49.0\r\nBabel                                   2.12.1\r\nbackcall                                0.2.0\r\nbackports.functools-lru-cache           1.6.4\r\nbackports.tempfile                      1.0\r\nbackports.weakref                       1.0.post1\r\nbackports.zoneinfo                      0.2.1\r\nbcrypt                                  4.0.1\r\nbeautifulsoup4                          4.12.1\r\nblack                                   23.3.0\r\nbleach                                  6.0.0\r\nblessed                                 1.20.0\r\nblis                                    0.4.1\r\nbokeh                                   2.4.3\r\nboto                                    2.49.0\r\nboto3                                   1.20.19\r\nbotocore                                1.23.19\r\nBottleneck                              1.3.7\r\ncachetools                              5.3.0\r\ncatalogue                               1.0.2\r\ncertifi                                 2022.9.24\r\ncffi                                    1.15.1\r\ncftime                                  1.5.1.1\r\nchardet                                 3.0.4\r\ncharset-normalizer                      3.0.1\r\nclick                                   8.1.3\r\ncloudpickle                             1.6.0\r\ncolorama                                0.4.6\r\ncolorful                                0.5.5\r\ncomm                                    0.1.2\r\ncontextlib2                             21.6.0\r\ncontourpy                               1.0.5\r\nconvertdate                             2.3.2\r\ncoremltools                             2.1.0\r\ncramjam                                 2.6.2\r\ncryptography                            38.0.4\r\ncycler                                  0.11.0\r\ncymem                                   2.0.7\r\nCython                                  0.29.17\r\ndask                                    2021.6.0\r\ndask-sql                                2023.4.0\r\ndatabricks-cli                          0.17.4\r\ndataclasses                             0.6\r\ndatasets                                2.3.2\r\ndebugpy                                 1.6.6\r\ndecorator                               5.1.1\r\ndefusedxml                              0.7.1\r\nDeprecated                              1.2.13\r\ndice-ml                                 0.9\r\ndill                                    0.3.6\r\ndistlib                                 0.3.6\r\ndistributed                             2021.6.0\r\ndistro                                  1.8.0\r\ndm-tree                                 0.1.8\r\ndocker                                  6.0.1\r\ndotnetcore2                             3.1.23\r\neconml                                  0.14.0\r\nen-core-web-sm                          2.1.0\r\nencrypted-inference                     0.9\r\nentrypoints                             0.4\r\nenvironments-utils                      1.0.9\r\nephem                                   4.1.2\r\nerroranalysis                           0.4.1\r\nexecuting                               1.2.0\r\nfabric                                  2.7.1\r\nfairlearn                               0.8.0\r\nfastai                                  1.0.61\r\nfastapi                                 0.86.0\r\nfastjsonschema                          2.16.2\r\nfastparquet                             2023.2.0\r\nfastprogress                            1.0.3\r\nfbprophet                               0.7.1\r\nfilelock                                3.9.0\r\nfire                                    0.5.0\r\nflake8                                  6.0.0\r\nFlask                                   2.2.2\r\nFlask-Cors                              3.0.10\r\nflatbuffers                             23.1.21\r\nflit-core                               3.6.0\r\nfonttools                               4.25.0\r\nfqdn                                    1.5.1\r\nfrozenlist                              1.3.3\r\nfsspec                                  2023.1.0\r\nfusepy                                  3.0.1\r\nfuture                                  0.18.3\r\ngast                                    0.3.3\r\ngensim                                  3.8.3\r\ngevent                                  1.3.6\r\ngitdb                                   4.0.10\r\nGitPython                               3.1.30\r\ngoogle-api-core                         2.11.0\r\ngoogle-auth                             2.16.0\r\ngoogle-auth-oauthlib                    0.4.6\r\ngoogle-pasta                            0.2.0\r\ngoogleapis-common-protos                1.58.0\r\ngpustat                                 1.1\r\ngreenlet                                2.0.2\r\ngrpcio                                  1.51.1\r\ngunicorn                                20.1.0\r\ngym                                     0.23.1\r\ngym-notices                             0.0.8\r\nGymnasium                               0.26.3\r\ngymnasium-notices                       0.0.1\r\nh11                                     0.14.0\r\nh5py                                    3.8.0\r\nHeapDict                                1.0.1\r\nhijri-converter                         2.2.2\r\nholidays                                0.10.3\r\nhuggingface-hub                         0.12.0\r\nhumanfriendly                           10.0\r\nhumanize                                4.6.0\r\nidna                                    3.4\r\nimageio                                 2.27.0\r\nimportlib-metadata                      5.2.0\r\nimportlib-resources                     5.10.2\r\ninference-schema                        1.5.1\r\ninterpret-community                     0.28.0\r\ninterpret-core                          0.2.7\r\ninvoke                                  1.7.3\r\nipykernel                               6.8.0\r\nipython                                 8.10.0\r\nipython-genutils                        0.2.0\r\nipywidgets                              7.7.1\r\nisodate                                 0.6.1\r\nisoduration                             20.11.0\r\nisort                                   5.12.0\r\nitsdangerous                            2.1.2\r\njavaproperties                          0.5.2\r\njedi                                    0.18.0\r\njeepney                                 0.8.0\r\nJinja2                                  2.11.2\r\njmespath                                0.10.0\r\njoblib                                  0.14.1\r\njson5                                   0.9.11\r\njsondiff                                2.0.0\r\njsonpickle                              2.2.0\r\njsonpointer                             2.3\r\njsonschema                              4.17.3\r\njupyter                                 1.0.0\r\njupyter-client                          6.1.12\r\njupyter-console                         6.6.3\r\njupyter-core                            5.2.0\r\njupyter-events                          0.6.3\r\njupyter-resource-usage                  0.7.2\r\njupyter-server                          2.2.1\r\njupyter-server-mathjax                  0.2.6\r\njupyter-server-proxy                    3.2.2\r\njupyter-server-terminals                0.4.4\r\njupyterlab                              3.2.4\r\njupyterlab-nvdashboard                  0.7.0\r\njupyterlab-pygments                     0.2.2\r\njupyterlab-server                       2.22.0\r\njupyterlab-system-monitor               0.8.0\r\njupyterlab-topbar                       0.6.1\r\njupyterlab-widgets                      1.1.2\r\njupytext                                1.14.5\r\nKeras                                   2.3.1\r\nKeras-Applications                      1.0.8\r\nkeras-nightly                           2.5.0.dev2021032900\r\nKeras-Preprocessing                     1.1.2\r\nkeras-tuner                             1.3.4\r\nkeras2onnx                              1.6.0\r\nkiwisolver                              1.4.4\r\nknack                                   0.10.1\r\nkorean-lunar-calendar                   0.2.1\r\nkt-legacy                               1.0.4\r\nlazy-loader                             0.2\r\nlazy-object-proxy                       1.9.0\r\nliac-arff                               2.5.0\r\nlightgbm                                3.2.1\r\nllvmlite                                0.38.1\r\nlocket                                  1.0.0\r\nLunarCalendar                           0.0.9\r\nlz4                                     4.3.2\r\nMarkdown                                3.4.3\r\nmarkdown-it-py                          2.2.0\r\nMarkupSafe                              2.0.1\r\nmatplotlib                              3.2.1\r\nmatplotlib-inline                       0.1.6\r\nmccabe                                  0.6.1\r\nmdit-py-plugins                         0.3.5\r\nmdurl                                   0.1.2\r\nmistune                                 0.8.4\r\nml-wrappers                             0.4.2\r\nmlflow-skinny                           2.1.1\r\nmsal                                    1.21.0\r\nmsal-extensions                         0.3.1\r\nmsgpack                                 1.0.4\r\nmsrest                                  0.7.1\r\nmsrestazure                             0.6.4\r\nmultidict                               6.0.4\r\nmultiprocess                            0.70.14\r\nmunkres                                 1.1.4\r\nmurmurhash                              1.0.9\r\nmypy-extensions                         1.0.0\r\nnbclassic                               0.5.1\r\nnbclient                                0.7.3\r\nnbconvert                               7.3.0\r\nnbdime                                  3.1.1\r\nnbformat                                5.2.0\r\nndg-httpsclient                         0.5.1\r\nnest-asyncio                            1.5.6\r\nnetCDF4                                 1.6.2\r\nnetworkx                                2.5\r\nnotebook                                6.5.2\r\nnotebook-shim                           0.2.2\r\nnumba                                   0.55.2\r\nnumexpr                                 2.8.4\r\nnumpy                                   1.21.6\r\nnvidia-ml-py                            11.525.112\r\nnvidia-ml-py3                           7.352.0\r\noauthlib                                3.2.2\r\nonnx                                    1.12.0\r\nonnxconverter-common                    1.6.0\r\nonnxmltools                             1.4.1\r\nonnxruntime                             1.11.1\r\nopencensus                              0.11.1\r\nopencensus-context                      0.1.3\r\nopencensus-ext-azure                    1.1.8\r\nopencv-python-headless                  4.7.0.72\r\nopt-einsum                              3.3.0\r\npackaging                               21.3\r\npandas                                  1.1.5\r\npandas-ml                               0.6.1\r\npandocfilters                           1.5.0\r\npapermill                               1.2.1\r\nparamiko                                2.12.0\r\nparso                                   0.8.3\r\npartd                                   1.3.0\r\npathlib2                                2.3.7.post1\r\npathspec                                0.11.0\r\npatsy                                   0.5.3\r\npexpect                                 4.8.0\r\npickleshare                             0.7.5\r\nPillow                                  9.2.0\r\npip                                     20.1.1\r\npkginfo                                 1.9.6\r\npkgutil-resolve-name                    1.3.10\r\nplac                                    1.1.3\r\nplatformdirs                            3.0.0\r\nplotly                                  5.14.1\r\npluggy                                  1.0.0\r\npmdarima                                1.7.1\r\nportalocker                             2.7.0\r\npreshed                                 3.0.8\r\nprometheus-client                       0.16.0\r\nprompt-toolkit                          3.0.30\r\nproperty-cached                         1.6.4\r\nprotobuf                                3.20.1\r\npsutil                                  5.9.4\r\npsycopg2                                2.9.3\r\nptyprocess                              0.7.0\r\npure-eval                               0.2.2\r\npy-spy                                  0.3.14\r\npy4j                                    0.10.9.5\r\npyarrow                                 9.0.0\r\npyasn1                                  0.4.8\r\npyasn1-modules                          0.2.8\r\npycocotools                             2.0.2\r\npycodestyle                             2.6.0\r\npycparser                               2.21\r\npydantic                                1.10.4\r\npydocstyle                              6.3.0\r\npyflakes                                2.2.0\r\nPyGithub                                1.58.1\r\nPygments                                2.14.0\r\nPyJWT                                   2.4.0\r\npylint                                  2.17.2\r\nPyMeeus                                 0.5.11\r\nPyNaCl                                  1.5.0\r\npynvml                                  11.5.0\r\npyodbc                                  4.0.34\r\npyOpenSSL                               23.0.0\r\npyparsing                               3.0.9\r\npyreadline3                             3.4.1\r\npyrsistent                              0.19.3\r\nPySocks                                 1.7.1\r\npyspark                                 3.3.1\r\npystan                                  2.19.1.1\r\npython-dateutil                         2.8.2\r\npython-json-logger                      2.0.5\r\npython-jsonrpc-server                   0.4.0\r\npython-language-server                  0.35.0\r\npython-snappy                           0.6.1\r\npytoolconfig                            1.2.5\r\npytorch-transformers                    1.0.0\r\npytz                                    2022.5\r\npytz-deprecation-shim                   0.1.0.post0\r\nPyWavelets                              1.4.1\r\nPyYAML                                  6.0\r\npyzmq                                   25.0.0\r\nqtconsole                               5.4.2\r\nQtPy                                    2.3.1\r\nQuantLib                                1.29\r\nrai-core-flask                          0.5.0\r\nraiutils                                0.3.0\r\nraiwidgets                              0.24.0\r\nray                                     2.0.0\r\nregex                                   2022.10.31\r\nrequests                                2.28.2\r\nrequests-oauthlib                       1.3.1\r\nresponses                               0.18.0\r\nresponsibleai                           0.24.0\r\nrfc3339-validator                       0.1.4\r\nrfc3986-validator                       0.1.1\r\nrich                                    13.3.3\r\nrope                                    1.7.0\r\nrsa                                     4.9\r\ns3transfer                              0.5.2\r\nsacremoses                              0.0.53\r\nscikit-image                            0.20.0\r\nscikit-learn                            0.22.1\r\nscipy                                   1.5.3\r\nscp                                     0.13.6\r\nscrapbook                               0.5.0\r\nseaborn                                 0.12.2\r\nSecretStorage                           3.3.3\r\nsemver                                  2.13.0\r\nSend2Trash                              1.8.0\r\nsentencepiece                           0.1.97\r\nseqeval                                 1.2.2\r\nsetuptools                              49.6.0\r\nsetuptools-git                          1.2\r\nshap                                    0.39.0\r\nsimpervisor                             0.4\r\nsix                                     1.16.0\r\nskl2onnx                                1.4.9\r\nsklearn-pandas                          1.7.0\r\nslicer                                  0.0.7\r\nsmart-open                              1.9.0\r\nsmmap                                   5.0.0\r\nsniffio                                 1.3.0\r\nsnowballstemmer                         2.2.0\r\nsortedcontainers                        2.4.0\r\nsoupsieve                               2.4\r\nspacy                                   2.2.4\r\nsparse                                  0.13.0\r\nsqlparse                                0.4.3\r\nsrsly                                   1.0.6\r\nsshtunnel                               0.1.5\r\nstack-data                              0.6.2\r\nstarlette                               0.20.4\r\nstatsmodels                             0.11.0\r\nsupport-developer                       1.0.5\r\ntabulate                                0.9.0\r\ntblib                                   1.7.0\r\ntenacity                                8.2.1\r\ntensorboard                             2.2.2\r\ntensorboard-data-server                 0.7.0\r\ntensorboard-plugin-wit                  1.8.1\r\ntensorboardX                            2.6\r\ntensorflow                              2.2.1\r\ntensorflow-cpu                          2.2.1\r\ntensorflow-estimator                    2.2.0\r\ntensorflow-gpu                          2.2.1\r\ntermcolor                               2.2.0\r\nterminado                               0.17.1\r\ntestpath                                0.6.0\r\ntextwrap3                               0.9.2\r\nthinc                                   7.4.0\r\nthreadpoolctl                           2.2.0\r\ntifffile                                2023.3.21\r\ntinycss2                                1.2.1\r\ntokenizers                              0.13.2\r\ntoml                                    0.10.2\r\ntomli                                   2.0.1\r\ntomlkit                                 0.11.7\r\ntoolz                                   0.12.0\r\ntorch                                   1.12.0\r\ntorch-tb-profiler                       0.4.1\r\ntorchvision                             0.9.1\r\ntornado                                 6.2\r\ntqdm                                    4.64.1\r\ntraitlets                               5.9.0\r\ntransformers                            4.16.0\r\ntyper                                   0.7.0\r\ntyping-extensions                       4.4.0\r\ntzdata                                  2023.3\r\ntzlocal                                 4.3\r\nujson                                   5.7.0\r\nuri-template                            1.2.0\r\nurllib3                                 1.26.14\r\nuuid                                    1.30\r\nuvicorn                                 0.21.1\r\nvirtualenv                              20.21.0\r\nwaitress                                2.1.2\r\nwasabi                                  0.10.1\r\nwcwidth                                 0.2.6\r\nwebcolors                               1.13\r\nwebencodings                            0.5.1\r\nwebsocket-client                        1.5.0\r\nwebsockets                              11.0.1\r\nWerkzeug                                2.2.2\r\nwheel                                   0.37.1\r\nwidgetsnbextension                      3.6.2\r\nwrapt                                   1.12.1\r\nxarray                                  0.20.1\r\nxgboost                                 1.3.3\r\nxmltodict                               0.13.0\r\nxxhash                                  3.2.0\r\nyapf                                    0.32.0\r\nyarl                                    1.8.2\r\nzict                                    2.2.0\r\nzipp                                    3.12.0\r\nzope.event                              4.6\r\nzope.interface                          6.0\r\n"
        }
      ],
      "execution_count": 24,
      "metadata": {
        "jupyter": {
          "source_hidden": false,
          "outputs_hidden": true
        },
        "nteract": {
          "transient": {
            "deleting": false
          }
        }
      }
    },
    {
      "cell_type": "markdown",
      "source": [
        "# Automated ML\n",
        "\n",
        "TODO: Import Dependencies. In the cell below, import all the dependencies that you will need to complete the project."
      ],
      "metadata": {}
    },
    {
      "cell_type": "code",
      "source": [
        "import logging\n",
        "import os\n",
        "import csv\n",
        "\n",
        "#from matplotlib import pyplot as plt\n",
        "import numpy as np\n",
        "import pandas as pd\n",
        "#from sklearn import datasets\n",
        "import pkg_resources\n",
        "\n",
        "import azureml.core\n",
        "from azureml.core.experiment import Experiment\n",
        "from azureml.core.workspace import Workspace\n",
        "from azureml.train.automl import AutoMLConfig\n",
        "from azureml.core.dataset import Dataset\n",
        "\n",
        "from azureml.pipeline.steps import AutoMLStep"
      ],
      "outputs": [],
      "execution_count": 1,
      "metadata": {
        "gather": {
          "logged": 1688533509931
        },
        "jupyter": {
          "outputs_hidden": false,
          "source_hidden": false
        },
        "nteract": {
          "transient": {
            "deleting": false
          }
        }
      }
    },
    {
      "cell_type": "markdown",
      "source": [
        "## Dataset\n",
        "\n",
        "### Overview\n",
        "TODO: In this markdown cell, give an overview of the dataset you are using. Also mention the task you will be performing.\n",
        "\n",
        "\n",
        "TODO: Get data. In the cell below, write code to access the data you will be using in this project. Remember that the dataset needs to be external."
      ],
      "metadata": {}
    },
    {
      "cell_type": "markdown",
      "source": [
        "Title: Car Evaluation Database\n",
        "\n",
        "Task: To create the hierarchical decision model\n",
        "\n",
        "This model evaluates cars according to the following concept structure:\n",
        "\n",
        " CAR:car acceptability;\n",
        "\n",
        " buying:buying price;v-high, high, med, low\n",
        " \n",
        " maint:price of the maintenance;v-high, high, med, low\n",
        " \n",
        " doors:number of doors;2, 3, 4, 5-more\n",
        " \n",
        " persons:capacity in terms of persons to carry;2, 4, more\n",
        " \n",
        " lug_boot:the size of luggage boot;small, med, big\n",
        " \n",
        " safety:estimated safety of the car;low, med, high\n",
        "  \n",
        "Class Distribution;unacc,acc,good,v-good"
      ],
      "metadata": {
        "nteract": {
          "transient": {
            "deleting": false
          }
        }
      }
    },
    {
      "cell_type": "code",
      "source": [
        "ws = Workspace.from_config()\n",
        "\n",
        "# choose a name for experiment\n",
        "experiment_name = 'auto-ml'\n",
        "project_folder = './project'\n",
        "\n",
        "experiment=Experiment(ws, experiment_name)"
      ],
      "outputs": [],
      "execution_count": 2,
      "metadata": {
        "gather": {
          "logged": 1688533534324
        },
        "jupyter": {
          "outputs_hidden": false,
          "source_hidden": false
        },
        "nteract": {
          "transient": {
            "deleting": false
          }
        }
      }
    },
    {
      "cell_type": "code",
      "source": [
        "print(ws)"
      ],
      "outputs": [
        {
          "output_type": "stream",
          "name": "stdout",
          "text": "Workspace.create(name='quick-starts-ws-238215', subscription_id='cdbe0b43-92a0-4715-838a-f2648cc7ad21', resource_group='aml-quickstarts-238215')\n"
        }
      ],
      "execution_count": 3,
      "metadata": {
        "gather": {
          "logged": 1688533538299
        },
        "jupyter": {
          "outputs_hidden": false,
          "source_hidden": false
        },
        "nteract": {
          "transient": {
            "deleting": false
          }
        }
      }
    },
    {
      "cell_type": "code",
      "source": [
        "from azureml.core.compute import AmlCompute\n",
        "from azureml.core.compute import ComputeTarget\n",
        "from azureml.core.compute_target import ComputeTargetException\n",
        "\n",
        "# Create the cluster\n",
        "amlcompute_cluster_name = \"auto-ml\"\n",
        "\n",
        "compute_config = AmlCompute.provisioning_configuration(vm_size='STANDARD_D2_V2',\n",
        "    # for GPU, use \"STANDARD_NC6\"\n",
        "    #vm_priority = 'lowpriority', # optional\n",
        "    max_nodes=4)\n",
        "compute_target = ComputeTarget.create(ws, amlcompute_cluster_name, compute_config)\n",
        "\n",
        "#compute_target.wait_for_completion(show_output=True, min_node_count = 1, timeout_in_minutes = 10)\n",
        "# For a more detailed view of current AmlCompute status, use get_status()."
      ],
      "outputs": [],
      "execution_count": 5,
      "metadata": {
        "gather": {
          "logged": 1688533585204
        },
        "jupyter": {
          "outputs_hidden": false,
          "source_hidden": false
        },
        "nteract": {
          "transient": {
            "deleting": false
          }
        }
      }
    },
    {
      "cell_type": "code",
      "source": [
        "# Create AML Dataset and register it into Workspace\n",
        "key='car evaluation data set'\n",
        "data = 'https://archive.ics.uci.edu/ml/machine-learning-databases/car/car.data'\n",
        "\n",
        "df = pd.read_csv(data)\n",
        "columns = ['buying', 'maint', 'doors', 'persons', 'lug_boot', 'safety', 'class']\n",
        "df.columns = columns\n",
        "\n",
        "# Convert the DataFrame to a TabularDataset\n",
        "dataset = Dataset.Tabular.register_pandas_dataframe(\n",
        "    dataframe=df, \n",
        "    target=(ws.get_default_datastore(), key), \n",
        "    name=key, \n",
        "    description='car evaluation data set')\n",
        "\n",
        "df.describe()\n"
      ],
      "outputs": [
        {
          "output_type": "stream",
          "name": "stdout",
          "text": "Validating arguments.\nArguments validated.\nSuccessfully obtained datastore reference and path.\nUploading file to car evaluation data set/ad99769e-8729-4f37-9198-18da450b404d/\nSuccessfully uploaded file to datastore.\nCreating and registering a new dataset.\nSuccessfully created and registered a new dataset.\n"
        },
        {
          "output_type": "execute_result",
          "execution_count": 6,
          "data": {
            "text/plain": "       buying maint doors persons lug_boot safety  class\ncount    1727  1727  1727    1727     1727   1727   1727\nunique      4     4     4       3        3      3      4\ntop      high  high     3    more      med   high  unacc\nfreq      432   432   432     576      576    576   1209",
            "text/html": "<div>\n<style scoped>\n    .dataframe tbody tr th:only-of-type {\n        vertical-align: middle;\n    }\n\n    .dataframe tbody tr th {\n        vertical-align: top;\n    }\n\n    .dataframe thead th {\n        text-align: right;\n    }\n</style>\n<table border=\"1\" class=\"dataframe\">\n  <thead>\n    <tr style=\"text-align: right;\">\n      <th></th>\n      <th>buying</th>\n      <th>maint</th>\n      <th>doors</th>\n      <th>persons</th>\n      <th>lug_boot</th>\n      <th>safety</th>\n      <th>class</th>\n    </tr>\n  </thead>\n  <tbody>\n    <tr>\n      <th>count</th>\n      <td>1727</td>\n      <td>1727</td>\n      <td>1727</td>\n      <td>1727</td>\n      <td>1727</td>\n      <td>1727</td>\n      <td>1727</td>\n    </tr>\n    <tr>\n      <th>unique</th>\n      <td>4</td>\n      <td>4</td>\n      <td>4</td>\n      <td>3</td>\n      <td>3</td>\n      <td>3</td>\n      <td>4</td>\n    </tr>\n    <tr>\n      <th>top</th>\n      <td>high</td>\n      <td>high</td>\n      <td>3</td>\n      <td>more</td>\n      <td>med</td>\n      <td>high</td>\n      <td>unacc</td>\n    </tr>\n    <tr>\n      <th>freq</th>\n      <td>432</td>\n      <td>432</td>\n      <td>432</td>\n      <td>576</td>\n      <td>576</td>\n      <td>576</td>\n      <td>1209</td>\n    </tr>\n  </tbody>\n</table>\n</div>"
          },
          "metadata": {}
        }
      ],
      "execution_count": 6,
      "metadata": {
        "gather": {
          "logged": 1688533624914
        },
        "jupyter": {
          "outputs_hidden": false,
          "source_hidden": false
        },
        "nteract": {
          "transient": {
            "deleting": false
          }
        }
      }
    },
    {
      "cell_type": "markdown",
      "source": [
        "## AutoML Configuration\n",
        "\n",
        "TODO: Explain why you chose the automl settings and cofiguration you used below."
      ],
      "metadata": {}
    },
    {
      "cell_type": "markdown",
      "source": [
        "Automl setting\n",
        "\n",
        " - experiment time out minutes; to avoid endless working\n",
        "\n",
        " - max concurrent iterations; between cost and performance\n",
        "\n",
        " - primary metric; AUC is a widely used metric to evaluate the performance of binary classifiers. The weighted version extends it to multi-class classification by considering the class imbalance when computing the average AUC across classes. \n",
        "\n",
        "Automl configuration\n",
        "\n",
        " - task = \"classification\"; To make classification model\n",
        "\n",
        " - label_column_name=\"class\"; This column gives evalation result\n",
        "\n",
        " - enable_early_stopping= True; To save cost at score improvement small\n",
        "\n",
        " - featurization= 'auto'; Automated separation for training data and test data\n"
      ],
      "metadata": {
        "nteract": {
          "transient": {
            "deleting": false
          }
        }
      }
    },
    {
      "cell_type": "code",
      "source": [
        "# TODO: Put your automl settings here\n",
        "automl_settings = {\n",
        "    \"experiment_timeout_minutes\": 20,\n",
        "    \"max_concurrent_iterations\": 5,\n",
        "    \"primary_metric\" : 'AUC_weighted'\n",
        "}\n",
        "# TODO: Put your automl config here\n",
        "automl_config = AutoMLConfig(compute_target=compute_target,\n",
        "                             task = \"classification\",\n",
        "                             training_data=dataset,\n",
        "                             label_column_name=\"class\",   \n",
        "                             path = project_folder,\n",
        "                             enable_early_stopping= True,\n",
        "                             featurization= 'auto',\n",
        "                             debug_log = \"automl_errors.log\",\n",
        "                             **automl_settings\n",
        "                            )"
      ],
      "outputs": [],
      "execution_count": 7,
      "metadata": {
        "gather": {
          "logged": 1688533632600
        },
        "jupyter": {
          "outputs_hidden": false,
          "source_hidden": false
        },
        "nteract": {
          "transient": {
            "deleting": false
          }
        }
      }
    },
    {
      "cell_type": "code",
      "source": [
        "# TODO: Submit your experiment\n",
        "\n",
        "remote_run = experiment.submit(automl_config)\n"
      ],
      "outputs": [
        {
          "output_type": "stream",
          "name": "stdout",
          "text": "Submitting remote run.\n"
        },
        {
          "output_type": "display_data",
          "data": {
            "text/plain": "<IPython.core.display.HTML object>",
            "text/html": "<table style=\"width:100%\"><tr><th>Experiment</th><th>Id</th><th>Type</th><th>Status</th><th>Details Page</th><th>Docs Page</th></tr><tr><td>auto-ml</td><td>AutoML_4b4d9352-6570-468e-9b75-46398142bdee</td><td>automl</td><td>NotStarted</td><td><a href=\"https://ml.azure.com/runs/AutoML_4b4d9352-6570-468e-9b75-46398142bdee?wsid=/subscriptions/cdbe0b43-92a0-4715-838a-f2648cc7ad21/resourcegroups/aml-quickstarts-238215/workspaces/quick-starts-ws-238215&amp;tid=660b3398-b80e-49d2-bc5b-ac1dc93b5254\" target=\"_blank\" rel=\"noopener\">Link to Azure Machine Learning studio</a></td><td><a href=\"https://docs.microsoft.com/en-us/python/api/overview/azure/ml/intro?view=azure-ml-py\" target=\"_blank\" rel=\"noopener\">Link to Documentation</a></td></tr></table>"
          },
          "metadata": {}
        }
      ],
      "execution_count": 8,
      "metadata": {
        "gather": {
          "logged": 1688533643021
        },
        "jupyter": {
          "outputs_hidden": false,
          "source_hidden": false
        },
        "nteract": {
          "transient": {
            "deleting": false
          }
        }
      }
    },
    {
      "cell_type": "markdown",
      "source": [
        "## Run Details\n",
        "\n",
        "OPTIONAL: Write about the different models trained and their performance. Why do you think some models did better than others?\n",
        "\n",
        "TODO: In the cell below, use the `RunDetails` widget to show the different experiments."
      ],
      "metadata": {}
    },
    {
      "cell_type": "code",
      "source": [
        "from azureml.widgets import RunDetails\n",
        "\n",
        "RunDetails(remote_run).show()"
      ],
      "outputs": [
        {
          "output_type": "display_data",
          "data": {
            "text/plain": "_AutoMLWidget(widget_settings={'childWidgetDisplay': 'popup', 'send_telemetry': False, 'log_level': 'INFO', 's…",
            "application/vnd.jupyter.widget-view+json": {
              "version_major": 2,
              "version_minor": 0,
              "model_id": "4e3dd18fd965466893f82739152e54c9"
            }
          },
          "metadata": {}
        },
        {
          "output_type": "display_data",
          "data": {
            "application/aml.mini.widget.v1": "{\"status\": \"Completed\", \"workbench_run_details_uri\": \"https://ml.azure.com/runs/AutoML_4b4d9352-6570-468e-9b75-46398142bdee?wsid=/subscriptions/cdbe0b43-92a0-4715-838a-f2648cc7ad21/resourcegroups/aml-quickstarts-238215/workspaces/quick-starts-ws-238215&tid=660b3398-b80e-49d2-bc5b-ac1dc93b5254\", \"run_id\": \"AutoML_4b4d9352-6570-468e-9b75-46398142bdee\", \"run_properties\": {\"run_id\": \"AutoML_4b4d9352-6570-468e-9b75-46398142bdee\", \"created_utc\": \"2023-07-05T05:07:21.637654Z\", \"properties\": {\"num_iterations\": \"1000\", \"training_type\": \"TrainFull\", \"acquisition_function\": \"EI\", \"primary_metric\": \"AUC_weighted\", \"train_split\": \"0\", \"acquisition_parameter\": \"0\", \"num_cross_validation\": null, \"target\": \"auto-ml\", \"AMLSettingsJsonString\": \"{\\\"path\\\":null,\\\"name\\\":\\\"auto-ml\\\",\\\"subscription_id\\\":\\\"cdbe0b43-92a0-4715-838a-f2648cc7ad21\\\",\\\"resource_group\\\":\\\"aml-quickstarts-238215\\\",\\\"workspace_name\\\":\\\"quick-starts-ws-238215\\\",\\\"region\\\":\\\"westeurope\\\",\\\"compute_target\\\":\\\"auto-ml\\\",\\\"spark_service\\\":null,\\\"azure_service\\\":\\\"remote\\\",\\\"many_models\\\":false,\\\"pipeline_fetch_max_batch_size\\\":1,\\\"enable_batch_run\\\":true,\\\"enable_parallel_run\\\":false,\\\"num_procs\\\":null,\\\"enable_run_restructure\\\":false,\\\"start_auxiliary_runs_before_parent_complete\\\":false,\\\"enable_code_generation\\\":true,\\\"iterations\\\":1000,\\\"primary_metric\\\":\\\"AUC_weighted\\\",\\\"task_type\\\":\\\"classification\\\",\\\"positive_label\\\":null,\\\"data_script\\\":null,\\\"test_size\\\":0.0,\\\"test_include_predictions_only\\\":false,\\\"validation_size\\\":0.0,\\\"n_cross_validations\\\":null,\\\"y_min\\\":null,\\\"y_max\\\":null,\\\"num_classes\\\":null,\\\"featurization\\\":\\\"auto\\\",\\\"_ignore_package_version_incompatibilities\\\":false,\\\"is_timeseries\\\":false,\\\"max_cores_per_iteration\\\":1,\\\"max_concurrent_iterations\\\":5,\\\"iteration_timeout_minutes\\\":null,\\\"mem_in_mb\\\":null,\\\"enforce_time_on_windows\\\":false,\\\"experiment_timeout_minutes\\\":20,\\\"experiment_exit_score\\\":null,\\\"partition_column_names\\\":null,\\\"whitelist_models\\\":null,\\\"blacklist_algos\\\":[\\\"TensorFlowLinearClassifier\\\",\\\"TensorFlowDNN\\\"],\\\"supported_models\\\":[\\\"BernoulliNaiveBayes\\\",\\\"SVM\\\",\\\"LinearSVM\\\",\\\"XGBoostClassifier\\\",\\\"MultinomialNaiveBayes\\\",\\\"RandomForest\\\",\\\"ExtremeRandomTrees\\\",\\\"LightGBM\\\",\\\"KNN\\\",\\\"TensorFlowDNN\\\",\\\"TensorFlowLinearClassifier\\\",\\\"TabnetClassifier\\\",\\\"GradientBoosting\\\",\\\"AveragedPerceptronClassifier\\\",\\\"SGD\\\",\\\"LogisticRegression\\\",\\\"DecisionTree\\\"],\\\"private_models\\\":[],\\\"auto_blacklist\\\":true,\\\"blacklist_samples_reached\\\":false,\\\"exclude_nan_labels\\\":true,\\\"verbosity\\\":20,\\\"_debug_log\\\":\\\"azureml_automl.log\\\",\\\"show_warnings\\\":false,\\\"model_explainability\\\":true,\\\"service_url\\\":null,\\\"sdk_url\\\":null,\\\"sdk_packages\\\":null,\\\"enable_onnx_compatible_models\\\":false,\\\"enable_split_onnx_featurizer_estimator_models\\\":false,\\\"vm_type\\\":\\\"STANDARD_D2_V2\\\",\\\"telemetry_verbosity\\\":20,\\\"send_telemetry\\\":true,\\\"enable_dnn\\\":false,\\\"scenario\\\":\\\"AutoML\\\",\\\"environment_label\\\":null,\\\"save_mlflow\\\":false,\\\"enable_categorical_indicators\\\":false,\\\"force_text_dnn\\\":false,\\\"enable_feature_sweeping\\\":true,\\\"enable_early_stopping\\\":true,\\\"early_stopping_n_iters\\\":10,\\\"arguments\\\":null,\\\"dataset_id\\\":\\\"5cce54cd-b14b-4243-ba26-c690e91841c8\\\",\\\"hyperdrive_config\\\":null,\\\"validation_dataset_id\\\":null,\\\"run_source\\\":null,\\\"metrics\\\":null,\\\"enable_metric_confidence\\\":false,\\\"enable_ensembling\\\":true,\\\"enable_stack_ensembling\\\":true,\\\"ensemble_iterations\\\":15,\\\"enable_tf\\\":false,\\\"enable_subsampling\\\":null,\\\"subsample_seed\\\":null,\\\"enable_nimbusml\\\":false,\\\"enable_streaming\\\":false,\\\"force_streaming\\\":false,\\\"track_child_runs\\\":true,\\\"n_best_runs\\\":1,\\\"allowed_private_models\\\":[],\\\"label_column_name\\\":\\\"class\\\",\\\"weight_column_name\\\":null,\\\"cv_split_column_names\\\":null,\\\"enable_local_managed\\\":false,\\\"_local_managed_run_id\\\":null,\\\"cost_mode\\\":1,\\\"lag_length\\\":0,\\\"metric_operation\\\":\\\"maximize\\\",\\\"preprocess\\\":true}\", \"DataPrepJsonString\": \"{\\\\\\\"training_data\\\\\\\": {\\\\\\\"datasetId\\\\\\\": \\\\\\\"5cce54cd-b14b-4243-ba26-c690e91841c8\\\\\\\"}, \\\\\\\"datasets\\\\\\\": 0}\", \"EnableSubsampling\": null, \"runTemplate\": \"AutoML\", \"azureml.runsource\": \"automl\", \"display_task_type\": \"classification\", \"dependencies_versions\": \"{\\\"azureml-widgets\\\": \\\"1.49.0\\\", \\\"azureml-training-tabular\\\": \\\"1.49.0\\\", \\\"azureml-train\\\": \\\"1.49.0\\\", \\\"azureml-train-restclients-hyperdrive\\\": \\\"1.49.0\\\", \\\"azureml-train-core\\\": \\\"1.49.0\\\", \\\"azureml-train-automl\\\": \\\"1.49.0\\\", \\\"azureml-train-automl-runtime\\\": \\\"1.49.0\\\", \\\"azureml-train-automl-client\\\": \\\"1.49.0\\\", \\\"azureml-tensorboard\\\": \\\"1.49.0\\\", \\\"azureml-telemetry\\\": \\\"1.49.0\\\", \\\"azureml-sdk\\\": \\\"1.49.0\\\", \\\"azureml-responsibleai\\\": \\\"1.49.0\\\", \\\"azureml-pipeline\\\": \\\"1.49.0\\\", \\\"azureml-pipeline-steps\\\": \\\"1.49.0\\\", \\\"azureml-pipeline-core\\\": \\\"1.49.0\\\", \\\"azureml-opendatasets\\\": \\\"1.49.0\\\", \\\"azureml-mlflow\\\": \\\"1.49.0\\\", \\\"azureml-interpret\\\": \\\"1.49.0\\\", \\\"azureml-inference-server-http\\\": \\\"0.8.0\\\", \\\"azureml-explain-model\\\": \\\"1.49.0\\\", \\\"azureml-defaults\\\": \\\"1.49.0\\\", \\\"azureml-dataset-runtime\\\": \\\"1.49.0\\\", \\\"azureml-dataprep\\\": \\\"4.9.1\\\", \\\"azureml-dataprep-rslex\\\": \\\"2.16.1\\\", \\\"azureml-dataprep-native\\\": \\\"38.0.0\\\", \\\"azureml-datadrift\\\": \\\"1.49.0\\\", \\\"azureml-core\\\": \\\"1.49.0\\\", \\\"azureml-contrib-services\\\": \\\"1.49.0\\\", \\\"azureml-contrib-server\\\": \\\"1.49.0\\\", \\\"azureml-contrib-reinforcementlearning\\\": \\\"1.49.0\\\", \\\"azureml-contrib-pipeline-steps\\\": \\\"1.49.0\\\", \\\"azureml-contrib-notebook\\\": \\\"1.49.0\\\", \\\"azureml-contrib-fairness\\\": \\\"1.49.0\\\", \\\"azureml-contrib-dataset\\\": \\\"1.49.0\\\", \\\"azureml-contrib-automl-pipeline-steps\\\": \\\"1.49.0\\\", \\\"azureml-cli-common\\\": \\\"1.49.0\\\", \\\"azureml-automl-runtime\\\": \\\"1.49.0\\\", \\\"azureml-automl-dnn-nlp\\\": \\\"1.49.0\\\", \\\"azureml-automl-core\\\": \\\"1.49.0\\\", \\\"azureml-accel-models\\\": \\\"1.49.0\\\"}\", \"_aml_system_scenario_identification\": \"Remote.Parent\", \"ClientType\": \"SDK\", \"PlatformVersion\": \"DPV1\", \"environment_cpu_name\": \"AzureML-AutoML\", \"environment_cpu_label\": \"prod\", \"environment_gpu_name\": \"AzureML-AutoML-GPU\", \"environment_gpu_label\": \"prod\", \"root_attribution\": \"automl\", \"attribution\": \"AutoML\", \"Orchestrator\": \"AutoML\", \"CancelUri\": \"https://westeurope.api.azureml.ms/jasmine/v1.0/subscriptions/cdbe0b43-92a0-4715-838a-f2648cc7ad21/resourceGroups/aml-quickstarts-238215/providers/Microsoft.MachineLearningServices/workspaces/quick-starts-ws-238215/experimentids/04e22cbf-ecdb-4eab-818e-9152721af1a2/cancel/AutoML_4b4d9352-6570-468e-9b75-46398142bdee\", \"ClientSdkVersion\": null, \"snapshotId\": \"00000000-0000-0000-0000-000000000000\", \"SetupRunId\": \"AutoML_4b4d9352-6570-468e-9b75-46398142bdee_setup\", \"SetupRunContainerId\": \"dcid.AutoML_4b4d9352-6570-468e-9b75-46398142bdee_setup\", \"FeaturizationRunJsonPath\": \"featurizer_container.json\", \"FeaturizationRunId\": \"AutoML_4b4d9352-6570-468e-9b75-46398142bdee_featurize\", \"ProblemInfoJsonString\": \"{\\\"dataset_num_categorical\\\": 0, \\\"is_sparse\\\": true, \\\"subsampling\\\": false, \\\"has_extra_col\\\": true, \\\"dataset_classes\\\": 4, \\\"dataset_features\\\": 21, \\\"dataset_samples\\\": 1727, \\\"single_frequency_class_detected\\\": false}\", \"ModelExplainRunId\": \"AutoML_4b4d9352-6570-468e-9b75-46398142bdee_ModelExplain\"}, \"tags\": {\"model_explain_run\": \"best_run\", \"_aml_system_automl_run_workspace_id\": \"6c6239ef-1a3f-45e1-96f8-9905777770af\", \"_aml_system_azureml.automlComponent\": \"AutoML\", \"pipeline_id_000\": \"039a99c3d5147edeb525249e2660628be3e8b83f;a3dadd95854bf6116ab454844302b51d417d78b7;1dfdf370ba770047b14bfa59c40920815defcdab;294650ec23bc3d067a4972de7ceb12f6e97260fa;681a59302459aec2cc115ddbc14e1d28f4b3b8df;5bcf69d12307c5f0246b0d33ab19666443595ac9;6f4a466f84f725a47910c1dff062a1bb46df2a21;dea7fdbaedc77258dbfe31dbfed41e768ca38939;5dfac790c5c209f98a1da2dc1c7fb76f0397324f;c7af0367625be6ac5c2fecbfc72ed444cb7a2111;51ae05309834b29f71340af1008fc94fbd8213f4;ce2643edf3d450b10c86c7d034a9bc952dc282d3;c74787cd2f0507b852a1ac70d504d83ac9bdec83;79ebb3b8c385e3190e3dd4c1fa28b74730528045;a72eb56f3d4aadb7b7f0149ba6e5f05657a95ca1;9610149fbcf43017aa810a290e9c04cbe6fa8684;ee365d2bc711bc6838929328cc4ff4b890fbc6c3;1e38ae92baee19b18f211a8b14c16015d5ee3dc3;a7434e890cabef86b0ce4ae71fb633e1e92b854d;dd46719e1e1ca3df6e6826afb96bf9be8390e6e2;208056285bd1883d5bd7d4e4e996a1c71c4b0033;3fe9ace0255a98a01a321c2b4c6ab86f6c1db8e5;5dcd9bc8a74634130a855a68c1bf956ce7160f98;f9c4839cd35f7fe03bcc11d87a99d82f63f333dc;dfc631bbb8f3be228d228210719dafe9e4a19b00;8869edacdfa3ad38b2f434066fbe2853cfcf9234;a10d0ed54b1cc090782f9d8641de3bbdb7a8023b;d6b59777ec875a63efbfc0704b2e67d652730595;cb31ab559db08156dd98c227926319000538915b;f35d8030bc2a0748db692851ba4a7607dd8fa2ac;ba29499a4ce25a499a8fbd5b7ff1bc8581607dff;05e0b29c662f9ce19a987a9728136acec34e8d80;7b9ca6e5db736cc02f9022d24b22e0a9aeffa2a6;486a5732db2dfa5a7e3d4b6ff912a8d3e96a1d2c;398544fd6c097d652128085228965b972c07c53d;db2e33972fb53a15db7a1140e9735bc70c565870;d969a2f6d3c95a0ff9760359f722a76996262e52;bd1c4f2f3d94de2cbc98dcb0b64cc7ccb3ac4304;__AutoML_Ensemble__;__AutoML_Stack_Ensemble__\", \"score_000\": \"0.971683486477084;0.9946857986998717;0.9778265545752803;0.9903016405662504;0.9951940756307899;0.9412429257272059;0.974824830345356;0.985949872896303;0.9987787177700516;0.9985844805699463;0.9640787091732874;0.9781759643857679;0.9950593846673023;0.9783844131068271;0.995596635656511;0.9862407546483416;0.9944942408339038;0.9886005147395781;0.9468114759781288;0.9943466744333511;0.9855476889937588;0.9978869169956212;0.9831482301723553;0.9387268025528576;0.988208224738333;0.9843616987981566;0.978916313225767;0.9795144127126126;0.9792744395794667;0.9954377485756941;0.9866665828119888;0.9864318368871602;0.9957876738686565;0.9962586294887296;NaN;NaN;NaN;0.982651962394972;0.9987922211520669;0.9982554372654805\", \"predicted_cost_000\": \"0.5;0.5;0.5;0.5;0.5;0.5;0.5;0.5;0;0;0.5;0.5;0.5;0.5;0.5;0.5;0.0861332500199063;0.5;0.5;0.5;0.5;0.20132338517756002;0.33007656863587725;0.05197874746984981;0.06233895860259931;0.10617847348900462;0.06343665801975182;0.2262384527662704;0.08143033706660593;0.10644617213336269;0.09390858816865258;0.16773634134240087;0.17217083443758008;0.14193077150695055;0.1620676280700446;0.18149242613054004;0.19741556151985762;0.19974484785367602;0;0\", \"fit_time_000\": \"0.027525666666666667;0.058182333333333336;0.3568073333333334;0.07205966666666667;0.058580333333333325;0.09089833333333334;0.036355;0.8041213333333334;0.31719400000000003;0.31682533333333335;0.031619;0.045642999999999996;0.11895266666666666;0.061773;0.359024;0.09964833333333334;0.06408866666666667;0.08718033333333335;0.34154533333333337;0.050571333333333336;0.13660366666666665;0.20997833333333335;0.08626166666666667;0.02589;0.04663433333333333;0.08977733333333333;0.11045233333333333;0.13055266666666668;0.03634;0.5045163333333333;0.461957;0.15230733333333335;0.22893866666666665;0.080884;NaN;NaN;NaN;0.5986876666666666;22;31\", \"training_percent_000\": \"100;100;100;100;100;100;100;100;100;100;100;100;100;100;100;100;100;100;100;100;100;100;100;100;100;100;100;100;100;100;100;100;100;100;100;100;100;100;100;100\", \"iteration_000\": \"4;5;6;7;8;9;10;11;0;1;2;3;12;13;14;15;21;16;17;18;19;22;20;23;24;25;27;26;28;29;30;31;32;33;35;37;36;34;38;39\", \"run_preprocessor_000\": \"StandardScalerWrapper;SparseNormalizer;SparseNormalizer;StandardScalerWrapper;SparseNormalizer;MaxAbsScaler;SparseNormalizer;MaxAbsScaler;MaxAbsScaler;MaxAbsScaler;MaxAbsScaler;MaxAbsScaler;StandardScalerWrapper;StandardScalerWrapper;StandardScalerWrapper;MaxAbsScaler;StandardScalerWrapper;MaxAbsScaler;StandardScalerWrapper;StandardScalerWrapper;MaxAbsScaler;StandardScalerWrapper;MaxAbsScaler;MaxAbsScaler;SparseNormalizer;MaxAbsScaler;MaxAbsScaler;MaxAbsScaler;StandardScalerWrapper;MaxAbsScaler;SparseNormalizer;SparseNormalizer;StandardScalerWrapper;SparseNormalizer;SparseNormalizer;;;StandardScalerWrapper;;\", \"run_algorithm_000\": \"LightGBM;XGBoostClassifier;RandomForest;XGBoostClassifier;XGBoostClassifier;RandomForest;LightGBM;ExtremeRandomTrees;LightGBM;XGBoostClassifier;ExtremeRandomTrees;RandomForest;XGBoostClassifier;ExtremeRandomTrees;RandomForest;LightGBM;XGBoostClassifier;LogisticRegression;ExtremeRandomTrees;XGBoostClassifier;ExtremeRandomTrees;XGBoostClassifier;LogisticRegression;RandomForest;XGBoostClassifier;LightGBM;LinearSVM;LinearSVM;LightGBM;LightGBM;LightGBM;LightGBM;LightGBM;XGBoostClassifier;LightGBM;;;XGBoostClassifier;VotingEnsemble;StackEnsemble\", \"dynamic_allowlisting_iterations\": \"<25>;<30>;<35>;\", \"_aml_system_azureml.automl_early_exit_message\": \"No scores improved over last 10 iterations, so experiment stopped early. This early stopping behavior can be disabled by setting enable_early_stopping = False in AutoMLConfig for notebook/python SDK runs.\", \"automl_best_child_run_id\": \"AutoML_4b4d9352-6570-468e-9b75-46398142bdee_38\", \"model_explain_best_run_child_id\": \"AutoML_4b4d9352-6570-468e-9b75-46398142bdee_38\"}, \"end_time_utc\": \"2023-07-05T05:27:07.791828Z\", \"status\": \"Completed\", \"log_files\": {}, \"log_groups\": [], \"run_duration\": \"0:19:46\", \"run_number\": \"1688533641\", \"run_queued_details\": {\"status\": \"Completed\", \"details\": null}}, \"child_runs\": [{\"run_id\": \"AutoML_4b4d9352-6570-468e-9b75-46398142bdee_setup\", \"run_number\": 1688533655, \"metric\": null, \"status\": \"Completed\", \"run_type\": \"azureml.scriptrun\", \"training_percent\": null, \"start_time\": \"2023-07-05T05:12:33.029096Z\", \"end_time\": \"2023-07-05T05:14:53.189855Z\", \"created_time\": \"2023-07-05T05:07:35.089656Z\", \"created_time_dt\": \"2023-07-05T05:07:35.089656Z\", \"duration\": \"0:07:18\", \"iteration\": null, \"goal\": null, \"run_name\": \"Completed\", \"run_properties\": null}, {\"run_id\": \"AutoML_4b4d9352-6570-468e-9b75-46398142bdee_featurize\", \"run_number\": 1688534093, \"metric\": null, \"status\": \"Completed\", \"run_type\": \"automl.featurization\", \"training_percent\": null, \"start_time\": \"2023-07-05T05:14:54.059932Z\", \"end_time\": \"2023-07-05T05:16:09.829076Z\", \"created_time\": \"2023-07-05T05:14:53.619035Z\", \"created_time_dt\": \"2023-07-05T05:14:53.619035Z\", \"duration\": \"0:01:16\", \"iteration\": null, \"goal\": null, \"run_name\": \"Completed\", \"run_properties\": null}, {\"run_id\": \"AutoML_4b4d9352-6570-468e-9b75-46398142bdee_0\", \"run_number\": 1688534172, \"metric\": null, \"status\": \"Completed\", \"run_type\": null, \"training_percent\": \"100\", \"start_time\": \"2023-07-05T05:19:25.654442Z\", \"end_time\": \"2023-07-05T05:19:41.930425Z\", \"created_time\": \"2023-07-05T05:16:12.081483Z\", \"created_time_dt\": \"2023-07-05T05:16:12.081483Z\", \"duration\": \"0:03:29\", \"iteration\": \"0\", \"goal\": \"AUC_weighted_max\", \"run_name\": \"MaxAbsScaler, LightGBM\", \"run_properties\": \"copy=True\", \"primary_metric\": 0.99877872, \"best_metric\": 0.99877872}, {\"run_id\": \"AutoML_4b4d9352-6570-468e-9b75-46398142bdee_4\", \"run_number\": 1688534173, \"metric\": null, \"status\": \"Completed\", \"run_type\": null, \"training_percent\": \"100\", \"start_time\": \"2023-07-05T05:16:38.806823Z\", \"end_time\": \"2023-07-05T05:16:56.911066Z\", \"created_time\": \"2023-07-05T05:16:13.805873Z\", \"created_time_dt\": \"2023-07-05T05:16:13.805873Z\", \"duration\": \"0:00:43\", \"iteration\": \"4\", \"goal\": \"AUC_weighted_max\", \"run_name\": \"StandardScalerWrapper, LightGBM\", \"run_properties\": \"copy=True, with_mean=False, with_std=True\", \"primary_metric\": 0.97168349, \"best_metric\": 0.99877872}, {\"run_id\": \"AutoML_4b4d9352-6570-468e-9b75-46398142bdee_5\", \"run_number\": 1688534174, \"metric\": null, \"status\": \"Completed\", \"run_type\": null, \"training_percent\": \"100\", \"start_time\": \"2023-07-05T05:16:57.840283Z\", \"end_time\": \"2023-07-05T05:17:10.433887Z\", \"created_time\": \"2023-07-05T05:16:14.288576Z\", \"created_time_dt\": \"2023-07-05T05:16:14.288576Z\", \"duration\": \"0:00:56\", \"iteration\": \"5\", \"goal\": \"AUC_weighted_max\", \"run_name\": \"SparseNormalizer, XGBoostClassifier\", \"run_properties\": \"copy=True, norm='max'\", \"primary_metric\": 0.9946858, \"best_metric\": 0.99877872}, {\"run_id\": \"AutoML_4b4d9352-6570-468e-9b75-46398142bdee_worker_1\", \"run_number\": 1688534175, \"metric\": null, \"status\": \"Completed\", \"run_type\": \"azureml.scriptrun\", \"training_percent\": null, \"start_time\": \"2023-07-05T05:16:27.061166Z\", \"end_time\": \"2023-07-05T05:17:48.204314Z\", \"created_time\": \"2023-07-05T05:16:15.58184Z\", \"created_time_dt\": \"2023-07-05T05:16:15.58184Z\", \"duration\": \"0:01:32\", \"iteration\": null, \"goal\": null, \"run_name\": \"Completed\", \"run_properties\": null}, {\"run_id\": \"AutoML_4b4d9352-6570-468e-9b75-46398142bdee_9\", \"run_number\": 1688534176, \"metric\": null, \"status\": \"Completed\", \"run_type\": null, \"training_percent\": \"100\", \"start_time\": \"2023-07-05T05:18:20.499091Z\", \"end_time\": \"2023-07-05T05:18:33.101925Z\", \"created_time\": \"2023-07-05T05:16:16.21264Z\", \"created_time_dt\": \"2023-07-05T05:16:16.21264Z\", \"duration\": \"0:02:16\", \"iteration\": \"9\", \"goal\": \"AUC_weighted_max\", \"run_name\": \"MaxAbsScaler, RandomForest\", \"run_properties\": \"copy=True\", \"primary_metric\": 0.94124293, \"best_metric\": 0.99877872}, {\"run_id\": \"AutoML_4b4d9352-6570-468e-9b75-46398142bdee_worker_2\", \"run_number\": 1688534177, \"metric\": null, \"status\": \"Completed\", \"run_type\": \"azureml.scriptrun\", \"training_percent\": null, \"start_time\": \"2023-07-05T05:17:51.633182Z\", \"end_time\": \"2023-07-05T05:19:11.076997Z\", \"created_time\": \"2023-07-05T05:16:17.270794Z\", \"created_time_dt\": \"2023-07-05T05:16:17.270794Z\", \"duration\": \"0:02:53\", \"iteration\": null, \"goal\": null, \"run_name\": \"Completed\", \"run_properties\": null}, {\"run_id\": \"AutoML_4b4d9352-6570-468e-9b75-46398142bdee_worker_3\", \"run_number\": 1688534178, \"metric\": null, \"status\": \"Completed\", \"run_type\": \"azureml.scriptrun\", \"training_percent\": null, \"start_time\": \"2023-07-05T05:20:35.227198Z\", \"end_time\": \"2023-07-05T05:21:56.359814Z\", \"created_time\": \"2023-07-05T05:16:18.989422Z\", \"created_time_dt\": \"2023-07-05T05:16:18.989422Z\", \"duration\": \"0:05:37\", \"iteration\": null, \"goal\": null, \"run_name\": \"Completed\", \"run_properties\": null}, {\"run_id\": \"AutoML_4b4d9352-6570-468e-9b75-46398142bdee_16\", \"run_number\": 1688534179, \"metric\": null, \"status\": \"Completed\", \"run_type\": null, \"training_percent\": \"100\", \"start_time\": \"2023-07-05T05:22:55.202682Z\", \"end_time\": \"2023-07-05T05:23:06.552346Z\", \"created_time\": \"2023-07-05T05:16:19.123171Z\", \"created_time_dt\": \"2023-07-05T05:16:19.123171Z\", \"duration\": \"0:06:47\", \"iteration\": \"16\", \"goal\": \"AUC_weighted_max\", \"run_name\": \"MaxAbsScaler, LogisticRegression\", \"run_properties\": \"copy=True\", \"primary_metric\": 0.98860051, \"best_metric\": 0.99877872}, {\"run_id\": \"AutoML_4b4d9352-6570-468e-9b75-46398142bdee_worker_4\", \"run_number\": 1688534180, \"metric\": null, \"status\": \"Completed\", \"run_type\": \"azureml.scriptrun\", \"training_percent\": null, \"start_time\": \"2023-07-05T05:21:31.542612Z\", \"end_time\": \"2023-07-05T05:23:48.812329Z\", \"created_time\": \"2023-07-05T05:16:20.728069Z\", \"created_time_dt\": \"2023-07-05T05:16:20.728069Z\", \"duration\": \"0:07:28\", \"iteration\": null, \"goal\": null, \"run_name\": \"Completed\", \"run_properties\": null}, {\"run_id\": \"AutoML_4b4d9352-6570-468e-9b75-46398142bdee_22\", \"run_number\": 1688534511, \"metric\": null, \"status\": \"Completed\", \"run_type\": \"azureml.scriptrun\", \"training_percent\": \"100\", \"start_time\": \"2023-07-05T05:22:10.233216Z\", \"end_time\": \"2023-07-05T05:23:55.681322Z\", \"created_time\": \"2023-07-05T05:21:51.792195Z\", \"created_time_dt\": \"2023-07-05T05:21:51.792195Z\", \"duration\": \"0:02:03\", \"iteration\": \"22\", \"goal\": \"AUC_weighted_max\", \"run_name\": \"StandardScalerWrapper, XGBoostClassifier\", \"run_properties\": \"copy=True, with_mean=False, with_std=False\", \"primary_metric\": 0.99788692, \"best_metric\": 0.99877872}, {\"run_id\": \"AutoML_4b4d9352-6570-468e-9b75-46398142bdee_23\", \"run_number\": 1688534602, \"metric\": null, \"status\": \"Completed\", \"run_type\": \"azureml.scriptrun\", \"training_percent\": \"100\", \"start_time\": \"2023-07-05T05:23:34.23845Z\", \"end_time\": \"2023-07-05T05:24:06.556259Z\", \"created_time\": \"2023-07-05T05:23:22.110799Z\", \"created_time_dt\": \"2023-07-05T05:23:22.110799Z\", \"duration\": \"0:00:44\", \"iteration\": \"23\", \"goal\": \"AUC_weighted_max\", \"run_name\": \"MaxAbsScaler, RandomForest\", \"run_properties\": \"copy=True\", \"primary_metric\": 0.9387268, \"best_metric\": 0.99877872}, {\"run_id\": \"AutoML_4b4d9352-6570-468e-9b75-46398142bdee_25\", \"run_number\": 1688534638, \"metric\": null, \"status\": \"Completed\", \"run_type\": \"azureml.scriptrun\", \"training_percent\": \"100\", \"start_time\": \"2023-07-05T05:24:09.07701Z\", \"end_time\": \"2023-07-05T05:24:36.866855Z\", \"created_time\": \"2023-07-05T05:23:58.8563Z\", \"created_time_dt\": \"2023-07-05T05:23:58.8563Z\", \"duration\": \"0:00:38\", \"iteration\": \"25\", \"goal\": \"AUC_weighted_max\", \"run_name\": \"MaxAbsScaler, LightGBM\", \"run_properties\": \"copy=True\", \"primary_metric\": 0.9843617, \"best_metric\": 0.99877872}, {\"run_id\": \"AutoML_4b4d9352-6570-468e-9b75-46398142bdee_27\", \"run_number\": 1688534644, \"metric\": null, \"status\": \"Completed\", \"run_type\": \"azureml.scriptrun\", \"training_percent\": \"100\", \"start_time\": \"2023-07-05T05:24:12.488384Z\", \"end_time\": \"2023-07-05T05:24:45.258817Z\", \"created_time\": \"2023-07-05T05:24:04.071693Z\", \"created_time_dt\": \"2023-07-05T05:24:04.071693Z\", \"duration\": \"0:00:41\", \"iteration\": \"27\", \"goal\": \"AUC_weighted_max\", \"run_name\": \"MaxAbsScaler, LinearSVM\", \"run_properties\": \"copy=True\", \"primary_metric\": 0.97891631, \"best_metric\": 0.99877872}, {\"run_id\": \"AutoML_4b4d9352-6570-468e-9b75-46398142bdee_28\", \"run_number\": 1688534648, \"metric\": null, \"status\": \"Completed\", \"run_type\": \"azureml.scriptrun\", \"training_percent\": \"100\", \"start_time\": \"2023-07-05T05:24:24.408077Z\", \"end_time\": \"2023-07-05T05:24:50.842572Z\", \"created_time\": \"2023-07-05T05:24:08.470475Z\", \"created_time_dt\": \"2023-07-05T05:24:08.470475Z\", \"duration\": \"0:00:42\", \"iteration\": \"28\", \"goal\": \"AUC_weighted_max\", \"run_name\": \"StandardScalerWrapper, LightGBM\", \"run_properties\": \"copy=True, with_mean=False, with_std=True\", \"primary_metric\": 0.97927444, \"best_metric\": 0.99877872}, {\"run_id\": \"AutoML_4b4d9352-6570-468e-9b75-46398142bdee_29\", \"run_number\": 1688534661, \"metric\": null, \"status\": \"Completed\", \"run_type\": \"azureml.scriptrun\", \"training_percent\": \"100\", \"start_time\": \"2023-07-05T05:24:39.953053Z\", \"end_time\": \"2023-07-05T05:25:10.037878Z\", \"created_time\": \"2023-07-05T05:24:21.505896Z\", \"created_time_dt\": \"2023-07-05T05:24:21.505896Z\", \"duration\": \"0:00:48\", \"iteration\": \"29\", \"goal\": \"AUC_weighted_max\", \"run_name\": \"MaxAbsScaler, LightGBM\", \"run_properties\": \"copy=True\", \"primary_metric\": 0.99543775, \"best_metric\": 0.99877872}, {\"run_id\": \"AutoML_4b4d9352-6570-468e-9b75-46398142bdee_30\", \"run_number\": 1688534679, \"metric\": null, \"status\": \"Completed\", \"run_type\": \"azureml.scriptrun\", \"training_percent\": \"100\", \"start_time\": \"2023-07-05T05:24:48.714651Z\", \"end_time\": \"2023-07-05T05:25:18.505863Z\", \"created_time\": \"2023-07-05T05:24:39.714706Z\", \"created_time_dt\": \"2023-07-05T05:24:39.714706Z\", \"duration\": \"0:00:38\", \"iteration\": \"30\", \"goal\": \"AUC_weighted_max\", \"run_name\": \"SparseNormalizer, LightGBM\", \"run_properties\": \"copy=True, norm='l1'\", \"primary_metric\": 0.98666658, \"best_metric\": 0.99877872}, {\"run_id\": \"AutoML_4b4d9352-6570-468e-9b75-46398142bdee_31\", \"run_number\": 1688534687, \"metric\": null, \"status\": \"Completed\", \"run_type\": \"azureml.scriptrun\", \"training_percent\": \"100\", \"start_time\": \"2023-07-05T05:24:54.744569Z\", \"end_time\": \"2023-07-05T05:25:21.710615Z\", \"created_time\": \"2023-07-05T05:24:47.17471Z\", \"created_time_dt\": \"2023-07-05T05:24:47.17471Z\", \"duration\": \"0:00:34\", \"iteration\": \"31\", \"goal\": \"AUC_weighted_max\", \"run_name\": \"SparseNormalizer, LightGBM\", \"run_properties\": \"copy=True, norm='l1'\", \"primary_metric\": 0.98643184, \"best_metric\": 0.99877872}, {\"run_id\": \"AutoML_4b4d9352-6570-468e-9b75-46398142bdee_32\", \"run_number\": 1688534690, \"metric\": null, \"status\": \"Completed\", \"run_type\": \"azureml.scriptrun\", \"training_percent\": \"100\", \"start_time\": \"2023-07-05T05:24:58.95204Z\", \"end_time\": \"2023-07-05T05:25:32.0245Z\", \"created_time\": \"2023-07-05T05:24:50.820355Z\", \"created_time_dt\": \"2023-07-05T05:24:50.820355Z\", \"duration\": \"0:00:41\", \"iteration\": \"32\", \"goal\": \"AUC_weighted_max\", \"run_name\": \"StandardScalerWrapper, LightGBM\", \"run_properties\": \"copy=True, with_mean=False, with_std=True\", \"primary_metric\": 0.99578767, \"best_metric\": 0.99877872}, {\"run_id\": \"AutoML_4b4d9352-6570-468e-9b75-46398142bdee_33\", \"run_number\": 1688534693, \"metric\": null, \"status\": \"Completed\", \"run_type\": \"azureml.scriptrun\", \"training_percent\": \"100\", \"start_time\": \"2023-07-05T05:25:13.897371Z\", \"end_time\": \"2023-07-05T05:25:42.488701Z\", \"created_time\": \"2023-07-05T05:24:53.393012Z\", \"created_time_dt\": \"2023-07-05T05:24:53.393012Z\", \"duration\": \"0:00:49\", \"iteration\": \"33\", \"goal\": \"AUC_weighted_max\", \"run_name\": \"SparseNormalizer, XGBoostClassifier\", \"run_properties\": \"copy=True, norm='max'\", \"primary_metric\": 0.99625863, \"best_metric\": 0.99877872}, {\"run_id\": \"AutoML_4b4d9352-6570-468e-9b75-46398142bdee_34\", \"run_number\": 1688534712, \"metric\": null, \"status\": \"Canceled\", \"run_type\": \"azureml.scriptrun\", \"training_percent\": \"100\", \"start_time\": \"2023-07-05T05:25:22.953927Z\", \"end_time\": \"2023-07-05T05:25:49.581173Z\", \"created_time\": \"2023-07-05T05:25:12.079384Z\", \"created_time_dt\": \"2023-07-05T05:25:12.079384Z\", \"duration\": \"0:00:37\", \"iteration\": \"34\", \"goal\": \"AUC_weighted_max\", \"run_name\": \"StandardScalerWrapper, XGBoostClassifier\", \"run_properties\": \"copy=True, with_mean=False, with_std=False\", \"primary_metric\": 0.98265196, \"best_metric\": 0.99877872}, {\"run_id\": \"AutoML_4b4d9352-6570-468e-9b75-46398142bdee_35\", \"run_number\": 1688534721, \"metric\": null, \"status\": \"Canceled\", \"run_type\": \"azureml.scriptrun\", \"training_percent\": \"100\", \"start_time\": \"2023-07-05T05:25:30.148451Z\", \"end_time\": \"2023-07-05T05:25:49.107027Z\", \"created_time\": \"2023-07-05T05:25:21.581086Z\", \"created_time_dt\": \"2023-07-05T05:25:21.581086Z\", \"duration\": \"0:00:27\", \"iteration\": \"35\", \"goal\": null, \"run_name\": \"SparseNormalizer, LightGBM\", \"run_properties\": null}, {\"run_id\": \"AutoML_4b4d9352-6570-468e-9b75-46398142bdee_36\", \"run_number\": 1688534723, \"metric\": null, \"status\": \"Canceled\", \"run_type\": \"azureml.scriptrun\", \"training_percent\": \"100\", \"start_time\": \"2023-07-05T05:25:36.395846Z\", \"end_time\": \"2023-07-05T05:25:49.308668Z\", \"created_time\": \"2023-07-05T05:25:23.987722Z\", \"created_time_dt\": \"2023-07-05T05:25:23.987722Z\", \"duration\": \"0:00:25\", \"iteration\": \"36\", \"goal\": null, \"run_name\": \"Canceled\", \"run_properties\": null}, {\"run_id\": \"AutoML_4b4d9352-6570-468e-9b75-46398142bdee_37\", \"run_number\": 1688534734, \"metric\": null, \"status\": \"Canceled\", \"run_type\": \"azureml.scriptrun\", \"training_percent\": \"100\", \"start_time\": \"2023-07-05T05:25:43.459062Z\", \"end_time\": \"2023-07-05T05:25:49.315244Z\", \"created_time\": \"2023-07-05T05:25:34.084465Z\", \"created_time_dt\": \"2023-07-05T05:25:34.084465Z\", \"duration\": \"0:00:15\", \"iteration\": \"37\", \"goal\": null, \"run_name\": \"Canceled\", \"run_properties\": null}, {\"run_id\": \"AutoML_4b4d9352-6570-468e-9b75-46398142bdee_38\", \"run_number\": 1688534750, \"metric\": null, \"status\": \"Completed\", \"run_type\": \"azureml.scriptrun\", \"training_percent\": \"100\", \"start_time\": \"2023-07-05T05:26:01.263213Z\", \"end_time\": \"2023-07-05T05:26:56.585991Z\", \"created_time\": \"2023-07-05T05:25:50.841101Z\", \"created_time_dt\": \"2023-07-05T05:25:50.841101Z\", \"duration\": \"0:01:05\", \"iteration\": \"38\", \"goal\": \"AUC_weighted_max\", \"run_name\": \"VotingEnsemble\", \"run_properties\": \"classification_labels=numpy.array([0, 1, 2, 3]\", \"primary_metric\": 0.99879222, \"best_metric\": 0.99879222}], \"children_metrics\": {\"categories\": [0], \"series\": {\"balanced_accuracy\": [{\"categories\": [\"0\", \"4\", \"5\", \"9\", \"16\", \"22\", \"23\", \"25\", \"27\", \"28\", \"29\", \"30\", \"31\", \"32\", \"33\", \"34\", \"38\"], \"mode\": \"markers\", \"name\": \"balanced_accuracy\", \"stepped\": false, \"type\": \"scatter\", \"data\": [0.9624798064408936, 0.5030431959490257, 0.8374416891548314, 0.6899175081721491, 0.9439669036954331, 0.8742798818816322, 0.7961888599588205, 0.5639106369881246, 0.5629848743129265, 0.5405242755852357, 0.8102827126912452, 0.7859202591589146, 0.6140513207318293, 0.8190494494812653, 0.8333594747056434, 0.49750183148258315, 0.9385287243915533]}, {\"categories\": [\"0\", \"4\", \"5\", \"9\", \"16\", \"22\", \"23\", \"25\", \"27\", \"28\", \"29\", \"30\", \"31\", \"32\", \"33\", \"34\", \"38\"], \"mode\": \"lines\", \"name\": \"balanced_accuracy_max\", \"stepped\": true, \"type\": \"scatter\", \"data\": [0.9624798064408936, 0.9624798064408936, 0.9624798064408936, 0.9624798064408936, 0.9624798064408936, 0.9624798064408936, 0.9624798064408936, 0.9624798064408936, 0.9624798064408936, 0.9624798064408936, 0.9624798064408936, 0.9624798064408936, 0.9624798064408936, 0.9624798064408936, 0.9624798064408936, 0.9624798064408936, 0.9624798064408936]}], \"AUC_weighted\": [{\"categories\": [\"0\", \"4\", \"5\", \"9\", \"16\", \"22\", \"23\", \"25\", \"27\", \"28\", \"29\", \"30\", \"31\", \"32\", \"33\", \"34\", \"38\"], \"mode\": \"markers\", \"name\": \"AUC_weighted\", \"stepped\": false, \"type\": \"scatter\", \"data\": [0.9987787177700516, 0.971683486477084, 0.9946857986998717, 0.9412429257272059, 0.9886005147395781, 0.9978869169956212, 0.9387268025528576, 0.9843616987981566, 0.978916313225767, 0.9792744395794667, 0.9954377485756941, 0.9866665828119888, 0.9864318368871602, 0.9957876738686565, 0.9962586294887296, 0.982651962394972, 0.9987922211520669]}, {\"categories\": [\"0\", \"4\", \"5\", \"9\", \"16\", \"22\", \"23\", \"25\", \"27\", \"28\", \"29\", \"30\", \"31\", \"32\", \"33\", \"34\", \"38\"], \"mode\": \"lines\", \"name\": \"AUC_weighted_max\", \"stepped\": true, \"type\": \"scatter\", \"data\": [0.9987787177700516, 0.9987787177700516, 0.9987787177700516, 0.9987787177700516, 0.9987787177700516, 0.9987787177700516, 0.9987787177700516, 0.9987787177700516, 0.9987787177700516, 0.9987787177700516, 0.9987787177700516, 0.9987787177700516, 0.9987787177700516, 0.9987787177700516, 0.9987787177700516, 0.9987787177700516, 0.9987922211520669]}], \"log_loss\": [{\"categories\": [\"0\", \"4\", \"5\", \"9\", \"16\", \"22\", \"23\", \"25\", \"27\", \"28\", \"29\", \"30\", \"31\", \"32\", \"33\", \"34\", \"38\"], \"mode\": \"markers\", \"name\": \"log_loss\", \"stepped\": false, \"type\": \"scatter\", \"data\": [0.05201993946696661, 0.38662437242333886, 0.23632347651496388, 0.7515633832768712, 0.2046731397771564, 0.12013456274294364, 0.6389671652199285, 0.3079602470935017, 0.28103969405568324, 0.32036621928299436, 0.16964769938964752, 0.20438967684674714, 0.26026872280546726, 0.16536428375285273, 0.17057774508284487, 0.3611920743655103, 0.1559682888548167]}, {\"categories\": [\"0\", \"4\", \"5\", \"9\", \"16\", \"22\", \"23\", \"25\", \"27\", \"28\", \"29\", \"30\", \"31\", \"32\", \"33\", \"34\", \"38\"], \"mode\": \"lines\", \"name\": \"log_loss_min\", \"stepped\": true, \"type\": \"scatter\", \"data\": [0.05201993946696661, 0.05201993946696661, 0.05201993946696661, 0.05201993946696661, 0.05201993946696661, 0.05201993946696661, 0.05201993946696661, 0.05201993946696661, 0.05201993946696661, 0.05201993946696661, 0.05201993946696661, 0.05201993946696661, 0.05201993946696661, 0.05201993946696661, 0.05201993946696661, 0.05201993946696661, 0.05201993946696661]}], \"recall_score_micro\": [{\"categories\": [\"0\", \"4\", \"5\", \"9\", \"16\", \"22\", \"23\", \"25\", \"27\", \"28\", \"29\", \"30\", \"31\", \"32\", \"33\", \"34\", \"38\"], \"mode\": \"markers\", \"name\": \"recall_score_micro\", \"stepped\": false, \"type\": \"scatter\", \"data\": [0.9826328502415459, 0.8506038647342996, 0.9484591384863125, 0.7012167874396135, 0.9397846215780997, 0.9646769323671497, 0.7457971014492754, 0.8998188405797102, 0.8656551932367149, 0.8720289855072464, 0.9484601449275362, 0.9137147745571658, 0.8934541062801933, 0.9496225845410629, 0.9496235909822867, 0.876658615136876, 0.9791566022544284]}, {\"categories\": [\"0\", \"4\", \"5\", \"9\", \"16\", \"22\", \"23\", \"25\", \"27\", \"28\", \"29\", \"30\", \"31\", \"32\", \"33\", \"34\", \"38\"], \"mode\": \"lines\", \"name\": \"recall_score_micro_max\", \"stepped\": true, \"type\": \"scatter\", \"data\": [0.9826328502415459, 0.9826328502415459, 0.9826328502415459, 0.9826328502415459, 0.9826328502415459, 0.9826328502415459, 0.9826328502415459, 0.9826328502415459, 0.9826328502415459, 0.9826328502415459, 0.9826328502415459, 0.9826328502415459, 0.9826328502415459, 0.9826328502415459, 0.9826328502415459, 0.9826328502415459, 0.9826328502415459]}], \"precision_score_micro\": [{\"categories\": [\"0\", \"4\", \"5\", \"9\", \"16\", \"22\", \"23\", \"25\", \"27\", \"28\", \"29\", \"30\", \"31\", \"32\", \"33\", \"34\", \"38\"], \"mode\": \"markers\", \"name\": \"precision_score_micro\", \"stepped\": false, \"type\": \"scatter\", \"data\": [0.9826328502415459, 0.8506038647342996, 0.9484591384863125, 0.7012167874396135, 0.9397846215780997, 0.9646769323671497, 0.7457971014492754, 0.8998188405797102, 0.8656551932367149, 0.8720289855072464, 0.9484601449275362, 0.9137147745571658, 0.8934541062801933, 0.9496225845410629, 0.9496235909822867, 0.876658615136876, 0.9791566022544284]}, {\"categories\": [\"0\", \"4\", \"5\", \"9\", \"16\", \"22\", \"23\", \"25\", \"27\", \"28\", \"29\", \"30\", \"31\", \"32\", \"33\", \"34\", \"38\"], \"mode\": \"lines\", \"name\": \"precision_score_micro_max\", \"stepped\": true, \"type\": \"scatter\", \"data\": [0.9826328502415459, 0.9826328502415459, 0.9826328502415459, 0.9826328502415459, 0.9826328502415459, 0.9826328502415459, 0.9826328502415459, 0.9826328502415459, 0.9826328502415459, 0.9826328502415459, 0.9826328502415459, 0.9826328502415459, 0.9826328502415459, 0.9826328502415459, 0.9826328502415459, 0.9826328502415459, 0.9826328502415459]}], \"weighted_accuracy\": [{\"categories\": [\"0\", \"4\", \"5\", \"9\", \"16\", \"22\", \"23\", \"25\", \"27\", \"28\", \"29\", \"30\", \"31\", \"32\", \"33\", \"34\", \"38\"], \"mode\": \"markers\", \"name\": \"weighted_accuracy\", \"stepped\": false, \"type\": \"scatter\", \"data\": [0.9865024510085333, 0.9357649496223579, 0.9722077045091254, 0.7694714759323124, 0.9399404376062099, 0.9845834938221532, 0.7673206988239875, 0.9584023464971859, 0.9375866947378709, 0.9473211241218386, 0.9776683325315068, 0.9458427170601124, 0.9546783372325932, 0.9770112911966443, 0.9742753083620107, 0.9459018136215663, 0.986911809767939]}, {\"categories\": [\"0\", \"4\", \"5\", \"9\", \"16\", \"22\", \"23\", \"25\", \"27\", \"28\", \"29\", \"30\", \"31\", \"32\", \"33\", \"34\", \"38\"], \"mode\": \"lines\", \"name\": \"weighted_accuracy_max\", \"stepped\": true, \"type\": \"scatter\", \"data\": [0.9865024510085333, 0.9865024510085333, 0.9865024510085333, 0.9865024510085333, 0.9865024510085333, 0.9865024510085333, 0.9865024510085333, 0.9865024510085333, 0.9865024510085333, 0.9865024510085333, 0.9865024510085333, 0.9865024510085333, 0.9865024510085333, 0.9865024510085333, 0.9865024510085333, 0.9865024510085333, 0.986911809767939]}], \"AUC_macro\": [{\"categories\": [\"0\", \"4\", \"5\", \"9\", \"16\", \"22\", \"23\", \"25\", \"27\", \"28\", \"29\", \"30\", \"31\", \"32\", \"33\", \"34\", \"38\"], \"mode\": \"markers\", \"name\": \"AUC_macro\", \"stepped\": false, \"type\": \"scatter\", \"data\": [0.9990457541187446, 0.9704123053369317, 0.9926367252301844, 0.932206920609547, 0.9918421738724064, 0.9967394368019601, 0.9377750811825839, 0.9810993187266422, 0.9785079495633439, 0.9762747722048427, 0.993359992328647, 0.9881079771952793, 0.9837959600356666, 0.9939903132621316, 0.9945484567558313, 0.9838652574781213, 0.9988464303488396]}, {\"categories\": [\"0\", \"4\", \"5\", \"9\", \"16\", \"22\", \"23\", \"25\", \"27\", \"28\", \"29\", \"30\", \"31\", \"32\", \"33\", \"34\", \"38\"], \"mode\": \"lines\", \"name\": \"AUC_macro_max\", \"stepped\": true, \"type\": \"scatter\", \"data\": [0.9990457541187446, 0.9990457541187446, 0.9990457541187446, 0.9990457541187446, 0.9990457541187446, 0.9990457541187446, 0.9990457541187446, 0.9990457541187446, 0.9990457541187446, 0.9990457541187446, 0.9990457541187446, 0.9990457541187446, 0.9990457541187446, 0.9990457541187446, 0.9990457541187446, 0.9990457541187446, 0.9990457541187446]}], \"f1_score_weighted\": [{\"categories\": [\"0\", \"4\", \"5\", \"9\", \"16\", \"22\", \"23\", \"25\", \"27\", \"28\", \"29\", \"30\", \"31\", \"32\", \"33\", \"34\", \"38\"], \"mode\": \"markers\", \"name\": \"f1_score_weighted\", \"stepped\": false, \"type\": \"scatter\", \"data\": [0.9824728186538567, 0.8304598466802907, 0.947222864169695, 0.7322155331061095, 0.9413945446508643, 0.9636496753613186, 0.7747986981718151, 0.882479612280055, 0.8563252079555689, 0.8550342047008059, 0.9470872559461442, 0.9117505423135256, 0.8827200505613327, 0.9483352394692911, 0.9484264030299494, 0.8520878681691059, 0.9787788173769956]}, {\"categories\": [\"0\", \"4\", \"5\", \"9\", \"16\", \"22\", \"23\", \"25\", \"27\", \"28\", \"29\", \"30\", \"31\", \"32\", \"33\", \"34\", \"38\"], \"mode\": \"lines\", \"name\": \"f1_score_weighted_max\", \"stepped\": true, \"type\": \"scatter\", \"data\": [0.9824728186538567, 0.9824728186538567, 0.9824728186538567, 0.9824728186538567, 0.9824728186538567, 0.9824728186538567, 0.9824728186538567, 0.9824728186538567, 0.9824728186538567, 0.9824728186538567, 0.9824728186538567, 0.9824728186538567, 0.9824728186538567, 0.9824728186538567, 0.9824728186538567, 0.9824728186538567, 0.9824728186538567]}], \"norm_macro_recall\": [{\"categories\": [\"0\", \"4\", \"5\", \"9\", \"16\", \"22\", \"23\", \"25\", \"27\", \"28\", \"29\", \"30\", \"31\", \"32\", \"33\", \"34\", \"38\"], \"mode\": \"markers\", \"name\": \"norm_macro_recall\", \"stepped\": false, \"type\": \"scatter\", \"data\": [0.9499730752545248, 0.33739092793203423, 0.7832555855397754, 0.5865566775628653, 0.925289204927244, 0.8323731758421764, 0.7282518132784271, 0.41854751598416623, 0.4173131657505687, 0.38736570078031435, 0.7470436169216604, 0.7145603455452195, 0.48540176097577237, 0.7587325993083539, 0.777812632940858, 0.33000244197677747, 0.9180382991887376]}, {\"categories\": [\"0\", \"4\", \"5\", \"9\", \"16\", \"22\", \"23\", \"25\", \"27\", \"28\", \"29\", \"30\", \"31\", \"32\", \"33\", \"34\", \"38\"], \"mode\": \"lines\", \"name\": \"norm_macro_recall_max\", \"stepped\": true, \"type\": \"scatter\", \"data\": [0.9499730752545248, 0.9499730752545248, 0.9499730752545248, 0.9499730752545248, 0.9499730752545248, 0.9499730752545248, 0.9499730752545248, 0.9499730752545248, 0.9499730752545248, 0.9499730752545248, 0.9499730752545248, 0.9499730752545248, 0.9499730752545248, 0.9499730752545248, 0.9499730752545248, 0.9499730752545248, 0.9499730752545248]}], \"average_precision_score_macro\": [{\"categories\": [\"0\", \"4\", \"5\", \"9\", \"16\", \"22\", \"23\", \"25\", \"27\", \"28\", \"29\", \"30\", \"31\", \"32\", \"33\", \"34\", \"38\"], \"mode\": \"markers\", \"name\": \"average_precision_score_macro\", \"stepped\": false, \"type\": \"scatter\", \"data\": [0.9938735922885464, 0.8064114496287181, 0.904024666381679, 0.6961676191699597, 0.950984113022456, 0.9487214654951611, 0.7263325942621165, 0.8223826887674095, 0.8214538334848084, 0.8079900172610787, 0.908535133435952, 0.9006503007073077, 0.8262105713719542, 0.9251106457465464, 0.931036985450563, 0.8622223402998652, 0.9900758018273192]}, {\"categories\": [\"0\", \"4\", \"5\", \"9\", \"16\", \"22\", \"23\", \"25\", \"27\", \"28\", \"29\", \"30\", \"31\", \"32\", \"33\", \"34\", \"38\"], \"mode\": \"lines\", \"name\": \"average_precision_score_macro_max\", \"stepped\": true, \"type\": \"scatter\", \"data\": [0.9938735922885464, 0.9938735922885464, 0.9938735922885464, 0.9938735922885464, 0.9938735922885464, 0.9938735922885464, 0.9938735922885464, 0.9938735922885464, 0.9938735922885464, 0.9938735922885464, 0.9938735922885464, 0.9938735922885464, 0.9938735922885464, 0.9938735922885464, 0.9938735922885464, 0.9938735922885464, 0.9938735922885464]}], \"precision_score_weighted\": [{\"categories\": [\"0\", \"4\", \"5\", \"9\", \"16\", \"22\", \"23\", \"25\", \"27\", \"28\", \"29\", \"30\", \"31\", \"32\", \"33\", \"34\", \"38\"], \"mode\": \"markers\", \"name\": \"precision_score_weighted\", \"stepped\": false, \"type\": \"scatter\", \"data\": [0.9832159651814981, 0.827876763078628, 0.9490154385154317, 0.8038257599002084, 0.9468829558744972, 0.9637132960382512, 0.8422703748316139, 0.893486479642517, 0.8650360397955451, 0.8525373586983992, 0.9478226466534996, 0.9150938454505951, 0.879472534587871, 0.9495350775529672, 0.9495112551294875, 0.8522377063274265, 0.9798965206941653]}, {\"categories\": [\"0\", \"4\", \"5\", \"9\", \"16\", \"22\", \"23\", \"25\", \"27\", \"28\", \"29\", \"30\", \"31\", \"32\", \"33\", \"34\", \"38\"], \"mode\": \"lines\", \"name\": \"precision_score_weighted_max\", \"stepped\": true, \"type\": \"scatter\", \"data\": [0.9832159651814981, 0.9832159651814981, 0.9832159651814981, 0.9832159651814981, 0.9832159651814981, 0.9832159651814981, 0.9832159651814981, 0.9832159651814981, 0.9832159651814981, 0.9832159651814981, 0.9832159651814981, 0.9832159651814981, 0.9832159651814981, 0.9832159651814981, 0.9832159651814981, 0.9832159651814981, 0.9832159651814981]}], \"precision_score_macro\": [{\"categories\": [\"0\", \"4\", \"5\", \"9\", \"16\", \"22\", \"23\", \"25\", \"27\", \"28\", \"29\", \"30\", \"31\", \"32\", \"33\", \"34\", \"38\"], \"mode\": \"markers\", \"name\": \"precision_score_macro\", \"stepped\": false, \"type\": \"scatter\", \"data\": [0.9692311328293718, 0.640965453558847, 0.874760999019134, 0.4777204954537578, 0.8868706373922239, 0.8920424855991972, 0.555480784581743, 0.7275463479139695, 0.7324933981023407, 0.6480094069849959, 0.8405775679195248, 0.8316313214386947, 0.6696884953500993, 0.8606491184287509, 0.8600094122621816, 0.5755050152797715, 0.964541439275584]}, {\"categories\": [\"0\", \"4\", \"5\", \"9\", \"16\", \"22\", \"23\", \"25\", \"27\", \"28\", \"29\", \"30\", \"31\", \"32\", \"33\", \"34\", \"38\"], \"mode\": \"lines\", \"name\": \"precision_score_macro_max\", \"stepped\": true, \"type\": \"scatter\", \"data\": [0.9692311328293718, 0.9692311328293718, 0.9692311328293718, 0.9692311328293718, 0.9692311328293718, 0.9692311328293718, 0.9692311328293718, 0.9692311328293718, 0.9692311328293718, 0.9692311328293718, 0.9692311328293718, 0.9692311328293718, 0.9692311328293718, 0.9692311328293718, 0.9692311328293718, 0.9692311328293718, 0.9692311328293718]}], \"recall_score_weighted\": [{\"categories\": [\"0\", \"4\", \"5\", \"9\", \"16\", \"22\", \"23\", \"25\", \"27\", \"28\", \"29\", \"30\", \"31\", \"32\", \"33\", \"34\", \"38\"], \"mode\": \"markers\", \"name\": \"recall_score_weighted\", \"stepped\": false, \"type\": \"scatter\", \"data\": [0.9826328502415459, 0.8506038647342996, 0.9484591384863125, 0.7012167874396135, 0.9397846215780997, 0.9646769323671497, 0.7457971014492754, 0.8998188405797102, 0.8656551932367149, 0.8720289855072464, 0.9484601449275362, 0.9137147745571658, 0.8934541062801933, 0.9496225845410629, 0.9496235909822867, 0.876658615136876, 0.9791566022544284]}, {\"categories\": [\"0\", \"4\", \"5\", \"9\", \"16\", \"22\", \"23\", \"25\", \"27\", \"28\", \"29\", \"30\", \"31\", \"32\", \"33\", \"34\", \"38\"], \"mode\": \"lines\", \"name\": \"recall_score_weighted_max\", \"stepped\": true, \"type\": \"scatter\", \"data\": [0.9826328502415459, 0.9826328502415459, 0.9826328502415459, 0.9826328502415459, 0.9826328502415459, 0.9826328502415459, 0.9826328502415459, 0.9826328502415459, 0.9826328502415459, 0.9826328502415459, 0.9826328502415459, 0.9826328502415459, 0.9826328502415459, 0.9826328502415459, 0.9826328502415459, 0.9826328502415459, 0.9826328502415459]}], \"f1_score_macro\": [{\"categories\": [\"0\", \"4\", \"5\", \"9\", \"16\", \"22\", \"23\", \"25\", \"27\", \"28\", \"29\", \"30\", \"31\", \"32\", \"33\", \"34\", \"38\"], \"mode\": \"markers\", \"name\": \"f1_score_macro\", \"stepped\": false, \"type\": \"scatter\", \"data\": [0.964149597555385, 0.52255584629399, 0.8498645277827169, 0.4996849488390771, 0.9111854373470555, 0.8808073538674682, 0.6049983449305463, 0.5778162784777565, 0.5927884041645197, 0.5575485754866768, 0.8216843661802996, 0.7966336806152552, 0.6279715499354684, 0.8344361507992004, 0.8424683922819782, 0.48005579778270824, 0.9484096816191979]}, {\"categories\": [\"0\", \"4\", \"5\", \"9\", \"16\", \"22\", \"23\", \"25\", \"27\", \"28\", \"29\", \"30\", \"31\", \"32\", \"33\", \"34\", \"38\"], \"mode\": \"lines\", \"name\": \"f1_score_macro_max\", \"stepped\": true, \"type\": \"scatter\", \"data\": [0.964149597555385, 0.964149597555385, 0.964149597555385, 0.964149597555385, 0.964149597555385, 0.964149597555385, 0.964149597555385, 0.964149597555385, 0.964149597555385, 0.964149597555385, 0.964149597555385, 0.964149597555385, 0.964149597555385, 0.964149597555385, 0.964149597555385, 0.964149597555385, 0.964149597555385]}], \"average_precision_score_weighted\": [{\"categories\": [\"0\", \"4\", \"5\", \"9\", \"16\", \"22\", \"23\", \"25\", \"27\", \"28\", \"29\", \"30\", \"31\", \"32\", \"33\", \"34\", \"38\"], \"mode\": \"markers\", \"name\": \"average_precision_score_weighted\", \"stepped\": false, \"type\": \"scatter\", \"data\": [0.9971952408718546, 0.9236071253171283, 0.9761325894796079, 0.8457656724622145, 0.978144705028822, 0.9878472810691968, 0.8552769972093609, 0.9432958421512626, 0.9390452800748136, 0.9292464953291333, 0.9780796005328304, 0.9651468060006204, 0.9483266893843703, 0.9801941544427001, 0.9827429276226057, 0.9468571486938132, 0.9958521292732119]}, {\"categories\": [\"0\", \"4\", \"5\", \"9\", \"16\", \"22\", \"23\", \"25\", \"27\", \"28\", \"29\", \"30\", \"31\", \"32\", \"33\", \"34\", \"38\"], \"mode\": \"lines\", \"name\": \"average_precision_score_weighted_max\", \"stepped\": true, \"type\": \"scatter\", \"data\": [0.9971952408718546, 0.9971952408718546, 0.9971952408718546, 0.9971952408718546, 0.9971952408718546, 0.9971952408718546, 0.9971952408718546, 0.9971952408718546, 0.9971952408718546, 0.9971952408718546, 0.9971952408718546, 0.9971952408718546, 0.9971952408718546, 0.9971952408718546, 0.9971952408718546, 0.9971952408718546, 0.9971952408718546]}], \"matthews_correlation\": [{\"categories\": [\"0\", \"4\", \"5\", \"9\", \"16\", \"22\", \"23\", \"25\", \"27\", \"28\", \"29\", \"30\", \"31\", \"32\", \"33\", \"34\", \"38\"], \"mode\": \"markers\", \"name\": \"matthews_correlation\", \"stepped\": false, \"type\": \"scatter\", \"data\": [0.9624785282073072, 0.6601245609609664, 0.889339821071566, 0.47831599674446673, 0.876558186600349, 0.923626740409775, 0.5619693688641151, 0.7860898955541314, 0.7023888231348799, 0.7150084478874882, 0.888729698383328, 0.8143407475428065, 0.766748194306614, 0.8907611606806766, 0.8915085533753963, 0.7360294429698374, 0.955091150082933]}, {\"categories\": [\"0\", \"4\", \"5\", \"9\", \"16\", \"22\", \"23\", \"25\", \"27\", \"28\", \"29\", \"30\", \"31\", \"32\", \"33\", \"34\", \"38\"], \"mode\": \"lines\", \"name\": \"matthews_correlation_max\", \"stepped\": true, \"type\": \"scatter\", \"data\": [0.9624785282073072, 0.9624785282073072, 0.9624785282073072, 0.9624785282073072, 0.9624785282073072, 0.9624785282073072, 0.9624785282073072, 0.9624785282073072, 0.9624785282073072, 0.9624785282073072, 0.9624785282073072, 0.9624785282073072, 0.9624785282073072, 0.9624785282073072, 0.9624785282073072, 0.9624785282073072, 0.9624785282073072]}], \"recall_score_macro\": [{\"categories\": [\"0\", \"4\", \"5\", \"9\", \"16\", \"22\", \"23\", \"25\", \"27\", \"28\", \"29\", \"30\", \"31\", \"32\", \"33\", \"34\", \"38\"], \"mode\": \"markers\", \"name\": \"recall_score_macro\", \"stepped\": false, \"type\": \"scatter\", \"data\": [0.9624798064408936, 0.5030431959490257, 0.8374416891548314, 0.6899175081721491, 0.9439669036954331, 0.8742798818816322, 0.7961888599588205, 0.5639106369881246, 0.5629848743129265, 0.5405242755852357, 0.8102827126912452, 0.7859202591589146, 0.6140513207318293, 0.8190494494812653, 0.8333594747056434, 0.49750183148258315, 0.9385287243915533]}, {\"categories\": [\"0\", \"4\", \"5\", \"9\", \"16\", \"22\", \"23\", \"25\", \"27\", \"28\", \"29\", \"30\", \"31\", \"32\", \"33\", \"34\", \"38\"], \"mode\": \"lines\", \"name\": \"recall_score_macro_max\", \"stepped\": true, \"type\": \"scatter\", \"data\": [0.9624798064408936, 0.9624798064408936, 0.9624798064408936, 0.9624798064408936, 0.9624798064408936, 0.9624798064408936, 0.9624798064408936, 0.9624798064408936, 0.9624798064408936, 0.9624798064408936, 0.9624798064408936, 0.9624798064408936, 0.9624798064408936, 0.9624798064408936, 0.9624798064408936, 0.9624798064408936, 0.9624798064408936]}], \"f1_score_micro\": [{\"categories\": [\"0\", \"4\", \"5\", \"9\", \"16\", \"22\", \"23\", \"25\", \"27\", \"28\", \"29\", \"30\", \"31\", \"32\", \"33\", \"34\", \"38\"], \"mode\": \"markers\", \"name\": \"f1_score_micro\", \"stepped\": false, \"type\": \"scatter\", \"data\": [0.9826328502415459, 0.8506038647342996, 0.9484591384863125, 0.7012167874396135, 0.9397846215780997, 0.9646769323671497, 0.7457971014492752, 0.8998188405797102, 0.8656551932367149, 0.8720289855072464, 0.9484601449275362, 0.9137147745571658, 0.8934541062801932, 0.9496225845410629, 0.9496235909822867, 0.876658615136876, 0.9791566022544284]}, {\"categories\": [\"0\", \"4\", \"5\", \"9\", \"16\", \"22\", \"23\", \"25\", \"27\", \"28\", \"29\", \"30\", \"31\", \"32\", \"33\", \"34\", \"38\"], \"mode\": \"lines\", \"name\": \"f1_score_micro_max\", \"stepped\": true, \"type\": \"scatter\", \"data\": [0.9826328502415459, 0.9826328502415459, 0.9826328502415459, 0.9826328502415459, 0.9826328502415459, 0.9826328502415459, 0.9826328502415459, 0.9826328502415459, 0.9826328502415459, 0.9826328502415459, 0.9826328502415459, 0.9826328502415459, 0.9826328502415459, 0.9826328502415459, 0.9826328502415459, 0.9826328502415459, 0.9826328502415459]}], \"accuracy\": [{\"categories\": [\"0\", \"4\", \"5\", \"9\", \"16\", \"22\", \"23\", \"25\", \"27\", \"28\", \"29\", \"30\", \"31\", \"32\", \"33\", \"34\", \"38\"], \"mode\": \"markers\", \"name\": \"accuracy\", \"stepped\": false, \"type\": \"scatter\", \"data\": [0.9826328502415459, 0.8506038647342996, 0.9484591384863125, 0.7012167874396135, 0.9397846215780997, 0.9646769323671497, 0.7457971014492754, 0.8998188405797102, 0.8656551932367149, 0.8720289855072464, 0.9484601449275362, 0.9137147745571658, 0.8934541062801933, 0.9496225845410629, 0.9496235909822867, 0.876658615136876, 0.9791566022544284]}, {\"categories\": [\"0\", \"4\", \"5\", \"9\", \"16\", \"22\", \"23\", \"25\", \"27\", \"28\", \"29\", \"30\", \"31\", \"32\", \"33\", \"34\", \"38\"], \"mode\": \"lines\", \"name\": \"accuracy_max\", \"stepped\": true, \"type\": \"scatter\", \"data\": [0.9826328502415459, 0.9826328502415459, 0.9826328502415459, 0.9826328502415459, 0.9826328502415459, 0.9826328502415459, 0.9826328502415459, 0.9826328502415459, 0.9826328502415459, 0.9826328502415459, 0.9826328502415459, 0.9826328502415459, 0.9826328502415459, 0.9826328502415459, 0.9826328502415459, 0.9826328502415459, 0.9826328502415459]}], \"AUC_micro\": [{\"categories\": [\"0\", \"4\", \"5\", \"9\", \"16\", \"22\", \"23\", \"25\", \"27\", \"28\", \"29\", \"30\", \"31\", \"32\", \"33\", \"34\", \"38\"], \"mode\": \"markers\", \"name\": \"AUC_micro\", \"stepped\": false, \"type\": \"scatter\", \"data\": [0.9994114807837794, 0.979145058625809, 0.9961164764314479, 0.9366129692846213, 0.9948124635722163, 0.9986241843166637, 0.9433999647461953, 0.9872568291645841, 0.9867316791140839, 0.9853932114070713, 0.9969223899026637, 0.9932515029390595, 0.9907678362990531, 0.997071291838418, 0.9972376312040376, 0.9839279832098944, 0.9992771738705007]}, {\"categories\": [\"0\", \"4\", \"5\", \"9\", \"16\", \"22\", \"23\", \"25\", \"27\", \"28\", \"29\", \"30\", \"31\", \"32\", \"33\", \"34\", \"38\"], \"mode\": \"lines\", \"name\": \"AUC_micro_max\", \"stepped\": true, \"type\": \"scatter\", \"data\": [0.9994114807837794, 0.9994114807837794, 0.9994114807837794, 0.9994114807837794, 0.9994114807837794, 0.9994114807837794, 0.9994114807837794, 0.9994114807837794, 0.9994114807837794, 0.9994114807837794, 0.9994114807837794, 0.9994114807837794, 0.9994114807837794, 0.9994114807837794, 0.9994114807837794, 0.9994114807837794, 0.9994114807837794]}], \"average_precision_score_micro\": [{\"categories\": [\"0\", \"4\", \"5\", \"9\", \"16\", \"22\", \"23\", \"25\", \"27\", \"28\", \"29\", \"30\", \"31\", \"32\", \"33\", \"34\", \"38\"], \"mode\": \"markers\", \"name\": \"average_precision_score_micro\", \"stepped\": false, \"type\": \"scatter\", \"data\": [0.9982808475759496, 0.9484372884358808, 0.9894228322254802, 0.8655479545438095, 0.9852401622537692, 0.9960043403411741, 0.8718069155531945, 0.9676364797820906, 0.9638397968806235, 0.9618166367500544, 0.9913497456714166, 0.9810844130883752, 0.9750943035874826, 0.9917314756222216, 0.9922646160954964, 0.9611557500471956, 0.9978833167091578]}, {\"categories\": [\"0\", \"4\", \"5\", \"9\", \"16\", \"22\", \"23\", \"25\", \"27\", \"28\", \"29\", \"30\", \"31\", \"32\", \"33\", \"34\", \"38\"], \"mode\": \"lines\", \"name\": \"average_precision_score_micro_max\", \"stepped\": true, \"type\": \"scatter\", \"data\": [0.9982808475759496, 0.9982808475759496, 0.9982808475759496, 0.9982808475759496, 0.9982808475759496, 0.9982808475759496, 0.9982808475759496, 0.9982808475759496, 0.9982808475759496, 0.9982808475759496, 0.9982808475759496, 0.9982808475759496, 0.9982808475759496, 0.9982808475759496, 0.9982808475759496, 0.9982808475759496, 0.9982808475759496]}]}, \"metricName\": null, \"primaryMetricName\": \"AUC_weighted\", \"showLegend\": false}, \"run_metrics\": [{\"name\": \"experiment_status_description\", \"run_id\": \"AutoML_4b4d9352-6570-468e-9b75-46398142bdee\", \"categories\": [0, 1, 2, 3, 4, 5, 6, 7, 8, 9, 10, 11, 12, 13, 14], \"series\": [{\"data\": [\"Gathering dataset statistics.\", \"Generating features for the dataset.\", \"Beginning to fit featurizers and featurize the dataset.\", \"Completed fit featurizers and featurizing the dataset.\", \"Performing class balancing sweeping\", \"Generating individually featurized CV splits.\", \"Beginning model selection.\", \"Best run model explanations started\", \"Model explanations data setup completed\", \"Choosing LightGBM as the surrogate model for explanations\", \"Computation of engineered features started\", \"Computation of engineered features completed\", \"Computation of raw features started\", \"Computation of raw features completed\", \"Best run model explanations completed\"]}]}, {\"name\": \"experiment_status\", \"run_id\": \"AutoML_4b4d9352-6570-468e-9b75-46398142bdee\", \"categories\": [0, 1, 2, 3, 4, 5, 6, 7, 8, 9, 10, 11, 12, 13, 14], \"series\": [{\"data\": [\"DatasetEvaluation\", \"FeaturesGeneration\", \"DatasetFeaturization\", \"DatasetFeaturizationCompleted\", \"DatasetBalancing\", \"DatasetCrossValidationSplit\", \"ModelSelection\", \"BestRunExplainModel\", \"ModelExplanationDataSetSetup\", \"PickSurrogateModel\", \"EngineeredFeatureExplanations\", \"EngineeredFeatureExplanations\", \"RawFeaturesExplanations\", \"RawFeaturesExplanations\", \"BestRunExplainModel\"]}]}, {\"name\": \"average_precision_score_micro\", \"run_id\": \"AutoML_4b4d9352-6570-468e-9b75-46398142bdee\", \"categories\": [0], \"series\": [{\"data\": [0.9978833167091578]}]}, {\"name\": \"accuracy\", \"run_id\": \"AutoML_4b4d9352-6570-468e-9b75-46398142bdee\", \"categories\": [0], \"series\": [{\"data\": [0.9791566022544284]}]}, {\"name\": \"matthews_correlation\", \"run_id\": \"AutoML_4b4d9352-6570-468e-9b75-46398142bdee\", \"categories\": [0], \"series\": [{\"data\": [0.955091150082933]}]}, {\"name\": \"AUC_macro\", \"run_id\": \"AutoML_4b4d9352-6570-468e-9b75-46398142bdee\", \"categories\": [0], \"series\": [{\"data\": [0.9988464303488396]}]}, {\"name\": \"f1_score_micro\", \"run_id\": \"AutoML_4b4d9352-6570-468e-9b75-46398142bdee\", \"categories\": [0], \"series\": [{\"data\": [0.9791566022544284]}]}, {\"name\": \"norm_macro_recall\", \"run_id\": \"AutoML_4b4d9352-6570-468e-9b75-46398142bdee\", \"categories\": [0], \"series\": [{\"data\": [0.9180382991887376]}]}, {\"name\": \"precision_score_micro\", \"run_id\": \"AutoML_4b4d9352-6570-468e-9b75-46398142bdee\", \"categories\": [0], \"series\": [{\"data\": [0.9791566022544284]}]}, {\"name\": \"weighted_accuracy\", \"run_id\": \"AutoML_4b4d9352-6570-468e-9b75-46398142bdee\", \"categories\": [0], \"series\": [{\"data\": [0.986911809767939]}]}, {\"name\": \"average_precision_score_weighted\", \"run_id\": \"AutoML_4b4d9352-6570-468e-9b75-46398142bdee\", \"categories\": [0], \"series\": [{\"data\": [0.9958521292732119]}]}, {\"name\": \"AUC_micro\", \"run_id\": \"AutoML_4b4d9352-6570-468e-9b75-46398142bdee\", \"categories\": [0], \"series\": [{\"data\": [0.9992771738705007]}]}, {\"name\": \"f1_score_weighted\", \"run_id\": \"AutoML_4b4d9352-6570-468e-9b75-46398142bdee\", \"categories\": [0], \"series\": [{\"data\": [0.9787788173769956]}]}, {\"name\": \"average_precision_score_macro\", \"run_id\": \"AutoML_4b4d9352-6570-468e-9b75-46398142bdee\", \"categories\": [0], \"series\": [{\"data\": [0.9900758018273192]}]}, {\"name\": \"precision_score_macro\", \"run_id\": \"AutoML_4b4d9352-6570-468e-9b75-46398142bdee\", \"categories\": [0], \"series\": [{\"data\": [0.964541439275584]}]}, {\"name\": \"balanced_accuracy\", \"run_id\": \"AutoML_4b4d9352-6570-468e-9b75-46398142bdee\", \"categories\": [0], \"series\": [{\"data\": [0.9385287243915533]}]}, {\"name\": \"recall_score_weighted\", \"run_id\": \"AutoML_4b4d9352-6570-468e-9b75-46398142bdee\", \"categories\": [0], \"series\": [{\"data\": [0.9791566022544284]}]}, {\"name\": \"precision_score_weighted\", \"run_id\": \"AutoML_4b4d9352-6570-468e-9b75-46398142bdee\", \"categories\": [0], \"series\": [{\"data\": [0.9798965206941653]}]}, {\"name\": \"recall_score_macro\", \"run_id\": \"AutoML_4b4d9352-6570-468e-9b75-46398142bdee\", \"categories\": [0], \"series\": [{\"data\": [0.9385287243915533]}]}, {\"name\": \"f1_score_macro\", \"run_id\": \"AutoML_4b4d9352-6570-468e-9b75-46398142bdee\", \"categories\": [0], \"series\": [{\"data\": [0.9484096816191979]}]}, {\"name\": \"AUC_weighted\", \"run_id\": \"AutoML_4b4d9352-6570-468e-9b75-46398142bdee\", \"categories\": [0], \"series\": [{\"data\": [0.9987922211520669]}]}, {\"name\": \"recall_score_micro\", \"run_id\": \"AutoML_4b4d9352-6570-468e-9b75-46398142bdee\", \"categories\": [0], \"series\": [{\"data\": [0.9791566022544284]}]}, {\"name\": \"log_loss\", \"run_id\": \"AutoML_4b4d9352-6570-468e-9b75-46398142bdee\", \"categories\": [0], \"series\": [{\"data\": [0.1559682888548167]}]}], \"run_logs\": \"\\nRun is completed.\", \"graph\": {}, \"widget_settings\": {\"childWidgetDisplay\": \"popup\", \"send_telemetry\": false, \"log_level\": \"INFO\", \"sdk_version\": \"1.49.0\"}, \"loading\": false}"
          },
          "metadata": {}
        }
      ],
      "execution_count": 9,
      "metadata": {
        "gather": {
          "logged": 1688533700133
        },
        "jupyter": {
          "outputs_hidden": false,
          "source_hidden": false
        },
        "nteract": {
          "transient": {
            "deleting": false
          }
        }
      }
    },
    {
      "cell_type": "markdown",
      "source": [
        "## Best Model\n",
        "\n",
        "TODO: In the cell below, get the best model from the automl experiments and display all the properties of the model.\n",
        "\n"
      ],
      "metadata": {}
    },
    {
      "cell_type": "code",
      "source": [
        "#Wait for the AutoML run to complete\n",
        "remote_run.wait_for_completion(show_output=True)\n",
        "\n",
        "#\"best_run\" contains the model, metrics, and run ID\n",
        "#\"fitted_model\" contains the actual trained model object\n",
        "best_run, fitted_model = remote_run.get_output()\n",
        "\n",
        "#\"best_run_metrics\" contains a dictionary of the metrics associated with the best run.\n",
        "best_run_metrics = best_run.get_metrics()\n",
        "\n",
        "# Display all the properties of the best model\n",
        "print(best_run.get_properties())\n"
      ],
      "outputs": [
        {
          "output_type": "display_data",
          "data": {
            "text/plain": "<IPython.core.display.HTML object>",
            "text/html": "<table style=\"width:100%\"><tr><th>Experiment</th><th>Id</th><th>Type</th><th>Status</th><th>Details Page</th><th>Docs Page</th></tr><tr><td>auto-ml</td><td>AutoML_4b4d9352-6570-468e-9b75-46398142bdee</td><td>automl</td><td>Completed</td><td><a href=\"https://ml.azure.com/runs/AutoML_4b4d9352-6570-468e-9b75-46398142bdee?wsid=/subscriptions/cdbe0b43-92a0-4715-838a-f2648cc7ad21/resourcegroups/aml-quickstarts-238215/workspaces/quick-starts-ws-238215&amp;tid=660b3398-b80e-49d2-bc5b-ac1dc93b5254\" target=\"_blank\" rel=\"noopener\">Link to Azure Machine Learning studio</a></td><td><a href=\"https://docs.microsoft.com/en-us/python/api/overview/azure/ml/intro?view=azure-ml-py\" target=\"_blank\" rel=\"noopener\">Link to Documentation</a></td></tr></table>"
          },
          "metadata": {}
        },
        {
          "output_type": "stream",
          "name": "stdout",
          "text": "\n\n********************************************************************************************\nDATA GUARDRAILS: \n\nTYPE:         Cross validation\nSTATUS:       DONE\nDESCRIPTION:  In order to accurately evaluate the model(s) trained by AutoML, we leverage a dataset that the model is not trained on. Hence, if the user doesn't provide an explicit validation dataset, a part of the training dataset is used to achieve this. For smaller datasets (fewer than 20,000 samples), cross-validation is leveraged, else a single hold-out set is split from the training data to serve as the validation dataset. Hence, for your input data we leverage cross-validation with 10 folds, if the number of training samples are fewer than 1000, and 3 folds in all other cases.\n              Learn more about cross validation: https://aka.ms/AutomatedMLCrossValidation\nDETAILS:      \n+------------------------------+\n|Number of folds               |\n+==============================+\n|3                             |\n+------------------------------+\n\n********************************************************************************************\n\nTYPE:         Class balancing detection\nSTATUS:       ALERTED\nDESCRIPTION:  To decrease model bias, please cancel the current run and fix balancing problem.\n              Learn more about imbalanced data: https://aka.ms/AutomatedMLImbalancedData\nDETAILS:      Imbalanced data can lead to a falsely perceived positive effect of a model's accuracy because the input data has bias towards one class.\n+------------------------------+--------------------------------+--------------------------------------+\n|Size of the smallest class    |Name/Label of the smallest class|Number of samples in the training data|\n+==============================+================================+======================================+\n|65                            |vgood                           |1727                                  |\n+------------------------------+--------------------------------+--------------------------------------+\n\n********************************************************************************************\n\nTYPE:         Missing feature values imputation\nSTATUS:       PASSED\nDESCRIPTION:  No feature missing values were detected in the training data.\n              Learn more about missing value imputation: https://aka.ms/AutomatedMLFeaturization\n\n********************************************************************************************\n\nTYPE:         High cardinality feature detection\nSTATUS:       PASSED\nDESCRIPTION:  Your inputs were analyzed, and no high cardinality features were detected.\n              Learn more about high cardinality feature handling: https://aka.ms/AutomatedMLFeaturization\n\n********************************************************************************************\n\n********************************************************************************************\nITER: The iteration being evaluated.\nPIPELINE: A summary description of the pipeline being evaluated.\nDURATION: Time taken for the current iteration.\nMETRIC: The result of computing score on the fitted pipeline.\nBEST: The best observed score thus far.\n********************************************************************************************\n\n ITER   PIPELINE                                       DURATION            METRIC      BEST\n    0   MaxAbsScaler LightGBM                          0:00:16             0.9988    0.9988\n    1   MaxAbsScaler XGBoostClassifier                 0:00:14             0.9986    0.9988\n    2   MaxAbsScaler ExtremeRandomTrees                0:00:13             0.9641    0.9988\n    3   MaxAbsScaler RandomForest                      0:00:12             0.9782    0.9988\n    4   StandardScalerWrapper LightGBM                 0:00:18             0.9717    0.9988\n    5   SparseNormalizer XGBoostClassifier             0:00:13             0.9947    0.9988\n    6   SparseNormalizer RandomForest                  0:00:14             0.9778    0.9988\n    7   StandardScalerWrapper XGBoostClassifier        0:00:12             0.9903    0.9988\n    8   SparseNormalizer XGBoostClassifier             0:00:16             0.9952    0.9988\n    9   MaxAbsScaler RandomForest                      0:00:13             0.9412    0.9988\n   10   SparseNormalizer LightGBM                      0:00:12             0.9748    0.9988\n   11   MaxAbsScaler ExtremeRandomTrees                0:00:15             0.9859    0.9988\n   12   StandardScalerWrapper XGBoostClassifier        0:00:15             0.9951    0.9988\n   13   StandardScalerWrapper ExtremeRandomTrees       0:00:12             0.9784    0.9988\n   14   StandardScalerWrapper RandomForest             0:00:14             0.9956    0.9988\n   15   MaxAbsScaler LightGBM                          0:00:12             0.9862    0.9988\n   16   MaxAbsScaler LogisticRegression                0:00:11             0.9886    0.9988\n   17   StandardScalerWrapper ExtremeRandomTrees       0:00:11             0.9468    0.9988\n   18   StandardScalerWrapper XGBoostClassifier        0:00:10             0.9943    0.9988\n   19   MaxAbsScaler ExtremeRandomTrees                0:00:10             0.9855    0.9988\n   20   MaxAbsScaler LogisticRegression                0:01:44             0.9831    0.9988\n   21   StandardScalerWrapper XGBoostClassifier        0:00:33             0.9945    0.9988\n   22   StandardScalerWrapper XGBoostClassifier        0:01:45             0.9979    0.9988\n   23   MaxAbsScaler RandomForest                      0:00:32             0.9387    0.9988\n   24   SparseNormalizer XGBoostClassifier             0:00:27             0.9882    0.9988\n   25   MaxAbsScaler LightGBM                          0:00:28             0.9844    0.9988\n   26   MaxAbsScaler LinearSVM                         0:00:39             0.9795    0.9988\n   27   MaxAbsScaler LinearSVM                         0:00:33             0.9789    0.9988\n   28   StandardScalerWrapper LightGBM                 0:00:26             0.9793    0.9988\n   29   MaxAbsScaler LightGBM                          0:00:30             0.9954    0.9988\n   30   SparseNormalizer LightGBM                      0:00:30             0.9867    0.9988\n   31   SparseNormalizer LightGBM                      0:00:27             0.9864    0.9988\n   32   StandardScalerWrapper LightGBM                 0:00:33             0.9958    0.9988\n   33   SparseNormalizer XGBoostClassifier             0:00:29             0.9963    0.9988\n   34   StandardScalerWrapper XGBoostClassifier        0:00:27             0.9827    0.9988\n   35   SparseNormalizer LightGBM                      0:00:19                nan    0.9988\n   36                                                  0:00:13                nan    0.9988\n   37                                                  0:00:06                nan    0.9988\n   38    VotingEnsemble                                0:00:55             0.9988    0.9988\n   39    StackEnsemble                                 0:01:05             0.9983    0.9988\n{'runTemplate': 'automl_child', 'pipeline_id': '__AutoML_Ensemble__', 'pipeline_spec': '{\"pipeline_id\":\"__AutoML_Ensemble__\",\"objects\":[{\"module\":\"azureml.train.automl.ensemble\",\"class_name\":\"Ensemble\",\"spec_class\":\"sklearn\",\"param_args\":[],\"param_kwargs\":{\"automl_settings\":\"{\\'task_type\\':\\'classification\\',\\'primary_metric\\':\\'AUC_weighted\\',\\'verbosity\\':20,\\'ensemble_iterations\\':15,\\'is_timeseries\\':False,\\'name\\':\\'auto-ml\\',\\'compute_target\\':\\'auto-ml\\',\\'subscription_id\\':\\'cdbe0b43-92a0-4715-838a-f2648cc7ad21\\',\\'region\\':\\'westeurope\\',\\'spark_service\\':None}\",\"ensemble_run_id\":\"AutoML_4b4d9352-6570-468e-9b75-46398142bdee_38\",\"experiment_name\":\"auto-ml\",\"workspace_name\":\"quick-starts-ws-238215\",\"subscription_id\":\"cdbe0b43-92a0-4715-838a-f2648cc7ad21\",\"resource_group_name\":\"aml-quickstarts-238215\"}}]}', 'training_percent': '100', 'predicted_cost': None, 'iteration': '38', '_aml_system_scenario_identification': 'Remote.Child', '_azureml.ComputeTargetType': 'amlctrain', 'ContentSnapshotId': '5bc02778-1a84-4105-b944-2a307086f1f4', 'ProcessInfoFile': 'azureml-logs/process_info.json', 'ProcessStatusFile': 'azureml-logs/process_status.json', 'run_preprocessor': '', 'run_algorithm': 'VotingEnsemble', 'ensembled_iterations': '[0, 1, 22, 33, 32, 13]', 'ensembled_algorithms': \"['LightGBM', 'XGBoostClassifier', 'XGBoostClassifier', 'XGBoostClassifier', 'LightGBM', 'ExtremeRandomTrees']\", 'ensembled_run_ids': \"['AutoML_4b4d9352-6570-468e-9b75-46398142bdee_0', 'AutoML_4b4d9352-6570-468e-9b75-46398142bdee_1', 'AutoML_4b4d9352-6570-468e-9b75-46398142bdee_22', 'AutoML_4b4d9352-6570-468e-9b75-46398142bdee_33', 'AutoML_4b4d9352-6570-468e-9b75-46398142bdee_32', 'AutoML_4b4d9352-6570-468e-9b75-46398142bdee_13']\", 'ensemble_weights': '[0.4, 0.13333333333333333, 0.06666666666666667, 0.06666666666666667, 0.06666666666666667, 0.26666666666666666]', 'best_individual_pipeline_score': '0.9987787177700516', 'best_individual_iteration': '0', 'model_output_path': 'outputs/model.pkl', 'conda_env_data_location': 'aml://artifact/ExperimentRun/dcid.AutoML_4b4d9352-6570-468e-9b75-46398142bdee_38/outputs/conda_env_v_1_0_0.yml', 'model_data_location': 'aml://artifact/ExperimentRun/dcid.AutoML_4b4d9352-6570-468e-9b75-46398142bdee_38/outputs/model.pkl', 'model_size_on_disk': '3585288', 'scoring_data_location': 'aml://artifact/ExperimentRun/dcid.AutoML_4b4d9352-6570-468e-9b75-46398142bdee_38/outputs/scoring_file_v_1_0_0.py', 'scoring_data_location_v2': 'aml://artifact/ExperimentRun/dcid.AutoML_4b4d9352-6570-468e-9b75-46398142bdee_38/outputs/scoring_file_v_2_0_0.py', 'scoring_data_location_pbi': 'aml://artifact/ExperimentRun/dcid.AutoML_4b4d9352-6570-468e-9b75-46398142bdee_38/outputs/scoring_file_pbi_v_1_0_0.py', 'model_exp_support': 'True', 'pipeline_graph_version': '1.0.0', 'model_name': 'AutoML4b4d9352638', 'score': '0.9987922211520669', 'score_table': 'NaN', 'run_properties': 'classification_labels=numpy.array([0, 1, 2, 3]', 'pipeline_script': '{\"pipeline_id\":\"__AutoML_Ensemble__\",\"objects\":[{\"module\":\"azureml.train.automl.ensemble\",\"class_name\":\"Ensemble\",\"spec_class\":\"sklearn\",\"param_args\":[],\"param_kwargs\":{\"automl_settings\":\"{\\'task_type\\':\\'classification\\',\\'primary_metric\\':\\'AUC_weighted\\',\\'verbosity\\':20,\\'ensemble_iterations\\':15,\\'is_timeseries\\':False,\\'name\\':\\'auto-ml\\',\\'compute_target\\':\\'auto-ml\\',\\'subscription_id\\':\\'cdbe0b43-92a0-4715-838a-f2648cc7ad21\\',\\'region\\':\\'westeurope\\',\\'spark_service\\':None}\",\"ensemble_run_id\":\"AutoML_4b4d9352-6570-468e-9b75-46398142bdee_38\",\"experiment_name\":\"auto-ml\",\"workspace_name\":\"quick-starts-ws-238215\",\"subscription_id\":\"cdbe0b43-92a0-4715-838a-f2648cc7ad21\",\"resource_group_name\":\"aml-quickstarts-238215\"}}]}', 'training_type': 'MeanCrossValidation', 'fit_time': '22', 'goal': 'AUC_weighted_max', 'primary_metric': 'AUC_weighted', 'errors': '{}', 'onnx_model_resource': '{}', 'dependencies_versions': '{\"azureml-dataprep-native\": \"38.0.0\", \"azureml-dataprep\": \"4.10.8\", \"azureml-dataprep-rslex\": \"2.17.12\", \"azureml-automl-runtime\": \"1.51.0.post2\", \"azureml-train-automl-runtime\": \"1.51.0.post2\", \"azureml-automl-core\": \"1.51.0.post1\", \"azureml-train-automl-client\": \"1.51.0.post1\", \"azureml-training-tabular\": \"1.51.0.post1\", \"azureml-core\": \"1.51.0\", \"azureml-responsibleai\": \"1.51.0\", \"azureml-defaults\": \"1.51.0\", \"azureml-mlflow\": \"1.51.0\", \"azureml-train-core\": \"1.51.0\", \"azureml-telemetry\": \"1.51.0\", \"azureml-interpret\": \"1.51.0\", \"azureml-dataset-runtime\": \"1.51.0\", \"azureml-train-restclients-hyperdrive\": \"1.51.0\", \"azureml-pipeline-core\": \"1.51.0\", \"azureml-inference-server-http\": \"0.8.4\"}', 'num_cores': '2', 'num_logical_cores': '2', 'peak_memory_usage': '1223868', 'vm_configuration': 'x86_64', 'core_hours': '0.00688352361111111', 'feature_skus': 'automatedml_sdk_guardrails'}\n"
        },
        {
          "output_type": "stream",
          "name": "stderr",
          "text": "WARNING:root:The version of the SDK does not match the version the model was trained on.\nWARNING:root:The consistency in the result may not be guaranteed.\nWARNING:root:Package:azureml-automl-core, training version:1.51.0.post1, current version:1.49.0\nPackage:azureml-automl-runtime, training version:1.51.0.post2, current version:1.49.0\nPackage:azureml-core, training version:1.51.0, current version:1.49.0\nPackage:azureml-dataprep, training version:4.10.8, current version:4.9.1\nPackage:azureml-dataprep-rslex, training version:2.17.12, current version:2.16.1\nPackage:azureml-dataset-runtime, training version:1.51.0, current version:1.49.0\nPackage:azureml-defaults, training version:1.51.0, current version:1.49.0\nPackage:azureml-interpret, training version:1.51.0, current version:1.49.0\nPackage:azureml-mlflow, training version:1.51.0, current version:1.49.0\nPackage:azureml-pipeline-core, training version:1.51.0, current version:1.49.0\nPackage:azureml-responsibleai, training version:1.51.0, current version:1.49.0\nPackage:azureml-telemetry, training version:1.51.0, current version:1.49.0\nPackage:azureml-train-automl-client, training version:1.51.0.post1, current version:1.49.0\nPackage:azureml-train-automl-runtime, training version:1.51.0.post2, current version:1.49.0\nPackage:azureml-train-core, training version:1.51.0, current version:1.49.0\nPackage:azureml-train-restclients-hyperdrive, training version:1.51.0, current version:1.49.0\nPackage:azureml-training-tabular, training version:1.51.0.post1, current version:1.49.0\nWARNING:root:Please ensure the version of your local conda dependencies match the version on which your model was trained in order to properly retrieve your model.\n"
        }
      ],
      "execution_count": 11,
      "metadata": {
        "gather": {
          "logged": 1688536399057
        },
        "jupyter": {
          "outputs_hidden": false,
          "source_hidden": false
        },
        "nteract": {
          "transient": {
            "deleting": false
          }
        }
      }
    },
    {
      "cell_type": "code",
      "source": [
        "#TODO: Save the best model\n",
        "# Save the fitted model as a pickle file\n",
        "import pickle\n",
        "filename = 'automl_best_model.pkl'\n",
        "with open(filename, 'wb') as file:\n",
        "    pickle.dump(fitted_model, file)\n"
      ],
      "outputs": [],
      "execution_count": 12,
      "metadata": {
        "gather": {
          "logged": 1688536598948
        },
        "jupyter": {
          "outputs_hidden": false,
          "source_hidden": false
        },
        "nteract": {
          "transient": {
            "deleting": false
          }
        }
      }
    },
    {
      "cell_type": "code",
      "source": [
        "import pickle\n",
        "with open(filename, 'rb') as file:\n",
        "    loaded_model=pickle.load(file)\n",
        "print(loaded_model)"
      ],
      "outputs": [
        {
          "output_type": "stream",
          "name": "stdout",
          "text": "Pipeline(memory=None,\n         steps=[('datatransformer',\n                 DataTransformer(enable_dnn=False, enable_feature_sweeping=True, feature_sweeping_config={}, feature_sweeping_timeout=86400, featurization_config=None, force_text_dnn=False, is_cross_validation=True, is_onnx_compatible=False, observer=None, task='classification', working_dir='/mnt/batch/tasks/shared/LS_root/mount...\n                 PreFittedSoftVotingClassifier(classification_labels=array([0, 1, 2, 3]), estimators=[('0', Pipeline(memory=None, steps=[('maxabsscaler', MaxAbsScaler(copy=True)), ('lightgbmclassifier', LightGBMClassifier(min_data_in_leaf=20, n_jobs=1, problem_info=ProblemInfo(gpu_training_param_dict={'processing_unit_type': 'cpu'}), random_state=None))], verbose=False)), ('1', Pipeline(memory=None, steps=[('maxabsscaler', MaxAbsScaler(copy=True)), ('xgboostclassifier', XGBoostClassifier(n_jobs=1, problem_info=ProblemInfo(gpu_training_param_dict={'processing_unit_type': 'cpu'}), random_state=0, tree_method='auto'))], verbose=False)), ('22', Pipeline(memory=None, steps=[('standardscalerwrapper', StandardScalerWrapper(copy=True, with_mean=False, with_std=False)), ('xgboostclassifier', XGBoostClassifier(booster='gbtree', colsample_bytree=0.7, eta=0.3, gamma=0, max_depth=5, max_leaves=0, n_estimators=100, n_jobs=1, objective='reg:logistic', problem_info=ProblemInfo(gpu_training_param_dict={'processing_unit_type': 'cpu'}), random_state=0, reg_alpha=1.5625, reg_lambda=2.1875, subsample=0.7, tree_method='auto'))], verbose=False)), ('33', Pipeline(memory=None, steps=[('sparsenormalizer', Normalizer(copy=True, norm='max')), ('xgboostclassifier', XGBoostClassifier(booster='gbtree', colsample_bytree=1, eta=0.4, gamma=0, max_depth=6, max_leaves=3, n_estimators=25, n_jobs=1, objective='reg:logistic', problem_info=ProblemInfo(gpu_training_param_dict={'processing_unit_type': 'cpu'}), random_state=0, reg_alpha=2.0833333333333335, reg_lambda=0.7291666666666667, subsample=0.5, tree_method='auto'))], verbose=False)), ('32', Pipeline(memory=None, steps=[('standardscalerwrapper', StandardScalerWrapper(copy=True, with_mean=False, with_std=True)), ('lightgbmclassifier', LightGBMClassifier(boosting_type='goss', colsample_bytree=0.8911111111111111, learning_rate=0.1, max_bin=180, max_depth=10, min_child_weight=9, min_data_in_leaf=0.013801724137931036, min_split_gain=0.15789473684210525, n_estimators=200, n_jobs=1, num_leaves=53, problem_info=ProblemInfo(gpu_training_param_dict={'processing_unit_type': 'cpu'}), random_state=None, reg_alpha=0.42105263157894735, reg_lambda=0.15789473684210525, subsample=1))], verbose=False)), ('13', Pipeline(memory=None, steps=[('standardscalerwrapper', StandardScalerWrapper(copy=True, with_mean=False, with_std=False)), ('extratreesclassifier', ExtraTreesClassifier(bootstrap=False, ccp_alpha=0.0, class_weight=None, criterion='entropy', max_depth=None, max_features=0.05, max_leaf_nodes=None, max_samples=None, min_impurity_decrease=0.0, min_impurity_split=None, min_samples_leaf=0.01, min_samples_split=0.01, min_weight_fraction_leaf=0.0, n_estimators=25, n_jobs=1, oob_score=False, random_state=None, verbose=0, warm_start=False))], verbose=False))], flatten_transform=None, weights=[0.4, 0.13333333333333333, 0.06666666666666667, 0.06666666666666667, 0.06666666666666667, 0.26666666666666666]))],\n         verbose=False)\nY_transformer(['LabelEncoder', LabelEncoder()])\n"
        }
      ],
      "execution_count": 13,
      "metadata": {
        "gather": {
          "logged": 1688536618707
        },
        "jupyter": {
          "outputs_hidden": false,
          "source_hidden": false
        },
        "nteract": {
          "transient": {
            "deleting": false
          }
        }
      }
    },
    {
      "cell_type": "markdown",
      "source": [
        "## Model Deployment\n",
        "\n",
        "Remember you have to deploy only one of the two models you trained but you still need to register both the models. Perform the steps in the rest of this notebook only if you wish to deploy this model.\n",
        "\n",
        "TODO: In the cell below, register the model, create an inference config and deploy the model as a web service."
      ],
      "metadata": {}
    },
    {
      "cell_type": "code",
      "source": [
        "best_run.register_model(model_name='best_aml_model', model_path='./outputs/')"
      ],
      "outputs": [
        {
          "output_type": "execute_result",
          "execution_count": 14,
          "data": {
            "text/plain": "Model(workspace=Workspace.create(name='quick-starts-ws-238215', subscription_id='cdbe0b43-92a0-4715-838a-f2648cc7ad21', resource_group='aml-quickstarts-238215'), name=best_aml_model, id=best_aml_model:1, version=1, tags={}, properties={})"
          },
          "metadata": {}
        }
      ],
      "execution_count": 14,
      "metadata": {
        "gather": {
          "logged": 1688536637164
        },
        "jupyter": {
          "outputs_hidden": false,
          "source_hidden": false
        },
        "nteract": {
          "transient": {
            "deleting": false
          }
        }
      }
    },
    {
      "cell_type": "code",
      "source": [
        "#from azureml.core import Model\n",
        "\n",
        "#model = Model.register(workspace=ws, \n",
        "#                       model_path=file_name, #local pkl file path\n",
        "#                       model_name='best_aml_model'\n",
        "#                      )\n",
        "\n",
        "#print('Name:', model.name)\n",
        "#print('Version:', model.version)"
      ],
      "outputs": [],
      "execution_count": null,
      "metadata": {
        "gather": {
          "logged": 1688377814343
        },
        "jupyter": {
          "outputs_hidden": false,
          "source_hidden": false
        },
        "nteract": {
          "transient": {
            "deleting": false
          }
        }
      }
    },
    {
      "cell_type": "code",
      "source": [
        "from azureml.core.model import InferenceConfig\n",
        "from azureml.core.environment import Environment"
      ],
      "outputs": [],
      "execution_count": 25,
      "metadata": {
        "gather": {
          "logged": 1688537732665
        },
        "jupyter": {
          "outputs_hidden": true,
          "source_hidden": false
        },
        "nteract": {
          "transient": {
            "deleting": false
          }
        }
      }
    },
    {
      "cell_type": "code",
      "source": [
        "from azureml.core import Workspace, Model, Environment, Run\r\n",
        "from azureml.core.webservice import AciWebservice\r\n",
        "\r\n",
        "# Load your workspace\r\n",
        "ws = Workspace.from_config()\r\n",
        "\r\n",
        "# Retrieve the best AutoML model\r\n",
        "best_model = Model(ws, 'best_aml_model')\r\n",
        "\r\n",
        "# Retrieve the AutoML run associated with the model\r\n",
        "run_id = best_model.tags.get('automl_run_id')\r\n",
        "automl_run = Run(ws.experiments['auto-ml'], run_id)\r\n",
        "\r\n",
        "# Retrieve the environment name from the run's properties\r\n",
        "environment_name = automl_run.properties['environment_definition'].name\r\n",
        "\r\n",
        "# Retrieve the environment from the workspace\r\n",
        "env = Environment.get(workspace=ws, name=environment_name)\r\n",
        "\r\n",
        "# Define deployment configuration\r\n",
        "deployment_config = AciWebservice.deploy_configuration(cpu_cores=1, memory_gb=1)\r\n",
        "\r\n",
        "# Deploy the model using the retrieved environment\r\n",
        "service = Model.deploy(\r\n",
        "    workspace=ws,\r\n",
        "    name='automl-deploy',\r\n",
        "    models=[best_model],\r\n",
        "    inference_config=InferenceConfig(entry_script='./score.py', environment=env),\r\n",
        "    deployment_config=deployment_config,\r\n",
        "    overwrite=True\r\n",
        ")\r\n",
        "\r\n",
        "service.wait_for_deployment(show_output=True)\r\n",
        "\r\n"
      ],
      "outputs": [
        {
          "output_type": "error",
          "ename": "TypeError",
          "evalue": "sequence item 1: expected str instance, NoneType found",
          "traceback": [
            "\u001b[0;31m---------------------------------------------------------------------------\u001b[0m",
            "\u001b[0;31mTypeError\u001b[0m                                 Traceback (most recent call last)",
            "Cell \u001b[0;32mIn[30], line 12\u001b[0m\n\u001b[1;32m     10\u001b[0m \u001b[38;5;66;03m# Retrieve the AutoML run associated with the model\u001b[39;00m\n\u001b[1;32m     11\u001b[0m run_id \u001b[38;5;241m=\u001b[39m best_model\u001b[38;5;241m.\u001b[39mtags\u001b[38;5;241m.\u001b[39mget(\u001b[38;5;124m'\u001b[39m\u001b[38;5;124mautoml_run_id\u001b[39m\u001b[38;5;124m'\u001b[39m)\n\u001b[0;32m---> 12\u001b[0m automl_run \u001b[38;5;241m=\u001b[39m \u001b[43mRun\u001b[49m\u001b[43m(\u001b[49m\u001b[43mws\u001b[49m\u001b[38;5;241;43m.\u001b[39;49m\u001b[43mexperiments\u001b[49m\u001b[43m[\u001b[49m\u001b[38;5;124;43m'\u001b[39;49m\u001b[38;5;124;43mauto-ml\u001b[39;49m\u001b[38;5;124;43m'\u001b[39;49m\u001b[43m]\u001b[49m\u001b[43m,\u001b[49m\u001b[43m \u001b[49m\u001b[43mrun_id\u001b[49m\u001b[43m)\u001b[49m\n\u001b[1;32m     14\u001b[0m \u001b[38;5;66;03m# Retrieve the environment name from the run's properties\u001b[39;00m\n\u001b[1;32m     15\u001b[0m environment_name \u001b[38;5;241m=\u001b[39m automl_run\u001b[38;5;241m.\u001b[39mproperties[\u001b[38;5;124m'\u001b[39m\u001b[38;5;124menvironment_definition\u001b[39m\u001b[38;5;124m'\u001b[39m]\u001b[38;5;241m.\u001b[39mname\n",
            "File \u001b[0;32m/anaconda/envs/azureml_py38/lib/python3.8/site-packages/azureml/core/run.py:173\u001b[0m, in \u001b[0;36mRun.__init__\u001b[0;34m(self, experiment, run_id, outputs, **kwargs)\u001b[0m\n\u001b[1;32m    160\u001b[0m \u001b[38;5;28;01mdef\u001b[39;00m \u001b[38;5;21m__init__\u001b[39m(\u001b[38;5;28mself\u001b[39m, experiment, run_id, outputs\u001b[38;5;241m=\u001b[39m\u001b[38;5;28;01mNone\u001b[39;00m, \u001b[38;5;241m*\u001b[39m\u001b[38;5;241m*\u001b[39mkwargs):\n\u001b[1;32m    161\u001b[0m \u001b[38;5;250m    \u001b[39m\u001b[38;5;124;03m\"\"\"Initialize the Run object.\u001b[39;00m\n\u001b[1;32m    162\u001b[0m \n\u001b[1;32m    163\u001b[0m \u001b[38;5;124;03m    :param experiment: The containing experiment.\u001b[39;00m\n\u001b[0;32m   (...)\u001b[0m\n\u001b[1;32m    171\u001b[0m \n\u001b[1;32m    172\u001b[0m \u001b[38;5;124;03m    \"\"\"\u001b[39;00m\n\u001b[0;32m--> 173\u001b[0m     \u001b[38;5;28;43msuper\u001b[39;49m\u001b[43m(\u001b[49m\u001b[43mRun\u001b[49m\u001b[43m,\u001b[49m\u001b[43m \u001b[49m\u001b[38;5;28;43mself\u001b[39;49m\u001b[43m)\u001b[49m\u001b[38;5;241;43m.\u001b[39;49m\u001b[38;5;21;43m__init__\u001b[39;49m\u001b[43m(\u001b[49m\u001b[43mexperiment\u001b[49m\u001b[43m,\u001b[49m\u001b[43m \u001b[49m\u001b[43mrun_id\u001b[49m\u001b[43m,\u001b[49m\u001b[43m \u001b[49m\u001b[43moutputs\u001b[49m\u001b[38;5;241;43m=\u001b[39;49m\u001b[43moutputs\u001b[49m\u001b[43m,\u001b[49m\u001b[43m \u001b[49m\u001b[38;5;241;43m*\u001b[39;49m\u001b[38;5;241;43m*\u001b[39;49m\u001b[43mkwargs\u001b[49m\u001b[43m)\u001b[49m\n\u001b[1;32m    174\u001b[0m     \u001b[38;5;28mself\u001b[39m\u001b[38;5;241m.\u001b[39m_parent_run \u001b[38;5;241m=\u001b[39m \u001b[38;5;28;01mNone\u001b[39;00m\n",
            "File \u001b[0;32m/anaconda/envs/azureml_py38/lib/python3.8/site-packages/azureml/_run_impl/run_base.py:59\u001b[0m, in \u001b[0;36m_RunBase.__init__\u001b[0;34m(self, experiment, run_id, outputs, logs, _run_dto, _worker_pool, _user_agent, _ident, _batch_upload_metrics, py_wd, deny_list, flush_eager, redirect_output_stream, **kwargs)\u001b[0m\n\u001b[1;32m     55\u001b[0m \u001b[38;5;28mself\u001b[39m\u001b[38;5;241m.\u001b[39m_experiment \u001b[38;5;241m=\u001b[39m experiment\n\u001b[1;32m     57\u001b[0m \u001b[38;5;28mself\u001b[39m\u001b[38;5;241m.\u001b[39m_run_id \u001b[38;5;241m=\u001b[39m run_id\n\u001b[0;32m---> 59\u001b[0m _ident \u001b[38;5;241m=\u001b[39m _ident \u001b[38;5;28;01mif\u001b[39;00m _ident \u001b[38;5;129;01mis\u001b[39;00m \u001b[38;5;129;01mnot\u001b[39;00m \u001b[38;5;28;01mNone\u001b[39;00m \u001b[38;5;28;01melse\u001b[39;00m \u001b[43mChainedIdentity\u001b[49m\u001b[38;5;241;43m.\u001b[39;49m\u001b[43mDELIM\u001b[49m\u001b[38;5;241;43m.\u001b[39;49m\u001b[43mjoin\u001b[49m\u001b[43m(\u001b[49m\u001b[43m[\u001b[49m\u001b[38;5;28;43mself\u001b[39;49m\u001b[38;5;241;43m.\u001b[39;49m\u001b[38;5;18;43m__class__\u001b[39;49m\u001b[38;5;241;43m.\u001b[39;49m\u001b[38;5;18;43m__name__\u001b[39;49m\u001b[43m,\u001b[49m\u001b[43m \u001b[49m\u001b[38;5;28;43mself\u001b[39;49m\u001b[38;5;241;43m.\u001b[39;49m\u001b[43m_run_id\u001b[49m\u001b[43m]\u001b[49m\u001b[43m)\u001b[49m\n\u001b[1;32m     61\u001b[0m run_clean_up \u001b[38;5;241m=\u001b[39m kwargs\u001b[38;5;241m.\u001b[39mpop(\u001b[38;5;124m\"\u001b[39m\u001b[38;5;124mclean_up\u001b[39m\u001b[38;5;124m\"\u001b[39m, \u001b[38;5;28;01mTrue\u001b[39;00m)\n\u001b[1;32m     63\u001b[0m \u001b[38;5;66;03m# We need to do this in order to resolve the history object :(\u001b[39;00m\n\u001b[1;32m     64\u001b[0m \u001b[38;5;66;03m# Get rid of just name and pass the objects around BUT\u001b[39;00m\n\u001b[1;32m     65\u001b[0m \u001b[38;5;66;03m# TODO: Everything needs to use the *SAME PARAMETER NAMES*\u001b[39;00m\n",
            "\u001b[0;31mTypeError\u001b[0m: sequence item 1: expected str instance, NoneType found"
          ]
        }
      ],
      "execution_count": 30,
      "metadata": {
        "jupyter": {
          "source_hidden": false,
          "outputs_hidden": false
        },
        "nteract": {
          "transient": {
            "deleting": false
          }
        },
        "gather": {
          "logged": 1688540529440
        }
      }
    },
    {
      "cell_type": "markdown",
      "source": [
        "CAUTION: next two cells are not working properly."
      ],
      "metadata": {
        "nteract": {
          "transient": {
            "deleting": false
          }
        }
      }
    },
    {
      "cell_type": "code",
      "source": [
        "from azureml.core import Workspace, Environment\r\n",
        "from azureml.core.model import InferenceConfig\r\n",
        "\r\n",
        "ws = Workspace.from_config()\r\n",
        "environment_name = 'my_env'\r\n",
        "env = Environment.get(workspace=ws, name=environment_name)\r\n",
        "\r\n",
        "inference_config = InferenceConfig(entry_script='./score.py', environment=env)\r\n"
      ],
      "outputs": [
        {
          "output_type": "error",
          "ename": "Exception",
          "evalue": "Error retrieving the environment definition. Code: 404\n: {\n  \"error\": {\n    \"code\": \"UserError\",\n    \"severity\": null,\n    \"message\": \"No environment exists for name: my_env, version: , label: \",\n    \"messageFormat\": null,\n    \"messageParameters\": null,\n    \"referenceCode\": null,\n    \"detailsUri\": null,\n    \"target\": null,\n    \"details\": [],\n    \"innerError\": {\n      \"code\": \"NotFoundError\",\n      \"innerError\": null\n    },\n    \"debugInfo\": null,\n    \"additionalInfo\": null\n  },\n  \"correlation\": {\n    \"operation\": \"e648e2f9dd6fb05d7512c9ff98983d51\",\n    \"request\": \"6df3669f48fabaa1\"\n  },\n  \"environment\": \"westeurope\",\n  \"location\": \"westeurope\",\n  \"time\": \"2023-07-05T06:26:41.5586618+00:00\",\n  \"componentName\": \"environment-management\"\n}",
          "traceback": [
            "\u001b[0;31m---------------------------------------------------------------------------\u001b[0m",
            "\u001b[0;31mException\u001b[0m                                 Traceback (most recent call last)",
            "Cell \u001b[0;32mIn[27], line 6\u001b[0m\n\u001b[1;32m      4\u001b[0m ws \u001b[38;5;241m=\u001b[39m Workspace\u001b[38;5;241m.\u001b[39mfrom_config()\n\u001b[1;32m      5\u001b[0m environment_name \u001b[38;5;241m=\u001b[39m \u001b[38;5;124m'\u001b[39m\u001b[38;5;124mmy_env\u001b[39m\u001b[38;5;124m'\u001b[39m\n\u001b[0;32m----> 6\u001b[0m env \u001b[38;5;241m=\u001b[39m \u001b[43mEnvironment\u001b[49m\u001b[38;5;241;43m.\u001b[39;49m\u001b[43mget\u001b[49m\u001b[43m(\u001b[49m\u001b[43mworkspace\u001b[49m\u001b[38;5;241;43m=\u001b[39;49m\u001b[43mws\u001b[49m\u001b[43m,\u001b[49m\u001b[43m \u001b[49m\u001b[43mname\u001b[49m\u001b[38;5;241;43m=\u001b[39;49m\u001b[43menvironment_name\u001b[49m\u001b[43m)\u001b[49m\n\u001b[1;32m      8\u001b[0m inference_config \u001b[38;5;241m=\u001b[39m InferenceConfig(entry_script\u001b[38;5;241m=\u001b[39m\u001b[38;5;124m'\u001b[39m\u001b[38;5;124m./score.py\u001b[39m\u001b[38;5;124m'\u001b[39m, environment\u001b[38;5;241m=\u001b[39menv)\n",
            "File \u001b[0;32m/anaconda/envs/azureml_py38/lib/python3.8/site-packages/azureml/core/environment.py:1158\u001b[0m, in \u001b[0;36mEnvironment.get\u001b[0;34m(workspace, name, version, label)\u001b[0m\n\u001b[1;32m   1156\u001b[0m     environment_dict \u001b[38;5;241m=\u001b[39m environment_client\u001b[38;5;241m.\u001b[39m_get_environment_definition_by_label(name\u001b[38;5;241m=\u001b[39mname, label\u001b[38;5;241m=\u001b[39mlabel)\n\u001b[1;32m   1157\u001b[0m \u001b[38;5;28;01melse\u001b[39;00m:\n\u001b[0;32m-> 1158\u001b[0m     environment_dict \u001b[38;5;241m=\u001b[39m \u001b[43menvironment_client\u001b[49m\u001b[38;5;241;43m.\u001b[39;49m\u001b[43m_get_environment_definition\u001b[49m\u001b[43m(\u001b[49m\u001b[43mname\u001b[49m\u001b[38;5;241;43m=\u001b[39;49m\u001b[43mname\u001b[49m\u001b[43m,\u001b[49m\u001b[43m \u001b[49m\u001b[43mversion\u001b[49m\u001b[38;5;241;43m=\u001b[39;49m\u001b[43mversion\u001b[49m\u001b[43m)\u001b[49m\n\u001b[1;32m   1159\u001b[0m env \u001b[38;5;241m=\u001b[39m Environment\u001b[38;5;241m.\u001b[39m_deserialize_and_add_to_object(environment_dict)\n\u001b[1;32m   1161\u001b[0m \u001b[38;5;28;01mreturn\u001b[39;00m env\n",
            "File \u001b[0;32m/anaconda/envs/azureml_py38/lib/python3.8/site-packages/azureml/_restclient/environment_client.py:43\u001b[0m, in \u001b[0;36mEnvironmentClient._get_environment_definition\u001b[0;34m(self, name, version)\u001b[0m\n\u001b[1;32m     40\u001b[0m \u001b[38;5;28;01melse\u001b[39;00m:\n\u001b[1;32m     41\u001b[0m     message \u001b[38;5;241m=\u001b[39m \u001b[38;5;124m\"\u001b[39m\u001b[38;5;124mError retrieving the environment definition. Code: \u001b[39m\u001b[38;5;132;01m{}\u001b[39;00m\u001b[38;5;130;01m\\n\u001b[39;00m\u001b[38;5;124m: \u001b[39m\u001b[38;5;132;01m{}\u001b[39;00m\u001b[38;5;124m\"\u001b[39m\u001b[38;5;241m.\u001b[39mformat(response\u001b[38;5;241m.\u001b[39mstatus_code,\n\u001b[1;32m     42\u001b[0m                                                                                    response\u001b[38;5;241m.\u001b[39mtext)\n\u001b[0;32m---> 43\u001b[0m     \u001b[38;5;28;01mraise\u001b[39;00m \u001b[38;5;167;01mException\u001b[39;00m(message)\n",
            "\u001b[0;31mException\u001b[0m: Error retrieving the environment definition. Code: 404\n: {\n  \"error\": {\n    \"code\": \"UserError\",\n    \"severity\": null,\n    \"message\": \"No environment exists for name: my_env, version: , label: \",\n    \"messageFormat\": null,\n    \"messageParameters\": null,\n    \"referenceCode\": null,\n    \"detailsUri\": null,\n    \"target\": null,\n    \"details\": [],\n    \"innerError\": {\n      \"code\": \"NotFoundError\",\n      \"innerError\": null\n    },\n    \"debugInfo\": null,\n    \"additionalInfo\": null\n  },\n  \"correlation\": {\n    \"operation\": \"e648e2f9dd6fb05d7512c9ff98983d51\",\n    \"request\": \"6df3669f48fabaa1\"\n  },\n  \"environment\": \"westeurope\",\n  \"location\": \"westeurope\",\n  \"time\": \"2023-07-05T06:26:41.5586618+00:00\",\n  \"componentName\": \"environment-management\"\n}"
          ]
        }
      ],
      "execution_count": 27,
      "metadata": {
        "jupyter": {
          "source_hidden": false,
          "outputs_hidden": true
        },
        "nteract": {
          "transient": {
            "deleting": false
          }
        },
        "gather": {
          "logged": 1688538401753
        }
      }
    },
    {
      "cell_type": "code",
      "source": [
        "from azureml.core import InferenceConfig, Environment\n",
        "environment_name = 'my_env'#ws.name\n",
        "env = Environment.get(workspace=ws, name=environment_name)\n",
        "#env = Environment(name=\"my_env\")\n",
        "inference_config = InferenceConfig(entry_script='./score.py', environment=env)"
      ],
      "outputs": [
        {
          "output_type": "error",
          "ename": "ImportError",
          "evalue": "cannot import name 'InferenceConfig' from 'azureml.core' (/anaconda/envs/azureml_py38/lib/python3.8/site-packages/azureml/core/__init__.py)",
          "traceback": [
            "\u001b[0;31m---------------------------------------------------------------------------\u001b[0m",
            "\u001b[0;31mImportError\u001b[0m                               Traceback (most recent call last)",
            "Cell \u001b[0;32mIn[26], line 1\u001b[0m\n\u001b[0;32m----> 1\u001b[0m \u001b[38;5;28;01mfrom\u001b[39;00m \u001b[38;5;21;01mazureml\u001b[39;00m\u001b[38;5;21;01m.\u001b[39;00m\u001b[38;5;21;01mcore\u001b[39;00m \u001b[38;5;28;01mimport\u001b[39;00m InferenceConfig, Environment\n\u001b[1;32m      2\u001b[0m environment_name \u001b[38;5;241m=\u001b[39m \u001b[38;5;124m'\u001b[39m\u001b[38;5;124mmy_env\u001b[39m\u001b[38;5;124m'\u001b[39m\u001b[38;5;66;03m#ws.name\u001b[39;00m\n\u001b[1;32m      3\u001b[0m env \u001b[38;5;241m=\u001b[39m Environment\u001b[38;5;241m.\u001b[39mget(workspace\u001b[38;5;241m=\u001b[39mws, name\u001b[38;5;241m=\u001b[39menvironment_name)\n",
            "\u001b[0;31mImportError\u001b[0m: cannot import name 'InferenceConfig' from 'azureml.core' (/anaconda/envs/azureml_py38/lib/python3.8/site-packages/azureml/core/__init__.py)"
          ]
        }
      ],
      "execution_count": 26,
      "metadata": {
        "gather": {
          "logged": 1688537736175
        },
        "jupyter": {
          "outputs_hidden": false,
          "source_hidden": false
        },
        "nteract": {
          "transient": {
            "deleting": false
          }
        }
      }
    },
    {
      "cell_type": "code",
      "source": [
        "#import os\n",
        "#find_name = \"./score.py\"\n",
        "#current_directly = os.getcwd()\n",
        "#file_path = os.path.join(current_directly, find_name)\n",
        "#if os.path.isfile(file_path):\n",
        "#    print('Exist')\n",
        "#else:\n",
        "#    print('Not exist')"
      ],
      "outputs": [],
      "execution_count": null,
      "metadata": {
        "gather": {
          "logged": 1685688328737
        },
        "jupyter": {
          "outputs_hidden": false,
          "source_hidden": false
        },
        "nteract": {
          "transient": {
            "deleting": false
          }
        }
      }
    },
    {
      "cell_type": "code",
      "source": [
        "from azureml.core.webservice import AciWebservice\n",
        "from azureml.core import Model\n",
        "\n",
        "deployment_config = AciWebservice.deploy_configuration(cpu_cores=1, memory_gb=1)\n",
        "service = Model.deploy(workspace=ws,\n",
        "                       name='automl-deploy',\n",
        "                       models='best_aml_model',\n",
        "                       inference_config=inference_config,\n",
        "                       deployment_config=deployment_config,\n",
        "                       overwrite=True)\n",
        "                       \n",
        "service.wait_for_deployment(show_output=True)\n"
      ],
      "outputs": [
        {
          "output_type": "error",
          "ename": "NameError",
          "evalue": "name 'inference_config' is not defined",
          "traceback": [
            "\u001b[0;31m---------------------------------------------------------------------------\u001b[0m",
            "\u001b[0;31mNameError\u001b[0m                                 Traceback (most recent call last)",
            "Cell \u001b[0;32mIn[20], line 8\u001b[0m\n\u001b[1;32m      2\u001b[0m \u001b[38;5;28;01mfrom\u001b[39;00m \u001b[38;5;21;01mazureml\u001b[39;00m\u001b[38;5;21;01m.\u001b[39;00m\u001b[38;5;21;01mcore\u001b[39;00m \u001b[38;5;28;01mimport\u001b[39;00m Model\n\u001b[1;32m      4\u001b[0m deployment_config \u001b[38;5;241m=\u001b[39m AciWebservice\u001b[38;5;241m.\u001b[39mdeploy_configuration(cpu_cores\u001b[38;5;241m=\u001b[39m\u001b[38;5;241m1\u001b[39m, memory_gb\u001b[38;5;241m=\u001b[39m\u001b[38;5;241m1\u001b[39m)\n\u001b[1;32m      5\u001b[0m service \u001b[38;5;241m=\u001b[39m Model\u001b[38;5;241m.\u001b[39mdeploy(workspace\u001b[38;5;241m=\u001b[39mws,\n\u001b[1;32m      6\u001b[0m                        name\u001b[38;5;241m=\u001b[39m\u001b[38;5;124m'\u001b[39m\u001b[38;5;124mautoml-deploy\u001b[39m\u001b[38;5;124m'\u001b[39m,\n\u001b[1;32m      7\u001b[0m                        models\u001b[38;5;241m=\u001b[39m\u001b[38;5;124m'\u001b[39m\u001b[38;5;124mbest_aml_model\u001b[39m\u001b[38;5;124m'\u001b[39m,\n\u001b[0;32m----> 8\u001b[0m                        inference_config\u001b[38;5;241m=\u001b[39m\u001b[43minference_config\u001b[49m,\n\u001b[1;32m      9\u001b[0m                        deployment_config\u001b[38;5;241m=\u001b[39mdeployment_config,\n\u001b[1;32m     10\u001b[0m                        overwrite\u001b[38;5;241m=\u001b[39m\u001b[38;5;28;01mTrue\u001b[39;00m)\n\u001b[1;32m     12\u001b[0m service\u001b[38;5;241m.\u001b[39mwait_for_deployment(show_output\u001b[38;5;241m=\u001b[39m\u001b[38;5;28;01mTrue\u001b[39;00m)\n",
            "\u001b[0;31mNameError\u001b[0m: name 'inference_config' is not defined"
          ]
        }
      ],
      "execution_count": 20,
      "metadata": {
        "jupyter": {
          "outputs_hidden": false,
          "source_hidden": false
        },
        "nteract": {
          "transient": {
            "deleting": false
          }
        },
        "gather": {
          "logged": 1688537233111
        }
      }
    },
    {
      "cell_type": "markdown",
      "source": [
        "TODO: In the cell below, send a request to the web service you deployed to test it."
      ],
      "metadata": {
        "collapsed": true,
        "gather": {
          "logged": 1598431657736
        },
        "jupyter": {
          "outputs_hidden": false,
          "source_hidden": false
        },
        "nteract": {
          "transient": {
            "deleting": false
          }
        }
      }
    },
    {
      "cell_type": "markdown",
      "source": [
        "TODO: In the cell below, print the logs of the web service and delete the service"
      ],
      "metadata": {
        "collapsed": true,
        "gather": {
          "logged": 1598432765711
        },
        "jupyter": {
          "outputs_hidden": false,
          "source_hidden": false
        },
        "nteract": {
          "transient": {
            "deleting": false
          }
        }
      }
    },
    {
      "cell_type": "code",
      "source": [
        "import requests\n",
        "import json\n",
        "\n",
        "# WebサービスのエンドポイントURL\n",
        "scoring_uri = service.scoring_uri\n",
        "\n",
        "# リクエストデータの作成\n",
        "input_data = {\n",
        "    \"data\": [\n",
        "        # リクエストのデータをここに追加する        \n",
        "        {\n",
        "            \"buying\":\"low\",\n",
        "            \"maint\":\"low\",\n",
        "            \"doors\":\"2\",\n",
        "            \"persons\":\"2\",\n",
        "            \"lug_boot\":\"small\"\n",
        "            \"safety\":\"low\"\n",
        "        }\n",
        "\n",
        "    ]\n",
        "}\n",
        "input_json = json.dumps(input_data)\n",
        "\n",
        "# リクエストの送信\n",
        "headers = {'Content-Type': 'application/json'}\n",
        "response = requests.post(scoring_uri, input_json, headers=headers)\n",
        "\n",
        "# レスポンスの取得\n",
        "predictions = response.json()\n"
      ],
      "outputs": [],
      "execution_count": null,
      "metadata": {
        "jupyter": {
          "outputs_hidden": false,
          "source_hidden": false
        },
        "nteract": {
          "transient": {
            "deleting": false
          }
        }
      }
    },
    {
      "cell_type": "code",
      "source": [
        "# Retrieve and print the logs\n",
        "logs = service.get_logs()\n",
        "print(logs)\n"
      ],
      "outputs": [],
      "execution_count": null,
      "metadata": {}
    },
    {
      "cell_type": "code",
      "source": [
        "# Delete the web service\n",
        "service.delete()\n"
      ],
      "outputs": [],
      "execution_count": null,
      "metadata": {}
    },
    {
      "cell_type": "markdown",
      "source": [
        "**Submission Checklist**\n",
        "- I have registered the model.\n",
        "- I have deployed the model with the best accuracy as a webservice.\n",
        "- I have tested the webservice by sending a request to the model endpoint.\n",
        "- I have deleted the webservice and shutdown all the computes that I have used.\n",
        "- I have taken a screenshot showing the model endpoint as active.\n",
        "- The project includes a file containing the environment details.\n"
      ],
      "metadata": {}
    },
    {
      "cell_type": "markdown",
      "source": [],
      "metadata": {}
    }
  ],
  "metadata": {
    "kernel_info": {
      "name": "python38-azureml"
    },
    "kernelspec": {
      "name": "python38-azureml",
      "language": "python",
      "display_name": "Python 3.8 - AzureML"
    },
    "language_info": {
      "name": "python",
      "version": "3.8.5",
      "mimetype": "text/x-python",
      "codemirror_mode": {
        "name": "ipython",
        "version": 3
      },
      "pygments_lexer": "ipython3",
      "nbconvert_exporter": "python",
      "file_extension": ".py"
    },
    "microsoft": {
      "host": {
        "AzureML": {
          "notebookHasBeenCompleted": true
        }
      },
      "ms_spell_check": {
        "ms_spell_check_language": "en"
      }
    },
    "nteract": {
      "version": "nteract-front-end@1.0.0"
    }
  },
  "nbformat": 4,
  "nbformat_minor": 2
}