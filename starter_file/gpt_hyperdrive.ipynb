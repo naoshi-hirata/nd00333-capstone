{
 "cells": [
  {
   "cell_type": "code",
   "execution_count": null,
   "id": "7716f1bb",
   "metadata": {},
   "outputs": [],
   "source": [
    "from azureml.core import Experiment, ScriptRunConfig, Environment\n",
    "from azureml.train.hyperdrive import HyperDriveConfig, PrimaryMetricGoal\n",
    "from azureml.train.hyperdrive import choice, loguniform\n",
    "from azureml.train.estimator import Estimator\n",
    "\n",
    "# エクスペリメントの作成\n",
    "experiment = Experiment(workspace=workspace, name='hyperparameter-tuning')\n",
    "\n",
    "# 学習スクリプトが格納されているフォルダへのパス\n",
    "script_folder = './scripts'\n",
    "\n",
    "# 推定器の設定\n",
    "estimator = Estimator(source_directory=script_folder,\n",
    "                      compute_target=compute_target,\n",
    "                      entry_script='train.py',\n",
    "                      conda_dependencies_file='conda_dependencies.yml')\n",
    "\n",
    "# ハイパードライブの設定\n",
    "hyperparameter_sampling = RandomParameterSampling({\n",
    "    '--n_estimators': choice(100, 200, 300),\n",
    "    '--max_depth': choice(5, 10, 15)\n",
    "})\n",
    "\n",
    "hyperdrive_config = HyperDriveConfig(estimator=estimator,\n",
    "                                    hyperparameter_sampling=hyperparameter_sampling,\n",
    "                                    primary_metric_name='accuracy',\n",
    "                                    primary_metric_goal=PrimaryMetricGoal.MAXIMIZE,\n",
    "                                    max_total_runs=20,\n",
    "                                    max_concurrent_runs=4)\n",
    "\n",
    "# ハイパードライブ実行\n",
    "hyperdrive_run = experiment.submit(hyperdrive_config)\n",
    "\n",
    "# ハイパードライブ実行の結果を待機\n",
    "hyperdrive_run.wait_for_completion(show_output=True)\n"
   ]
  }
 ],
 "metadata": {
  "kernelspec": {
   "display_name": "Python 3 (ipykernel)",
   "language": "python",
   "name": "python3"
  },
  "language_info": {
   "codemirror_mode": {
    "name": "ipython",
    "version": 3
   },
   "file_extension": ".py",
   "mimetype": "text/x-python",
   "name": "python",
   "nbconvert_exporter": "python",
   "pygments_lexer": "ipython3",
   "version": "3.9.13"
  }
 },
 "nbformat": 4,
 "nbformat_minor": 5
}
