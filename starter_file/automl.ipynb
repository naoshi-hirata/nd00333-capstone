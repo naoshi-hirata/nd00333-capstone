{
  "cells": [
    {
      "cell_type": "code",
      "source": [
        "#!pip install --upgrade azureml-sdk\n",
        "#!pip install --upgrade azureml-core"
      ],
      "outputs": [],
      "execution_count": null,
      "metadata": {
        "gather": {
          "logged": 1684477071072
        },
        "jupyter": {
          "outputs_hidden": false,
          "source_hidden": false
        },
        "nteract": {
          "transient": {
            "deleting": false
          }
        },
        "scrolled": true
      }
    },
    {
      "cell_type": "markdown",
      "source": [
        "# Automated ML\n",
        "\n",
        "TODO: Import Dependencies. In the cell below, import all the dependencies that you will need to complete the project."
      ],
      "metadata": {}
    },
    {
      "cell_type": "code",
      "source": [
        "import logging\n",
        "import os\n",
        "import csv\n",
        "\n",
        "#from matplotlib import pyplot as plt\n",
        "import numpy as np\n",
        "import pandas as pd\n",
        "#from sklearn import datasets\n",
        "import pkg_resources\n",
        "\n",
        "import azureml.core\n",
        "from azureml.core.experiment import Experiment\n",
        "from azureml.core.workspace import Workspace\n",
        "from azureml.train.automl import AutoMLConfig\n",
        "from azureml.core.dataset import Dataset\n",
        "\n",
        "from azureml.pipeline.steps import AutoMLStep"
      ],
      "outputs": [],
      "execution_count": 1,
      "metadata": {
        "gather": {
          "logged": 1688374444357
        },
        "jupyter": {
          "outputs_hidden": false,
          "source_hidden": false
        },
        "nteract": {
          "transient": {
            "deleting": false
          }
        }
      }
    },
    {
      "cell_type": "markdown",
      "source": [
        "## Dataset\n",
        "\n",
        "### Overview\n",
        "TODO: In this markdown cell, give an overview of the dataset you are using. Also mention the task you will be performing.\n",
        "\n",
        "\n",
        "TODO: Get data. In the cell below, write code to access the data you will be using in this project. Remember that the dataset needs to be external."
      ],
      "metadata": {}
    },
    {
      "cell_type": "markdown",
      "source": [
        "Title: Car Evaluation Database\n",
        "\n",
        "Task: To create the hierarchical decision model\n",
        "\n",
        "This model evaluates cars according to the following concept structure:\n",
        "\n",
        " CAR:car acceptability;\n",
        "\n",
        " buying:buying price;v-high, high, med, low\n",
        " \n",
        " maint:price of the maintenance;v-high, high, med, low\n",
        " \n",
        " doors:number of doors;2, 3, 4, 5-more\n",
        " \n",
        " persons:capacity in terms of persons to carry;2, 4, more\n",
        " \n",
        " lug_boot:the size of luggage boot;small, med, big\n",
        " \n",
        " safety:estimated safety of the car;low, med, high\n",
        "  \n",
        "Class Distribution;unacc,acc,good,v-good"
      ],
      "metadata": {
        "nteract": {
          "transient": {
            "deleting": false
          }
        }
      }
    },
    {
      "cell_type": "code",
      "source": [
        "ws = Workspace.from_config()\n",
        "\n",
        "# choose a name for experiment\n",
        "experiment_name = 'auto-ml'\n",
        "project_folder = './project'\n",
        "\n",
        "experiment=Experiment(ws, experiment_name)"
      ],
      "outputs": [],
      "execution_count": 2,
      "metadata": {
        "gather": {
          "logged": 1688374452960
        },
        "jupyter": {
          "outputs_hidden": false,
          "source_hidden": false
        },
        "nteract": {
          "transient": {
            "deleting": false
          }
        }
      }
    },
    {
      "cell_type": "code",
      "source": [
        "print(ws)"
      ],
      "outputs": [
        {
          "output_type": "stream",
          "name": "stdout",
          "text": "Workspace.create(name='quick-starts-ws-238107', subscription_id='a24a24d5-8d87-4c8a-99b6-91ed2d2df51f', resource_group='aml-quickstarts-238107')\n"
        }
      ],
      "execution_count": 3,
      "metadata": {
        "gather": {
          "logged": 1688374457510
        },
        "jupyter": {
          "outputs_hidden": false,
          "source_hidden": false
        },
        "nteract": {
          "transient": {
            "deleting": false
          }
        }
      }
    },
    {
      "cell_type": "code",
      "source": [
        "from azureml.core.compute import AmlCompute\n",
        "from azureml.core.compute import ComputeTarget\n",
        "from azureml.core.compute_target import ComputeTargetException\n",
        "\n",
        "# Create the cluster\n",
        "amlcompute_cluster_name = \"auto-ml\"\n",
        "\n",
        "compute_config = AmlCompute.provisioning_configuration(vm_size='STANDARD_D2_V2',\n",
        "    # for GPU, use \"STANDARD_NC6\"\n",
        "    #vm_priority = 'lowpriority', # optional\n",
        "    max_nodes=4)\n",
        "compute_target = ComputeTarget.create(ws, amlcompute_cluster_name, compute_config)\n",
        "\n",
        "compute_target.wait_for_completion(show_output=True, min_node_count = 1, timeout_in_minutes = 10)\n",
        "# For a more detailed view of current AmlCompute status, use get_status()."
      ],
      "outputs": [
        {
          "output_type": "stream",
          "name": "stdout",
          "text": "InProgress.\nSucceededProvisioning operation finished, operation \"Succeeded\"\nSucceeded......................................................................................................................\nAmlCompute wait for completion finished\n\nWait timeout has been reached\nCurrent provisioning state of AmlCompute is \"Succeeded\" and current node count is \"0\"\n"
        }
      ],
      "execution_count": 4,
      "metadata": {
        "gather": {
          "logged": 1688375068512
        },
        "jupyter": {
          "outputs_hidden": false,
          "source_hidden": false
        },
        "nteract": {
          "transient": {
            "deleting": false
          }
        }
      }
    },
    {
      "cell_type": "code",
      "source": [
        "# Create AML Dataset and register it into Workspace\n",
        "key='car evaluation data set'\n",
        "data = 'https://archive.ics.uci.edu/ml/machine-learning-databases/car/car.data'\n",
        "\n",
        "df = pd.read_csv(data)\n",
        "columns = ['buying', 'maint', 'doors', 'persons', 'lug_boot', 'safety', 'class']\n",
        "df.columns = columns\n",
        "\n",
        "# Convert the DataFrame to a TabularDataset\n",
        "dataset = Dataset.Tabular.register_pandas_dataframe(\n",
        "    dataframe=df, \n",
        "    target=(ws.get_default_datastore(), key), \n",
        "    name=key, \n",
        "    description='car evaluation data set')\n",
        "\n",
        "df.describe()\n"
      ],
      "outputs": [
        {
          "output_type": "stream",
          "name": "stdout",
          "text": "Validating arguments.\nArguments validated.\nSuccessfully obtained datastore reference and path.\nUploading file to car evaluation data set/7c57bd48-8608-45a6-a99e-e28e1564c4a9/\nSuccessfully uploaded file to datastore.\nCreating and registering a new dataset.\nSuccessfully created and registered a new dataset.\n"
        },
        {
          "output_type": "execute_result",
          "execution_count": 5,
          "data": {
            "text/plain": "       buying maint doors persons lug_boot safety  class\ncount    1727  1727  1727    1727     1727   1727   1727\nunique      4     4     4       3        3      3      4\ntop       low   low     4       4      big   high  unacc\nfreq      432   432   432     576      576    576   1209",
            "text/html": "<div>\n<style scoped>\n    .dataframe tbody tr th:only-of-type {\n        vertical-align: middle;\n    }\n\n    .dataframe tbody tr th {\n        vertical-align: top;\n    }\n\n    .dataframe thead th {\n        text-align: right;\n    }\n</style>\n<table border=\"1\" class=\"dataframe\">\n  <thead>\n    <tr style=\"text-align: right;\">\n      <th></th>\n      <th>buying</th>\n      <th>maint</th>\n      <th>doors</th>\n      <th>persons</th>\n      <th>lug_boot</th>\n      <th>safety</th>\n      <th>class</th>\n    </tr>\n  </thead>\n  <tbody>\n    <tr>\n      <th>count</th>\n      <td>1727</td>\n      <td>1727</td>\n      <td>1727</td>\n      <td>1727</td>\n      <td>1727</td>\n      <td>1727</td>\n      <td>1727</td>\n    </tr>\n    <tr>\n      <th>unique</th>\n      <td>4</td>\n      <td>4</td>\n      <td>4</td>\n      <td>3</td>\n      <td>3</td>\n      <td>3</td>\n      <td>4</td>\n    </tr>\n    <tr>\n      <th>top</th>\n      <td>low</td>\n      <td>low</td>\n      <td>4</td>\n      <td>4</td>\n      <td>big</td>\n      <td>high</td>\n      <td>unacc</td>\n    </tr>\n    <tr>\n      <th>freq</th>\n      <td>432</td>\n      <td>432</td>\n      <td>432</td>\n      <td>576</td>\n      <td>576</td>\n      <td>576</td>\n      <td>1209</td>\n    </tr>\n  </tbody>\n</table>\n</div>"
          },
          "metadata": {}
        }
      ],
      "execution_count": 5,
      "metadata": {
        "gather": {
          "logged": 1688375089465
        },
        "jupyter": {
          "outputs_hidden": false,
          "source_hidden": false
        },
        "nteract": {
          "transient": {
            "deleting": false
          }
        }
      }
    },
    {
      "cell_type": "markdown",
      "source": [
        "## AutoML Configuration\n",
        "\n",
        "TODO: Explain why you chose the automl settings and cofiguration you used below."
      ],
      "metadata": {}
    },
    {
      "cell_type": "markdown",
      "source": [
        "Automl setting\n",
        "\n",
        " - experiment time out minutes; to avoid endless working\n",
        "\n",
        " - max concurrent iterations; between cost and performance\n",
        "\n",
        " - primary metric; AUC is a widely used metric to evaluate the performance of binary classifiers. The weighted version extends it to multi-class classification by considering the class imbalance when computing the average AUC across classes. \n",
        "\n",
        "Automl configuration\n",
        "\n",
        " - task = \"classification\"; To make classification model\n",
        "\n",
        " - label_column_name=\"class\"; This column gives evalation result\n",
        "\n",
        " - enable_early_stopping= True; To save cost at score improvement small\n",
        "\n",
        " - featurization= 'auto'; Automated separation for training data and test data\n"
      ],
      "metadata": {
        "nteract": {
          "transient": {
            "deleting": false
          }
        }
      }
    },
    {
      "cell_type": "code",
      "source": [
        "# TODO: Put your automl settings here\n",
        "automl_settings = {\n",
        "    \"experiment_timeout_minutes\": 20,\n",
        "    \"max_concurrent_iterations\": 5,\n",
        "    \"primary_metric\" : 'AUC_weighted'\n",
        "}\n",
        "# TODO: Put your automl config here\n",
        "automl_config = AutoMLConfig(compute_target=compute_target,\n",
        "                             task = \"classification\",\n",
        "                             training_data=dataset,\n",
        "                             label_column_name=\"class\",   \n",
        "                             path = project_folder,\n",
        "                             enable_early_stopping= True,\n",
        "                             featurization= 'auto',\n",
        "                             debug_log = \"automl_errors.log\",\n",
        "                             **automl_settings\n",
        "                            )"
      ],
      "outputs": [],
      "execution_count": 6,
      "metadata": {
        "gather": {
          "logged": 1688375098487
        },
        "jupyter": {
          "outputs_hidden": false,
          "source_hidden": false
        },
        "nteract": {
          "transient": {
            "deleting": false
          }
        }
      }
    },
    {
      "cell_type": "code",
      "source": [
        "# TODO: Submit your experiment\n",
        "\n",
        "remote_run = experiment.submit(automl_config)\n"
      ],
      "outputs": [
        {
          "output_type": "stream",
          "name": "stdout",
          "text": "Submitting remote run.\n"
        },
        {
          "output_type": "display_data",
          "data": {
            "text/plain": "<IPython.core.display.HTML object>",
            "text/html": "<table style=\"width:100%\"><tr><th>Experiment</th><th>Id</th><th>Type</th><th>Status</th><th>Details Page</th><th>Docs Page</th></tr><tr><td>auto-ml</td><td>AutoML_246daec5-9b54-430a-a1e0-2d15e4aadcf5</td><td>automl</td><td>NotStarted</td><td><a href=\"https://ml.azure.com/runs/AutoML_246daec5-9b54-430a-a1e0-2d15e4aadcf5?wsid=/subscriptions/a24a24d5-8d87-4c8a-99b6-91ed2d2df51f/resourcegroups/aml-quickstarts-238107/workspaces/quick-starts-ws-238107&amp;tid=660b3398-b80e-49d2-bc5b-ac1dc93b5254\" target=\"_blank\" rel=\"noopener\">Link to Azure Machine Learning studio</a></td><td><a href=\"https://docs.microsoft.com/en-us/python/api/overview/azure/ml/intro?view=azure-ml-py\" target=\"_blank\" rel=\"noopener\">Link to Documentation</a></td></tr></table>"
          },
          "metadata": {}
        }
      ],
      "execution_count": 7,
      "metadata": {
        "gather": {
          "logged": 1688375107653
        },
        "jupyter": {
          "outputs_hidden": false,
          "source_hidden": false
        },
        "nteract": {
          "transient": {
            "deleting": false
          }
        }
      }
    },
    {
      "cell_type": "markdown",
      "source": [
        "## Run Details\n",
        "\n",
        "OPTIONAL: Write about the different models trained and their performance. Why do you think some models did better than others?\n",
        "\n",
        "TODO: In the cell below, use the `RunDetails` widget to show the different experiments."
      ],
      "metadata": {}
    },
    {
      "cell_type": "code",
      "source": [
        "from azureml.widgets import RunDetails\n",
        "\n",
        "RunDetails(remote_run).show()"
      ],
      "outputs": [
        {
          "output_type": "display_data",
          "data": {
            "text/plain": "_AutoMLWidget(widget_settings={'childWidgetDisplay': 'popup', 'send_telemetry': False, 'log_level': 'INFO', 's…",
            "application/vnd.jupyter.widget-view+json": {
              "version_major": 2,
              "version_minor": 0,
              "model_id": "25f23940c07d4e1db960c1081cb67e38"
            }
          },
          "metadata": {}
        },
        {
          "output_type": "display_data",
          "data": {
            "application/aml.mini.widget.v1": "{\"status\": \"Completed\", \"workbench_run_details_uri\": \"https://ml.azure.com/runs/AutoML_246daec5-9b54-430a-a1e0-2d15e4aadcf5?wsid=/subscriptions/a24a24d5-8d87-4c8a-99b6-91ed2d2df51f/resourcegroups/aml-quickstarts-238107/workspaces/quick-starts-ws-238107&tid=660b3398-b80e-49d2-bc5b-ac1dc93b5254\", \"run_id\": \"AutoML_246daec5-9b54-430a-a1e0-2d15e4aadcf5\", \"run_properties\": {\"run_id\": \"AutoML_246daec5-9b54-430a-a1e0-2d15e4aadcf5\", \"created_utc\": \"2023-07-03T09:05:06.757291Z\", \"properties\": {\"num_iterations\": \"1000\", \"training_type\": \"TrainFull\", \"acquisition_function\": \"EI\", \"primary_metric\": \"AUC_weighted\", \"train_split\": \"0\", \"acquisition_parameter\": \"0\", \"num_cross_validation\": null, \"target\": \"auto-ml\", \"AMLSettingsJsonString\": \"{\\\"path\\\":null,\\\"name\\\":\\\"auto-ml\\\",\\\"subscription_id\\\":\\\"a24a24d5-8d87-4c8a-99b6-91ed2d2df51f\\\",\\\"resource_group\\\":\\\"aml-quickstarts-238107\\\",\\\"workspace_name\\\":\\\"quick-starts-ws-238107\\\",\\\"region\\\":\\\"westus2\\\",\\\"compute_target\\\":\\\"auto-ml\\\",\\\"spark_service\\\":null,\\\"azure_service\\\":\\\"remote\\\",\\\"many_models\\\":false,\\\"pipeline_fetch_max_batch_size\\\":1,\\\"enable_batch_run\\\":true,\\\"enable_parallel_run\\\":false,\\\"num_procs\\\":null,\\\"enable_run_restructure\\\":false,\\\"start_auxiliary_runs_before_parent_complete\\\":false,\\\"enable_code_generation\\\":true,\\\"iterations\\\":1000,\\\"primary_metric\\\":\\\"AUC_weighted\\\",\\\"task_type\\\":\\\"classification\\\",\\\"positive_label\\\":null,\\\"data_script\\\":null,\\\"test_size\\\":0.0,\\\"test_include_predictions_only\\\":false,\\\"validation_size\\\":0.0,\\\"n_cross_validations\\\":null,\\\"y_min\\\":null,\\\"y_max\\\":null,\\\"num_classes\\\":null,\\\"featurization\\\":\\\"auto\\\",\\\"_ignore_package_version_incompatibilities\\\":false,\\\"is_timeseries\\\":false,\\\"max_cores_per_iteration\\\":1,\\\"max_concurrent_iterations\\\":5,\\\"iteration_timeout_minutes\\\":null,\\\"mem_in_mb\\\":null,\\\"enforce_time_on_windows\\\":false,\\\"experiment_timeout_minutes\\\":20,\\\"experiment_exit_score\\\":null,\\\"partition_column_names\\\":null,\\\"whitelist_models\\\":null,\\\"blacklist_algos\\\":[\\\"TensorFlowLinearClassifier\\\",\\\"TensorFlowDNN\\\"],\\\"supported_models\\\":[\\\"MultinomialNaiveBayes\\\",\\\"LinearSVM\\\",\\\"LogisticRegression\\\",\\\"SVM\\\",\\\"ExtremeRandomTrees\\\",\\\"XGBoostClassifier\\\",\\\"TensorFlowDNN\\\",\\\"KNN\\\",\\\"LightGBM\\\",\\\"DecisionTree\\\",\\\"RandomForest\\\",\\\"BernoulliNaiveBayes\\\",\\\"AveragedPerceptronClassifier\\\",\\\"GradientBoosting\\\",\\\"TensorFlowLinearClassifier\\\",\\\"SGD\\\",\\\"TabnetClassifier\\\"],\\\"private_models\\\":[],\\\"auto_blacklist\\\":true,\\\"blacklist_samples_reached\\\":false,\\\"exclude_nan_labels\\\":true,\\\"verbosity\\\":20,\\\"_debug_log\\\":\\\"azureml_automl.log\\\",\\\"show_warnings\\\":false,\\\"model_explainability\\\":true,\\\"service_url\\\":null,\\\"sdk_url\\\":null,\\\"sdk_packages\\\":null,\\\"enable_onnx_compatible_models\\\":false,\\\"enable_split_onnx_featurizer_estimator_models\\\":false,\\\"vm_type\\\":\\\"STANDARD_D2_V2\\\",\\\"telemetry_verbosity\\\":20,\\\"send_telemetry\\\":true,\\\"enable_dnn\\\":false,\\\"scenario\\\":\\\"AutoML\\\",\\\"environment_label\\\":null,\\\"save_mlflow\\\":false,\\\"enable_categorical_indicators\\\":false,\\\"force_text_dnn\\\":false,\\\"enable_feature_sweeping\\\":true,\\\"enable_early_stopping\\\":true,\\\"early_stopping_n_iters\\\":10,\\\"arguments\\\":null,\\\"dataset_id\\\":\\\"452ba2fc-b9cd-4da2-8abb-9a5b659a8344\\\",\\\"hyperdrive_config\\\":null,\\\"validation_dataset_id\\\":null,\\\"run_source\\\":null,\\\"metrics\\\":null,\\\"enable_metric_confidence\\\":false,\\\"enable_ensembling\\\":true,\\\"enable_stack_ensembling\\\":true,\\\"ensemble_iterations\\\":15,\\\"enable_tf\\\":false,\\\"enable_subsampling\\\":null,\\\"subsample_seed\\\":null,\\\"enable_nimbusml\\\":false,\\\"enable_streaming\\\":false,\\\"force_streaming\\\":false,\\\"track_child_runs\\\":true,\\\"n_best_runs\\\":1,\\\"allowed_private_models\\\":[],\\\"label_column_name\\\":\\\"class\\\",\\\"weight_column_name\\\":null,\\\"cv_split_column_names\\\":null,\\\"enable_local_managed\\\":false,\\\"_local_managed_run_id\\\":null,\\\"cost_mode\\\":1,\\\"lag_length\\\":0,\\\"metric_operation\\\":\\\"maximize\\\",\\\"preprocess\\\":true}\", \"DataPrepJsonString\": \"{\\\\\\\"training_data\\\\\\\": {\\\\\\\"datasetId\\\\\\\": \\\\\\\"452ba2fc-b9cd-4da2-8abb-9a5b659a8344\\\\\\\"}, \\\\\\\"datasets\\\\\\\": 0}\", \"EnableSubsampling\": null, \"runTemplate\": \"AutoML\", \"azureml.runsource\": \"automl\", \"display_task_type\": \"classification\", \"dependencies_versions\": \"{\\\"azureml-widgets\\\": \\\"1.49.0\\\", \\\"azureml-training-tabular\\\": \\\"1.49.0\\\", \\\"azureml-train\\\": \\\"1.49.0\\\", \\\"azureml-train-restclients-hyperdrive\\\": \\\"1.49.0\\\", \\\"azureml-train-core\\\": \\\"1.49.0\\\", \\\"azureml-train-automl\\\": \\\"1.49.0\\\", \\\"azureml-train-automl-runtime\\\": \\\"1.49.0\\\", \\\"azureml-train-automl-client\\\": \\\"1.49.0\\\", \\\"azureml-tensorboard\\\": \\\"1.49.0\\\", \\\"azureml-telemetry\\\": \\\"1.49.0\\\", \\\"azureml-sdk\\\": \\\"1.49.0\\\", \\\"azureml-responsibleai\\\": \\\"1.49.0\\\", \\\"azureml-pipeline\\\": \\\"1.49.0\\\", \\\"azureml-pipeline-steps\\\": \\\"1.49.0\\\", \\\"azureml-pipeline-core\\\": \\\"1.49.0\\\", \\\"azureml-opendatasets\\\": \\\"1.49.0\\\", \\\"azureml-mlflow\\\": \\\"1.49.0\\\", \\\"azureml-interpret\\\": \\\"1.49.0\\\", \\\"azureml-inference-server-http\\\": \\\"0.8.0\\\", \\\"azureml-explain-model\\\": \\\"1.49.0\\\", \\\"azureml-defaults\\\": \\\"1.49.0\\\", \\\"azureml-dataset-runtime\\\": \\\"1.49.0\\\", \\\"azureml-dataprep\\\": \\\"4.9.1\\\", \\\"azureml-dataprep-rslex\\\": \\\"2.16.1\\\", \\\"azureml-dataprep-native\\\": \\\"38.0.0\\\", \\\"azureml-datadrift\\\": \\\"1.49.0\\\", \\\"azureml-core\\\": \\\"1.49.0\\\", \\\"azureml-contrib-services\\\": \\\"1.49.0\\\", \\\"azureml-contrib-server\\\": \\\"1.49.0\\\", \\\"azureml-contrib-reinforcementlearning\\\": \\\"1.49.0\\\", \\\"azureml-contrib-pipeline-steps\\\": \\\"1.49.0\\\", \\\"azureml-contrib-notebook\\\": \\\"1.49.0\\\", \\\"azureml-contrib-fairness\\\": \\\"1.49.0\\\", \\\"azureml-contrib-dataset\\\": \\\"1.49.0\\\", \\\"azureml-contrib-automl-pipeline-steps\\\": \\\"1.49.0\\\", \\\"azureml-cli-common\\\": \\\"1.49.0\\\", \\\"azureml-automl-runtime\\\": \\\"1.49.0\\\", \\\"azureml-automl-dnn-nlp\\\": \\\"1.49.0\\\", \\\"azureml-automl-core\\\": \\\"1.49.0\\\", \\\"azureml-accel-models\\\": \\\"1.49.0\\\"}\", \"_aml_system_scenario_identification\": \"Remote.Parent\", \"ClientType\": \"SDK\", \"PlatformVersion\": \"DPV1\", \"environment_cpu_name\": \"AzureML-AutoML\", \"environment_cpu_label\": \"prod\", \"environment_gpu_name\": \"AzureML-AutoML-GPU\", \"environment_gpu_label\": \"prod\", \"root_attribution\": \"automl\", \"attribution\": \"AutoML\", \"Orchestrator\": \"AutoML\", \"CancelUri\": \"https://westus2.api.azureml.ms/jasmine/v1.0/subscriptions/a24a24d5-8d87-4c8a-99b6-91ed2d2df51f/resourceGroups/aml-quickstarts-238107/providers/Microsoft.MachineLearningServices/workspaces/quick-starts-ws-238107/experimentids/7627f4ac-d178-465d-bf8c-15230bcc7282/cancel/AutoML_246daec5-9b54-430a-a1e0-2d15e4aadcf5\", \"ClientSdkVersion\": null, \"snapshotId\": \"00000000-0000-0000-0000-000000000000\", \"SetupRunId\": \"AutoML_246daec5-9b54-430a-a1e0-2d15e4aadcf5_setup\", \"SetupRunContainerId\": \"dcid.AutoML_246daec5-9b54-430a-a1e0-2d15e4aadcf5_setup\", \"FeaturizationRunJsonPath\": \"featurizer_container.json\", \"FeaturizationRunId\": \"AutoML_246daec5-9b54-430a-a1e0-2d15e4aadcf5_featurize\", \"ProblemInfoJsonString\": \"{\\\"dataset_num_categorical\\\": 0, \\\"is_sparse\\\": true, \\\"subsampling\\\": false, \\\"has_extra_col\\\": true, \\\"dataset_classes\\\": 4, \\\"dataset_features\\\": 21, \\\"dataset_samples\\\": 1727, \\\"single_frequency_class_detected\\\": false}\", \"ModelExplainRunId\": \"AutoML_246daec5-9b54-430a-a1e0-2d15e4aadcf5_ModelExplain\"}, \"tags\": {\"model_explain_run\": \"best_run\", \"_aml_system_automl_run_workspace_id\": \"45be1f83-9e8a-401d-853f-41774c75a730\", \"_aml_system_azureml.automlComponent\": \"AutoML\", \"pipeline_id_000\": \"5dfac790c5c209f98a1da2dc1c7fb76f0397324f;c7af0367625be6ac5c2fecbfc72ed444cb7a2111;51ae05309834b29f71340af1008fc94fbd8213f4;ce2643edf3d450b10c86c7d034a9bc952dc282d3;039a99c3d5147edeb525249e2660628be3e8b83f;a3dadd95854bf6116ab454844302b51d417d78b7;1dfdf370ba770047b14bfa59c40920815defcdab;294650ec23bc3d067a4972de7ceb12f6e97260fa;681a59302459aec2cc115ddbc14e1d28f4b3b8df;c74787cd2f0507b852a1ac70d504d83ac9bdec83;5bcf69d12307c5f0246b0d33ab19666443595ac9;79ebb3b8c385e3190e3dd4c1fa28b74730528045;1e38ae92baee19b18f211a8b14c16015d5ee3dc3;6f4a466f84f725a47910c1dff062a1bb46df2a21;a72eb56f3d4aadb7b7f0149ba6e5f05657a95ca1;a7434e890cabef86b0ce4ae71fb633e1e92b854d;dea7fdbaedc77258dbfe31dbfed41e768ca38939;9610149fbcf43017aa810a290e9c04cbe6fa8684;dd46719e1e1ca3df6e6826afb96bf9be8390e6e2;208056285bd1883d5bd7d4e4e996a1c71c4b0033;ee365d2bc711bc6838929328cc4ff4b890fbc6c3;5dcd9bc8a74634130a855a68c1bf956ce7160f98;3fe9ace0255a98a01a321c2b4c6ab86f6c1db8e5;f9c4839cd35f7fe03bcc11d87a99d82f63f333dc;dfc631bbb8f3be228d228210719dafe9e4a19b00;406bf7c5ee136c4150aef3e83983240c3ba59d35;8869edacdfa3ad38b2f434066fbe2853cfcf9234;cb31ab559db08156dd98c227926319000538915b;d6b59777ec875a63efbfc0704b2e67d652730595;f35d8030bc2a0748db692851ba4a7607dd8fa2ac;944c4239de0ab1655a4f5b96ad7ce5427c31fea9;927fbe69f48689cd086753fc017e3c727ff92f46;0150eb8e1c7838672af3533313439b710e10e4b3;4ecfd2f743c74d169630256b9ceac4a9c4573e84;9f53b367c4fbc0025d26a605d294935bc645fd5c;486a5732db2dfa5a7e3d4b6ff912a8d3e96a1d2c;e58ab7a849b0f1c60246f4be91f0b6007b86ca78;20f74c45e96a9d983f0458002870f7dd2b84c07b;__AutoML_Ensemble__;__AutoML_Stack_Ensemble__\", \"score_000\": \"0.9987787177700516;0.9985844805699463;0.9668043164687067;0.9781598777432365;0.971683486477084;0.9946857986998717;0.9775185773399867;0.9903016405662504;0.9951940756307899;0.9950593846673023;0.9467837950524568;0.9749925124933404;0.9886005147395781;0.974824830345356;0.9955819305467966;0.9468114759781288;0.9857883580930689;0.9862407546483416;0.9943466744333511;0.9862755630906169;0.9944942408339038;0.9831482301723553;0.9978869169956212;0.9516253153042155;0.988208224738333;0.9905179558168888;0.9843616987981566;0.9792744395794667;0.9794949537646912;0.9954377485756941;0.9866057749318342;0.9878970716004213;0.9979403484771118;0.9973445097047877;NaN;NaN;NaN;NaN;0.9989322693795665;0.9986571298502472\", \"predicted_cost_000\": \"0;0;0.5;0.5;0.5;0.5;0.5;0.5;0.5;0.5;0.5;0.5;0.5;0.5;0.5;0.5;0.5;0.5;0.5;0.5;0.07904201858913895;0.2780852721508787;0.210055195333825;0.05002126089120704;0.06435188707483926;0.12175234659884143;0.09659432889628786;0.08522878144913638;0.19786461057943783;0.09284448820430162;0.21881124814452257;0.08914569147313368;0.41675827792035636;0.2419610549060416;0.31320801028362144;0.07771833733270116;0.12063770057894868;0.155899415640592;0;0\", \"fit_time_000\": \"0.2827;0.317677;0.034467;0.038504000000000004;0.03897066666666666;0.05293333333333333;0.2821016666666667;0.05910166666666666;0.03776966666666667;0.09815333333333333;0.08050966666666666;0.06469966666666667;0.1370623333333333;0.031225333333333327;0.30796266666666666;0.45064100000000007;0.6609983333333332;0.097082;0.06058666666666666;0.1876576666666667;0.048891;0.15009133333333335;0.268598;0.048043999999999996;0.038214333333333336;0.09619766666666667;0.14322733333333335;0.03992433333333333;0.15862466666666666;0.6192766666666667;0.22233733333333336;0.17225933333333335;0.5586633333333334;0.3037886666666667;NaN;NaN;NaN;NaN;28;39\", \"training_percent_000\": \"100;100;100;100;100;100;100;100;100;100;100;100;100;100;100;100;100;100;100;100;100;100;100;100;100;100;100;100;100;100;100;100;100;100;100;100;100;100;100;100\", \"iteration_000\": \"0;1;2;3;4;5;6;7;8;12;9;13;16;10;14;17;11;15;18;19;21;20;22;23;25;24;26;28;27;29;30;31;32;33;37;34;36;35;38;39\", \"run_preprocessor_000\": \"MaxAbsScaler;MaxAbsScaler;MaxAbsScaler;MaxAbsScaler;StandardScalerWrapper;SparseNormalizer;SparseNormalizer;StandardScalerWrapper;SparseNormalizer;StandardScalerWrapper;MaxAbsScaler;StandardScalerWrapper;MaxAbsScaler;SparseNormalizer;StandardScalerWrapper;StandardScalerWrapper;MaxAbsScaler;MaxAbsScaler;StandardScalerWrapper;MaxAbsScaler;StandardScalerWrapper;MaxAbsScaler;StandardScalerWrapper;MaxAbsScaler;SparseNormalizer;StandardScalerWrapper;MaxAbsScaler;StandardScalerWrapper;MaxAbsScaler;MaxAbsScaler;StandardScalerWrapper;StandardScalerWrapper;SparseNormalizer;StandardScalerWrapper;;SparseNormalizer;;;;\", \"run_algorithm_000\": \"LightGBM;XGBoostClassifier;ExtremeRandomTrees;RandomForest;LightGBM;XGBoostClassifier;RandomForest;XGBoostClassifier;XGBoostClassifier;XGBoostClassifier;RandomForest;ExtremeRandomTrees;LogisticRegression;LightGBM;RandomForest;ExtremeRandomTrees;ExtremeRandomTrees;LightGBM;XGBoostClassifier;ExtremeRandomTrees;XGBoostClassifier;LogisticRegression;XGBoostClassifier;RandomForest;XGBoostClassifier;LightGBM;LightGBM;LightGBM;LinearSVM;LightGBM;LightGBM;LogisticRegression;XGBoostClassifier;XGBoostClassifier;;XGBoostClassifier;;;VotingEnsemble;StackEnsemble\", \"dynamic_allowlisting_iterations\": \"<24>;<30>;<35>;\", \"_aml_system_azureml.automl_early_exit_message\": \"No scores improved over last 10 iterations, so experiment stopped early. This early stopping behavior can be disabled by setting enable_early_stopping = False in AutoMLConfig for notebook/python SDK runs.\", \"automl_best_child_run_id\": \"AutoML_246daec5-9b54-430a-a1e0-2d15e4aadcf5_38\", \"model_explain_best_run_child_id\": \"AutoML_246daec5-9b54-430a-a1e0-2d15e4aadcf5_38\"}, \"end_time_utc\": \"2023-07-03T09:20:03.95136Z\", \"status\": \"Completed\", \"log_files\": {}, \"log_groups\": [], \"run_duration\": \"0:14:57\", \"run_number\": \"1688375106\", \"run_queued_details\": {\"status\": \"Completed\", \"details\": null}}, \"child_runs\": [{\"run_id\": \"AutoML_246daec5-9b54-430a-a1e0-2d15e4aadcf5_setup\", \"run_number\": 1688375118, \"metric\": null, \"status\": \"Completed\", \"run_type\": \"azureml.scriptrun\", \"training_percent\": null, \"start_time\": \"2023-07-03T09:07:36.324675Z\", \"end_time\": \"2023-07-03T09:09:35.018198Z\", \"created_time\": \"2023-07-03T09:05:18.850045Z\", \"created_time_dt\": \"2023-07-03T09:05:18.850045Z\", \"duration\": \"0:04:16\", \"iteration\": null, \"goal\": null, \"run_name\": \"Completed\", \"run_properties\": null}, {\"run_id\": \"AutoML_246daec5-9b54-430a-a1e0-2d15e4aadcf5_featurize\", \"run_number\": 1688375375, \"metric\": null, \"status\": \"Completed\", \"run_type\": \"automl.featurization\", \"training_percent\": null, \"start_time\": \"2023-07-03T09:09:35.701313Z\", \"end_time\": \"2023-07-03T09:10:50.134815Z\", \"created_time\": \"2023-07-03T09:09:35.324793Z\", \"created_time_dt\": \"2023-07-03T09:09:35.324793Z\", \"duration\": \"0:01:14\", \"iteration\": null, \"goal\": null, \"run_name\": \"Completed\", \"run_properties\": null}, {\"run_id\": \"AutoML_246daec5-9b54-430a-a1e0-2d15e4aadcf5_0\", \"run_number\": 1688375451, \"metric\": null, \"status\": \"Completed\", \"run_type\": null, \"training_percent\": \"100\", \"start_time\": \"2023-07-03T09:11:13.785807Z\", \"end_time\": \"2023-07-03T09:11:27.868817Z\", \"created_time\": \"2023-07-03T09:10:51.56304Z\", \"created_time_dt\": \"2023-07-03T09:10:51.56304Z\", \"duration\": \"0:00:36\", \"iteration\": \"0\", \"goal\": \"AUC_weighted_max\", \"run_name\": \"MaxAbsScaler, LightGBM\", \"run_properties\": \"copy=True\", \"primary_metric\": 0.99877872, \"best_metric\": 0.99877872}, {\"run_id\": \"AutoML_246daec5-9b54-430a-a1e0-2d15e4aadcf5_1\", \"run_number\": 1688375452, \"metric\": null, \"status\": \"Completed\", \"run_type\": null, \"training_percent\": \"100\", \"start_time\": \"2023-07-03T09:11:28.443702Z\", \"end_time\": \"2023-07-03T09:11:40.5968Z\", \"created_time\": \"2023-07-03T09:10:52.012306Z\", \"created_time_dt\": \"2023-07-03T09:10:52.012306Z\", \"duration\": \"0:00:48\", \"iteration\": \"1\", \"goal\": \"AUC_weighted_max\", \"run_name\": \"MaxAbsScaler, XGBoostClassifier\", \"run_properties\": \"copy=True\", \"primary_metric\": 0.99858448, \"best_metric\": 0.99877872}, {\"run_id\": \"AutoML_246daec5-9b54-430a-a1e0-2d15e4aadcf5_worker_0\", \"run_number\": 1688375453, \"metric\": null, \"status\": \"Completed\", \"run_type\": \"azureml.scriptrun\", \"training_percent\": null, \"start_time\": \"2023-07-03T09:11:03.736945Z\", \"end_time\": \"2023-07-03T09:12:11.503254Z\", \"created_time\": \"2023-07-03T09:10:53.122516Z\", \"created_time_dt\": \"2023-07-03T09:10:53.122516Z\", \"duration\": \"0:01:18\", \"iteration\": null, \"goal\": null, \"run_name\": \"Completed\", \"run_properties\": null}, {\"run_id\": \"AutoML_246daec5-9b54-430a-a1e0-2d15e4aadcf5_worker_1\", \"run_number\": 1688375454, \"metric\": null, \"status\": \"Completed\", \"run_type\": \"azureml.scriptrun\", \"training_percent\": null, \"start_time\": \"2023-07-03T09:12:16.210674Z\", \"end_time\": \"2023-07-03T09:13:21.826903Z\", \"created_time\": \"2023-07-03T09:10:54.963215Z\", \"created_time_dt\": \"2023-07-03T09:10:54.963215Z\", \"duration\": \"0:02:26\", \"iteration\": null, \"goal\": null, \"run_name\": \"Completed\", \"run_properties\": null}, {\"run_id\": \"AutoML_246daec5-9b54-430a-a1e0-2d15e4aadcf5_8\", \"run_number\": 1688375455, \"metric\": null, \"status\": \"Completed\", \"run_type\": null, \"training_percent\": \"100\", \"start_time\": \"2023-07-03T09:15:07.254967Z\", \"end_time\": \"2023-07-03T09:15:18.766243Z\", \"created_time\": \"2023-07-03T09:10:55.129555Z\", \"created_time_dt\": \"2023-07-03T09:10:55.129555Z\", \"duration\": \"0:04:23\", \"iteration\": \"8\", \"goal\": \"AUC_weighted_max\", \"run_name\": \"SparseNormalizer, XGBoostClassifier\", \"run_properties\": \"copy=True, norm='max'\", \"primary_metric\": 0.99519408, \"best_metric\": 0.99877872}, {\"run_id\": \"AutoML_246daec5-9b54-430a-a1e0-2d15e4aadcf5_worker_2\", \"run_number\": 1688375456, \"metric\": null, \"status\": \"Completed\", \"run_type\": \"azureml.scriptrun\", \"training_percent\": null, \"start_time\": \"2023-07-03T09:13:27.12813Z\", \"end_time\": \"2023-07-03T09:16:06.297203Z\", \"created_time\": \"2023-07-03T09:10:56.915621Z\", \"created_time_dt\": \"2023-07-03T09:10:56.915621Z\", \"duration\": \"0:05:09\", \"iteration\": null, \"goal\": null, \"run_name\": \"Completed\", \"run_properties\": null}, {\"run_id\": \"AutoML_246daec5-9b54-430a-a1e0-2d15e4aadcf5_12\", \"run_number\": 1688375457, \"metric\": null, \"status\": \"Completed\", \"run_type\": null, \"training_percent\": \"100\", \"start_time\": \"2023-07-03T09:15:11.722111Z\", \"end_time\": \"2023-07-03T09:15:24.994275Z\", \"created_time\": \"2023-07-03T09:10:57.09133Z\", \"created_time_dt\": \"2023-07-03T09:10:57.09133Z\", \"duration\": \"0:04:27\", \"iteration\": \"12\", \"goal\": \"AUC_weighted_max\", \"run_name\": \"StandardScalerWrapper, XGBoostClassifier\", \"run_properties\": \"copy=True, with_mean=False, with_std=False\", \"primary_metric\": 0.99505938, \"best_metric\": 0.99877872}, {\"run_id\": \"AutoML_246daec5-9b54-430a-a1e0-2d15e4aadcf5_worker_3\", \"run_number\": 1688375458, \"metric\": null, \"status\": \"Completed\", \"run_type\": \"azureml.scriptrun\", \"training_percent\": null, \"start_time\": \"2023-07-03T09:13:26.351547Z\", \"end_time\": \"2023-07-03T09:16:10.722459Z\", \"created_time\": \"2023-07-03T09:10:58.597881Z\", \"created_time_dt\": \"2023-07-03T09:10:58.597881Z\", \"duration\": \"0:05:12\", \"iteration\": null, \"goal\": null, \"run_name\": \"Completed\", \"run_properties\": null}, {\"run_id\": \"AutoML_246daec5-9b54-430a-a1e0-2d15e4aadcf5_17\", \"run_number\": 1688375459, \"metric\": null, \"status\": \"Completed\", \"run_type\": null, \"training_percent\": \"100\", \"start_time\": \"2023-07-03T09:15:38.187876Z\", \"end_time\": \"2023-07-03T09:15:51.397447Z\", \"created_time\": \"2023-07-03T09:10:59.244159Z\", \"created_time_dt\": \"2023-07-03T09:10:59.244159Z\", \"duration\": \"0:04:52\", \"iteration\": \"17\", \"goal\": \"AUC_weighted_max\", \"run_name\": \"StandardScalerWrapper, ExtremeRandomTrees\", \"run_properties\": \"copy=True, with_mean=False, with_std=True\", \"primary_metric\": 0.94681148, \"best_metric\": 0.99877872}, {\"run_id\": \"AutoML_246daec5-9b54-430a-a1e0-2d15e4aadcf5_worker_4\", \"run_number\": 1688375460, \"metric\": null, \"status\": \"Completed\", \"run_type\": \"azureml.scriptrun\", \"training_percent\": null, \"start_time\": \"2023-07-03T09:13:31.41864Z\", \"end_time\": \"2023-07-03T09:16:26.18082Z\", \"created_time\": \"2023-07-03T09:11:00.553972Z\", \"created_time_dt\": \"2023-07-03T09:11:00.553972Z\", \"duration\": \"0:05:25\", \"iteration\": null, \"goal\": null, \"run_name\": \"Completed\", \"run_properties\": null}, {\"run_id\": \"AutoML_246daec5-9b54-430a-a1e0-2d15e4aadcf5_21\", \"run_number\": 1688375754, \"metric\": null, \"status\": \"Completed\", \"run_type\": \"azureml.scriptrun\", \"training_percent\": \"100\", \"start_time\": \"2023-07-03T09:16:08.909223Z\", \"end_time\": \"2023-07-03T09:16:37.530911Z\", \"created_time\": \"2023-07-03T09:15:54.311426Z\", \"created_time_dt\": \"2023-07-03T09:15:54.311426Z\", \"duration\": \"0:00:43\", \"iteration\": \"21\", \"goal\": \"AUC_weighted_max\", \"run_name\": \"StandardScalerWrapper, XGBoostClassifier\", \"run_properties\": \"copy=True, with_mean=False, with_std=False\", \"primary_metric\": 0.99449424, \"best_metric\": 0.99877872}, {\"run_id\": \"AutoML_246daec5-9b54-430a-a1e0-2d15e4aadcf5_22\", \"run_number\": 1688375779, \"metric\": null, \"status\": \"Completed\", \"run_type\": \"azureml.scriptrun\", \"training_percent\": \"100\", \"start_time\": \"2023-07-03T09:16:30.242654Z\", \"end_time\": \"2023-07-03T09:17:01.934356Z\", \"created_time\": \"2023-07-03T09:16:19.896694Z\", \"created_time_dt\": \"2023-07-03T09:16:19.896694Z\", \"duration\": \"0:00:42\", \"iteration\": \"22\", \"goal\": \"AUC_weighted_max\", \"run_name\": \"StandardScalerWrapper, XGBoostClassifier\", \"run_properties\": \"copy=True, with_mean=False, with_std=False\", \"primary_metric\": 0.99788692, \"best_metric\": 0.99877872}, {\"run_id\": \"AutoML_246daec5-9b54-430a-a1e0-2d15e4aadcf5_25\", \"run_number\": 1688375801, \"metric\": null, \"status\": \"Completed\", \"run_type\": \"azureml.scriptrun\", \"training_percent\": \"100\", \"start_time\": \"2023-07-03T09:16:49.177273Z\", \"end_time\": \"2023-07-03T09:17:17.373608Z\", \"created_time\": \"2023-07-03T09:16:41.501918Z\", \"created_time_dt\": \"2023-07-03T09:16:41.501918Z\", \"duration\": \"0:00:35\", \"iteration\": \"25\", \"goal\": \"AUC_weighted_max\", \"run_name\": \"SparseNormalizer, XGBoostClassifier\", \"run_properties\": \"copy=True, norm='max'\", \"primary_metric\": 0.98820822, \"best_metric\": 0.99877872}, {\"run_id\": \"AutoML_246daec5-9b54-430a-a1e0-2d15e4aadcf5_26\", \"run_number\": 1688375804, \"metric\": null, \"status\": \"Completed\", \"run_type\": \"azureml.scriptrun\", \"training_percent\": \"100\", \"start_time\": \"2023-07-03T09:17:05.88682Z\", \"end_time\": \"2023-07-03T09:17:38.077416Z\", \"created_time\": \"2023-07-03T09:16:44.015084Z\", \"created_time_dt\": \"2023-07-03T09:16:44.015084Z\", \"duration\": \"0:00:54\", \"iteration\": \"26\", \"goal\": \"AUC_weighted_max\", \"run_name\": \"MaxAbsScaler, LightGBM\", \"run_properties\": \"copy=True\", \"primary_metric\": 0.9843617, \"best_metric\": 0.99877872}, {\"run_id\": \"AutoML_246daec5-9b54-430a-a1e0-2d15e4aadcf5_27\", \"run_number\": 1688375824, \"metric\": null, \"status\": \"Completed\", \"run_type\": \"azureml.scriptrun\", \"training_percent\": \"100\", \"start_time\": \"2023-07-03T09:17:15.082918Z\", \"end_time\": \"2023-07-03T09:17:48.14393Z\", \"created_time\": \"2023-07-03T09:17:04.011184Z\", \"created_time_dt\": \"2023-07-03T09:17:04.011184Z\", \"duration\": \"0:00:44\", \"iteration\": \"27\", \"goal\": \"AUC_weighted_max\", \"run_name\": \"MaxAbsScaler, LinearSVM\", \"run_properties\": \"copy=True\", \"primary_metric\": 0.97949495, \"best_metric\": 0.99877872}, {\"run_id\": \"AutoML_246daec5-9b54-430a-a1e0-2d15e4aadcf5_28\", \"run_number\": 1688375826, \"metric\": null, \"status\": \"Completed\", \"run_type\": \"azureml.scriptrun\", \"training_percent\": \"100\", \"start_time\": \"2023-07-03T09:17:20.581556Z\", \"end_time\": \"2023-07-03T09:17:47.732899Z\", \"created_time\": \"2023-07-03T09:17:06.978302Z\", \"created_time_dt\": \"2023-07-03T09:17:06.978302Z\", \"duration\": \"0:00:40\", \"iteration\": \"28\", \"goal\": \"AUC_weighted_max\", \"run_name\": \"StandardScalerWrapper, LightGBM\", \"run_properties\": \"copy=True, with_mean=False, with_std=True\", \"primary_metric\": 0.97927444, \"best_metric\": 0.99877872}, {\"run_id\": \"AutoML_246daec5-9b54-430a-a1e0-2d15e4aadcf5_29\", \"run_number\": 1688375838, \"metric\": null, \"status\": \"Completed\", \"run_type\": \"azureml.scriptrun\", \"training_percent\": \"100\", \"start_time\": \"2023-07-03T09:17:26.618385Z\", \"end_time\": \"2023-07-03T09:17:57.737803Z\", \"created_time\": \"2023-07-03T09:17:18.772715Z\", \"created_time_dt\": \"2023-07-03T09:17:18.772715Z\", \"duration\": \"0:00:38\", \"iteration\": \"29\", \"goal\": \"AUC_weighted_max\", \"run_name\": \"MaxAbsScaler, LightGBM\", \"run_properties\": \"copy=True\", \"primary_metric\": 0.99543775, \"best_metric\": 0.99877872}, {\"run_id\": \"AutoML_246daec5-9b54-430a-a1e0-2d15e4aadcf5_30\", \"run_number\": 1688375841, \"metric\": null, \"status\": \"Completed\", \"run_type\": \"azureml.scriptrun\", \"training_percent\": \"100\", \"start_time\": \"2023-07-03T09:17:41.79052Z\", \"end_time\": \"2023-07-03T09:18:13.3343Z\", \"created_time\": \"2023-07-03T09:17:21.384981Z\", \"created_time_dt\": \"2023-07-03T09:17:21.384981Z\", \"duration\": \"0:00:51\", \"iteration\": \"30\", \"goal\": \"AUC_weighted_max\", \"run_name\": \"StandardScalerWrapper, LightGBM\", \"run_properties\": \"copy=True, with_mean=False, with_std=False\", \"primary_metric\": 0.98660577, \"best_metric\": 0.99877872}, {\"run_id\": \"AutoML_246daec5-9b54-430a-a1e0-2d15e4aadcf5_31\", \"run_number\": 1688375859, \"metric\": null, \"status\": \"Completed\", \"run_type\": \"azureml.scriptrun\", \"training_percent\": \"100\", \"start_time\": \"2023-07-03T09:17:51.012595Z\", \"end_time\": \"2023-07-03T09:18:24.144962Z\", \"created_time\": \"2023-07-03T09:17:39.467339Z\", \"created_time_dt\": \"2023-07-03T09:17:39.467339Z\", \"duration\": \"0:00:44\", \"iteration\": \"31\", \"goal\": \"AUC_weighted_max\", \"run_name\": \"StandardScalerWrapper, LogisticRegression\", \"run_properties\": \"copy=True, with_mean=False, with_std=True\", \"primary_metric\": 0.98789707, \"best_metric\": 0.99877872}, {\"run_id\": \"AutoML_246daec5-9b54-430a-a1e0-2d15e4aadcf5_32\", \"run_number\": 1688375869, \"metric\": null, \"status\": \"Completed\", \"run_type\": \"azureml.scriptrun\", \"training_percent\": \"100\", \"start_time\": \"2023-07-03T09:17:57.025062Z\", \"end_time\": \"2023-07-03T09:18:27.352869Z\", \"created_time\": \"2023-07-03T09:17:49.08573Z\", \"created_time_dt\": \"2023-07-03T09:17:49.08573Z\", \"duration\": \"0:00:38\", \"iteration\": \"32\", \"goal\": \"AUC_weighted_max\", \"run_name\": \"SparseNormalizer, XGBoostClassifier\", \"run_properties\": \"copy=True, norm='l2'\", \"primary_metric\": 0.99794035, \"best_metric\": 0.99877872}, {\"run_id\": \"AutoML_246daec5-9b54-430a-a1e0-2d15e4aadcf5_33\", \"run_number\": 1688375871, \"metric\": null, \"status\": \"Completed\", \"run_type\": \"azureml.scriptrun\", \"training_percent\": \"100\", \"start_time\": \"2023-07-03T09:18:00.865713Z\", \"end_time\": \"2023-07-03T09:18:30.764634Z\", \"created_time\": \"2023-07-03T09:17:51.108782Z\", \"created_time_dt\": \"2023-07-03T09:17:51.108782Z\", \"duration\": \"0:00:39\", \"iteration\": \"33\", \"goal\": \"AUC_weighted_max\", \"run_name\": \"StandardScalerWrapper, XGBoostClassifier\", \"run_properties\": \"copy=True, with_mean=False, with_std=False\", \"primary_metric\": 0.99734451, \"best_metric\": 0.99877872}, {\"run_id\": \"AutoML_246daec5-9b54-430a-a1e0-2d15e4aadcf5_34\", \"run_number\": 1688375879, \"metric\": null, \"status\": \"Canceled\", \"run_type\": \"azureml.scriptrun\", \"training_percent\": \"100\", \"start_time\": \"2023-07-03T09:18:19.023286Z\", \"end_time\": \"2023-07-03T09:18:36.653208Z\", \"created_time\": \"2023-07-03T09:17:59.060738Z\", \"created_time_dt\": \"2023-07-03T09:17:59.060738Z\", \"duration\": \"0:00:37\", \"iteration\": \"34\", \"goal\": null, \"run_name\": \"SparseNormalizer, XGBoostClassifier\", \"run_properties\": null}, {\"run_id\": \"AutoML_246daec5-9b54-430a-a1e0-2d15e4aadcf5_35\", \"run_number\": 1688375895, \"metric\": null, \"status\": \"Canceled\", \"run_type\": \"azureml.scriptrun\", \"training_percent\": \"100\", \"start_time\": \"2023-07-03T09:18:28.087016Z\", \"end_time\": \"2023-07-03T09:18:37.022257Z\", \"created_time\": \"2023-07-03T09:18:15.48844Z\", \"created_time_dt\": \"2023-07-03T09:18:15.48844Z\", \"duration\": \"0:00:21\", \"iteration\": \"35\", \"goal\": null, \"run_name\": \"Canceled\", \"run_properties\": null}, {\"run_id\": \"AutoML_246daec5-9b54-430a-a1e0-2d15e4aadcf5_36\", \"run_number\": 1688375905, \"metric\": null, \"status\": \"Canceled\", \"run_type\": \"azureml.scriptrun\", \"training_percent\": \"100\", \"start_time\": \"2023-07-03T09:18:31.424546Z\", \"end_time\": \"2023-07-03T09:18:37.017553Z\", \"created_time\": \"2023-07-03T09:18:25.445403Z\", \"created_time_dt\": \"2023-07-03T09:18:25.445403Z\", \"duration\": \"0:00:11\", \"iteration\": \"36\", \"goal\": null, \"run_name\": \"Canceled\", \"run_properties\": null}, {\"run_id\": \"AutoML_246daec5-9b54-430a-a1e0-2d15e4aadcf5_37\", \"run_number\": 1688375908, \"metric\": null, \"status\": \"Canceled\", \"run_type\": \"azureml.scriptrun\", \"training_percent\": \"100\", \"start_time\": \"2023-07-03T09:18:31.36891Z\", \"end_time\": \"2023-07-03T09:18:31.466866Z\", \"created_time\": \"2023-07-03T09:18:28.738323Z\", \"created_time_dt\": \"2023-07-03T09:18:28.738323Z\", \"duration\": \"0:00:02\", \"iteration\": \"37\", \"goal\": null, \"run_name\": \"Canceled\", \"run_properties\": null}, {\"run_id\": \"AutoML_246daec5-9b54-430a-a1e0-2d15e4aadcf5_39\", \"run_number\": 1688375917, \"metric\": null, \"status\": \"Completed\", \"run_type\": \"azureml.scriptrun\", \"training_percent\": \"100\", \"start_time\": \"2023-07-03T09:18:47.21616Z\", \"end_time\": \"2023-07-03T09:20:02.803257Z\", \"created_time\": \"2023-07-03T09:18:37.827589Z\", \"created_time_dt\": \"2023-07-03T09:18:37.827589Z\", \"duration\": \"0:01:24\", \"iteration\": \"39\", \"goal\": \"AUC_weighted_max\", \"run_name\": \"StackEnsemble\", \"run_properties\": \"base_learners=[('0', Pipeline(memory=None, steps=[('maxabsscaler', MaxAbsScaler(copy=True\", \"primary_metric\": 0.99865713, \"best_metric\": 0.99877872}], \"children_metrics\": {\"categories\": [0], \"series\": {\"recall_score_macro\": [{\"categories\": [\"0\", \"1\", \"8\", \"12\", \"17\", \"21\", \"22\", \"25\", \"26\", \"27\", \"28\", \"29\", \"30\", \"31\", \"32\", \"33\", \"39\"], \"mode\": \"markers\", \"name\": \"recall_score_macro\", \"stepped\": false, \"type\": \"scatter\", \"data\": [0.9624798064408936, 0.9167952786694985, 0.878805657584476, 0.8342007626115792, 0.8149055311969481, 0.852984920988817, 0.8742798818816322, 0.655284673231887, 0.5639106369881246, 0.5594715488253517, 0.5405242755852357, 0.8102827126912452, 0.6690440959739229, 0.8493471934830398, 0.8858908985865263, 0.8677103493814894, 0.9531180257799522]}, {\"categories\": [\"0\", \"1\", \"8\", \"12\", \"17\", \"21\", \"22\", \"25\", \"26\", \"27\", \"28\", \"29\", \"30\", \"31\", \"32\", \"33\", \"39\"], \"mode\": \"lines\", \"name\": \"recall_score_macro_max\", \"stepped\": true, \"type\": \"scatter\", \"data\": [0.9624798064408936, 0.9624798064408936, 0.9624798064408936, 0.9624798064408936, 0.9624798064408936, 0.9624798064408936, 0.9624798064408936, 0.9624798064408936, 0.9624798064408936, 0.9624798064408936, 0.9624798064408936, 0.9624798064408936, 0.9624798064408936, 0.9624798064408936, 0.9624798064408936, 0.9624798064408936, 0.9624798064408936]}], \"f1_score_macro\": [{\"categories\": [\"0\", \"1\", \"8\", \"12\", \"17\", \"21\", \"22\", \"25\", \"26\", \"27\", \"28\", \"29\", \"30\", \"31\", \"32\", \"33\", \"39\"], \"mode\": \"markers\", \"name\": \"f1_score_macro\", \"stepped\": false, \"type\": \"scatter\", \"data\": [0.964149597555385, 0.9251776219560934, 0.8831152693046381, 0.8374192846703742, 0.6864594388570108, 0.8406060898675998, 0.8808073538674682, 0.6591257545457647, 0.5778162784777565, 0.5949662635129901, 0.5575485754866768, 0.8216843661802996, 0.6921991187270716, 0.8515453949618719, 0.8902793867221291, 0.8760270241128888, 0.9556605435509447]}, {\"categories\": [\"0\", \"1\", \"8\", \"12\", \"17\", \"21\", \"22\", \"25\", \"26\", \"27\", \"28\", \"29\", \"30\", \"31\", \"32\", \"33\", \"39\"], \"mode\": \"lines\", \"name\": \"f1_score_macro_max\", \"stepped\": true, \"type\": \"scatter\", \"data\": [0.964149597555385, 0.964149597555385, 0.964149597555385, 0.964149597555385, 0.964149597555385, 0.964149597555385, 0.964149597555385, 0.964149597555385, 0.964149597555385, 0.964149597555385, 0.964149597555385, 0.964149597555385, 0.964149597555385, 0.964149597555385, 0.964149597555385, 0.964149597555385, 0.964149597555385]}], \"precision_score_micro\": [{\"categories\": [\"0\", \"1\", \"8\", \"12\", \"17\", \"21\", \"22\", \"25\", \"26\", \"27\", \"28\", \"29\", \"30\", \"31\", \"32\", \"33\", \"39\"], \"mode\": \"markers\", \"name\": \"precision_score_micro\", \"stepped\": false, \"type\": \"scatter\", \"data\": [0.9826328502415459, 0.9745229468599034, 0.9594625603864735, 0.9438295088566827, 0.8083705716586151, 0.950780998389694, 0.9646769323671497, 0.9009782608695652, 0.8998188405797102, 0.8662338969404186, 0.8720289855072464, 0.9484601449275362, 0.8986564009661836, 0.9253009259259258, 0.9658363526570047, 0.9617824074074074, 0.980313003220612]}, {\"categories\": [\"0\", \"1\", \"8\", \"12\", \"17\", \"21\", \"22\", \"25\", \"26\", \"27\", \"28\", \"29\", \"30\", \"31\", \"32\", \"33\", \"39\"], \"mode\": \"lines\", \"name\": \"precision_score_micro_max\", \"stepped\": true, \"type\": \"scatter\", \"data\": [0.9826328502415459, 0.9826328502415459, 0.9826328502415459, 0.9826328502415459, 0.9826328502415459, 0.9826328502415459, 0.9826328502415459, 0.9826328502415459, 0.9826328502415459, 0.9826328502415459, 0.9826328502415459, 0.9826328502415459, 0.9826328502415459, 0.9826328502415459, 0.9826328502415459, 0.9826328502415459, 0.9826328502415459]}], \"AUC_macro\": [{\"categories\": [\"0\", \"1\", \"8\", \"12\", \"17\", \"21\", \"22\", \"25\", \"26\", \"27\", \"28\", \"29\", \"30\", \"31\", \"32\", \"33\", \"39\"], \"mode\": \"markers\", \"name\": \"AUC_macro\", \"stepped\": false, \"type\": \"scatter\", \"data\": [0.9990457541187446, 0.9981879026178183, 0.9948565561592252, 0.9936475645054134, 0.9492900894288789, 0.9935251394397994, 0.9967394368019601, 0.9879216329056854, 0.9810993187266422, 0.9788192679805433, 0.9762747722048427, 0.993359992328647, 0.9851840272047778, 0.9902198192494707, 0.9970618121572629, 0.9961876979122543, 0.9987643409082114]}, {\"categories\": [\"0\", \"1\", \"8\", \"12\", \"17\", \"21\", \"22\", \"25\", \"26\", \"27\", \"28\", \"29\", \"30\", \"31\", \"32\", \"33\", \"39\"], \"mode\": \"lines\", \"name\": \"AUC_macro_max\", \"stepped\": true, \"type\": \"scatter\", \"data\": [0.9990457541187446, 0.9990457541187446, 0.9990457541187446, 0.9990457541187446, 0.9990457541187446, 0.9990457541187446, 0.9990457541187446, 0.9990457541187446, 0.9990457541187446, 0.9990457541187446, 0.9990457541187446, 0.9990457541187446, 0.9990457541187446, 0.9990457541187446, 0.9990457541187446, 0.9990457541187446, 0.9990457541187446]}], \"average_precision_score_weighted\": [{\"categories\": [\"0\", \"1\", \"8\", \"12\", \"17\", \"21\", \"22\", \"25\", \"26\", \"27\", \"28\", \"29\", \"30\", \"31\", \"32\", \"33\", \"39\"], \"mode\": \"markers\", \"name\": \"average_precision_score_weighted\", \"stepped\": false, \"type\": \"scatter\", \"data\": [0.9971952408718546, 0.9938709142358589, 0.9820299106875705, 0.9790901776114646, 0.8773837793242952, 0.9778368383724283, 0.9878472810691968, 0.958208274891981, 0.9432958421512626, 0.9400787334879029, 0.9292464953291333, 0.9780796005328304, 0.9538005852052179, 0.9721340015679468, 0.9896031718693005, 0.9869885049696974, 0.9952928885675624]}, {\"categories\": [\"0\", \"1\", \"8\", \"12\", \"17\", \"21\", \"22\", \"25\", \"26\", \"27\", \"28\", \"29\", \"30\", \"31\", \"32\", \"33\", \"39\"], \"mode\": \"lines\", \"name\": \"average_precision_score_weighted_max\", \"stepped\": true, \"type\": \"scatter\", \"data\": [0.9971952408718546, 0.9971952408718546, 0.9971952408718546, 0.9971952408718546, 0.9971952408718546, 0.9971952408718546, 0.9971952408718546, 0.9971952408718546, 0.9971952408718546, 0.9971952408718546, 0.9971952408718546, 0.9971952408718546, 0.9971952408718546, 0.9971952408718546, 0.9971952408718546, 0.9971952408718546, 0.9971952408718546]}], \"log_loss\": [{\"categories\": [\"0\", \"1\", \"8\", \"12\", \"17\", \"21\", \"22\", \"25\", \"26\", \"27\", \"28\", \"29\", \"30\", \"31\", \"32\", \"33\", \"39\"], \"mode\": \"markers\", \"name\": \"log_loss\", \"stepped\": false, \"type\": \"scatter\", \"data\": [0.0520199394669666, 0.0634328517121533, 0.23396062812747145, 0.2767804095756467, 0.4375311105268384, 0.30359447096967535, 0.12013456274294364, 0.32856390602074703, 0.3079602470935017, 0.28576048866530734, 0.32036621928299436, 0.16964769938964752, 0.26076586695920206, 0.17605728146523417, 0.11777838195334372, 0.1366556392820195, 0.061443512487257324]}, {\"categories\": [\"0\", \"1\", \"8\", \"12\", \"17\", \"21\", \"22\", \"25\", \"26\", \"27\", \"28\", \"29\", \"30\", \"31\", \"32\", \"33\", \"39\"], \"mode\": \"lines\", \"name\": \"log_loss_min\", \"stepped\": true, \"type\": \"scatter\", \"data\": [0.0520199394669666, 0.0520199394669666, 0.0520199394669666, 0.0520199394669666, 0.0520199394669666, 0.0520199394669666, 0.0520199394669666, 0.0520199394669666, 0.0520199394669666, 0.0520199394669666, 0.0520199394669666, 0.0520199394669666, 0.0520199394669666, 0.0520199394669666, 0.0520199394669666, 0.0520199394669666, 0.0520199394669666]}], \"accuracy\": [{\"categories\": [\"0\", \"1\", \"8\", \"12\", \"17\", \"21\", \"22\", \"25\", \"26\", \"27\", \"28\", \"29\", \"30\", \"31\", \"32\", \"33\", \"39\"], \"mode\": \"markers\", \"name\": \"accuracy\", \"stepped\": false, \"type\": \"scatter\", \"data\": [0.9826328502415459, 0.9745229468599034, 0.9594625603864735, 0.9438295088566827, 0.8083705716586151, 0.950780998389694, 0.9646769323671497, 0.9009782608695652, 0.8998188405797102, 0.8662338969404186, 0.8720289855072464, 0.9484601449275362, 0.8986564009661836, 0.9253009259259258, 0.9658363526570047, 0.9617824074074074, 0.980313003220612]}, {\"categories\": [\"0\", \"1\", \"8\", \"12\", \"17\", \"21\", \"22\", \"25\", \"26\", \"27\", \"28\", \"29\", \"30\", \"31\", \"32\", \"33\", \"39\"], \"mode\": \"lines\", \"name\": \"accuracy_max\", \"stepped\": true, \"type\": \"scatter\", \"data\": [0.9826328502415459, 0.9826328502415459, 0.9826328502415459, 0.9826328502415459, 0.9826328502415459, 0.9826328502415459, 0.9826328502415459, 0.9826328502415459, 0.9826328502415459, 0.9826328502415459, 0.9826328502415459, 0.9826328502415459, 0.9826328502415459, 0.9826328502415459, 0.9826328502415459, 0.9826328502415459, 0.9826328502415459]}], \"precision_score_weighted\": [{\"categories\": [\"0\", \"1\", \"8\", \"12\", \"17\", \"21\", \"22\", \"25\", \"26\", \"27\", \"28\", \"29\", \"30\", \"31\", \"32\", \"33\", \"39\"], \"mode\": \"markers\", \"name\": \"precision_score_weighted\", \"stepped\": false, \"type\": \"scatter\", \"data\": [0.9832159651814981, 0.974495281780274, 0.9601521049598932, 0.9447029864605949, 0.8730732523104189, 0.9526466616876256, 0.9637132960382512, 0.900224417541267, 0.893486479642517, 0.8646571034861074, 0.8525373586983992, 0.9478226466534996, 0.8945634967817443, 0.9274600581612429, 0.9657963054934166, 0.9611518202798123, 0.980602944288503]}, {\"categories\": [\"0\", \"1\", \"8\", \"12\", \"17\", \"21\", \"22\", \"25\", \"26\", \"27\", \"28\", \"29\", \"30\", \"31\", \"32\", \"33\", \"39\"], \"mode\": \"lines\", \"name\": \"precision_score_weighted_max\", \"stepped\": true, \"type\": \"scatter\", \"data\": [0.9832159651814981, 0.9832159651814981, 0.9832159651814981, 0.9832159651814981, 0.9832159651814981, 0.9832159651814981, 0.9832159651814981, 0.9832159651814981, 0.9832159651814981, 0.9832159651814981, 0.9832159651814981, 0.9832159651814981, 0.9832159651814981, 0.9832159651814981, 0.9832159651814981, 0.9832159651814981, 0.9832159651814981]}], \"average_precision_score_macro\": [{\"categories\": [\"0\", \"1\", \"8\", \"12\", \"17\", \"21\", \"22\", \"25\", \"26\", \"27\", \"28\", \"29\", \"30\", \"31\", \"32\", \"33\", \"39\"], \"mode\": \"markers\", \"name\": \"average_precision_score_macro\", \"stepped\": false, \"type\": \"scatter\", \"data\": [0.9938735922885464, 0.9780138782836363, 0.9382529360478591, 0.921641440491103, 0.6631368859638062, 0.915146709054623, 0.9487214654951611, 0.8606347623795466, 0.8223826887674095, 0.8224055031465124, 0.8079900172610787, 0.908535133435952, 0.8522741677644042, 0.9261946080304693, 0.9588170410118669, 0.9486278229079407, 0.9907601927422075]}, {\"categories\": [\"0\", \"1\", \"8\", \"12\", \"17\", \"21\", \"22\", \"25\", \"26\", \"27\", \"28\", \"29\", \"30\", \"31\", \"32\", \"33\", \"39\"], \"mode\": \"lines\", \"name\": \"average_precision_score_macro_max\", \"stepped\": true, \"type\": \"scatter\", \"data\": [0.9938735922885464, 0.9938735922885464, 0.9938735922885464, 0.9938735922885464, 0.9938735922885464, 0.9938735922885464, 0.9938735922885464, 0.9938735922885464, 0.9938735922885464, 0.9938735922885464, 0.9938735922885464, 0.9938735922885464, 0.9938735922885464, 0.9938735922885464, 0.9938735922885464, 0.9938735922885464, 0.9938735922885464]}], \"f1_score_weighted\": [{\"categories\": [\"0\", \"1\", \"8\", \"12\", \"17\", \"21\", \"22\", \"25\", \"26\", \"27\", \"28\", \"29\", \"30\", \"31\", \"32\", \"33\", \"39\"], \"mode\": \"markers\", \"name\": \"f1_score_weighted\", \"stepped\": false, \"type\": \"scatter\", \"data\": [0.9824728186538567, 0.9736915743863946, 0.9582430259521902, 0.943008474875643, 0.8301090762595459, 0.949084685443938, 0.9636496753613186, 0.8910378631136036, 0.882479612280055, 0.8560739385610971, 0.8550342047008059, 0.9470872559461442, 0.8921357529905282, 0.9249802068712135, 0.9653546712215628, 0.9606626119455354, 0.9800190413450484]}, {\"categories\": [\"0\", \"1\", \"8\", \"12\", \"17\", \"21\", \"22\", \"25\", \"26\", \"27\", \"28\", \"29\", \"30\", \"31\", \"32\", \"33\", \"39\"], \"mode\": \"lines\", \"name\": \"f1_score_weighted_max\", \"stepped\": true, \"type\": \"scatter\", \"data\": [0.9824728186538567, 0.9824728186538567, 0.9824728186538567, 0.9824728186538567, 0.9824728186538567, 0.9824728186538567, 0.9824728186538567, 0.9824728186538567, 0.9824728186538567, 0.9824728186538567, 0.9824728186538567, 0.9824728186538567, 0.9824728186538567, 0.9824728186538567, 0.9824728186538567, 0.9824728186538567, 0.9824728186538567]}], \"matthews_correlation\": [{\"categories\": [\"0\", \"1\", \"8\", \"12\", \"17\", \"21\", \"22\", \"25\", \"26\", \"27\", \"28\", \"29\", \"30\", \"31\", \"32\", \"33\", \"39\"], \"mode\": \"markers\", \"name\": \"matthews_correlation\", \"stepped\": false, \"type\": \"scatter\", \"data\": [0.9624785282073072, 0.9452927806062396, 0.9135149310857424, 0.8799914023886655, 0.6441446966661033, 0.8955912469564852, 0.923626740409775, 0.7918125030158333, 0.7860898955541314, 0.7027213141617906, 0.7150084478874882, 0.888729698383328, 0.7784413451374913, 0.8396247411139295, 0.926317658816247, 0.9174770285708537, 0.9575413213976272]}, {\"categories\": [\"0\", \"1\", \"8\", \"12\", \"17\", \"21\", \"22\", \"25\", \"26\", \"27\", \"28\", \"29\", \"30\", \"31\", \"32\", \"33\", \"39\"], \"mode\": \"lines\", \"name\": \"matthews_correlation_max\", \"stepped\": true, \"type\": \"scatter\", \"data\": [0.9624785282073072, 0.9624785282073072, 0.9624785282073072, 0.9624785282073072, 0.9624785282073072, 0.9624785282073072, 0.9624785282073072, 0.9624785282073072, 0.9624785282073072, 0.9624785282073072, 0.9624785282073072, 0.9624785282073072, 0.9624785282073072, 0.9624785282073072, 0.9624785282073072, 0.9624785282073072, 0.9624785282073072]}], \"precision_score_macro\": [{\"categories\": [\"0\", \"1\", \"8\", \"12\", \"17\", \"21\", \"22\", \"25\", \"26\", \"27\", \"28\", \"29\", \"30\", \"31\", \"32\", \"33\", \"39\"], \"mode\": \"markers\", \"name\": \"precision_score_macro\", \"stepped\": false, \"type\": \"scatter\", \"data\": [0.9692311328293718, 0.940715463323165, 0.9008590712021228, 0.8491955339331542, 0.6477496403943256, 0.8542507391216968, 0.8920424855991972, 0.7391728412187409, 0.7275463479139695, 0.7443787224414292, 0.6480094069849959, 0.8405775679195248, 0.7560507257808219, 0.8650139065727034, 0.8977188946103682, 0.8910387833562087, 0.9624568027303108]}, {\"categories\": [\"0\", \"1\", \"8\", \"12\", \"17\", \"21\", \"22\", \"25\", \"26\", \"27\", \"28\", \"29\", \"30\", \"31\", \"32\", \"33\", \"39\"], \"mode\": \"lines\", \"name\": \"precision_score_macro_max\", \"stepped\": true, \"type\": \"scatter\", \"data\": [0.9692311328293718, 0.9692311328293718, 0.9692311328293718, 0.9692311328293718, 0.9692311328293718, 0.9692311328293718, 0.9692311328293718, 0.9692311328293718, 0.9692311328293718, 0.9692311328293718, 0.9692311328293718, 0.9692311328293718, 0.9692311328293718, 0.9692311328293718, 0.9692311328293718, 0.9692311328293718, 0.9692311328293718]}], \"AUC_weighted\": [{\"categories\": [\"0\", \"1\", \"8\", \"12\", \"17\", \"21\", \"22\", \"25\", \"26\", \"27\", \"28\", \"29\", \"30\", \"31\", \"32\", \"33\", \"39\"], \"mode\": \"markers\", \"name\": \"AUC_weighted\", \"stepped\": false, \"type\": \"scatter\", \"data\": [0.9987787177700516, 0.9985844805699463, 0.9951940756307899, 0.9950593846673023, 0.9468114759781288, 0.9944942408339038, 0.9978869169956212, 0.988208224738333, 0.9843616987981566, 0.9794949537646912, 0.9792744395794667, 0.9954377485756941, 0.9866057749318342, 0.9878970716004213, 0.9979403484771118, 0.9973445097047877, 0.9986571298502472]}, {\"categories\": [\"0\", \"1\", \"8\", \"12\", \"17\", \"21\", \"22\", \"25\", \"26\", \"27\", \"28\", \"29\", \"30\", \"31\", \"32\", \"33\", \"39\"], \"mode\": \"lines\", \"name\": \"AUC_weighted_max\", \"stepped\": true, \"type\": \"scatter\", \"data\": [0.9987787177700516, 0.9987787177700516, 0.9987787177700516, 0.9987787177700516, 0.9987787177700516, 0.9987787177700516, 0.9987787177700516, 0.9987787177700516, 0.9987787177700516, 0.9987787177700516, 0.9987787177700516, 0.9987787177700516, 0.9987787177700516, 0.9987787177700516, 0.9987787177700516, 0.9987787177700516, 0.9987787177700516]}], \"AUC_micro\": [{\"categories\": [\"0\", \"1\", \"8\", \"12\", \"17\", \"21\", \"22\", \"25\", \"26\", \"27\", \"28\", \"29\", \"30\", \"31\", \"32\", \"33\", \"39\"], \"mode\": \"markers\", \"name\": \"AUC_micro\", \"stepped\": false, \"type\": \"scatter\", \"data\": [0.9994114807837794, 0.9991558370400272, 0.9972588644356897, 0.9965597286218757, 0.9713959563539585, 0.9968799211086218, 0.9986241843166637, 0.9910910717227536, 0.9872568291645841, 0.9870672935207225, 0.9853932114070713, 0.9969223899026637, 0.9914937071138136, 0.9943668554371975, 0.9986445862781058, 0.998246367226295, 0.9991340229106783]}, {\"categories\": [\"0\", \"1\", \"8\", \"12\", \"17\", \"21\", \"22\", \"25\", \"26\", \"27\", \"28\", \"29\", \"30\", \"31\", \"32\", \"33\", \"39\"], \"mode\": \"lines\", \"name\": \"AUC_micro_max\", \"stepped\": true, \"type\": \"scatter\", \"data\": [0.9994114807837794, 0.9994114807837794, 0.9994114807837794, 0.9994114807837794, 0.9994114807837794, 0.9994114807837794, 0.9994114807837794, 0.9994114807837794, 0.9994114807837794, 0.9994114807837794, 0.9994114807837794, 0.9994114807837794, 0.9994114807837794, 0.9994114807837794, 0.9994114807837794, 0.9994114807837794, 0.9994114807837794]}], \"average_precision_score_micro\": [{\"categories\": [\"0\", \"1\", \"8\", \"12\", \"17\", \"21\", \"22\", \"25\", \"26\", \"27\", \"28\", \"29\", \"30\", \"31\", \"32\", \"33\", \"39\"], \"mode\": \"markers\", \"name\": \"average_precision_score_micro\", \"stepped\": false, \"type\": \"scatter\", \"data\": [0.9982808475759496, 0.9975371649987941, 0.9922507404012748, 0.9905463900980219, 0.9242548851441326, 0.9913078192888962, 0.9960043403411741, 0.9760747872867244, 0.9676364797820906, 0.9646689021151462, 0.9618166367500544, 0.9913497456714166, 0.9768207986722306, 0.9841606548605252, 0.9960651251831626, 0.9949760258552637, 0.9975498506136743]}, {\"categories\": [\"0\", \"1\", \"8\", \"12\", \"17\", \"21\", \"22\", \"25\", \"26\", \"27\", \"28\", \"29\", \"30\", \"31\", \"32\", \"33\", \"39\"], \"mode\": \"lines\", \"name\": \"average_precision_score_micro_max\", \"stepped\": true, \"type\": \"scatter\", \"data\": [0.9982808475759496, 0.9982808475759496, 0.9982808475759496, 0.9982808475759496, 0.9982808475759496, 0.9982808475759496, 0.9982808475759496, 0.9982808475759496, 0.9982808475759496, 0.9982808475759496, 0.9982808475759496, 0.9982808475759496, 0.9982808475759496, 0.9982808475759496, 0.9982808475759496, 0.9982808475759496, 0.9982808475759496]}], \"norm_macro_recall\": [{\"categories\": [\"0\", \"1\", \"8\", \"12\", \"17\", \"21\", \"22\", \"25\", \"26\", \"27\", \"28\", \"29\", \"30\", \"31\", \"32\", \"33\", \"39\"], \"mode\": \"markers\", \"name\": \"norm_macro_recall\", \"stepped\": false, \"type\": \"scatter\", \"data\": [0.9499730752545248, 0.8890603715593312, 0.838407543445968, 0.7789343501487721, 0.7532073749292639, 0.8039798946517559, 0.8323731758421764, 0.5403795643091825, 0.41854751598416623, 0.4126287317671355, 0.38736570078031435, 0.7470436169216604, 0.5587254612985637, 0.7991295913107196, 0.8478545314487015, 0.8236137991753193, 0.9374907010399363]}, {\"categories\": [\"0\", \"1\", \"8\", \"12\", \"17\", \"21\", \"22\", \"25\", \"26\", \"27\", \"28\", \"29\", \"30\", \"31\", \"32\", \"33\", \"39\"], \"mode\": \"lines\", \"name\": \"norm_macro_recall_max\", \"stepped\": true, \"type\": \"scatter\", \"data\": [0.9499730752545248, 0.9499730752545248, 0.9499730752545248, 0.9499730752545248, 0.9499730752545248, 0.9499730752545248, 0.9499730752545248, 0.9499730752545248, 0.9499730752545248, 0.9499730752545248, 0.9499730752545248, 0.9499730752545248, 0.9499730752545248, 0.9499730752545248, 0.9499730752545248, 0.9499730752545248, 0.9499730752545248]}], \"f1_score_micro\": [{\"categories\": [\"0\", \"1\", \"8\", \"12\", \"17\", \"21\", \"22\", \"25\", \"26\", \"27\", \"28\", \"29\", \"30\", \"31\", \"32\", \"33\", \"39\"], \"mode\": \"markers\", \"name\": \"f1_score_micro\", \"stepped\": false, \"type\": \"scatter\", \"data\": [0.9826328502415459, 0.9745229468599034, 0.9594625603864735, 0.9438295088566827, 0.808370571658615, 0.950780998389694, 0.9646769323671497, 0.9009782608695652, 0.8998188405797102, 0.8662338969404186, 0.8720289855072464, 0.9484601449275362, 0.8986564009661836, 0.9253009259259258, 0.9658363526570047, 0.9617824074074074, 0.980313003220612]}, {\"categories\": [\"0\", \"1\", \"8\", \"12\", \"17\", \"21\", \"22\", \"25\", \"26\", \"27\", \"28\", \"29\", \"30\", \"31\", \"32\", \"33\", \"39\"], \"mode\": \"lines\", \"name\": \"f1_score_micro_max\", \"stepped\": true, \"type\": \"scatter\", \"data\": [0.9826328502415459, 0.9826328502415459, 0.9826328502415459, 0.9826328502415459, 0.9826328502415459, 0.9826328502415459, 0.9826328502415459, 0.9826328502415459, 0.9826328502415459, 0.9826328502415459, 0.9826328502415459, 0.9826328502415459, 0.9826328502415459, 0.9826328502415459, 0.9826328502415459, 0.9826328502415459, 0.9826328502415459]}], \"recall_score_weighted\": [{\"categories\": [\"0\", \"1\", \"8\", \"12\", \"17\", \"21\", \"22\", \"25\", \"26\", \"27\", \"28\", \"29\", \"30\", \"31\", \"32\", \"33\", \"39\"], \"mode\": \"markers\", \"name\": \"recall_score_weighted\", \"stepped\": false, \"type\": \"scatter\", \"data\": [0.9826328502415459, 0.9745229468599034, 0.9594625603864735, 0.9438295088566827, 0.8083705716586151, 0.950780998389694, 0.9646769323671497, 0.9009782608695652, 0.8998188405797102, 0.8662338969404186, 0.8720289855072464, 0.9484601449275362, 0.8986564009661836, 0.9253009259259258, 0.9658363526570047, 0.9617824074074074, 0.980313003220612]}, {\"categories\": [\"0\", \"1\", \"8\", \"12\", \"17\", \"21\", \"22\", \"25\", \"26\", \"27\", \"28\", \"29\", \"30\", \"31\", \"32\", \"33\", \"39\"], \"mode\": \"lines\", \"name\": \"recall_score_weighted_max\", \"stepped\": true, \"type\": \"scatter\", \"data\": [0.9826328502415459, 0.9826328502415459, 0.9826328502415459, 0.9826328502415459, 0.9826328502415459, 0.9826328502415459, 0.9826328502415459, 0.9826328502415459, 0.9826328502415459, 0.9826328502415459, 0.9826328502415459, 0.9826328502415459, 0.9826328502415459, 0.9826328502415459, 0.9826328502415459, 0.9826328502415459, 0.9826328502415459]}], \"balanced_accuracy\": [{\"categories\": [\"0\", \"1\", \"8\", \"12\", \"17\", \"21\", \"22\", \"25\", \"26\", \"27\", \"28\", \"29\", \"30\", \"31\", \"32\", \"33\", \"39\"], \"mode\": \"markers\", \"name\": \"balanced_accuracy\", \"stepped\": false, \"type\": \"scatter\", \"data\": [0.9624798064408936, 0.9167952786694985, 0.878805657584476, 0.8342007626115792, 0.8149055311969481, 0.852984920988817, 0.8742798818816322, 0.655284673231887, 0.5639106369881246, 0.5594715488253517, 0.5405242755852357, 0.8102827126912452, 0.6690440959739229, 0.8493471934830398, 0.8858908985865263, 0.8677103493814894, 0.9531180257799522]}, {\"categories\": [\"0\", \"1\", \"8\", \"12\", \"17\", \"21\", \"22\", \"25\", \"26\", \"27\", \"28\", \"29\", \"30\", \"31\", \"32\", \"33\", \"39\"], \"mode\": \"lines\", \"name\": \"balanced_accuracy_max\", \"stepped\": true, \"type\": \"scatter\", \"data\": [0.9624798064408936, 0.9624798064408936, 0.9624798064408936, 0.9624798064408936, 0.9624798064408936, 0.9624798064408936, 0.9624798064408936, 0.9624798064408936, 0.9624798064408936, 0.9624798064408936, 0.9624798064408936, 0.9624798064408936, 0.9624798064408936, 0.9624798064408936, 0.9624798064408936, 0.9624798064408936, 0.9624798064408936]}], \"recall_score_micro\": [{\"categories\": [\"0\", \"1\", \"8\", \"12\", \"17\", \"21\", \"22\", \"25\", \"26\", \"27\", \"28\", \"29\", \"30\", \"31\", \"32\", \"33\", \"39\"], \"mode\": \"markers\", \"name\": \"recall_score_micro\", \"stepped\": false, \"type\": \"scatter\", \"data\": [0.9826328502415459, 0.9745229468599034, 0.9594625603864735, 0.9438295088566827, 0.8083705716586151, 0.950780998389694, 0.9646769323671497, 0.9009782608695652, 0.8998188405797102, 0.8662338969404186, 0.8720289855072464, 0.9484601449275362, 0.8986564009661836, 0.9253009259259258, 0.9658363526570047, 0.9617824074074074, 0.980313003220612]}, {\"categories\": [\"0\", \"1\", \"8\", \"12\", \"17\", \"21\", \"22\", \"25\", \"26\", \"27\", \"28\", \"29\", \"30\", \"31\", \"32\", \"33\", \"39\"], \"mode\": \"lines\", \"name\": \"recall_score_micro_max\", \"stepped\": true, \"type\": \"scatter\", \"data\": [0.9826328502415459, 0.9826328502415459, 0.9826328502415459, 0.9826328502415459, 0.9826328502415459, 0.9826328502415459, 0.9826328502415459, 0.9826328502415459, 0.9826328502415459, 0.9826328502415459, 0.9826328502415459, 0.9826328502415459, 0.9826328502415459, 0.9826328502415459, 0.9826328502415459, 0.9826328502415459, 0.9826328502415459]}], \"weighted_accuracy\": [{\"categories\": [\"0\", \"1\", \"8\", \"12\", \"17\", \"21\", \"22\", \"25\", \"26\", \"27\", \"28\", \"29\", \"30\", \"31\", \"32\", \"33\", \"39\"], \"mode\": \"markers\", \"name\": \"weighted_accuracy\", \"stepped\": false, \"type\": \"scatter\", \"data\": [0.9865024510085333, 0.9866049685490004, 0.976787872020974, 0.9666095264747914, 0.8399490242393902, 0.9714361670854426, 0.9845834938221532, 0.9446512144575544, 0.9584023464971859, 0.9374650212194878, 0.9473211241218386, 0.9776683325315068, 0.9527090631578196, 0.9475729578844468, 0.9824653699477913, 0.9817692808212565, 0.9873952134381135]}, {\"categories\": [\"0\", \"1\", \"8\", \"12\", \"17\", \"21\", \"22\", \"25\", \"26\", \"27\", \"28\", \"29\", \"30\", \"31\", \"32\", \"33\", \"39\"], \"mode\": \"lines\", \"name\": \"weighted_accuracy_max\", \"stepped\": true, \"type\": \"scatter\", \"data\": [0.9865024510085333, 0.9866049685490004, 0.9866049685490004, 0.9866049685490004, 0.9866049685490004, 0.9866049685490004, 0.9866049685490004, 0.9866049685490004, 0.9866049685490004, 0.9866049685490004, 0.9866049685490004, 0.9866049685490004, 0.9866049685490004, 0.9866049685490004, 0.9866049685490004, 0.9866049685490004, 0.9873952134381135]}]}, \"metricName\": null, \"primaryMetricName\": \"AUC_weighted\", \"showLegend\": false}, \"run_metrics\": [{\"name\": \"experiment_status\", \"run_id\": \"AutoML_246daec5-9b54-430a-a1e0-2d15e4aadcf5\", \"categories\": [0, 1, 2, 3, 4, 5, 6, 7, 8, 9, 10, 11, 12, 13, 14], \"series\": [{\"data\": [\"DatasetEvaluation\", \"FeaturesGeneration\", \"DatasetFeaturization\", \"DatasetFeaturizationCompleted\", \"DatasetBalancing\", \"DatasetCrossValidationSplit\", \"ModelSelection\", \"BestRunExplainModel\", \"ModelExplanationDataSetSetup\", \"PickSurrogateModel\", \"EngineeredFeatureExplanations\", \"EngineeredFeatureExplanations\", \"RawFeaturesExplanations\", \"RawFeaturesExplanations\", \"BestRunExplainModel\"]}]}, {\"name\": \"experiment_status_description\", \"run_id\": \"AutoML_246daec5-9b54-430a-a1e0-2d15e4aadcf5\", \"categories\": [0, 1, 2, 3, 4, 5, 6, 7, 8, 9, 10, 11, 12, 13, 14], \"series\": [{\"data\": [\"Gathering dataset statistics.\", \"Generating features for the dataset.\", \"Beginning to fit featurizers and featurize the dataset.\", \"Completed fit featurizers and featurizing the dataset.\", \"Performing class balancing sweeping\", \"Generating individually featurized CV splits.\", \"Beginning model selection.\", \"Best run model explanations started\", \"Model explanations data setup completed\", \"Choosing LightGBM as the surrogate model for explanations\", \"Computation of engineered features started\", \"Computation of engineered features completed\", \"Computation of raw features started\", \"Computation of raw features completed\", \"Best run model explanations completed\"]}]}, {\"name\": \"f1_score_weighted\", \"run_id\": \"AutoML_246daec5-9b54-430a-a1e0-2d15e4aadcf5\", \"categories\": [0], \"series\": [{\"data\": [0.9812250630451503]}]}, {\"name\": \"recall_score_weighted\", \"run_id\": \"AutoML_246daec5-9b54-430a-a1e0-2d15e4aadcf5\", \"categories\": [0], \"series\": [{\"data\": [0.9814744363929147]}]}, {\"name\": \"accuracy\", \"run_id\": \"AutoML_246daec5-9b54-430a-a1e0-2d15e4aadcf5\", \"categories\": [0], \"series\": [{\"data\": [0.9814744363929147]}]}, {\"name\": \"precision_score_macro\", \"run_id\": \"AutoML_246daec5-9b54-430a-a1e0-2d15e4aadcf5\", \"categories\": [0], \"series\": [{\"data\": [0.9674481495014318]}]}, {\"name\": \"average_precision_score_micro\", \"run_id\": \"AutoML_246daec5-9b54-430a-a1e0-2d15e4aadcf5\", \"categories\": [0], \"series\": [{\"data\": [0.9980152133598144]}]}, {\"name\": \"average_precision_score_weighted\", \"run_id\": \"AutoML_246daec5-9b54-430a-a1e0-2d15e4aadcf5\", \"categories\": [0], \"series\": [{\"data\": [0.996450865343367]}]}, {\"name\": \"precision_score_weighted\", \"run_id\": \"AutoML_246daec5-9b54-430a-a1e0-2d15e4aadcf5\", \"categories\": [0], \"series\": [{\"data\": [0.9820623689665924]}]}, {\"name\": \"AUC_micro\", \"run_id\": \"AutoML_246daec5-9b54-430a-a1e0-2d15e4aadcf5\", \"categories\": [0], \"series\": [{\"data\": [0.9993411382181713]}]}, {\"name\": \"precision_score_micro\", \"run_id\": \"AutoML_246daec5-9b54-430a-a1e0-2d15e4aadcf5\", \"categories\": [0], \"series\": [{\"data\": [0.9814744363929147]}]}, {\"name\": \"weighted_accuracy\", \"run_id\": \"AutoML_246daec5-9b54-430a-a1e0-2d15e4aadcf5\", \"categories\": [0], \"series\": [{\"data\": [0.9871058863769804]}]}, {\"name\": \"recall_score_macro\", \"run_id\": \"AutoML_246daec5-9b54-430a-a1e0-2d15e4aadcf5\", \"categories\": [0], \"series\": [{\"data\": [0.9516163312291601]}]}, {\"name\": \"norm_macro_recall\", \"run_id\": \"AutoML_246daec5-9b54-430a-a1e0-2d15e4aadcf5\", \"categories\": [0], \"series\": [{\"data\": [0.9354884416388801]}]}, {\"name\": \"recall_score_micro\", \"run_id\": \"AutoML_246daec5-9b54-430a-a1e0-2d15e4aadcf5\", \"categories\": [0], \"series\": [{\"data\": [0.9814744363929147]}]}, {\"name\": \"log_loss\", \"run_id\": \"AutoML_246daec5-9b54-430a-a1e0-2d15e4aadcf5\", \"categories\": [0], \"series\": [{\"data\": [0.12193253344803494]}]}, {\"name\": \"AUC_macro\", \"run_id\": \"AutoML_246daec5-9b54-430a-a1e0-2d15e4aadcf5\", \"categories\": [0], \"series\": [{\"data\": [0.9990030158471073]}]}, {\"name\": \"f1_score_macro\", \"run_id\": \"AutoML_246daec5-9b54-430a-a1e0-2d15e4aadcf5\", \"categories\": [0], \"series\": [{\"data\": [0.9573415039889248]}]}, {\"name\": \"balanced_accuracy\", \"run_id\": \"AutoML_246daec5-9b54-430a-a1e0-2d15e4aadcf5\", \"categories\": [0], \"series\": [{\"data\": [0.9516163312291601]}]}, {\"name\": \"AUC_weighted\", \"run_id\": \"AutoML_246daec5-9b54-430a-a1e0-2d15e4aadcf5\", \"categories\": [0], \"series\": [{\"data\": [0.9989322693795665]}]}, {\"name\": \"matthews_correlation\", \"run_id\": \"AutoML_246daec5-9b54-430a-a1e0-2d15e4aadcf5\", \"categories\": [0], \"series\": [{\"data\": [0.9599554617036617]}]}, {\"name\": \"f1_score_micro\", \"run_id\": \"AutoML_246daec5-9b54-430a-a1e0-2d15e4aadcf5\", \"categories\": [0], \"series\": [{\"data\": [0.9814744363929147]}]}, {\"name\": \"average_precision_score_macro\", \"run_id\": \"AutoML_246daec5-9b54-430a-a1e0-2d15e4aadcf5\", \"categories\": [0], \"series\": [{\"data\": [0.9918963897784363]}]}], \"run_logs\": \"\\nRun is completed.\", \"graph\": {}, \"widget_settings\": {\"childWidgetDisplay\": \"popup\", \"send_telemetry\": false, \"log_level\": \"INFO\", \"sdk_version\": \"1.49.0\"}, \"loading\": false}"
          },
          "metadata": {}
        }
      ],
      "execution_count": 8,
      "metadata": {
        "gather": {
          "logged": 1688375118484
        },
        "jupyter": {
          "outputs_hidden": false,
          "source_hidden": false
        },
        "nteract": {
          "transient": {
            "deleting": false
          }
        }
      }
    },
    {
      "cell_type": "markdown",
      "source": [
        "## Best Model\n",
        "\n",
        "TODO: In the cell below, get the best model from the automl experiments and display all the properties of the model.\n",
        "\n"
      ],
      "metadata": {}
    },
    {
      "cell_type": "code",
      "source": [
        "#Wait for the AutoML run to complete\n",
        "remote_run.wait_for_completion(show_output=True)\n",
        "\n",
        "#\"best_run\" contains the model, metrics, and run ID\n",
        "#\"fitted_model\" contains the actual trained model object\n",
        "best_run, fitted_model = remote_run.get_output()\n",
        "\n",
        "#\"best_run_metrics\" contains a dictionary of the metrics associated with the best run.\n",
        "best_run_metrics = best_run.get_metrics()\n",
        "\n",
        "# Display all the properties of the best model\n",
        "print(best_run.get_properties())\n"
      ],
      "outputs": [
        {
          "output_type": "display_data",
          "data": {
            "text/plain": "<IPython.core.display.HTML object>",
            "text/html": "<table style=\"width:100%\"><tr><th>Experiment</th><th>Id</th><th>Type</th><th>Status</th><th>Details Page</th><th>Docs Page</th></tr><tr><td>auto-ml</td><td>AutoML_246daec5-9b54-430a-a1e0-2d15e4aadcf5</td><td>automl</td><td>Completed</td><td><a href=\"https://ml.azure.com/runs/AutoML_246daec5-9b54-430a-a1e0-2d15e4aadcf5?wsid=/subscriptions/a24a24d5-8d87-4c8a-99b6-91ed2d2df51f/resourcegroups/aml-quickstarts-238107/workspaces/quick-starts-ws-238107&amp;tid=660b3398-b80e-49d2-bc5b-ac1dc93b5254\" target=\"_blank\" rel=\"noopener\">Link to Azure Machine Learning studio</a></td><td><a href=\"https://docs.microsoft.com/en-us/python/api/overview/azure/ml/intro?view=azure-ml-py\" target=\"_blank\" rel=\"noopener\">Link to Documentation</a></td></tr></table>"
          },
          "metadata": {}
        },
        {
          "output_type": "stream",
          "name": "stdout",
          "text": "\n\n********************************************************************************************\nDATA GUARDRAILS: \n\nTYPE:         Cross validation\nSTATUS:       DONE\nDESCRIPTION:  In order to accurately evaluate the model(s) trained by AutoML, we leverage a dataset that the model is not trained on. Hence, if the user doesn't provide an explicit validation dataset, a part of the training dataset is used to achieve this. For smaller datasets (fewer than 20,000 samples), cross-validation is leveraged, else a single hold-out set is split from the training data to serve as the validation dataset. Hence, for your input data we leverage cross-validation with 10 folds, if the number of training samples are fewer than 1000, and 3 folds in all other cases.\n              Learn more about cross validation: https://aka.ms/AutomatedMLCrossValidation\nDETAILS:      \n+------------------------------+\n|Number of folds               |\n+==============================+\n|3                             |\n+------------------------------+\n\n********************************************************************************************\n\nTYPE:         Class balancing detection\nSTATUS:       ALERTED\nDESCRIPTION:  To decrease model bias, please cancel the current run and fix balancing problem.\n              Learn more about imbalanced data: https://aka.ms/AutomatedMLImbalancedData\nDETAILS:      Imbalanced data can lead to a falsely perceived positive effect of a model's accuracy because the input data has bias towards one class.\n+------------------------------+--------------------------------+--------------------------------------+\n|Size of the smallest class    |Name/Label of the smallest class|Number of samples in the training data|\n+==============================+================================+======================================+\n|65                            |vgood                           |1727                                  |\n+------------------------------+--------------------------------+--------------------------------------+\n\n********************************************************************************************\n\nTYPE:         Missing feature values imputation\nSTATUS:       PASSED\nDESCRIPTION:  No feature missing values were detected in the training data.\n              Learn more about missing value imputation: https://aka.ms/AutomatedMLFeaturization\n\n********************************************************************************************\n\nTYPE:         High cardinality feature detection\nSTATUS:       PASSED\nDESCRIPTION:  Your inputs were analyzed, and no high cardinality features were detected.\n              Learn more about high cardinality feature handling: https://aka.ms/AutomatedMLFeaturization\n\n********************************************************************************************\n\n********************************************************************************************\nITER: The iteration being evaluated.\nPIPELINE: A summary description of the pipeline being evaluated.\nDURATION: Time taken for the current iteration.\nMETRIC: The result of computing score on the fitted pipeline.\nBEST: The best observed score thus far.\n********************************************************************************************\n\n ITER   PIPELINE                                       DURATION            METRIC      BEST\n    0   MaxAbsScaler LightGBM                          0:00:14             0.9988    0.9988\n    1   MaxAbsScaler XGBoostClassifier                 0:00:12             0.9986    0.9988\n    2   MaxAbsScaler ExtremeRandomTrees                0:00:11             0.9668    0.9988\n    3   MaxAbsScaler RandomForest                      0:00:11             0.9782    0.9988\n    4   StandardScalerWrapper LightGBM                 0:00:13             0.9717    0.9988\n    5   SparseNormalizer XGBoostClassifier             0:00:11             0.9947    0.9988\n    6   SparseNormalizer RandomForest                  0:00:12             0.9775    0.9988\n    7   StandardScalerWrapper XGBoostClassifier        0:00:11             0.9903    0.9988\n    8   SparseNormalizer XGBoostClassifier             0:00:12             0.9952    0.9988\n    9   MaxAbsScaler RandomForest                      0:00:15             0.9468    0.9988\n   10   SparseNormalizer LightGBM                      0:00:10             0.9748    0.9988\n   11   MaxAbsScaler ExtremeRandomTrees                0:00:12             0.9858    0.9988\n   12   StandardScalerWrapper XGBoostClassifier        0:00:13             0.9951    0.9988\n   13   StandardScalerWrapper ExtremeRandomTrees       0:00:11             0.9750    0.9988\n   14   StandardScalerWrapper RandomForest             0:00:12             0.9956    0.9988\n   15   MaxAbsScaler LightGBM                          0:00:12             0.9862    0.9988\n   16   MaxAbsScaler LogisticRegression                0:00:14             0.9886    0.9988\n   17   StandardScalerWrapper ExtremeRandomTrees       0:00:13             0.9468    0.9988\n   18   StandardScalerWrapper XGBoostClassifier        0:00:13             0.9943    0.9988\n   19   MaxAbsScaler ExtremeRandomTrees                0:00:12             0.9863    0.9988\n   20   MaxAbsScaler LogisticRegression                0:00:28             0.9831    0.9988\n   21   StandardScalerWrapper XGBoostClassifier        0:00:29             0.9945    0.9988\n   22   StandardScalerWrapper XGBoostClassifier        0:00:32             0.9979    0.9988\n   23   MaxAbsScaler RandomForest                      0:00:34             0.9516    0.9988\n   24   StandardScalerWrapper LightGBM                 0:00:29             0.9905    0.9988\n   25   SparseNormalizer XGBoostClassifier             0:00:28             0.9882    0.9988\n   26   MaxAbsScaler LightGBM                          0:00:32             0.9844    0.9988\n   27   MaxAbsScaler LinearSVM                         0:00:33             0.9795    0.9988\n   28   StandardScalerWrapper LightGBM                 0:00:27             0.9793    0.9988\n   29   MaxAbsScaler LightGBM                          0:00:31             0.9954    0.9988\n   30   StandardScalerWrapper LightGBM                 0:00:32             0.9866    0.9988\n   31   StandardScalerWrapper LogisticRegression       0:00:33             0.9879    0.9988\n   32   SparseNormalizer XGBoostClassifier             0:00:30             0.9979    0.9988\n   33   StandardScalerWrapper XGBoostClassifier        0:00:30             0.9973    0.9988\n   34   SparseNormalizer XGBoostClassifier             0:00:18                nan    0.9988\n   35                                                  0:00:09                nan    0.9988\n   36                                                  0:00:06                nan    0.9988\n   37                                                  0:00:00                nan    0.9988\n   38    VotingEnsemble                                0:01:06             0.9989    0.9989\n   39    StackEnsemble                                 0:01:16             0.9987    0.9989\n{'runTemplate': 'automl_child', 'pipeline_id': '__AutoML_Ensemble__', 'pipeline_spec': '{\"pipeline_id\":\"__AutoML_Ensemble__\",\"objects\":[{\"module\":\"azureml.train.automl.ensemble\",\"class_name\":\"Ensemble\",\"spec_class\":\"sklearn\",\"param_args\":[],\"param_kwargs\":{\"automl_settings\":\"{\\'task_type\\':\\'classification\\',\\'primary_metric\\':\\'AUC_weighted\\',\\'verbosity\\':20,\\'ensemble_iterations\\':15,\\'is_timeseries\\':False,\\'name\\':\\'auto-ml\\',\\'compute_target\\':\\'auto-ml\\',\\'subscription_id\\':\\'a24a24d5-8d87-4c8a-99b6-91ed2d2df51f\\',\\'region\\':\\'westus2\\',\\'spark_service\\':None}\",\"ensemble_run_id\":\"AutoML_246daec5-9b54-430a-a1e0-2d15e4aadcf5_38\",\"experiment_name\":\"auto-ml\",\"workspace_name\":\"quick-starts-ws-238107\",\"subscription_id\":\"a24a24d5-8d87-4c8a-99b6-91ed2d2df51f\",\"resource_group_name\":\"aml-quickstarts-238107\"}}]}', 'training_percent': '100', 'predicted_cost': None, 'iteration': '38', '_aml_system_scenario_identification': 'Remote.Child', '_azureml.ComputeTargetType': 'amlctrain', 'ContentSnapshotId': '5a91807b-ba42-4c83-b5fd-d9f558fcc332', 'ProcessInfoFile': 'azureml-logs/process_info.json', 'ProcessStatusFile': 'azureml-logs/process_status.json', 'run_preprocessor': '', 'run_algorithm': 'VotingEnsemble', 'ensembled_iterations': '[0, 1, 32, 22, 33, 3, 23]', 'ensembled_algorithms': \"['LightGBM', 'XGBoostClassifier', 'XGBoostClassifier', 'XGBoostClassifier', 'XGBoostClassifier', 'RandomForest', 'RandomForest']\", 'ensembled_run_ids': \"['AutoML_246daec5-9b54-430a-a1e0-2d15e4aadcf5_0', 'AutoML_246daec5-9b54-430a-a1e0-2d15e4aadcf5_1', 'AutoML_246daec5-9b54-430a-a1e0-2d15e4aadcf5_32', 'AutoML_246daec5-9b54-430a-a1e0-2d15e4aadcf5_22', 'AutoML_246daec5-9b54-430a-a1e0-2d15e4aadcf5_33', 'AutoML_246daec5-9b54-430a-a1e0-2d15e4aadcf5_3', 'AutoML_246daec5-9b54-430a-a1e0-2d15e4aadcf5_23']\", 'ensemble_weights': '[0.5, 0.07142857142857142, 0.07142857142857142, 0.07142857142857142, 0.07142857142857142, 0.14285714285714285, 0.07142857142857142]', 'best_individual_pipeline_score': '0.9987787177700516', 'best_individual_iteration': '0', 'model_output_path': 'outputs/model.pkl', 'conda_env_data_location': 'aml://artifact/ExperimentRun/dcid.AutoML_246daec5-9b54-430a-a1e0-2d15e4aadcf5_38/outputs/conda_env_v_1_0_0.yml', 'model_data_location': 'aml://artifact/ExperimentRun/dcid.AutoML_246daec5-9b54-430a-a1e0-2d15e4aadcf5_38/outputs/model.pkl', 'model_size_on_disk': '4510481', 'scoring_data_location': 'aml://artifact/ExperimentRun/dcid.AutoML_246daec5-9b54-430a-a1e0-2d15e4aadcf5_38/outputs/scoring_file_v_1_0_0.py', 'scoring_data_location_v2': 'aml://artifact/ExperimentRun/dcid.AutoML_246daec5-9b54-430a-a1e0-2d15e4aadcf5_38/outputs/scoring_file_v_2_0_0.py', 'scoring_data_location_pbi': 'aml://artifact/ExperimentRun/dcid.AutoML_246daec5-9b54-430a-a1e0-2d15e4aadcf5_38/outputs/scoring_file_pbi_v_1_0_0.py', 'model_exp_support': 'True', 'pipeline_graph_version': '1.0.0', 'model_name': 'AutoML246daec5938', 'score': '0.9989322693795665', 'score_table': 'NaN', 'run_properties': 'classification_labels=numpy.array([0, 1, 2, 3]', 'pipeline_script': '{\"pipeline_id\":\"__AutoML_Ensemble__\",\"objects\":[{\"module\":\"azureml.train.automl.ensemble\",\"class_name\":\"Ensemble\",\"spec_class\":\"sklearn\",\"param_args\":[],\"param_kwargs\":{\"automl_settings\":\"{\\'task_type\\':\\'classification\\',\\'primary_metric\\':\\'AUC_weighted\\',\\'verbosity\\':20,\\'ensemble_iterations\\':15,\\'is_timeseries\\':False,\\'name\\':\\'auto-ml\\',\\'compute_target\\':\\'auto-ml\\',\\'subscription_id\\':\\'a24a24d5-8d87-4c8a-99b6-91ed2d2df51f\\',\\'region\\':\\'westus2\\',\\'spark_service\\':None}\",\"ensemble_run_id\":\"AutoML_246daec5-9b54-430a-a1e0-2d15e4aadcf5_38\",\"experiment_name\":\"auto-ml\",\"workspace_name\":\"quick-starts-ws-238107\",\"subscription_id\":\"a24a24d5-8d87-4c8a-99b6-91ed2d2df51f\",\"resource_group_name\":\"aml-quickstarts-238107\"}}]}', 'training_type': 'MeanCrossValidation', 'fit_time': '28', 'goal': 'AUC_weighted_max', 'primary_metric': 'AUC_weighted', 'errors': '{}', 'onnx_model_resource': '{}', 'dependencies_versions': '{\"azureml-dataprep-native\": \"38.0.0\", \"azureml-dataprep\": \"4.10.8\", \"azureml-dataprep-rslex\": \"2.17.12\", \"azureml-train-automl-runtime\": \"1.51.0.post2\", \"azureml-automl-runtime\": \"1.51.0.post2\", \"azureml-automl-core\": \"1.51.0.post1\", \"azureml-training-tabular\": \"1.51.0.post1\", \"azureml-train-automl-client\": \"1.51.0.post1\", \"azureml-defaults\": \"1.51.0\", \"azureml-telemetry\": \"1.51.0\", \"azureml-mlflow\": \"1.51.0\", \"azureml-dataset-runtime\": \"1.51.0\", \"azureml-responsibleai\": \"1.51.0\", \"azureml-train-core\": \"1.51.0\", \"azureml-interpret\": \"1.51.0\", \"azureml-pipeline-core\": \"1.51.0\", \"azureml-train-restclients-hyperdrive\": \"1.51.0\", \"azureml-core\": \"1.51.0\", \"azureml-inference-server-http\": \"0.8.4\"}', 'num_cores': '2', 'num_logical_cores': '2', 'peak_memory_usage': '1200112', 'vm_configuration': 'x86_64', 'core_hours': '0.01067653638888889', 'feature_skus': 'automatedml_sdk_guardrails'}\n"
        },
        {
          "output_type": "stream",
          "name": "stderr",
          "text": "WARNING:root:The version of the SDK does not match the version the model was trained on.\nWARNING:root:The consistency in the result may not be guaranteed.\nWARNING:root:Package:azureml-automl-core, training version:1.51.0.post1, current version:1.49.0\nPackage:azureml-automl-runtime, training version:1.51.0.post2, current version:1.49.0\nPackage:azureml-core, training version:1.51.0, current version:1.49.0\nPackage:azureml-dataprep, training version:4.10.8, current version:4.9.1\nPackage:azureml-dataprep-rslex, training version:2.17.12, current version:2.16.1\nPackage:azureml-dataset-runtime, training version:1.51.0, current version:1.49.0\nPackage:azureml-defaults, training version:1.51.0, current version:1.49.0\nPackage:azureml-interpret, training version:1.51.0, current version:1.49.0\nPackage:azureml-mlflow, training version:1.51.0, current version:1.49.0\nPackage:azureml-pipeline-core, training version:1.51.0, current version:1.49.0\nPackage:azureml-responsibleai, training version:1.51.0, current version:1.49.0\nPackage:azureml-telemetry, training version:1.51.0, current version:1.49.0\nPackage:azureml-train-automl-client, training version:1.51.0.post1, current version:1.49.0\nPackage:azureml-train-automl-runtime, training version:1.51.0.post2, current version:1.49.0\nPackage:azureml-train-core, training version:1.51.0, current version:1.49.0\nPackage:azureml-train-restclients-hyperdrive, training version:1.51.0, current version:1.49.0\nPackage:azureml-training-tabular, training version:1.51.0.post1, current version:1.49.0\nWARNING:root:Please ensure the version of your local conda dependencies match the version on which your model was trained in order to properly retrieve your model.\n"
        }
      ],
      "execution_count": 9,
      "metadata": {
        "gather": {
          "logged": 1688377777861
        },
        "jupyter": {
          "outputs_hidden": false,
          "source_hidden": false
        },
        "nteract": {
          "transient": {
            "deleting": false
          }
        }
      }
    },
    {
      "cell_type": "code",
      "source": [
        "#TODO: Save the best model\n",
        "# Save the fitted model as a pickle file\n",
        "import pickle\n",
        "filename = 'automl_best_model.pkl'\n",
        "with open(filename, 'wb') as file:\n",
        "    pickle.dump(fitted_model, file)\n"
      ],
      "outputs": [],
      "execution_count": 10,
      "metadata": {
        "gather": {
          "logged": 1688377800995
        },
        "jupyter": {
          "outputs_hidden": false,
          "source_hidden": false
        },
        "nteract": {
          "transient": {
            "deleting": false
          }
        }
      }
    },
    {
      "cell_type": "code",
      "source": [
        "import pickle\n",
        "with open(filename, 'rb') as file:\n",
        "    loaded_model=pickle.load(file)\n",
        "print(loaded_model)"
      ],
      "outputs": [
        {
          "output_type": "stream",
          "name": "stdout",
          "text": "Pipeline(memory=None,\n         steps=[('datatransformer',\n                 DataTransformer(enable_dnn=False, enable_feature_sweeping=True, feature_sweeping_config={}, feature_sweeping_timeout=86400, featurization_config=None, force_text_dnn=False, is_cross_validation=True, is_onnx_compatible=False, observer=None, task='classification', working_dir='/mnt/batch/tasks/shared/LS_root/mount...\n                 PreFittedSoftVotingClassifier(classification_labels=array([0, 1, 2, 3]), estimators=[('0', Pipeline(memory=None, steps=[('maxabsscaler', MaxAbsScaler(copy=True)), ('lightgbmclassifier', LightGBMClassifier(min_data_in_leaf=20, n_jobs=1, problem_info=ProblemInfo(gpu_training_param_dict={'processing_unit_type': 'cpu'}), random_state=None))], verbose=False)), ('1', Pipeline(memory=None, steps=[('maxabsscaler', MaxAbsScaler(copy=True)), ('xgboostclassifier', XGBoostClassifier(n_jobs=1, problem_info=ProblemInfo(gpu_training_param_dict={'processing_unit_type': 'cpu'}), random_state=0, tree_method='auto'))], verbose=False)), ('32', Pipeline(memory=None, steps=[('sparsenormalizer', Normalizer(copy=True, norm='l2')), ('xgboostclassifier', XGBoostClassifier(booster='gbtree', colsample_bytree=0.7, eta=0.3, gamma=0, max_depth=7, max_leaves=127, n_estimators=400, n_jobs=1, objective='reg:logistic', problem_info=ProblemInfo(gpu_training_param_dict={'processing_unit_type': 'cpu'}), random_state=0, reg_alpha=2.3958333333333335, reg_lambda=0.5208333333333334, subsample=0.6, tree_method='auto'))], verbose=False)), ('22', Pipeline(memory=None, steps=[('standardscalerwrapper', StandardScalerWrapper(copy=True, with_mean=False, with_std=False)), ('xgboostclassifier', XGBoostClassifier(booster='gbtree', colsample_bytree=0.7, eta=0.3, gamma=0, max_depth=5, max_leaves=0, n_estimators=100, n_jobs=1, objective='reg:logistic', problem_info=ProblemInfo(gpu_training_param_dict={'processing_unit_type': 'cpu'}), random_state=0, reg_alpha=1.5625, reg_lambda=2.1875, subsample=0.7, tree_method='auto'))], verbose=False)), ('33', Pipeline(memory=None, steps=[('standardscalerwrapper', StandardScalerWrapper(copy=True, with_mean=False, with_std=False)), ('xgboostclassifier', XGBoostClassifier(booster='gbtree', colsample_bytree=0.8, eta=0.2, gamma=0.1, max_depth=5, max_leaves=0, n_estimators=100, n_jobs=1, objective='reg:logistic', problem_info=ProblemInfo(gpu_training_param_dict={'processing_unit_type': 'cpu'}), random_state=0, reg_alpha=1.0416666666666667, reg_lambda=2.291666666666667, subsample=0.5, tree_method='auto'))], verbose=False)), ('3', Pipeline(memory=None, steps=[('maxabsscaler', MaxAbsScaler(copy=True)), ('randomforestclassifier', RandomForestClassifier(bootstrap=True, ccp_alpha=0.0, class_weight=None, criterion='gini', max_depth=None, max_features='log2', max_leaf_nodes=None, max_samples=None, min_impurity_decrease=0.0, min_impurity_split=None, min_samples_leaf=0.01, min_samples_split=0.01, min_weight_fraction_leaf=0.0, n_estimators=10, n_jobs=1, oob_score=False, random_state=None, verbose=0, warm_start=False))], verbose=False)), ('23', Pipeline(memory=None, steps=[('maxabsscaler', MaxAbsScaler(copy=True)), ('randomforestclassifier', RandomForestClassifier(bootstrap=True, ccp_alpha=0.0, class_weight='balanced', criterion='gini', max_depth=None, max_features=0.2, max_leaf_nodes=None, max_samples=None, min_impurity_decrease=0.0, min_impurity_split=None, min_samples_leaf=0.035789473684210524, min_samples_split=0.056842105263157895, min_weight_fraction_leaf=0.0, n_estimators=10, n_jobs=1, oob_score=False, random_state=None, verbose=0, warm_start=False))], verbose=False))], flatten_transform=None, weights=[0.5, 0.07142857142857142, 0.07142857142857142, 0.07142857142857142, 0.07142857142857142, 0.14285714285714285, 0.07142857142857142]))],\n         verbose=False)\nY_transformer(['LabelEncoder', LabelEncoder()])\n"
        }
      ],
      "execution_count": 11,
      "metadata": {
        "gather": {
          "logged": 1688377804828
        },
        "jupyter": {
          "outputs_hidden": false,
          "source_hidden": false
        },
        "nteract": {
          "transient": {
            "deleting": false
          }
        }
      }
    },
    {
      "cell_type": "markdown",
      "source": [
        "## Model Deployment\n",
        "\n",
        "Remember you have to deploy only one of the two models you trained but you still need to register both the models. Perform the steps in the rest of this notebook only if you wish to deploy this model.\n",
        "\n",
        "TODO: In the cell below, register the model, create an inference config and deploy the model as a web service."
      ],
      "metadata": {}
    },
    {
      "cell_type": "code",
      "source": [
        "best_run.register_model(model_name='best_aml_model', model_path='./outputs/')"
      ],
      "outputs": [
        {
          "output_type": "execute_result",
          "execution_count": 12,
          "data": {
            "text/plain": "Model(workspace=Workspace.create(name='quick-starts-ws-238107', subscription_id='a24a24d5-8d87-4c8a-99b6-91ed2d2df51f', resource_group='aml-quickstarts-238107'), name=best_aml_model, id=best_aml_model:1, version=1, tags={}, properties={})"
          },
          "metadata": {}
        }
      ],
      "execution_count": 12,
      "metadata": {
        "gather": {
          "logged": 1688377810713
        },
        "jupyter": {
          "outputs_hidden": false,
          "source_hidden": false
        },
        "nteract": {
          "transient": {
            "deleting": false
          }
        }
      }
    },
    {
      "cell_type": "code",
      "source": [
        "from azureml.core import Model\n",
        "\n",
        "model = Model.register(workspace=ws, \n",
        "                       model_path=file_name, #local pkl file path\n",
        "                       model_name='best_aml_model'\n",
        "                      )\n",
        "\n",
        "print('Name:', model.name)\n",
        "print('Version:', model.version)"
      ],
      "outputs": [
        {
          "output_type": "error",
          "ename": "NameError",
          "evalue": "name 'file_name' is not defined",
          "traceback": [
            "\u001b[0;31m---------------------------------------------------------------------------\u001b[0m",
            "\u001b[0;31mNameError\u001b[0m                                 Traceback (most recent call last)",
            "Cell \u001b[0;32mIn[13], line 4\u001b[0m\n\u001b[1;32m      1\u001b[0m \u001b[38;5;28;01mfrom\u001b[39;00m \u001b[38;5;21;01mazureml\u001b[39;00m\u001b[38;5;21;01m.\u001b[39;00m\u001b[38;5;21;01mcore\u001b[39;00m \u001b[38;5;28;01mimport\u001b[39;00m Model\n\u001b[1;32m      3\u001b[0m model \u001b[38;5;241m=\u001b[39m Model\u001b[38;5;241m.\u001b[39mregister(workspace\u001b[38;5;241m=\u001b[39mws, \n\u001b[0;32m----> 4\u001b[0m                        model_path\u001b[38;5;241m=\u001b[39m\u001b[43mfile_name\u001b[49m, \u001b[38;5;66;03m#local pkl file path\u001b[39;00m\n\u001b[1;32m      5\u001b[0m                        model_name\u001b[38;5;241m=\u001b[39m\u001b[38;5;124m'\u001b[39m\u001b[38;5;124mbest_aml_model\u001b[39m\u001b[38;5;124m'\u001b[39m\n\u001b[1;32m      6\u001b[0m                       )\n\u001b[1;32m      8\u001b[0m \u001b[38;5;28mprint\u001b[39m(\u001b[38;5;124m'\u001b[39m\u001b[38;5;124mName:\u001b[39m\u001b[38;5;124m'\u001b[39m, model\u001b[38;5;241m.\u001b[39mname)\n\u001b[1;32m      9\u001b[0m \u001b[38;5;28mprint\u001b[39m(\u001b[38;5;124m'\u001b[39m\u001b[38;5;124mVersion:\u001b[39m\u001b[38;5;124m'\u001b[39m, model\u001b[38;5;241m.\u001b[39mversion)\n",
            "\u001b[0;31mNameError\u001b[0m: name 'file_name' is not defined"
          ]
        }
      ],
      "execution_count": 13,
      "metadata": {
        "gather": {
          "logged": 1688377814343
        },
        "jupyter": {
          "outputs_hidden": false,
          "source_hidden": false
        },
        "nteract": {
          "transient": {
            "deleting": false
          }
        }
      }
    },
    {
      "cell_type": "code",
      "source": [
        "from azureml.core.model import InferenceConfig\n",
        "from azureml.core.environment import Environment"
      ],
      "outputs": [],
      "execution_count": 28,
      "metadata": {
        "gather": {
          "logged": 1685683603077
        },
        "jupyter": {
          "outputs_hidden": true,
          "source_hidden": false
        },
        "nteract": {
          "transient": {
            "deleting": false
          }
        }
      }
    },
    {
      "cell_type": "code",
      "source": [
        "#from azureml.core import InferenceConfig, Environment\n",
        "environment_name = 'my_env'#ws.name\n",
        "env = Environment.get(workspace=ws, name=environment_name)\n",
        "#env = Environment(name=\"my_env\")\n",
        "inference_config = InferenceConfig(entry_script='./score.py', environment=env)"
      ],
      "outputs": [
        {
          "output_type": "error",
          "ename": "Exception",
          "evalue": "Error retrieving the environment definition. Code: 404\n: {\n  \"error\": {\n    \"code\": \"UserError\",\n    \"severity\": null,\n    \"message\": \"No environment exists for name: my_env, version: , label: \",\n    \"messageFormat\": null,\n    \"messageParameters\": null,\n    \"referenceCode\": null,\n    \"detailsUri\": null,\n    \"target\": null,\n    \"details\": [],\n    \"innerError\": {\n      \"code\": \"NotFoundError\",\n      \"innerError\": null\n    },\n    \"debugInfo\": null,\n    \"additionalInfo\": null\n  },\n  \"correlation\": {\n    \"operation\": \"a40cd9b5e973910a89763df40b2ced37\",\n    \"request\": \"025344522be8e3a5\"\n  },\n  \"environment\": \"westus2\",\n  \"location\": \"westus2\",\n  \"time\": \"2023-06-02T06:51:00.5308744+00:00\",\n  \"componentName\": \"environment-management\"\n}",
          "traceback": [
            "\u001b[0;31m---------------------------------------------------------------------------\u001b[0m",
            "\u001b[0;31mException\u001b[0m                                 Traceback (most recent call last)",
            "Cell \u001b[0;32mIn[46], line 3\u001b[0m\n\u001b[1;32m      1\u001b[0m \u001b[38;5;66;03m#from azureml.core import InferenceConfig, Environment\u001b[39;00m\n\u001b[1;32m      2\u001b[0m environment_name \u001b[38;5;241m=\u001b[39m \u001b[38;5;124m'\u001b[39m\u001b[38;5;124mmy_env\u001b[39m\u001b[38;5;124m'\u001b[39m\u001b[38;5;66;03m#ws.name\u001b[39;00m\n\u001b[0;32m----> 3\u001b[0m env \u001b[38;5;241m=\u001b[39m \u001b[43mEnvironment\u001b[49m\u001b[38;5;241;43m.\u001b[39;49m\u001b[43mget\u001b[49m\u001b[43m(\u001b[49m\u001b[43mworkspace\u001b[49m\u001b[38;5;241;43m=\u001b[39;49m\u001b[43mws\u001b[49m\u001b[43m,\u001b[49m\u001b[43m \u001b[49m\u001b[43mname\u001b[49m\u001b[38;5;241;43m=\u001b[39;49m\u001b[43menvironment_name\u001b[49m\u001b[43m)\u001b[49m\n\u001b[1;32m      4\u001b[0m \u001b[38;5;66;03m#env = Environment(name=\"my environment\")\u001b[39;00m\n\u001b[1;32m      5\u001b[0m inference_config \u001b[38;5;241m=\u001b[39m InferenceConfig(entry_script\u001b[38;5;241m=\u001b[39m\u001b[38;5;124m'\u001b[39m\u001b[38;5;124m./score.py\u001b[39m\u001b[38;5;124m'\u001b[39m, environment\u001b[38;5;241m=\u001b[39menv)\n",
            "File \u001b[0;32m/anaconda/envs/azureml_py38/lib/python3.8/site-packages/azureml/core/environment.py:1158\u001b[0m, in \u001b[0;36mEnvironment.get\u001b[0;34m(workspace, name, version, label)\u001b[0m\n\u001b[1;32m   1156\u001b[0m     environment_dict \u001b[38;5;241m=\u001b[39m environment_client\u001b[38;5;241m.\u001b[39m_get_environment_definition_by_label(name\u001b[38;5;241m=\u001b[39mname, label\u001b[38;5;241m=\u001b[39mlabel)\n\u001b[1;32m   1157\u001b[0m \u001b[38;5;28;01melse\u001b[39;00m:\n\u001b[0;32m-> 1158\u001b[0m     environment_dict \u001b[38;5;241m=\u001b[39m \u001b[43menvironment_client\u001b[49m\u001b[38;5;241;43m.\u001b[39;49m\u001b[43m_get_environment_definition\u001b[49m\u001b[43m(\u001b[49m\u001b[43mname\u001b[49m\u001b[38;5;241;43m=\u001b[39;49m\u001b[43mname\u001b[49m\u001b[43m,\u001b[49m\u001b[43m \u001b[49m\u001b[43mversion\u001b[49m\u001b[38;5;241;43m=\u001b[39;49m\u001b[43mversion\u001b[49m\u001b[43m)\u001b[49m\n\u001b[1;32m   1159\u001b[0m env \u001b[38;5;241m=\u001b[39m Environment\u001b[38;5;241m.\u001b[39m_deserialize_and_add_to_object(environment_dict)\n\u001b[1;32m   1161\u001b[0m \u001b[38;5;28;01mreturn\u001b[39;00m env\n",
            "File \u001b[0;32m/anaconda/envs/azureml_py38/lib/python3.8/site-packages/azureml/_restclient/environment_client.py:43\u001b[0m, in \u001b[0;36mEnvironmentClient._get_environment_definition\u001b[0;34m(self, name, version)\u001b[0m\n\u001b[1;32m     40\u001b[0m \u001b[38;5;28;01melse\u001b[39;00m:\n\u001b[1;32m     41\u001b[0m     message \u001b[38;5;241m=\u001b[39m \u001b[38;5;124m\"\u001b[39m\u001b[38;5;124mError retrieving the environment definition. Code: \u001b[39m\u001b[38;5;132;01m{}\u001b[39;00m\u001b[38;5;130;01m\\n\u001b[39;00m\u001b[38;5;124m: \u001b[39m\u001b[38;5;132;01m{}\u001b[39;00m\u001b[38;5;124m\"\u001b[39m\u001b[38;5;241m.\u001b[39mformat(response\u001b[38;5;241m.\u001b[39mstatus_code,\n\u001b[1;32m     42\u001b[0m                                                                                    response\u001b[38;5;241m.\u001b[39mtext)\n\u001b[0;32m---> 43\u001b[0m     \u001b[38;5;28;01mraise\u001b[39;00m \u001b[38;5;167;01mException\u001b[39;00m(message)\n",
            "\u001b[0;31mException\u001b[0m: Error retrieving the environment definition. Code: 404\n: {\n  \"error\": {\n    \"code\": \"UserError\",\n    \"severity\": null,\n    \"message\": \"No environment exists for name: my_env, version: , label: \",\n    \"messageFormat\": null,\n    \"messageParameters\": null,\n    \"referenceCode\": null,\n    \"detailsUri\": null,\n    \"target\": null,\n    \"details\": [],\n    \"innerError\": {\n      \"code\": \"NotFoundError\",\n      \"innerError\": null\n    },\n    \"debugInfo\": null,\n    \"additionalInfo\": null\n  },\n  \"correlation\": {\n    \"operation\": \"a40cd9b5e973910a89763df40b2ced37\",\n    \"request\": \"025344522be8e3a5\"\n  },\n  \"environment\": \"westus2\",\n  \"location\": \"westus2\",\n  \"time\": \"2023-06-02T06:51:00.5308744+00:00\",\n  \"componentName\": \"environment-management\"\n}"
          ]
        }
      ],
      "execution_count": 46,
      "metadata": {
        "gather": {
          "logged": 1685688661171
        },
        "jupyter": {
          "outputs_hidden": false,
          "source_hidden": false
        },
        "nteract": {
          "transient": {
            "deleting": false
          }
        }
      }
    },
    {
      "cell_type": "code",
      "source": [
        "#import os\n",
        "#find_name = \"./score.py\"\n",
        "#current_directly = os.getcwd()\n",
        "#file_path = os.path.join(current_directly, find_name)\n",
        "#if os.path.isfile(file_path):\n",
        "#    print('Exist')\n",
        "#else:\n",
        "#    print('Not exist')"
      ],
      "outputs": [
        {
          "output_type": "stream",
          "name": "stdout",
          "text": "Not exist\n"
        }
      ],
      "execution_count": 43,
      "metadata": {
        "gather": {
          "logged": 1685688328737
        },
        "jupyter": {
          "outputs_hidden": false,
          "source_hidden": false
        },
        "nteract": {
          "transient": {
            "deleting": false
          }
        }
      }
    },
    {
      "cell_type": "code",
      "source": [
        "from azureml.core.webservice import AciWebservice\n",
        "\n",
        "deployment_config = AciWebservice.deploy_configuration(cpu_cores=1, memory_gb=1)\n",
        "service = Model.deploy(workspace=ws,\n",
        "                       name='automl-deploy',\n",
        "                       models=[model],\n",
        "                       inference_config=inference_config,\n",
        "                       deployment_config=deployment_config,\n",
        "                       overwrite=True)\n",
        "                       \n",
        "service.wait_for_deployment(show_output=True)\n"
      ],
      "outputs": [],
      "execution_count": null,
      "metadata": {
        "jupyter": {
          "outputs_hidden": false,
          "source_hidden": false
        },
        "nteract": {
          "transient": {
            "deleting": false
          }
        }
      }
    },
    {
      "cell_type": "markdown",
      "source": [
        "TODO: In the cell below, send a request to the web service you deployed to test it."
      ],
      "metadata": {
        "collapsed": true,
        "gather": {
          "logged": 1598431657736
        },
        "jupyter": {
          "outputs_hidden": false,
          "source_hidden": false
        },
        "nteract": {
          "transient": {
            "deleting": false
          }
        }
      }
    },
    {
      "cell_type": "markdown",
      "source": [
        "TODO: In the cell below, print the logs of the web service and delete the service"
      ],
      "metadata": {
        "collapsed": true,
        "gather": {
          "logged": 1598432765711
        },
        "jupyter": {
          "outputs_hidden": false,
          "source_hidden": false
        },
        "nteract": {
          "transient": {
            "deleting": false
          }
        }
      }
    },
    {
      "cell_type": "code",
      "source": [
        "import requests\n",
        "import json\n",
        "\n",
        "# WebサービスのエンドポイントURL\n",
        "scoring_uri = service.scoring_uri\n",
        "\n",
        "# リクエストデータの作成\n",
        "input_data = {\n",
        "    \"data\": [\n",
        "        # リクエストのデータをここに追加する        \n",
        "        {\n",
        "            \"buying\":\"low\",\n",
        "            \"maint\":\"low\",\n",
        "            \"doors\":\"2\",\n",
        "            \"persons\":\"2\",\n",
        "            \"lug_boot\":\"small\"\n",
        "            \"safety\":\"low\"\n",
        "        }\n",
        "\n",
        "    ]\n",
        "}\n",
        "input_json = json.dumps(input_data)\n",
        "\n",
        "# リクエストの送信\n",
        "headers = {'Content-Type': 'application/json'}\n",
        "response = requests.post(scoring_uri, input_json, headers=headers)\n",
        "\n",
        "# レスポンスの取得\n",
        "predictions = response.json()\n"
      ],
      "outputs": [],
      "execution_count": null,
      "metadata": {
        "jupyter": {
          "outputs_hidden": false,
          "source_hidden": false
        },
        "nteract": {
          "transient": {
            "deleting": false
          }
        }
      }
    },
    {
      "cell_type": "code",
      "source": [
        "# Retrieve and print the logs\n",
        "logs = service.get_logs()\n",
        "print(logs)\n"
      ],
      "outputs": [],
      "execution_count": null,
      "metadata": {}
    },
    {
      "cell_type": "code",
      "source": [
        "# Delete the web service\n",
        "service.delete()\n"
      ],
      "outputs": [],
      "execution_count": null,
      "metadata": {}
    },
    {
      "cell_type": "markdown",
      "source": [
        "**Submission Checklist**\n",
        "- I have registered the model.\n",
        "- I have deployed the model with the best accuracy as a webservice.\n",
        "- I have tested the webservice by sending a request to the model endpoint.\n",
        "- I have deleted the webservice and shutdown all the computes that I have used.\n",
        "- I have taken a screenshot showing the model endpoint as active.\n",
        "- The project includes a file containing the environment details.\n"
      ],
      "metadata": {}
    },
    {
      "cell_type": "markdown",
      "source": [],
      "metadata": {}
    }
  ],
  "metadata": {
    "kernel_info": {
      "name": "python38-azureml"
    },
    "kernelspec": {
      "name": "python38-azureml",
      "language": "python",
      "display_name": "Python 3.8 - AzureML"
    },
    "language_info": {
      "name": "python",
      "version": "3.8.5",
      "mimetype": "text/x-python",
      "codemirror_mode": {
        "name": "ipython",
        "version": 3
      },
      "pygments_lexer": "ipython3",
      "nbconvert_exporter": "python",
      "file_extension": ".py"
    },
    "microsoft": {
      "host": {
        "AzureML": {
          "notebookHasBeenCompleted": true
        }
      },
      "ms_spell_check": {
        "ms_spell_check_language": "en"
      }
    },
    "nteract": {
      "version": "nteract-front-end@1.0.0"
    }
  },
  "nbformat": 4,
  "nbformat_minor": 2
}