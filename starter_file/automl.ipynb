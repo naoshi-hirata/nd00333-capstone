{
  "cells": [
    {
      "cell_type": "markdown",
      "source": [
        "# Automated ML\n",
        "\n",
        "TODO: Import Dependencies. In the cell below, import all the dependencies that you will need to complete the project."
      ],
      "metadata": {}
    },
    {
      "cell_type": "code",
      "source": [
        "!pip install --upgrade azureml-sdk\n"
      ],
      "outputs": [
        {
          "output_type": "stream",
          "name": "stdout",
          "text": "Collecting azureml-sdk\n  Downloading azureml_sdk-1.50.0-py3-none-any.whl (2.7 kB)\nCollecting azureml-train-automl-client~=1.50.0\n  Downloading azureml_train_automl_client-1.50.0-py3-none-any.whl (136 kB)\n\u001b[2K     \u001b[90m━━━━━━━━━━━━━━━━━━━━━━━━━━━━━━━━━━━━━━\u001b[0m \u001b[32m136.2/136.2 kB\u001b[0m \u001b[31m14.5 MB/s\u001b[0m eta \u001b[36m0:00:00\u001b[0m\n\u001b[?25hCollecting azureml-train-core~=1.50.0\n  Downloading azureml_train_core-1.50.0-py3-none-any.whl (8.6 MB)\n\u001b[2K     \u001b[90m━━━━━━━━━━━━━━━━━━━━━━━━━━━━━━━━━━━━━━━━\u001b[0m \u001b[32m8.6/8.6 MB\u001b[0m \u001b[31m76.3 MB/s\u001b[0m eta \u001b[36m0:00:00\u001b[0m:00:01\u001b[0m00:01\u001b[0m\n\u001b[?25hCollecting azureml-dataset-runtime[fuse]~=1.50.0\n  Downloading azureml_dataset_runtime-1.50.0-py3-none-any.whl (2.3 kB)\nCollecting azureml-core~=1.50.0\n  Downloading azureml_core-1.50.0-py3-none-any.whl (3.3 MB)\n\u001b[2K     \u001b[90m━━━━━━━━━━━━━━━━━━━━━━━━━━━━━━━━━━━━━━━━\u001b[0m \u001b[32m3.3/3.3 MB\u001b[0m \u001b[31m81.9 MB/s\u001b[0m eta \u001b[36m0:00:00\u001b[0m:00:01\u001b[0m\n\u001b[?25hCollecting azureml-pipeline~=1.50.0\n  Downloading azureml_pipeline-1.50.0-py3-none-any.whl (2.4 kB)\nRequirement already satisfied: pathspec<1.0.0 in /anaconda/envs/jupyter_env/lib/python3.8/site-packages (from azureml-core~=1.50.0->azureml-sdk) (0.11.1)\nRequirement already satisfied: SecretStorage<4.0.0 in /anaconda/envs/jupyter_env/lib/python3.8/site-packages (from azureml-core~=1.50.0->azureml-sdk) (3.3.3)\nRequirement already satisfied: backports.tempfile in /anaconda/envs/jupyter_env/lib/python3.8/site-packages (from azureml-core~=1.50.0->azureml-sdk) (1.0)\nRequirement already satisfied: packaging<=23.0,>=20.0 in /anaconda/envs/jupyter_env/lib/python3.8/site-packages (from azureml-core~=1.50.0->azureml-sdk) (21.3)\nRequirement already satisfied: python-dateutil<3.0.0,>=2.7.3 in /anaconda/envs/jupyter_env/lib/python3.8/site-packages (from azureml-core~=1.50.0->azureml-sdk) (2.8.2)\nRequirement already satisfied: PyJWT<3.0.0 in /anaconda/envs/jupyter_env/lib/python3.8/site-packages (from azureml-core~=1.50.0->azureml-sdk) (2.6.0)\nRequirement already satisfied: contextlib2<22.0.0 in /anaconda/envs/jupyter_env/lib/python3.8/site-packages (from azureml-core~=1.50.0->azureml-sdk) (21.6.0)\nRequirement already satisfied: azure-common<2.0.0,>=1.1.12 in /anaconda/envs/jupyter_env/lib/python3.8/site-packages (from azureml-core~=1.50.0->azureml-sdk) (1.1.28)\nRequirement already satisfied: azure-graphrbac<1.0.0,>=0.40.0 in /anaconda/envs/jupyter_env/lib/python3.8/site-packages (from azureml-core~=1.50.0->azureml-sdk) (0.61.1)\nRequirement already satisfied: msrest<=0.7.1,>=0.5.1 in /anaconda/envs/jupyter_env/lib/python3.8/site-packages (from azureml-core~=1.50.0->azureml-sdk) (0.7.1)\nRequirement already satisfied: azure-mgmt-authorization<4,>=0.40.0 in /anaconda/envs/jupyter_env/lib/python3.8/site-packages (from azureml-core~=1.50.0->azureml-sdk) (3.0.0)\nRequirement already satisfied: jsonpickle<4.0.0 in /anaconda/envs/jupyter_env/lib/python3.8/site-packages (from azureml-core~=1.50.0->azureml-sdk) (2.2.0)\nRequirement already satisfied: ndg-httpsclient<=0.5.1 in /anaconda/envs/jupyter_env/lib/python3.8/site-packages (from azureml-core~=1.50.0->azureml-sdk) (0.5.1)\nRequirement already satisfied: msal-extensions<=1.0.0,>=0.3.0 in /anaconda/envs/jupyter_env/lib/python3.8/site-packages (from azureml-core~=1.50.0->azureml-sdk) (1.0.0)\nRequirement already satisfied: urllib3<2.0.0,>=1.23 in /anaconda/envs/jupyter_env/lib/python3.8/site-packages (from azureml-core~=1.50.0->azureml-sdk) (1.26.15)\nRequirement already satisfied: argcomplete<3 in /anaconda/envs/jupyter_env/lib/python3.8/site-packages (from azureml-core~=1.50.0->azureml-sdk) (2.1.2)\nRequirement already satisfied: pytz in /anaconda/envs/jupyter_env/lib/python3.8/site-packages (from azureml-core~=1.50.0->azureml-sdk) (2023.3)\nRequirement already satisfied: jmespath<2.0.0 in /anaconda/envs/jupyter_env/lib/python3.8/site-packages (from azureml-core~=1.50.0->azureml-sdk) (1.0.1)\nRequirement already satisfied: pkginfo in /anaconda/envs/jupyter_env/lib/python3.8/site-packages (from azureml-core~=1.50.0->azureml-sdk) (1.9.6)\nRequirement already satisfied: msrestazure<=0.6.4,>=0.4.33 in /anaconda/envs/jupyter_env/lib/python3.8/site-packages (from azureml-core~=1.50.0->azureml-sdk) (0.6.4)\nRequirement already satisfied: humanfriendly<11.0,>=4.7 in /anaconda/envs/jupyter_env/lib/python3.8/site-packages (from azureml-core~=1.50.0->azureml-sdk) (10.0)\nRequirement already satisfied: msal<2.0.0,>=1.15.0 in /anaconda/envs/jupyter_env/lib/python3.8/site-packages (from azureml-core~=1.50.0->azureml-sdk) (1.21.0)\nRequirement already satisfied: cryptography!=1.9,!=2.0.*,!=2.1.*,!=2.2.*,<41 in /anaconda/envs/jupyter_env/lib/python3.8/site-packages (from azureml-core~=1.50.0->azureml-sdk) (40.0.1)\nRequirement already satisfied: adal<=1.2.7,>=1.2.0 in /anaconda/envs/jupyter_env/lib/python3.8/site-packages (from azureml-core~=1.50.0->azureml-sdk) (1.2.7)\nRequirement already satisfied: requests[socks]<3.0.0,>=2.19.1 in /anaconda/envs/jupyter_env/lib/python3.8/site-packages (from azureml-core~=1.50.0->azureml-sdk) (2.28.2)\nRequirement already satisfied: azure-mgmt-containerregistry<11,>=8.2.0 in /anaconda/envs/jupyter_env/lib/python3.8/site-packages (from azureml-core~=1.50.0->azureml-sdk) (10.1.0)\nRequirement already satisfied: knack~=0.10.0 in /anaconda/envs/jupyter_env/lib/python3.8/site-packages (from azureml-core~=1.50.0->azureml-sdk) (0.10.1)\nRequirement already satisfied: azure-mgmt-keyvault<11.0.0,>=0.40.0 in /anaconda/envs/jupyter_env/lib/python3.8/site-packages (from azureml-core~=1.50.0->azureml-sdk) (10.2.1)\nRequirement already satisfied: docker<7.0.0 in /anaconda/envs/jupyter_env/lib/python3.8/site-packages (from azureml-core~=1.50.0->azureml-sdk) (6.0.1)\nRequirement already satisfied: paramiko<4.0.0,>=2.0.8 in /anaconda/envs/jupyter_env/lib/python3.8/site-packages (from azureml-core~=1.50.0->azureml-sdk) (2.12.0)\nRequirement already satisfied: azure-mgmt-resource<=22.0.0,>=15.0.0 in /anaconda/envs/jupyter_env/lib/python3.8/site-packages (from azureml-core~=1.50.0->azureml-sdk) (21.2.1)\nRequirement already satisfied: pyopenssl<24.0.0 in /anaconda/envs/jupyter_env/lib/python3.8/site-packages (from azureml-core~=1.50.0->azureml-sdk) (23.1.1)\nRequirement already satisfied: azure-mgmt-storage<=21.0.0,>=16.0.0 in /anaconda/envs/jupyter_env/lib/python3.8/site-packages (from azureml-core~=1.50.0->azureml-sdk) (20.1.0)\nRequirement already satisfied: azure-core<2.0.0 in /anaconda/envs/jupyter_env/lib/python3.8/site-packages (from azureml-core~=1.50.0->azureml-sdk) (1.26.4)\nCollecting pyarrow<=9.0.0,>=0.17.0\n  Downloading pyarrow-9.0.0-cp38-cp38-manylinux_2_17_x86_64.manylinux2014_x86_64.whl (35.3 MB)\n\u001b[2K     \u001b[90m━━━━━━━━━━━━━━━━━━━━━━━━━━━━━━━━━━━━━━━━\u001b[0m \u001b[32m35.3/35.3 MB\u001b[0m \u001b[31m35.4 MB/s\u001b[0m eta \u001b[36m0:00:00\u001b[0m00:01\u001b[0m00:01\u001b[0m\n\u001b[?25hCollecting numpy!=1.19.3,<1.24\n  Downloading numpy-1.23.5-cp38-cp38-manylinux_2_17_x86_64.manylinux2014_x86_64.whl (17.1 MB)\n\u001b[2K     \u001b[90m━━━━━━━━━━━━━━━━━━━━━━━━━━━━━━━━━━━━━━━━\u001b[0m \u001b[32m17.1/17.1 MB\u001b[0m \u001b[31m74.7 MB/s\u001b[0m eta \u001b[36m0:00:00\u001b[0m00:01\u001b[0m00:01\u001b[0m\n\u001b[?25hCollecting azureml-dataprep<4.11.0a,>=4.10.0a\n  Downloading azureml_dataprep-4.10.7-py3-none-any.whl (38.2 MB)\n\u001b[2K     \u001b[90m━━━━━━━━━━━━━━━━━━━━━━━━━━━━━━━━━━━━━━━━\u001b[0m \u001b[32m38.2/38.2 MB\u001b[0m \u001b[31m34.5 MB/s\u001b[0m eta \u001b[36m0:00:00\u001b[0m00:01\u001b[0m00:01\u001b[0m\n\u001b[?25hCollecting fusepy<4.0.0,>=3.0.1\n  Downloading fusepy-3.0.1.tar.gz (11 kB)\n  Preparing metadata (setup.py) ... \u001b[?25l-\b \bdone\n\u001b[?25hCollecting azureml-pipeline-steps~=1.50.0\n  Downloading azureml_pipeline_steps-1.50.0-py3-none-any.whl (69 kB)\n\u001b[2K     \u001b[90m━━━━━━━━━━━━━━━━━━━━━━━━━━━━━━━━━━━━━━━━\u001b[0m \u001b[32m69.5/69.5 kB\u001b[0m \u001b[31m9.6 MB/s\u001b[0m eta \u001b[36m0:00:00\u001b[0m\n\u001b[?25hCollecting azureml-pipeline-core~=1.50.0\n  Downloading azureml_pipeline_core-1.50.0.post1-py3-none-any.whl (312 kB)\n\u001b[2K     \u001b[90m━━━━━━━━━━━━━━━━━━━━━━━━━━━━━━━━━━━━━━\u001b[0m \u001b[32m312.9/312.9 kB\u001b[0m \u001b[31m34.2 MB/s\u001b[0m eta \u001b[36m0:00:00\u001b[0m\n\u001b[?25hCollecting azureml-telemetry~=1.50.0\n  Downloading azureml_telemetry-1.50.0-py3-none-any.whl (30 kB)\nCollecting azureml-automl-core~=1.50.0\n  Downloading azureml_automl_core-1.50.0-py3-none-any.whl (245 kB)\n\u001b[2K     \u001b[90m━━━━━━━━━━━━━━━━━━━━━━━━━━━━━━━━━━━━━━\u001b[0m \u001b[32m245.4/245.4 kB\u001b[0m \u001b[31m22.7 MB/s\u001b[0m eta \u001b[36m0:00:00\u001b[0m\n\u001b[?25hCollecting azureml-train-restclients-hyperdrive~=1.50.0\n  Downloading azureml_train_restclients_hyperdrive-1.50.0-py3-none-any.whl (18 kB)\nRequirement already satisfied: typing-extensions>=4.3.0 in /anaconda/envs/jupyter_env/lib/python3.8/site-packages (from azure-core<2.0.0->azureml-core~=1.50.0->azureml-sdk) (4.5.0)\nRequirement already satisfied: six>=1.11.0 in /anaconda/envs/jupyter_env/lib/python3.8/site-packages (from azure-core<2.0.0->azureml-core~=1.50.0->azureml-sdk) (1.16.0)\nRequirement already satisfied: azure-mgmt-core<2.0.0,>=1.3.2 in /anaconda/envs/jupyter_env/lib/python3.8/site-packages (from azure-mgmt-authorization<4,>=0.40.0->azureml-core~=1.50.0->azureml-sdk) (1.4.0)\nRequirement already satisfied: isodate<1.0.0,>=0.6.1 in /anaconda/envs/jupyter_env/lib/python3.8/site-packages (from azure-mgmt-keyvault<11.0.0,>=0.40.0->azureml-core~=1.50.0->azureml-sdk) (0.6.1)\nCollecting azureml-dataprep-native<39.0.0,>=38.0.0\n  Downloading azureml_dataprep_native-38.0.0-cp38-cp38-manylinux1_x86_64.whl (1.4 MB)\n\u001b[2K     \u001b[90m━━━━━━━━━━━━━━━━━━━━━━━━━━━━━━━━━━━━━━━━\u001b[0m \u001b[32m1.4/1.4 MB\u001b[0m \u001b[31m52.0 MB/s\u001b[0m eta \u001b[36m0:00:00\u001b[0m\n\u001b[?25hRequirement already satisfied: dotnetcore2<4.0.0,>=3.0.0 in /anaconda/envs/jupyter_env/lib/python3.8/site-packages (from azureml-dataprep<4.11.0a,>=4.10.0a->azureml-dataset-runtime[fuse]~=1.50.0->azureml-sdk) (3.1.23)\nRequirement already satisfied: pyyaml<7.0.0,>=5.1.0 in /anaconda/envs/jupyter_env/lib/python3.8/site-packages (from azureml-dataprep<4.11.0a,>=4.10.0a->azureml-dataset-runtime[fuse]~=1.50.0->azureml-sdk) (6.0)\nCollecting azure-identity>=1.7.0\n  Downloading azure_identity-1.13.0-py3-none-any.whl (151 kB)\n\u001b[2K     \u001b[90m━━━━━━━━━━━━━━━━━━━━━━━━━━━━━━━━━━━━━━\u001b[0m \u001b[32m151.6/151.6 kB\u001b[0m \u001b[31m11.5 MB/s\u001b[0m eta \u001b[36m0:00:00\u001b[0m\n\u001b[?25hRequirement already satisfied: jsonschema in /anaconda/envs/jupyter_env/lib/python3.8/site-packages (from azureml-dataprep<4.11.0a,>=4.10.0a->azureml-dataset-runtime[fuse]~=1.50.0->azureml-sdk) (4.17.3)\nCollecting azureml-dataprep-rslex~=2.17.6dev0\n  Downloading azureml_dataprep_rslex-2.17.11-cp38-cp38-manylinux_2_17_x86_64.manylinux2014_x86_64.whl (20.2 MB)\n\u001b[2K     \u001b[90m━━━━━━━━━━━━━━━━━━━━━━━━━━━━━━━━━━━━━━━━\u001b[0m \u001b[32m20.2/20.2 MB\u001b[0m \u001b[31m70.1 MB/s\u001b[0m eta \u001b[36m0:00:00\u001b[0m00:01\u001b[0m00:01\u001b[0m\n\u001b[?25hRequirement already satisfied: cloudpickle<3.0.0,>=1.1.0 in /anaconda/envs/jupyter_env/lib/python3.8/site-packages (from azureml-dataprep<4.11.0a,>=4.10.0a->azureml-dataset-runtime[fuse]~=1.50.0->azureml-sdk) (2.2.1)\nRequirement already satisfied: applicationinsights in /anaconda/envs/jupyter_env/lib/python3.8/site-packages (from azureml-telemetry~=1.50.0->azureml-train-automl-client~=1.50.0->azureml-sdk) (0.11.10)\nRequirement already satisfied: cffi>=1.12 in /anaconda/envs/jupyter_env/lib/python3.8/site-packages (from cryptography!=1.9,!=2.0.*,!=2.1.*,!=2.2.*,<41->azureml-core~=1.50.0->azureml-sdk) (1.15.1)\nRequirement already satisfied: websocket-client>=0.32.0 in /anaconda/envs/jupyter_env/lib/python3.8/site-packages (from docker<7.0.0->azureml-core~=1.50.0->azureml-sdk) (1.5.1)\nRequirement already satisfied: tabulate in /anaconda/envs/jupyter_env/lib/python3.8/site-packages (from knack~=0.10.0->azureml-core~=1.50.0->azureml-sdk) (0.9.0)\nRequirement already satisfied: pygments in /anaconda/envs/jupyter_env/lib/python3.8/site-packages (from knack~=0.10.0->azureml-core~=1.50.0->azureml-sdk) (2.14.0)\nRequirement already satisfied: portalocker<3,>=1.0 in /anaconda/envs/jupyter_env/lib/python3.8/site-packages (from msal-extensions<=1.0.0,>=0.3.0->azureml-core~=1.50.0->azureml-sdk) (2.7.0)\nRequirement already satisfied: requests-oauthlib>=0.5.0 in /anaconda/envs/jupyter_env/lib/python3.8/site-packages (from msrest<=0.7.1,>=0.5.1->azureml-core~=1.50.0->azureml-sdk) (1.3.1)\nRequirement already satisfied: certifi>=2017.4.17 in /anaconda/envs/jupyter_env/lib/python3.8/site-packages (from msrest<=0.7.1,>=0.5.1->azureml-core~=1.50.0->azureml-sdk) (2022.12.7)\nRequirement already satisfied: pyasn1>=0.1.1 in /anaconda/envs/jupyter_env/lib/python3.8/site-packages (from ndg-httpsclient<=0.5.1->azureml-core~=1.50.0->azureml-sdk) (0.4.8)\nRequirement already satisfied: pyparsing!=3.0.5,>=2.0.2 in /anaconda/envs/jupyter_env/lib/python3.8/site-packages (from packaging<=23.0,>=20.0->azureml-core~=1.50.0->azureml-sdk) (3.0.9)\nRequirement already satisfied: pynacl>=1.0.1 in /anaconda/envs/jupyter_env/lib/python3.8/site-packages (from paramiko<4.0.0,>=2.0.8->azureml-core~=1.50.0->azureml-sdk) (1.5.0)\nRequirement already satisfied: bcrypt>=3.1.3 in /anaconda/envs/jupyter_env/lib/python3.8/site-packages (from paramiko<4.0.0,>=2.0.8->azureml-core~=1.50.0->azureml-sdk) (4.0.1)\nRequirement already satisfied: idna<4,>=2.5 in /anaconda/envs/jupyter_env/lib/python3.8/site-packages (from requests[socks]<3.0.0,>=2.19.1->azureml-core~=1.50.0->azureml-sdk) (3.4)\nRequirement already satisfied: charset-normalizer<4,>=2 in /anaconda/envs/jupyter_env/lib/python3.8/site-packages (from requests[socks]<3.0.0,>=2.19.1->azureml-core~=1.50.0->azureml-sdk) (3.1.0)\nRequirement already satisfied: PySocks!=1.5.7,>=1.5.6 in /anaconda/envs/jupyter_env/lib/python3.8/site-packages (from requests[socks]<3.0.0,>=2.19.1->azureml-core~=1.50.0->azureml-sdk) (1.7.1)\nRequirement already satisfied: jeepney>=0.6 in /anaconda/envs/jupyter_env/lib/python3.8/site-packages (from SecretStorage<4.0.0->azureml-core~=1.50.0->azureml-sdk) (0.8.0)\nRequirement already satisfied: backports.weakref in /anaconda/envs/jupyter_env/lib/python3.8/site-packages (from backports.tempfile->azureml-core~=1.50.0->azureml-sdk) (1.0.post1)\nRequirement already satisfied: pycparser in /anaconda/envs/jupyter_env/lib/python3.8/site-packages (from cffi>=1.12->cryptography!=1.9,!=2.0.*,!=2.1.*,!=2.2.*,<41->azureml-core~=1.50.0->azureml-sdk) (2.21)\nRequirement already satisfied: distro>=1.2.0 in /anaconda/envs/jupyter_env/lib/python3.8/site-packages (from dotnetcore2<4.0.0,>=3.0.0->azureml-dataprep<4.11.0a,>=4.10.0a->azureml-dataset-runtime[fuse]~=1.50.0->azureml-sdk) (1.8.0)\nRequirement already satisfied: oauthlib>=3.0.0 in /anaconda/envs/jupyter_env/lib/python3.8/site-packages (from requests-oauthlib>=0.5.0->msrest<=0.7.1,>=0.5.1->azureml-core~=1.50.0->azureml-sdk) (3.2.2)\nRequirement already satisfied: pyrsistent!=0.17.0,!=0.17.1,!=0.17.2,>=0.14.0 in /anaconda/envs/jupyter_env/lib/python3.8/site-packages (from jsonschema->azureml-dataprep<4.11.0a,>=4.10.0a->azureml-dataset-runtime[fuse]~=1.50.0->azureml-sdk) (0.19.3)\nRequirement already satisfied: attrs>=17.4.0 in /anaconda/envs/jupyter_env/lib/python3.8/site-packages (from jsonschema->azureml-dataprep<4.11.0a,>=4.10.0a->azureml-dataset-runtime[fuse]~=1.50.0->azureml-sdk) (22.2.0)\nRequirement already satisfied: importlib-resources>=1.4.0 in /anaconda/envs/jupyter_env/lib/python3.8/site-packages (from jsonschema->azureml-dataprep<4.11.0a,>=4.10.0a->azureml-dataset-runtime[fuse]~=1.50.0->azureml-sdk) (5.12.0)\nRequirement already satisfied: pkgutil-resolve-name>=1.3.10 in /anaconda/envs/jupyter_env/lib/python3.8/site-packages (from jsonschema->azureml-dataprep<4.11.0a,>=4.10.0a->azureml-dataset-runtime[fuse]~=1.50.0->azureml-sdk) (1.3.10)\nRequirement already satisfied: zipp>=3.1.0 in /anaconda/envs/jupyter_env/lib/python3.8/site-packages (from importlib-resources>=1.4.0->jsonschema->azureml-dataprep<4.11.0a,>=4.10.0a->azureml-dataset-runtime[fuse]~=1.50.0->azureml-sdk) (3.15.0)\nBuilding wheels for collected packages: fusepy\n  Building wheel for fusepy (setup.py) ... \u001b[?25l-\b \b\\\b \bdone\n\u001b[?25h  Created wheel for fusepy: filename=fusepy-3.0.1-py3-none-any.whl size=10486 sha256=c1cec0edc42a60c4f2a32681c7297ffc1ade264701a0e4244c53e20acd664fd2\n  Stored in directory: /home/azureuser/.cache/pip/wheels/db/01/ee/105147547cf0ecd1031b26901757e1f17c98902c8cc7bcaa47\nSuccessfully built fusepy\nInstalling collected packages: fusepy, azureml-dataprep-rslex, azureml-dataprep-native, numpy, pyarrow, azureml-train-restclients-hyperdrive, azureml-core, azure-identity, azureml-telemetry, azureml-pipeline-core, azureml-dataprep, azureml-train-core, azureml-dataset-runtime, azureml-automl-core, azureml-train-automl-client, azureml-pipeline-steps, azureml-pipeline, azureml-sdk\n  Attempting uninstall: numpy\n    Found existing installation: numpy 1.24.2\n    Uninstalling numpy-1.24.2:\n      Successfully uninstalled numpy-1.24.2\n  Attempting uninstall: azureml-core\n    Found existing installation: azureml-core 1.49.0\n    Uninstalling azureml-core-1.49.0:\n      Successfully uninstalled azureml-core-1.49.0\n  Attempting uninstall: azureml-telemetry\n    Found existing installation: azureml-telemetry 1.49.0\n    Uninstalling azureml-telemetry-1.49.0:\n      Successfully uninstalled azureml-telemetry-1.49.0\n\u001b[31mERROR: pip's dependency resolver does not currently take into account all the packages that are installed. This behaviour is the source of the following dependency conflicts.\nazureml-widgets 1.49.0 requires azureml-core~=1.49.0, but you have azureml-core 1.50.0 which is incompatible.\nazureml-widgets 1.49.0 requires azureml-telemetry~=1.49.0, but you have azureml-telemetry 1.50.0 which is incompatible.\nazureml-widgets 1.49.0 requires jinja2<=2.11.2, but you have jinja2 3.0.3 which is incompatible.\u001b[0m\u001b[31m\n\u001b[0mSuccessfully installed azure-identity-1.13.0 azureml-automl-core-1.50.0 azureml-core-1.50.0 azureml-dataprep-4.10.7 azureml-dataprep-native-38.0.0 azureml-dataprep-rslex-2.17.11 azureml-dataset-runtime-1.50.0 azureml-pipeline-1.50.0 azureml-pipeline-core-1.50.0.post1 azureml-pipeline-steps-1.50.0 azureml-sdk-1.50.0 azureml-telemetry-1.50.0 azureml-train-automl-client-1.50.0 azureml-train-core-1.50.0 azureml-train-restclients-hyperdrive-1.50.0 fusepy-3.0.1 numpy-1.23.5 pyarrow-9.0.0\nNote: you may need to restart the kernel to use updated packages.\n"
        }
      ],
      "execution_count": 4,
      "metadata": {
        "gather": {
          "logged": 1684477071072
        },
        "jupyter": {
          "outputs_hidden": true,
          "source_hidden": false
        },
        "nteract": {
          "transient": {
            "deleting": false
          }
        }
      }
    },
    {
      "cell_type": "code",
      "source": [
        "import logging\n",
        "import os\n",
        "import csv\n",
        "\n",
        "#from matplotlib import pyplot as plt\n",
        "import numpy as np\n",
        "import pandas as pd\n",
        "#from sklearn import datasets\n",
        "import pkg_resources\n",
        "\n",
        "import azureml.core\n",
        "from azureml.core.experiment import Experiment\n",
        "from azureml.core.workspace import Workspace\n",
        "from azureml.train.automl import AutoMLConfig\n",
        "from azureml.core.dataset import Dataset\n",
        "\n",
        "from azureml.pipeline.steps import AutoMLStep"
      ],
      "outputs": [],
      "execution_count": 1,
      "metadata": {
        "gather": {
          "logged": 1685425199874
        },
        "jupyter": {
          "outputs_hidden": false,
          "source_hidden": false
        },
        "nteract": {
          "transient": {
            "deleting": false
          }
        }
      }
    },
    {
      "cell_type": "markdown",
      "source": [
        "## Dataset\n",
        "\n",
        "### Overview\n",
        "TODO: In this markdown cell, give an overview of the dataset you are using. Also mention the task you will be performing.\n",
        "\n",
        "\n",
        "TODO: Get data. In the cell below, write code to access the data you will be using in this project. Remember that the dataset needs to be external."
      ],
      "metadata": {}
    },
    {
      "cell_type": "markdown",
      "source": [
        "Title: Car Evaluation Database\n",
        "\n",
        "Task: To create the hierarchical decision model\n",
        "\n",
        "This model evaluates cars according to the following concept structure:\n",
        "\n",
        " CAR:car acceptability;\n",
        "\n",
        " buying:buying price;v-high, high, med, low\n",
        " \n",
        " maint:price of the maintenance;v-high, high, med, low\n",
        " \n",
        " doors:number of doors;2, 3, 4, 5-more\n",
        " \n",
        " persons:capacity in terms of persons to carry;2, 4, more\n",
        " \n",
        " lug_boot:the size of luggage boot;small, med, big\n",
        " \n",
        " safety:estimated safety of the car;low, med, high\n",
        "  \n",
        "Class Distribution;unacc,acc,good,v-good"
      ],
      "metadata": {
        "nteract": {
          "transient": {
            "deleting": false
          }
        }
      }
    },
    {
      "cell_type": "code",
      "source": [
        "ws = Workspace.from_config()\n",
        "\n",
        "# choose a name for experiment\n",
        "experiment_name = 'auto-ml'\n",
        "project_folder = './project'\n",
        "\n",
        "experiment=Experiment(ws, experiment_name)"
      ],
      "outputs": [],
      "execution_count": 2,
      "metadata": {
        "gather": {
          "logged": 1685425214960
        },
        "jupyter": {
          "outputs_hidden": false,
          "source_hidden": false
        },
        "nteract": {
          "transient": {
            "deleting": false
          }
        }
      }
    },
    {
      "cell_type": "code",
      "source": [
        "from azureml.core.compute import AmlCompute\n",
        "from azureml.core.compute import ComputeTarget\n",
        "from azureml.core.compute_target import ComputeTargetException\n",
        "\n",
        "# Create the cluster\n",
        "amlcompute_cluster_name = \"auto-ml\"\n",
        "\n",
        "compute_config = AmlCompute.provisioning_configuration(vm_size='STANDARD_D2_V2',\n",
        "    # for GPU, use \"STANDARD_NC6\"\n",
        "    #vm_priority = 'lowpriority', # optional\n",
        "    max_nodes=4)\n",
        "compute_target = ComputeTarget.create(ws, amlcompute_cluster_name, compute_config)\n",
        "\n",
        "compute_target.wait_for_completion(show_output=True, min_node_count = 1, timeout_in_minutes = 20) # timeout 10 to 20min\n",
        "# For a more detailed view of current AmlCompute status, use get_status()."
      ],
      "outputs": [
        {
          "output_type": "stream",
          "name": "stdout",
          "text": "InProgress.\nSucceededProvisioning operation finished, operation \"Succeeded\"\nSucceeded..........................................................................................................................................................................................................................................\nAmlCompute wait for completion finished\n\nWait timeout has been reached\nCurrent provisioning state of AmlCompute is \"Succeeded\" and current node count is \"0\"\n"
        }
      ],
      "execution_count": 3,
      "metadata": {
        "gather": {
          "logged": 1685426437078
        },
        "jupyter": {
          "outputs_hidden": false,
          "source_hidden": false
        },
        "nteract": {
          "transient": {
            "deleting": false
          }
        }
      }
    },
    {
      "cell_type": "code",
      "source": [
        "# Create AML Dataset and register it into Workspace\n",
        "key='car evaluation data set'\n",
        "data = 'https://archive.ics.uci.edu/ml/machine-learning-databases/car/car.data'\n",
        "\n",
        "df = pd.read_csv(data)\n",
        "columns = ['buying', 'maint', 'doors', 'persons', 'lug_boot', 'safety', 'class']\n",
        "df.columns = columns\n",
        "\n",
        "# Convert the DataFrame to a TabularDataset\n",
        "dataset = Dataset.Tabular.register_pandas_dataframe(\n",
        "    dataframe=df, \n",
        "    target=(ws.get_default_datastore(), key), \n",
        "    name=key, \n",
        "    description='Dataset description')\n",
        "\n",
        "df.describe()\n"
      ],
      "outputs": [
        {
          "output_type": "stream",
          "name": "stdout",
          "text": "Validating arguments.\nArguments validated.\nSuccessfully obtained datastore reference and path.\nUploading file to car evaluation data set/765c296e-5d1e-48e6-8463-3c549fe0e03a/\nSuccessfully uploaded file to datastore.\nCreating and registering a new dataset.\nSuccessfully created and registered a new dataset.\n"
        },
        {
          "output_type": "execute_result",
          "execution_count": 4,
          "data": {
            "text/plain": "       buying maint doors persons lug_boot safety  class\ncount    1727  1727  1727    1727     1727   1727   1727\nunique      4     4     4       3        3      3      4\ntop       low   low     3       4      med   high  unacc\nfreq      432   432   432     576      576    576   1209",
            "text/html": "<div>\n<style scoped>\n    .dataframe tbody tr th:only-of-type {\n        vertical-align: middle;\n    }\n\n    .dataframe tbody tr th {\n        vertical-align: top;\n    }\n\n    .dataframe thead th {\n        text-align: right;\n    }\n</style>\n<table border=\"1\" class=\"dataframe\">\n  <thead>\n    <tr style=\"text-align: right;\">\n      <th></th>\n      <th>buying</th>\n      <th>maint</th>\n      <th>doors</th>\n      <th>persons</th>\n      <th>lug_boot</th>\n      <th>safety</th>\n      <th>class</th>\n    </tr>\n  </thead>\n  <tbody>\n    <tr>\n      <th>count</th>\n      <td>1727</td>\n      <td>1727</td>\n      <td>1727</td>\n      <td>1727</td>\n      <td>1727</td>\n      <td>1727</td>\n      <td>1727</td>\n    </tr>\n    <tr>\n      <th>unique</th>\n      <td>4</td>\n      <td>4</td>\n      <td>4</td>\n      <td>3</td>\n      <td>3</td>\n      <td>3</td>\n      <td>4</td>\n    </tr>\n    <tr>\n      <th>top</th>\n      <td>low</td>\n      <td>low</td>\n      <td>3</td>\n      <td>4</td>\n      <td>med</td>\n      <td>high</td>\n      <td>unacc</td>\n    </tr>\n    <tr>\n      <th>freq</th>\n      <td>432</td>\n      <td>432</td>\n      <td>432</td>\n      <td>576</td>\n      <td>576</td>\n      <td>576</td>\n      <td>1209</td>\n    </tr>\n  </tbody>\n</table>\n</div>"
          },
          "metadata": {}
        }
      ],
      "execution_count": 4,
      "metadata": {
        "gather": {
          "logged": 1685426445397
        },
        "jupyter": {
          "outputs_hidden": false,
          "source_hidden": false
        },
        "nteract": {
          "transient": {
            "deleting": false
          }
        }
      }
    },
    {
      "cell_type": "markdown",
      "source": [
        "## AutoML Configuration\n",
        "\n",
        "TODO: Explain why you chose the automl settings and cofiguration you used below."
      ],
      "metadata": {}
    },
    {
      "cell_type": "markdown",
      "source": [
        "Automl setting\n",
        "\n",
        " - experiment time out minutes; to avoid endless working\n",
        "\n",
        " - max concurrent iterations; between cost and performance\n",
        "\n",
        " - primary metric; AUC is a widely used metric to evaluate the performance of binary classifiers. The weighted version extends it to multi-class classification by considering the class imbalance when computing the average AUC across classes. \n",
        "\n",
        "Automl configuration\n",
        "\n",
        " - task = \"classification\"; To make classification model\n",
        "\n",
        " - label_column_name=\"class\"; This column gives evalation result\n",
        "\n",
        " - enable_early_stopping= True; To save cost at score improvement small\n",
        "\n",
        " - featurization= 'auto'; Automated separation for training data and test data\n"
      ],
      "metadata": {
        "nteract": {
          "transient": {
            "deleting": false
          }
        }
      }
    },
    {
      "cell_type": "code",
      "source": [
        "# TODO: Put your automl settings here\n",
        "automl_settings = {\n",
        "    \"experiment_timeout_minutes\": 20,\n",
        "    \"max_concurrent_iterations\": 5,\n",
        "    \"primary_metric\" : 'AUC_weighted'\n",
        "}\n",
        "# TODO: Put your automl config here\n",
        "automl_config = AutoMLConfig(compute_target=compute_target,\n",
        "                             task = \"classification\",\n",
        "                             training_data=dataset,\n",
        "                             label_column_name=\"class\",   \n",
        "                             path = project_folder,\n",
        "                             enable_early_stopping= True,\n",
        "                             featurization= 'auto',\n",
        "                             debug_log = \"automl_errors.log\",\n",
        "                             **automl_settings\n",
        "                            )"
      ],
      "outputs": [],
      "execution_count": 5,
      "metadata": {
        "gather": {
          "logged": 1685426626985
        },
        "jupyter": {
          "outputs_hidden": false,
          "source_hidden": false
        },
        "nteract": {
          "transient": {
            "deleting": false
          }
        }
      }
    },
    {
      "cell_type": "code",
      "source": [
        "# TODO: Submit your experiment\n",
        "\n",
        "remote_run = experiment.submit(automl_config)\n"
      ],
      "outputs": [
        {
          "output_type": "stream",
          "name": "stdout",
          "text": "Submitting remote run.\n"
        },
        {
          "output_type": "display_data",
          "data": {
            "text/plain": "<IPython.core.display.HTML object>",
            "text/html": "<table style=\"width:100%\"><tr><th>Experiment</th><th>Id</th><th>Type</th><th>Status</th><th>Details Page</th><th>Docs Page</th></tr><tr><td>auto-ml</td><td>AutoML_be24dc51-7db8-4bba-acf6-66cc51cb5b96</td><td>automl</td><td>NotStarted</td><td><a href=\"https://ml.azure.com/runs/AutoML_be24dc51-7db8-4bba-acf6-66cc51cb5b96?wsid=/subscriptions/aa7cf8e8-d23f-4bce-a7b9-1f0b4e0ac8ee/resourcegroups/aml-quickstarts-234630/workspaces/quick-starts-ws-234630&amp;tid=660b3398-b80e-49d2-bc5b-ac1dc93b5254\" target=\"_blank\" rel=\"noopener\">Link to Azure Machine Learning studio</a></td><td><a href=\"https://docs.microsoft.com/en-us/python/api/overview/azure/ml/intro?view=azure-ml-py\" target=\"_blank\" rel=\"noopener\">Link to Documentation</a></td></tr></table>"
          },
          "metadata": {}
        }
      ],
      "execution_count": 6,
      "metadata": {
        "gather": {
          "logged": 1685426689444
        },
        "jupyter": {
          "outputs_hidden": false,
          "source_hidden": false
        },
        "nteract": {
          "transient": {
            "deleting": false
          }
        }
      }
    },
    {
      "cell_type": "markdown",
      "source": [
        "## Run Details\n",
        "\n",
        "OPTIONAL: Write about the different models trained and their performance. Why do you think some models did better than others?\n",
        "\n",
        "TODO: In the cell below, use the `RunDetails` widget to show the different experiments."
      ],
      "metadata": {}
    },
    {
      "cell_type": "code",
      "source": [
        "from azureml.widgets import RunDetails\n",
        "\n",
        "RunDetails(remote_run).show()"
      ],
      "outputs": [
        {
          "output_type": "display_data",
          "data": {
            "text/plain": "_AutoMLWidget(widget_settings={'childWidgetDisplay': 'popup', 'send_telemetry': False, 'log_level': 'INFO', 's…",
            "application/vnd.jupyter.widget-view+json": {
              "version_major": 2,
              "version_minor": 0,
              "model_id": "6fd7bd6862ee40fe90536ddf19f208e3"
            }
          },
          "metadata": {}
        },
        {
          "output_type": "display_data",
          "data": {
            "application/aml.mini.widget.v1": "{\"status\": \"Completed\", \"workbench_run_details_uri\": \"https://ml.azure.com/runs/AutoML_be24dc51-7db8-4bba-acf6-66cc51cb5b96?wsid=/subscriptions/aa7cf8e8-d23f-4bce-a7b9-1f0b4e0ac8ee/resourcegroups/aml-quickstarts-234630/workspaces/quick-starts-ws-234630&tid=660b3398-b80e-49d2-bc5b-ac1dc93b5254\", \"run_id\": \"AutoML_be24dc51-7db8-4bba-acf6-66cc51cb5b96\", \"run_properties\": {\"run_id\": \"AutoML_be24dc51-7db8-4bba-acf6-66cc51cb5b96\", \"created_utc\": \"2023-05-30T06:04:48.081605Z\", \"properties\": {\"num_iterations\": \"1000\", \"training_type\": \"TrainFull\", \"acquisition_function\": \"EI\", \"primary_metric\": \"AUC_weighted\", \"train_split\": \"0\", \"acquisition_parameter\": \"0\", \"num_cross_validation\": null, \"target\": \"auto-ml\", \"AMLSettingsJsonString\": \"{\\\"path\\\":null,\\\"name\\\":\\\"auto-ml\\\",\\\"subscription_id\\\":\\\"aa7cf8e8-d23f-4bce-a7b9-1f0b4e0ac8ee\\\",\\\"resource_group\\\":\\\"aml-quickstarts-234630\\\",\\\"workspace_name\\\":\\\"quick-starts-ws-234630\\\",\\\"region\\\":\\\"southcentralus\\\",\\\"compute_target\\\":\\\"auto-ml\\\",\\\"spark_service\\\":null,\\\"azure_service\\\":\\\"remote\\\",\\\"many_models\\\":false,\\\"pipeline_fetch_max_batch_size\\\":1,\\\"enable_batch_run\\\":true,\\\"enable_parallel_run\\\":false,\\\"num_procs\\\":null,\\\"enable_run_restructure\\\":false,\\\"start_auxiliary_runs_before_parent_complete\\\":false,\\\"enable_code_generation\\\":true,\\\"iterations\\\":1000,\\\"primary_metric\\\":\\\"AUC_weighted\\\",\\\"task_type\\\":\\\"classification\\\",\\\"positive_label\\\":null,\\\"data_script\\\":null,\\\"test_size\\\":0.0,\\\"test_include_predictions_only\\\":false,\\\"validation_size\\\":0.0,\\\"n_cross_validations\\\":null,\\\"y_min\\\":null,\\\"y_max\\\":null,\\\"num_classes\\\":null,\\\"featurization\\\":\\\"auto\\\",\\\"_ignore_package_version_incompatibilities\\\":false,\\\"is_timeseries\\\":false,\\\"max_cores_per_iteration\\\":1,\\\"max_concurrent_iterations\\\":5,\\\"iteration_timeout_minutes\\\":null,\\\"mem_in_mb\\\":null,\\\"enforce_time_on_windows\\\":false,\\\"experiment_timeout_minutes\\\":20,\\\"experiment_exit_score\\\":null,\\\"partition_column_names\\\":null,\\\"whitelist_models\\\":null,\\\"blacklist_algos\\\":[\\\"TensorFlowLinearClassifier\\\",\\\"TensorFlowDNN\\\"],\\\"supported_models\\\":[\\\"KNN\\\",\\\"TensorFlowLinearClassifier\\\",\\\"MultinomialNaiveBayes\\\",\\\"GradientBoosting\\\",\\\"TensorFlowDNN\\\",\\\"XGBoostClassifier\\\",\\\"SGD\\\",\\\"DecisionTree\\\",\\\"LogisticRegression\\\",\\\"TabnetClassifier\\\",\\\"BernoulliNaiveBayes\\\",\\\"ExtremeRandomTrees\\\",\\\"RandomForest\\\",\\\"SVM\\\",\\\"LightGBM\\\",\\\"LinearSVM\\\",\\\"AveragedPerceptronClassifier\\\"],\\\"private_models\\\":[],\\\"auto_blacklist\\\":true,\\\"blacklist_samples_reached\\\":false,\\\"exclude_nan_labels\\\":true,\\\"verbosity\\\":20,\\\"_debug_log\\\":\\\"azureml_automl.log\\\",\\\"show_warnings\\\":false,\\\"model_explainability\\\":true,\\\"service_url\\\":null,\\\"sdk_url\\\":null,\\\"sdk_packages\\\":null,\\\"enable_onnx_compatible_models\\\":false,\\\"enable_split_onnx_featurizer_estimator_models\\\":false,\\\"vm_type\\\":\\\"STANDARD_D2_V2\\\",\\\"telemetry_verbosity\\\":20,\\\"send_telemetry\\\":true,\\\"enable_dnn\\\":false,\\\"scenario\\\":\\\"AutoML\\\",\\\"environment_label\\\":null,\\\"save_mlflow\\\":false,\\\"enable_categorical_indicators\\\":false,\\\"force_text_dnn\\\":false,\\\"enable_feature_sweeping\\\":true,\\\"enable_early_stopping\\\":true,\\\"early_stopping_n_iters\\\":10,\\\"arguments\\\":null,\\\"dataset_id\\\":\\\"f812d68e-5b6b-4b65-863e-161c70341f6a\\\",\\\"hyperdrive_config\\\":null,\\\"validation_dataset_id\\\":null,\\\"run_source\\\":null,\\\"metrics\\\":null,\\\"enable_metric_confidence\\\":false,\\\"enable_ensembling\\\":true,\\\"enable_stack_ensembling\\\":true,\\\"ensemble_iterations\\\":15,\\\"enable_tf\\\":false,\\\"enable_subsampling\\\":null,\\\"subsample_seed\\\":null,\\\"enable_nimbusml\\\":false,\\\"enable_streaming\\\":false,\\\"force_streaming\\\":false,\\\"track_child_runs\\\":true,\\\"n_best_runs\\\":1,\\\"allowed_private_models\\\":[],\\\"label_column_name\\\":\\\"class\\\",\\\"weight_column_name\\\":null,\\\"cv_split_column_names\\\":null,\\\"enable_local_managed\\\":false,\\\"_local_managed_run_id\\\":null,\\\"cost_mode\\\":1,\\\"lag_length\\\":0,\\\"metric_operation\\\":\\\"maximize\\\",\\\"preprocess\\\":true}\", \"DataPrepJsonString\": \"{\\\\\\\"training_data\\\\\\\": {\\\\\\\"datasetId\\\\\\\": \\\\\\\"f812d68e-5b6b-4b65-863e-161c70341f6a\\\\\\\"}, \\\\\\\"datasets\\\\\\\": 0}\", \"EnableSubsampling\": null, \"runTemplate\": \"AutoML\", \"azureml.runsource\": \"automl\", \"display_task_type\": \"classification\", \"dependencies_versions\": \"{\\\"azureml-widgets\\\": \\\"1.49.0\\\", \\\"azureml-training-tabular\\\": \\\"1.49.0\\\", \\\"azureml-train\\\": \\\"1.49.0\\\", \\\"azureml-train-restclients-hyperdrive\\\": \\\"1.49.0\\\", \\\"azureml-train-core\\\": \\\"1.49.0\\\", \\\"azureml-train-automl\\\": \\\"1.49.0\\\", \\\"azureml-train-automl-runtime\\\": \\\"1.49.0\\\", \\\"azureml-train-automl-client\\\": \\\"1.49.0\\\", \\\"azureml-tensorboard\\\": \\\"1.49.0\\\", \\\"azureml-telemetry\\\": \\\"1.49.0\\\", \\\"azureml-sdk\\\": \\\"1.49.0\\\", \\\"azureml-responsibleai\\\": \\\"1.49.0\\\", \\\"azureml-pipeline\\\": \\\"1.49.0\\\", \\\"azureml-pipeline-steps\\\": \\\"1.49.0\\\", \\\"azureml-pipeline-core\\\": \\\"1.49.0\\\", \\\"azureml-opendatasets\\\": \\\"1.49.0\\\", \\\"azureml-mlflow\\\": \\\"1.49.0\\\", \\\"azureml-interpret\\\": \\\"1.49.0\\\", \\\"azureml-inference-server-http\\\": \\\"0.8.0\\\", \\\"azureml-explain-model\\\": \\\"1.49.0\\\", \\\"azureml-defaults\\\": \\\"1.49.0\\\", \\\"azureml-dataset-runtime\\\": \\\"1.49.0\\\", \\\"azureml-dataprep\\\": \\\"4.9.1\\\", \\\"azureml-dataprep-rslex\\\": \\\"2.16.1\\\", \\\"azureml-dataprep-native\\\": \\\"38.0.0\\\", \\\"azureml-datadrift\\\": \\\"1.49.0\\\", \\\"azureml-core\\\": \\\"1.49.0\\\", \\\"azureml-contrib-services\\\": \\\"1.49.0\\\", \\\"azureml-contrib-server\\\": \\\"1.49.0\\\", \\\"azureml-contrib-reinforcementlearning\\\": \\\"1.49.0\\\", \\\"azureml-contrib-pipeline-steps\\\": \\\"1.49.0\\\", \\\"azureml-contrib-notebook\\\": \\\"1.49.0\\\", \\\"azureml-contrib-fairness\\\": \\\"1.49.0\\\", \\\"azureml-contrib-dataset\\\": \\\"1.49.0\\\", \\\"azureml-contrib-automl-pipeline-steps\\\": \\\"1.49.0\\\", \\\"azureml-cli-common\\\": \\\"1.49.0\\\", \\\"azureml-automl-runtime\\\": \\\"1.49.0\\\", \\\"azureml-automl-dnn-nlp\\\": \\\"1.49.0\\\", \\\"azureml-automl-core\\\": \\\"1.49.0\\\", \\\"azureml-accel-models\\\": \\\"1.49.0\\\"}\", \"_aml_system_scenario_identification\": \"Remote.Parent\", \"ClientType\": \"SDK\", \"PlatformVersion\": \"DPV1\", \"environment_cpu_name\": \"AzureML-AutoML\", \"environment_cpu_label\": \"prod\", \"environment_gpu_name\": \"AzureML-AutoML-GPU\", \"environment_gpu_label\": \"prod\", \"root_attribution\": \"automl\", \"attribution\": \"AutoML\", \"Orchestrator\": \"AutoML\", \"CancelUri\": \"https://southcentralus.api.azureml.ms/jasmine/v1.0/subscriptions/aa7cf8e8-d23f-4bce-a7b9-1f0b4e0ac8ee/resourceGroups/aml-quickstarts-234630/providers/Microsoft.MachineLearningServices/workspaces/quick-starts-ws-234630/experimentids/0ccc4b70-b87e-43a5-862b-c8c19d801102/cancel/AutoML_be24dc51-7db8-4bba-acf6-66cc51cb5b96\", \"ClientSdkVersion\": null, \"snapshotId\": \"00000000-0000-0000-0000-000000000000\", \"SetupRunId\": \"AutoML_be24dc51-7db8-4bba-acf6-66cc51cb5b96_setup\", \"SetupRunContainerId\": \"dcid.AutoML_be24dc51-7db8-4bba-acf6-66cc51cb5b96_setup\", \"FeaturizationRunJsonPath\": \"featurizer_container.json\", \"FeaturizationRunId\": \"AutoML_be24dc51-7db8-4bba-acf6-66cc51cb5b96_featurize\", \"ProblemInfoJsonString\": \"{\\\"dataset_num_categorical\\\": 0, \\\"is_sparse\\\": true, \\\"subsampling\\\": false, \\\"has_extra_col\\\": true, \\\"dataset_classes\\\": 4, \\\"dataset_features\\\": 21, \\\"dataset_samples\\\": 1727, \\\"single_frequency_class_detected\\\": false}\", \"ModelExplainRunId\": \"AutoML_be24dc51-7db8-4bba-acf6-66cc51cb5b96_ModelExplain\"}, \"tags\": {\"model_explain_run\": \"best_run\", \"_aml_system_automl_run_workspace_id\": \"babfd619-6909-425b-a2eb-b66f7d762042\", \"_aml_system_azureml.automlComponent\": \"AutoML\", \"pipeline_id_000\": \"5dfac790c5c209f98a1da2dc1c7fb76f0397324f;c7af0367625be6ac5c2fecbfc72ed444cb7a2111;51ae05309834b29f71340af1008fc94fbd8213f4;ce2643edf3d450b10c86c7d034a9bc952dc282d3;039a99c3d5147edeb525249e2660628be3e8b83f;a3dadd95854bf6116ab454844302b51d417d78b7;1dfdf370ba770047b14bfa59c40920815defcdab;294650ec23bc3d067a4972de7ceb12f6e97260fa;681a59302459aec2cc115ddbc14e1d28f4b3b8df;5bcf69d12307c5f0246b0d33ab19666443595ac9;6f4a466f84f725a47910c1dff062a1bb46df2a21;dea7fdbaedc77258dbfe31dbfed41e768ca38939;1e38ae92baee19b18f211a8b14c16015d5ee3dc3;a7434e890cabef86b0ce4ae71fb633e1e92b854d;c74787cd2f0507b852a1ac70d504d83ac9bdec83;dd46719e1e1ca3df6e6826afb96bf9be8390e6e2;79ebb3b8c385e3190e3dd4c1fa28b74730528045;208056285bd1883d5bd7d4e4e996a1c71c4b0033;a72eb56f3d4aadb7b7f0149ba6e5f05657a95ca1;9610149fbcf43017aa810a290e9c04cbe6fa8684;ee365d2bc711bc6838929328cc4ff4b890fbc6c3;5dcd9bc8a74634130a855a68c1bf956ce7160f98;3fe9ace0255a98a01a321c2b4c6ab86f6c1db8e5;f9c4839cd35f7fe03bcc11d87a99d82f63f333dc;dfc631bbb8f3be228d228210719dafe9e4a19b00;8869edacdfa3ad38b2f434066fbe2853cfcf9234;d6b59777ec875a63efbfc0704b2e67d652730595;a10d0ed54b1cc090782f9d8641de3bbdb7a8023b;cb31ab559db08156dd98c227926319000538915b;f35d8030bc2a0748db692851ba4a7607dd8fa2ac;ba29499a4ce25a499a8fbd5b7ff1bc8581607dff;cf71293204a5516eac9176179b01cb42e8fc49a8;18970ec5ca3c4d12106b86c632f2d5fcc52742ce;486a5732db2dfa5a7e3d4b6ff912a8d3e96a1d2c;4762d5ed46412a947059707eb68a1810701c46e8;8ff15de2fb4120942d84e1edb6a5338d78b4a9e2;4ecfd2f743c74d169630256b9ceac4a9c4573e84;f708f078a418edf4a5b5d595af379908b1fed2c5;__AutoML_Ensemble__;__AutoML_Stack_Ensemble__\", \"score_000\": \"0.9987787177700516;0.9985844805699463;0.9681004842618952;0.97461836177277;0.971683486477084;0.9946857986998717;0.9777162872686969;0.9903016405662504;0.9951940756307899;0.943361748139468;0.974824830345356;0.9859059322171727;0.9886005147395781;0.9468114759781288;0.9950593846673023;0.9943466744333511;0.9727211754585374;0.9841206362493761;0.9960142197375602;0.9862407546483416;0.9944942408339038;0.9831482301723553;0.9978869169956212;0.9525644713792215;0.988208224738333;0.9843616987981566;0.979839808569977;0.9795927090629375;0.9792744395794667;0.9954377485756941;0.9866665828119888;0.9973062385787704;0.9723568876818334;0.9962586294887296;NaN;NaN;NaN;NaN;0.9987551004918901;0.9979960132428415\", \"predicted_cost_000\": \"0;0;0.5;0.5;0.5;0.5;0.5;0.5;0.5;0.5;0.5;0.5;0.5;0.5;0.5;0.5;0.5;0.5;0.5;0.5;0.12263364137172512;0.22518342112520742;0.4058217947998654;0.044937282546096226;0.07103777436097417;0.12819089036193365;0.20918309177994096;0.05020518345410954;0.09291111607924302;0.11263895082512693;0.15512866101877718;0.5149028025958697;0.08584600502751798;0.10441637498953787;0.18493292166745923;0.23528584781261594;0.2723581212991326;0.17763821998823126;0;0\", \"fit_time_000\": \"0.271993;0.29941166666666663;0.023292666666666666;0.024530333333333335;0.03589266666666666;0.04790566666666666;0.311685;0.05932433333333333;0.045144333333333335;0.08335166666666666;0.037048333333333336;0.7997006666666665;0.10739599999999999;0.4579136666666667;0.09058266666666666;0.04610566666666666;0.04489066666666666;0.18581066666666668;0.31465033333333337;0.064847;0.04629133333333333;0.116734;0.24804866666666667;0.03299433333333333;0.035571;0.10398333333333333;0.13469699999999998;0.07758466666666665;0.039128333333333334;0.6293836666666667;0.555194;0.3752163333333334;0.033381666666666664;0.08486066666666665;NaN;NaN;NaN;NaN;23;32\", \"training_percent_000\": \"100;100;100;100;100;100;100;100;100;100;100;100;100;100;100;100;100;100;100;100;100;100;100;100;100;100;100;100;100;100;100;100;100;100;100;100;100;100;100;100\", \"iteration_000\": \"0;1;2;3;4;5;6;7;8;9;10;11;16;17;12;18;13;19;14;15;21;20;22;23;24;25;26;27;28;29;30;31;32;33;35;36;34;37;38;39\", \"run_preprocessor_000\": \"MaxAbsScaler;MaxAbsScaler;MaxAbsScaler;MaxAbsScaler;StandardScalerWrapper;SparseNormalizer;SparseNormalizer;StandardScalerWrapper;SparseNormalizer;MaxAbsScaler;SparseNormalizer;MaxAbsScaler;MaxAbsScaler;StandardScalerWrapper;StandardScalerWrapper;StandardScalerWrapper;StandardScalerWrapper;MaxAbsScaler;StandardScalerWrapper;MaxAbsScaler;StandardScalerWrapper;MaxAbsScaler;StandardScalerWrapper;MaxAbsScaler;SparseNormalizer;MaxAbsScaler;MaxAbsScaler;MaxAbsScaler;StandardScalerWrapper;MaxAbsScaler;SparseNormalizer;SparseNormalizer;MaxAbsScaler;SparseNormalizer;StandardScalerWrapper;;StandardScalerWrapper;;;\", \"run_algorithm_000\": \"LightGBM;XGBoostClassifier;ExtremeRandomTrees;RandomForest;LightGBM;XGBoostClassifier;RandomForest;XGBoostClassifier;XGBoostClassifier;RandomForest;LightGBM;ExtremeRandomTrees;LogisticRegression;ExtremeRandomTrees;XGBoostClassifier;XGBoostClassifier;ExtremeRandomTrees;ExtremeRandomTrees;RandomForest;LightGBM;XGBoostClassifier;LogisticRegression;XGBoostClassifier;RandomForest;XGBoostClassifier;LightGBM;LinearSVM;LinearSVM;LightGBM;LightGBM;LightGBM;XGBoostClassifier;LightGBM;XGBoostClassifier;LightGBM;;XGBoostClassifier;;VotingEnsemble;StackEnsemble\", \"dynamic_allowlisting_iterations\": \"<25>;<30>;<35>;\", \"_aml_system_azureml.automl_early_exit_message\": \"No scores improved over last 10 iterations, so experiment stopped early. This early stopping behavior can be disabled by setting enable_early_stopping = False in AutoMLConfig for notebook/python SDK runs.\", \"automl_best_child_run_id\": \"AutoML_be24dc51-7db8-4bba-acf6-66cc51cb5b96_0\", \"model_explain_best_run_child_id\": \"AutoML_be24dc51-7db8-4bba-acf6-66cc51cb5b96_0\"}, \"end_time_utc\": \"2023-05-30T06:27:46.508987Z\", \"status\": \"Completed\", \"log_files\": {}, \"log_groups\": [], \"run_duration\": \"0:22:58\", \"run_number\": \"1685426688\", \"run_queued_details\": {\"status\": \"Completed\", \"details\": null}}, \"child_runs\": [{\"run_id\": \"AutoML_be24dc51-7db8-4bba-acf6-66cc51cb5b96_setup\", \"run_number\": 1685426701, \"metric\": null, \"status\": \"Completed\", \"run_type\": \"azureml.scriptrun\", \"training_percent\": null, \"start_time\": \"2023-05-30T06:08:11.093988Z\", \"end_time\": \"2023-05-30T06:13:30.921761Z\", \"created_time\": \"2023-05-30T06:05:01.18723Z\", \"created_time_dt\": \"2023-05-30T06:05:01.18723Z\", \"duration\": \"0:08:29\", \"iteration\": null, \"goal\": null, \"run_name\": \"Completed\", \"run_properties\": null}, {\"run_id\": \"AutoML_be24dc51-7db8-4bba-acf6-66cc51cb5b96_featurize\", \"run_number\": 1685427211, \"metric\": null, \"status\": \"Completed\", \"run_type\": \"automl.featurization\", \"training_percent\": null, \"start_time\": \"2023-05-30T06:13:31.781916Z\", \"end_time\": \"2023-05-30T06:14:51.39648Z\", \"created_time\": \"2023-05-30T06:13:31.300767Z\", \"created_time_dt\": \"2023-05-30T06:13:31.300767Z\", \"duration\": \"0:01:20\", \"iteration\": null, \"goal\": null, \"run_name\": \"Completed\", \"run_properties\": null}, {\"run_id\": \"AutoML_be24dc51-7db8-4bba-acf6-66cc51cb5b96_0\", \"run_number\": 1685427292, \"metric\": null, \"status\": \"Completed\", \"run_type\": null, \"training_percent\": \"100\", \"start_time\": \"2023-05-30T06:15:15.260335Z\", \"end_time\": \"2023-05-30T06:15:31.230178Z\", \"created_time\": \"2023-05-30T06:14:52.927166Z\", \"created_time_dt\": \"2023-05-30T06:14:52.927166Z\", \"duration\": \"0:00:38\", \"iteration\": \"0\", \"goal\": \"AUC_weighted_max\", \"run_name\": \"MaxAbsScaler, LightGBM\", \"run_properties\": \"copy=True\", \"primary_metric\": 0.99877872, \"best_metric\": 0.99877872}, {\"run_id\": \"AutoML_be24dc51-7db8-4bba-acf6-66cc51cb5b96_1\", \"run_number\": 1685427293, \"metric\": null, \"status\": \"Completed\", \"run_type\": null, \"training_percent\": \"100\", \"start_time\": \"2023-05-30T06:15:31.819277Z\", \"end_time\": \"2023-05-30T06:15:45.22368Z\", \"created_time\": \"2023-05-30T06:14:53.442507Z\", \"created_time_dt\": \"2023-05-30T06:14:53.442507Z\", \"duration\": \"0:00:51\", \"iteration\": \"1\", \"goal\": \"AUC_weighted_max\", \"run_name\": \"MaxAbsScaler, XGBoostClassifier\", \"run_properties\": \"copy=True\", \"primary_metric\": 0.99858448, \"best_metric\": 0.99877872}, {\"run_id\": \"AutoML_be24dc51-7db8-4bba-acf6-66cc51cb5b96_worker_0\", \"run_number\": 1685427294, \"metric\": null, \"status\": \"Completed\", \"run_type\": \"azureml.scriptrun\", \"training_percent\": null, \"start_time\": \"2023-05-30T06:15:01.790243Z\", \"end_time\": \"2023-05-30T06:16:19.571703Z\", \"created_time\": \"2023-05-30T06:14:54.556007Z\", \"created_time_dt\": \"2023-05-30T06:14:54.556007Z\", \"duration\": \"0:01:25\", \"iteration\": null, \"goal\": null, \"run_name\": \"Completed\", \"run_properties\": null}, {\"run_id\": \"AutoML_be24dc51-7db8-4bba-acf6-66cc51cb5b96_5\", \"run_number\": 1685427295, \"metric\": null, \"status\": \"Completed\", \"run_type\": null, \"training_percent\": \"100\", \"start_time\": \"2023-05-30T06:16:52.198597Z\", \"end_time\": \"2023-05-30T06:17:04.139854Z\", \"created_time\": \"2023-05-30T06:14:55.143437Z\", \"created_time_dt\": \"2023-05-30T06:14:55.143437Z\", \"duration\": \"0:02:08\", \"iteration\": \"5\", \"goal\": \"AUC_weighted_max\", \"run_name\": \"SparseNormalizer, XGBoostClassifier\", \"run_properties\": \"copy=True, norm='max'\", \"primary_metric\": 0.9946858, \"best_metric\": 0.99877872}, {\"run_id\": \"AutoML_be24dc51-7db8-4bba-acf6-66cc51cb5b96_worker_1\", \"run_number\": 1685427296, \"metric\": null, \"status\": \"Completed\", \"run_type\": \"azureml.scriptrun\", \"training_percent\": null, \"start_time\": \"2023-05-30T06:16:23.792721Z\", \"end_time\": \"2023-05-30T06:17:39.350177Z\", \"created_time\": \"2023-05-30T06:14:56.436824Z\", \"created_time_dt\": \"2023-05-30T06:14:56.436824Z\", \"duration\": \"0:02:42\", \"iteration\": null, \"goal\": null, \"run_name\": \"Completed\", \"run_properties\": null}, {\"run_id\": \"AutoML_be24dc51-7db8-4bba-acf6-66cc51cb5b96_9\", \"run_number\": 1685427297, \"metric\": null, \"status\": \"Completed\", \"run_type\": null, \"training_percent\": \"100\", \"start_time\": \"2023-05-30T06:19:28.614172Z\", \"end_time\": \"2023-05-30T06:19:41.056676Z\", \"created_time\": \"2023-05-30T06:14:57.035344Z\", \"created_time_dt\": \"2023-05-30T06:14:57.035344Z\", \"duration\": \"0:04:44\", \"iteration\": \"9\", \"goal\": \"AUC_weighted_max\", \"run_name\": \"MaxAbsScaler, RandomForest\", \"run_properties\": \"copy=True\", \"primary_metric\": 0.94336175, \"best_metric\": 0.99877872}, {\"run_id\": \"AutoML_be24dc51-7db8-4bba-acf6-66cc51cb5b96_worker_2\", \"run_number\": 1685427298, \"metric\": null, \"status\": \"Completed\", \"run_type\": \"azureml.scriptrun\", \"training_percent\": null, \"start_time\": \"2023-05-30T06:17:27.96874Z\", \"end_time\": \"2023-05-30T06:20:19.491739Z\", \"created_time\": \"2023-05-30T06:14:58.223419Z\", \"created_time_dt\": \"2023-05-30T06:14:58.223419Z\", \"duration\": \"0:05:21\", \"iteration\": null, \"goal\": null, \"run_name\": \"Completed\", \"run_properties\": null}, {\"run_id\": \"AutoML_be24dc51-7db8-4bba-acf6-66cc51cb5b96_worker_3\", \"run_number\": 1685427299, \"metric\": null, \"status\": \"Completed\", \"run_type\": \"azureml.scriptrun\", \"training_percent\": null, \"start_time\": \"2023-05-30T06:17:43.723711Z\", \"end_time\": \"2023-05-30T06:24:14.550974Z\", \"created_time\": \"2023-05-30T06:14:59.924421Z\", \"created_time_dt\": \"2023-05-30T06:14:59.924421Z\", \"duration\": \"0:09:14\", \"iteration\": null, \"goal\": null, \"run_name\": \"Completed\", \"run_properties\": null}, {\"run_id\": \"AutoML_be24dc51-7db8-4bba-acf6-66cc51cb5b96_16\", \"run_number\": 1685427300, \"metric\": null, \"status\": \"Completed\", \"run_type\": null, \"training_percent\": \"100\", \"start_time\": \"2023-05-30T06:22:40.091025Z\", \"end_time\": \"2023-05-30T06:22:57.036765Z\", \"created_time\": \"2023-05-30T06:15:00.098669Z\", \"created_time_dt\": \"2023-05-30T06:15:00.098669Z\", \"duration\": \"0:07:56\", \"iteration\": \"16\", \"goal\": \"AUC_weighted_max\", \"run_name\": \"MaxAbsScaler, LogisticRegression\", \"run_properties\": \"copy=True\", \"primary_metric\": 0.98860051, \"best_metric\": 0.99877872}, {\"run_id\": \"AutoML_be24dc51-7db8-4bba-acf6-66cc51cb5b96_worker_4\", \"run_number\": 1685427301, \"metric\": null, \"status\": \"Completed\", \"run_type\": \"azureml.scriptrun\", \"training_percent\": null, \"start_time\": \"2023-05-30T06:17:44.772516Z\", \"end_time\": \"2023-05-30T06:23:45.141655Z\", \"created_time\": \"2023-05-30T06:15:01.61312Z\", \"created_time_dt\": \"2023-05-30T06:15:01.61312Z\", \"duration\": \"0:08:43\", \"iteration\": null, \"goal\": null, \"run_name\": \"Completed\", \"run_properties\": null}, {\"run_id\": \"AutoML_be24dc51-7db8-4bba-acf6-66cc51cb5b96_21\", \"run_number\": 1685427806, \"metric\": null, \"status\": \"Completed\", \"run_type\": \"azureml.scriptrun\", \"training_percent\": \"100\", \"start_time\": \"2023-05-30T06:23:35.992201Z\", \"end_time\": \"2023-05-30T06:24:08.749238Z\", \"created_time\": \"2023-05-30T06:23:26.987433Z\", \"created_time_dt\": \"2023-05-30T06:23:26.987433Z\", \"duration\": \"0:00:41\", \"iteration\": \"21\", \"goal\": \"AUC_weighted_max\", \"run_name\": \"StandardScalerWrapper, XGBoostClassifier\", \"run_properties\": \"copy=True, with_mean=False, with_std=False\", \"primary_metric\": 0.99449424, \"best_metric\": 0.99877872}, {\"run_id\": \"AutoML_be24dc51-7db8-4bba-acf6-66cc51cb5b96_22\", \"run_number\": 1685427807, \"metric\": null, \"status\": \"Completed\", \"run_type\": \"azureml.scriptrun\", \"training_percent\": \"100\", \"start_time\": \"2023-05-30T06:23:49.820501Z\", \"end_time\": \"2023-05-30T06:24:25.733693Z\", \"created_time\": \"2023-05-30T06:23:27.037993Z\", \"created_time_dt\": \"2023-05-30T06:23:27.037993Z\", \"duration\": \"0:00:58\", \"iteration\": \"22\", \"goal\": \"AUC_weighted_max\", \"run_name\": \"StandardScalerWrapper, XGBoostClassifier\", \"run_properties\": \"copy=True, with_mean=False, with_std=False\", \"primary_metric\": 0.99788692, \"best_metric\": 0.99877872}, {\"run_id\": \"AutoML_be24dc51-7db8-4bba-acf6-66cc51cb5b96_23\", \"run_number\": 1685427827, \"metric\": null, \"status\": \"Completed\", \"run_type\": \"azureml.scriptrun\", \"training_percent\": \"100\", \"start_time\": \"2023-05-30T06:24:12.433291Z\", \"end_time\": \"2023-05-30T06:24:44.833612Z\", \"created_time\": \"2023-05-30T06:23:47.817528Z\", \"created_time_dt\": \"2023-05-30T06:23:47.817528Z\", \"duration\": \"0:00:57\", \"iteration\": \"23\", \"goal\": \"AUC_weighted_max\", \"run_name\": \"MaxAbsScaler, RandomForest\", \"run_properties\": \"copy=True\", \"primary_metric\": 0.95256447, \"best_metric\": 0.99877872}, {\"run_id\": \"AutoML_be24dc51-7db8-4bba-acf6-66cc51cb5b96_24\", \"run_number\": 1685427850, \"metric\": null, \"status\": \"Completed\", \"run_type\": \"azureml.scriptrun\", \"training_percent\": \"100\", \"start_time\": \"2023-05-30T06:24:19.235734Z\", \"end_time\": \"2023-05-30T06:24:52.559693Z\", \"created_time\": \"2023-05-30T06:24:10.800895Z\", \"created_time_dt\": \"2023-05-30T06:24:10.800895Z\", \"duration\": \"0:00:41\", \"iteration\": \"24\", \"goal\": \"AUC_weighted_max\", \"run_name\": \"SparseNormalizer, XGBoostClassifier\", \"run_properties\": \"copy=True, norm='max'\", \"primary_metric\": 0.98820822, \"best_metric\": 0.99877872}, {\"run_id\": \"AutoML_be24dc51-7db8-4bba-acf6-66cc51cb5b96_25\", \"run_number\": 1685427853, \"metric\": null, \"status\": \"Completed\", \"run_type\": \"azureml.scriptrun\", \"training_percent\": \"100\", \"start_time\": \"2023-05-30T06:24:21.988545Z\", \"end_time\": \"2023-05-30T06:24:55.605591Z\", \"created_time\": \"2023-05-30T06:24:13.710172Z\", \"created_time_dt\": \"2023-05-30T06:24:13.710172Z\", \"duration\": \"0:00:41\", \"iteration\": \"25\", \"goal\": \"AUC_weighted_max\", \"run_name\": \"MaxAbsScaler, LightGBM\", \"run_properties\": \"copy=True\", \"primary_metric\": 0.9843617, \"best_metric\": 0.99877872}, {\"run_id\": \"AutoML_be24dc51-7db8-4bba-acf6-66cc51cb5b96_26\", \"run_number\": 1685427867, \"metric\": null, \"status\": \"Completed\", \"run_type\": \"azureml.scriptrun\", \"training_percent\": \"100\", \"start_time\": \"2023-05-30T06:24:36.36377Z\", \"end_time\": \"2023-05-30T06:25:11.710954Z\", \"created_time\": \"2023-05-30T06:24:27.423446Z\", \"created_time_dt\": \"2023-05-30T06:24:27.423446Z\", \"duration\": \"0:00:44\", \"iteration\": \"26\", \"goal\": \"AUC_weighted_max\", \"run_name\": \"MaxAbsScaler, LinearSVM\", \"run_properties\": \"copy=True\", \"primary_metric\": 0.97983981, \"best_metric\": 0.99877872}, {\"run_id\": \"AutoML_be24dc51-7db8-4bba-acf6-66cc51cb5b96_28\", \"run_number\": 1685427886, \"metric\": null, \"status\": \"Completed\", \"run_type\": \"azureml.scriptrun\", \"training_percent\": \"100\", \"start_time\": \"2023-05-30T06:24:56.855748Z\", \"end_time\": \"2023-05-30T06:25:29.403214Z\", \"created_time\": \"2023-05-30T06:24:46.313929Z\", \"created_time_dt\": \"2023-05-30T06:24:46.313929Z\", \"duration\": \"0:00:43\", \"iteration\": \"28\", \"goal\": \"AUC_weighted_max\", \"run_name\": \"StandardScalerWrapper, LightGBM\", \"run_properties\": \"copy=True, with_mean=False, with_std=True\", \"primary_metric\": 0.97927444, \"best_metric\": 0.99877872}, {\"run_id\": \"AutoML_be24dc51-7db8-4bba-acf6-66cc51cb5b96_29\", \"run_number\": 1685427894, \"metric\": null, \"status\": \"Completed\", \"run_type\": \"azureml.scriptrun\", \"training_percent\": \"100\", \"start_time\": \"2023-05-30T06:25:01.114839Z\", \"end_time\": \"2023-05-30T06:25:37.078321Z\", \"created_time\": \"2023-05-30T06:24:54.101607Z\", \"created_time_dt\": \"2023-05-30T06:24:54.101607Z\", \"duration\": \"0:00:42\", \"iteration\": \"29\", \"goal\": \"AUC_weighted_max\", \"run_name\": \"MaxAbsScaler, LightGBM\", \"run_properties\": \"copy=True\", \"primary_metric\": 0.99543775, \"best_metric\": 0.99877872}, {\"run_id\": \"AutoML_be24dc51-7db8-4bba-acf6-66cc51cb5b96_30\", \"run_number\": 1685427898, \"metric\": null, \"status\": \"Completed\", \"run_type\": \"azureml.scriptrun\", \"training_percent\": \"100\", \"start_time\": \"2023-05-30T06:25:16.671364Z\", \"end_time\": \"2023-05-30T06:25:52.524669Z\", \"created_time\": \"2023-05-30T06:24:58.00695Z\", \"created_time_dt\": \"2023-05-30T06:24:58.00695Z\", \"duration\": \"0:00:54\", \"iteration\": \"30\", \"goal\": \"AUC_weighted_max\", \"run_name\": \"SparseNormalizer, LightGBM\", \"run_properties\": \"copy=True, norm='l1'\", \"primary_metric\": 0.98666658, \"best_metric\": 0.99877872}, {\"run_id\": \"AutoML_be24dc51-7db8-4bba-acf6-66cc51cb5b96_31\", \"run_number\": 1685427913, \"metric\": null, \"status\": \"Completed\", \"run_type\": \"azureml.scriptrun\", \"training_percent\": \"100\", \"start_time\": \"2023-05-30T06:25:26.384922Z\", \"end_time\": \"2023-05-30T06:25:59.965108Z\", \"created_time\": \"2023-05-30T06:25:13.227987Z\", \"created_time_dt\": \"2023-05-30T06:25:13.227987Z\", \"duration\": \"0:00:46\", \"iteration\": \"31\", \"goal\": \"AUC_weighted_max\", \"run_name\": \"SparseNormalizer, XGBoostClassifier\", \"run_properties\": \"copy=True, norm='max'\", \"primary_metric\": 0.99730624, \"best_metric\": 0.99877872}, {\"run_id\": \"AutoML_be24dc51-7db8-4bba-acf6-66cc51cb5b96_32\", \"run_number\": 1685427922, \"metric\": null, \"status\": \"Completed\", \"run_type\": \"azureml.scriptrun\", \"training_percent\": \"100\", \"start_time\": \"2023-05-30T06:25:33.989312Z\", \"end_time\": \"2023-05-30T06:26:06.987937Z\", \"created_time\": \"2023-05-30T06:25:22.05068Z\", \"created_time_dt\": \"2023-05-30T06:25:22.05068Z\", \"duration\": \"0:00:44\", \"iteration\": \"32\", \"goal\": \"AUC_weighted_max\", \"run_name\": \"MaxAbsScaler, LightGBM\", \"run_properties\": \"copy=True\", \"primary_metric\": 0.97235689, \"best_metric\": 0.99877872}, {\"run_id\": \"AutoML_be24dc51-7db8-4bba-acf6-66cc51cb5b96_33\", \"run_number\": 1685427931, \"metric\": null, \"status\": \"Completed\", \"run_type\": \"azureml.scriptrun\", \"training_percent\": \"100\", \"start_time\": \"2023-05-30T06:25:40.542194Z\", \"end_time\": \"2023-05-30T06:26:13.98606Z\", \"created_time\": \"2023-05-30T06:25:31.107891Z\", \"created_time_dt\": \"2023-05-30T06:25:31.107891Z\", \"duration\": \"0:00:42\", \"iteration\": \"33\", \"goal\": \"AUC_weighted_max\", \"run_name\": \"SparseNormalizer, XGBoostClassifier\", \"run_properties\": \"copy=True, norm='max'\", \"primary_metric\": 0.99625863, \"best_metric\": 0.99877872}, {\"run_id\": \"AutoML_be24dc51-7db8-4bba-acf6-66cc51cb5b96_34\", \"run_number\": 1685427938, \"metric\": null, \"status\": \"Canceled\", \"run_type\": \"azureml.scriptrun\", \"training_percent\": \"100\", \"start_time\": \"2023-05-30T06:25:58.718452Z\", \"end_time\": \"2023-05-30T06:26:20.535044Z\", \"created_time\": \"2023-05-30T06:25:38.634891Z\", \"created_time_dt\": \"2023-05-30T06:25:38.634891Z\", \"duration\": \"0:00:41\", \"iteration\": \"34\", \"goal\": null, \"run_name\": \"StandardScalerWrapper, XGBoostClassifier\", \"run_properties\": null}, {\"run_id\": \"AutoML_be24dc51-7db8-4bba-acf6-66cc51cb5b96_35\", \"run_number\": 1685427955, \"metric\": null, \"status\": \"Canceled\", \"run_type\": \"azureml.scriptrun\", \"training_percent\": \"100\", \"start_time\": \"2023-05-30T06:26:04.538235Z\", \"end_time\": \"2023-05-30T06:26:20.393138Z\", \"created_time\": \"2023-05-30T06:25:55.107968Z\", \"created_time_dt\": \"2023-05-30T06:25:55.107968Z\", \"duration\": \"0:00:25\", \"iteration\": \"35\", \"goal\": null, \"run_name\": \"StandardScalerWrapper, LightGBM\", \"run_properties\": null}, {\"run_id\": \"AutoML_be24dc51-7db8-4bba-acf6-66cc51cb5b96_36\", \"run_number\": 1685427961, \"metric\": null, \"status\": \"Canceled\", \"run_type\": \"azureml.scriptrun\", \"training_percent\": \"100\", \"start_time\": \"2023-05-30T06:26:10.656024Z\", \"end_time\": \"2023-05-30T06:26:20.322763Z\", \"created_time\": \"2023-05-30T06:26:01.625415Z\", \"created_time_dt\": \"2023-05-30T06:26:01.625415Z\", \"duration\": \"0:00:18\", \"iteration\": \"36\", \"goal\": null, \"run_name\": \"Canceled\", \"run_properties\": null}, {\"run_id\": \"AutoML_be24dc51-7db8-4bba-acf6-66cc51cb5b96_37\", \"run_number\": 1685427968, \"metric\": null, \"status\": \"Canceled\", \"run_type\": \"azureml.scriptrun\", \"training_percent\": \"100\", \"start_time\": \"2023-05-30T06:26:14.805081Z\", \"end_time\": \"2023-05-30T06:26:20.798797Z\", \"created_time\": \"2023-05-30T06:26:08.711671Z\", \"created_time_dt\": \"2023-05-30T06:26:08.711671Z\", \"duration\": \"0:00:12\", \"iteration\": \"37\", \"goal\": null, \"run_name\": \"Canceled\", \"run_properties\": null}, {\"run_id\": \"AutoML_be24dc51-7db8-4bba-acf6-66cc51cb5b96_38\", \"run_number\": 1685427982, \"metric\": null, \"status\": \"Completed\", \"run_type\": \"azureml.scriptrun\", \"training_percent\": \"100\", \"start_time\": \"2023-05-30T06:26:32.727329Z\", \"end_time\": \"2023-05-30T06:27:35.860733Z\", \"created_time\": \"2023-05-30T06:26:22.131846Z\", \"created_time_dt\": \"2023-05-30T06:26:22.131846Z\", \"duration\": \"0:01:13\", \"iteration\": \"38\", \"goal\": \"AUC_weighted_max\", \"run_name\": \"VotingEnsemble\", \"run_properties\": \"classification_labels=numpy.array([0, 1, 2, 3]\", \"primary_metric\": 0.9987551, \"best_metric\": 0.99877872}], \"children_metrics\": {\"categories\": [0], \"series\": {\"norm_macro_recall\": [{\"categories\": [\"0\", \"1\", \"5\", \"9\", \"16\", \"21\", \"22\", \"23\", \"24\", \"25\", \"26\", \"28\", \"29\", \"30\", \"31\", \"32\", \"33\", \"38\"], \"mode\": \"markers\", \"name\": \"norm_macro_recall\", \"stepped\": false, \"type\": \"scatter\", \"data\": [0.9499730752545248, 0.8890603715593312, 0.7832555855397754, 0.6464520710355793, 0.925289204927244, 0.8039798946517559, 0.8323731758421764, 0.7485153650959133, 0.5403795643091825, 0.41854751598416623, 0.5000604551668856, 0.38736570078031435, 0.7470436169216604, 0.7145603455452195, 0.8315520047375188, 0.4074805692405696, 0.777812632940858, 0.9413363948552544]}, {\"categories\": [\"0\", \"1\", \"5\", \"9\", \"16\", \"21\", \"22\", \"23\", \"24\", \"25\", \"26\", \"28\", \"29\", \"30\", \"31\", \"32\", \"33\", \"38\"], \"mode\": \"lines\", \"name\": \"norm_macro_recall_max\", \"stepped\": true, \"type\": \"scatter\", \"data\": [0.9499730752545248, 0.9499730752545248, 0.9499730752545248, 0.9499730752545248, 0.9499730752545248, 0.9499730752545248, 0.9499730752545248, 0.9499730752545248, 0.9499730752545248, 0.9499730752545248, 0.9499730752545248, 0.9499730752545248, 0.9499730752545248, 0.9499730752545248, 0.9499730752545248, 0.9499730752545248, 0.9499730752545248, 0.9499730752545248]}], \"recall_score_weighted\": [{\"categories\": [\"0\", \"1\", \"5\", \"9\", \"16\", \"21\", \"22\", \"23\", \"24\", \"25\", \"26\", \"28\", \"29\", \"30\", \"31\", \"32\", \"33\", \"38\"], \"mode\": \"markers\", \"name\": \"recall_score_weighted\", \"stepped\": false, \"type\": \"scatter\", \"data\": [0.9826328502415459, 0.9745229468599034, 0.9484591384863125, 0.7215046296296297, 0.9397846215780997, 0.950780998389694, 0.9646769323671497, 0.7759329710144928, 0.9009782608695652, 0.8998188405797102, 0.8737620772946859, 0.8720289855072464, 0.9484601449275362, 0.9137147745571658, 0.958887882447665, 0.8592904589371981, 0.9496235909822867, 0.9820531400966184]}, {\"categories\": [\"0\", \"1\", \"5\", \"9\", \"16\", \"21\", \"22\", \"23\", \"24\", \"25\", \"26\", \"28\", \"29\", \"30\", \"31\", \"32\", \"33\", \"38\"], \"mode\": \"lines\", \"name\": \"recall_score_weighted_max\", \"stepped\": true, \"type\": \"scatter\", \"data\": [0.9826328502415459, 0.9826328502415459, 0.9826328502415459, 0.9826328502415459, 0.9826328502415459, 0.9826328502415459, 0.9826328502415459, 0.9826328502415459, 0.9826328502415459, 0.9826328502415459, 0.9826328502415459, 0.9826328502415459, 0.9826328502415459, 0.9826328502415459, 0.9826328502415459, 0.9826328502415459, 0.9826328502415459, 0.9826328502415459]}], \"precision_score_micro\": [{\"categories\": [\"0\", \"1\", \"5\", \"9\", \"16\", \"21\", \"22\", \"23\", \"24\", \"25\", \"26\", \"28\", \"29\", \"30\", \"31\", \"32\", \"33\", \"38\"], \"mode\": \"markers\", \"name\": \"precision_score_micro\", \"stepped\": false, \"type\": \"scatter\", \"data\": [0.9826328502415459, 0.9745229468599034, 0.9484591384863125, 0.7215046296296297, 0.9397846215780997, 0.950780998389694, 0.9646769323671497, 0.7759329710144928, 0.9009782608695652, 0.8998188405797102, 0.8737620772946859, 0.8720289855072464, 0.9484601449275362, 0.9137147745571658, 0.958887882447665, 0.8592904589371981, 0.9496235909822867, 0.9820531400966184]}, {\"categories\": [\"0\", \"1\", \"5\", \"9\", \"16\", \"21\", \"22\", \"23\", \"24\", \"25\", \"26\", \"28\", \"29\", \"30\", \"31\", \"32\", \"33\", \"38\"], \"mode\": \"lines\", \"name\": \"precision_score_micro_max\", \"stepped\": true, \"type\": \"scatter\", \"data\": [0.9826328502415459, 0.9826328502415459, 0.9826328502415459, 0.9826328502415459, 0.9826328502415459, 0.9826328502415459, 0.9826328502415459, 0.9826328502415459, 0.9826328502415459, 0.9826328502415459, 0.9826328502415459, 0.9826328502415459, 0.9826328502415459, 0.9826328502415459, 0.9826328502415459, 0.9826328502415459, 0.9826328502415459, 0.9826328502415459]}], \"AUC_weighted\": [{\"categories\": [\"0\", \"1\", \"5\", \"9\", \"16\", \"21\", \"22\", \"23\", \"24\", \"25\", \"26\", \"28\", \"29\", \"30\", \"31\", \"32\", \"33\", \"38\"], \"mode\": \"markers\", \"name\": \"AUC_weighted\", \"stepped\": false, \"type\": \"scatter\", \"data\": [0.9987787177700516, 0.9985844805699463, 0.9946857986998717, 0.943361748139468, 0.9886005147395781, 0.9944942408339038, 0.9978869169956212, 0.9525644713792215, 0.988208224738333, 0.9843616987981566, 0.979839808569977, 0.9792744395794667, 0.9954377485756941, 0.9866665828119888, 0.9973062385787704, 0.9723568876818334, 0.9962586294887296, 0.9987551004918901]}, {\"categories\": [\"0\", \"1\", \"5\", \"9\", \"16\", \"21\", \"22\", \"23\", \"24\", \"25\", \"26\", \"28\", \"29\", \"30\", \"31\", \"32\", \"33\", \"38\"], \"mode\": \"lines\", \"name\": \"AUC_weighted_max\", \"stepped\": true, \"type\": \"scatter\", \"data\": [0.9987787177700516, 0.9987787177700516, 0.9987787177700516, 0.9987787177700516, 0.9987787177700516, 0.9987787177700516, 0.9987787177700516, 0.9987787177700516, 0.9987787177700516, 0.9987787177700516, 0.9987787177700516, 0.9987787177700516, 0.9987787177700516, 0.9987787177700516, 0.9987787177700516, 0.9987787177700516, 0.9987787177700516, 0.9987787177700516]}], \"accuracy\": [{\"categories\": [\"0\", \"1\", \"5\", \"9\", \"16\", \"21\", \"22\", \"23\", \"24\", \"25\", \"26\", \"28\", \"29\", \"30\", \"31\", \"32\", \"33\", \"38\"], \"mode\": \"markers\", \"name\": \"accuracy\", \"stepped\": false, \"type\": \"scatter\", \"data\": [0.9826328502415459, 0.9745229468599034, 0.9484591384863125, 0.7215046296296297, 0.9397846215780997, 0.950780998389694, 0.9646769323671497, 0.7759329710144928, 0.9009782608695652, 0.8998188405797102, 0.8737620772946859, 0.8720289855072464, 0.9484601449275362, 0.9137147745571658, 0.958887882447665, 0.8592904589371981, 0.9496235909822867, 0.9820531400966184]}, {\"categories\": [\"0\", \"1\", \"5\", \"9\", \"16\", \"21\", \"22\", \"23\", \"24\", \"25\", \"26\", \"28\", \"29\", \"30\", \"31\", \"32\", \"33\", \"38\"], \"mode\": \"lines\", \"name\": \"accuracy_max\", \"stepped\": true, \"type\": \"scatter\", \"data\": [0.9826328502415459, 0.9826328502415459, 0.9826328502415459, 0.9826328502415459, 0.9826328502415459, 0.9826328502415459, 0.9826328502415459, 0.9826328502415459, 0.9826328502415459, 0.9826328502415459, 0.9826328502415459, 0.9826328502415459, 0.9826328502415459, 0.9826328502415459, 0.9826328502415459, 0.9826328502415459, 0.9826328502415459, 0.9826328502415459]}], \"recall_score_micro\": [{\"categories\": [\"0\", \"1\", \"5\", \"9\", \"16\", \"21\", \"22\", \"23\", \"24\", \"25\", \"26\", \"28\", \"29\", \"30\", \"31\", \"32\", \"33\", \"38\"], \"mode\": \"markers\", \"name\": \"recall_score_micro\", \"stepped\": false, \"type\": \"scatter\", \"data\": [0.9826328502415459, 0.9745229468599034, 0.9484591384863125, 0.7215046296296297, 0.9397846215780997, 0.950780998389694, 0.9646769323671497, 0.7759329710144928, 0.9009782608695652, 0.8998188405797102, 0.8737620772946859, 0.8720289855072464, 0.9484601449275362, 0.9137147745571658, 0.958887882447665, 0.8592904589371981, 0.9496235909822867, 0.9820531400966184]}, {\"categories\": [\"0\", \"1\", \"5\", \"9\", \"16\", \"21\", \"22\", \"23\", \"24\", \"25\", \"26\", \"28\", \"29\", \"30\", \"31\", \"32\", \"33\", \"38\"], \"mode\": \"lines\", \"name\": \"recall_score_micro_max\", \"stepped\": true, \"type\": \"scatter\", \"data\": [0.9826328502415459, 0.9826328502415459, 0.9826328502415459, 0.9826328502415459, 0.9826328502415459, 0.9826328502415459, 0.9826328502415459, 0.9826328502415459, 0.9826328502415459, 0.9826328502415459, 0.9826328502415459, 0.9826328502415459, 0.9826328502415459, 0.9826328502415459, 0.9826328502415459, 0.9826328502415459, 0.9826328502415459, 0.9826328502415459]}], \"balanced_accuracy\": [{\"categories\": [\"0\", \"1\", \"5\", \"9\", \"16\", \"21\", \"22\", \"23\", \"24\", \"25\", \"26\", \"28\", \"29\", \"30\", \"31\", \"32\", \"33\", \"38\"], \"mode\": \"markers\", \"name\": \"balanced_accuracy\", \"stepped\": false, \"type\": \"scatter\", \"data\": [0.9624798064408936, 0.9167952786694985, 0.8374416891548314, 0.7348390532766844, 0.9439669036954331, 0.852984920988817, 0.8742798818816322, 0.8113865238219349, 0.655284673231887, 0.5639106369881246, 0.6250453413751641, 0.5405242755852357, 0.8102827126912452, 0.7859202591589146, 0.873664003553139, 0.5556104269304272, 0.8333594747056434, 0.9560022961414408]}, {\"categories\": [\"0\", \"1\", \"5\", \"9\", \"16\", \"21\", \"22\", \"23\", \"24\", \"25\", \"26\", \"28\", \"29\", \"30\", \"31\", \"32\", \"33\", \"38\"], \"mode\": \"lines\", \"name\": \"balanced_accuracy_max\", \"stepped\": true, \"type\": \"scatter\", \"data\": [0.9624798064408936, 0.9624798064408936, 0.9624798064408936, 0.9624798064408936, 0.9624798064408936, 0.9624798064408936, 0.9624798064408936, 0.9624798064408936, 0.9624798064408936, 0.9624798064408936, 0.9624798064408936, 0.9624798064408936, 0.9624798064408936, 0.9624798064408936, 0.9624798064408936, 0.9624798064408936, 0.9624798064408936, 0.9624798064408936]}], \"average_precision_score_macro\": [{\"categories\": [\"0\", \"1\", \"5\", \"9\", \"16\", \"21\", \"22\", \"23\", \"24\", \"25\", \"26\", \"28\", \"29\", \"30\", \"31\", \"32\", \"33\", \"38\"], \"mode\": \"markers\", \"name\": \"average_precision_score_macro\", \"stepped\": false, \"type\": \"scatter\", \"data\": [0.9938735922885464, 0.9780138782836363, 0.904024666381679, 0.6969348742174937, 0.950984113022456, 0.915146709054623, 0.9487214654951611, 0.732472689217143, 0.8606347623795466, 0.8223826887674095, 0.8230610403892246, 0.8079900172610787, 0.908535133435952, 0.9006503007073077, 0.9403997270424194, 0.7695001854865445, 0.931036985450563, 0.9904923948349119]}, {\"categories\": [\"0\", \"1\", \"5\", \"9\", \"16\", \"21\", \"22\", \"23\", \"24\", \"25\", \"26\", \"28\", \"29\", \"30\", \"31\", \"32\", \"33\", \"38\"], \"mode\": \"lines\", \"name\": \"average_precision_score_macro_max\", \"stepped\": true, \"type\": \"scatter\", \"data\": [0.9938735922885464, 0.9938735922885464, 0.9938735922885464, 0.9938735922885464, 0.9938735922885464, 0.9938735922885464, 0.9938735922885464, 0.9938735922885464, 0.9938735922885464, 0.9938735922885464, 0.9938735922885464, 0.9938735922885464, 0.9938735922885464, 0.9938735922885464, 0.9938735922885464, 0.9938735922885464, 0.9938735922885464, 0.9938735922885464]}], \"recall_score_macro\": [{\"categories\": [\"0\", \"1\", \"5\", \"9\", \"16\", \"21\", \"22\", \"23\", \"24\", \"25\", \"26\", \"28\", \"29\", \"30\", \"31\", \"32\", \"33\", \"38\"], \"mode\": \"markers\", \"name\": \"recall_score_macro\", \"stepped\": false, \"type\": \"scatter\", \"data\": [0.9624798064408936, 0.9167952786694985, 0.8374416891548314, 0.7348390532766844, 0.9439669036954331, 0.852984920988817, 0.8742798818816322, 0.8113865238219349, 0.655284673231887, 0.5639106369881246, 0.6250453413751641, 0.5405242755852357, 0.8102827126912452, 0.7859202591589146, 0.873664003553139, 0.5556104269304272, 0.8333594747056434, 0.9560022961414408]}, {\"categories\": [\"0\", \"1\", \"5\", \"9\", \"16\", \"21\", \"22\", \"23\", \"24\", \"25\", \"26\", \"28\", \"29\", \"30\", \"31\", \"32\", \"33\", \"38\"], \"mode\": \"lines\", \"name\": \"recall_score_macro_max\", \"stepped\": true, \"type\": \"scatter\", \"data\": [0.9624798064408936, 0.9624798064408936, 0.9624798064408936, 0.9624798064408936, 0.9624798064408936, 0.9624798064408936, 0.9624798064408936, 0.9624798064408936, 0.9624798064408936, 0.9624798064408936, 0.9624798064408936, 0.9624798064408936, 0.9624798064408936, 0.9624798064408936, 0.9624798064408936, 0.9624798064408936, 0.9624798064408936, 0.9624798064408936]}], \"AUC_macro\": [{\"categories\": [\"0\", \"1\", \"5\", \"9\", \"16\", \"21\", \"22\", \"23\", \"24\", \"25\", \"26\", \"28\", \"29\", \"30\", \"31\", \"32\", \"33\", \"38\"], \"mode\": \"markers\", \"name\": \"AUC_macro\", \"stepped\": false, \"type\": \"scatter\", \"data\": [0.9990457541187446, 0.9981879026178183, 0.9926367252301844, 0.9347214613559354, 0.9918421738724064, 0.9935251394397994, 0.9967394368019601, 0.9479955922085125, 0.9879216329056854, 0.9810993187266422, 0.9792392401736444, 0.9762747722048427, 0.993359992328647, 0.9881079771952793, 0.9958806469648297, 0.9711985776162914, 0.9945484567558313, 0.9988703216509442]}, {\"categories\": [\"0\", \"1\", \"5\", \"9\", \"16\", \"21\", \"22\", \"23\", \"24\", \"25\", \"26\", \"28\", \"29\", \"30\", \"31\", \"32\", \"33\", \"38\"], \"mode\": \"lines\", \"name\": \"AUC_macro_max\", \"stepped\": true, \"type\": \"scatter\", \"data\": [0.9990457541187446, 0.9990457541187446, 0.9990457541187446, 0.9990457541187446, 0.9990457541187446, 0.9990457541187446, 0.9990457541187446, 0.9990457541187446, 0.9990457541187446, 0.9990457541187446, 0.9990457541187446, 0.9990457541187446, 0.9990457541187446, 0.9990457541187446, 0.9990457541187446, 0.9990457541187446, 0.9990457541187446, 0.9990457541187446]}], \"average_precision_score_weighted\": [{\"categories\": [\"0\", \"1\", \"5\", \"9\", \"16\", \"21\", \"22\", \"23\", \"24\", \"25\", \"26\", \"28\", \"29\", \"30\", \"31\", \"32\", \"33\", \"38\"], \"mode\": \"markers\", \"name\": \"average_precision_score_weighted\", \"stepped\": false, \"type\": \"scatter\", \"data\": [0.9971952408718546, 0.9938709142358589, 0.9761325894796079, 0.8441332049280544, 0.978144705028822, 0.9778368383724283, 0.9878472810691968, 0.8544581028309411, 0.958208274891981, 0.9432958421512626, 0.9410011621042145, 0.9292464953291333, 0.9780796005328304, 0.9651468060006204, 0.9857650554396522, 0.9193636834481403, 0.9827429276226057, 0.9962837916198711]}, {\"categories\": [\"0\", \"1\", \"5\", \"9\", \"16\", \"21\", \"22\", \"23\", \"24\", \"25\", \"26\", \"28\", \"29\", \"30\", \"31\", \"32\", \"33\", \"38\"], \"mode\": \"lines\", \"name\": \"average_precision_score_weighted_max\", \"stepped\": true, \"type\": \"scatter\", \"data\": [0.9971952408718546, 0.9971952408718546, 0.9971952408718546, 0.9971952408718546, 0.9971952408718546, 0.9971952408718546, 0.9971952408718546, 0.9971952408718546, 0.9971952408718546, 0.9971952408718546, 0.9971952408718546, 0.9971952408718546, 0.9971952408718546, 0.9971952408718546, 0.9971952408718546, 0.9971952408718546, 0.9971952408718546, 0.9971952408718546]}], \"matthews_correlation\": [{\"categories\": [\"0\", \"1\", \"5\", \"9\", \"16\", \"21\", \"22\", \"23\", \"24\", \"25\", \"26\", \"28\", \"29\", \"30\", \"31\", \"32\", \"33\", \"38\"], \"mode\": \"markers\", \"name\": \"matthews_correlation\", \"stepped\": false, \"type\": \"scatter\", \"data\": [0.9624785282073072, 0.9452927806062396, 0.889339821071566, 0.5197825709134416, 0.876558186600349, 0.8955912469564852, 0.923626740409775, 0.6052487312257612, 0.7918125030158333, 0.7860898955541314, 0.7197332542004307, 0.7150084478874882, 0.888729698383328, 0.8143407475428065, 0.9119385768726298, 0.6994780311192343, 0.8915085533753963, 0.9612778799373269]}, {\"categories\": [\"0\", \"1\", \"5\", \"9\", \"16\", \"21\", \"22\", \"23\", \"24\", \"25\", \"26\", \"28\", \"29\", \"30\", \"31\", \"32\", \"33\", \"38\"], \"mode\": \"lines\", \"name\": \"matthews_correlation_max\", \"stepped\": true, \"type\": \"scatter\", \"data\": [0.9624785282073072, 0.9624785282073072, 0.9624785282073072, 0.9624785282073072, 0.9624785282073072, 0.9624785282073072, 0.9624785282073072, 0.9624785282073072, 0.9624785282073072, 0.9624785282073072, 0.9624785282073072, 0.9624785282073072, 0.9624785282073072, 0.9624785282073072, 0.9624785282073072, 0.9624785282073072, 0.9624785282073072, 0.9624785282073072]}], \"f1_score_weighted\": [{\"categories\": [\"0\", \"1\", \"5\", \"9\", \"16\", \"21\", \"22\", \"23\", \"24\", \"25\", \"26\", \"28\", \"29\", \"30\", \"31\", \"32\", \"33\", \"38\"], \"mode\": \"markers\", \"name\": \"f1_score_weighted\", \"stepped\": false, \"type\": \"scatter\", \"data\": [0.9824728186538567, 0.9736915743863946, 0.947222864169695, 0.7555124379169914, 0.9413945446508643, 0.949084685443938, 0.9636496753613186, 0.7975725774606598, 0.8910378631136036, 0.882479612280055, 0.8683272943131497, 0.8550342047008059, 0.9470872559461442, 0.9117505423135256, 0.9580409929157985, 0.8509646707669286, 0.9484264030299494, 0.9817880661569424]}, {\"categories\": [\"0\", \"1\", \"5\", \"9\", \"16\", \"21\", \"22\", \"23\", \"24\", \"25\", \"26\", \"28\", \"29\", \"30\", \"31\", \"32\", \"33\", \"38\"], \"mode\": \"lines\", \"name\": \"f1_score_weighted_max\", \"stepped\": true, \"type\": \"scatter\", \"data\": [0.9824728186538567, 0.9824728186538567, 0.9824728186538567, 0.9824728186538567, 0.9824728186538567, 0.9824728186538567, 0.9824728186538567, 0.9824728186538567, 0.9824728186538567, 0.9824728186538567, 0.9824728186538567, 0.9824728186538567, 0.9824728186538567, 0.9824728186538567, 0.9824728186538567, 0.9824728186538567, 0.9824728186538567, 0.9824728186538567]}], \"precision_score_weighted\": [{\"categories\": [\"0\", \"1\", \"5\", \"9\", \"16\", \"21\", \"22\", \"23\", \"24\", \"25\", \"26\", \"28\", \"29\", \"30\", \"31\", \"32\", \"33\", \"38\"], \"mode\": \"markers\", \"name\": \"precision_score_weighted\", \"stepped\": false, \"type\": \"scatter\", \"data\": [0.9832159651814981, 0.974495281780274, 0.9490154385154317, 0.8276626827370966, 0.9468829558744972, 0.9526466616876256, 0.9637132960382512, 0.8510685136121005, 0.900224417541267, 0.893486479642517, 0.8728072547420359, 0.8525373586983992, 0.9478226466534996, 0.9150938454505951, 0.9584655362724712, 0.862044866475178, 0.9495112551294875, 0.9825865565863464]}, {\"categories\": [\"0\", \"1\", \"5\", \"9\", \"16\", \"21\", \"22\", \"23\", \"24\", \"25\", \"26\", \"28\", \"29\", \"30\", \"31\", \"32\", \"33\", \"38\"], \"mode\": \"lines\", \"name\": \"precision_score_weighted_max\", \"stepped\": true, \"type\": \"scatter\", \"data\": [0.9832159651814981, 0.9832159651814981, 0.9832159651814981, 0.9832159651814981, 0.9832159651814981, 0.9832159651814981, 0.9832159651814981, 0.9832159651814981, 0.9832159651814981, 0.9832159651814981, 0.9832159651814981, 0.9832159651814981, 0.9832159651814981, 0.9832159651814981, 0.9832159651814981, 0.9832159651814981, 0.9832159651814981, 0.9832159651814981]}], \"f1_score_micro\": [{\"categories\": [\"0\", \"1\", \"5\", \"9\", \"16\", \"21\", \"22\", \"23\", \"24\", \"25\", \"26\", \"28\", \"29\", \"30\", \"31\", \"32\", \"33\", \"38\"], \"mode\": \"markers\", \"name\": \"f1_score_micro\", \"stepped\": false, \"type\": \"scatter\", \"data\": [0.9826328502415459, 0.9745229468599034, 0.9484591384863125, 0.7215046296296297, 0.9397846215780997, 0.950780998389694, 0.9646769323671497, 0.7759329710144928, 0.9009782608695652, 0.8998188405797102, 0.8737620772946859, 0.8720289855072464, 0.9484601449275362, 0.9137147745571658, 0.958887882447665, 0.8592904589371981, 0.9496235909822867, 0.9820531400966184]}, {\"categories\": [\"0\", \"1\", \"5\", \"9\", \"16\", \"21\", \"22\", \"23\", \"24\", \"25\", \"26\", \"28\", \"29\", \"30\", \"31\", \"32\", \"33\", \"38\"], \"mode\": \"lines\", \"name\": \"f1_score_micro_max\", \"stepped\": true, \"type\": \"scatter\", \"data\": [0.9826328502415459, 0.9826328502415459, 0.9826328502415459, 0.9826328502415459, 0.9826328502415459, 0.9826328502415459, 0.9826328502415459, 0.9826328502415459, 0.9826328502415459, 0.9826328502415459, 0.9826328502415459, 0.9826328502415459, 0.9826328502415459, 0.9826328502415459, 0.9826328502415459, 0.9826328502415459, 0.9826328502415459, 0.9826328502415459]}], \"average_precision_score_micro\": [{\"categories\": [\"0\", \"1\", \"5\", \"9\", \"16\", \"21\", \"22\", \"23\", \"24\", \"25\", \"26\", \"28\", \"29\", \"30\", \"31\", \"32\", \"33\", \"38\"], \"mode\": \"markers\", \"name\": \"average_precision_score_micro\", \"stepped\": false, \"type\": \"scatter\", \"data\": [0.9982808475759496, 0.9975371649987941, 0.9894228322254802, 0.8755071252360166, 0.9852432618241639, 0.9913078192888962, 0.9960043403411741, 0.8976549519055963, 0.9760747872867244, 0.9676364797820906, 0.9655322177050606, 0.9618166367500544, 0.9913497456714166, 0.9810844130883752, 0.9947909428432632, 0.9530429082507635, 0.9922646160954964, 0.9979794150996183]}, {\"categories\": [\"0\", \"1\", \"5\", \"9\", \"16\", \"21\", \"22\", \"23\", \"24\", \"25\", \"26\", \"28\", \"29\", \"30\", \"31\", \"32\", \"33\", \"38\"], \"mode\": \"lines\", \"name\": \"average_precision_score_micro_max\", \"stepped\": true, \"type\": \"scatter\", \"data\": [0.9982808475759496, 0.9982808475759496, 0.9982808475759496, 0.9982808475759496, 0.9982808475759496, 0.9982808475759496, 0.9982808475759496, 0.9982808475759496, 0.9982808475759496, 0.9982808475759496, 0.9982808475759496, 0.9982808475759496, 0.9982808475759496, 0.9982808475759496, 0.9982808475759496, 0.9982808475759496, 0.9982808475759496, 0.9982808475759496]}], \"weighted_accuracy\": [{\"categories\": [\"0\", \"1\", \"5\", \"9\", \"16\", \"21\", \"22\", \"23\", \"24\", \"25\", \"26\", \"28\", \"29\", \"30\", \"31\", \"32\", \"33\", \"38\"], \"mode\": \"markers\", \"name\": \"weighted_accuracy\", \"stepped\": false, \"type\": \"scatter\", \"data\": [0.9865024510085333, 0.9866049685490004, 0.9722077045091254, 0.7624970722837316, 0.9399404376062099, 0.9714361670854426, 0.9845834938221532, 0.7863851056136758, 0.9446512144575544, 0.9584023464971859, 0.9375538188237088, 0.9473211241218386, 0.9776683325315068, 0.9458427170601124, 0.9775658091601055, 0.9222817945860151, 0.9742753083620107, 0.987139240424933]}, {\"categories\": [\"0\", \"1\", \"5\", \"9\", \"16\", \"21\", \"22\", \"23\", \"24\", \"25\", \"26\", \"28\", \"29\", \"30\", \"31\", \"32\", \"33\", \"38\"], \"mode\": \"lines\", \"name\": \"weighted_accuracy_max\", \"stepped\": true, \"type\": \"scatter\", \"data\": [0.9865024510085333, 0.9866049685490004, 0.9866049685490004, 0.9866049685490004, 0.9866049685490004, 0.9866049685490004, 0.9866049685490004, 0.9866049685490004, 0.9866049685490004, 0.9866049685490004, 0.9866049685490004, 0.9866049685490004, 0.9866049685490004, 0.9866049685490004, 0.9866049685490004, 0.9866049685490004, 0.9866049685490004, 0.987139240424933]}], \"f1_score_macro\": [{\"categories\": [\"0\", \"1\", \"5\", \"9\", \"16\", \"21\", \"22\", \"23\", \"24\", \"25\", \"26\", \"28\", \"29\", \"30\", \"31\", \"32\", \"33\", \"38\"], \"mode\": \"markers\", \"name\": \"f1_score_macro\", \"stepped\": false, \"type\": \"scatter\", \"data\": [0.964149597555385, 0.9251776219560934, 0.8498645277827169, 0.5568865291761876, 0.9111854373470555, 0.8406060898675998, 0.8808073538674682, 0.6613564569997582, 0.6591257545457647, 0.5778162784777565, 0.6620309779032124, 0.5575485754866768, 0.8216843661802996, 0.7966336806152552, 0.8731950286305389, 0.577559798532829, 0.8424683922819782, 0.9598998893883487]}, {\"categories\": [\"0\", \"1\", \"5\", \"9\", \"16\", \"21\", \"22\", \"23\", \"24\", \"25\", \"26\", \"28\", \"29\", \"30\", \"31\", \"32\", \"33\", \"38\"], \"mode\": \"lines\", \"name\": \"f1_score_macro_max\", \"stepped\": true, \"type\": \"scatter\", \"data\": [0.964149597555385, 0.964149597555385, 0.964149597555385, 0.964149597555385, 0.964149597555385, 0.964149597555385, 0.964149597555385, 0.964149597555385, 0.964149597555385, 0.964149597555385, 0.964149597555385, 0.964149597555385, 0.964149597555385, 0.964149597555385, 0.964149597555385, 0.964149597555385, 0.964149597555385, 0.964149597555385]}], \"log_loss\": [{\"categories\": [\"0\", \"1\", \"5\", \"9\", \"16\", \"21\", \"22\", \"23\", \"24\", \"25\", \"26\", \"28\", \"29\", \"30\", \"31\", \"32\", \"33\", \"38\"], \"mode\": \"markers\", \"name\": \"log_loss\", \"stepped\": false, \"type\": \"scatter\", \"data\": [0.05201993946696661, 0.0634328517121533, 0.23632347651496388, 0.7274363053278735, 0.2046636661600548, 0.30359447096967535, 0.12013456274294364, 0.6079275265131797, 0.32856390602074703, 0.3079602470935017, 0.2838642681806907, 0.32036621928299436, 0.16964769938964752, 0.20438967684674714, 0.14308878322223703, 0.34634866181001733, 0.17057774508284487, 0.06330323807263179]}, {\"categories\": [\"0\", \"1\", \"5\", \"9\", \"16\", \"21\", \"22\", \"23\", \"24\", \"25\", \"26\", \"28\", \"29\", \"30\", \"31\", \"32\", \"33\", \"38\"], \"mode\": \"lines\", \"name\": \"log_loss_min\", \"stepped\": true, \"type\": \"scatter\", \"data\": [0.05201993946696661, 0.05201993946696661, 0.05201993946696661, 0.05201993946696661, 0.05201993946696661, 0.05201993946696661, 0.05201993946696661, 0.05201993946696661, 0.05201993946696661, 0.05201993946696661, 0.05201993946696661, 0.05201993946696661, 0.05201993946696661, 0.05201993946696661, 0.05201993946696661, 0.05201993946696661, 0.05201993946696661, 0.05201993946696661]}], \"precision_score_macro\": [{\"categories\": [\"0\", \"1\", \"5\", \"9\", \"16\", \"21\", \"22\", \"23\", \"24\", \"25\", \"26\", \"28\", \"29\", \"30\", \"31\", \"32\", \"33\", \"38\"], \"mode\": \"markers\", \"name\": \"precision_score_macro\", \"stepped\": false, \"type\": \"scatter\", \"data\": [0.9692311328293718, 0.940715463323165, 0.874760999019134, 0.5261783609485579, 0.8868706373922239, 0.8542507391216968, 0.8920424855991972, 0.6010283599044387, 0.7391728412187409, 0.7275463479139695, 0.7513353909437908, 0.6480094069849959, 0.8405775679195248, 0.8316313214386947, 0.8769267165426666, 0.6860057064049184, 0.8600094122621816, 0.9682425796065454]}, {\"categories\": [\"0\", \"1\", \"5\", \"9\", \"16\", \"21\", \"22\", \"23\", \"24\", \"25\", \"26\", \"28\", \"29\", \"30\", \"31\", \"32\", \"33\", \"38\"], \"mode\": \"lines\", \"name\": \"precision_score_macro_max\", \"stepped\": true, \"type\": \"scatter\", \"data\": [0.9692311328293718, 0.9692311328293718, 0.9692311328293718, 0.9692311328293718, 0.9692311328293718, 0.9692311328293718, 0.9692311328293718, 0.9692311328293718, 0.9692311328293718, 0.9692311328293718, 0.9692311328293718, 0.9692311328293718, 0.9692311328293718, 0.9692311328293718, 0.9692311328293718, 0.9692311328293718, 0.9692311328293718, 0.9692311328293718]}], \"AUC_micro\": [{\"categories\": [\"0\", \"1\", \"5\", \"9\", \"16\", \"21\", \"22\", \"23\", \"24\", \"25\", \"26\", \"28\", \"29\", \"30\", \"31\", \"32\", \"33\", \"38\"], \"mode\": \"markers\", \"name\": \"AUC_micro\", \"stepped\": false, \"type\": \"scatter\", \"data\": [0.9994114807837794, 0.9991558370400272, 0.9961164764314479, 0.9449331451553631, 0.9948134717637728, 0.9968799211086218, 0.9986241843166637, 0.9602392916639116, 0.9910910717227536, 0.9872568291645841, 0.9873959170423804, 0.9853932114070713, 0.9969223899026637, 0.9932515029390595, 0.9981867370241607, 0.9816633920172841, 0.9972376312040376, 0.9993143405506594]}, {\"categories\": [\"0\", \"1\", \"5\", \"9\", \"16\", \"21\", \"22\", \"23\", \"24\", \"25\", \"26\", \"28\", \"29\", \"30\", \"31\", \"32\", \"33\", \"38\"], \"mode\": \"lines\", \"name\": \"AUC_micro_max\", \"stepped\": true, \"type\": \"scatter\", \"data\": [0.9994114807837794, 0.9994114807837794, 0.9994114807837794, 0.9994114807837794, 0.9994114807837794, 0.9994114807837794, 0.9994114807837794, 0.9994114807837794, 0.9994114807837794, 0.9994114807837794, 0.9994114807837794, 0.9994114807837794, 0.9994114807837794, 0.9994114807837794, 0.9994114807837794, 0.9994114807837794, 0.9994114807837794, 0.9994114807837794]}]}, \"metricName\": null, \"primaryMetricName\": \"AUC_weighted\", \"showLegend\": false}, \"run_metrics\": [{\"name\": \"experiment_status\", \"run_id\": \"AutoML_be24dc51-7db8-4bba-acf6-66cc51cb5b96\", \"categories\": [0, 1, 2, 3, 4, 5, 6, 7, 8, 9, 10, 11, 12, 13, 14], \"series\": [{\"data\": [\"DatasetEvaluation\", \"FeaturesGeneration\", \"DatasetFeaturization\", \"DatasetFeaturizationCompleted\", \"DatasetBalancing\", \"DatasetCrossValidationSplit\", \"ModelSelection\", \"BestRunExplainModel\", \"ModelExplanationDataSetSetup\", \"PickSurrogateModel\", \"EngineeredFeatureExplanations\", \"EngineeredFeatureExplanations\", \"RawFeaturesExplanations\", \"RawFeaturesExplanations\", \"BestRunExplainModel\"]}]}, {\"name\": \"experiment_status_description\", \"run_id\": \"AutoML_be24dc51-7db8-4bba-acf6-66cc51cb5b96\", \"categories\": [0, 1, 2, 3, 4, 5, 6, 7, 8, 9, 10, 11, 12, 13, 14], \"series\": [{\"data\": [\"Gathering dataset statistics.\", \"Generating features for the dataset.\", \"Beginning to fit featurizers and featurize the dataset.\", \"Completed fit featurizers and featurizing the dataset.\", \"Performing class balancing sweeping\", \"Generating individually featurized CV splits.\", \"Beginning model selection.\", \"Best run model explanations started\", \"Model explanations data setup completed\", \"Choosing LightGBM as the surrogate model for explanations\", \"Computation of engineered features started\", \"Computation of engineered features completed\", \"Computation of raw features started\", \"Computation of raw features completed\", \"Best run model explanations completed\"]}]}], \"run_logs\": \"\\nRun is completed.\", \"graph\": {}, \"widget_settings\": {\"childWidgetDisplay\": \"popup\", \"send_telemetry\": false, \"log_level\": \"INFO\", \"sdk_version\": \"1.49.0\"}, \"loading\": false}"
          },
          "metadata": {}
        }
      ],
      "execution_count": 7,
      "metadata": {
        "gather": {
          "logged": 1685426812918
        },
        "jupyter": {
          "outputs_hidden": false,
          "source_hidden": false
        },
        "nteract": {
          "transient": {
            "deleting": false
          }
        }
      }
    },
    {
      "cell_type": "markdown",
      "source": [
        "## Best Model\n",
        "\n",
        "TODO: In the cell below, get the best model from the automl experiments and display all the properties of the model.\n",
        "\n"
      ],
      "metadata": {}
    },
    {
      "cell_type": "code",
      "source": [
        "#Wait for the AutoML run to complete\n",
        "remote_run.wait_for_completion(show_output=True)\n",
        "\n",
        "#\"best_run\" contains the model, metrics, and run ID\n",
        "#\"fitted_model\" contains the actual trained model object\n",
        "best_run, fitted_model = remote_run.get_output()\n",
        "\n",
        "#\"best_run_metrics\" contains a dictionary of the metrics associated with the best run.\n",
        "best_run_metrics = best_run.get_metrics()\n",
        "\n",
        "# Display all the properties of the best model\n",
        "print(best_run.get_properties())\n"
      ],
      "outputs": [
        {
          "output_type": "display_data",
          "data": {
            "text/plain": "<IPython.core.display.HTML object>",
            "text/html": "<table style=\"width:100%\"><tr><th>Experiment</th><th>Id</th><th>Type</th><th>Status</th><th>Details Page</th><th>Docs Page</th></tr><tr><td>auto-ml</td><td>AutoML_be24dc51-7db8-4bba-acf6-66cc51cb5b96</td><td>automl</td><td>Completed</td><td><a href=\"https://ml.azure.com/runs/AutoML_be24dc51-7db8-4bba-acf6-66cc51cb5b96?wsid=/subscriptions/aa7cf8e8-d23f-4bce-a7b9-1f0b4e0ac8ee/resourcegroups/aml-quickstarts-234630/workspaces/quick-starts-ws-234630&amp;tid=660b3398-b80e-49d2-bc5b-ac1dc93b5254\" target=\"_blank\" rel=\"noopener\">Link to Azure Machine Learning studio</a></td><td><a href=\"https://docs.microsoft.com/en-us/python/api/overview/azure/ml/intro?view=azure-ml-py\" target=\"_blank\" rel=\"noopener\">Link to Documentation</a></td></tr></table>"
          },
          "metadata": {}
        },
        {
          "output_type": "stream",
          "name": "stdout",
          "text": "\n\n********************************************************************************************\nDATA GUARDRAILS: \n\nTYPE:         Cross validation\nSTATUS:       DONE\nDESCRIPTION:  In order to accurately evaluate the model(s) trained by AutoML, we leverage a dataset that the model is not trained on. Hence, if the user doesn't provide an explicit validation dataset, a part of the training dataset is used to achieve this. For smaller datasets (fewer than 20,000 samples), cross-validation is leveraged, else a single hold-out set is split from the training data to serve as the validation dataset. Hence, for your input data we leverage cross-validation with 10 folds, if the number of training samples are fewer than 1000, and 3 folds in all other cases.\n              Learn more about cross validation: https://aka.ms/AutomatedMLCrossValidation\nDETAILS:      \n+------------------------------+\n|Number of folds               |\n+==============================+\n|3                             |\n+------------------------------+\n\n********************************************************************************************\n\nTYPE:         Class balancing detection\nSTATUS:       ALERTED\nDESCRIPTION:  To decrease model bias, please cancel the current run and fix balancing problem.\n              Learn more about imbalanced data: https://aka.ms/AutomatedMLImbalancedData\nDETAILS:      Imbalanced data can lead to a falsely perceived positive effect of a model's accuracy because the input data has bias towards one class.\n+------------------------------+--------------------------------+--------------------------------------+\n|Size of the smallest class    |Name/Label of the smallest class|Number of samples in the training data|\n+==============================+================================+======================================+\n|65                            |vgood                           |1727                                  |\n+------------------------------+--------------------------------+--------------------------------------+\n\n********************************************************************************************\n\nTYPE:         Missing feature values imputation\nSTATUS:       PASSED\nDESCRIPTION:  No feature missing values were detected in the training data.\n              Learn more about missing value imputation: https://aka.ms/AutomatedMLFeaturization\n\n********************************************************************************************\n\nTYPE:         High cardinality feature detection\nSTATUS:       PASSED\nDESCRIPTION:  Your inputs were analyzed, and no high cardinality features were detected.\n              Learn more about high cardinality feature handling: https://aka.ms/AutomatedMLFeaturization\n\n********************************************************************************************\n\n********************************************************************************************\nITER: The iteration being evaluated.\nPIPELINE: A summary description of the pipeline being evaluated.\nDURATION: Time taken for the current iteration.\nMETRIC: The result of computing score on the fitted pipeline.\nBEST: The best observed score thus far.\n********************************************************************************************\n\n ITER   PIPELINE                                       DURATION            METRIC      BEST\n    0   MaxAbsScaler LightGBM                          0:00:16             0.9988    0.9988\n    1   MaxAbsScaler XGBoostClassifier                 0:00:13             0.9986    0.9988\n    2   MaxAbsScaler ExtremeRandomTrees                0:00:12             0.9681    0.9988\n    3   MaxAbsScaler RandomForest                      0:00:12             0.9746    0.9988\n    4   StandardScalerWrapper LightGBM                 0:00:15             0.9717    0.9988\n    5   SparseNormalizer XGBoostClassifier             0:00:12             0.9947    0.9988\n    6   SparseNormalizer RandomForest                  0:00:13             0.9777    0.9988\n    7   StandardScalerWrapper XGBoostClassifier        0:00:12             0.9903    0.9988\n    8   SparseNormalizer XGBoostClassifier             0:00:15             0.9952    0.9988\n    9   MaxAbsScaler RandomForest                      0:00:12             0.9434    0.9988\n   10   SparseNormalizer LightGBM                      0:00:12             0.9748    0.9988\n   11   MaxAbsScaler ExtremeRandomTrees                0:00:16             0.9859    0.9988\n   12   StandardScalerWrapper XGBoostClassifier        0:00:13             0.9951    0.9988\n   13   StandardScalerWrapper ExtremeRandomTrees       0:00:11             0.9727    0.9988\n   14   StandardScalerWrapper RandomForest             0:00:12             0.9960    0.9988\n   15   MaxAbsScaler LightGBM                          0:00:17             0.9862    0.9988\n   16   MaxAbsScaler LogisticRegression                0:00:17             0.9886    0.9988\n   17   StandardScalerWrapper ExtremeRandomTrees       0:00:14             0.9468    0.9988\n   18   StandardScalerWrapper XGBoostClassifier        0:00:12             0.9943    0.9988\n   19   MaxAbsScaler ExtremeRandomTrees                0:00:12             0.9841    0.9988\n   20   MaxAbsScaler LogisticRegression                0:00:34             0.9831    0.9988\n   21   StandardScalerWrapper XGBoostClassifier        0:00:33             0.9945    0.9988\n   22   StandardScalerWrapper XGBoostClassifier        0:00:36             0.9979    0.9988\n   23   MaxAbsScaler RandomForest                      0:00:32             0.9526    0.9988\n   24   SparseNormalizer XGBoostClassifier             0:00:33             0.9882    0.9988\n   25   MaxAbsScaler LightGBM                          0:00:34             0.9844    0.9988\n   26   MaxAbsScaler LinearSVM                         0:00:35             0.9798    0.9988\n   27   MaxAbsScaler LinearSVM                         0:00:33             0.9796    0.9988\n   28   StandardScalerWrapper LightGBM                 0:00:33             0.9793    0.9988\n   29   MaxAbsScaler LightGBM                          0:00:36             0.9954    0.9988\n   30   SparseNormalizer LightGBM                      0:00:36             0.9867    0.9988\n   31   SparseNormalizer XGBoostClassifier             0:00:34             0.9973    0.9988\n   32   MaxAbsScaler LightGBM                          0:00:33             0.9724    0.9988\n   33   SparseNormalizer XGBoostClassifier             0:00:33             0.9963    0.9988\n   34   StandardScalerWrapper XGBoostClassifier        0:00:22                nan    0.9988\n   35   StandardScalerWrapper LightGBM                 0:00:16                nan    0.9988\n   36                                                  0:00:10                nan    0.9988\n   37                                                  0:00:06                nan    0.9988\n   38    VotingEnsemble                                0:01:03             0.9988    0.9988\n   39    StackEnsemble                                 0:01:12             0.9980    0.9988\n{'runTemplate': 'automl_child', 'pipeline_id': '5dfac790c5c209f98a1da2dc1c7fb76f0397324f', 'pipeline_spec': '{\"objects\":[{\"spec_class\":\"preproc\",\"class_name\":\"MaxAbsScaler\",\"module\":\"sklearn.preprocessing\",\"param_args\":[],\"param_kwargs\":{},\"prepared_kwargs\":{}},{\"spec_class\":\"sklearn\",\"class_name\":\"LightGBMClassifier\",\"module\":\"automl.client.core.common.model_wrappers\",\"param_args\":[],\"param_kwargs\":{\"min_data_in_leaf\":20},\"prepared_kwargs\":{}}],\"pipeline_id\":\"5dfac790c5c209f98a1da2dc1c7fb76f0397324f\",\"module\":\"sklearn.pipeline\",\"class_name\":\"Pipeline\"}', 'training_percent': '100', 'predicted_cost': None, 'iteration': '0', '_aml_system_scenario_identification': 'Remote.Child', 'run_preprocessor': 'MaxAbsScaler', 'run_algorithm': 'LightGBM', 'model_output_path': 'outputs/model.pkl', 'conda_env_data_location': 'aml://artifact/ExperimentRun/dcid.AutoML_be24dc51-7db8-4bba-acf6-66cc51cb5b96_0/outputs/conda_env_v_1_0_0.yml', 'model_data_location': 'aml://artifact/ExperimentRun/dcid.AutoML_be24dc51-7db8-4bba-acf6-66cc51cb5b96_0/outputs/model.pkl', 'model_size_on_disk': '1444072', 'scoring_data_location': 'aml://artifact/ExperimentRun/dcid.AutoML_be24dc51-7db8-4bba-acf6-66cc51cb5b96_0/outputs/scoring_file_v_1_0_0.py', 'scoring_data_location_v2': 'aml://artifact/ExperimentRun/dcid.AutoML_be24dc51-7db8-4bba-acf6-66cc51cb5b96_0/outputs/scoring_file_v_2_0_0.py', 'scoring_data_location_pbi': 'aml://artifact/ExperimentRun/dcid.AutoML_be24dc51-7db8-4bba-acf6-66cc51cb5b96_0/outputs/scoring_file_pbi_v_1_0_0.py', 'model_exp_support': 'True', 'pipeline_graph_version': '1.0.0', 'model_name': 'AutoMLbe24dc5170', 'score': '0.9987787177700516', 'score_table': 'NaN', 'run_properties': 'copy=True', 'pipeline_script': '{\"objects\":[{\"spec_class\":\"preproc\",\"class_name\":\"MaxAbsScaler\",\"module\":\"sklearn.preprocessing\",\"param_args\":[],\"param_kwargs\":{},\"prepared_kwargs\":{}},{\"spec_class\":\"sklearn\",\"class_name\":\"LightGBMClassifier\",\"module\":\"automl.client.core.common.model_wrappers\",\"param_args\":[],\"param_kwargs\":{\"min_data_in_leaf\":20},\"prepared_kwargs\":{}}],\"pipeline_id\":\"5dfac790c5c209f98a1da2dc1c7fb76f0397324f\",\"module\":\"sklearn.pipeline\",\"class_name\":\"Pipeline\"}', 'training_type': 'MeanCrossValidation', 'fit_time': '0.271993', 'goal': 'AUC_weighted_max', 'primary_metric': 'AUC_weighted', 'errors': '{}', 'onnx_model_resource': '{}', 'dependencies_versions': '{\"azureml-training-tabular\": \"1.50.0\", \"azureml-train-restclients-hyperdrive\": \"1.50.0\", \"azureml-train-core\": \"1.50.0\", \"azureml-train-automl-runtime\": \"1.50.0\", \"azureml-train-automl-client\": \"1.50.0\", \"azureml-telemetry\": \"1.50.0\", \"azureml-responsibleai\": \"1.50.0\", \"azureml-pipeline-core\": \"1.50.0.post1\", \"azureml-mlflow\": \"1.50.0\", \"azureml-interpret\": \"1.50.0\", \"azureml-inference-server-http\": \"0.8.3\", \"azureml-defaults\": \"1.50.0\", \"azureml-dataset-runtime\": \"1.50.0\", \"azureml-dataprep\": \"4.10.6\", \"azureml-dataprep-rslex\": \"2.17.5\", \"azureml-dataprep-native\": \"38.0.0\", \"azureml-core\": \"1.50.0\", \"azureml-automl-runtime\": \"1.50.0\", \"azureml-automl-core\": \"1.50.0\"}', 'num_cores': '2', 'num_logical_cores': '2', 'peak_memory_usage': '882672', 'vm_configuration': 'x86_64', 'core_hours': '0.002690971666666667', 'feature_skus': 'automatedml_sdk_guardrails'}\n"
        },
        {
          "output_type": "stream",
          "name": "stderr",
          "text": "WARNING:root:The version of the SDK does not match the version the model was trained on.\nWARNING:root:The consistency in the result may not be guaranteed.\nWARNING:root:Package:azureml-automl-core, training version:1.50.0, current version:1.49.0\nPackage:azureml-automl-runtime, training version:1.50.0, current version:1.49.0\nPackage:azureml-core, training version:1.50.0, current version:1.49.0\nPackage:azureml-dataprep, training version:4.10.6, current version:4.9.1\nPackage:azureml-dataprep-rslex, training version:2.17.5, current version:2.16.1\nPackage:azureml-dataset-runtime, training version:1.50.0, current version:1.49.0\nPackage:azureml-defaults, training version:1.50.0, current version:1.49.0\nPackage:azureml-interpret, training version:1.50.0, current version:1.49.0\nPackage:azureml-mlflow, training version:1.50.0, current version:1.49.0\nPackage:azureml-pipeline-core, training version:1.50.0.post1, current version:1.49.0\nPackage:azureml-responsibleai, training version:1.50.0, current version:1.49.0\nPackage:azureml-telemetry, training version:1.50.0, current version:1.49.0\nPackage:azureml-train-automl-client, training version:1.50.0, current version:1.49.0\nPackage:azureml-train-automl-runtime, training version:1.50.0, current version:1.49.0\nPackage:azureml-train-core, training version:1.50.0, current version:1.49.0\nPackage:azureml-train-restclients-hyperdrive, training version:1.50.0, current version:1.49.0\nPackage:azureml-training-tabular, training version:1.50.0, current version:1.49.0\nWARNING:root:Please ensure the version of your local conda dependencies match the version on which your model was trained in order to properly retrieve your model.\n"
        }
      ],
      "execution_count": 8,
      "metadata": {
        "gather": {
          "logged": 1685429982315
        },
        "jupyter": {
          "outputs_hidden": false,
          "source_hidden": false
        },
        "nteract": {
          "transient": {
            "deleting": false
          }
        }
      }
    },
    {
      "cell_type": "code",
      "source": [
        "#TODO: Save the best model\n",
        "# Save the fitted model as a pickle file\n",
        "filename = 'best_model.pkl'\n",
        "with open(filename, 'wb') as file:\n",
        "    pickle.dump(fitted_model, file)\n"
      ],
      "outputs": [],
      "execution_count": 13,
      "metadata": {
        "gather": {
          "logged": 1685431475279
        },
        "jupyter": {
          "outputs_hidden": false,
          "source_hidden": false
        },
        "nteract": {
          "transient": {
            "deleting": false
          }
        }
      }
    },
    {
      "cell_type": "code",
      "source": [
        "print(filename)"
      ],
      "outputs": [
        {
          "output_type": "stream",
          "name": "stdout",
          "text": "best_model.pkl\n"
        }
      ],
      "execution_count": 14,
      "metadata": {
        "jupyter": {
          "source_hidden": false,
          "outputs_hidden": false
        },
        "nteract": {
          "transient": {
            "deleting": false
          }
        },
        "gather": {
          "logged": 1685431479247
        }
      }
    },
    {
      "cell_type": "code",
      "source": [
        "import pickle\r\n",
        "with open(filename, 'rb') as file:\r\n",
        "    loaded_model=pickle.load(file)\r\n",
        "print(loaded_model)"
      ],
      "outputs": [
        {
          "output_type": "stream",
          "name": "stdout",
          "text": "Pipeline(memory=None,\n         steps=[('datatransformer',\n                 DataTransformer(enable_dnn=False, enable_feature_sweeping=True, feature_sweeping_config={}, feature_sweeping_timeout=86400, featurization_config=None, force_text_dnn=False, is_cross_validation=True, is_onnx_compatible=False, observer=None, task='classification', working_dir='/mnt/batch/tasks/shared/LS_root/mounts/clusters/notebook234630/code/Users/odl_user_234630')),\n                ('MaxAbsScaler', MaxAbsScaler(copy=True)),\n                ('LightGBMClassifier',\n                 LightGBMClassifier(min_data_in_leaf=20, n_jobs=1, problem_info=ProblemInfo(gpu_training_param_dict={'processing_unit_type': 'cpu'}), random_state=None))],\n         verbose=False)\nY_transformer(['LabelEncoder', LabelEncoder()])\n"
        }
      ],
      "execution_count": 15,
      "metadata": {
        "jupyter": {
          "source_hidden": false,
          "outputs_hidden": false
        },
        "nteract": {
          "transient": {
            "deleting": false
          }
        },
        "gather": {
          "logged": 1685431485363
        }
      }
    },
    {
      "cell_type": "markdown",
      "source": [
        "## Model Deployment\n",
        "\n",
        "Remember you have to deploy only one of the two models you trained but you still need to register both the models. Perform the steps in the rest of this notebook only if you wish to deploy this model.\n",
        "\n",
        "TODO: In the cell below, register the model, create an inference config and deploy the model as a web service."
      ],
      "metadata": {}
    },
    {
      "cell_type": "code",
      "source": [
        "best_run.register_model(model_name='best_aml_model', model_path='./outputs/')"
      ],
      "outputs": [
        {
          "output_type": "execute_result",
          "execution_count": 9,
          "data": {
            "text/plain": "Model(workspace=Workspace.create(name='quick-starts-ws-234630', subscription_id='aa7cf8e8-d23f-4bce-a7b9-1f0b4e0ac8ee', resource_group='aml-quickstarts-234630'), name=best_aml_model, id=best_aml_model:1, version=1, tags={}, properties={})"
          },
          "metadata": {}
        }
      ],
      "execution_count": 9,
      "metadata": {
        "gather": {
          "logged": 1685430412446
        },
        "jupyter": {
          "outputs_hidden": false,
          "source_hidden": false
        },
        "nteract": {
          "transient": {
            "deleting": false
          }
        }
      }
    },
    {
      "cell_type": "code",
      "source": [
        "from azureml.core import Model\n",
        "\n",
        "model = Model.register(workspace=ws, \n",
        "    model_path='best_model.pkl', \n",
        "    model_name='best_aml_model')\n"
      ],
      "outputs": [
        {
          "output_type": "stream",
          "name": "stdout",
          "text": "Registering model best_aml_model\n"
        }
      ],
      "execution_count": 16,
      "metadata": {
        "gather": {
          "logged": 1685431570482
        },
        "jupyter": {
          "outputs_hidden": false,
          "source_hidden": false
        },
        "nteract": {
          "transient": {
            "deleting": false
          }
        }
      }
    },
    {
      "cell_type": "code",
      "source": [
        "from azureml.core import InferenceConfig, Environment\n",
        "\n",
        "env = Environment.get(workspace=ws, name='quick-starts-ws-233975') #####\n",
        "inference_config = InferenceConfig(entry_script='score.py', environment=env) #####"
      ],
      "outputs": [
        {
          "output_type": "error",
          "ename": "ImportError",
          "evalue": "cannot import name 'InferenceConfig' from 'azureml.core' (/anaconda/envs/azureml_py38/lib/python3.8/site-packages/azureml/core/__init__.py)",
          "traceback": [
            "\u001b[0;31m---------------------------------------------------------------------------\u001b[0m",
            "\u001b[0;31mImportError\u001b[0m                               Traceback (most recent call last)",
            "Cell \u001b[0;32mIn[17], line 1\u001b[0m\n\u001b[0;32m----> 1\u001b[0m \u001b[38;5;28;01mfrom\u001b[39;00m \u001b[38;5;21;01mazureml\u001b[39;00m\u001b[38;5;21;01m.\u001b[39;00m\u001b[38;5;21;01mcore\u001b[39;00m \u001b[38;5;28;01mimport\u001b[39;00m InferenceConfig, Environment\n\u001b[1;32m      3\u001b[0m env \u001b[38;5;241m=\u001b[39m Environment\u001b[38;5;241m.\u001b[39mget(workspace\u001b[38;5;241m=\u001b[39mws, name\u001b[38;5;241m=\u001b[39m\u001b[38;5;124m'\u001b[39m\u001b[38;5;124mquick-starts-ws-233975\u001b[39m\u001b[38;5;124m'\u001b[39m) \u001b[38;5;66;03m#####\u001b[39;00m\n\u001b[1;32m      4\u001b[0m inference_config \u001b[38;5;241m=\u001b[39m InferenceConfig(entry_script\u001b[38;5;241m=\u001b[39m\u001b[38;5;124m'\u001b[39m\u001b[38;5;124mscore.py\u001b[39m\u001b[38;5;124m'\u001b[39m, environment\u001b[38;5;241m=\u001b[39menv) \u001b[38;5;66;03m#####\u001b[39;00m\n",
            "\u001b[0;31mImportError\u001b[0m: cannot import name 'InferenceConfig' from 'azureml.core' (/anaconda/envs/azureml_py38/lib/python3.8/site-packages/azureml/core/__init__.py)"
          ]
        }
      ],
      "execution_count": 17,
      "metadata": {
        "jupyter": {
          "outputs_hidden": false,
          "source_hidden": false
        },
        "nteract": {
          "transient": {
            "deleting": false
          }
        },
        "gather": {
          "logged": 1685431612475
        }
      }
    },
    {
      "cell_type": "code",
      "source": [
        "from azureml.core.webservice import AciWebservice\n",
        "\n",
        "deployment_config = AciWebservice.deploy_configuration(cpu_cores=1, memory_gb=1)\n",
        "service = Model.deploy(workspace=ws,\n",
        "                       name='automl-deploy',\n",
        "                       models=[model],\n",
        "                       inference_config=inference_config,\n",
        "                       deployment_config=deployment_config,\n",
        "                       overwrite=True)\n",
        "                       \n",
        "service.wait_for_deployment(show_output=True)\n"
      ],
      "outputs": [],
      "execution_count": null,
      "metadata": {
        "jupyter": {
          "outputs_hidden": false,
          "source_hidden": false
        },
        "nteract": {
          "transient": {
            "deleting": false
          }
        }
      }
    },
    {
      "cell_type": "markdown",
      "source": [
        "TODO: In the cell below, send a request to the web service you deployed to test it."
      ],
      "metadata": {
        "collapsed": true,
        "gather": {
          "logged": 1598431657736
        },
        "jupyter": {
          "outputs_hidden": false,
          "source_hidden": false
        },
        "nteract": {
          "transient": {
            "deleting": false
          }
        }
      }
    },
    {
      "cell_type": "markdown",
      "source": [
        "TODO: In the cell below, print the logs of the web service and delete the service"
      ],
      "metadata": {
        "collapsed": true,
        "gather": {
          "logged": 1598432765711
        },
        "jupyter": {
          "outputs_hidden": false,
          "source_hidden": false
        },
        "nteract": {
          "transient": {
            "deleting": false
          }
        }
      }
    },
    {
      "cell_type": "code",
      "source": [],
      "outputs": [],
      "execution_count": null,
      "metadata": {
        "jupyter": {
          "outputs_hidden": false,
          "source_hidden": false
        },
        "nteract": {
          "transient": {
            "deleting": false
          }
        }
      }
    },
    {
      "cell_type": "markdown",
      "source": [
        "**Submission Checklist**\n",
        "- I have registered the model.\n",
        "- I have deployed the model with the best accuracy as a webservice.\n",
        "- I have tested the webservice by sending a request to the model endpoint.\n",
        "- I have deleted the webservice and shutdown all the computes that I have used.\n",
        "- I have taken a screenshot showing the model endpoint as active.\n",
        "- The project includes a file containing the environment details.\n"
      ],
      "metadata": {}
    },
    {
      "cell_type": "markdown",
      "source": [],
      "metadata": {}
    }
  ],
  "metadata": {
    "kernel_info": {
      "name": "python38-azureml"
    },
    "kernelspec": {
      "name": "python38-azureml",
      "language": "python",
      "display_name": "Python 3.8 - AzureML"
    },
    "language_info": {
      "name": "python",
      "version": "3.8.5",
      "mimetype": "text/x-python",
      "codemirror_mode": {
        "name": "ipython",
        "version": 3
      },
      "pygments_lexer": "ipython3",
      "nbconvert_exporter": "python",
      "file_extension": ".py"
    },
    "microsoft": {
      "host": {
        "AzureML": {
          "notebookHasBeenCompleted": true
        }
      },
      "ms_spell_check": {
        "ms_spell_check_language": "en"
      }
    },
    "nteract": {
      "version": "nteract-front-end@1.0.0"
    }
  },
  "nbformat": 4,
  "nbformat_minor": 2
}
