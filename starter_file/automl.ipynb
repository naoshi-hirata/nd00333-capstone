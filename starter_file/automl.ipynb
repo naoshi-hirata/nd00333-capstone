{
  "cells": [
    {
      "cell_type": "code",
      "source": [
        "!pip install --upgrade azureml-sdk\n",
        "!pip install --upgrade azureml-core"
      ],
      "outputs": [
        {
          "output_type": "stream",
          "name": "stdout",
          "text": "Collecting azureml-sdk\n  Downloading azureml_sdk-1.51.0-py3-none-any.whl (2.7 kB)\nCollecting azureml-dataset-runtime[fuse]~=1.51.0\n  Downloading azureml_dataset_runtime-1.51.0-py3-none-any.whl (2.3 kB)\nCollecting azureml-train-automl-client~=1.51.0\n  Downloading azureml_train_automl_client-1.51.0.post1-py3-none-any.whl (136 kB)\n\u001b[K     |████████████████████████████████| 136 kB 7.2 MB/s eta 0:00:01\n\u001b[?25hCollecting azureml-core~=1.51.0\n  Downloading azureml_core-1.51.0.post1-py3-none-any.whl (3.3 MB)\n\u001b[K     |████████████████████████████████| 3.3 MB 92.8 MB/s eta 0:00:01\n\u001b[?25hCollecting azureml-train-core~=1.51.0\n  Downloading azureml_train_core-1.51.0-py3-none-any.whl (8.6 MB)\n\u001b[K     |████████████████████████████████| 8.6 MB 53.7 MB/s eta 0:00:01\n\u001b[?25hCollecting azureml-pipeline~=1.51.0\n  Downloading azureml_pipeline-1.51.0-py3-none-any.whl (2.4 kB)\nCollecting azureml-dataprep<4.11.0a,>=4.10.0a\n  Downloading azureml_dataprep-4.10.8-py3-none-any.whl (38.2 MB)\n\u001b[K     |████████████████████████████████| 38.2 MB 58.3 MB/s eta 0:00:01\n\u001b[?25hRequirement already satisfied, skipping upgrade: pyarrow<=9.0.0,>=0.17.0 in /anaconda/envs/azureml_py38/lib/python3.8/site-packages (from azureml-dataset-runtime[fuse]~=1.51.0->azureml-sdk) (9.0.0)\nRequirement already satisfied, skipping upgrade: numpy!=1.19.3,<1.24; sys_platform == \"linux\" in /anaconda/envs/azureml_py38/lib/python3.8/site-packages (from azureml-dataset-runtime[fuse]~=1.51.0->azureml-sdk) (1.21.6)\nRequirement already satisfied, skipping upgrade: fusepy<4.0.0,>=3.0.1; extra == \"fuse\" in /anaconda/envs/azureml_py38/lib/python3.8/site-packages (from azureml-dataset-runtime[fuse]~=1.51.0->azureml-sdk) (3.0.1)\nCollecting azureml-telemetry~=1.51.0\n  Downloading azureml_telemetry-1.51.0-py3-none-any.whl (30 kB)\nCollecting azureml-automl-core~=1.51.0\n  Downloading azureml_automl_core-1.51.0.post1-py3-none-any.whl (247 kB)\n\u001b[K     |████████████████████████████████| 247 kB 96.4 MB/s eta 0:00:01\n\u001b[?25hRequirement already satisfied, skipping upgrade: backports.tempfile in /anaconda/envs/azureml_py38/lib/python3.8/site-packages (from azureml-core~=1.51.0->azureml-sdk) (1.0)\nRequirement already satisfied, skipping upgrade: pathspec<1.0.0 in /anaconda/envs/azureml_py38/lib/python3.8/site-packages (from azureml-core~=1.51.0->azureml-sdk) (0.11.0)\nRequirement already satisfied, skipping upgrade: azure-mgmt-resource<=22.0.0,>=15.0.0 in /anaconda/envs/azureml_py38/lib/python3.8/site-packages (from azureml-core~=1.51.0->azureml-sdk) (21.2.1)\nRequirement already satisfied, skipping upgrade: jsonpickle<4.0.0 in /anaconda/envs/azureml_py38/lib/python3.8/site-packages (from azureml-core~=1.51.0->azureml-sdk) (2.2.0)\nRequirement already satisfied, skipping upgrade: argcomplete<3 in /anaconda/envs/azureml_py38/lib/python3.8/site-packages (from azureml-core~=1.51.0->azureml-sdk) (2.0.0)\nRequirement already satisfied, skipping upgrade: azure-mgmt-keyvault<11.0.0,>=0.40.0 in /anaconda/envs/azureml_py38/lib/python3.8/site-packages (from azureml-core~=1.51.0->azureml-sdk) (10.1.0)\nRequirement already satisfied, skipping upgrade: PyJWT<3.0.0 in /anaconda/envs/azureml_py38/lib/python3.8/site-packages (from azureml-core~=1.51.0->azureml-sdk) (2.4.0)\nRequirement already satisfied, skipping upgrade: contextlib2<22.0.0 in /anaconda/envs/azureml_py38/lib/python3.8/site-packages (from azureml-core~=1.51.0->azureml-sdk) (21.6.0)\nRequirement already satisfied, skipping upgrade: msrest<=0.7.1,>=0.5.1 in /anaconda/envs/azureml_py38/lib/python3.8/site-packages (from azureml-core~=1.51.0->azureml-sdk) (0.7.1)\nRequirement already satisfied, skipping upgrade: azure-mgmt-containerregistry<11,>=8.2.0 in /anaconda/envs/azureml_py38/lib/python3.8/site-packages (from azureml-core~=1.51.0->azureml-sdk) (10.0.0)\nRequirement already satisfied, skipping upgrade: msal-extensions<=1.0.0,>=0.3.0 in /anaconda/envs/azureml_py38/lib/python3.8/site-packages (from azureml-core~=1.51.0->azureml-sdk) (0.3.1)\nRequirement already satisfied, skipping upgrade: humanfriendly<11.0,>=4.7 in /anaconda/envs/azureml_py38/lib/python3.8/site-packages (from azureml-core~=1.51.0->azureml-sdk) (10.0)\nRequirement already satisfied, skipping upgrade: msrestazure<=0.6.4,>=0.4.33 in /anaconda/envs/azureml_py38/lib/python3.8/site-packages (from azureml-core~=1.51.0->azureml-sdk) (0.6.4)\nRequirement already satisfied, skipping upgrade: requests[socks]<3.0.0,>=2.19.1 in /anaconda/envs/azureml_py38/lib/python3.8/site-packages (from azureml-core~=1.51.0->azureml-sdk) (2.28.2)\nRequirement already satisfied, skipping upgrade: docker<7.0.0 in /anaconda/envs/azureml_py38/lib/python3.8/site-packages (from azureml-core~=1.51.0->azureml-sdk) (6.0.1)\nRequirement already satisfied, skipping upgrade: pyopenssl<24.0.0 in /anaconda/envs/azureml_py38/lib/python3.8/site-packages (from azureml-core~=1.51.0->azureml-sdk) (23.0.0)\nRequirement already satisfied, skipping upgrade: azure-graphrbac<1.0.0,>=0.40.0 in /anaconda/envs/azureml_py38/lib/python3.8/site-packages (from azureml-core~=1.51.0->azureml-sdk) (0.61.1)\nRequirement already satisfied, skipping upgrade: pytz in /anaconda/envs/azureml_py38/lib/python3.8/site-packages (from azureml-core~=1.51.0->azureml-sdk) (2022.5)\nRequirement already satisfied, skipping upgrade: knack~=0.10.0 in /anaconda/envs/azureml_py38/lib/python3.8/site-packages (from azureml-core~=1.51.0->azureml-sdk) (0.10.1)\nRequirement already satisfied, skipping upgrade: azure-mgmt-authorization<4,>=0.40.0 in /anaconda/envs/azureml_py38/lib/python3.8/site-packages (from azureml-core~=1.51.0->azureml-sdk) (3.0.0)\nCollecting cryptography!=1.9,!=2.0.*,!=2.1.*,!=2.2.*,>=41\n  Downloading cryptography-41.0.1-cp37-abi3-manylinux_2_17_x86_64.manylinux2014_x86_64.whl (4.3 MB)\n\u001b[K     |████████████████████████████████| 4.3 MB 66.1 MB/s eta 0:00:01\n\u001b[?25hRequirement already satisfied, skipping upgrade: python-dateutil<3.0.0,>=2.7.3 in /anaconda/envs/azureml_py38/lib/python3.8/site-packages (from azureml-core~=1.51.0->azureml-sdk) (2.8.2)\nRequirement already satisfied, skipping upgrade: SecretStorage<4.0.0 in /anaconda/envs/azureml_py38/lib/python3.8/site-packages (from azureml-core~=1.51.0->azureml-sdk) (3.3.3)\nRequirement already satisfied, skipping upgrade: jmespath<2.0.0 in /anaconda/envs/azureml_py38/lib/python3.8/site-packages (from azureml-core~=1.51.0->azureml-sdk) (0.10.0)\nRequirement already satisfied, skipping upgrade: ndg-httpsclient<=0.5.1 in /anaconda/envs/azureml_py38/lib/python3.8/site-packages (from azureml-core~=1.51.0->azureml-sdk) (0.5.1)\nRequirement already satisfied, skipping upgrade: packaging<=23.0,>=20.0 in /anaconda/envs/azureml_py38/lib/python3.8/site-packages (from azureml-core~=1.51.0->azureml-sdk) (21.3)\nRequirement already satisfied, skipping upgrade: msal<2.0.0,>=1.15.0 in /anaconda/envs/azureml_py38/lib/python3.8/site-packages (from azureml-core~=1.51.0->azureml-sdk) (1.21.0)\nRequirement already satisfied, skipping upgrade: adal<=1.2.7,>=1.2.0 in /anaconda/envs/azureml_py38/lib/python3.8/site-packages (from azureml-core~=1.51.0->azureml-sdk) (1.2.7)\nRequirement already satisfied, skipping upgrade: urllib3<2.0.0,>=1.23 in /anaconda/envs/azureml_py38/lib/python3.8/site-packages (from azureml-core~=1.51.0->azureml-sdk) (1.26.14)\nRequirement already satisfied, skipping upgrade: pkginfo in /anaconda/envs/azureml_py38/lib/python3.8/site-packages (from azureml-core~=1.51.0->azureml-sdk) (1.9.6)\nRequirement already satisfied, skipping upgrade: paramiko<4.0.0,>=2.0.8 in /anaconda/envs/azureml_py38/lib/python3.8/site-packages (from azureml-core~=1.51.0->azureml-sdk) (2.12.0)\nRequirement already satisfied, skipping upgrade: azure-common<2.0.0,>=1.1.12 in /anaconda/envs/azureml_py38/lib/python3.8/site-packages (from azureml-core~=1.51.0->azureml-sdk) (1.1.28)\nRequirement already satisfied, skipping upgrade: azure-mgmt-storage<=21.0.0,>=16.0.0 in /anaconda/envs/azureml_py38/lib/python3.8/site-packages (from azureml-core~=1.51.0->azureml-sdk) (20.1.0)\nRequirement already satisfied, skipping upgrade: azure-core<2.0.0 in /anaconda/envs/azureml_py38/lib/python3.8/site-packages (from azureml-core~=1.51.0->azureml-sdk) (1.26.3)\nCollecting azureml-train-restclients-hyperdrive~=1.51.0\n  Downloading azureml_train_restclients_hyperdrive-1.51.0-py3-none-any.whl (18 kB)\nCollecting azureml-pipeline-steps~=1.51.0\n  Downloading azureml_pipeline_steps-1.51.0-py3-none-any.whl (69 kB)\n\u001b[K     |████████████████████████████████| 69 kB 10.0 MB/s eta 0:00:01\n\u001b[?25hCollecting azureml-pipeline-core~=1.51.0\n  Downloading azureml_pipeline_core-1.51.0-py3-none-any.whl (313 kB)\n\u001b[K     |████████████████████████████████| 313 kB 106.6 MB/s eta 0:00:01\n\u001b[?25hCollecting azureml-dataprep-rslex~=2.17.12dev0\n  Downloading azureml_dataprep_rslex-2.17.12-cp38-cp38-manylinux_2_17_x86_64.manylinux2014_x86_64.whl (20.3 MB)\n\u001b[K     |████████████████████████████████| 20.3 MB 102.5 MB/s eta 0:00:01\n\u001b[?25hRequirement already satisfied, skipping upgrade: cloudpickle<3.0.0,>=1.1.0 in /anaconda/envs/azureml_py38/lib/python3.8/site-packages (from azureml-dataprep<4.11.0a,>=4.10.0a->azureml-dataset-runtime[fuse]~=1.51.0->azureml-sdk) (1.6.0)\nRequirement already satisfied, skipping upgrade: azure-identity>=1.7.0 in /anaconda/envs/azureml_py38/lib/python3.8/site-packages (from azureml-dataprep<4.11.0a,>=4.10.0a->azureml-dataset-runtime[fuse]~=1.51.0->azureml-sdk) (1.7.0)\nRequirement already satisfied, skipping upgrade: pyyaml<7.0.0,>=5.1.0 in /anaconda/envs/azureml_py38/lib/python3.8/site-packages (from azureml-dataprep<4.11.0a,>=4.10.0a->azureml-dataset-runtime[fuse]~=1.51.0->azureml-sdk) (6.0)\nRequirement already satisfied, skipping upgrade: dotnetcore2<4.0.0,>=3.0.0 in /anaconda/envs/azureml_py38/lib/python3.8/site-packages (from azureml-dataprep<4.11.0a,>=4.10.0a->azureml-dataset-runtime[fuse]~=1.51.0->azureml-sdk) (3.1.23)\nRequirement already satisfied, skipping upgrade: jsonschema in /anaconda/envs/azureml_py38/lib/python3.8/site-packages (from azureml-dataprep<4.11.0a,>=4.10.0a->azureml-dataset-runtime[fuse]~=1.51.0->azureml-sdk) (4.17.3)\nRequirement already satisfied, skipping upgrade: azureml-dataprep-native<39.0.0,>=38.0.0 in /anaconda/envs/azureml_py38/lib/python3.8/site-packages (from azureml-dataprep<4.11.0a,>=4.10.0a->azureml-dataset-runtime[fuse]~=1.51.0->azureml-sdk) (38.0.0)\nRequirement already satisfied, skipping upgrade: applicationinsights in /anaconda/envs/azureml_py38/lib/python3.8/site-packages (from azureml-telemetry~=1.51.0->azureml-train-automl-client~=1.51.0->azureml-sdk) (0.11.10)\nRequirement already satisfied, skipping upgrade: backports.weakref in /anaconda/envs/azureml_py38/lib/python3.8/site-packages (from backports.tempfile->azureml-core~=1.51.0->azureml-sdk) (1.0.post1)\nRequirement already satisfied, skipping upgrade: azure-mgmt-core<2.0.0,>=1.3.2 in /anaconda/envs/azureml_py38/lib/python3.8/site-packages (from azure-mgmt-resource<=22.0.0,>=15.0.0->azureml-core~=1.51.0->azureml-sdk) (1.3.2)\nRequirement already satisfied, skipping upgrade: isodate>=0.6.0 in /anaconda/envs/azureml_py38/lib/python3.8/site-packages (from msrest<=0.7.1,>=0.5.1->azureml-core~=1.51.0->azureml-sdk) (0.6.1)\nRequirement already satisfied, skipping upgrade: certifi>=2017.4.17 in /anaconda/envs/azureml_py38/lib/python3.8/site-packages (from msrest<=0.7.1,>=0.5.1->azureml-core~=1.51.0->azureml-sdk) (2022.9.24)\nRequirement already satisfied, skipping upgrade: requests-oauthlib>=0.5.0 in /anaconda/envs/azureml_py38/lib/python3.8/site-packages (from msrest<=0.7.1,>=0.5.1->azureml-core~=1.51.0->azureml-sdk) (1.3.1)\nRequirement already satisfied, skipping upgrade: portalocker<3,>=1.0; python_version >= \"3.5\" and platform_system != \"Windows\" in /anaconda/envs/azureml_py38/lib/python3.8/site-packages (from msal-extensions<=1.0.0,>=0.3.0->azureml-core~=1.51.0->azureml-sdk) (2.7.0)\nRequirement already satisfied, skipping upgrade: six in /anaconda/envs/azureml_py38/lib/python3.8/site-packages (from msrestazure<=0.6.4,>=0.4.33->azureml-core~=1.51.0->azureml-sdk) (1.16.0)\nRequirement already satisfied, skipping upgrade: charset-normalizer<4,>=2 in /anaconda/envs/azureml_py38/lib/python3.8/site-packages (from requests[socks]<3.0.0,>=2.19.1->azureml-core~=1.51.0->azureml-sdk) (3.0.1)\nRequirement already satisfied, skipping upgrade: idna<4,>=2.5 in /anaconda/envs/azureml_py38/lib/python3.8/site-packages (from requests[socks]<3.0.0,>=2.19.1->azureml-core~=1.51.0->azureml-sdk) (3.4)\nRequirement already satisfied, skipping upgrade: PySocks!=1.5.7,>=1.5.6; extra == \"socks\" in /anaconda/envs/azureml_py38/lib/python3.8/site-packages (from requests[socks]<3.0.0,>=2.19.1->azureml-core~=1.51.0->azureml-sdk) (1.7.1)\nRequirement already satisfied, skipping upgrade: websocket-client>=0.32.0 in /anaconda/envs/azureml_py38/lib/python3.8/site-packages (from docker<7.0.0->azureml-core~=1.51.0->azureml-sdk) (1.5.0)\nRequirement already satisfied, skipping upgrade: tabulate in /anaconda/envs/azureml_py38/lib/python3.8/site-packages (from knack~=0.10.0->azureml-core~=1.51.0->azureml-sdk) (0.9.0)\nRequirement already satisfied, skipping upgrade: pygments in /anaconda/envs/azureml_py38/lib/python3.8/site-packages (from knack~=0.10.0->azureml-core~=1.51.0->azureml-sdk) (2.14.0)\nRequirement already satisfied, skipping upgrade: cffi>=1.12 in /anaconda/envs/azureml_py38/lib/python3.8/site-packages (from cryptography!=1.9,!=2.0.*,!=2.1.*,!=2.2.*,>=41->azureml-core~=1.51.0->azureml-sdk) (1.15.1)\nRequirement already satisfied, skipping upgrade: jeepney>=0.6 in /anaconda/envs/azureml_py38/lib/python3.8/site-packages (from SecretStorage<4.0.0->azureml-core~=1.51.0->azureml-sdk) (0.8.0)\nRequirement already satisfied, skipping upgrade: pyasn1>=0.1.1 in /anaconda/envs/azureml_py38/lib/python3.8/site-packages (from ndg-httpsclient<=0.5.1->azureml-core~=1.51.0->azureml-sdk) (0.4.8)\nRequirement already satisfied, skipping upgrade: pyparsing!=3.0.5,>=2.0.2 in /anaconda/envs/azureml_py38/lib/python3.8/site-packages (from packaging<=23.0,>=20.0->azureml-core~=1.51.0->azureml-sdk) (3.0.9)\nRequirement already satisfied, skipping upgrade: pynacl>=1.0.1 in /anaconda/envs/azureml_py38/lib/python3.8/site-packages (from paramiko<4.0.0,>=2.0.8->azureml-core~=1.51.0->azureml-sdk) (1.5.0)\nRequirement already satisfied, skipping upgrade: bcrypt>=3.1.3 in /anaconda/envs/azureml_py38/lib/python3.8/site-packages (from paramiko<4.0.0,>=2.0.8->azureml-core~=1.51.0->azureml-sdk) (4.0.1)\nRequirement already satisfied, skipping upgrade: typing-extensions>=4.0.1 in /anaconda/envs/azureml_py38/lib/python3.8/site-packages (from azure-core<2.0.0->azureml-core~=1.51.0->azureml-sdk) (4.4.0)\nRequirement already satisfied, skipping upgrade: distro>=1.2.0 in /anaconda/envs/azureml_py38/lib/python3.8/site-packages (from dotnetcore2<4.0.0,>=3.0.0->azureml-dataprep<4.11.0a,>=4.10.0a->azureml-dataset-runtime[fuse]~=1.51.0->azureml-sdk) (1.8.0)\nRequirement already satisfied, skipping upgrade: attrs>=17.4.0 in /anaconda/envs/azureml_py38/lib/python3.8/site-packages (from jsonschema->azureml-dataprep<4.11.0a,>=4.10.0a->azureml-dataset-runtime[fuse]~=1.51.0->azureml-sdk) (22.2.0)\nRequirement already satisfied, skipping upgrade: importlib-resources>=1.4.0; python_version < \"3.9\" in /anaconda/envs/azureml_py38/lib/python3.8/site-packages (from jsonschema->azureml-dataprep<4.11.0a,>=4.10.0a->azureml-dataset-runtime[fuse]~=1.51.0->azureml-sdk) (5.10.2)\nRequirement already satisfied, skipping upgrade: pyrsistent!=0.17.0,!=0.17.1,!=0.17.2,>=0.14.0 in /anaconda/envs/azureml_py38/lib/python3.8/site-packages (from jsonschema->azureml-dataprep<4.11.0a,>=4.10.0a->azureml-dataset-runtime[fuse]~=1.51.0->azureml-sdk) (0.19.3)\nRequirement already satisfied, skipping upgrade: pkgutil-resolve-name>=1.3.10; python_version < \"3.9\" in /anaconda/envs/azureml_py38/lib/python3.8/site-packages (from jsonschema->azureml-dataprep<4.11.0a,>=4.10.0a->azureml-dataset-runtime[fuse]~=1.51.0->azureml-sdk) (1.3.10)\nRequirement already satisfied, skipping upgrade: oauthlib>=3.0.0 in /anaconda/envs/azureml_py38/lib/python3.8/site-packages (from requests-oauthlib>=0.5.0->msrest<=0.7.1,>=0.5.1->azureml-core~=1.51.0->azureml-sdk) (3.2.2)\nRequirement already satisfied, skipping upgrade: pycparser in /anaconda/envs/azureml_py38/lib/python3.8/site-packages (from cffi>=1.12->cryptography!=1.9,!=2.0.*,!=2.1.*,!=2.2.*,>=41->azureml-core~=1.51.0->azureml-sdk) (2.21)\nRequirement already satisfied, skipping upgrade: zipp>=3.1.0; python_version < \"3.10\" in /anaconda/envs/azureml_py38/lib/python3.8/site-packages (from importlib-resources>=1.4.0; python_version < \"3.9\"->jsonschema->azureml-dataprep<4.11.0a,>=4.10.0a->azureml-dataset-runtime[fuse]~=1.51.0->azureml-sdk) (3.12.0)\n\u001b[31mERROR: pyopenssl 23.0.0 has requirement cryptography<40,>=38.0.0, but you'll have cryptography 41.0.1 which is incompatible.\u001b[0m\n\u001b[31mERROR: msal 1.21.0 has requirement cryptography<41,>=0.6, but you'll have cryptography 41.0.1 which is incompatible.\u001b[0m\n\u001b[31mERROR: azureml-widgets 1.49.0 has requirement azureml-core~=1.49.0, but you'll have azureml-core 1.51.0.post1 which is incompatible.\u001b[0m\n\u001b[31mERROR: azureml-widgets 1.49.0 has requirement azureml-telemetry~=1.49.0, but you'll have azureml-telemetry 1.51.0 which is incompatible.\u001b[0m\n\u001b[31mERROR: azureml-training-tabular 1.49.0 has requirement azureml-automl-core~=1.49.0, but you'll have azureml-automl-core 1.51.0.post1 which is incompatible.\u001b[0m\n\u001b[31mERROR: azureml-train 1.49.0 has requirement azureml-train-core~=1.49.0, but you'll have azureml-train-core 1.51.0 which is incompatible.\u001b[0m\n\u001b[31mERROR: azureml-train-automl 1.49.0 has requirement azureml-automl-core~=1.49.0, but you'll have azureml-automl-core 1.51.0.post1 which is incompatible.\u001b[0m\n\u001b[31mERROR: azureml-train-automl 1.49.0 has requirement azureml-dataset-runtime[fuse,pandas]~=1.49.0, but you'll have azureml-dataset-runtime 1.51.0 which is incompatible.\u001b[0m\n\u001b[31mERROR: azureml-train-automl 1.49.0 has requirement azureml-train-automl-client~=1.49.0, but you'll have azureml-train-automl-client 1.51.0.post1 which is incompatible.\u001b[0m\n\u001b[31mERROR: azureml-train-automl-runtime 1.49.0 has requirement azureml-automl-core~=1.49.0, but you'll have azureml-automl-core 1.51.0.post1 which is incompatible.\u001b[0m\n\u001b[31mERROR: azureml-train-automl-runtime 1.49.0 has requirement azureml-core~=1.49.0, but you'll have azureml-core 1.51.0.post1 which is incompatible.\u001b[0m\n\u001b[31mERROR: azureml-train-automl-runtime 1.49.0 has requirement azureml-dataset-runtime[fuse,pandas]~=1.49.0, but you'll have azureml-dataset-runtime 1.51.0 which is incompatible.\u001b[0m\n\u001b[31mERROR: azureml-train-automl-runtime 1.49.0 has requirement azureml-telemetry~=1.49.0, but you'll have azureml-telemetry 1.51.0 which is incompatible.\u001b[0m\n\u001b[31mERROR: azureml-train-automl-runtime 1.49.0 has requirement azureml-train-automl-client~=1.49.0, but you'll have azureml-train-automl-client 1.51.0.post1 which is incompatible.\u001b[0m\n\u001b[31mERROR: azureml-tensorboard 1.49.0 has requirement azureml-core~=1.49.0, but you'll have azureml-core 1.51.0.post1 which is incompatible.\u001b[0m\n\u001b[31mERROR: azureml-responsibleai 1.49.0 has requirement azureml-core~=1.49.0, but you'll have azureml-core 1.51.0.post1 which is incompatible.\u001b[0m\n\u001b[31mERROR: azureml-responsibleai 1.49.0 has requirement azureml-dataset-runtime~=1.49.0, but you'll have azureml-dataset-runtime 1.51.0 which is incompatible.\u001b[0m\n\u001b[31mERROR: azureml-responsibleai 1.49.0 has requirement azureml-telemetry~=1.49.0, but you'll have azureml-telemetry 1.51.0 which is incompatible.\u001b[0m\n\u001b[31mERROR: azureml-opendatasets 1.49.0 has requirement azureml-core~=1.49.0, but you'll have azureml-core 1.51.0.post1 which is incompatible.\u001b[0m\n\u001b[31mERROR: azureml-opendatasets 1.49.0 has requirement azureml-dataset-runtime[fuse,pandas]~=1.49.0, but you'll have azureml-dataset-runtime 1.51.0 which is incompatible.\u001b[0m\n\u001b[31mERROR: azureml-opendatasets 1.49.0 has requirement azureml-telemetry~=1.49.0, but you'll have azureml-telemetry 1.51.0 which is incompatible.\u001b[0m\n\u001b[31mERROR: azureml-interpret 1.49.0 has requirement azureml-core~=1.49.0, but you'll have azureml-core 1.51.0.post1 which is incompatible.\u001b[0m\n\u001b[31mERROR: azureml-defaults 1.49.0 has requirement azureml-core~=1.49.0, but you'll have azureml-core 1.51.0.post1 which is incompatible.\u001b[0m\n\u001b[31mERROR: azureml-defaults 1.49.0 has requirement azureml-dataset-runtime[fuse]~=1.49.0, but you'll have azureml-dataset-runtime 1.51.0 which is incompatible.\u001b[0m\n\u001b[31mERROR: azureml-datadrift 1.49.0 has requirement azureml-core~=1.49.0, but you'll have azureml-core 1.51.0.post1 which is incompatible.\u001b[0m\n\u001b[31mERROR: azureml-datadrift 1.49.0 has requirement azureml-dataset-runtime[fuse,pandas]~=1.49.0, but you'll have azureml-dataset-runtime 1.51.0 which is incompatible.\u001b[0m\n\u001b[31mERROR: azureml-datadrift 1.49.0 has requirement azureml-pipeline-core~=1.49.0, but you'll have azureml-pipeline-core 1.51.0 which is incompatible.\u001b[0m\n\u001b[31mERROR: azureml-datadrift 1.49.0 has requirement azureml-telemetry~=1.49.0, but you'll have azureml-telemetry 1.51.0 which is incompatible.\u001b[0m\n\u001b[31mERROR: azureml-contrib-server 1.49.0 has requirement azureml-core~=1.49.0, but you'll have azureml-core 1.51.0.post1 which is incompatible.\u001b[0m\n\u001b[31mERROR: azureml-contrib-reinforcementlearning 1.49.0 has requirement azureml-core~=1.49.0, but you'll have azureml-core 1.51.0.post1 which is incompatible.\u001b[0m\n\u001b[31mERROR: azureml-contrib-reinforcementlearning 1.49.0 has requirement azureml-train-core~=1.49.0, but you'll have azureml-train-core 1.51.0 which is incompatible.\u001b[0m\n\u001b[31mERROR: azureml-contrib-pipeline-steps 1.49.0 has requirement azureml-core~=1.49.0, but you'll have azureml-core 1.51.0.post1 which is incompatible.\u001b[0m\n\u001b[31mERROR: azureml-contrib-pipeline-steps 1.49.0 has requirement azureml-dataset-runtime~=1.49.0, but you'll have azureml-dataset-runtime 1.51.0 which is incompatible.\u001b[0m\n\u001b[31mERROR: azureml-contrib-pipeline-steps 1.49.0 has requirement azureml-pipeline-core~=1.49.0, but you'll have azureml-pipeline-core 1.51.0 which is incompatible.\u001b[0m\n\u001b[31mERROR: azureml-contrib-notebook 1.49.0 has requirement azureml-core~=1.49.0, but you'll have azureml-core 1.51.0.post1 which is incompatible.\u001b[0m\n\u001b[31mERROR: azureml-contrib-notebook 1.49.0 has requirement azureml-pipeline-core~=1.49.0, but you'll have azureml-pipeline-core 1.51.0 which is incompatible.\u001b[0m\n\u001b[31mERROR: azureml-contrib-notebook 1.49.0 has requirement nbconvert<6, but you'll have nbconvert 7.3.0 which is incompatible.\u001b[0m\n\u001b[31mERROR: azureml-contrib-fairness 1.49.0 has requirement azureml-core~=1.49.0, but you'll have azureml-core 1.51.0.post1 which is incompatible.\u001b[0m\n\u001b[31mERROR: azureml-contrib-dataset 1.49.0 has requirement azureml-core~=1.49.0, but you'll have azureml-core 1.51.0.post1 which is incompatible.\u001b[0m\n\u001b[31mERROR: azureml-contrib-dataset 1.49.0 has requirement azureml-dataset-runtime[fuse,pandas]~=1.49.0, but you'll have azureml-dataset-runtime 1.51.0 which is incompatible.\u001b[0m\n\u001b[31mERROR: azureml-contrib-automl-pipeline-steps 1.49.0 has requirement azureml-pipeline-steps~=1.49.0, but you'll have azureml-pipeline-steps 1.51.0 which is incompatible.\u001b[0m\n\u001b[31mERROR: azureml-cli-common 1.49.0 has requirement azureml-core~=1.49.0, but you'll have azureml-core 1.51.0.post1 which is incompatible.\u001b[0m\n\u001b[31mERROR: azureml-cli-common 1.49.0 has requirement azureml-pipeline-core~=1.49.0, but you'll have azureml-pipeline-core 1.51.0 which is incompatible.\u001b[0m\n\u001b[31mERROR: azureml-cli-common 1.49.0 has requirement azureml-train-core~=1.49.0; python_version >= \"3.5\", but you'll have azureml-train-core 1.51.0 which is incompatible.\u001b[0m\n\u001b[31mERROR: azureml-automl-runtime 1.49.0 has requirement azureml-automl-core~=1.49.0, but you'll have azureml-automl-core 1.51.0.post1 which is incompatible.\u001b[0m\n\u001b[31mERROR: azureml-automl-runtime 1.49.0 has requirement azureml-dataset-runtime[fuse,pandas]~=1.49.0, but you'll have azureml-dataset-runtime 1.51.0 which is incompatible.\u001b[0m\n\u001b[31mERROR: azureml-automl-dnn-nlp 1.49.0 has requirement azureml-automl-core~=1.49.0, but you'll have azureml-automl-core 1.51.0.post1 which is incompatible.\u001b[0m\n\u001b[31mERROR: azureml-automl-dnn-nlp 1.49.0 has requirement azureml-core~=1.49.0, but you'll have azureml-core 1.51.0.post1 which is incompatible.\u001b[0m\n\u001b[31mERROR: azureml-automl-dnn-nlp 1.49.0 has requirement azureml-telemetry~=1.49.0, but you'll have azureml-telemetry 1.51.0 which is incompatible.\u001b[0m\n\u001b[31mERROR: azureml-accel-models 1.49.0 has requirement azureml-core~=1.49.0, but you'll have azureml-core 1.51.0.post1 which is incompatible.\u001b[0m\n\u001b[31mERROR: azure-cli 2.47.0 has requirement azure-graphrbac~=0.60.0, but you'll have azure-graphrbac 0.61.1 which is incompatible.\u001b[0m\n\u001b[31mERROR: azure-cli 2.47.0 has requirement azure-mgmt-containerregistry==10.1.0, but you'll have azure-mgmt-containerregistry 10.0.0 which is incompatible.\u001b[0m\n\u001b[31mERROR: azure-cli 2.47.0 has requirement azure-mgmt-keyvault==10.2.0, but you'll have azure-mgmt-keyvault 10.1.0 which is incompatible.\u001b[0m\n\u001b[31mERROR: azure-cli 2.47.0 has requirement azure-mgmt-resource==22.0.0, but you'll have azure-mgmt-resource 21.2.1 which is incompatible.\u001b[0m\n\u001b[31mERROR: azure-cli 2.47.0 has requirement azure-mgmt-storage~=21.0.0, but you'll have azure-mgmt-storage 20.1.0 which is incompatible.\u001b[0m\n\u001b[31mERROR: azure-cli 2.47.0 has requirement websocket-client~=1.3.1, but you'll have websocket-client 1.5.0 which is incompatible.\u001b[0m\n\u001b[31mERROR: azure-cli-core 2.47.0 has requirement msal[broker]==1.20.0, but you'll have msal 1.21.0 which is incompatible.\u001b[0m\n\u001b[31mERROR: azure-cli-core 2.47.0 has requirement msal-extensions~=1.0.0, but you'll have msal-extensions 0.3.1 which is incompatible.\u001b[0m\nInstalling collected packages: azureml-dataprep-rslex, azureml-dataprep, azureml-dataset-runtime, cryptography, azureml-core, azureml-telemetry, azureml-automl-core, azureml-train-restclients-hyperdrive, azureml-train-core, azureml-train-automl-client, azureml-pipeline-core, azureml-pipeline-steps, azureml-pipeline, azureml-sdk\n  Attempting uninstall: azureml-dataprep-rslex\n    Found existing installation: azureml-dataprep-rslex 2.16.1\n    Uninstalling azureml-dataprep-rslex-2.16.1:\n      Successfully uninstalled azureml-dataprep-rslex-2.16.1\n  Attempting uninstall: azureml-dataprep\n    Found existing installation: azureml-dataprep 4.9.1\n    Uninstalling azureml-dataprep-4.9.1:\n      Successfully uninstalled azureml-dataprep-4.9.1\n  Attempting uninstall: azureml-dataset-runtime\n    Found existing installation: azureml-dataset-runtime 1.49.0\n    Uninstalling azureml-dataset-runtime-1.49.0:\n      Successfully uninstalled azureml-dataset-runtime-1.49.0\n  Attempting uninstall: cryptography\n    Found existing installation: cryptography 38.0.4\n    Uninstalling cryptography-38.0.4:\n      Successfully uninstalled cryptography-38.0.4\n  Attempting uninstall: azureml-core\n    Found existing installation: azureml-core 1.49.0\n    Uninstalling azureml-core-1.49.0:\n      Successfully uninstalled azureml-core-1.49.0\n  Attempting uninstall: azureml-telemetry\n    Found existing installation: azureml-telemetry 1.49.0\n    Uninstalling azureml-telemetry-1.49.0:\n      Successfully uninstalled azureml-telemetry-1.49.0\n  Attempting uninstall: azureml-automl-core\n    Found existing installation: azureml-automl-core 1.49.0\n    Uninstalling azureml-automl-core-1.49.0:\n      Successfully uninstalled azureml-automl-core-1.49.0\n  Attempting uninstall: azureml-train-restclients-hyperdrive\n    Found existing installation: azureml-train-restclients-hyperdrive 1.49.0\n    Uninstalling azureml-train-restclients-hyperdrive-1.49.0:\n      Successfully uninstalled azureml-train-restclients-hyperdrive-1.49.0\n  Attempting uninstall: azureml-train-core\n    Found existing installation: azureml-train-core 1.49.0\n    Uninstalling azureml-train-core-1.49.0:\n      Successfully uninstalled azureml-train-core-1.49.0\n  Attempting uninstall: azureml-train-automl-client\n    Found existing installation: azureml-train-automl-client 1.49.0\n    Uninstalling azureml-train-automl-client-1.49.0:\n      Successfully uninstalled azureml-train-automl-client-1.49.0\n  Attempting uninstall: azureml-pipeline-core\n    Found existing installation: azureml-pipeline-core 1.49.0\n    Uninstalling azureml-pipeline-core-1.49.0:\n      Successfully uninstalled azureml-pipeline-core-1.49.0\n  Attempting uninstall: azureml-pipeline-steps\n    Found existing installation: azureml-pipeline-steps 1.49.0\n    Uninstalling azureml-pipeline-steps-1.49.0:\n      Successfully uninstalled azureml-pipeline-steps-1.49.0\n  Attempting uninstall: azureml-pipeline\n    Found existing installation: azureml-pipeline 1.49.0\n    Uninstalling azureml-pipeline-1.49.0:\n      Successfully uninstalled azureml-pipeline-1.49.0\n  Attempting uninstall: azureml-sdk\n    Found existing installation: azureml-sdk 1.49.0\n    Uninstalling azureml-sdk-1.49.0:\n      Successfully uninstalled azureml-sdk-1.49.0\nSuccessfully installed azureml-automl-core-1.51.0.post1 azureml-core-1.51.0.post1 azureml-dataprep-4.10.8 azureml-dataprep-rslex-2.17.12 azureml-dataset-runtime-1.51.0 azureml-pipeline-1.51.0 azureml-pipeline-core-1.51.0 azureml-pipeline-steps-1.51.0 azureml-sdk-1.51.0 azureml-telemetry-1.51.0 azureml-train-automl-client-1.51.0.post1 azureml-train-core-1.51.0 azureml-train-restclients-hyperdrive-1.51.0 cryptography-41.0.1\nRequirement already up-to-date: azureml-core in /anaconda/envs/azureml_py38/lib/python3.8/site-packages (1.51.0.post1)\nRequirement already satisfied, skipping upgrade: azure-common<2.0.0,>=1.1.12 in /anaconda/envs/azureml_py38/lib/python3.8/site-packages (from azureml-core) (1.1.28)\nRequirement already satisfied, skipping upgrade: PyJWT<3.0.0 in /anaconda/envs/azureml_py38/lib/python3.8/site-packages (from azureml-core) (2.4.0)\nRequirement already satisfied, skipping upgrade: requests[socks]<3.0.0,>=2.19.1 in /anaconda/envs/azureml_py38/lib/python3.8/site-packages (from azureml-core) (2.28.2)\nRequirement already satisfied, skipping upgrade: knack~=0.10.0 in /anaconda/envs/azureml_py38/lib/python3.8/site-packages (from azureml-core) (0.10.1)\nRequirement already satisfied, skipping upgrade: backports.tempfile in /anaconda/envs/azureml_py38/lib/python3.8/site-packages (from azureml-core) (1.0)\nRequirement already satisfied, skipping upgrade: SecretStorage<4.0.0 in /anaconda/envs/azureml_py38/lib/python3.8/site-packages (from azureml-core) (3.3.3)\nRequirement already satisfied, skipping upgrade: argcomplete<3 in /anaconda/envs/azureml_py38/lib/python3.8/site-packages (from azureml-core) (2.0.0)\nRequirement already satisfied, skipping upgrade: docker<7.0.0 in /anaconda/envs/azureml_py38/lib/python3.8/site-packages (from azureml-core) (6.0.1)\nRequirement already satisfied, skipping upgrade: pytz in /anaconda/envs/azureml_py38/lib/python3.8/site-packages (from azureml-core) (2022.5)\nRequirement already satisfied, skipping upgrade: msrestazure<=0.6.4,>=0.4.33 in /anaconda/envs/azureml_py38/lib/python3.8/site-packages (from azureml-core) (0.6.4)\nRequirement already satisfied, skipping upgrade: ndg-httpsclient<=0.5.1 in /anaconda/envs/azureml_py38/lib/python3.8/site-packages (from azureml-core) (0.5.1)\nRequirement already satisfied, skipping upgrade: python-dateutil<3.0.0,>=2.7.3 in /anaconda/envs/azureml_py38/lib/python3.8/site-packages (from azureml-core) (2.8.2)\nRequirement already satisfied, skipping upgrade: azure-mgmt-authorization<4,>=0.40.0 in /anaconda/envs/azureml_py38/lib/python3.8/site-packages (from azureml-core) (3.0.0)\nRequirement already satisfied, skipping upgrade: humanfriendly<11.0,>=4.7 in /anaconda/envs/azureml_py38/lib/python3.8/site-packages (from azureml-core) (10.0)\nRequirement already satisfied, skipping upgrade: pathspec<1.0.0 in /anaconda/envs/azureml_py38/lib/python3.8/site-packages (from azureml-core) (0.11.0)\nRequirement already satisfied, skipping upgrade: urllib3<2.0.0,>=1.23 in /anaconda/envs/azureml_py38/lib/python3.8/site-packages (from azureml-core) (1.26.14)\nRequirement already satisfied, skipping upgrade: azure-mgmt-keyvault<11.0.0,>=0.40.0 in /anaconda/envs/azureml_py38/lib/python3.8/site-packages (from azureml-core) (10.1.0)\nRequirement already satisfied, skipping upgrade: pkginfo in /anaconda/envs/azureml_py38/lib/python3.8/site-packages (from azureml-core) (1.9.6)\nRequirement already satisfied, skipping upgrade: msal<2.0.0,>=1.15.0 in /anaconda/envs/azureml_py38/lib/python3.8/site-packages (from azureml-core) (1.21.0)\nRequirement already satisfied, skipping upgrade: pyopenssl<24.0.0 in /anaconda/envs/azureml_py38/lib/python3.8/site-packages (from azureml-core) (23.0.0)\nRequirement already satisfied, skipping upgrade: azure-core<2.0.0 in /anaconda/envs/azureml_py38/lib/python3.8/site-packages (from azureml-core) (1.26.3)\nRequirement already satisfied, skipping upgrade: jsonpickle<4.0.0 in /anaconda/envs/azureml_py38/lib/python3.8/site-packages (from azureml-core) (2.2.0)\nRequirement already satisfied, skipping upgrade: azure-mgmt-containerregistry<11,>=8.2.0 in /anaconda/envs/azureml_py38/lib/python3.8/site-packages (from azureml-core) (10.0.0)\nRequirement already satisfied, skipping upgrade: azure-mgmt-storage<=21.0.0,>=16.0.0 in /anaconda/envs/azureml_py38/lib/python3.8/site-packages (from azureml-core) (20.1.0)\nRequirement already satisfied, skipping upgrade: contextlib2<22.0.0 in /anaconda/envs/azureml_py38/lib/python3.8/site-packages (from azureml-core) (21.6.0)\nRequirement already satisfied, skipping upgrade: adal<=1.2.7,>=1.2.0 in /anaconda/envs/azureml_py38/lib/python3.8/site-packages (from azureml-core) (1.2.7)\nRequirement already satisfied, skipping upgrade: jmespath<2.0.0 in /anaconda/envs/azureml_py38/lib/python3.8/site-packages (from azureml-core) (0.10.0)\nRequirement already satisfied, skipping upgrade: paramiko<4.0.0,>=2.0.8 in /anaconda/envs/azureml_py38/lib/python3.8/site-packages (from azureml-core) (2.12.0)\nRequirement already satisfied, skipping upgrade: azure-graphrbac<1.0.0,>=0.40.0 in /anaconda/envs/azureml_py38/lib/python3.8/site-packages (from azureml-core) (0.61.1)\nRequirement already satisfied, skipping upgrade: azure-mgmt-resource<=22.0.0,>=15.0.0 in /anaconda/envs/azureml_py38/lib/python3.8/site-packages (from azureml-core) (21.2.1)\nRequirement already satisfied, skipping upgrade: msal-extensions<=1.0.0,>=0.3.0 in /anaconda/envs/azureml_py38/lib/python3.8/site-packages (from azureml-core) (0.3.1)\nRequirement already satisfied, skipping upgrade: packaging<=23.0,>=20.0 in /anaconda/envs/azureml_py38/lib/python3.8/site-packages (from azureml-core) (21.3)\nRequirement already satisfied, skipping upgrade: msrest<=0.7.1,>=0.5.1 in /anaconda/envs/azureml_py38/lib/python3.8/site-packages (from azureml-core) (0.7.1)\nRequirement already satisfied, skipping upgrade: cryptography!=1.9,!=2.0.*,!=2.1.*,!=2.2.*,>=41 in /anaconda/envs/azureml_py38/lib/python3.8/site-packages (from azureml-core) (41.0.1)\nRequirement already satisfied, skipping upgrade: certifi>=2017.4.17 in /anaconda/envs/azureml_py38/lib/python3.8/site-packages (from requests[socks]<3.0.0,>=2.19.1->azureml-core) (2022.9.24)\nRequirement already satisfied, skipping upgrade: idna<4,>=2.5 in /anaconda/envs/azureml_py38/lib/python3.8/site-packages (from requests[socks]<3.0.0,>=2.19.1->azureml-core) (3.4)\nRequirement already satisfied, skipping upgrade: charset-normalizer<4,>=2 in /anaconda/envs/azureml_py38/lib/python3.8/site-packages (from requests[socks]<3.0.0,>=2.19.1->azureml-core) (3.0.1)\nRequirement already satisfied, skipping upgrade: PySocks!=1.5.7,>=1.5.6; extra == \"socks\" in /anaconda/envs/azureml_py38/lib/python3.8/site-packages (from requests[socks]<3.0.0,>=2.19.1->azureml-core) (1.7.1)\nRequirement already satisfied, skipping upgrade: tabulate in /anaconda/envs/azureml_py38/lib/python3.8/site-packages (from knack~=0.10.0->azureml-core) (0.9.0)\nRequirement already satisfied, skipping upgrade: pygments in /anaconda/envs/azureml_py38/lib/python3.8/site-packages (from knack~=0.10.0->azureml-core) (2.14.0)\nRequirement already satisfied, skipping upgrade: pyyaml in /anaconda/envs/azureml_py38/lib/python3.8/site-packages (from knack~=0.10.0->azureml-core) (6.0)\nRequirement already satisfied, skipping upgrade: backports.weakref in /anaconda/envs/azureml_py38/lib/python3.8/site-packages (from backports.tempfile->azureml-core) (1.0.post1)\nRequirement already satisfied, skipping upgrade: jeepney>=0.6 in /anaconda/envs/azureml_py38/lib/python3.8/site-packages (from SecretStorage<4.0.0->azureml-core) (0.8.0)\nRequirement already satisfied, skipping upgrade: websocket-client>=0.32.0 in /anaconda/envs/azureml_py38/lib/python3.8/site-packages (from docker<7.0.0->azureml-core) (1.5.0)\nRequirement already satisfied, skipping upgrade: six in /anaconda/envs/azureml_py38/lib/python3.8/site-packages (from msrestazure<=0.6.4,>=0.4.33->azureml-core) (1.16.0)\nRequirement already satisfied, skipping upgrade: pyasn1>=0.1.1 in /anaconda/envs/azureml_py38/lib/python3.8/site-packages (from ndg-httpsclient<=0.5.1->azureml-core) (0.4.8)\nRequirement already satisfied, skipping upgrade: azure-mgmt-core<2.0.0,>=1.3.2 in /anaconda/envs/azureml_py38/lib/python3.8/site-packages (from azure-mgmt-authorization<4,>=0.40.0->azureml-core) (1.3.2)\nRequirement already satisfied, skipping upgrade: typing-extensions>=4.0.1 in /anaconda/envs/azureml_py38/lib/python3.8/site-packages (from azure-core<2.0.0->azureml-core) (4.4.0)\nRequirement already satisfied, skipping upgrade: pynacl>=1.0.1 in /anaconda/envs/azureml_py38/lib/python3.8/site-packages (from paramiko<4.0.0,>=2.0.8->azureml-core) (1.5.0)\nRequirement already satisfied, skipping upgrade: bcrypt>=3.1.3 in /anaconda/envs/azureml_py38/lib/python3.8/site-packages (from paramiko<4.0.0,>=2.0.8->azureml-core) (4.0.1)\nRequirement already satisfied, skipping upgrade: portalocker<3,>=1.0; python_version >= \"3.5\" and platform_system != \"Windows\" in /anaconda/envs/azureml_py38/lib/python3.8/site-packages (from msal-extensions<=1.0.0,>=0.3.0->azureml-core) (2.7.0)\nRequirement already satisfied, skipping upgrade: pyparsing!=3.0.5,>=2.0.2 in /anaconda/envs/azureml_py38/lib/python3.8/site-packages (from packaging<=23.0,>=20.0->azureml-core) (3.0.9)\nRequirement already satisfied, skipping upgrade: isodate>=0.6.0 in /anaconda/envs/azureml_py38/lib/python3.8/site-packages (from msrest<=0.7.1,>=0.5.1->azureml-core) (0.6.1)\nRequirement already satisfied, skipping upgrade: requests-oauthlib>=0.5.0 in /anaconda/envs/azureml_py38/lib/python3.8/site-packages (from msrest<=0.7.1,>=0.5.1->azureml-core) (1.3.1)\nRequirement already satisfied, skipping upgrade: cffi>=1.12 in /anaconda/envs/azureml_py38/lib/python3.8/site-packages (from cryptography!=1.9,!=2.0.*,!=2.1.*,!=2.2.*,>=41->azureml-core) (1.15.1)\nRequirement already satisfied, skipping upgrade: oauthlib>=3.0.0 in /anaconda/envs/azureml_py38/lib/python3.8/site-packages (from requests-oauthlib>=0.5.0->msrest<=0.7.1,>=0.5.1->azureml-core) (3.2.2)\nRequirement already satisfied, skipping upgrade: pycparser in /anaconda/envs/azureml_py38/lib/python3.8/site-packages (from cffi>=1.12->cryptography!=1.9,!=2.0.*,!=2.1.*,!=2.2.*,>=41->azureml-core) (2.21)\n"
        }
      ],
      "execution_count": 1,
      "metadata": {
        "gather": {
          "logged": 1684477071072
        },
        "jupyter": {
          "outputs_hidden": false,
          "source_hidden": false
        },
        "nteract": {
          "transient": {
            "deleting": false
          }
        },
        "scrolled": true
      }
    },
    {
      "cell_type": "markdown",
      "source": [
        "# Automated ML\n",
        "\n",
        "TODO: Import Dependencies. In the cell below, import all the dependencies that you will need to complete the project."
      ],
      "metadata": {}
    },
    {
      "cell_type": "code",
      "source": [
        "import logging\n",
        "import os\n",
        "import csv\n",
        "\n",
        "#from matplotlib import pyplot as plt\n",
        "import numpy as np\n",
        "import pandas as pd\n",
        "#from sklearn import datasets\n",
        "import pkg_resources\n",
        "\n",
        "import azureml.core\n",
        "from azureml.core.experiment import Experiment\n",
        "from azureml.core.workspace import Workspace\n",
        "from azureml.train.automl import AutoMLConfig\n",
        "from azureml.core.dataset import Dataset\n",
        "\n",
        "from azureml.pipeline.steps import AutoMLStep"
      ],
      "outputs": [],
      "execution_count": 2,
      "metadata": {
        "gather": {
          "logged": 1687762532139
        },
        "jupyter": {
          "outputs_hidden": false,
          "source_hidden": false
        },
        "nteract": {
          "transient": {
            "deleting": false
          }
        }
      }
    },
    {
      "cell_type": "markdown",
      "source": [
        "## Dataset\n",
        "\n",
        "### Overview\n",
        "TODO: In this markdown cell, give an overview of the dataset you are using. Also mention the task you will be performing.\n",
        "\n",
        "\n",
        "TODO: Get data. In the cell below, write code to access the data you will be using in this project. Remember that the dataset needs to be external."
      ],
      "metadata": {}
    },
    {
      "cell_type": "markdown",
      "source": [
        "Title: Car Evaluation Database\n",
        "\n",
        "Task: To create the hierarchical decision model\n",
        "\n",
        "This model evaluates cars according to the following concept structure:\n",
        "\n",
        " CAR:car acceptability;\n",
        "\n",
        " buying:buying price;v-high, high, med, low\n",
        " \n",
        " maint:price of the maintenance;v-high, high, med, low\n",
        " \n",
        " doors:number of doors;2, 3, 4, 5-more\n",
        " \n",
        " persons:capacity in terms of persons to carry;2, 4, more\n",
        " \n",
        " lug_boot:the size of luggage boot;small, med, big\n",
        " \n",
        " safety:estimated safety of the car;low, med, high\n",
        "  \n",
        "Class Distribution;unacc,acc,good,v-good"
      ],
      "metadata": {
        "nteract": {
          "transient": {
            "deleting": false
          }
        }
      }
    },
    {
      "cell_type": "code",
      "source": [
        "ws = Workspace.from_config()\n",
        "\n",
        "# choose a name for experiment\n",
        "experiment_name = 'auto-ml'\n",
        "project_folder = './project'\n",
        "\n",
        "experiment=Experiment(ws, experiment_name)"
      ],
      "outputs": [],
      "execution_count": 3,
      "metadata": {
        "gather": {
          "logged": 1687762547431
        },
        "jupyter": {
          "outputs_hidden": false,
          "source_hidden": false
        },
        "nteract": {
          "transient": {
            "deleting": false
          }
        }
      }
    },
    {
      "cell_type": "code",
      "source": [
        "print(ws)"
      ],
      "outputs": [
        {
          "output_type": "stream",
          "name": "stdout",
          "text": "Workspace.create(name='quick-starts-ws-237682', subscription_id='f5091c60-1c3c-430f-8d81-d802f6bf2414', resource_group='aml-quickstarts-237682')\n"
        }
      ],
      "execution_count": 4,
      "metadata": {
        "gather": {
          "logged": 1687762552249
        },
        "jupyter": {
          "outputs_hidden": false,
          "source_hidden": false
        },
        "nteract": {
          "transient": {
            "deleting": false
          }
        }
      }
    },
    {
      "cell_type": "code",
      "source": [
        "from azureml.core.compute import AmlCompute\n",
        "from azureml.core.compute import ComputeTarget\n",
        "from azureml.core.compute_target import ComputeTargetException\n",
        "\n",
        "# Create the cluster\n",
        "amlcompute_cluster_name = \"auto-ml\"\n",
        "\n",
        "compute_config = AmlCompute.provisioning_configuration(vm_size='STANDARD_D2_V2',\n",
        "    # for GPU, use \"STANDARD_NC6\"\n",
        "    #vm_priority = 'lowpriority', # optional\n",
        "    max_nodes=4)\n",
        "compute_target = ComputeTarget.create(ws, amlcompute_cluster_name, compute_config)\n",
        "\n",
        "compute_target.wait_for_completion(show_output=True, min_node_count = 1, timeout_in_minutes = 10)\n",
        "# For a more detailed view of current AmlCompute status, use get_status()."
      ],
      "outputs": [
        {
          "output_type": "stream",
          "name": "stdout",
          "text": "InProgress..\nSucceededProvisioning operation finished, operation \"Succeeded\"\nSucceeded.....................................................................................................................\nAmlCompute wait for completion finished\n\nWait timeout has been reached\nCurrent provisioning state of AmlCompute is \"Succeeded\" and current node count is \"0\"\n"
        }
      ],
      "execution_count": 5,
      "metadata": {
        "gather": {
          "logged": 1687763174212
        },
        "jupyter": {
          "outputs_hidden": false,
          "source_hidden": false
        },
        "nteract": {
          "transient": {
            "deleting": false
          }
        }
      }
    },
    {
      "cell_type": "code",
      "source": [
        "# Create AML Dataset and register it into Workspace\n",
        "key='car evaluation data set'\n",
        "data = 'https://archive.ics.uci.edu/ml/machine-learning-databases/car/car.data'\n",
        "\n",
        "df = pd.read_csv(data)\n",
        "columns = ['buying', 'maint', 'doors', 'persons', 'lug_boot', 'safety', 'class']\n",
        "df.columns = columns\n",
        "\n",
        "# Convert the DataFrame to a TabularDataset\n",
        "dataset = Dataset.Tabular.register_pandas_dataframe(\n",
        "    dataframe=df, \n",
        "    target=(ws.get_default_datastore(), key), \n",
        "    name=key, \n",
        "    description='car evaluation data set')\n",
        "\n",
        "df.describe()\n"
      ],
      "outputs": [
        {
          "output_type": "stream",
          "name": "stdout",
          "text": "Validating arguments.\nArguments validated.\nSuccessfully obtained datastore reference and path.\nUploading file to car evaluation data set/33bf8f49-0451-43a0-a4ba-b9fb264b6573/\nSuccessfully uploaded file to datastore.\nCreating and registering a new dataset.\nSuccessfully created and registered a new dataset.\n"
        },
        {
          "output_type": "execute_result",
          "execution_count": 6,
          "data": {
            "text/plain": "       buying maint doors persons lug_boot safety  class\ncount    1727  1727  1727    1727     1727   1727   1727\nunique      4     4     4       3        3      3      4\ntop       low   low     3    more      med   high  unacc\nfreq      432   432   432     576      576    576   1209",
            "text/html": "<div>\n<style scoped>\n    .dataframe tbody tr th:only-of-type {\n        vertical-align: middle;\n    }\n\n    .dataframe tbody tr th {\n        vertical-align: top;\n    }\n\n    .dataframe thead th {\n        text-align: right;\n    }\n</style>\n<table border=\"1\" class=\"dataframe\">\n  <thead>\n    <tr style=\"text-align: right;\">\n      <th></th>\n      <th>buying</th>\n      <th>maint</th>\n      <th>doors</th>\n      <th>persons</th>\n      <th>lug_boot</th>\n      <th>safety</th>\n      <th>class</th>\n    </tr>\n  </thead>\n  <tbody>\n    <tr>\n      <th>count</th>\n      <td>1727</td>\n      <td>1727</td>\n      <td>1727</td>\n      <td>1727</td>\n      <td>1727</td>\n      <td>1727</td>\n      <td>1727</td>\n    </tr>\n    <tr>\n      <th>unique</th>\n      <td>4</td>\n      <td>4</td>\n      <td>4</td>\n      <td>3</td>\n      <td>3</td>\n      <td>3</td>\n      <td>4</td>\n    </tr>\n    <tr>\n      <th>top</th>\n      <td>low</td>\n      <td>low</td>\n      <td>3</td>\n      <td>more</td>\n      <td>med</td>\n      <td>high</td>\n      <td>unacc</td>\n    </tr>\n    <tr>\n      <th>freq</th>\n      <td>432</td>\n      <td>432</td>\n      <td>432</td>\n      <td>576</td>\n      <td>576</td>\n      <td>576</td>\n      <td>1209</td>\n    </tr>\n  </tbody>\n</table>\n</div>"
          },
          "metadata": {}
        }
      ],
      "execution_count": 6,
      "metadata": {
        "gather": {
          "logged": 1687763202795
        },
        "jupyter": {
          "outputs_hidden": false,
          "source_hidden": false
        },
        "nteract": {
          "transient": {
            "deleting": false
          }
        }
      }
    },
    {
      "cell_type": "markdown",
      "source": [
        "## AutoML Configuration\n",
        "\n",
        "TODO: Explain why you chose the automl settings and cofiguration you used below."
      ],
      "metadata": {}
    },
    {
      "cell_type": "markdown",
      "source": [
        "Automl setting\n",
        "\n",
        " - experiment time out minutes; to avoid endless working\n",
        "\n",
        " - max concurrent iterations; between cost and performance\n",
        "\n",
        " - primary metric; AUC is a widely used metric to evaluate the performance of binary classifiers. The weighted version extends it to multi-class classification by considering the class imbalance when computing the average AUC across classes. \n",
        "\n",
        "Automl configuration\n",
        "\n",
        " - task = \"classification\"; To make classification model\n",
        "\n",
        " - label_column_name=\"class\"; This column gives evalation result\n",
        "\n",
        " - enable_early_stopping= True; To save cost at score improvement small\n",
        "\n",
        " - featurization= 'auto'; Automated separation for training data and test data\n"
      ],
      "metadata": {
        "nteract": {
          "transient": {
            "deleting": false
          }
        }
      }
    },
    {
      "cell_type": "code",
      "source": [
        "# TODO: Put your automl settings here\n",
        "automl_settings = {\n",
        "    \"experiment_timeout_minutes\": 20,\n",
        "    \"max_concurrent_iterations\": 5,\n",
        "    \"primary_metric\" : 'AUC_weighted'\n",
        "}\n",
        "# TODO: Put your automl config here\n",
        "automl_config = AutoMLConfig(compute_target=compute_target,\n",
        "                             task = \"classification\",\n",
        "                             training_data=dataset,\n",
        "                             label_column_name=\"class\",   \n",
        "                             path = project_folder,\n",
        "                             enable_early_stopping= True,\n",
        "                             featurization= 'auto',\n",
        "                             debug_log = \"automl_errors.log\",\n",
        "                             **automl_settings\n",
        "                            )"
      ],
      "outputs": [],
      "execution_count": 7,
      "metadata": {
        "gather": {
          "logged": 1687763215518
        },
        "jupyter": {
          "outputs_hidden": false,
          "source_hidden": false
        },
        "nteract": {
          "transient": {
            "deleting": false
          }
        }
      }
    },
    {
      "cell_type": "code",
      "source": [
        "# TODO: Submit your experiment\n",
        "\n",
        "remote_run = experiment.submit(automl_config)\n"
      ],
      "outputs": [
        {
          "output_type": "stream",
          "name": "stdout",
          "text": "Submitting remote run.\n"
        },
        {
          "output_type": "display_data",
          "data": {
            "text/plain": "<IPython.core.display.HTML object>",
            "text/html": "<table style=\"width:100%\"><tr><th>Experiment</th><th>Id</th><th>Type</th><th>Status</th><th>Details Page</th><th>Docs Page</th></tr><tr><td>auto-ml</td><td>AutoML_68f381cc-a401-464f-982e-b88e8e0f31e5</td><td>automl</td><td>NotStarted</td><td><a href=\"https://ml.azure.com/runs/AutoML_68f381cc-a401-464f-982e-b88e8e0f31e5?wsid=/subscriptions/f5091c60-1c3c-430f-8d81-d802f6bf2414/resourcegroups/aml-quickstarts-237682/workspaces/quick-starts-ws-237682&amp;tid=660b3398-b80e-49d2-bc5b-ac1dc93b5254\" target=\"_blank\" rel=\"noopener\">Link to Azure Machine Learning studio</a></td><td><a href=\"https://docs.microsoft.com/en-us/python/api/overview/azure/ml/intro?view=azure-ml-py\" target=\"_blank\" rel=\"noopener\">Link to Documentation</a></td></tr></table>"
          },
          "metadata": {}
        }
      ],
      "execution_count": 8,
      "metadata": {
        "gather": {
          "logged": 1687763224787
        },
        "jupyter": {
          "outputs_hidden": false,
          "source_hidden": false
        },
        "nteract": {
          "transient": {
            "deleting": false
          }
        }
      }
    },
    {
      "cell_type": "markdown",
      "source": [
        "## Run Details\n",
        "\n",
        "OPTIONAL: Write about the different models trained and their performance. Why do you think some models did better than others?\n",
        "\n",
        "TODO: In the cell below, use the `RunDetails` widget to show the different experiments."
      ],
      "metadata": {}
    },
    {
      "cell_type": "code",
      "source": [
        "from azureml.widgets import RunDetails\n",
        "\n",
        "RunDetails(remote_run).show()"
      ],
      "outputs": [
        {
          "output_type": "display_data",
          "data": {
            "text/plain": "_AutoMLWidget(widget_settings={'childWidgetDisplay': 'popup', 'send_telemetry': False, 'log_level': 'INFO', 's…",
            "application/vnd.jupyter.widget-view+json": {
              "version_major": 2,
              "version_minor": 0,
              "model_id": "a702093fea8149d285641b4ba9c79e4e"
            }
          },
          "metadata": {}
        },
        {
          "output_type": "display_data",
          "data": {
            "application/aml.mini.widget.v1": "{\"status\": \"Completed\", \"workbench_run_details_uri\": \"https://ml.azure.com/runs/AutoML_68f381cc-a401-464f-982e-b88e8e0f31e5?wsid=/subscriptions/f5091c60-1c3c-430f-8d81-d802f6bf2414/resourcegroups/aml-quickstarts-237682/workspaces/quick-starts-ws-237682&tid=660b3398-b80e-49d2-bc5b-ac1dc93b5254\", \"run_id\": \"AutoML_68f381cc-a401-464f-982e-b88e8e0f31e5\", \"run_properties\": {\"run_id\": \"AutoML_68f381cc-a401-464f-982e-b88e8e0f31e5\", \"created_utc\": \"2023-06-26T07:07:03.461041Z\", \"properties\": {\"num_iterations\": \"1000\", \"training_type\": \"TrainFull\", \"acquisition_function\": \"EI\", \"primary_metric\": \"AUC_weighted\", \"train_split\": \"0\", \"acquisition_parameter\": \"0\", \"num_cross_validation\": null, \"target\": \"auto-ml\", \"AMLSettingsJsonString\": \"{\\\"path\\\":null,\\\"name\\\":\\\"auto-ml\\\",\\\"subscription_id\\\":\\\"f5091c60-1c3c-430f-8d81-d802f6bf2414\\\",\\\"resource_group\\\":\\\"aml-quickstarts-237682\\\",\\\"workspace_name\\\":\\\"quick-starts-ws-237682\\\",\\\"region\\\":\\\"westeurope\\\",\\\"compute_target\\\":\\\"auto-ml\\\",\\\"spark_service\\\":null,\\\"azure_service\\\":\\\"remote\\\",\\\"many_models\\\":false,\\\"pipeline_fetch_max_batch_size\\\":1,\\\"enable_batch_run\\\":true,\\\"enable_parallel_run\\\":false,\\\"num_procs\\\":null,\\\"enable_run_restructure\\\":false,\\\"start_auxiliary_runs_before_parent_complete\\\":false,\\\"enable_code_generation\\\":true,\\\"iterations\\\":1000,\\\"primary_metric\\\":\\\"AUC_weighted\\\",\\\"task_type\\\":\\\"classification\\\",\\\"positive_label\\\":null,\\\"data_script\\\":null,\\\"test_size\\\":0.0,\\\"test_include_predictions_only\\\":false,\\\"validation_size\\\":0.0,\\\"n_cross_validations\\\":null,\\\"y_min\\\":null,\\\"y_max\\\":null,\\\"num_classes\\\":null,\\\"featurization\\\":\\\"auto\\\",\\\"_ignore_package_version_incompatibilities\\\":false,\\\"is_timeseries\\\":false,\\\"max_cores_per_iteration\\\":1,\\\"max_concurrent_iterations\\\":5,\\\"iteration_timeout_minutes\\\":null,\\\"mem_in_mb\\\":null,\\\"enforce_time_on_windows\\\":false,\\\"experiment_timeout_minutes\\\":20,\\\"experiment_exit_score\\\":null,\\\"partition_column_names\\\":null,\\\"whitelist_models\\\":null,\\\"blacklist_algos\\\":[\\\"TensorFlowLinearClassifier\\\",\\\"TensorFlowDNN\\\"],\\\"supported_models\\\":[\\\"SVM\\\",\\\"LogisticRegression\\\",\\\"AveragedPerceptronClassifier\\\",\\\"SGD\\\",\\\"KNN\\\",\\\"GradientBoosting\\\",\\\"TensorFlowLinearClassifier\\\",\\\"BernoulliNaiveBayes\\\",\\\"XGBoostClassifier\\\",\\\"LightGBM\\\",\\\"TabnetClassifier\\\",\\\"MultinomialNaiveBayes\\\",\\\"DecisionTree\\\",\\\"TensorFlowDNN\\\",\\\"LinearSVM\\\",\\\"RandomForest\\\",\\\"ExtremeRandomTrees\\\"],\\\"private_models\\\":[],\\\"auto_blacklist\\\":true,\\\"blacklist_samples_reached\\\":false,\\\"exclude_nan_labels\\\":true,\\\"verbosity\\\":20,\\\"_debug_log\\\":\\\"azureml_automl.log\\\",\\\"show_warnings\\\":false,\\\"model_explainability\\\":true,\\\"service_url\\\":null,\\\"sdk_url\\\":null,\\\"sdk_packages\\\":null,\\\"enable_onnx_compatible_models\\\":false,\\\"enable_split_onnx_featurizer_estimator_models\\\":false,\\\"vm_type\\\":\\\"STANDARD_D2_V2\\\",\\\"telemetry_verbosity\\\":20,\\\"send_telemetry\\\":true,\\\"enable_dnn\\\":false,\\\"scenario\\\":\\\"AutoML\\\",\\\"environment_label\\\":null,\\\"save_mlflow\\\":false,\\\"enable_categorical_indicators\\\":false,\\\"force_text_dnn\\\":false,\\\"enable_feature_sweeping\\\":true,\\\"enable_early_stopping\\\":true,\\\"early_stopping_n_iters\\\":10,\\\"arguments\\\":null,\\\"dataset_id\\\":\\\"4e1595a1-d138-452b-a9f2-17c6809a09b9\\\",\\\"hyperdrive_config\\\":null,\\\"validation_dataset_id\\\":null,\\\"run_source\\\":null,\\\"metrics\\\":null,\\\"enable_metric_confidence\\\":false,\\\"enable_ensembling\\\":true,\\\"enable_stack_ensembling\\\":true,\\\"ensemble_iterations\\\":15,\\\"enable_tf\\\":false,\\\"enable_subsampling\\\":null,\\\"subsample_seed\\\":null,\\\"enable_nimbusml\\\":false,\\\"enable_streaming\\\":false,\\\"force_streaming\\\":false,\\\"track_child_runs\\\":true,\\\"n_best_runs\\\":1,\\\"allowed_private_models\\\":[],\\\"label_column_name\\\":\\\"class\\\",\\\"weight_column_name\\\":null,\\\"cv_split_column_names\\\":null,\\\"enable_local_managed\\\":false,\\\"_local_managed_run_id\\\":null,\\\"cost_mode\\\":1,\\\"lag_length\\\":0,\\\"metric_operation\\\":\\\"maximize\\\",\\\"preprocess\\\":true}\", \"DataPrepJsonString\": \"{\\\\\\\"training_data\\\\\\\": {\\\\\\\"datasetId\\\\\\\": \\\\\\\"4e1595a1-d138-452b-a9f2-17c6809a09b9\\\\\\\"}, \\\\\\\"datasets\\\\\\\": 0}\", \"EnableSubsampling\": null, \"runTemplate\": \"AutoML\", \"azureml.runsource\": \"automl\", \"display_task_type\": \"classification\", \"dependencies_versions\": \"{\\\"azureml-widgets\\\": \\\"1.49.0\\\", \\\"azureml-training-tabular\\\": \\\"1.49.0\\\", \\\"azureml-train\\\": \\\"1.49.0\\\", \\\"azureml-train-restclients-hyperdrive\\\": \\\"1.49.0\\\", \\\"azureml-train-core\\\": \\\"1.49.0\\\", \\\"azureml-train-automl\\\": \\\"1.49.0\\\", \\\"azureml-train-automl-runtime\\\": \\\"1.49.0\\\", \\\"azureml-train-automl-client\\\": \\\"1.49.0\\\", \\\"azureml-tensorboard\\\": \\\"1.49.0\\\", \\\"azureml-telemetry\\\": \\\"1.49.0\\\", \\\"azureml-sdk\\\": \\\"1.49.0\\\", \\\"azureml-responsibleai\\\": \\\"1.49.0\\\", \\\"azureml-pipeline\\\": \\\"1.49.0\\\", \\\"azureml-pipeline-steps\\\": \\\"1.49.0\\\", \\\"azureml-pipeline-core\\\": \\\"1.49.0\\\", \\\"azureml-opendatasets\\\": \\\"1.49.0\\\", \\\"azureml-mlflow\\\": \\\"1.49.0\\\", \\\"azureml-interpret\\\": \\\"1.49.0\\\", \\\"azureml-inference-server-http\\\": \\\"0.8.0\\\", \\\"azureml-explain-model\\\": \\\"1.49.0\\\", \\\"azureml-defaults\\\": \\\"1.49.0\\\", \\\"azureml-dataset-runtime\\\": \\\"1.49.0\\\", \\\"azureml-dataprep\\\": \\\"4.9.1\\\", \\\"azureml-dataprep-rslex\\\": \\\"2.16.1\\\", \\\"azureml-dataprep-native\\\": \\\"38.0.0\\\", \\\"azureml-datadrift\\\": \\\"1.49.0\\\", \\\"azureml-core\\\": \\\"1.49.0\\\", \\\"azureml-contrib-services\\\": \\\"1.49.0\\\", \\\"azureml-contrib-server\\\": \\\"1.49.0\\\", \\\"azureml-contrib-reinforcementlearning\\\": \\\"1.49.0\\\", \\\"azureml-contrib-pipeline-steps\\\": \\\"1.49.0\\\", \\\"azureml-contrib-notebook\\\": \\\"1.49.0\\\", \\\"azureml-contrib-fairness\\\": \\\"1.49.0\\\", \\\"azureml-contrib-dataset\\\": \\\"1.49.0\\\", \\\"azureml-contrib-automl-pipeline-steps\\\": \\\"1.49.0\\\", \\\"azureml-cli-common\\\": \\\"1.49.0\\\", \\\"azureml-automl-runtime\\\": \\\"1.49.0\\\", \\\"azureml-automl-dnn-nlp\\\": \\\"1.49.0\\\", \\\"azureml-automl-core\\\": \\\"1.49.0\\\", \\\"azureml-accel-models\\\": \\\"1.49.0\\\"}\", \"_aml_system_scenario_identification\": \"Remote.Parent\", \"ClientType\": \"SDK\", \"PlatformVersion\": \"DPV1\", \"environment_cpu_name\": \"AzureML-AutoML\", \"environment_cpu_label\": \"prod\", \"environment_gpu_name\": \"AzureML-AutoML-GPU\", \"environment_gpu_label\": \"prod\", \"root_attribution\": \"automl\", \"attribution\": \"AutoML\", \"Orchestrator\": \"AutoML\", \"CancelUri\": \"https://westeurope.api.azureml.ms/jasmine/v1.0/subscriptions/f5091c60-1c3c-430f-8d81-d802f6bf2414/resourceGroups/aml-quickstarts-237682/providers/Microsoft.MachineLearningServices/workspaces/quick-starts-ws-237682/experimentids/223c003f-8763-46ad-a3c4-dee27877954e/cancel/AutoML_68f381cc-a401-464f-982e-b88e8e0f31e5\", \"ClientSdkVersion\": null, \"snapshotId\": \"00000000-0000-0000-0000-000000000000\", \"SetupRunId\": \"AutoML_68f381cc-a401-464f-982e-b88e8e0f31e5_setup\", \"SetupRunContainerId\": \"dcid.AutoML_68f381cc-a401-464f-982e-b88e8e0f31e5_setup\", \"FeaturizationRunJsonPath\": \"featurizer_container.json\", \"FeaturizationRunId\": \"AutoML_68f381cc-a401-464f-982e-b88e8e0f31e5_featurize\", \"ProblemInfoJsonString\": \"{\\\"dataset_num_categorical\\\": 0, \\\"is_sparse\\\": true, \\\"subsampling\\\": false, \\\"has_extra_col\\\": true, \\\"dataset_classes\\\": 4, \\\"dataset_features\\\": 21, \\\"dataset_samples\\\": 1727, \\\"single_frequency_class_detected\\\": false}\", \"ModelExplainRunId\": \"AutoML_68f381cc-a401-464f-982e-b88e8e0f31e5_ModelExplain\"}, \"tags\": {\"model_explain_run\": \"best_run\", \"_aml_system_automl_run_workspace_id\": \"45bb6e79-0470-4d79-ac3f-29c4f6caa8ee\", \"_aml_system_azureml.automlComponent\": \"AutoML\", \"pipeline_id_000\": \"5dfac790c5c209f98a1da2dc1c7fb76f0397324f;c7af0367625be6ac5c2fecbfc72ed444cb7a2111;51ae05309834b29f71340af1008fc94fbd8213f4;ce2643edf3d450b10c86c7d034a9bc952dc282d3;039a99c3d5147edeb525249e2660628be3e8b83f;a3dadd95854bf6116ab454844302b51d417d78b7;1dfdf370ba770047b14bfa59c40920815defcdab;294650ec23bc3d067a4972de7ceb12f6e97260fa;681a59302459aec2cc115ddbc14e1d28f4b3b8df;5bcf69d12307c5f0246b0d33ab19666443595ac9;6f4a466f84f725a47910c1dff062a1bb46df2a21;dea7fdbaedc77258dbfe31dbfed41e768ca38939;c74787cd2f0507b852a1ac70d504d83ac9bdec83;79ebb3b8c385e3190e3dd4c1fa28b74730528045;a72eb56f3d4aadb7b7f0149ba6e5f05657a95ca1;9610149fbcf43017aa810a290e9c04cbe6fa8684;5dcd9bc8a74634130a855a68c1bf956ce7160f98;1e38ae92baee19b18f211a8b14c16015d5ee3dc3;a7434e890cabef86b0ce4ae71fb633e1e92b854d;ee365d2bc711bc6838929328cc4ff4b890fbc6c3;dd46719e1e1ca3df6e6826afb96bf9be8390e6e2;208056285bd1883d5bd7d4e4e996a1c71c4b0033;3fe9ace0255a98a01a321c2b4c6ab86f6c1db8e5;dfc631bbb8f3be228d228210719dafe9e4a19b00;f9c4839cd35f7fe03bcc11d87a99d82f63f333dc;406bf7c5ee136c4150aef3e83983240c3ba59d35;d6b59777ec875a63efbfc0704b2e67d652730595;d39874c32bade5410a620fa56f5eaeab83762bb1;4463db280bbe2590da8cc0c57810b12737449212;cb31ab559db08156dd98c227926319000538915b;944c4239de0ab1655a4f5b96ad7ce5427c31fea9;d969a2f6d3c95a0ff9760359f722a76996262e52;2e297684f3f8e7eae283debaa9f02cc4401a70a4;7b9ca6e5db736cc02f9022d24b22e0a9aeffa2a6;5ab6d4805e1c19c4f45bd39243a00127acbfaac9;20f74c45e96a9d983f0458002870f7dd2b84c07b;486a5732db2dfa5a7e3d4b6ff912a8d3e96a1d2c;8eec30b004aa15fb41b48197f5ade583d5c93bd7;__AutoML_Ensemble__;__AutoML_Stack_Ensemble__\", \"score_000\": \"0.9987787177700516;0.9985844805699463;0.9700179571794963;0.9734831325939727;0.971683486477084;0.9946857986998717;0.9779871492003035;0.9903016405662504;0.9951940756307899;0.9390440415803779;0.974824830345356;0.9858518194338087;0.9950593846673023;0.9767391374412387;0.995633023466887;0.9862407546483416;0.9831482301723553;0.9886005147395781;0.9468114759781288;0.9944942408339038;0.9943466744333511;0.9808437454823347;0.9978869169956212;0.988208224738333;0.9535369829844229;0.9905179558168888;0.9789769828261291;0.9833019630503838;0.9856470234313229;0.9792744395794667;0.9866057749318342;0.9982624605770822;0.9919504379066515;0.9957876738686565;0.9907237389867892;0.9791565127891465;NaN;NaN;0.9987723517439;0.9981265721877469\", \"predicted_cost_000\": \"0;0;0.5;0.5;0.5;0.5;0.5;0.5;0.5;0.5;0.5;0.5;0.5;0.5;0.5;0.5;0.34040086640481765;0.5;0.5;0.08138678659198195;0.5;0.5;0.222864904985454;0.06843314189472331;0.04201846706172636;0.1428305173855632;0.3051156027321125;0.08446139802703105;0.323543626289023;0.08439795765686808;0.32204025782594103;0.2597994452557885;0.39499941346295364;0.1803388561688836;0.09905342207820486;0.1184949087969511;0.0851633375365662;0.1138033964279655;0;0\", \"fit_time_000\": \"0.29052833333333333;0.2699503333333333;0.029014666666666664;0.033749;0.02640833333333333;0.06296166666666667;0.335677;0.054858;0.060700000000000004;0.09740133333333334;0.034466666666666666;0.785656;0.116614;0.03933066666666666;0.3513653333333333;0.09812799999999999;0.13845066666666667;0.10780400000000001;0.4448473333333333;0.05499833333333334;0.07499866666666667;0.16817533333333334;0.400608;0.052590000000000005;0.03830633333333333;0.12062366666666667;0.132608;0.07044366666666667;0.24939566666666668;0.046408666666666674;0.21854933333333335;0.12699433333333335;0.07651766666666666;0.27524;0.2584386666666667;0.431568;NaN;NaN;26;34\", \"training_percent_000\": \"100;100;100;100;100;100;100;100;100;100;100;100;100;100;100;100;100;100;100;100;100;100;100;100;100;100;100;100;100;100;100;100;100;100;100;100;100;100;100;100\", \"iteration_000\": \"0;1;2;3;4;5;6;7;8;9;10;11;12;13;14;15;20;16;17;21;18;19;22;24;23;25;26;28;27;29;30;31;32;33;34;35;36;37;38;39\", \"run_preprocessor_000\": \"MaxAbsScaler;MaxAbsScaler;MaxAbsScaler;MaxAbsScaler;StandardScalerWrapper;SparseNormalizer;SparseNormalizer;StandardScalerWrapper;SparseNormalizer;MaxAbsScaler;SparseNormalizer;MaxAbsScaler;StandardScalerWrapper;StandardScalerWrapper;StandardScalerWrapper;MaxAbsScaler;MaxAbsScaler;MaxAbsScaler;StandardScalerWrapper;StandardScalerWrapper;StandardScalerWrapper;MaxAbsScaler;StandardScalerWrapper;SparseNormalizer;MaxAbsScaler;StandardScalerWrapper;MaxAbsScaler;MaxAbsScaler;MaxAbsScaler;StandardScalerWrapper;StandardScalerWrapper;SparseNormalizer;StandardScalerWrapper;StandardScalerWrapper;SparseNormalizer;SparseNormalizer;SparseNormalizer;;;\", \"run_algorithm_000\": \"LightGBM;XGBoostClassifier;ExtremeRandomTrees;RandomForest;LightGBM;XGBoostClassifier;RandomForest;XGBoostClassifier;XGBoostClassifier;RandomForest;LightGBM;ExtremeRandomTrees;XGBoostClassifier;ExtremeRandomTrees;RandomForest;LightGBM;LogisticRegression;LogisticRegression;ExtremeRandomTrees;XGBoostClassifier;XGBoostClassifier;ExtremeRandomTrees;XGBoostClassifier;XGBoostClassifier;RandomForest;LightGBM;LinearSVM;LightGBM;LogisticRegression;LightGBM;LightGBM;XGBoostClassifier;XGBoostClassifier;LightGBM;XGBoostClassifier;LightGBM;XGBoostClassifier;;VotingEnsemble;StackEnsemble\", \"dynamic_allowlisting_iterations\": \"<25>;<30>;<35>;\", \"_aml_system_azureml.automl_early_exit_message\": \"No scores improved over last 10 iterations, so experiment stopped early. This early stopping behavior can be disabled by setting enable_early_stopping = False in AutoMLConfig for notebook/python SDK runs.\", \"automl_best_child_run_id\": \"AutoML_68f381cc-a401-464f-982e-b88e8e0f31e5_0\", \"model_explain_best_run_child_id\": \"AutoML_68f381cc-a401-464f-982e-b88e8e0f31e5_0\"}, \"end_time_utc\": \"2023-06-26T07:32:23.863088Z\", \"status\": \"Completed\", \"log_files\": {}, \"log_groups\": [], \"run_duration\": \"0:25:20\", \"run_number\": \"1687763223\", \"run_queued_details\": {\"status\": \"Completed\", \"details\": null}}, \"child_runs\": [{\"run_id\": \"AutoML_68f381cc-a401-464f-982e-b88e8e0f31e5_setup\", \"run_number\": 1687763237, \"metric\": null, \"status\": \"Completed\", \"run_type\": \"azureml.scriptrun\", \"training_percent\": null, \"start_time\": \"2023-06-26T07:12:03.192114Z\", \"end_time\": \"2023-06-26T07:19:14.443442Z\", \"created_time\": \"2023-06-26T07:07:17.567783Z\", \"created_time_dt\": \"2023-06-26T07:07:17.567783Z\", \"duration\": \"0:11:56\", \"iteration\": null, \"goal\": null, \"run_name\": \"Completed\", \"run_properties\": null}, {\"run_id\": \"AutoML_68f381cc-a401-464f-982e-b88e8e0f31e5_featurize\", \"run_number\": 1687763955, \"metric\": null, \"status\": \"Completed\", \"run_type\": \"automl.featurization\", \"training_percent\": null, \"start_time\": \"2023-06-26T07:19:15.433174Z\", \"end_time\": \"2023-06-26T07:20:43.81161Z\", \"created_time\": \"2023-06-26T07:19:15.009493Z\", \"created_time_dt\": \"2023-06-26T07:19:15.009493Z\", \"duration\": \"0:01:28\", \"iteration\": null, \"goal\": null, \"run_name\": \"Completed\", \"run_properties\": null}, {\"run_id\": \"AutoML_68f381cc-a401-464f-982e-b88e8e0f31e5_0\", \"run_number\": 1687764045, \"metric\": null, \"status\": \"Completed\", \"run_type\": null, \"training_percent\": \"100\", \"start_time\": \"2023-06-26T07:21:07.830285Z\", \"end_time\": \"2023-06-26T07:21:24.624051Z\", \"created_time\": \"2023-06-26T07:20:45.532532Z\", \"created_time_dt\": \"2023-06-26T07:20:45.532532Z\", \"duration\": \"0:00:39\", \"iteration\": \"0\", \"goal\": \"AUC_weighted_max\", \"run_name\": \"MaxAbsScaler, LightGBM\", \"run_properties\": \"copy=True\", \"primary_metric\": 0.99877872, \"best_metric\": 0.99877872}, {\"run_id\": \"AutoML_68f381cc-a401-464f-982e-b88e8e0f31e5_worker_0\", \"run_number\": 1687764046, \"metric\": null, \"status\": \"Completed\", \"run_type\": \"azureml.scriptrun\", \"training_percent\": null, \"start_time\": \"2023-06-26T07:20:57.343652Z\", \"end_time\": \"2023-06-26T07:22:13.260548Z\", \"created_time\": \"2023-06-26T07:20:46.97451Z\", \"created_time_dt\": \"2023-06-26T07:20:46.97451Z\", \"duration\": \"0:01:26\", \"iteration\": null, \"goal\": null, \"run_name\": \"Completed\", \"run_properties\": null}, {\"run_id\": \"AutoML_68f381cc-a401-464f-982e-b88e8e0f31e5_4\", \"run_number\": 1687764047, \"metric\": null, \"status\": \"Completed\", \"run_type\": null, \"training_percent\": \"100\", \"start_time\": \"2023-06-26T07:22:28.054202Z\", \"end_time\": \"2023-06-26T07:22:42.700429Z\", \"created_time\": \"2023-06-26T07:20:47.14795Z\", \"created_time_dt\": \"2023-06-26T07:20:47.14795Z\", \"duration\": \"0:01:55\", \"iteration\": \"4\", \"goal\": \"AUC_weighted_max\", \"run_name\": \"StandardScalerWrapper, LightGBM\", \"run_properties\": \"copy=True, with_mean=False, with_std=True\", \"primary_metric\": 0.97168349, \"best_metric\": 0.99877872}, {\"run_id\": \"AutoML_68f381cc-a401-464f-982e-b88e8e0f31e5_worker_1\", \"run_number\": 1687764048, \"metric\": null, \"status\": \"Completed\", \"run_type\": \"azureml.scriptrun\", \"training_percent\": null, \"start_time\": \"2023-06-26T07:22:16.075131Z\", \"end_time\": \"2023-06-26T07:23:32.125358Z\", \"created_time\": \"2023-06-26T07:20:48.705811Z\", \"created_time_dt\": \"2023-06-26T07:20:48.705811Z\", \"duration\": \"0:02:43\", \"iteration\": null, \"goal\": null, \"run_name\": \"Completed\", \"run_properties\": null}, {\"run_id\": \"AutoML_68f381cc-a401-464f-982e-b88e8e0f31e5_9\", \"run_number\": 1687764049, \"metric\": null, \"status\": \"Completed\", \"run_type\": null, \"training_percent\": \"100\", \"start_time\": \"2023-06-26T07:24:08.139663Z\", \"end_time\": \"2023-06-26T07:24:20.220525Z\", \"created_time\": \"2023-06-26T07:20:49.25186Z\", \"created_time_dt\": \"2023-06-26T07:20:49.25186Z\", \"duration\": \"0:03:30\", \"iteration\": \"9\", \"goal\": \"AUC_weighted_max\", \"run_name\": \"MaxAbsScaler, RandomForest\", \"run_properties\": \"copy=True\", \"primary_metric\": 0.93904404, \"best_metric\": 0.99877872}, {\"run_id\": \"AutoML_68f381cc-a401-464f-982e-b88e8e0f31e5_worker_2\", \"run_number\": 1687764050, \"metric\": null, \"status\": \"Completed\", \"run_type\": \"azureml.scriptrun\", \"training_percent\": null, \"start_time\": \"2023-06-26T07:23:34.867916Z\", \"end_time\": \"2023-06-26T07:25:00.504989Z\", \"created_time\": \"2023-06-26T07:20:50.351298Z\", \"created_time_dt\": \"2023-06-26T07:20:50.351298Z\", \"duration\": \"0:04:10\", \"iteration\": null, \"goal\": null, \"run_name\": \"Completed\", \"run_properties\": null}, {\"run_id\": \"AutoML_68f381cc-a401-464f-982e-b88e8e0f31e5_13\", \"run_number\": 1687764051, \"metric\": null, \"status\": \"Completed\", \"run_type\": null, \"training_percent\": \"100\", \"start_time\": \"2023-06-26T07:25:31.561082Z\", \"end_time\": \"2023-06-26T07:25:43.406291Z\", \"created_time\": \"2023-06-26T07:20:51.195449Z\", \"created_time_dt\": \"2023-06-26T07:20:51.195449Z\", \"duration\": \"0:04:52\", \"iteration\": \"13\", \"goal\": \"AUC_weighted_max\", \"run_name\": \"StandardScalerWrapper, ExtremeRandomTrees\", \"run_properties\": \"copy=True, with_mean=False, with_std=False\", \"primary_metric\": 0.97673914, \"best_metric\": 0.99877872}, {\"run_id\": \"AutoML_68f381cc-a401-464f-982e-b88e8e0f31e5_worker_3\", \"run_number\": 1687764052, \"metric\": null, \"status\": \"Completed\", \"run_type\": \"azureml.scriptrun\", \"training_percent\": null, \"start_time\": \"2023-06-26T07:25:05.336272Z\", \"end_time\": \"2023-06-26T07:26:22.436037Z\", \"created_time\": \"2023-06-26T07:20:52.308951Z\", \"created_time_dt\": \"2023-06-26T07:20:52.308951Z\", \"duration\": \"0:05:30\", \"iteration\": null, \"goal\": null, \"run_name\": \"Completed\", \"run_properties\": null}, {\"run_id\": \"AutoML_68f381cc-a401-464f-982e-b88e8e0f31e5_18\", \"run_number\": 1687764053, \"metric\": null, \"status\": \"Completed\", \"run_type\": null, \"training_percent\": \"100\", \"start_time\": \"2023-06-26T07:28:22.771813Z\", \"end_time\": \"2023-06-26T07:28:40.691176Z\", \"created_time\": \"2023-06-26T07:20:53.509515Z\", \"created_time_dt\": \"2023-06-26T07:20:53.509515Z\", \"duration\": \"0:07:47\", \"iteration\": \"18\", \"goal\": \"AUC_weighted_max\", \"run_name\": \"StandardScalerWrapper, XGBoostClassifier\", \"run_properties\": \"copy=True, with_mean=False, with_std=False\", \"primary_metric\": 0.99434667, \"best_metric\": 0.99877872}, {\"run_id\": \"AutoML_68f381cc-a401-464f-982e-b88e8e0f31e5_worker_4\", \"run_number\": 1687764054, \"metric\": null, \"status\": \"Completed\", \"run_type\": \"azureml.scriptrun\", \"training_percent\": null, \"start_time\": \"2023-06-26T07:26:11.285147Z\", \"end_time\": \"2023-06-26T07:29:02.994259Z\", \"created_time\": \"2023-06-26T07:20:54.160814Z\", \"created_time_dt\": \"2023-06-26T07:20:54.160814Z\", \"duration\": \"0:08:08\", \"iteration\": null, \"goal\": null, \"run_name\": \"Completed\", \"run_properties\": null}, {\"run_id\": \"AutoML_68f381cc-a401-464f-982e-b88e8e0f31e5_20\", \"run_number\": 1687764377, \"metric\": null, \"status\": \"Completed\", \"run_type\": \"azureml.scriptrun\", \"training_percent\": \"100\", \"start_time\": \"2023-06-26T07:26:29.808371Z\", \"end_time\": \"2023-06-26T07:27:02.290811Z\", \"created_time\": \"2023-06-26T07:26:17.143151Z\", \"created_time_dt\": \"2023-06-26T07:26:17.143151Z\", \"duration\": \"0:00:45\", \"iteration\": \"20\", \"goal\": \"AUC_weighted_max\", \"run_name\": \"MaxAbsScaler, LogisticRegression\", \"run_properties\": \"copy=True\", \"primary_metric\": 0.98314823, \"best_metric\": 0.99877872}, {\"run_id\": \"AutoML_68f381cc-a401-464f-982e-b88e8e0f31e5_24\", \"run_number\": 1687764505, \"metric\": null, \"status\": \"Completed\", \"run_type\": \"azureml.scriptrun\", \"training_percent\": \"100\", \"start_time\": \"2023-06-26T07:28:34.855516Z\", \"end_time\": \"2023-06-26T07:29:07.401165Z\", \"created_time\": \"2023-06-26T07:28:25.762533Z\", \"created_time_dt\": \"2023-06-26T07:28:25.762533Z\", \"duration\": \"0:00:41\", \"iteration\": \"24\", \"goal\": \"AUC_weighted_max\", \"run_name\": \"SparseNormalizer, XGBoostClassifier\", \"run_properties\": \"copy=True, norm='max'\", \"primary_metric\": 0.98820822, \"best_metric\": 0.99877872}, {\"run_id\": \"AutoML_68f381cc-a401-464f-982e-b88e8e0f31e5_25\", \"run_number\": 1687764525, \"metric\": null, \"status\": \"Completed\", \"run_type\": \"azureml.scriptrun\", \"training_percent\": \"100\", \"start_time\": \"2023-06-26T07:28:58.747813Z\", \"end_time\": \"2023-06-26T07:29:33.795254Z\", \"created_time\": \"2023-06-26T07:28:45.150329Z\", \"created_time_dt\": \"2023-06-26T07:28:45.150329Z\", \"duration\": \"0:00:48\", \"iteration\": \"25\", \"goal\": \"AUC_weighted_max\", \"run_name\": \"StandardScalerWrapper, LightGBM\", \"run_properties\": \"copy=True, with_mean=False, with_std=False\", \"primary_metric\": 0.99051796, \"best_metric\": 0.99877872}, {\"run_id\": \"AutoML_68f381cc-a401-464f-982e-b88e8e0f31e5_26\", \"run_number\": 1687764536, \"metric\": null, \"status\": \"Completed\", \"run_type\": \"azureml.scriptrun\", \"training_percent\": \"100\", \"start_time\": \"2023-06-26T07:29:07.790854Z\", \"end_time\": \"2023-06-26T07:29:39.979931Z\", \"created_time\": \"2023-06-26T07:28:56.778683Z\", \"created_time_dt\": \"2023-06-26T07:28:56.778683Z\", \"duration\": \"0:00:43\", \"iteration\": \"26\", \"goal\": \"AUC_weighted_max\", \"run_name\": \"MaxAbsScaler, LinearSVM\", \"run_properties\": \"copy=True\", \"primary_metric\": 0.97897698, \"best_metric\": 0.99877872}, {\"run_id\": \"AutoML_68f381cc-a401-464f-982e-b88e8e0f31e5_27\", \"run_number\": 1687764549, \"metric\": null, \"status\": \"Completed\", \"run_type\": \"azureml.scriptrun\", \"training_percent\": \"100\", \"start_time\": \"2023-06-26T07:29:17.676622Z\", \"end_time\": \"2023-06-26T07:29:49.657209Z\", \"created_time\": \"2023-06-26T07:29:09.302386Z\", \"created_time_dt\": \"2023-06-26T07:29:09.302386Z\", \"duration\": \"0:00:40\", \"iteration\": \"27\", \"goal\": \"AUC_weighted_max\", \"run_name\": \"MaxAbsScaler, LogisticRegression\", \"run_properties\": \"copy=True\", \"primary_metric\": 0.98564702, \"best_metric\": 0.99877872}, {\"run_id\": \"AutoML_68f381cc-a401-464f-982e-b88e8e0f31e5_29\", \"run_number\": 1687764551, \"metric\": null, \"status\": \"Completed\", \"run_type\": \"azureml.scriptrun\", \"training_percent\": \"100\", \"start_time\": \"2023-06-26T07:29:39.126075Z\", \"end_time\": \"2023-06-26T07:30:13.841075Z\", \"created_time\": \"2023-06-26T07:29:11.880615Z\", \"created_time_dt\": \"2023-06-26T07:29:11.880615Z\", \"duration\": \"0:01:01\", \"iteration\": \"29\", \"goal\": \"AUC_weighted_max\", \"run_name\": \"StandardScalerWrapper, LightGBM\", \"run_properties\": \"copy=True, with_mean=False, with_std=True\", \"primary_metric\": 0.97927444, \"best_metric\": 0.99877872}, {\"run_id\": \"AutoML_68f381cc-a401-464f-982e-b88e8e0f31e5_30\", \"run_number\": 1687764576, \"metric\": null, \"status\": \"Completed\", \"run_type\": \"azureml.scriptrun\", \"training_percent\": \"100\", \"start_time\": \"2023-06-26T07:29:44.986675Z\", \"end_time\": \"2023-06-26T07:30:17.22055Z\", \"created_time\": \"2023-06-26T07:29:36.446115Z\", \"created_time_dt\": \"2023-06-26T07:29:36.446115Z\", \"duration\": \"0:00:40\", \"iteration\": \"30\", \"goal\": \"AUC_weighted_max\", \"run_name\": \"StandardScalerWrapper, LightGBM\", \"run_properties\": \"copy=True, with_mean=False, with_std=False\", \"primary_metric\": 0.98660577, \"best_metric\": 0.99877872}, {\"run_id\": \"AutoML_68f381cc-a401-464f-982e-b88e8e0f31e5_31\", \"run_number\": 1687764581, \"metric\": null, \"status\": \"Completed\", \"run_type\": \"azureml.scriptrun\", \"training_percent\": \"100\", \"start_time\": \"2023-06-26T07:29:54.07249Z\", \"end_time\": \"2023-06-26T07:30:24.989433Z\", \"created_time\": \"2023-06-26T07:29:41.947558Z\", \"created_time_dt\": \"2023-06-26T07:29:41.947558Z\", \"duration\": \"0:00:43\", \"iteration\": \"31\", \"goal\": \"AUC_weighted_max\", \"run_name\": \"SparseNormalizer, XGBoostClassifier\", \"run_properties\": \"copy=True, norm='l2'\", \"primary_metric\": 0.99826246, \"best_metric\": 0.99877872}, {\"run_id\": \"AutoML_68f381cc-a401-464f-982e-b88e8e0f31e5_32\", \"run_number\": 1687764590, \"metric\": null, \"status\": \"Completed\", \"run_type\": \"azureml.scriptrun\", \"training_percent\": \"100\", \"start_time\": \"2023-06-26T07:29:59.346829Z\", \"end_time\": \"2023-06-26T07:30:31.7555Z\", \"created_time\": \"2023-06-26T07:29:50.345631Z\", \"created_time_dt\": \"2023-06-26T07:29:50.345631Z\", \"duration\": \"0:00:41\", \"iteration\": \"32\", \"goal\": \"AUC_weighted_max\", \"run_name\": \"StandardScalerWrapper, XGBoostClassifier\", \"run_properties\": \"copy=True, with_mean=False, with_std=False\", \"primary_metric\": 0.99195044, \"best_metric\": 0.99877872}, {\"run_id\": \"AutoML_68f381cc-a401-464f-982e-b88e8e0f31e5_33\", \"run_number\": 1687764592, \"metric\": null, \"status\": \"Completed\", \"run_type\": \"azureml.scriptrun\", \"training_percent\": \"100\", \"start_time\": \"2023-06-26T07:30:17.694913Z\", \"end_time\": \"2023-06-26T07:30:53.002955Z\", \"created_time\": \"2023-06-26T07:29:52.800867Z\", \"created_time_dt\": \"2023-06-26T07:29:52.800867Z\", \"duration\": \"0:01:00\", \"iteration\": \"33\", \"goal\": \"AUC_weighted_max\", \"run_name\": \"StandardScalerWrapper, LightGBM\", \"run_properties\": \"copy=True, with_mean=False, with_std=True\", \"primary_metric\": 0.99578767, \"best_metric\": 0.99877872}, {\"run_id\": \"AutoML_68f381cc-a401-464f-982e-b88e8e0f31e5_34\", \"run_number\": 1687764615, \"metric\": null, \"status\": \"Canceled\", \"run_type\": \"azureml.scriptrun\", \"training_percent\": \"100\", \"start_time\": \"2023-06-26T07:30:26.145353Z\", \"end_time\": \"2023-06-26T07:30:58.803006Z\", \"created_time\": \"2023-06-26T07:30:15.845567Z\", \"created_time_dt\": \"2023-06-26T07:30:15.845567Z\", \"duration\": \"0:00:42\", \"iteration\": \"34\", \"goal\": \"AUC_weighted_max\", \"run_name\": \"SparseNormalizer, XGBoostClassifier\", \"run_properties\": \"copy=True, norm='l1'\", \"primary_metric\": 0.99072374, \"best_metric\": 0.99877872}, {\"run_id\": \"AutoML_68f381cc-a401-464f-982e-b88e8e0f31e5_35\", \"run_number\": 1687764620, \"metric\": null, \"status\": \"Canceled\", \"run_type\": \"azureml.scriptrun\", \"training_percent\": \"100\", \"start_time\": \"2023-06-26T07:30:28.623708Z\", \"end_time\": \"2023-06-26T07:30:58.584675Z\", \"created_time\": \"2023-06-26T07:30:20.121792Z\", \"created_time_dt\": \"2023-06-26T07:30:20.121792Z\", \"duration\": \"0:00:38\", \"iteration\": \"35\", \"goal\": \"AUC_weighted_max\", \"run_name\": \"SparseNormalizer, LightGBM\", \"run_properties\": \"copy=True, norm='l1'\", \"primary_metric\": 0.97915651, \"best_metric\": 0.99877872}, {\"run_id\": \"AutoML_68f381cc-a401-464f-982e-b88e8e0f31e5_36\", \"run_number\": 1687764627, \"metric\": null, \"status\": \"Canceled\", \"run_type\": \"azureml.scriptrun\", \"training_percent\": \"100\", \"start_time\": \"2023-06-26T07:30:37.529868Z\", \"end_time\": \"2023-06-26T07:30:59.993219Z\", \"created_time\": \"2023-06-26T07:30:27.161209Z\", \"created_time_dt\": \"2023-06-26T07:30:27.161209Z\", \"duration\": \"0:00:32\", \"iteration\": \"36\", \"goal\": null, \"run_name\": \"SparseNormalizer, XGBoostClassifier\", \"run_properties\": null}, {\"run_id\": \"AutoML_68f381cc-a401-464f-982e-b88e8e0f31e5_37\", \"run_number\": 1687764633, \"metric\": null, \"status\": \"Canceled\", \"run_type\": \"azureml.scriptrun\", \"training_percent\": \"100\", \"start_time\": \"2023-06-26T07:30:54.010329Z\", \"end_time\": \"2023-06-26T07:31:00.086101Z\", \"created_time\": \"2023-06-26T07:30:33.781053Z\", \"created_time_dt\": \"2023-06-26T07:30:33.781053Z\", \"duration\": \"0:00:26\", \"iteration\": \"37\", \"goal\": null, \"run_name\": \"Canceled\", \"run_properties\": null}, {\"run_id\": \"AutoML_68f381cc-a401-464f-982e-b88e8e0f31e5_38\", \"run_number\": 1687764661, \"metric\": null, \"status\": \"Completed\", \"run_type\": \"azureml.scriptrun\", \"training_percent\": \"100\", \"start_time\": \"2023-06-26T07:31:09.66732Z\", \"end_time\": \"2023-06-26T07:32:16.171896Z\", \"created_time\": \"2023-06-26T07:31:01.507511Z\", \"created_time_dt\": \"2023-06-26T07:31:01.507511Z\", \"duration\": \"0:01:14\", \"iteration\": \"38\", \"goal\": \"AUC_weighted_max\", \"run_name\": \"VotingEnsemble\", \"run_properties\": \"classification_labels=numpy.array([0, 1, 2, 3]\", \"primary_metric\": 0.99877235, \"best_metric\": 0.99877872}], \"children_metrics\": {\"categories\": [0], \"series\": {\"average_precision_score_macro\": [{\"categories\": [\"0\", \"4\", \"9\", \"13\", \"18\", \"20\", \"24\", \"25\", \"26\", \"27\", \"29\", \"30\", \"31\", \"32\", \"33\", \"34\", \"35\", \"38\"], \"mode\": \"markers\", \"name\": \"average_precision_score_macro\", \"stepped\": false, \"type\": \"scatter\", \"data\": [0.9938735922885464, 0.8064114496287181, 0.6748145140290026, 0.8301263640033055, 0.9059837998462227, 0.8247548646437116, 0.8606347623795466, 0.8486495188783499, 0.824892067977494, 0.8016437168207243, 0.8079900172610787, 0.8522741677644042, 0.9737635796540355, 0.8963689830887503, 0.9251106457465464, 0.8990763284889528, 0.7876560778268343, 0.9912970963603009]}, {\"categories\": [\"0\", \"4\", \"9\", \"13\", \"18\", \"20\", \"24\", \"25\", \"26\", \"27\", \"29\", \"30\", \"31\", \"32\", \"33\", \"34\", \"35\", \"38\"], \"mode\": \"lines\", \"name\": \"average_precision_score_macro_max\", \"stepped\": true, \"type\": \"scatter\", \"data\": [0.9938735922885464, 0.9938735922885464, 0.9938735922885464, 0.9938735922885464, 0.9938735922885464, 0.9938735922885464, 0.9938735922885464, 0.9938735922885464, 0.9938735922885464, 0.9938735922885464, 0.9938735922885464, 0.9938735922885464, 0.9938735922885464, 0.9938735922885464, 0.9938735922885464, 0.9938735922885464, 0.9938735922885464, 0.9938735922885464]}], \"f1_score_micro\": [{\"categories\": [\"0\", \"4\", \"9\", \"13\", \"18\", \"20\", \"24\", \"25\", \"26\", \"27\", \"29\", \"30\", \"31\", \"32\", \"33\", \"34\", \"35\", \"38\"], \"mode\": \"markers\", \"name\": \"f1_score_micro\", \"stepped\": false, \"type\": \"scatter\", \"data\": [0.9826328502415459, 0.8506038647342996, 0.7278643317230274, 0.7324849033816424, 0.9490458937198069, 0.8963506441223833, 0.9009782608695652, 0.9114039855072464, 0.8708725845410626, 0.9137288647342995, 0.8720289855072464, 0.8986564009661836, 0.9716264090177132, 0.942669082125604, 0.9496225845410629, 0.9166143317230273, 0.8726046698872786, 0.9820531400966184]}, {\"categories\": [\"0\", \"4\", \"9\", \"13\", \"18\", \"20\", \"24\", \"25\", \"26\", \"27\", \"29\", \"30\", \"31\", \"32\", \"33\", \"34\", \"35\", \"38\"], \"mode\": \"lines\", \"name\": \"f1_score_micro_max\", \"stepped\": true, \"type\": \"scatter\", \"data\": [0.9826328502415459, 0.9826328502415459, 0.9826328502415459, 0.9826328502415459, 0.9826328502415459, 0.9826328502415459, 0.9826328502415459, 0.9826328502415459, 0.9826328502415459, 0.9826328502415459, 0.9826328502415459, 0.9826328502415459, 0.9826328502415459, 0.9826328502415459, 0.9826328502415459, 0.9826328502415459, 0.9826328502415459, 0.9826328502415459]}], \"norm_macro_recall\": [{\"categories\": [\"0\", \"4\", \"9\", \"13\", \"18\", \"20\", \"24\", \"25\", \"26\", \"27\", \"29\", \"30\", \"31\", \"32\", \"33\", \"34\", \"35\", \"38\"], \"mode\": \"markers\", \"name\": \"norm_macro_recall\", \"stepped\": false, \"type\": \"scatter\", \"data\": [0.9499730752545248, 0.33739092793203423, 0.6813898363394865, 0.05050875046677115, 0.8133091489169907, 0.635288921865503, 0.5403795643091825, 0.5755788060297197, 0.46701508669300934, 0.7979514914993132, 0.38736570078031435, 0.5587254612985637, 0.8847261903074722, 0.8302683103410144, 0.7587325993083539, 0.5488094173713964, 0.36730917804477253, 0.9413363948552544]}, {\"categories\": [\"0\", \"4\", \"9\", \"13\", \"18\", \"20\", \"24\", \"25\", \"26\", \"27\", \"29\", \"30\", \"31\", \"32\", \"33\", \"34\", \"35\", \"38\"], \"mode\": \"lines\", \"name\": \"norm_macro_recall_max\", \"stepped\": true, \"type\": \"scatter\", \"data\": [0.9499730752545248, 0.9499730752545248, 0.9499730752545248, 0.9499730752545248, 0.9499730752545248, 0.9499730752545248, 0.9499730752545248, 0.9499730752545248, 0.9499730752545248, 0.9499730752545248, 0.9499730752545248, 0.9499730752545248, 0.9499730752545248, 0.9499730752545248, 0.9499730752545248, 0.9499730752545248, 0.9499730752545248, 0.9499730752545248]}], \"precision_score_macro\": [{\"categories\": [\"0\", \"4\", \"9\", \"13\", \"18\", \"20\", \"24\", \"25\", \"26\", \"27\", \"29\", \"30\", \"31\", \"32\", \"33\", \"34\", \"35\", \"38\"], \"mode\": \"markers\", \"name\": \"precision_score_macro\", \"stepped\": false, \"type\": \"scatter\", \"data\": [0.9692311328293718, 0.640965453558847, 0.5243528901878681, 0.3284454008594189, 0.8463078065625128, 0.7650065324863927, 0.7391728412187409, 0.7478777457845794, 0.719762753422895, 0.8037803093493473, 0.6480094069849959, 0.7560507257808219, 0.931945496220469, 0.8521231398291503, 0.8606491184287509, 0.770588615034748, 0.65562345270837, 0.9682425796065454]}, {\"categories\": [\"0\", \"4\", \"9\", \"13\", \"18\", \"20\", \"24\", \"25\", \"26\", \"27\", \"29\", \"30\", \"31\", \"32\", \"33\", \"34\", \"35\", \"38\"], \"mode\": \"lines\", \"name\": \"precision_score_macro_max\", \"stepped\": true, \"type\": \"scatter\", \"data\": [0.9692311328293718, 0.9692311328293718, 0.9692311328293718, 0.9692311328293718, 0.9692311328293718, 0.9692311328293718, 0.9692311328293718, 0.9692311328293718, 0.9692311328293718, 0.9692311328293718, 0.9692311328293718, 0.9692311328293718, 0.9692311328293718, 0.9692311328293718, 0.9692311328293718, 0.9692311328293718, 0.9692311328293718, 0.9692311328293718]}], \"average_precision_score_weighted\": [{\"categories\": [\"0\", \"4\", \"9\", \"13\", \"18\", \"20\", \"24\", \"25\", \"26\", \"27\", \"29\", \"30\", \"31\", \"32\", \"33\", \"34\", \"35\", \"38\"], \"mode\": \"markers\", \"name\": \"average_precision_score_weighted\", \"stepped\": false, \"type\": \"scatter\", \"data\": [0.9971952408718546, 0.9236071253171283, 0.8410008872208437, 0.9274019430203929, 0.9752600699962063, 0.9482571600244548, 0.958208274891981, 0.96202329646069, 0.9393961424517778, 0.9498155943225757, 0.9292464953291333, 0.9538005852052179, 0.9929306348559622, 0.9700000429554003, 0.9801941544427001, 0.9698372034525691, 0.9299083183224465, 0.9963978590494212]}, {\"categories\": [\"0\", \"4\", \"9\", \"13\", \"18\", \"20\", \"24\", \"25\", \"26\", \"27\", \"29\", \"30\", \"31\", \"32\", \"33\", \"34\", \"35\", \"38\"], \"mode\": \"lines\", \"name\": \"average_precision_score_weighted_max\", \"stepped\": true, \"type\": \"scatter\", \"data\": [0.9971952408718546, 0.9971952408718546, 0.9971952408718546, 0.9971952408718546, 0.9971952408718546, 0.9971952408718546, 0.9971952408718546, 0.9971952408718546, 0.9971952408718546, 0.9971952408718546, 0.9971952408718546, 0.9971952408718546, 0.9971952408718546, 0.9971952408718546, 0.9971952408718546, 0.9971952408718546, 0.9971952408718546, 0.9971952408718546]}], \"matthews_correlation\": [{\"categories\": [\"0\", \"4\", \"9\", \"13\", \"18\", \"20\", \"24\", \"25\", \"26\", \"27\", \"29\", \"30\", \"31\", \"32\", \"33\", \"34\", \"35\", \"38\"], \"mode\": \"markers\", \"name\": \"matthews_correlation\", \"stepped\": false, \"type\": \"scatter\", \"data\": [0.9624785282073072, 0.6601245609609664, 0.5299799900977175, 0.2668862312681757, 0.8918456388396949, 0.7742460037142376, 0.7918125030158333, 0.8115569046666704, 0.7135697155745745, 0.8237163254080925, 0.7150084478874882, 0.7784413451374913, 0.9392854026717625, 0.8782362689514653, 0.8907611606806766, 0.8228749979749779, 0.7240943369402851, 0.9612778799373269]}, {\"categories\": [\"0\", \"4\", \"9\", \"13\", \"18\", \"20\", \"24\", \"25\", \"26\", \"27\", \"29\", \"30\", \"31\", \"32\", \"33\", \"34\", \"35\", \"38\"], \"mode\": \"lines\", \"name\": \"matthews_correlation_max\", \"stepped\": true, \"type\": \"scatter\", \"data\": [0.9624785282073072, 0.9624785282073072, 0.9624785282073072, 0.9624785282073072, 0.9624785282073072, 0.9624785282073072, 0.9624785282073072, 0.9624785282073072, 0.9624785282073072, 0.9624785282073072, 0.9624785282073072, 0.9624785282073072, 0.9624785282073072, 0.9624785282073072, 0.9624785282073072, 0.9624785282073072, 0.9624785282073072, 0.9624785282073072]}], \"precision_score_weighted\": [{\"categories\": [\"0\", \"4\", \"9\", \"13\", \"18\", \"20\", \"24\", \"25\", \"26\", \"27\", \"29\", \"30\", \"31\", \"32\", \"33\", \"34\", \"35\", \"38\"], \"mode\": \"markers\", \"name\": \"precision_score_weighted\", \"stepped\": false, \"type\": \"scatter\", \"data\": [0.9832159651814981, 0.827876763078628, 0.8275760005186519, 0.6478123826664662, 0.9520228262289541, 0.8938932084921257, 0.900224417541267, 0.9118894125520781, 0.862634107461712, 0.9259559462965191, 0.8525373586983992, 0.8945634967817443, 0.9723285135865477, 0.9464717344606681, 0.9495350775529672, 0.9155752879792559, 0.8599098234181634, 0.9825865565863464]}, {\"categories\": [\"0\", \"4\", \"9\", \"13\", \"18\", \"20\", \"24\", \"25\", \"26\", \"27\", \"29\", \"30\", \"31\", \"32\", \"33\", \"34\", \"35\", \"38\"], \"mode\": \"lines\", \"name\": \"precision_score_weighted_max\", \"stepped\": true, \"type\": \"scatter\", \"data\": [0.9832159651814981, 0.9832159651814981, 0.9832159651814981, 0.9832159651814981, 0.9832159651814981, 0.9832159651814981, 0.9832159651814981, 0.9832159651814981, 0.9832159651814981, 0.9832159651814981, 0.9832159651814981, 0.9832159651814981, 0.9832159651814981, 0.9832159651814981, 0.9832159651814981, 0.9832159651814981, 0.9832159651814981, 0.9832159651814981]}], \"f1_score_macro\": [{\"categories\": [\"0\", \"4\", \"9\", \"13\", \"18\", \"20\", \"24\", \"25\", \"26\", \"27\", \"29\", \"30\", \"31\", \"32\", \"33\", \"34\", \"35\", \"38\"], \"mode\": \"markers\", \"name\": \"f1_score_macro\", \"stepped\": false, \"type\": \"scatter\", \"data\": [0.964149597555385, 0.52255584629399, 0.5628182888373181, 0.2729347652156135, 0.8457479346736708, 0.7385695750165082, 0.6591257545457647, 0.6981595059290909, 0.6295811679225384, 0.8213594188682762, 0.5575485754866768, 0.6921991187270716, 0.9174133249649884, 0.8575531260431838, 0.8344361507992004, 0.6646002896282223, 0.5305275270018178, 0.9598998893883487]}, {\"categories\": [\"0\", \"4\", \"9\", \"13\", \"18\", \"20\", \"24\", \"25\", \"26\", \"27\", \"29\", \"30\", \"31\", \"32\", \"33\", \"34\", \"35\", \"38\"], \"mode\": \"lines\", \"name\": \"f1_score_macro_max\", \"stepped\": true, \"type\": \"scatter\", \"data\": [0.964149597555385, 0.964149597555385, 0.964149597555385, 0.964149597555385, 0.964149597555385, 0.964149597555385, 0.964149597555385, 0.964149597555385, 0.964149597555385, 0.964149597555385, 0.964149597555385, 0.964149597555385, 0.964149597555385, 0.964149597555385, 0.964149597555385, 0.964149597555385, 0.964149597555385, 0.964149597555385]}], \"precision_score_micro\": [{\"categories\": [\"0\", \"4\", \"9\", \"13\", \"18\", \"20\", \"24\", \"25\", \"26\", \"27\", \"29\", \"30\", \"31\", \"32\", \"33\", \"34\", \"35\", \"38\"], \"mode\": \"markers\", \"name\": \"precision_score_micro\", \"stepped\": false, \"type\": \"scatter\", \"data\": [0.9826328502415459, 0.8506038647342996, 0.7278643317230274, 0.7324849033816424, 0.9490458937198069, 0.8963506441223833, 0.9009782608695652, 0.9114039855072464, 0.8708725845410626, 0.9137288647342996, 0.8720289855072464, 0.8986564009661836, 0.9716264090177132, 0.942669082125604, 0.9496225845410629, 0.9166143317230273, 0.8726046698872786, 0.9820531400966184]}, {\"categories\": [\"0\", \"4\", \"9\", \"13\", \"18\", \"20\", \"24\", \"25\", \"26\", \"27\", \"29\", \"30\", \"31\", \"32\", \"33\", \"34\", \"35\", \"38\"], \"mode\": \"lines\", \"name\": \"precision_score_micro_max\", \"stepped\": true, \"type\": \"scatter\", \"data\": [0.9826328502415459, 0.9826328502415459, 0.9826328502415459, 0.9826328502415459, 0.9826328502415459, 0.9826328502415459, 0.9826328502415459, 0.9826328502415459, 0.9826328502415459, 0.9826328502415459, 0.9826328502415459, 0.9826328502415459, 0.9826328502415459, 0.9826328502415459, 0.9826328502415459, 0.9826328502415459, 0.9826328502415459, 0.9826328502415459]}], \"f1_score_weighted\": [{\"categories\": [\"0\", \"4\", \"9\", \"13\", \"18\", \"20\", \"24\", \"25\", \"26\", \"27\", \"29\", \"30\", \"31\", \"32\", \"33\", \"34\", \"35\", \"38\"], \"mode\": \"markers\", \"name\": \"f1_score_weighted\", \"stepped\": false, \"type\": \"scatter\", \"data\": [0.9824728186538567, 0.8304598466802907, 0.7578100234877742, 0.6499176048878236, 0.9489780264556975, 0.8934263162325071, 0.8910378631136036, 0.9069926675355059, 0.8602643372716732, 0.9176263504884347, 0.8550342047008059, 0.8921357529905282, 0.9708349908198981, 0.9434319304243948, 0.9483352394692911, 0.9044805971578748, 0.8534486862484779, 0.9817880661569424]}, {\"categories\": [\"0\", \"4\", \"9\", \"13\", \"18\", \"20\", \"24\", \"25\", \"26\", \"27\", \"29\", \"30\", \"31\", \"32\", \"33\", \"34\", \"35\", \"38\"], \"mode\": \"lines\", \"name\": \"f1_score_weighted_max\", \"stepped\": true, \"type\": \"scatter\", \"data\": [0.9824728186538567, 0.9824728186538567, 0.9824728186538567, 0.9824728186538567, 0.9824728186538567, 0.9824728186538567, 0.9824728186538567, 0.9824728186538567, 0.9824728186538567, 0.9824728186538567, 0.9824728186538567, 0.9824728186538567, 0.9824728186538567, 0.9824728186538567, 0.9824728186538567, 0.9824728186538567, 0.9824728186538567, 0.9824728186538567]}], \"balanced_accuracy\": [{\"categories\": [\"0\", \"4\", \"9\", \"13\", \"18\", \"20\", \"24\", \"25\", \"26\", \"27\", \"29\", \"30\", \"31\", \"32\", \"33\", \"34\", \"35\", \"38\"], \"mode\": \"markers\", \"name\": \"balanced_accuracy\", \"stepped\": false, \"type\": \"scatter\", \"data\": [0.9624798064408936, 0.5030431959490257, 0.7610423772546149, 0.2878815628500784, 0.8599818616877432, 0.7264666913991272, 0.655284673231887, 0.6816841045222898, 0.600261315019757, 0.848463618624485, 0.5405242755852357, 0.6690440959739229, 0.9135446427306041, 0.872701232755761, 0.8190494494812653, 0.6616070630285473, 0.5254818835335794, 0.9560022961414408]}, {\"categories\": [\"0\", \"4\", \"9\", \"13\", \"18\", \"20\", \"24\", \"25\", \"26\", \"27\", \"29\", \"30\", \"31\", \"32\", \"33\", \"34\", \"35\", \"38\"], \"mode\": \"lines\", \"name\": \"balanced_accuracy_max\", \"stepped\": true, \"type\": \"scatter\", \"data\": [0.9624798064408936, 0.9624798064408936, 0.9624798064408936, 0.9624798064408936, 0.9624798064408936, 0.9624798064408936, 0.9624798064408936, 0.9624798064408936, 0.9624798064408936, 0.9624798064408936, 0.9624798064408936, 0.9624798064408936, 0.9624798064408936, 0.9624798064408936, 0.9624798064408936, 0.9624798064408936, 0.9624798064408936, 0.9624798064408936]}], \"AUC_weighted\": [{\"categories\": [\"0\", \"4\", \"9\", \"13\", \"18\", \"20\", \"24\", \"25\", \"26\", \"27\", \"29\", \"30\", \"31\", \"32\", \"33\", \"34\", \"35\", \"38\"], \"mode\": \"markers\", \"name\": \"AUC_weighted\", \"stepped\": false, \"type\": \"scatter\", \"data\": [0.9987787177700516, 0.971683486477084, 0.9390440415803779, 0.9767391374412387, 0.9943466744333511, 0.9831482301723553, 0.988208224738333, 0.9905179558168888, 0.9789769828261291, 0.9856470234313229, 0.9792744395794667, 0.9866057749318342, 0.9982624605770822, 0.9919504379066515, 0.9957876738686565, 0.9907237389867892, 0.9791565127891465, 0.9987723517439]}, {\"categories\": [\"0\", \"4\", \"9\", \"13\", \"18\", \"20\", \"24\", \"25\", \"26\", \"27\", \"29\", \"30\", \"31\", \"32\", \"33\", \"34\", \"35\", \"38\"], \"mode\": \"lines\", \"name\": \"AUC_weighted_max\", \"stepped\": true, \"type\": \"scatter\", \"data\": [0.9987787177700516, 0.9987787177700516, 0.9987787177700516, 0.9987787177700516, 0.9987787177700516, 0.9987787177700516, 0.9987787177700516, 0.9987787177700516, 0.9987787177700516, 0.9987787177700516, 0.9987787177700516, 0.9987787177700516, 0.9987787177700516, 0.9987787177700516, 0.9987787177700516, 0.9987787177700516, 0.9987787177700516, 0.9987787177700516]}], \"weighted_accuracy\": [{\"categories\": [\"0\", \"4\", \"9\", \"13\", \"18\", \"20\", \"24\", \"25\", \"26\", \"27\", \"29\", \"30\", \"31\", \"32\", \"33\", \"34\", \"35\", \"38\"], \"mode\": \"markers\", \"name\": \"weighted_accuracy\", \"stepped\": false, \"type\": \"scatter\", \"data\": [0.9865024510085333, 0.9357649496223579, 0.7699238395859034, 0.9146336868778929, 0.969123542273612, 0.9432093390992695, 0.9446512144575544, 0.9569566986861576, 0.9394851428511899, 0.9303628648178196, 0.9473211241218386, 0.9527090631578196, 0.98406119249388, 0.9588163463006839, 0.9770112911966443, 0.9607213947739964, 0.9404788655999262, 0.987139240424933]}, {\"categories\": [\"0\", \"4\", \"9\", \"13\", \"18\", \"20\", \"24\", \"25\", \"26\", \"27\", \"29\", \"30\", \"31\", \"32\", \"33\", \"34\", \"35\", \"38\"], \"mode\": \"lines\", \"name\": \"weighted_accuracy_max\", \"stepped\": true, \"type\": \"scatter\", \"data\": [0.9865024510085333, 0.9865024510085333, 0.9865024510085333, 0.9865024510085333, 0.9865024510085333, 0.9865024510085333, 0.9865024510085333, 0.9865024510085333, 0.9865024510085333, 0.9865024510085333, 0.9865024510085333, 0.9865024510085333, 0.9865024510085333, 0.9865024510085333, 0.9865024510085333, 0.9865024510085333, 0.9865024510085333, 0.987139240424933]}], \"average_precision_score_micro\": [{\"categories\": [\"0\", \"4\", \"9\", \"13\", \"18\", \"20\", \"24\", \"25\", \"26\", \"27\", \"29\", \"30\", \"31\", \"32\", \"33\", \"34\", \"35\", \"38\"], \"mode\": \"markers\", \"name\": \"average_precision_score_micro\", \"stepped\": false, \"type\": \"scatter\", \"data\": [0.9982808475759496, 0.9484372884358808, 0.8660510026794283, 0.9062932689689963, 0.9908320935004012, 0.9703949662289729, 0.9760747872867244, 0.9815697757504095, 0.9640804067770791, 0.9689728231331171, 0.9618166367500544, 0.9768207986722306, 0.996875953994025, 0.9866306703208823, 0.9917314756222216, 0.9831455305798187, 0.9564329446043977, 0.9980551246747481]}, {\"categories\": [\"0\", \"4\", \"9\", \"13\", \"18\", \"20\", \"24\", \"25\", \"26\", \"27\", \"29\", \"30\", \"31\", \"32\", \"33\", \"34\", \"35\", \"38\"], \"mode\": \"lines\", \"name\": \"average_precision_score_micro_max\", \"stepped\": true, \"type\": \"scatter\", \"data\": [0.9982808475759496, 0.9982808475759496, 0.9982808475759496, 0.9982808475759496, 0.9982808475759496, 0.9982808475759496, 0.9982808475759496, 0.9982808475759496, 0.9982808475759496, 0.9982808475759496, 0.9982808475759496, 0.9982808475759496, 0.9982808475759496, 0.9982808475759496, 0.9982808475759496, 0.9982808475759496, 0.9982808475759496, 0.9982808475759496]}], \"accuracy\": [{\"categories\": [\"0\", \"4\", \"9\", \"13\", \"18\", \"20\", \"24\", \"25\", \"26\", \"27\", \"29\", \"30\", \"31\", \"32\", \"33\", \"34\", \"35\", \"38\"], \"mode\": \"markers\", \"name\": \"accuracy\", \"stepped\": false, \"type\": \"scatter\", \"data\": [0.9826328502415459, 0.8506038647342996, 0.7278643317230274, 0.7324849033816424, 0.9490458937198069, 0.8963506441223833, 0.9009782608695652, 0.9114039855072464, 0.8708725845410626, 0.9137288647342996, 0.8720289855072464, 0.8986564009661836, 0.9716264090177132, 0.942669082125604, 0.9496225845410629, 0.9166143317230273, 0.8726046698872786, 0.9820531400966184]}, {\"categories\": [\"0\", \"4\", \"9\", \"13\", \"18\", \"20\", \"24\", \"25\", \"26\", \"27\", \"29\", \"30\", \"31\", \"32\", \"33\", \"34\", \"35\", \"38\"], \"mode\": \"lines\", \"name\": \"accuracy_max\", \"stepped\": true, \"type\": \"scatter\", \"data\": [0.9826328502415459, 0.9826328502415459, 0.9826328502415459, 0.9826328502415459, 0.9826328502415459, 0.9826328502415459, 0.9826328502415459, 0.9826328502415459, 0.9826328502415459, 0.9826328502415459, 0.9826328502415459, 0.9826328502415459, 0.9826328502415459, 0.9826328502415459, 0.9826328502415459, 0.9826328502415459, 0.9826328502415459, 0.9826328502415459]}], \"log_loss\": [{\"categories\": [\"0\", \"4\", \"9\", \"13\", \"18\", \"20\", \"24\", \"25\", \"26\", \"27\", \"29\", \"30\", \"31\", \"32\", \"33\", \"34\", \"35\", \"38\"], \"mode\": \"markers\", \"name\": \"log_loss\", \"stepped\": false, \"type\": \"scatter\", \"data\": [0.05201993946696661, 0.38662437242333886, 0.747676702343019, 0.5261187673216194, 0.22455660654886567, 0.23774844621091176, 0.32856390602074703, 0.2445268285816913, 0.28417171508900957, 0.25781704677081935, 0.32036621928299436, 0.26076586695920206, 0.07686363345373415, 0.2942474576190377, 0.16536428375285273, 0.2634502688439077, 0.36595080404794017, 0.05850414219556075]}, {\"categories\": [\"0\", \"4\", \"9\", \"13\", \"18\", \"20\", \"24\", \"25\", \"26\", \"27\", \"29\", \"30\", \"31\", \"32\", \"33\", \"34\", \"35\", \"38\"], \"mode\": \"lines\", \"name\": \"log_loss_min\", \"stepped\": true, \"type\": \"scatter\", \"data\": [0.05201993946696661, 0.05201993946696661, 0.05201993946696661, 0.05201993946696661, 0.05201993946696661, 0.05201993946696661, 0.05201993946696661, 0.05201993946696661, 0.05201993946696661, 0.05201993946696661, 0.05201993946696661, 0.05201993946696661, 0.05201993946696661, 0.05201993946696661, 0.05201993946696661, 0.05201993946696661, 0.05201993946696661, 0.05201993946696661]}], \"AUC_macro\": [{\"categories\": [\"0\", \"4\", \"9\", \"13\", \"18\", \"20\", \"24\", \"25\", \"26\", \"27\", \"29\", \"30\", \"31\", \"32\", \"33\", \"34\", \"35\", \"38\"], \"mode\": \"markers\", \"name\": \"AUC_macro\", \"stepped\": false, \"type\": \"scatter\", \"data\": [0.9990457541187446, 0.9704123053369317, 0.932614457423638, 0.9742714014852454, 0.9928573550319791, 0.9827367573666684, 0.9879216329056854, 0.9877604263796022, 0.9789026010123288, 0.9843804922671976, 0.9762747722048427, 0.9851840272047778, 0.9978053341775835, 0.9908901106355712, 0.9939903132621316, 0.9905869801032918, 0.976074854953706, 0.9989237776285395]}, {\"categories\": [\"0\", \"4\", \"9\", \"13\", \"18\", \"20\", \"24\", \"25\", \"26\", \"27\", \"29\", \"30\", \"31\", \"32\", \"33\", \"34\", \"35\", \"38\"], \"mode\": \"lines\", \"name\": \"AUC_macro_max\", \"stepped\": true, \"type\": \"scatter\", \"data\": [0.9990457541187446, 0.9990457541187446, 0.9990457541187446, 0.9990457541187446, 0.9990457541187446, 0.9990457541187446, 0.9990457541187446, 0.9990457541187446, 0.9990457541187446, 0.9990457541187446, 0.9990457541187446, 0.9990457541187446, 0.9990457541187446, 0.9990457541187446, 0.9990457541187446, 0.9990457541187446, 0.9990457541187446, 0.9990457541187446]}], \"recall_score_weighted\": [{\"categories\": [\"0\", \"4\", \"9\", \"13\", \"18\", \"20\", \"24\", \"25\", \"26\", \"27\", \"29\", \"30\", \"31\", \"32\", \"33\", \"34\", \"35\", \"38\"], \"mode\": \"markers\", \"name\": \"recall_score_weighted\", \"stepped\": false, \"type\": \"scatter\", \"data\": [0.9826328502415459, 0.8506038647342996, 0.7278643317230274, 0.7324849033816424, 0.9490458937198069, 0.8963506441223833, 0.9009782608695652, 0.9114039855072464, 0.8708725845410626, 0.9137288647342996, 0.8720289855072464, 0.8986564009661836, 0.9716264090177132, 0.942669082125604, 0.9496225845410629, 0.9166143317230273, 0.8726046698872786, 0.9820531400966184]}, {\"categories\": [\"0\", \"4\", \"9\", \"13\", \"18\", \"20\", \"24\", \"25\", \"26\", \"27\", \"29\", \"30\", \"31\", \"32\", \"33\", \"34\", \"35\", \"38\"], \"mode\": \"lines\", \"name\": \"recall_score_weighted_max\", \"stepped\": true, \"type\": \"scatter\", \"data\": [0.9826328502415459, 0.9826328502415459, 0.9826328502415459, 0.9826328502415459, 0.9826328502415459, 0.9826328502415459, 0.9826328502415459, 0.9826328502415459, 0.9826328502415459, 0.9826328502415459, 0.9826328502415459, 0.9826328502415459, 0.9826328502415459, 0.9826328502415459, 0.9826328502415459, 0.9826328502415459, 0.9826328502415459, 0.9826328502415459]}], \"recall_score_micro\": [{\"categories\": [\"0\", \"4\", \"9\", \"13\", \"18\", \"20\", \"24\", \"25\", \"26\", \"27\", \"29\", \"30\", \"31\", \"32\", \"33\", \"34\", \"35\", \"38\"], \"mode\": \"markers\", \"name\": \"recall_score_micro\", \"stepped\": false, \"type\": \"scatter\", \"data\": [0.9826328502415459, 0.8506038647342996, 0.7278643317230274, 0.7324849033816424, 0.9490458937198069, 0.8963506441223833, 0.9009782608695652, 0.9114039855072464, 0.8708725845410626, 0.9137288647342996, 0.8720289855072464, 0.8986564009661836, 0.9716264090177132, 0.942669082125604, 0.9496225845410629, 0.9166143317230273, 0.8726046698872786, 0.9820531400966184]}, {\"categories\": [\"0\", \"4\", \"9\", \"13\", \"18\", \"20\", \"24\", \"25\", \"26\", \"27\", \"29\", \"30\", \"31\", \"32\", \"33\", \"34\", \"35\", \"38\"], \"mode\": \"lines\", \"name\": \"recall_score_micro_max\", \"stepped\": true, \"type\": \"scatter\", \"data\": [0.9826328502415459, 0.9826328502415459, 0.9826328502415459, 0.9826328502415459, 0.9826328502415459, 0.9826328502415459, 0.9826328502415459, 0.9826328502415459, 0.9826328502415459, 0.9826328502415459, 0.9826328502415459, 0.9826328502415459, 0.9826328502415459, 0.9826328502415459, 0.9826328502415459, 0.9826328502415459, 0.9826328502415459, 0.9826328502415459]}], \"recall_score_macro\": [{\"categories\": [\"0\", \"4\", \"9\", \"13\", \"18\", \"20\", \"24\", \"25\", \"26\", \"27\", \"29\", \"30\", \"31\", \"32\", \"33\", \"34\", \"35\", \"38\"], \"mode\": \"markers\", \"name\": \"recall_score_macro\", \"stepped\": false, \"type\": \"scatter\", \"data\": [0.9624798064408936, 0.5030431959490257, 0.7610423772546149, 0.2878815628500784, 0.8599818616877432, 0.7264666913991272, 0.655284673231887, 0.6816841045222898, 0.600261315019757, 0.848463618624485, 0.5405242755852357, 0.6690440959739229, 0.9135446427306041, 0.872701232755761, 0.8190494494812653, 0.6616070630285473, 0.5254818835335794, 0.9560022961414408]}, {\"categories\": [\"0\", \"4\", \"9\", \"13\", \"18\", \"20\", \"24\", \"25\", \"26\", \"27\", \"29\", \"30\", \"31\", \"32\", \"33\", \"34\", \"35\", \"38\"], \"mode\": \"lines\", \"name\": \"recall_score_macro_max\", \"stepped\": true, \"type\": \"scatter\", \"data\": [0.9624798064408936, 0.9624798064408936, 0.9624798064408936, 0.9624798064408936, 0.9624798064408936, 0.9624798064408936, 0.9624798064408936, 0.9624798064408936, 0.9624798064408936, 0.9624798064408936, 0.9624798064408936, 0.9624798064408936, 0.9624798064408936, 0.9624798064408936, 0.9624798064408936, 0.9624798064408936, 0.9624798064408936, 0.9624798064408936]}], \"AUC_micro\": [{\"categories\": [\"0\", \"4\", \"9\", \"13\", \"18\", \"20\", \"24\", \"25\", \"26\", \"27\", \"29\", \"30\", \"31\", \"32\", \"33\", \"34\", \"35\", \"38\"], \"mode\": \"markers\", \"name\": \"AUC_micro\", \"stepped\": false, \"type\": \"scatter\", \"data\": [0.9994114807837794, 0.979145058625809, 0.9389819329224346, 0.958947147730783, 0.9967443996438315, 0.9893577630865317, 0.9910910717227536, 0.9931457728212573, 0.9868795702348088, 0.9885566081385035, 0.9853932114070713, 0.9914937071138136, 0.9989259553746636, 0.9951630306364111, 0.997071291838418, 0.993735410404771, 0.9821620539396987, 0.9993408313012053]}, {\"categories\": [\"0\", \"4\", \"9\", \"13\", \"18\", \"20\", \"24\", \"25\", \"26\", \"27\", \"29\", \"30\", \"31\", \"32\", \"33\", \"34\", \"35\", \"38\"], \"mode\": \"lines\", \"name\": \"AUC_micro_max\", \"stepped\": true, \"type\": \"scatter\", \"data\": [0.9994114807837794, 0.9994114807837794, 0.9994114807837794, 0.9994114807837794, 0.9994114807837794, 0.9994114807837794, 0.9994114807837794, 0.9994114807837794, 0.9994114807837794, 0.9994114807837794, 0.9994114807837794, 0.9994114807837794, 0.9994114807837794, 0.9994114807837794, 0.9994114807837794, 0.9994114807837794, 0.9994114807837794, 0.9994114807837794]}]}, \"metricName\": null, \"primaryMetricName\": \"AUC_weighted\", \"showLegend\": false}, \"run_metrics\": [{\"name\": \"experiment_status\", \"run_id\": \"AutoML_68f381cc-a401-464f-982e-b88e8e0f31e5\", \"categories\": [0, 1, 2, 3, 4, 5, 6, 7, 8, 9, 10, 11, 12, 13, 14], \"series\": [{\"data\": [\"DatasetEvaluation\", \"FeaturesGeneration\", \"DatasetFeaturization\", \"DatasetFeaturizationCompleted\", \"DatasetBalancing\", \"DatasetCrossValidationSplit\", \"ModelSelection\", \"BestRunExplainModel\", \"ModelExplanationDataSetSetup\", \"PickSurrogateModel\", \"EngineeredFeatureExplanations\", \"EngineeredFeatureExplanations\", \"RawFeaturesExplanations\", \"RawFeaturesExplanations\", \"BestRunExplainModel\"]}]}, {\"name\": \"experiment_status_description\", \"run_id\": \"AutoML_68f381cc-a401-464f-982e-b88e8e0f31e5\", \"categories\": [0, 1, 2, 3, 4, 5, 6, 7, 8, 9, 10, 11, 12, 13, 14], \"series\": [{\"data\": [\"Gathering dataset statistics.\", \"Generating features for the dataset.\", \"Beginning to fit featurizers and featurize the dataset.\", \"Completed fit featurizers and featurizing the dataset.\", \"Performing class balancing sweeping\", \"Generating individually featurized CV splits.\", \"Beginning model selection.\", \"Best run model explanations started\", \"Model explanations data setup completed\", \"Choosing LightGBM as the surrogate model for explanations\", \"Computation of engineered features started\", \"Computation of engineered features completed\", \"Computation of raw features started\", \"Computation of raw features completed\", \"Best run model explanations completed\"]}]}, {\"name\": \"average_precision_score_weighted\", \"run_id\": \"AutoML_68f381cc-a401-464f-982e-b88e8e0f31e5\", \"categories\": [0], \"series\": [{\"data\": [0.9971952408718546]}]}, {\"name\": \"log_loss\", \"run_id\": \"AutoML_68f381cc-a401-464f-982e-b88e8e0f31e5\", \"categories\": [0], \"series\": [{\"data\": [0.05201993946696661]}]}, {\"name\": \"recall_score_macro\", \"run_id\": \"AutoML_68f381cc-a401-464f-982e-b88e8e0f31e5\", \"categories\": [0], \"series\": [{\"data\": [0.9624798064408936]}]}, {\"name\": \"AUC_micro\", \"run_id\": \"AutoML_68f381cc-a401-464f-982e-b88e8e0f31e5\", \"categories\": [0], \"series\": [{\"data\": [0.9994114807837794]}]}, {\"name\": \"recall_score_weighted\", \"run_id\": \"AutoML_68f381cc-a401-464f-982e-b88e8e0f31e5\", \"categories\": [0], \"series\": [{\"data\": [0.9826328502415459]}]}, {\"name\": \"AUC_weighted\", \"run_id\": \"AutoML_68f381cc-a401-464f-982e-b88e8e0f31e5\", \"categories\": [0], \"series\": [{\"data\": [0.9987787177700516]}]}, {\"name\": \"AUC_macro\", \"run_id\": \"AutoML_68f381cc-a401-464f-982e-b88e8e0f31e5\", \"categories\": [0], \"series\": [{\"data\": [0.9990457541187446]}]}, {\"name\": \"average_precision_score_micro\", \"run_id\": \"AutoML_68f381cc-a401-464f-982e-b88e8e0f31e5\", \"categories\": [0], \"series\": [{\"data\": [0.9982808475759496]}]}, {\"name\": \"f1_score_macro\", \"run_id\": \"AutoML_68f381cc-a401-464f-982e-b88e8e0f31e5\", \"categories\": [0], \"series\": [{\"data\": [0.964149597555385]}]}, {\"name\": \"f1_score_weighted\", \"run_id\": \"AutoML_68f381cc-a401-464f-982e-b88e8e0f31e5\", \"categories\": [0], \"series\": [{\"data\": [0.9824728186538567]}]}, {\"name\": \"matthews_correlation\", \"run_id\": \"AutoML_68f381cc-a401-464f-982e-b88e8e0f31e5\", \"categories\": [0], \"series\": [{\"data\": [0.9624785282073072]}]}, {\"name\": \"balanced_accuracy\", \"run_id\": \"AutoML_68f381cc-a401-464f-982e-b88e8e0f31e5\", \"categories\": [0], \"series\": [{\"data\": [0.9624798064408936]}]}, {\"name\": \"accuracy\", \"run_id\": \"AutoML_68f381cc-a401-464f-982e-b88e8e0f31e5\", \"categories\": [0], \"series\": [{\"data\": [0.9826328502415459]}]}, {\"name\": \"recall_score_micro\", \"run_id\": \"AutoML_68f381cc-a401-464f-982e-b88e8e0f31e5\", \"categories\": [0], \"series\": [{\"data\": [0.9826328502415459]}]}, {\"name\": \"average_precision_score_macro\", \"run_id\": \"AutoML_68f381cc-a401-464f-982e-b88e8e0f31e5\", \"categories\": [0], \"series\": [{\"data\": [0.9938735922885464]}]}, {\"name\": \"weighted_accuracy\", \"run_id\": \"AutoML_68f381cc-a401-464f-982e-b88e8e0f31e5\", \"categories\": [0], \"series\": [{\"data\": [0.9865024510085333]}]}, {\"name\": \"precision_score_macro\", \"run_id\": \"AutoML_68f381cc-a401-464f-982e-b88e8e0f31e5\", \"categories\": [0], \"series\": [{\"data\": [0.9692311328293718]}]}, {\"name\": \"norm_macro_recall\", \"run_id\": \"AutoML_68f381cc-a401-464f-982e-b88e8e0f31e5\", \"categories\": [0], \"series\": [{\"data\": [0.9499730752545248]}]}, {\"name\": \"f1_score_micro\", \"run_id\": \"AutoML_68f381cc-a401-464f-982e-b88e8e0f31e5\", \"categories\": [0], \"series\": [{\"data\": [0.9826328502415459]}]}, {\"name\": \"precision_score_weighted\", \"run_id\": \"AutoML_68f381cc-a401-464f-982e-b88e8e0f31e5\", \"categories\": [0], \"series\": [{\"data\": [0.9832159651814981]}]}, {\"name\": \"precision_score_micro\", \"run_id\": \"AutoML_68f381cc-a401-464f-982e-b88e8e0f31e5\", \"categories\": [0], \"series\": [{\"data\": [0.9826328502415459]}]}], \"run_logs\": \"\\nRun is completed.\", \"graph\": {}, \"widget_settings\": {\"childWidgetDisplay\": \"popup\", \"send_telemetry\": false, \"log_level\": \"INFO\", \"sdk_version\": \"1.49.0\"}, \"loading\": false}"
          },
          "metadata": {}
        }
      ],
      "execution_count": 11,
      "metadata": {
        "gather": {
          "logged": 1687765517297
        },
        "jupyter": {
          "outputs_hidden": false,
          "source_hidden": false
        },
        "nteract": {
          "transient": {
            "deleting": false
          }
        }
      }
    },
    {
      "cell_type": "markdown",
      "source": [
        "## Best Model\n",
        "\n",
        "TODO: In the cell below, get the best model from the automl experiments and display all the properties of the model.\n",
        "\n"
      ],
      "metadata": {}
    },
    {
      "cell_type": "code",
      "source": [
        "#Wait for the AutoML run to complete\n",
        "remote_run.wait_for_completion(show_output=True)\n",
        "\n",
        "#\"best_run\" contains the model, metrics, and run ID\n",
        "#\"fitted_model\" contains the actual trained model object\n",
        "best_run, fitted_model = remote_run.get_output()\n",
        "\n",
        "#\"best_run_metrics\" contains a dictionary of the metrics associated with the best run.\n",
        "best_run_metrics = best_run.get_metrics()\n",
        "\n",
        "# Display all the properties of the best model\n",
        "print(best_run.get_properties())\n"
      ],
      "outputs": [
        {
          "output_type": "display_data",
          "data": {
            "text/plain": "<IPython.core.display.HTML object>",
            "text/html": "<table style=\"width:100%\"><tr><th>Experiment</th><th>Id</th><th>Type</th><th>Status</th><th>Details Page</th><th>Docs Page</th></tr><tr><td>auto-ml</td><td>AutoML_68f381cc-a401-464f-982e-b88e8e0f31e5</td><td>automl</td><td>Running</td><td><a href=\"https://ml.azure.com/runs/AutoML_68f381cc-a401-464f-982e-b88e8e0f31e5?wsid=/subscriptions/f5091c60-1c3c-430f-8d81-d802f6bf2414/resourcegroups/aml-quickstarts-237682/workspaces/quick-starts-ws-237682&amp;tid=660b3398-b80e-49d2-bc5b-ac1dc93b5254\" target=\"_blank\" rel=\"noopener\">Link to Azure Machine Learning studio</a></td><td><a href=\"https://docs.microsoft.com/en-us/python/api/overview/azure/ml/intro?view=azure-ml-py\" target=\"_blank\" rel=\"noopener\">Link to Documentation</a></td></tr></table>"
          },
          "metadata": {}
        },
        {
          "output_type": "stream",
          "name": "stdout",
          "text": "\nCurrent status: FeaturesGeneration. Generating features for the dataset.\nCurrent status: DatasetCrossValidationSplit. Generating individually featurized CV splits.\nCurrent status: ModelSelection. Beginning model selection.\n\n********************************************************************************************\nDATA GUARDRAILS: \n\nTYPE:         Cross validation\nSTATUS:       DONE\nDESCRIPTION:  In order to accurately evaluate the model(s) trained by AutoML, we leverage a dataset that the model is not trained on. Hence, if the user doesn't provide an explicit validation dataset, a part of the training dataset is used to achieve this. For smaller datasets (fewer than 20,000 samples), cross-validation is leveraged, else a single hold-out set is split from the training data to serve as the validation dataset. Hence, for your input data we leverage cross-validation with 10 folds, if the number of training samples are fewer than 1000, and 3 folds in all other cases.\n              Learn more about cross validation: https://aka.ms/AutomatedMLCrossValidation\nDETAILS:      \n+------------------------------+\n|Number of folds               |\n+==============================+\n|3                             |\n+------------------------------+\n\n********************************************************************************************\n\nTYPE:         Class balancing detection\nSTATUS:       ALERTED\nDESCRIPTION:  To decrease model bias, please cancel the current run and fix balancing problem.\n              Learn more about imbalanced data: https://aka.ms/AutomatedMLImbalancedData\nDETAILS:      Imbalanced data can lead to a falsely perceived positive effect of a model's accuracy because the input data has bias towards one class.\n+------------------------------+--------------------------------+--------------------------------------+\n|Size of the smallest class    |Name/Label of the smallest class|Number of samples in the training data|\n+==============================+================================+======================================+\n|65                            |vgood                           |1727                                  |\n+------------------------------+--------------------------------+--------------------------------------+\n\n********************************************************************************************\n\nTYPE:         Missing feature values imputation\nSTATUS:       PASSED\nDESCRIPTION:  No feature missing values were detected in the training data.\n              Learn more about missing value imputation: https://aka.ms/AutomatedMLFeaturization\n\n********************************************************************************************\n\nTYPE:         High cardinality feature detection\nSTATUS:       PASSED\nDESCRIPTION:  Your inputs were analyzed, and no high cardinality features were detected.\n              Learn more about high cardinality feature handling: https://aka.ms/AutomatedMLFeaturization\n\n********************************************************************************************\n\n********************************************************************************************\nITER: The iteration being evaluated.\nPIPELINE: A summary description of the pipeline being evaluated.\nDURATION: Time taken for the current iteration.\nMETRIC: The result of computing score on the fitted pipeline.\nBEST: The best observed score thus far.\n********************************************************************************************\n\n ITER   PIPELINE                                       DURATION            METRIC      BEST\n    0   MaxAbsScaler LightGBM                          0:00:17             0.9988    0.9988\n    1   MaxAbsScaler XGBoostClassifier                 0:00:13             0.9986    0.9988\n    2   MaxAbsScaler ExtremeRandomTrees                0:00:11             0.9700    0.9988\n    3   MaxAbsScaler RandomForest                      0:00:12             0.9735    0.9988\n    4   StandardScalerWrapper LightGBM                 0:00:15             0.9717    0.9988\n    5   SparseNormalizer XGBoostClassifier             0:00:12             0.9947    0.9988\n    6   SparseNormalizer RandomForest                  0:00:13             0.9780    0.9988\n    7   StandardScalerWrapper XGBoostClassifier        0:00:12             0.9903    0.9988\n    8   SparseNormalizer XGBoostClassifier             0:00:15             0.9952    0.9988\n    9   MaxAbsScaler RandomForest                      0:00:12             0.9390    0.9988\n   10   SparseNormalizer LightGBM                      0:00:13             0.9748    0.9988\n   11   MaxAbsScaler ExtremeRandomTrees                0:00:15             0.9859    0.9988\n   12   StandardScalerWrapper XGBoostClassifier        0:00:15             0.9951    0.9988\n   13   StandardScalerWrapper ExtremeRandomTrees       0:00:12             0.9767    0.9988\n   14   StandardScalerWrapper RandomForest             0:00:14             0.9956    0.9988\n   15   MaxAbsScaler LightGBM                          0:00:12             0.9862    0.9988\n   20   MaxAbsScaler LogisticRegression                0:00:32             0.9831    0.9988\n   16   MaxAbsScaler LogisticRegression                0:00:18             0.9886    0.9988\n   17   StandardScalerWrapper ExtremeRandomTrees       0:00:14             0.9468    0.9988\n   21   StandardScalerWrapper XGBoostClassifier        0:02:01             0.9945    0.9988\n   18   StandardScalerWrapper XGBoostClassifier        0:00:18             0.9943    0.9988\n   19   MaxAbsScaler ExtremeRandomTrees                0:00:12             0.9808    0.9988\n   22   StandardScalerWrapper XGBoostClassifier        0:02:21             0.9979    0.9988\n   23   MaxAbsScaler RandomForest                      0:00:31             0.9535    0.9988\n   24   SparseNormalizer XGBoostClassifier             0:00:33             0.9882    0.9988\n   25   StandardScalerWrapper LightGBM                 0:00:35             0.9905    0.9988\n   26   MaxAbsScaler LinearSVM                         0:00:32             0.9790    0.9988\n   27   MaxAbsScaler LogisticRegression                0:00:32             0.9856    0.9988\n   28   MaxAbsScaler LightGBM                          0:00:31             0.9833    0.9988\n   29   StandardScalerWrapper LightGBM                 0:00:35             0.9793    0.9988\n   30   StandardScalerWrapper LightGBM                 0:00:32             0.9866    0.9988\n   31   SparseNormalizer XGBoostClassifier             0:00:31             0.9983    0.9988\n   32   StandardScalerWrapper XGBoostClassifier        0:00:32             0.9920    0.9988\n   33   StandardScalerWrapper LightGBM                 0:00:35             0.9958    0.9988\n   34   SparseNormalizer XGBoostClassifier             0:00:33             0.9907    0.9988\n   35   SparseNormalizer LightGBM                      0:00:30             0.9792    0.9988\n   36   SparseNormalizer XGBoostClassifier             0:00:22                nan    0.9988\n   37                                                  0:00:06                nan    0.9988\n   38    VotingEnsemble                                0:01:07             0.9988    0.9988\n   39    StackEnsemble                                 0:01:12             0.9981    0.9988\n{'runTemplate': 'automl_child', 'pipeline_id': '5dfac790c5c209f98a1da2dc1c7fb76f0397324f', 'pipeline_spec': '{\"objects\":[{\"spec_class\":\"preproc\",\"class_name\":\"MaxAbsScaler\",\"module\":\"sklearn.preprocessing\",\"param_args\":[],\"param_kwargs\":{},\"prepared_kwargs\":{}},{\"spec_class\":\"sklearn\",\"class_name\":\"LightGBMClassifier\",\"module\":\"automl.client.core.common.model_wrappers\",\"param_args\":[],\"param_kwargs\":{\"min_data_in_leaf\":20},\"prepared_kwargs\":{}}],\"pipeline_id\":\"5dfac790c5c209f98a1da2dc1c7fb76f0397324f\",\"module\":\"sklearn.pipeline\",\"class_name\":\"Pipeline\"}', 'training_percent': '100', 'predicted_cost': None, 'iteration': '0', '_aml_system_scenario_identification': 'Remote.Child', 'run_preprocessor': 'MaxAbsScaler', 'run_algorithm': 'LightGBM', 'model_output_path': 'outputs/model.pkl', 'conda_env_data_location': 'aml://artifact/ExperimentRun/dcid.AutoML_68f381cc-a401-464f-982e-b88e8e0f31e5_0/outputs/conda_env_v_1_0_0.yml', 'model_data_location': 'aml://artifact/ExperimentRun/dcid.AutoML_68f381cc-a401-464f-982e-b88e8e0f31e5_0/outputs/model.pkl', 'model_size_on_disk': '1444072', 'scoring_data_location': 'aml://artifact/ExperimentRun/dcid.AutoML_68f381cc-a401-464f-982e-b88e8e0f31e5_0/outputs/scoring_file_v_1_0_0.py', 'scoring_data_location_v2': 'aml://artifact/ExperimentRun/dcid.AutoML_68f381cc-a401-464f-982e-b88e8e0f31e5_0/outputs/scoring_file_v_2_0_0.py', 'scoring_data_location_pbi': 'aml://artifact/ExperimentRun/dcid.AutoML_68f381cc-a401-464f-982e-b88e8e0f31e5_0/outputs/scoring_file_pbi_v_1_0_0.py', 'model_exp_support': 'True', 'pipeline_graph_version': '1.0.0', 'model_name': 'AutoML68f381cca0', 'score': '0.9987787177700516', 'score_table': 'NaN', 'run_properties': 'copy=True', 'pipeline_script': '{\"objects\":[{\"spec_class\":\"preproc\",\"class_name\":\"MaxAbsScaler\",\"module\":\"sklearn.preprocessing\",\"param_args\":[],\"param_kwargs\":{},\"prepared_kwargs\":{}},{\"spec_class\":\"sklearn\",\"class_name\":\"LightGBMClassifier\",\"module\":\"automl.client.core.common.model_wrappers\",\"param_args\":[],\"param_kwargs\":{\"min_data_in_leaf\":20},\"prepared_kwargs\":{}}],\"pipeline_id\":\"5dfac790c5c209f98a1da2dc1c7fb76f0397324f\",\"module\":\"sklearn.pipeline\",\"class_name\":\"Pipeline\"}', 'training_type': 'MeanCrossValidation', 'fit_time': '0.29052833333333333', 'goal': 'AUC_weighted_max', 'primary_metric': 'AUC_weighted', 'errors': '{}', 'onnx_model_resource': '{}', 'dependencies_versions': '{\"azureml-dataprep-native\": \"38.0.0\", \"azureml-dataprep\": \"4.10.8\", \"azureml-dataprep-rslex\": \"2.17.12\", \"azureml-train-automl-runtime\": \"1.51.0.post2\", \"azureml-automl-runtime\": \"1.51.0.post2\", \"azureml-train-automl-client\": \"1.51.0.post1\", \"azureml-automl-core\": \"1.51.0.post1\", \"azureml-training-tabular\": \"1.51.0.post1\", \"azureml-train-restclients-hyperdrive\": \"1.51.0\", \"azureml-dataset-runtime\": \"1.51.0\", \"azureml-defaults\": \"1.51.0\", \"azureml-interpret\": \"1.51.0\", \"azureml-mlflow\": \"1.51.0\", \"azureml-responsibleai\": \"1.51.0\", \"azureml-telemetry\": \"1.51.0\", \"azureml-core\": \"1.51.0\", \"azureml-train-core\": \"1.51.0\", \"azureml-pipeline-core\": \"1.51.0\", \"azureml-inference-server-http\": \"0.8.4\"}', 'num_cores': '2', 'num_logical_cores': '2', 'peak_memory_usage': '906832', 'vm_configuration': 'x86_64', 'core_hours': '0.0025087852777777777', 'feature_skus': 'automatedml_sdk_guardrails'}\n"
        },
        {
          "output_type": "stream",
          "name": "stderr",
          "text": "WARNING:root:The version of the SDK does not match the version the model was trained on.\nWARNING:root:The consistency in the result may not be guaranteed.\nWARNING:root:Package:azureml-automl-core, training version:1.51.0.post1, current version:1.49.0\nPackage:azureml-automl-runtime, training version:1.51.0.post2, current version:1.49.0\nPackage:azureml-core, training version:1.51.0, current version:1.49.0\nPackage:azureml-dataprep, training version:4.10.8, current version:4.9.1\nPackage:azureml-dataprep-rslex, training version:2.17.12, current version:2.16.1\nPackage:azureml-dataset-runtime, training version:1.51.0, current version:1.49.0\nPackage:azureml-defaults, training version:1.51.0, current version:1.49.0\nPackage:azureml-interpret, training version:1.51.0, current version:1.49.0\nPackage:azureml-mlflow, training version:1.51.0, current version:1.49.0\nPackage:azureml-pipeline-core, training version:1.51.0, current version:1.49.0\nPackage:azureml-responsibleai, training version:1.51.0, current version:1.49.0\nPackage:azureml-telemetry, training version:1.51.0, current version:1.49.0\nPackage:azureml-train-automl-client, training version:1.51.0.post1, current version:1.49.0\nPackage:azureml-train-automl-runtime, training version:1.51.0.post2, current version:1.49.0\nPackage:azureml-train-core, training version:1.51.0, current version:1.49.0\nPackage:azureml-train-restclients-hyperdrive, training version:1.51.0, current version:1.49.0\nPackage:azureml-training-tabular, training version:1.51.0.post1, current version:1.49.0\nWARNING:root:Please ensure the version of your local conda dependencies match the version on which your model was trained in order to properly retrieve your model.\n"
        }
      ],
      "execution_count": 10,
      "metadata": {
        "gather": {
          "logged": 1687764781618
        },
        "jupyter": {
          "outputs_hidden": false,
          "source_hidden": false
        },
        "nteract": {
          "transient": {
            "deleting": false
          }
        }
      }
    },
    {
      "cell_type": "code",
      "source": [
        "#TODO: Save the best model\n",
        "# Save the fitted model as a pickle file\n",
        "import pickle\n",
        "filename = 'automl_best_model.pkl'\n",
        "with open(filename, 'wb') as file:\n",
        "    pickle.dump(fitted_model, file)\n"
      ],
      "outputs": [],
      "execution_count": 12,
      "metadata": {
        "gather": {
          "logged": 1687765564337
        },
        "jupyter": {
          "outputs_hidden": false,
          "source_hidden": false
        },
        "nteract": {
          "transient": {
            "deleting": false
          }
        }
      }
    },
    {
      "cell_type": "code",
      "source": [
        "import pickle\n",
        "with open(filename, 'rb') as file:\n",
        "    loaded_model=pickle.load(file)\n",
        "print(loaded_model)"
      ],
      "outputs": [
        {
          "output_type": "stream",
          "name": "stdout",
          "text": "Pipeline(memory=None,\n         steps=[('datatransformer',\n                 DataTransformer(enable_dnn=False, enable_feature_sweeping=True, feature_sweeping_config={}, feature_sweeping_timeout=86400, featurization_config=None, force_text_dnn=False, is_cross_validation=True, is_onnx_compatible=False, observer=None, task='classification', working_dir='/mnt/batch/tasks/shared/LS_root/mounts/clusters/notebook237682/code/Users/odl_user_237682')),\n                ('MaxAbsScaler', MaxAbsScaler(copy=True)),\n                ('LightGBMClassifier',\n                 LightGBMClassifier(min_data_in_leaf=20, n_jobs=1, problem_info=ProblemInfo(gpu_training_param_dict={'processing_unit_type': 'cpu'}), random_state=None))],\n         verbose=False)\nY_transformer(['LabelEncoder', LabelEncoder()])\n"
        }
      ],
      "execution_count": 13,
      "metadata": {
        "gather": {
          "logged": 1687765572493
        },
        "jupyter": {
          "outputs_hidden": false,
          "source_hidden": false
        },
        "nteract": {
          "transient": {
            "deleting": false
          }
        }
      }
    },
    {
      "cell_type": "markdown",
      "source": [
        "## Model Deployment\n",
        "\n",
        "Remember you have to deploy only one of the two models you trained but you still need to register both the models. Perform the steps in the rest of this notebook only if you wish to deploy this model.\n",
        "\n",
        "TODO: In the cell below, register the model, create an inference config and deploy the model as a web service."
      ],
      "metadata": {}
    },
    {
      "cell_type": "code",
      "source": [
        "best_run.register_model(model_name='best_aml_model', model_path='./outputs/')"
      ],
      "outputs": [
        {
          "output_type": "execute_result",
          "execution_count": 14,
          "data": {
            "text/plain": "Model(workspace=Workspace.create(name='quick-starts-ws-237682', subscription_id='f5091c60-1c3c-430f-8d81-d802f6bf2414', resource_group='aml-quickstarts-237682'), name=best_aml_model, id=best_aml_model:1, version=1, tags={}, properties={})"
          },
          "metadata": {}
        }
      ],
      "execution_count": 14,
      "metadata": {
        "gather": {
          "logged": 1687765747872
        },
        "jupyter": {
          "outputs_hidden": false,
          "source_hidden": false
        },
        "nteract": {
          "transient": {
            "deleting": false
          }
        }
      }
    },
    {
      "cell_type": "code",
      "source": [
        "from azureml.core import Model\n",
        "\n",
        "model = Model.register(workspace=ws, \n",
        "                       model_path=file_name, #local pkl file path\n",
        "                       model_name='best_aml_model'\n",
        "                      )\n",
        "\n",
        "print('Name:', model.name)\n",
        "print('Version:', model.version)"
      ],
      "outputs": [
        {
          "output_type": "error",
          "ename": "NameError",
          "evalue": "name 'file_name' is not defined",
          "traceback": [
            "\u001b[0;31m---------------------------------------------------------------------------\u001b[0m",
            "\u001b[0;31mNameError\u001b[0m                                 Traceback (most recent call last)",
            "Cell \u001b[0;32mIn[15], line 4\u001b[0m\n\u001b[1;32m      1\u001b[0m \u001b[38;5;28;01mfrom\u001b[39;00m \u001b[38;5;21;01mazureml\u001b[39;00m\u001b[38;5;21;01m.\u001b[39;00m\u001b[38;5;21;01mcore\u001b[39;00m \u001b[38;5;28;01mimport\u001b[39;00m Model\n\u001b[1;32m      3\u001b[0m model \u001b[38;5;241m=\u001b[39m Model\u001b[38;5;241m.\u001b[39mregister(workspace\u001b[38;5;241m=\u001b[39mws, \n\u001b[0;32m----> 4\u001b[0m                        model_path\u001b[38;5;241m=\u001b[39m\u001b[43mfile_name\u001b[49m, \u001b[38;5;66;03m#local pkl file path\u001b[39;00m\n\u001b[1;32m      5\u001b[0m                        model_name\u001b[38;5;241m=\u001b[39m\u001b[38;5;124m'\u001b[39m\u001b[38;5;124mbest_aml_model\u001b[39m\u001b[38;5;124m'\u001b[39m\n\u001b[1;32m      6\u001b[0m                       )\n\u001b[1;32m      8\u001b[0m \u001b[38;5;28mprint\u001b[39m(\u001b[38;5;124m'\u001b[39m\u001b[38;5;124mName:\u001b[39m\u001b[38;5;124m'\u001b[39m, model\u001b[38;5;241m.\u001b[39mname)\n\u001b[1;32m      9\u001b[0m \u001b[38;5;28mprint\u001b[39m(\u001b[38;5;124m'\u001b[39m\u001b[38;5;124mVersion:\u001b[39m\u001b[38;5;124m'\u001b[39m, model\u001b[38;5;241m.\u001b[39mversion)\n",
            "\u001b[0;31mNameError\u001b[0m: name 'file_name' is not defined"
          ]
        }
      ],
      "execution_count": 15,
      "metadata": {
        "gather": {
          "logged": 1687765753931
        },
        "jupyter": {
          "outputs_hidden": false,
          "source_hidden": false
        },
        "nteract": {
          "transient": {
            "deleting": false
          }
        }
      }
    },
    {
      "cell_type": "code",
      "source": [
        "from azureml.core.model import InferenceConfig\n",
        "from azureml.core.environment import Environment"
      ],
      "outputs": [],
      "execution_count": 28,
      "metadata": {
        "gather": {
          "logged": 1685683603077
        },
        "jupyter": {
          "outputs_hidden": true,
          "source_hidden": false
        },
        "nteract": {
          "transient": {
            "deleting": false
          }
        }
      }
    },
    {
      "cell_type": "code",
      "source": [
        "#from azureml.core import InferenceConfig, Environment\n",
        "environment_name = 'my_env'#ws.name\n",
        "env = Environment.get(workspace=ws, name=environment_name)\n",
        "#env = Environment(name=\"my_env\")\n",
        "inference_config = InferenceConfig(entry_script='./score.py', environment=env)"
      ],
      "outputs": [
        {
          "output_type": "error",
          "ename": "Exception",
          "evalue": "Error retrieving the environment definition. Code: 404\n: {\n  \"error\": {\n    \"code\": \"UserError\",\n    \"severity\": null,\n    \"message\": \"No environment exists for name: my_env, version: , label: \",\n    \"messageFormat\": null,\n    \"messageParameters\": null,\n    \"referenceCode\": null,\n    \"detailsUri\": null,\n    \"target\": null,\n    \"details\": [],\n    \"innerError\": {\n      \"code\": \"NotFoundError\",\n      \"innerError\": null\n    },\n    \"debugInfo\": null,\n    \"additionalInfo\": null\n  },\n  \"correlation\": {\n    \"operation\": \"a40cd9b5e973910a89763df40b2ced37\",\n    \"request\": \"025344522be8e3a5\"\n  },\n  \"environment\": \"westus2\",\n  \"location\": \"westus2\",\n  \"time\": \"2023-06-02T06:51:00.5308744+00:00\",\n  \"componentName\": \"environment-management\"\n}",
          "traceback": [
            "\u001b[0;31m---------------------------------------------------------------------------\u001b[0m",
            "\u001b[0;31mException\u001b[0m                                 Traceback (most recent call last)",
            "Cell \u001b[0;32mIn[46], line 3\u001b[0m\n\u001b[1;32m      1\u001b[0m \u001b[38;5;66;03m#from azureml.core import InferenceConfig, Environment\u001b[39;00m\n\u001b[1;32m      2\u001b[0m environment_name \u001b[38;5;241m=\u001b[39m \u001b[38;5;124m'\u001b[39m\u001b[38;5;124mmy_env\u001b[39m\u001b[38;5;124m'\u001b[39m\u001b[38;5;66;03m#ws.name\u001b[39;00m\n\u001b[0;32m----> 3\u001b[0m env \u001b[38;5;241m=\u001b[39m \u001b[43mEnvironment\u001b[49m\u001b[38;5;241;43m.\u001b[39;49m\u001b[43mget\u001b[49m\u001b[43m(\u001b[49m\u001b[43mworkspace\u001b[49m\u001b[38;5;241;43m=\u001b[39;49m\u001b[43mws\u001b[49m\u001b[43m,\u001b[49m\u001b[43m \u001b[49m\u001b[43mname\u001b[49m\u001b[38;5;241;43m=\u001b[39;49m\u001b[43menvironment_name\u001b[49m\u001b[43m)\u001b[49m\n\u001b[1;32m      4\u001b[0m \u001b[38;5;66;03m#env = Environment(name=\"my environment\")\u001b[39;00m\n\u001b[1;32m      5\u001b[0m inference_config \u001b[38;5;241m=\u001b[39m InferenceConfig(entry_script\u001b[38;5;241m=\u001b[39m\u001b[38;5;124m'\u001b[39m\u001b[38;5;124m./score.py\u001b[39m\u001b[38;5;124m'\u001b[39m, environment\u001b[38;5;241m=\u001b[39menv)\n",
            "File \u001b[0;32m/anaconda/envs/azureml_py38/lib/python3.8/site-packages/azureml/core/environment.py:1158\u001b[0m, in \u001b[0;36mEnvironment.get\u001b[0;34m(workspace, name, version, label)\u001b[0m\n\u001b[1;32m   1156\u001b[0m     environment_dict \u001b[38;5;241m=\u001b[39m environment_client\u001b[38;5;241m.\u001b[39m_get_environment_definition_by_label(name\u001b[38;5;241m=\u001b[39mname, label\u001b[38;5;241m=\u001b[39mlabel)\n\u001b[1;32m   1157\u001b[0m \u001b[38;5;28;01melse\u001b[39;00m:\n\u001b[0;32m-> 1158\u001b[0m     environment_dict \u001b[38;5;241m=\u001b[39m \u001b[43menvironment_client\u001b[49m\u001b[38;5;241;43m.\u001b[39;49m\u001b[43m_get_environment_definition\u001b[49m\u001b[43m(\u001b[49m\u001b[43mname\u001b[49m\u001b[38;5;241;43m=\u001b[39;49m\u001b[43mname\u001b[49m\u001b[43m,\u001b[49m\u001b[43m \u001b[49m\u001b[43mversion\u001b[49m\u001b[38;5;241;43m=\u001b[39;49m\u001b[43mversion\u001b[49m\u001b[43m)\u001b[49m\n\u001b[1;32m   1159\u001b[0m env \u001b[38;5;241m=\u001b[39m Environment\u001b[38;5;241m.\u001b[39m_deserialize_and_add_to_object(environment_dict)\n\u001b[1;32m   1161\u001b[0m \u001b[38;5;28;01mreturn\u001b[39;00m env\n",
            "File \u001b[0;32m/anaconda/envs/azureml_py38/lib/python3.8/site-packages/azureml/_restclient/environment_client.py:43\u001b[0m, in \u001b[0;36mEnvironmentClient._get_environment_definition\u001b[0;34m(self, name, version)\u001b[0m\n\u001b[1;32m     40\u001b[0m \u001b[38;5;28;01melse\u001b[39;00m:\n\u001b[1;32m     41\u001b[0m     message \u001b[38;5;241m=\u001b[39m \u001b[38;5;124m\"\u001b[39m\u001b[38;5;124mError retrieving the environment definition. Code: \u001b[39m\u001b[38;5;132;01m{}\u001b[39;00m\u001b[38;5;130;01m\\n\u001b[39;00m\u001b[38;5;124m: \u001b[39m\u001b[38;5;132;01m{}\u001b[39;00m\u001b[38;5;124m\"\u001b[39m\u001b[38;5;241m.\u001b[39mformat(response\u001b[38;5;241m.\u001b[39mstatus_code,\n\u001b[1;32m     42\u001b[0m                                                                                    response\u001b[38;5;241m.\u001b[39mtext)\n\u001b[0;32m---> 43\u001b[0m     \u001b[38;5;28;01mraise\u001b[39;00m \u001b[38;5;167;01mException\u001b[39;00m(message)\n",
            "\u001b[0;31mException\u001b[0m: Error retrieving the environment definition. Code: 404\n: {\n  \"error\": {\n    \"code\": \"UserError\",\n    \"severity\": null,\n    \"message\": \"No environment exists for name: my_env, version: , label: \",\n    \"messageFormat\": null,\n    \"messageParameters\": null,\n    \"referenceCode\": null,\n    \"detailsUri\": null,\n    \"target\": null,\n    \"details\": [],\n    \"innerError\": {\n      \"code\": \"NotFoundError\",\n      \"innerError\": null\n    },\n    \"debugInfo\": null,\n    \"additionalInfo\": null\n  },\n  \"correlation\": {\n    \"operation\": \"a40cd9b5e973910a89763df40b2ced37\",\n    \"request\": \"025344522be8e3a5\"\n  },\n  \"environment\": \"westus2\",\n  \"location\": \"westus2\",\n  \"time\": \"2023-06-02T06:51:00.5308744+00:00\",\n  \"componentName\": \"environment-management\"\n}"
          ]
        }
      ],
      "execution_count": 46,
      "metadata": {
        "gather": {
          "logged": 1685688661171
        },
        "jupyter": {
          "outputs_hidden": false,
          "source_hidden": false
        },
        "nteract": {
          "transient": {
            "deleting": false
          }
        }
      }
    },
    {
      "cell_type": "code",
      "source": [
        "#import os\n",
        "#find_name = \"./score.py\"\n",
        "#current_directly = os.getcwd()\n",
        "#file_path = os.path.join(current_directly, find_name)\n",
        "#if os.path.isfile(file_path):\n",
        "#    print('Exist')\n",
        "#else:\n",
        "#    print('Not exist')"
      ],
      "outputs": [
        {
          "output_type": "stream",
          "name": "stdout",
          "text": "Not exist\n"
        }
      ],
      "execution_count": 43,
      "metadata": {
        "gather": {
          "logged": 1685688328737
        },
        "jupyter": {
          "outputs_hidden": false,
          "source_hidden": false
        },
        "nteract": {
          "transient": {
            "deleting": false
          }
        }
      }
    },
    {
      "cell_type": "code",
      "source": [
        "from azureml.core.webservice import AciWebservice\n",
        "\n",
        "deployment_config = AciWebservice.deploy_configuration(cpu_cores=1, memory_gb=1)\n",
        "service = Model.deploy(workspace=ws,\n",
        "                       name='automl-deploy',\n",
        "                       models=[model],\n",
        "                       inference_config=inference_config,\n",
        "                       deployment_config=deployment_config,\n",
        "                       overwrite=True)\n",
        "                       \n",
        "service.wait_for_deployment(show_output=True)\n"
      ],
      "outputs": [],
      "execution_count": null,
      "metadata": {
        "jupyter": {
          "outputs_hidden": false,
          "source_hidden": false
        },
        "nteract": {
          "transient": {
            "deleting": false
          }
        }
      }
    },
    {
      "cell_type": "markdown",
      "source": [
        "TODO: In the cell below, send a request to the web service you deployed to test it."
      ],
      "metadata": {
        "collapsed": true,
        "gather": {
          "logged": 1598431657736
        },
        "jupyter": {
          "outputs_hidden": false,
          "source_hidden": false
        },
        "nteract": {
          "transient": {
            "deleting": false
          }
        }
      }
    },
    {
      "cell_type": "markdown",
      "source": [
        "TODO: In the cell below, print the logs of the web service and delete the service"
      ],
      "metadata": {
        "collapsed": true,
        "gather": {
          "logged": 1598432765711
        },
        "jupyter": {
          "outputs_hidden": false,
          "source_hidden": false
        },
        "nteract": {
          "transient": {
            "deleting": false
          }
        }
      }
    },
    {
      "cell_type": "code",
      "source": [
        "import requests\n",
        "import json\n",
        "\n",
        "# WebサービスのエンドポイントURL\n",
        "scoring_uri = service.scoring_uri\n",
        "\n",
        "# リクエストデータの作成\n",
        "input_data = {\n",
        "    \"data\": [\n",
        "        # リクエストのデータをここに追加する        \n",
        "        {\n",
        "            \"buying\":\"low\",\n",
        "            \"maint\":\"low\",\n",
        "            \"doors\":\"2\",\n",
        "            \"persons\":\"2\",\n",
        "            \"lug_boot\":\"small\"\n",
        "            \"safety\":\"low\"\n",
        "        }\n",
        "\n",
        "    ]\n",
        "}\n",
        "input_json = json.dumps(input_data)\n",
        "\n",
        "# リクエストの送信\n",
        "headers = {'Content-Type': 'application/json'}\n",
        "response = requests.post(scoring_uri, input_json, headers=headers)\n",
        "\n",
        "# レスポンスの取得\n",
        "predictions = response.json()\n"
      ],
      "outputs": [],
      "execution_count": null,
      "metadata": {
        "jupyter": {
          "outputs_hidden": false,
          "source_hidden": false
        },
        "nteract": {
          "transient": {
            "deleting": false
          }
        }
      }
    },
    {
      "cell_type": "code",
      "source": [
        "# Retrieve and print the logs\n",
        "logs = service.get_logs()\n",
        "print(logs)\n"
      ],
      "outputs": [],
      "execution_count": null,
      "metadata": {}
    },
    {
      "cell_type": "code",
      "source": [
        "# Delete the web service\n",
        "service.delete()\n"
      ],
      "outputs": [],
      "execution_count": null,
      "metadata": {}
    },
    {
      "cell_type": "markdown",
      "source": [
        "**Submission Checklist**\n",
        "- I have registered the model.\n",
        "- I have deployed the model with the best accuracy as a webservice.\n",
        "- I have tested the webservice by sending a request to the model endpoint.\n",
        "- I have deleted the webservice and shutdown all the computes that I have used.\n",
        "- I have taken a screenshot showing the model endpoint as active.\n",
        "- The project includes a file containing the environment details.\n"
      ],
      "metadata": {}
    },
    {
      "cell_type": "markdown",
      "source": [],
      "metadata": {}
    }
  ],
  "metadata": {
    "kernel_info": {
      "name": "python38-azureml"
    },
    "kernelspec": {
      "name": "python38-azureml",
      "language": "python",
      "display_name": "Python 3.8 - AzureML"
    },
    "language_info": {
      "name": "python",
      "version": "3.8.5",
      "mimetype": "text/x-python",
      "codemirror_mode": {
        "name": "ipython",
        "version": 3
      },
      "pygments_lexer": "ipython3",
      "nbconvert_exporter": "python",
      "file_extension": ".py"
    },
    "microsoft": {
      "host": {
        "AzureML": {
          "notebookHasBeenCompleted": true
        }
      },
      "ms_spell_check": {
        "ms_spell_check_language": "en"
      }
    },
    "nteract": {
      "version": "nteract-front-end@1.0.0"
    }
  },
  "nbformat": 4,
  "nbformat_minor": 2
}