{
 "cells": [
  {
   "cell_type": "markdown",
   "metadata": {},
   "source": [
    "# Automated ML\n",
    "\n",
    "TODO: Import Dependencies. In the cell below, import all the dependencies that you will need to complete the project."
   ]
  },
  {
   "cell_type": "code",
   "execution_count": 1,
   "metadata": {
    "gather": {
     "logged": 1691625998952
    },
    "jupyter": {
     "outputs_hidden": false,
     "source_hidden": false
    },
    "nteract": {
     "transient": {
      "deleting": false
     }
    }
   },
   "outputs": [],
   "source": [
    "import json\n",
    "import logging\n",
    "import os\n",
    "import pandas as pd\n",
    "import requests\n",
    "from azureml.automl.runtime.onnx_convert import OnnxConverter\n",
    "from azureml.core.compute import ComputeTarget, AmlCompute\n",
    "from azureml.core.compute_target import ComputeTargetException\n",
    "from azureml.core.dataset import Dataset\n",
    "from azureml.core.experiment import Experiment\n",
    "from azureml.core.model import InferenceConfig\n",
    "from azureml.core.model import Model\n",
    "from azureml.core.webservice import AciWebservice\n",
    "from azureml.core.workspace import Workspace\n",
    "from azureml.train.automl import AutoMLConfig\n",
    "from azureml.widgets import RunDetails\n"
   ]
  },
  {
   "cell_type": "markdown",
   "metadata": {},
   "source": [
    "## Dataset\n",
    "\n",
    "### Overview\n",
    "TODO: In this markdown cell, give an overview of the dataset you are using. Also mention the task you will be performing.\n",
    "\n",
    "\n",
    "TODO: Get data. In the cell below, write code to access the data you will be using in this project. Remember that the dataset needs to be external."
   ]
  },
  {
   "cell_type": "markdown",
   "metadata": {
    "nteract": {
     "transient": {
      "deleting": false
     }
    }
   },
   "source": [
    "Title: Car Evaluation Database\n",
    "\n",
    "Task: To create the hierarchical decision model\n",
    "\n",
    "This model evaluates cars according to the following concept structure:\n",
    "\n",
    " CAR:car acceptability;\n",
    "\n",
    " buying:buying price;v-high, high, med, low\n",
    " \n",
    " maint:price of the maintenance;v-high, high, med, low\n",
    " \n",
    " doors:number of doors;2, 3, 4, 5-more\n",
    " \n",
    " persons:capacity in terms of persons to carry;2, 4, more\n",
    " \n",
    " lug_boot:the size of luggage boot;small, med, big\n",
    " \n",
    " safety:estimated safety of the car;low, med, high\n",
    "  \n",
    "Class Distribution;unacc,acc,good,v-good"
   ]
  },
  {
   "cell_type": "code",
   "execution_count": 2,
   "metadata": {
    "gather": {
     "logged": 1691626011112
    },
    "jupyter": {
     "outputs_hidden": false,
     "source_hidden": false
    },
    "nteract": {
     "transient": {
      "deleting": false
     }
    }
   },
   "outputs": [
    {
     "name": "stderr",
     "output_type": "stream",
     "text": [
      "2023-08-10:00:06:49,633 INFO     [workspace.py:291] Found the config file in: /config.json\n",
      "2023-08-10:00:06:50,232 INFO     [clientbase.py:192] Created a worker pool for first use\n"
     ]
    }
   ],
   "source": [
    "ws = Workspace.from_config()\n",
    "\n",
    "# choose a name for experiment\n",
    "experiment_name = 'auto-ml'\n",
    "experiment=Experiment(ws, experiment_name)"
   ]
  },
  {
   "cell_type": "code",
   "execution_count": 3,
   "metadata": {
    "gather": {
     "logged": 1691626016810
    },
    "jupyter": {
     "outputs_hidden": false,
     "source_hidden": false
    },
    "nteract": {
     "transient": {
      "deleting": false
     }
    }
   },
   "outputs": [
    {
     "name": "stdout",
     "output_type": "stream",
     "text": [
      "Workspace.create(name='quick-starts-ws-240014', subscription_id='6971f5ac-8af1-446e-8034-05acea24681f', resource_group='aml-quickstarts-240014')\n"
     ]
    }
   ],
   "source": [
    "print(ws)"
   ]
  },
  {
   "cell_type": "code",
   "execution_count": 4,
   "metadata": {
    "gather": {
     "logged": 1691626037807
    },
    "jupyter": {
     "outputs_hidden": false,
     "source_hidden": false
    },
    "nteract": {
     "transient": {
      "deleting": false
     }
    },
    "scrolled": true
   },
   "outputs": [
    {
     "name": "stdout",
     "output_type": "stream",
     "text": [
      "InProgress...\n",
      "SucceededProvisioning operation finished, operation \"Succeeded\"\n",
      "Succeeded\n",
      "AmlCompute wait for completion finished\n",
      "\n",
      "Minimum number of nodes requested have been provisioned\n"
     ]
    }
   ],
   "source": [
    "# Create the cluster\n",
    "cpu_cluster_name = \"auto-ml\"\n",
    "# Verify that cluster does not exist already\n",
    "try:\n",
    "    compute_target = ComputeTarget(workspace=ws, name=cpu_cluster_name)\n",
    "    print(\"Found existing cluster, use it.\")\n",
    "except ComputeTargetException:\n",
    "    compute_config = AmlCompute.provisioning_configuration(\n",
    "        vm_size='STANDARD_D2_V2',\n",
    "        max_nodes=4\n",
    "    )\n",
    "    compute_target = ComputeTarget.create(\n",
    "        ws, cpu_cluster_name, compute_config)\n",
    "compute_target.wait_for_completion(show_output=True)"
   ]
  },
  {
   "cell_type": "code",
   "execution_count": 5,
   "metadata": {
    "gather": {
     "logged": 1691626049642
    },
    "jupyter": {
     "outputs_hidden": false,
     "source_hidden": false
    },
    "nteract": {
     "transient": {
      "deleting": false
     }
    }
   },
   "outputs": [
    {
     "name": "stderr",
     "output_type": "stream",
     "text": [
      "2023-08-10:00:07:23,384 INFO     [datastore_client.py:991] <azureml.core.authentication.InteractiveLoginAuthentication object at 0x7fe5720c7370>\n",
      "2023-08-10:00:07:23,796 WARNING  [_dataset_deprecation.py:89] \"Datastore.upload\" is deprecated after version 1.0.69. Please use \"Dataset.File.upload_directory\" to upload your files             from a local directory and create FileDataset in single method call. See Dataset API change notice at https://aka.ms/dataset-deprecation.\n",
      "2023-08-10:00:07:23,797 INFO     [azure_storage_datastore.py:923] Called AzureBlobDatastore.upload\n",
      "2023-08-10:00:07:23,810 INFO     [azure_storage_datastore.py:372] Uploading an estimated of 1 files\n",
      "2023-08-10:00:07:24,63 INFO     [azure_storage_datastore.py:372] Uploading ./data/data.csv\n",
      "2023-08-10:00:07:24,64 INFO     [azure_storage_datastore.py:372] Uploaded ./data/data.csv, 1 files out of an estimated total of 1\n",
      "2023-08-10:00:07:24,65 INFO     [azure_storage_datastore.py:372] Uploaded 1 files\n",
      "2023-08-10:00:07:24,66 INFO     [azure_storage_datastore.py:941] Finished AzureBlobDatastore.upload with count=1.\n"
     ]
    },
    {
     "name": "stdout",
     "output_type": "stream",
     "text": [
      "Uploading an estimated of 1 files\n",
      "Uploading ./data/data.csv\n",
      "Uploaded ./data/data.csv, 1 files out of an estimated total of 1\n",
      "Uploaded 1 files\n"
     ]
    }
   ],
   "source": [
    "# Create AML Dataset and register it into Workspace\n",
    "data = pd.read_csv('https://archive.ics.uci.edu/ml/machine-learning-databases/car/car.data')\n",
    "columns = ['buying', 'maint', 'doors', 'persons', 'lug_boot', 'safety', 'class']\n",
    "data.columns = columns\n",
    "data.head()\n",
    "\n",
    "if not os.path.isdir(\"data\"):\n",
    "    os.mkdir(\"data\")\n",
    "# Save the data to a csv to be uploaded to the datastore\n",
    "pd.DataFrame(data).to_csv(\"data/data.csv\", index=False)\n",
    "ds = ws.get_default_datastore()\n",
    "key='car evaluation data set'\n",
    "ds.upload(\n",
    "    src_dir=\"./data\",\n",
    "    target_path=key,\n",
    "    overwrite=True,\n",
    "    show_progress=True\n",
    ")\n",
    "\n",
    "# Upload the data as a tabular dataset for access during training on remote compute\n",
    "dataset = Dataset.Tabular.from_delimited_files(\n",
    "    path=ds.path(key+\"/data.csv\")\n",
    ")\n"
   ]
  },
  {
   "cell_type": "markdown",
   "metadata": {},
   "source": [
    "## AutoML Configuration\n",
    "\n",
    "TODO: Explain why you chose the automl settings and cofiguration you used below."
   ]
  },
  {
   "cell_type": "markdown",
   "metadata": {
    "nteract": {
     "transient": {
      "deleting": false
     }
    }
   },
   "source": [
    "Automl setting\n",
    "\n",
    " - experiment time out minutes; to avoid endless working\n",
    "\n",
    " - max concurrent iterations; between cost and performance\n",
    "\n",
    " - primary metric; AUC is a widely used metric to evaluate the performance of binary classifiers. The weighted version extends it to multi-class classification by considering the class imbalance when computing the average AUC across classes. \n",
    "\n",
    "Automl configuration\n",
    "\n",
    " - task = \"classification\"; To make classification model\n",
    "\n",
    " - label_column_name=\"class\"; This column gives evalation result\n",
    "\n",
    " - enable_early_stopping= True; To save cost at score improvement small\n",
    "\n",
    " - featurization= 'auto'; Automated separation for training data and test data\n"
   ]
  },
  {
   "cell_type": "code",
   "execution_count": 6,
   "metadata": {
    "gather": {
     "logged": 1691626071563
    },
    "jupyter": {
     "outputs_hidden": false,
     "source_hidden": false
    },
    "nteract": {
     "transient": {
      "deleting": false
     }
    }
   },
   "outputs": [],
   "source": [
    "# TODO: Put your automl settings here\n",
    "automl_settings = {\n",
    "    \"experiment_timeout_minutes\": 20,\n",
    "    \"enable_early_stopping\": True,\n",
    "    \"iteration_timeout_minutes\": 5,\n",
    "    \"max_concurrent_iterations\": 4,\n",
    "    \"max_cores_per_iteration\": -1,\n",
    "    \"primary_metric\" : 'AUC_weighted',\n",
    "    \"featurization\": \"auto\",\n",
    "    \"verbosity\": logging.INFO,\n",
    "    \"enable_code_generation\": True,\n",
    "}\n",
    "\n",
    "project_folder = './project'\n",
    "\n",
    "# TODO: Put your automl config here\n",
    "automl_config = AutoMLConfig(\n",
    "    task = \"classification\",\n",
    "    debug_log = \"automl_errors.log\",\n",
    "    compute_target=compute_target,\n",
    "    enable_onnx_compatible_models=True,\n",
    "    training_data=dataset,\n",
    "    label_column_name=\"class\",\n",
    "    path = project_folder,\n",
    "    **automl_settings\n",
    ")"
   ]
  },
  {
   "cell_type": "code",
   "execution_count": 7,
   "metadata": {
    "gather": {
     "logged": 1691626081103
    },
    "jupyter": {
     "outputs_hidden": true,
     "source_hidden": false
    },
    "nteract": {
     "transient": {
      "deleting": false
     }
    }
   },
   "outputs": [
    {
     "name": "stdout",
     "output_type": "stream",
     "text": [
      "Submitting remote run.\n"
     ]
    },
    {
     "data": {
      "text/html": [
       "<table style=\"width:100%\"><tr><th>Experiment</th><th>Id</th><th>Type</th><th>Status</th><th>Details Page</th><th>Docs Page</th></tr><tr><td>auto-ml</td><td>AutoML_e7607ee2-feec-4f46-9104-e3f6a22c2d0a</td><td>automl</td><td>NotStarted</td><td><a href=\"https://ml.azure.com/runs/AutoML_e7607ee2-feec-4f46-9104-e3f6a22c2d0a?wsid=/subscriptions/6971f5ac-8af1-446e-8034-05acea24681f/resourcegroups/aml-quickstarts-240014/workspaces/quick-starts-ws-240014&amp;tid=660b3398-b80e-49d2-bc5b-ac1dc93b5254\" target=\"_blank\" rel=\"noopener\">Link to Azure Machine Learning studio</a></td><td><a href=\"https://docs.microsoft.com/en-us/python/api/overview/azure/ml/intro?view=azure-ml-py\" target=\"_blank\" rel=\"noopener\">Link to Documentation</a></td></tr></table>"
      ]
     },
     "metadata": {},
     "output_type": "display_data"
    }
   ],
   "source": [
    "# TODO: Submit your experiment\n",
    "\n",
    "remote_run = experiment.submit(automl_config)\n"
   ]
  },
  {
   "cell_type": "markdown",
   "metadata": {},
   "source": [
    "## Run Details\n",
    "\n",
    "OPTIONAL: Write about the different models trained and their performance. Why do you think some models did better than others?\n",
    "\n",
    "TODO: In the cell below, use the `RunDetails` widget to show the different experiments."
   ]
  },
  {
   "cell_type": "code",
   "execution_count": 8,
   "metadata": {
    "gather": {
     "logged": 1691626088157
    },
    "jupyter": {
     "outputs_hidden": true,
     "source_hidden": false
    },
    "nteract": {
     "transient": {
      "deleting": false
     }
    }
   },
   "outputs": [
    {
     "data": {
      "application/vnd.jupyter.widget-view+json": {
       "model_id": "fd4b64f4dd304eb2aa0500728e9b5c2f",
       "version_major": 2,
       "version_minor": 0
      },
      "text/plain": [
       "_AutoMLWidget(widget_settings={'childWidgetDisplay': 'popup', 'send_telemetry': False, 'log_level': 'INFO', 's…"
      ]
     },
     "metadata": {},
     "output_type": "display_data"
    },
    {
     "data": {
      "application/aml.mini.widget.v1": "{\"status\": \"Completed\", \"workbench_run_details_uri\": \"https://ml.azure.com/runs/AutoML_e7607ee2-feec-4f46-9104-e3f6a22c2d0a?wsid=/subscriptions/6971f5ac-8af1-446e-8034-05acea24681f/resourcegroups/aml-quickstarts-240014/workspaces/quick-starts-ws-240014&tid=660b3398-b80e-49d2-bc5b-ac1dc93b5254\", \"run_id\": \"AutoML_e7607ee2-feec-4f46-9104-e3f6a22c2d0a\", \"run_properties\": {\"run_id\": \"AutoML_e7607ee2-feec-4f46-9104-e3f6a22c2d0a\", \"created_utc\": \"2023-08-10T00:07:59.880757Z\", \"properties\": {\"num_iterations\": \"1000\", \"training_type\": \"TrainFull\", \"acquisition_function\": \"EI\", \"primary_metric\": \"AUC_weighted\", \"train_split\": \"0\", \"acquisition_parameter\": \"0\", \"num_cross_validation\": null, \"target\": \"auto-ml\", \"AMLSettingsJsonString\": \"{\\\"path\\\":null,\\\"name\\\":\\\"auto-ml\\\",\\\"subscription_id\\\":\\\"6971f5ac-8af1-446e-8034-05acea24681f\\\",\\\"resource_group\\\":\\\"aml-quickstarts-240014\\\",\\\"workspace_name\\\":\\\"quick-starts-ws-240014\\\",\\\"region\\\":\\\"westus2\\\",\\\"compute_target\\\":\\\"auto-ml\\\",\\\"spark_service\\\":null,\\\"azure_service\\\":\\\"remote\\\",\\\"many_models\\\":false,\\\"pipeline_fetch_max_batch_size\\\":1,\\\"enable_batch_run\\\":true,\\\"enable_parallel_run\\\":false,\\\"num_procs\\\":null,\\\"enable_run_restructure\\\":false,\\\"start_auxiliary_runs_before_parent_complete\\\":false,\\\"enable_code_generation\\\":true,\\\"iterations\\\":1000,\\\"primary_metric\\\":\\\"AUC_weighted\\\",\\\"task_type\\\":\\\"classification\\\",\\\"positive_label\\\":null,\\\"data_script\\\":null,\\\"test_size\\\":0.0,\\\"test_include_predictions_only\\\":false,\\\"validation_size\\\":0.0,\\\"n_cross_validations\\\":null,\\\"y_min\\\":null,\\\"y_max\\\":null,\\\"num_classes\\\":null,\\\"featurization\\\":\\\"auto\\\",\\\"_ignore_package_version_incompatibilities\\\":false,\\\"is_timeseries\\\":false,\\\"max_cores_per_iteration\\\":-1,\\\"max_concurrent_iterations\\\":4,\\\"iteration_timeout_minutes\\\":5,\\\"mem_in_mb\\\":null,\\\"enforce_time_on_windows\\\":false,\\\"experiment_timeout_minutes\\\":20,\\\"experiment_exit_score\\\":null,\\\"partition_column_names\\\":null,\\\"whitelist_models\\\":null,\\\"blacklist_algos\\\":[\\\"TensorFlowLinearClassifier\\\",\\\"TensorFlowDNN\\\"],\\\"supported_models\\\":[\\\"LightGBM\\\",\\\"LinearSVM\\\",\\\"RandomForest\\\",\\\"ExtremeRandomTrees\\\",\\\"SGD\\\",\\\"LogisticRegression\\\",\\\"DecisionTree\\\",\\\"AveragedPerceptronClassifier\\\",\\\"GradientBoosting\\\",\\\"TensorFlowLinearClassifier\\\",\\\"TabnetClassifier\\\",\\\"XGBoostClassifier\\\",\\\"KNN\\\",\\\"BernoulliNaiveBayes\\\",\\\"TensorFlowDNN\\\",\\\"MultinomialNaiveBayes\\\",\\\"SVM\\\"],\\\"private_models\\\":[],\\\"auto_blacklist\\\":true,\\\"blacklist_samples_reached\\\":false,\\\"exclude_nan_labels\\\":true,\\\"verbosity\\\":20,\\\"_debug_log\\\":\\\"azureml_automl.log\\\",\\\"show_warnings\\\":false,\\\"model_explainability\\\":true,\\\"service_url\\\":null,\\\"sdk_url\\\":null,\\\"sdk_packages\\\":null,\\\"enable_onnx_compatible_models\\\":true,\\\"enable_split_onnx_featurizer_estimator_models\\\":false,\\\"vm_type\\\":\\\"STANDARD_D2_V2\\\",\\\"telemetry_verbosity\\\":20,\\\"send_telemetry\\\":true,\\\"enable_dnn\\\":false,\\\"scenario\\\":\\\"AutoML\\\",\\\"environment_label\\\":null,\\\"save_mlflow\\\":false,\\\"enable_categorical_indicators\\\":false,\\\"force_text_dnn\\\":false,\\\"enable_feature_sweeping\\\":false,\\\"enable_early_stopping\\\":true,\\\"early_stopping_n_iters\\\":10,\\\"arguments\\\":null,\\\"dataset_id\\\":\\\"6ce25d92-d386-4198-85d9-8799708af27e\\\",\\\"hyperdrive_config\\\":null,\\\"validation_dataset_id\\\":null,\\\"run_source\\\":null,\\\"metrics\\\":null,\\\"enable_metric_confidence\\\":false,\\\"enable_ensembling\\\":true,\\\"enable_stack_ensembling\\\":false,\\\"ensemble_iterations\\\":15,\\\"enable_tf\\\":false,\\\"enable_subsampling\\\":null,\\\"subsample_seed\\\":null,\\\"enable_nimbusml\\\":false,\\\"enable_streaming\\\":false,\\\"force_streaming\\\":false,\\\"track_child_runs\\\":true,\\\"n_best_runs\\\":1,\\\"allowed_private_models\\\":[],\\\"label_column_name\\\":\\\"class\\\",\\\"weight_column_name\\\":null,\\\"cv_split_column_names\\\":null,\\\"enable_local_managed\\\":false,\\\"_local_managed_run_id\\\":null,\\\"cost_mode\\\":1,\\\"lag_length\\\":0,\\\"metric_operation\\\":\\\"maximize\\\",\\\"preprocess\\\":true}\", \"DataPrepJsonString\": \"{\\\\\\\"training_data\\\\\\\": {\\\\\\\"datasetId\\\\\\\": \\\\\\\"6ce25d92-d386-4198-85d9-8799708af27e\\\\\\\"}, \\\\\\\"datasets\\\\\\\": 0}\", \"EnableSubsampling\": null, \"runTemplate\": \"AutoML\", \"azureml.runsource\": \"automl\", \"display_task_type\": \"classification\", \"dependencies_versions\": \"{\\\"azureml-dataprep-native\\\": \\\"38.0.0\\\", \\\"azureml-dataprep\\\": \\\"4.10.8\\\", \\\"azureml-dataprep-rslex\\\": \\\"2.17.12\\\", \\\"azureml-train-automl-runtime\\\": \\\"1.51.0.post2\\\", \\\"azureml-train-automl-client\\\": \\\"1.51.0.post1\\\", \\\"azureml-training-tabular\\\": \\\"1.51.0.post1\\\", \\\"azureml-automl-runtime\\\": \\\"1.51.0.post1\\\", \\\"azureml-automl-core\\\": \\\"1.51.0.post1\\\", \\\"azureml-mlflow\\\": \\\"1.51.0\\\", \\\"azureml-datadrift\\\": \\\"1.51.0\\\", \\\"azureml-pipeline\\\": \\\"1.51.0\\\", \\\"azureml-contrib-dataset\\\": \\\"1.51.0\\\", \\\"azureml-contrib-notebook\\\": \\\"1.51.0\\\", \\\"azureml-accel-models\\\": \\\"1.51.0\\\", \\\"azureml-automl-dnn-nlp\\\": \\\"1.51.0\\\", \\\"azureml-pipeline-core\\\": \\\"1.51.0\\\", \\\"azureml-responsibleai\\\": \\\"1.51.0\\\", \\\"azureml-contrib-automl-pipeline-steps\\\": \\\"1.51.0\\\", \\\"azureml-pipeline-steps\\\": \\\"1.51.0\\\", \\\"azureml-core\\\": \\\"1.51.0\\\", \\\"azureml-contrib-reinforcementlearning\\\": \\\"1.51.0\\\", \\\"azureml-contrib-server\\\": \\\"1.51.0\\\", \\\"azureml-opendatasets\\\": \\\"1.51.0\\\", \\\"azureml-contrib-services\\\": \\\"1.51.0\\\", \\\"azureml-telemetry\\\": \\\"1.51.0\\\", \\\"azureml-train-restclients-hyperdrive\\\": \\\"1.51.0\\\", \\\"azureml-interpret\\\": \\\"1.51.0\\\", \\\"azureml-train-core\\\": \\\"1.51.0\\\", \\\"azureml-tensorboard\\\": \\\"1.51.0\\\", \\\"azureml-train\\\": \\\"1.51.0\\\", \\\"azureml-contrib-pipeline-steps\\\": \\\"1.51.0\\\", \\\"azureml-explain-model\\\": \\\"1.51.0\\\", \\\"azureml-cli-common\\\": \\\"1.51.0\\\", \\\"azureml-widgets\\\": \\\"1.51.0\\\", \\\"azureml-train-automl\\\": \\\"1.51.0\\\", \\\"azureml-defaults\\\": \\\"1.51.0\\\", \\\"azureml-contrib-fairness\\\": \\\"1.51.0\\\", \\\"azureml-sdk\\\": \\\"1.51.0\\\", \\\"azureml-dataset-runtime\\\": \\\"1.51.0\\\", \\\"azureml-inference-server-http\\\": \\\"0.8.4\\\"}\", \"_aml_system_scenario_identification\": \"Remote.Parent\", \"ClientType\": \"SDK\", \"PlatformVersion\": \"DPV1\", \"environment_cpu_name\": \"AzureML-AutoML\", \"environment_cpu_label\": \"prod\", \"environment_gpu_name\": \"AzureML-AutoML-GPU\", \"environment_gpu_label\": \"prod\", \"root_attribution\": \"automl\", \"attribution\": \"AutoML\", \"Orchestrator\": \"AutoML\", \"CancelUri\": \"https://westus2.api.azureml.ms/jasmine/v1.0/subscriptions/6971f5ac-8af1-446e-8034-05acea24681f/resourceGroups/aml-quickstarts-240014/providers/Microsoft.MachineLearningServices/workspaces/quick-starts-ws-240014/experimentids/6dee336b-d1c8-4c5c-969f-8afd1670181e/cancel/AutoML_e7607ee2-feec-4f46-9104-e3f6a22c2d0a\", \"ClientSdkVersion\": null, \"snapshotId\": \"00000000-0000-0000-0000-000000000000\", \"SetupRunId\": \"AutoML_e7607ee2-feec-4f46-9104-e3f6a22c2d0a_setup\", \"SetupRunContainerId\": \"dcid.AutoML_e7607ee2-feec-4f46-9104-e3f6a22c2d0a_setup\", \"FeaturizationRunJsonPath\": \"featurizer_container.json\", \"FeaturizationRunId\": \"AutoML_e7607ee2-feec-4f46-9104-e3f6a22c2d0a_featurize\", \"ProblemInfoJsonString\": \"{\\\"dataset_num_categorical\\\": 0, \\\"is_sparse\\\": true, \\\"subsampling\\\": false, \\\"has_extra_col\\\": true, \\\"dataset_classes\\\": 4, \\\"dataset_features\\\": 21, \\\"dataset_samples\\\": 1727, \\\"single_frequency_class_detected\\\": false}\", \"ModelExplainRunId\": \"AutoML_e7607ee2-feec-4f46-9104-e3f6a22c2d0a_ModelExplain\"}, \"tags\": {\"model_explain_run\": \"best_run\", \"_aml_system_automl_run_workspace_id\": \"2e715e41-6fe2-45e4-98ce-ce66fd53a319\", \"_aml_system_azureml.automlComponent\": \"AutoML\", \"pipeline_id_000\": \"5dfac790c5c209f98a1da2dc1c7fb76f0397324f;c7af0367625be6ac5c2fecbfc72ed444cb7a2111;51ae05309834b29f71340af1008fc94fbd8213f4;ce2643edf3d450b10c86c7d034a9bc952dc282d3;039a99c3d5147edeb525249e2660628be3e8b83f;9610149fbcf43017aa810a290e9c04cbe6fa8684;a3dadd95854bf6116ab454844302b51d417d78b7;1e38ae92baee19b18f211a8b14c16015d5ee3dc3;1dfdf370ba770047b14bfa59c40920815defcdab;a7434e890cabef86b0ce4ae71fb633e1e92b854d;294650ec23bc3d067a4972de7ceb12f6e97260fa;dd46719e1e1ca3df6e6826afb96bf9be8390e6e2;6f4a466f84f725a47910c1dff062a1bb46df2a21;681a59302459aec2cc115ddbc14e1d28f4b3b8df;208056285bd1883d5bd7d4e4e996a1c71c4b0033;5bcf69d12307c5f0246b0d33ab19666443595ac9;dea7fdbaedc77258dbfe31dbfed41e768ca38939;c74787cd2f0507b852a1ac70d504d83ac9bdec83;79ebb3b8c385e3190e3dd4c1fa28b74730528045;5dcd9bc8a74634130a855a68c1bf956ce7160f98;a72eb56f3d4aadb7b7f0149ba6e5f05657a95ca1;3fe9ace0255a98a01a321c2b4c6ab86f6c1db8e5;f9c4839cd35f7fe03bcc11d87a99d82f63f333dc;ee365d2bc711bc6838929328cc4ff4b890fbc6c3;d6b59777ec875a63efbfc0704b2e67d652730595;8869edacdfa3ad38b2f434066fbe2853cfcf9234;cb31ab559db08156dd98c227926319000538915b;c57af941d8bc16fb78a7217c993648841310b51e;85127d1c54afee5930386aa8489d072c3f611e43;14f301e73d5fea62f94900f5d5b101101d254447;2fccf2a3c7e6b37131f777066780ab25d9f9ca62;ee77037f4bc7608f24c9d02eb64112db2a68987d;d94789ecf0b6084791fa7d1e8af3d45c373c7a88;2e57f8fcbecbb4cd894c5de2bd5f0d153a95d88c;fbd65336e06d287383a5a20eefad7b50eabe2f71;4ecfd2f743c74d169630256b9ceac4a9c4573e84;__AutoML_Ensemble__\", \"score_000\": \"0.9987787177700516;0.9985844805699463;0.9691747013223315;0.9799782506173985;0.971683486477084;0.9858968762228938;0.9946857986998717;0.9886005147395781;0.9784204924088552;0.9468114759781288;0.9903016405662504;0.9943466744333511;0.9745068881359656;0.9951940756307899;0.983269945981713;0.9431298816119025;0.9857487019555841;0.9950593846673023;0.9807974935087008;0.9831482301723553;0.9954077700681441;0.9978869169956212;0.9423851690793694;0.9944942408339038;0.9790543413971547;0.9843616987981566;0.9792744395794667;0.9925086157689643;0.9966041715491315;0.9818444980034756;0.9886858544777087;0.9232068068612534;0.977860591642978;0.9924664492210723;NaN;NaN;0.9988113756706959\", \"predicted_cost_000\": \"0;0;0.5;0.5;0.5;0.5;0.5;0.5;0.5;0.5;0.5;0.5;0.5;0.5;0.5;0.5;0.5;0.5;0.5;0.24277749621731665;0.5;0.2673100808024204;0.05807763048192345;0.09273005402473053;0.22052622078481124;0.14996067404141514;0.11843141981799088;0.3019696182349409;0.4036233477683544;0.05264749605761162;0.09798787823059278;0.19672182120101958;0.1820533829728655;0.26094619094129534;0.12272812268995652;0.2556202564292974;0\", \"fit_time_000\": \"0.29852566666666663;0.28941533333333336;0.046741666666666674;0.05325133333333334;0.02644;0.10396299999999999;0.051242333333333334;0.647123;0.29332166666666665;0.568678;0.06077166666666667;0.056100333333333335;0.02983066666666667;0.09508433333333333;0.2940466666666667;0.09220233333333334;0.8122426666666667;0.09092233333333333;0.13681733333333332;0.41291300000000003;0.399727;0.2583546666666667;0.05553533333333333;0.06452500000000001;0.12085733333333333;0.13128800000000002;0.05802366666666667;0.28557000000000005;0.06342533333333333;0.059685999999999996;0.030452666666666666;0.05685199999999999;0.31358400000000003;0.5549046666666667;NaN;NaN;24\", \"training_percent_000\": \"100;100;100;100;100;100;100;100;100;100;100;100;100;100;100;100;100;100;100;100;100;100;100;100;100;100;100;100;100;100;100;100;100;100;100;100;100\", \"iteration_000\": \"0;1;2;3;4;15;5;16;6;17;7;18;10;8;19;9;11;12;13;20;14;22;23;21;25;24;26;27;29;28;30;31;32;33;35;34;36\", \"run_preprocessor_000\": \"MaxAbsScaler;MaxAbsScaler;MaxAbsScaler;MaxAbsScaler;StandardScalerWrapper;MaxAbsScaler;SparseNormalizer;MaxAbsScaler;SparseNormalizer;StandardScalerWrapper;StandardScalerWrapper;StandardScalerWrapper;SparseNormalizer;SparseNormalizer;MaxAbsScaler;MaxAbsScaler;MaxAbsScaler;StandardScalerWrapper;StandardScalerWrapper;MaxAbsScaler;StandardScalerWrapper;StandardScalerWrapper;MaxAbsScaler;StandardScalerWrapper;MaxAbsScaler;MaxAbsScaler;StandardScalerWrapper;MaxAbsScaler;SparseNormalizer;SparseNormalizer;StandardScalerWrapper;StandardScalerWrapper;StandardScalerWrapper;StandardScalerWrapper;;StandardScalerWrapper;\", \"run_algorithm_000\": \"LightGBM;XGBoostClassifier;ExtremeRandomTrees;RandomForest;LightGBM;LightGBM;XGBoostClassifier;LogisticRegression;RandomForest;ExtremeRandomTrees;XGBoostClassifier;XGBoostClassifier;LightGBM;XGBoostClassifier;ExtremeRandomTrees;RandomForest;ExtremeRandomTrees;XGBoostClassifier;ExtremeRandomTrees;LogisticRegression;RandomForest;XGBoostClassifier;RandomForest;XGBoostClassifier;LinearSVM;LightGBM;LightGBM;LightGBM;XGBoostClassifier;LightGBM;LightGBM;XGBoostClassifier;XGBoostClassifier;XGBoostClassifier;;XGBoostClassifier;VotingEnsemble\", \"dynamic_allowlisting_iterations\": \"<24>;<30>;<35>;\", \"_aml_system_azureml.automl_early_exit_message\": \"No scores improved over last 10 iterations, so experiment stopped early. This early stopping behavior can be disabled by setting enable_early_stopping = False in AutoMLConfig for notebook/python SDK runs.\", \"automl_best_child_run_id\": \"AutoML_e7607ee2-feec-4f46-9104-e3f6a22c2d0a_36\", \"model_explain_best_run_child_id\": \"AutoML_e7607ee2-feec-4f46-9104-e3f6a22c2d0a_36\"}, \"end_time_utc\": \"2023-08-10T00:26:52.034993Z\", \"status\": \"Completed\", \"log_files\": {}, \"log_groups\": [], \"run_duration\": \"0:18:52\", \"run_number\": \"1691626079\", \"run_queued_details\": {\"status\": \"Completed\", \"details\": null}}, \"child_runs\": [{\"run_id\": \"AutoML_e7607ee2-feec-4f46-9104-e3f6a22c2d0a_setup\", \"run_number\": 1691626092, \"metric\": null, \"status\": \"Completed\", \"run_type\": \"azureml.scriptrun\", \"training_percent\": null, \"start_time\": \"2023-08-10T00:10:59.714424Z\", \"end_time\": \"2023-08-10T00:13:13.928748Z\", \"created_time\": \"2023-08-10T00:08:12.520127Z\", \"created_time_dt\": \"2023-08-10T00:08:12.520127Z\", \"duration\": \"0:05:01\", \"iteration\": null, \"goal\": null, \"run_name\": \"Completed\", \"run_properties\": null}, {\"run_id\": \"AutoML_e7607ee2-feec-4f46-9104-e3f6a22c2d0a_featurize\", \"run_number\": 1691626394, \"metric\": null, \"status\": \"Completed\", \"run_type\": \"automl.featurization\", \"training_percent\": null, \"start_time\": \"2023-08-10T00:13:14.833781Z\", \"end_time\": \"2023-08-10T00:14:39.516613Z\", \"created_time\": \"2023-08-10T00:13:14.297309Z\", \"created_time_dt\": \"2023-08-10T00:13:14.297309Z\", \"duration\": \"0:01:25\", \"iteration\": null, \"goal\": null, \"run_name\": \"Completed\", \"run_properties\": null}, {\"run_id\": \"AutoML_e7607ee2-feec-4f46-9104-e3f6a22c2d0a_0\", \"run_number\": 1691626480, \"metric\": null, \"status\": \"Completed\", \"run_type\": null, \"training_percent\": \"100\", \"start_time\": \"2023-08-10T00:15:03.500876Z\", \"end_time\": \"2023-08-10T00:15:36.494853Z\", \"created_time\": \"2023-08-10T00:14:40.965832Z\", \"created_time_dt\": \"2023-08-10T00:14:40.965832Z\", \"duration\": \"0:00:55\", \"iteration\": \"0\", \"goal\": \"AUC_weighted_max\", \"run_name\": \"MaxAbsScaler, LightGBM\", \"run_properties\": \"copy=True\", \"primary_metric\": 0.99877872, \"best_metric\": 0.99877872}, {\"run_id\": \"AutoML_e7607ee2-feec-4f46-9104-e3f6a22c2d0a_1\", \"run_number\": 1691626481, \"metric\": null, \"status\": \"Completed\", \"run_type\": null, \"training_percent\": \"100\", \"start_time\": \"2023-08-10T00:15:37.535287Z\", \"end_time\": \"2023-08-10T00:16:08.297189Z\", \"created_time\": \"2023-08-10T00:14:41.549855Z\", \"created_time_dt\": \"2023-08-10T00:14:41.549855Z\", \"duration\": \"0:01:26\", \"iteration\": \"1\", \"goal\": \"AUC_weighted_max\", \"run_name\": \"MaxAbsScaler, XGBoostClassifier\", \"run_properties\": \"copy=True\", \"primary_metric\": 0.99858448, \"best_metric\": 0.99877872}, {\"run_id\": \"AutoML_e7607ee2-feec-4f46-9104-e3f6a22c2d0a_2\", \"run_number\": 1691626482, \"metric\": null, \"status\": \"Completed\", \"run_type\": null, \"training_percent\": \"100\", \"start_time\": \"2023-08-10T00:16:09.092582Z\", \"end_time\": \"2023-08-10T00:16:37.14653Z\", \"created_time\": \"2023-08-10T00:14:41.996574Z\", \"created_time_dt\": \"2023-08-10T00:14:41.996574Z\", \"duration\": \"0:01:55\", \"iteration\": \"2\", \"goal\": \"AUC_weighted_max\", \"run_name\": \"MaxAbsScaler, ExtremeRandomTrees\", \"run_properties\": \"copy=True\", \"primary_metric\": 0.9691747, \"best_metric\": 0.99877872}, {\"run_id\": \"AutoML_e7607ee2-feec-4f46-9104-e3f6a22c2d0a_worker_0\", \"run_number\": 1691626483, \"metric\": null, \"status\": \"Completed\", \"run_type\": \"azureml.scriptrun\", \"training_percent\": null, \"start_time\": \"2023-08-10T00:14:50.757153Z\", \"end_time\": \"2023-08-10T00:17:43.816662Z\", \"created_time\": \"2023-08-10T00:14:43.177254Z\", \"created_time_dt\": \"2023-08-10T00:14:43.177254Z\", \"duration\": \"0:03:00\", \"iteration\": null, \"goal\": null, \"run_name\": \"Completed\", \"run_properties\": null}, {\"run_id\": \"AutoML_e7607ee2-feec-4f46-9104-e3f6a22c2d0a_7\", \"run_number\": 1691626484, \"metric\": null, \"status\": \"Completed\", \"run_type\": null, \"training_percent\": \"100\", \"start_time\": \"2023-08-10T00:19:28.996761Z\", \"end_time\": \"2023-08-10T00:19:54.30011Z\", \"created_time\": \"2023-08-10T00:14:44.266797Z\", \"created_time_dt\": \"2023-08-10T00:14:44.266797Z\", \"duration\": \"0:05:10\", \"iteration\": \"7\", \"goal\": \"AUC_weighted_max\", \"run_name\": \"StandardScalerWrapper, XGBoostClassifier\", \"run_properties\": \"copy=True, with_mean=False, with_std=False\", \"primary_metric\": 0.99030164, \"best_metric\": 0.99877872}, {\"run_id\": \"AutoML_e7607ee2-feec-4f46-9104-e3f6a22c2d0a_worker_1\", \"run_number\": 1691626485, \"metric\": null, \"status\": \"Completed\", \"run_type\": \"azureml.scriptrun\", \"training_percent\": null, \"start_time\": \"2023-08-10T00:16:50.766481Z\", \"end_time\": \"2023-08-10T00:20:55.342936Z\", \"created_time\": \"2023-08-10T00:14:45.397242Z\", \"created_time_dt\": \"2023-08-10T00:14:45.397242Z\", \"duration\": \"0:06:09\", \"iteration\": null, \"goal\": null, \"run_name\": \"Completed\", \"run_properties\": null}, {\"run_id\": \"AutoML_e7607ee2-feec-4f46-9104-e3f6a22c2d0a_11\", \"run_number\": 1691626486, \"metric\": null, \"status\": \"Completed\", \"run_type\": null, \"training_percent\": \"100\", \"start_time\": \"2023-08-10T00:20:17.501729Z\", \"end_time\": \"2023-08-10T00:20:48.452Z\", \"created_time\": \"2023-08-10T00:14:46.004559Z\", \"created_time_dt\": \"2023-08-10T00:14:46.004559Z\", \"duration\": \"0:06:02\", \"iteration\": \"11\", \"goal\": \"AUC_weighted_max\", \"run_name\": \"MaxAbsScaler, ExtremeRandomTrees\", \"run_properties\": \"copy=True\", \"primary_metric\": 0.9857487, \"best_metric\": 0.99877872}, {\"run_id\": \"AutoML_e7607ee2-feec-4f46-9104-e3f6a22c2d0a_15\", \"run_number\": 1691626487, \"metric\": null, \"status\": \"Completed\", \"run_type\": null, \"training_percent\": \"100\", \"start_time\": \"2023-08-10T00:18:00.164183Z\", \"end_time\": \"2023-08-10T00:18:31.715028Z\", \"created_time\": \"2023-08-10T00:14:47.702967Z\", \"created_time_dt\": \"2023-08-10T00:14:47.702967Z\", \"duration\": \"0:03:44\", \"iteration\": \"15\", \"goal\": \"AUC_weighted_max\", \"run_name\": \"MaxAbsScaler, LightGBM\", \"run_properties\": \"copy=True\", \"primary_metric\": 0.98589688, \"best_metric\": 0.99877872}, {\"run_id\": \"AutoML_e7607ee2-feec-4f46-9104-e3f6a22c2d0a_16\", \"run_number\": 1691626488, \"metric\": null, \"status\": \"Completed\", \"run_type\": null, \"training_percent\": \"100\", \"start_time\": \"2023-08-10T00:18:32.556998Z\", \"end_time\": \"2023-08-10T00:19:03.774953Z\", \"created_time\": \"2023-08-10T00:14:48.132903Z\", \"created_time_dt\": \"2023-08-10T00:14:48.132903Z\", \"duration\": \"0:04:15\", \"iteration\": \"16\", \"goal\": \"AUC_weighted_max\", \"run_name\": \"MaxAbsScaler, LogisticRegression\", \"run_properties\": \"copy=True\", \"primary_metric\": 0.98860051, \"best_metric\": 0.99877872}, {\"run_id\": \"AutoML_e7607ee2-feec-4f46-9104-e3f6a22c2d0a_worker_3\", \"run_number\": 1691626489, \"metric\": null, \"status\": \"Completed\", \"run_type\": \"azureml.scriptrun\", \"training_percent\": null, \"start_time\": \"2023-08-10T00:17:48.494606Z\", \"end_time\": \"2023-08-10T00:20:45.975503Z\", \"created_time\": \"2023-08-10T00:14:49.622404Z\", \"created_time_dt\": \"2023-08-10T00:14:49.622404Z\", \"duration\": \"0:05:56\", \"iteration\": null, \"goal\": null, \"run_name\": \"Completed\", \"run_properties\": null}, {\"run_id\": \"AutoML_e7607ee2-feec-4f46-9104-e3f6a22c2d0a_20\", \"run_number\": 1691626852, \"metric\": null, \"status\": \"Completed\", \"run_type\": \"azureml.scriptrun\", \"training_percent\": \"100\", \"start_time\": \"2023-08-10T00:21:03.141535Z\", \"end_time\": \"2023-08-10T00:21:46.957105Z\", \"created_time\": \"2023-08-10T00:20:52.07467Z\", \"created_time_dt\": \"2023-08-10T00:20:52.07467Z\", \"duration\": \"0:00:54\", \"iteration\": \"20\", \"goal\": \"AUC_weighted_max\", \"run_name\": \"MaxAbsScaler, LogisticRegression\", \"run_properties\": \"copy=True\", \"primary_metric\": 0.98314823, \"best_metric\": 0.99877872}, {\"run_id\": \"AutoML_e7607ee2-feec-4f46-9104-e3f6a22c2d0a_22\", \"run_number\": 1691626904, \"metric\": null, \"status\": \"Completed\", \"run_type\": \"azureml.scriptrun\", \"training_percent\": \"100\", \"start_time\": \"2023-08-10T00:21:53.02472Z\", \"end_time\": \"2023-08-10T00:22:37.615696Z\", \"created_time\": \"2023-08-10T00:21:44.960107Z\", \"created_time_dt\": \"2023-08-10T00:21:44.960107Z\", \"duration\": \"0:00:52\", \"iteration\": \"22\", \"goal\": \"AUC_weighted_max\", \"run_name\": \"StandardScalerWrapper, XGBoostClassifier\", \"run_properties\": \"copy=True, with_mean=False, with_std=False\", \"primary_metric\": 0.99788692, \"best_metric\": 0.99877872}, {\"run_id\": \"AutoML_e7607ee2-feec-4f46-9104-e3f6a22c2d0a_23\", \"run_number\": 1691626909, \"metric\": null, \"status\": \"Completed\", \"run_type\": \"azureml.scriptrun\", \"training_percent\": \"100\", \"start_time\": \"2023-08-10T00:21:59.025247Z\", \"end_time\": \"2023-08-10T00:22:46.280079Z\", \"created_time\": \"2023-08-10T00:21:49.699075Z\", \"created_time_dt\": \"2023-08-10T00:21:49.699075Z\", \"duration\": \"0:00:56\", \"iteration\": \"23\", \"goal\": \"AUC_weighted_max\", \"run_name\": \"MaxAbsScaler, RandomForest\", \"run_properties\": \"copy=True\", \"primary_metric\": 0.94238517, \"best_metric\": 0.99877872}, {\"run_id\": \"AutoML_e7607ee2-feec-4f46-9104-e3f6a22c2d0a_25\", \"run_number\": 1691626960, \"metric\": null, \"status\": \"Completed\", \"run_type\": \"azureml.scriptrun\", \"training_percent\": \"100\", \"start_time\": \"2023-08-10T00:22:51.145116Z\", \"end_time\": \"2023-08-10T00:23:34.307802Z\", \"created_time\": \"2023-08-10T00:22:40.139644Z\", \"created_time_dt\": \"2023-08-10T00:22:40.139644Z\", \"duration\": \"0:00:54\", \"iteration\": \"25\", \"goal\": \"AUC_weighted_max\", \"run_name\": \"MaxAbsScaler, LinearSVM\", \"run_properties\": \"copy=True\", \"primary_metric\": 0.97905434, \"best_metric\": 0.99877872}, {\"run_id\": \"AutoML_e7607ee2-feec-4f46-9104-e3f6a22c2d0a_26\", \"run_number\": 1691626967, \"metric\": null, \"status\": \"Completed\", \"run_type\": \"azureml.scriptrun\", \"training_percent\": \"100\", \"start_time\": \"2023-08-10T00:22:56.297092Z\", \"end_time\": \"2023-08-10T00:23:45.155549Z\", \"created_time\": \"2023-08-10T00:22:47.717922Z\", \"created_time_dt\": \"2023-08-10T00:22:47.717922Z\", \"duration\": \"0:00:57\", \"iteration\": \"26\", \"goal\": \"AUC_weighted_max\", \"run_name\": \"StandardScalerWrapper, LightGBM\", \"run_properties\": \"copy=True, with_mean=False, with_std=True\", \"primary_metric\": 0.97927444, \"best_metric\": 0.99877872}, {\"run_id\": \"AutoML_e7607ee2-feec-4f46-9104-e3f6a22c2d0a_27\", \"run_number\": 1691627002, \"metric\": null, \"status\": \"Completed\", \"run_type\": \"azureml.scriptrun\", \"training_percent\": \"100\", \"start_time\": \"2023-08-10T00:23:32.62628Z\", \"end_time\": \"2023-08-10T00:24:20.861864Z\", \"created_time\": \"2023-08-10T00:23:22.400976Z\", \"created_time_dt\": \"2023-08-10T00:23:22.400976Z\", \"duration\": \"0:00:58\", \"iteration\": \"27\", \"goal\": \"AUC_weighted_max\", \"run_name\": \"MaxAbsScaler, LightGBM\", \"run_properties\": \"copy=True\", \"primary_metric\": 0.99250862, \"best_metric\": 0.99877872}, {\"run_id\": \"AutoML_e7607ee2-feec-4f46-9104-e3f6a22c2d0a_28\", \"run_number\": 1691627015, \"metric\": null, \"status\": \"Completed\", \"run_type\": \"azureml.scriptrun\", \"training_percent\": \"100\", \"start_time\": \"2023-08-10T00:23:46.540841Z\", \"end_time\": \"2023-08-10T00:24:30.631378Z\", \"created_time\": \"2023-08-10T00:23:35.823297Z\", \"created_time_dt\": \"2023-08-10T00:23:35.823297Z\", \"duration\": \"0:00:54\", \"iteration\": \"28\", \"goal\": \"AUC_weighted_max\", \"run_name\": \"SparseNormalizer, LightGBM\", \"run_properties\": \"copy=True, norm='max'\", \"primary_metric\": 0.9818445, \"best_metric\": 0.99877872}, {\"run_id\": \"AutoML_e7607ee2-feec-4f46-9104-e3f6a22c2d0a_29\", \"run_number\": 1691627018, \"metric\": null, \"status\": \"Completed\", \"run_type\": \"azureml.scriptrun\", \"training_percent\": \"100\", \"start_time\": \"2023-08-10T00:23:46.457089Z\", \"end_time\": \"2023-08-10T00:24:28.961768Z\", \"created_time\": \"2023-08-10T00:23:38.325057Z\", \"created_time_dt\": \"2023-08-10T00:23:38.325057Z\", \"duration\": \"0:00:50\", \"iteration\": \"29\", \"goal\": \"AUC_weighted_max\", \"run_name\": \"SparseNormalizer, XGBoostClassifier\", \"run_properties\": \"copy=True, norm='max'\", \"primary_metric\": 0.99660417, \"best_metric\": 0.99877872}, {\"run_id\": \"AutoML_e7607ee2-feec-4f46-9104-e3f6a22c2d0a_30\", \"run_number\": 1691627027, \"metric\": null, \"status\": \"Completed\", \"run_type\": \"azureml.scriptrun\", \"training_percent\": \"100\", \"start_time\": \"2023-08-10T00:23:57.126213Z\", \"end_time\": \"2023-08-10T00:24:47.571956Z\", \"created_time\": \"2023-08-10T00:23:47.763188Z\", \"created_time_dt\": \"2023-08-10T00:23:47.763188Z\", \"duration\": \"0:00:59\", \"iteration\": \"30\", \"goal\": \"AUC_weighted_max\", \"run_name\": \"StandardScalerWrapper, LightGBM\", \"run_properties\": \"copy=True, with_mean=False, with_std=True\", \"primary_metric\": 0.98868585, \"best_metric\": 0.99877872}, {\"run_id\": \"AutoML_e7607ee2-feec-4f46-9104-e3f6a22c2d0a_31\", \"run_number\": 1691627062, \"metric\": null, \"status\": \"Completed\", \"run_type\": \"azureml.scriptrun\", \"training_percent\": \"100\", \"start_time\": \"2023-08-10T00:24:29.917843Z\", \"end_time\": \"2023-08-10T00:25:19.274126Z\", \"created_time\": \"2023-08-10T00:24:22.544387Z\", \"created_time_dt\": \"2023-08-10T00:24:22.544387Z\", \"duration\": \"0:00:56\", \"iteration\": \"31\", \"goal\": \"AUC_weighted_max\", \"run_name\": \"StandardScalerWrapper, XGBoostClassifier\", \"run_properties\": \"copy=True, with_mean=False, with_std=False\", \"primary_metric\": 0.92320681, \"best_metric\": 0.99877872}, {\"run_id\": \"AutoML_e7607ee2-feec-4f46-9104-e3f6a22c2d0a_32\", \"run_number\": 1691627070, \"metric\": null, \"status\": \"Completed\", \"run_type\": \"azureml.scriptrun\", \"training_percent\": \"100\", \"start_time\": \"2023-08-10T00:24:40.172704Z\", \"end_time\": \"2023-08-10T00:25:25.99823Z\", \"created_time\": \"2023-08-10T00:24:30.742392Z\", \"created_time_dt\": \"2023-08-10T00:24:30.742392Z\", \"duration\": \"0:00:55\", \"iteration\": \"32\", \"goal\": \"AUC_weighted_max\", \"run_name\": \"StandardScalerWrapper, XGBoostClassifier\", \"run_properties\": \"copy=True, with_mean=False, with_std=False\", \"primary_metric\": 0.97786059, \"best_metric\": 0.99877872}, {\"run_id\": \"AutoML_e7607ee2-feec-4f46-9104-e3f6a22c2d0a_33\", \"run_number\": 1691627073, \"metric\": null, \"status\": \"Completed\", \"run_type\": \"azureml.scriptrun\", \"training_percent\": \"100\", \"start_time\": \"2023-08-10T00:24:40.091859Z\", \"end_time\": \"2023-08-10T00:25:27.351636Z\", \"created_time\": \"2023-08-10T00:24:33.049414Z\", \"created_time_dt\": \"2023-08-10T00:24:33.049414Z\", \"duration\": \"0:00:54\", \"iteration\": \"33\", \"goal\": \"AUC_weighted_max\", \"run_name\": \"StandardScalerWrapper, XGBoostClassifier\", \"run_properties\": \"copy=True, with_mean=False, with_std=False\", \"primary_metric\": 0.99246645, \"best_metric\": 0.99877872}, {\"run_id\": \"AutoML_e7607ee2-feec-4f46-9104-e3f6a22c2d0a_34\", \"run_number\": 1691627089, \"metric\": null, \"status\": \"Canceled\", \"run_type\": \"azureml.scriptrun\", \"training_percent\": \"100\", \"start_time\": \"2023-08-10T00:24:57.238349Z\", \"end_time\": \"2023-08-10T00:25:32.937345Z\", \"created_time\": \"2023-08-10T00:24:49.437042Z\", \"created_time_dt\": \"2023-08-10T00:24:49.437042Z\", \"duration\": \"0:00:43\", \"iteration\": \"34\", \"goal\": null, \"run_name\": \"StandardScalerWrapper, XGBoostClassifier\", \"run_properties\": null}, {\"run_id\": \"AutoML_e7607ee2-feec-4f46-9104-e3f6a22c2d0a_35\", \"run_number\": 1691627122, \"metric\": null, \"status\": \"Canceled\", \"run_type\": \"azureml.scriptrun\", \"training_percent\": \"100\", \"start_time\": \"2023-08-10T00:25:26.717097Z\", \"end_time\": \"2023-08-10T00:25:32.45051Z\", \"created_time\": \"2023-08-10T00:25:22.04806Z\", \"created_time_dt\": \"2023-08-10T00:25:22.04806Z\", \"duration\": \"0:00:10\", \"iteration\": \"35\", \"goal\": null, \"run_name\": \"Canceled\", \"run_properties\": null}, {\"run_id\": \"AutoML_e7607ee2-feec-4f46-9104-e3f6a22c2d0a_36\", \"run_number\": 1691627133, \"metric\": null, \"status\": \"Completed\", \"run_type\": \"azureml.scriptrun\", \"training_percent\": \"100\", \"start_time\": \"2023-08-10T00:25:42.457219Z\", \"end_time\": \"2023-08-10T00:26:50.908157Z\", \"created_time\": \"2023-08-10T00:25:33.700188Z\", \"created_time_dt\": \"2023-08-10T00:25:33.700188Z\", \"duration\": \"0:01:17\", \"iteration\": \"36\", \"goal\": \"AUC_weighted_max\", \"run_name\": \"VotingEnsemble\", \"run_properties\": \"classification_labels=numpy.array([0, 1, 2, 3]\", \"primary_metric\": 0.99881138, \"best_metric\": 0.99881138}], \"children_metrics\": {\"categories\": [0], \"series\": {\"AUC_macro\": [{\"categories\": [\"0\", \"1\", \"2\", \"7\", \"11\", \"15\", \"16\", \"20\", \"22\", \"23\", \"25\", \"26\", \"27\", \"28\", \"29\", \"30\", \"31\", \"32\", \"33\", \"36\"], \"mode\": \"markers\", \"name\": \"AUC_macro\", \"stepped\": false, \"type\": \"scatter\", \"data\": [0.9990457541187446, 0.9981879026178183, 0.9696871197127903, 0.9882978239167747, 0.9854416260405042, 0.9825735934840285, 0.9918421738724064, 0.9827367573666684, 0.9967394368019601, 0.9387591035186795, 0.9787789911643391, 0.9762747722048427, 0.9890408677972123, 0.9769039926629599, 0.995905708389733, 0.9872399170137459, 0.9048581260704252, 0.9783141331018411, 0.9904887846811025, 0.9989780423883347]}, {\"categories\": [\"0\", \"1\", \"2\", \"7\", \"11\", \"15\", \"16\", \"20\", \"22\", \"23\", \"25\", \"26\", \"27\", \"28\", \"29\", \"30\", \"31\", \"32\", \"33\", \"36\"], \"mode\": \"lines\", \"name\": \"AUC_macro_max\", \"stepped\": true, \"type\": \"scatter\", \"data\": [0.9990457541187446, 0.9990457541187446, 0.9990457541187446, 0.9990457541187446, 0.9990457541187446, 0.9990457541187446, 0.9990457541187446, 0.9990457541187446, 0.9990457541187446, 0.9990457541187446, 0.9990457541187446, 0.9990457541187446, 0.9990457541187446, 0.9990457541187446, 0.9990457541187446, 0.9990457541187446, 0.9990457541187446, 0.9990457541187446, 0.9990457541187446, 0.9990457541187446]}], \"average_precision_score_micro\": [{\"categories\": [\"0\", \"1\", \"2\", \"7\", \"11\", \"15\", \"16\", \"20\", \"22\", \"23\", \"25\", \"26\", \"27\", \"28\", \"29\", \"30\", \"31\", \"32\", \"33\", \"36\"], \"mode\": \"markers\", \"name\": \"average_precision_score_micro\", \"stepped\": false, \"type\": \"scatter\", \"data\": [0.9982808475759496, 0.9975371649987941, 0.9504758574789497, 0.9799116964103917, 0.9711435076981169, 0.9592846374483722, 0.9852432618241639, 0.9703949662289729, 0.9960043403411741, 0.8886668332455038, 0.9634709071984924, 0.9618166367500544, 0.9847522380507295, 0.9630160752335343, 0.9946213040901385, 0.9719220570024979, 0.89444365242946, 0.9573278097348276, 0.9721376983367208, 0.9980518394249254]}, {\"categories\": [\"0\", \"1\", \"2\", \"7\", \"11\", \"15\", \"16\", \"20\", \"22\", \"23\", \"25\", \"26\", \"27\", \"28\", \"29\", \"30\", \"31\", \"32\", \"33\", \"36\"], \"mode\": \"lines\", \"name\": \"average_precision_score_micro_max\", \"stepped\": true, \"type\": \"scatter\", \"data\": [0.9982808475759496, 0.9982808475759496, 0.9982808475759496, 0.9982808475759496, 0.9982808475759496, 0.9982808475759496, 0.9982808475759496, 0.9982808475759496, 0.9982808475759496, 0.9982808475759496, 0.9982808475759496, 0.9982808475759496, 0.9982808475759496, 0.9982808475759496, 0.9982808475759496, 0.9982808475759496, 0.9982808475759496, 0.9982808475759496, 0.9982808475759496, 0.9982808475759496]}], \"f1_score_macro\": [{\"categories\": [\"0\", \"1\", \"2\", \"7\", \"11\", \"15\", \"16\", \"20\", \"22\", \"23\", \"25\", \"26\", \"27\", \"28\", \"29\", \"30\", \"31\", \"32\", \"33\", \"36\"], \"mode\": \"markers\", \"name\": \"f1_score_macro\", \"stepped\": false, \"type\": \"scatter\", \"data\": [0.964149597555385, 0.9251776219560934, 0.5742030491686815, 0.7567181532169786, 0.8510445037082194, 0.5754621536467742, 0.9111854373470555, 0.7385695750165082, 0.8808073538674682, 0.6089571438081359, 0.5742322325745589, 0.5575485754866768, 0.7068603226338688, 0.5389102299936115, 0.9019381237161214, 0.60741236796639, 0.3878254286972232, 0.46116605833184826, 0.6422832641033515, 0.9598998893883487]}, {\"categories\": [\"0\", \"1\", \"2\", \"7\", \"11\", \"15\", \"16\", \"20\", \"22\", \"23\", \"25\", \"26\", \"27\", \"28\", \"29\", \"30\", \"31\", \"32\", \"33\", \"36\"], \"mode\": \"lines\", \"name\": \"f1_score_macro_max\", \"stepped\": true, \"type\": \"scatter\", \"data\": [0.964149597555385, 0.964149597555385, 0.964149597555385, 0.964149597555385, 0.964149597555385, 0.964149597555385, 0.964149597555385, 0.964149597555385, 0.964149597555385, 0.964149597555385, 0.964149597555385, 0.964149597555385, 0.964149597555385, 0.964149597555385, 0.964149597555385, 0.964149597555385, 0.964149597555385, 0.964149597555385, 0.964149597555385, 0.964149597555385]}], \"accuracy\": [{\"categories\": [\"0\", \"1\", \"2\", \"7\", \"11\", \"15\", \"16\", \"20\", \"22\", \"23\", \"25\", \"26\", \"27\", \"28\", \"29\", \"30\", \"31\", \"32\", \"33\", \"36\"], \"mode\": \"markers\", \"name\": \"accuracy\", \"stepped\": false, \"type\": \"scatter\", \"data\": [0.9826328502415459, 0.9745229468599034, 0.8529247181964573, 0.9200905797101449, 0.9085144927536232, 0.8801348631239936, 0.9397846215780997, 0.8963506441223833, 0.9646769323671497, 0.7585487117552335, 0.863924114331723, 0.8720289855072464, 0.9171970611916264, 0.8801368760064413, 0.9664130434782608, 0.90908615136876, 0.7776529790660226, 0.8673882850241545, 0.9079297504025764, 0.9820531400966184]}, {\"categories\": [\"0\", \"1\", \"2\", \"7\", \"11\", \"15\", \"16\", \"20\", \"22\", \"23\", \"25\", \"26\", \"27\", \"28\", \"29\", \"30\", \"31\", \"32\", \"33\", \"36\"], \"mode\": \"lines\", \"name\": \"accuracy_max\", \"stepped\": true, \"type\": \"scatter\", \"data\": [0.9826328502415459, 0.9826328502415459, 0.9826328502415459, 0.9826328502415459, 0.9826328502415459, 0.9826328502415459, 0.9826328502415459, 0.9826328502415459, 0.9826328502415459, 0.9826328502415459, 0.9826328502415459, 0.9826328502415459, 0.9826328502415459, 0.9826328502415459, 0.9826328502415459, 0.9826328502415459, 0.9826328502415459, 0.9826328502415459, 0.9826328502415459, 0.9826328502415459]}], \"precision_score_weighted\": [{\"categories\": [\"0\", \"1\", \"2\", \"7\", \"11\", \"15\", \"16\", \"20\", \"22\", \"23\", \"25\", \"26\", \"27\", \"28\", \"29\", \"30\", \"31\", \"32\", \"33\", \"36\"], \"mode\": \"markers\", \"name\": \"precision_score_weighted\", \"stepped\": false, \"type\": \"scatter\", \"data\": [0.9832159651814981, 0.974495281780274, 0.8321522921132868, 0.9192829256903713, 0.9260509999474636, 0.8488820288646254, 0.9468829558744972, 0.8938932084921257, 0.9637132960382512, 0.8416948686548525, 0.8616150722513956, 0.8525373586983992, 0.9154581185754876, 0.8637266890609586, 0.9664725212430113, 0.8921440657950087, 0.811228722580573, 0.8320188266274764, 0.915901613527048, 0.9825865565863464]}, {\"categories\": [\"0\", \"1\", \"2\", \"7\", \"11\", \"15\", \"16\", \"20\", \"22\", \"23\", \"25\", \"26\", \"27\", \"28\", \"29\", \"30\", \"31\", \"32\", \"33\", \"36\"], \"mode\": \"lines\", \"name\": \"precision_score_weighted_max\", \"stepped\": true, \"type\": \"scatter\", \"data\": [0.9832159651814981, 0.9832159651814981, 0.9832159651814981, 0.9832159651814981, 0.9832159651814981, 0.9832159651814981, 0.9832159651814981, 0.9832159651814981, 0.9832159651814981, 0.9832159651814981, 0.9832159651814981, 0.9832159651814981, 0.9832159651814981, 0.9832159651814981, 0.9832159651814981, 0.9832159651814981, 0.9832159651814981, 0.9832159651814981, 0.9832159651814981, 0.9832159651814981]}], \"log_loss\": [{\"categories\": [\"0\", \"1\", \"2\", \"7\", \"11\", \"15\", \"16\", \"20\", \"22\", \"23\", \"25\", \"26\", \"27\", \"28\", \"29\", \"30\", \"31\", \"32\", \"33\", \"36\"], \"mode\": \"markers\", \"name\": \"log_loss\", \"stepped\": false, \"type\": \"scatter\", \"data\": [0.05201993946696661, 0.0634328517121533, 0.3351906784926651, 0.31998847068920927, 0.35412393799032876, 0.39758967010585455, 0.2046636661600548, 0.23774844621091176, 0.12013456274294364, 0.6207338220418458, 0.2835254310371027, 0.32036621928299436, 0.2165718248043554, 0.3298844743346916, 0.17618580795317018, 0.33804286765916486, 1.355849879312049, 0.35792283267111813, 1.1716938317350287, 0.06861488869810298]}, {\"categories\": [\"0\", \"1\", \"2\", \"7\", \"11\", \"15\", \"16\", \"20\", \"22\", \"23\", \"25\", \"26\", \"27\", \"28\", \"29\", \"30\", \"31\", \"32\", \"33\", \"36\"], \"mode\": \"lines\", \"name\": \"log_loss_min\", \"stepped\": true, \"type\": \"scatter\", \"data\": [0.05201993946696661, 0.05201993946696661, 0.05201993946696661, 0.05201993946696661, 0.05201993946696661, 0.05201993946696661, 0.05201993946696661, 0.05201993946696661, 0.05201993946696661, 0.05201993946696661, 0.05201993946696661, 0.05201993946696661, 0.05201993946696661, 0.05201993946696661, 0.05201993946696661, 0.05201993946696661, 0.05201993946696661, 0.05201993946696661, 0.05201993946696661, 0.05201993946696661]}], \"weighted_accuracy\": [{\"categories\": [\"0\", \"1\", \"2\", \"7\", \"11\", \"15\", \"16\", \"20\", \"22\", \"23\", \"25\", \"26\", \"27\", \"28\", \"29\", \"30\", \"31\", \"32\", \"33\", \"36\"], \"mode\": \"markers\", \"name\": \"weighted_accuracy\", \"stepped\": false, \"type\": \"scatter\", \"data\": [0.9865024510085333, 0.9866049685490004, 0.9156800273892713, 0.9667079423081367, 0.906709289065544, 0.9629762435386522, 0.9399404376062099, 0.9432093390992695, 0.9845834938221532, 0.7800527037474132, 0.9387872297110035, 0.9473211241218386, 0.9652418020016578, 0.9514624497967783, 0.982535605643233, 0.9713468748233792, 0.8076635258637488, 0.9379630097863695, 0.9736656556813981, 0.987139240424933]}, {\"categories\": [\"0\", \"1\", \"2\", \"7\", \"11\", \"15\", \"16\", \"20\", \"22\", \"23\", \"25\", \"26\", \"27\", \"28\", \"29\", \"30\", \"31\", \"32\", \"33\", \"36\"], \"mode\": \"lines\", \"name\": \"weighted_accuracy_max\", \"stepped\": true, \"type\": \"scatter\", \"data\": [0.9865024510085333, 0.9866049685490004, 0.9866049685490004, 0.9866049685490004, 0.9866049685490004, 0.9866049685490004, 0.9866049685490004, 0.9866049685490004, 0.9866049685490004, 0.9866049685490004, 0.9866049685490004, 0.9866049685490004, 0.9866049685490004, 0.9866049685490004, 0.9866049685490004, 0.9866049685490004, 0.9866049685490004, 0.9866049685490004, 0.9866049685490004, 0.987139240424933]}], \"AUC_micro\": [{\"categories\": [\"0\", \"1\", \"2\", \"7\", \"11\", \"15\", \"16\", \"20\", \"22\", \"23\", \"25\", \"26\", \"27\", \"28\", \"29\", \"30\", \"31\", \"32\", \"33\", \"36\"], \"mode\": \"markers\", \"name\": \"AUC_micro\", \"stepped\": false, \"type\": \"scatter\", \"data\": [0.9994114807837794, 0.9991558370400272, 0.9813044766953349, 0.9924035654557931, 0.9891278094265862, 0.9829218925620752, 0.9948134717637728, 0.9893577630865317, 0.9986241843166637, 0.9523726824827041, 0.9866289904746254, 0.9853932114070713, 0.9944307148570903, 0.9855891628645553, 0.9981013010238149, 0.9883833933136242, 0.9581793266458475, 0.9829409496846647, 0.9882690925455524, 0.9993397414983672]}, {\"categories\": [\"0\", \"1\", \"2\", \"7\", \"11\", \"15\", \"16\", \"20\", \"22\", \"23\", \"25\", \"26\", \"27\", \"28\", \"29\", \"30\", \"31\", \"32\", \"33\", \"36\"], \"mode\": \"lines\", \"name\": \"AUC_micro_max\", \"stepped\": true, \"type\": \"scatter\", \"data\": [0.9994114807837794, 0.9994114807837794, 0.9994114807837794, 0.9994114807837794, 0.9994114807837794, 0.9994114807837794, 0.9994114807837794, 0.9994114807837794, 0.9994114807837794, 0.9994114807837794, 0.9994114807837794, 0.9994114807837794, 0.9994114807837794, 0.9994114807837794, 0.9994114807837794, 0.9994114807837794, 0.9994114807837794, 0.9994114807837794, 0.9994114807837794, 0.9994114807837794]}], \"recall_score_macro\": [{\"categories\": [\"0\", \"1\", \"2\", \"7\", \"11\", \"15\", \"16\", \"20\", \"22\", \"23\", \"25\", \"26\", \"27\", \"28\", \"29\", \"30\", \"31\", \"32\", \"33\", \"36\"], \"mode\": \"markers\", \"name\": \"recall_score_macro\", \"stepped\": false, \"type\": \"scatter\", \"data\": [0.9624798064408936, 0.9167952786694985, 0.5793016627662179, 0.719587271856985, 0.9210787489675436, 0.5524337102504732, 0.9439669036954331, 0.7264666913991272, 0.8742798818816322, 0.7518732179319829, 0.5515258044217278, 0.5405242755852357, 0.6844839141774138, 0.5298547787456828, 0.8978733087458859, 0.5892249474078838, 0.44831482465992617, 0.4851159756416514, 0.6089034667902558, 0.9560022961414408]}, {\"categories\": [\"0\", \"1\", \"2\", \"7\", \"11\", \"15\", \"16\", \"20\", \"22\", \"23\", \"25\", \"26\", \"27\", \"28\", \"29\", \"30\", \"31\", \"32\", \"33\", \"36\"], \"mode\": \"lines\", \"name\": \"recall_score_macro_max\", \"stepped\": true, \"type\": \"scatter\", \"data\": [0.9624798064408936, 0.9624798064408936, 0.9624798064408936, 0.9624798064408936, 0.9624798064408936, 0.9624798064408936, 0.9624798064408936, 0.9624798064408936, 0.9624798064408936, 0.9624798064408936, 0.9624798064408936, 0.9624798064408936, 0.9624798064408936, 0.9624798064408936, 0.9624798064408936, 0.9624798064408936, 0.9624798064408936, 0.9624798064408936, 0.9624798064408936, 0.9624798064408936]}], \"precision_score_micro\": [{\"categories\": [\"0\", \"1\", \"2\", \"7\", \"11\", \"15\", \"16\", \"20\", \"22\", \"23\", \"25\", \"26\", \"27\", \"28\", \"29\", \"30\", \"31\", \"32\", \"33\", \"36\"], \"mode\": \"markers\", \"name\": \"precision_score_micro\", \"stepped\": false, \"type\": \"scatter\", \"data\": [0.9826328502415459, 0.9745229468599034, 0.8529247181964573, 0.9200905797101449, 0.9085144927536232, 0.8801348631239936, 0.9397846215780997, 0.8963506441223833, 0.9646769323671497, 0.7585487117552335, 0.863924114331723, 0.8720289855072464, 0.9171970611916264, 0.8801368760064413, 0.9664130434782608, 0.90908615136876, 0.7776529790660226, 0.8673882850241545, 0.9079297504025764, 0.9820531400966184]}, {\"categories\": [\"0\", \"1\", \"2\", \"7\", \"11\", \"15\", \"16\", \"20\", \"22\", \"23\", \"25\", \"26\", \"27\", \"28\", \"29\", \"30\", \"31\", \"32\", \"33\", \"36\"], \"mode\": \"lines\", \"name\": \"precision_score_micro_max\", \"stepped\": true, \"type\": \"scatter\", \"data\": [0.9826328502415459, 0.9826328502415459, 0.9826328502415459, 0.9826328502415459, 0.9826328502415459, 0.9826328502415459, 0.9826328502415459, 0.9826328502415459, 0.9826328502415459, 0.9826328502415459, 0.9826328502415459, 0.9826328502415459, 0.9826328502415459, 0.9826328502415459, 0.9826328502415459, 0.9826328502415459, 0.9826328502415459, 0.9826328502415459, 0.9826328502415459, 0.9826328502415459]}], \"balanced_accuracy\": [{\"categories\": [\"0\", \"1\", \"2\", \"7\", \"11\", \"15\", \"16\", \"20\", \"22\", \"23\", \"25\", \"26\", \"27\", \"28\", \"29\", \"30\", \"31\", \"32\", \"33\", \"36\"], \"mode\": \"markers\", \"name\": \"balanced_accuracy\", \"stepped\": false, \"type\": \"scatter\", \"data\": [0.9624798064408936, 0.9167952786694985, 0.5793016627662179, 0.719587271856985, 0.9210787489675436, 0.5524337102504732, 0.9439669036954331, 0.7264666913991272, 0.8742798818816322, 0.7518732179319829, 0.5515258044217278, 0.5405242755852357, 0.6844839141774138, 0.5298547787456828, 0.8978733087458859, 0.5892249474078838, 0.44831482465992617, 0.4851159756416514, 0.6089034667902558, 0.9560022961414408]}, {\"categories\": [\"0\", \"1\", \"2\", \"7\", \"11\", \"15\", \"16\", \"20\", \"22\", \"23\", \"25\", \"26\", \"27\", \"28\", \"29\", \"30\", \"31\", \"32\", \"33\", \"36\"], \"mode\": \"lines\", \"name\": \"balanced_accuracy_max\", \"stepped\": true, \"type\": \"scatter\", \"data\": [0.9624798064408936, 0.9624798064408936, 0.9624798064408936, 0.9624798064408936, 0.9624798064408936, 0.9624798064408936, 0.9624798064408936, 0.9624798064408936, 0.9624798064408936, 0.9624798064408936, 0.9624798064408936, 0.9624798064408936, 0.9624798064408936, 0.9624798064408936, 0.9624798064408936, 0.9624798064408936, 0.9624798064408936, 0.9624798064408936, 0.9624798064408936, 0.9624798064408936]}], \"AUC_weighted\": [{\"categories\": [\"0\", \"1\", \"2\", \"7\", \"11\", \"15\", \"16\", \"20\", \"22\", \"23\", \"25\", \"26\", \"27\", \"28\", \"29\", \"30\", \"31\", \"32\", \"33\", \"36\"], \"mode\": \"markers\", \"name\": \"AUC_weighted\", \"stepped\": false, \"type\": \"scatter\", \"data\": [0.9987787177700516, 0.9985844805699463, 0.9691747013223315, 0.9903016405662504, 0.9857487019555841, 0.9858968762228938, 0.9886005147395781, 0.9831482301723553, 0.9978869169956212, 0.9423851690793694, 0.9790543413971547, 0.9792744395794667, 0.9925086157689643, 0.9818444980034756, 0.9966041715491315, 0.9886858544777087, 0.9232068068612534, 0.977860591642978, 0.9924664492210723, 0.9988113756706959]}, {\"categories\": [\"0\", \"1\", \"2\", \"7\", \"11\", \"15\", \"16\", \"20\", \"22\", \"23\", \"25\", \"26\", \"27\", \"28\", \"29\", \"30\", \"31\", \"32\", \"33\", \"36\"], \"mode\": \"lines\", \"name\": \"AUC_weighted_max\", \"stepped\": true, \"type\": \"scatter\", \"data\": [0.9987787177700516, 0.9987787177700516, 0.9987787177700516, 0.9987787177700516, 0.9987787177700516, 0.9987787177700516, 0.9987787177700516, 0.9987787177700516, 0.9987787177700516, 0.9987787177700516, 0.9987787177700516, 0.9987787177700516, 0.9987787177700516, 0.9987787177700516, 0.9987787177700516, 0.9987787177700516, 0.9987787177700516, 0.9987787177700516, 0.9987787177700516, 0.9988113756706959]}], \"average_precision_score_weighted\": [{\"categories\": [\"0\", \"1\", \"2\", \"7\", \"11\", \"15\", \"16\", \"20\", \"22\", \"23\", \"25\", \"26\", \"27\", \"28\", \"29\", \"30\", \"31\", \"32\", \"33\", \"36\"], \"mode\": \"markers\", \"name\": \"average_precision_score_weighted\", \"stepped\": false, \"type\": \"scatter\", \"data\": [0.9971952408718546, 0.9938709142358589, 0.9237774949700691, 0.9659227898101633, 0.9557319248798569, 0.9464829920301346, 0.978144705028822, 0.9482571600244548, 0.9878472810691968, 0.8493666922072186, 0.9402307609621787, 0.9292464953291333, 0.9646363325457448, 0.9305498519183946, 0.986908439649851, 0.9606108430259361, 0.8190676834548806, 0.9312553644260428, 0.9710311638880625, 0.9967160465021668]}, {\"categories\": [\"0\", \"1\", \"2\", \"7\", \"11\", \"15\", \"16\", \"20\", \"22\", \"23\", \"25\", \"26\", \"27\", \"28\", \"29\", \"30\", \"31\", \"32\", \"33\", \"36\"], \"mode\": \"lines\", \"name\": \"average_precision_score_weighted_max\", \"stepped\": true, \"type\": \"scatter\", \"data\": [0.9971952408718546, 0.9971952408718546, 0.9971952408718546, 0.9971952408718546, 0.9971952408718546, 0.9971952408718546, 0.9971952408718546, 0.9971952408718546, 0.9971952408718546, 0.9971952408718546, 0.9971952408718546, 0.9971952408718546, 0.9971952408718546, 0.9971952408718546, 0.9971952408718546, 0.9971952408718546, 0.9971952408718546, 0.9971952408718546, 0.9971952408718546, 0.9971952408718546]}], \"norm_macro_recall\": [{\"categories\": [\"0\", \"1\", \"2\", \"7\", \"11\", \"15\", \"16\", \"20\", \"22\", \"23\", \"25\", \"26\", \"27\", \"28\", \"29\", \"30\", \"31\", \"32\", \"33\", \"36\"], \"mode\": \"markers\", \"name\": \"norm_macro_recall\", \"stepped\": false, \"type\": \"scatter\", \"data\": [0.9499730752545248, 0.8890603715593312, 0.43906888368829056, 0.6261163624759799, 0.894771665290058, 0.4032449470006309, 0.925289204927244, 0.635288921865503, 0.8323731758421764, 0.6691642905759773, 0.4020344058956371, 0.38736570078031435, 0.5793118855698851, 0.3731397049942436, 0.8638310783278479, 0.45229992987717843, 0.264419766213235, 0.31348796752220176, 0.4785379557203409, 0.9413363948552544]}, {\"categories\": [\"0\", \"1\", \"2\", \"7\", \"11\", \"15\", \"16\", \"20\", \"22\", \"23\", \"25\", \"26\", \"27\", \"28\", \"29\", \"30\", \"31\", \"32\", \"33\", \"36\"], \"mode\": \"lines\", \"name\": \"norm_macro_recall_max\", \"stepped\": true, \"type\": \"scatter\", \"data\": [0.9499730752545248, 0.9499730752545248, 0.9499730752545248, 0.9499730752545248, 0.9499730752545248, 0.9499730752545248, 0.9499730752545248, 0.9499730752545248, 0.9499730752545248, 0.9499730752545248, 0.9499730752545248, 0.9499730752545248, 0.9499730752545248, 0.9499730752545248, 0.9499730752545248, 0.9499730752545248, 0.9499730752545248, 0.9499730752545248, 0.9499730752545248, 0.9499730752545248]}], \"f1_score_weighted\": [{\"categories\": [\"0\", \"1\", \"2\", \"7\", \"11\", \"15\", \"16\", \"20\", \"22\", \"23\", \"25\", \"26\", \"27\", \"28\", \"29\", \"30\", \"31\", \"32\", \"33\", \"36\"], \"mode\": \"markers\", \"name\": \"f1_score_weighted\", \"stepped\": false, \"type\": \"scatter\", \"data\": [0.9824728186538567, 0.9736915743863946, 0.838974635978127, 0.9143430192339812, 0.9128211173673949, 0.8592653524845325, 0.9413945446508643, 0.8934263162325071, 0.9636496753613186, 0.7835852361289529, 0.8521426564453116, 0.8550342047008059, 0.9133357502746763, 0.861143398397321, 0.9658689232219063, 0.8906021300321761, 0.7674812651995638, 0.8422334721859146, 0.8921825377532969, 0.9817880661569424]}, {\"categories\": [\"0\", \"1\", \"2\", \"7\", \"11\", \"15\", \"16\", \"20\", \"22\", \"23\", \"25\", \"26\", \"27\", \"28\", \"29\", \"30\", \"31\", \"32\", \"33\", \"36\"], \"mode\": \"lines\", \"name\": \"f1_score_weighted_max\", \"stepped\": true, \"type\": \"scatter\", \"data\": [0.9824728186538567, 0.9824728186538567, 0.9824728186538567, 0.9824728186538567, 0.9824728186538567, 0.9824728186538567, 0.9824728186538567, 0.9824728186538567, 0.9824728186538567, 0.9824728186538567, 0.9824728186538567, 0.9824728186538567, 0.9824728186538567, 0.9824728186538567, 0.9824728186538567, 0.9824728186538567, 0.9824728186538567, 0.9824728186538567, 0.9824728186538567, 0.9824728186538567]}], \"average_precision_score_macro\": [{\"categories\": [\"0\", \"1\", \"2\", \"7\", \"11\", \"15\", \"16\", \"20\", \"22\", \"23\", \"25\", \"26\", \"27\", \"28\", \"29\", \"30\", \"31\", \"32\", \"33\", \"36\"], \"mode\": \"markers\", \"name\": \"average_precision_score_macro\", \"stepped\": false, \"type\": \"scatter\", \"data\": [0.9938735922885464, 0.9780138782836363, 0.8026702926623605, 0.8931449330348022, 0.9145662639751017, 0.84457215027085, 0.950984113022456, 0.8247548646437116, 0.9487214654951611, 0.7021355942631455, 0.8240330664984744, 0.8079900172610787, 0.8520221931626009, 0.7920751923843717, 0.9523684396289914, 0.8788297481227496, 0.5479887361248882, 0.8239518167854332, 0.9045999025180228, 0.9922167841232614]}, {\"categories\": [\"0\", \"1\", \"2\", \"7\", \"11\", \"15\", \"16\", \"20\", \"22\", \"23\", \"25\", \"26\", \"27\", \"28\", \"29\", \"30\", \"31\", \"32\", \"33\", \"36\"], \"mode\": \"lines\", \"name\": \"average_precision_score_macro_max\", \"stepped\": true, \"type\": \"scatter\", \"data\": [0.9938735922885464, 0.9938735922885464, 0.9938735922885464, 0.9938735922885464, 0.9938735922885464, 0.9938735922885464, 0.9938735922885464, 0.9938735922885464, 0.9938735922885464, 0.9938735922885464, 0.9938735922885464, 0.9938735922885464, 0.9938735922885464, 0.9938735922885464, 0.9938735922885464, 0.9938735922885464, 0.9938735922885464, 0.9938735922885464, 0.9938735922885464, 0.9938735922885464]}], \"precision_score_macro\": [{\"categories\": [\"0\", \"1\", \"2\", \"7\", \"11\", \"15\", \"16\", \"20\", \"22\", \"23\", \"25\", \"26\", \"27\", \"28\", \"29\", \"30\", \"31\", \"32\", \"33\", \"36\"], \"mode\": \"markers\", \"name\": \"precision_score_macro\", \"stepped\": false, \"type\": \"scatter\", \"data\": [0.9692311328293718, 0.940715463323165, 0.582325187646492, 0.8526721074111393, 0.8029560153287809, 0.6520866446788499, 0.8868706373922239, 0.7650065324863927, 0.8920424855991972, 0.5632711029626779, 0.7182460188414267, 0.6480094069849959, 0.7531883972688985, 0.6541798797458073, 0.9103998912738261, 0.7374865554570466, 0.37501358447319416, 0.48651679976972945, 0.9067273777225161, 0.9682425796065454]}, {\"categories\": [\"0\", \"1\", \"2\", \"7\", \"11\", \"15\", \"16\", \"20\", \"22\", \"23\", \"25\", \"26\", \"27\", \"28\", \"29\", \"30\", \"31\", \"32\", \"33\", \"36\"], \"mode\": \"lines\", \"name\": \"precision_score_macro_max\", \"stepped\": true, \"type\": \"scatter\", \"data\": [0.9692311328293718, 0.9692311328293718, 0.9692311328293718, 0.9692311328293718, 0.9692311328293718, 0.9692311328293718, 0.9692311328293718, 0.9692311328293718, 0.9692311328293718, 0.9692311328293718, 0.9692311328293718, 0.9692311328293718, 0.9692311328293718, 0.9692311328293718, 0.9692311328293718, 0.9692311328293718, 0.9692311328293718, 0.9692311328293718, 0.9692311328293718, 0.9692311328293718]}], \"f1_score_micro\": [{\"categories\": [\"0\", \"1\", \"2\", \"7\", \"11\", \"15\", \"16\", \"20\", \"22\", \"23\", \"25\", \"26\", \"27\", \"28\", \"29\", \"30\", \"31\", \"32\", \"33\", \"36\"], \"mode\": \"markers\", \"name\": \"f1_score_micro\", \"stepped\": false, \"type\": \"scatter\", \"data\": [0.9826328502415459, 0.9745229468599034, 0.8529247181964573, 0.9200905797101449, 0.9085144927536232, 0.8801348631239936, 0.9397846215780997, 0.8963506441223833, 0.9646769323671497, 0.7585487117552335, 0.863924114331723, 0.8720289855072464, 0.9171970611916264, 0.8801368760064411, 0.9664130434782608, 0.90908615136876, 0.7776529790660226, 0.8673882850241545, 0.9079297504025764, 0.9820531400966184]}, {\"categories\": [\"0\", \"1\", \"2\", \"7\", \"11\", \"15\", \"16\", \"20\", \"22\", \"23\", \"25\", \"26\", \"27\", \"28\", \"29\", \"30\", \"31\", \"32\", \"33\", \"36\"], \"mode\": \"lines\", \"name\": \"f1_score_micro_max\", \"stepped\": true, \"type\": \"scatter\", \"data\": [0.9826328502415459, 0.9826328502415459, 0.9826328502415459, 0.9826328502415459, 0.9826328502415459, 0.9826328502415459, 0.9826328502415459, 0.9826328502415459, 0.9826328502415459, 0.9826328502415459, 0.9826328502415459, 0.9826328502415459, 0.9826328502415459, 0.9826328502415459, 0.9826328502415459, 0.9826328502415459, 0.9826328502415459, 0.9826328502415459, 0.9826328502415459, 0.9826328502415459]}], \"matthews_correlation\": [{\"categories\": [\"0\", \"1\", \"2\", \"7\", \"11\", \"15\", \"16\", \"20\", \"22\", \"23\", \"25\", \"26\", \"27\", \"28\", \"29\", \"30\", \"31\", \"32\", \"33\", \"36\"], \"mode\": \"markers\", \"name\": \"matthews_correlation\", \"stepped\": false, \"type\": \"scatter\", \"data\": [0.9624785282073072, 0.9452927806062396, 0.6814283299442803, 0.8233739918931319, 0.8214234983934293, 0.7242715362883511, 0.876558186600349, 0.7742460037142376, 0.923626740409775, 0.5743077378099967, 0.6979631885146714, 0.7150084478874882, 0.8205886953339041, 0.7372608734916883, 0.9276833389009115, 0.7996342419141538, 0.6102790717768256, 0.7166536138867999, 0.7940195908307593, 0.9612778799373269]}, {\"categories\": [\"0\", \"1\", \"2\", \"7\", \"11\", \"15\", \"16\", \"20\", \"22\", \"23\", \"25\", \"26\", \"27\", \"28\", \"29\", \"30\", \"31\", \"32\", \"33\", \"36\"], \"mode\": \"lines\", \"name\": \"matthews_correlation_max\", \"stepped\": true, \"type\": \"scatter\", \"data\": [0.9624785282073072, 0.9624785282073072, 0.9624785282073072, 0.9624785282073072, 0.9624785282073072, 0.9624785282073072, 0.9624785282073072, 0.9624785282073072, 0.9624785282073072, 0.9624785282073072, 0.9624785282073072, 0.9624785282073072, 0.9624785282073072, 0.9624785282073072, 0.9624785282073072, 0.9624785282073072, 0.9624785282073072, 0.9624785282073072, 0.9624785282073072, 0.9624785282073072]}], \"recall_score_weighted\": [{\"categories\": [\"0\", \"1\", \"2\", \"7\", \"11\", \"15\", \"16\", \"20\", \"22\", \"23\", \"25\", \"26\", \"27\", \"28\", \"29\", \"30\", \"31\", \"32\", \"33\", \"36\"], \"mode\": \"markers\", \"name\": \"recall_score_weighted\", \"stepped\": false, \"type\": \"scatter\", \"data\": [0.9826328502415459, 0.9745229468599034, 0.8529247181964573, 0.9200905797101449, 0.9085144927536232, 0.8801348631239936, 0.9397846215780997, 0.8963506441223833, 0.9646769323671497, 0.7585487117552335, 0.863924114331723, 0.8720289855072464, 0.9171970611916264, 0.8801368760064413, 0.9664130434782608, 0.90908615136876, 0.7776529790660226, 0.8673882850241545, 0.9079297504025764, 0.9820531400966184]}, {\"categories\": [\"0\", \"1\", \"2\", \"7\", \"11\", \"15\", \"16\", \"20\", \"22\", \"23\", \"25\", \"26\", \"27\", \"28\", \"29\", \"30\", \"31\", \"32\", \"33\", \"36\"], \"mode\": \"lines\", \"name\": \"recall_score_weighted_max\", \"stepped\": true, \"type\": \"scatter\", \"data\": [0.9826328502415459, 0.9826328502415459, 0.9826328502415459, 0.9826328502415459, 0.9826328502415459, 0.9826328502415459, 0.9826328502415459, 0.9826328502415459, 0.9826328502415459, 0.9826328502415459, 0.9826328502415459, 0.9826328502415459, 0.9826328502415459, 0.9826328502415459, 0.9826328502415459, 0.9826328502415459, 0.9826328502415459, 0.9826328502415459, 0.9826328502415459, 0.9826328502415459]}], \"recall_score_micro\": [{\"categories\": [\"0\", \"1\", \"2\", \"7\", \"11\", \"15\", \"16\", \"20\", \"22\", \"23\", \"25\", \"26\", \"27\", \"28\", \"29\", \"30\", \"31\", \"32\", \"33\", \"36\"], \"mode\": \"markers\", \"name\": \"recall_score_micro\", \"stepped\": false, \"type\": \"scatter\", \"data\": [0.9826328502415459, 0.9745229468599034, 0.8529247181964573, 0.9200905797101449, 0.9085144927536232, 0.8801348631239936, 0.9397846215780997, 0.8963506441223833, 0.9646769323671497, 0.7585487117552335, 0.863924114331723, 0.8720289855072464, 0.9171970611916264, 0.8801368760064413, 0.9664130434782608, 0.90908615136876, 0.7776529790660226, 0.8673882850241545, 0.9079297504025764, 0.9820531400966184]}, {\"categories\": [\"0\", \"1\", \"2\", \"7\", \"11\", \"15\", \"16\", \"20\", \"22\", \"23\", \"25\", \"26\", \"27\", \"28\", \"29\", \"30\", \"31\", \"32\", \"33\", \"36\"], \"mode\": \"lines\", \"name\": \"recall_score_micro_max\", \"stepped\": true, \"type\": \"scatter\", \"data\": [0.9826328502415459, 0.9826328502415459, 0.9826328502415459, 0.9826328502415459, 0.9826328502415459, 0.9826328502415459, 0.9826328502415459, 0.9826328502415459, 0.9826328502415459, 0.9826328502415459, 0.9826328502415459, 0.9826328502415459, 0.9826328502415459, 0.9826328502415459, 0.9826328502415459, 0.9826328502415459, 0.9826328502415459, 0.9826328502415459, 0.9826328502415459, 0.9826328502415459]}]}, \"metricName\": null, \"primaryMetricName\": \"AUC_weighted\", \"showLegend\": false}, \"run_metrics\": [{\"name\": \"experiment_status\", \"run_id\": \"AutoML_e7607ee2-feec-4f46-9104-e3f6a22c2d0a\", \"categories\": [0, 1, 2, 3, 4, 5, 6, 7, 8, 9, 10, 11, 12, 13, 14], \"series\": [{\"data\": [\"DatasetEvaluation\", \"FeaturesGeneration\", \"DatasetFeaturization\", \"DatasetFeaturizationCompleted\", \"DatasetBalancing\", \"DatasetCrossValidationSplit\", \"ModelSelection\", \"BestRunExplainModel\", \"ModelExplanationDataSetSetup\", \"PickSurrogateModel\", \"EngineeredFeatureExplanations\", \"EngineeredFeatureExplanations\", \"RawFeaturesExplanations\", \"RawFeaturesExplanations\", \"BestRunExplainModel\"]}]}, {\"name\": \"experiment_status_description\", \"run_id\": \"AutoML_e7607ee2-feec-4f46-9104-e3f6a22c2d0a\", \"categories\": [0, 1, 2, 3, 4, 5, 6, 7, 8, 9, 10, 11, 12, 13, 14], \"series\": [{\"data\": [\"Gathering dataset statistics.\", \"Generating features for the dataset.\", \"Beginning to fit featurizers and featurize the dataset.\", \"Completed fit featurizers and featurizing the dataset.\", \"Performing class balancing sweeping\", \"Generating individually featurized CV splits.\", \"Beginning model selection.\", \"Best run model explanations started\", \"Model explanations data setup completed\", \"Choosing LightGBM as the surrogate model for explanations\", \"Computation of engineered features started\", \"Computation of engineered features completed\", \"Computation of raw features started\", \"Computation of raw features completed\", \"Best run model explanations completed\"]}]}, {\"name\": \"f1_score_weighted\", \"run_id\": \"AutoML_e7607ee2-feec-4f46-9104-e3f6a22c2d0a\", \"categories\": [0], \"series\": [{\"data\": [0.9817880661569424]}]}, {\"name\": \"f1_score_macro\", \"run_id\": \"AutoML_e7607ee2-feec-4f46-9104-e3f6a22c2d0a\", \"categories\": [0], \"series\": [{\"data\": [0.9598998893883487]}]}, {\"name\": \"weighted_accuracy\", \"run_id\": \"AutoML_e7607ee2-feec-4f46-9104-e3f6a22c2d0a\", \"categories\": [0], \"series\": [{\"data\": [0.987139240424933]}]}, {\"name\": \"average_precision_score_micro\", \"run_id\": \"AutoML_e7607ee2-feec-4f46-9104-e3f6a22c2d0a\", \"categories\": [0], \"series\": [{\"data\": [0.9980518394249254]}]}, {\"name\": \"recall_score_micro\", \"run_id\": \"AutoML_e7607ee2-feec-4f46-9104-e3f6a22c2d0a\", \"categories\": [0], \"series\": [{\"data\": [0.9820531400966184]}]}, {\"name\": \"AUC_micro\", \"run_id\": \"AutoML_e7607ee2-feec-4f46-9104-e3f6a22c2d0a\", \"categories\": [0], \"series\": [{\"data\": [0.9993397414983672]}]}, {\"name\": \"AUC_weighted\", \"run_id\": \"AutoML_e7607ee2-feec-4f46-9104-e3f6a22c2d0a\", \"categories\": [0], \"series\": [{\"data\": [0.9988113756706959]}]}, {\"name\": \"average_precision_score_weighted\", \"run_id\": \"AutoML_e7607ee2-feec-4f46-9104-e3f6a22c2d0a\", \"categories\": [0], \"series\": [{\"data\": [0.9967160465021668]}]}, {\"name\": \"log_loss\", \"run_id\": \"AutoML_e7607ee2-feec-4f46-9104-e3f6a22c2d0a\", \"categories\": [0], \"series\": [{\"data\": [0.06861488869810298]}]}, {\"name\": \"accuracy\", \"run_id\": \"AutoML_e7607ee2-feec-4f46-9104-e3f6a22c2d0a\", \"categories\": [0], \"series\": [{\"data\": [0.9820531400966184]}]}, {\"name\": \"precision_score_macro\", \"run_id\": \"AutoML_e7607ee2-feec-4f46-9104-e3f6a22c2d0a\", \"categories\": [0], \"series\": [{\"data\": [0.9682425796065454]}]}, {\"name\": \"precision_score_weighted\", \"run_id\": \"AutoML_e7607ee2-feec-4f46-9104-e3f6a22c2d0a\", \"categories\": [0], \"series\": [{\"data\": [0.9825865565863464]}]}, {\"name\": \"AUC_macro\", \"run_id\": \"AutoML_e7607ee2-feec-4f46-9104-e3f6a22c2d0a\", \"categories\": [0], \"series\": [{\"data\": [0.9989780423883347]}]}, {\"name\": \"f1_score_micro\", \"run_id\": \"AutoML_e7607ee2-feec-4f46-9104-e3f6a22c2d0a\", \"categories\": [0], \"series\": [{\"data\": [0.9820531400966184]}]}, {\"name\": \"norm_macro_recall\", \"run_id\": \"AutoML_e7607ee2-feec-4f46-9104-e3f6a22c2d0a\", \"categories\": [0], \"series\": [{\"data\": [0.9413363948552544]}]}, {\"name\": \"recall_score_macro\", \"run_id\": \"AutoML_e7607ee2-feec-4f46-9104-e3f6a22c2d0a\", \"categories\": [0], \"series\": [{\"data\": [0.9560022961414408]}]}, {\"name\": \"recall_score_weighted\", \"run_id\": \"AutoML_e7607ee2-feec-4f46-9104-e3f6a22c2d0a\", \"categories\": [0], \"series\": [{\"data\": [0.9820531400966184]}]}, {\"name\": \"balanced_accuracy\", \"run_id\": \"AutoML_e7607ee2-feec-4f46-9104-e3f6a22c2d0a\", \"categories\": [0], \"series\": [{\"data\": [0.9560022961414408]}]}, {\"name\": \"average_precision_score_macro\", \"run_id\": \"AutoML_e7607ee2-feec-4f46-9104-e3f6a22c2d0a\", \"categories\": [0], \"series\": [{\"data\": [0.9922167841232614]}]}, {\"name\": \"precision_score_micro\", \"run_id\": \"AutoML_e7607ee2-feec-4f46-9104-e3f6a22c2d0a\", \"categories\": [0], \"series\": [{\"data\": [0.9820531400966184]}]}, {\"name\": \"matthews_correlation\", \"run_id\": \"AutoML_e7607ee2-feec-4f46-9104-e3f6a22c2d0a\", \"categories\": [0], \"series\": [{\"data\": [0.9612778799373269]}]}], \"run_logs\": \"\\nRun is completed.\", \"graph\": {}, \"widget_settings\": {\"childWidgetDisplay\": \"popup\", \"send_telemetry\": false, \"log_level\": \"INFO\", \"sdk_version\": \"1.51.0\"}, \"loading\": false}"
     },
     "metadata": {},
     "output_type": "display_data"
    }
   ],
   "source": [
    "RunDetails(remote_run).show()"
   ]
  },
  {
   "cell_type": "markdown",
   "metadata": {},
   "source": [
    "## Best Model\n",
    "\n",
    "TODO: In the cell below, get the best model from the automl experiments and display all the properties of the model.\n",
    "\n"
   ]
  },
  {
   "cell_type": "code",
   "execution_count": 9,
   "metadata": {
    "gather": {
     "logged": 1691627638863
    },
    "jupyter": {
     "outputs_hidden": true,
     "source_hidden": false
    },
    "nteract": {
     "transient": {
      "deleting": false
     }
    }
   },
   "outputs": [
    {
     "data": {
      "text/html": [
       "<table style=\"width:100%\"><tr><th>Experiment</th><th>Id</th><th>Type</th><th>Status</th><th>Details Page</th><th>Docs Page</th></tr><tr><td>auto-ml</td><td>AutoML_e7607ee2-feec-4f46-9104-e3f6a22c2d0a</td><td>automl</td><td>Completed</td><td><a href=\"https://ml.azure.com/runs/AutoML_e7607ee2-feec-4f46-9104-e3f6a22c2d0a?wsid=/subscriptions/6971f5ac-8af1-446e-8034-05acea24681f/resourcegroups/aml-quickstarts-240014/workspaces/quick-starts-ws-240014&amp;tid=660b3398-b80e-49d2-bc5b-ac1dc93b5254\" target=\"_blank\" rel=\"noopener\">Link to Azure Machine Learning studio</a></td><td><a href=\"https://docs.microsoft.com/en-us/python/api/overview/azure/ml/intro?view=azure-ml-py\" target=\"_blank\" rel=\"noopener\">Link to Documentation</a></td></tr></table>"
      ]
     },
     "metadata": {},
     "output_type": "display_data"
    },
    {
     "name": "stdout",
     "output_type": "stream",
     "text": [
      "\n",
      "\n",
      "********************************************************************************************\n",
      "DATA GUARDRAILS: \n",
      "\n",
      "TYPE:         Cross validation\n",
      "STATUS:       DONE\n",
      "DESCRIPTION:  In order to accurately evaluate the model(s) trained by AutoML, we leverage a dataset that the model is not trained on. Hence, if the user doesn't provide an explicit validation dataset, a part of the training dataset is used to achieve this. For smaller datasets (fewer than 20,000 samples), cross-validation is leveraged, else a single hold-out set is split from the training data to serve as the validation dataset. Hence, for your input data we leverage cross-validation with 10 folds, if the number of training samples are fewer than 1000, and 3 folds in all other cases.\n",
      "              Learn more about cross validation: https://aka.ms/AutomatedMLCrossValidation\n",
      "DETAILS:      \n",
      "+------------------------------+\n",
      "|Number of folds               |\n",
      "+==============================+\n",
      "|3                             |\n",
      "+------------------------------+\n",
      "\n",
      "********************************************************************************************\n",
      "\n",
      "TYPE:         Class balancing detection\n",
      "STATUS:       ALERTED\n",
      "DESCRIPTION:  To decrease model bias, please cancel the current run and fix balancing problem.\n",
      "              Learn more about imbalanced data: https://aka.ms/AutomatedMLImbalancedData\n",
      "DETAILS:      Imbalanced data can lead to a falsely perceived positive effect of a model's accuracy because the input data has bias towards one class.\n",
      "+------------------------------+--------------------------------+--------------------------------------+\n",
      "|Size of the smallest class    |Name/Label of the smallest class|Number of samples in the training data|\n",
      "+==============================+================================+======================================+\n",
      "|65                            |vgood                           |1727                                  |\n",
      "+------------------------------+--------------------------------+--------------------------------------+\n",
      "\n",
      "********************************************************************************************\n",
      "\n",
      "TYPE:         Missing feature values imputation\n",
      "STATUS:       PASSED\n",
      "DESCRIPTION:  No feature missing values were detected in the training data.\n",
      "              Learn more about missing value imputation: https://aka.ms/AutomatedMLFeaturization\n",
      "\n",
      "********************************************************************************************\n",
      "\n",
      "TYPE:         High cardinality feature detection\n",
      "STATUS:       PASSED\n",
      "DESCRIPTION:  Your inputs were analyzed, and no high cardinality features were detected.\n",
      "              Learn more about high cardinality feature handling: https://aka.ms/AutomatedMLFeaturization\n",
      "\n",
      "********************************************************************************************\n",
      "\n",
      "********************************************************************************************\n",
      "ITER: The iteration being evaluated.\n",
      "PIPELINE: A summary description of the pipeline being evaluated.\n",
      "DURATION: Time taken for the current iteration.\n",
      "METRIC: The result of computing score on the fitted pipeline.\n",
      "BEST: The best observed score thus far.\n",
      "********************************************************************************************\n",
      "\n",
      " ITER   PIPELINE                                       DURATION            METRIC      BEST\n",
      "    0   MaxAbsScaler LightGBM                          0:00:33             0.9988    0.9988\n",
      "    1   MaxAbsScaler XGBoostClassifier                 0:00:31             0.9986    0.9988\n",
      "    2   MaxAbsScaler ExtremeRandomTrees                0:00:28             0.9692    0.9988\n",
      "    3   MaxAbsScaler RandomForest                      0:00:28             0.9800    0.9988\n",
      "    4   StandardScalerWrapper LightGBM                 0:00:28             0.9717    0.9988\n",
      "    5   SparseNormalizer XGBoostClassifier             0:00:27             0.9947    0.9988\n",
      "    6   SparseNormalizer RandomForest                  0:00:26             0.9784    0.9988\n",
      "    7   StandardScalerWrapper XGBoostClassifier        0:00:25             0.9903    0.9988\n",
      "   10   SparseNormalizer LightGBM                      0:00:27             0.9745    0.9988\n",
      "   11   MaxAbsScaler ExtremeRandomTrees                0:00:31             0.9857    0.9988\n",
      "    8   SparseNormalizer XGBoostClassifier             0:00:25             0.9952    0.9988\n",
      "    9   MaxAbsScaler RandomForest                      0:00:25             0.9431    0.9988\n",
      "   12   StandardScalerWrapper XGBoostClassifier        0:00:26             0.9951    0.9988\n",
      "   13   StandardScalerWrapper ExtremeRandomTrees       0:00:26             0.9808    0.9988\n",
      "   14   StandardScalerWrapper RandomForest             0:00:31             0.9954    0.9988\n",
      "   15   MaxAbsScaler LightGBM                          0:00:32             0.9859    0.9988\n",
      "   16   MaxAbsScaler LogisticRegression                0:00:31             0.9886    0.9988\n",
      "   17   StandardScalerWrapper ExtremeRandomTrees       0:00:31             0.9468    0.9988\n",
      "   18   StandardScalerWrapper XGBoostClassifier        0:00:29             0.9943    0.9988\n",
      "   19   MaxAbsScaler ExtremeRandomTrees                0:00:31             0.9833    0.9988\n",
      "   20   MaxAbsScaler LogisticRegression                0:00:44             0.9831    0.9988\n",
      "   21   StandardScalerWrapper XGBoostClassifier        0:02:16             0.9945    0.9988\n",
      "   22   StandardScalerWrapper XGBoostClassifier        0:00:45             0.9979    0.9988\n",
      "   23   MaxAbsScaler RandomForest                      0:00:47             0.9424    0.9988\n",
      "   24   MaxAbsScaler LightGBM                          0:00:45             0.9844    0.9988\n",
      "   25   MaxAbsScaler LinearSVM                         0:00:43             0.9791    0.9988\n",
      "   26   StandardScalerWrapper LightGBM                 0:00:49             0.9793    0.9988\n",
      "   27   MaxAbsScaler LightGBM                          0:00:48             0.9925    0.9988\n",
      "   28   SparseNormalizer LightGBM                      0:00:44             0.9818    0.9988\n",
      "   29   SparseNormalizer XGBoostClassifier             0:00:43             0.9966    0.9988\n",
      "   30   StandardScalerWrapper LightGBM                 0:00:50             0.9887    0.9988\n",
      "   31   StandardScalerWrapper XGBoostClassifier        0:00:49             0.9232    0.9988\n",
      "   32   StandardScalerWrapper XGBoostClassifier        0:00:46             0.9779    0.9988\n",
      "   33   StandardScalerWrapper XGBoostClassifier        0:00:47             0.9925    0.9988\n",
      "ERROR: {\n",
      "    \"additional_properties\": {},\n",
      "    \"error\": {\n",
      "        \"additional_properties\": {\n",
      "            \"debugInfo\": null\n",
      "        },\n",
      "        \"code\": \"UserError\",\n",
      "        \"severity\": null,\n",
      "        \"message\": \"Unexpected User Error\",\n",
      "        \"message_format\": null,\n",
      "        \"message_parameters\": null,\n",
      "        \"reference_code\": null,\n",
      "        \"details_uri\": null,\n",
      "        \"target\": null,\n",
      "        \"details\": [],\n",
      "        \"inner_error\": null,\n",
      "        \"additional_info\": null\n",
      "    },\n",
      "    \"correlation\": {\n",
      "        \"operation\": \"59d866975095efe5db8d965d44cbfb71\",\n",
      "        \"request\": \"8f070e7f6d101e8e\"\n",
      "    },\n",
      "    \"environment\": \"westus2\",\n",
      "    \"location\": \"westus2\",\n",
      "    \"time\": {},\n",
      "    \"component_name\": \"GlobalJobDispatcher\"\n",
      "}\n",
      "   34   StandardScalerWrapper XGBoostClassifier        0:00:36                nan    0.9988\n",
      "ERROR: {\n",
      "    \"additional_properties\": {},\n",
      "    \"error\": {\n",
      "        \"additional_properties\": {\n",
      "            \"debugInfo\": null\n",
      "        },\n",
      "        \"code\": \"UserError\",\n",
      "        \"severity\": null,\n",
      "        \"message\": \"Unexpected User Error\",\n",
      "        \"message_format\": null,\n",
      "        \"message_parameters\": null,\n",
      "        \"reference_code\": null,\n",
      "        \"details_uri\": null,\n",
      "        \"target\": null,\n",
      "        \"details\": [],\n",
      "        \"inner_error\": null,\n",
      "        \"additional_info\": null\n",
      "    },\n",
      "    \"correlation\": {\n",
      "        \"operation\": \"21633fffe78f10fc73159c2d0b6ebe21\",\n",
      "        \"request\": \"ac8953c1606be7e8\"\n",
      "    },\n",
      "    \"environment\": \"westus2\",\n",
      "    \"location\": \"westus2\",\n",
      "    \"time\": {},\n",
      "    \"component_name\": \"GlobalJobDispatcher\"\n",
      "}\n",
      "   35                                                  0:00:06                nan    0.9988\n",
      "   36    VotingEnsemble                                0:01:08             0.9988    0.9988\n",
      "{'runTemplate': 'automl_child', 'pipeline_id': '__AutoML_Ensemble__', 'pipeline_spec': '{\"pipeline_id\":\"__AutoML_Ensemble__\",\"objects\":[{\"module\":\"azureml.train.automl.ensemble\",\"class_name\":\"Ensemble\",\"spec_class\":\"sklearn\",\"param_args\":[],\"param_kwargs\":{\"automl_settings\":\"{\\'task_type\\':\\'classification\\',\\'primary_metric\\':\\'AUC_weighted\\',\\'verbosity\\':20,\\'ensemble_iterations\\':15,\\'is_timeseries\\':False,\\'name\\':\\'auto-ml\\',\\'compute_target\\':\\'auto-ml\\',\\'subscription_id\\':\\'6971f5ac-8af1-446e-8034-05acea24681f\\',\\'region\\':\\'westus2\\',\\'spark_service\\':None}\",\"ensemble_run_id\":\"AutoML_e7607ee2-feec-4f46-9104-e3f6a22c2d0a_36\",\"experiment_name\":\"auto-ml\",\"workspace_name\":\"quick-starts-ws-240014\",\"subscription_id\":\"6971f5ac-8af1-446e-8034-05acea24681f\",\"resource_group_name\":\"aml-quickstarts-240014\"}}]}', 'training_percent': '100', 'predicted_cost': None, 'iteration': '36', '_aml_system_scenario_identification': 'Remote.Child', '_azureml.ComputeTargetType': 'amlctrain', 'ContentSnapshotId': '4a999628-6e6c-43ea-9d01-5f82facea07a', 'ProcessInfoFile': 'azureml-logs/process_info.json', 'ProcessStatusFile': 'azureml-logs/process_status.json', 'run_preprocessor': '', 'run_algorithm': 'VotingEnsemble', 'ensembled_iterations': '[0, 1, 22, 29, 14]', 'ensembled_algorithms': \"['LightGBM', 'XGBoostClassifier', 'XGBoostClassifier', 'XGBoostClassifier', 'RandomForest']\", 'ensembled_run_ids': \"['AutoML_e7607ee2-feec-4f46-9104-e3f6a22c2d0a_0', 'AutoML_e7607ee2-feec-4f46-9104-e3f6a22c2d0a_1', 'AutoML_e7607ee2-feec-4f46-9104-e3f6a22c2d0a_22', 'AutoML_e7607ee2-feec-4f46-9104-e3f6a22c2d0a_29', 'AutoML_e7607ee2-feec-4f46-9104-e3f6a22c2d0a_14']\", 'ensemble_weights': '[0.6666666666666666, 0.06666666666666667, 0.13333333333333333, 0.06666666666666667, 0.06666666666666667]', 'best_individual_pipeline_score': '0.9987787177700516', 'best_individual_iteration': '0', 'model_output_path': 'outputs/model.pkl', 'conda_env_data_location': 'aml://artifact/ExperimentRun/dcid.AutoML_e7607ee2-feec-4f46-9104-e3f6a22c2d0a_36/outputs/conda_env_v_1_0_0.yml', 'model_data_location': 'aml://artifact/ExperimentRun/dcid.AutoML_e7607ee2-feec-4f46-9104-e3f6a22c2d0a_36/outputs/model.pkl', 'model_size_on_disk': '7370499', 'scoring_data_location': 'aml://artifact/ExperimentRun/dcid.AutoML_e7607ee2-feec-4f46-9104-e3f6a22c2d0a_36/outputs/scoring_file_v_1_0_0.py', 'scoring_data_location_v2': 'aml://artifact/ExperimentRun/dcid.AutoML_e7607ee2-feec-4f46-9104-e3f6a22c2d0a_36/outputs/scoring_file_v_2_0_0.py', 'scoring_data_location_pbi': 'aml://artifact/ExperimentRun/dcid.AutoML_e7607ee2-feec-4f46-9104-e3f6a22c2d0a_36/outputs/scoring_file_pbi_v_1_0_0.py', 'model_exp_support': 'True', 'pipeline_graph_version': '1.0.0', 'model_name': 'AutoMLe7607ee2f36', 'score': '0.9988113756706959', 'score_table': 'NaN', 'run_properties': 'classification_labels=numpy.array([0, 1, 2, 3]', 'pipeline_script': '{\"pipeline_id\":\"__AutoML_Ensemble__\",\"objects\":[{\"module\":\"azureml.train.automl.ensemble\",\"class_name\":\"Ensemble\",\"spec_class\":\"sklearn\",\"param_args\":[],\"param_kwargs\":{\"automl_settings\":\"{\\'task_type\\':\\'classification\\',\\'primary_metric\\':\\'AUC_weighted\\',\\'verbosity\\':20,\\'ensemble_iterations\\':15,\\'is_timeseries\\':False,\\'name\\':\\'auto-ml\\',\\'compute_target\\':\\'auto-ml\\',\\'subscription_id\\':\\'6971f5ac-8af1-446e-8034-05acea24681f\\',\\'region\\':\\'westus2\\',\\'spark_service\\':None}\",\"ensemble_run_id\":\"AutoML_e7607ee2-feec-4f46-9104-e3f6a22c2d0a_36\",\"experiment_name\":\"auto-ml\",\"workspace_name\":\"quick-starts-ws-240014\",\"subscription_id\":\"6971f5ac-8af1-446e-8034-05acea24681f\",\"resource_group_name\":\"aml-quickstarts-240014\"}}]}', 'training_type': 'MeanCrossValidation', 'fit_time': '24', 'goal': 'AUC_weighted_max', 'primary_metric': 'AUC_weighted', 'errors': '{}', 'onnx_model_resource': \"{'RawColumnNameToOnnxNameMap': {'buying': 'buying', 'maint': 'maint', 'doors': 'doors', 'persons': 'persons', 'lug_boot': 'lug_boot', 'safety': 'safety'}, 'InputRawColumnSchema': {'buying': 'string', 'maint': 'string', 'doors': 'string', 'persons': 'string', 'lug_boot': 'string', 'safety': 'string'}, 'InputOnnxColumnSchema': {'buying': 'StringTensorType', 'maint': 'StringTensorType', 'doors': 'StringTensorType', 'persons': 'StringTensorType', 'lug_boot': 'StringTensorType', 'safety': 'StringTensorType'}, 'CanEnableBatchMode': True}\", 'dependencies_versions': '{\"azureml-dataprep-native\": \"38.0.0\", \"azureml-dataprep\": \"4.11.4\", \"azureml-dataprep-rslex\": \"2.18.4\", \"azureml-automl-runtime\": \"1.52.0.post1\", \"azureml-automl-core\": \"1.52.0.post1\", \"azureml-responsibleai\": \"1.52.0\", \"azureml-pipeline-core\": \"1.52.0\", \"azureml-interpret\": \"1.52.0\", \"azureml-train-restclients-hyperdrive\": \"1.52.0\", \"azureml-defaults\": \"1.52.0\", \"azureml-core\": \"1.52.0\", \"azureml-telemetry\": \"1.52.0\", \"azureml-mlflow\": \"1.52.0\", \"azureml-dataset-runtime\": \"1.52.0\", \"azureml-train-automl-runtime\": \"1.52.0\", \"azureml-training-tabular\": \"1.52.0\", \"azureml-train-core\": \"1.52.0\", \"azureml-train-automl-client\": \"1.52.0\", \"azureml-inference-server-http\": \"0.8.4\"}', 'num_cores': '2', 'num_logical_cores': '2', 'peak_memory_usage': '1263252', 'vm_configuration': 'x86_64', 'core_hours': '0.011310863055555556', 'feature_skus': 'automatedml_sdk_guardrails'}\n"
     ]
    }
   ],
   "source": [
    "#Wait for the AutoML run to complete\n",
    "remote_run.wait_for_completion(show_output=True)\n",
    "\n",
    "#\"best_run\" contains the run object(model, metrics, and run ID)\n",
    "#\"onnx_model\" contains the actual trained model object with onnx format\n",
    "best_run, onnx_mdl = remote_run.get_output(return_onnx_model=True)\n",
    "\n",
    "#\"best_run_metrics\" contains a dictionary of the metrics associated with the best run.\n",
    "best_run_metrics = best_run.get_metrics()\n",
    "\n",
    "# Display all the properties of the best model\n",
    "print(best_run.get_properties())\n"
   ]
  },
  {
   "cell_type": "code",
   "execution_count": 18,
   "metadata": {
    "gather": {
     "logged": 1691632586603
    },
    "jupyter": {
     "outputs_hidden": false,
     "source_hidden": false
    },
    "nteract": {
     "transient": {
      "deleting": false
     }
    }
   },
   "outputs": [
    {
     "name": "stdout",
     "output_type": "stream",
     "text": [
      "model name\n",
      "AutoMLe7607ee2f36\n",
      "best run id\n",
      "AutoML_e7607ee2-feec-4f46-9104-e3f6a22c2d0a_36\n",
      "best run metrics\n",
      "{'matthews_correlation': 0.9612778799373269, 'precision_score_macro': 0.9682425796065454, 'norm_macro_recall': 0.9413363948552544, 'recall_score_macro': 0.9560022961414408, 'balanced_accuracy': 0.9560022961414408, 'precision_score_micro': 0.9820531400966184, 'recall_score_micro': 0.9820531400966184, 'f1_score_micro': 0.9820531400966184, 'recall_score_weighted': 0.9820531400966184, 'average_precision_score_micro': 0.9980518394249254, 'f1_score_macro': 0.9598998893883487, 'accuracy': 0.9820531400966184, 'precision_score_weighted': 0.9825865565863464, 'weighted_accuracy': 0.987139240424933, 'AUC_weighted': 0.9988113756706959, 'average_precision_score_weighted': 0.9967160465021668, 'log_loss': 0.06861488869810298, 'f1_score_weighted': 0.9817880661569424, 'AUC_micro': 0.9993397414983672, 'AUC_macro': 0.9989780423883347, 'average_precision_score_macro': 0.9922167841232614, 'confusion_matrix': 'aml://artifactId/ExperimentRun/dcid.AutoML_e7607ee2-feec-4f46-9104-e3f6a22c2d0a_36/confusion_matrix', 'accuracy_table': 'aml://artifactId/ExperimentRun/dcid.AutoML_e7607ee2-feec-4f46-9104-e3f6a22c2d0a_36/accuracy_table'}\n",
      "best run experiment\n",
      "Experiment(Name: auto-ml,\n",
      "Workspace: quick-starts-ws-240014)\n"
     ]
    }
   ],
   "source": [
    "print('model name')\n",
    "print(best_run.properties['model_name'])\n",
    "print('best run id')\n",
    "print(best_run.id)\n",
    "print(\"best run metrics\")\n",
    "print(best_run.get_metrics())\n",
    "print('best run experiment')\n",
    "print(best_run.experiment)"
   ]
  },
  {
   "cell_type": "code",
   "execution_count": 21,
   "metadata": {
    "gather": {
     "logged": 1691633688314
    },
    "jupyter": {
     "outputs_hidden": false,
     "source_hidden": false
    },
    "nteract": {
     "transient": {
      "deleting": false
     }
    }
   },
   "outputs": [],
   "source": [
    "#TODO: Save the best model\n",
    "# Save the best ONNX model\n",
    "\n",
    "onnx_fl_path = \"./automl_best_model.onnx\"\n",
    "OnnxConverter.save_onnx_model(onnx_mdl, onnx_fl_path)\n"
   ]
  },
  {
   "cell_type": "markdown",
   "metadata": {},
   "source": [
    "## Model Deployment\n",
    "\n",
    "Remember you have to deploy only one of the two models you trained but you still need to register both the models. Perform the steps in the rest of this notebook only if you wish to deploy this model.\n",
    "\n",
    "TODO: In the cell below, register the model, create an inference config and deploy the model as a web service."
   ]
  },
  {
   "cell_type": "code",
   "execution_count": 22,
   "metadata": {
    "gather": {
     "logged": 1691633696766
    },
    "jupyter": {
     "outputs_hidden": false,
     "source_hidden": false
    },
    "nteract": {
     "transient": {
      "deleting": false
     }
    }
   },
   "outputs": [
    {
     "name": "stdout",
     "output_type": "stream",
     "text": [
      "AutoMLe7607ee2f36\n"
     ]
    }
   ],
   "source": [
    "model_name = best_run.properties[\"model_name\"]\n",
    "script_file_name = \"inference/score.py\"\n",
    "best_run.download_file(\"outputs/scoring_file_v_1_0_0.py\", \"inference/score.py\")\n",
    "\n",
    "description = \"AutoML Model trained on car evaluation data to predict if a car is acceptable\"\n",
    "tags = None\n",
    "model = remote_run.register_model(\n",
    "    model_name=model_name, description=description, tags=tags\n",
    ")\n",
    "\n",
    "print(\n",
    "    remote_run.model_id\n",
    ")  # This will be written to the script file later in the notebook."
   ]
  },
  {
   "cell_type": "code",
   "execution_count": 12,
   "metadata": {
    "gather": {
     "logged": 1690943918330
    },
    "jupyter": {
     "outputs_hidden": false,
     "source_hidden": false
    },
    "nteract": {
     "transient": {
      "deleting": false
     }
    }
   },
   "outputs": [
    {
     "name": "stdout",
     "output_type": "stream",
     "text": [
      "automle7f3975740\n",
      "Tips: You can try get_logs(): https://aka.ms/debugimage#dockerlog or local deployment: https://aka.ms/debugimage#debug-locally to debug if deployment takes longer than 10 minutes.\n",
      "Running\n",
      "2023-08-02 02:25:56+00:00 Creating Container Registry if not exists..\n",
      "2023-08-02 02:35:57+00:00 Registering the environment.\n",
      "2023-08-02 02:35:57+00:00 Use the existing image.\n",
      "2023-08-02 02:35:58+00:00 Submitting deployment to compute..\n",
      "2023-08-02 02:36:04+00:00 Checking the status of deployment automle7f3975740..\n",
      "2023-08-02 02:38:29+00:00 Checking the status of inference endpoint automle7f3975740.\n",
      "Succeeded\n",
      "ACI service creation operation finished, operation \"Succeeded\"\n",
      "Healthy\n"
     ]
    }
   ],
   "source": [
    "inference_config = InferenceConfig(\n",
    "    environment=best_run.get_environment(), entry_script=script_file_name\n",
    ")\n",
    "\n",
    "aciconfig = AciWebservice.deploy_configuration(\n",
    "    cpu_cores=2,\n",
    "    memory_gb=2,\n",
    "    tags={\"area\": \"bmData\", \"type\": \"automl_classification\"},\n",
    "    description=\"sample service for Automl Classification\",\n",
    ")\n",
    "\n",
    "aci_service_name = model_name.lower()\n",
    "print(aci_service_name)\n",
    "aci_service = Model.deploy(ws, aci_service_name, [model], inference_config, aciconfig)\n",
    "aci_service.wait_for_deployment(True)\n",
    "print(aci_service.state)\n",
    "\n"
   ]
  },
  {
   "cell_type": "markdown",
   "metadata": {
    "collapsed": true,
    "gather": {
     "logged": 1598431657736
    },
    "jupyter": {
     "outputs_hidden": false,
     "source_hidden": false
    },
    "nteract": {
     "transient": {
      "deleting": false
     }
    }
   },
   "source": [
    "TODO: In the cell below, send a request to the web service you deployed to test it."
   ]
  },
  {
   "cell_type": "code",
   "execution_count": 15,
   "metadata": {
    "gather": {
     "logged": 1690944693263
    }
   },
   "outputs": [],
   "source": [
    "# endpoint url of Web service\n",
    "scoring_uri = aci_service.scoring_uri\n",
    "\n",
    "# create request data\n",
    "input_data = {\n",
    "    \"data\": [\n",
    "        {\"buying\":\"low\",\n",
    "         \"maint\":\"low\",\n",
    "         \"doors\":\"2\",\n",
    "         \"persons\":\"2\",\n",
    "         \"lug_boot\":\"small\",\n",
    "         \"safety\":\"low\"}\n",
    "    ]}\n",
    "\n",
    "input_json = json.dumps(input_data)\n",
    "\n",
    "# Post request\n",
    "headers = {'Content-Type': 'application/json'}\n",
    "response = requests.post(scoring_uri, input_json, headers=headers)\n",
    "\n",
    "# get response\n",
    "predictions = response.json()"
   ]
  },
  {
   "cell_type": "code",
   "execution_count": 17,
   "metadata": {
    "gather": {
     "logged": 1690944807247
    },
    "jupyter": {
     "outputs_hidden": false,
     "source_hidden": false
    },
    "nteract": {
     "transient": {
      "deleting": false
     }
    }
   },
   "outputs": [
    {
     "name": "stdout",
     "output_type": "stream",
     "text": [
      "{\"result\": [\"unacc\"]}\n"
     ]
    }
   ],
   "source": [
    "print(predictions)"
   ]
  },
  {
   "cell_type": "markdown",
   "metadata": {
    "collapsed": true,
    "gather": {
     "logged": 1598432765711
    },
    "jupyter": {
     "outputs_hidden": false,
     "source_hidden": false
    },
    "nteract": {
     "transient": {
      "deleting": false
     }
    }
   },
   "source": [
    "TODO: In the cell below, print the logs of the web service and delete the service"
   ]
  },
  {
   "cell_type": "code",
   "execution_count": 16,
   "metadata": {
    "gather": {
     "logged": 1690944705275
    }
   },
   "outputs": [
    {
     "name": "stdout",
     "output_type": "stream",
     "text": [
      "2023-08-02T02:38:13,326604400+00:00 - rsyslog/run \n",
      "2023-08-02T02:38:13,330469200+00:00 - gunicorn/run \n",
      "2023-08-02T02:38:13,334848400+00:00 | gunicorn/run | \n",
      "2023-08-02T02:38:13,340475200+00:00 | gunicorn/run | ###############################################\n",
      "2023-08-02T02:38:13,343211000+00:00 | gunicorn/run | AzureML Container Runtime Information\n",
      "2023-08-02T02:38:13,345343200+00:00 - nginx/run \n",
      "2023-08-02T02:38:13,347683600+00:00 | gunicorn/run | ###############################################\n",
      "2023-08-02T02:38:13,351964900+00:00 | gunicorn/run | \n",
      "2023-08-02T02:38:13,359308100+00:00 | gunicorn/run | \n",
      "2023-08-02T02:38:13,370304300+00:00 | gunicorn/run | AzureML image information: openmpi4.1.0-ubuntu20.04, Materializaton Build:20230628.v2\n",
      "2023-08-02T02:38:13,373733600+00:00 | gunicorn/run | \n",
      "2023-08-02T02:38:13,379488600+00:00 | gunicorn/run | \n",
      "2023-08-02T02:38:13,384296600+00:00 | gunicorn/run | PATH environment variable: /azureml-envs/azureml-automl/bin:/opt/miniconda/bin:/usr/local/sbin:/usr/local/bin:/usr/sbin:/usr/bin:/sbin:/bin\n",
      "2023-08-02T02:38:13,389316300+00:00 | gunicorn/run | PYTHONPATH environment variable: \n",
      "2023-08-02T02:38:13,395309800+00:00 | gunicorn/run | \n",
      "2023-08-02T02:38:14,362383200+00:00 | gunicorn/run | CONDAPATH environment variable: /opt/miniconda\n",
      "\n",
      "# conda environments:\n",
      "#\n",
      "                         /azureml-envs/azureml-automl\n",
      "base                     /opt/miniconda\n",
      "\n",
      "2023-08-02T02:38:15,450958419+00:00 | gunicorn/run | \n",
      "2023-08-02T02:38:15,452713618+00:00 | gunicorn/run | Pip Dependencies (before dynamic installation)\n",
      "\n",
      "adal==1.2.7\n",
      "applicationinsights==0.11.10\n",
      "arch==5.3.1\n",
      "argcomplete==2.1.2\n",
      "argon2-cffi==21.3.0\n",
      "argon2-cffi-bindings==21.2.0\n",
      "asttokens==2.2.1\n",
      "attrs==23.1.0\n",
      "azure-common==1.1.28\n",
      "azure-core==1.27.1\n",
      "azure-graphrbac==0.61.1\n",
      "azure-identity==1.13.0\n",
      "azure-mgmt-authorization==3.0.0\n",
      "azure-mgmt-containerregistry==10.1.0\n",
      "azure-mgmt-core==1.4.0\n",
      "azure-mgmt-keyvault==10.2.2\n",
      "azure-mgmt-resource==22.0.0\n",
      "azure-mgmt-storage==21.0.0\n",
      "azure-storage-blob==12.13.0\n",
      "azure-storage-queue==12.6.0\n",
      "azureml-automl-core==1.52.0.post1\n",
      "azureml-automl-runtime==1.52.0.post1\n",
      "azureml-core==1.52.0\n",
      "azureml-dataprep==4.11.4\n",
      "azureml-dataprep-native==38.0.0\n",
      "azureml-dataprep-rslex==2.18.4\n",
      "azureml-dataset-runtime==1.52.0\n",
      "azureml-defaults==1.52.0\n",
      "azureml-inference-server-http==0.8.4\n",
      "azureml-interpret==1.52.0\n",
      "azureml-mlflow==1.52.0\n",
      "azureml-pipeline-core==1.52.0\n",
      "azureml-responsibleai==1.52.0\n",
      "azureml-telemetry==1.52.0\n",
      "azureml-train-automl-client==1.52.0\n",
      "azureml-train-automl-runtime==1.52.0\n",
      "azureml-train-core==1.52.0\n",
      "azureml-train-restclients-hyperdrive==1.52.0\n",
      "azureml-training-tabular==1.52.0\n",
      "backcall==0.2.0\n",
      "backports.tempfile==1.0\n",
      "backports.weakref==1.0.post1\n",
      "bcrypt==4.0.1\n",
      "beautifulsoup4==4.12.2\n",
      "bleach==6.0.0\n",
      "bokeh==2.4.3\n",
      "boto==2.49.0\n",
      "boto3==1.20.19\n",
      "botocore==1.23.19\n",
      "Brotli @ file:///home/conda/feedstock_root/build_artifacts/brotli-split_1687884021435/work\n",
      "cachetools==5.3.1\n",
      "certifi==2023.5.7\n",
      "cffi @ file:///home/conda/feedstock_root/build_artifacts/cffi_1671179356964/work\n",
      "charset-normalizer @ file:///home/conda/feedstock_root/build_artifacts/charset-normalizer_1678108872112/work\n",
      "click==8.1.4\n",
      "cloudpickle @ file:///home/conda/feedstock_root/build_artifacts/cloudpickle_1598400192773/work\n",
      "cmdstanpy==0.9.5\n",
      "contextlib2==21.6.0\n",
      "contourpy==1.1.0\n",
      "convertdate @ file:///home/conda/feedstock_root/build_artifacts/convertdate_1642883757836/work\n",
      "cryptography==41.0.0\n",
      "cycler==0.11.0\n",
      "Cython==0.29.17\n",
      "dask==2023.2.0\n",
      "databricks-cli==0.17.7\n",
      "dataclasses==0.6\n",
      "debugpy==1.6.7\n",
      "decorator==5.1.1\n",
      "defusedxml==0.7.1\n",
      "dice-ml==0.9\n",
      "dill==0.3.6\n",
      "distributed==2023.2.0\n",
      "distro==1.8.0\n",
      "docker==6.1.3\n",
      "dotnetcore2==3.1.23\n",
      "econml==0.14.1\n",
      "entrypoints==0.4\n",
      "ephem==4.1.4\n",
      "erroranalysis==0.4.4\n",
      "executing==1.2.0\n",
      "fairlearn==0.8.0\n",
      "fastjsonschema==2.17.1\n",
      "fbprophet==0.7.1\n",
      "fire==0.5.0\n",
      "Flask==2.2.5\n",
      "Flask-Cors==3.0.10\n",
      "flatbuffers==23.5.26\n",
      "fonttools==4.40.0\n",
      "fsspec==2023.6.0\n",
      "fusepy==3.0.1\n",
      "gensim==3.8.3\n",
      "gitdb==4.0.10\n",
      "GitPython==3.1.31\n",
      "google-api-core==2.11.1\n",
      "google-auth==2.21.0\n",
      "googleapis-common-protos==1.59.1\n",
      "gunicorn==20.1.0\n",
      "h5py==3.9.0\n",
      "holidays @ file:///home/conda/feedstock_root/build_artifacts/holidays_1595448845196/work\n",
      "humanfriendly==10.0\n",
      "idna @ file:///home/conda/feedstock_root/build_artifacts/idna_1663625384323/work\n",
      "importlib-metadata==6.8.0\n",
      "importlib-resources==5.13.0\n",
      "inference-schema==1.5.1\n",
      "interpret-community==0.29.0\n",
      "interpret-core==0.3.2\n",
      "ipykernel==6.8.0\n",
      "ipython==8.12.2\n",
      "ipython-genutils==0.2.0\n",
      "isodate==0.6.1\n",
      "itsdangerous==2.1.2\n",
      "jedi==0.18.2\n",
      "jeepney==0.8.0\n",
      "Jinja2==3.1.2\n",
      "jmespath==0.10.0\n",
      "joblib @ file:///home/conda/feedstock_root/build_artifacts/joblib_1663332044897/work\n",
      "jsonpickle==3.0.1\n",
      "jsonschema==4.18.0\n",
      "jsonschema-specifications==2023.6.1\n",
      "jupyter_client==7.4.9\n",
      "jupyter_core==5.3.1\n",
      "jupyterlab-pygments==0.2.2\n",
      "keras2onnx==1.6.0\n",
      "kiwisolver==1.4.4\n",
      "knack==0.10.1\n",
      "korean-lunar-calendar @ file:///home/conda/feedstock_root/build_artifacts/korean_lunar_calendar_1663341251025/work\n",
      "lightgbm==3.2.1\n",
      "llvmlite==0.38.1\n",
      "locket==1.0.0\n",
      "LunarCalendar==0.0.9\n",
      "MarkupSafe==2.1.2\n",
      "matplotlib==3.7.2\n",
      "matplotlib-inline==0.1.6\n",
      "mistune==3.0.1\n",
      "ml-wrappers==0.4.11\n",
      "mlflow-skinny==2.4.1\n",
      "mltable==1.4.1\n",
      "msal==1.22.0\n",
      "msal-extensions==1.0.0\n",
      "msgpack==1.0.5\n",
      "msrest==0.7.1\n",
      "msrestazure==0.6.4\n",
      "nbclient==0.8.0\n",
      "nbconvert==7.6.0\n",
      "nbformat==5.9.0\n",
      "ndg-httpsclient==0.5.1\n",
      "nest-asyncio==1.5.6\n",
      "networkx==2.5\n",
      "notebook==6.4.9\n",
      "numba==0.55.2\n",
      "numpy==1.22.3\n",
      "oauthlib==3.2.2\n",
      "onnx==1.13.1\n",
      "onnxconverter-common==1.6.0\n",
      "onnxmltools==1.4.1\n",
      "onnxruntime==1.11.1\n",
      "opencensus==0.11.2\n",
      "opencensus-context==0.1.3\n",
      "opencensus-ext-azure==1.1.9\n",
      "packaging==23.0\n",
      "pandas==1.1.5\n",
      "pandocfilters==1.5.0\n",
      "paramiko==3.2.0\n",
      "parso==0.8.3\n",
      "partd==1.4.0\n",
      "pathspec==0.11.1\n",
      "patsy==0.5.3\n",
      "pexpect==4.8.0\n",
      "pickleshare==0.7.5\n",
      "Pillow==10.0.0\n",
      "pkginfo==1.9.6\n",
      "pkgutil_resolve_name==1.3.10\n",
      "platformdirs @ file:///home/conda/feedstock_root/build_artifacts/platformdirs_1688739404342/work\n",
      "pmdarima==1.8.0\n",
      "pooch @ file:///home/conda/feedstock_root/build_artifacts/pooch_1679580333621/work\n",
      "portalocker==2.7.0\n",
      "prometheus-client==0.17.0\n",
      "prompt-toolkit==3.0.39\n",
      "property-cached==1.6.4\n",
      "protobuf==3.20.3\n",
      "psutil @ file:///home/conda/feedstock_root/build_artifacts/psutil_1681775007745/work\n",
      "ptyprocess==0.7.0\n",
      "pure-eval==0.2.2\n",
      "py-cpuinfo==5.0.0\n",
      "pyarrow==9.0.0\n",
      "pyasn1==0.5.0\n",
      "pyasn1-modules==0.3.0\n",
      "pycparser @ file:///home/conda/feedstock_root/build_artifacts/pycparser_1636257122734/work\n",
      "pydantic==1.10.11\n",
      "Pygments==2.15.1\n",
      "PyJWT==2.7.0\n",
      "PyMeeus @ file:///home/conda/feedstock_root/build_artifacts/pymeeus_1670868433998/work\n",
      "PyNaCl==1.5.0\n",
      "pyOpenSSL @ file:///home/conda/feedstock_root/build_artifacts/pyopenssl_1685514481738/work\n",
      "pyparsing==3.0.9\n",
      "PySocks @ file:///home/conda/feedstock_root/build_artifacts/pysocks_1661604839144/work\n",
      "pystan==2.19.1.1\n",
      "python-dateutil @ file:///home/conda/feedstock_root/build_artifacts/python-dateutil_1626286286081/work\n",
      "pytz @ file:///home/conda/feedstock_root/build_artifacts/pytz_1680088766131/work\n",
      "PyYAML==6.0\n",
      "pyzmq==25.1.0\n",
      "raiutils==0.4.0\n",
      "referencing==0.29.1\n",
      "requests @ file:///home/conda/feedstock_root/build_artifacts/requests_1684774241324/work\n",
      "requests-oauthlib==1.3.1\n",
      "responsibleai==0.28.0\n",
      "rpds-py==0.8.8\n",
      "rsa==4.9\n",
      "s3transfer==0.5.2\n",
      "scikit-learn==0.22.1\n",
      "scipy==1.5.3\n",
      "SecretStorage==3.3.3\n",
      "semver==2.13.0\n",
      "Send2Trash==1.8.2\n",
      "setuptools-git==1.2\n",
      "shap==0.41.0\n",
      "six @ file:///home/conda/feedstock_root/build_artifacts/six_1620240208055/work\n",
      "skl2onnx==1.4.9\n",
      "sklearn-pandas==1.7.0\n",
      "slicer==0.0.7\n",
      "smart-open==1.9.0\n",
      "smmap==5.0.0\n",
      "sortedcontainers==2.4.0\n",
      "soupsieve==2.4.1\n",
      "sparse==0.14.0\n",
      "sqlparse==0.4.4\n",
      "stack-data==0.6.2\n",
      "statsmodels==0.11.1\n",
      "tabulate==0.9.0\n",
      "tblib==2.0.0\n",
      "termcolor==2.3.0\n",
      "terminado==0.17.1\n",
      "tinycss2==1.2.1\n",
      "toolz==0.12.0\n",
      "tornado==6.3.2\n",
      "tqdm==4.65.0\n",
      "traitlets==5.9.0\n",
      "typing_extensions @ file:///home/conda/feedstock_root/build_artifacts/typing_extensions_1688315532570/work\n",
      "urllib3==1.26.16\n",
      "wcwidth==0.2.6\n",
      "webencodings==0.5.1\n",
      "websocket-client==1.6.1\n",
      "Werkzeug==2.3.6\n",
      "wrapt==1.12.1\n",
      "xgboost==1.3.3\n",
      "zict==3.0.0\n",
      "zipp==3.15.0\n",
      "\n",
      "2023-08-02T02:38:17,288774058+00:00 | gunicorn/run | \n",
      "2023-08-02T02:38:17,291339558+00:00 | gunicorn/run | ###############################################\n",
      "2023-08-02T02:38:17,293546658+00:00 | gunicorn/run | Checking if the Python package azureml-inference-server-http is installed\n",
      "2023-08-02T02:38:17,298104158+00:00 | gunicorn/run | ###############################################\n",
      "2023-08-02T02:38:17,299907058+00:00 | gunicorn/run | \n",
      "2023-08-02T02:38:20,106997358+00:00 | gunicorn/run | \n",
      "2023-08-02T02:38:20,109199658+00:00 | gunicorn/run | ###############################################\n",
      "2023-08-02T02:38:20,111255258+00:00 | gunicorn/run | AzureML Inference Server\n",
      "2023-08-02T02:38:20,116285958+00:00 | gunicorn/run | ###############################################\n",
      "2023-08-02T02:38:20,118327658+00:00 | gunicorn/run | \n",
      "2023-08-02T02:38:22,939627894+00:00 | gunicorn/run | Starting AzureML Inference Server HTTP.\n",
      "2023-08-02 02:38:23,279 I [81] azmlinfsrv - Loaded logging config from /azureml-envs/azureml-automl/lib/python3.8/site-packages/azureml_inference_server_http/logging.json\n",
      "2023-08-02 02:38:23,571 I [81] gunicorn.error - Starting gunicorn 20.1.0\n",
      "2023-08-02 02:38:23,572 I [81] gunicorn.error - Listening at: http://0.0.0.0:31311 (81)\n",
      "2023-08-02 02:38:23,572 I [81] gunicorn.error - Using worker: sync\n",
      "2023-08-02 02:38:23,577 I [140] gunicorn.error - Booting worker with pid: 140\n",
      "\n",
      "Azure ML Inferencing HTTP server v0.8.4\n",
      "/azureml-envs/azureml-automl/lib/python3.8/site-packages/azureml_inference_server_http/server/config.py:51: FutureWarning: aliases are no longer used by BaseSettings to define which environment variables to read. Instead use the \"env\" field setting. See https://pydantic-docs.helpmanual.io/usage/settings/#environment-variable-names\n",
      "\n",
      "  class AMLInferenceServerConfig(pydantic.BaseSettings):\n",
      "\n",
      "Server Settings\n",
      "---------------\n",
      "Entry Script Name: /var/azureml-app/main.py\n",
      "Model Directory: /var/azureml-app/azureml-models/AutoMLe7f3975740/1\n",
      "Config File: None\n",
      "Worker Count: 1\n",
      "Worker Timeout (seconds): 300\n",
      "Server Port: 31311\n",
      "Health Port: 31311\n",
      "Application Insights Enabled: false\n",
      "Application Insights Key: None\n",
      "Inferencing HTTP server version: azmlinfsrv/0.8.4\n",
      "CORS for the specified origins: None\n",
      "Create dedicated endpoint for health: None\n",
      "\n",
      "\n",
      "Server Routes\n",
      "---------------\n",
      "Liveness Probe: GET   127.0.0.1:31311/\n",
      "Score:          POST  127.0.0.1:31311/score\n",
      "\n",
      "2023-08-02 02:38:24,343 I [140] azmlinfsrv - AML_FLASK_ONE_COMPATIBILITY is set. Patched Flask to ensure compatibility with Flask 1.\n",
      "Initializing logger\n",
      "2023-08-02 02:38:24,346 I [140] azmlinfsrv - Starting up app insights client\n",
      "2023-08-02 02:38:25,234 I [140] azmlinfsrv.user_script - Found driver script at /var/azureml-app/main.py and the score script at /var/azureml-app/score.py\n",
      "2023-08-02 02:38:25,234 I [140] azmlinfsrv.user_script - run() is decorated with @input_schema. Server will invoke it with the following arguments: data, method.\n",
      "2023-08-02 02:38:25,234 I [140] azmlinfsrv.user_script - Invoking user's init function\n",
      "ERROR:fbprophet.plot:Importing plotly failed. Interactive plots will not work.\n",
      "2023-08-02 02:38:35,422 I [140] azmlinfsrv.user_script - Users's init has completed successfully\n",
      "2023-08-02 02:38:35,716 I [140] azmlinfsrv.swagger - Swaggers are prepared for the following versions: [2, 3, 3.1].\n",
      "2023-08-02 02:38:35,745 I [140] azmlinfsrv - Scoring timeout is set to 60000\n",
      "2023-08-02 02:38:35,748 W [140] azmlinfsrv - x-ms-request-id header has been deprecated and will be removed from future versions of the server. Please use x-ms-client-request-id.\n",
      "2023-08-02 02:38:35,750 I [140] gunicorn.access - 127.0.0.1 - - [02/Aug/2023:02:38:35 +0000] \"GET / HTTP/1.0\" 200 7 \"-\" \"Go-http-client/1.1\"\n",
      "2023-08-02 02:38:35,751 W [140] azmlinfsrv - x-ms-request-id header has been deprecated and will be removed from future versions of the server. Please use x-ms-client-request-id.\n",
      "2023-08-02 02:38:35,752 I [140] gunicorn.access - 127.0.0.1 - - [02/Aug/2023:02:38:35 +0000] \"GET / HTTP/1.0\" 200 7 \"-\" \"Go-http-client/1.1\"\n",
      "2023-08-02 02:38:35,760 W [140] azmlinfsrv - x-ms-request-id header has been deprecated and will be removed from future versions of the server. Please use x-ms-client-request-id.\n",
      "2023-08-02 02:38:35,761 I [140] azmlinfsrv - GET /swagger.json 200 0.433ms 2886\n",
      "2023-08-02 02:38:35,761 I [140] gunicorn.access - 127.0.0.1 - - [02/Aug/2023:02:38:35 +0000] \"GET /swagger.json HTTP/1.0\" 200 2886 \"-\" \"Go-http-client/1.1\"\n",
      "2023-08-02 02:38:38,053 W [140] azmlinfsrv - x-ms-request-id header has been deprecated and will be removed from future versions of the server. Please use x-ms-client-request-id.\n",
      "2023-08-02 02:38:38,055 I [140] gunicorn.access - 127.0.0.1 - - [02/Aug/2023:02:38:38 +0000] \"GET / HTTP/1.0\" 200 7 \"-\" \"Go-http-client/1.1\"\n",
      "2023-08-02 02:38:38,061 W [140] azmlinfsrv - x-ms-request-id header has been deprecated and will be removed from future versions of the server. Please use x-ms-client-request-id.\n",
      "2023-08-02 02:38:38,062 I [140] azmlinfsrv - GET /swagger.json 200 0.497ms 2886\n",
      "2023-08-02 02:38:38,062 I [140] gunicorn.access - 127.0.0.1 - - [02/Aug/2023:02:38:38 +0000] \"GET /swagger.json HTTP/1.0\" 200 2886 \"-\" \"Go-http-client/1.1\"\n",
      "2023-08-02 02:51:33,061 W [140] azmlinfsrv - x-ms-request-id header has been deprecated and will be removed from future versions of the server. Please use x-ms-client-request-id.\n",
      "2023-08-02 02:51:33,131 I [140] azmlinfsrv - POST /score 200 69.731ms 27\n",
      "2023-08-02 02:51:33,132 I [140] gunicorn.access - 127.0.0.1 - - [02/Aug/2023:02:51:33 +0000] \"POST /score HTTP/1.0\" 200 27 \"-\" \"python-requests/2.31.0\"\n",
      "\n",
      "Current provisioning state of AmlCompute is \"Deleting\"\n",
      "\n"
     ]
    }
   ],
   "source": [
    "# Retrieve and print the logs\n",
    "logs = aci_service.get_logs()\n",
    "print(logs)\n"
   ]
  },
  {
   "cell_type": "code",
   "execution_count": 21,
   "metadata": {
    "gather": {
     "logged": 1690950770367
    },
    "jupyter": {
     "outputs_hidden": false,
     "source_hidden": false
    },
    "nteract": {
     "transient": {
      "deleting": false
     }
    }
   },
   "outputs": [],
   "source": [
    "import os\n",
    "\n",
    "logs_file_path = './aci_logs.txt'\n",
    "with open(logs_file_path, 'w') as f:\n",
    "    f.write(logs)\n"
   ]
  },
  {
   "cell_type": "code",
   "execution_count": 22,
   "metadata": {
    "gather": {
     "logged": 1690950899163
    }
   },
   "outputs": [],
   "source": [
    "# Delete the web service\n",
    "aci_service.delete()\n",
    "compute_target.delete()"
   ]
  },
  {
   "cell_type": "markdown",
   "metadata": {},
   "source": [
    "**Submission Checklist**\n",
    "- I have registered the model.\n",
    "- I have deployed the model with the best accuracy as a webservice.\n",
    "- I have tested the webservice by sending a request to the model endpoint.\n",
    "- I have deleted the webservice and shutdown all the computes that I have used.\n",
    "- I have taken a screenshot showing the model endpoint as active.\n",
    "- The project includes a file containing the environment details.\n"
   ]
  },
  {
   "cell_type": "markdown",
   "metadata": {},
   "source": []
  }
 ],
 "metadata": {
  "kernel_info": {
   "name": "python38-azureml"
  },
  "kernelspec": {
   "display_name": "Python 3 (ipykernel)",
   "language": "python",
   "name": "python3"
  },
  "language_info": {
   "codemirror_mode": {
    "name": "ipython",
    "version": 3
   },
   "file_extension": ".py",
   "mimetype": "text/x-python",
   "name": "python",
   "nbconvert_exporter": "python",
   "pygments_lexer": "ipython3",
   "version": "3.9.13"
  },
  "microsoft": {
   "host": {
    "AzureML": {
     "notebookHasBeenCompleted": true
    }
   },
   "ms_spell_check": {
    "ms_spell_check_language": "en"
   }
  },
  "nteract": {
   "version": "nteract-front-end@1.0.0"
  }
 },
 "nbformat": 4,
 "nbformat_minor": 2
}
