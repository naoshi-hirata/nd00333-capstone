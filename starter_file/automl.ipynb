{
  "cells": [
    {
      "cell_type": "markdown",
      "source": [
        "# Automated ML\n",
        "\n",
        "TODO: Import Dependencies. In the cell below, import all the dependencies that you will need to complete the project."
      ],
      "metadata": {}
    },
    {
      "cell_type": "code",
      "source": [
        "import json #\n",
        "import logging #\n",
        "import os #\n",
        "import pandas as pd #\n",
        "import requests\n",
        "import sys\n",
        "import azureml.core #\n",
        "from azureml.automl.core.onnx_convert import OnnxConvertConstants\n",
        "from azureml.automl.runtime.onnx_convert import OnnxConverter\n",
        "from azureml.automl.runtime.onnx_convert import OnnxInferenceHelper\n",
        "from azureml.core.compute import ComputeTarget, AmlCompute #\n",
        "from azureml.core.compute_target import ComputeTargetException #\n",
        "from azureml.core.dataset import Dataset #\n",
        "from azureml.core.environment import Environment\n",
        "from azureml.core.experiment import Experiment #\n",
        "from azureml.core.model import InferenceConfig\n",
        "from azureml.core.model import Model\n",
        "from azureml.core.run import Run\n",
        "from azureml.core.webservice import AciWebservice\n",
        "from azureml.core.webservice import Webservice\n",
        "from azureml.core.workspace import Workspace #\n",
        "from azureml.interpret import ExplanationClient #\n",
        "from azureml.train.automl import AutoMLConfig #\n",
        "from azureml.train.automl import constants\n",
        "from azureml.widgets import RunDetails\n",
        "from matplotlib import pyplot as plt #\n"
      ],
      "outputs": [],
      "execution_count": 1,
      "metadata": {
        "gather": {
          "logged": 1690939102845
        },
        "jupyter": {
          "outputs_hidden": false,
          "source_hidden": false
        },
        "nteract": {
          "transient": {
            "deleting": false
          }
        }
      }
    },
    {
      "cell_type": "markdown",
      "source": [
        "## Dataset\n",
        "\n",
        "### Overview\n",
        "TODO: In this markdown cell, give an overview of the dataset you are using. Also mention the task you will be performing.\n",
        "\n",
        "\n",
        "TODO: Get data. In the cell below, write code to access the data you will be using in this project. Remember that the dataset needs to be external."
      ],
      "metadata": {}
    },
    {
      "cell_type": "markdown",
      "source": [
        "Title: Car Evaluation Database\n",
        "\n",
        "Task: To create the hierarchical decision model\n",
        "\n",
        "This model evaluates cars according to the following concept structure:\n",
        "\n",
        " CAR:car acceptability;\n",
        "\n",
        " buying:buying price;v-high, high, med, low\n",
        " \n",
        " maint:price of the maintenance;v-high, high, med, low\n",
        " \n",
        " doors:number of doors;2, 3, 4, 5-more\n",
        " \n",
        " persons:capacity in terms of persons to carry;2, 4, more\n",
        " \n",
        " lug_boot:the size of luggage boot;small, med, big\n",
        " \n",
        " safety:estimated safety of the car;low, med, high\n",
        "  \n",
        "Class Distribution;unacc,acc,good,v-good"
      ],
      "metadata": {
        "nteract": {
          "transient": {
            "deleting": false
          }
        }
      }
    },
    {
      "cell_type": "code",
      "source": [
        "ws = Workspace.from_config()\n",
        "\n",
        "# choose a name for experiment\n",
        "experiment_name = 'auto-ml'\n",
        "experiment=Experiment(ws, experiment_name)"
      ],
      "outputs": [
        {
          "output_type": "stream",
          "name": "stderr",
          "text": "2023-08-02:01:21:35,750 INFO     [workspace.py:291] Found the config file in: /config.json\n2023-08-02:01:21:36,446 INFO     [clientbase.py:192] Created a worker pool for first use\n"
        }
      ],
      "execution_count": 2,
      "metadata": {
        "gather": {
          "logged": 1690939297407
        },
        "jupyter": {
          "outputs_hidden": false,
          "source_hidden": false
        },
        "nteract": {
          "transient": {
            "deleting": false
          }
        }
      }
    },
    {
      "cell_type": "code",
      "source": [
        "print(ws)"
      ],
      "outputs": [
        {
          "output_type": "stream",
          "name": "stdout",
          "text": "Workspace.create(name='quick-starts-ws-239593', subscription_id='b968fb36-f06a-4c76-a15f-afab68ae7667', resource_group='aml-quickstarts-239593')\n"
        }
      ],
      "execution_count": 3,
      "metadata": {
        "gather": {
          "logged": 1690939307238
        },
        "jupyter": {
          "outputs_hidden": false,
          "source_hidden": false
        },
        "nteract": {
          "transient": {
            "deleting": false
          }
        }
      }
    },
    {
      "cell_type": "code",
      "source": [
        "# Create the cluster\n",
        "cpu_cluster_name = \"auto-ml\"\n",
        "# Verify that cluster does not exist already\n",
        "try:\n",
        "    compute_target = ComputeTarget(workspace=ws, name=cpu_cluster_name)\n",
        "    print(\"Found existing cluster, use it.\")\n",
        "except ComputeTargetException:\n",
        "    compute_config = AmlCompute.provisioning_configuration(\n",
        "        vm_size='STANDARD_D2_V2',\n",
        "        max_nodes=4\n",
        "    )\n",
        "    compute_target = ComputeTarget.create(\n",
        "        ws, cpu_cluster_name, compute_config)\n",
        "compute_target.wait_for_completion(show_output=True)"
      ],
      "outputs": [
        {
          "output_type": "stream",
          "name": "stdout",
          "text": "InProgress..\nSucceededProvisioning operation finished, operation \"Succeeded\"\nSucceeded\nAmlCompute wait for completion finished\n\nMinimum number of nodes requested have been provisioned\n"
        }
      ],
      "execution_count": 4,
      "metadata": {
        "gather": {
          "logged": 1690939323821
        },
        "jupyter": {
          "outputs_hidden": false,
          "source_hidden": false
        },
        "nteract": {
          "transient": {
            "deleting": false
          }
        },
        "scrolled": true
      }
    },
    {
      "cell_type": "code",
      "source": [
        "# Create AML Dataset and register it into Workspace\n",
        "data = pd.read_csv('https://archive.ics.uci.edu/ml/machine-learning-databases/car/car.data')\n",
        "columns = ['buying', 'maint', 'doors', 'persons', 'lug_boot', 'safety', 'class']\n",
        "data.columns = columns\n",
        "data.head()\n",
        "\n",
        "if not os.path.isdir(\"data\"):\n",
        "    os.mkdir(\"data\")\n",
        "# Save the data to a csv to be uploaded to the datastore\n",
        "pd.DataFrame(data).to_csv(\"data/data.csv\", index=False)\n",
        "ds = ws.get_default_datastore()\n",
        "key='car evaluation data set'\n",
        "ds.upload(\n",
        "    src_dir=\"./data\",\n",
        "    target_path=key,\n",
        "    overwrite=True,\n",
        "    show_progress=True\n",
        ")\n",
        "\n",
        "# Upload the data as a tabular dataset for access during training on remote compute\n",
        "dataset = Dataset.Tabular.from_delimited_files(\n",
        "    path=ds.path(key+\"/data.csv\")\n",
        ")\n"
      ],
      "outputs": [
        {
          "output_type": "stream",
          "name": "stderr",
          "text": "2023-08-02:01:23:19,434 INFO     [datastore_client.py:991] <azureml.core.authentication.InteractiveLoginAuthentication object at 0x7fb8b4b20f70>\n2023-08-02:01:23:20,71 WARNING  [_dataset_deprecation.py:89] \"Datastore.upload\" is deprecated after version 1.0.69. Please use \"Dataset.File.upload_directory\" to upload your files             from a local directory and create FileDataset in single method call. See Dataset API change notice at https://aka.ms/dataset-deprecation.\n2023-08-02:01:23:20,72 INFO     [azure_storage_datastore.py:923] Called AzureBlobDatastore.upload\n2023-08-02:01:23:20,86 INFO     [azure_storage_datastore.py:372] Uploading an estimated of 1 files\n2023-08-02:01:23:20,338 INFO     [azure_storage_datastore.py:372] Uploading ./data/data.csv\n2023-08-02:01:23:20,339 INFO     [azure_storage_datastore.py:372] Uploaded ./data/data.csv, 1 files out of an estimated total of 1\n2023-08-02:01:23:20,340 INFO     [azure_storage_datastore.py:372] Uploaded 1 files\n2023-08-02:01:23:20,340 INFO     [azure_storage_datastore.py:941] Finished AzureBlobDatastore.upload with count=1.\n"
        },
        {
          "output_type": "stream",
          "name": "stdout",
          "text": "Uploading an estimated of 1 files\nUploading ./data/data.csv\nUploaded ./data/data.csv, 1 files out of an estimated total of 1\nUploaded 1 files\n"
        }
      ],
      "execution_count": 5,
      "metadata": {
        "gather": {
          "logged": 1690939406779
        },
        "jupyter": {
          "outputs_hidden": false,
          "source_hidden": false
        },
        "nteract": {
          "transient": {
            "deleting": false
          }
        }
      }
    },
    {
      "cell_type": "markdown",
      "source": [
        "## AutoML Configuration\n",
        "\n",
        "TODO: Explain why you chose the automl settings and cofiguration you used below."
      ],
      "metadata": {}
    },
    {
      "cell_type": "markdown",
      "source": [
        "Automl setting\n",
        "\n",
        " - experiment time out minutes; to avoid endless working\n",
        "\n",
        " - max concurrent iterations; between cost and performance\n",
        "\n",
        " - primary metric; AUC is a widely used metric to evaluate the performance of binary classifiers. The weighted version extends it to multi-class classification by considering the class imbalance when computing the average AUC across classes. \n",
        "\n",
        "Automl configuration\n",
        "\n",
        " - task = \"classification\"; To make classification model\n",
        "\n",
        " - label_column_name=\"class\"; This column gives evalation result\n",
        "\n",
        " - enable_early_stopping= True; To save cost at score improvement small\n",
        "\n",
        " - featurization= 'auto'; Automated separation for training data and test data\n"
      ],
      "metadata": {
        "nteract": {
          "transient": {
            "deleting": false
          }
        }
      }
    },
    {
      "cell_type": "code",
      "source": [
        "# TODO: Put your automl settings here\n",
        "automl_settings = {\n",
        "    \"experiment_timeout_minutes\": 20,\n",
        "    \"enable_early_stopping\": True,\n",
        "    \"iteration_timeout_minutes\": 5,\n",
        "    \"max_concurrent_iterations\": 4,\n",
        "    \"max_cores_per_iteration\": -1,\n",
        "    \"primary_metric\" : 'AUC_weighted',\n",
        "    \"featurization\": \"auto\",\n",
        "    \"verbosity\": logging.INFO,\n",
        "    \"enable_code_generation\": True,\n",
        "}\n",
        "\n",
        "project_folder = './project'\n",
        "\n",
        "# TODO: Put your automl config here\n",
        "automl_config = AutoMLConfig(\n",
        "    task = \"classification\",\n",
        "    debug_log = \"automl_errors.log\",\n",
        "    compute_target=compute_target,\n",
        "    enable_onnx_compatible_models=True,\n",
        "    training_data=dataset,\n",
        "    label_column_name=\"class\",\n",
        "    path = project_folder,\n",
        "    **automl_settings\n",
        ")"
      ],
      "outputs": [],
      "execution_count": 6,
      "metadata": {
        "gather": {
          "logged": 1690939434489
        },
        "jupyter": {
          "outputs_hidden": false,
          "source_hidden": false
        },
        "nteract": {
          "transient": {
            "deleting": false
          }
        }
      }
    },
    {
      "cell_type": "code",
      "source": [
        "# TODO: Submit your experiment\n",
        "\n",
        "remote_run = experiment.submit(automl_config)\n"
      ],
      "outputs": [
        {
          "output_type": "stream",
          "name": "stdout",
          "text": "Submitting remote run.\n"
        },
        {
          "output_type": "display_data",
          "data": {
            "text/html": "<table style=\"width:100%\"><tr><th>Experiment</th><th>Id</th><th>Type</th><th>Status</th><th>Details Page</th><th>Docs Page</th></tr><tr><td>auto-ml</td><td>AutoML_e7f39757-41ab-4806-9036-ceb666bd7771</td><td>automl</td><td>NotStarted</td><td><a href=\"https://ml.azure.com/runs/AutoML_e7f39757-41ab-4806-9036-ceb666bd7771?wsid=/subscriptions/b968fb36-f06a-4c76-a15f-afab68ae7667/resourcegroups/aml-quickstarts-239593/workspaces/quick-starts-ws-239593&amp;tid=660b3398-b80e-49d2-bc5b-ac1dc93b5254\" target=\"_blank\" rel=\"noopener\">Link to Azure Machine Learning studio</a></td><td><a href=\"https://docs.microsoft.com/en-us/python/api/overview/azure/ml/intro?view=azure-ml-py\" target=\"_blank\" rel=\"noopener\">Link to Documentation</a></td></tr></table>"
          },
          "metadata": {}
        }
      ],
      "execution_count": 7,
      "metadata": {
        "gather": {
          "logged": 1690939446343
        },
        "jupyter": {
          "outputs_hidden": false,
          "source_hidden": false
        },
        "nteract": {
          "transient": {
            "deleting": false
          }
        }
      }
    },
    {
      "cell_type": "markdown",
      "source": [
        "## Run Details\n",
        "\n",
        "OPTIONAL: Write about the different models trained and their performance. Why do you think some models did better than others?\n",
        "\n",
        "TODO: In the cell below, use the `RunDetails` widget to show the different experiments."
      ],
      "metadata": {}
    },
    {
      "cell_type": "code",
      "source": [
        "from azureml.widgets import RunDetails\n",
        "\n",
        "RunDetails(remote_run).show()"
      ],
      "outputs": [
        {
          "output_type": "display_data",
          "data": {
            "text/plain": "_AutoMLWidget(widget_settings={'childWidgetDisplay': 'popup', 'send_telemetry': False, 'log_level': 'INFO', 's…",
            "application/vnd.jupyter.widget-view+json": {
              "version_major": 2,
              "version_minor": 0,
              "model_id": "59dfbc4ba0fe45c896a75b557d6057d8"
            }
          },
          "metadata": {}
        },
        {
          "output_type": "display_data",
          "data": {
            "application/aml.mini.widget.v1": "{\"status\": \"Completed\", \"workbench_run_details_uri\": \"https://ml.azure.com/runs/AutoML_e7f39757-41ab-4806-9036-ceb666bd7771?wsid=/subscriptions/b968fb36-f06a-4c76-a15f-afab68ae7667/resourcegroups/aml-quickstarts-239593/workspaces/quick-starts-ws-239593&tid=660b3398-b80e-49d2-bc5b-ac1dc93b5254\", \"run_id\": \"AutoML_e7f39757-41ab-4806-9036-ceb666bd7771\", \"run_properties\": {\"run_id\": \"AutoML_e7f39757-41ab-4806-9036-ceb666bd7771\", \"created_utc\": \"2023-08-02T01:24:05.05203Z\", \"properties\": {\"num_iterations\": \"1000\", \"training_type\": \"TrainFull\", \"acquisition_function\": \"EI\", \"primary_metric\": \"AUC_weighted\", \"train_split\": \"0\", \"acquisition_parameter\": \"0\", \"num_cross_validation\": null, \"target\": \"auto-ml\", \"AMLSettingsJsonString\": \"{\\\"path\\\":null,\\\"name\\\":\\\"auto-ml\\\",\\\"subscription_id\\\":\\\"b968fb36-f06a-4c76-a15f-afab68ae7667\\\",\\\"resource_group\\\":\\\"aml-quickstarts-239593\\\",\\\"workspace_name\\\":\\\"quick-starts-ws-239593\\\",\\\"region\\\":\\\"westeurope\\\",\\\"compute_target\\\":\\\"auto-ml\\\",\\\"spark_service\\\":null,\\\"azure_service\\\":\\\"remote\\\",\\\"many_models\\\":false,\\\"pipeline_fetch_max_batch_size\\\":1,\\\"enable_batch_run\\\":true,\\\"enable_parallel_run\\\":false,\\\"num_procs\\\":null,\\\"enable_run_restructure\\\":false,\\\"start_auxiliary_runs_before_parent_complete\\\":false,\\\"enable_code_generation\\\":true,\\\"iterations\\\":1000,\\\"primary_metric\\\":\\\"AUC_weighted\\\",\\\"task_type\\\":\\\"classification\\\",\\\"positive_label\\\":null,\\\"data_script\\\":null,\\\"test_size\\\":0.0,\\\"test_include_predictions_only\\\":false,\\\"validation_size\\\":0.0,\\\"n_cross_validations\\\":null,\\\"y_min\\\":null,\\\"y_max\\\":null,\\\"num_classes\\\":null,\\\"featurization\\\":\\\"auto\\\",\\\"_ignore_package_version_incompatibilities\\\":false,\\\"is_timeseries\\\":false,\\\"max_cores_per_iteration\\\":-1,\\\"max_concurrent_iterations\\\":4,\\\"iteration_timeout_minutes\\\":5,\\\"mem_in_mb\\\":null,\\\"enforce_time_on_windows\\\":false,\\\"experiment_timeout_minutes\\\":20,\\\"experiment_exit_score\\\":null,\\\"partition_column_names\\\":null,\\\"whitelist_models\\\":null,\\\"blacklist_algos\\\":[\\\"TensorFlowLinearClassifier\\\",\\\"TensorFlowDNN\\\"],\\\"supported_models\\\":[\\\"KNN\\\",\\\"AveragedPerceptronClassifier\\\",\\\"ExtremeRandomTrees\\\",\\\"LinearSVM\\\",\\\"LightGBM\\\",\\\"SGD\\\",\\\"RandomForest\\\",\\\"XGBoostClassifier\\\",\\\"BernoulliNaiveBayes\\\",\\\"GradientBoosting\\\",\\\"LogisticRegression\\\",\\\"TabnetClassifier\\\",\\\"MultinomialNaiveBayes\\\",\\\"TensorFlowDNN\\\",\\\"DecisionTree\\\",\\\"TensorFlowLinearClassifier\\\",\\\"SVM\\\"],\\\"private_models\\\":[],\\\"auto_blacklist\\\":true,\\\"blacklist_samples_reached\\\":false,\\\"exclude_nan_labels\\\":true,\\\"verbosity\\\":20,\\\"_debug_log\\\":\\\"azureml_automl.log\\\",\\\"show_warnings\\\":false,\\\"model_explainability\\\":true,\\\"service_url\\\":null,\\\"sdk_url\\\":null,\\\"sdk_packages\\\":null,\\\"enable_onnx_compatible_models\\\":true,\\\"enable_split_onnx_featurizer_estimator_models\\\":false,\\\"vm_type\\\":\\\"STANDARD_D2_V2\\\",\\\"telemetry_verbosity\\\":20,\\\"send_telemetry\\\":true,\\\"enable_dnn\\\":false,\\\"scenario\\\":\\\"AutoML\\\",\\\"environment_label\\\":null,\\\"save_mlflow\\\":false,\\\"enable_categorical_indicators\\\":false,\\\"force_text_dnn\\\":false,\\\"enable_feature_sweeping\\\":false,\\\"enable_early_stopping\\\":true,\\\"early_stopping_n_iters\\\":10,\\\"arguments\\\":null,\\\"dataset_id\\\":\\\"1dbfa328-5079-4fb8-9d3e-690b6b822165\\\",\\\"hyperdrive_config\\\":null,\\\"validation_dataset_id\\\":null,\\\"run_source\\\":null,\\\"metrics\\\":null,\\\"enable_metric_confidence\\\":false,\\\"enable_ensembling\\\":true,\\\"enable_stack_ensembling\\\":false,\\\"ensemble_iterations\\\":15,\\\"enable_tf\\\":false,\\\"enable_subsampling\\\":null,\\\"subsample_seed\\\":null,\\\"enable_nimbusml\\\":false,\\\"enable_streaming\\\":false,\\\"force_streaming\\\":false,\\\"track_child_runs\\\":true,\\\"n_best_runs\\\":1,\\\"allowed_private_models\\\":[],\\\"label_column_name\\\":\\\"class\\\",\\\"weight_column_name\\\":null,\\\"cv_split_column_names\\\":null,\\\"enable_local_managed\\\":false,\\\"_local_managed_run_id\\\":null,\\\"cost_mode\\\":1,\\\"lag_length\\\":0,\\\"metric_operation\\\":\\\"maximize\\\",\\\"preprocess\\\":true}\", \"DataPrepJsonString\": \"{\\\\\\\"training_data\\\\\\\": {\\\\\\\"datasetId\\\\\\\": \\\\\\\"1dbfa328-5079-4fb8-9d3e-690b6b822165\\\\\\\"}, \\\\\\\"datasets\\\\\\\": 0}\", \"EnableSubsampling\": null, \"runTemplate\": \"AutoML\", \"azureml.runsource\": \"automl\", \"display_task_type\": \"classification\", \"dependencies_versions\": \"{\\\"azureml-dataprep-native\\\": \\\"38.0.0\\\", \\\"azureml-dataprep\\\": \\\"4.10.8\\\", \\\"azureml-dataprep-rslex\\\": \\\"2.17.12\\\", \\\"azureml-train-automl-runtime\\\": \\\"1.51.0.post2\\\", \\\"azureml-train-automl-client\\\": \\\"1.51.0.post1\\\", \\\"azureml-training-tabular\\\": \\\"1.51.0.post1\\\", \\\"azureml-automl-runtime\\\": \\\"1.51.0.post1\\\", \\\"azureml-automl-core\\\": \\\"1.51.0.post1\\\", \\\"azureml-mlflow\\\": \\\"1.51.0\\\", \\\"azureml-datadrift\\\": \\\"1.51.0\\\", \\\"azureml-pipeline\\\": \\\"1.51.0\\\", \\\"azureml-contrib-dataset\\\": \\\"1.51.0\\\", \\\"azureml-contrib-notebook\\\": \\\"1.51.0\\\", \\\"azureml-accel-models\\\": \\\"1.51.0\\\", \\\"azureml-automl-dnn-nlp\\\": \\\"1.51.0\\\", \\\"azureml-pipeline-core\\\": \\\"1.51.0\\\", \\\"azureml-responsibleai\\\": \\\"1.51.0\\\", \\\"azureml-contrib-automl-pipeline-steps\\\": \\\"1.51.0\\\", \\\"azureml-pipeline-steps\\\": \\\"1.51.0\\\", \\\"azureml-core\\\": \\\"1.51.0\\\", \\\"azureml-contrib-reinforcementlearning\\\": \\\"1.51.0\\\", \\\"azureml-contrib-server\\\": \\\"1.51.0\\\", \\\"azureml-opendatasets\\\": \\\"1.51.0\\\", \\\"azureml-contrib-services\\\": \\\"1.51.0\\\", \\\"azureml-telemetry\\\": \\\"1.51.0\\\", \\\"azureml-train-restclients-hyperdrive\\\": \\\"1.51.0\\\", \\\"azureml-interpret\\\": \\\"1.51.0\\\", \\\"azureml-train-core\\\": \\\"1.51.0\\\", \\\"azureml-tensorboard\\\": \\\"1.51.0\\\", \\\"azureml-train\\\": \\\"1.51.0\\\", \\\"azureml-contrib-pipeline-steps\\\": \\\"1.51.0\\\", \\\"azureml-explain-model\\\": \\\"1.51.0\\\", \\\"azureml-cli-common\\\": \\\"1.51.0\\\", \\\"azureml-widgets\\\": \\\"1.51.0\\\", \\\"azureml-train-automl\\\": \\\"1.51.0\\\", \\\"azureml-defaults\\\": \\\"1.51.0\\\", \\\"azureml-contrib-fairness\\\": \\\"1.51.0\\\", \\\"azureml-sdk\\\": \\\"1.51.0\\\", \\\"azureml-dataset-runtime\\\": \\\"1.51.0\\\", \\\"azureml-inference-server-http\\\": \\\"0.8.4\\\"}\", \"_aml_system_scenario_identification\": \"Remote.Parent\", \"ClientType\": \"SDK\", \"PlatformVersion\": \"DPV1\", \"environment_cpu_name\": \"AzureML-AutoML\", \"environment_cpu_label\": \"prod\", \"environment_gpu_name\": \"AzureML-AutoML-GPU\", \"environment_gpu_label\": \"prod\", \"root_attribution\": \"automl\", \"attribution\": \"AutoML\", \"Orchestrator\": \"AutoML\", \"CancelUri\": \"https://westeurope.api.azureml.ms/jasmine/v1.0/subscriptions/b968fb36-f06a-4c76-a15f-afab68ae7667/resourceGroups/aml-quickstarts-239593/providers/Microsoft.MachineLearningServices/workspaces/quick-starts-ws-239593/experimentids/c86e4dce-f756-42f5-82ca-6cd0ec6e5927/cancel/AutoML_e7f39757-41ab-4806-9036-ceb666bd7771\", \"ClientSdkVersion\": null, \"snapshotId\": \"00000000-0000-0000-0000-000000000000\", \"SetupRunId\": \"AutoML_e7f39757-41ab-4806-9036-ceb666bd7771_setup\", \"SetupRunContainerId\": \"dcid.AutoML_e7f39757-41ab-4806-9036-ceb666bd7771_setup\", \"FeaturizationRunJsonPath\": \"featurizer_container.json\", \"FeaturizationRunId\": \"AutoML_e7f39757-41ab-4806-9036-ceb666bd7771_featurize\", \"ProblemInfoJsonString\": \"{\\\"dataset_num_categorical\\\": 0, \\\"is_sparse\\\": true, \\\"subsampling\\\": false, \\\"has_extra_col\\\": true, \\\"dataset_classes\\\": 4, \\\"dataset_features\\\": 21, \\\"dataset_samples\\\": 1727, \\\"single_frequency_class_detected\\\": false}\", \"ModelExplainRunId\": \"AutoML_e7f39757-41ab-4806-9036-ceb666bd7771_ModelExplain\"}, \"tags\": {\"model_explain_run\": \"best_run\", \"_aml_system_automl_run_workspace_id\": \"09dd5f5e-d81d-4db5-a27d-67a12033d3d5\", \"_aml_system_azureml.automlComponent\": \"AutoML\", \"pipeline_id_000\": \"5dfac790c5c209f98a1da2dc1c7fb76f0397324f;c7af0367625be6ac5c2fecbfc72ed444cb7a2111;51ae05309834b29f71340af1008fc94fbd8213f4;ce2643edf3d450b10c86c7d034a9bc952dc282d3;039a99c3d5147edeb525249e2660628be3e8b83f;a3dadd95854bf6116ab454844302b51d417d78b7;1dfdf370ba770047b14bfa59c40920815defcdab;294650ec23bc3d067a4972de7ceb12f6e97260fa;681a59302459aec2cc115ddbc14e1d28f4b3b8df;5bcf69d12307c5f0246b0d33ab19666443595ac9;9610149fbcf43017aa810a290e9c04cbe6fa8684;1e38ae92baee19b18f211a8b14c16015d5ee3dc3;dea7fdbaedc77258dbfe31dbfed41e768ca38939;6f4a466f84f725a47910c1dff062a1bb46df2a21;c74787cd2f0507b852a1ac70d504d83ac9bdec83;a7434e890cabef86b0ce4ae71fb633e1e92b854d;79ebb3b8c385e3190e3dd4c1fa28b74730528045;dd46719e1e1ca3df6e6826afb96bf9be8390e6e2;208056285bd1883d5bd7d4e4e996a1c71c4b0033;a72eb56f3d4aadb7b7f0149ba6e5f05657a95ca1;5dcd9bc8a74634130a855a68c1bf956ce7160f98;dfc631bbb8f3be228d228210719dafe9e4a19b00;3fe9ace0255a98a01a321c2b4c6ab86f6c1db8e5;f9c4839cd35f7fe03bcc11d87a99d82f63f333dc;ee365d2bc711bc6838929328cc4ff4b890fbc6c3;406bf7c5ee136c4150aef3e83983240c3ba59d35;d6b59777ec875a63efbfc0704b2e67d652730595;cb31ab559db08156dd98c227926319000538915b;f35d8030bc2a0748db692851ba4a7607dd8fa2ac;fbef3bdb6d339e7c82b36ce7277b437e10034b0f;6f8b40e25b459642504aa1b63afbe999d493de03;4ecfd2f743c74d169630256b9ceac4a9c4573e84;486a5732db2dfa5a7e3d4b6ff912a8d3e96a1d2c;20f74c45e96a9d983f0458002870f7dd2b84c07b;596c829f5b2bbbc0d92db2292b6853a148d5dfbc;8eec30b004aa15fb41b48197f5ade583d5c93bd7;__AutoML_Ensemble__\", \"score_000\": \"0.9987787177700516;0.9985844805699463;0.9671153241253073;0.9725547465886856;0.971683486477084;0.9946857986998717;0.9778082561600137;0.9903016405662504;0.9951940756307899;0.947487286396327;0.9858968762228938;0.9886005147395781;0.9859329228684062;0.9745068881359656;0.9950593846673023;0.9468114759781288;0.9784913276120571;0.9943466744333511;0.9817998540400524;0.9952781416585368;0.9831482301723553;0.988208224738333;0.9978869169956212;0.9476503626333482;0.9944942408339038;0.9909336584189501;0.9781357751994522;0.9792744395794667;0.9954694837028665;0.9862037430702871;0.9915583235401009;0.9973445097047877;0.9962586294887296;NaN;NaN;NaN;0.9987540782422036\", \"predicted_cost_000\": \"0;0;0.5;0.5;0.5;0.5;0.5;0.5;0.5;0.5;0.5;0.5;0.5;0.5;0.5;0.5;0.5;0.5;0.5;0.5;0.22305395346149393;0.06945176536556805;0.3550196529360462;0.052262484809094324;0.10496232820231435;0.12075531243774;0.33059126901511326;0.11401656447682627;0.1481260284557361;0.07829339394151388;0.13064389000237725;0.3793680327604537;0.07309321995419117;0.2070894323790574;0.4202151925144152;0.17209276397736636;0\", \"fit_time_000\": \"0.4053883333333334;0.33121433333333333;0.04023466666666667;0.03561966666666667;0.037882;0.06403199999999999;0.4774353333333334;0.07069966666666667;0.06300533333333333;0.132339;0.081076;0.7400873333333333;0.9046263333333333;0.032392;0.07639966666666666;0.4961043333333334;0.07077066666666666;0.04974900000000001;0.22866733333333333;0.353994;0.5517806666666667;0.04533666666666667;0.24683333333333332;0.044699666666666665;0.049812999999999996;0.08772166666666666;0.12274700000000001;0.05815433333333333;0.597339;0.05539066666666667;0.1811493333333333;0.35975533333333337;0.087624;NaN;NaN;NaN;25\", \"training_percent_000\": \"100;100;100;100;100;100;100;100;100;100;100;100;100;100;100;100;100;100;100;100;100;100;100;100;100;100;100;100;100;100;100;100;100;100;100;100;100\", \"iteration_000\": \"0;1;2;3;4;5;6;7;8;9;15;16;11;10;12;17;13;18;19;14;20;24;22;23;21;25;26;27;28;29;30;31;32;35;34;33;36\", \"run_preprocessor_000\": \"MaxAbsScaler;MaxAbsScaler;MaxAbsScaler;MaxAbsScaler;StandardScalerWrapper;SparseNormalizer;SparseNormalizer;StandardScalerWrapper;SparseNormalizer;MaxAbsScaler;MaxAbsScaler;MaxAbsScaler;MaxAbsScaler;SparseNormalizer;StandardScalerWrapper;StandardScalerWrapper;StandardScalerWrapper;StandardScalerWrapper;MaxAbsScaler;StandardScalerWrapper;MaxAbsScaler;SparseNormalizer;StandardScalerWrapper;MaxAbsScaler;StandardScalerWrapper;StandardScalerWrapper;MaxAbsScaler;StandardScalerWrapper;MaxAbsScaler;MaxAbsScaler;SparseNormalizer;StandardScalerWrapper;SparseNormalizer;;SparseNormalizer;SparseNormalizer;\", \"run_algorithm_000\": \"LightGBM;XGBoostClassifier;ExtremeRandomTrees;RandomForest;LightGBM;XGBoostClassifier;RandomForest;XGBoostClassifier;XGBoostClassifier;RandomForest;LightGBM;LogisticRegression;ExtremeRandomTrees;LightGBM;XGBoostClassifier;ExtremeRandomTrees;ExtremeRandomTrees;XGBoostClassifier;ExtremeRandomTrees;RandomForest;LogisticRegression;XGBoostClassifier;XGBoostClassifier;RandomForest;XGBoostClassifier;LightGBM;LinearSVM;LightGBM;LightGBM;LogisticRegression;LightGBM;XGBoostClassifier;XGBoostClassifier;;XGBoostClassifier;XGBoostClassifier;VotingEnsemble\", \"dynamic_allowlisting_iterations\": \"<25>;<30>;<35>;\", \"_aml_system_azureml.automl_early_exit_message\": \"No scores improved over last 10 iterations, so experiment stopped early. This early stopping behavior can be disabled by setting enable_early_stopping = False in AutoMLConfig for notebook/python SDK runs.\", \"automl_best_child_run_id\": \"AutoML_e7f39757-41ab-4806-9036-ceb666bd7771_0\", \"model_explain_best_run_child_id\": \"AutoML_e7f39757-41ab-4806-9036-ceb666bd7771_0\"}, \"end_time_utc\": \"2023-08-02T01:50:14.700306Z\", \"status\": \"Completed\", \"log_files\": {}, \"log_groups\": [], \"run_duration\": \"0:26:09\", \"run_number\": \"1690939445\", \"run_queued_details\": {\"status\": \"Completed\", \"details\": null}}, \"child_runs\": [{\"run_id\": \"AutoML_e7f39757-41ab-4806-9036-ceb666bd7771_setup\", \"run_number\": 1690939493, \"metric\": null, \"status\": \"Completed\", \"run_type\": \"azureml.scriptrun\", \"training_percent\": null, \"start_time\": \"2023-08-02T01:30:03.086821Z\", \"end_time\": \"2023-08-02T01:32:11.004091Z\", \"created_time\": \"2023-08-02T01:24:53.941444Z\", \"created_time_dt\": \"2023-08-02T01:24:53.941444Z\", \"duration\": \"0:07:17\", \"iteration\": null, \"goal\": null, \"run_name\": \"Completed\", \"run_properties\": null}, {\"run_id\": \"AutoML_e7f39757-41ab-4806-9036-ceb666bd7771_featurize\", \"run_number\": 1690939981, \"metric\": null, \"status\": \"Completed\", \"run_type\": \"automl.featurization\", \"training_percent\": null, \"start_time\": \"2023-08-02T01:33:01.464354Z\", \"end_time\": \"2023-08-02T01:34:25.419217Z\", \"created_time\": \"2023-08-02T01:33:01.06745Z\", \"created_time_dt\": \"2023-08-02T01:33:01.06745Z\", \"duration\": \"0:01:24\", \"iteration\": null, \"goal\": null, \"run_name\": \"Completed\", \"run_properties\": null}, {\"run_id\": \"AutoML_e7f39757-41ab-4806-9036-ceb666bd7771_0\", \"run_number\": 1690940067, \"metric\": null, \"status\": \"Completed\", \"run_type\": null, \"training_percent\": \"100\", \"start_time\": \"2023-08-02T01:34:50.887794Z\", \"end_time\": \"2023-08-02T01:35:31.320234Z\", \"created_time\": \"2023-08-02T01:34:27.057899Z\", \"created_time_dt\": \"2023-08-02T01:34:27.057899Z\", \"duration\": \"0:01:04\", \"iteration\": \"0\", \"goal\": \"AUC_weighted_max\", \"run_name\": \"MaxAbsScaler, LightGBM\", \"run_properties\": \"copy=True\", \"primary_metric\": 0.99877872, \"best_metric\": 0.99877872}, {\"run_id\": \"AutoML_e7f39757-41ab-4806-9036-ceb666bd7771_2\", \"run_number\": 1690940068, \"metric\": null, \"status\": \"Completed\", \"run_type\": null, \"training_percent\": \"100\", \"start_time\": \"2023-08-02T01:36:04.892359Z\", \"end_time\": \"2023-08-02T01:36:33.933702Z\", \"created_time\": \"2023-08-02T01:34:28.036005Z\", \"created_time_dt\": \"2023-08-02T01:34:28.036005Z\", \"duration\": \"0:02:05\", \"iteration\": \"2\", \"goal\": \"AUC_weighted_max\", \"run_name\": \"MaxAbsScaler, ExtremeRandomTrees\", \"run_properties\": \"copy=True\", \"primary_metric\": 0.96711532, \"best_metric\": 0.99877872}, {\"run_id\": \"AutoML_e7f39757-41ab-4806-9036-ceb666bd7771_worker_0\", \"run_number\": 1690940069, \"metric\": null, \"status\": \"Completed\", \"run_type\": \"azureml.scriptrun\", \"training_percent\": null, \"start_time\": \"2023-08-02T01:34:38.842398Z\", \"end_time\": \"2023-08-02T01:37:43.237059Z\", \"created_time\": \"2023-08-02T01:34:29.477846Z\", \"created_time_dt\": \"2023-08-02T01:34:29.477846Z\", \"duration\": \"0:03:13\", \"iteration\": null, \"goal\": null, \"run_name\": \"Completed\", \"run_properties\": null}, {\"run_id\": \"AutoML_e7f39757-41ab-4806-9036-ceb666bd7771_6\", \"run_number\": 1690940070, \"metric\": null, \"status\": \"Completed\", \"run_type\": null, \"training_percent\": \"100\", \"start_time\": \"2023-08-02T01:38:29.735438Z\", \"end_time\": \"2023-08-02T01:39:01.110592Z\", \"created_time\": \"2023-08-02T01:34:30.260789Z\", \"created_time_dt\": \"2023-08-02T01:34:30.260789Z\", \"duration\": \"0:04:30\", \"iteration\": \"6\", \"goal\": \"AUC_weighted_max\", \"run_name\": \"SparseNormalizer, RandomForest\", \"run_properties\": \"copy=True, norm='l2'\", \"primary_metric\": 0.97780826, \"best_metric\": 0.99877872}, {\"run_id\": \"AutoML_e7f39757-41ab-4806-9036-ceb666bd7771_worker_1\", \"run_number\": 1690940071, \"metric\": null, \"status\": \"Completed\", \"run_type\": \"azureml.scriptrun\", \"training_percent\": null, \"start_time\": \"2023-08-02T01:37:46.335835Z\", \"end_time\": \"2023-08-02T01:40:42.109316Z\", \"created_time\": \"2023-08-02T01:34:31.823891Z\", \"created_time_dt\": \"2023-08-02T01:34:31.823891Z\", \"duration\": \"0:06:10\", \"iteration\": null, \"goal\": null, \"run_name\": \"Completed\", \"run_properties\": null}, {\"run_id\": \"AutoML_e7f39757-41ab-4806-9036-ceb666bd7771_11\", \"run_number\": 1690940072, \"metric\": null, \"status\": \"Completed\", \"run_type\": null, \"training_percent\": \"100\", \"start_time\": \"2023-08-02T01:41:51.125557Z\", \"end_time\": \"2023-08-02T01:42:24.147212Z\", \"created_time\": \"2023-08-02T01:34:32.431252Z\", \"created_time_dt\": \"2023-08-02T01:34:32.431252Z\", \"duration\": \"0:07:51\", \"iteration\": \"11\", \"goal\": \"AUC_weighted_max\", \"run_name\": \"MaxAbsScaler, ExtremeRandomTrees\", \"run_properties\": \"copy=True\", \"primary_metric\": 0.98593292, \"best_metric\": 0.99877872}, {\"run_id\": \"AutoML_e7f39757-41ab-4806-9036-ceb666bd7771_13\", \"run_number\": 1690940073, \"metric\": null, \"status\": \"Completed\", \"run_type\": null, \"training_percent\": \"100\", \"start_time\": \"2023-08-02T01:42:52.562154Z\", \"end_time\": \"2023-08-02T01:43:19.074657Z\", \"created_time\": \"2023-08-02T01:34:33.472482Z\", \"created_time_dt\": \"2023-08-02T01:34:33.472482Z\", \"duration\": \"0:08:45\", \"iteration\": \"13\", \"goal\": \"AUC_weighted_max\", \"run_name\": \"StandardScalerWrapper, ExtremeRandomTrees\", \"run_properties\": \"copy=True, with_mean=False, with_std=False\", \"primary_metric\": 0.97849133, \"best_metric\": 0.99877872}, {\"run_id\": \"AutoML_e7f39757-41ab-4806-9036-ceb666bd7771_worker_2\", \"run_number\": 1690940074, \"metric\": null, \"status\": \"Completed\", \"run_type\": \"azureml.scriptrun\", \"training_percent\": null, \"start_time\": \"2023-08-02T01:39:46.920639Z\", \"end_time\": \"2023-08-02T01:43:59.663696Z\", \"created_time\": \"2023-08-02T01:34:34.326388Z\", \"created_time_dt\": \"2023-08-02T01:34:34.326388Z\", \"duration\": \"0:09:25\", \"iteration\": null, \"goal\": null, \"run_name\": \"Completed\", \"run_properties\": null}, {\"run_id\": \"AutoML_e7f39757-41ab-4806-9036-ceb666bd7771_17\", \"run_number\": 1690940075, \"metric\": null, \"status\": \"Completed\", \"run_type\": null, \"training_percent\": \"100\", \"start_time\": \"2023-08-02T01:42:24.78939Z\", \"end_time\": \"2023-08-02T01:42:53.724501Z\", \"created_time\": \"2023-08-02T01:34:35.430798Z\", \"created_time_dt\": \"2023-08-02T01:34:35.430798Z\", \"duration\": \"0:08:18\", \"iteration\": \"17\", \"goal\": \"AUC_weighted_max\", \"run_name\": \"StandardScalerWrapper, ExtremeRandomTrees\", \"run_properties\": \"copy=True, with_mean=False, with_std=True\", \"primary_metric\": 0.94681148, \"best_metric\": 0.99877872}, {\"run_id\": \"AutoML_e7f39757-41ab-4806-9036-ceb666bd7771_worker_3\", \"run_number\": 1690940076, \"metric\": null, \"status\": \"Completed\", \"run_type\": \"azureml.scriptrun\", \"training_percent\": null, \"start_time\": \"2023-08-02T01:39:45.948399Z\", \"end_time\": \"2023-08-02T01:43:59.654071Z\", \"created_time\": \"2023-08-02T01:34:36.904677Z\", \"created_time_dt\": \"2023-08-02T01:34:36.904677Z\", \"duration\": \"0:09:22\", \"iteration\": null, \"goal\": null, \"run_name\": \"Completed\", \"run_properties\": null}, {\"run_id\": \"AutoML_e7f39757-41ab-4806-9036-ceb666bd7771_20\", \"run_number\": 1690940602, \"metric\": null, \"status\": \"Completed\", \"run_type\": \"azureml.scriptrun\", \"training_percent\": \"100\", \"start_time\": \"2023-08-02T01:43:33.941681Z\", \"end_time\": \"2023-08-02T01:44:28.5347Z\", \"created_time\": \"2023-08-02T01:43:22.659189Z\", \"created_time_dt\": \"2023-08-02T01:43:22.659189Z\", \"duration\": \"0:01:05\", \"iteration\": \"20\", \"goal\": \"AUC_weighted_max\", \"run_name\": \"MaxAbsScaler, LogisticRegression\", \"run_properties\": \"copy=True\", \"primary_metric\": 0.98314823, \"best_metric\": 0.99877872}, {\"run_id\": \"AutoML_e7f39757-41ab-4806-9036-ceb666bd7771_22\", \"run_number\": 1690940671, \"metric\": null, \"status\": \"Completed\", \"run_type\": \"azureml.scriptrun\", \"training_percent\": \"100\", \"start_time\": \"2023-08-02T01:44:46.12596Z\", \"end_time\": \"2023-08-02T01:45:32.733979Z\", \"created_time\": \"2023-08-02T01:44:31.530027Z\", \"created_time_dt\": \"2023-08-02T01:44:31.530027Z\", \"duration\": \"0:01:01\", \"iteration\": \"22\", \"goal\": \"AUC_weighted_max\", \"run_name\": \"StandardScalerWrapper, XGBoostClassifier\", \"run_properties\": \"copy=True, with_mean=False, with_std=False\", \"primary_metric\": 0.99788692, \"best_metric\": 0.99877872}, {\"run_id\": \"AutoML_e7f39757-41ab-4806-9036-ceb666bd7771_25\", \"run_number\": 1690940734, \"metric\": null, \"status\": \"Completed\", \"run_type\": \"azureml.scriptrun\", \"training_percent\": \"100\", \"start_time\": \"2023-08-02T01:45:42.505156Z\", \"end_time\": \"2023-08-02T01:46:28.553908Z\", \"created_time\": \"2023-08-02T01:45:34.756352Z\", \"created_time_dt\": \"2023-08-02T01:45:34.756352Z\", \"duration\": \"0:00:53\", \"iteration\": \"25\", \"goal\": \"AUC_weighted_max\", \"run_name\": \"StandardScalerWrapper, LightGBM\", \"run_properties\": \"copy=True, with_mean=False, with_std=False\", \"primary_metric\": 0.99093366, \"best_metric\": 0.99877872}, {\"run_id\": \"AutoML_e7f39757-41ab-4806-9036-ceb666bd7771_26\", \"run_number\": 1690940737, \"metric\": null, \"status\": \"Completed\", \"run_type\": \"azureml.scriptrun\", \"training_percent\": \"100\", \"start_time\": \"2023-08-02T01:45:47.578137Z\", \"end_time\": \"2023-08-02T01:46:32.285626Z\", \"created_time\": \"2023-08-02T01:45:37.289858Z\", \"created_time_dt\": \"2023-08-02T01:45:37.289858Z\", \"duration\": \"0:00:54\", \"iteration\": \"26\", \"goal\": \"AUC_weighted_max\", \"run_name\": \"MaxAbsScaler, LinearSVM\", \"run_properties\": \"copy=True\", \"primary_metric\": 0.97813578, \"best_metric\": 0.99877872}, {\"run_id\": \"AutoML_e7f39757-41ab-4806-9036-ceb666bd7771_27\", \"run_number\": 1690940744, \"metric\": null, \"status\": \"Completed\", \"run_type\": \"azureml.scriptrun\", \"training_percent\": \"100\", \"start_time\": \"2023-08-02T01:45:52.827112Z\", \"end_time\": \"2023-08-02T01:46:42.121874Z\", \"created_time\": \"2023-08-02T01:45:44.297436Z\", \"created_time_dt\": \"2023-08-02T01:45:44.297436Z\", \"duration\": \"0:00:57\", \"iteration\": \"27\", \"goal\": \"AUC_weighted_max\", \"run_name\": \"StandardScalerWrapper, LightGBM\", \"run_properties\": \"copy=True, with_mean=False, with_std=True\", \"primary_metric\": 0.97927444, \"best_metric\": 0.99877872}, {\"run_id\": \"AutoML_e7f39757-41ab-4806-9036-ceb666bd7771_28\", \"run_number\": 1690940754, \"metric\": null, \"status\": \"Completed\", \"run_type\": \"azureml.scriptrun\", \"training_percent\": \"100\", \"start_time\": \"2023-08-02T01:46:05.877616Z\", \"end_time\": \"2023-08-02T01:46:56.45047Z\", \"created_time\": \"2023-08-02T01:45:54.019388Z\", \"created_time_dt\": \"2023-08-02T01:45:54.019388Z\", \"duration\": \"0:01:02\", \"iteration\": \"28\", \"goal\": \"AUC_weighted_max\", \"run_name\": \"MaxAbsScaler, LightGBM\", \"run_properties\": \"copy=True\", \"primary_metric\": 0.99546948, \"best_metric\": 0.99877872}, {\"run_id\": \"AutoML_e7f39757-41ab-4806-9036-ceb666bd7771_29\", \"run_number\": 1690940790, \"metric\": null, \"status\": \"Completed\", \"run_type\": \"azureml.scriptrun\", \"training_percent\": \"100\", \"start_time\": \"2023-08-02T01:46:40.904382Z\", \"end_time\": \"2023-08-02T01:47:25.308778Z\", \"created_time\": \"2023-08-02T01:46:30.039873Z\", \"created_time_dt\": \"2023-08-02T01:46:30.039873Z\", \"duration\": \"0:00:55\", \"iteration\": \"29\", \"goal\": \"AUC_weighted_max\", \"run_name\": \"MaxAbsScaler, LogisticRegression\", \"run_properties\": \"copy=True\", \"primary_metric\": 0.98620374, \"best_metric\": 0.99877872}, {\"run_id\": \"AutoML_e7f39757-41ab-4806-9036-ceb666bd7771_30\", \"run_number\": 1690940794, \"metric\": null, \"status\": \"Completed\", \"run_type\": \"azureml.scriptrun\", \"training_percent\": \"100\", \"start_time\": \"2023-08-02T01:46:44.090268Z\", \"end_time\": \"2023-08-02T01:47:29.68851Z\", \"created_time\": \"2023-08-02T01:46:34.775349Z\", \"created_time_dt\": \"2023-08-02T01:46:34.775349Z\", \"duration\": \"0:00:54\", \"iteration\": \"30\", \"goal\": \"AUC_weighted_max\", \"run_name\": \"SparseNormalizer, LightGBM\", \"run_properties\": \"copy=True, norm='max'\", \"primary_metric\": 0.99155832, \"best_metric\": 0.99877872}, {\"run_id\": \"AutoML_e7f39757-41ab-4806-9036-ceb666bd7771_31\", \"run_number\": 1690940803, \"metric\": null, \"status\": \"Completed\", \"run_type\": \"azureml.scriptrun\", \"training_percent\": \"100\", \"start_time\": \"2023-08-02T01:46:51.091739Z\", \"end_time\": \"2023-08-02T01:47:42.476472Z\", \"created_time\": \"2023-08-02T01:46:43.846282Z\", \"created_time_dt\": \"2023-08-02T01:46:43.846282Z\", \"duration\": \"0:00:58\", \"iteration\": \"31\", \"goal\": \"AUC_weighted_max\", \"run_name\": \"StandardScalerWrapper, XGBoostClassifier\", \"run_properties\": \"copy=True, with_mean=False, with_std=False\", \"primary_metric\": 0.99734451, \"best_metric\": 0.99877872}, {\"run_id\": \"AutoML_e7f39757-41ab-4806-9036-ceb666bd7771_32\", \"run_number\": 1690940818, \"metric\": null, \"status\": \"Completed\", \"run_type\": \"azureml.scriptrun\", \"training_percent\": \"100\", \"start_time\": \"2023-08-02T01:47:09.251773Z\", \"end_time\": \"2023-08-02T01:47:56.297092Z\", \"created_time\": \"2023-08-02T01:46:58.045108Z\", \"created_time_dt\": \"2023-08-02T01:46:58.045108Z\", \"duration\": \"0:00:58\", \"iteration\": \"32\", \"goal\": \"AUC_weighted_max\", \"run_name\": \"SparseNormalizer, XGBoostClassifier\", \"run_properties\": \"copy=True, norm='max'\", \"primary_metric\": 0.99625863, \"best_metric\": 0.99877872}, {\"run_id\": \"AutoML_e7f39757-41ab-4806-9036-ceb666bd7771_33\", \"run_number\": 1690940847, \"metric\": null, \"status\": \"Canceled\", \"run_type\": \"azureml.scriptrun\", \"training_percent\": \"100\", \"start_time\": \"2023-08-02T01:47:37.295682Z\", \"end_time\": \"2023-08-02T01:48:04.07788Z\", \"created_time\": \"2023-08-02T01:47:27.143248Z\", \"created_time_dt\": \"2023-08-02T01:47:27.143248Z\", \"duration\": \"0:00:36\", \"iteration\": \"33\", \"goal\": null, \"run_name\": \"SparseNormalizer, XGBoostClassifier\", \"run_properties\": null}, {\"run_id\": \"AutoML_e7f39757-41ab-4806-9036-ceb666bd7771_34\", \"run_number\": 1690940851, \"metric\": null, \"status\": \"Canceled\", \"run_type\": \"azureml.scriptrun\", \"training_percent\": \"100\", \"start_time\": \"2023-08-02T01:47:40.401923Z\", \"end_time\": \"2023-08-02T01:48:04.701152Z\", \"created_time\": \"2023-08-02T01:47:31.401841Z\", \"created_time_dt\": \"2023-08-02T01:47:31.401841Z\", \"duration\": \"0:00:33\", \"iteration\": \"34\", \"goal\": null, \"run_name\": \"SparseNormalizer, XGBoostClassifier\", \"run_properties\": null}, {\"run_id\": \"AutoML_e7f39757-41ab-4806-9036-ceb666bd7771_35\", \"run_number\": 1690940865, \"metric\": null, \"status\": \"Canceled\", \"run_type\": \"azureml.scriptrun\", \"training_percent\": \"100\", \"start_time\": \"2023-08-02T01:47:55.600692Z\", \"end_time\": \"2023-08-02T01:48:03.742902Z\", \"created_time\": \"2023-08-02T01:47:45.678533Z\", \"created_time_dt\": \"2023-08-02T01:47:45.678533Z\", \"duration\": \"0:00:18\", \"iteration\": \"35\", \"goal\": null, \"run_name\": \"Canceled\", \"run_properties\": null}, {\"run_id\": \"AutoML_e7f39757-41ab-4806-9036-ceb666bd7771_36\", \"run_number\": 1690940885, \"metric\": null, \"status\": \"Completed\", \"run_type\": \"azureml.scriptrun\", \"training_percent\": \"100\", \"start_time\": \"2023-08-02T01:48:18.832792Z\", \"end_time\": \"2023-08-02T01:49:29.324022Z\", \"created_time\": \"2023-08-02T01:48:05.579767Z\", \"created_time_dt\": \"2023-08-02T01:48:05.579767Z\", \"duration\": \"0:01:23\", \"iteration\": \"36\", \"goal\": \"AUC_weighted_max\", \"run_name\": \"VotingEnsemble\", \"run_properties\": \"classification_labels=numpy.array([0, 1, 2, 3]\", \"primary_metric\": 0.99875408, \"best_metric\": 0.99877872}], \"children_metrics\": {\"categories\": [0], \"series\": {\"recall_score_macro\": [{\"categories\": [\"0\", \"2\", \"6\", \"11\", \"13\", \"17\", \"20\", \"22\", \"25\", \"26\", \"27\", \"28\", \"29\", \"30\", \"31\", \"32\", \"36\"], \"mode\": \"markers\", \"name\": \"recall_score_macro\", \"stepped\": false, \"type\": \"scatter\", \"data\": [0.9624798064408936, 0.5438481617833818, 0.9034705696105974, 0.9263103152550701, 0.29089665471923537, 0.8149055311969481, 0.7264666913991272, 0.8742798818816322, 0.6925939474244426, 0.5800147387256148, 0.5405242755852357, 0.8011944205482009, 0.7713352629111944, 0.6857626512267396, 0.8677103493814894, 0.8333594747056434, 0.9560022961414408]}, {\"categories\": [\"0\", \"2\", \"6\", \"11\", \"13\", \"17\", \"20\", \"22\", \"25\", \"26\", \"27\", \"28\", \"29\", \"30\", \"31\", \"32\", \"36\"], \"mode\": \"lines\", \"name\": \"recall_score_macro_max\", \"stepped\": true, \"type\": \"scatter\", \"data\": [0.9624798064408936, 0.9624798064408936, 0.9624798064408936, 0.9624798064408936, 0.9624798064408936, 0.9624798064408936, 0.9624798064408936, 0.9624798064408936, 0.9624798064408936, 0.9624798064408936, 0.9624798064408936, 0.9624798064408936, 0.9624798064408936, 0.9624798064408936, 0.9624798064408936, 0.9624798064408936, 0.9624798064408936]}], \"weighted_accuracy\": [{\"categories\": [\"0\", \"2\", \"6\", \"11\", \"13\", \"17\", \"20\", \"22\", \"25\", \"26\", \"27\", \"28\", \"29\", \"30\", \"31\", \"32\", \"36\"], \"mode\": \"markers\", \"name\": \"weighted_accuracy\", \"stepped\": false, \"type\": \"scatter\", \"data\": [0.9865024510085333, 0.8995299022805695, 0.8681789815712384, 0.9173465091027957, 0.9171424061726726, 0.8399490242393902, 0.9432093390992695, 0.9845834938221532, 0.9567630869442958, 0.9408550704793992, 0.9473211241218386, 0.9761902323514547, 0.9460944393848925, 0.9642510512687194, 0.9817692808212565, 0.9742753083620107, 0.987139240424933]}, {\"categories\": [\"0\", \"2\", \"6\", \"11\", \"13\", \"17\", \"20\", \"22\", \"25\", \"26\", \"27\", \"28\", \"29\", \"30\", \"31\", \"32\", \"36\"], \"mode\": \"lines\", \"name\": \"weighted_accuracy_max\", \"stepped\": true, \"type\": \"scatter\", \"data\": [0.9865024510085333, 0.9865024510085333, 0.9865024510085333, 0.9865024510085333, 0.9865024510085333, 0.9865024510085333, 0.9865024510085333, 0.9865024510085333, 0.9865024510085333, 0.9865024510085333, 0.9865024510085333, 0.9865024510085333, 0.9865024510085333, 0.9865024510085333, 0.9865024510085333, 0.9865024510085333, 0.987139240424933]}], \"f1_score_weighted\": [{\"categories\": [\"0\", \"2\", \"6\", \"11\", \"13\", \"17\", \"20\", \"22\", \"25\", \"26\", \"27\", \"28\", \"29\", \"30\", \"31\", \"32\", \"36\"], \"mode\": \"markers\", \"name\": \"f1_score_weighted\", \"stepped\": false, \"type\": \"scatter\", \"data\": [0.9824728186538567, 0.8282142734180568, 0.8814667913971163, 0.9218586646331364, 0.6521428178436527, 0.8301090762595459, 0.8934263162325071, 0.9636496753613186, 0.9091940160478197, 0.8558646192355713, 0.8550342047008059, 0.9435569063547188, 0.9085165658205246, 0.9099511330088966, 0.9606626119455354, 0.9484264030299494, 0.9817880661569424]}, {\"categories\": [\"0\", \"2\", \"6\", \"11\", \"13\", \"17\", \"20\", \"22\", \"25\", \"26\", \"27\", \"28\", \"29\", \"30\", \"31\", \"32\", \"36\"], \"mode\": \"lines\", \"name\": \"f1_score_weighted_max\", \"stepped\": true, \"type\": \"scatter\", \"data\": [0.9824728186538567, 0.9824728186538567, 0.9824728186538567, 0.9824728186538567, 0.9824728186538567, 0.9824728186538567, 0.9824728186538567, 0.9824728186538567, 0.9824728186538567, 0.9824728186538567, 0.9824728186538567, 0.9824728186538567, 0.9824728186538567, 0.9824728186538567, 0.9824728186538567, 0.9824728186538567, 0.9824728186538567]}], \"precision_score_macro\": [{\"categories\": [\"0\", \"2\", \"6\", \"11\", \"13\", \"17\", \"20\", \"22\", \"25\", \"26\", \"27\", \"28\", \"29\", \"30\", \"31\", \"32\", \"36\"], \"mode\": \"markers\", \"name\": \"precision_score_macro\", \"stepped\": false, \"type\": \"scatter\", \"data\": [0.9692311328293718, 0.5382072792040185, 0.7601408890262347, 0.8160082377879565, 0.35424682380435374, 0.6477496403943256, 0.7650065324863927, 0.8920424855991972, 0.7767430294537369, 0.7356772086219289, 0.6480094069849959, 0.8372165007099461, 0.8221606561982694, 0.7916952496283202, 0.8910387833562087, 0.8600094122621816, 0.9682425796065454]}, {\"categories\": [\"0\", \"2\", \"6\", \"11\", \"13\", \"17\", \"20\", \"22\", \"25\", \"26\", \"27\", \"28\", \"29\", \"30\", \"31\", \"32\", \"36\"], \"mode\": \"lines\", \"name\": \"precision_score_macro_max\", \"stepped\": true, \"type\": \"scatter\", \"data\": [0.9692311328293718, 0.9692311328293718, 0.9692311328293718, 0.9692311328293718, 0.9692311328293718, 0.9692311328293718, 0.9692311328293718, 0.9692311328293718, 0.9692311328293718, 0.9692311328293718, 0.9692311328293718, 0.9692311328293718, 0.9692311328293718, 0.9692311328293718, 0.9692311328293718, 0.9692311328293718, 0.9692311328293718]}], \"f1_score_micro\": [{\"categories\": [\"0\", \"2\", \"6\", \"11\", \"13\", \"17\", \"20\", \"22\", \"25\", \"26\", \"27\", \"28\", \"29\", \"30\", \"31\", \"32\", \"36\"], \"mode\": \"markers\", \"name\": \"f1_score_micro\", \"stepped\": false, \"type\": \"scatter\", \"data\": [0.9826328502415459, 0.840180152979066, 0.8737882447665056, 0.9183564814814815, 0.7359541062801932, 0.808370571658615, 0.8963506441223833, 0.9646769323671497, 0.9125603864734299, 0.866808574879227, 0.8720289855072464, 0.9449849033816425, 0.9113989533011272, 0.9154518921095008, 0.9617824074074074, 0.9496235909822867, 0.9820531400966184]}, {\"categories\": [\"0\", \"2\", \"6\", \"11\", \"13\", \"17\", \"20\", \"22\", \"25\", \"26\", \"27\", \"28\", \"29\", \"30\", \"31\", \"32\", \"36\"], \"mode\": \"lines\", \"name\": \"f1_score_micro_max\", \"stepped\": true, \"type\": \"scatter\", \"data\": [0.9826328502415459, 0.9826328502415459, 0.9826328502415459, 0.9826328502415459, 0.9826328502415459, 0.9826328502415459, 0.9826328502415459, 0.9826328502415459, 0.9826328502415459, 0.9826328502415459, 0.9826328502415459, 0.9826328502415459, 0.9826328502415459, 0.9826328502415459, 0.9826328502415459, 0.9826328502415459, 0.9826328502415459]}], \"f1_score_macro\": [{\"categories\": [\"0\", \"2\", \"6\", \"11\", \"13\", \"17\", \"20\", \"22\", \"25\", \"26\", \"27\", \"28\", \"29\", \"30\", \"31\", \"32\", \"36\"], \"mode\": \"markers\", \"name\": \"f1_score_macro\", \"stepped\": false, \"type\": \"scatter\", \"data\": [0.964149597555385, 0.53167929729486, 0.8154611192941076, 0.86204655995064, 0.27728972618742137, 0.6864594388570108, 0.7385695750165082, 0.8808073538674682, 0.7144467327618789, 0.6164692903641643, 0.5575485754866768, 0.8147141348515197, 0.7816119582265652, 0.7180205794479811, 0.8760270241128888, 0.8424683922819782, 0.9598998893883487]}, {\"categories\": [\"0\", \"2\", \"6\", \"11\", \"13\", \"17\", \"20\", \"22\", \"25\", \"26\", \"27\", \"28\", \"29\", \"30\", \"31\", \"32\", \"36\"], \"mode\": \"lines\", \"name\": \"f1_score_macro_max\", \"stepped\": true, \"type\": \"scatter\", \"data\": [0.964149597555385, 0.964149597555385, 0.964149597555385, 0.964149597555385, 0.964149597555385, 0.964149597555385, 0.964149597555385, 0.964149597555385, 0.964149597555385, 0.964149597555385, 0.964149597555385, 0.964149597555385, 0.964149597555385, 0.964149597555385, 0.964149597555385, 0.964149597555385, 0.964149597555385]}], \"average_precision_score_weighted\": [{\"categories\": [\"0\", \"2\", \"6\", \"11\", \"13\", \"17\", \"20\", \"22\", \"25\", \"26\", \"27\", \"28\", \"29\", \"30\", \"31\", \"32\", \"36\"], \"mode\": \"markers\", \"name\": \"average_precision_score_weighted\", \"stepped\": false, \"type\": \"scatter\", \"data\": [0.9971952408718546, 0.9193352177813966, 0.9285935255213832, 0.957427565942704, 0.9282794727492075, 0.8773837793242952, 0.9482571600244548, 0.9878472810691968, 0.9648091884126533, 0.9363247322737926, 0.9292464953291333, 0.9771629572954965, 0.9634390085866443, 0.961131869842955, 0.9869885049696974, 0.9827429276226057, 0.9964409322452914]}, {\"categories\": [\"0\", \"2\", \"6\", \"11\", \"13\", \"17\", \"20\", \"22\", \"25\", \"26\", \"27\", \"28\", \"29\", \"30\", \"31\", \"32\", \"36\"], \"mode\": \"lines\", \"name\": \"average_precision_score_weighted_max\", \"stepped\": true, \"type\": \"scatter\", \"data\": [0.9971952408718546, 0.9971952408718546, 0.9971952408718546, 0.9971952408718546, 0.9971952408718546, 0.9971952408718546, 0.9971952408718546, 0.9971952408718546, 0.9971952408718546, 0.9971952408718546, 0.9971952408718546, 0.9971952408718546, 0.9971952408718546, 0.9971952408718546, 0.9971952408718546, 0.9971952408718546, 0.9971952408718546]}], \"average_precision_score_micro\": [{\"categories\": [\"0\", \"2\", \"6\", \"11\", \"13\", \"17\", \"20\", \"22\", \"25\", \"26\", \"27\", \"28\", \"29\", \"30\", \"31\", \"32\", \"36\"], \"mode\": \"markers\", \"name\": \"average_precision_score_micro\", \"stepped\": false, \"type\": \"scatter\", \"data\": [0.9982808475759496, 0.9463456420431742, 0.9566477849085345, 0.9719614002850748, 0.906808833720479, 0.9242548851441326, 0.9703949662289729, 0.9960043403411741, 0.9822631391943785, 0.962283095437782, 0.9618166367500544, 0.9913792849712562, 0.9805281154025586, 0.9821596417046198, 0.9949760258552637, 0.9922646160954964, 0.9980113416701292]}, {\"categories\": [\"0\", \"2\", \"6\", \"11\", \"13\", \"17\", \"20\", \"22\", \"25\", \"26\", \"27\", \"28\", \"29\", \"30\", \"31\", \"32\", \"36\"], \"mode\": \"lines\", \"name\": \"average_precision_score_micro_max\", \"stepped\": true, \"type\": \"scatter\", \"data\": [0.9982808475759496, 0.9982808475759496, 0.9982808475759496, 0.9982808475759496, 0.9982808475759496, 0.9982808475759496, 0.9982808475759496, 0.9982808475759496, 0.9982808475759496, 0.9982808475759496, 0.9982808475759496, 0.9982808475759496, 0.9982808475759496, 0.9982808475759496, 0.9982808475759496, 0.9982808475759496, 0.9982808475759496]}], \"AUC_weighted\": [{\"categories\": [\"0\", \"2\", \"6\", \"11\", \"13\", \"17\", \"20\", \"22\", \"25\", \"26\", \"27\", \"28\", \"29\", \"30\", \"31\", \"32\", \"36\"], \"mode\": \"markers\", \"name\": \"AUC_weighted\", \"stepped\": false, \"type\": \"scatter\", \"data\": [0.9987787177700516, 0.9671153241253073, 0.9778082561600137, 0.9859329228684062, 0.9784913276120571, 0.9468114759781288, 0.9831482301723553, 0.9978869169956212, 0.9909336584189501, 0.9781357751994522, 0.9792744395794667, 0.9954694837028665, 0.9862037430702871, 0.9915583235401009, 0.9973445097047877, 0.9962586294887296, 0.9987540782422036]}, {\"categories\": [\"0\", \"2\", \"6\", \"11\", \"13\", \"17\", \"20\", \"22\", \"25\", \"26\", \"27\", \"28\", \"29\", \"30\", \"31\", \"32\", \"36\"], \"mode\": \"lines\", \"name\": \"AUC_weighted_max\", \"stepped\": true, \"type\": \"scatter\", \"data\": [0.9987787177700516, 0.9987787177700516, 0.9987787177700516, 0.9987787177700516, 0.9987787177700516, 0.9987787177700516, 0.9987787177700516, 0.9987787177700516, 0.9987787177700516, 0.9987787177700516, 0.9987787177700516, 0.9987787177700516, 0.9987787177700516, 0.9987787177700516, 0.9987787177700516, 0.9987787177700516, 0.9987787177700516]}], \"accuracy\": [{\"categories\": [\"0\", \"2\", \"6\", \"11\", \"13\", \"17\", \"20\", \"22\", \"25\", \"26\", \"27\", \"28\", \"29\", \"30\", \"31\", \"32\", \"36\"], \"mode\": \"markers\", \"name\": \"accuracy\", \"stepped\": false, \"type\": \"scatter\", \"data\": [0.9826328502415459, 0.840180152979066, 0.8737882447665056, 0.9183564814814815, 0.7359541062801932, 0.8083705716586151, 0.8963506441223833, 0.9646769323671497, 0.9125603864734299, 0.8668085748792271, 0.8720289855072464, 0.9449849033816425, 0.9113989533011272, 0.9154518921095008, 0.9617824074074074, 0.9496235909822867, 0.9820531400966184]}, {\"categories\": [\"0\", \"2\", \"6\", \"11\", \"13\", \"17\", \"20\", \"22\", \"25\", \"26\", \"27\", \"28\", \"29\", \"30\", \"31\", \"32\", \"36\"], \"mode\": \"lines\", \"name\": \"accuracy_max\", \"stepped\": true, \"type\": \"scatter\", \"data\": [0.9826328502415459, 0.9826328502415459, 0.9826328502415459, 0.9826328502415459, 0.9826328502415459, 0.9826328502415459, 0.9826328502415459, 0.9826328502415459, 0.9826328502415459, 0.9826328502415459, 0.9826328502415459, 0.9826328502415459, 0.9826328502415459, 0.9826328502415459, 0.9826328502415459, 0.9826328502415459, 0.9826328502415459]}], \"balanced_accuracy\": [{\"categories\": [\"0\", \"2\", \"6\", \"11\", \"13\", \"17\", \"20\", \"22\", \"25\", \"26\", \"27\", \"28\", \"29\", \"30\", \"31\", \"32\", \"36\"], \"mode\": \"markers\", \"name\": \"balanced_accuracy\", \"stepped\": false, \"type\": \"scatter\", \"data\": [0.9624798064408936, 0.5438481617833818, 0.9034705696105974, 0.9263103152550701, 0.29089665471923537, 0.8149055311969481, 0.7264666913991272, 0.8742798818816322, 0.6925939474244426, 0.5800147387256148, 0.5405242755852357, 0.8011944205482009, 0.7713352629111944, 0.6857626512267396, 0.8677103493814894, 0.8333594747056434, 0.9560022961414408]}, {\"categories\": [\"0\", \"2\", \"6\", \"11\", \"13\", \"17\", \"20\", \"22\", \"25\", \"26\", \"27\", \"28\", \"29\", \"30\", \"31\", \"32\", \"36\"], \"mode\": \"lines\", \"name\": \"balanced_accuracy_max\", \"stepped\": true, \"type\": \"scatter\", \"data\": [0.9624798064408936, 0.9624798064408936, 0.9624798064408936, 0.9624798064408936, 0.9624798064408936, 0.9624798064408936, 0.9624798064408936, 0.9624798064408936, 0.9624798064408936, 0.9624798064408936, 0.9624798064408936, 0.9624798064408936, 0.9624798064408936, 0.9624798064408936, 0.9624798064408936, 0.9624798064408936, 0.9624798064408936]}], \"recall_score_micro\": [{\"categories\": [\"0\", \"2\", \"6\", \"11\", \"13\", \"17\", \"20\", \"22\", \"25\", \"26\", \"27\", \"28\", \"29\", \"30\", \"31\", \"32\", \"36\"], \"mode\": \"markers\", \"name\": \"recall_score_micro\", \"stepped\": false, \"type\": \"scatter\", \"data\": [0.9826328502415459, 0.840180152979066, 0.8737882447665056, 0.9183564814814815, 0.7359541062801932, 0.8083705716586151, 0.8963506441223833, 0.9646769323671497, 0.9125603864734299, 0.8668085748792271, 0.8720289855072464, 0.9449849033816425, 0.9113989533011272, 0.9154518921095008, 0.9617824074074074, 0.9496235909822867, 0.9820531400966184]}, {\"categories\": [\"0\", \"2\", \"6\", \"11\", \"13\", \"17\", \"20\", \"22\", \"25\", \"26\", \"27\", \"28\", \"29\", \"30\", \"31\", \"32\", \"36\"], \"mode\": \"lines\", \"name\": \"recall_score_micro_max\", \"stepped\": true, \"type\": \"scatter\", \"data\": [0.9826328502415459, 0.9826328502415459, 0.9826328502415459, 0.9826328502415459, 0.9826328502415459, 0.9826328502415459, 0.9826328502415459, 0.9826328502415459, 0.9826328502415459, 0.9826328502415459, 0.9826328502415459, 0.9826328502415459, 0.9826328502415459, 0.9826328502415459, 0.9826328502415459, 0.9826328502415459, 0.9826328502415459]}], \"recall_score_weighted\": [{\"categories\": [\"0\", \"2\", \"6\", \"11\", \"13\", \"17\", \"20\", \"22\", \"25\", \"26\", \"27\", \"28\", \"29\", \"30\", \"31\", \"32\", \"36\"], \"mode\": \"markers\", \"name\": \"recall_score_weighted\", \"stepped\": false, \"type\": \"scatter\", \"data\": [0.9826328502415459, 0.840180152979066, 0.8737882447665056, 0.9183564814814815, 0.7359541062801932, 0.8083705716586151, 0.8963506441223833, 0.9646769323671497, 0.9125603864734299, 0.8668085748792271, 0.8720289855072464, 0.9449849033816425, 0.9113989533011272, 0.9154518921095008, 0.9617824074074074, 0.9496235909822867, 0.9820531400966184]}, {\"categories\": [\"0\", \"2\", \"6\", \"11\", \"13\", \"17\", \"20\", \"22\", \"25\", \"26\", \"27\", \"28\", \"29\", \"30\", \"31\", \"32\", \"36\"], \"mode\": \"lines\", \"name\": \"recall_score_weighted_max\", \"stepped\": true, \"type\": \"scatter\", \"data\": [0.9826328502415459, 0.9826328502415459, 0.9826328502415459, 0.9826328502415459, 0.9826328502415459, 0.9826328502415459, 0.9826328502415459, 0.9826328502415459, 0.9826328502415459, 0.9826328502415459, 0.9826328502415459, 0.9826328502415459, 0.9826328502415459, 0.9826328502415459, 0.9826328502415459, 0.9826328502415459, 0.9826328502415459]}], \"precision_score_weighted\": [{\"categories\": [\"0\", \"2\", \"6\", \"11\", \"13\", \"17\", \"20\", \"22\", \"25\", \"26\", \"27\", \"28\", \"29\", \"30\", \"31\", \"32\", \"36\"], \"mode\": \"markers\", \"name\": \"precision_score_weighted\", \"stepped\": false, \"type\": \"scatter\", \"data\": [0.9832159651814981, 0.8261112305074912, 0.9054425784308203, 0.9324405282890961, 0.6682858959249764, 0.8730732523104189, 0.8938932084921257, 0.9637132960382512, 0.9160146202114987, 0.8592393635332539, 0.8525373586983992, 0.9444658397346669, 0.9120351681076254, 0.9135653700058392, 0.9611518202798123, 0.9495112551294875, 0.9825865565863464]}, {\"categories\": [\"0\", \"2\", \"6\", \"11\", \"13\", \"17\", \"20\", \"22\", \"25\", \"26\", \"27\", \"28\", \"29\", \"30\", \"31\", \"32\", \"36\"], \"mode\": \"lines\", \"name\": \"precision_score_weighted_max\", \"stepped\": true, \"type\": \"scatter\", \"data\": [0.9832159651814981, 0.9832159651814981, 0.9832159651814981, 0.9832159651814981, 0.9832159651814981, 0.9832159651814981, 0.9832159651814981, 0.9832159651814981, 0.9832159651814981, 0.9832159651814981, 0.9832159651814981, 0.9832159651814981, 0.9832159651814981, 0.9832159651814981, 0.9832159651814981, 0.9832159651814981, 0.9832159651814981]}], \"AUC_micro\": [{\"categories\": [\"0\", \"2\", \"6\", \"11\", \"13\", \"17\", \"20\", \"22\", \"25\", \"26\", \"27\", \"28\", \"29\", \"30\", \"31\", \"32\", \"36\"], \"mode\": \"markers\", \"name\": \"AUC_micro\", \"stepped\": false, \"type\": \"scatter\", \"data\": [0.9994114807837794, 0.9797085138323273, 0.983919755614678, 0.9893113160296751, 0.9591378748983429, 0.9713959563539585, 0.9893577630865317, 0.9986241843166637, 0.9934131916244642, 0.9861668487569641, 0.9853932114070713, 0.9969296912032499, 0.9930441544564763, 0.993421604880535, 0.998246367226295, 0.9972376312040376, 0.9993260678092205]}, {\"categories\": [\"0\", \"2\", \"6\", \"11\", \"13\", \"17\", \"20\", \"22\", \"25\", \"26\", \"27\", \"28\", \"29\", \"30\", \"31\", \"32\", \"36\"], \"mode\": \"lines\", \"name\": \"AUC_micro_max\", \"stepped\": true, \"type\": \"scatter\", \"data\": [0.9994114807837794, 0.9994114807837794, 0.9994114807837794, 0.9994114807837794, 0.9994114807837794, 0.9994114807837794, 0.9994114807837794, 0.9994114807837794, 0.9994114807837794, 0.9994114807837794, 0.9994114807837794, 0.9994114807837794, 0.9994114807837794, 0.9994114807837794, 0.9994114807837794, 0.9994114807837794, 0.9994114807837794]}], \"average_precision_score_macro\": [{\"categories\": [\"0\", \"2\", \"6\", \"11\", \"13\", \"17\", \"20\", \"22\", \"25\", \"26\", \"27\", \"28\", \"29\", \"30\", \"31\", \"32\", \"36\"], \"mode\": \"markers\", \"name\": \"average_precision_score_macro\", \"stepped\": false, \"type\": \"scatter\", \"data\": [0.9938735922885464, 0.7806327121550293, 0.8676404397171398, 0.9160736266897876, 0.8046588278714287, 0.6631368859638062, 0.8247548646437116, 0.9487214654951611, 0.8614569060356745, 0.8202720913580497, 0.8079900172610787, 0.9041320570267276, 0.8940731798470619, 0.8473560378890989, 0.9486278229079407, 0.931036985450563, 0.9915664985726212]}, {\"categories\": [\"0\", \"2\", \"6\", \"11\", \"13\", \"17\", \"20\", \"22\", \"25\", \"26\", \"27\", \"28\", \"29\", \"30\", \"31\", \"32\", \"36\"], \"mode\": \"lines\", \"name\": \"average_precision_score_macro_max\", \"stepped\": true, \"type\": \"scatter\", \"data\": [0.9938735922885464, 0.9938735922885464, 0.9938735922885464, 0.9938735922885464, 0.9938735922885464, 0.9938735922885464, 0.9938735922885464, 0.9938735922885464, 0.9938735922885464, 0.9938735922885464, 0.9938735922885464, 0.9938735922885464, 0.9938735922885464, 0.9938735922885464, 0.9938735922885464, 0.9938735922885464, 0.9938735922885464]}], \"precision_score_micro\": [{\"categories\": [\"0\", \"2\", \"6\", \"11\", \"13\", \"17\", \"20\", \"22\", \"25\", \"26\", \"27\", \"28\", \"29\", \"30\", \"31\", \"32\", \"36\"], \"mode\": \"markers\", \"name\": \"precision_score_micro\", \"stepped\": false, \"type\": \"scatter\", \"data\": [0.9826328502415459, 0.840180152979066, 0.8737882447665056, 0.9183564814814815, 0.7359541062801932, 0.8083705716586151, 0.8963506441223833, 0.9646769323671497, 0.9125603864734299, 0.8668085748792271, 0.8720289855072464, 0.9449849033816425, 0.9113989533011272, 0.9154518921095008, 0.9617824074074074, 0.9496235909822867, 0.9820531400966184]}, {\"categories\": [\"0\", \"2\", \"6\", \"11\", \"13\", \"17\", \"20\", \"22\", \"25\", \"26\", \"27\", \"28\", \"29\", \"30\", \"31\", \"32\", \"36\"], \"mode\": \"lines\", \"name\": \"precision_score_micro_max\", \"stepped\": true, \"type\": \"scatter\", \"data\": [0.9826328502415459, 0.9826328502415459, 0.9826328502415459, 0.9826328502415459, 0.9826328502415459, 0.9826328502415459, 0.9826328502415459, 0.9826328502415459, 0.9826328502415459, 0.9826328502415459, 0.9826328502415459, 0.9826328502415459, 0.9826328502415459, 0.9826328502415459, 0.9826328502415459, 0.9826328502415459, 0.9826328502415459]}], \"norm_macro_recall\": [{\"categories\": [\"0\", \"2\", \"6\", \"11\", \"13\", \"17\", \"20\", \"22\", \"25\", \"26\", \"27\", \"28\", \"29\", \"30\", \"31\", \"32\", \"36\"], \"mode\": \"markers\", \"name\": \"norm_macro_recall\", \"stepped\": false, \"type\": \"scatter\", \"data\": [0.9499730752545248, 0.391797549044509, 0.87129409281413, 0.9017470870067603, 0.054528872958980464, 0.7532073749292639, 0.635288921865503, 0.8323731758421764, 0.5901252632325901, 0.4400196516341532, 0.38736570078031435, 0.734925894064268, 0.6951136838815923, 0.5810168683023196, 0.8236137991753193, 0.777812632940858, 0.9413363948552544]}, {\"categories\": [\"0\", \"2\", \"6\", \"11\", \"13\", \"17\", \"20\", \"22\", \"25\", \"26\", \"27\", \"28\", \"29\", \"30\", \"31\", \"32\", \"36\"], \"mode\": \"lines\", \"name\": \"norm_macro_recall_max\", \"stepped\": true, \"type\": \"scatter\", \"data\": [0.9499730752545248, 0.9499730752545248, 0.9499730752545248, 0.9499730752545248, 0.9499730752545248, 0.9499730752545248, 0.9499730752545248, 0.9499730752545248, 0.9499730752545248, 0.9499730752545248, 0.9499730752545248, 0.9499730752545248, 0.9499730752545248, 0.9499730752545248, 0.9499730752545248, 0.9499730752545248, 0.9499730752545248]}], \"AUC_macro\": [{\"categories\": [\"0\", \"2\", \"6\", \"11\", \"13\", \"17\", \"20\", \"22\", \"25\", \"26\", \"27\", \"28\", \"29\", \"30\", \"31\", \"32\", \"36\"], \"mode\": \"markers\", \"name\": \"AUC_macro\", \"stepped\": false, \"type\": \"scatter\", \"data\": [0.9990457541187446, 0.9674889711693432, 0.9758506281366764, 0.9857655398024333, 0.974434862474371, 0.9492900894288789, 0.9827367573666684, 0.9967394368019601, 0.9886465187597802, 0.9776802604836415, 0.9762747722048427, 0.9931436265734984, 0.9876063902618744, 0.9876036659709695, 0.9961876979122543, 0.9945484567558313, 0.9989193131813533]}, {\"categories\": [\"0\", \"2\", \"6\", \"11\", \"13\", \"17\", \"20\", \"22\", \"25\", \"26\", \"27\", \"28\", \"29\", \"30\", \"31\", \"32\", \"36\"], \"mode\": \"lines\", \"name\": \"AUC_macro_max\", \"stepped\": true, \"type\": \"scatter\", \"data\": [0.9990457541187446, 0.9990457541187446, 0.9990457541187446, 0.9990457541187446, 0.9990457541187446, 0.9990457541187446, 0.9990457541187446, 0.9990457541187446, 0.9990457541187446, 0.9990457541187446, 0.9990457541187446, 0.9990457541187446, 0.9990457541187446, 0.9990457541187446, 0.9990457541187446, 0.9990457541187446, 0.9990457541187446]}], \"log_loss\": [{\"categories\": [\"0\", \"2\", \"6\", \"11\", \"13\", \"17\", \"20\", \"22\", \"25\", \"26\", \"27\", \"28\", \"29\", \"30\", \"31\", \"32\", \"36\"], \"mode\": \"markers\", \"name\": \"log_loss\", \"stepped\": false, \"type\": \"scatter\", \"data\": [0.05201993946696661, 0.34466846997231926, 0.4280279395382116, 0.35621213216236286, 0.5235891218144745, 0.4375311105268384, 0.23774844621091176, 0.12013456274294364, 0.24215886755494934, 0.2829425066513788, 0.32036621928299436, 0.16981758088469204, 0.21083581685933406, 0.23414337981049513, 0.1366556392820195, 0.17057774508284487, 0.06181164705292558]}, {\"categories\": [\"0\", \"2\", \"6\", \"11\", \"13\", \"17\", \"20\", \"22\", \"25\", \"26\", \"27\", \"28\", \"29\", \"30\", \"31\", \"32\", \"36\"], \"mode\": \"lines\", \"name\": \"log_loss_min\", \"stepped\": true, \"type\": \"scatter\", \"data\": [0.05201993946696661, 0.05201993946696661, 0.05201993946696661, 0.05201993946696661, 0.05201993946696661, 0.05201993946696661, 0.05201993946696661, 0.05201993946696661, 0.05201993946696661, 0.05201993946696661, 0.05201993946696661, 0.05201993946696661, 0.05201993946696661, 0.05201993946696661, 0.05201993946696661, 0.05201993946696661, 0.05201993946696661]}], \"matthews_correlation\": [{\"categories\": [\"0\", \"2\", \"6\", \"11\", \"13\", \"17\", \"20\", \"22\", \"25\", \"26\", \"27\", \"28\", \"29\", \"30\", \"31\", \"32\", \"36\"], \"mode\": \"markers\", \"name\": \"matthews_correlation\", \"stepped\": false, \"type\": \"scatter\", \"data\": [0.9624785282073072, 0.662465213144315, 0.7646645342771422, 0.8385603416781887, 0.2844529673868645, 0.6441446966661033, 0.7742460037142376, 0.923626740409775, 0.8135511926344902, 0.7017207789915676, 0.7150084478874882, 0.880951658498425, 0.8092707033562916, 0.8163788802200048, 0.9174770285708537, 0.8915085533753963, 0.9612778799373269]}, {\"categories\": [\"0\", \"2\", \"6\", \"11\", \"13\", \"17\", \"20\", \"22\", \"25\", \"26\", \"27\", \"28\", \"29\", \"30\", \"31\", \"32\", \"36\"], \"mode\": \"lines\", \"name\": \"matthews_correlation_max\", \"stepped\": true, \"type\": \"scatter\", \"data\": [0.9624785282073072, 0.9624785282073072, 0.9624785282073072, 0.9624785282073072, 0.9624785282073072, 0.9624785282073072, 0.9624785282073072, 0.9624785282073072, 0.9624785282073072, 0.9624785282073072, 0.9624785282073072, 0.9624785282073072, 0.9624785282073072, 0.9624785282073072, 0.9624785282073072, 0.9624785282073072, 0.9624785282073072]}]}, \"metricName\": null, \"primaryMetricName\": \"AUC_weighted\", \"showLegend\": false}, \"run_metrics\": [{\"name\": \"experiment_status\", \"run_id\": \"AutoML_e7f39757-41ab-4806-9036-ceb666bd7771\", \"categories\": [0, 1, 2, 3, 4, 5, 6, 7, 8, 9, 10, 11, 12, 13, 14], \"series\": [{\"data\": [\"DatasetEvaluation\", \"FeaturesGeneration\", \"DatasetFeaturization\", \"DatasetFeaturizationCompleted\", \"DatasetBalancing\", \"DatasetCrossValidationSplit\", \"ModelSelection\", \"BestRunExplainModel\", \"ModelExplanationDataSetSetup\", \"PickSurrogateModel\", \"EngineeredFeatureExplanations\", \"EngineeredFeatureExplanations\", \"RawFeaturesExplanations\", \"RawFeaturesExplanations\", \"BestRunExplainModel\"]}]}, {\"name\": \"experiment_status_description\", \"run_id\": \"AutoML_e7f39757-41ab-4806-9036-ceb666bd7771\", \"categories\": [0, 1, 2, 3, 4, 5, 6, 7, 8, 9, 10, 11, 12, 13, 14], \"series\": [{\"data\": [\"Gathering dataset statistics.\", \"Generating features for the dataset.\", \"Beginning to fit featurizers and featurize the dataset.\", \"Completed fit featurizers and featurizing the dataset.\", \"Performing class balancing sweeping\", \"Generating individually featurized CV splits.\", \"Beginning model selection.\", \"Best run model explanations started\", \"Model explanations data setup completed\", \"Choosing LightGBM as the surrogate model for explanations\", \"Computation of engineered features started\", \"Computation of engineered features completed\", \"Computation of raw features started\", \"Computation of raw features completed\", \"Best run model explanations completed\"]}]}], \"run_logs\": \"\\nRun is completed.\", \"graph\": {}, \"widget_settings\": {\"childWidgetDisplay\": \"popup\", \"send_telemetry\": false, \"log_level\": \"INFO\", \"sdk_version\": \"1.51.0\"}, \"loading\": false}"
          },
          "metadata": {}
        }
      ],
      "execution_count": 8,
      "metadata": {
        "gather": {
          "logged": 1690939454084
        },
        "jupyter": {
          "outputs_hidden": false,
          "source_hidden": false
        },
        "nteract": {
          "transient": {
            "deleting": false
          }
        }
      }
    },
    {
      "cell_type": "markdown",
      "source": [
        "## Best Model\n",
        "\n",
        "TODO: In the cell below, get the best model from the automl experiments and display all the properties of the model.\n",
        "\n"
      ],
      "metadata": {}
    },
    {
      "cell_type": "code",
      "source": [
        "#Wait for the AutoML run to complete\n",
        "remote_run.wait_for_completion(show_output=True)\n",
        "\n",
        "#\"best_run\" contains the run object(model, metrics, and run ID)\n",
        "#\"onnx_model\" contains the actual trained model object with onnx format\n",
        "best_run, onnx_mdl = remote_run.get_output(return_onnx_model=True)\n",
        "\n",
        "#\"best_run_metrics\" contains a dictionary of the metrics associated with the best run.\n",
        "best_run_metrics = best_run.get_metrics()\n",
        "\n",
        "# Display all the properties of the best model\n",
        "print(best_run.get_properties())\n"
      ],
      "outputs": [
        {
          "output_type": "display_data",
          "data": {
            "text/html": "<table style=\"width:100%\"><tr><th>Experiment</th><th>Id</th><th>Type</th><th>Status</th><th>Details Page</th><th>Docs Page</th></tr><tr><td>auto-ml</td><td>AutoML_e7f39757-41ab-4806-9036-ceb666bd7771</td><td>automl</td><td>Completed</td><td><a href=\"https://ml.azure.com/runs/AutoML_e7f39757-41ab-4806-9036-ceb666bd7771?wsid=/subscriptions/b968fb36-f06a-4c76-a15f-afab68ae7667/resourcegroups/aml-quickstarts-239593/workspaces/quick-starts-ws-239593&amp;tid=660b3398-b80e-49d2-bc5b-ac1dc93b5254\" target=\"_blank\" rel=\"noopener\">Link to Azure Machine Learning studio</a></td><td><a href=\"https://docs.microsoft.com/en-us/python/api/overview/azure/ml/intro?view=azure-ml-py\" target=\"_blank\" rel=\"noopener\">Link to Documentation</a></td></tr></table>"
          },
          "metadata": {}
        },
        {
          "output_type": "stream",
          "name": "stdout",
          "text": "\n\n********************************************************************************************\nDATA GUARDRAILS: \n\nTYPE:         Cross validation\nSTATUS:       DONE\nDESCRIPTION:  In order to accurately evaluate the model(s) trained by AutoML, we leverage a dataset that the model is not trained on. Hence, if the user doesn't provide an explicit validation dataset, a part of the training dataset is used to achieve this. For smaller datasets (fewer than 20,000 samples), cross-validation is leveraged, else a single hold-out set is split from the training data to serve as the validation dataset. Hence, for your input data we leverage cross-validation with 10 folds, if the number of training samples are fewer than 1000, and 3 folds in all other cases.\n              Learn more about cross validation: https://aka.ms/AutomatedMLCrossValidation\nDETAILS:      \n+------------------------------+\n|Number of folds               |\n+==============================+\n|3                             |\n+------------------------------+\n\n********************************************************************************************\n\nTYPE:         Class balancing detection\nSTATUS:       ALERTED\nDESCRIPTION:  To decrease model bias, please cancel the current run and fix balancing problem.\n              Learn more about imbalanced data: https://aka.ms/AutomatedMLImbalancedData\nDETAILS:      Imbalanced data can lead to a falsely perceived positive effect of a model's accuracy because the input data has bias towards one class.\n+------------------------------+--------------------------------+--------------------------------------+\n|Size of the smallest class    |Name/Label of the smallest class|Number of samples in the training data|\n+==============================+================================+======================================+\n|65                            |vgood                           |1727                                  |\n+------------------------------+--------------------------------+--------------------------------------+\n\n********************************************************************************************\n\nTYPE:         Missing feature values imputation\nSTATUS:       PASSED\nDESCRIPTION:  No feature missing values were detected in the training data.\n              Learn more about missing value imputation: https://aka.ms/AutomatedMLFeaturization\n\n********************************************************************************************\n\nTYPE:         High cardinality feature detection\nSTATUS:       PASSED\nDESCRIPTION:  Your inputs were analyzed, and no high cardinality features were detected.\n              Learn more about high cardinality feature handling: https://aka.ms/AutomatedMLFeaturization\n\n********************************************************************************************\n\n********************************************************************************************\nITER: The iteration being evaluated.\nPIPELINE: A summary description of the pipeline being evaluated.\nDURATION: Time taken for the current iteration.\nMETRIC: The result of computing score on the fitted pipeline.\nBEST: The best observed score thus far.\n********************************************************************************************\n\n ITER   PIPELINE                                       DURATION            METRIC      BEST\n    0   MaxAbsScaler LightGBM                          0:00:40             0.9988    0.9988\n    1   MaxAbsScaler XGBoostClassifier                 0:00:32             0.9986    0.9988\n    2   MaxAbsScaler ExtremeRandomTrees                0:00:29             0.9671    0.9988\n    3   MaxAbsScaler RandomForest                      0:00:29             0.9726    0.9988\n    4   StandardScalerWrapper LightGBM                 0:00:29             0.9717    0.9988\n    5   SparseNormalizer XGBoostClassifier             0:00:31             0.9947    0.9988\n    6   SparseNormalizer RandomForest                  0:00:31             0.9778    0.9988\n    7   StandardScalerWrapper XGBoostClassifier        0:00:30             0.9903    0.9988\n   10   SparseNormalizer LightGBM                      0:00:28             0.9745    0.9988\n   11   MaxAbsScaler ExtremeRandomTrees                0:00:33             0.9859    0.9988\n    8   SparseNormalizer XGBoostClassifier             0:00:29             0.9952    0.9988\n    9   MaxAbsScaler RandomForest                      0:00:30             0.9475    0.9988\n   12   StandardScalerWrapper XGBoostClassifier        0:00:26             0.9951    0.9988\n   13   StandardScalerWrapper ExtremeRandomTrees       0:00:27             0.9785    0.9988\n   14   StandardScalerWrapper RandomForest             0:00:30             0.9953    0.9988\n   15   MaxAbsScaler LightGBM                          0:00:28             0.9859    0.9988\n   16   MaxAbsScaler LogisticRegression                0:00:31             0.9886    0.9988\n   17   StandardScalerWrapper ExtremeRandomTrees       0:00:29             0.9468    0.9988\n   18   StandardScalerWrapper XGBoostClassifier        0:00:26             0.9943    0.9988\n   19   MaxAbsScaler ExtremeRandomTrees                0:00:28             0.9818    0.9988\n   20   MaxAbsScaler LogisticRegression                0:00:55             0.9831    0.9988\n   21   StandardScalerWrapper XGBoostClassifier        0:02:15             0.9945    0.9988\n   22   StandardScalerWrapper XGBoostClassifier        0:00:47             0.9979    0.9988\n   23   MaxAbsScaler RandomForest                      0:00:49             0.9477    0.9988\n   24   SparseNormalizer XGBoostClassifier             0:00:46             0.9882    0.9988\n   25   StandardScalerWrapper LightGBM                 0:00:46             0.9909    0.9988\n   26   MaxAbsScaler LinearSVM                         0:00:45             0.9781    0.9988\n   27   StandardScalerWrapper LightGBM                 0:00:49             0.9793    0.9988\n   28   MaxAbsScaler LightGBM                          0:00:51             0.9955    0.9988\n   29   MaxAbsScaler LogisticRegression                0:00:44             0.9862    0.9988\n   30   SparseNormalizer LightGBM                      0:00:46             0.9916    0.9988\n   31   StandardScalerWrapper XGBoostClassifier        0:00:51             0.9973    0.9988\n   32   SparseNormalizer XGBoostClassifier             0:00:47             0.9963    0.9988\n   33   SparseNormalizer XGBoostClassifier             0:00:27                nan    0.9988\n   34   SparseNormalizer XGBoostClassifier             0:00:24                nan    0.9988\nERROR: {\n    \"additional_properties\": {},\n    \"error\": {\n        \"additional_properties\": {\n            \"debugInfo\": null\n        },\n        \"code\": \"UserError\",\n        \"severity\": null,\n        \"message\": \"Unexpected User Error\",\n        \"message_format\": null,\n        \"message_parameters\": null,\n        \"reference_code\": null,\n        \"details_uri\": null,\n        \"target\": null,\n        \"details\": [],\n        \"inner_error\": null,\n        \"additional_info\": null\n    },\n    \"correlation\": {\n        \"operation\": \"c403ac1f3436fd1dc948020df798f7da\",\n        \"request\": \"02116dd6da47f5f6\"\n    },\n    \"environment\": \"westeurope\",\n    \"location\": \"westeurope\",\n    \"time\": {},\n    \"component_name\": \"GlobalJobDispatcher\"\n}\n   35                                                  0:00:08                nan    0.9988\n   36    VotingEnsemble                                0:01:10             0.9988    0.9988\n{'runTemplate': 'automl_child', 'pipeline_id': '5dfac790c5c209f98a1da2dc1c7fb76f0397324f', 'pipeline_spec': '{\"objects\":[{\"spec_class\":\"preproc\",\"class_name\":\"MaxAbsScaler\",\"module\":\"sklearn.preprocessing\",\"param_args\":[],\"param_kwargs\":{},\"prepared_kwargs\":{}},{\"spec_class\":\"sklearn\",\"class_name\":\"LightGBMClassifier\",\"module\":\"automl.client.core.common.model_wrappers\",\"param_args\":[],\"param_kwargs\":{\"min_data_in_leaf\":20},\"prepared_kwargs\":{}}],\"pipeline_id\":\"5dfac790c5c209f98a1da2dc1c7fb76f0397324f\",\"module\":\"sklearn.pipeline\",\"class_name\":\"Pipeline\"}', 'training_percent': '100', 'predicted_cost': None, 'iteration': '0', '_aml_system_scenario_identification': 'Remote.Child', 'run_preprocessor': 'MaxAbsScaler', 'run_algorithm': 'LightGBM', 'model_output_path': 'outputs/model.pkl', 'conda_env_data_location': 'aml://artifact/ExperimentRun/dcid.AutoML_e7f39757-41ab-4806-9036-ceb666bd7771_0/outputs/conda_env_v_1_0_0.yml', 'model_data_location': 'aml://artifact/ExperimentRun/dcid.AutoML_e7f39757-41ab-4806-9036-ceb666bd7771_0/outputs/model.pkl', 'model_size_on_disk': '1444132', 'scoring_data_location': 'aml://artifact/ExperimentRun/dcid.AutoML_e7f39757-41ab-4806-9036-ceb666bd7771_0/outputs/scoring_file_v_1_0_0.py', 'scoring_data_location_v2': 'aml://artifact/ExperimentRun/dcid.AutoML_e7f39757-41ab-4806-9036-ceb666bd7771_0/outputs/scoring_file_v_2_0_0.py', 'scoring_data_location_pbi': 'aml://artifact/ExperimentRun/dcid.AutoML_e7f39757-41ab-4806-9036-ceb666bd7771_0/outputs/scoring_file_pbi_v_1_0_0.py', 'model_exp_support': 'True', 'pipeline_graph_version': '1.0.0', 'model_name': 'AutoMLe7f3975740', 'score': '0.9987787177700516', 'score_table': 'NaN', 'run_properties': 'copy=True', 'pipeline_script': '{\"objects\":[{\"spec_class\":\"preproc\",\"class_name\":\"MaxAbsScaler\",\"module\":\"sklearn.preprocessing\",\"param_args\":[],\"param_kwargs\":{},\"prepared_kwargs\":{}},{\"spec_class\":\"sklearn\",\"class_name\":\"LightGBMClassifier\",\"module\":\"automl.client.core.common.model_wrappers\",\"param_args\":[],\"param_kwargs\":{\"min_data_in_leaf\":20},\"prepared_kwargs\":{}}],\"pipeline_id\":\"5dfac790c5c209f98a1da2dc1c7fb76f0397324f\",\"module\":\"sklearn.pipeline\",\"class_name\":\"Pipeline\"}', 'training_type': 'MeanCrossValidation', 'fit_time': '0.4053883333333334', 'goal': 'AUC_weighted_max', 'primary_metric': 'AUC_weighted', 'errors': '{}', 'onnx_model_resource': \"{'RawColumnNameToOnnxNameMap': {'buying': 'buying', 'maint': 'maint', 'doors': 'doors', 'persons': 'persons', 'lug_boot': 'lug_boot', 'safety': 'safety'}, 'InputRawColumnSchema': {'buying': 'string', 'maint': 'string', 'doors': 'string', 'persons': 'string', 'lug_boot': 'string', 'safety': 'string'}, 'InputOnnxColumnSchema': {'buying': 'StringTensorType', 'maint': 'StringTensorType', 'doors': 'StringTensorType', 'persons': 'StringTensorType', 'lug_boot': 'StringTensorType', 'safety': 'StringTensorType'}, 'CanEnableBatchMode': True}\", 'dependencies_versions': '{\"azureml-dataprep-native\": \"38.0.0\", \"azureml-dataprep\": \"4.11.4\", \"azureml-dataprep-rslex\": \"2.18.4\", \"azureml-automl-core\": \"1.52.0.post1\", \"azureml-automl-runtime\": \"1.52.0.post1\", \"azureml-train-automl-client\": \"1.52.0\", \"azureml-telemetry\": \"1.52.0\", \"azureml-train-restclients-hyperdrive\": \"1.52.0\", \"azureml-train-automl-runtime\": \"1.52.0\", \"azureml-core\": \"1.52.0\", \"azureml-pipeline-core\": \"1.52.0\", \"azureml-mlflow\": \"1.52.0\", \"azureml-responsibleai\": \"1.52.0\", \"azureml-defaults\": \"1.52.0\", \"azureml-dataset-runtime\": \"1.52.0\", \"azureml-training-tabular\": \"1.52.0\", \"azureml-train-core\": \"1.52.0\", \"azureml-interpret\": \"1.52.0\", \"azureml-inference-server-http\": \"0.8.4\"}', 'num_cores': '2', 'num_logical_cores': '2', 'peak_memory_usage': '1031964', 'vm_configuration': 'x86_64', 'core_hours': '0.007600776944444445', 'feature_skus': 'automatedml_sdk_guardrails'}\n"
        }
      ],
      "execution_count": 9,
      "metadata": {
        "gather": {
          "logged": 1690942312371
        },
        "jupyter": {
          "outputs_hidden": false,
          "source_hidden": false
        },
        "nteract": {
          "transient": {
            "deleting": false
          }
        }
      }
    },
    {
      "cell_type": "code",
      "source": [
        "print(best_run.properties['model_name'])\r\n",
        "print(best_run.id)"
      ],
      "outputs": [
        {
          "output_type": "stream",
          "name": "stdout",
          "text": "AutoMLe7f3975740\nAutoML_e7f39757-41ab-4806-9036-ceb666bd7771_0\n"
        }
      ],
      "execution_count": 13,
      "metadata": {
        "jupyter": {
          "source_hidden": false,
          "outputs_hidden": false
        },
        "nteract": {
          "transient": {
            "deleting": false
          }
        },
        "gather": {
          "logged": 1690944479613
        }
      }
    },
    {
      "cell_type": "code",
      "source": [
        "#TODO: Save the best model\n",
        "# Save the best ONNX model\n",
        "\n",
        "onnx_fl_path = \"./automl_best_model.onnx\"\n",
        "OnnxConverter.save_onnx_model(onnx_mdl, onnx_fl_path)\n"
      ],
      "outputs": [],
      "execution_count": 10,
      "metadata": {
        "gather": {
          "logged": 1690942312745
        },
        "jupyter": {
          "outputs_hidden": false,
          "source_hidden": false
        },
        "nteract": {
          "transient": {
            "deleting": false
          }
        }
      }
    },
    {
      "cell_type": "markdown",
      "source": [
        "## Model Deployment\n",
        "\n",
        "Remember you have to deploy only one of the two models you trained but you still need to register both the models. Perform the steps in the rest of this notebook only if you wish to deploy this model.\n",
        "\n",
        "TODO: In the cell below, register the model, create an inference config and deploy the model as a web service."
      ],
      "metadata": {}
    },
    {
      "cell_type": "code",
      "source": [
        "model_name = best_run.properties[\"model_name\"]\n",
        "script_file_name = \"inference/score.py\"\n",
        "best_run.download_file(\"outputs/scoring_file_v_1_0_0.py\", \"inference/score.py\")\n",
        "\n",
        "description = \"AutoML Model trained on car evaluation data to predict if a car is acceptable\"\n",
        "tags = None\n",
        "model = remote_run.register_model(\n",
        "    model_name=model_name, description=description, tags=tags\n",
        ")\n",
        "\n",
        "print(\n",
        "    remote_run.model_id\n",
        ")  # This will be written to the script file later in the notebook."
      ],
      "outputs": [
        {
          "output_type": "stream",
          "name": "stdout",
          "text": "AutoMLe7f3975740\n"
        }
      ],
      "execution_count": 11,
      "metadata": {
        "gather": {
          "logged": 1690943120180
        },
        "jupyter": {
          "outputs_hidden": false,
          "source_hidden": false
        },
        "nteract": {
          "transient": {
            "deleting": false
          }
        }
      }
    },
    {
      "cell_type": "code",
      "source": [
        "inference_config = InferenceConfig(\n",
        "    environment=best_run.get_environment(), entry_script=script_file_name\n",
        ")\n",
        "\n",
        "aciconfig = AciWebservice.deploy_configuration(\n",
        "    cpu_cores=2,\n",
        "    memory_gb=2,\n",
        "    tags={\"area\": \"bmData\", \"type\": \"automl_classification\"},\n",
        "    description=\"sample service for Automl Classification\",\n",
        ")\n",
        "\n",
        "aci_service_name = model_name.lower()\n",
        "print(aci_service_name)\n",
        "aci_service = Model.deploy(ws, aci_service_name, [model], inference_config, aciconfig)\n",
        "aci_service.wait_for_deployment(True)\n",
        "print(aci_service.state)\n",
        "\n"
      ],
      "outputs": [
        {
          "output_type": "stream",
          "name": "stdout",
          "text": "automle7f3975740\nTips: You can try get_logs(): https://aka.ms/debugimage#dockerlog or local deployment: https://aka.ms/debugimage#debug-locally to debug if deployment takes longer than 10 minutes.\nRunning\n2023-08-02 02:25:56+00:00 Creating Container Registry if not exists..\n2023-08-02 02:35:57+00:00 Registering the environment.\n2023-08-02 02:35:57+00:00 Use the existing image.\n2023-08-02 02:35:58+00:00 Submitting deployment to compute..\n2023-08-02 02:36:04+00:00 Checking the status of deployment automle7f3975740..\n2023-08-02 02:38:29+00:00 Checking the status of inference endpoint automle7f3975740.\nSucceeded\nACI service creation operation finished, operation \"Succeeded\"\nHealthy\n"
        }
      ],
      "execution_count": 12,
      "metadata": {
        "gather": {
          "logged": 1690943918330
        },
        "jupyter": {
          "outputs_hidden": false,
          "source_hidden": false
        },
        "nteract": {
          "transient": {
            "deleting": false
          }
        }
      }
    },
    {
      "cell_type": "markdown",
      "source": [
        "TODO: In the cell below, send a request to the web service you deployed to test it."
      ],
      "metadata": {
        "collapsed": true,
        "gather": {
          "logged": 1598431657736
        },
        "jupyter": {
          "outputs_hidden": false,
          "source_hidden": false
        },
        "nteract": {
          "transient": {
            "deleting": false
          }
        }
      }
    },
    {
      "cell_type": "code",
      "source": [
        "# endpoint url of Web service\n",
        "scoring_uri = aci_service.scoring_uri\n",
        "\n",
        "# create request data\n",
        "input_data = {\n",
        "    \"data\": [\n",
        "        {\"buying\":\"low\",\n",
        "         \"maint\":\"low\",\n",
        "         \"doors\":\"2\",\n",
        "         \"persons\":\"2\",\n",
        "         \"lug_boot\":\"small\",\n",
        "         \"safety\":\"low\"}\n",
        "    ]}\n",
        "\n",
        "input_json = json.dumps(input_data)\n",
        "\n",
        "# Post request\n",
        "headers = {'Content-Type': 'application/json'}\n",
        "response = requests.post(scoring_uri, input_json, headers=headers)\n",
        "\n",
        "# get response\n",
        "predictions = response.json()"
      ],
      "outputs": [],
      "execution_count": 15,
      "metadata": {
        "gather": {
          "logged": 1690944693263
        }
      }
    },
    {
      "cell_type": "code",
      "source": [
        "print(predictions)"
      ],
      "outputs": [
        {
          "output_type": "stream",
          "name": "stdout",
          "text": "{\"result\": [\"unacc\"]}\n"
        }
      ],
      "execution_count": 17,
      "metadata": {
        "jupyter": {
          "source_hidden": false,
          "outputs_hidden": false
        },
        "nteract": {
          "transient": {
            "deleting": false
          }
        },
        "gather": {
          "logged": 1690944807247
        }
      }
    },
    {
      "cell_type": "markdown",
      "source": [
        "TODO: In the cell below, print the logs of the web service and delete the service"
      ],
      "metadata": {
        "collapsed": true,
        "gather": {
          "logged": 1598432765711
        },
        "jupyter": {
          "outputs_hidden": false,
          "source_hidden": false
        },
        "nteract": {
          "transient": {
            "deleting": false
          }
        }
      }
    },
    {
      "cell_type": "code",
      "source": [
        "# Retrieve and print the logs\n",
        "logs = aci_service.get_logs()\n",
        "print(logs)\n"
      ],
      "outputs": [
        {
          "output_type": "stream",
          "name": "stdout",
          "text": "2023-08-02T02:38:13,326604400+00:00 - rsyslog/run \n2023-08-02T02:38:13,330469200+00:00 - gunicorn/run \n2023-08-02T02:38:13,334848400+00:00 | gunicorn/run | \n2023-08-02T02:38:13,340475200+00:00 | gunicorn/run | ###############################################\n2023-08-02T02:38:13,343211000+00:00 | gunicorn/run | AzureML Container Runtime Information\n2023-08-02T02:38:13,345343200+00:00 - nginx/run \n2023-08-02T02:38:13,347683600+00:00 | gunicorn/run | ###############################################\n2023-08-02T02:38:13,351964900+00:00 | gunicorn/run | \n2023-08-02T02:38:13,359308100+00:00 | gunicorn/run | \n2023-08-02T02:38:13,370304300+00:00 | gunicorn/run | AzureML image information: openmpi4.1.0-ubuntu20.04, Materializaton Build:20230628.v2\n2023-08-02T02:38:13,373733600+00:00 | gunicorn/run | \n2023-08-02T02:38:13,379488600+00:00 | gunicorn/run | \n2023-08-02T02:38:13,384296600+00:00 | gunicorn/run | PATH environment variable: /azureml-envs/azureml-automl/bin:/opt/miniconda/bin:/usr/local/sbin:/usr/local/bin:/usr/sbin:/usr/bin:/sbin:/bin\n2023-08-02T02:38:13,389316300+00:00 | gunicorn/run | PYTHONPATH environment variable: \n2023-08-02T02:38:13,395309800+00:00 | gunicorn/run | \n2023-08-02T02:38:14,362383200+00:00 | gunicorn/run | CONDAPATH environment variable: /opt/miniconda\n\n# conda environments:\n#\n                         /azureml-envs/azureml-automl\nbase                     /opt/miniconda\n\n2023-08-02T02:38:15,450958419+00:00 | gunicorn/run | \n2023-08-02T02:38:15,452713618+00:00 | gunicorn/run | Pip Dependencies (before dynamic installation)\n\nadal==1.2.7\napplicationinsights==0.11.10\narch==5.3.1\nargcomplete==2.1.2\nargon2-cffi==21.3.0\nargon2-cffi-bindings==21.2.0\nasttokens==2.2.1\nattrs==23.1.0\nazure-common==1.1.28\nazure-core==1.27.1\nazure-graphrbac==0.61.1\nazure-identity==1.13.0\nazure-mgmt-authorization==3.0.0\nazure-mgmt-containerregistry==10.1.0\nazure-mgmt-core==1.4.0\nazure-mgmt-keyvault==10.2.2\nazure-mgmt-resource==22.0.0\nazure-mgmt-storage==21.0.0\nazure-storage-blob==12.13.0\nazure-storage-queue==12.6.0\nazureml-automl-core==1.52.0.post1\nazureml-automl-runtime==1.52.0.post1\nazureml-core==1.52.0\nazureml-dataprep==4.11.4\nazureml-dataprep-native==38.0.0\nazureml-dataprep-rslex==2.18.4\nazureml-dataset-runtime==1.52.0\nazureml-defaults==1.52.0\nazureml-inference-server-http==0.8.4\nazureml-interpret==1.52.0\nazureml-mlflow==1.52.0\nazureml-pipeline-core==1.52.0\nazureml-responsibleai==1.52.0\nazureml-telemetry==1.52.0\nazureml-train-automl-client==1.52.0\nazureml-train-automl-runtime==1.52.0\nazureml-train-core==1.52.0\nazureml-train-restclients-hyperdrive==1.52.0\nazureml-training-tabular==1.52.0\nbackcall==0.2.0\nbackports.tempfile==1.0\nbackports.weakref==1.0.post1\nbcrypt==4.0.1\nbeautifulsoup4==4.12.2\nbleach==6.0.0\nbokeh==2.4.3\nboto==2.49.0\nboto3==1.20.19\nbotocore==1.23.19\nBrotli @ file:///home/conda/feedstock_root/build_artifacts/brotli-split_1687884021435/work\ncachetools==5.3.1\ncertifi==2023.5.7\ncffi @ file:///home/conda/feedstock_root/build_artifacts/cffi_1671179356964/work\ncharset-normalizer @ file:///home/conda/feedstock_root/build_artifacts/charset-normalizer_1678108872112/work\nclick==8.1.4\ncloudpickle @ file:///home/conda/feedstock_root/build_artifacts/cloudpickle_1598400192773/work\ncmdstanpy==0.9.5\ncontextlib2==21.6.0\ncontourpy==1.1.0\nconvertdate @ file:///home/conda/feedstock_root/build_artifacts/convertdate_1642883757836/work\ncryptography==41.0.0\ncycler==0.11.0\nCython==0.29.17\ndask==2023.2.0\ndatabricks-cli==0.17.7\ndataclasses==0.6\ndebugpy==1.6.7\ndecorator==5.1.1\ndefusedxml==0.7.1\ndice-ml==0.9\ndill==0.3.6\ndistributed==2023.2.0\ndistro==1.8.0\ndocker==6.1.3\ndotnetcore2==3.1.23\neconml==0.14.1\nentrypoints==0.4\nephem==4.1.4\nerroranalysis==0.4.4\nexecuting==1.2.0\nfairlearn==0.8.0\nfastjsonschema==2.17.1\nfbprophet==0.7.1\nfire==0.5.0\nFlask==2.2.5\nFlask-Cors==3.0.10\nflatbuffers==23.5.26\nfonttools==4.40.0\nfsspec==2023.6.0\nfusepy==3.0.1\ngensim==3.8.3\ngitdb==4.0.10\nGitPython==3.1.31\ngoogle-api-core==2.11.1\ngoogle-auth==2.21.0\ngoogleapis-common-protos==1.59.1\ngunicorn==20.1.0\nh5py==3.9.0\nholidays @ file:///home/conda/feedstock_root/build_artifacts/holidays_1595448845196/work\nhumanfriendly==10.0\nidna @ file:///home/conda/feedstock_root/build_artifacts/idna_1663625384323/work\nimportlib-metadata==6.8.0\nimportlib-resources==5.13.0\ninference-schema==1.5.1\ninterpret-community==0.29.0\ninterpret-core==0.3.2\nipykernel==6.8.0\nipython==8.12.2\nipython-genutils==0.2.0\nisodate==0.6.1\nitsdangerous==2.1.2\njedi==0.18.2\njeepney==0.8.0\nJinja2==3.1.2\njmespath==0.10.0\njoblib @ file:///home/conda/feedstock_root/build_artifacts/joblib_1663332044897/work\njsonpickle==3.0.1\njsonschema==4.18.0\njsonschema-specifications==2023.6.1\njupyter_client==7.4.9\njupyter_core==5.3.1\njupyterlab-pygments==0.2.2\nkeras2onnx==1.6.0\nkiwisolver==1.4.4\nknack==0.10.1\nkorean-lunar-calendar @ file:///home/conda/feedstock_root/build_artifacts/korean_lunar_calendar_1663341251025/work\nlightgbm==3.2.1\nllvmlite==0.38.1\nlocket==1.0.0\nLunarCalendar==0.0.9\nMarkupSafe==2.1.2\nmatplotlib==3.7.2\nmatplotlib-inline==0.1.6\nmistune==3.0.1\nml-wrappers==0.4.11\nmlflow-skinny==2.4.1\nmltable==1.4.1\nmsal==1.22.0\nmsal-extensions==1.0.0\nmsgpack==1.0.5\nmsrest==0.7.1\nmsrestazure==0.6.4\nnbclient==0.8.0\nnbconvert==7.6.0\nnbformat==5.9.0\nndg-httpsclient==0.5.1\nnest-asyncio==1.5.6\nnetworkx==2.5\nnotebook==6.4.9\nnumba==0.55.2\nnumpy==1.22.3\noauthlib==3.2.2\nonnx==1.13.1\nonnxconverter-common==1.6.0\nonnxmltools==1.4.1\nonnxruntime==1.11.1\nopencensus==0.11.2\nopencensus-context==0.1.3\nopencensus-ext-azure==1.1.9\npackaging==23.0\npandas==1.1.5\npandocfilters==1.5.0\nparamiko==3.2.0\nparso==0.8.3\npartd==1.4.0\npathspec==0.11.1\npatsy==0.5.3\npexpect==4.8.0\npickleshare==0.7.5\nPillow==10.0.0\npkginfo==1.9.6\npkgutil_resolve_name==1.3.10\nplatformdirs @ file:///home/conda/feedstock_root/build_artifacts/platformdirs_1688739404342/work\npmdarima==1.8.0\npooch @ file:///home/conda/feedstock_root/build_artifacts/pooch_1679580333621/work\nportalocker==2.7.0\nprometheus-client==0.17.0\nprompt-toolkit==3.0.39\nproperty-cached==1.6.4\nprotobuf==3.20.3\npsutil @ file:///home/conda/feedstock_root/build_artifacts/psutil_1681775007745/work\nptyprocess==0.7.0\npure-eval==0.2.2\npy-cpuinfo==5.0.0\npyarrow==9.0.0\npyasn1==0.5.0\npyasn1-modules==0.3.0\npycparser @ file:///home/conda/feedstock_root/build_artifacts/pycparser_1636257122734/work\npydantic==1.10.11\nPygments==2.15.1\nPyJWT==2.7.0\nPyMeeus @ file:///home/conda/feedstock_root/build_artifacts/pymeeus_1670868433998/work\nPyNaCl==1.5.0\npyOpenSSL @ file:///home/conda/feedstock_root/build_artifacts/pyopenssl_1685514481738/work\npyparsing==3.0.9\nPySocks @ file:///home/conda/feedstock_root/build_artifacts/pysocks_1661604839144/work\npystan==2.19.1.1\npython-dateutil @ file:///home/conda/feedstock_root/build_artifacts/python-dateutil_1626286286081/work\npytz @ file:///home/conda/feedstock_root/build_artifacts/pytz_1680088766131/work\nPyYAML==6.0\npyzmq==25.1.0\nraiutils==0.4.0\nreferencing==0.29.1\nrequests @ file:///home/conda/feedstock_root/build_artifacts/requests_1684774241324/work\nrequests-oauthlib==1.3.1\nresponsibleai==0.28.0\nrpds-py==0.8.8\nrsa==4.9\ns3transfer==0.5.2\nscikit-learn==0.22.1\nscipy==1.5.3\nSecretStorage==3.3.3\nsemver==2.13.0\nSend2Trash==1.8.2\nsetuptools-git==1.2\nshap==0.41.0\nsix @ file:///home/conda/feedstock_root/build_artifacts/six_1620240208055/work\nskl2onnx==1.4.9\nsklearn-pandas==1.7.0\nslicer==0.0.7\nsmart-open==1.9.0\nsmmap==5.0.0\nsortedcontainers==2.4.0\nsoupsieve==2.4.1\nsparse==0.14.0\nsqlparse==0.4.4\nstack-data==0.6.2\nstatsmodels==0.11.1\ntabulate==0.9.0\ntblib==2.0.0\ntermcolor==2.3.0\nterminado==0.17.1\ntinycss2==1.2.1\ntoolz==0.12.0\ntornado==6.3.2\ntqdm==4.65.0\ntraitlets==5.9.0\ntyping_extensions @ file:///home/conda/feedstock_root/build_artifacts/typing_extensions_1688315532570/work\nurllib3==1.26.16\nwcwidth==0.2.6\nwebencodings==0.5.1\nwebsocket-client==1.6.1\nWerkzeug==2.3.6\nwrapt==1.12.1\nxgboost==1.3.3\nzict==3.0.0\nzipp==3.15.0\n\n2023-08-02T02:38:17,288774058+00:00 | gunicorn/run | \n2023-08-02T02:38:17,291339558+00:00 | gunicorn/run | ###############################################\n2023-08-02T02:38:17,293546658+00:00 | gunicorn/run | Checking if the Python package azureml-inference-server-http is installed\n2023-08-02T02:38:17,298104158+00:00 | gunicorn/run | ###############################################\n2023-08-02T02:38:17,299907058+00:00 | gunicorn/run | \n2023-08-02T02:38:20,106997358+00:00 | gunicorn/run | \n2023-08-02T02:38:20,109199658+00:00 | gunicorn/run | ###############################################\n2023-08-02T02:38:20,111255258+00:00 | gunicorn/run | AzureML Inference Server\n2023-08-02T02:38:20,116285958+00:00 | gunicorn/run | ###############################################\n2023-08-02T02:38:20,118327658+00:00 | gunicorn/run | \n2023-08-02T02:38:22,939627894+00:00 | gunicorn/run | Starting AzureML Inference Server HTTP.\n2023-08-02 02:38:23,279 I [81] azmlinfsrv - Loaded logging config from /azureml-envs/azureml-automl/lib/python3.8/site-packages/azureml_inference_server_http/logging.json\n2023-08-02 02:38:23,571 I [81] gunicorn.error - Starting gunicorn 20.1.0\n2023-08-02 02:38:23,572 I [81] gunicorn.error - Listening at: http://0.0.0.0:31311 (81)\n2023-08-02 02:38:23,572 I [81] gunicorn.error - Using worker: sync\n2023-08-02 02:38:23,577 I [140] gunicorn.error - Booting worker with pid: 140\n\nAzure ML Inferencing HTTP server v0.8.4\n/azureml-envs/azureml-automl/lib/python3.8/site-packages/azureml_inference_server_http/server/config.py:51: FutureWarning: aliases are no longer used by BaseSettings to define which environment variables to read. Instead use the \"env\" field setting. See https://pydantic-docs.helpmanual.io/usage/settings/#environment-variable-names\n\n  class AMLInferenceServerConfig(pydantic.BaseSettings):\n\nServer Settings\n---------------\nEntry Script Name: /var/azureml-app/main.py\nModel Directory: /var/azureml-app/azureml-models/AutoMLe7f3975740/1\nConfig File: None\nWorker Count: 1\nWorker Timeout (seconds): 300\nServer Port: 31311\nHealth Port: 31311\nApplication Insights Enabled: false\nApplication Insights Key: None\nInferencing HTTP server version: azmlinfsrv/0.8.4\nCORS for the specified origins: None\nCreate dedicated endpoint for health: None\n\n\nServer Routes\n---------------\nLiveness Probe: GET   127.0.0.1:31311/\nScore:          POST  127.0.0.1:31311/score\n\n2023-08-02 02:38:24,343 I [140] azmlinfsrv - AML_FLASK_ONE_COMPATIBILITY is set. Patched Flask to ensure compatibility with Flask 1.\nInitializing logger\n2023-08-02 02:38:24,346 I [140] azmlinfsrv - Starting up app insights client\n2023-08-02 02:38:25,234 I [140] azmlinfsrv.user_script - Found driver script at /var/azureml-app/main.py and the score script at /var/azureml-app/score.py\n2023-08-02 02:38:25,234 I [140] azmlinfsrv.user_script - run() is decorated with @input_schema. Server will invoke it with the following arguments: data, method.\n2023-08-02 02:38:25,234 I [140] azmlinfsrv.user_script - Invoking user's init function\nERROR:fbprophet.plot:Importing plotly failed. Interactive plots will not work.\n2023-08-02 02:38:35,422 I [140] azmlinfsrv.user_script - Users's init has completed successfully\n2023-08-02 02:38:35,716 I [140] azmlinfsrv.swagger - Swaggers are prepared for the following versions: [2, 3, 3.1].\n2023-08-02 02:38:35,745 I [140] azmlinfsrv - Scoring timeout is set to 60000\n2023-08-02 02:38:35,748 W [140] azmlinfsrv - x-ms-request-id header has been deprecated and will be removed from future versions of the server. Please use x-ms-client-request-id.\n2023-08-02 02:38:35,750 I [140] gunicorn.access - 127.0.0.1 - - [02/Aug/2023:02:38:35 +0000] \"GET / HTTP/1.0\" 200 7 \"-\" \"Go-http-client/1.1\"\n2023-08-02 02:38:35,751 W [140] azmlinfsrv - x-ms-request-id header has been deprecated and will be removed from future versions of the server. Please use x-ms-client-request-id.\n2023-08-02 02:38:35,752 I [140] gunicorn.access - 127.0.0.1 - - [02/Aug/2023:02:38:35 +0000] \"GET / HTTP/1.0\" 200 7 \"-\" \"Go-http-client/1.1\"\n2023-08-02 02:38:35,760 W [140] azmlinfsrv - x-ms-request-id header has been deprecated and will be removed from future versions of the server. Please use x-ms-client-request-id.\n2023-08-02 02:38:35,761 I [140] azmlinfsrv - GET /swagger.json 200 0.433ms 2886\n2023-08-02 02:38:35,761 I [140] gunicorn.access - 127.0.0.1 - - [02/Aug/2023:02:38:35 +0000] \"GET /swagger.json HTTP/1.0\" 200 2886 \"-\" \"Go-http-client/1.1\"\n2023-08-02 02:38:38,053 W [140] azmlinfsrv - x-ms-request-id header has been deprecated and will be removed from future versions of the server. Please use x-ms-client-request-id.\n2023-08-02 02:38:38,055 I [140] gunicorn.access - 127.0.0.1 - - [02/Aug/2023:02:38:38 +0000] \"GET / HTTP/1.0\" 200 7 \"-\" \"Go-http-client/1.1\"\n2023-08-02 02:38:38,061 W [140] azmlinfsrv - x-ms-request-id header has been deprecated and will be removed from future versions of the server. Please use x-ms-client-request-id.\n2023-08-02 02:38:38,062 I [140] azmlinfsrv - GET /swagger.json 200 0.497ms 2886\n2023-08-02 02:38:38,062 I [140] gunicorn.access - 127.0.0.1 - - [02/Aug/2023:02:38:38 +0000] \"GET /swagger.json HTTP/1.0\" 200 2886 \"-\" \"Go-http-client/1.1\"\n2023-08-02 02:51:33,061 W [140] azmlinfsrv - x-ms-request-id header has been deprecated and will be removed from future versions of the server. Please use x-ms-client-request-id.\n2023-08-02 02:51:33,131 I [140] azmlinfsrv - POST /score 200 69.731ms 27\n2023-08-02 02:51:33,132 I [140] gunicorn.access - 127.0.0.1 - - [02/Aug/2023:02:51:33 +0000] \"POST /score HTTP/1.0\" 200 27 \"-\" \"python-requests/2.31.0\"\n\nCurrent provisioning state of AmlCompute is \"Deleting\"\n\n"
        }
      ],
      "execution_count": 16,
      "metadata": {
        "gather": {
          "logged": 1690944705275
        }
      }
    },
    {
      "cell_type": "code",
      "source": [
        "import os\r\n",
        "import shutil\r\n",
        "\r\n",
        "logs_file_path = './aci_logs.txt'\r\n",
        "with open(logs_file_path, 'w') as f:\r\n",
        "    f.write(logs)\r\n"
      ],
      "outputs": [],
      "execution_count": 21,
      "metadata": {
        "jupyter": {
          "source_hidden": false,
          "outputs_hidden": false
        },
        "nteract": {
          "transient": {
            "deleting": false
          }
        },
        "gather": {
          "logged": 1690950770367
        }
      }
    },
    {
      "cell_type": "code",
      "source": [
        "# Delete the web service\n",
        "aci_service.delete()\n",
        "compute_target.delete()"
      ],
      "outputs": [],
      "execution_count": 22,
      "metadata": {
        "gather": {
          "logged": 1690950899163
        }
      }
    },
    {
      "cell_type": "markdown",
      "source": [
        "**Submission Checklist**\n",
        "- I have registered the model.\n",
        "- I have deployed the model with the best accuracy as a webservice.\n",
        "- I have tested the webservice by sending a request to the model endpoint.\n",
        "- I have deleted the webservice and shutdown all the computes that I have used.\n",
        "- I have taken a screenshot showing the model endpoint as active.\n",
        "- The project includes a file containing the environment details.\n"
      ],
      "metadata": {}
    },
    {
      "cell_type": "markdown",
      "source": [],
      "metadata": {}
    }
  ],
  "metadata": {
    "kernel_info": {
      "name": "python38-azureml"
    },
    "kernelspec": {
      "name": "python38-azureml",
      "language": "python",
      "display_name": "Python 3.8 - AzureML"
    },
    "language_info": {
      "name": "python",
      "version": "3.8.5",
      "mimetype": "text/x-python",
      "codemirror_mode": {
        "name": "ipython",
        "version": 3
      },
      "pygments_lexer": "ipython3",
      "nbconvert_exporter": "python",
      "file_extension": ".py"
    },
    "microsoft": {
      "host": {
        "AzureML": {
          "notebookHasBeenCompleted": true
        }
      },
      "ms_spell_check": {
        "ms_spell_check_language": "en"
      }
    },
    "nteract": {
      "version": "nteract-front-end@1.0.0"
    }
  },
  "nbformat": 4,
  "nbformat_minor": 2
}